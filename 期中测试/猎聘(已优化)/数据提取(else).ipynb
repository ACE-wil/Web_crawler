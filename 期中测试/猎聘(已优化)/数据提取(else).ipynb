{
 "cells": [
  {
   "cell_type": "code",
   "execution_count": 28,
   "metadata": {
    "collapsed": true
   },
   "outputs": [],
   "source": [
    "import pandas as pd"
   ]
  },
  {
   "cell_type": "code",
   "execution_count": 29,
   "outputs": [
    {
     "data": {
      "text/plain": "     Unnamed: 0   序号        职位  \\\n0             0    1      广告策划   \n1             1    2    广告策划经理   \n2             2    3      广告策划   \n3             3    4      广告策划   \n4             4    5    广告策划主管   \n..          ...  ...       ...   \n395         395  396      广告策划   \n396         396  397      广告策划   \n397         397  398      广告策划   \n398         398  399  房产行业广告策划   \n399         399  400    游戏广告策划   \n\n                                                  职位标签       职位更新时间  \\\n0    ['企业策划', '网站策划', '广告策划', '文案策划', '短视频', '视频网站'...  2023年07月04日   \n1    ['文案策划', '媒介策划', '广告策划', '网站策划', '营销策划', '客户管理...  2023年08月22日   \n2    ['营销策划', '广告策划', '文案策划', '网站策划', '广告媒介', '广告/传...  2023年11月22日   \n3    ['广告策划', '营销策划', '4A公司背景', 'to B', '广告/传媒/文化',...  2023年12月18日   \n4                             ['广告策划', '活动策划', '营销策划']  2023年03月21日   \n..                                                 ...          ...   \n395           ['广告文案', '品牌文案', '视频文案', '创意策划', '品牌营销']  2022年07月27日   \n396  ['新媒体策划', '广告策划', '营销策划', '品牌策划', '乙方公司背景', '广...  2023年06月08日   \n397                           ['新媒体', '新媒体策划', '活动策划']  2022年08月01日   \n398                  ['品牌文案', '广告文案', '新媒体文案', '媒介媒体']  2021年06月22日   \n399             ['信息流广告', 'AE', '二次元游戏', '手游', '仙侠风格']  2022年09月23日   \n\n             薪资      地区 是否top职位  工作年限    学历 公司融资情况             公司名称        行业  \\\n0          5-7k  广州-海珠区       否  1-3年    大专    NaN     广东珠江管业集团有限公司      金属冶炼   \n1    20-30k·16薪  广州-黄埔区       否  3-5年  统招本科   港股上市             京东物流  货运/物流/仓储   \n2        10-20k  广州-天河区       否  3-5年  统招本科    NaN     广州信日信息科技有限公司  广告/公关/会展   \n3        15-23k  广州-天河区       否  3-5年  统招本科   港股上市              宝宝树   在线社交/媒体   \n4        12-20k  广州-增城区       否  3-5年    本科    NaN  五羊━本田摩托(广州)有限公司     其他制造业   \n..          ...     ...     ...   ...   ...    ...              ...       ...   \n395       8-12k      广州       否  1-3年    本科  融资未公开     广州守腾网络科技有限公司  广告/公关/会展   \n396       8-15k  广州-海珠区       否  3-5年    本科    NaN   广州鼎承文化传媒科技有限公司   其他商务服务业   \n397      15-30k  广州-白云区       否  1-3年    大专    NaN             布马网络       互联网   \n398       6-10k      广州       否  1-3年    本科  融资未公开   多啦数字技术(广州)有限公司       互联网   \n399       8-12k  广州-天河区       否  1-3年    大专     其他     上海丰凡文化传媒有限公司  广告/公关/会展   \n\n             规模                                         岗位详情  \\\n0      100-499人  https://www.liepin.com/job/1959743233.shtml   \n1      10000人以上  https://www.liepin.com/job/1961023089.shtml   \n2      100-499人  https://www.liepin.com/job/1963121211.shtml   \n3      100-499人  https://www.liepin.com/job/1948061671.shtml   \n4    2000-5000人  https://www.liepin.com/job/1957145127.shtml   \n..          ...                                          ...   \n395       1-49人  https://www.liepin.com/job/1939520923.shtml   \n396       1-49人  https://www.liepin.com/job/1957005931.shtml   \n397      50-99人  https://www.liepin.com/job/1951554013.shtml   \n398    100-499人  https://www.liepin.com/job/1940353387.shtml   \n399    100-499人  https://www.liepin.com/job/1952780043.shtml   \n\n                                                  技能要求  \n0    岗位职责： 1、能够深入了解公司的品牌内涵，把握客户需求，并根据公司广告定位及需求撰写完整的...  \n1    工作内容： 1、 负责策划方案需符合时下趋垫与客户需求点结合； 2、 具备较强的策略策划能力...  \n2    【工作内容】 1. 撰写品牌数字、社会化媒体营销方案的传媒策略及内容策划方案 2. 根据情况...  \n3    岗位职责： 1、深刻理解宝宝树商业产品，提炼核心价值及应用场景，输出产品通案，提升产品认知及...  \n4    1、广告策划：根据公司的产品定位，制订产品广告策略，推进产品广告形象的设计与制作。 2、宣传...  \n..                                                 ...  \n395  岗位职责： 1、协助创意总监完成公司广告创意及品牌文字类项目； 2、配合平面设计人员实现活动...  \n396  岗位职责： 1、参与品牌营销方案、品牌推广方案的策划与撰写，包括但不限于新品推广、超品日等；...  \n397  1. 负责全国地区美妆、3C/IT、快消、汽车等品牌客户拓展及维护，为客户提供新媒体营销、新...  \n398  职责描述： 1、对房地产行业客户进行品牌传播的研究和分析，提供基于今日头条、抖音、百度的产品...  \n399  岗位职责： 1.参与游戏过场动画、游戏版本宣发视频的构思和落地；独立完成静态及样片动态分镜；...  \n\n[400 rows x 16 columns]",
      "text/html": "<div>\n<style scoped>\n    .dataframe tbody tr th:only-of-type {\n        vertical-align: middle;\n    }\n\n    .dataframe tbody tr th {\n        vertical-align: top;\n    }\n\n    .dataframe thead th {\n        text-align: right;\n    }\n</style>\n<table border=\"1\" class=\"dataframe\">\n  <thead>\n    <tr style=\"text-align: right;\">\n      <th></th>\n      <th>Unnamed: 0</th>\n      <th>序号</th>\n      <th>职位</th>\n      <th>职位标签</th>\n      <th>职位更新时间</th>\n      <th>薪资</th>\n      <th>地区</th>\n      <th>是否top职位</th>\n      <th>工作年限</th>\n      <th>学历</th>\n      <th>公司融资情况</th>\n      <th>公司名称</th>\n      <th>行业</th>\n      <th>规模</th>\n      <th>岗位详情</th>\n      <th>技能要求</th>\n    </tr>\n  </thead>\n  <tbody>\n    <tr>\n      <th>0</th>\n      <td>0</td>\n      <td>1</td>\n      <td>广告策划</td>\n      <td>['企业策划', '网站策划', '广告策划', '文案策划', '短视频', '视频网站'...</td>\n      <td>2023年07月04日</td>\n      <td>5-7k</td>\n      <td>广州-海珠区</td>\n      <td>否</td>\n      <td>1-3年</td>\n      <td>大专</td>\n      <td>NaN</td>\n      <td>广东珠江管业集团有限公司</td>\n      <td>金属冶炼</td>\n      <td>100-499人</td>\n      <td>https://www.liepin.com/job/1959743233.shtml</td>\n      <td>岗位职责： 1、能够深入了解公司的品牌内涵，把握客户需求，并根据公司广告定位及需求撰写完整的...</td>\n    </tr>\n    <tr>\n      <th>1</th>\n      <td>1</td>\n      <td>2</td>\n      <td>广告策划经理</td>\n      <td>['文案策划', '媒介策划', '广告策划', '网站策划', '营销策划', '客户管理...</td>\n      <td>2023年08月22日</td>\n      <td>20-30k·16薪</td>\n      <td>广州-黄埔区</td>\n      <td>否</td>\n      <td>3-5年</td>\n      <td>统招本科</td>\n      <td>港股上市</td>\n      <td>京东物流</td>\n      <td>货运/物流/仓储</td>\n      <td>10000人以上</td>\n      <td>https://www.liepin.com/job/1961023089.shtml</td>\n      <td>工作内容： 1、 负责策划方案需符合时下趋垫与客户需求点结合； 2、 具备较强的策略策划能力...</td>\n    </tr>\n    <tr>\n      <th>2</th>\n      <td>2</td>\n      <td>3</td>\n      <td>广告策划</td>\n      <td>['营销策划', '广告策划', '文案策划', '网站策划', '广告媒介', '广告/传...</td>\n      <td>2023年11月22日</td>\n      <td>10-20k</td>\n      <td>广州-天河区</td>\n      <td>否</td>\n      <td>3-5年</td>\n      <td>统招本科</td>\n      <td>NaN</td>\n      <td>广州信日信息科技有限公司</td>\n      <td>广告/公关/会展</td>\n      <td>100-499人</td>\n      <td>https://www.liepin.com/job/1963121211.shtml</td>\n      <td>【工作内容】 1. 撰写品牌数字、社会化媒体营销方案的传媒策略及内容策划方案 2. 根据情况...</td>\n    </tr>\n    <tr>\n      <th>3</th>\n      <td>3</td>\n      <td>4</td>\n      <td>广告策划</td>\n      <td>['广告策划', '营销策划', '4A公司背景', 'to B', '广告/传媒/文化',...</td>\n      <td>2023年12月18日</td>\n      <td>15-23k</td>\n      <td>广州-天河区</td>\n      <td>否</td>\n      <td>3-5年</td>\n      <td>统招本科</td>\n      <td>港股上市</td>\n      <td>宝宝树</td>\n      <td>在线社交/媒体</td>\n      <td>100-499人</td>\n      <td>https://www.liepin.com/job/1948061671.shtml</td>\n      <td>岗位职责： 1、深刻理解宝宝树商业产品，提炼核心价值及应用场景，输出产品通案，提升产品认知及...</td>\n    </tr>\n    <tr>\n      <th>4</th>\n      <td>4</td>\n      <td>5</td>\n      <td>广告策划主管</td>\n      <td>['广告策划', '活动策划', '营销策划']</td>\n      <td>2023年03月21日</td>\n      <td>12-20k</td>\n      <td>广州-增城区</td>\n      <td>否</td>\n      <td>3-5年</td>\n      <td>本科</td>\n      <td>NaN</td>\n      <td>五羊━本田摩托(广州)有限公司</td>\n      <td>其他制造业</td>\n      <td>2000-5000人</td>\n      <td>https://www.liepin.com/job/1957145127.shtml</td>\n      <td>1、广告策划：根据公司的产品定位，制订产品广告策略，推进产品广告形象的设计与制作。 2、宣传...</td>\n    </tr>\n    <tr>\n      <th>...</th>\n      <td>...</td>\n      <td>...</td>\n      <td>...</td>\n      <td>...</td>\n      <td>...</td>\n      <td>...</td>\n      <td>...</td>\n      <td>...</td>\n      <td>...</td>\n      <td>...</td>\n      <td>...</td>\n      <td>...</td>\n      <td>...</td>\n      <td>...</td>\n      <td>...</td>\n      <td>...</td>\n    </tr>\n    <tr>\n      <th>395</th>\n      <td>395</td>\n      <td>396</td>\n      <td>广告策划</td>\n      <td>['广告文案', '品牌文案', '视频文案', '创意策划', '品牌营销']</td>\n      <td>2022年07月27日</td>\n      <td>8-12k</td>\n      <td>广州</td>\n      <td>否</td>\n      <td>1-3年</td>\n      <td>本科</td>\n      <td>融资未公开</td>\n      <td>广州守腾网络科技有限公司</td>\n      <td>广告/公关/会展</td>\n      <td>1-49人</td>\n      <td>https://www.liepin.com/job/1939520923.shtml</td>\n      <td>岗位职责： 1、协助创意总监完成公司广告创意及品牌文字类项目； 2、配合平面设计人员实现活动...</td>\n    </tr>\n    <tr>\n      <th>396</th>\n      <td>396</td>\n      <td>397</td>\n      <td>广告策划</td>\n      <td>['新媒体策划', '广告策划', '营销策划', '品牌策划', '乙方公司背景', '广...</td>\n      <td>2023年06月08日</td>\n      <td>8-15k</td>\n      <td>广州-海珠区</td>\n      <td>否</td>\n      <td>3-5年</td>\n      <td>本科</td>\n      <td>NaN</td>\n      <td>广州鼎承文化传媒科技有限公司</td>\n      <td>其他商务服务业</td>\n      <td>1-49人</td>\n      <td>https://www.liepin.com/job/1957005931.shtml</td>\n      <td>岗位职责： 1、参与品牌营销方案、品牌推广方案的策划与撰写，包括但不限于新品推广、超品日等；...</td>\n    </tr>\n    <tr>\n      <th>397</th>\n      <td>397</td>\n      <td>398</td>\n      <td>广告策划</td>\n      <td>['新媒体', '新媒体策划', '活动策划']</td>\n      <td>2022年08月01日</td>\n      <td>15-30k</td>\n      <td>广州-白云区</td>\n      <td>否</td>\n      <td>1-3年</td>\n      <td>大专</td>\n      <td>NaN</td>\n      <td>布马网络</td>\n      <td>互联网</td>\n      <td>50-99人</td>\n      <td>https://www.liepin.com/job/1951554013.shtml</td>\n      <td>1. 负责全国地区美妆、3C/IT、快消、汽车等品牌客户拓展及维护，为客户提供新媒体营销、新...</td>\n    </tr>\n    <tr>\n      <th>398</th>\n      <td>398</td>\n      <td>399</td>\n      <td>房产行业广告策划</td>\n      <td>['品牌文案', '广告文案', '新媒体文案', '媒介媒体']</td>\n      <td>2021年06月22日</td>\n      <td>6-10k</td>\n      <td>广州</td>\n      <td>否</td>\n      <td>1-3年</td>\n      <td>本科</td>\n      <td>融资未公开</td>\n      <td>多啦数字技术(广州)有限公司</td>\n      <td>互联网</td>\n      <td>100-499人</td>\n      <td>https://www.liepin.com/job/1940353387.shtml</td>\n      <td>职责描述： 1、对房地产行业客户进行品牌传播的研究和分析，提供基于今日头条、抖音、百度的产品...</td>\n    </tr>\n    <tr>\n      <th>399</th>\n      <td>399</td>\n      <td>400</td>\n      <td>游戏广告策划</td>\n      <td>['信息流广告', 'AE', '二次元游戏', '手游', '仙侠风格']</td>\n      <td>2022年09月23日</td>\n      <td>8-12k</td>\n      <td>广州-天河区</td>\n      <td>否</td>\n      <td>1-3年</td>\n      <td>大专</td>\n      <td>其他</td>\n      <td>上海丰凡文化传媒有限公司</td>\n      <td>广告/公关/会展</td>\n      <td>100-499人</td>\n      <td>https://www.liepin.com/job/1952780043.shtml</td>\n      <td>岗位职责： 1.参与游戏过场动画、游戏版本宣发视频的构思和落地；独立完成静态及样片动态分镜；...</td>\n    </tr>\n  </tbody>\n</table>\n<p>400 rows × 16 columns</p>\n</div>"
     },
     "execution_count": 29,
     "metadata": {},
     "output_type": "execute_result"
    }
   ],
   "source": [
    "df = pd.read_excel('excels/广州/广告策划/2023-12-23/猎聘广州-广告策划-2023-12-23.xlsx')\n",
    "df"
   ],
   "metadata": {
    "collapsed": false
   }
  },
  {
   "cell_type": "code",
   "execution_count": 30,
   "outputs": [],
   "source": [
    "城市各学历岗位个数 = df.groupby(['地区','学历']).agg({'职位':'count'})"
   ],
   "metadata": {
    "collapsed": false
   }
  },
  {
   "cell_type": "code",
   "execution_count": 31,
   "outputs": [
    {
     "data": {
      "text/plain": "             职位\n地区     学历      \n广州     学历不限  10\n       本科    40\n       统招本科  10\n广州-增城区 本科    20\n广州-天河区 大专    30\n       本科    40\n       统招本科  20\n广州-海珠区 大专    10\n       学历不限  20\n       本科    60\n       统招本科  30\n广州-番禺区 大专    10\n       本科    20\n       统招本科  10\n广州-白云区 大专    20\n广州-花都区 大专    10\n广州-越秀区 大专    20\n       本科    10\n广州-黄埔区 统招本科  10",
      "text/html": "<div>\n<style scoped>\n    .dataframe tbody tr th:only-of-type {\n        vertical-align: middle;\n    }\n\n    .dataframe tbody tr th {\n        vertical-align: top;\n    }\n\n    .dataframe thead th {\n        text-align: right;\n    }\n</style>\n<table border=\"1\" class=\"dataframe\">\n  <thead>\n    <tr style=\"text-align: right;\">\n      <th></th>\n      <th></th>\n      <th>职位</th>\n    </tr>\n    <tr>\n      <th>地区</th>\n      <th>学历</th>\n      <th></th>\n    </tr>\n  </thead>\n  <tbody>\n    <tr>\n      <th rowspan=\"3\" valign=\"top\">广州</th>\n      <th>学历不限</th>\n      <td>10</td>\n    </tr>\n    <tr>\n      <th>本科</th>\n      <td>40</td>\n    </tr>\n    <tr>\n      <th>统招本科</th>\n      <td>10</td>\n    </tr>\n    <tr>\n      <th>广州-增城区</th>\n      <th>本科</th>\n      <td>20</td>\n    </tr>\n    <tr>\n      <th rowspan=\"3\" valign=\"top\">广州-天河区</th>\n      <th>大专</th>\n      <td>30</td>\n    </tr>\n    <tr>\n      <th>本科</th>\n      <td>40</td>\n    </tr>\n    <tr>\n      <th>统招本科</th>\n      <td>20</td>\n    </tr>\n    <tr>\n      <th rowspan=\"4\" valign=\"top\">广州-海珠区</th>\n      <th>大专</th>\n      <td>10</td>\n    </tr>\n    <tr>\n      <th>学历不限</th>\n      <td>20</td>\n    </tr>\n    <tr>\n      <th>本科</th>\n      <td>60</td>\n    </tr>\n    <tr>\n      <th>统招本科</th>\n      <td>30</td>\n    </tr>\n    <tr>\n      <th rowspan=\"3\" valign=\"top\">广州-番禺区</th>\n      <th>大专</th>\n      <td>10</td>\n    </tr>\n    <tr>\n      <th>本科</th>\n      <td>20</td>\n    </tr>\n    <tr>\n      <th>统招本科</th>\n      <td>10</td>\n    </tr>\n    <tr>\n      <th>广州-白云区</th>\n      <th>大专</th>\n      <td>20</td>\n    </tr>\n    <tr>\n      <th>广州-花都区</th>\n      <th>大专</th>\n      <td>10</td>\n    </tr>\n    <tr>\n      <th rowspan=\"2\" valign=\"top\">广州-越秀区</th>\n      <th>大专</th>\n      <td>20</td>\n    </tr>\n    <tr>\n      <th>本科</th>\n      <td>10</td>\n    </tr>\n    <tr>\n      <th>广州-黄埔区</th>\n      <th>统招本科</th>\n      <td>10</td>\n    </tr>\n  </tbody>\n</table>\n</div>"
     },
     "execution_count": 31,
     "metadata": {},
     "output_type": "execute_result"
    }
   ],
   "source": [
    "城市各学历岗位个数"
   ],
   "metadata": {
    "collapsed": false
   }
  },
  {
   "cell_type": "code",
   "execution_count": 39,
   "outputs": [
    {
     "data": {
      "text/plain": "       职位\n学历       \n大专    100\n学历不限   30\n本科    190\n统招本科   80",
      "text/html": "<div>\n<style scoped>\n    .dataframe tbody tr th:only-of-type {\n        vertical-align: middle;\n    }\n\n    .dataframe tbody tr th {\n        vertical-align: top;\n    }\n\n    .dataframe thead th {\n        text-align: right;\n    }\n</style>\n<table border=\"1\" class=\"dataframe\">\n  <thead>\n    <tr style=\"text-align: right;\">\n      <th></th>\n      <th>职位</th>\n    </tr>\n    <tr>\n      <th>学历</th>\n      <th></th>\n    </tr>\n  </thead>\n  <tbody>\n    <tr>\n      <th>大专</th>\n      <td>100</td>\n    </tr>\n    <tr>\n      <th>学历不限</th>\n      <td>30</td>\n    </tr>\n    <tr>\n      <th>本科</th>\n      <td>190</td>\n    </tr>\n    <tr>\n      <th>统招本科</th>\n      <td>80</td>\n    </tr>\n  </tbody>\n</table>\n</div>"
     },
     "execution_count": 39,
     "metadata": {},
     "output_type": "execute_result"
    }
   ],
   "source": [
    "整个城市学历分布 = df.groupby(['学历']).agg({'职位':'count'})\n",
    "整个城市学历分布"
   ],
   "metadata": {
    "collapsed": false
   }
  },
  {
   "cell_type": "code",
   "execution_count": 33,
   "outputs": [],
   "source": [
    "整个城市学历分布 = pd.DataFrame(整个城市学历分布)"
   ],
   "metadata": {
    "collapsed": false
   }
  },
  {
   "cell_type": "code",
   "execution_count": 34,
   "outputs": [],
   "source": [
    "# 整个城市学历分布.insert(0,'城市',\"广州\")"
   ],
   "metadata": {
    "collapsed": false
   }
  },
  {
   "cell_type": "code",
   "execution_count": 35,
   "outputs": [],
   "source": [
    "# 整个城市学历分布.drop('城市',axis=1)"
   ],
   "metadata": {
    "collapsed": false
   }
  },
  {
   "cell_type": "code",
   "execution_count": 40,
   "outputs": [],
   "source": [
    "整个城市学历分布.to_excel(f'地区各学历岗位个数.xlsx')"
   ],
   "metadata": {
    "collapsed": false
   }
  },
  {
   "cell_type": "code",
   "execution_count": 41,
   "outputs": [],
   "source": [
    "df_try = pd.read_excel('地区各学历岗位个数.xlsx')"
   ],
   "metadata": {
    "collapsed": false
   }
  },
  {
   "cell_type": "code",
   "execution_count": 43,
   "outputs": [
    {
     "data": {
      "text/plain": "     学历   职位 广州\n0    大专  100   \n1  学历不限   30   \n2    本科  190   \n3  统招本科   80   ",
      "text/html": "<div>\n<style scoped>\n    .dataframe tbody tr th:only-of-type {\n        vertical-align: middle;\n    }\n\n    .dataframe tbody tr th {\n        vertical-align: top;\n    }\n\n    .dataframe thead th {\n        text-align: right;\n    }\n</style>\n<table border=\"1\" class=\"dataframe\">\n  <thead>\n    <tr style=\"text-align: right;\">\n      <th></th>\n      <th>学历</th>\n      <th>职位</th>\n      <th>广州</th>\n    </tr>\n  </thead>\n  <tbody>\n    <tr>\n      <th>0</th>\n      <td>大专</td>\n      <td>100</td>\n      <td></td>\n    </tr>\n    <tr>\n      <th>1</th>\n      <td>学历不限</td>\n      <td>30</td>\n      <td></td>\n    </tr>\n    <tr>\n      <th>2</th>\n      <td>本科</td>\n      <td>190</td>\n      <td></td>\n    </tr>\n    <tr>\n      <th>3</th>\n      <td>统招本科</td>\n      <td>80</td>\n      <td></td>\n    </tr>\n  </tbody>\n</table>\n</div>"
     },
     "execution_count": 43,
     "metadata": {},
     "output_type": "execute_result"
    }
   ],
   "source": [
    "df_try.assign(**{'广州': ''})"
   ],
   "metadata": {
    "collapsed": false
   }
  },
  {
   "cell_type": "code",
   "execution_count": 46,
   "outputs": [],
   "source": [
    "import numpy as np\n",
    "df_try = df_try.reindex(columns=['广州', '学历', '职位'], fill_value='')"
   ],
   "metadata": {
    "collapsed": false
   }
  },
  {
   "cell_type": "code",
   "execution_count": 47,
   "outputs": [
    {
     "data": {
      "text/plain": "  广州    学历   职位\n0       大专  100\n1     学历不限   30\n2       本科  190\n3     统招本科   80",
      "text/html": "<div>\n<style scoped>\n    .dataframe tbody tr th:only-of-type {\n        vertical-align: middle;\n    }\n\n    .dataframe tbody tr th {\n        vertical-align: top;\n    }\n\n    .dataframe thead th {\n        text-align: right;\n    }\n</style>\n<table border=\"1\" class=\"dataframe\">\n  <thead>\n    <tr style=\"text-align: right;\">\n      <th></th>\n      <th>广州</th>\n      <th>学历</th>\n      <th>职位</th>\n    </tr>\n  </thead>\n  <tbody>\n    <tr>\n      <th>0</th>\n      <td></td>\n      <td>大专</td>\n      <td>100</td>\n    </tr>\n    <tr>\n      <th>1</th>\n      <td></td>\n      <td>学历不限</td>\n      <td>30</td>\n    </tr>\n    <tr>\n      <th>2</th>\n      <td></td>\n      <td>本科</td>\n      <td>190</td>\n    </tr>\n    <tr>\n      <th>3</th>\n      <td></td>\n      <td>统招本科</td>\n      <td>80</td>\n    </tr>\n  </tbody>\n</table>\n</div>"
     },
     "execution_count": 47,
     "metadata": {},
     "output_type": "execute_result"
    }
   ],
   "source": [
    "df_try"
   ],
   "metadata": {
    "collapsed": false
   }
  },
  {
   "cell_type": "code",
   "execution_count": 37,
   "outputs": [],
   "source": [
    "城市各工作经验岗位个数 = df.groupby(['地区','工作年限']).agg({'职位':'count'})"
   ],
   "metadata": {
    "collapsed": false
   }
  },
  {
   "cell_type": "code",
   "execution_count": 38,
   "outputs": [
    {
     "data": {
      "text/plain": "              职位\n地区     工作年限     \n广州     1-3年   40\n       5-10年  20\n广州-增城区 3-5年   20\n广州-天河区 1-3年   20\n       3-5年   50\n       5-10年  20\n广州-海珠区 1-3年   30\n       3-5年   60\n       5-10年  30\n广州-番禺区 1-3年   10\n       5-10年  30\n广州-白云区 1-3年   10\n       5-10年  10\n广州-花都区 1-3年   10\n广州-越秀区 1-3年   10\n       3-5年   20\n广州-黄埔区 3-5年   10",
      "text/html": "<div>\n<style scoped>\n    .dataframe tbody tr th:only-of-type {\n        vertical-align: middle;\n    }\n\n    .dataframe tbody tr th {\n        vertical-align: top;\n    }\n\n    .dataframe thead th {\n        text-align: right;\n    }\n</style>\n<table border=\"1\" class=\"dataframe\">\n  <thead>\n    <tr style=\"text-align: right;\">\n      <th></th>\n      <th></th>\n      <th>职位</th>\n    </tr>\n    <tr>\n      <th>地区</th>\n      <th>工作年限</th>\n      <th></th>\n    </tr>\n  </thead>\n  <tbody>\n    <tr>\n      <th rowspan=\"2\" valign=\"top\">广州</th>\n      <th>1-3年</th>\n      <td>40</td>\n    </tr>\n    <tr>\n      <th>5-10年</th>\n      <td>20</td>\n    </tr>\n    <tr>\n      <th>广州-增城区</th>\n      <th>3-5年</th>\n      <td>20</td>\n    </tr>\n    <tr>\n      <th rowspan=\"3\" valign=\"top\">广州-天河区</th>\n      <th>1-3年</th>\n      <td>20</td>\n    </tr>\n    <tr>\n      <th>3-5年</th>\n      <td>50</td>\n    </tr>\n    <tr>\n      <th>5-10年</th>\n      <td>20</td>\n    </tr>\n    <tr>\n      <th rowspan=\"3\" valign=\"top\">广州-海珠区</th>\n      <th>1-3年</th>\n      <td>30</td>\n    </tr>\n    <tr>\n      <th>3-5年</th>\n      <td>60</td>\n    </tr>\n    <tr>\n      <th>5-10年</th>\n      <td>30</td>\n    </tr>\n    <tr>\n      <th rowspan=\"2\" valign=\"top\">广州-番禺区</th>\n      <th>1-3年</th>\n      <td>10</td>\n    </tr>\n    <tr>\n      <th>5-10年</th>\n      <td>30</td>\n    </tr>\n    <tr>\n      <th rowspan=\"2\" valign=\"top\">广州-白云区</th>\n      <th>1-3年</th>\n      <td>10</td>\n    </tr>\n    <tr>\n      <th>5-10年</th>\n      <td>10</td>\n    </tr>\n    <tr>\n      <th>广州-花都区</th>\n      <th>1-3年</th>\n      <td>10</td>\n    </tr>\n    <tr>\n      <th rowspan=\"2\" valign=\"top\">广州-越秀区</th>\n      <th>1-3年</th>\n      <td>10</td>\n    </tr>\n    <tr>\n      <th>3-5年</th>\n      <td>20</td>\n    </tr>\n    <tr>\n      <th>广州-黄埔区</th>\n      <th>3-5年</th>\n      <td>10</td>\n    </tr>\n  </tbody>\n</table>\n</div>"
     },
     "execution_count": 38,
     "metadata": {},
     "output_type": "execute_result"
    }
   ],
   "source": [
    "城市各工作经验岗位个数"
   ],
   "metadata": {
    "collapsed": false
   }
  },
  {
   "cell_type": "code",
   "execution_count": 38,
   "outputs": [],
   "source": [],
   "metadata": {
    "collapsed": false
   }
  }
 ],
 "metadata": {
  "kernelspec": {
   "display_name": "Python 3",
   "language": "python",
   "name": "python3"
  },
  "language_info": {
   "codemirror_mode": {
    "name": "ipython",
    "version": 2
   },
   "file_extension": ".py",
   "mimetype": "text/x-python",
   "name": "python",
   "nbconvert_exporter": "python",
   "pygments_lexer": "ipython2",
   "version": "2.7.6"
  }
 },
 "nbformat": 4,
 "nbformat_minor": 0
}
