{
 "cells": [
  {
   "cell_type": "markdown",
   "source": [
    "# 1.定义北上广深城市代码"
   ],
   "metadata": {
    "collapsed": false
   }
  },
  {
   "cell_type": "code",
   "execution_count": 148,
   "outputs": [],
   "source": [
    "city = [\n",
    "    {'code': '010', 'name': '北京'},\n",
    " {'code': '020', 'name': '上海'},\n",
    "{'code': '050020', 'name': '广州'},\n",
    " {'code': '050090', 'name': '深圳'},\n",
    "]"
   ],
   "metadata": {
    "collapsed": false
   }
  },
  {
   "cell_type": "markdown",
   "source": [
    "# 2.定义学历对应的代码"
   ],
   "metadata": {
    "collapsed": false
   }
  },
  {
   "cell_type": "code",
   "execution_count": 149,
   "outputs": [],
   "source": [
    "edulevel = [\n",
    "    {'code': \"010\", 'name': \"博士\"},\n",
    "{'code': \"020\", 'name': \"MBA/EMBA\"},\n",
    "{'code': \"030\", 'name': \"硕士\"},\n",
    "{'code': \"040\", 'name': \"本科\"},]"
   ],
   "metadata": {
    "collapsed": false
   }
  },
  {
   "cell_type": "markdown",
   "source": [
    "# 3.定义选择城市获取对应城市代码函数"
   ],
   "metadata": {
    "collapsed": false
   }
  },
  {
   "cell_type": "code",
   "execution_count": 150,
   "outputs": [],
   "source": [
    "def choose_city(city_name):\n",
    "    for i in city:\n",
    "        if i['name'] == city_name:\n",
    "            return i['code']"
   ],
   "metadata": {
    "collapsed": false
   }
  },
  {
   "cell_type": "markdown",
   "source": [
    "# 4.定义选择学历获取对应的代码"
   ],
   "metadata": {
    "collapsed": false
   }
  },
  {
   "cell_type": "code",
   "execution_count": 151,
   "outputs": [],
   "source": [
    "def choose_edu_level(edu_level):\n",
    "    for i in edulevel:\n",
    "        if i['name'] == edu_level:\n",
    "            return i['code']"
   ],
   "metadata": {
    "collapsed": false
   }
  },
  {
   "cell_type": "markdown",
   "source": [
    "# 5.定义请求头函数"
   ],
   "metadata": {
    "collapsed": false
   }
  },
  {
   "cell_type": "code",
   "execution_count": 152,
   "outputs": [],
   "source": [
    "def headers():\n",
    "    liepin_headers = {\n",
    "    \"Accept\": \"application/json, text/plain, */*\",\n",
    "    \"Accept-Encoding\": \"gzip, deflate, br\",\n",
    "    \"Accept-Language\": \"zh-CN,zh;q=0.9\",\n",
    "    \"Connection\": \"keep-alive\",\n",
    "    \"Content-Length\": \"481\",\n",
    "    \"Content-Type\": \"application/json;charset=UTF-8;\",\n",
    "    \"Cookie\": \"__gc_id=2d0435e250c44cbcad040f198a36b22f; _ga=GA1.1.1130967964.1695714868; __uuid=1695714873059.11; need_bind_tel=false; new_user=false; c_flag=fd8e161021d62dd50e5032f3c60a147a; imId=40be7e37d455d9dc3e4f5f0f695234e5; imId_0=40be7e37d455d9dc3e4f5f0f695234e5; imClientId=40be7e37d455d9dca12bac537377bfad; imClientId_0=40be7e37d455d9dca12bac537377bfad; access_system=C; __tlog=1703398985503.67%7C00000000%7C00000000%7Csm_pc_003%7Csm_pc_003; XSRF-TOKEN=2kv8d9FvQgCzkPFO3lKF0Q; UniqueKey=fe87a9f3258ac642a9dba665e9526a14; liepin_login_valid=0; lt_auth=vbkKP3QMxlXw4XfcjTcLtacfj9%2BsU2yYpnhehk8FhoK5W6Ll4P%2FgSwuCq7gH%2FioIqxhyd%2FwzMLf%2BNuv3wHNK7UsU%2FlGkkIC0uuW52GEBSOJcN8W2vezHl8zSRpscl0AC8nFbtkIL%2BQ%3D%3D; inited_user=0b40e95258783b742e53b3c4507c0e74; user_roles=0; user_photo=5f8fa3a679c7cc70efbf444e08u.png; user_name=%E6%B2%88%E8%BF%9E%E6%9D%B0; Hm_lvt_a2647413544f5a04f00da7eee0d5e200=1703240332,1703262998,1703317568,1703399009; hpo_role-sec_project=sec_project_liepin; hpo_sec_tenant=0; imApp_0=1; acw_tc=2760828b17034015495713755e5fbff604025b8401e1a1b80c1162945b366d; Hm_lpvt_a2647413544f5a04f00da7eee0d5e200=1703401553; fe_im_socketSequence_new_0=5_3_3; __session_seq=16; __uv_seq=16; __tlg_event_seq=186; fe_im_opened_pages=_1703401553203; fe_im_connectJson_0=%7B%220_fe87a9f3258ac642a9dba665e9526a14%22%3A%7B%22socketConnect%22%3A%222%22%2C%22connectDomain%22%3A%22liepin.com%22%7D%7D; _ga_54YTJKWN86=GS1.1.1703401552.40.1.1703402477.0.0.0\",\n",
    "    \"Host\": \"api-c.liepin.com\",\n",
    "    \"Origin\": \"https://www.liepin.com\",\n",
    "    \"Referer\": \"https://www.liepin.com/\",\n",
    "    \"Sec-Fetch-Dest\": \"empty\",\n",
    "    \"Sec-Fetch-Mode\": \"cors\",\n",
    "    \"Sec-Fetch-Site\": \"same-site\",\n",
    "    \"User-Agent\": \"Mozilla/5.0 (Windows NT 10.0; Win64; x64) AppleWebKit/537.36 (KHTML, like Gecko) Chrome/119.0.0.0 Safari/537.36\",\n",
    "    \"X-Client-Type\": \"web\",\n",
    "    \"X-Fscp-Bi-Stat\": \"{\\\"location\\\": \\\"https://www.liepin.com/zhaopin/?city=010&dq=010&pubTime=&currentPage=0&pageSize=40&key=%E5%B9%BF%E5%91%8A%E8%AE%BE%E8%AE%A1&suggestTag=&workYearCode=&compId=&compName=&compTag=&industry=&salary=&jobKind=&compScale=&compKind=&compStage=&eduLevel=&otherCity=&sfrom=search_job_pc&ckId=hwqtxy4hjgh43vyjr18mhjllcn1tm569&scene=condition&skId=obnqzoiqfvp1wh189k0llbvb97gde5hb&fkId=hwqtxy4hjgh43vyjr18mhjllcn1tm569&suggestId=\\\"}\",\n",
    "    \"X-Fscp-Fe-Version\": \"\",\n",
    "    \"X-Fscp-Std-Info\": \"{\\\"client_id\\\": \\\"40108\\\"}\",\n",
    "    \"X-Fscp-Trace-Id\": \"2a838791-5d9b-4309-8ff1-e3a36413cb85\",\n",
    "    \"X-Fscp-Version\": \"1.1\",\n",
    "    \"X-Requested-With\": \"XMLHttpRequest\",\n",
    "    \"X-XSRF-TOKEN\": \"2kv8d9FvQgCzkPFO3lKF0Q\",\n",
    "    \"sec-ch-ua\": \"\\\"Google Chrome\\\";v=\\\"119\\\", \\\"Chromium\\\";v=\\\"119\\\", \\\"Not?A_Brand\\\";v=\\\"24\\\"\",\n",
    "    \"sec-ch-ua-mobile\": \"?0\",\n",
    "    \"sec-ch-ua-platform\": \"\\\"Windows\\\"\"\n",
    "}\n",
    "\n",
    "    return liepin_headers"
   ],
   "metadata": {
    "collapsed": false
   }
  },
  {
   "cell_type": "markdown",
   "source": [
    "# 6.联网以及定义请求url，引入pandas和json库"
   ],
   "metadata": {
    "collapsed": false
   }
  },
  {
   "cell_type": "code",
   "execution_count": 153,
   "outputs": [],
   "source": [
    "import pandas\n",
    "from requests_html import HTMLSession\n",
    "import json\n",
    "import pandas as pd\n",
    "\n",
    "url = \"https://apic.liepin.com/api/com.liepin.searchfront4c.pc-search-job\""
   ],
   "metadata": {
    "collapsed": false
   }
  },
  {
   "cell_type": "markdown",
   "source": [
    "# 7.定义爬取猎聘网站函数，参数有城市和关键词和学历"
   ],
   "metadata": {
    "collapsed": false
   }
  },
  {
   "cell_type": "code",
   "execution_count": 154,
   "outputs": [],
   "source": [
    "# def payloadd(城市,关键词,学历):\n",
    "#     payload = {\n",
    "#     \"data\": {\n",
    "#         \"mainSearchPcConditionForm\": {\n",
    "#             \"city\": choose_city(城市),\n",
    "#             \"dq\": choose_city(城市),\n",
    "#             \"pubTime\": \"\",\n",
    "#             \"currentPage\": 0,\n",
    "#             \"pageSize\": 40,\n",
    "#             \"key\": 关键词,\n",
    "#             \"suggestTag\": \"\",\n",
    "#             \"workYearCode\": '',\n",
    "#             \"compId\": \"\",\n",
    "#             \"compName\": \"\",\n",
    "#             \"compTag\": \"\",\n",
    "#             \"industry\": \"\",\n",
    "#             \"salary\": \"\",\n",
    "#             \"jobKind\": \"\",\n",
    "#             \"compScale\": \"\",\n",
    "#             \"compKind\": \"\",\n",
    "#             \"compStage\": \"\",\n",
    "#             \"eduLevel\": choose_edu_level(学历)\n",
    "#         },\n",
    "#         \"passThroughForm\": {\n",
    "#             \"scene\": \"input\",\n",
    "#             \"skId\": \"\",\n",
    "#             \"fkId\": \"\",\n",
    "#             \"ckId\": \"h2c8pxojavrmo1w785z7ueih2ybfpux8\",\n",
    "#             \"suggest\": None\n",
    "#         }\n",
    "#     }\n",
    "# }\n",
    "#     return payload"
   ],
   "metadata": {
    "collapsed": false
   }
  },
  {
   "cell_type": "code",
   "execution_count": 155,
   "outputs": [],
   "source": [
    "def payloadd(城市,关键词):\n",
    "    payload = {\n",
    "    \"data\": {\n",
    "        \"mainSearchPcConditionForm\": {\n",
    "            \"city\": choose_city(城市),\n",
    "            \"dq\": choose_city(城市),\n",
    "            \"pubTime\": \"\",\n",
    "            \"currentPage\": 0,\n",
    "            \"pageSize\": 40,\n",
    "            \"key\": 关键词,\n",
    "            \"suggestTag\": \"\",\n",
    "            \"workYearCode\": '',\n",
    "            \"compId\": \"\",\n",
    "            \"compName\": \"\",\n",
    "            \"compTag\": \"\",\n",
    "            \"industry\": \"\",\n",
    "            \"salary\": \"\",\n",
    "            \"jobKind\": \"\",\n",
    "            \"compScale\": \"\",\n",
    "            \"compKind\": \"\",\n",
    "            \"compStage\": \"\",\n",
    "            \"eduLevel\": \"\"\n",
    "        },\n",
    "        \"passThroughForm\": {\n",
    "            \"scene\": \"input\",\n",
    "            \"skId\": \"\",\n",
    "            \"fkId\": \"\",\n",
    "            \"ckId\": \"6kgzm7tcrvofclqukj6vmucx0ai9zl79\",\n",
    "            \"sfrom\":\"search_job_pc\"\n",
    "        }\n",
    "    }\n",
    "}\n",
    "    return payload"
   ],
   "metadata": {
    "collapsed": false
   }
  },
  {
   "cell_type": "markdown",
   "source": [
    "# 8.输入对应内容获取求职信息"
   ],
   "metadata": {
    "collapsed": false
   }
  },
  {
   "cell_type": "code",
   "execution_count": 156,
   "outputs": [
    {
     "data": {
      "text/plain": "'深圳'"
     },
     "execution_count": 156,
     "metadata": {},
     "output_type": "execute_result"
    }
   ],
   "source": [
    "城市 = input('输入城市，目前支持北京、上海、广州、深圳')"
   ],
   "metadata": {
    "collapsed": false
   }
  },
  {
   "cell_type": "code",
   "execution_count": 157,
   "outputs": [
    {
     "data": {
      "text/plain": "'广告策划'"
     },
     "execution_count": 157,
     "metadata": {},
     "output_type": "execute_result"
    }
   ],
   "source": [
    "关键词 = input('关键词，任意职位即可')"
   ],
   "metadata": {
    "collapsed": false
   }
  },
  {
   "cell_type": "code",
   "execution_count": 158,
   "outputs": [],
   "source": [
    "# 学历 = input('学历，如本科、硕士、博士')"
   ],
   "metadata": {
    "collapsed": false
   }
  },
  {
   "cell_type": "markdown",
   "source": [
    "# 9.请求猎聘网数据"
   ],
   "metadata": {
    "collapsed": false
   }
  },
  {
   "cell_type": "code",
   "execution_count": 159,
   "outputs": [
    {
     "data": {
      "text/plain": "{'flag': 1,\n 'data': {'data': {'jobCardList': [{'comp': {'compId': 2034027,\n      'compLogo': '5bfea5f974719d2aa34cef7003a.png',\n      'compName': '中国联通广东省分公司',\n      'compScale': '10000人以上',\n      'link': 'https://www.liepin.com/company/2034027/',\n      'compIndustry': '运营商/增值服务'},\n     'job': {'labels': ['本科', '市场营销'],\n      'dq': '深圳',\n      'salary': '12-15k',\n      'jobId': '61734531',\n      'refreshTime': '20231204191142',\n      'title': '数字化市场运营岗',\n      'jobKind': '6',\n      'topJob': False,\n      'link': 'https://www.liepin.com/lptjob/61734531',\n      'advViewFlag': False,\n      'pcOuterLink': 'https://atsc.liepin.com/ats/apply-form/?jobId=c78b595a4e9c84b86605c811f44c8697&projectId=2fa3d3ea38db22f982ee3f085593aabd',\n      'h5OuterLink': 'https://matsc.liepin.com/ats/apply-form/?jobId=c78b595a4e9c84b86605c811f44c8697&projectId=2fa3d3ea38db22f982ee3f085593aabd',\n      'campusJobKind': '应届',\n      'dataPromId': 'd_sfrom=search_prime&d_ckId=null&d_curPage=0&d_pageSize=40&d_headId=null&d_posi=0&skId=6kgzm7tcrvofclqukj6vmucx0ai9zl79&fkId=6kgzm7tcrvofclqukj6vmucx0ai9zl79&ckId=6kgzm7tcrvofclqukj6vmucx0ai9zl79&sfrom=search_job_pc&curPage=0&pageSize=40&index=0'},\n     'recruiter': {'recruiterName': '高先生',\n      'recruiterTitle': '',\n      'chatted': False,\n      'imId': 'faad0b82411156a0c89ef0a44aca9dff',\n      'imUserType': '2',\n      'recruiterId': 'bcb7928d6e8b9c268880e18a1b0949d3',\n      'recruiterPhoto': '5f8f9868f6d1ab58476f24a008u.jpg'},\n     'dataInfo': '%7B%22ckId%22%3A%226kgzm7tcrvofclqukj6vmucx0ai9zl79%22%2C%22scene%22%3A%22input%22%2C%22pageSize%22%3A%2240%22%2C%22curPage%22%3A%220%22%2C%22skId%22%3A%226kgzm7tcrvofclqukj6vmucx0ai9zl79%22%2C%22fkId%22%3A%226kgzm7tcrvofclqukj6vmucx0ai9zl79%22%2C%22jobId%22%3A%2261734531%22%2C%22sfrom%22%3A%22search_job_pc%22%2C%22jobKind%22%3A%226%22%2C%22d_curPage%22%3A%220%22%2C%22d_pageSize%22%3A%2240%22%2C%22as_from%22%3A%22search_prime%22%7D',\n     'dataParams': '{\"jobId\":\"61734531\",\"recruiterName\":\"高先生\",\"userId\":\"bcb7928d6e8b9c268880e18a1b0949d3\",\"jobKind\":\"6\",\"imId\":\"faad0b82411156a0c89ef0a44aca9dff\",\"imUserType\":\"2\",\"recruiterPhoto\":\"5f8f9868f6d1ab58476f24a008u.jpg\"}'},\n    {'comp': {'compId': 12582993,\n      'compStage': 'C轮',\n      'compLogo': '633155d01daaa21b59cbb72b08u.png',\n      'compName': '深圳思为科技有限公司',\n      'compScale': '100-499人',\n      'link': 'https://www.liepin.com/company/12582993/',\n      'compIndustry': '互联网'},\n     'job': {'labels': ['本科'],\n      'dq': '深圳-南山区',\n      'salary': '8-15k',\n      'jobId': '61305325',\n      'refreshTime': '20230901142210',\n      'title': '市场管培生（2024届校园招聘）(J10309)',\n      'jobKind': '6',\n      'topJob': False,\n      'link': 'https://www.liepin.com/lptjob/61305325',\n      'advViewFlag': False,\n      'pcOuterLink': '',\n      'h5OuterLink': '',\n      'campusJobKind': '应届',\n      'dataPromId': 'd_sfrom=search_prime&d_ckId=null&d_curPage=0&d_pageSize=40&d_headId=null&d_posi=1&skId=6kgzm7tcrvofclqukj6vmucx0ai9zl79&fkId=6kgzm7tcrvofclqukj6vmucx0ai9zl79&ckId=6kgzm7tcrvofclqukj6vmucx0ai9zl79&sfrom=search_job_pc&curPage=0&pageSize=40&index=1'},\n     'recruiter': {'recruiterName': '张女士',\n      'recruiterTitle': '招聘经理、人力资源主管',\n      'chatted': False,\n      'imId': 'f304423ef2a5285e01ab80e4a8b96567',\n      'imUserType': '2',\n      'recruiterId': '95882fc1f90f0a40ca9024d97498e50f',\n      'recruiterPhoto': '5f8f986779c7cc70efbf36c008u.jpg'},\n     'dataInfo': '%7B%22ckId%22%3A%226kgzm7tcrvofclqukj6vmucx0ai9zl79%22%2C%22scene%22%3A%22input%22%2C%22pageSize%22%3A%2240%22%2C%22curPage%22%3A%220%22%2C%22skId%22%3A%226kgzm7tcrvofclqukj6vmucx0ai9zl79%22%2C%22fkId%22%3A%226kgzm7tcrvofclqukj6vmucx0ai9zl79%22%2C%22jobId%22%3A%2261305325%22%2C%22sfrom%22%3A%22search_job_pc%22%2C%22jobKind%22%3A%226%22%2C%22d_curPage%22%3A%220%22%2C%22d_pageSize%22%3A%2240%22%2C%22as_from%22%3A%22search_prime%22%7D',\n     'dataParams': '{\"jobId\":\"61305325\",\"recruiterName\":\"张女士\",\"userId\":\"95882fc1f90f0a40ca9024d97498e50f\",\"jobKind\":\"6\",\"imId\":\"f304423ef2a5285e01ab80e4a8b96567\",\"imUserType\":\"2\",\"recruiterPhoto\":\"5f8f986779c7cc70efbf36c008u.jpg\"}'},\n    {'comp': {'compId': 5767716,\n      'compStage': '创业板上市',\n      'compLogo': '5c6f73c3261c45f0478aa89308u.png',\n      'compName': '万兴科技',\n      'compScale': '1000-2000人',\n      'link': 'https://www.liepin.com/company/5767716/',\n      'compIndustry': '计算机软件'},\n     'job': {'labels': ['本科', '海外运营', '自媒体运营', '社群运营', '新媒体运营'],\n      'dq': '深圳-南山区',\n      'salary': '9-14k·13薪',\n      'jobId': '59307981',\n      'refreshTime': '20231120094255',\n      'title': '社媒运营专员（德语/葡萄牙语/意大利语） (MJ001624)',\n      'jobKind': '6',\n      'topJob': False,\n      'link': 'https://www.liepin.com/lptjob/59307981',\n      'advViewFlag': False,\n      'pcOuterLink': '',\n      'h5OuterLink': '',\n      'campusJobKind': '应届',\n      'dataPromId': 'd_sfrom=search_prime&d_ckId=null&d_curPage=0&d_pageSize=40&d_headId=null&d_posi=2&skId=6kgzm7tcrvofclqukj6vmucx0ai9zl79&fkId=6kgzm7tcrvofclqukj6vmucx0ai9zl79&ckId=6kgzm7tcrvofclqukj6vmucx0ai9zl79&sfrom=search_job_pc&curPage=0&pageSize=40&index=2'},\n     'recruiter': {'recruiterName': '梁女士',\n      'recruiterTitle': '',\n      'chatted': False,\n      'imId': 'ac2db93e0f2e1a01cb0cf015ca0a4162',\n      'imUserType': '2',\n      'recruiterId': '3eefd9d2110c58bc53e7bb8cf5c597fc',\n      'recruiterPhoto': '5f8f98648dbe6273dcf8515508u.jpg'},\n     'dataInfo': '%7B%22ckId%22%3A%226kgzm7tcrvofclqukj6vmucx0ai9zl79%22%2C%22scene%22%3A%22input%22%2C%22pageSize%22%3A%2240%22%2C%22curPage%22%3A%220%22%2C%22skId%22%3A%226kgzm7tcrvofclqukj6vmucx0ai9zl79%22%2C%22fkId%22%3A%226kgzm7tcrvofclqukj6vmucx0ai9zl79%22%2C%22jobId%22%3A%2259307981%22%2C%22sfrom%22%3A%22search_job_pc%22%2C%22jobKind%22%3A%226%22%2C%22d_curPage%22%3A%220%22%2C%22d_pageSize%22%3A%2240%22%2C%22as_from%22%3A%22search_prime%22%7D',\n     'dataParams': '{\"jobId\":\"59307981\",\"recruiterName\":\"梁女士\",\"userId\":\"3eefd9d2110c58bc53e7bb8cf5c597fc\",\"jobKind\":\"6\",\"imId\":\"ac2db93e0f2e1a01cb0cf015ca0a4162\",\"imUserType\":\"2\",\"recruiterPhoto\":\"5f8f98648dbe6273dcf8515508u.jpg\"}'},\n    {'comp': {'compId': 9322029,\n      'compStage': '沪深A股上市',\n      'compLogo': '5d06ef909fae687d4390e99b07u.png',\n      'compName': '石头科技',\n      'compScale': '1000-2000人',\n      'link': 'https://www.liepin.com/company/9322029/',\n      'compIndustry': '智能硬件'},\n     'job': {'labels': ['3个月',\n       '提供转正',\n       '本科',\n       '市场营销',\n       '广告策划',\n       '市场策划',\n       '品牌推广',\n       '活动策划',\n       '广告媒介',\n       '营销活动'],\n      'dq': '深圳-南山区',\n      'salary': '150-200元/天',\n      'jobId': '62579301',\n      'refreshTime': '20231031114858',\n      'title': '海外市场实习生(J11029)',\n      'jobKind': '6',\n      'topJob': False,\n      'link': 'https://www.liepin.com/lptjob/62579301',\n      'advViewFlag': False,\n      'pcOuterLink': '',\n      'h5OuterLink': '',\n      'campusJobKind': '实习',\n      'dataPromId': 'd_sfrom=search_prime&d_ckId=null&d_curPage=0&d_pageSize=40&d_headId=null&d_posi=3&skId=6kgzm7tcrvofclqukj6vmucx0ai9zl79&fkId=6kgzm7tcrvofclqukj6vmucx0ai9zl79&ckId=6kgzm7tcrvofclqukj6vmucx0ai9zl79&sfrom=search_job_pc&curPage=0&pageSize=40&index=3'},\n     'recruiter': {'recruiterName': '林女士',\n      'recruiterTitle': '人力资源伙伴(HRBP)',\n      'chatted': False,\n      'imId': '48e96e9d704db9a493bfd302333462b2',\n      'imUserType': '2',\n      'recruiterId': 'd4e8a218795ecb54caca9d199988bf00',\n      'recruiterPhoto': '617aa8473dba297879e635a302u.png'},\n     'dataInfo': '%7B%22ckId%22%3A%226kgzm7tcrvofclqukj6vmucx0ai9zl79%22%2C%22scene%22%3A%22input%22%2C%22pageSize%22%3A%2240%22%2C%22curPage%22%3A%220%22%2C%22skId%22%3A%226kgzm7tcrvofclqukj6vmucx0ai9zl79%22%2C%22fkId%22%3A%226kgzm7tcrvofclqukj6vmucx0ai9zl79%22%2C%22jobId%22%3A%2262579301%22%2C%22sfrom%22%3A%22search_job_pc%22%2C%22jobKind%22%3A%226%22%2C%22d_curPage%22%3A%220%22%2C%22d_pageSize%22%3A%2240%22%2C%22as_from%22%3A%22search_prime%22%7D',\n     'dataParams': '{\"jobId\":\"62579301\",\"recruiterName\":\"林女士\",\"userId\":\"d4e8a218795ecb54caca9d199988bf00\",\"jobKind\":\"6\",\"imId\":\"48e96e9d704db9a493bfd302333462b2\",\"imUserType\":\"2\",\"recruiterPhoto\":\"617aa8473dba297879e635a302u.png\"}'},\n    {'comp': {'compId': 9322029,\n      'compStage': '沪深A股上市',\n      'compLogo': '5d06ef909fae687d4390e99b07u.png',\n      'compName': '石头科技',\n      'compScale': '1000-2000人',\n      'link': 'https://www.liepin.com/company/9322029/',\n      'compIndustry': '智能硬件'},\n     'job': {'labels': ['3个月',\n       '本科',\n       '市场营销',\n       '活动策划',\n       '广告策划',\n       '市场策划',\n       '品牌推广',\n       '广告媒介',\n       '营销活动',\n       '广告/传媒/文化'],\n      'dq': '深圳-南山区',\n      'salary': '150-200元/天',\n      'jobId': '62520763',\n      'refreshTime': '20231027151058',\n      'title': '海外市场实习生(J11025)',\n      'jobKind': '6',\n      'topJob': False,\n      'link': 'https://www.liepin.com/lptjob/62520763',\n      'advViewFlag': False,\n      'pcOuterLink': '',\n      'h5OuterLink': '',\n      'campusJobKind': '实习',\n      'dataPromId': 'd_sfrom=search_prime&d_ckId=null&d_curPage=0&d_pageSize=40&d_headId=null&d_posi=4&skId=6kgzm7tcrvofclqukj6vmucx0ai9zl79&fkId=6kgzm7tcrvofclqukj6vmucx0ai9zl79&ckId=6kgzm7tcrvofclqukj6vmucx0ai9zl79&sfrom=search_job_pc&curPage=0&pageSize=40&index=4'},\n     'recruiter': {'recruiterName': '赵女士',\n      'recruiterTitle': 'HR',\n      'chatted': False,\n      'imId': '191455c575ae1a370c6b280bb9c3d043',\n      'imUserType': '2',\n      'recruiterId': 'c10da0fff96b96df5d9fa4423967d505',\n      'recruiterPhoto': '5f8f9866dfb13a7dee342f1808u.jpg'},\n     'dataInfo': '%7B%22ckId%22%3A%226kgzm7tcrvofclqukj6vmucx0ai9zl79%22%2C%22scene%22%3A%22input%22%2C%22pageSize%22%3A%2240%22%2C%22curPage%22%3A%220%22%2C%22skId%22%3A%226kgzm7tcrvofclqukj6vmucx0ai9zl79%22%2C%22fkId%22%3A%226kgzm7tcrvofclqukj6vmucx0ai9zl79%22%2C%22jobId%22%3A%2262520763%22%2C%22sfrom%22%3A%22search_job_pc%22%2C%22jobKind%22%3A%226%22%2C%22d_curPage%22%3A%220%22%2C%22d_pageSize%22%3A%2240%22%2C%22as_from%22%3A%22search_prime%22%7D',\n     'dataParams': '{\"jobId\":\"62520763\",\"recruiterName\":\"赵女士\",\"userId\":\"c10da0fff96b96df5d9fa4423967d505\",\"jobKind\":\"6\",\"imId\":\"191455c575ae1a370c6b280bb9c3d043\",\"imUserType\":\"2\",\"recruiterPhoto\":\"5f8f9866dfb13a7dee342f1808u.jpg\"}'},\n    {'comp': {'compId': 9322029,\n      'compStage': '沪深A股上市',\n      'compLogo': '5d06ef909fae687d4390e99b07u.png',\n      'compName': '石头科技',\n      'compScale': '1000-2000人',\n      'link': 'https://www.liepin.com/company/9322029/',\n      'compIndustry': '智能硬件'},\n     'job': {'labels': ['3个月',\n       '提供转正',\n       '本科',\n       '市场营销',\n       '活动策划',\n       '广告策划',\n       '市场策划',\n       '品牌推广',\n       '广告媒介',\n       '营销活动'],\n      'dq': '深圳-南山区',\n      'salary': '150-250元/天',\n      'jobId': '62438217',\n      'refreshTime': '20231024163614',\n      'title': '海外市场实习生(J11025)',\n      'jobKind': '6',\n      'topJob': False,\n      'link': 'https://www.liepin.com/lptjob/62438217',\n      'advViewFlag': False,\n      'pcOuterLink': '',\n      'h5OuterLink': '',\n      'campusJobKind': '实习',\n      'dataPromId': 'd_sfrom=search_prime&d_ckId=null&d_curPage=0&d_pageSize=40&d_headId=null&d_posi=5&skId=6kgzm7tcrvofclqukj6vmucx0ai9zl79&fkId=6kgzm7tcrvofclqukj6vmucx0ai9zl79&ckId=6kgzm7tcrvofclqukj6vmucx0ai9zl79&sfrom=search_job_pc&curPage=0&pageSize=40&index=5'},\n     'recruiter': {'recruiterName': '林女士',\n      'recruiterTitle': '人力资源伙伴(HRBP)',\n      'chatted': False,\n      'imId': '48e96e9d704db9a493bfd302333462b2',\n      'imUserType': '2',\n      'recruiterId': 'd4e8a218795ecb54caca9d199988bf00',\n      'recruiterPhoto': '617aa8473dba297879e635a302u.png'},\n     'dataInfo': '%7B%22ckId%22%3A%226kgzm7tcrvofclqukj6vmucx0ai9zl79%22%2C%22scene%22%3A%22input%22%2C%22pageSize%22%3A%2240%22%2C%22curPage%22%3A%220%22%2C%22skId%22%3A%226kgzm7tcrvofclqukj6vmucx0ai9zl79%22%2C%22fkId%22%3A%226kgzm7tcrvofclqukj6vmucx0ai9zl79%22%2C%22jobId%22%3A%2262438217%22%2C%22sfrom%22%3A%22search_job_pc%22%2C%22jobKind%22%3A%226%22%2C%22d_curPage%22%3A%220%22%2C%22d_pageSize%22%3A%2240%22%2C%22as_from%22%3A%22search_prime%22%7D',\n     'dataParams': '{\"jobId\":\"62438217\",\"recruiterName\":\"林女士\",\"userId\":\"d4e8a218795ecb54caca9d199988bf00\",\"jobKind\":\"6\",\"imId\":\"48e96e9d704db9a493bfd302333462b2\",\"imUserType\":\"2\",\"recruiterPhoto\":\"617aa8473dba297879e635a302u.png\"}'},\n    {'comp': {'compId': 12582993,\n      'compStage': 'C轮',\n      'compLogo': '633155d01daaa21b59cbb72b08u.png',\n      'compName': '深圳思为科技有限公司',\n      'compScale': '100-499人',\n      'link': 'https://www.liepin.com/company/12582993/',\n      'compIndustry': '互联网'},\n     'job': {'labels': ['3个月',\n       '提供转正',\n       '本科',\n       '品牌推广',\n       '市场运营',\n       '公关策划',\n       '广告策划',\n       '市场推广',\n       '活动策划',\n       '广告媒介',\n       '品牌活动',\n       '汽车行业',\n       '广告/传媒/文化'],\n      'dq': '深圳-南山区',\n      'salary': '150-300元/天',\n      'jobId': '61304115',\n      'refreshTime': '20230901140115',\n      'title': '市场实习生（2024届实习生招聘）(J10314)',\n      'jobKind': '6',\n      'topJob': False,\n      'link': 'https://www.liepin.com/lptjob/61304115',\n      'advViewFlag': False,\n      'pcOuterLink': '',\n      'h5OuterLink': '',\n      'campusJobKind': '实习',\n      'dataPromId': 'd_sfrom=search_prime&d_ckId=null&d_curPage=0&d_pageSize=40&d_headId=null&d_posi=6&skId=6kgzm7tcrvofclqukj6vmucx0ai9zl79&fkId=6kgzm7tcrvofclqukj6vmucx0ai9zl79&ckId=6kgzm7tcrvofclqukj6vmucx0ai9zl79&sfrom=search_job_pc&curPage=0&pageSize=40&index=6'},\n     'recruiter': {'recruiterName': '张女士',\n      'recruiterTitle': '招聘经理、人力资源主管',\n      'chatted': False,\n      'imId': 'f304423ef2a5285e01ab80e4a8b96567',\n      'imUserType': '2',\n      'recruiterId': '95882fc1f90f0a40ca9024d97498e50f',\n      'recruiterPhoto': '5f8f986779c7cc70efbf36c008u.jpg'},\n     'dataInfo': '%7B%22ckId%22%3A%226kgzm7tcrvofclqukj6vmucx0ai9zl79%22%2C%22scene%22%3A%22input%22%2C%22pageSize%22%3A%2240%22%2C%22curPage%22%3A%220%22%2C%22skId%22%3A%226kgzm7tcrvofclqukj6vmucx0ai9zl79%22%2C%22fkId%22%3A%226kgzm7tcrvofclqukj6vmucx0ai9zl79%22%2C%22jobId%22%3A%2261304115%22%2C%22sfrom%22%3A%22search_job_pc%22%2C%22jobKind%22%3A%226%22%2C%22d_curPage%22%3A%220%22%2C%22d_pageSize%22%3A%2240%22%2C%22as_from%22%3A%22search_prime%22%7D',\n     'dataParams': '{\"jobId\":\"61304115\",\"recruiterName\":\"张女士\",\"userId\":\"95882fc1f90f0a40ca9024d97498e50f\",\"jobKind\":\"6\",\"imId\":\"f304423ef2a5285e01ab80e4a8b96567\",\"imUserType\":\"2\",\"recruiterPhoto\":\"5f8f986779c7cc70efbf36c008u.jpg\"}'},\n    {'comp': {'compId': 12177145,\n      'compLogo': '5e73263737483e328d5e364108u.png',\n      'compName': '金地管理',\n      'compScale': '10000人以上',\n      'link': 'https://www.liepin.com/company/12177145/',\n      'compIndustry': '房地产开发经营'},\n     'job': {'labels': ['3个月',\n       '本科',\n       '品牌推广',\n       '品牌渠道',\n       '品牌公关',\n       '品牌战略',\n       '品牌策划',\n       '广告媒介',\n       '公众号',\n       '品牌活动',\n       '汽车行业',\n       '广告/传媒/文化'],\n      'dq': '深圳',\n      'salary': '80-120元/天',\n      'jobId': '57933451',\n      'refreshTime': '20231221155505',\n      'title': '品牌实习生|金地管理（深圳）(J15554)',\n      'jobKind': '6',\n      'topJob': False,\n      'link': 'https://www.liepin.com/lptjob/57933451',\n      'advViewFlag': False,\n      'pcOuterLink': '',\n      'h5OuterLink': '',\n      'campusJobKind': '实习',\n      'dataPromId': 'd_sfrom=search_prime&d_ckId=null&d_curPage=0&d_pageSize=40&d_headId=null&d_posi=7&skId=6kgzm7tcrvofclqukj6vmucx0ai9zl79&fkId=6kgzm7tcrvofclqukj6vmucx0ai9zl79&ckId=6kgzm7tcrvofclqukj6vmucx0ai9zl79&sfrom=search_job_pc&curPage=0&pageSize=40&index=7'},\n     'recruiter': {'recruiterName': '桂先生',\n      'recruiterTitle': '人力资源经理',\n      'chatted': False,\n      'imId': '6765de902deb6391b0628941e8c1534b',\n      'imUserType': '2',\n      'recruiterId': '73f4181cc0ce5b8e723a1a12940cbf4c',\n      'recruiterPhoto': '5f8f98698dbe6273dcf8516008u.jpg'},\n     'dataInfo': '%7B%22ckId%22%3A%226kgzm7tcrvofclqukj6vmucx0ai9zl79%22%2C%22scene%22%3A%22input%22%2C%22pageSize%22%3A%2240%22%2C%22curPage%22%3A%220%22%2C%22skId%22%3A%226kgzm7tcrvofclqukj6vmucx0ai9zl79%22%2C%22fkId%22%3A%226kgzm7tcrvofclqukj6vmucx0ai9zl79%22%2C%22jobId%22%3A%2257933451%22%2C%22sfrom%22%3A%22search_job_pc%22%2C%22jobKind%22%3A%226%22%2C%22d_curPage%22%3A%220%22%2C%22d_pageSize%22%3A%2240%22%2C%22as_from%22%3A%22search_prime%22%7D',\n     'dataParams': '{\"jobId\":\"57933451\",\"recruiterName\":\"桂先生\",\"userId\":\"73f4181cc0ce5b8e723a1a12940cbf4c\",\"jobKind\":\"6\",\"imId\":\"6765de902deb6391b0628941e8c1534b\",\"imUserType\":\"2\",\"recruiterPhoto\":\"5f8f98698dbe6273dcf8516008u.jpg\"}'},\n    {'comp': {'compId': 9339918,\n      'compStage': '融资未公开',\n      'compLogo': '61b07937d0458d53c627567e02u.jpg',\n      'compName': '深圳市天之道茶文化有限公司',\n      'compScale': '50-99人',\n      'link': 'https://www.liepin.com/company/9339918/',\n      'compIndustry': '食品/饮料/酒水'},\n     'job': {'labels': ['广告策划', '文案策划', '广告媒介', '广告/传媒/文化'],\n      'dq': '深圳-光明区',\n      'salary': '4-8k',\n      'jobId': '20268693',\n      'refreshTime': '20190528160657',\n      'title': '广告文案策划',\n      'jobKind': '2',\n      'topJob': False,\n      'link': 'https://www.liepin.com/job/1920268693.shtml',\n      'requireEduLevel': '大专',\n      'advViewFlag': False,\n      'requireWorkYears': '经验不限',\n      'pcOuterLink': '',\n      'h5OuterLink': '',\n      'dataPromId': 'd_sfrom=search_prime&d_ckId=null&d_curPage=0&d_pageSize=40&d_headId=null&d_posi=8&skId=6kgzm7tcrvofclqukj6vmucx0ai9zl79&fkId=6kgzm7tcrvofclqukj6vmucx0ai9zl79&ckId=6kgzm7tcrvofclqukj6vmucx0ai9zl79&sfrom=search_job_pc&curPage=0&pageSize=40&index=8'},\n     'recruiter': {'recruiterName': '佘女士',\n      'recruiterTitle': 'HR',\n      'chatted': False,\n      'imId': 'e3954fcd61b9ff7c0e33f8ac54fbf39e',\n      'imUserType': '2',\n      'recruiterId': '055326ebdc93065b632ce8efc487d3e7',\n      'recruiterPhoto': '5f8f9865ea60860b75384fa508u.jpg'},\n     'dataInfo': '%7B%22ckId%22%3A%226kgzm7tcrvofclqukj6vmucx0ai9zl79%22%2C%22scene%22%3A%22input%22%2C%22pageSize%22%3A%2240%22%2C%22curPage%22%3A%220%22%2C%22skId%22%3A%226kgzm7tcrvofclqukj6vmucx0ai9zl79%22%2C%22fkId%22%3A%226kgzm7tcrvofclqukj6vmucx0ai9zl79%22%2C%22jobId%22%3A%2220268693%22%2C%22sfrom%22%3A%22search_job_pc%22%2C%22jobKind%22%3A%222%22%2C%22d_curPage%22%3A%220%22%2C%22d_pageSize%22%3A%2240%22%2C%22as_from%22%3A%22search_prime%22%7D',\n     'dataParams': '{\"jobId\":\"20268693\",\"recruiterName\":\"佘女士\",\"userId\":\"055326ebdc93065b632ce8efc487d3e7\",\"jobKind\":\"2\",\"imId\":\"e3954fcd61b9ff7c0e33f8ac54fbf39e\",\"imUserType\":\"2\",\"recruiterPhoto\":\"5f8f9865ea60860b75384fa508u.jpg\"}'},\n    {'comp': {'compId': 9320876,\n      'compStage': '融资未公开',\n      'compLogo': '5fc0c5e97d647744875ef44507u.jpg',\n      'compName': '海南房乐多网络科技有限公司',\n      'compScale': '5000-10000人',\n      'link': 'https://www.liepin.com/company/9320876/',\n      'compIndustry': '房地产租赁/中介'},\n     'job': {'labels': ['市场推广'],\n      'dq': '深圳-南山区',\n      'salary': '10-15k',\n      'jobId': '33857607',\n      'refreshTime': '20201217141208',\n      'title': '市场策划专员',\n      'jobKind': '2',\n      'topJob': False,\n      'link': 'https://www.liepin.com/job/1933857607.shtml',\n      'requireEduLevel': '统招本科',\n      'advViewFlag': False,\n      'requireWorkYears': '一年以下',\n      'pcOuterLink': '',\n      'h5OuterLink': '',\n      'dataPromId': 'd_sfrom=search_prime&d_ckId=null&d_curPage=0&d_pageSize=40&d_headId=null&d_posi=9&skId=6kgzm7tcrvofclqukj6vmucx0ai9zl79&fkId=6kgzm7tcrvofclqukj6vmucx0ai9zl79&ckId=6kgzm7tcrvofclqukj6vmucx0ai9zl79&sfrom=search_job_pc&curPage=0&pageSize=40&index=9'},\n     'recruiter': {'recruiterName': '麻女士',\n      'recruiterTitle': '管培生',\n      'chatted': False,\n      'imId': '4268788220d4aa768b0ca3877d009dea',\n      'imUserType': '2',\n      'recruiterId': 'fde11cd777d705f8b474ed057664a304',\n      'recruiterPhoto': '5f8f98648dbe6273dcf8515508u.jpg'},\n     'dataInfo': '%7B%22ckId%22%3A%226kgzm7tcrvofclqukj6vmucx0ai9zl79%22%2C%22scene%22%3A%22input%22%2C%22pageSize%22%3A%2240%22%2C%22curPage%22%3A%220%22%2C%22skId%22%3A%226kgzm7tcrvofclqukj6vmucx0ai9zl79%22%2C%22fkId%22%3A%226kgzm7tcrvofclqukj6vmucx0ai9zl79%22%2C%22jobId%22%3A%2233857607%22%2C%22sfrom%22%3A%22search_job_pc%22%2C%22jobKind%22%3A%222%22%2C%22d_curPage%22%3A%220%22%2C%22d_pageSize%22%3A%2240%22%2C%22as_from%22%3A%22search_prime%22%7D',\n     'dataParams': '{\"jobId\":\"33857607\",\"recruiterName\":\"麻女士\",\"userId\":\"fde11cd777d705f8b474ed057664a304\",\"jobKind\":\"2\",\"imId\":\"4268788220d4aa768b0ca3877d009dea\",\"imUserType\":\"2\",\"recruiterPhoto\":\"5f8f98648dbe6273dcf8515508u.jpg\"}'},\n    {'comp': {'compId': 5767716,\n      'compStage': '创业板上市',\n      'compLogo': '5c6f73c3261c45f0478aa89308u.png',\n      'compName': '万兴科技',\n      'compScale': '1000-2000人',\n      'link': 'https://www.liepin.com/company/5767716/',\n      'compIndustry': '计算机软件'},\n     'job': {'labels': ['产品运营', '自媒体运营', '新媒体运营'],\n      'dq': '深圳-南山区',\n      'salary': '9-14k',\n      'jobId': '57028827',\n      'refreshTime': '20230316140620',\n      'title': '运营专员',\n      'jobKind': '2',\n      'topJob': False,\n      'link': 'https://www.liepin.com/job/1957028827.shtml',\n      'requireEduLevel': '本科',\n      'advViewFlag': False,\n      'requireWorkYears': '经验不限',\n      'pcOuterLink': '',\n      'h5OuterLink': '',\n      'dataPromId': 'd_sfrom=search_prime&d_ckId=null&d_curPage=0&d_pageSize=40&d_headId=null&d_posi=10&skId=6kgzm7tcrvofclqukj6vmucx0ai9zl79&fkId=6kgzm7tcrvofclqukj6vmucx0ai9zl79&ckId=6kgzm7tcrvofclqukj6vmucx0ai9zl79&sfrom=search_job_pc&curPage=0&pageSize=40&index=10'},\n     'recruiter': {'recruiterName': '张女士',\n      'recruiterTitle': 'HR',\n      'chatted': False,\n      'imId': 'fdc95edcd4a826f78f669bb17ec3d8eb',\n      'imUserType': '2',\n      'recruiterId': '33b1933e88536c86739a5ba91994e488',\n      'recruiterPhoto': '5f8f9866dfb13a7dee342f1808u.jpg'},\n     'dataInfo': '%7B%22ckId%22%3A%226kgzm7tcrvofclqukj6vmucx0ai9zl79%22%2C%22scene%22%3A%22input%22%2C%22pageSize%22%3A%2240%22%2C%22curPage%22%3A%220%22%2C%22skId%22%3A%226kgzm7tcrvofclqukj6vmucx0ai9zl79%22%2C%22fkId%22%3A%226kgzm7tcrvofclqukj6vmucx0ai9zl79%22%2C%22jobId%22%3A%2257028827%22%2C%22sfrom%22%3A%22search_job_pc%22%2C%22jobKind%22%3A%222%22%2C%22d_curPage%22%3A%220%22%2C%22d_pageSize%22%3A%2240%22%2C%22as_from%22%3A%22search_prime%22%7D',\n     'dataParams': '{\"jobId\":\"57028827\",\"recruiterName\":\"张女士\",\"userId\":\"33b1933e88536c86739a5ba91994e488\",\"jobKind\":\"2\",\"imId\":\"fdc95edcd4a826f78f669bb17ec3d8eb\",\"imUserType\":\"2\",\"recruiterPhoto\":\"5f8f9866dfb13a7dee342f1808u.jpg\"}'},\n    {'comp': {'compId': 12639955,\n      'compLogo': '61b07937d0458d53c627567e02u.jpg',\n      'compName': '深圳中科光艺文旅有限公司',\n      'compScale': '1-49人',\n      'link': 'https://www.liepin.com/company/12639955/',\n      'compIndustry': '互联网'},\n     'job': {'labels': ['广告策划', '广告媒介', '广告/传媒/文化'],\n      'dq': '深圳-罗湖区',\n      'salary': '5-6k',\n      'jobId': '37239425',\n      'refreshTime': '20210323174031',\n      'title': '文旅策划专员',\n      'jobKind': '2',\n      'topJob': False,\n      'link': 'https://www.liepin.com/job/1937239425.shtml',\n      'requireEduLevel': '本科',\n      'advViewFlag': False,\n      'requireWorkYears': '一年以下',\n      'pcOuterLink': '',\n      'h5OuterLink': '',\n      'dataPromId': 'd_sfrom=search_prime&d_ckId=null&d_curPage=0&d_pageSize=40&d_headId=null&d_posi=11&skId=6kgzm7tcrvofclqukj6vmucx0ai9zl79&fkId=6kgzm7tcrvofclqukj6vmucx0ai9zl79&ckId=6kgzm7tcrvofclqukj6vmucx0ai9zl79&sfrom=search_job_pc&curPage=0&pageSize=40&index=11'},\n     'recruiter': {'recruiterName': '夏女士',\n      'recruiterTitle': '',\n      'chatted': False,\n      'imId': '1daba7287ece8ffee3a362ce23913155',\n      'imUserType': '2',\n      'recruiterId': 'ca0b2d7a242702377ce0844932aa3e84',\n      'recruiterPhoto': '5f8f9863f6d1ab58476f246a08u.jpg'},\n     'dataInfo': '%7B%22ckId%22%3A%226kgzm7tcrvofclqukj6vmucx0ai9zl79%22%2C%22scene%22%3A%22input%22%2C%22pageSize%22%3A%2240%22%2C%22curPage%22%3A%220%22%2C%22skId%22%3A%226kgzm7tcrvofclqukj6vmucx0ai9zl79%22%2C%22fkId%22%3A%226kgzm7tcrvofclqukj6vmucx0ai9zl79%22%2C%22jobId%22%3A%2237239425%22%2C%22sfrom%22%3A%22search_job_pc%22%2C%22jobKind%22%3A%222%22%2C%22d_curPage%22%3A%220%22%2C%22d_pageSize%22%3A%2240%22%2C%22as_from%22%3A%22search_prime%22%7D',\n     'dataParams': '{\"jobId\":\"37239425\",\"recruiterName\":\"夏女士\",\"userId\":\"ca0b2d7a242702377ce0844932aa3e84\",\"jobKind\":\"2\",\"imId\":\"1daba7287ece8ffee3a362ce23913155\",\"imUserType\":\"2\",\"recruiterPhoto\":\"5f8f9863f6d1ab58476f246a08u.jpg\"}'},\n    {'comp': {'compId': 9591244,\n      'compStage': '融资未公开',\n      'compLogo': '61b07937d0458d53c627567e02u.jpg',\n      'compName': '深圳市华奥展览服务有限公司',\n      'compScale': '1-49人',\n      'link': 'https://www.liepin.com/company/9591244/',\n      'compIndustry': '广告/公关/会展'},\n     'job': {'labels': ['网络广告'],\n      'dq': '深圳-福田区',\n      'salary': '5-6k',\n      'jobId': '59711667',\n      'refreshTime': '20230706111322',\n      'title': '新媒体运营',\n      'jobKind': '2',\n      'topJob': False,\n      'link': 'https://www.liepin.com/job/1959711667.shtml',\n      'requireEduLevel': '大专',\n      'advViewFlag': False,\n      'requireWorkYears': '一年以下',\n      'pcOuterLink': '',\n      'h5OuterLink': '',\n      'dataPromId': 'd_sfrom=search_prime&d_ckId=null&d_curPage=0&d_pageSize=40&d_headId=null&d_posi=12&skId=6kgzm7tcrvofclqukj6vmucx0ai9zl79&fkId=6kgzm7tcrvofclqukj6vmucx0ai9zl79&ckId=6kgzm7tcrvofclqukj6vmucx0ai9zl79&sfrom=search_job_pc&curPage=0&pageSize=40&index=12'},\n     'recruiter': {'recruiterName': '陈女士',\n      'recruiterTitle': '人事',\n      'chatted': False,\n      'imId': 'fb2b5f49415c7c2e9018c687d130599f',\n      'imUserType': '2',\n      'recruiterId': '179888d71480967deb0cc657b441b870',\n      'recruiterPhoto': '5f8f98648dbe6273dcf8515508u.jpg'},\n     'dataInfo': '%7B%22ckId%22%3A%226kgzm7tcrvofclqukj6vmucx0ai9zl79%22%2C%22scene%22%3A%22input%22%2C%22pageSize%22%3A%2240%22%2C%22curPage%22%3A%220%22%2C%22skId%22%3A%226kgzm7tcrvofclqukj6vmucx0ai9zl79%22%2C%22fkId%22%3A%226kgzm7tcrvofclqukj6vmucx0ai9zl79%22%2C%22jobId%22%3A%2259711667%22%2C%22sfrom%22%3A%22search_job_pc%22%2C%22jobKind%22%3A%222%22%2C%22d_curPage%22%3A%220%22%2C%22d_pageSize%22%3A%2240%22%2C%22as_from%22%3A%22search_prime%22%7D',\n     'dataParams': '{\"jobId\":\"59711667\",\"recruiterName\":\"陈女士\",\"userId\":\"179888d71480967deb0cc657b441b870\",\"jobKind\":\"2\",\"imId\":\"fb2b5f49415c7c2e9018c687d130599f\",\"imUserType\":\"2\",\"recruiterPhoto\":\"5f8f98648dbe6273dcf8515508u.jpg\"}'},\n    {'comp': {'compId': 12894101,\n      'compLogo': '61b07937d0458d53c627567e02u.jpg',\n      'compName': '深圳从前有座山文化创意有限公司',\n      'compScale': '1-49人',\n      'link': 'https://www.liepin.com/company/12894101/',\n      'compIndustry': '广告/公关/会展'},\n     'job': {'labels': ['广告设计', '客户服务'],\n      'dq': '深圳',\n      'salary': '5-10k',\n      'jobId': '42396903',\n      'refreshTime': '20210820122839',\n      'title': '广告协调',\n      'jobKind': '2',\n      'topJob': False,\n      'link': 'https://www.liepin.com/job/1942396903.shtml',\n      'requireEduLevel': '学历不限',\n      'advViewFlag': False,\n      'requireWorkYears': '一年以下',\n      'pcOuterLink': '',\n      'h5OuterLink': '',\n      'dataPromId': 'd_sfrom=search_prime&d_ckId=null&d_curPage=0&d_pageSize=40&d_headId=null&d_posi=13&skId=6kgzm7tcrvofclqukj6vmucx0ai9zl79&fkId=6kgzm7tcrvofclqukj6vmucx0ai9zl79&ckId=6kgzm7tcrvofclqukj6vmucx0ai9zl79&sfrom=search_job_pc&curPage=0&pageSize=40&index=13'},\n     'recruiter': {'recruiterName': '陈先生',\n      'recruiterTitle': '总经理',\n      'chatted': False,\n      'imId': '0ad25a91442ca55d9192f8b8aeefde46',\n      'imUserType': '2',\n      'recruiterId': '5b36a6d5afdf52424eca6c49223f40ce',\n      'recruiterPhoto': '5f8f9868f6d1ab58476f24a008u.jpg'},\n     'dataInfo': '%7B%22ckId%22%3A%226kgzm7tcrvofclqukj6vmucx0ai9zl79%22%2C%22scene%22%3A%22input%22%2C%22pageSize%22%3A%2240%22%2C%22curPage%22%3A%220%22%2C%22skId%22%3A%226kgzm7tcrvofclqukj6vmucx0ai9zl79%22%2C%22fkId%22%3A%226kgzm7tcrvofclqukj6vmucx0ai9zl79%22%2C%22jobId%22%3A%2242396903%22%2C%22sfrom%22%3A%22search_job_pc%22%2C%22jobKind%22%3A%222%22%2C%22d_curPage%22%3A%220%22%2C%22d_pageSize%22%3A%2240%22%2C%22as_from%22%3A%22search_prime%22%7D',\n     'dataParams': '{\"jobId\":\"42396903\",\"recruiterName\":\"陈先生\",\"userId\":\"5b36a6d5afdf52424eca6c49223f40ce\",\"jobKind\":\"2\",\"imId\":\"0ad25a91442ca55d9192f8b8aeefde46\",\"imUserType\":\"2\",\"recruiterPhoto\":\"5f8f9868f6d1ab58476f24a008u.jpg\"}'},\n    {'comp': {'compId': 13294293,\n      'compLogo': '61b07937d0458d53c627567e02u.jpg',\n      'compName': '深圳市南山区民营医疗机构协会',\n      'compScale': '1-49人',\n      'link': 'https://www.liepin.com/company/13294293/',\n      'compIndustry': '医疗机构'},\n     'job': {'labels': ['流程设计', '原型设计', 'Mockplus', 'Visio', 'Axure', '产品设计'],\n      'dq': '深圳',\n      'salary': '24-50k',\n      'jobId': '57038729',\n      'refreshTime': '20230322092828',\n      'title': '资深产品经理',\n      'jobKind': '2',\n      'topJob': False,\n      'link': 'https://www.liepin.com/job/1957038729.shtml',\n      'requireEduLevel': '本科',\n      'advViewFlag': False,\n      'requireWorkYears': '经验不限',\n      'pcOuterLink': '',\n      'h5OuterLink': '',\n      'dataPromId': 'd_sfrom=search_prime&d_ckId=null&d_curPage=0&d_pageSize=40&d_headId=null&d_posi=14&skId=6kgzm7tcrvofclqukj6vmucx0ai9zl79&fkId=6kgzm7tcrvofclqukj6vmucx0ai9zl79&ckId=6kgzm7tcrvofclqukj6vmucx0ai9zl79&sfrom=search_job_pc&curPage=0&pageSize=40&index=14'},\n     'recruiter': {'recruiterName': '黄女士',\n      'recruiterTitle': '工作人员',\n      'chatted': False,\n      'imId': 'c34a7579ae43b7484da34c7ac147e5b9',\n      'imUserType': '2',\n      'recruiterId': '1701e3b8abd9347bb13d7faf15c72de0',\n      'recruiterPhoto': '5f8f9866dfb13a7dee342f1808u.jpg'},\n     'dataInfo': '%7B%22ckId%22%3A%226kgzm7tcrvofclqukj6vmucx0ai9zl79%22%2C%22scene%22%3A%22input%22%2C%22pageSize%22%3A%2240%22%2C%22curPage%22%3A%220%22%2C%22skId%22%3A%226kgzm7tcrvofclqukj6vmucx0ai9zl79%22%2C%22fkId%22%3A%226kgzm7tcrvofclqukj6vmucx0ai9zl79%22%2C%22jobId%22%3A%2257038729%22%2C%22sfrom%22%3A%22search_job_pc%22%2C%22jobKind%22%3A%222%22%2C%22d_curPage%22%3A%220%22%2C%22d_pageSize%22%3A%2240%22%2C%22as_from%22%3A%22search_prime%22%7D',\n     'dataParams': '{\"jobId\":\"57038729\",\"recruiterName\":\"黄女士\",\"userId\":\"1701e3b8abd9347bb13d7faf15c72de0\",\"jobKind\":\"2\",\"imId\":\"c34a7579ae43b7484da34c7ac147e5b9\",\"imUserType\":\"2\",\"recruiterPhoto\":\"5f8f9866dfb13a7dee342f1808u.jpg\"}'},\n    {'comp': {'compId': 12330707,\n      'compLogo': '61b07937d0458d53c627567e02u.jpg',\n      'compName': '深圳市喵音文化传媒有限公司',\n      'compScale': '',\n      'link': 'https://www.liepin.com/company/12330707/',\n      'compIndustry': '广播/影视/录音'},\n     'job': {'labels': ['客户管理', '市场洞察'],\n      'dq': '深圳',\n      'salary': '8-13k',\n      'jobId': '30388851',\n      'refreshTime': '20200730122706',\n      'title': '业务拓展专员/助理',\n      'jobKind': '2',\n      'topJob': False,\n      'link': 'https://www.liepin.com/job/1930388851.shtml',\n      'requireEduLevel': '大专',\n      'advViewFlag': False,\n      'requireWorkYears': '经验不限',\n      'pcOuterLink': '',\n      'h5OuterLink': '',\n      'dataPromId': 'd_sfrom=search_prime&d_ckId=null&d_curPage=0&d_pageSize=40&d_headId=null&d_posi=15&skId=6kgzm7tcrvofclqukj6vmucx0ai9zl79&fkId=6kgzm7tcrvofclqukj6vmucx0ai9zl79&ckId=6kgzm7tcrvofclqukj6vmucx0ai9zl79&sfrom=search_job_pc&curPage=0&pageSize=40&index=15'},\n     'recruiter': {'recruiterName': '唐女士',\n      'recruiterTitle': '行政',\n      'chatted': False,\n      'imId': '76bc8d824760d026be3900059d28d9fd',\n      'imUserType': '2',\n      'recruiterId': 'ab86da0d2ade865294505f60ce4d4f4a',\n      'recruiterPhoto': '5f8f9863f6d1ab58476f246a08u.jpg'},\n     'dataInfo': '%7B%22ckId%22%3A%226kgzm7tcrvofclqukj6vmucx0ai9zl79%22%2C%22scene%22%3A%22input%22%2C%22pageSize%22%3A%2240%22%2C%22curPage%22%3A%220%22%2C%22skId%22%3A%226kgzm7tcrvofclqukj6vmucx0ai9zl79%22%2C%22fkId%22%3A%226kgzm7tcrvofclqukj6vmucx0ai9zl79%22%2C%22jobId%22%3A%2230388851%22%2C%22sfrom%22%3A%22search_job_pc%22%2C%22jobKind%22%3A%222%22%2C%22d_curPage%22%3A%220%22%2C%22d_pageSize%22%3A%2240%22%2C%22as_from%22%3A%22search_prime%22%7D',\n     'dataParams': '{\"jobId\":\"30388851\",\"recruiterName\":\"唐女士\",\"userId\":\"ab86da0d2ade865294505f60ce4d4f4a\",\"jobKind\":\"2\",\"imId\":\"76bc8d824760d026be3900059d28d9fd\",\"imUserType\":\"2\",\"recruiterPhoto\":\"5f8f9863f6d1ab58476f246a08u.jpg\"}'},\n    {'comp': {'compId': 12822073,\n      'compLogo': '61b07937d0458d53c627567e02u.jpg',\n      'compName': '深圳市赛普人才交流服务有限公司',\n      'compScale': '1-49人',\n      'link': 'https://www.liepin.com/company/12822073/',\n      'compIndustry': 'IT服务'},\n     'job': {'labels': [],\n      'dq': '深圳-宝安区',\n      'salary': '3-4k',\n      'jobId': '50180031',\n      'refreshTime': '20220607115732',\n      'title': '文案策划（实习）',\n      'jobKind': '2',\n      'topJob': False,\n      'link': 'https://www.liepin.com/job/1950180031.shtml',\n      'requireEduLevel': '本科',\n      'advViewFlag': False,\n      'requireWorkYears': '经验不限',\n      'pcOuterLink': '',\n      'h5OuterLink': '',\n      'dataPromId': 'd_sfrom=search_prime&d_ckId=null&d_curPage=0&d_pageSize=40&d_headId=null&d_posi=16&skId=6kgzm7tcrvofclqukj6vmucx0ai9zl79&fkId=6kgzm7tcrvofclqukj6vmucx0ai9zl79&ckId=6kgzm7tcrvofclqukj6vmucx0ai9zl79&sfrom=search_job_pc&curPage=0&pageSize=40&index=16'},\n     'recruiter': {'recruiterName': '代女士',\n      'recruiterTitle': '品牌策划',\n      'chatted': False,\n      'imId': '00b3f124d9ad32bf14eaea6fb4edea08',\n      'imUserType': '2',\n      'recruiterId': '04ebe870d08b5f44043ddf35d46fa77e',\n      'recruiterPhoto': '5f8f9863f6d1ab58476f246a08u.jpg'},\n     'dataInfo': '%7B%22ckId%22%3A%226kgzm7tcrvofclqukj6vmucx0ai9zl79%22%2C%22scene%22%3A%22input%22%2C%22pageSize%22%3A%2240%22%2C%22curPage%22%3A%220%22%2C%22skId%22%3A%226kgzm7tcrvofclqukj6vmucx0ai9zl79%22%2C%22fkId%22%3A%226kgzm7tcrvofclqukj6vmucx0ai9zl79%22%2C%22jobId%22%3A%2250180031%22%2C%22sfrom%22%3A%22search_job_pc%22%2C%22jobKind%22%3A%222%22%2C%22d_curPage%22%3A%220%22%2C%22d_pageSize%22%3A%2240%22%2C%22as_from%22%3A%22search_prime%22%7D',\n     'dataParams': '{\"jobId\":\"50180031\",\"recruiterName\":\"代女士\",\"userId\":\"04ebe870d08b5f44043ddf35d46fa77e\",\"jobKind\":\"2\",\"imId\":\"00b3f124d9ad32bf14eaea6fb4edea08\",\"imUserType\":\"2\",\"recruiterPhoto\":\"5f8f9863f6d1ab58476f246a08u.jpg\"}'},\n    {'comp': {'compId': 10238017,\n      'compStage': '融资未公开',\n      'compLogo': '5ebb7d96f25402045745bf7208u.jpeg',\n      'compName': '深圳市诺德风云广告有限公司',\n      'compScale': '50-99人',\n      'link': 'https://www.liepin.com/company/10238017/',\n      'compIndustry': '广告/公关/会展'},\n     'job': {'labels': ['软文撰写', '广告文案', '活动文案', '新媒体文案', '渠道推广'],\n      'dq': '深圳',\n      'salary': '8-12k',\n      'jobId': '24505093',\n      'refreshTime': '20191227172924',\n      'title': '策划文案',\n      'jobKind': '2',\n      'topJob': False,\n      'link': 'https://www.liepin.com/job/1924505093.shtml',\n      'requireEduLevel': '大专',\n      'advViewFlag': False,\n      'requireWorkYears': '经验不限',\n      'pcOuterLink': '',\n      'h5OuterLink': '',\n      'dataPromId': 'd_sfrom=search_prime&d_ckId=null&d_curPage=0&d_pageSize=40&d_headId=null&d_posi=17&skId=6kgzm7tcrvofclqukj6vmucx0ai9zl79&fkId=6kgzm7tcrvofclqukj6vmucx0ai9zl79&ckId=6kgzm7tcrvofclqukj6vmucx0ai9zl79&sfrom=search_job_pc&curPage=0&pageSize=40&index=17'},\n     'recruiter': {'recruiterName': '刘先生',\n      'recruiterTitle': '地产策划',\n      'chatted': False,\n      'imId': '6747a7c3c3b37fb4e4cd5c055e1e05ce',\n      'imUserType': '2',\n      'recruiterId': 'c9a82838cf5b7ab99d577281e8fa4bbc',\n      'recruiterPhoto': '5f8f986aea60860b75384fab08u.jpg'},\n     'dataInfo': '%7B%22ckId%22%3A%226kgzm7tcrvofclqukj6vmucx0ai9zl79%22%2C%22scene%22%3A%22input%22%2C%22pageSize%22%3A%2240%22%2C%22curPage%22%3A%220%22%2C%22skId%22%3A%226kgzm7tcrvofclqukj6vmucx0ai9zl79%22%2C%22fkId%22%3A%226kgzm7tcrvofclqukj6vmucx0ai9zl79%22%2C%22jobId%22%3A%2224505093%22%2C%22sfrom%22%3A%22search_job_pc%22%2C%22jobKind%22%3A%222%22%2C%22d_curPage%22%3A%220%22%2C%22d_pageSize%22%3A%2240%22%2C%22as_from%22%3A%22search_prime%22%7D',\n     'dataParams': '{\"jobId\":\"24505093\",\"recruiterName\":\"刘先生\",\"userId\":\"c9a82838cf5b7ab99d577281e8fa4bbc\",\"jobKind\":\"2\",\"imId\":\"6747a7c3c3b37fb4e4cd5c055e1e05ce\",\"imUserType\":\"2\",\"recruiterPhoto\":\"5f8f986aea60860b75384fab08u.jpg\"}'},\n    {'comp': {'compId': 12664983,\n      'compLogo': '61b07937d0458d53c627567e02u.jpg',\n      'compName': '广东省江西泰和商会',\n      'compScale': '',\n      'link': 'https://www.liepin.com/company/12664983/',\n      'compIndustry': '政府/公共事业'},\n     'job': {'labels': ['资料管理', '新媒体', '专职秘书', '活动管理'],\n      'dq': '深圳',\n      'salary': '4-6k',\n      'jobId': '37670017',\n      'refreshTime': '20220608104856',\n      'title': '商会秘书',\n      'jobKind': '2',\n      'topJob': False,\n      'link': 'https://www.liepin.com/job/1937670017.shtml',\n      'requireEduLevel': '大专',\n      'advViewFlag': False,\n      'requireWorkYears': '经验不限',\n      'pcOuterLink': '',\n      'h5OuterLink': '',\n      'dataPromId': 'd_sfrom=search_prime&d_ckId=null&d_curPage=0&d_pageSize=40&d_headId=null&d_posi=18&skId=6kgzm7tcrvofclqukj6vmucx0ai9zl79&fkId=6kgzm7tcrvofclqukj6vmucx0ai9zl79&ckId=6kgzm7tcrvofclqukj6vmucx0ai9zl79&sfrom=search_job_pc&curPage=0&pageSize=40&index=18'},\n     'recruiter': {'recruiterName': '胡女士',\n      'recruiterTitle': '商务秘书',\n      'chatted': False,\n      'imId': 'b6fcf3afc64ebde2c307fe6e334c0c05',\n      'imUserType': '2',\n      'recruiterId': 'fc55f7534f689aea4a91baa8b70cdbda',\n      'recruiterPhoto': '5f8f98648dbe6273dcf8515508u.jpg'},\n     'dataInfo': '%7B%22ckId%22%3A%226kgzm7tcrvofclqukj6vmucx0ai9zl79%22%2C%22scene%22%3A%22input%22%2C%22pageSize%22%3A%2240%22%2C%22curPage%22%3A%220%22%2C%22skId%22%3A%226kgzm7tcrvofclqukj6vmucx0ai9zl79%22%2C%22fkId%22%3A%226kgzm7tcrvofclqukj6vmucx0ai9zl79%22%2C%22jobId%22%3A%2237670017%22%2C%22sfrom%22%3A%22search_job_pc%22%2C%22jobKind%22%3A%222%22%2C%22d_curPage%22%3A%220%22%2C%22d_pageSize%22%3A%2240%22%2C%22as_from%22%3A%22search_prime%22%7D',\n     'dataParams': '{\"jobId\":\"37670017\",\"recruiterName\":\"胡女士\",\"userId\":\"fc55f7534f689aea4a91baa8b70cdbda\",\"jobKind\":\"2\",\"imId\":\"b6fcf3afc64ebde2c307fe6e334c0c05\",\"imUserType\":\"2\",\"recruiterPhoto\":\"5f8f98648dbe6273dcf8515508u.jpg\"}'},\n    {'comp': {'compId': 8820115,\n      'compLogo': '58aab33b70325a5a307d832906a.jpg',\n      'compName': '泰香米业',\n      'compScale': '100-499人',\n      'link': 'https://www.liepin.com/company/8820115/',\n      'compIndustry': '食品/饮料/酒水'},\n     'job': {'labels': ['营销策划', '文案策划', '市场策划', '活动策划'],\n      'dq': '深圳-福田区',\n      'salary': '4-6k',\n      'jobId': '38209095',\n      'refreshTime': '20210415162452',\n      'title': '策划助理',\n      'jobKind': '2',\n      'topJob': False,\n      'link': 'https://www.liepin.com/job/1938209095.shtml',\n      'requireEduLevel': '大专',\n      'advViewFlag': False,\n      'requireWorkYears': '经验不限',\n      'pcOuterLink': '',\n      'h5OuterLink': '',\n      'dataPromId': 'd_sfrom=search_prime&d_ckId=null&d_curPage=0&d_pageSize=40&d_headId=null&d_posi=19&skId=6kgzm7tcrvofclqukj6vmucx0ai9zl79&fkId=6kgzm7tcrvofclqukj6vmucx0ai9zl79&ckId=6kgzm7tcrvofclqukj6vmucx0ai9zl79&sfrom=search_job_pc&curPage=0&pageSize=40&index=19'},\n     'recruiter': {'recruiterName': '戚女士',\n      'recruiterTitle': 'HR',\n      'chatted': False,\n      'imId': 'cd637013fa20b706cc809655362a8e54',\n      'imUserType': '2',\n      'recruiterId': '218d3549a01bf557f31e553b84f5f74b',\n      'recruiterPhoto': '5f8f9866dfb13a7dee342f1808u.jpg'},\n     'dataInfo': '%7B%22ckId%22%3A%226kgzm7tcrvofclqukj6vmucx0ai9zl79%22%2C%22scene%22%3A%22input%22%2C%22pageSize%22%3A%2240%22%2C%22curPage%22%3A%220%22%2C%22skId%22%3A%226kgzm7tcrvofclqukj6vmucx0ai9zl79%22%2C%22fkId%22%3A%226kgzm7tcrvofclqukj6vmucx0ai9zl79%22%2C%22jobId%22%3A%2238209095%22%2C%22sfrom%22%3A%22search_job_pc%22%2C%22jobKind%22%3A%222%22%2C%22d_curPage%22%3A%220%22%2C%22d_pageSize%22%3A%2240%22%2C%22as_from%22%3A%22search_prime%22%7D',\n     'dataParams': '{\"jobId\":\"38209095\",\"recruiterName\":\"戚女士\",\"userId\":\"218d3549a01bf557f31e553b84f5f74b\",\"jobKind\":\"2\",\"imId\":\"cd637013fa20b706cc809655362a8e54\",\"imUserType\":\"2\",\"recruiterPhoto\":\"5f8f9866dfb13a7dee342f1808u.jpg\"}'},\n    {'comp': {'compId': 12817505,\n      'compLogo': '61b07937d0458d53c627567e02u.jpg',\n      'compName': '中戏文化产业(深圳)有限公司',\n      'compScale': '1-49人',\n      'link': 'https://www.liepin.com/company/12817505/',\n      'compIndustry': '专业技术服务'},\n     'job': {'labels': ['公关文案', '品牌文案', '活动文案', '软文撰写'],\n      'dq': '深圳-福田区',\n      'salary': '4-8k',\n      'jobId': '40643943',\n      'refreshTime': '20210701152604',\n      'title': '文案策划',\n      'jobKind': '2',\n      'topJob': False,\n      'link': 'https://www.liepin.com/job/1940643943.shtml',\n      'requireEduLevel': '学历不限',\n      'advViewFlag': False,\n      'requireWorkYears': '经验不限',\n      'pcOuterLink': '',\n      'h5OuterLink': '',\n      'dataPromId': 'd_sfrom=search_prime&d_ckId=null&d_curPage=0&d_pageSize=40&d_headId=null&d_posi=20&skId=6kgzm7tcrvofclqukj6vmucx0ai9zl79&fkId=6kgzm7tcrvofclqukj6vmucx0ai9zl79&ckId=6kgzm7tcrvofclqukj6vmucx0ai9zl79&sfrom=search_job_pc&curPage=0&pageSize=40&index=20'},\n     'recruiter': {'recruiterName': '魏女士',\n      'recruiterTitle': '首席执行官CEO/总裁/总经理',\n      'chatted': False,\n      'imId': 'cf9197d37a2c3d26c9cfe5b3cd09b3d2',\n      'imUserType': '2',\n      'recruiterId': 'a4bf5fd0cd747b2dd6cf63000fe4c770',\n      'recruiterPhoto': '60dd66260998001e5aceacf804u.png'},\n     'dataInfo': '%7B%22ckId%22%3A%226kgzm7tcrvofclqukj6vmucx0ai9zl79%22%2C%22scene%22%3A%22input%22%2C%22pageSize%22%3A%2240%22%2C%22curPage%22%3A%220%22%2C%22skId%22%3A%226kgzm7tcrvofclqukj6vmucx0ai9zl79%22%2C%22fkId%22%3A%226kgzm7tcrvofclqukj6vmucx0ai9zl79%22%2C%22jobId%22%3A%2240643943%22%2C%22sfrom%22%3A%22search_job_pc%22%2C%22jobKind%22%3A%222%22%2C%22d_curPage%22%3A%220%22%2C%22d_pageSize%22%3A%2240%22%2C%22as_from%22%3A%22search_prime%22%7D',\n     'dataParams': '{\"jobId\":\"40643943\",\"recruiterName\":\"魏女士\",\"userId\":\"a4bf5fd0cd747b2dd6cf63000fe4c770\",\"jobKind\":\"2\",\"imId\":\"cf9197d37a2c3d26c9cfe5b3cd09b3d2\",\"imUserType\":\"2\",\"recruiterPhoto\":\"60dd66260998001e5aceacf804u.png\"}'},\n    {'comp': {'compStage': '融资未公开',\n      'compLogo': '60e2fe0bf3df194a3c48adb502u.png',\n      'compName': '某深圳云计算/大数据公司',\n      'compScale': '100-499人',\n      'link': '',\n      'compIndustry': '云计算/大数据'},\n     'job': {'labels': ['广告策划', '新媒体'],\n      'dq': '深圳',\n      'salary': '15-20k',\n      'jobId': '49462105',\n      'refreshTime': '20230916093155',\n      'title': '广告策划',\n      'jobKind': '1',\n      'topJob': False,\n      'link': 'https://www.liepin.com/a/49462105.shtml',\n      'requireEduLevel': '本科',\n      'advViewFlag': False,\n      'requireWorkYears': '3-5年',\n      'dataPromId': 'd_sfrom=search_prime&d_ckId=null&d_curPage=0&d_pageSize=40&d_headId=null&d_posi=21&skId=6kgzm7tcrvofclqukj6vmucx0ai9zl79&fkId=6kgzm7tcrvofclqukj6vmucx0ai9zl79&ckId=6kgzm7tcrvofclqukj6vmucx0ai9zl79&sfrom=search_job_pc&curPage=0&pageSize=40&index=21'},\n     'recruiter': {'recruiterName': '李先生',\n      'recruiterTitle': '猎头顾问',\n      'chatted': False,\n      'imId': '3f588040b06a7b314f9742af3b6a500a',\n      'imUserType': '2',\n      'recruiterId': '181b5eaac20859c201c724cba006438e',\n      'recruiterPhoto': '5f8fa3a8ea60860b75385c7208u.png'},\n     'dataInfo': '%7B%22ckId%22%3A%226kgzm7tcrvofclqukj6vmucx0ai9zl79%22%2C%22scene%22%3A%22input%22%2C%22pageSize%22%3A%2240%22%2C%22curPage%22%3A%220%22%2C%22skId%22%3A%226kgzm7tcrvofclqukj6vmucx0ai9zl79%22%2C%22fkId%22%3A%226kgzm7tcrvofclqukj6vmucx0ai9zl79%22%2C%22jobId%22%3A%2249462105%22%2C%22sfrom%22%3A%22search_job_pc%22%2C%22jobKind%22%3A%221%22%2C%22d_curPage%22%3A%220%22%2C%22d_pageSize%22%3A%2240%22%2C%22as_from%22%3A%22search_prime%22%7D',\n     'dataParams': '{\"jobId\":\"49462105\",\"recruiterName\":\"李先生\",\"userId\":\"181b5eaac20859c201c724cba006438e\",\"jobKind\":\"1\",\"imId\":\"3f588040b06a7b314f9742af3b6a500a\",\"imUserType\":\"2\",\"recruiterPhoto\":\"5f8fa3a8ea60860b75385c7208u.png\"}'},\n    {'comp': {'compLogo': '60e2fe0bf3df194a3c48adb502u.png',\n      'compName': '某深圳咨询服务公司',\n      'compScale': '50-99人',\n      'link': '',\n      'compIndustry': '咨询服务'},\n     'job': {'labels': [],\n      'dq': '深圳',\n      'salary': '10-15k',\n      'jobId': '49570391',\n      'refreshTime': '20231014200408',\n      'title': '广告策划',\n      'jobKind': '1',\n      'topJob': False,\n      'link': 'https://www.liepin.com/a/49570391.shtml',\n      'requireEduLevel': '大专',\n      'advViewFlag': False,\n      'requireWorkYears': '经验不限',\n      'dataPromId': 'd_sfrom=search_prime&d_ckId=null&d_curPage=0&d_pageSize=40&d_headId=null&d_posi=22&skId=6kgzm7tcrvofclqukj6vmucx0ai9zl79&fkId=6kgzm7tcrvofclqukj6vmucx0ai9zl79&ckId=6kgzm7tcrvofclqukj6vmucx0ai9zl79&sfrom=search_job_pc&curPage=0&pageSize=40&index=22'},\n     'recruiter': {'recruiterName': '李先生',\n      'recruiterTitle': '猎头顾问',\n      'chatted': False,\n      'imId': 'f8f6775be4aaadf9b57ce8a8aa087de1',\n      'imUserType': '2',\n      'recruiterId': '902e867c150880b14dfa1eb12beb943c',\n      'recruiterPhoto': '5f8fa3a78dbe6273dcf85e2608u.png'},\n     'dataInfo': '%7B%22ckId%22%3A%226kgzm7tcrvofclqukj6vmucx0ai9zl79%22%2C%22scene%22%3A%22input%22%2C%22pageSize%22%3A%2240%22%2C%22curPage%22%3A%220%22%2C%22skId%22%3A%226kgzm7tcrvofclqukj6vmucx0ai9zl79%22%2C%22fkId%22%3A%226kgzm7tcrvofclqukj6vmucx0ai9zl79%22%2C%22jobId%22%3A%2249570391%22%2C%22sfrom%22%3A%22search_job_pc%22%2C%22jobKind%22%3A%221%22%2C%22d_curPage%22%3A%220%22%2C%22d_pageSize%22%3A%2240%22%2C%22as_from%22%3A%22search_prime%22%7D',\n     'dataParams': '{\"jobId\":\"49570391\",\"recruiterName\":\"李先生\",\"userId\":\"902e867c150880b14dfa1eb12beb943c\",\"jobKind\":\"1\",\"imId\":\"f8f6775be4aaadf9b57ce8a8aa087de1\",\"imUserType\":\"2\",\"recruiterPhoto\":\"5f8fa3a78dbe6273dcf85e2608u.png\"}'},\n    {'comp': {'compStage': '不需要融资',\n      'compLogo': '60e2fe0bf3df194a3c48adb502u.png',\n      'compName': '某深圳互联网公司',\n      'compScale': '1-49人',\n      'link': '',\n      'compIndustry': '互联网'},\n     'job': {'labels': ['广告策划'],\n      'dq': '深圳-福田区',\n      'salary': '15-25k',\n      'jobId': '50016611',\n      'refreshTime': '20231102191952',\n      'title': '广告策划',\n      'jobKind': '1',\n      'topJob': False,\n      'link': 'https://www.liepin.com/a/50016611.shtml',\n      'requireEduLevel': '大专',\n      'advViewFlag': False,\n      'requireWorkYears': '3-5年',\n      'dataPromId': 'd_sfrom=search_prime&d_ckId=null&d_curPage=0&d_pageSize=40&d_headId=null&d_posi=23&skId=6kgzm7tcrvofclqukj6vmucx0ai9zl79&fkId=6kgzm7tcrvofclqukj6vmucx0ai9zl79&ckId=6kgzm7tcrvofclqukj6vmucx0ai9zl79&sfrom=search_job_pc&curPage=0&pageSize=40&index=23'},\n     'recruiter': {'recruiterName': '倪先生',\n      'recruiterTitle': '猎头顾问',\n      'chatted': False,\n      'imId': '98379e69c2eee69d99c5c4fb06d115ec',\n      'imUserType': '2',\n      'recruiterId': 'deb548cc686cceb03ceb98aa3a938841',\n      'recruiterPhoto': '64478a25846a780c5b56a08a02u.jpeg'},\n     'dataInfo': '%7B%22ckId%22%3A%226kgzm7tcrvofclqukj6vmucx0ai9zl79%22%2C%22scene%22%3A%22input%22%2C%22pageSize%22%3A%2240%22%2C%22curPage%22%3A%220%22%2C%22skId%22%3A%226kgzm7tcrvofclqukj6vmucx0ai9zl79%22%2C%22fkId%22%3A%226kgzm7tcrvofclqukj6vmucx0ai9zl79%22%2C%22jobId%22%3A%2250016611%22%2C%22sfrom%22%3A%22search_job_pc%22%2C%22jobKind%22%3A%221%22%2C%22d_curPage%22%3A%220%22%2C%22d_pageSize%22%3A%2240%22%2C%22as_from%22%3A%22search_prime%22%7D',\n     'dataParams': '{\"jobId\":\"50016611\",\"recruiterName\":\"倪先生\",\"userId\":\"deb548cc686cceb03ceb98aa3a938841\",\"jobKind\":\"1\",\"imId\":\"98379e69c2eee69d99c5c4fb06d115ec\",\"imUserType\":\"2\",\"recruiterPhoto\":\"64478a25846a780c5b56a08a02u.jpeg\"}'},\n    {'comp': {'compLogo': '60e2fe0bf3df194a3c48adb502u.png',\n      'compName': '某深圳咨询服务公司',\n      'compScale': '50-99人',\n      'link': '',\n      'compIndustry': '咨询服务'},\n     'job': {'labels': [],\n      'dq': '深圳-福田区',\n      'salary': '15-25k',\n      'jobId': '49454013',\n      'refreshTime': '20230915160702',\n      'title': '广告策划',\n      'jobKind': '1',\n      'topJob': False,\n      'link': 'https://www.liepin.com/a/49454013.shtml',\n      'requireEduLevel': '大专',\n      'advViewFlag': False,\n      'requireWorkYears': '3-5年',\n      'dataPromId': 'd_sfrom=search_prime&d_ckId=null&d_curPage=0&d_pageSize=40&d_headId=null&d_posi=24&skId=6kgzm7tcrvofclqukj6vmucx0ai9zl79&fkId=6kgzm7tcrvofclqukj6vmucx0ai9zl79&ckId=6kgzm7tcrvofclqukj6vmucx0ai9zl79&sfrom=search_job_pc&curPage=0&pageSize=40&index=24'},\n     'recruiter': {'recruiterName': '叶先生',\n      'recruiterTitle': '猎头顾问',\n      'chatted': False,\n      'imId': '2e7803cd11f19d9be474946c099a7055',\n      'imUserType': '2',\n      'recruiterId': '7061eb526ed90d1a434ea43a8694af3c',\n      'recruiterPhoto': '650404eb77c86b07f44ac5b501u.png'},\n     'dataInfo': '%7B%22ckId%22%3A%226kgzm7tcrvofclqukj6vmucx0ai9zl79%22%2C%22scene%22%3A%22input%22%2C%22pageSize%22%3A%2240%22%2C%22curPage%22%3A%220%22%2C%22skId%22%3A%226kgzm7tcrvofclqukj6vmucx0ai9zl79%22%2C%22fkId%22%3A%226kgzm7tcrvofclqukj6vmucx0ai9zl79%22%2C%22jobId%22%3A%2249454013%22%2C%22sfrom%22%3A%22search_job_pc%22%2C%22jobKind%22%3A%221%22%2C%22d_curPage%22%3A%220%22%2C%22d_pageSize%22%3A%2240%22%2C%22as_from%22%3A%22search_prime%22%7D',\n     'dataParams': '{\"jobId\":\"49454013\",\"recruiterName\":\"叶先生\",\"userId\":\"7061eb526ed90d1a434ea43a8694af3c\",\"jobKind\":\"1\",\"imId\":\"2e7803cd11f19d9be474946c099a7055\",\"imUserType\":\"2\",\"recruiterPhoto\":\"650404eb77c86b07f44ac5b501u.png\"}'},\n    {'comp': {'compLogo': '60e2fe0bf3df194a3c48adb502u.png',\n      'compName': '某深圳咨询服务公司',\n      'compScale': '50-99人',\n      'link': '',\n      'compIndustry': '咨询服务'},\n     'job': {'labels': ['广告策划', '营销策划', '新媒体', '新媒体策划', '广告/传媒/文化'],\n      'dq': '深圳',\n      'salary': '15-25k',\n      'jobId': '49511733',\n      'refreshTime': '20230919093804',\n      'title': '广告策划',\n      'jobKind': '1',\n      'topJob': False,\n      'link': 'https://www.liepin.com/a/49511733.shtml',\n      'requireEduLevel': '本科',\n      'advViewFlag': False,\n      'requireWorkYears': '3-5年',\n      'dataPromId': 'd_sfrom=search_prime&d_ckId=null&d_curPage=0&d_pageSize=40&d_headId=null&d_posi=25&skId=6kgzm7tcrvofclqukj6vmucx0ai9zl79&fkId=6kgzm7tcrvofclqukj6vmucx0ai9zl79&ckId=6kgzm7tcrvofclqukj6vmucx0ai9zl79&sfrom=search_job_pc&curPage=0&pageSize=40&index=25'},\n     'recruiter': {'recruiterName': '张女士',\n      'recruiterTitle': '猎头顾问',\n      'chatted': False,\n      'imId': 'ab85de58bc41b6079df82a630335d146',\n      'imUserType': '2',\n      'recruiterId': 'a7113020c23e14d83ae654ff5fc70253',\n      'recruiterPhoto': '5f8fa3baf6d1ab58476f324908u.png'},\n     'dataInfo': '%7B%22ckId%22%3A%226kgzm7tcrvofclqukj6vmucx0ai9zl79%22%2C%22scene%22%3A%22input%22%2C%22pageSize%22%3A%2240%22%2C%22curPage%22%3A%220%22%2C%22skId%22%3A%226kgzm7tcrvofclqukj6vmucx0ai9zl79%22%2C%22fkId%22%3A%226kgzm7tcrvofclqukj6vmucx0ai9zl79%22%2C%22jobId%22%3A%2249511733%22%2C%22sfrom%22%3A%22search_job_pc%22%2C%22jobKind%22%3A%221%22%2C%22d_curPage%22%3A%220%22%2C%22d_pageSize%22%3A%2240%22%2C%22as_from%22%3A%22search_prime%22%7D',\n     'dataParams': '{\"jobId\":\"49511733\",\"recruiterName\":\"张女士\",\"userId\":\"a7113020c23e14d83ae654ff5fc70253\",\"jobKind\":\"1\",\"imId\":\"ab85de58bc41b6079df82a630335d146\",\"imUserType\":\"2\",\"recruiterPhoto\":\"5f8fa3baf6d1ab58476f324908u.png\"}'},\n    {'comp': {'compLogo': '60e2fe0bf3df194a3c48adb502u.png',\n      'compName': '某知名公司',\n      'compScale': '1-49人',\n      'link': '',\n      'compIndustry': '咨询服务'},\n     'job': {'labels': ['广告策划',\n       '自媒体策划',\n       '新媒体策划',\n       '品牌策划',\n       '文案策划',\n       '营销策划',\n       '广告媒介',\n       '信息流',\n       '自媒体'],\n      'dq': '深圳',\n      'salary': '30-35k',\n      'jobId': '51701231',\n      'refreshTime': '20231219152538',\n      'title': '广告策划总监',\n      'jobKind': '1',\n      'topJob': False,\n      'link': 'https://www.liepin.com/a/51701231.shtml',\n      'requireEduLevel': '统招本科',\n      'advViewFlag': False,\n      'requireWorkYears': '10年以上',\n      'dataPromId': 'd_sfrom=search_prime&d_ckId=null&d_curPage=0&d_pageSize=40&d_headId=null&d_posi=26&skId=6kgzm7tcrvofclqukj6vmucx0ai9zl79&fkId=6kgzm7tcrvofclqukj6vmucx0ai9zl79&ckId=6kgzm7tcrvofclqukj6vmucx0ai9zl79&sfrom=search_job_pc&curPage=0&pageSize=40&index=26'},\n     'recruiter': {'recruiterName': '李女士',\n      'recruiterTitle': '猎头顾问',\n      'chatted': False,\n      'imId': 'bc6e0b05d351a2f34a7a04e7d95591ea',\n      'imUserType': '2',\n      'recruiterId': '43394ab3a1f446f6c88e4f53b675e157',\n      'recruiterPhoto': '628ee232afaf234b9f45ecf201u.jpg'},\n     'dataInfo': '%7B%22ckId%22%3A%226kgzm7tcrvofclqukj6vmucx0ai9zl79%22%2C%22scene%22%3A%22input%22%2C%22pageSize%22%3A%2240%22%2C%22curPage%22%3A%220%22%2C%22skId%22%3A%226kgzm7tcrvofclqukj6vmucx0ai9zl79%22%2C%22fkId%22%3A%226kgzm7tcrvofclqukj6vmucx0ai9zl79%22%2C%22jobId%22%3A%2251701231%22%2C%22sfrom%22%3A%22search_job_pc%22%2C%22jobKind%22%3A%221%22%2C%22d_curPage%22%3A%220%22%2C%22d_pageSize%22%3A%2240%22%2C%22as_from%22%3A%22search_prime%22%7D',\n     'dataParams': '{\"jobId\":\"51701231\",\"recruiterName\":\"李女士\",\"userId\":\"43394ab3a1f446f6c88e4f53b675e157\",\"jobKind\":\"1\",\"imId\":\"bc6e0b05d351a2f34a7a04e7d95591ea\",\"imUserType\":\"2\",\"recruiterPhoto\":\"628ee232afaf234b9f45ecf201u.jpg\"}'},\n    {'comp': {'compId': 8655207,\n      'compStage': '已上市',\n      'compLogo': '5bfe98bd74719df0ac997eb403a.png',\n      'compName': '华扬联众数字技术股份有限公司深圳分公司',\n      'compScale': '100-499人',\n      'link': 'https://www.liepin.com/company/8655207/',\n      'compIndustry': '广告/公关/会展'},\n     'job': {'labels': ['电商策划', '媒介策划', '数据分析'],\n      'dq': '深圳',\n      'salary': '20-30k',\n      'jobId': '49859333',\n      'refreshTime': '20231227144307',\n      'title': '广告策划经理（电商方向）',\n      'jobKind': '2',\n      'topJob': False,\n      'link': 'https://www.liepin.com/job/1949859333.shtml',\n      'requireEduLevel': '统招本科',\n      'advViewFlag': False,\n      'requireWorkYears': '5-10年',\n      'pcOuterLink': '',\n      'h5OuterLink': '',\n      'dataPromId': 'd_sfrom=search_prime&d_ckId=null&d_curPage=0&d_pageSize=40&d_headId=null&d_posi=27&skId=6kgzm7tcrvofclqukj6vmucx0ai9zl79&fkId=6kgzm7tcrvofclqukj6vmucx0ai9zl79&ckId=6kgzm7tcrvofclqukj6vmucx0ai9zl79&sfrom=search_job_pc&curPage=0&pageSize=40&index=27'},\n     'recruiter': {'recruiterName': '李女士',\n      'recruiterTitle': '华扬联众数字技术股份有限公司深圳分公司人力资源总监',\n      'chatted': False,\n      'imId': 'd70b7e4f6f8ad124351ff05530f680dd',\n      'imUserType': '2',\n      'recruiterId': '7c140a5bd2dbdb83a1a4eb0b60e7929a',\n      'recruiterPhoto': '62283fb181a14b00fe4728ed06u.png'},\n     'dataInfo': '%7B%22ckId%22%3A%226kgzm7tcrvofclqukj6vmucx0ai9zl79%22%2C%22scene%22%3A%22input%22%2C%22pageSize%22%3A%2240%22%2C%22curPage%22%3A%220%22%2C%22skId%22%3A%226kgzm7tcrvofclqukj6vmucx0ai9zl79%22%2C%22fkId%22%3A%226kgzm7tcrvofclqukj6vmucx0ai9zl79%22%2C%22jobId%22%3A%2249859333%22%2C%22sfrom%22%3A%22search_job_pc%22%2C%22jobKind%22%3A%222%22%2C%22d_curPage%22%3A%220%22%2C%22d_pageSize%22%3A%2240%22%2C%22as_from%22%3A%22search_prime%22%7D',\n     'dataParams': '{\"jobId\":\"49859333\",\"recruiterName\":\"李女士\",\"userId\":\"7c140a5bd2dbdb83a1a4eb0b60e7929a\",\"jobKind\":\"2\",\"imId\":\"d70b7e4f6f8ad124351ff05530f680dd\",\"imUserType\":\"2\",\"recruiterPhoto\":\"62283fb181a14b00fe4728ed06u.png\"}'},\n    {'comp': {'compStage': '不需要融资',\n      'compLogo': '60e2fe0bf3df194a3c48adb502u.png',\n      'compName': '某深圳互联网公司',\n      'compScale': '1-49人',\n      'link': '',\n      'compIndustry': '互联网'},\n     'job': {'labels': [],\n      'dq': '深圳-福田区',\n      'salary': '18-30k',\n      'jobId': '50030027',\n      'refreshTime': '20231013161522',\n      'title': '广告策划',\n      'jobKind': '1',\n      'topJob': False,\n      'link': 'https://www.liepin.com/a/50030027.shtml',\n      'requireEduLevel': '大专',\n      'advViewFlag': False,\n      'requireWorkYears': '3-5年',\n      'dataPromId': 'd_sfrom=search_prime&d_ckId=null&d_curPage=0&d_pageSize=40&d_headId=null&d_posi=28&skId=6kgzm7tcrvofclqukj6vmucx0ai9zl79&fkId=6kgzm7tcrvofclqukj6vmucx0ai9zl79&ckId=6kgzm7tcrvofclqukj6vmucx0ai9zl79&sfrom=search_job_pc&curPage=0&pageSize=40&index=28'},\n     'recruiter': {'recruiterName': '王女士',\n      'recruiterTitle': '猎头顾问',\n      'chatted': False,\n      'imId': '78438be0efa1e7e9c6229e301a20c3c4',\n      'imUserType': '2',\n      'recruiterId': '92efc77da0b5aff5f8dc44b3b859114a',\n      'recruiterPhoto': '644a0e02f810771827c5aa6208u.jpeg'},\n     'dataInfo': '%7B%22ckId%22%3A%226kgzm7tcrvofclqukj6vmucx0ai9zl79%22%2C%22scene%22%3A%22input%22%2C%22pageSize%22%3A%2240%22%2C%22curPage%22%3A%220%22%2C%22skId%22%3A%226kgzm7tcrvofclqukj6vmucx0ai9zl79%22%2C%22fkId%22%3A%226kgzm7tcrvofclqukj6vmucx0ai9zl79%22%2C%22jobId%22%3A%2250030027%22%2C%22sfrom%22%3A%22search_job_pc%22%2C%22jobKind%22%3A%221%22%2C%22d_curPage%22%3A%220%22%2C%22d_pageSize%22%3A%2240%22%2C%22as_from%22%3A%22search_prime%22%7D',\n     'dataParams': '{\"jobId\":\"50030027\",\"recruiterName\":\"王女士\",\"userId\":\"92efc77da0b5aff5f8dc44b3b859114a\",\"jobKind\":\"1\",\"imId\":\"78438be0efa1e7e9c6229e301a20c3c4\",\"imUserType\":\"2\",\"recruiterPhoto\":\"644a0e02f810771827c5aa6208u.jpeg\"}'},\n    {'comp': {'compId': 13630753,\n      'compLogo': '64d9e62268848c04adf2580402u.png',\n      'compName': '深圳市友乐多媒体有限公司',\n      'compScale': '1-49人',\n      'link': 'https://www.liepin.com/company/13630753/',\n      'compIndustry': '互联网'},\n     'job': {'labels': ['方案输出', '文案策划', '数据整合'],\n      'dq': '深圳-福田区',\n      'salary': '15-25k',\n      'jobId': '60559763',\n      'refreshTime': '20230904184905',\n      'title': '广告策划岗（效果广告）',\n      'jobKind': '2',\n      'topJob': False,\n      'link': 'https://www.liepin.com/job/1960559763.shtml',\n      'requireEduLevel': '学历不限',\n      'advViewFlag': False,\n      'requireWorkYears': '1-3年',\n      'pcOuterLink': '',\n      'h5OuterLink': '',\n      'dataPromId': 'd_sfrom=search_prime&d_ckId=null&d_curPage=0&d_pageSize=40&d_headId=null&d_posi=29&skId=6kgzm7tcrvofclqukj6vmucx0ai9zl79&fkId=6kgzm7tcrvofclqukj6vmucx0ai9zl79&ckId=6kgzm7tcrvofclqukj6vmucx0ai9zl79&sfrom=search_job_pc&curPage=0&pageSize=40&index=29'},\n     'recruiter': {'recruiterName': '丁女士',\n      'recruiterTitle': '商业化运营',\n      'chatted': False,\n      'imId': '52a22727f75bcee94c7b9da341e06feb',\n      'imUserType': '2',\n      'recruiterId': '57ebe4dfe366d2a32c92146db23878ca',\n      'recruiterPhoto': '5f8f9863f6d1ab58476f246a08u.jpg'},\n     'dataInfo': '%7B%22ckId%22%3A%226kgzm7tcrvofclqukj6vmucx0ai9zl79%22%2C%22scene%22%3A%22input%22%2C%22pageSize%22%3A%2240%22%2C%22curPage%22%3A%220%22%2C%22skId%22%3A%226kgzm7tcrvofclqukj6vmucx0ai9zl79%22%2C%22fkId%22%3A%226kgzm7tcrvofclqukj6vmucx0ai9zl79%22%2C%22jobId%22%3A%2260559763%22%2C%22sfrom%22%3A%22search_job_pc%22%2C%22jobKind%22%3A%222%22%2C%22d_curPage%22%3A%220%22%2C%22d_pageSize%22%3A%2240%22%2C%22as_from%22%3A%22search_prime%22%7D',\n     'dataParams': '{\"jobId\":\"60559763\",\"recruiterName\":\"丁女士\",\"userId\":\"57ebe4dfe366d2a32c92146db23878ca\",\"jobKind\":\"2\",\"imId\":\"52a22727f75bcee94c7b9da341e06feb\",\"imUserType\":\"2\",\"recruiterPhoto\":\"5f8f9863f6d1ab58476f246a08u.jpg\"}'},\n    {'comp': {'compId': 12601965,\n      'compStage': '融资未公开',\n      'compLogo': '6046ed3947efeb69daf7de5601u.png',\n      'compName': '九禾视界',\n      'compScale': '1-49人',\n      'link': 'https://www.liepin.com/company/12601965/',\n      'compIndustry': '广播/影视/录音'},\n     'job': {'labels': ['文案策划', '市场策划', '广告/传媒/文化'],\n      'dq': '深圳-福田区',\n      'salary': '8-13k·13薪',\n      'jobId': '36575635',\n      'refreshTime': '20220307103332',\n      'title': '影视广告策划',\n      'jobKind': '2',\n      'topJob': False,\n      'link': 'https://www.liepin.com/job/1936575635.shtml',\n      'requireEduLevel': '大专',\n      'advViewFlag': False,\n      'requireWorkYears': '经验不限',\n      'pcOuterLink': '',\n      'h5OuterLink': '',\n      'dataPromId': 'd_sfrom=search_prime&d_ckId=null&d_curPage=0&d_pageSize=40&d_headId=null&d_posi=30&skId=6kgzm7tcrvofclqukj6vmucx0ai9zl79&fkId=6kgzm7tcrvofclqukj6vmucx0ai9zl79&ckId=6kgzm7tcrvofclqukj6vmucx0ai9zl79&sfrom=search_job_pc&curPage=0&pageSize=40&index=30'},\n     'recruiter': {'recruiterName': '梁女士',\n      'recruiterTitle': '经理',\n      'chatted': False,\n      'imId': 'd4602db328d4920a6bc971ec2e264ed1',\n      'imUserType': '2',\n      'recruiterId': 'f08044da1cfd796c126f7ad1e23ecb16',\n      'recruiterPhoto': '5f8f9863f6d1ab58476f246a08u.jpg'},\n     'dataInfo': '%7B%22ckId%22%3A%226kgzm7tcrvofclqukj6vmucx0ai9zl79%22%2C%22scene%22%3A%22input%22%2C%22pageSize%22%3A%2240%22%2C%22curPage%22%3A%220%22%2C%22skId%22%3A%226kgzm7tcrvofclqukj6vmucx0ai9zl79%22%2C%22fkId%22%3A%226kgzm7tcrvofclqukj6vmucx0ai9zl79%22%2C%22jobId%22%3A%2236575635%22%2C%22sfrom%22%3A%22search_job_pc%22%2C%22jobKind%22%3A%222%22%2C%22d_curPage%22%3A%220%22%2C%22d_pageSize%22%3A%2240%22%2C%22as_from%22%3A%22search_prime%22%7D',\n     'dataParams': '{\"jobId\":\"36575635\",\"recruiterName\":\"梁女士\",\"userId\":\"f08044da1cfd796c126f7ad1e23ecb16\",\"jobKind\":\"2\",\"imId\":\"d4602db328d4920a6bc971ec2e264ed1\",\"imUserType\":\"2\",\"recruiterPhoto\":\"5f8f9863f6d1ab58476f246a08u.jpg\"}'},\n    {'comp': {'compId': 8096536,\n      'compLogo': '61b07937d0458d53c627567e02u.jpg',\n      'compName': '深圳市海川广告有限公司',\n      'compScale': '1-49人',\n      'link': 'https://www.liepin.com/company/8096536/',\n      'compIndustry': '广告/公关/会展'},\n     'job': {'labels': ['品牌策划',\n       '广告策划',\n       '媒介策划',\n       '平面媒体',\n       '新媒体',\n       '广告媒体',\n       '电视媒介',\n       '广告媒介',\n       '广告/传媒/文化'],\n      'dq': '深圳-福田区',\n      'salary': '7-12k·13薪',\n      'jobId': '63406553',\n      'refreshTime': '20231205163459',\n      'title': '广告策划',\n      'jobKind': '2',\n      'topJob': False,\n      'link': 'https://www.liepin.com/job/1963406553.shtml',\n      'requireEduLevel': '大专',\n      'advViewFlag': False,\n      'requireWorkYears': '1-3年',\n      'pcOuterLink': '',\n      'h5OuterLink': '',\n      'dataPromId': 'd_sfrom=search_prime&d_ckId=null&d_curPage=0&d_pageSize=40&d_headId=null&d_posi=31&skId=6kgzm7tcrvofclqukj6vmucx0ai9zl79&fkId=6kgzm7tcrvofclqukj6vmucx0ai9zl79&ckId=6kgzm7tcrvofclqukj6vmucx0ai9zl79&sfrom=search_job_pc&curPage=0&pageSize=40&index=31'},\n     'recruiter': {'recruiterName': '连女士',\n      'recruiterTitle': '人事主管',\n      'chatted': False,\n      'imId': 'f988923720746a5e49617dbcfff3eff9',\n      'imUserType': '2',\n      'recruiterId': '019f4e1c2db7c5af5afc233f57f8bc2c',\n      'recruiterPhoto': '5f8f98648dbe6273dcf8515508u.jpg'},\n     'dataInfo': '%7B%22ckId%22%3A%226kgzm7tcrvofclqukj6vmucx0ai9zl79%22%2C%22scene%22%3A%22input%22%2C%22pageSize%22%3A%2240%22%2C%22curPage%22%3A%220%22%2C%22skId%22%3A%226kgzm7tcrvofclqukj6vmucx0ai9zl79%22%2C%22fkId%22%3A%226kgzm7tcrvofclqukj6vmucx0ai9zl79%22%2C%22jobId%22%3A%2263406553%22%2C%22sfrom%22%3A%22search_job_pc%22%2C%22jobKind%22%3A%222%22%2C%22d_curPage%22%3A%220%22%2C%22d_pageSize%22%3A%2240%22%2C%22as_from%22%3A%22search_prime%22%7D',\n     'dataParams': '{\"jobId\":\"63406553\",\"recruiterName\":\"连女士\",\"userId\":\"019f4e1c2db7c5af5afc233f57f8bc2c\",\"jobKind\":\"2\",\"imId\":\"f988923720746a5e49617dbcfff3eff9\",\"imUserType\":\"2\",\"recruiterPhoto\":\"5f8f98648dbe6273dcf8515508u.jpg\"}'},\n    {'comp': {'compId': 13155323,\n      'compStage': 'A轮',\n      'compLogo': '622c114ed5235a3cb077f01a08u.jpg',\n      'compName': '青橙数科集团',\n      'compScale': '500-999人',\n      'link': 'https://www.liepin.com/company/13155323/',\n      'compIndustry': '互联网'},\n     'job': {'labels': ['自媒体',\n       '营销策划',\n       '文案策划',\n       '新媒体策划',\n       '媒介策划',\n       'KOL',\n       '短视频',\n       '直播媒体',\n       '乙方公司背景',\n       '广告/传媒/文化'],\n      'dq': '深圳-龙岗区',\n      'salary': '15-30k',\n      'jobId': '47986945',\n      'refreshTime': '20230717174544',\n      'title': '广告策划总监',\n      'jobKind': '2',\n      'topJob': False,\n      'link': 'https://www.liepin.com/job/1947986945.shtml',\n      'requireEduLevel': '本科',\n      'advViewFlag': False,\n      'requireWorkYears': '3-5年',\n      'pcOuterLink': '',\n      'h5OuterLink': '',\n      'dataPromId': 'd_sfrom=search_prime&d_ckId=null&d_curPage=0&d_pageSize=40&d_headId=null&d_posi=32&skId=6kgzm7tcrvofclqukj6vmucx0ai9zl79&fkId=6kgzm7tcrvofclqukj6vmucx0ai9zl79&ckId=6kgzm7tcrvofclqukj6vmucx0ai9zl79&sfrom=search_job_pc&curPage=0&pageSize=40&index=32'},\n     'recruiter': {'recruiterName': '李江',\n      'recruiterTitle': '董事长/创始人',\n      'chatted': False,\n      'imId': '1c3fe757750b2f95cb8db5f39dbf4c7c',\n      'imUserType': '2',\n      'recruiterId': 'fca9deff4be2505a2951066a0c6d1a7a',\n      'recruiterPhoto': '622bfbf1cd58e269107c50f705u.png'},\n     'dataInfo': '%7B%22ckId%22%3A%226kgzm7tcrvofclqukj6vmucx0ai9zl79%22%2C%22scene%22%3A%22input%22%2C%22pageSize%22%3A%2240%22%2C%22curPage%22%3A%220%22%2C%22skId%22%3A%226kgzm7tcrvofclqukj6vmucx0ai9zl79%22%2C%22fkId%22%3A%226kgzm7tcrvofclqukj6vmucx0ai9zl79%22%2C%22jobId%22%3A%2247986945%22%2C%22sfrom%22%3A%22search_job_pc%22%2C%22jobKind%22%3A%222%22%2C%22d_curPage%22%3A%220%22%2C%22d_pageSize%22%3A%2240%22%2C%22as_from%22%3A%22search_prime%22%7D',\n     'dataParams': '{\"jobId\":\"47986945\",\"recruiterName\":\"李江\",\"userId\":\"fca9deff4be2505a2951066a0c6d1a7a\",\"jobKind\":\"2\",\"imId\":\"1c3fe757750b2f95cb8db5f39dbf4c7c\",\"imUserType\":\"2\",\"recruiterPhoto\":\"622bfbf1cd58e269107c50f705u.png\"}'},\n    {'comp': {'compStage': '其他',\n      'compLogo': '60e2fe0bf3df194a3c48adb502u.png',\n      'compName': '某深圳广告/公关/会展公司',\n      'compScale': '50-99人',\n      'link': '',\n      'compIndustry': '广告/公关/会展'},\n     'job': {'labels': [],\n      'dq': '深圳-南山区',\n      'salary': '11-16k',\n      'jobId': '50955657',\n      'refreshTime': '20231215005654',\n      'title': '资深广告策划（抖音媒介策略方向）',\n      'jobKind': '1',\n      'topJob': False,\n      'link': 'https://www.liepin.com/a/50955657.shtml',\n      'requireEduLevel': '大专',\n      'advViewFlag': False,\n      'requireWorkYears': '1-3年',\n      'dataPromId': 'd_sfrom=search_prime&d_ckId=null&d_curPage=0&d_pageSize=40&d_headId=null&d_posi=33&skId=6kgzm7tcrvofclqukj6vmucx0ai9zl79&fkId=6kgzm7tcrvofclqukj6vmucx0ai9zl79&ckId=6kgzm7tcrvofclqukj6vmucx0ai9zl79&sfrom=search_job_pc&curPage=0&pageSize=40&index=33'},\n     'recruiter': {'recruiterName': '张女士',\n      'recruiterTitle': '猎头顾问',\n      'chatted': False,\n      'imId': '715e86fd40eab947e4cd5c055e1e05ce',\n      'imUserType': '2',\n      'recruiterId': '7e2c005b863323626f7369cf1c52c4ef',\n      'recruiterPhoto': '5f8fa3bc8dbe6273dcf85e5e08u.png'},\n     'dataInfo': '%7B%22ckId%22%3A%226kgzm7tcrvofclqukj6vmucx0ai9zl79%22%2C%22scene%22%3A%22input%22%2C%22pageSize%22%3A%2240%22%2C%22curPage%22%3A%220%22%2C%22skId%22%3A%226kgzm7tcrvofclqukj6vmucx0ai9zl79%22%2C%22fkId%22%3A%226kgzm7tcrvofclqukj6vmucx0ai9zl79%22%2C%22jobId%22%3A%2250955657%22%2C%22sfrom%22%3A%22search_job_pc%22%2C%22jobKind%22%3A%221%22%2C%22d_curPage%22%3A%220%22%2C%22d_pageSize%22%3A%2240%22%2C%22as_from%22%3A%22search_prime%22%7D',\n     'dataParams': '{\"jobId\":\"50955657\",\"recruiterName\":\"张女士\",\"userId\":\"7e2c005b863323626f7369cf1c52c4ef\",\"jobKind\":\"1\",\"imId\":\"715e86fd40eab947e4cd5c055e1e05ce\",\"imUserType\":\"2\",\"recruiterPhoto\":\"5f8fa3bc8dbe6273dcf85e5e08u.png\"}'},\n    {'comp': {'compLogo': '60e2fe0bf3df194a3c48adb502u.png',\n      'compName': '某深圳电子商务公司',\n      'compScale': '1-49人',\n      'link': '',\n      'compIndustry': '互联网'},\n     'job': {'labels': ['文案策划',\n       '广告策划',\n       '户外媒介',\n       '传统媒介',\n       '广告媒介',\n       '品牌活动',\n       '营销活动',\n       '4A公司背景',\n       'to B',\n       '广告/传媒/文化'],\n      'dq': '深圳-福田区',\n      'salary': '15-25k',\n      'jobId': '49693291',\n      'refreshTime': '20231212153901',\n      'title': '广告策划',\n      'jobKind': '1',\n      'topJob': False,\n      'link': 'https://www.liepin.com/a/49693291.shtml',\n      'requireEduLevel': '统招本科',\n      'advViewFlag': False,\n      'requireWorkYears': '3-5年',\n      'dataPromId': 'd_sfrom=search_prime&d_ckId=null&d_curPage=0&d_pageSize=40&d_headId=null&d_posi=34&skId=6kgzm7tcrvofclqukj6vmucx0ai9zl79&fkId=6kgzm7tcrvofclqukj6vmucx0ai9zl79&ckId=6kgzm7tcrvofclqukj6vmucx0ai9zl79&sfrom=search_job_pc&curPage=0&pageSize=40&index=34'},\n     'recruiter': {'recruiterName': '钟先生',\n      'recruiterTitle': '猎头顾问',\n      'chatted': False,\n      'imId': '164dfa9e21d61f124ec8d2175e04cdc6',\n      'imUserType': '2',\n      'recruiterId': '3babec4b306b3ff6e013cb1f65fc9ace',\n      'recruiterPhoto': '63ff44d3f6f3654cff904bb906u.png'},\n     'dataInfo': '%7B%22ckId%22%3A%226kgzm7tcrvofclqukj6vmucx0ai9zl79%22%2C%22scene%22%3A%22input%22%2C%22pageSize%22%3A%2240%22%2C%22curPage%22%3A%220%22%2C%22skId%22%3A%226kgzm7tcrvofclqukj6vmucx0ai9zl79%22%2C%22fkId%22%3A%226kgzm7tcrvofclqukj6vmucx0ai9zl79%22%2C%22jobId%22%3A%2249693291%22%2C%22sfrom%22%3A%22search_job_pc%22%2C%22jobKind%22%3A%221%22%2C%22d_curPage%22%3A%220%22%2C%22d_pageSize%22%3A%2240%22%2C%22as_from%22%3A%22search_prime%22%7D',\n     'dataParams': '{\"jobId\":\"49693291\",\"recruiterName\":\"钟先生\",\"userId\":\"3babec4b306b3ff6e013cb1f65fc9ace\",\"jobKind\":\"1\",\"imId\":\"164dfa9e21d61f124ec8d2175e04cdc6\",\"imUserType\":\"2\",\"recruiterPhoto\":\"63ff44d3f6f3654cff904bb906u.png\"}'},\n    {'comp': {'compId': 8694606,\n      'compLogo': '5fb245bf4e19660289dedd4e02u.png',\n      'compName': '深圳澳康达',\n      'compScale': '5000-10000人',\n      'link': 'https://www.liepin.com/company/8694606/',\n      'compIndustry': '批发/零售'},\n     'job': {'labels': ['文案策划',\n       '营销策划',\n       '新媒体策划',\n       '公众号',\n       '新媒体',\n       '短视频',\n       '营销活动',\n       '广告/传媒/文化',\n       '房地产/建筑业',\n       'IT/互联网/软件'],\n      'dq': '深圳-罗湖区',\n      'salary': '12-18k',\n      'jobId': '60140379',\n      'refreshTime': '20230916164403',\n      'title': '地产广告策划（甲方自有地产项目）',\n      'jobKind': '2',\n      'topJob': False,\n      'link': 'https://www.liepin.com/job/1960140379.shtml',\n      'requireEduLevel': '大专',\n      'advViewFlag': False,\n      'requireWorkYears': '3-5年',\n      'pcOuterLink': '',\n      'h5OuterLink': '',\n      'dataPromId': 'd_sfrom=search_prime&d_ckId=null&d_curPage=0&d_pageSize=40&d_headId=null&d_posi=35&skId=6kgzm7tcrvofclqukj6vmucx0ai9zl79&fkId=6kgzm7tcrvofclqukj6vmucx0ai9zl79&ckId=6kgzm7tcrvofclqukj6vmucx0ai9zl79&sfrom=search_job_pc&curPage=0&pageSize=40&index=35'},\n     'recruiter': {'recruiterName': '丁先生',\n      'recruiterTitle': '招聘专员',\n      'chatted': False,\n      'imId': '069684043dbe83f1f76fdb90ccba96fb',\n      'imUserType': '2',\n      'recruiterId': '7986580dc73a0c6f2416a646e7294a41',\n      'recruiterPhoto': '5f8f9868f6d1ab58476f24a008u.jpg'},\n     'dataInfo': '%7B%22ckId%22%3A%226kgzm7tcrvofclqukj6vmucx0ai9zl79%22%2C%22scene%22%3A%22input%22%2C%22pageSize%22%3A%2240%22%2C%22curPage%22%3A%220%22%2C%22skId%22%3A%226kgzm7tcrvofclqukj6vmucx0ai9zl79%22%2C%22fkId%22%3A%226kgzm7tcrvofclqukj6vmucx0ai9zl79%22%2C%22jobId%22%3A%2260140379%22%2C%22sfrom%22%3A%22search_job_pc%22%2C%22jobKind%22%3A%222%22%2C%22d_curPage%22%3A%220%22%2C%22d_pageSize%22%3A%2240%22%2C%22as_from%22%3A%22search_prime%22%7D',\n     'dataParams': '{\"jobId\":\"60140379\",\"recruiterName\":\"丁先生\",\"userId\":\"7986580dc73a0c6f2416a646e7294a41\",\"jobKind\":\"2\",\"imId\":\"069684043dbe83f1f76fdb90ccba96fb\",\"imUserType\":\"2\",\"recruiterPhoto\":\"5f8f9868f6d1ab58476f24a008u.jpg\"}'},\n    {'comp': {'compStage': '不需要融资',\n      'compLogo': '60e2fe0bf3df194a3c48adb502u.png',\n      'compName': '某深圳互联网公司',\n      'compScale': '1-49人',\n      'link': '',\n      'compIndustry': '互联网'},\n     'job': {'labels': ['直播策划', 'KOL', 'IT/互联网/软件', '广告/传媒/文化'],\n      'dq': '深圳',\n      'salary': '15-25k',\n      'jobId': '49703519',\n      'refreshTime': '20230926194436',\n      'title': '广告策划',\n      'jobKind': '1',\n      'topJob': False,\n      'link': 'https://www.liepin.com/a/49703519.shtml',\n      'requireEduLevel': '本科',\n      'advViewFlag': False,\n      'requireWorkYears': '5-10年',\n      'dataPromId': 'd_sfrom=search_prime&d_ckId=null&d_curPage=0&d_pageSize=40&d_headId=null&d_posi=36&skId=6kgzm7tcrvofclqukj6vmucx0ai9zl79&fkId=6kgzm7tcrvofclqukj6vmucx0ai9zl79&ckId=6kgzm7tcrvofclqukj6vmucx0ai9zl79&sfrom=search_job_pc&curPage=0&pageSize=40&index=36'},\n     'recruiter': {'recruiterName': '姚女士',\n      'recruiterTitle': '猎头顾问',\n      'chatted': False,\n      'imId': 'df618f74aae78ba67dd12b43f7e9acc1',\n      'imUserType': '2',\n      'recruiterId': '89407a28c9738e84184b5c29e2c3db6e',\n      'recruiterPhoto': '61bc17397be38f14907911e903u.png'},\n     'dataInfo': '%7B%22ckId%22%3A%226kgzm7tcrvofclqukj6vmucx0ai9zl79%22%2C%22scene%22%3A%22input%22%2C%22pageSize%22%3A%2240%22%2C%22curPage%22%3A%220%22%2C%22skId%22%3A%226kgzm7tcrvofclqukj6vmucx0ai9zl79%22%2C%22fkId%22%3A%226kgzm7tcrvofclqukj6vmucx0ai9zl79%22%2C%22jobId%22%3A%2249703519%22%2C%22sfrom%22%3A%22search_job_pc%22%2C%22jobKind%22%3A%221%22%2C%22d_curPage%22%3A%220%22%2C%22d_pageSize%22%3A%2240%22%2C%22as_from%22%3A%22search_prime%22%7D',\n     'dataParams': '{\"jobId\":\"49703519\",\"recruiterName\":\"姚女士\",\"userId\":\"89407a28c9738e84184b5c29e2c3db6e\",\"jobKind\":\"1\",\"imId\":\"df618f74aae78ba67dd12b43f7e9acc1\",\"imUserType\":\"2\",\"recruiterPhoto\":\"61bc17397be38f14907911e903u.png\"}'},\n    {'comp': {'compStage': '其他',\n      'compLogo': '60e2fe0bf3df194a3c48adb502u.png',\n      'compName': '某深圳广告/公关/会展公司',\n      'compScale': '50-99人',\n      'link': '',\n      'compIndustry': '广告/公关/会展'},\n     'job': {'labels': [],\n      'dq': '深圳-南山区',\n      'salary': '11-16k',\n      'jobId': '50564069',\n      'refreshTime': '20231103101536',\n      'title': '资深广告策划（抖音媒介策略方向）',\n      'jobKind': '1',\n      'topJob': False,\n      'link': 'https://www.liepin.com/a/50564069.shtml',\n      'requireEduLevel': '大专',\n      'advViewFlag': False,\n      'requireWorkYears': '1-3年',\n      'dataPromId': 'd_sfrom=search_prime&d_ckId=null&d_curPage=0&d_pageSize=40&d_headId=null&d_posi=37&skId=6kgzm7tcrvofclqukj6vmucx0ai9zl79&fkId=6kgzm7tcrvofclqukj6vmucx0ai9zl79&ckId=6kgzm7tcrvofclqukj6vmucx0ai9zl79&sfrom=search_job_pc&curPage=0&pageSize=40&index=37'},\n     'recruiter': {'recruiterName': '郭先生',\n      'recruiterTitle': '猎头顾问',\n      'chatted': False,\n      'imId': '07543b345257ec59f159f6db4c9d7e16',\n      'imUserType': '2',\n      'recruiterId': '2971b9a3b592c82481ad07d0e93ea75e',\n      'recruiterPhoto': '64a36fec0640975f98abc00505u.png'},\n     'dataInfo': '%7B%22ckId%22%3A%226kgzm7tcrvofclqukj6vmucx0ai9zl79%22%2C%22scene%22%3A%22input%22%2C%22pageSize%22%3A%2240%22%2C%22curPage%22%3A%220%22%2C%22skId%22%3A%226kgzm7tcrvofclqukj6vmucx0ai9zl79%22%2C%22fkId%22%3A%226kgzm7tcrvofclqukj6vmucx0ai9zl79%22%2C%22jobId%22%3A%2250564069%22%2C%22sfrom%22%3A%22search_job_pc%22%2C%22jobKind%22%3A%221%22%2C%22d_curPage%22%3A%220%22%2C%22d_pageSize%22%3A%2240%22%2C%22as_from%22%3A%22search_prime%22%7D',\n     'dataParams': '{\"jobId\":\"50564069\",\"recruiterName\":\"郭先生\",\"userId\":\"2971b9a3b592c82481ad07d0e93ea75e\",\"jobKind\":\"1\",\"imId\":\"07543b345257ec59f159f6db4c9d7e16\",\"imUserType\":\"2\",\"recruiterPhoto\":\"64a36fec0640975f98abc00505u.png\"}'},\n    {'comp': {'compStage': '已上市',\n      'compLogo': '60e2fe0bf3df194a3c48adb502u.png',\n      'compName': '某深圳知名公司',\n      'compScale': '10000人以上',\n      'link': '',\n      'compIndustry': '批发/零售'},\n     'job': {'labels': [],\n      'dq': '深圳',\n      'salary': '22-23k',\n      'jobId': '49458217',\n      'refreshTime': '20230915172955',\n      'title': '广告策划',\n      'jobKind': '1',\n      'topJob': False,\n      'link': 'https://www.liepin.com/a/49458217.shtml',\n      'requireEduLevel': '统招本科',\n      'advViewFlag': False,\n      'requireWorkYears': '3-5年',\n      'dataPromId': 'd_sfrom=search_prime&d_ckId=null&d_curPage=0&d_pageSize=40&d_headId=null&d_posi=38&skId=6kgzm7tcrvofclqukj6vmucx0ai9zl79&fkId=6kgzm7tcrvofclqukj6vmucx0ai9zl79&ckId=6kgzm7tcrvofclqukj6vmucx0ai9zl79&sfrom=search_job_pc&curPage=0&pageSize=40&index=38'},\n     'recruiter': {'recruiterName': '王先生',\n      'recruiterTitle': '猎头顾问',\n      'chatted': False,\n      'imId': '8ff547c88d9d1d78ff5aa8e531f3e699',\n      'imUserType': '2',\n      'recruiterId': '268ad976d8fa5902377adac1ca921a5f',\n      'recruiterPhoto': '5f8fa3a78dbe6273dcf85e2608u.png'},\n     'dataInfo': '%7B%22ckId%22%3A%226kgzm7tcrvofclqukj6vmucx0ai9zl79%22%2C%22scene%22%3A%22input%22%2C%22pageSize%22%3A%2240%22%2C%22curPage%22%3A%220%22%2C%22skId%22%3A%226kgzm7tcrvofclqukj6vmucx0ai9zl79%22%2C%22fkId%22%3A%226kgzm7tcrvofclqukj6vmucx0ai9zl79%22%2C%22jobId%22%3A%2249458217%22%2C%22sfrom%22%3A%22search_job_pc%22%2C%22jobKind%22%3A%221%22%2C%22d_curPage%22%3A%220%22%2C%22d_pageSize%22%3A%2240%22%2C%22as_from%22%3A%22search_prime%22%7D',\n     'dataParams': '{\"jobId\":\"49458217\",\"recruiterName\":\"王先生\",\"userId\":\"268ad976d8fa5902377adac1ca921a5f\",\"jobKind\":\"1\",\"imId\":\"8ff547c88d9d1d78ff5aa8e531f3e699\",\"imUserType\":\"2\",\"recruiterPhoto\":\"5f8fa3a78dbe6273dcf85e2608u.png\"}'},\n    {'comp': {'compId': 8628096,\n      'compStage': '融资未公开',\n      'compLogo': '62eb903a6e5d962a49ed5edf06u.png',\n      'compName': '剧星传媒',\n      'compScale': '500-999人',\n      'link': 'https://www.liepin.com/company/8628096/',\n      'compIndustry': '广告/公关/会展'},\n     'job': {'labels': ['营销策划', '品牌策划', '自媒体策划', '文案策划', '广告/传媒/文化'],\n      'dq': '深圳-南山区',\n      'salary': '9-14k·13薪',\n      'jobId': '56422107',\n      'refreshTime': '20230228161102',\n      'title': '广告策划经理',\n      'jobKind': '2',\n      'topJob': False,\n      'link': 'https://www.liepin.com/job/1956422107.shtml',\n      'requireEduLevel': '本科',\n      'advViewFlag': False,\n      'requireWorkYears': '1-3年',\n      'pcOuterLink': '',\n      'h5OuterLink': '',\n      'dataPromId': 'd_sfrom=search_prime&d_ckId=null&d_curPage=0&d_pageSize=40&d_headId=null&d_posi=39&skId=6kgzm7tcrvofclqukj6vmucx0ai9zl79&fkId=6kgzm7tcrvofclqukj6vmucx0ai9zl79&ckId=6kgzm7tcrvofclqukj6vmucx0ai9zl79&sfrom=search_job_pc&curPage=0&pageSize=40&index=39'},\n     'recruiter': {'recruiterName': '陈女士',\n      'recruiterTitle': '行政主管',\n      'chatted': False,\n      'imId': '8c39725e12c7d3ce649c553ff84e776e',\n      'imUserType': '2',\n      'recruiterId': '83303250e924bdfe55053d1846969ed5',\n      'recruiterPhoto': '5f8f9865ea60860b75384fa508u.jpg'},\n     'dataInfo': '%7B%22ckId%22%3A%226kgzm7tcrvofclqukj6vmucx0ai9zl79%22%2C%22scene%22%3A%22input%22%2C%22pageSize%22%3A%2240%22%2C%22curPage%22%3A%220%22%2C%22skId%22%3A%226kgzm7tcrvofclqukj6vmucx0ai9zl79%22%2C%22fkId%22%3A%226kgzm7tcrvofclqukj6vmucx0ai9zl79%22%2C%22jobId%22%3A%2256422107%22%2C%22sfrom%22%3A%22search_job_pc%22%2C%22jobKind%22%3A%222%22%2C%22d_curPage%22%3A%220%22%2C%22d_pageSize%22%3A%2240%22%2C%22as_from%22%3A%22search_prime%22%7D',\n     'dataParams': '{\"jobId\":\"56422107\",\"recruiterName\":\"陈女士\",\"userId\":\"83303250e924bdfe55053d1846969ed5\",\"jobKind\":\"2\",\"imId\":\"8c39725e12c7d3ce649c553ff84e776e\",\"imUserType\":\"2\",\"recruiterPhoto\":\"5f8f9865ea60860b75384fa508u.jpg\"}'}],\n   'jobSubscribeInfo': {'keyword': '广告策划',\n    'dqName': '深圳',\n    'qrUrl': 'https://mp.weixin.qq.com/cgi-bin/showqrcode?ticket=gQG-8DwAAAAAAAAAAS5odHRwOi8vd2VpeGluLnFxLmNvbS9xLzAyUks1SDF5Rm9jdWoxeUJubE5CY0EAAgQl3YtlAwSAOgkA',\n    'dqCode': '050090',\n    'id': '8dd96830ee2faa52ee629abc04ec2c3c'},\n   'compList': []},\n  'passThroughData': {'ckId': '6kgzm7tcrvofclqukj6vmucx0ai9zl79',\n   'scene': 'input',\n   'skId': '6kgzm7tcrvofclqukj6vmucx0ai9zl79',\n   'fkId': '6kgzm7tcrvofclqukj6vmucx0ai9zl79',\n   'sfrom': 'search_job_pc'},\n  'pagination': {'pageSize': 40,\n   'currentPage': 0,\n   'hasNext': False,\n   'totalPage': 11,\n   'totalCounts': 405}}}"
     },
     "execution_count": 159,
     "metadata": {},
     "output_type": "execute_result"
    }
   ],
   "source": [
    "import time\n",
    "import random\n",
    "wait_time = random.randint(3,10)\n",
    "\n",
    "# payload = payloadd(str(城市),str(关键词),str(学历))\n",
    "payload = payloadd(str(城市),str(关键词))\n",
    "# create an HTML session using Requests-HTML\n",
    "session = HTMLSession()\n",
    "r = session.post(url, data=json.dumps(payload), headers=headers())\n",
    "\n",
    "# extract the JSON data from the response\n",
    "response_data = r.json()\n",
    "\n",
    "# example: print the number of job postings returned\n",
    "response_data"
   ],
   "metadata": {
    "collapsed": false
   }
  },
  {
   "cell_type": "code",
   "execution_count": 160,
   "outputs": [
    {
     "data": {
      "text/plain": "11"
     },
     "execution_count": 160,
     "metadata": {},
     "output_type": "execute_result"
    }
   ],
   "source": [
    "page = response_data['data']['pagination']['totalPage']\n",
    "page"
   ],
   "metadata": {
    "collapsed": false
   }
  },
  {
   "cell_type": "markdown",
   "source": [
    "# 10.翻页获取内容，并组合转为通俗易懂的图表"
   ],
   "metadata": {
    "collapsed": false
   }
  },
  {
   "cell_type": "code",
   "execution_count": 161,
   "outputs": [],
   "source": [
    "import pandas as pd\n",
    "import requests\n",
    "response_df = []\n",
    "for i in range(page): # 需要判断页面的数据有多少页\n",
    "    payload['data']['mainSearchPcConditionForm']['currentPage']=i\n",
    "    r = session.post(url, data=json.dumps(payload), headers=headers())\n",
    "    response_data = r.json()\n",
    "    df = pd.json_normalize(response_data['data']['data']['jobCardList'])\n",
    "    response_df.append(df)\n",
    "    time.sleep(wait_time)"
   ],
   "metadata": {
    "collapsed": false
   }
  },
  {
   "cell_type": "code",
   "execution_count": 162,
   "outputs": [
    {
     "data": {
      "text/plain": "                                             dataInfo  \\\n0   %7B%22jobId%22%3A%2261734531%22%2C%22pageSize%...   \n1   %7B%22jobId%22%3A%2261305325%22%2C%22pageSize%...   \n2   %7B%22jobId%22%3A%2259307981%22%2C%22pageSize%...   \n3   %7B%22jobId%22%3A%2262579301%22%2C%22pageSize%...   \n4   %7B%22jobId%22%3A%2262520763%22%2C%22pageSize%...   \n..                                                ...   \n0   %7B%22jobId%22%3A%2229906743%22%2C%22sfrom%22%...   \n1   %7B%22jobId%22%3A%2224494227%22%2C%22sfrom%22%...   \n2   %7B%22jobId%22%3A%2224103165%22%2C%22sfrom%22%...   \n3   %7B%22jobId%22%3A%2263857701%22%2C%22sfrom%22%...   \n4   %7B%22jobId%22%3A%2251862017%22%2C%22sfrom%22%...   \n\n                                           dataParams  \\\n0   {\"jobId\":\"61734531\",\"imId\":\"faad0b82411156a0c8...   \n1   {\"jobId\":\"61305325\",\"imId\":\"f304423ef2a5285e01...   \n2   {\"jobId\":\"59307981\",\"imId\":\"ac2db93e0f2e1a01cb...   \n3   {\"jobId\":\"62579301\",\"imId\":\"48e96e9d704db9a493...   \n4   {\"jobId\":\"62520763\",\"imId\":\"191455c575ae1a370c...   \n..                                                ...   \n0   {\"jobId\":\"29906743\",\"recruiterName\":\"张先生\",\"use...   \n1   {\"jobId\":\"24494227\",\"recruiterName\":\"陈先生\",\"use...   \n2   {\"jobId\":\"24103165\",\"recruiterName\":\"魏女士\",\"use...   \n3   {\"jobId\":\"63857701\",\"recruiterName\":\"杨女士\",\"use...   \n4   {\"jobId\":\"51862017\",\"recruiterName\":\"寿女士\",\"use...   \n\n                                   comp.link  comp.compId  \\\n0    https://www.liepin.com/company/2034027/    2034027.0   \n1   https://www.liepin.com/company/12582993/   12582993.0   \n2    https://www.liepin.com/company/5767716/    5767716.0   \n3    https://www.liepin.com/company/9322029/    9322029.0   \n4    https://www.liepin.com/company/9322029/    9322029.0   \n..                                       ...          ...   \n0   https://www.liepin.com/company/10065163/   10065163.0   \n1   https://www.liepin.com/company/10242163/   10242163.0   \n2    https://www.liepin.com/company/9982499/    9982499.0   \n3    https://www.liepin.com/company/9859631/    9859631.0   \n4                                                     NaN   \n\n                      comp.compLogo comp.compScale  comp.compName  \\\n0   5bfea5f974719d2aa34cef7003a.png       10000人以上     中国联通广东省分公司   \n1   633155d01daaa21b59cbb72b08u.png       100-499人     深圳思为科技有限公司   \n2   5c6f73c3261c45f0478aa89308u.png     1000-2000人           万兴科技   \n3   5d06ef909fae687d4390e99b07u.png     1000-2000人           石头科技   \n4   5d06ef909fae687d4390e99b07u.png     1000-2000人           石头科技   \n..                              ...            ...            ...   \n0   5e81bed437483e328d6b8a2208u.jpg         50-99人  深圳市明瞳视光科技有限公司   \n1   61b07937d0458d53c627567e02u.jpg          1-49人  深圳市原味餐饮管理有限公司   \n2   61b07937d0458d53c627567e02u.jpg       100-499人   深圳优致健康医药有限公司   \n3   5cc1138077e75824436a6d0a01u.jpg       100-499人  深圳市橙子数字科技有限公司   \n4   60e2fe0bf3df194a3c48adb502u.png                         某知名公司   \n\n   comp.compIndustry                                         job.labels  \\\n0           运营商/增值服务                                         [本科, 市场营销]   \n1                互联网                                               [本科]   \n2              计算机软件                     [本科, 海外运营, 自媒体运营, 社群运营, 新媒体运营]   \n3               智能硬件  [3个月, 提供转正, 本科, 市场营销, 广告策划, 市场策划, 品牌推广, 活动策划, ...   \n4               智能硬件  [3个月, 本科, 市场营销, 活动策划, 广告策划, 市场策划, 品牌推广, 广告媒介, ...   \n..               ...                                                ...   \n0             专业技术服务  [广告创意, 活动执行, 广告制作, 线上推广, 线下推广, 发布会, 品牌活动, 会议策划...   \n1             专业技术服务                                      [新媒体运营, 产品运营]   \n2            在线社交/媒体                     [品牌推广, 市场策划, 市场推广, 广告策划, 广告媒介]   \n3               智能硬件  [营销策划, 品牌策划, 广告策划, 营销活动, 广告媒介, 电子商务, IT/互联网/软件...   \n4              批发/零售                                [品牌运营, 快消品, 甲方公司背景]   \n\n   job.jobId  ...                    recruiter.imId recruiter.imUserType  \\\n0   61734531  ...  faad0b82411156a0c89ef0a44aca9dff                    2   \n1   61305325  ...  f304423ef2a5285e01ab80e4a8b96567                    2   \n2   59307981  ...  ac2db93e0f2e1a01cb0cf015ca0a4162                    2   \n3   62579301  ...  48e96e9d704db9a493bfd302333462b2                    2   \n4   62520763  ...  191455c575ae1a370c6b280bb9c3d043                    2   \n..       ...  ...                               ...                  ...   \n0   29906743  ...  f3ae71e089f485ceac365a663ca833da                    2   \n1   24494227  ...  7d84088f07b7ef7767766a03c68ce883                    2   \n2   24103165  ...  315770088e6304bd99eeb040770b0b48                    2   \n3   63857701  ...  02c94c27ef1986569ccf3dc45f6d7696                    2   \n4   51862017  ...  bf677663fa4e0039c18942ef6f543974                    2   \n\n   recruiter.recruiterName recruiter.recruiterTitle recruiter.chatted  \\\n0                      高先生                                      False   \n1                      张女士              招聘经理、人力资源主管             False   \n2                      梁女士                                      False   \n3                      林女士             人力资源伙伴(HRBP)             False   \n4                      赵女士                       HR             False   \n..                     ...                      ...               ...   \n0                      张先生                   人力资源总监             False   \n1                      陈先生                       经理             False   \n2                      魏女士                     人事经理             False   \n3                      杨女士                     招聘经理             False   \n4                      寿女士                     猎头顾问             False   \n\n               recruiter.recruiterId         recruiter.recruiterPhoto  \\\n0   bcb7928d6e8b9c268880e18a1b0949d3  5f8f9868f6d1ab58476f24a008u.jpg   \n1   95882fc1f90f0a40ca9024d97498e50f  5f8f986779c7cc70efbf36c008u.jpg   \n2   3eefd9d2110c58bc53e7bb8cf5c597fc  5f8f98648dbe6273dcf8515508u.jpg   \n3   d4e8a218795ecb54caca9d199988bf00  617aa8473dba297879e635a302u.png   \n4   c10da0fff96b96df5d9fa4423967d505  5f8f9866dfb13a7dee342f1808u.jpg   \n..                               ...                              ...   \n0   c65aa9c88e51f1d80ea82473c3b8e366  5f8f986bdfb13a7dee342f2108u.jpg   \n1   80d2e5b781f57670a12a93145c62f288  5f8f986c79c7cc70efbf36c808u.jpg   \n2   94da9aded80b461a8f992ab563b4ca4c  5f8f9863f6d1ab58476f246a08u.jpg   \n3   01fe309fca7f50a89628983cee88c292  61108779b154a32ebc3625f903u.png   \n4   d7a271fb1fce9752acfd3903c178d99a  636b24f02bb5c04dfc65c0e006u.png   \n\n   comp.compStage job.requireEduLevel  job.requireWorkYears  \n0             NaN                 NaN                   NaN  \n1              C轮                 NaN                   NaN  \n2           创业板上市                 NaN                   NaN  \n3          沪深A股上市                 NaN                   NaN  \n4          沪深A股上市                 NaN                   NaN  \n..            ...                 ...                   ...  \n0           融资未公开                  大专                  1-3年  \n1           融资未公开                  大专                  1-3年  \n2              A轮                  大专                  3-5年  \n3              B轮                  本科                  3-5年  \n4             NaN                  本科                 10年以上  \n\n[405 rows x 32 columns]",
      "text/html": "<div>\n<style scoped>\n    .dataframe tbody tr th:only-of-type {\n        vertical-align: middle;\n    }\n\n    .dataframe tbody tr th {\n        vertical-align: top;\n    }\n\n    .dataframe thead th {\n        text-align: right;\n    }\n</style>\n<table border=\"1\" class=\"dataframe\">\n  <thead>\n    <tr style=\"text-align: right;\">\n      <th></th>\n      <th>dataInfo</th>\n      <th>dataParams</th>\n      <th>comp.link</th>\n      <th>comp.compId</th>\n      <th>comp.compLogo</th>\n      <th>comp.compScale</th>\n      <th>comp.compName</th>\n      <th>comp.compIndustry</th>\n      <th>job.labels</th>\n      <th>job.jobId</th>\n      <th>...</th>\n      <th>recruiter.imId</th>\n      <th>recruiter.imUserType</th>\n      <th>recruiter.recruiterName</th>\n      <th>recruiter.recruiterTitle</th>\n      <th>recruiter.chatted</th>\n      <th>recruiter.recruiterId</th>\n      <th>recruiter.recruiterPhoto</th>\n      <th>comp.compStage</th>\n      <th>job.requireEduLevel</th>\n      <th>job.requireWorkYears</th>\n    </tr>\n  </thead>\n  <tbody>\n    <tr>\n      <th>0</th>\n      <td>%7B%22jobId%22%3A%2261734531%22%2C%22pageSize%...</td>\n      <td>{\"jobId\":\"61734531\",\"imId\":\"faad0b82411156a0c8...</td>\n      <td>https://www.liepin.com/company/2034027/</td>\n      <td>2034027.0</td>\n      <td>5bfea5f974719d2aa34cef7003a.png</td>\n      <td>10000人以上</td>\n      <td>中国联通广东省分公司</td>\n      <td>运营商/增值服务</td>\n      <td>[本科, 市场营销]</td>\n      <td>61734531</td>\n      <td>...</td>\n      <td>faad0b82411156a0c89ef0a44aca9dff</td>\n      <td>2</td>\n      <td>高先生</td>\n      <td></td>\n      <td>False</td>\n      <td>bcb7928d6e8b9c268880e18a1b0949d3</td>\n      <td>5f8f9868f6d1ab58476f24a008u.jpg</td>\n      <td>NaN</td>\n      <td>NaN</td>\n      <td>NaN</td>\n    </tr>\n    <tr>\n      <th>1</th>\n      <td>%7B%22jobId%22%3A%2261305325%22%2C%22pageSize%...</td>\n      <td>{\"jobId\":\"61305325\",\"imId\":\"f304423ef2a5285e01...</td>\n      <td>https://www.liepin.com/company/12582993/</td>\n      <td>12582993.0</td>\n      <td>633155d01daaa21b59cbb72b08u.png</td>\n      <td>100-499人</td>\n      <td>深圳思为科技有限公司</td>\n      <td>互联网</td>\n      <td>[本科]</td>\n      <td>61305325</td>\n      <td>...</td>\n      <td>f304423ef2a5285e01ab80e4a8b96567</td>\n      <td>2</td>\n      <td>张女士</td>\n      <td>招聘经理、人力资源主管</td>\n      <td>False</td>\n      <td>95882fc1f90f0a40ca9024d97498e50f</td>\n      <td>5f8f986779c7cc70efbf36c008u.jpg</td>\n      <td>C轮</td>\n      <td>NaN</td>\n      <td>NaN</td>\n    </tr>\n    <tr>\n      <th>2</th>\n      <td>%7B%22jobId%22%3A%2259307981%22%2C%22pageSize%...</td>\n      <td>{\"jobId\":\"59307981\",\"imId\":\"ac2db93e0f2e1a01cb...</td>\n      <td>https://www.liepin.com/company/5767716/</td>\n      <td>5767716.0</td>\n      <td>5c6f73c3261c45f0478aa89308u.png</td>\n      <td>1000-2000人</td>\n      <td>万兴科技</td>\n      <td>计算机软件</td>\n      <td>[本科, 海外运营, 自媒体运营, 社群运营, 新媒体运营]</td>\n      <td>59307981</td>\n      <td>...</td>\n      <td>ac2db93e0f2e1a01cb0cf015ca0a4162</td>\n      <td>2</td>\n      <td>梁女士</td>\n      <td></td>\n      <td>False</td>\n      <td>3eefd9d2110c58bc53e7bb8cf5c597fc</td>\n      <td>5f8f98648dbe6273dcf8515508u.jpg</td>\n      <td>创业板上市</td>\n      <td>NaN</td>\n      <td>NaN</td>\n    </tr>\n    <tr>\n      <th>3</th>\n      <td>%7B%22jobId%22%3A%2262579301%22%2C%22pageSize%...</td>\n      <td>{\"jobId\":\"62579301\",\"imId\":\"48e96e9d704db9a493...</td>\n      <td>https://www.liepin.com/company/9322029/</td>\n      <td>9322029.0</td>\n      <td>5d06ef909fae687d4390e99b07u.png</td>\n      <td>1000-2000人</td>\n      <td>石头科技</td>\n      <td>智能硬件</td>\n      <td>[3个月, 提供转正, 本科, 市场营销, 广告策划, 市场策划, 品牌推广, 活动策划, ...</td>\n      <td>62579301</td>\n      <td>...</td>\n      <td>48e96e9d704db9a493bfd302333462b2</td>\n      <td>2</td>\n      <td>林女士</td>\n      <td>人力资源伙伴(HRBP)</td>\n      <td>False</td>\n      <td>d4e8a218795ecb54caca9d199988bf00</td>\n      <td>617aa8473dba297879e635a302u.png</td>\n      <td>沪深A股上市</td>\n      <td>NaN</td>\n      <td>NaN</td>\n    </tr>\n    <tr>\n      <th>4</th>\n      <td>%7B%22jobId%22%3A%2262520763%22%2C%22pageSize%...</td>\n      <td>{\"jobId\":\"62520763\",\"imId\":\"191455c575ae1a370c...</td>\n      <td>https://www.liepin.com/company/9322029/</td>\n      <td>9322029.0</td>\n      <td>5d06ef909fae687d4390e99b07u.png</td>\n      <td>1000-2000人</td>\n      <td>石头科技</td>\n      <td>智能硬件</td>\n      <td>[3个月, 本科, 市场营销, 活动策划, 广告策划, 市场策划, 品牌推广, 广告媒介, ...</td>\n      <td>62520763</td>\n      <td>...</td>\n      <td>191455c575ae1a370c6b280bb9c3d043</td>\n      <td>2</td>\n      <td>赵女士</td>\n      <td>HR</td>\n      <td>False</td>\n      <td>c10da0fff96b96df5d9fa4423967d505</td>\n      <td>5f8f9866dfb13a7dee342f1808u.jpg</td>\n      <td>沪深A股上市</td>\n      <td>NaN</td>\n      <td>NaN</td>\n    </tr>\n    <tr>\n      <th>...</th>\n      <td>...</td>\n      <td>...</td>\n      <td>...</td>\n      <td>...</td>\n      <td>...</td>\n      <td>...</td>\n      <td>...</td>\n      <td>...</td>\n      <td>...</td>\n      <td>...</td>\n      <td>...</td>\n      <td>...</td>\n      <td>...</td>\n      <td>...</td>\n      <td>...</td>\n      <td>...</td>\n      <td>...</td>\n      <td>...</td>\n      <td>...</td>\n      <td>...</td>\n      <td>...</td>\n    </tr>\n    <tr>\n      <th>0</th>\n      <td>%7B%22jobId%22%3A%2229906743%22%2C%22sfrom%22%...</td>\n      <td>{\"jobId\":\"29906743\",\"recruiterName\":\"张先生\",\"use...</td>\n      <td>https://www.liepin.com/company/10065163/</td>\n      <td>10065163.0</td>\n      <td>5e81bed437483e328d6b8a2208u.jpg</td>\n      <td>50-99人</td>\n      <td>深圳市明瞳视光科技有限公司</td>\n      <td>专业技术服务</td>\n      <td>[广告创意, 活动执行, 广告制作, 线上推广, 线下推广, 发布会, 品牌活动, 会议策划...</td>\n      <td>29906743</td>\n      <td>...</td>\n      <td>f3ae71e089f485ceac365a663ca833da</td>\n      <td>2</td>\n      <td>张先生</td>\n      <td>人力资源总监</td>\n      <td>False</td>\n      <td>c65aa9c88e51f1d80ea82473c3b8e366</td>\n      <td>5f8f986bdfb13a7dee342f2108u.jpg</td>\n      <td>融资未公开</td>\n      <td>大专</td>\n      <td>1-3年</td>\n    </tr>\n    <tr>\n      <th>1</th>\n      <td>%7B%22jobId%22%3A%2224494227%22%2C%22sfrom%22%...</td>\n      <td>{\"jobId\":\"24494227\",\"recruiterName\":\"陈先生\",\"use...</td>\n      <td>https://www.liepin.com/company/10242163/</td>\n      <td>10242163.0</td>\n      <td>61b07937d0458d53c627567e02u.jpg</td>\n      <td>1-49人</td>\n      <td>深圳市原味餐饮管理有限公司</td>\n      <td>专业技术服务</td>\n      <td>[新媒体运营, 产品运营]</td>\n      <td>24494227</td>\n      <td>...</td>\n      <td>7d84088f07b7ef7767766a03c68ce883</td>\n      <td>2</td>\n      <td>陈先生</td>\n      <td>经理</td>\n      <td>False</td>\n      <td>80d2e5b781f57670a12a93145c62f288</td>\n      <td>5f8f986c79c7cc70efbf36c808u.jpg</td>\n      <td>融资未公开</td>\n      <td>大专</td>\n      <td>1-3年</td>\n    </tr>\n    <tr>\n      <th>2</th>\n      <td>%7B%22jobId%22%3A%2224103165%22%2C%22sfrom%22%...</td>\n      <td>{\"jobId\":\"24103165\",\"recruiterName\":\"魏女士\",\"use...</td>\n      <td>https://www.liepin.com/company/9982499/</td>\n      <td>9982499.0</td>\n      <td>61b07937d0458d53c627567e02u.jpg</td>\n      <td>100-499人</td>\n      <td>深圳优致健康医药有限公司</td>\n      <td>在线社交/媒体</td>\n      <td>[品牌推广, 市场策划, 市场推广, 广告策划, 广告媒介]</td>\n      <td>24103165</td>\n      <td>...</td>\n      <td>315770088e6304bd99eeb040770b0b48</td>\n      <td>2</td>\n      <td>魏女士</td>\n      <td>人事经理</td>\n      <td>False</td>\n      <td>94da9aded80b461a8f992ab563b4ca4c</td>\n      <td>5f8f9863f6d1ab58476f246a08u.jpg</td>\n      <td>A轮</td>\n      <td>大专</td>\n      <td>3-5年</td>\n    </tr>\n    <tr>\n      <th>3</th>\n      <td>%7B%22jobId%22%3A%2263857701%22%2C%22sfrom%22%...</td>\n      <td>{\"jobId\":\"63857701\",\"recruiterName\":\"杨女士\",\"use...</td>\n      <td>https://www.liepin.com/company/9859631/</td>\n      <td>9859631.0</td>\n      <td>5cc1138077e75824436a6d0a01u.jpg</td>\n      <td>100-499人</td>\n      <td>深圳市橙子数字科技有限公司</td>\n      <td>智能硬件</td>\n      <td>[营销策划, 品牌策划, 广告策划, 营销活动, 广告媒介, 电子商务, IT/互联网/软件...</td>\n      <td>63857701</td>\n      <td>...</td>\n      <td>02c94c27ef1986569ccf3dc45f6d7696</td>\n      <td>2</td>\n      <td>杨女士</td>\n      <td>招聘经理</td>\n      <td>False</td>\n      <td>01fe309fca7f50a89628983cee88c292</td>\n      <td>61108779b154a32ebc3625f903u.png</td>\n      <td>B轮</td>\n      <td>本科</td>\n      <td>3-5年</td>\n    </tr>\n    <tr>\n      <th>4</th>\n      <td>%7B%22jobId%22%3A%2251862017%22%2C%22sfrom%22%...</td>\n      <td>{\"jobId\":\"51862017\",\"recruiterName\":\"寿女士\",\"use...</td>\n      <td></td>\n      <td>NaN</td>\n      <td>60e2fe0bf3df194a3c48adb502u.png</td>\n      <td></td>\n      <td>某知名公司</td>\n      <td>批发/零售</td>\n      <td>[品牌运营, 快消品, 甲方公司背景]</td>\n      <td>51862017</td>\n      <td>...</td>\n      <td>bf677663fa4e0039c18942ef6f543974</td>\n      <td>2</td>\n      <td>寿女士</td>\n      <td>猎头顾问</td>\n      <td>False</td>\n      <td>d7a271fb1fce9752acfd3903c178d99a</td>\n      <td>636b24f02bb5c04dfc65c0e006u.png</td>\n      <td>NaN</td>\n      <td>本科</td>\n      <td>10年以上</td>\n    </tr>\n  </tbody>\n</table>\n<p>405 rows × 32 columns</p>\n</div>"
     },
     "execution_count": 162,
     "metadata": {},
     "output_type": "execute_result"
    }
   ],
   "source": [
    "df = pd.concat(response_df)\n",
    "df"
   ],
   "metadata": {
    "collapsed": false
   }
  },
  {
   "cell_type": "markdown",
   "source": [
    "# 11.将输入的数据赋值，来为输出图表命名"
   ],
   "metadata": {
    "collapsed": false
   }
  },
  {
   "cell_type": "code",
   "execution_count": 163,
   "outputs": [
    {
     "data": {
      "text/plain": "'广告策划'"
     },
     "execution_count": 163,
     "metadata": {},
     "output_type": "execute_result"
    }
   ],
   "source": [
    "key = payload['data']['mainSearchPcConditionForm']['key']\n",
    "key"
   ],
   "metadata": {
    "collapsed": false
   }
  },
  {
   "cell_type": "code",
   "execution_count": 164,
   "outputs": [
    {
     "data": {
      "text/plain": "'深圳'"
     },
     "execution_count": 164,
     "metadata": {},
     "output_type": "execute_result"
    }
   ],
   "source": [
    "cities = str(城市)\n",
    "cities"
   ],
   "metadata": {
    "collapsed": false
   }
  },
  {
   "cell_type": "markdown",
   "source": [
    "# 12.加入时间戳"
   ],
   "metadata": {
    "collapsed": false
   }
  },
  {
   "cell_type": "code",
   "execution_count": 165,
   "outputs": [
    {
     "data": {
      "text/plain": "'2023-12-27'"
     },
     "execution_count": 165,
     "metadata": {},
     "output_type": "execute_result"
    }
   ],
   "source": [
    "import time\n",
    "time.localtime()\n",
    "output_time = str(time.localtime().tm_year)+'-'\\\n",
    "              +str(time.localtime().tm_mon)+'-'\\\n",
    "             +str(time.localtime().tm_mday)\n",
    "output_time\n"
   ],
   "metadata": {
    "collapsed": false
   }
  },
  {
   "cell_type": "code",
   "execution_count": 166,
   "outputs": [],
   "source": [
    "import os\n",
    "\n",
    "folder_name = f\"excels/{cities}/{key}/{output_time}\"\n",
    "os.makedirs(folder_name, exist_ok=True)"
   ],
   "metadata": {
    "collapsed": false
   }
  },
  {
   "cell_type": "markdown",
   "source": [
    "# 13.输出为excel"
   ],
   "metadata": {
    "collapsed": false
   }
  },
  {
   "cell_type": "code",
   "execution_count": 167,
   "outputs": [],
   "source": [
    "df.to_excel(f'excels/{cities}/{key}/{output_time}/猎聘{cities}-{key}-{output_time}.xlsx')"
   ],
   "metadata": {
    "collapsed": false
   }
  },
  {
   "cell_type": "markdown",
   "source": [
    "# 14.读取excel"
   ],
   "metadata": {
    "collapsed": false
   }
  },
  {
   "cell_type": "code",
   "execution_count": 168,
   "outputs": [],
   "source": [
    "import pandas as pd"
   ],
   "metadata": {
    "collapsed": false
   }
  },
  {
   "cell_type": "code",
   "execution_count": 169,
   "outputs": [
    {
     "data": {
      "text/plain": "     Unnamed: 0                                           dataInfo  \\\n0             0  %7B%22jobId%22%3A%2261734531%22%2C%22pageSize%...   \n1             1  %7B%22jobId%22%3A%2261305325%22%2C%22pageSize%...   \n2             2  %7B%22jobId%22%3A%2259307981%22%2C%22pageSize%...   \n3             3  %7B%22jobId%22%3A%2262579301%22%2C%22pageSize%...   \n4             4  %7B%22jobId%22%3A%2262520763%22%2C%22pageSize%...   \n..          ...                                                ...   \n400           0  %7B%22jobId%22%3A%2229906743%22%2C%22sfrom%22%...   \n401           1  %7B%22jobId%22%3A%2224494227%22%2C%22sfrom%22%...   \n402           2  %7B%22jobId%22%3A%2224103165%22%2C%22sfrom%22%...   \n403           3  %7B%22jobId%22%3A%2263857701%22%2C%22sfrom%22%...   \n404           4  %7B%22jobId%22%3A%2251862017%22%2C%22sfrom%22%...   \n\n                                            dataParams  \\\n0    {\"jobId\":\"61734531\",\"imId\":\"faad0b82411156a0c8...   \n1    {\"jobId\":\"61305325\",\"imId\":\"f304423ef2a5285e01...   \n2    {\"jobId\":\"59307981\",\"imId\":\"ac2db93e0f2e1a01cb...   \n3    {\"jobId\":\"62579301\",\"imId\":\"48e96e9d704db9a493...   \n4    {\"jobId\":\"62520763\",\"imId\":\"191455c575ae1a370c...   \n..                                                 ...   \n400  {\"jobId\":\"29906743\",\"recruiterName\":\"张先生\",\"use...   \n401  {\"jobId\":\"24494227\",\"recruiterName\":\"陈先生\",\"use...   \n402  {\"jobId\":\"24103165\",\"recruiterName\":\"魏女士\",\"use...   \n403  {\"jobId\":\"63857701\",\"recruiterName\":\"杨女士\",\"use...   \n404  {\"jobId\":\"51862017\",\"recruiterName\":\"寿女士\",\"use...   \n\n                                    comp.link  comp.compId  \\\n0     https://www.liepin.com/company/2034027/    2034027.0   \n1    https://www.liepin.com/company/12582993/   12582993.0   \n2     https://www.liepin.com/company/5767716/    5767716.0   \n3     https://www.liepin.com/company/9322029/    9322029.0   \n4     https://www.liepin.com/company/9322029/    9322029.0   \n..                                        ...          ...   \n400  https://www.liepin.com/company/10065163/   10065163.0   \n401  https://www.liepin.com/company/10242163/   10242163.0   \n402   https://www.liepin.com/company/9982499/    9982499.0   \n403   https://www.liepin.com/company/9859631/    9859631.0   \n404                                       NaN          NaN   \n\n                       comp.compLogo comp.compScale  comp.compName  \\\n0    5bfea5f974719d2aa34cef7003a.png       10000人以上     中国联通广东省分公司   \n1    633155d01daaa21b59cbb72b08u.png       100-499人     深圳思为科技有限公司   \n2    5c6f73c3261c45f0478aa89308u.png     1000-2000人           万兴科技   \n3    5d06ef909fae687d4390e99b07u.png     1000-2000人           石头科技   \n4    5d06ef909fae687d4390e99b07u.png     1000-2000人           石头科技   \n..                               ...            ...            ...   \n400  5e81bed437483e328d6b8a2208u.jpg         50-99人  深圳市明瞳视光科技有限公司   \n401  61b07937d0458d53c627567e02u.jpg          1-49人  深圳市原味餐饮管理有限公司   \n402  61b07937d0458d53c627567e02u.jpg       100-499人   深圳优致健康医药有限公司   \n403  5cc1138077e75824436a6d0a01u.jpg       100-499人  深圳市橙子数字科技有限公司   \n404  60e2fe0bf3df194a3c48adb502u.png            NaN          某知名公司   \n\n    comp.compIndustry                                         job.labels  ...  \\\n0            运营商/增值服务                                     ['本科', '市场营销']  ...   \n1                 互联网                                             ['本科']  ...   \n2               计算机软件           ['本科', '海外运营', '自媒体运营', '社群运营', '新媒体运营']  ...   \n3                智能硬件  ['3个月', '提供转正', '本科', '市场营销', '广告策划', '市场策划', ...  ...   \n4                智能硬件  ['3个月', '本科', '市场营销', '活动策划', '广告策划', '市场策划', ...  ...   \n..                ...                                                ...  ...   \n400            专业技术服务  ['广告创意', '活动执行', '广告制作', '线上推广', '线下推广', '发布会'...  ...   \n401            专业技术服务                                  ['新媒体运营', '产品运营']  ...   \n402           在线社交/媒体           ['品牌推广', '市场策划', '市场推广', '广告策划', '广告媒介']  ...   \n403              智能硬件  ['营销策划', '品牌策划', '广告策划', '营销活动', '广告媒介', '电子商务...  ...   \n404             批发/零售                          ['品牌运营', '快消品', '甲方公司背景']  ...   \n\n                       recruiter.imId  recruiter.imUserType  \\\n0    faad0b82411156a0c89ef0a44aca9dff                     2   \n1    f304423ef2a5285e01ab80e4a8b96567                     2   \n2    ac2db93e0f2e1a01cb0cf015ca0a4162                     2   \n3    48e96e9d704db9a493bfd302333462b2                     2   \n4    191455c575ae1a370c6b280bb9c3d043                     2   \n..                                ...                   ...   \n400  f3ae71e089f485ceac365a663ca833da                     2   \n401  7d84088f07b7ef7767766a03c68ce883                     2   \n402  315770088e6304bd99eeb040770b0b48                     2   \n403  02c94c27ef1986569ccf3dc45f6d7696                     2   \n404  bf677663fa4e0039c18942ef6f543974                     2   \n\n    recruiter.recruiterName  recruiter.recruiterTitle recruiter.chatted  \\\n0                       高先生                       NaN             False   \n1                       张女士               招聘经理、人力资源主管             False   \n2                       梁女士                       NaN             False   \n3                       林女士              人力资源伙伴(HRBP)             False   \n4                       赵女士                        HR             False   \n..                      ...                       ...               ...   \n400                     张先生                    人力资源总监             False   \n401                     陈先生                        经理             False   \n402                     魏女士                      人事经理             False   \n403                     杨女士                      招聘经理             False   \n404                     寿女士                      猎头顾问             False   \n\n                recruiter.recruiterId         recruiter.recruiterPhoto  \\\n0    bcb7928d6e8b9c268880e18a1b0949d3  5f8f9868f6d1ab58476f24a008u.jpg   \n1    95882fc1f90f0a40ca9024d97498e50f  5f8f986779c7cc70efbf36c008u.jpg   \n2    3eefd9d2110c58bc53e7bb8cf5c597fc  5f8f98648dbe6273dcf8515508u.jpg   \n3    d4e8a218795ecb54caca9d199988bf00  617aa8473dba297879e635a302u.png   \n4    c10da0fff96b96df5d9fa4423967d505  5f8f9866dfb13a7dee342f1808u.jpg   \n..                                ...                              ...   \n400  c65aa9c88e51f1d80ea82473c3b8e366  5f8f986bdfb13a7dee342f2108u.jpg   \n401  80d2e5b781f57670a12a93145c62f288  5f8f986c79c7cc70efbf36c808u.jpg   \n402  94da9aded80b461a8f992ab563b4ca4c  5f8f9863f6d1ab58476f246a08u.jpg   \n403  01fe309fca7f50a89628983cee88c292  61108779b154a32ebc3625f903u.png   \n404  d7a271fb1fce9752acfd3903c178d99a  636b24f02bb5c04dfc65c0e006u.png   \n\n     comp.compStage job.requireEduLevel job.requireWorkYears  \n0               NaN                 NaN                  NaN  \n1                C轮                 NaN                  NaN  \n2             创业板上市                 NaN                  NaN  \n3            沪深A股上市                 NaN                  NaN  \n4            沪深A股上市                 NaN                  NaN  \n..              ...                 ...                  ...  \n400           融资未公开                  大专                 1-3年  \n401           融资未公开                  大专                 1-3年  \n402              A轮                  大专                 3-5年  \n403              B轮                  本科                 3-5年  \n404             NaN                  本科                10年以上  \n\n[405 rows x 33 columns]",
      "text/html": "<div>\n<style scoped>\n    .dataframe tbody tr th:only-of-type {\n        vertical-align: middle;\n    }\n\n    .dataframe tbody tr th {\n        vertical-align: top;\n    }\n\n    .dataframe thead th {\n        text-align: right;\n    }\n</style>\n<table border=\"1\" class=\"dataframe\">\n  <thead>\n    <tr style=\"text-align: right;\">\n      <th></th>\n      <th>Unnamed: 0</th>\n      <th>dataInfo</th>\n      <th>dataParams</th>\n      <th>comp.link</th>\n      <th>comp.compId</th>\n      <th>comp.compLogo</th>\n      <th>comp.compScale</th>\n      <th>comp.compName</th>\n      <th>comp.compIndustry</th>\n      <th>job.labels</th>\n      <th>...</th>\n      <th>recruiter.imId</th>\n      <th>recruiter.imUserType</th>\n      <th>recruiter.recruiterName</th>\n      <th>recruiter.recruiterTitle</th>\n      <th>recruiter.chatted</th>\n      <th>recruiter.recruiterId</th>\n      <th>recruiter.recruiterPhoto</th>\n      <th>comp.compStage</th>\n      <th>job.requireEduLevel</th>\n      <th>job.requireWorkYears</th>\n    </tr>\n  </thead>\n  <tbody>\n    <tr>\n      <th>0</th>\n      <td>0</td>\n      <td>%7B%22jobId%22%3A%2261734531%22%2C%22pageSize%...</td>\n      <td>{\"jobId\":\"61734531\",\"imId\":\"faad0b82411156a0c8...</td>\n      <td>https://www.liepin.com/company/2034027/</td>\n      <td>2034027.0</td>\n      <td>5bfea5f974719d2aa34cef7003a.png</td>\n      <td>10000人以上</td>\n      <td>中国联通广东省分公司</td>\n      <td>运营商/增值服务</td>\n      <td>['本科', '市场营销']</td>\n      <td>...</td>\n      <td>faad0b82411156a0c89ef0a44aca9dff</td>\n      <td>2</td>\n      <td>高先生</td>\n      <td>NaN</td>\n      <td>False</td>\n      <td>bcb7928d6e8b9c268880e18a1b0949d3</td>\n      <td>5f8f9868f6d1ab58476f24a008u.jpg</td>\n      <td>NaN</td>\n      <td>NaN</td>\n      <td>NaN</td>\n    </tr>\n    <tr>\n      <th>1</th>\n      <td>1</td>\n      <td>%7B%22jobId%22%3A%2261305325%22%2C%22pageSize%...</td>\n      <td>{\"jobId\":\"61305325\",\"imId\":\"f304423ef2a5285e01...</td>\n      <td>https://www.liepin.com/company/12582993/</td>\n      <td>12582993.0</td>\n      <td>633155d01daaa21b59cbb72b08u.png</td>\n      <td>100-499人</td>\n      <td>深圳思为科技有限公司</td>\n      <td>互联网</td>\n      <td>['本科']</td>\n      <td>...</td>\n      <td>f304423ef2a5285e01ab80e4a8b96567</td>\n      <td>2</td>\n      <td>张女士</td>\n      <td>招聘经理、人力资源主管</td>\n      <td>False</td>\n      <td>95882fc1f90f0a40ca9024d97498e50f</td>\n      <td>5f8f986779c7cc70efbf36c008u.jpg</td>\n      <td>C轮</td>\n      <td>NaN</td>\n      <td>NaN</td>\n    </tr>\n    <tr>\n      <th>2</th>\n      <td>2</td>\n      <td>%7B%22jobId%22%3A%2259307981%22%2C%22pageSize%...</td>\n      <td>{\"jobId\":\"59307981\",\"imId\":\"ac2db93e0f2e1a01cb...</td>\n      <td>https://www.liepin.com/company/5767716/</td>\n      <td>5767716.0</td>\n      <td>5c6f73c3261c45f0478aa89308u.png</td>\n      <td>1000-2000人</td>\n      <td>万兴科技</td>\n      <td>计算机软件</td>\n      <td>['本科', '海外运营', '自媒体运营', '社群运营', '新媒体运营']</td>\n      <td>...</td>\n      <td>ac2db93e0f2e1a01cb0cf015ca0a4162</td>\n      <td>2</td>\n      <td>梁女士</td>\n      <td>NaN</td>\n      <td>False</td>\n      <td>3eefd9d2110c58bc53e7bb8cf5c597fc</td>\n      <td>5f8f98648dbe6273dcf8515508u.jpg</td>\n      <td>创业板上市</td>\n      <td>NaN</td>\n      <td>NaN</td>\n    </tr>\n    <tr>\n      <th>3</th>\n      <td>3</td>\n      <td>%7B%22jobId%22%3A%2262579301%22%2C%22pageSize%...</td>\n      <td>{\"jobId\":\"62579301\",\"imId\":\"48e96e9d704db9a493...</td>\n      <td>https://www.liepin.com/company/9322029/</td>\n      <td>9322029.0</td>\n      <td>5d06ef909fae687d4390e99b07u.png</td>\n      <td>1000-2000人</td>\n      <td>石头科技</td>\n      <td>智能硬件</td>\n      <td>['3个月', '提供转正', '本科', '市场营销', '广告策划', '市场策划', ...</td>\n      <td>...</td>\n      <td>48e96e9d704db9a493bfd302333462b2</td>\n      <td>2</td>\n      <td>林女士</td>\n      <td>人力资源伙伴(HRBP)</td>\n      <td>False</td>\n      <td>d4e8a218795ecb54caca9d199988bf00</td>\n      <td>617aa8473dba297879e635a302u.png</td>\n      <td>沪深A股上市</td>\n      <td>NaN</td>\n      <td>NaN</td>\n    </tr>\n    <tr>\n      <th>4</th>\n      <td>4</td>\n      <td>%7B%22jobId%22%3A%2262520763%22%2C%22pageSize%...</td>\n      <td>{\"jobId\":\"62520763\",\"imId\":\"191455c575ae1a370c...</td>\n      <td>https://www.liepin.com/company/9322029/</td>\n      <td>9322029.0</td>\n      <td>5d06ef909fae687d4390e99b07u.png</td>\n      <td>1000-2000人</td>\n      <td>石头科技</td>\n      <td>智能硬件</td>\n      <td>['3个月', '本科', '市场营销', '活动策划', '广告策划', '市场策划', ...</td>\n      <td>...</td>\n      <td>191455c575ae1a370c6b280bb9c3d043</td>\n      <td>2</td>\n      <td>赵女士</td>\n      <td>HR</td>\n      <td>False</td>\n      <td>c10da0fff96b96df5d9fa4423967d505</td>\n      <td>5f8f9866dfb13a7dee342f1808u.jpg</td>\n      <td>沪深A股上市</td>\n      <td>NaN</td>\n      <td>NaN</td>\n    </tr>\n    <tr>\n      <th>...</th>\n      <td>...</td>\n      <td>...</td>\n      <td>...</td>\n      <td>...</td>\n      <td>...</td>\n      <td>...</td>\n      <td>...</td>\n      <td>...</td>\n      <td>...</td>\n      <td>...</td>\n      <td>...</td>\n      <td>...</td>\n      <td>...</td>\n      <td>...</td>\n      <td>...</td>\n      <td>...</td>\n      <td>...</td>\n      <td>...</td>\n      <td>...</td>\n      <td>...</td>\n      <td>...</td>\n    </tr>\n    <tr>\n      <th>400</th>\n      <td>0</td>\n      <td>%7B%22jobId%22%3A%2229906743%22%2C%22sfrom%22%...</td>\n      <td>{\"jobId\":\"29906743\",\"recruiterName\":\"张先生\",\"use...</td>\n      <td>https://www.liepin.com/company/10065163/</td>\n      <td>10065163.0</td>\n      <td>5e81bed437483e328d6b8a2208u.jpg</td>\n      <td>50-99人</td>\n      <td>深圳市明瞳视光科技有限公司</td>\n      <td>专业技术服务</td>\n      <td>['广告创意', '活动执行', '广告制作', '线上推广', '线下推广', '发布会'...</td>\n      <td>...</td>\n      <td>f3ae71e089f485ceac365a663ca833da</td>\n      <td>2</td>\n      <td>张先生</td>\n      <td>人力资源总监</td>\n      <td>False</td>\n      <td>c65aa9c88e51f1d80ea82473c3b8e366</td>\n      <td>5f8f986bdfb13a7dee342f2108u.jpg</td>\n      <td>融资未公开</td>\n      <td>大专</td>\n      <td>1-3年</td>\n    </tr>\n    <tr>\n      <th>401</th>\n      <td>1</td>\n      <td>%7B%22jobId%22%3A%2224494227%22%2C%22sfrom%22%...</td>\n      <td>{\"jobId\":\"24494227\",\"recruiterName\":\"陈先生\",\"use...</td>\n      <td>https://www.liepin.com/company/10242163/</td>\n      <td>10242163.0</td>\n      <td>61b07937d0458d53c627567e02u.jpg</td>\n      <td>1-49人</td>\n      <td>深圳市原味餐饮管理有限公司</td>\n      <td>专业技术服务</td>\n      <td>['新媒体运营', '产品运营']</td>\n      <td>...</td>\n      <td>7d84088f07b7ef7767766a03c68ce883</td>\n      <td>2</td>\n      <td>陈先生</td>\n      <td>经理</td>\n      <td>False</td>\n      <td>80d2e5b781f57670a12a93145c62f288</td>\n      <td>5f8f986c79c7cc70efbf36c808u.jpg</td>\n      <td>融资未公开</td>\n      <td>大专</td>\n      <td>1-3年</td>\n    </tr>\n    <tr>\n      <th>402</th>\n      <td>2</td>\n      <td>%7B%22jobId%22%3A%2224103165%22%2C%22sfrom%22%...</td>\n      <td>{\"jobId\":\"24103165\",\"recruiterName\":\"魏女士\",\"use...</td>\n      <td>https://www.liepin.com/company/9982499/</td>\n      <td>9982499.0</td>\n      <td>61b07937d0458d53c627567e02u.jpg</td>\n      <td>100-499人</td>\n      <td>深圳优致健康医药有限公司</td>\n      <td>在线社交/媒体</td>\n      <td>['品牌推广', '市场策划', '市场推广', '广告策划', '广告媒介']</td>\n      <td>...</td>\n      <td>315770088e6304bd99eeb040770b0b48</td>\n      <td>2</td>\n      <td>魏女士</td>\n      <td>人事经理</td>\n      <td>False</td>\n      <td>94da9aded80b461a8f992ab563b4ca4c</td>\n      <td>5f8f9863f6d1ab58476f246a08u.jpg</td>\n      <td>A轮</td>\n      <td>大专</td>\n      <td>3-5年</td>\n    </tr>\n    <tr>\n      <th>403</th>\n      <td>3</td>\n      <td>%7B%22jobId%22%3A%2263857701%22%2C%22sfrom%22%...</td>\n      <td>{\"jobId\":\"63857701\",\"recruiterName\":\"杨女士\",\"use...</td>\n      <td>https://www.liepin.com/company/9859631/</td>\n      <td>9859631.0</td>\n      <td>5cc1138077e75824436a6d0a01u.jpg</td>\n      <td>100-499人</td>\n      <td>深圳市橙子数字科技有限公司</td>\n      <td>智能硬件</td>\n      <td>['营销策划', '品牌策划', '广告策划', '营销活动', '广告媒介', '电子商务...</td>\n      <td>...</td>\n      <td>02c94c27ef1986569ccf3dc45f6d7696</td>\n      <td>2</td>\n      <td>杨女士</td>\n      <td>招聘经理</td>\n      <td>False</td>\n      <td>01fe309fca7f50a89628983cee88c292</td>\n      <td>61108779b154a32ebc3625f903u.png</td>\n      <td>B轮</td>\n      <td>本科</td>\n      <td>3-5年</td>\n    </tr>\n    <tr>\n      <th>404</th>\n      <td>4</td>\n      <td>%7B%22jobId%22%3A%2251862017%22%2C%22sfrom%22%...</td>\n      <td>{\"jobId\":\"51862017\",\"recruiterName\":\"寿女士\",\"use...</td>\n      <td>NaN</td>\n      <td>NaN</td>\n      <td>60e2fe0bf3df194a3c48adb502u.png</td>\n      <td>NaN</td>\n      <td>某知名公司</td>\n      <td>批发/零售</td>\n      <td>['品牌运营', '快消品', '甲方公司背景']</td>\n      <td>...</td>\n      <td>bf677663fa4e0039c18942ef6f543974</td>\n      <td>2</td>\n      <td>寿女士</td>\n      <td>猎头顾问</td>\n      <td>False</td>\n      <td>d7a271fb1fce9752acfd3903c178d99a</td>\n      <td>636b24f02bb5c04dfc65c0e006u.png</td>\n      <td>NaN</td>\n      <td>本科</td>\n      <td>10年以上</td>\n    </tr>\n  </tbody>\n</table>\n<p>405 rows × 33 columns</p>\n</div>"
     },
     "execution_count": 169,
     "metadata": {},
     "output_type": "execute_result"
    }
   ],
   "source": [
    "df = pd.read_excel(f'excels/{cities}/{key}/{output_time}/猎聘{cities}-{key}-{output_time}.xlsx')\n",
    "df"
   ],
   "metadata": {
    "collapsed": false
   }
  },
  {
   "cell_type": "code",
   "execution_count": 170,
   "outputs": [
    {
     "name": "stdout",
     "output_type": "stream",
     "text": [
      "<class 'pandas.core.frame.DataFrame'>\n",
      "RangeIndex: 405 entries, 0 to 404\n",
      "Data columns (total 33 columns):\n",
      " #   Column                    Non-Null Count  Dtype  \n",
      "---  ------                    --------------  -----  \n",
      " 0   Unnamed: 0                405 non-null    int64  \n",
      " 1   dataInfo                  405 non-null    object \n",
      " 2   dataParams                405 non-null    object \n",
      " 3   comp.link                 332 non-null    object \n",
      " 4   comp.compId               332 non-null    float64\n",
      " 5   comp.compLogo             405 non-null    object \n",
      " 6   comp.compScale            387 non-null    object \n",
      " 7   comp.compName             405 non-null    object \n",
      " 8   comp.compIndustry         405 non-null    object \n",
      " 9   job.labels                405 non-null    object \n",
      " 10  job.jobId                 405 non-null    int64  \n",
      " 11  job.topJob                405 non-null    bool   \n",
      " 12  job.link                  405 non-null    object \n",
      " 13  job.refreshTime           405 non-null    int64  \n",
      " 14  job.dq                    405 non-null    object \n",
      " 15  job.salary                405 non-null    object \n",
      " 16  job.title                 405 non-null    object \n",
      " 17  job.jobKind               405 non-null    int64  \n",
      " 18  job.pcOuterLink           1 non-null      object \n",
      " 19  job.h5OuterLink           1 non-null      object \n",
      " 20  job.advViewFlag           405 non-null    bool   \n",
      " 21  job.campusJobKind         8 non-null      object \n",
      " 22  job.dataPromId            405 non-null    object \n",
      " 23  recruiter.imId            405 non-null    object \n",
      " 24  recruiter.imUserType      405 non-null    int64  \n",
      " 25  recruiter.recruiterName   405 non-null    object \n",
      " 26  recruiter.recruiterTitle  374 non-null    object \n",
      " 27  recruiter.chatted         405 non-null    bool   \n",
      " 28  recruiter.recruiterId     405 non-null    object \n",
      " 29  recruiter.recruiterPhoto  405 non-null    object \n",
      " 30  comp.compStage            183 non-null    object \n",
      " 31  job.requireEduLevel       397 non-null    object \n",
      " 32  job.requireWorkYears      397 non-null    object \n",
      "dtypes: bool(3), float64(1), int64(5), object(24)\n",
      "memory usage: 96.2+ KB\n"
     ]
    }
   ],
   "source": [
    "df.info()"
   ],
   "metadata": {
    "collapsed": false
   }
  },
  {
   "cell_type": "code",
   "execution_count": 171,
   "outputs": [
    {
     "data": {
      "text/plain": "405"
     },
     "execution_count": 171,
     "metadata": {},
     "output_type": "execute_result"
    }
   ],
   "source": [
    "len(df['job.link'])"
   ],
   "metadata": {
    "collapsed": false
   }
  },
  {
   "cell_type": "code",
   "execution_count": 172,
   "outputs": [
    {
     "data": {
      "text/plain": "'https://www.liepin.com/lptjob/61734531'"
     },
     "execution_count": 172,
     "metadata": {},
     "output_type": "execute_result"
    }
   ],
   "source": [
    "df['job.link'][0]"
   ],
   "metadata": {
    "collapsed": false
   }
  },
  {
   "cell_type": "markdown",
   "source": [
    "# 额外：加入特殊情况检测"
   ],
   "metadata": {
    "collapsed": false
   }
  },
  {
   "cell_type": "code",
   "execution_count": 173,
   "outputs": [],
   "source": [
    "if payload['data']['mainSearchPcConditionForm'][\"workYearCode\"]=='2':\n",
    "    df_PM_gz =  df[['job.title','job.labels','job.refreshTime','job.salary','job.dq','job.topJob','comp.compStage','comp.compName','comp.compIndustry','comp.compScale','job.link']]\n",
    "else:\n",
    "    df_PM_gz =  df[['job.title','job.labels','job.refreshTime','job.salary','job.dq','job.topJob','job.requireWorkYears','job.requireEduLevel','comp.compStage','comp.compName','comp.compIndustry','comp.compScale','job.link']]"
   ],
   "metadata": {
    "collapsed": false
   }
  },
  {
   "cell_type": "markdown",
   "source": [
    "# 15.重命名为通俗易懂的列头"
   ],
   "metadata": {
    "collapsed": false
   }
  },
  {
   "cell_type": "code",
   "execution_count": 174,
   "outputs": [],
   "source": [
    "# columns 重命名\n",
    "if payload['data']['mainSearchPcConditionForm'][\"workYearCode\"]=='2':\n",
    "    df_PM_gz = df_PM_gz.rename(columns={\n",
    "        'job.title':'职位',\n",
    "        'job.labels':'职位标签',\n",
    "        'job.refreshTime':'职位更新时间',\n",
    "        'job.salary':'薪资',\n",
    "        'job.dq':'地区',\n",
    "        'job.topJob':'是否top职位',\n",
    "        'comp.compStage':'公司融资情况',\n",
    "        'comp.compName':'公司名称',\n",
    "        'comp.compIndustry':'行业',\n",
    "        'comp.compScale':'规模',\n",
    "        'job.link':'岗位详情'\n",
    "    })\n",
    "else:\n",
    "    df_PM_gz = df_PM_gz.rename(columns={\n",
    "        'job.title':'职位',\n",
    "        'job.labels':'职位标签',\n",
    "        'job.refreshTime':'职位更新时间',\n",
    "        'job.salary':'薪资',\n",
    "        'job.dq':'地区',\n",
    "        'job.topJob':'是否top职位',\n",
    "        'job.requireWorkYears':'工作年限',\n",
    "        'job.requireEduLevel':'学历',\n",
    "        'comp.compStage':'公司融资情况',\n",
    "        'comp.compName':'公司名称',\n",
    "        'comp.compIndustry':'行业',\n",
    "        'comp.compScale':'规模',\n",
    "        'job.link':'岗位详情'\n",
    "    })"
   ],
   "metadata": {
    "collapsed": false
   }
  },
  {
   "cell_type": "markdown",
   "source": [
    "# 16.引入request_html并对每条标题子级网站进行访问以及内容爬取，即爬取岗位要求"
   ],
   "metadata": {
    "collapsed": false
   }
  },
  {
   "cell_type": "code",
   "execution_count": 175,
   "outputs": [],
   "source": [
    "from requests_html import HTMLSession\n",
    "session = HTMLSession()"
   ],
   "metadata": {
    "collapsed": false
   }
  },
  {
   "cell_type": "code",
   "execution_count": 176,
   "outputs": [],
   "source": [
    "import time\n",
    "import random\n",
    "sleep_time = random.randint(3,5)"
   ],
   "metadata": {
    "collapsed": false
   }
  },
  {
   "cell_type": "code",
   "execution_count": 176,
   "outputs": [],
   "source": [],
   "metadata": {
    "collapsed": false
   }
  },
  {
   "cell_type": "code",
   "execution_count": 177,
   "outputs": [
    {
     "ename": "IndexError",
     "evalue": "list index out of range",
     "output_type": "error",
     "traceback": [
      "\u001B[1;31m---------------------------------------------------------------------------\u001B[0m",
      "\u001B[1;31mIndexError\u001B[0m                                Traceback (most recent call last)",
      "Cell \u001B[1;32mIn[177], line 5\u001B[0m\n\u001B[0;32m      3\u001B[0m s \u001B[38;5;241m=\u001B[39m session\u001B[38;5;241m.\u001B[39mget(df[\u001B[38;5;124m'\u001B[39m\u001B[38;5;124mjob.link\u001B[39m\u001B[38;5;124m'\u001B[39m][i])\n\u001B[0;32m      4\u001B[0m command \u001B[38;5;241m=\u001B[39m s\u001B[38;5;241m.\u001B[39mhtml\u001B[38;5;241m.\u001B[39mfind(\u001B[38;5;124m'\u001B[39m\u001B[38;5;124mdd\u001B[39m\u001B[38;5;124m'\u001B[39m)\n\u001B[1;32m----> 5\u001B[0m 技能要求\u001B[38;5;241m.\u001B[39mappend(\u001B[43mcommand\u001B[49m\u001B[43m[\u001B[49m\u001B[38;5;241;43m0\u001B[39;49m\u001B[43m]\u001B[49m\u001B[38;5;241m.\u001B[39mtext)\n",
      "\u001B[1;31mIndexError\u001B[0m: list index out of range"
     ]
    }
   ],
   "source": [
    "技能要求 = []\n",
    "for i in range(len(df['job.link'])):\n",
    "    s = session.get(df['job.link'][i])\n",
    "    command = s.html.find('dd')\n",
    "    技能要求.append(command[0].text)"
   ],
   "metadata": {
    "collapsed": false
   }
  },
  {
   "cell_type": "code",
   "execution_count": null,
   "outputs": [],
   "source": [
    "技能要求"
   ],
   "metadata": {
    "collapsed": false
   }
  },
  {
   "cell_type": "markdown",
   "source": [
    "## 添加所爬取到的岗位要求的新列到表"
   ],
   "metadata": {
    "collapsed": false
   }
  },
  {
   "cell_type": "code",
   "execution_count": null,
   "outputs": [],
   "source": [
    "df_PM_gz['技能要求'] = 技能要求"
   ],
   "metadata": {
    "collapsed": false
   }
  },
  {
   "cell_type": "markdown",
   "source": [
    "# 17.处理时间数据"
   ],
   "metadata": {
    "collapsed": false
   }
  },
  {
   "cell_type": "code",
   "execution_count": 178,
   "outputs": [
    {
     "data": {
      "text/plain": "['2023年12月04日',\n '2023年09月01日',\n '2023年11月20日',\n '2023年10月31日',\n '2023年10月27日',\n '2023年10月24日',\n '2023年09月01日',\n '2023年12月21日',\n '2019年05月28日',\n '2020年12月17日',\n '2023年03月16日',\n '2021年03月23日',\n '2023年07月06日',\n '2021年08月20日',\n '2023年03月22日',\n '2020年07月30日',\n '2022年06月07日',\n '2019年12月27日',\n '2022年06月08日',\n '2021年04月15日',\n '2021年07月01日',\n '2023年09月16日',\n '2023年10月14日',\n '2023年11月02日',\n '2023年09月15日',\n '2023年09月19日',\n '2023年12月19日',\n '2023年12月27日',\n '2023年10月13日',\n '2023年09月04日',\n '2022年03月07日',\n '2023年12月05日',\n '2023年07月17日',\n '2023年12月15日',\n '2023年12月12日',\n '2023年09月16日',\n '2023年09月26日',\n '2023年11月03日',\n '2023年09月15日',\n '2023年02月28日',\n '2023年04月04日',\n '2023年09月15日',\n '2021年11月07日',\n '2021年04月20日',\n '2022年06月09日',\n '2021年04月20日',\n '2022年04月28日',\n '2021年04月25日',\n '2023年08月11日',\n '2023年12月15日',\n '2023年12月05日',\n '2023年11月01日',\n '2023年09月13日',\n '2023年12月06日',\n '2023年11月29日',\n '2023年08月02日',\n '2023年12月08日',\n '2023年12月27日',\n '2023年04月10日',\n '2023年12月20日',\n '2023年12月26日',\n '2023年12月26日',\n '2023年12月26日',\n '2023年12月18日',\n '2023年11月24日',\n '2023年12月12日',\n '2023年12月27日',\n '2023年12月26日',\n '2023年12月17日',\n '2023年12月18日',\n '2023年11月21日',\n '2023年12月25日',\n '2023年12月21日',\n '2023年12月18日',\n '2023年11月27日',\n '2023年11月22日',\n '2023年12月19日',\n '2023年12月12日',\n '2023年12月05日',\n '2023年12月25日',\n '2023年12月26日',\n '2023年12月26日',\n '2023年12月27日',\n '2023年12月07日',\n '2023年11月30日',\n '2023年12月27日',\n '2023年12月08日',\n '2023年12月27日',\n '2023年08月28日',\n '2023年12月27日',\n '2023年12月04日',\n '2023年10月24日',\n '2023年12月11日',\n '2023年10月23日',\n '2023年12月27日',\n '2023年12月25日',\n '2023年11月23日',\n '2023年12月24日',\n '2023年12月01日',\n '2023年11月03日',\n '2023年12月14日',\n '2023年11月28日',\n '2023年12月12日',\n '2023年12月14日',\n '2023年11月30日',\n '2023年12月27日',\n '2023年12月07日',\n '2023年12月18日',\n '2023年11月06日',\n '2023年12月26日',\n '2023年12月07日',\n '2023年10月20日',\n '2023年12月26日',\n '2023年12月21日',\n '2023年12月26日',\n '2023年12月27日',\n '2023年12月25日',\n '2023年12月04日',\n '2023年12月07日',\n '2023年07月19日',\n '2023年11月28日',\n '2023年12月13日',\n '2023年12月14日',\n '2023年10月31日',\n '2023年12月27日',\n '2023年12月14日',\n '2023年12月15日',\n '2023年11月06日',\n '2023年12月15日',\n '2023年11月07日',\n '2023年11月08日',\n '2023年11月23日',\n '2022年12月29日',\n '2023年11月06日',\n '2023年09月05日',\n '2023年12月14日',\n '2023年11月07日',\n '2023年11月16日',\n '2023年07月11日',\n '2023年05月25日',\n '2023年12月27日',\n '2023年10月09日',\n '2023年12月05日',\n '2023年12月04日',\n '2023年11月24日',\n '2023年12月04日',\n '2023年11月06日',\n '2023年12月04日',\n '2023年12月15日',\n '2023年11月21日',\n '2023年11月09日',\n '2023年10月25日',\n '2023年12月26日',\n '2023年06月27日',\n '2023年11月03日',\n '2023年03月17日',\n '2023年10月30日',\n '2023年09月26日',\n '2023年07月31日',\n '2023年11月02日',\n '2023年10月20日',\n '2023年10月23日',\n '2023年11月06日',\n '2023年11月23日',\n '2023年10月11日',\n '2023年12月22日',\n '2023年07月06日',\n '2023年10月22日',\n '2023年11月15日',\n '2023年10月29日',\n '2023年10月24日',\n '2023年10月27日',\n '2023年12月26日',\n '2023年11月08日',\n '2023年09月27日',\n '2023年10月26日',\n '2023年11月08日',\n '2023年12月15日',\n '2023年11月14日',\n '2023年07月31日',\n '2023年10月25日',\n '2023年11月08日',\n '2023年11月20日',\n '2023年11月15日',\n '2023年10月31日',\n '2023年12月26日',\n '2023年04月28日',\n '2023年09月11日',\n '2021年09月08日',\n '2023年10月29日',\n '2023年12月27日',\n '2023年09月11日',\n '2023年10月31日',\n '2023年10月24日',\n '2023年12月22日',\n '2023年06月05日',\n '2023年12月26日',\n '2023年08月28日',\n '2023年10月08日',\n '2023年08月21日',\n '2023年07月18日',\n '2023年09月27日',\n '2023年01月10日',\n '2023年12月26日',\n '2023年10月19日',\n '2023年08月09日',\n '2021年12月15日',\n '2023年06月16日',\n '2022年05月17日',\n '2023年05月04日',\n '2023年12月21日',\n '2023年09月15日',\n '2023年10月23日',\n '2022年10月25日',\n '2023年12月23日',\n '2023年09月16日',\n '2023年11月22日',\n '2021年12月20日',\n '2021年03月08日',\n '2023年12月23日',\n '2021年06月22日',\n '2021年12月03日',\n '2023年08月24日',\n '2021年03月23日',\n '2020年10月15日',\n '2022年11月22日',\n '2023年09月14日',\n '2023年10月13日',\n '2023年11月04日',\n '2023年10月05日',\n '2023年11月04日',\n '2023年07月27日',\n '2023年05月18日',\n '2023年12月22日',\n '2023年11月03日',\n '2023年08月21日',\n '2022年06月29日',\n '2021年01月15日',\n '2023年12月26日',\n '2022年08月24日',\n '2021年12月14日',\n '2022年08月18日',\n '2023年02月08日',\n '2023年11月22日',\n '2022年09月09日',\n '2023年05月10日',\n '2022年06月09日',\n '2023年07月12日',\n '2023年09月18日',\n '2021年04月16日',\n '2023年03月22日',\n '2019年05月17日',\n '2023年05月05日',\n '2023年03月29日',\n '2023年06月10日',\n '2023年06月29日',\n '2023年08月16日',\n '2023年03月09日',\n '2022年03月04日',\n '2021年10月14日',\n '2023年08月22日',\n '2023年09月18日',\n '2022年12月08日',\n '2023年12月25日',\n '2020年08月16日',\n '2020年12月28日',\n '2022年04月28日',\n '2023年08月07日',\n '2023年05月22日',\n '2023年02月21日',\n '2019年07月24日',\n '2020年10月18日',\n '2022年09月09日',\n '2022年12月05日',\n '2023年05月13日',\n '2021年04月27日',\n '2022年09月09日',\n '2019年04月28日',\n '2021年02月21日',\n '2023年04月14日',\n '2022年03月09日',\n '2022年10月24日',\n '2023年04月12日',\n '2023年09月22日',\n '2022年09月02日',\n '2022年07月18日',\n '2021年09月02日',\n '2022年06月29日',\n '2023年08月31日',\n '2022年03月27日',\n '2023年07月24日',\n '2022年12月12日',\n '2022年12月06日',\n '2023年08月15日',\n '2019年11月12日',\n '2023年08月14日',\n '2021年12月08日',\n '2022年10月24日',\n '2022年11月01日',\n '2023年09月13日',\n '2021年03月05日',\n '2022年03月29日',\n '2022年03月30日',\n '2019年03月08日',\n '2022年11月11日',\n '2020年10月08日',\n '2022年03月29日',\n '2023年03月23日',\n '2022年07月06日',\n '2022年10月05日',\n '2021年08月13日',\n '2023年06月25日',\n '2021年06月25日',\n '2021年05月08日',\n '2022年06月06日',\n '2022年01月06日',\n '2022年06月29日',\n '2021年11月19日',\n '2020年12月03日',\n '2022年10月24日',\n '2022年02月24日',\n '2021年04月22日',\n '2022年08月02日',\n '2021年07月30日',\n '2022年07月11日',\n '2021年03月31日',\n '2021年03月24日',\n '2021年06月09日',\n '2021年07月09日',\n '2020年06月08日',\n '2022年05月07日',\n '2022年03月25日',\n '2021年07月12日',\n '2021年11月11日',\n '2022年07月25日',\n '2022年12月06日',\n '2022年04月06日',\n '2022年10月24日',\n '2022年11月21日',\n '2021年10月15日',\n '2021年10月23日',\n '2020年08月25日',\n '2021年12月17日',\n '2021年08月12日',\n '2020年12月25日',\n '2019年11月22日',\n '2022年08月17日',\n '2021年05月20日',\n '2021年03月17日',\n '2022年10月31日',\n '2022年06月06日',\n '2019年10月02日',\n '2021年07月21日',\n '2021年08月11日',\n '2020年03月14日',\n '2022年06月02日',\n '2019年10月12日',\n '2022年05月26日',\n '2022年03月31日',\n '2020年03月02日',\n '2022年05月16日',\n '2022年04月18日',\n '2021年03月15日',\n '2020年09月07日',\n '2020年08月17日',\n '2022年03月29日',\n '2020年06月24日',\n '2021年08月25日',\n '2019年03月08日',\n '2021年08月04日',\n '2021年06月02日',\n '2019年08月22日',\n '2021年12月17日',\n '2022年02月11日',\n '2021年05月20日',\n '2021年10月18日',\n '2019年12月11日',\n '2021年12月22日',\n '2022年02月24日',\n '2021年08月20日',\n '2020年03月04日',\n '2020年07月29日',\n '2019年12月26日',\n '2021年10月21日',\n '2020年02月26日',\n '2019年09月26日',\n '2022年04月24日',\n '2022年05月17日',\n '2022年06月13日',\n '2021年04月23日',\n '2021年10月19日',\n '2020年12月03日',\n '2020年07月22日',\n '2020年04月07日',\n '2020年08月28日',\n '2021年04月21日',\n '2019年08月22日',\n '2021年05月08日',\n '2019年06月27日',\n '2019年06月26日',\n '2021年04月22日',\n '2019年11月14日',\n '2019年10月13日',\n '2023年12月27日',\n '2023年12月27日']"
     },
     "execution_count": 178,
     "metadata": {},
     "output_type": "execute_result"
    }
   ],
   "source": [
    "dates = []\n",
    "for i in range(len(df_PM_gz['职位更新时间'])):\n",
    "    years = str(df_PM_gz['职位更新时间'][i])[0:4]\n",
    "    months = str(df_PM_gz['职位更新时间'][i])[4:6]\n",
    "    days = str(df_PM_gz['职位更新时间'][i])[6:8]\n",
    "    dates.append(years+'年'+months+'月'+days+'日')\n",
    "dates"
   ],
   "metadata": {
    "collapsed": false
   }
  },
  {
   "cell_type": "code",
   "execution_count": 179,
   "outputs": [],
   "source": [
    "df_PM_gz['职位更新时间'] = dates"
   ],
   "metadata": {
    "collapsed": false
   }
  },
  {
   "cell_type": "markdown",
   "source": [
    "# 18.处理top职位为中文"
   ],
   "metadata": {
    "collapsed": false
   }
  },
  {
   "cell_type": "code",
   "execution_count": 180,
   "outputs": [
    {
     "name": "stderr",
     "output_type": "stream",
     "text": [
      "C:\\Users\\17728\\AppData\\Local\\Temp\\ipykernel_25820\\1958569130.py:3: SettingWithCopyWarning: \n",
      "A value is trying to be set on a copy of a slice from a DataFrame\n",
      "\n",
      "See the caveats in the documentation: https://pandas.pydata.org/pandas-docs/stable/user_guide/indexing.html#returning-a-view-versus-a-copy\n",
      "  df_PM_gz['是否top职位'][i] = '否'\n"
     ]
    }
   ],
   "source": [
    "for i in range(len(df_PM_gz['是否top职位'])):\n",
    "    if df_PM_gz['是否top职位'][i] == False:\n",
    "        df_PM_gz['是否top职位'][i] = '否'\n",
    "    else:\n",
    "        df_PM_gz['是否top职位'][i] = '是'"
   ],
   "metadata": {
    "collapsed": false
   }
  },
  {
   "cell_type": "markdown",
   "source": [
    "# 19.删除多余行"
   ],
   "metadata": {
    "collapsed": false
   }
  },
  {
   "cell_type": "code",
   "execution_count": 181,
   "outputs": [],
   "source": [
    "# df_PM_gz = df_PM_gz.drop('Unnamed: 0', axis=1)"
   ],
   "metadata": {
    "collapsed": false
   }
  },
  {
   "cell_type": "markdown",
   "source": [
    "# 20.添加序号"
   ],
   "metadata": {
    "collapsed": false
   }
  },
  {
   "cell_type": "code",
   "execution_count": 182,
   "outputs": [
    {
     "data": {
      "text/plain": "['1',\n '2',\n '3',\n '4',\n '5',\n '6',\n '7',\n '8',\n '9',\n '10',\n '11',\n '12',\n '13',\n '14',\n '15',\n '16',\n '17',\n '18',\n '19',\n '20',\n '21',\n '22',\n '23',\n '24',\n '25',\n '26',\n '27',\n '28',\n '29',\n '30',\n '31',\n '32',\n '33',\n '34',\n '35',\n '36',\n '37',\n '38',\n '39',\n '40',\n '41',\n '42',\n '43',\n '44',\n '45',\n '46',\n '47',\n '48',\n '49',\n '50',\n '51',\n '52',\n '53',\n '54',\n '55',\n '56',\n '57',\n '58',\n '59',\n '60',\n '61',\n '62',\n '63',\n '64',\n '65',\n '66',\n '67',\n '68',\n '69',\n '70',\n '71',\n '72',\n '73',\n '74',\n '75',\n '76',\n '77',\n '78',\n '79',\n '80',\n '81',\n '82',\n '83',\n '84',\n '85',\n '86',\n '87',\n '88',\n '89',\n '90',\n '91',\n '92',\n '93',\n '94',\n '95',\n '96',\n '97',\n '98',\n '99',\n '100',\n '101',\n '102',\n '103',\n '104',\n '105',\n '106',\n '107',\n '108',\n '109',\n '110',\n '111',\n '112',\n '113',\n '114',\n '115',\n '116',\n '117',\n '118',\n '119',\n '120',\n '121',\n '122',\n '123',\n '124',\n '125',\n '126',\n '127',\n '128',\n '129',\n '130',\n '131',\n '132',\n '133',\n '134',\n '135',\n '136',\n '137',\n '138',\n '139',\n '140',\n '141',\n '142',\n '143',\n '144',\n '145',\n '146',\n '147',\n '148',\n '149',\n '150',\n '151',\n '152',\n '153',\n '154',\n '155',\n '156',\n '157',\n '158',\n '159',\n '160',\n '161',\n '162',\n '163',\n '164',\n '165',\n '166',\n '167',\n '168',\n '169',\n '170',\n '171',\n '172',\n '173',\n '174',\n '175',\n '176',\n '177',\n '178',\n '179',\n '180',\n '181',\n '182',\n '183',\n '184',\n '185',\n '186',\n '187',\n '188',\n '189',\n '190',\n '191',\n '192',\n '193',\n '194',\n '195',\n '196',\n '197',\n '198',\n '199',\n '200',\n '201',\n '202',\n '203',\n '204',\n '205',\n '206',\n '207',\n '208',\n '209',\n '210',\n '211',\n '212',\n '213',\n '214',\n '215',\n '216',\n '217',\n '218',\n '219',\n '220',\n '221',\n '222',\n '223',\n '224',\n '225',\n '226',\n '227',\n '228',\n '229',\n '230',\n '231',\n '232',\n '233',\n '234',\n '235',\n '236',\n '237',\n '238',\n '239',\n '240',\n '241',\n '242',\n '243',\n '244',\n '245',\n '246',\n '247',\n '248',\n '249',\n '250',\n '251',\n '252',\n '253',\n '254',\n '255',\n '256',\n '257',\n '258',\n '259',\n '260',\n '261',\n '262',\n '263',\n '264',\n '265',\n '266',\n '267',\n '268',\n '269',\n '270',\n '271',\n '272',\n '273',\n '274',\n '275',\n '276',\n '277',\n '278',\n '279',\n '280',\n '281',\n '282',\n '283',\n '284',\n '285',\n '286',\n '287',\n '288',\n '289',\n '290',\n '291',\n '292',\n '293',\n '294',\n '295',\n '296',\n '297',\n '298',\n '299',\n '300',\n '301',\n '302',\n '303',\n '304',\n '305',\n '306',\n '307',\n '308',\n '309',\n '310',\n '311',\n '312',\n '313',\n '314',\n '315',\n '316',\n '317',\n '318',\n '319',\n '320',\n '321',\n '322',\n '323',\n '324',\n '325',\n '326',\n '327',\n '328',\n '329',\n '330',\n '331',\n '332',\n '333',\n '334',\n '335',\n '336',\n '337',\n '338',\n '339',\n '340',\n '341',\n '342',\n '343',\n '344',\n '345',\n '346',\n '347',\n '348',\n '349',\n '350',\n '351',\n '352',\n '353',\n '354',\n '355',\n '356',\n '357',\n '358',\n '359',\n '360',\n '361',\n '362',\n '363',\n '364',\n '365',\n '366',\n '367',\n '368',\n '369',\n '370',\n '371',\n '372',\n '373',\n '374',\n '375',\n '376',\n '377',\n '378',\n '379',\n '380',\n '381',\n '382',\n '383',\n '384',\n '385',\n '386',\n '387',\n '388',\n '389',\n '390',\n '391',\n '392',\n '393',\n '394',\n '395',\n '396',\n '397',\n '398',\n '399',\n '400',\n '401',\n '402',\n '403',\n '404',\n '405']"
     },
     "execution_count": 182,
     "metadata": {},
     "output_type": "execute_result"
    }
   ],
   "source": [
    "序号 = []\n",
    "for i in range(len(df_PM_gz['职位更新时间'])):\n",
    "    序号.append(str(i+1))\n",
    "序号"
   ],
   "metadata": {
    "collapsed": false
   }
  },
  {
   "cell_type": "code",
   "execution_count": 183,
   "outputs": [],
   "source": [
    "df_PM_gz.insert(0,'序号',序号)"
   ],
   "metadata": {
    "collapsed": false
   }
  },
  {
   "cell_type": "markdown",
   "source": [
    "# 21.输出最终表"
   ],
   "metadata": {
    "collapsed": false
   }
  },
  {
   "cell_type": "code",
   "execution_count": 184,
   "outputs": [],
   "source": [
    "df_PM_gz.to_excel(f'excels/{cities}/{key}/{output_time}/猎聘{cities}-{key}-{output_time}.xlsx')"
   ],
   "metadata": {
    "collapsed": false
   }
  },
  {
   "cell_type": "markdown",
   "source": [
    "## 额外：计算各个市的区的平均薪资"
   ],
   "metadata": {
    "collapsed": false
   }
  },
  {
   "cell_type": "code",
   "execution_count": 185,
   "outputs": [
    {
     "data": {
      "text/plain": "      序号                               职位  \\\n0      1                         数字化市场运营岗   \n1      2         市场管培生（2024届校园招聘）(J10309)   \n2      3  社媒运营专员（德语/葡萄牙语/意大利语） (MJ001624)   \n8      9                           广告文案策划   \n9     10                           市场策划专员   \n..   ...                              ...   \n400  401                             文案策划   \n401  402                             网站运营   \n402  403                            策划负责人   \n403  404                        营销策划主管/经理   \n404  405                           品牌运营总监   \n\n                                                  职位标签       职位更新时间  \\\n0                                       ['本科', '市场营销']  2023年12月04日   \n1                                               ['本科']  2023年09月01日   \n2             ['本科', '海外运营', '自媒体运营', '社群运营', '新媒体运营']  2023年11月20日   \n8                 ['广告策划', '文案策划', '广告媒介', '广告/传媒/文化']  2019年05月28日   \n9                                             ['市场推广']  2020年12月17日   \n..                                                 ...          ...   \n400  ['广告创意', '活动执行', '广告制作', '线上推广', '线下推广', '发布会'...  2021年04月22日   \n401                                  ['新媒体运营', '产品运营']  2019年11月14日   \n402           ['品牌推广', '市场策划', '市场推广', '广告策划', '广告媒介']  2019年10月13日   \n403  ['营销策划', '品牌策划', '广告策划', '营销活动', '广告媒介', '电子商务...  2023年12月27日   \n404                          ['品牌运营', '快消品', '甲方公司背景']  2023年12月27日   \n\n             薪资      地区 是否top职位   工作年限    学历 公司融资情况           公司名称        行业  \\\n0        12-15k      深圳       否    NaN   NaN    NaN     中国联通广东省分公司  运营商/增值服务   \n1         8-15k  深圳-南山区       否    NaN   NaN     C轮     深圳思为科技有限公司       互联网   \n2     9-14k·13薪  深圳-南山区       否    NaN   NaN  创业板上市           万兴科技     计算机软件   \n8          4-8k  深圳-光明区       否   经验不限    大专  融资未公开  深圳市天之道茶文化有限公司  食品/饮料/酒水   \n9        10-15k  深圳-南山区       否   一年以下  统招本科  融资未公开  海南房乐多网络科技有限公司  房地产租赁/中介   \n..          ...     ...     ...    ...   ...    ...            ...       ...   \n400        4-7k  深圳-龙岗区       否   1-3年    大专  融资未公开  深圳市明瞳视光科技有限公司    专业技术服务   \n401        4-5k      深圳       否   1-3年    大专  融资未公开  深圳市原味餐饮管理有限公司    专业技术服务   \n402       8-16k      深圳       否   3-5年    大专     A轮   深圳优致健康医药有限公司   在线社交/媒体   \n403  20-30k·13薪      深圳       否   3-5年    本科     B轮  深圳市橙子数字科技有限公司      智能硬件   \n404      70-90k  深圳-龙岗区       否  10年以上    本科    NaN          某知名公司     批发/零售   \n\n              规模                                         岗位详情  \n0       10000人以上       https://www.liepin.com/lptjob/61734531  \n1       100-499人       https://www.liepin.com/lptjob/61305325  \n2     1000-2000人       https://www.liepin.com/lptjob/59307981  \n8         50-99人  https://www.liepin.com/job/1920268693.shtml  \n9    5000-10000人  https://www.liepin.com/job/1933857607.shtml  \n..           ...                                          ...  \n400       50-99人  https://www.liepin.com/job/1929906743.shtml  \n401        1-49人  https://www.liepin.com/job/1924494227.shtml  \n402     100-499人  https://www.liepin.com/job/1924103165.shtml  \n403     100-499人  https://www.liepin.com/job/1963857701.shtml  \n404          NaN      https://www.liepin.com/a/51862017.shtml  \n\n[393 rows x 14 columns]",
      "text/html": "<div>\n<style scoped>\n    .dataframe tbody tr th:only-of-type {\n        vertical-align: middle;\n    }\n\n    .dataframe tbody tr th {\n        vertical-align: top;\n    }\n\n    .dataframe thead th {\n        text-align: right;\n    }\n</style>\n<table border=\"1\" class=\"dataframe\">\n  <thead>\n    <tr style=\"text-align: right;\">\n      <th></th>\n      <th>序号</th>\n      <th>职位</th>\n      <th>职位标签</th>\n      <th>职位更新时间</th>\n      <th>薪资</th>\n      <th>地区</th>\n      <th>是否top职位</th>\n      <th>工作年限</th>\n      <th>学历</th>\n      <th>公司融资情况</th>\n      <th>公司名称</th>\n      <th>行业</th>\n      <th>规模</th>\n      <th>岗位详情</th>\n    </tr>\n  </thead>\n  <tbody>\n    <tr>\n      <th>0</th>\n      <td>1</td>\n      <td>数字化市场运营岗</td>\n      <td>['本科', '市场营销']</td>\n      <td>2023年12月04日</td>\n      <td>12-15k</td>\n      <td>深圳</td>\n      <td>否</td>\n      <td>NaN</td>\n      <td>NaN</td>\n      <td>NaN</td>\n      <td>中国联通广东省分公司</td>\n      <td>运营商/增值服务</td>\n      <td>10000人以上</td>\n      <td>https://www.liepin.com/lptjob/61734531</td>\n    </tr>\n    <tr>\n      <th>1</th>\n      <td>2</td>\n      <td>市场管培生（2024届校园招聘）(J10309)</td>\n      <td>['本科']</td>\n      <td>2023年09月01日</td>\n      <td>8-15k</td>\n      <td>深圳-南山区</td>\n      <td>否</td>\n      <td>NaN</td>\n      <td>NaN</td>\n      <td>C轮</td>\n      <td>深圳思为科技有限公司</td>\n      <td>互联网</td>\n      <td>100-499人</td>\n      <td>https://www.liepin.com/lptjob/61305325</td>\n    </tr>\n    <tr>\n      <th>2</th>\n      <td>3</td>\n      <td>社媒运营专员（德语/葡萄牙语/意大利语） (MJ001624)</td>\n      <td>['本科', '海外运营', '自媒体运营', '社群运营', '新媒体运营']</td>\n      <td>2023年11月20日</td>\n      <td>9-14k·13薪</td>\n      <td>深圳-南山区</td>\n      <td>否</td>\n      <td>NaN</td>\n      <td>NaN</td>\n      <td>创业板上市</td>\n      <td>万兴科技</td>\n      <td>计算机软件</td>\n      <td>1000-2000人</td>\n      <td>https://www.liepin.com/lptjob/59307981</td>\n    </tr>\n    <tr>\n      <th>8</th>\n      <td>9</td>\n      <td>广告文案策划</td>\n      <td>['广告策划', '文案策划', '广告媒介', '广告/传媒/文化']</td>\n      <td>2019年05月28日</td>\n      <td>4-8k</td>\n      <td>深圳-光明区</td>\n      <td>否</td>\n      <td>经验不限</td>\n      <td>大专</td>\n      <td>融资未公开</td>\n      <td>深圳市天之道茶文化有限公司</td>\n      <td>食品/饮料/酒水</td>\n      <td>50-99人</td>\n      <td>https://www.liepin.com/job/1920268693.shtml</td>\n    </tr>\n    <tr>\n      <th>9</th>\n      <td>10</td>\n      <td>市场策划专员</td>\n      <td>['市场推广']</td>\n      <td>2020年12月17日</td>\n      <td>10-15k</td>\n      <td>深圳-南山区</td>\n      <td>否</td>\n      <td>一年以下</td>\n      <td>统招本科</td>\n      <td>融资未公开</td>\n      <td>海南房乐多网络科技有限公司</td>\n      <td>房地产租赁/中介</td>\n      <td>5000-10000人</td>\n      <td>https://www.liepin.com/job/1933857607.shtml</td>\n    </tr>\n    <tr>\n      <th>...</th>\n      <td>...</td>\n      <td>...</td>\n      <td>...</td>\n      <td>...</td>\n      <td>...</td>\n      <td>...</td>\n      <td>...</td>\n      <td>...</td>\n      <td>...</td>\n      <td>...</td>\n      <td>...</td>\n      <td>...</td>\n      <td>...</td>\n      <td>...</td>\n    </tr>\n    <tr>\n      <th>400</th>\n      <td>401</td>\n      <td>文案策划</td>\n      <td>['广告创意', '活动执行', '广告制作', '线上推广', '线下推广', '发布会'...</td>\n      <td>2021年04月22日</td>\n      <td>4-7k</td>\n      <td>深圳-龙岗区</td>\n      <td>否</td>\n      <td>1-3年</td>\n      <td>大专</td>\n      <td>融资未公开</td>\n      <td>深圳市明瞳视光科技有限公司</td>\n      <td>专业技术服务</td>\n      <td>50-99人</td>\n      <td>https://www.liepin.com/job/1929906743.shtml</td>\n    </tr>\n    <tr>\n      <th>401</th>\n      <td>402</td>\n      <td>网站运营</td>\n      <td>['新媒体运营', '产品运营']</td>\n      <td>2019年11月14日</td>\n      <td>4-5k</td>\n      <td>深圳</td>\n      <td>否</td>\n      <td>1-3年</td>\n      <td>大专</td>\n      <td>融资未公开</td>\n      <td>深圳市原味餐饮管理有限公司</td>\n      <td>专业技术服务</td>\n      <td>1-49人</td>\n      <td>https://www.liepin.com/job/1924494227.shtml</td>\n    </tr>\n    <tr>\n      <th>402</th>\n      <td>403</td>\n      <td>策划负责人</td>\n      <td>['品牌推广', '市场策划', '市场推广', '广告策划', '广告媒介']</td>\n      <td>2019年10月13日</td>\n      <td>8-16k</td>\n      <td>深圳</td>\n      <td>否</td>\n      <td>3-5年</td>\n      <td>大专</td>\n      <td>A轮</td>\n      <td>深圳优致健康医药有限公司</td>\n      <td>在线社交/媒体</td>\n      <td>100-499人</td>\n      <td>https://www.liepin.com/job/1924103165.shtml</td>\n    </tr>\n    <tr>\n      <th>403</th>\n      <td>404</td>\n      <td>营销策划主管/经理</td>\n      <td>['营销策划', '品牌策划', '广告策划', '营销活动', '广告媒介', '电子商务...</td>\n      <td>2023年12月27日</td>\n      <td>20-30k·13薪</td>\n      <td>深圳</td>\n      <td>否</td>\n      <td>3-5年</td>\n      <td>本科</td>\n      <td>B轮</td>\n      <td>深圳市橙子数字科技有限公司</td>\n      <td>智能硬件</td>\n      <td>100-499人</td>\n      <td>https://www.liepin.com/job/1963857701.shtml</td>\n    </tr>\n    <tr>\n      <th>404</th>\n      <td>405</td>\n      <td>品牌运营总监</td>\n      <td>['品牌运营', '快消品', '甲方公司背景']</td>\n      <td>2023年12月27日</td>\n      <td>70-90k</td>\n      <td>深圳-龙岗区</td>\n      <td>否</td>\n      <td>10年以上</td>\n      <td>本科</td>\n      <td>NaN</td>\n      <td>某知名公司</td>\n      <td>批发/零售</td>\n      <td>NaN</td>\n      <td>https://www.liepin.com/a/51862017.shtml</td>\n    </tr>\n  </tbody>\n</table>\n<p>393 rows × 14 columns</p>\n</div>"
     },
     "execution_count": 185,
     "metadata": {},
     "output_type": "execute_result"
    }
   ],
   "source": [
    "非薪资面议 = df_PM_gz [ ~df_PM_gz['薪资'].str.contains(\"面议|元/天\")]\n",
    "非薪资面议"
   ],
   "metadata": {
    "collapsed": false
   }
  },
  {
   "cell_type": "code",
   "execution_count": 186,
   "outputs": [
    {
     "data": {
      "text/plain": "[['12-15k'],\n ['8-15k'],\n ['9-14k', '13'],\n ['4-8k'],\n ['10-15k'],\n ['9-14k'],\n ['5-6k'],\n ['5-6k'],\n ['5-10k'],\n ['24-50k'],\n ['8-13k'],\n ['3-4k'],\n ['8-12k'],\n ['4-6k'],\n ['4-6k'],\n ['4-8k'],\n ['15-20k'],\n ['10-15k'],\n ['15-25k'],\n ['15-25k'],\n ['15-25k'],\n ['30-35k'],\n ['20-30k'],\n ['18-30k'],\n ['15-25k'],\n ['8-13k', '13'],\n ['7-12k', '13'],\n ['15-30k'],\n ['11-16k'],\n ['15-25k'],\n ['12-18k'],\n ['15-25k'],\n ['11-16k'],\n ['22-23k'],\n ['9-14k', '13'],\n ['11-15k'],\n ['8-12k'],\n ['10-15k'],\n ['10-15k'],\n ['15-25k', '13'],\n ['15-20k', '13'],\n ['10-14k'],\n ['12-15k'],\n ['10-15k', '14'],\n ['12-15k'],\n ['7-12k', '13'],\n ['10-15k'],\n ['8-15k'],\n ['40-70k'],\n ['18-30k'],\n ['15-18k', '14'],\n ['15-25k', '15'],\n ['250-300k'],\n ['30-50k'],\n ['30-45k', '15'],\n ['20-30k'],\n ['25-30k'],\n ['18-30k'],\n ['120-150k'],\n ['160-240k'],\n ['100-200k'],\n ['120-180k', '16'],\n ['25-40k', '15'],\n ['23-30k', '13'],\n ['15-25k'],\n ['10-15k'],\n ['20-35k', '13'],\n ['25-35k'],\n ['15-20k'],\n ['180-210k'],\n ['25-35k', '14'],\n ['13-18k', '13'],\n ['50-60k'],\n ['90-120k', '15'],\n ['10-18k'],\n ['10-15k'],\n ['10-15k', '13'],\n ['80-110k', '18'],\n ['30-40k'],\n ['11-20k'],\n ['20-30k'],\n ['18-28k'],\n ['15-20k'],\n ['10-15k'],\n ['30-50k'],\n ['8-12k', '14'],\n ['16-28k'],\n ['8-15k'],\n ['10-25k'],\n ['40-45k'],\n ['330-400k'],\n ['18-25k'],\n ['60-80k', '20'],\n ['6-9k'],\n ['10-15k', '15'],\n ['15-20k'],\n ['25-35k', '13'],\n ['12-20k'],\n ['15-20k'],\n ['10-15k'],\n ['15-25k', '13'],\n ['35-65k'],\n ['12-18k'],\n ['10-15k'],\n ['35-50k'],\n ['15-20k'],\n ['8-11k'],\n ['30-50k'],\n ['25-30k', '14'],\n ['9-14k'],\n ['35-60k'],\n ['8-13k'],\n ['9-15k'],\n ['15-18k'],\n ['8-12k'],\n ['6-9k'],\n ['25-45k', '14'],\n ['8-10k'],\n ['6-9k'],\n ['30-40k', '14'],\n ['100-200k'],\n ['15-25k', '14'],\n ['80-85k', '14'],\n ['10-20k'],\n ['20-30k'],\n ['40-60k'],\n ['120-160k'],\n ['10-15k', '15'],\n ['11-20k'],\n ['80-85k', '14'],\n ['10-20k'],\n ['8-10k'],\n ['11-18k'],\n ['15-30k'],\n ['20-40k'],\n ['8-15k'],\n ['8-13k'],\n ['25-35k'],\n ['8-13k'],\n ['7-12k'],\n ['8-15k', '13'],\n ['10-15k'],\n ['30-35k'],\n ['18-25k'],\n ['50-80k'],\n ['20-40k'],\n ['10-15k'],\n ['15-20k', '18'],\n ['50-80k'],\n ['50-70k'],\n ['15-25k', '13'],\n ['20-35k'],\n ['18-25k', '13'],\n ['18-25k'],\n ['25-45k'],\n ['18-25k'],\n ['25-40k'],\n ['25-35k', '13'],\n ['12-20k'],\n ['18-25k'],\n ['15-30k', '13'],\n ['18-25k'],\n ['15-30k'],\n ['100-150k', '14'],\n ['25-35k'],\n ['15-30k'],\n ['18-30k'],\n ['15-30k'],\n ['18-25k'],\n ['15-18k'],\n ['12-15k'],\n ['15-25k'],\n ['13-25k'],\n ['25-30k'],\n ['10-15k'],\n ['23-28k'],\n ['10-20k'],\n ['8-13k', '13'],\n ['8-10k'],\n ['18-25k'],\n ['15-20k', '13'],\n ['8-15k'],\n ['15-25k', '13'],\n ['25-40k'],\n ['15-25k', '14'],\n ['8-15k'],\n ['12-20k'],\n ['18-28k'],\n ['10-20k', '15'],\n ['12-18k'],\n ['10-12k', '13'],\n ['13-18k'],\n ['10-25k', '13'],\n ['15-25k'],\n ['7-11k', '13'],\n ['15-25k', '14'],\n ['14-25k', '16'],\n ['25-55k'],\n ['12-20k'],\n ['10-20k'],\n ['10-12k'],\n ['10-20k'],\n ['8-12k'],\n ['8-12k', '13'],\n ['18-30k'],\n ['13-18k'],\n ['6-15k'],\n ['10-15k'],\n ['10-14k', '14'],\n ['10-20k'],\n ['8-13k'],\n ['10-15k'],\n ['15-20k', '13'],\n ['8-10k'],\n ['20-30k', '15'],\n ['18-25k'],\n ['25-35k'],\n ['8-16k', '13'],\n ['13-15k', '13'],\n ['10-15k'],\n ['13-15k', '13'],\n ['6-12k'],\n ['6-8k'],\n ['8-13k'],\n ['10-13k'],\n ['13-18k'],\n ['15-30k'],\n ['20-35k'],\n ['15-20k'],\n ['12-25k'],\n ['10-15k'],\n ['10-24k'],\n ['10-15k'],\n ['4-9k'],\n ['12-15k'],\n ['15-25k'],\n ['15-25k', '13'],\n ['7-10k'],\n ['10-15k', '14'],\n ['10-20k'],\n ['8-15k'],\n ['15-25k', '13'],\n ['10-26k'],\n ['10-15k'],\n ['10-15k'],\n ['5-7k'],\n ['12-18k', '13'],\n ['10-15k'],\n ['10-20k'],\n ['8-12k'],\n ['8-15k'],\n ['10-20k'],\n ['15-25k'],\n ['10-15k'],\n ['10-15k'],\n ['8-13k', '13'],\n ['10-15k', '13'],\n ['12-24k'],\n ['9-12k'],\n ['4-6k'],\n ['18-20k'],\n ['12-15k'],\n ['15-30k'],\n ['20-45k'],\n ['10-15k'],\n ['20-35k', '13'],\n ['6-10k'],\n ['8-12k'],\n ['4-8k'],\n ['9-15k'],\n ['15-25k', '14'],\n ['6-10k', '13'],\n ['8-13k'],\n ['8-13k'],\n ['10-15k', '13'],\n ['8-12k'],\n ['20-50k'],\n ['10-15k'],\n ['6-10k'],\n ['6-8k'],\n ['10-15k'],\n ['6-8k'],\n ['6-12k'],\n ['8-12k'],\n ['15-25k'],\n ['15-30k'],\n ['12-20k'],\n ['12-20k', '13'],\n ['5-8k'],\n ['8-13k', '13'],\n ['15-25k'],\n ['15-23k', '13'],\n ['35-65k', '14'],\n ['14-20k'],\n ['8-15k'],\n ['15-30k'],\n ['7-9k'],\n ['5-15k'],\n ['10-15k'],\n ['6-9k', '13'],\n ['12-15k', '13'],\n ['10-15k'],\n ['8-12k'],\n ['15-25k', '13'],\n ['14-20k'],\n ['12-30k'],\n ['18-20k'],\n ['10-15k'],\n ['15-25k', '14'],\n ['6-8k'],\n ['10-15k'],\n ['8-12k'],\n ['7-10k'],\n ['10-11k'],\n ['10-15k'],\n ['10-14k', '14'],\n ['8-13k'],\n ['8-15k'],\n ['10-15k'],\n ['8-15k'],\n ['10-16k'],\n ['8-12k'],\n ['6-10k'],\n ['15-30k'],\n ['10-15k'],\n ['5-8k', '13'],\n ['15-25k', '14'],\n ['8-10k'],\n ['6-10k', '13'],\n ['10-15k'],\n ['9-12k'],\n ['8-12k'],\n ['8-12k'],\n ['6-12k'],\n ['5-7k'],\n ['7-12k'],\n ['9-12k'],\n ['8-13k'],\n ['15-30k'],\n ['8-15k'],\n ['4-9k'],\n ['6-10k'],\n ['10-12k'],\n ['7-10k'],\n ['12-20k'],\n ['8-16k'],\n ['8-20k'],\n ['5-8k'],\n ['6-8k'],\n ['15-20k', '14'],\n ['4-8k'],\n ['6-8k'],\n ['8-10k'],\n ['10-15k'],\n ['15-25k'],\n ['17-22k', '13'],\n ['7-9k', '15'],\n ['35-65k', '14'],\n ['8-13k'],\n ['6-8k'],\n ['6-10k'],\n ['5-8k'],\n ['6-10k'],\n ['6-10k', '13'],\n ['4-7k'],\n ['6-9k'],\n ['10-20k', '15'],\n ['8-12k'],\n ['7-9k'],\n ['6-11k'],\n ['8-10k'],\n ['10-20k'],\n ['16-20k'],\n ['6-8k'],\n ['4-8k'],\n ['12-15k'],\n ['5-10k'],\n ['10-15k'],\n ['8-10k'],\n ['8-10k'],\n ['8-12k'],\n ['8-13k', '13'],\n ['7-10k'],\n ['7-12k'],\n ['6-10k'],\n ['8-12k'],\n ['8-10k'],\n ['7-12k'],\n ['4-7k'],\n ['4-5k'],\n ['8-16k'],\n ['20-30k', '13'],\n ['70-90k']]"
     },
     "execution_count": 186,
     "metadata": {},
     "output_type": "execute_result"
    }
   ],
   "source": [
    "非薪资面议_detail = 非薪资面议['薪资'].apply(lambda x:x.split('薪')[0].split('·')).tolist()\n",
    "非薪资面议_detail"
   ],
   "metadata": {
    "collapsed": false
   }
  },
  {
   "cell_type": "code",
   "execution_count": 187,
   "outputs": [
    {
     "data": {
      "text/plain": "[13.5,\n 11.5,\n 12.5,\n 6.0,\n 12.5,\n 11.5,\n 5.5,\n 5.5,\n 7.5,\n 37.0,\n 10.5,\n 3.5,\n 10.0,\n 5.0,\n 5.0,\n 6.0,\n 17.5,\n 12.5,\n 20.0,\n 20.0,\n 20.0,\n 32.5,\n 25.0,\n 24.0,\n 20.0,\n 11.4,\n 10.3,\n 22.5,\n 13.5,\n 20.0,\n 15.0,\n 20.0,\n 13.5,\n 22.5,\n 12.5,\n 13.0,\n 10.0,\n 12.5,\n 12.5,\n 21.7,\n 19.0,\n 12.0,\n 13.5,\n 14.6,\n 13.5,\n 10.3,\n 12.5,\n 11.5,\n 55.0,\n 24.0,\n 19.2,\n 25.0,\n 275.0,\n 40.0,\n 46.9,\n 25.0,\n 27.5,\n 24.0,\n 135.0,\n 200.0,\n 150.0,\n 200.0,\n 40.6,\n 28.7,\n 20.0,\n 12.5,\n 29.8,\n 30.0,\n 17.5,\n 195.0,\n 35.0,\n 16.8,\n 55.0,\n 131.2,\n 14.0,\n 12.5,\n 13.5,\n 142.5,\n 35.0,\n 15.5,\n 25.0,\n 23.0,\n 17.5,\n 12.5,\n 40.0,\n 11.7,\n 22.0,\n 11.5,\n 17.5,\n 42.5,\n 365.0,\n 21.5,\n 116.7,\n 7.5,\n 15.6,\n 17.5,\n 32.5,\n 16.0,\n 17.5,\n 12.5,\n 21.7,\n 50.0,\n 15.0,\n 12.5,\n 42.5,\n 17.5,\n 9.5,\n 40.0,\n 32.1,\n 11.5,\n 47.5,\n 10.5,\n 12.0,\n 16.5,\n 10.0,\n 7.5,\n 40.8,\n 9.0,\n 7.5,\n 40.8,\n 150.0,\n 23.3,\n 96.2,\n 15.0,\n 25.0,\n 50.0,\n 140.0,\n 15.6,\n 15.5,\n 96.2,\n 15.0,\n 9.0,\n 14.5,\n 22.5,\n 30.0,\n 11.5,\n 10.5,\n 30.0,\n 10.5,\n 9.5,\n 12.5,\n 12.5,\n 32.5,\n 21.5,\n 65.0,\n 30.0,\n 12.5,\n 26.2,\n 65.0,\n 60.0,\n 21.7,\n 27.5,\n 23.3,\n 21.5,\n 35.0,\n 21.5,\n 32.5,\n 32.5,\n 16.0,\n 21.5,\n 24.4,\n 21.5,\n 22.5,\n 145.8,\n 30.0,\n 22.5,\n 24.0,\n 22.5,\n 21.5,\n 16.5,\n 13.5,\n 20.0,\n 19.0,\n 27.5,\n 12.5,\n 25.5,\n 15.0,\n 11.4,\n 9.0,\n 21.5,\n 19.0,\n 11.5,\n 21.7,\n 32.5,\n 23.3,\n 11.5,\n 16.0,\n 23.0,\n 18.8,\n 15.0,\n 11.9,\n 15.5,\n 19.0,\n 20.0,\n 9.8,\n 23.3,\n 26.0,\n 40.0,\n 16.0,\n 15.0,\n 11.0,\n 15.0,\n 10.0,\n 10.8,\n 24.0,\n 15.5,\n 10.5,\n 12.5,\n 14.0,\n 15.0,\n 10.5,\n 12.5,\n 19.0,\n 9.0,\n 31.2,\n 21.5,\n 30.0,\n 13.0,\n 15.2,\n 12.5,\n 15.2,\n 9.0,\n 7.0,\n 10.5,\n 11.5,\n 15.5,\n 22.5,\n 27.5,\n 17.5,\n 18.5,\n 12.5,\n 17.0,\n 12.5,\n 6.5,\n 13.5,\n 20.0,\n 21.7,\n 8.5,\n 14.6,\n 15.0,\n 11.5,\n 21.7,\n 18.0,\n 12.5,\n 12.5,\n 6.0,\n 16.2,\n 12.5,\n 15.0,\n 10.0,\n 11.5,\n 15.0,\n 20.0,\n 12.5,\n 12.5,\n 11.4,\n 13.5,\n 18.0,\n 10.5,\n 5.0,\n 19.0,\n 13.5,\n 22.5,\n 32.5,\n 12.5,\n 29.8,\n 8.0,\n 10.0,\n 6.0,\n 12.0,\n 23.3,\n 8.7,\n 10.5,\n 10.5,\n 13.5,\n 10.0,\n 35.0,\n 12.5,\n 8.0,\n 7.0,\n 12.5,\n 7.0,\n 9.0,\n 10.0,\n 20.0,\n 22.5,\n 16.0,\n 17.3,\n 6.5,\n 11.4,\n 20.0,\n 20.6,\n 58.3,\n 17.0,\n 11.5,\n 22.5,\n 8.0,\n 10.0,\n 12.5,\n 8.1,\n 14.6,\n 12.5,\n 10.0,\n 21.7,\n 17.0,\n 21.0,\n 19.0,\n 12.5,\n 23.3,\n 7.0,\n 12.5,\n 10.0,\n 8.5,\n 10.5,\n 12.5,\n 14.0,\n 10.5,\n 11.5,\n 12.5,\n 11.5,\n 13.0,\n 10.0,\n 8.0,\n 22.5,\n 12.5,\n 7.0,\n 23.3,\n 9.0,\n 8.7,\n 12.5,\n 10.5,\n 10.0,\n 10.0,\n 9.0,\n 6.0,\n 9.5,\n 10.5,\n 10.5,\n 22.5,\n 11.5,\n 6.5,\n 8.0,\n 11.0,\n 8.5,\n 16.0,\n 12.0,\n 14.0,\n 6.5,\n 7.0,\n 20.4,\n 6.0,\n 7.0,\n 9.0,\n 12.5,\n 20.0,\n 21.1,\n 10.0,\n 58.3,\n 10.5,\n 7.0,\n 8.0,\n 6.5,\n 8.0,\n 8.7,\n 5.5,\n 7.5,\n 18.8,\n 10.0,\n 8.0,\n 8.5,\n 9.0,\n 15.0,\n 18.0,\n 7.0,\n 6.0,\n 13.5,\n 7.5,\n 12.5,\n 9.0,\n 9.0,\n 10.0,\n 11.4,\n 8.5,\n 9.5,\n 8.0,\n 10.0,\n 9.0,\n 9.5,\n 5.5,\n 4.5,\n 12.0,\n 27.1,\n 80.0]"
     },
     "execution_count": 187,
     "metadata": {},
     "output_type": "execute_result"
    }
   ],
   "source": [
    "平均薪资 = [ (int(i[0].split('-')[0]) +int(i[0].split('-')[1].split('k')[0]))/2    \\\n",
    " if len(i)==1 else round((int(i[0].split('-')[0]) +int(i[0].split('-')[1].split('k')[0]))/2*int(i[1])/12,1)     \\\n",
    " for i in 非薪资面议_detail        ]\n",
    "平均薪资"
   ],
   "metadata": {
    "collapsed": false
   }
  },
  {
   "cell_type": "code",
   "execution_count": 188,
   "outputs": [
    {
     "name": "stderr",
     "output_type": "stream",
     "text": [
      "C:\\Users\\17728\\AppData\\Local\\Temp\\ipykernel_25820\\3896161248.py:1: SettingWithCopyWarning: \n",
      "A value is trying to be set on a copy of a slice from a DataFrame.\n",
      "Try using .loc[row_indexer,col_indexer] = value instead\n",
      "\n",
      "See the caveats in the documentation: https://pandas.pydata.org/pandas-docs/stable/user_guide/indexing.html#returning-a-view-versus-a-copy\n",
      "  非薪资面议['平均薪资']=平均薪资\n"
     ]
    }
   ],
   "source": [
    "非薪资面议['平均薪资']=平均薪资"
   ],
   "metadata": {
    "collapsed": false
   }
  },
  {
   "cell_type": "code",
   "execution_count": 189,
   "outputs": [],
   "source": [
    "分地区_平均薪资 = 非薪资面议.groupby('地区').agg({'平均薪资':'median'})\n",
    "分地区_平均薪资[1:].to_excel(f'excels/{cities}/{key}/{output_time}/猎聘{城市}_{关键词}-平均薪资-{output_time}.xlsx')"
   ],
   "metadata": {
    "collapsed": false
   }
  },
  {
   "cell_type": "code",
   "execution_count": null,
   "outputs": [],
   "source": [
    "# 分地区_平均薪资_values =  [round(i[0],1) for i in 分地区_平均薪资.values.tolist()]\n",
    "# 分地区_平均薪资_values = 分地区_平均薪资_values[1:]"
   ],
   "metadata": {
    "collapsed": false
   }
  },
  {
   "cell_type": "code",
   "execution_count": null,
   "outputs": [],
   "source": [
    "# 分地区_平均薪资_index = 分地区_平均薪资.index.tolist()\n",
    "# 分地区_平均薪资_index = 分地区_平均薪资_index[1:]"
   ],
   "metadata": {
    "collapsed": false
   }
  },
  {
   "cell_type": "code",
   "execution_count": null,
   "outputs": [],
   "source": [
    "# 分地区_平均薪资_values"
   ],
   "metadata": {
    "collapsed": false
   }
  },
  {
   "cell_type": "code",
   "execution_count": null,
   "outputs": [],
   "source": [
    "# 分地区_平均薪资_index"
   ],
   "metadata": {
    "collapsed": false
   }
  },
  {
   "cell_type": "code",
   "execution_count": null,
   "outputs": [],
   "source": [],
   "metadata": {
    "collapsed": false
   }
  },
  {
   "cell_type": "code",
   "execution_count": null,
   "outputs": [],
   "source": [],
   "metadata": {
    "collapsed": false
   }
  }
 ],
 "metadata": {
  "kernelspec": {
   "display_name": "Python 3",
   "language": "python",
   "name": "python3"
  },
  "language_info": {
   "codemirror_mode": {
    "name": "ipython",
    "version": 2
   },
   "file_extension": ".py",
   "mimetype": "text/x-python",
   "name": "python",
   "nbconvert_exporter": "python",
   "pygments_lexer": "ipython2",
   "version": "2.7.6"
  }
 },
 "nbformat": 4,
 "nbformat_minor": 0
}
