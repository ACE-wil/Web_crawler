{
 "cells": [
  {
   "cell_type": "markdown",
   "source": [
    "# 1.定义北上广深城市代码"
   ],
   "metadata": {
    "collapsed": false
   }
  },
  {
   "cell_type": "code",
   "execution_count": 1,
   "outputs": [],
   "source": [
    "city = [\n",
    "    {'code': '010', 'name': '北京'},\n",
    " {'code': '020', 'name': '上海'},\n",
    "{'code': '050020', 'name': '广州'},\n",
    " {'code': '050090', 'name': '深圳'},\n",
    "]"
   ],
   "metadata": {
    "collapsed": false
   }
  },
  {
   "cell_type": "markdown",
   "source": [
    "# 2.定义学历对应的代码"
   ],
   "metadata": {
    "collapsed": false
   }
  },
  {
   "cell_type": "code",
   "execution_count": 2,
   "outputs": [],
   "source": [
    "edulevel = [\n",
    "    {'code': \"010\", 'name': \"博士\"},\n",
    "{'code': \"020\", 'name': \"MBA/EMBA\"},\n",
    "{'code': \"030\", 'name': \"硕士\"},\n",
    "{'code': \"040\", 'name': \"本科\"},]"
   ],
   "metadata": {
    "collapsed": false
   }
  },
  {
   "cell_type": "markdown",
   "source": [
    "# 3.定义选择城市获取对应城市代码函数"
   ],
   "metadata": {
    "collapsed": false
   }
  },
  {
   "cell_type": "code",
   "execution_count": 3,
   "outputs": [],
   "source": [
    "def choose_city(city_name):\n",
    "    for i in city:\n",
    "        if i['name'] == city_name:\n",
    "            return i['code']"
   ],
   "metadata": {
    "collapsed": false
   }
  },
  {
   "cell_type": "markdown",
   "source": [
    "# 4.定义选择学历获取对应的代码"
   ],
   "metadata": {
    "collapsed": false
   }
  },
  {
   "cell_type": "code",
   "execution_count": 4,
   "outputs": [],
   "source": [
    "def choose_edu_level(edu_level):\n",
    "    for i in edulevel:\n",
    "        if i['name'] == edu_level:\n",
    "            return i['code']"
   ],
   "metadata": {
    "collapsed": false
   }
  },
  {
   "cell_type": "markdown",
   "source": [
    "# 5.定义请求头函数"
   ],
   "metadata": {
    "collapsed": false
   }
  },
  {
   "cell_type": "code",
   "execution_count": 5,
   "outputs": [],
   "source": [
    "def headers():\n",
    "    liepin_headers = {\n",
    "    \"Accept\": \"application/json, text/plain, */*\",\n",
    "    \"Accept-Encoding\": \"gzip, deflate, br\",\n",
    "    \"Accept-Language\": \"zh-CN,zh;q=0.9\",\n",
    "    \"Connection\": \"keep-alive\",\n",
    "    \"Content-Length\": \"481\",\n",
    "    \"Content-Type\": \"application/json;charset=UTF-8;\",\n",
    "    \"Cookie\": \"__gc_id=2d0435e250c44cbcad040f198a36b22f; _ga=GA1.1.1130967964.1695714868; __uuid=1695714873059.11; need_bind_tel=false; new_user=false; c_flag=fd8e161021d62dd50e5032f3c60a147a; imId=40be7e37d455d9dc3e4f5f0f695234e5; imId_0=40be7e37d455d9dc3e4f5f0f695234e5; imClientId=40be7e37d455d9dca12bac537377bfad; imClientId_0=40be7e37d455d9dca12bac537377bfad; access_system=C; __tlog=1703398985503.67%7C00000000%7C00000000%7Csm_pc_003%7Csm_pc_003; XSRF-TOKEN=2kv8d9FvQgCzkPFO3lKF0Q; UniqueKey=fe87a9f3258ac642a9dba665e9526a14; liepin_login_valid=0; lt_auth=vbkKP3QMxlXw4XfcjTcLtacfj9%2BsU2yYpnhehk8FhoK5W6Ll4P%2FgSwuCq7gH%2FioIqxhyd%2FwzMLf%2BNuv3wHNK7UsU%2FlGkkIC0uuW52GEBSOJcN8W2vezHl8zSRpscl0AC8nFbtkIL%2BQ%3D%3D; inited_user=0b40e95258783b742e53b3c4507c0e74; user_roles=0; user_photo=5f8fa3a679c7cc70efbf444e08u.png; user_name=%E6%B2%88%E8%BF%9E%E6%9D%B0; Hm_lvt_a2647413544f5a04f00da7eee0d5e200=1703240332,1703262998,1703317568,1703399009; hpo_role-sec_project=sec_project_liepin; hpo_sec_tenant=0; imApp_0=1; acw_tc=2760828b17034015495713755e5fbff604025b8401e1a1b80c1162945b366d; Hm_lpvt_a2647413544f5a04f00da7eee0d5e200=1703401553; fe_im_socketSequence_new_0=5_3_3; __session_seq=16; __uv_seq=16; __tlg_event_seq=186; fe_im_opened_pages=_1703401553203; fe_im_connectJson_0=%7B%220_fe87a9f3258ac642a9dba665e9526a14%22%3A%7B%22socketConnect%22%3A%222%22%2C%22connectDomain%22%3A%22liepin.com%22%7D%7D; _ga_54YTJKWN86=GS1.1.1703401552.40.1.1703402477.0.0.0\",\n",
    "    \"Host\": \"api-c.liepin.com\",\n",
    "    \"Origin\": \"https://www.liepin.com\",\n",
    "    \"Referer\": \"https://www.liepin.com/\",\n",
    "    \"Sec-Fetch-Dest\": \"empty\",\n",
    "    \"Sec-Fetch-Mode\": \"cors\",\n",
    "    \"Sec-Fetch-Site\": \"same-site\",\n",
    "    \"User-Agent\": \"Mozilla/5.0 (Windows NT 10.0; Win64; x64) AppleWebKit/537.36 (KHTML, like Gecko) Chrome/119.0.0.0 Safari/537.36\",\n",
    "    \"X-Client-Type\": \"web\",\n",
    "    \"X-Fscp-Bi-Stat\": \"{\\\"location\\\": \\\"https://www.liepin.com/zhaopin/?city=010&dq=010&pubTime=&currentPage=0&pageSize=40&key=%E5%B9%BF%E5%91%8A%E8%AE%BE%E8%AE%A1&suggestTag=&workYearCode=&compId=&compName=&compTag=&industry=&salary=&jobKind=&compScale=&compKind=&compStage=&eduLevel=&otherCity=&sfrom=search_job_pc&ckId=hwqtxy4hjgh43vyjr18mhjllcn1tm569&scene=condition&skId=obnqzoiqfvp1wh189k0llbvb97gde5hb&fkId=hwqtxy4hjgh43vyjr18mhjllcn1tm569&suggestId=\\\"}\",\n",
    "    \"X-Fscp-Fe-Version\": \"\",\n",
    "    \"X-Fscp-Std-Info\": \"{\\\"client_id\\\": \\\"40108\\\"}\",\n",
    "    \"X-Fscp-Trace-Id\": \"2a838791-5d9b-4309-8ff1-e3a36413cb85\",\n",
    "    \"X-Fscp-Version\": \"1.1\",\n",
    "    \"X-Requested-With\": \"XMLHttpRequest\",\n",
    "    \"X-XSRF-TOKEN\": \"2kv8d9FvQgCzkPFO3lKF0Q\",\n",
    "    \"sec-ch-ua\": \"\\\"Google Chrome\\\";v=\\\"119\\\", \\\"Chromium\\\";v=\\\"119\\\", \\\"Not?A_Brand\\\";v=\\\"24\\\"\",\n",
    "    \"sec-ch-ua-mobile\": \"?0\",\n",
    "    \"sec-ch-ua-platform\": \"\\\"Windows\\\"\"\n",
    "}\n",
    "\n",
    "    return liepin_headers"
   ],
   "metadata": {
    "collapsed": false
   }
  },
  {
   "cell_type": "markdown",
   "source": [
    "# 6.联网以及定义请求url，引入pandas和json库"
   ],
   "metadata": {
    "collapsed": false
   }
  },
  {
   "cell_type": "code",
   "execution_count": 6,
   "outputs": [],
   "source": [
    "import pandas\n",
    "from requests_html import HTMLSession\n",
    "import json\n",
    "import pandas as pd\n",
    "\n",
    "url = \"https://apic.liepin.com/api/com.liepin.searchfront4c.pc-search-job\""
   ],
   "metadata": {
    "collapsed": false
   }
  },
  {
   "cell_type": "markdown",
   "source": [
    "# 7.定义爬取猎聘网站函数，参数有城市和关键词和学历"
   ],
   "metadata": {
    "collapsed": false
   }
  },
  {
   "cell_type": "code",
   "execution_count": 7,
   "outputs": [],
   "source": [
    "# def payloadd(城市,关键词,学历):\n",
    "#     payload = {\n",
    "#     \"data\": {\n",
    "#         \"mainSearchPcConditionForm\": {\n",
    "#             \"city\": choose_city(城市),\n",
    "#             \"dq\": choose_city(城市),\n",
    "#             \"pubTime\": \"\",\n",
    "#             \"currentPage\": 0,\n",
    "#             \"pageSize\": 40,\n",
    "#             \"key\": 关键词,\n",
    "#             \"suggestTag\": \"\",\n",
    "#             \"workYearCode\": '',\n",
    "#             \"compId\": \"\",\n",
    "#             \"compName\": \"\",\n",
    "#             \"compTag\": \"\",\n",
    "#             \"industry\": \"\",\n",
    "#             \"salary\": \"\",\n",
    "#             \"jobKind\": \"\",\n",
    "#             \"compScale\": \"\",\n",
    "#             \"compKind\": \"\",\n",
    "#             \"compStage\": \"\",\n",
    "#             \"eduLevel\": choose_edu_level(学历)\n",
    "#         },\n",
    "#         \"passThroughForm\": {\n",
    "#             \"scene\": \"input\",\n",
    "#             \"skId\": \"\",\n",
    "#             \"fkId\": \"\",\n",
    "#             \"ckId\": \"h2c8pxojavrmo1w785z7ueih2ybfpux8\",\n",
    "#             \"suggest\": None\n",
    "#         }\n",
    "#     }\n",
    "# }\n",
    "#     return payload"
   ],
   "metadata": {
    "collapsed": false
   }
  },
  {
   "cell_type": "code",
   "execution_count": 8,
   "outputs": [],
   "source": [
    "def payloadd(城市,关键词):\n",
    "    payload = {\n",
    "    \"data\": {\n",
    "        \"mainSearchPcConditionForm\": {\n",
    "            \"city\": choose_city(城市),\n",
    "            \"dq\": choose_city(城市),\n",
    "            \"pubTime\": \"\",\n",
    "            \"currentPage\": 0,\n",
    "            \"pageSize\": 40,\n",
    "            \"key\": 关键词,\n",
    "            \"suggestTag\": \"\",\n",
    "            \"workYearCode\": '',\n",
    "            \"compId\": \"\",\n",
    "            \"compName\": \"\",\n",
    "            \"compTag\": \"\",\n",
    "            \"industry\": \"\",\n",
    "            \"salary\": \"\",\n",
    "            \"jobKind\": \"\",\n",
    "            \"compScale\": \"\",\n",
    "            \"compKind\": \"\",\n",
    "            \"compStage\": \"\",\n",
    "            \"eduLevel\": \"\"\n",
    "        },\n",
    "        \"passThroughForm\": {\n",
    "            \"scene\": \"input\",\n",
    "            \"skId\": \"\",\n",
    "            \"fkId\": \"\",\n",
    "            \"ckId\": \"6kgzm7tcrvofclqukj6vmucx0ai9zl79\",\n",
    "            \"sfrom\":\"search_job_pc\"\n",
    "        }\n",
    "    }\n",
    "}\n",
    "    return payload"
   ],
   "metadata": {
    "collapsed": false
   }
  },
  {
   "cell_type": "markdown",
   "source": [
    "# 8.输入对应内容获取求职信息"
   ],
   "metadata": {
    "collapsed": false
   }
  },
  {
   "cell_type": "code",
   "execution_count": 9,
   "outputs": [],
   "source": [
    "城市 = input('输入城市，目前支持北京、上海、广州、深圳')"
   ],
   "metadata": {
    "collapsed": false
   }
  },
  {
   "cell_type": "code",
   "execution_count": 10,
   "outputs": [],
   "source": [
    "关键词 = input('关键词，任意职位即可')"
   ],
   "metadata": {
    "collapsed": false
   }
  },
  {
   "cell_type": "code",
   "execution_count": 11,
   "outputs": [],
   "source": [
    "# 学历 = input('学历，如本科、硕士、博士')"
   ],
   "metadata": {
    "collapsed": false
   }
  },
  {
   "cell_type": "markdown",
   "source": [
    "# 9.请求猎聘网数据"
   ],
   "metadata": {
    "collapsed": false
   }
  },
  {
   "cell_type": "code",
   "execution_count": 12,
   "outputs": [
    {
     "data": {
      "text/plain": "{'flag': 1,\n 'data': {'data': {'jobCardList': [{'job': {'labels': ['广告策划'],\n      'link': 'https://www.liepin.com/job/1958806367.shtml',\n      'title': '广告策划',\n      'salary': '9-12k',\n      'requireEduLevel': '本科',\n      'jobKind': '2',\n      'jobId': '58806367',\n      'refreshTime': '20230818093726',\n      'dq': '上海-静安区',\n      'topJob': False,\n      'advViewFlag': False,\n      'requireWorkYears': '经验不限',\n      'pcOuterLink': '',\n      'h5OuterLink': '',\n      'dataPromId': 'd_sfrom=search_prime&d_ckId=null&d_curPage=0&d_pageSize=40&d_headId=null&d_posi=0&skId=6kgzm7tcrvofclqukj6vmucx0ai9zl79&fkId=6kgzm7tcrvofclqukj6vmucx0ai9zl79&ckId=6kgzm7tcrvofclqukj6vmucx0ai9zl79&sfrom=search_job_pc&curPage=0&pageSize=40&index=0'},\n     'recruiter': {'imId': 'b7b1c0386e10f30804612e645251413c',\n      'imUserType': '2',\n      'chatted': False,\n      'recruiterId': 'ef4410271ee507db4ebe78f8d139964e',\n      'recruiterName': '佘女士',\n      'recruiterTitle': '人事',\n      'recruiterPhoto': '5f8f986779c7cc70efbf36c008u.jpg'},\n     'dataInfo': '%7B%22sfrom%22%3A%22search_job_pc%22%2C%22jobKind%22%3A%222%22%2C%22jobId%22%3A%2258806367%22%2C%22ckId%22%3A%226kgzm7tcrvofclqukj6vmucx0ai9zl79%22%2C%22scene%22%3A%22input%22%2C%22skId%22%3A%226kgzm7tcrvofclqukj6vmucx0ai9zl79%22%2C%22fkId%22%3A%226kgzm7tcrvofclqukj6vmucx0ai9zl79%22%2C%22pageSize%22%3A%2240%22%2C%22curPage%22%3A%220%22%2C%22d_curPage%22%3A%220%22%2C%22d_pageSize%22%3A%2240%22%2C%22as_from%22%3A%22search_prime%22%7D',\n     'dataParams': '{\"imId\":\"b7b1c0386e10f30804612e645251413c\",\"imUserType\":\"2\",\"jobKind\":\"2\",\"jobId\":\"58806367\",\"userId\":\"ef4410271ee507db4ebe78f8d139964e\",\"recruiterName\":\"佘女士\",\"recruiterPhoto\":\"5f8f986779c7cc70efbf36c008u.jpg\"}',\n     'comp': {'link': 'https://www.liepin.com/company/12325901/',\n      'compName': '有料广告',\n      'compScale': '1-49人',\n      'compStage': '融资未公开',\n      'compLogo': '646daf1a747e5c46be0c72ba05u.jpg',\n      'compId': 12325901,\n      'compIndustry': '专业技术服务'}},\n    {'job': {'labels': [],\n      'link': 'https://www.liepin.com/job/1946447123.shtml',\n      'title': '实习生（广告策划执行） – Digital Marketing Intern',\n      'salary': '2-4k',\n      'requireEduLevel': '本科',\n      'jobKind': '2',\n      'jobId': '46447123',\n      'refreshTime': '20230726141127',\n      'dq': '上海-徐汇区',\n      'topJob': False,\n      'advViewFlag': False,\n      'requireWorkYears': '经验不限',\n      'pcOuterLink': '',\n      'h5OuterLink': '',\n      'dataPromId': 'd_sfrom=search_prime&d_ckId=null&d_curPage=0&d_pageSize=40&d_headId=null&d_posi=1&skId=6kgzm7tcrvofclqukj6vmucx0ai9zl79&fkId=6kgzm7tcrvofclqukj6vmucx0ai9zl79&ckId=6kgzm7tcrvofclqukj6vmucx0ai9zl79&sfrom=search_job_pc&curPage=0&pageSize=40&index=1'},\n     'recruiter': {'imId': 'c823ddf91c5fe5cce68ea511f8a9efc5',\n      'imUserType': '2',\n      'chatted': False,\n      'recruiterId': 'ab7a57a627101bfe2be08dc37d54b6f3',\n      'recruiterName': '何女士',\n      'recruiterTitle': 'TA',\n      'recruiterPhoto': '5f8f98648dbe6273dcf8515508u.jpg'},\n     'dataInfo': '%7B%22sfrom%22%3A%22search_job_pc%22%2C%22jobKind%22%3A%222%22%2C%22jobId%22%3A%2246447123%22%2C%22ckId%22%3A%226kgzm7tcrvofclqukj6vmucx0ai9zl79%22%2C%22scene%22%3A%22input%22%2C%22skId%22%3A%226kgzm7tcrvofclqukj6vmucx0ai9zl79%22%2C%22fkId%22%3A%226kgzm7tcrvofclqukj6vmucx0ai9zl79%22%2C%22pageSize%22%3A%2240%22%2C%22curPage%22%3A%220%22%2C%22d_curPage%22%3A%220%22%2C%22d_pageSize%22%3A%2240%22%2C%22as_from%22%3A%22search_prime%22%7D',\n     'dataParams': '{\"imId\":\"c823ddf91c5fe5cce68ea511f8a9efc5\",\"imUserType\":\"2\",\"jobKind\":\"2\",\"jobId\":\"46447123\",\"userId\":\"ab7a57a627101bfe2be08dc37d54b6f3\",\"recruiterName\":\"何女士\",\"recruiterPhoto\":\"5f8f98648dbe6273dcf8515508u.jpg\"}',\n     'comp': {'link': 'https://www.liepin.com/company/8272042/',\n      'compName': '瀚与翼',\n      'compScale': '50-99人',\n      'compStage': '融资未公开',\n      'compLogo': '61c54a5c64f02422cbb5113102u.png',\n      'compId': 8272042,\n      'compIndustry': '专业技术服务'}},\n    {'job': {'labels': ['电商平台'],\n      'link': 'https://www.liepin.com/job/1956498145.shtml',\n      'title': '电商广告策划',\n      'salary': '8-11k·13薪',\n      'requireEduLevel': '本科',\n      'jobKind': '2',\n      'jobId': '56498145',\n      'refreshTime': '20230227104151',\n      'dq': '上海-静安区',\n      'topJob': False,\n      'advViewFlag': False,\n      'requireWorkYears': '经验不限',\n      'pcOuterLink': '',\n      'h5OuterLink': '',\n      'dataPromId': 'd_sfrom=search_prime&d_ckId=null&d_curPage=0&d_pageSize=40&d_headId=null&d_posi=2&skId=6kgzm7tcrvofclqukj6vmucx0ai9zl79&fkId=6kgzm7tcrvofclqukj6vmucx0ai9zl79&ckId=6kgzm7tcrvofclqukj6vmucx0ai9zl79&sfrom=search_job_pc&curPage=0&pageSize=40&index=2'},\n     'recruiter': {'imId': '9f80db4d7554d22be0d71104ecc2e595',\n      'imUserType': '2',\n      'chatted': False,\n      'recruiterId': 'dc5f7372900c47cbac06d00d0050166c',\n      'recruiterName': '沈女士',\n      'recruiterTitle': '人力资源管理实习生',\n      'recruiterPhoto': '5f8f9866dfb13a7dee342f1808u.jpg'},\n     'dataInfo': '%7B%22sfrom%22%3A%22search_job_pc%22%2C%22jobKind%22%3A%222%22%2C%22jobId%22%3A%2256498145%22%2C%22ckId%22%3A%226kgzm7tcrvofclqukj6vmucx0ai9zl79%22%2C%22scene%22%3A%22input%22%2C%22skId%22%3A%226kgzm7tcrvofclqukj6vmucx0ai9zl79%22%2C%22fkId%22%3A%226kgzm7tcrvofclqukj6vmucx0ai9zl79%22%2C%22pageSize%22%3A%2240%22%2C%22curPage%22%3A%220%22%2C%22d_curPage%22%3A%220%22%2C%22d_pageSize%22%3A%2240%22%2C%22as_from%22%3A%22search_prime%22%7D',\n     'dataParams': '{\"imId\":\"9f80db4d7554d22be0d71104ecc2e595\",\"imUserType\":\"2\",\"jobKind\":\"2\",\"jobId\":\"56498145\",\"userId\":\"dc5f7372900c47cbac06d00d0050166c\",\"recruiterName\":\"沈女士\",\"recruiterPhoto\":\"5f8f9866dfb13a7dee342f1808u.jpg\"}',\n     'comp': {'link': 'https://www.liepin.com/company/2615574/',\n      'compName': '群邑(上海)广告有限公司',\n      'compScale': '10000人以上',\n      'compLogo': '5ece164af1b6f069706433da06u.png',\n      'compId': 2615574,\n      'compIndustry': '广告/公关/会展'}},\n    {'job': {'labels': ['媒介媒体', '广告文案', '活动文案', '新媒体文案', '品牌文案'],\n      'link': 'https://www.liepin.com/job/1925088147.shtml',\n      'title': '广告策划/文案',\n      'salary': '8-12k',\n      'requireEduLevel': '本科',\n      'jobKind': '2',\n      'jobId': '25088147',\n      'refreshTime': '20191203140001',\n      'dq': '上海',\n      'topJob': False,\n      'advViewFlag': False,\n      'requireWorkYears': '经验不限',\n      'pcOuterLink': '',\n      'h5OuterLink': '',\n      'dataPromId': 'd_sfrom=search_prime&d_ckId=null&d_curPage=0&d_pageSize=40&d_headId=null&d_posi=3&skId=6kgzm7tcrvofclqukj6vmucx0ai9zl79&fkId=6kgzm7tcrvofclqukj6vmucx0ai9zl79&ckId=6kgzm7tcrvofclqukj6vmucx0ai9zl79&sfrom=search_job_pc&curPage=0&pageSize=40&index=3'},\n     'recruiter': {'imId': 'f086316927445b55e3a362ce23913155',\n      'imUserType': '2',\n      'chatted': False,\n      'recruiterId': '53da6fed5384d274258924040bc7a85b',\n      'recruiterName': '曹女士',\n      'recruiterTitle': '合伙人',\n      'recruiterPhoto': '56938e9345ce240b1ff6c31504a.png'},\n     'dataInfo': '%7B%22sfrom%22%3A%22search_job_pc%22%2C%22jobKind%22%3A%222%22%2C%22jobId%22%3A%2225088147%22%2C%22ckId%22%3A%226kgzm7tcrvofclqukj6vmucx0ai9zl79%22%2C%22scene%22%3A%22input%22%2C%22skId%22%3A%226kgzm7tcrvofclqukj6vmucx0ai9zl79%22%2C%22fkId%22%3A%226kgzm7tcrvofclqukj6vmucx0ai9zl79%22%2C%22pageSize%22%3A%2240%22%2C%22curPage%22%3A%220%22%2C%22d_curPage%22%3A%220%22%2C%22d_pageSize%22%3A%2240%22%2C%22as_from%22%3A%22search_prime%22%7D',\n     'dataParams': '{\"imId\":\"f086316927445b55e3a362ce23913155\",\"imUserType\":\"2\",\"jobKind\":\"2\",\"jobId\":\"25088147\",\"userId\":\"53da6fed5384d274258924040bc7a85b\",\"recruiterName\":\"曹女士\",\"recruiterPhoto\":\"56938e9345ce240b1ff6c31504a.png\"}',\n     'comp': {'link': 'https://www.liepin.com/company/10272573/',\n      'compName': '上海写拾广告有限公司',\n      'compScale': '1-49人',\n      'compLogo': '61b07937d0458d53c627567e02u.jpg',\n      'compId': 10272573,\n      'compIndustry': '广播/影视/录音'}},\n    {'job': {'labels': ['内容运营'],\n      'link': 'https://www.liepin.com/job/1935867731.shtml',\n      'title': '广告策划方向应届毕业生',\n      'salary': '6-11k·13薪',\n      'requireEduLevel': '本科',\n      'jobKind': '2',\n      'jobId': '35867731',\n      'refreshTime': '20210218142514',\n      'dq': '上海',\n      'topJob': False,\n      'advViewFlag': False,\n      'requireWorkYears': '经验不限',\n      'pcOuterLink': '',\n      'h5OuterLink': '',\n      'dataPromId': 'd_sfrom=search_prime&d_ckId=null&d_curPage=0&d_pageSize=40&d_headId=null&d_posi=4&skId=6kgzm7tcrvofclqukj6vmucx0ai9zl79&fkId=6kgzm7tcrvofclqukj6vmucx0ai9zl79&ckId=6kgzm7tcrvofclqukj6vmucx0ai9zl79&sfrom=search_job_pc&curPage=0&pageSize=40&index=4'},\n     'recruiter': {'imId': 'aeafe1dad210ee339941166e65ebdb6f',\n      'imUserType': '2',\n      'chatted': False,\n      'recruiterId': 'fd6ea30e74423e3b84a317888b12ae61',\n      'recruiterName': '代女士',\n      'recruiterTitle': '新媒体运营主管',\n      'recruiterPhoto': '602e086f09f00f0851fa451907u.png'},\n     'dataInfo': '%7B%22sfrom%22%3A%22search_job_pc%22%2C%22jobKind%22%3A%222%22%2C%22jobId%22%3A%2235867731%22%2C%22ckId%22%3A%226kgzm7tcrvofclqukj6vmucx0ai9zl79%22%2C%22scene%22%3A%22input%22%2C%22skId%22%3A%226kgzm7tcrvofclqukj6vmucx0ai9zl79%22%2C%22fkId%22%3A%226kgzm7tcrvofclqukj6vmucx0ai9zl79%22%2C%22pageSize%22%3A%2240%22%2C%22curPage%22%3A%220%22%2C%22d_curPage%22%3A%220%22%2C%22d_pageSize%22%3A%2240%22%2C%22as_from%22%3A%22search_prime%22%7D',\n     'dataParams': '{\"imId\":\"aeafe1dad210ee339941166e65ebdb6f\",\"imUserType\":\"2\",\"jobKind\":\"2\",\"jobId\":\"35867731\",\"userId\":\"fd6ea30e74423e3b84a317888b12ae61\",\"recruiterName\":\"代女士\",\"recruiterPhoto\":\"602e086f09f00f0851fa451907u.png\"}',\n     'comp': {'link': 'https://www.liepin.com/company/10201729/',\n      'compName': '上海贝书管理咨询有限公司',\n      'compScale': '1-49人',\n      'compStage': '融资未公开',\n      'compLogo': '61b07937d0458d53c627567e02u.jpg',\n      'compId': 10201729,\n      'compIndustry': '广告/公关/会展'}},\n    {'job': {'labels': ['本科'],\n      'link': 'https://www.liepin.com/lptjob/63237641',\n      'title': '产品管培生',\n      'salary': '7-12k·13薪',\n      'jobKind': '6',\n      'jobId': '63237641',\n      'refreshTime': '20231128135349',\n      'dq': '上海-松江区',\n      'topJob': False,\n      'advViewFlag': False,\n      'pcOuterLink': '',\n      'h5OuterLink': '',\n      'dataPromId': 'd_sfrom=search_prime&d_ckId=null&d_curPage=0&d_pageSize=40&d_headId=null&d_posi=5&skId=6kgzm7tcrvofclqukj6vmucx0ai9zl79&fkId=6kgzm7tcrvofclqukj6vmucx0ai9zl79&ckId=6kgzm7tcrvofclqukj6vmucx0ai9zl79&sfrom=search_job_pc&curPage=0&pageSize=40&index=5',\n      'campusJobKind': '应届'},\n     'recruiter': {'imId': '9ea92e6540993b470503db90a2475348',\n      'imUserType': '2',\n      'chatted': False,\n      'recruiterId': 'aa38e785e592bc9e237e5c13cb1dea87',\n      'recruiterName': '郑女士',\n      'recruiterTitle': '副总经理助理',\n      'recruiterPhoto': '5f8f9866dfb13a7dee342f1808u.jpg'},\n     'dataInfo': '%7B%22sfrom%22%3A%22search_job_pc%22%2C%22jobKind%22%3A%226%22%2C%22jobId%22%3A%2263237641%22%2C%22ckId%22%3A%226kgzm7tcrvofclqukj6vmucx0ai9zl79%22%2C%22scene%22%3A%22input%22%2C%22skId%22%3A%226kgzm7tcrvofclqukj6vmucx0ai9zl79%22%2C%22fkId%22%3A%226kgzm7tcrvofclqukj6vmucx0ai9zl79%22%2C%22pageSize%22%3A%2240%22%2C%22curPage%22%3A%220%22%2C%22d_curPage%22%3A%220%22%2C%22d_pageSize%22%3A%2240%22%2C%22as_from%22%3A%22search_prime%22%7D',\n     'dataParams': '{\"imId\":\"9ea92e6540993b470503db90a2475348\",\"imUserType\":\"2\",\"jobKind\":\"6\",\"jobId\":\"63237641\",\"userId\":\"aa38e785e592bc9e237e5c13cb1dea87\",\"recruiterName\":\"郑女士\",\"recruiterPhoto\":\"5f8f9866dfb13a7dee342f1808u.jpg\"}',\n     'comp': {'link': 'https://www.liepin.com/company/3273152/',\n      'compName': '晨光文具',\n      'compScale': '5000-10000人',\n      'compStage': '已上市',\n      'compLogo': '5bfe8fc774719d35745a814903a.png',\n      'compId': 3273152,\n      'compIndustry': '食品/饮料/酒水'}},\n    {'job': {'labels': ['3个月', '提供转正', '本科'],\n      'link': 'https://www.liepin.com/lptjob/62558885',\n      'title': '市场部实习生(J10310)',\n      'salary': '150-250元/天',\n      'jobKind': '6',\n      'jobId': '62558885',\n      'refreshTime': '20231030155710',\n      'dq': '上海-徐汇区',\n      'topJob': False,\n      'advViewFlag': False,\n      'pcOuterLink': '',\n      'h5OuterLink': '',\n      'dataPromId': 'd_sfrom=search_prime&d_ckId=null&d_curPage=0&d_pageSize=40&d_headId=null&d_posi=6&skId=6kgzm7tcrvofclqukj6vmucx0ai9zl79&fkId=6kgzm7tcrvofclqukj6vmucx0ai9zl79&ckId=6kgzm7tcrvofclqukj6vmucx0ai9zl79&sfrom=search_job_pc&curPage=0&pageSize=40&index=6',\n      'campusJobKind': '实习'},\n     'recruiter': {'imId': 'bc7e958fdd33ad0f67766a03c68ce883',\n      'imUserType': '2',\n      'chatted': False,\n      'recruiterId': 'da8943e78dc71b1ebbdb5cad9c1cb8f9',\n      'recruiterName': '范女士',\n      'recruiterTitle': 'HRBP',\n      'recruiterPhoto': '5f8f986779c7cc70efbf36c008u.jpg'},\n     'dataInfo': '%7B%22sfrom%22%3A%22search_job_pc%22%2C%22jobKind%22%3A%226%22%2C%22jobId%22%3A%2262558885%22%2C%22ckId%22%3A%226kgzm7tcrvofclqukj6vmucx0ai9zl79%22%2C%22scene%22%3A%22input%22%2C%22skId%22%3A%226kgzm7tcrvofclqukj6vmucx0ai9zl79%22%2C%22fkId%22%3A%226kgzm7tcrvofclqukj6vmucx0ai9zl79%22%2C%22pageSize%22%3A%2240%22%2C%22curPage%22%3A%220%22%2C%22d_curPage%22%3A%220%22%2C%22d_pageSize%22%3A%2240%22%2C%22as_from%22%3A%22search_prime%22%7D',\n     'dataParams': '{\"imId\":\"bc7e958fdd33ad0f67766a03c68ce883\",\"imUserType\":\"2\",\"jobKind\":\"6\",\"jobId\":\"62558885\",\"userId\":\"da8943e78dc71b1ebbdb5cad9c1cb8f9\",\"recruiterName\":\"范女士\",\"recruiterPhoto\":\"5f8f986779c7cc70efbf36c008u.jpg\"}',\n     'comp': {'link': 'https://www.liepin.com/company/8608119/',\n      'compName': '竹间智能',\n      'compScale': '100-499人',\n      'compStage': 'D轮',\n      'compLogo': '59687369703221ef708aa5aa06a.png',\n      'compId': 8608119,\n      'compIndustry': '互联网'}},\n    {'job': {'labels': ['3个月', '本科'],\n      'link': 'https://www.liepin.com/lptjob/61261573',\n      'title': '文案实习生',\n      'salary': '100元/天',\n      'jobKind': '6',\n      'jobId': '61261573',\n      'refreshTime': '20231206152540',\n      'dq': '上海-徐汇区',\n      'topJob': False,\n      'advViewFlag': False,\n      'pcOuterLink': '',\n      'h5OuterLink': '',\n      'dataPromId': 'd_sfrom=search_prime&d_ckId=null&d_curPage=0&d_pageSize=40&d_headId=null&d_posi=7&skId=6kgzm7tcrvofclqukj6vmucx0ai9zl79&fkId=6kgzm7tcrvofclqukj6vmucx0ai9zl79&ckId=6kgzm7tcrvofclqukj6vmucx0ai9zl79&sfrom=search_job_pc&curPage=0&pageSize=40&index=7',\n      'campusJobKind': '实习'},\n     'recruiter': {'imId': 'a4d3b4cd983eb4c6f5555d53f3dd73c0',\n      'imUserType': '2',\n      'chatted': False,\n      'recruiterId': '87fec6c459203b5105da1658f4bd6e4f',\n      'recruiterName': '王女士',\n      'recruiterTitle': '人事',\n      'recruiterPhoto': '5f8f9863f6d1ab58476f246a08u.jpg'},\n     'dataInfo': '%7B%22sfrom%22%3A%22search_job_pc%22%2C%22jobKind%22%3A%226%22%2C%22jobId%22%3A%2261261573%22%2C%22ckId%22%3A%226kgzm7tcrvofclqukj6vmucx0ai9zl79%22%2C%22scene%22%3A%22input%22%2C%22skId%22%3A%226kgzm7tcrvofclqukj6vmucx0ai9zl79%22%2C%22fkId%22%3A%226kgzm7tcrvofclqukj6vmucx0ai9zl79%22%2C%22pageSize%22%3A%2240%22%2C%22curPage%22%3A%220%22%2C%22d_curPage%22%3A%220%22%2C%22d_pageSize%22%3A%2240%22%2C%22as_from%22%3A%22search_prime%22%7D',\n     'dataParams': '{\"imId\":\"a4d3b4cd983eb4c6f5555d53f3dd73c0\",\"imUserType\":\"2\",\"jobKind\":\"6\",\"jobId\":\"61261573\",\"userId\":\"87fec6c459203b5105da1658f4bd6e4f\",\"recruiterName\":\"王女士\",\"recruiterPhoto\":\"5f8f9863f6d1ab58476f246a08u.jpg\"}',\n     'comp': {'link': 'https://www.liepin.com/company/13638195/',\n      'compName': '天联广告有限公司',\n      'compScale': '100-499人',\n      'compLogo': '64d99dd017be7f3f447bad7106u.png',\n      'compId': 13638195,\n      'compIndustry': '广告/公关/会展'}},\n    {'job': {'labels': ['3个月', '本科', '市场调研分析', '市场营销', '市场策划', '市场数据分析'],\n      'link': 'https://www.liepin.com/lptjob/59902029',\n      'title': '市场营销实习生',\n      'salary': '120-150元/天',\n      'jobKind': '6',\n      'jobId': '59902029',\n      'refreshTime': '20231222094622',\n      'dq': '上海',\n      'topJob': False,\n      'advViewFlag': False,\n      'pcOuterLink': '',\n      'h5OuterLink': '',\n      'dataPromId': 'd_sfrom=search_prime&d_ckId=null&d_curPage=0&d_pageSize=40&d_headId=null&d_posi=8&skId=6kgzm7tcrvofclqukj6vmucx0ai9zl79&fkId=6kgzm7tcrvofclqukj6vmucx0ai9zl79&ckId=6kgzm7tcrvofclqukj6vmucx0ai9zl79&sfrom=search_job_pc&curPage=0&pageSize=40&index=8',\n      'campusJobKind': '实习'},\n     'recruiter': {'imId': '5d3352a2d7afe5e2dfb6df235db455f2',\n      'imUserType': '2',\n      'chatted': False,\n      'recruiterId': '0e096868887b01f7fb0b102e3c13b055',\n      'recruiterName': '李女士',\n      'recruiterTitle': '高级招聘经理',\n      'recruiterPhoto': '5ffbbcad3059cc17bf34148802u.png'},\n     'dataInfo': '%7B%22sfrom%22%3A%22search_job_pc%22%2C%22jobKind%22%3A%226%22%2C%22jobId%22%3A%2259902029%22%2C%22ckId%22%3A%226kgzm7tcrvofclqukj6vmucx0ai9zl79%22%2C%22scene%22%3A%22input%22%2C%22skId%22%3A%226kgzm7tcrvofclqukj6vmucx0ai9zl79%22%2C%22fkId%22%3A%226kgzm7tcrvofclqukj6vmucx0ai9zl79%22%2C%22pageSize%22%3A%2240%22%2C%22curPage%22%3A%220%22%2C%22d_curPage%22%3A%220%22%2C%22d_pageSize%22%3A%2240%22%2C%22as_from%22%3A%22search_prime%22%7D',\n     'dataParams': '{\"imId\":\"5d3352a2d7afe5e2dfb6df235db455f2\",\"imUserType\":\"2\",\"jobKind\":\"6\",\"jobId\":\"59902029\",\"userId\":\"0e096868887b01f7fb0b102e3c13b055\",\"recruiterName\":\"李女士\",\"recruiterPhoto\":\"5ffbbcad3059cc17bf34148802u.png\"}',\n     'comp': {'link': 'https://www.liepin.com/company/8711069/',\n      'compName': '上海老城隍庙餐饮(集团)有限公司',\n      'compScale': '10000人以上',\n      'compLogo': '5bfe904774719d35745a9af403a.png',\n      'compId': 8711069,\n      'compIndustry': '餐饮业'}},\n    {'job': {'labels': ['3个月', '本科', '社交媒体', '英语'],\n      'link': 'https://www.liepin.com/lptjob/55944277',\n      'title': '市场实习生（digital marketing方向）',\n      'salary': '150-180元/天',\n      'jobKind': '6',\n      'jobId': '55944277',\n      'refreshTime': '20230727094309',\n      'dq': '上海-嘉定区',\n      'topJob': False,\n      'advViewFlag': False,\n      'pcOuterLink': '',\n      'h5OuterLink': '',\n      'dataPromId': 'd_sfrom=search_prime&d_ckId=null&d_curPage=0&d_pageSize=40&d_headId=null&d_posi=9&skId=6kgzm7tcrvofclqukj6vmucx0ai9zl79&fkId=6kgzm7tcrvofclqukj6vmucx0ai9zl79&ckId=6kgzm7tcrvofclqukj6vmucx0ai9zl79&sfrom=search_job_pc&curPage=0&pageSize=40&index=9',\n      'campusJobKind': '实习'},\n     'recruiter': {'imId': '3cd447f2a1ff2080cc9b87ea7c83d11f',\n      'imUserType': '2',\n      'chatted': False,\n      'recruiterId': '1eaa69b46985daa80e8e396a741e19e6',\n      'recruiterName': '张女士',\n      'recruiterTitle': '',\n      'recruiterPhoto': '5f8f98648dbe6273dcf8515508u.jpg'},\n     'dataInfo': '%7B%22sfrom%22%3A%22search_job_pc%22%2C%22jobKind%22%3A%226%22%2C%22jobId%22%3A%2255944277%22%2C%22ckId%22%3A%226kgzm7tcrvofclqukj6vmucx0ai9zl79%22%2C%22scene%22%3A%22input%22%2C%22skId%22%3A%226kgzm7tcrvofclqukj6vmucx0ai9zl79%22%2C%22fkId%22%3A%226kgzm7tcrvofclqukj6vmucx0ai9zl79%22%2C%22pageSize%22%3A%2240%22%2C%22curPage%22%3A%220%22%2C%22d_curPage%22%3A%220%22%2C%22d_pageSize%22%3A%2240%22%2C%22as_from%22%3A%22search_prime%22%7D',\n     'dataParams': '{\"imId\":\"3cd447f2a1ff2080cc9b87ea7c83d11f\",\"imUserType\":\"2\",\"jobKind\":\"6\",\"jobId\":\"55944277\",\"userId\":\"1eaa69b46985daa80e8e396a741e19e6\",\"recruiterName\":\"张女士\",\"recruiterPhoto\":\"5f8f98648dbe6273dcf8515508u.jpg\"}',\n     'comp': {'link': 'https://www.liepin.com/company/7865325/',\n      'compName': '上海吉博力房屋卫生设备工程技术有限公司',\n      'compScale': '500-999人',\n      'compLogo': '5bfe961d74719df0ac98f5c503a.png',\n      'compId': 7865325,\n      'compIndustry': '建材'}},\n    {'job': {'labels': ['3个月', '本科'],\n      'link': 'https://www.liepin.com/lptjob/53580053',\n      'title': '市场实习生',\n      'salary': '80-120元/天',\n      'jobKind': '6',\n      'jobId': '53580053',\n      'refreshTime': '20230220102311',\n      'dq': '上海-黄浦区',\n      'topJob': False,\n      'advViewFlag': False,\n      'pcOuterLink': '',\n      'h5OuterLink': '',\n      'dataPromId': 'd_sfrom=search_prime&d_ckId=null&d_curPage=0&d_pageSize=40&d_headId=null&d_posi=10&skId=6kgzm7tcrvofclqukj6vmucx0ai9zl79&fkId=6kgzm7tcrvofclqukj6vmucx0ai9zl79&ckId=6kgzm7tcrvofclqukj6vmucx0ai9zl79&sfrom=search_job_pc&curPage=0&pageSize=40&index=10',\n      'campusJobKind': '实习'},\n     'recruiter': {'imId': '2bd449597f033006528dabef14b76f2d',\n      'imUserType': '2',\n      'chatted': False,\n      'recruiterId': '8963e9f89fab8c50b549d000a23ef8d8',\n      'recruiterName': '代女士',\n      'recruiterTitle': 'HR',\n      'recruiterPhoto': '5f8f9865ea60860b75384fa508u.jpg'},\n     'dataInfo': '%7B%22sfrom%22%3A%22search_job_pc%22%2C%22jobKind%22%3A%226%22%2C%22jobId%22%3A%2253580053%22%2C%22ckId%22%3A%226kgzm7tcrvofclqukj6vmucx0ai9zl79%22%2C%22scene%22%3A%22input%22%2C%22skId%22%3A%226kgzm7tcrvofclqukj6vmucx0ai9zl79%22%2C%22fkId%22%3A%226kgzm7tcrvofclqukj6vmucx0ai9zl79%22%2C%22pageSize%22%3A%2240%22%2C%22curPage%22%3A%220%22%2C%22d_curPage%22%3A%220%22%2C%22d_pageSize%22%3A%2240%22%2C%22as_from%22%3A%22search_prime%22%7D',\n     'dataParams': '{\"imId\":\"2bd449597f033006528dabef14b76f2d\",\"imUserType\":\"2\",\"jobKind\":\"6\",\"jobId\":\"53580053\",\"userId\":\"8963e9f89fab8c50b549d000a23ef8d8\",\"recruiterName\":\"代女士\",\"recruiterPhoto\":\"5f8f9865ea60860b75384fa508u.jpg\"}',\n     'comp': {'link': 'https://www.liepin.com/company/7768574/',\n      'compName': '东证期货',\n      'compScale': '500-999人',\n      'compLogo': '5bfea4e974719d2aa34cd04003a.png',\n      'compId': 7768574,\n      'compIndustry': '基金/证券/期货'}},\n    {'job': {'labels': ['大专'],\n      'link': 'https://www.liepin.com/lptjob/39523303',\n      'title': '会务策划/会展策划',\n      'salary': '150元/天',\n      'jobKind': '6',\n      'jobId': '39523303',\n      'refreshTime': '20210526120547',\n      'dq': '上海',\n      'topJob': False,\n      'advViewFlag': False,\n      'pcOuterLink': '',\n      'h5OuterLink': '',\n      'dataPromId': 'd_sfrom=search_prime&d_ckId=null&d_curPage=0&d_pageSize=40&d_headId=null&d_posi=11&skId=6kgzm7tcrvofclqukj6vmucx0ai9zl79&fkId=6kgzm7tcrvofclqukj6vmucx0ai9zl79&ckId=6kgzm7tcrvofclqukj6vmucx0ai9zl79&sfrom=search_job_pc&curPage=0&pageSize=40&index=11',\n      'campusJobKind': '实习'},\n     'recruiter': {'imId': '4bfc315ad425621c2980490a0cdf2257',\n      'imUserType': '2',\n      'chatted': False,\n      'recruiterId': 'd60285e2b8563f47874136c038819526',\n      'recruiterName': '沈女士',\n      'recruiterTitle': 'HR',\n      'recruiterPhoto': '5f8f9866dfb13a7dee342f1808u.jpg'},\n     'dataInfo': '%7B%22sfrom%22%3A%22search_job_pc%22%2C%22jobKind%22%3A%226%22%2C%22jobId%22%3A%2239523303%22%2C%22ckId%22%3A%226kgzm7tcrvofclqukj6vmucx0ai9zl79%22%2C%22scene%22%3A%22input%22%2C%22skId%22%3A%226kgzm7tcrvofclqukj6vmucx0ai9zl79%22%2C%22fkId%22%3A%226kgzm7tcrvofclqukj6vmucx0ai9zl79%22%2C%22pageSize%22%3A%2240%22%2C%22curPage%22%3A%220%22%2C%22d_curPage%22%3A%220%22%2C%22d_pageSize%22%3A%2240%22%2C%22as_from%22%3A%22search_prime%22%7D',\n     'dataParams': '{\"imId\":\"4bfc315ad425621c2980490a0cdf2257\",\"imUserType\":\"2\",\"jobKind\":\"6\",\"jobId\":\"39523303\",\"userId\":\"d60285e2b8563f47874136c038819526\",\"recruiterName\":\"沈女士\",\"recruiterPhoto\":\"5f8f9866dfb13a7dee342f1808u.jpg\"}',\n     'comp': {'link': 'https://www.liepin.com/company/7945907/',\n      'compName': '上海熙扬市场营销策划有限公司',\n      'compScale': '100-499人',\n      'compStage': '融资未公开',\n      'compLogo': '61b07937d0458d53c627567e02u.jpg',\n      'compId': 7945907,\n      'compIndustry': '培训服务'}},\n    {'job': {'labels': ['文案策划',\n       '社交媒体',\n       '自媒体',\n       '新媒体策划',\n       '短视频策划',\n       '市场策划',\n       '营销策划',\n       '品牌策划'],\n      'link': 'https://www.liepin.com/job/1960223327.shtml',\n      'title': '文案/策划',\n      'salary': '3-6k',\n      'requireEduLevel': '本科',\n      'jobKind': '2',\n      'jobId': '60223327',\n      'refreshTime': '20230724110101',\n      'dq': '上海-黄浦区',\n      'topJob': False,\n      'advViewFlag': False,\n      'requireWorkYears': '经验不限',\n      'pcOuterLink': '',\n      'h5OuterLink': '',\n      'dataPromId': 'd_sfrom=search_prime&d_ckId=null&d_curPage=0&d_pageSize=40&d_headId=null&d_posi=12&skId=6kgzm7tcrvofclqukj6vmucx0ai9zl79&fkId=6kgzm7tcrvofclqukj6vmucx0ai9zl79&ckId=6kgzm7tcrvofclqukj6vmucx0ai9zl79&sfrom=search_job_pc&curPage=0&pageSize=40&index=12'},\n     'recruiter': {'imId': '91c70e752d901e784036597854bcf58c',\n      'imUserType': '2',\n      'chatted': False,\n      'recruiterId': 'dac65d553582f6aa61ba91773c72c58d',\n      'recruiterName': '李先生',\n      'recruiterTitle': '创始人',\n      'recruiterPhoto': '63f827894252036e9088a0d604u.jpeg'},\n     'dataInfo': '%7B%22sfrom%22%3A%22search_job_pc%22%2C%22jobKind%22%3A%222%22%2C%22jobId%22%3A%2260223327%22%2C%22ckId%22%3A%226kgzm7tcrvofclqukj6vmucx0ai9zl79%22%2C%22scene%22%3A%22input%22%2C%22skId%22%3A%226kgzm7tcrvofclqukj6vmucx0ai9zl79%22%2C%22fkId%22%3A%226kgzm7tcrvofclqukj6vmucx0ai9zl79%22%2C%22pageSize%22%3A%2240%22%2C%22curPage%22%3A%220%22%2C%22d_curPage%22%3A%220%22%2C%22d_pageSize%22%3A%2240%22%2C%22as_from%22%3A%22search_prime%22%7D',\n     'dataParams': '{\"imId\":\"91c70e752d901e784036597854bcf58c\",\"imUserType\":\"2\",\"jobKind\":\"2\",\"jobId\":\"60223327\",\"userId\":\"dac65d553582f6aa61ba91773c72c58d\",\"recruiterName\":\"李先生\",\"recruiterPhoto\":\"63f827894252036e9088a0d604u.jpeg\"}',\n     'comp': {'link': 'https://www.liepin.com/company/12677277/',\n      'compName': '幸合贸易(上海)有限公司',\n      'compScale': '1-49人',\n      'compStage': '天使轮',\n      'compLogo': '61b07937d0458d53c627567e02u.jpg',\n      'compId': 12677277,\n      'compIndustry': '日化'}},\n    {'job': {'labels': ['线下活动',\n       '线上活动',\n       '赛事活动',\n       '广告媒介',\n       '设计',\n       '奖项',\n       '文化艺术',\n       '娱乐'],\n      'link': 'https://www.liepin.com/job/1961194821.shtml',\n      'title': '活动策划执行',\n      'salary': '7-12k',\n      'requireEduLevel': '本科',\n      'jobKind': '2',\n      'jobId': '61194821',\n      'refreshTime': '20230829125502',\n      'dq': '上海',\n      'topJob': False,\n      'advViewFlag': False,\n      'requireWorkYears': '经验不限',\n      'pcOuterLink': '',\n      'h5OuterLink': '',\n      'dataPromId': 'd_sfrom=search_prime&d_ckId=null&d_curPage=0&d_pageSize=40&d_headId=null&d_posi=13&skId=6kgzm7tcrvofclqukj6vmucx0ai9zl79&fkId=6kgzm7tcrvofclqukj6vmucx0ai9zl79&ckId=6kgzm7tcrvofclqukj6vmucx0ai9zl79&sfrom=search_job_pc&curPage=0&pageSize=40&index=13'},\n     'recruiter': {'imId': '015ca65e7480b9bacd74bb959a88946e',\n      'imUserType': '2',\n      'chatted': False,\n      'recruiterId': '9896ca5151d5f4fd23d06c380b0a9db9',\n      'recruiterName': '庞先生',\n      'recruiterTitle': '艾鼎奖创始人',\n      'recruiterPhoto': '63b91b729ebe411c1eba041807u.png'},\n     'dataInfo': '%7B%22sfrom%22%3A%22search_job_pc%22%2C%22jobKind%22%3A%222%22%2C%22jobId%22%3A%2261194821%22%2C%22ckId%22%3A%226kgzm7tcrvofclqukj6vmucx0ai9zl79%22%2C%22scene%22%3A%22input%22%2C%22skId%22%3A%226kgzm7tcrvofclqukj6vmucx0ai9zl79%22%2C%22fkId%22%3A%226kgzm7tcrvofclqukj6vmucx0ai9zl79%22%2C%22pageSize%22%3A%2240%22%2C%22curPage%22%3A%220%22%2C%22d_curPage%22%3A%220%22%2C%22d_pageSize%22%3A%2240%22%2C%22as_from%22%3A%22search_prime%22%7D',\n     'dataParams': '{\"imId\":\"015ca65e7480b9bacd74bb959a88946e\",\"imUserType\":\"2\",\"jobKind\":\"2\",\"jobId\":\"61194821\",\"userId\":\"9896ca5151d5f4fd23d06c380b0a9db9\",\"recruiterName\":\"庞先生\",\"recruiterPhoto\":\"63b91b729ebe411c1eba041807u.png\"}',\n     'comp': {'link': 'https://www.liepin.com/company/12581047/',\n      'compName': '艾鼎设计奖主办方',\n      'compScale': '1-49人',\n      'compStage': '融资未公开',\n      'compLogo': '61b07937d0458d53c627567e02u.jpg',\n      'compId': 12581047,\n      'compIndustry': '广播/影视/录音'}},\n    {'job': {'labels': [],\n      'link': 'https://www.liepin.com/job/1957054821.shtml',\n      'title': '品牌推广经理（写字楼）',\n      'salary': '13-15k',\n      'requireEduLevel': '本科',\n      'jobKind': '2',\n      'jobId': '57054821',\n      'refreshTime': '20231018101235',\n      'dq': '上海-长宁区',\n      'topJob': False,\n      'advViewFlag': False,\n      'requireWorkYears': '经验不限',\n      'pcOuterLink': '',\n      'h5OuterLink': '',\n      'dataPromId': 'd_sfrom=search_prime&d_ckId=null&d_curPage=0&d_pageSize=40&d_headId=null&d_posi=14&skId=6kgzm7tcrvofclqukj6vmucx0ai9zl79&fkId=6kgzm7tcrvofclqukj6vmucx0ai9zl79&ckId=6kgzm7tcrvofclqukj6vmucx0ai9zl79&sfrom=search_job_pc&curPage=0&pageSize=40&index=14'},\n     'recruiter': {'imId': 'add3a1477b6e6faf6bc971ec2e264ed1',\n      'imUserType': '2',\n      'chatted': False,\n      'recruiterId': '6606a742e9cff9bdb2c4cc05e9350980',\n      'recruiterName': '郑女士',\n      'recruiterTitle': '招聘主管',\n      'recruiterPhoto': '5f8f9863f6d1ab58476f246a08u.jpg'},\n     'dataInfo': '%7B%22sfrom%22%3A%22search_job_pc%22%2C%22jobKind%22%3A%222%22%2C%22jobId%22%3A%2257054821%22%2C%22ckId%22%3A%226kgzm7tcrvofclqukj6vmucx0ai9zl79%22%2C%22scene%22%3A%22input%22%2C%22skId%22%3A%226kgzm7tcrvofclqukj6vmucx0ai9zl79%22%2C%22fkId%22%3A%226kgzm7tcrvofclqukj6vmucx0ai9zl79%22%2C%22pageSize%22%3A%2240%22%2C%22curPage%22%3A%220%22%2C%22d_curPage%22%3A%220%22%2C%22d_pageSize%22%3A%2240%22%2C%22as_from%22%3A%22search_prime%22%7D',\n     'dataParams': '{\"imId\":\"add3a1477b6e6faf6bc971ec2e264ed1\",\"imUserType\":\"2\",\"jobKind\":\"2\",\"jobId\":\"57054821\",\"userId\":\"6606a742e9cff9bdb2c4cc05e9350980\",\"recruiterName\":\"郑女士\",\"recruiterPhoto\":\"5f8f9863f6d1ab58476f246a08u.jpg\"}',\n     'comp': {'link': 'https://www.liepin.com/company/9198460/',\n      'compName': '北京搜厚物业管理有限公司上海分公司',\n      'compScale': '500-999人',\n      'compLogo': '5bfea03374719d2aa34beae603a.png',\n      'compId': 9198460,\n      'compIndustry': '房地产租赁/中介'}},\n    {'job': {'labels': ['编导', '抖音短视频'],\n      'link': 'https://www.liepin.com/job/1961195723.shtml',\n      'title': '导演/编导',\n      'salary': '8-15k',\n      'requireEduLevel': '本科',\n      'jobKind': '2',\n      'jobId': '61195723',\n      'refreshTime': '20230829132806',\n      'dq': '上海-闵行区',\n      'topJob': False,\n      'advViewFlag': False,\n      'requireWorkYears': '经验不限',\n      'pcOuterLink': '',\n      'h5OuterLink': '',\n      'dataPromId': 'd_sfrom=search_prime&d_ckId=null&d_curPage=0&d_pageSize=40&d_headId=null&d_posi=15&skId=6kgzm7tcrvofclqukj6vmucx0ai9zl79&fkId=6kgzm7tcrvofclqukj6vmucx0ai9zl79&ckId=6kgzm7tcrvofclqukj6vmucx0ai9zl79&sfrom=search_job_pc&curPage=0&pageSize=40&index=15'},\n     'recruiter': {'imId': '9c415855e3ddeee533f1d87ff4815723',\n      'imUserType': '2',\n      'chatted': False,\n      'recruiterId': 'cb17a5d17f4e963cfaa5a90cfceb3cc1',\n      'recruiterName': '樊先生',\n      'recruiterTitle': 'HRBP经理',\n      'recruiterPhoto': '5f8f986c79c7cc70efbf36c808u.jpg'},\n     'dataInfo': '%7B%22sfrom%22%3A%22search_job_pc%22%2C%22jobKind%22%3A%222%22%2C%22jobId%22%3A%2261195723%22%2C%22ckId%22%3A%226kgzm7tcrvofclqukj6vmucx0ai9zl79%22%2C%22scene%22%3A%22input%22%2C%22skId%22%3A%226kgzm7tcrvofclqukj6vmucx0ai9zl79%22%2C%22fkId%22%3A%226kgzm7tcrvofclqukj6vmucx0ai9zl79%22%2C%22pageSize%22%3A%2240%22%2C%22curPage%22%3A%220%22%2C%22d_curPage%22%3A%220%22%2C%22d_pageSize%22%3A%2240%22%2C%22as_from%22%3A%22search_prime%22%7D',\n     'dataParams': '{\"imId\":\"9c415855e3ddeee533f1d87ff4815723\",\"imUserType\":\"2\",\"jobKind\":\"2\",\"jobId\":\"61195723\",\"userId\":\"cb17a5d17f4e963cfaa5a90cfceb3cc1\",\"recruiterName\":\"樊先生\",\"recruiterPhoto\":\"5f8f986c79c7cc70efbf36c808u.jpg\"}',\n     'comp': {'link': 'https://www.liepin.com/company/9354798/',\n      'compName': '玛丽黛佳',\n      'compScale': '500-999人',\n      'compLogo': '5a3b49718e503b638296fd4a04a.png',\n      'compId': 9354798,\n      'compIndustry': '日化'}},\n    {'job': {'labels': ['新媒体运营', '短视频运营', '线上运营', '抖音平台', '快手平台', '今日头条平台'],\n      'link': 'https://www.liepin.com/job/1952083215.shtml',\n      'title': '短视频运营',\n      'salary': '10-20k',\n      'requireEduLevel': '大专',\n      'jobKind': '2',\n      'jobId': '52083215',\n      'refreshTime': '20220823111008',\n      'dq': '上海-静安区',\n      'topJob': False,\n      'advViewFlag': False,\n      'requireWorkYears': '经验不限',\n      'pcOuterLink': '',\n      'h5OuterLink': '',\n      'dataPromId': 'd_sfrom=search_prime&d_ckId=null&d_curPage=0&d_pageSize=40&d_headId=null&d_posi=16&skId=6kgzm7tcrvofclqukj6vmucx0ai9zl79&fkId=6kgzm7tcrvofclqukj6vmucx0ai9zl79&ckId=6kgzm7tcrvofclqukj6vmucx0ai9zl79&sfrom=search_job_pc&curPage=0&pageSize=40&index=16'},\n     'recruiter': {'imId': 'c8a598becfdb42a0ee7b65a82243fe9b',\n      'imUserType': '2',\n      'chatted': False,\n      'recruiterId': '43794a62f7a63eea895e86e5e14b5e45',\n      'recruiterName': '吴女士',\n      'recruiterTitle': 'HRBP',\n      'recruiterPhoto': '5f8f9865ea60860b75384fa508u.jpg'},\n     'dataInfo': '%7B%22sfrom%22%3A%22search_job_pc%22%2C%22jobKind%22%3A%222%22%2C%22jobId%22%3A%2252083215%22%2C%22ckId%22%3A%226kgzm7tcrvofclqukj6vmucx0ai9zl79%22%2C%22scene%22%3A%22input%22%2C%22skId%22%3A%226kgzm7tcrvofclqukj6vmucx0ai9zl79%22%2C%22fkId%22%3A%226kgzm7tcrvofclqukj6vmucx0ai9zl79%22%2C%22pageSize%22%3A%2240%22%2C%22curPage%22%3A%220%22%2C%22d_curPage%22%3A%220%22%2C%22d_pageSize%22%3A%2240%22%2C%22as_from%22%3A%22search_prime%22%7D',\n     'dataParams': '{\"imId\":\"c8a598becfdb42a0ee7b65a82243fe9b\",\"imUserType\":\"2\",\"jobKind\":\"2\",\"jobId\":\"52083215\",\"userId\":\"43794a62f7a63eea895e86e5e14b5e45\",\"recruiterName\":\"吴女士\",\"recruiterPhoto\":\"5f8f9865ea60860b75384fa508u.jpg\"}',\n     'comp': {'link': 'https://www.liepin.com/company/2283147/',\n      'compName': '上海凌脉网络科技股份有限公司',\n      'compScale': '100-499人',\n      'compStage': '新三板上市',\n      'compLogo': '5bfe917074719d35745ad49403a.png',\n      'compId': 2283147,\n      'compIndustry': '电子商务'}},\n    {'job': {'labels': [],\n      'link': 'https://www.liepin.com/job/1947598755.shtml',\n      'title': 'copy&planning',\n      'salary': '10-15k',\n      'requireEduLevel': '本科',\n      'jobKind': '2',\n      'jobId': '47598755',\n      'refreshTime': '20220301170724',\n      'dq': '上海',\n      'topJob': False,\n      'advViewFlag': False,\n      'requireWorkYears': '经验不限',\n      'pcOuterLink': '',\n      'h5OuterLink': '',\n      'dataPromId': 'd_sfrom=search_prime&d_ckId=null&d_curPage=0&d_pageSize=40&d_headId=null&d_posi=17&skId=6kgzm7tcrvofclqukj6vmucx0ai9zl79&fkId=6kgzm7tcrvofclqukj6vmucx0ai9zl79&ckId=6kgzm7tcrvofclqukj6vmucx0ai9zl79&sfrom=search_job_pc&curPage=0&pageSize=40&index=17'},\n     'recruiter': {'imId': '8de1a6eed9b7e31001542792432e8b68',\n      'imUserType': '2',\n      'chatted': False,\n      'recruiterId': '310dc6639a1466d29abae9f4c7d3273e',\n      'recruiterName': '汪先生',\n      'recruiterTitle': '创始人',\n      'recruiterPhoto': '61921b06f0c57815fef74e5806u.png'},\n     'dataInfo': '%7B%22sfrom%22%3A%22search_job_pc%22%2C%22jobKind%22%3A%222%22%2C%22jobId%22%3A%2247598755%22%2C%22ckId%22%3A%226kgzm7tcrvofclqukj6vmucx0ai9zl79%22%2C%22scene%22%3A%22input%22%2C%22skId%22%3A%226kgzm7tcrvofclqukj6vmucx0ai9zl79%22%2C%22fkId%22%3A%226kgzm7tcrvofclqukj6vmucx0ai9zl79%22%2C%22pageSize%22%3A%2240%22%2C%22curPage%22%3A%220%22%2C%22d_curPage%22%3A%220%22%2C%22d_pageSize%22%3A%2240%22%2C%22as_from%22%3A%22search_prime%22%7D',\n     'dataParams': '{\"imId\":\"8de1a6eed9b7e31001542792432e8b68\",\"imUserType\":\"2\",\"jobKind\":\"2\",\"jobId\":\"47598755\",\"userId\":\"310dc6639a1466d29abae9f4c7d3273e\",\"recruiterName\":\"汪先生\",\"recruiterPhoto\":\"61921b06f0c57815fef74e5806u.png\"}',\n     'comp': {'link': 'https://www.liepin.com/company/9520580/',\n      'compName': '上海意纳广告有限公司',\n      'compScale': '1-49人',\n      'compLogo': '61b07937d0458d53c627567e02u.jpg',\n      'compId': 9520580,\n      'compIndustry': '广告/公关/会展'}},\n    {'job': {'labels': [],\n      'link': 'https://www.liepin.com/job/1952268453.shtml',\n      'title': '创意策划经理',\n      'salary': '12-18k·13薪',\n      'requireEduLevel': '大专',\n      'jobKind': '2',\n      'jobId': '52268453',\n      'refreshTime': '20231220101542',\n      'dq': '上海-徐汇区',\n      'topJob': False,\n      'advViewFlag': False,\n      'requireWorkYears': '经验不限',\n      'pcOuterLink': '',\n      'h5OuterLink': '',\n      'dataPromId': 'd_sfrom=search_prime&d_ckId=null&d_curPage=0&d_pageSize=40&d_headId=null&d_posi=18&skId=6kgzm7tcrvofclqukj6vmucx0ai9zl79&fkId=6kgzm7tcrvofclqukj6vmucx0ai9zl79&ckId=6kgzm7tcrvofclqukj6vmucx0ai9zl79&sfrom=search_job_pc&curPage=0&pageSize=40&index=18'},\n     'recruiter': {'imId': 'c472b40fdecfa2fbac365a663ca833da',\n      'imUserType': '2',\n      'chatted': False,\n      'recruiterId': 'e25131a5739689539ec4a44618b0e7df',\n      'recruiterName': '李先生',\n      'recruiterTitle': '人事经理',\n      'recruiterPhoto': '5f8f986bdfb13a7dee342f2108u.jpg'},\n     'dataInfo': '%7B%22sfrom%22%3A%22search_job_pc%22%2C%22jobKind%22%3A%222%22%2C%22jobId%22%3A%2252268453%22%2C%22ckId%22%3A%226kgzm7tcrvofclqukj6vmucx0ai9zl79%22%2C%22scene%22%3A%22input%22%2C%22skId%22%3A%226kgzm7tcrvofclqukj6vmucx0ai9zl79%22%2C%22fkId%22%3A%226kgzm7tcrvofclqukj6vmucx0ai9zl79%22%2C%22pageSize%22%3A%2240%22%2C%22curPage%22%3A%220%22%2C%22d_curPage%22%3A%220%22%2C%22d_pageSize%22%3A%2240%22%2C%22as_from%22%3A%22search_prime%22%7D',\n     'dataParams': '{\"imId\":\"c472b40fdecfa2fbac365a663ca833da\",\"imUserType\":\"2\",\"jobKind\":\"2\",\"jobId\":\"52268453\",\"userId\":\"e25131a5739689539ec4a44618b0e7df\",\"recruiterName\":\"李先生\",\"recruiterPhoto\":\"5f8f986bdfb13a7dee342f2108u.jpg\"}',\n     'comp': {'link': 'https://www.liepin.com/company/7875767/',\n      'compName': '北京故宫宫廷文化发展有限公司',\n      'compScale': '100-499人',\n      'compStage': '融资未公开',\n      'compLogo': '5f3184d330c37c3d011d6ef506u.jpg',\n      'compId': 7875767,\n      'compIndustry': '广播/影视/录音'}},\n    {'job': {'labels': ['媒介媒体', '公关文案', '广告文案', '新媒体文案', '品牌文案'],\n      'link': 'https://www.liepin.com/job/1925062055.shtml',\n      'title': '文案/策划',\n      'salary': '8-12k·15薪',\n      'requireEduLevel': '本科',\n      'jobKind': '2',\n      'jobId': '25062055',\n      'refreshTime': '20191202142033',\n      'dq': '上海-黄浦区',\n      'topJob': False,\n      'advViewFlag': False,\n      'requireWorkYears': '经验不限',\n      'pcOuterLink': '',\n      'h5OuterLink': '',\n      'dataPromId': 'd_sfrom=search_prime&d_ckId=null&d_curPage=0&d_pageSize=40&d_headId=null&d_posi=19&skId=6kgzm7tcrvofclqukj6vmucx0ai9zl79&fkId=6kgzm7tcrvofclqukj6vmucx0ai9zl79&ckId=6kgzm7tcrvofclqukj6vmucx0ai9zl79&sfrom=search_job_pc&curPage=0&pageSize=40&index=19'},\n     'recruiter': {'imId': 'c38aeec1a843247704612e645251413c',\n      'imUserType': '2',\n      'chatted': False,\n      'recruiterId': '1eeb83c2cf17297ceb3e5c2375ee8923',\n      'recruiterName': '曹先生',\n      'recruiterTitle': '执行总监',\n      'recruiterPhoto': '599544e870329b70cf532c9704a.png'},\n     'dataInfo': '%7B%22sfrom%22%3A%22search_job_pc%22%2C%22jobKind%22%3A%222%22%2C%22jobId%22%3A%2225062055%22%2C%22ckId%22%3A%226kgzm7tcrvofclqukj6vmucx0ai9zl79%22%2C%22scene%22%3A%22input%22%2C%22skId%22%3A%226kgzm7tcrvofclqukj6vmucx0ai9zl79%22%2C%22fkId%22%3A%226kgzm7tcrvofclqukj6vmucx0ai9zl79%22%2C%22pageSize%22%3A%2240%22%2C%22curPage%22%3A%220%22%2C%22d_curPage%22%3A%220%22%2C%22d_pageSize%22%3A%2240%22%2C%22as_from%22%3A%22search_prime%22%7D',\n     'dataParams': '{\"imId\":\"c38aeec1a843247704612e645251413c\",\"imUserType\":\"2\",\"jobKind\":\"2\",\"jobId\":\"25062055\",\"userId\":\"1eeb83c2cf17297ceb3e5c2375ee8923\",\"recruiterName\":\"曹先生\",\"recruiterPhoto\":\"599544e870329b70cf532c9704a.png\"}',\n     'comp': {'link': 'https://www.liepin.com/company/10271781/',\n      'compName': '逸飞环艺',\n      'compScale': '1-49人',\n      'compStage': '融资未公开',\n      'compLogo': '5de4a534cd52473b94ea81d001u.jpg',\n      'compId': 10271781,\n      'compIndustry': '广播/影视/录音'}},\n    {'job': {'labels': [],\n      'link': 'https://www.liepin.com/job/1963747123.shtml',\n      'title': '销售助理',\n      'salary': '5-6k',\n      'requireEduLevel': '本科',\n      'jobKind': '2',\n      'jobId': '63747123',\n      'refreshTime': '20231222175612',\n      'dq': '上海-青浦区',\n      'topJob': False,\n      'advViewFlag': False,\n      'requireWorkYears': '经验不限',\n      'pcOuterLink': '',\n      'h5OuterLink': '',\n      'dataPromId': 'd_sfrom=search_prime&d_ckId=null&d_curPage=0&d_pageSize=40&d_headId=null&d_posi=20&skId=6kgzm7tcrvofclqukj6vmucx0ai9zl79&fkId=6kgzm7tcrvofclqukj6vmucx0ai9zl79&ckId=6kgzm7tcrvofclqukj6vmucx0ai9zl79&sfrom=search_job_pc&curPage=0&pageSize=40&index=20'},\n     'recruiter': {'imId': '1709e9434c6e452bcf3b784bbdf4fe53',\n      'imUserType': '2',\n      'chatted': False,\n      'recruiterId': '8a211397f28659da42d7456ea5311e80',\n      'recruiterName': '李女士',\n      'recruiterTitle': '招聘经理',\n      'recruiterPhoto': '5f8f9866dfb13a7dee342f1808u.jpg'},\n     'dataInfo': '%7B%22sfrom%22%3A%22search_job_pc%22%2C%22jobKind%22%3A%222%22%2C%22jobId%22%3A%2263747123%22%2C%22ckId%22%3A%226kgzm7tcrvofclqukj6vmucx0ai9zl79%22%2C%22scene%22%3A%22input%22%2C%22skId%22%3A%226kgzm7tcrvofclqukj6vmucx0ai9zl79%22%2C%22fkId%22%3A%226kgzm7tcrvofclqukj6vmucx0ai9zl79%22%2C%22pageSize%22%3A%2240%22%2C%22curPage%22%3A%220%22%2C%22d_curPage%22%3A%220%22%2C%22d_pageSize%22%3A%2240%22%2C%22as_from%22%3A%22search_prime%22%7D',\n     'dataParams': '{\"imId\":\"1709e9434c6e452bcf3b784bbdf4fe53\",\"imUserType\":\"2\",\"jobKind\":\"2\",\"jobId\":\"63747123\",\"userId\":\"8a211397f28659da42d7456ea5311e80\",\"recruiterName\":\"李女士\",\"recruiterPhoto\":\"5f8f9866dfb13a7dee342f1808u.jpg\"}',\n     'comp': {'link': 'https://www.liepin.com/company/7862820/',\n      'compName': '海积信息',\n      'compScale': '100-499人',\n      'compLogo': '5bfea19374719d2aa34c2f5003a.png',\n      'compId': 7862820,\n      'compIndustry': '电子/半导体/集成电路'}},\n    {'job': {'labels': [],\n      'link': 'https://www.liepin.com/job/1961763859.shtml',\n      'title': '设计师',\n      'salary': '6-10k·13薪',\n      'requireEduLevel': '学历不限',\n      'jobKind': '2',\n      'jobId': '61763859',\n      'refreshTime': '20230919170307',\n      'dq': '上海-奉贤区',\n      'topJob': False,\n      'advViewFlag': False,\n      'requireWorkYears': '经验不限',\n      'pcOuterLink': '',\n      'h5OuterLink': '',\n      'dataPromId': 'd_sfrom=search_prime&d_ckId=null&d_curPage=0&d_pageSize=40&d_headId=null&d_posi=21&skId=6kgzm7tcrvofclqukj6vmucx0ai9zl79&fkId=6kgzm7tcrvofclqukj6vmucx0ai9zl79&ckId=6kgzm7tcrvofclqukj6vmucx0ai9zl79&sfrom=search_job_pc&curPage=0&pageSize=40&index=21'},\n     'recruiter': {'imId': '2c42672a27c1b9e64cbaecdd9bac9788',\n      'imUserType': '2',\n      'chatted': False,\n      'recruiterId': '90dadaccfd7d3235cbe0b3c7d82c98e8',\n      'recruiterName': '刘女士',\n      'recruiterTitle': '人事经理',\n      'recruiterPhoto': '5f8f9865ea60860b75384fa508u.jpg'},\n     'dataInfo': '%7B%22sfrom%22%3A%22search_job_pc%22%2C%22jobKind%22%3A%222%22%2C%22jobId%22%3A%2261763859%22%2C%22ckId%22%3A%226kgzm7tcrvofclqukj6vmucx0ai9zl79%22%2C%22scene%22%3A%22input%22%2C%22skId%22%3A%226kgzm7tcrvofclqukj6vmucx0ai9zl79%22%2C%22fkId%22%3A%226kgzm7tcrvofclqukj6vmucx0ai9zl79%22%2C%22pageSize%22%3A%2240%22%2C%22curPage%22%3A%220%22%2C%22d_curPage%22%3A%220%22%2C%22d_pageSize%22%3A%2240%22%2C%22as_from%22%3A%22search_prime%22%7D',\n     'dataParams': '{\"imId\":\"2c42672a27c1b9e64cbaecdd9bac9788\",\"imUserType\":\"2\",\"jobKind\":\"2\",\"jobId\":\"61763859\",\"userId\":\"90dadaccfd7d3235cbe0b3c7d82c98e8\",\"recruiterName\":\"刘女士\",\"recruiterPhoto\":\"5f8f9865ea60860b75384fa508u.jpg\"}',\n     'comp': {'link': 'https://www.liepin.com/company/13685409/',\n      'compName': '上海存典展示服务有限公司',\n      'compScale': '50-99人',\n      'compLogo': '619e42141bd4fb704e67b07204u.jpg',\n      'compId': 13685409,\n      'compIndustry': '金属制品'}},\n    {'job': {'labels': ['新媒体运营', '转化变现', '电商运营', '社群运营', '用户运营'],\n      'link': 'https://www.liepin.com/job/1943564707.shtml',\n      'title': '运营经理',\n      'salary': '12-21k',\n      'requireEduLevel': '本科',\n      'jobKind': '2',\n      'jobId': '43564707',\n      'refreshTime': '20210926154722',\n      'dq': '上海',\n      'topJob': False,\n      'advViewFlag': False,\n      'requireWorkYears': '经验不限',\n      'pcOuterLink': '',\n      'h5OuterLink': '',\n      'dataPromId': 'd_sfrom=search_prime&d_ckId=null&d_curPage=0&d_pageSize=40&d_headId=null&d_posi=22&skId=6kgzm7tcrvofclqukj6vmucx0ai9zl79&fkId=6kgzm7tcrvofclqukj6vmucx0ai9zl79&ckId=6kgzm7tcrvofclqukj6vmucx0ai9zl79&sfrom=search_job_pc&curPage=0&pageSize=40&index=22'},\n     'recruiter': {'imId': 'ec1812dba892a886d6a9d1214a39013b',\n      'imUserType': '2',\n      'chatted': False,\n      'recruiterId': 'd5371dbcd01aff7e1b7012bc07ff189a',\n      'recruiterName': '鲁女士',\n      'recruiterTitle': '总经理',\n      'recruiterPhoto': '5f8f9863f6d1ab58476f246a08u.jpg'},\n     'dataInfo': '%7B%22sfrom%22%3A%22search_job_pc%22%2C%22jobKind%22%3A%222%22%2C%22jobId%22%3A%2243564707%22%2C%22ckId%22%3A%226kgzm7tcrvofclqukj6vmucx0ai9zl79%22%2C%22scene%22%3A%22input%22%2C%22skId%22%3A%226kgzm7tcrvofclqukj6vmucx0ai9zl79%22%2C%22fkId%22%3A%226kgzm7tcrvofclqukj6vmucx0ai9zl79%22%2C%22pageSize%22%3A%2240%22%2C%22curPage%22%3A%220%22%2C%22d_curPage%22%3A%220%22%2C%22d_pageSize%22%3A%2240%22%2C%22as_from%22%3A%22search_prime%22%7D',\n     'dataParams': '{\"imId\":\"ec1812dba892a886d6a9d1214a39013b\",\"imUserType\":\"2\",\"jobKind\":\"2\",\"jobId\":\"43564707\",\"userId\":\"d5371dbcd01aff7e1b7012bc07ff189a\",\"recruiterName\":\"鲁女士\",\"recruiterPhoto\":\"5f8f9863f6d1ab58476f246a08u.jpg\"}',\n     'comp': {'link': 'https://www.liepin.com/company/12708247/',\n      'compName': '湖北金铎电子商务有限公司',\n      'compScale': '',\n      'compLogo': '61b07937d0458d53c627567e02u.jpg',\n      'compId': 12708247,\n      'compIndustry': '批发/零售'}},\n    {'job': {'labels': ['营销策划', '广告创意', '视频内容运营'],\n      'link': 'https://www.liepin.com/job/1931397715.shtml',\n      'title': '信息流广告编导',\n      'salary': '5-10k',\n      'requireEduLevel': '本科',\n      'jobKind': '2',\n      'jobId': '31397715',\n      'refreshTime': '20200903152150',\n      'dq': '上海',\n      'topJob': False,\n      'advViewFlag': False,\n      'requireWorkYears': '经验不限',\n      'pcOuterLink': '',\n      'h5OuterLink': '',\n      'dataPromId': 'd_sfrom=search_prime&d_ckId=null&d_curPage=0&d_pageSize=40&d_headId=null&d_posi=23&skId=6kgzm7tcrvofclqukj6vmucx0ai9zl79&fkId=6kgzm7tcrvofclqukj6vmucx0ai9zl79&ckId=6kgzm7tcrvofclqukj6vmucx0ai9zl79&sfrom=search_job_pc&curPage=0&pageSize=40&index=23'},\n     'recruiter': {'imId': '21c4ce29185e1356ad8732728d6065d6',\n      'imUserType': '2',\n      'chatted': False,\n      'recruiterId': '6b01515914a74eb691d900a800785e0b',\n      'recruiterName': '张女士',\n      'recruiterTitle': 'hr',\n      'recruiterPhoto': '5f8f98648dbe6273dcf8515508u.jpg'},\n     'dataInfo': '%7B%22sfrom%22%3A%22search_job_pc%22%2C%22jobKind%22%3A%222%22%2C%22jobId%22%3A%2231397715%22%2C%22ckId%22%3A%226kgzm7tcrvofclqukj6vmucx0ai9zl79%22%2C%22scene%22%3A%22input%22%2C%22skId%22%3A%226kgzm7tcrvofclqukj6vmucx0ai9zl79%22%2C%22fkId%22%3A%226kgzm7tcrvofclqukj6vmucx0ai9zl79%22%2C%22pageSize%22%3A%2240%22%2C%22curPage%22%3A%220%22%2C%22d_curPage%22%3A%220%22%2C%22d_pageSize%22%3A%2240%22%2C%22as_from%22%3A%22search_prime%22%7D',\n     'dataParams': '{\"imId\":\"21c4ce29185e1356ad8732728d6065d6\",\"imUserType\":\"2\",\"jobKind\":\"2\",\"jobId\":\"31397715\",\"userId\":\"6b01515914a74eb691d900a800785e0b\",\"recruiterName\":\"张女士\",\"recruiterPhoto\":\"5f8f98648dbe6273dcf8515508u.jpg\"}',\n     'comp': {'link': 'https://www.liepin.com/company/12381587/',\n      'compName': '上海予贝网络科技有限公司',\n      'compScale': '1-49人',\n      'compLogo': '61b07937d0458d53c627567e02u.jpg',\n      'compId': 12381587,\n      'compIndustry': '专业技术服务'}},\n    {'job': {'labels': ['行业分析', '广告策划'],\n      'link': 'https://www.liepin.com/job/1940315491.shtml',\n      'title': '创意策划',\n      'salary': '7-11k',\n      'requireEduLevel': '本科',\n      'jobKind': '2',\n      'jobId': '40315491',\n      'refreshTime': '20210621182838',\n      'dq': '上海',\n      'topJob': False,\n      'advViewFlag': False,\n      'requireWorkYears': '经验不限',\n      'pcOuterLink': '',\n      'h5OuterLink': '',\n      'dataPromId': 'd_sfrom=search_prime&d_ckId=null&d_curPage=0&d_pageSize=40&d_headId=null&d_posi=24&skId=6kgzm7tcrvofclqukj6vmucx0ai9zl79&fkId=6kgzm7tcrvofclqukj6vmucx0ai9zl79&ckId=6kgzm7tcrvofclqukj6vmucx0ai9zl79&sfrom=search_job_pc&curPage=0&pageSize=40&index=24'},\n     'recruiter': {'imId': '261f3414451cbbd6063dfc1b00f6daab',\n      'imUserType': '2',\n      'chatted': False,\n      'recruiterId': '24cec64f6f7e7d7c78e0857c11e8d8a9',\n      'recruiterName': '何先生',\n      'recruiterTitle': '人事行政',\n      'recruiterPhoto': '5f8f986bdfb13a7dee342f2108u.jpg'},\n     'dataInfo': '%7B%22sfrom%22%3A%22search_job_pc%22%2C%22jobKind%22%3A%222%22%2C%22jobId%22%3A%2240315491%22%2C%22ckId%22%3A%226kgzm7tcrvofclqukj6vmucx0ai9zl79%22%2C%22scene%22%3A%22input%22%2C%22skId%22%3A%226kgzm7tcrvofclqukj6vmucx0ai9zl79%22%2C%22fkId%22%3A%226kgzm7tcrvofclqukj6vmucx0ai9zl79%22%2C%22pageSize%22%3A%2240%22%2C%22curPage%22%3A%220%22%2C%22d_curPage%22%3A%220%22%2C%22d_pageSize%22%3A%2240%22%2C%22as_from%22%3A%22search_prime%22%7D',\n     'dataParams': '{\"imId\":\"261f3414451cbbd6063dfc1b00f6daab\",\"imUserType\":\"2\",\"jobKind\":\"2\",\"jobId\":\"40315491\",\"userId\":\"24cec64f6f7e7d7c78e0857c11e8d8a9\",\"recruiterName\":\"何先生\",\"recruiterPhoto\":\"5f8f986bdfb13a7dee342f2108u.jpg\"}',\n     'comp': {'link': 'https://www.liepin.com/company/10166993/',\n      'compName': '野径(上海)信息科技有限公司',\n      'compScale': '1-49人',\n      'compStage': '融资未公开',\n      'compLogo': '61b07937d0458d53c627567e02u.jpg',\n      'compId': 10166993,\n      'compIndustry': '计算机软件'}},\n    {'job': {'labels': ['市场营销', '策划'],\n      'link': 'https://www.liepin.com/job/1942912611.shtml',\n      'title': '市场专员',\n      'salary': '4-8k·13薪',\n      'requireEduLevel': '学历不限',\n      'jobKind': '2',\n      'jobId': '42912611',\n      'refreshTime': '20210904134242',\n      'dq': '上海',\n      'topJob': False,\n      'advViewFlag': False,\n      'requireWorkYears': '经验不限',\n      'pcOuterLink': '',\n      'h5OuterLink': '',\n      'dataPromId': 'd_sfrom=search_prime&d_ckId=null&d_curPage=0&d_pageSize=40&d_headId=null&d_posi=25&skId=6kgzm7tcrvofclqukj6vmucx0ai9zl79&fkId=6kgzm7tcrvofclqukj6vmucx0ai9zl79&ckId=6kgzm7tcrvofclqukj6vmucx0ai9zl79&sfrom=search_job_pc&curPage=0&pageSize=40&index=25'},\n     'recruiter': {'imId': '568014bd73e4ab583c86c318be2f0240',\n      'imUserType': '2',\n      'chatted': False,\n      'recruiterId': '8df88f5992fd5d6e6066bfdd5462c9b3',\n      'recruiterName': '纪先生',\n      'recruiterTitle': '运营VP/首席运营官COO',\n      'recruiterPhoto': '5f8f986aea60860b75384fab08u.jpg'},\n     'dataInfo': '%7B%22sfrom%22%3A%22search_job_pc%22%2C%22jobKind%22%3A%222%22%2C%22jobId%22%3A%2242912611%22%2C%22ckId%22%3A%226kgzm7tcrvofclqukj6vmucx0ai9zl79%22%2C%22scene%22%3A%22input%22%2C%22skId%22%3A%226kgzm7tcrvofclqukj6vmucx0ai9zl79%22%2C%22fkId%22%3A%226kgzm7tcrvofclqukj6vmucx0ai9zl79%22%2C%22pageSize%22%3A%2240%22%2C%22curPage%22%3A%220%22%2C%22d_curPage%22%3A%220%22%2C%22d_pageSize%22%3A%2240%22%2C%22as_from%22%3A%22search_prime%22%7D',\n     'dataParams': '{\"imId\":\"568014bd73e4ab583c86c318be2f0240\",\"imUserType\":\"2\",\"jobKind\":\"2\",\"jobId\":\"42912611\",\"userId\":\"8df88f5992fd5d6e6066bfdd5462c9b3\",\"recruiterName\":\"纪先生\",\"recruiterPhoto\":\"5f8f986aea60860b75384fab08u.jpg\"}',\n     'comp': {'link': 'https://www.liepin.com/company/12919619/',\n      'compName': '上海顷马信息科技有限公司',\n      'compScale': '1-49人',\n      'compLogo': '61b07937d0458d53c627567e02u.jpg',\n      'compId': 12919619,\n      'compIndustry': '计算机软件'}},\n    {'job': {'labels': ['市场营销'],\n      'link': 'https://www.liepin.com/job/1939022295.shtml',\n      'title': '市场专员',\n      'salary': '5-6k',\n      'requireEduLevel': '大专',\n      'jobKind': '2',\n      'jobId': '39022295',\n      'refreshTime': '20211118180916',\n      'dq': '上海',\n      'topJob': False,\n      'advViewFlag': False,\n      'requireWorkYears': '经验不限',\n      'pcOuterLink': '',\n      'h5OuterLink': '',\n      'dataPromId': 'd_sfrom=search_prime&d_ckId=null&d_curPage=0&d_pageSize=40&d_headId=null&d_posi=26&skId=6kgzm7tcrvofclqukj6vmucx0ai9zl79&fkId=6kgzm7tcrvofclqukj6vmucx0ai9zl79&ckId=6kgzm7tcrvofclqukj6vmucx0ai9zl79&sfrom=search_job_pc&curPage=0&pageSize=40&index=26'},\n     'recruiter': {'imId': '8914a9472477df036042c177f0a1d2b1',\n      'imUserType': '2',\n      'chatted': False,\n      'recruiterId': '0e95b8f00fe7be132975bcd0398957d8',\n      'recruiterName': '叶女士',\n      'recruiterTitle': '行政人事部副经理',\n      'recruiterPhoto': '54d1e77c712eb4f6b84c48d801a.jpg'},\n     'dataInfo': '%7B%22sfrom%22%3A%22search_job_pc%22%2C%22jobKind%22%3A%222%22%2C%22jobId%22%3A%2239022295%22%2C%22ckId%22%3A%226kgzm7tcrvofclqukj6vmucx0ai9zl79%22%2C%22scene%22%3A%22input%22%2C%22skId%22%3A%226kgzm7tcrvofclqukj6vmucx0ai9zl79%22%2C%22fkId%22%3A%226kgzm7tcrvofclqukj6vmucx0ai9zl79%22%2C%22pageSize%22%3A%2240%22%2C%22curPage%22%3A%220%22%2C%22d_curPage%22%3A%220%22%2C%22d_pageSize%22%3A%2240%22%2C%22as_from%22%3A%22search_prime%22%7D',\n     'dataParams': '{\"imId\":\"8914a9472477df036042c177f0a1d2b1\",\"imUserType\":\"2\",\"jobKind\":\"2\",\"jobId\":\"39022295\",\"userId\":\"0e95b8f00fe7be132975bcd0398957d8\",\"recruiterName\":\"叶女士\",\"recruiterPhoto\":\"54d1e77c712eb4f6b84c48d801a.jpg\"}',\n     'comp': {'link': 'https://www.liepin.com/company/7845005/',\n      'compName': '汇丽涂料',\n      'compScale': '100-499人',\n      'compStage': '其他',\n      'compLogo': '5bfe9b2174719df0ac99f62e03a.png',\n      'compId': 7845005,\n      'compIndustry': '石化'}},\n    {'job': {'labels': ['新媒体', '面销', 'IT/互联网/软件'],\n      'link': 'https://www.liepin.com/job/1948196445.shtml',\n      'title': '互联网运营销售',\n      'salary': '8-13k',\n      'requireEduLevel': '学历不限',\n      'jobKind': '2',\n      'jobId': '48196445',\n      'refreshTime': '20220327212233',\n      'dq': '上海-闵行区',\n      'topJob': False,\n      'advViewFlag': False,\n      'requireWorkYears': '经验不限',\n      'pcOuterLink': '',\n      'h5OuterLink': '',\n      'dataPromId': 'd_sfrom=search_prime&d_ckId=null&d_curPage=0&d_pageSize=40&d_headId=null&d_posi=27&skId=6kgzm7tcrvofclqukj6vmucx0ai9zl79&fkId=6kgzm7tcrvofclqukj6vmucx0ai9zl79&ckId=6kgzm7tcrvofclqukj6vmucx0ai9zl79&sfrom=search_job_pc&curPage=0&pageSize=40&index=27'},\n     'recruiter': {'imId': '22605379cb2ff1c62a3910ac223a8f46',\n      'imUserType': '2',\n      'chatted': False,\n      'recruiterId': 'd65fff1766796a9b20c8e599d6c5eff8',\n      'recruiterName': '周先生',\n      'recruiterTitle': '销售总经理/销售副总裁',\n      'recruiterPhoto': '5f8f986aea60860b75384fab08u.jpg'},\n     'dataInfo': '%7B%22sfrom%22%3A%22search_job_pc%22%2C%22jobKind%22%3A%222%22%2C%22jobId%22%3A%2248196445%22%2C%22ckId%22%3A%226kgzm7tcrvofclqukj6vmucx0ai9zl79%22%2C%22scene%22%3A%22input%22%2C%22skId%22%3A%226kgzm7tcrvofclqukj6vmucx0ai9zl79%22%2C%22fkId%22%3A%226kgzm7tcrvofclqukj6vmucx0ai9zl79%22%2C%22pageSize%22%3A%2240%22%2C%22curPage%22%3A%220%22%2C%22d_curPage%22%3A%220%22%2C%22d_pageSize%22%3A%2240%22%2C%22as_from%22%3A%22search_prime%22%7D',\n     'dataParams': '{\"imId\":\"22605379cb2ff1c62a3910ac223a8f46\",\"imUserType\":\"2\",\"jobKind\":\"2\",\"jobId\":\"48196445\",\"userId\":\"d65fff1766796a9b20c8e599d6c5eff8\",\"recruiterName\":\"周先生\",\"recruiterPhoto\":\"5f8f986aea60860b75384fab08u.jpg\"}',\n     'comp': {'link': 'https://www.liepin.com/company/13162845/',\n      'compName': '上海趣存网络科技有限公司',\n      'compScale': '50-99人',\n      'compLogo': '61b07937d0458d53c627567e02u.jpg',\n      'compId': 13162845,\n      'compIndustry': '计算机软件'}},\n    {'job': {'labels': [],\n      'link': 'https://www.liepin.com/job/1925906551.shtml',\n      'title': '运营助理',\n      'salary': '4-6k',\n      'requireEduLevel': '大专',\n      'jobKind': '2',\n      'jobId': '25906551',\n      'refreshTime': '20200406191337',\n      'dq': '上海-松江区',\n      'topJob': False,\n      'advViewFlag': False,\n      'requireWorkYears': '经验不限',\n      'pcOuterLink': '',\n      'h5OuterLink': '',\n      'dataPromId': 'd_sfrom=search_prime&d_ckId=null&d_curPage=0&d_pageSize=40&d_headId=null&d_posi=28&skId=6kgzm7tcrvofclqukj6vmucx0ai9zl79&fkId=6kgzm7tcrvofclqukj6vmucx0ai9zl79&ckId=6kgzm7tcrvofclqukj6vmucx0ai9zl79&sfrom=search_job_pc&curPage=0&pageSize=40&index=28'},\n     'recruiter': {'imId': '706909ed985d27b9cc809655362a8e54',\n      'imUserType': '2',\n      'chatted': False,\n      'recruiterId': 'b42a07129c3d9c7657b6a148a95065a5',\n      'recruiterName': '何先生',\n      'recruiterTitle': '人力资源总监',\n      'recruiterPhoto': '5f8f986bdfb13a7dee342f2108u.jpg'},\n     'dataInfo': '%7B%22sfrom%22%3A%22search_job_pc%22%2C%22jobKind%22%3A%222%22%2C%22jobId%22%3A%2225906551%22%2C%22ckId%22%3A%226kgzm7tcrvofclqukj6vmucx0ai9zl79%22%2C%22scene%22%3A%22input%22%2C%22skId%22%3A%226kgzm7tcrvofclqukj6vmucx0ai9zl79%22%2C%22fkId%22%3A%226kgzm7tcrvofclqukj6vmucx0ai9zl79%22%2C%22pageSize%22%3A%2240%22%2C%22curPage%22%3A%220%22%2C%22d_curPage%22%3A%220%22%2C%22d_pageSize%22%3A%2240%22%2C%22as_from%22%3A%22search_prime%22%7D',\n     'dataParams': '{\"imId\":\"706909ed985d27b9cc809655362a8e54\",\"imUserType\":\"2\",\"jobKind\":\"2\",\"jobId\":\"25906551\",\"userId\":\"b42a07129c3d9c7657b6a148a95065a5\",\"recruiterName\":\"何先生\",\"recruiterPhoto\":\"5f8f986bdfb13a7dee342f2108u.jpg\"}',\n     'comp': {'link': 'https://www.liepin.com/company/12150829/',\n      'compName': '上海向轨网络科技有限公司',\n      'compScale': '100-499人',\n      'compLogo': '61b07937d0458d53c627567e02u.jpg',\n      'compId': 12150829,\n      'compIndustry': '计算机软件'}},\n    {'job': {'labels': ['营销策划', '广告投放', '网络营销'],\n      'link': 'https://www.liepin.com/job/1932379815.shtml',\n      'title': '抖音运营实习生',\n      'salary': '5-8k',\n      'requireEduLevel': '学历不限',\n      'jobKind': '2',\n      'jobId': '32379815',\n      'refreshTime': '20201003152249',\n      'dq': '上海-黄浦区',\n      'topJob': False,\n      'advViewFlag': False,\n      'requireWorkYears': '经验不限',\n      'pcOuterLink': '',\n      'h5OuterLink': '',\n      'dataPromId': 'd_sfrom=search_prime&d_ckId=null&d_curPage=0&d_pageSize=40&d_headId=null&d_posi=29&skId=6kgzm7tcrvofclqukj6vmucx0ai9zl79&fkId=6kgzm7tcrvofclqukj6vmucx0ai9zl79&ckId=6kgzm7tcrvofclqukj6vmucx0ai9zl79&sfrom=search_job_pc&curPage=0&pageSize=40&index=29'},\n     'recruiter': {'imId': '43e4d1a938c944974036597854bcf58c',\n      'imUserType': '2',\n      'chatted': False,\n      'recruiterId': 'd1edf4fce5b4c3af8d9ea85431a6af9f',\n      'recruiterName': '薛女士',\n      'recruiterTitle': '人力资源总监',\n      'recruiterPhoto': '5f759fbaea60860b752e04fd08u.png'},\n     'dataInfo': '%7B%22sfrom%22%3A%22search_job_pc%22%2C%22jobKind%22%3A%222%22%2C%22jobId%22%3A%2232379815%22%2C%22ckId%22%3A%226kgzm7tcrvofclqukj6vmucx0ai9zl79%22%2C%22scene%22%3A%22input%22%2C%22skId%22%3A%226kgzm7tcrvofclqukj6vmucx0ai9zl79%22%2C%22fkId%22%3A%226kgzm7tcrvofclqukj6vmucx0ai9zl79%22%2C%22pageSize%22%3A%2240%22%2C%22curPage%22%3A%220%22%2C%22d_curPage%22%3A%220%22%2C%22d_pageSize%22%3A%2240%22%2C%22as_from%22%3A%22search_prime%22%7D',\n     'dataParams': '{\"imId\":\"43e4d1a938c944974036597854bcf58c\",\"imUserType\":\"2\",\"jobKind\":\"2\",\"jobId\":\"32379815\",\"userId\":\"d1edf4fce5b4c3af8d9ea85431a6af9f\",\"recruiterName\":\"薛女士\",\"recruiterPhoto\":\"5f759fbaea60860b752e04fd08u.png\"}',\n     'comp': {'link': 'https://www.liepin.com/company/12420287/',\n      'compName': '上海蓝京贸易调剂有限公司',\n      'compScale': '50-99人',\n      'compLogo': '61b07937d0458d53c627567e02u.jpg',\n      'compId': 12420287,\n      'compIndustry': '批发/零售'}},\n    {'job': {'labels': ['电影传媒',\n       '广告策划',\n       '文案策划',\n       '户外媒介',\n       '传统媒介',\n       '乙方公司背景',\n       '广告/传媒/文化'],\n      'link': 'https://www.liepin.com/job/1962199805.shtml',\n      'title': '广告策划经理',\n      'salary': '8-10k',\n      'requireEduLevel': '本科',\n      'jobKind': '2',\n      'jobId': '62199805',\n      'refreshTime': '20231215161444',\n      'dq': '上海-徐汇区',\n      'topJob': False,\n      'advViewFlag': False,\n      'requireWorkYears': '3-5年',\n      'pcOuterLink': '',\n      'h5OuterLink': '',\n      'dataPromId': 'd_sfrom=search_prime&d_ckId=null&d_curPage=0&d_pageSize=40&d_headId=null&d_posi=30&skId=6kgzm7tcrvofclqukj6vmucx0ai9zl79&fkId=6kgzm7tcrvofclqukj6vmucx0ai9zl79&ckId=6kgzm7tcrvofclqukj6vmucx0ai9zl79&sfrom=search_job_pc&curPage=0&pageSize=40&index=30'},\n     'recruiter': {'imId': 'b244958062eb0c38e7b184a1ccff1ea4',\n      'imUserType': '2',\n      'chatted': False,\n      'recruiterId': 'f69732438414537b7db77b0a8f846828',\n      'recruiterName': '宋女士',\n      'recruiterTitle': '人事总监',\n      'recruiterPhoto': '64f85453af493b045620bfad03u.png'},\n     'dataInfo': '%7B%22sfrom%22%3A%22search_job_pc%22%2C%22jobKind%22%3A%222%22%2C%22jobId%22%3A%2262199805%22%2C%22ckId%22%3A%226kgzm7tcrvofclqukj6vmucx0ai9zl79%22%2C%22scene%22%3A%22input%22%2C%22skId%22%3A%226kgzm7tcrvofclqukj6vmucx0ai9zl79%22%2C%22fkId%22%3A%226kgzm7tcrvofclqukj6vmucx0ai9zl79%22%2C%22pageSize%22%3A%2240%22%2C%22curPage%22%3A%220%22%2C%22d_curPage%22%3A%220%22%2C%22d_pageSize%22%3A%2240%22%2C%22as_from%22%3A%22search_prime%22%7D',\n     'dataParams': '{\"imId\":\"b244958062eb0c38e7b184a1ccff1ea4\",\"imUserType\":\"2\",\"jobKind\":\"2\",\"jobId\":\"62199805\",\"userId\":\"f69732438414537b7db77b0a8f846828\",\"recruiterName\":\"宋女士\",\"recruiterPhoto\":\"64f85453af493b045620bfad03u.png\"}',\n     'comp': {'link': 'https://www.liepin.com/company/13646267/',\n      'compName': '千语智彤',\n      'compScale': '1-49人',\n      'compLogo': '652fa621b31f5c6e109dd24d02u.jpg',\n      'compId': 13646267,\n      'compIndustry': '文化艺术业'}},\n    {'job': {'labels': [],\n      'link': 'https://www.liepin.com/job/1958273773.shtml',\n      'title': '广告策划高级经理',\n      'salary': '15-35k·15薪',\n      'requireEduLevel': '本科',\n      'jobKind': '2',\n      'jobId': '58273773',\n      'refreshTime': '20230504175401',\n      'dq': '上海-嘉定区',\n      'topJob': False,\n      'advViewFlag': False,\n      'requireWorkYears': '3-5年',\n      'pcOuterLink': '',\n      'h5OuterLink': '',\n      'dataPromId': 'd_sfrom=search_prime&d_ckId=null&d_curPage=0&d_pageSize=40&d_headId=null&d_posi=31&skId=6kgzm7tcrvofclqukj6vmucx0ai9zl79&fkId=6kgzm7tcrvofclqukj6vmucx0ai9zl79&ckId=6kgzm7tcrvofclqukj6vmucx0ai9zl79&sfrom=search_job_pc&curPage=0&pageSize=40&index=31'},\n     'recruiter': {'imId': '26589f3a62c07bda36d8c7038f74fcb7',\n      'imUserType': '2',\n      'chatted': False,\n      'recruiterId': 'aadd6feb5284fb88fe617cf9abcae704',\n      'recruiterName': '黄女士',\n      'recruiterTitle': '招聘经理',\n      'recruiterPhoto': '64b290564767061a4c09cecc04u.png'},\n     'dataInfo': '%7B%22sfrom%22%3A%22search_job_pc%22%2C%22jobKind%22%3A%222%22%2C%22jobId%22%3A%2258273773%22%2C%22ckId%22%3A%226kgzm7tcrvofclqukj6vmucx0ai9zl79%22%2C%22scene%22%3A%22input%22%2C%22skId%22%3A%226kgzm7tcrvofclqukj6vmucx0ai9zl79%22%2C%22fkId%22%3A%226kgzm7tcrvofclqukj6vmucx0ai9zl79%22%2C%22pageSize%22%3A%2240%22%2C%22curPage%22%3A%220%22%2C%22d_curPage%22%3A%220%22%2C%22d_pageSize%22%3A%2240%22%2C%22as_from%22%3A%22search_prime%22%7D',\n     'dataParams': '{\"imId\":\"26589f3a62c07bda36d8c7038f74fcb7\",\"imUserType\":\"2\",\"jobKind\":\"2\",\"jobId\":\"58273773\",\"userId\":\"aadd6feb5284fb88fe617cf9abcae704\",\"recruiterName\":\"黄女士\",\"recruiterPhoto\":\"64b290564767061a4c09cecc04u.png\"}',\n     'comp': {'link': 'https://www.liepin.com/company/9770323/',\n      'compName': '京东物流',\n      'compScale': '10000人以上',\n      'compStage': '港股上市',\n      'compLogo': '5f3b73cb9d37de587955cfe104u.png',\n      'compId': 9770323,\n      'compIndustry': '货运/物流/仓储'}},\n    {'job': {'labels': [],\n      'link': 'https://www.liepin.com/job/1951559471.shtml',\n      'title': '广告策划运营',\n      'salary': '20-35k·16薪',\n      'requireEduLevel': '本科',\n      'jobKind': '2',\n      'jobId': '51559471',\n      'refreshTime': '20220801201628',\n      'dq': '上海-浦东新区',\n      'topJob': False,\n      'advViewFlag': False,\n      'requireWorkYears': '5-10年',\n      'pcOuterLink': '',\n      'h5OuterLink': '',\n      'dataPromId': 'd_sfrom=search_prime&d_ckId=null&d_curPage=0&d_pageSize=40&d_headId=null&d_posi=32&skId=6kgzm7tcrvofclqukj6vmucx0ai9zl79&fkId=6kgzm7tcrvofclqukj6vmucx0ai9zl79&ckId=6kgzm7tcrvofclqukj6vmucx0ai9zl79&sfrom=search_job_pc&curPage=0&pageSize=40&index=32'},\n     'recruiter': {'imId': '7f39f748a96642b5f4067025f1d6ce6f',\n      'imUserType': '2',\n      'chatted': False,\n      'recruiterId': 'db75ed61406d3107ce2ed62f8a220a77',\n      'recruiterName': '李女士',\n      'recruiterTitle': '市场经理',\n      'recruiterPhoto': '5f8f986779c7cc70efbf36c008u.jpg'},\n     'dataInfo': '%7B%22sfrom%22%3A%22search_job_pc%22%2C%22jobKind%22%3A%222%22%2C%22jobId%22%3A%2251559471%22%2C%22ckId%22%3A%226kgzm7tcrvofclqukj6vmucx0ai9zl79%22%2C%22scene%22%3A%22input%22%2C%22skId%22%3A%226kgzm7tcrvofclqukj6vmucx0ai9zl79%22%2C%22fkId%22%3A%226kgzm7tcrvofclqukj6vmucx0ai9zl79%22%2C%22pageSize%22%3A%2240%22%2C%22curPage%22%3A%220%22%2C%22d_curPage%22%3A%220%22%2C%22d_pageSize%22%3A%2240%22%2C%22as_from%22%3A%22search_prime%22%7D',\n     'dataParams': '{\"imId\":\"7f39f748a96642b5f4067025f1d6ce6f\",\"imUserType\":\"2\",\"jobKind\":\"2\",\"jobId\":\"51559471\",\"userId\":\"db75ed61406d3107ce2ed62f8a220a77\",\"recruiterName\":\"李女士\",\"recruiterPhoto\":\"5f8f986779c7cc70efbf36c008u.jpg\"}',\n     'comp': {'link': 'https://www.liepin.com/company/884492/',\n      'compName': 'Baidu',\n      'compScale': '10000人以上',\n      'compStage': '美股上市',\n      'compLogo': '5bfe93af74719d9f609aaaef03a.png',\n      'compId': 884492,\n      'compIndustry': '互联网'}},\n    {'job': {'labels': [],\n      'link': 'https://www.liepin.com/job/1948397647.shtml',\n      'title': '广告策划',\n      'salary': '12-18k·13薪',\n      'requireEduLevel': '统招本科',\n      'jobKind': '2',\n      'jobId': '48397647',\n      'refreshTime': '20230111102934',\n      'dq': '上海',\n      'topJob': False,\n      'advViewFlag': False,\n      'requireWorkYears': '1-3年',\n      'pcOuterLink': '',\n      'h5OuterLink': '',\n      'dataPromId': 'd_sfrom=search_prime&d_ckId=null&d_curPage=0&d_pageSize=40&d_headId=null&d_posi=33&skId=6kgzm7tcrvofclqukj6vmucx0ai9zl79&fkId=6kgzm7tcrvofclqukj6vmucx0ai9zl79&ckId=6kgzm7tcrvofclqukj6vmucx0ai9zl79&sfrom=search_job_pc&curPage=0&pageSize=40&index=33'},\n     'recruiter': {'imId': '361c2cc6afb54c5b062c1b1ee9c7454d',\n      'imUserType': '2',\n      'chatted': False,\n      'recruiterId': '499968e9be21bd7e3829e65eddd95de3',\n      'recruiterName': '应先生',\n      'recruiterTitle': 'HR',\n      'recruiterPhoto': '5f8f986aea60860b75384fab08u.jpg'},\n     'dataInfo': '%7B%22sfrom%22%3A%22search_job_pc%22%2C%22jobKind%22%3A%222%22%2C%22jobId%22%3A%2248397647%22%2C%22ckId%22%3A%226kgzm7tcrvofclqukj6vmucx0ai9zl79%22%2C%22scene%22%3A%22input%22%2C%22skId%22%3A%226kgzm7tcrvofclqukj6vmucx0ai9zl79%22%2C%22fkId%22%3A%226kgzm7tcrvofclqukj6vmucx0ai9zl79%22%2C%22pageSize%22%3A%2240%22%2C%22curPage%22%3A%220%22%2C%22d_curPage%22%3A%220%22%2C%22d_pageSize%22%3A%2240%22%2C%22as_from%22%3A%22search_prime%22%7D',\n     'dataParams': '{\"imId\":\"361c2cc6afb54c5b062c1b1ee9c7454d\",\"imUserType\":\"2\",\"jobKind\":\"2\",\"jobId\":\"48397647\",\"userId\":\"499968e9be21bd7e3829e65eddd95de3\",\"recruiterName\":\"应先生\",\"recruiterPhoto\":\"5f8f986aea60860b75384fab08u.jpg\"}',\n     'comp': {'link': 'https://www.liepin.com/company/8440876/',\n      'compName': '上海萌尔克文化传播有限公司',\n      'compScale': '1-49人',\n      'compStage': '融资未公开',\n      'compLogo': '5513cbc20cf2de3b2e1d28b701a.jpg',\n      'compId': 8440876,\n      'compIndustry': '广告/公关/会展'}},\n    {'job': {'labels': [],\n      'link': 'https://www.liepin.com/job/1955304185.shtml',\n      'title': '商业化广告策划-母婴行业',\n      'salary': '20-40k·15薪',\n      'requireEduLevel': '本科',\n      'jobKind': '2',\n      'jobId': '55304185',\n      'refreshTime': '20230324120117',\n      'dq': '上海-黄浦区',\n      'topJob': False,\n      'advViewFlag': False,\n      'requireWorkYears': '3-5年',\n      'pcOuterLink': '',\n      'h5OuterLink': '',\n      'dataPromId': 'd_sfrom=search_prime&d_ckId=null&d_curPage=0&d_pageSize=40&d_headId=null&d_posi=34&skId=6kgzm7tcrvofclqukj6vmucx0ai9zl79&fkId=6kgzm7tcrvofclqukj6vmucx0ai9zl79&ckId=6kgzm7tcrvofclqukj6vmucx0ai9zl79&sfrom=search_job_pc&curPage=0&pageSize=40&index=34'},\n     'recruiter': {'imId': 'f55503b3057ce2051acc4b10d8803776',\n      'imUserType': '2',\n      'chatted': False,\n      'recruiterId': '1758d4eb6013f023a30bb45c772903a1',\n      'recruiterName': '熊女士',\n      'recruiterTitle': 'hr',\n      'recruiterPhoto': '5f8f9863f6d1ab58476f246a08u.jpg'},\n     'dataInfo': '%7B%22sfrom%22%3A%22search_job_pc%22%2C%22jobKind%22%3A%222%22%2C%22jobId%22%3A%2255304185%22%2C%22ckId%22%3A%226kgzm7tcrvofclqukj6vmucx0ai9zl79%22%2C%22scene%22%3A%22input%22%2C%22skId%22%3A%226kgzm7tcrvofclqukj6vmucx0ai9zl79%22%2C%22fkId%22%3A%226kgzm7tcrvofclqukj6vmucx0ai9zl79%22%2C%22pageSize%22%3A%2240%22%2C%22curPage%22%3A%220%22%2C%22d_curPage%22%3A%220%22%2C%22d_pageSize%22%3A%2240%22%2C%22as_from%22%3A%22search_prime%22%7D',\n     'dataParams': '{\"imId\":\"f55503b3057ce2051acc4b10d8803776\",\"imUserType\":\"2\",\"jobKind\":\"2\",\"jobId\":\"55304185\",\"userId\":\"1758d4eb6013f023a30bb45c772903a1\",\"recruiterName\":\"熊女士\",\"recruiterPhoto\":\"5f8f9863f6d1ab58476f246a08u.jpg\"}',\n     'comp': {'link': 'https://www.liepin.com/company/7921271/',\n      'compName': '小红书',\n      'compScale': '1000-2000人',\n      'compStage': 'D轮',\n      'compLogo': '5952248270327b30a4cc59d605a.jpg',\n      'compId': 7921271,\n      'compIndustry': '互联网'}},\n    {'job': {'labels': [],\n      'link': 'https://www.liepin.com/job/1956659041.shtml',\n      'title': '商业化广告策划-大健康行业',\n      'salary': '20-40k·15薪',\n      'requireEduLevel': '本科',\n      'jobKind': '2',\n      'jobId': '56659041',\n      'refreshTime': '20230303093945',\n      'dq': '上海-黄浦区',\n      'topJob': False,\n      'advViewFlag': False,\n      'requireWorkYears': '3-5年',\n      'pcOuterLink': '',\n      'h5OuterLink': '',\n      'dataPromId': 'd_sfrom=search_prime&d_ckId=null&d_curPage=0&d_pageSize=40&d_headId=null&d_posi=35&skId=6kgzm7tcrvofclqukj6vmucx0ai9zl79&fkId=6kgzm7tcrvofclqukj6vmucx0ai9zl79&ckId=6kgzm7tcrvofclqukj6vmucx0ai9zl79&sfrom=search_job_pc&curPage=0&pageSize=40&index=35'},\n     'recruiter': {'imId': 'a4b4d56941978be2fbc645f98a948c5b',\n      'imUserType': '2',\n      'chatted': False,\n      'recruiterId': '7cbd01d351415a15199e859559a1e25d',\n      'recruiterName': '白女士',\n      'recruiterTitle': 'hr',\n      'recruiterPhoto': '5f8f9866dfb13a7dee342f1808u.jpg'},\n     'dataInfo': '%7B%22sfrom%22%3A%22search_job_pc%22%2C%22jobKind%22%3A%222%22%2C%22jobId%22%3A%2256659041%22%2C%22ckId%22%3A%226kgzm7tcrvofclqukj6vmucx0ai9zl79%22%2C%22scene%22%3A%22input%22%2C%22skId%22%3A%226kgzm7tcrvofclqukj6vmucx0ai9zl79%22%2C%22fkId%22%3A%226kgzm7tcrvofclqukj6vmucx0ai9zl79%22%2C%22pageSize%22%3A%2240%22%2C%22curPage%22%3A%220%22%2C%22d_curPage%22%3A%220%22%2C%22d_pageSize%22%3A%2240%22%2C%22as_from%22%3A%22search_prime%22%7D',\n     'dataParams': '{\"imId\":\"a4b4d56941978be2fbc645f98a948c5b\",\"imUserType\":\"2\",\"jobKind\":\"2\",\"jobId\":\"56659041\",\"userId\":\"7cbd01d351415a15199e859559a1e25d\",\"recruiterName\":\"白女士\",\"recruiterPhoto\":\"5f8f9866dfb13a7dee342f1808u.jpg\"}',\n     'comp': {'link': 'https://www.liepin.com/company/7921271/',\n      'compName': '小红书',\n      'compScale': '1000-2000人',\n      'compStage': 'D轮',\n      'compLogo': '5952248270327b30a4cc59d605a.jpg',\n      'compId': 7921271,\n      'compIndustry': '互联网'}},\n    {'job': {'labels': [],\n      'link': 'https://www.liepin.com/job/1958589485.shtml',\n      'title': '酒水饮料商业广告策划',\n      'salary': '20-40k·15薪',\n      'requireEduLevel': '统招本科',\n      'jobKind': '2',\n      'jobId': '58589485',\n      'refreshTime': '20230516151747',\n      'dq': '上海-黄浦区',\n      'topJob': False,\n      'advViewFlag': False,\n      'requireWorkYears': '3-5年',\n      'pcOuterLink': '',\n      'h5OuterLink': '',\n      'dataPromId': 'd_sfrom=search_prime&d_ckId=null&d_curPage=0&d_pageSize=40&d_headId=null&d_posi=36&skId=6kgzm7tcrvofclqukj6vmucx0ai9zl79&fkId=6kgzm7tcrvofclqukj6vmucx0ai9zl79&ckId=6kgzm7tcrvofclqukj6vmucx0ai9zl79&sfrom=search_job_pc&curPage=0&pageSize=40&index=36'},\n     'recruiter': {'imId': 'a4b4d56941978be2fbc645f98a948c5b',\n      'imUserType': '2',\n      'chatted': False,\n      'recruiterId': '7cbd01d351415a15199e859559a1e25d',\n      'recruiterName': '白女士',\n      'recruiterTitle': 'hr',\n      'recruiterPhoto': '5f8f9866dfb13a7dee342f1808u.jpg'},\n     'dataInfo': '%7B%22sfrom%22%3A%22search_job_pc%22%2C%22jobKind%22%3A%222%22%2C%22jobId%22%3A%2258589485%22%2C%22ckId%22%3A%226kgzm7tcrvofclqukj6vmucx0ai9zl79%22%2C%22scene%22%3A%22input%22%2C%22skId%22%3A%226kgzm7tcrvofclqukj6vmucx0ai9zl79%22%2C%22fkId%22%3A%226kgzm7tcrvofclqukj6vmucx0ai9zl79%22%2C%22pageSize%22%3A%2240%22%2C%22curPage%22%3A%220%22%2C%22d_curPage%22%3A%220%22%2C%22d_pageSize%22%3A%2240%22%2C%22as_from%22%3A%22search_prime%22%7D',\n     'dataParams': '{\"imId\":\"a4b4d56941978be2fbc645f98a948c5b\",\"imUserType\":\"2\",\"jobKind\":\"2\",\"jobId\":\"58589485\",\"userId\":\"7cbd01d351415a15199e859559a1e25d\",\"recruiterName\":\"白女士\",\"recruiterPhoto\":\"5f8f9866dfb13a7dee342f1808u.jpg\"}',\n     'comp': {'link': 'https://www.liepin.com/company/7921271/',\n      'compName': '小红书',\n      'compScale': '1000-2000人',\n      'compStage': 'D轮',\n      'compLogo': '5952248270327b30a4cc59d605a.jpg',\n      'compId': 7921271,\n      'compIndustry': '互联网'}},\n    {'job': {'labels': ['公关文案', '新媒体文案', '活动文案', '渠道推广'],\n      'link': 'https://www.liepin.com/job/1930888969.shtml',\n      'title': '资深广告策划',\n      'salary': '10-20k',\n      'requireEduLevel': '本科',\n      'jobKind': '2',\n      'jobId': '30888969',\n      'refreshTime': '20210510142617',\n      'dq': '上海-长宁区',\n      'topJob': False,\n      'advViewFlag': False,\n      'requireWorkYears': '3-5年',\n      'pcOuterLink': '',\n      'h5OuterLink': '',\n      'dataPromId': 'd_sfrom=search_prime&d_ckId=null&d_curPage=0&d_pageSize=40&d_headId=null&d_posi=37&skId=6kgzm7tcrvofclqukj6vmucx0ai9zl79&fkId=6kgzm7tcrvofclqukj6vmucx0ai9zl79&ckId=6kgzm7tcrvofclqukj6vmucx0ai9zl79&sfrom=search_job_pc&curPage=0&pageSize=40&index=37'},\n     'recruiter': {'imId': 'f1bd39cef69adcf28fa263ed17de85b1',\n      'imUserType': '2',\n      'chatted': False,\n      'recruiterId': '912a30f19d493c65b4d6707a5c7b20db',\n      'recruiterName': '王女士',\n      'recruiterTitle': '资深广告策划',\n      'recruiterPhoto': '5f8f98648dbe6273dcf8515508u.jpg'},\n     'dataInfo': '%7B%22sfrom%22%3A%22search_job_pc%22%2C%22jobKind%22%3A%222%22%2C%22jobId%22%3A%2230888969%22%2C%22ckId%22%3A%226kgzm7tcrvofclqukj6vmucx0ai9zl79%22%2C%22scene%22%3A%22input%22%2C%22skId%22%3A%226kgzm7tcrvofclqukj6vmucx0ai9zl79%22%2C%22fkId%22%3A%226kgzm7tcrvofclqukj6vmucx0ai9zl79%22%2C%22pageSize%22%3A%2240%22%2C%22curPage%22%3A%220%22%2C%22d_curPage%22%3A%220%22%2C%22d_pageSize%22%3A%2240%22%2C%22as_from%22%3A%22search_prime%22%7D',\n     'dataParams': '{\"imId\":\"f1bd39cef69adcf28fa263ed17de85b1\",\"imUserType\":\"2\",\"jobKind\":\"2\",\"jobId\":\"30888969\",\"userId\":\"912a30f19d493c65b4d6707a5c7b20db\",\"recruiterName\":\"王女士\",\"recruiterPhoto\":\"5f8f98648dbe6273dcf8515508u.jpg\"}',\n     'comp': {'link': 'https://www.liepin.com/company/7917369/',\n      'compName': '美宁软件',\n      'compScale': '500-999人',\n      'compStage': 'B轮',\n      'compLogo': '5bfea0a674719d2aa34c012803a.png',\n      'compId': 7917369,\n      'compIndustry': '互联网'}},\n    {'job': {'labels': [],\n      'link': 'https://www.liepin.com/job/1944112105.shtml',\n      'title': '广告策划',\n      'salary': '8-15k',\n      'requireEduLevel': '本科',\n      'jobKind': '2',\n      'jobId': '44112105',\n      'refreshTime': '20220115113536',\n      'dq': '上海-普陀区',\n      'topJob': False,\n      'advViewFlag': False,\n      'requireWorkYears': '1-3年',\n      'pcOuterLink': '',\n      'h5OuterLink': '',\n      'dataPromId': 'd_sfrom=search_prime&d_ckId=null&d_curPage=0&d_pageSize=40&d_headId=null&d_posi=38&skId=6kgzm7tcrvofclqukj6vmucx0ai9zl79&fkId=6kgzm7tcrvofclqukj6vmucx0ai9zl79&ckId=6kgzm7tcrvofclqukj6vmucx0ai9zl79&sfrom=search_job_pc&curPage=0&pageSize=40&index=38'},\n     'recruiter': {'imId': '55377d294232a6e2655b7446ba4011f6',\n      'imUserType': '2',\n      'chatted': False,\n      'recruiterId': '8c0a8c209a212f433ef2a5046ca84395',\n      'recruiterName': '洪女士',\n      'recruiterTitle': 'HR',\n      'recruiterPhoto': '5f8f9866dfb13a7dee342f1808u.jpg'},\n     'dataInfo': '%7B%22sfrom%22%3A%22search_job_pc%22%2C%22jobKind%22%3A%222%22%2C%22jobId%22%3A%2244112105%22%2C%22ckId%22%3A%226kgzm7tcrvofclqukj6vmucx0ai9zl79%22%2C%22scene%22%3A%22input%22%2C%22skId%22%3A%226kgzm7tcrvofclqukj6vmucx0ai9zl79%22%2C%22fkId%22%3A%226kgzm7tcrvofclqukj6vmucx0ai9zl79%22%2C%22pageSize%22%3A%2240%22%2C%22curPage%22%3A%220%22%2C%22d_curPage%22%3A%220%22%2C%22d_pageSize%22%3A%2240%22%2C%22as_from%22%3A%22search_prime%22%7D',\n     'dataParams': '{\"imId\":\"55377d294232a6e2655b7446ba4011f6\",\"imUserType\":\"2\",\"jobKind\":\"2\",\"jobId\":\"44112105\",\"userId\":\"8c0a8c209a212f433ef2a5046ca84395\",\"recruiterName\":\"洪女士\",\"recruiterPhoto\":\"5f8f9866dfb13a7dee342f1808u.jpg\"}',\n     'comp': {'link': 'https://www.liepin.com/company/9538095/',\n      'compName': '上海众腾网络',\n      'compScale': '1-49人',\n      'compStage': '融资未公开',\n      'compLogo': '617a1cb8afa07b12e6e39aab07u.jpg',\n      'compId': 9538095,\n      'compIndustry': '广告/公关/会展'}},\n    {'job': {'labels': ['活动策划', '活动执行', '广告策划'],\n      'link': 'https://www.liepin.com/job/1926664967.shtml',\n      'title': '广告策划',\n      'salary': '6-10k',\n      'requireEduLevel': '大专',\n      'jobKind': '2',\n      'jobId': '26664967',\n      'refreshTime': '20200313151059',\n      'dq': '上海-浦东新区',\n      'topJob': False,\n      'advViewFlag': False,\n      'requireWorkYears': '1-3年',\n      'pcOuterLink': '',\n      'h5OuterLink': '',\n      'dataPromId': 'd_sfrom=search_prime&d_ckId=null&d_curPage=0&d_pageSize=40&d_headId=null&d_posi=39&skId=6kgzm7tcrvofclqukj6vmucx0ai9zl79&fkId=6kgzm7tcrvofclqukj6vmucx0ai9zl79&ckId=6kgzm7tcrvofclqukj6vmucx0ai9zl79&sfrom=search_job_pc&curPage=0&pageSize=40&index=39'},\n     'recruiter': {'imId': '5e94ef494932561b160bef405ccde8ba',\n      'imUserType': '2',\n      'chatted': False,\n      'recruiterId': '552f1ed51a03c91825f3e29795d04f47',\n      'recruiterName': '庄女士',\n      'recruiterTitle': '人事总监',\n      'recruiterPhoto': '5f8f9865ea60860b75384fa508u.jpg'},\n     'dataInfo': '%7B%22sfrom%22%3A%22search_job_pc%22%2C%22jobKind%22%3A%222%22%2C%22jobId%22%3A%2226664967%22%2C%22ckId%22%3A%226kgzm7tcrvofclqukj6vmucx0ai9zl79%22%2C%22scene%22%3A%22input%22%2C%22skId%22%3A%226kgzm7tcrvofclqukj6vmucx0ai9zl79%22%2C%22fkId%22%3A%226kgzm7tcrvofclqukj6vmucx0ai9zl79%22%2C%22pageSize%22%3A%2240%22%2C%22curPage%22%3A%220%22%2C%22d_curPage%22%3A%220%22%2C%22d_pageSize%22%3A%2240%22%2C%22as_from%22%3A%22search_prime%22%7D',\n     'dataParams': '{\"imId\":\"5e94ef494932561b160bef405ccde8ba\",\"imUserType\":\"2\",\"jobKind\":\"2\",\"jobId\":\"26664967\",\"userId\":\"552f1ed51a03c91825f3e29795d04f47\",\"recruiterName\":\"庄女士\",\"recruiterPhoto\":\"5f8f9865ea60860b75384fa508u.jpg\"}',\n     'comp': {'link': 'https://www.liepin.com/company/12177569/',\n      'compName': '上海维贤文化传媒有限公司',\n      'compScale': '1-49人',\n      'compLogo': '61b07937d0458d53c627567e02u.jpg',\n      'compId': 12177569,\n      'compIndustry': '专业技术服务'}}],\n   'compList': [],\n   'jobSubscribeInfo': {'keyword': '广告策划',\n    'qrUrl': 'https://mp.weixin.qq.com/cgi-bin/showqrcode?ticket=gQGY8DwAAAAAAAAAAS5odHRwOi8vd2VpeGluLnFxLmNvbS9xLzAySV9FbzBmRm9jdWoxekQ4Y2hCYzIAAgRnzoJlAwSAOgkA',\n    'dqName': '上海',\n    'dqCode': '020',\n    'id': '3c07f8307f595080c95f07960b681c23'}},\n  'passThroughData': {'sfrom': 'search_job_pc',\n   'ckId': '6kgzm7tcrvofclqukj6vmucx0ai9zl79',\n   'scene': 'input',\n   'skId': '6kgzm7tcrvofclqukj6vmucx0ai9zl79',\n   'fkId': '6kgzm7tcrvofclqukj6vmucx0ai9zl79'},\n  'pagination': {'currentPage': 0,\n   'totalPage': 13,\n   'pageSize': 40,\n   'hasNext': False,\n   'totalCounts': 503}}}"
     },
     "execution_count": 12,
     "metadata": {},
     "output_type": "execute_result"
    }
   ],
   "source": [
    "import time\n",
    "import random\n",
    "wait_time = random.randint(3,10)\n",
    "\n",
    "# payload = payloadd(str(城市),str(关键词),str(学历))\n",
    "payload = payloadd(str(城市),str(关键词))\n",
    "# create an HTML session using Requests-HTML\n",
    "session = HTMLSession()\n",
    "r = session.post(url, data=json.dumps(payload), headers=headers())\n",
    "\n",
    "# extract the JSON data from the response\n",
    "response_data = r.json()\n",
    "\n",
    "# example: print the number of job postings returned\n",
    "response_data"
   ],
   "metadata": {
    "collapsed": false
   }
  },
  {
   "cell_type": "code",
   "execution_count": 13,
   "outputs": [
    {
     "data": {
      "text/plain": "13"
     },
     "execution_count": 13,
     "metadata": {},
     "output_type": "execute_result"
    }
   ],
   "source": [
    "page = response_data['data']['pagination']['totalPage']\n",
    "page"
   ],
   "metadata": {
    "collapsed": false
   }
  },
  {
   "cell_type": "markdown",
   "source": [
    "# 10.翻页获取内容，并组合转为通俗易懂的图表"
   ],
   "metadata": {
    "collapsed": false
   }
  },
  {
   "cell_type": "code",
   "execution_count": 14,
   "outputs": [],
   "source": [
    "import pandas as pd\n",
    "import requests\n",
    "response_df = []\n",
    "for i in range(page): # 需要判断页面的数据有多少页\n",
    "    payload['data']['mainSearchPcConditionForm']['currentPage']=i\n",
    "    r = session.post(url, data=json.dumps(payload), headers=headers())\n",
    "    response_data = r.json()\n",
    "    df = pd.json_normalize(response_data['data']['data']['jobCardList'])\n",
    "    response_df.append(df)\n",
    "    time.sleep(wait_time)"
   ],
   "metadata": {
    "collapsed": false
   }
  },
  {
   "cell_type": "code",
   "execution_count": 15,
   "outputs": [
    {
     "data": {
      "text/plain": "                                             dataInfo  \\\n0   %7B%22jobId%22%3A%2258806367%22%2C%22sfrom%22%...   \n1   %7B%22jobId%22%3A%2246447123%22%2C%22sfrom%22%...   \n2   %7B%22jobId%22%3A%2256498145%22%2C%22sfrom%22%...   \n3   %7B%22jobId%22%3A%2225088147%22%2C%22sfrom%22%...   \n4   %7B%22jobId%22%3A%2235867731%22%2C%22sfrom%22%...   \n..                                                ...   \n18  %7B%22jobId%22%3A%2252222675%22%2C%22sfrom%22%...   \n19  %7B%22jobId%22%3A%2250916027%22%2C%22sfrom%22%...   \n20  %7B%22jobId%22%3A%2247180577%22%2C%22sfrom%22%...   \n21  %7B%22jobId%22%3A%2239252705%22%2C%22sfrom%22%...   \n22  %7B%22jobId%22%3A%2220669607%22%2C%22sfrom%22%...   \n\n                                           dataParams     comp.compName  \\\n0   {\"userId\":\"ef4410271ee507db4ebe78f8d139964e\",\"...              有料广告   \n1   {\"userId\":\"ab7a57a627101bfe2be08dc37d54b6f3\",\"...               瀚与翼   \n2   {\"userId\":\"dc5f7372900c47cbac06d00d0050166c\",\"...      群邑(上海)广告有限公司   \n3   {\"userId\":\"53da6fed5384d274258924040bc7a85b\",\"...        上海写拾广告有限公司   \n4   {\"userId\":\"fd6ea30e74423e3b84a317888b12ae61\",\"...      上海贝书管理咨询有限公司   \n..                                                ...               ...   \n18  {\"userId\":\"df956e3c36dd73356e7bcafd6bce28ff\",\"...              锦和集团   \n19  {\"userId\":\"d7d4c2df100906a4d61a89f458b62922\",\"...    中海商业发展(深圳)有限公司   \n20  {\"userId\":\"8ab95b805563b71caa82391d89e3aa7f\",\"...     上海大力奇文化科技有限公司   \n21  {\"userId\":\"83470119ab1644340af57d9876dc6d3a\",\"...  上海宝龙实业发展(集团)有限公司   \n22  {\"userId\":\"a41ac00e405f74019cb5fae4a7ba500f\",\"...      上海姚联文化传播有限公司   \n\n   comp.compScale comp.compStage                    comp.compLogo  \\\n0           1-49人          融资未公开  646daf1a747e5c46be0c72ba05u.jpg   \n1          50-99人          融资未公开  61c54a5c64f02422cbb5113102u.png   \n2        10000人以上            NaN  5ece164af1b6f069706433da06u.png   \n3           1-49人            NaN  61b07937d0458d53c627567e02u.jpg   \n4           1-49人          融资未公开  61b07937d0458d53c627567e02u.jpg   \n..            ...            ...                              ...   \n18       100-499人         沪深A股上市  5bfe949e74719dc6ed73f4de03a.png   \n19    5000-10000人            NaN  5bfea0d174719d2aa34c09b503a.png   \n20                           NaN  61b07937d0458d53c627567e02u.jpg   \n21       10000人以上            NaN  5b8500f48e50a3257f30f44f04a.jpg   \n22          1-49人            NaN  61b07937d0458d53c627567e02u.jpg   \n\n    comp.compId                                 comp.link comp.compIndustry  \\\n0    12325901.0  https://www.liepin.com/company/12325901/            专业技术服务   \n1     8272042.0   https://www.liepin.com/company/8272042/            专业技术服务   \n2     2615574.0   https://www.liepin.com/company/2615574/          广告/公关/会展   \n3    10272573.0  https://www.liepin.com/company/10272573/          广播/影视/录音   \n4    10201729.0  https://www.liepin.com/company/10201729/          广告/公关/会展   \n..          ...                                       ...               ...   \n18    7999983.0   https://www.liepin.com/company/7999983/          房地产租赁/中介   \n19    8013612.0   https://www.liepin.com/company/8013612/           房地产开发经营   \n20   13001731.0  https://www.liepin.com/company/13001731/           其他商务服务业   \n21    6222805.0   https://www.liepin.com/company/6222805/           房地产开发经营   \n22   10044661.0  https://www.liepin.com/company/10044661/          广播/影视/录音   \n\n                               job.labels  ...  \\\n0                                  [广告策划]  ...   \n1                                      []  ...   \n2                                  [电商平台]  ...   \n3         [媒介媒体, 广告文案, 活动文案, 新媒体文案, 品牌文案]  ...   \n4                                  [内容运营]  ...   \n..                                    ...  ...   \n18  [营销策划, 推广策划, 计划运营, 广告策略, 前期策划, 品牌管理师]  ...   \n19      [活动策划, 文案策划, 媒介策划, 新媒体, 广告/传媒/文化]  ...   \n20                     [艺术培训, 线上运营, 线下运营]  ...   \n21                           [市场调研, 营销推广]  ...   \n22                  [营销策划, 自媒体, 广告/传媒/文化]  ...   \n\n                                       job.dataPromId job.advViewFlag  \\\n0   d_sfrom=search_prime&d_ckId=null&d_curPage=0&d...           False   \n1   d_sfrom=search_prime&d_ckId=null&d_curPage=0&d...           False   \n2   d_sfrom=search_prime&d_ckId=null&d_curPage=0&d...           False   \n3   d_sfrom=search_prime&d_ckId=null&d_curPage=0&d...           False   \n4   d_sfrom=search_prime&d_ckId=null&d_curPage=0&d...           False   \n..                                                ...             ...   \n18  d_sfrom=search_prime&d_ckId=null&d_curPage=12&...           False   \n19  d_sfrom=search_prime&d_ckId=null&d_curPage=12&...           False   \n20  d_sfrom=search_prime&d_ckId=null&d_curPage=12&...           False   \n21  d_sfrom=search_prime&d_ckId=null&d_curPage=12&...           False   \n22  d_sfrom=search_prime&d_ckId=null&d_curPage=12&...           False   \n\n                      recruiter.imId recruiter.imUserType recruiter.chatted  \\\n0   b7b1c0386e10f30804612e645251413c                    2             False   \n1   c823ddf91c5fe5cce68ea511f8a9efc5                    2             False   \n2   9f80db4d7554d22be0d71104ecc2e595                    2             False   \n3   f086316927445b55e3a362ce23913155                    2             False   \n4   aeafe1dad210ee339941166e65ebdb6f                    2             False   \n..                               ...                  ...               ...   \n18  519ef598de66b1efdfb6df235db455f2                    2             False   \n19  04691b6ff2553e546bc971ec2e264ed1                    2             False   \n20  7ff8b743eeca2c74613a615479ad0f1e                    2             False   \n21  e1b82d46c985d1d43eae059a38e31609                    2             False   \n22  dfbadda76495c55f062c1b1ee9c7454d                    2             False   \n\n   recruiter.recruiterName recruiter.recruiterTitle  \\\n0                      佘女士                       人事   \n1                      何女士                       TA   \n2                      沈女士                人力资源管理实习生   \n3                      曹女士                      合伙人   \n4                      代女士                  新媒体运营主管   \n..                     ...                      ...   \n18                     沈先生                     招聘主管   \n19                     於女士                       主任   \n20                     李女士                     人事经理   \n21                     黎女士                 招聘高级专业经理   \n22                     夏先生                       职员   \n\n               recruiter.recruiterId         recruiter.recruiterPhoto  \\\n0   ef4410271ee507db4ebe78f8d139964e  5f8f986779c7cc70efbf36c008u.jpg   \n1   ab7a57a627101bfe2be08dc37d54b6f3  5f8f98648dbe6273dcf8515508u.jpg   \n2   dc5f7372900c47cbac06d00d0050166c  5f8f9866dfb13a7dee342f1808u.jpg   \n3   53da6fed5384d274258924040bc7a85b  56938e9345ce240b1ff6c31504a.png   \n4   fd6ea30e74423e3b84a317888b12ae61  602e086f09f00f0851fa451907u.png   \n..                               ...                              ...   \n18  df956e3c36dd73356e7bcafd6bce28ff  5f8f986c79c7cc70efbf36c808u.jpg   \n19  d7d4c2df100906a4d61a89f458b62922  5f8f9863f6d1ab58476f246a08u.jpg   \n20  8ab95b805563b71caa82391d89e3aa7f  5f8f9865ea60860b75384fa508u.jpg   \n21  83470119ab1644340af57d9876dc6d3a  5f8f986779c7cc70efbf36c008u.jpg   \n22  a41ac00e405f74019cb5fae4a7ba500f  5f8f986aea60860b75384fab08u.jpg   \n\n   job.campusJobKind  \n0                NaN  \n1                NaN  \n2                NaN  \n3                NaN  \n4                NaN  \n..               ...  \n18               NaN  \n19               NaN  \n20               NaN  \n21               NaN  \n22               NaN  \n\n[503 rows x 32 columns]",
      "text/html": "<div>\n<style scoped>\n    .dataframe tbody tr th:only-of-type {\n        vertical-align: middle;\n    }\n\n    .dataframe tbody tr th {\n        vertical-align: top;\n    }\n\n    .dataframe thead th {\n        text-align: right;\n    }\n</style>\n<table border=\"1\" class=\"dataframe\">\n  <thead>\n    <tr style=\"text-align: right;\">\n      <th></th>\n      <th>dataInfo</th>\n      <th>dataParams</th>\n      <th>comp.compName</th>\n      <th>comp.compScale</th>\n      <th>comp.compStage</th>\n      <th>comp.compLogo</th>\n      <th>comp.compId</th>\n      <th>comp.link</th>\n      <th>comp.compIndustry</th>\n      <th>job.labels</th>\n      <th>...</th>\n      <th>job.dataPromId</th>\n      <th>job.advViewFlag</th>\n      <th>recruiter.imId</th>\n      <th>recruiter.imUserType</th>\n      <th>recruiter.chatted</th>\n      <th>recruiter.recruiterName</th>\n      <th>recruiter.recruiterTitle</th>\n      <th>recruiter.recruiterId</th>\n      <th>recruiter.recruiterPhoto</th>\n      <th>job.campusJobKind</th>\n    </tr>\n  </thead>\n  <tbody>\n    <tr>\n      <th>0</th>\n      <td>%7B%22jobId%22%3A%2258806367%22%2C%22sfrom%22%...</td>\n      <td>{\"userId\":\"ef4410271ee507db4ebe78f8d139964e\",\"...</td>\n      <td>有料广告</td>\n      <td>1-49人</td>\n      <td>融资未公开</td>\n      <td>646daf1a747e5c46be0c72ba05u.jpg</td>\n      <td>12325901.0</td>\n      <td>https://www.liepin.com/company/12325901/</td>\n      <td>专业技术服务</td>\n      <td>[广告策划]</td>\n      <td>...</td>\n      <td>d_sfrom=search_prime&amp;d_ckId=null&amp;d_curPage=0&amp;d...</td>\n      <td>False</td>\n      <td>b7b1c0386e10f30804612e645251413c</td>\n      <td>2</td>\n      <td>False</td>\n      <td>佘女士</td>\n      <td>人事</td>\n      <td>ef4410271ee507db4ebe78f8d139964e</td>\n      <td>5f8f986779c7cc70efbf36c008u.jpg</td>\n      <td>NaN</td>\n    </tr>\n    <tr>\n      <th>1</th>\n      <td>%7B%22jobId%22%3A%2246447123%22%2C%22sfrom%22%...</td>\n      <td>{\"userId\":\"ab7a57a627101bfe2be08dc37d54b6f3\",\"...</td>\n      <td>瀚与翼</td>\n      <td>50-99人</td>\n      <td>融资未公开</td>\n      <td>61c54a5c64f02422cbb5113102u.png</td>\n      <td>8272042.0</td>\n      <td>https://www.liepin.com/company/8272042/</td>\n      <td>专业技术服务</td>\n      <td>[]</td>\n      <td>...</td>\n      <td>d_sfrom=search_prime&amp;d_ckId=null&amp;d_curPage=0&amp;d...</td>\n      <td>False</td>\n      <td>c823ddf91c5fe5cce68ea511f8a9efc5</td>\n      <td>2</td>\n      <td>False</td>\n      <td>何女士</td>\n      <td>TA</td>\n      <td>ab7a57a627101bfe2be08dc37d54b6f3</td>\n      <td>5f8f98648dbe6273dcf8515508u.jpg</td>\n      <td>NaN</td>\n    </tr>\n    <tr>\n      <th>2</th>\n      <td>%7B%22jobId%22%3A%2256498145%22%2C%22sfrom%22%...</td>\n      <td>{\"userId\":\"dc5f7372900c47cbac06d00d0050166c\",\"...</td>\n      <td>群邑(上海)广告有限公司</td>\n      <td>10000人以上</td>\n      <td>NaN</td>\n      <td>5ece164af1b6f069706433da06u.png</td>\n      <td>2615574.0</td>\n      <td>https://www.liepin.com/company/2615574/</td>\n      <td>广告/公关/会展</td>\n      <td>[电商平台]</td>\n      <td>...</td>\n      <td>d_sfrom=search_prime&amp;d_ckId=null&amp;d_curPage=0&amp;d...</td>\n      <td>False</td>\n      <td>9f80db4d7554d22be0d71104ecc2e595</td>\n      <td>2</td>\n      <td>False</td>\n      <td>沈女士</td>\n      <td>人力资源管理实习生</td>\n      <td>dc5f7372900c47cbac06d00d0050166c</td>\n      <td>5f8f9866dfb13a7dee342f1808u.jpg</td>\n      <td>NaN</td>\n    </tr>\n    <tr>\n      <th>3</th>\n      <td>%7B%22jobId%22%3A%2225088147%22%2C%22sfrom%22%...</td>\n      <td>{\"userId\":\"53da6fed5384d274258924040bc7a85b\",\"...</td>\n      <td>上海写拾广告有限公司</td>\n      <td>1-49人</td>\n      <td>NaN</td>\n      <td>61b07937d0458d53c627567e02u.jpg</td>\n      <td>10272573.0</td>\n      <td>https://www.liepin.com/company/10272573/</td>\n      <td>广播/影视/录音</td>\n      <td>[媒介媒体, 广告文案, 活动文案, 新媒体文案, 品牌文案]</td>\n      <td>...</td>\n      <td>d_sfrom=search_prime&amp;d_ckId=null&amp;d_curPage=0&amp;d...</td>\n      <td>False</td>\n      <td>f086316927445b55e3a362ce23913155</td>\n      <td>2</td>\n      <td>False</td>\n      <td>曹女士</td>\n      <td>合伙人</td>\n      <td>53da6fed5384d274258924040bc7a85b</td>\n      <td>56938e9345ce240b1ff6c31504a.png</td>\n      <td>NaN</td>\n    </tr>\n    <tr>\n      <th>4</th>\n      <td>%7B%22jobId%22%3A%2235867731%22%2C%22sfrom%22%...</td>\n      <td>{\"userId\":\"fd6ea30e74423e3b84a317888b12ae61\",\"...</td>\n      <td>上海贝书管理咨询有限公司</td>\n      <td>1-49人</td>\n      <td>融资未公开</td>\n      <td>61b07937d0458d53c627567e02u.jpg</td>\n      <td>10201729.0</td>\n      <td>https://www.liepin.com/company/10201729/</td>\n      <td>广告/公关/会展</td>\n      <td>[内容运营]</td>\n      <td>...</td>\n      <td>d_sfrom=search_prime&amp;d_ckId=null&amp;d_curPage=0&amp;d...</td>\n      <td>False</td>\n      <td>aeafe1dad210ee339941166e65ebdb6f</td>\n      <td>2</td>\n      <td>False</td>\n      <td>代女士</td>\n      <td>新媒体运营主管</td>\n      <td>fd6ea30e74423e3b84a317888b12ae61</td>\n      <td>602e086f09f00f0851fa451907u.png</td>\n      <td>NaN</td>\n    </tr>\n    <tr>\n      <th>...</th>\n      <td>...</td>\n      <td>...</td>\n      <td>...</td>\n      <td>...</td>\n      <td>...</td>\n      <td>...</td>\n      <td>...</td>\n      <td>...</td>\n      <td>...</td>\n      <td>...</td>\n      <td>...</td>\n      <td>...</td>\n      <td>...</td>\n      <td>...</td>\n      <td>...</td>\n      <td>...</td>\n      <td>...</td>\n      <td>...</td>\n      <td>...</td>\n      <td>...</td>\n      <td>...</td>\n    </tr>\n    <tr>\n      <th>18</th>\n      <td>%7B%22jobId%22%3A%2252222675%22%2C%22sfrom%22%...</td>\n      <td>{\"userId\":\"df956e3c36dd73356e7bcafd6bce28ff\",\"...</td>\n      <td>锦和集团</td>\n      <td>100-499人</td>\n      <td>沪深A股上市</td>\n      <td>5bfe949e74719dc6ed73f4de03a.png</td>\n      <td>7999983.0</td>\n      <td>https://www.liepin.com/company/7999983/</td>\n      <td>房地产租赁/中介</td>\n      <td>[营销策划, 推广策划, 计划运营, 广告策略, 前期策划, 品牌管理师]</td>\n      <td>...</td>\n      <td>d_sfrom=search_prime&amp;d_ckId=null&amp;d_curPage=12&amp;...</td>\n      <td>False</td>\n      <td>519ef598de66b1efdfb6df235db455f2</td>\n      <td>2</td>\n      <td>False</td>\n      <td>沈先生</td>\n      <td>招聘主管</td>\n      <td>df956e3c36dd73356e7bcafd6bce28ff</td>\n      <td>5f8f986c79c7cc70efbf36c808u.jpg</td>\n      <td>NaN</td>\n    </tr>\n    <tr>\n      <th>19</th>\n      <td>%7B%22jobId%22%3A%2250916027%22%2C%22sfrom%22%...</td>\n      <td>{\"userId\":\"d7d4c2df100906a4d61a89f458b62922\",\"...</td>\n      <td>中海商业发展(深圳)有限公司</td>\n      <td>5000-10000人</td>\n      <td>NaN</td>\n      <td>5bfea0d174719d2aa34c09b503a.png</td>\n      <td>8013612.0</td>\n      <td>https://www.liepin.com/company/8013612/</td>\n      <td>房地产开发经营</td>\n      <td>[活动策划, 文案策划, 媒介策划, 新媒体, 广告/传媒/文化]</td>\n      <td>...</td>\n      <td>d_sfrom=search_prime&amp;d_ckId=null&amp;d_curPage=12&amp;...</td>\n      <td>False</td>\n      <td>04691b6ff2553e546bc971ec2e264ed1</td>\n      <td>2</td>\n      <td>False</td>\n      <td>於女士</td>\n      <td>主任</td>\n      <td>d7d4c2df100906a4d61a89f458b62922</td>\n      <td>5f8f9863f6d1ab58476f246a08u.jpg</td>\n      <td>NaN</td>\n    </tr>\n    <tr>\n      <th>20</th>\n      <td>%7B%22jobId%22%3A%2247180577%22%2C%22sfrom%22%...</td>\n      <td>{\"userId\":\"8ab95b805563b71caa82391d89e3aa7f\",\"...</td>\n      <td>上海大力奇文化科技有限公司</td>\n      <td></td>\n      <td>NaN</td>\n      <td>61b07937d0458d53c627567e02u.jpg</td>\n      <td>13001731.0</td>\n      <td>https://www.liepin.com/company/13001731/</td>\n      <td>其他商务服务业</td>\n      <td>[艺术培训, 线上运营, 线下运营]</td>\n      <td>...</td>\n      <td>d_sfrom=search_prime&amp;d_ckId=null&amp;d_curPage=12&amp;...</td>\n      <td>False</td>\n      <td>7ff8b743eeca2c74613a615479ad0f1e</td>\n      <td>2</td>\n      <td>False</td>\n      <td>李女士</td>\n      <td>人事经理</td>\n      <td>8ab95b805563b71caa82391d89e3aa7f</td>\n      <td>5f8f9865ea60860b75384fa508u.jpg</td>\n      <td>NaN</td>\n    </tr>\n    <tr>\n      <th>21</th>\n      <td>%7B%22jobId%22%3A%2239252705%22%2C%22sfrom%22%...</td>\n      <td>{\"userId\":\"83470119ab1644340af57d9876dc6d3a\",\"...</td>\n      <td>上海宝龙实业发展(集团)有限公司</td>\n      <td>10000人以上</td>\n      <td>NaN</td>\n      <td>5b8500f48e50a3257f30f44f04a.jpg</td>\n      <td>6222805.0</td>\n      <td>https://www.liepin.com/company/6222805/</td>\n      <td>房地产开发经营</td>\n      <td>[市场调研, 营销推广]</td>\n      <td>...</td>\n      <td>d_sfrom=search_prime&amp;d_ckId=null&amp;d_curPage=12&amp;...</td>\n      <td>False</td>\n      <td>e1b82d46c985d1d43eae059a38e31609</td>\n      <td>2</td>\n      <td>False</td>\n      <td>黎女士</td>\n      <td>招聘高级专业经理</td>\n      <td>83470119ab1644340af57d9876dc6d3a</td>\n      <td>5f8f986779c7cc70efbf36c008u.jpg</td>\n      <td>NaN</td>\n    </tr>\n    <tr>\n      <th>22</th>\n      <td>%7B%22jobId%22%3A%2220669607%22%2C%22sfrom%22%...</td>\n      <td>{\"userId\":\"a41ac00e405f74019cb5fae4a7ba500f\",\"...</td>\n      <td>上海姚联文化传播有限公司</td>\n      <td>1-49人</td>\n      <td>NaN</td>\n      <td>61b07937d0458d53c627567e02u.jpg</td>\n      <td>10044661.0</td>\n      <td>https://www.liepin.com/company/10044661/</td>\n      <td>广播/影视/录音</td>\n      <td>[营销策划, 自媒体, 广告/传媒/文化]</td>\n      <td>...</td>\n      <td>d_sfrom=search_prime&amp;d_ckId=null&amp;d_curPage=12&amp;...</td>\n      <td>False</td>\n      <td>dfbadda76495c55f062c1b1ee9c7454d</td>\n      <td>2</td>\n      <td>False</td>\n      <td>夏先生</td>\n      <td>职员</td>\n      <td>a41ac00e405f74019cb5fae4a7ba500f</td>\n      <td>5f8f986aea60860b75384fab08u.jpg</td>\n      <td>NaN</td>\n    </tr>\n  </tbody>\n</table>\n<p>503 rows × 32 columns</p>\n</div>"
     },
     "execution_count": 15,
     "metadata": {},
     "output_type": "execute_result"
    }
   ],
   "source": [
    "df = pd.concat(response_df)\n",
    "df"
   ],
   "metadata": {
    "collapsed": false
   }
  },
  {
   "cell_type": "markdown",
   "source": [
    "# 11.将输入的数据赋值，来为输出图表命名"
   ],
   "metadata": {
    "collapsed": false
   }
  },
  {
   "cell_type": "code",
   "execution_count": 16,
   "outputs": [
    {
     "data": {
      "text/plain": "'广告策划'"
     },
     "execution_count": 16,
     "metadata": {},
     "output_type": "execute_result"
    }
   ],
   "source": [
    "key = payload['data']['mainSearchPcConditionForm']['key']\n",
    "key"
   ],
   "metadata": {
    "collapsed": false
   }
  },
  {
   "cell_type": "code",
   "execution_count": 17,
   "outputs": [
    {
     "data": {
      "text/plain": "'上海'"
     },
     "execution_count": 17,
     "metadata": {},
     "output_type": "execute_result"
    }
   ],
   "source": [
    "cities = str(城市)\n",
    "cities"
   ],
   "metadata": {
    "collapsed": false
   }
  },
  {
   "cell_type": "markdown",
   "source": [
    "# 12.加入时间戳"
   ],
   "metadata": {
    "collapsed": false
   }
  },
  {
   "cell_type": "code",
   "execution_count": 18,
   "outputs": [
    {
     "data": {
      "text/plain": "'2023-12-24'"
     },
     "execution_count": 18,
     "metadata": {},
     "output_type": "execute_result"
    }
   ],
   "source": [
    "import time\n",
    "time.localtime()\n",
    "output_time = str(time.localtime().tm_year)+'-'\\\n",
    "              +str(time.localtime().tm_mon)+'-'\\\n",
    "             +str(time.localtime().tm_mday)\n",
    "output_time\n"
   ],
   "metadata": {
    "collapsed": false
   }
  },
  {
   "cell_type": "code",
   "execution_count": 19,
   "outputs": [],
   "source": [
    "import os\n",
    "\n",
    "folder_name = f\"excels/{cities}/{key}/{output_time}\"\n",
    "os.makedirs(folder_name, exist_ok=True)"
   ],
   "metadata": {
    "collapsed": false
   }
  },
  {
   "cell_type": "markdown",
   "source": [
    "# 13.输出为excel"
   ],
   "metadata": {
    "collapsed": false
   }
  },
  {
   "cell_type": "code",
   "execution_count": 20,
   "outputs": [],
   "source": [
    "df.to_excel(f'excels/{cities}/{key}/{output_time}/猎聘{cities}-{key}-{output_time}.xlsx')"
   ],
   "metadata": {
    "collapsed": false
   }
  },
  {
   "cell_type": "markdown",
   "source": [
    "# 14.读取excel"
   ],
   "metadata": {
    "collapsed": false
   }
  },
  {
   "cell_type": "code",
   "execution_count": 21,
   "outputs": [],
   "source": [
    "import pandas as pd"
   ],
   "metadata": {
    "collapsed": false
   }
  },
  {
   "cell_type": "code",
   "execution_count": 22,
   "outputs": [
    {
     "data": {
      "text/plain": "     Unnamed: 0                                           dataInfo  \\\n0             0  %7B%22jobId%22%3A%2258806367%22%2C%22sfrom%22%...   \n1             1  %7B%22jobId%22%3A%2246447123%22%2C%22sfrom%22%...   \n2             2  %7B%22jobId%22%3A%2256498145%22%2C%22sfrom%22%...   \n3             3  %7B%22jobId%22%3A%2225088147%22%2C%22sfrom%22%...   \n4             4  %7B%22jobId%22%3A%2235867731%22%2C%22sfrom%22%...   \n..          ...                                                ...   \n498          18  %7B%22jobId%22%3A%2252222675%22%2C%22sfrom%22%...   \n499          19  %7B%22jobId%22%3A%2250916027%22%2C%22sfrom%22%...   \n500          20  %7B%22jobId%22%3A%2247180577%22%2C%22sfrom%22%...   \n501          21  %7B%22jobId%22%3A%2239252705%22%2C%22sfrom%22%...   \n502          22  %7B%22jobId%22%3A%2220669607%22%2C%22sfrom%22%...   \n\n                                            dataParams     comp.compName  \\\n0    {\"userId\":\"ef4410271ee507db4ebe78f8d139964e\",\"...              有料广告   \n1    {\"userId\":\"ab7a57a627101bfe2be08dc37d54b6f3\",\"...               瀚与翼   \n2    {\"userId\":\"dc5f7372900c47cbac06d00d0050166c\",\"...      群邑(上海)广告有限公司   \n3    {\"userId\":\"53da6fed5384d274258924040bc7a85b\",\"...        上海写拾广告有限公司   \n4    {\"userId\":\"fd6ea30e74423e3b84a317888b12ae61\",\"...      上海贝书管理咨询有限公司   \n..                                                 ...               ...   \n498  {\"userId\":\"df956e3c36dd73356e7bcafd6bce28ff\",\"...              锦和集团   \n499  {\"userId\":\"d7d4c2df100906a4d61a89f458b62922\",\"...    中海商业发展(深圳)有限公司   \n500  {\"userId\":\"8ab95b805563b71caa82391d89e3aa7f\",\"...     上海大力奇文化科技有限公司   \n501  {\"userId\":\"83470119ab1644340af57d9876dc6d3a\",\"...  上海宝龙实业发展(集团)有限公司   \n502  {\"userId\":\"a41ac00e405f74019cb5fae4a7ba500f\",\"...      上海姚联文化传播有限公司   \n\n    comp.compScale comp.compStage                    comp.compLogo  \\\n0            1-49人          融资未公开  646daf1a747e5c46be0c72ba05u.jpg   \n1           50-99人          融资未公开  61c54a5c64f02422cbb5113102u.png   \n2         10000人以上            NaN  5ece164af1b6f069706433da06u.png   \n3            1-49人            NaN  61b07937d0458d53c627567e02u.jpg   \n4            1-49人          融资未公开  61b07937d0458d53c627567e02u.jpg   \n..             ...            ...                              ...   \n498       100-499人         沪深A股上市  5bfe949e74719dc6ed73f4de03a.png   \n499    5000-10000人            NaN  5bfea0d174719d2aa34c09b503a.png   \n500            NaN            NaN  61b07937d0458d53c627567e02u.jpg   \n501       10000人以上            NaN  5b8500f48e50a3257f30f44f04a.jpg   \n502          1-49人            NaN  61b07937d0458d53c627567e02u.jpg   \n\n     comp.compId                                 comp.link comp.compIndustry  \\\n0     12325901.0  https://www.liepin.com/company/12325901/            专业技术服务   \n1      8272042.0   https://www.liepin.com/company/8272042/            专业技术服务   \n2      2615574.0   https://www.liepin.com/company/2615574/          广告/公关/会展   \n3     10272573.0  https://www.liepin.com/company/10272573/          广播/影视/录音   \n4     10201729.0  https://www.liepin.com/company/10201729/          广告/公关/会展   \n..           ...                                       ...               ...   \n498    7999983.0   https://www.liepin.com/company/7999983/          房地产租赁/中介   \n499    8013612.0   https://www.liepin.com/company/8013612/           房地产开发经营   \n500   13001731.0  https://www.liepin.com/company/13001731/           其他商务服务业   \n501    6222805.0   https://www.liepin.com/company/6222805/           房地产开发经营   \n502   10044661.0  https://www.liepin.com/company/10044661/          广播/影视/录音   \n\n     ...                                     job.dataPromId  job.advViewFlag  \\\n0    ...  d_sfrom=search_prime&d_ckId=null&d_curPage=0&d...            False   \n1    ...  d_sfrom=search_prime&d_ckId=null&d_curPage=0&d...            False   \n2    ...  d_sfrom=search_prime&d_ckId=null&d_curPage=0&d...            False   \n3    ...  d_sfrom=search_prime&d_ckId=null&d_curPage=0&d...            False   \n4    ...  d_sfrom=search_prime&d_ckId=null&d_curPage=0&d...            False   \n..   ...                                                ...              ...   \n498  ...  d_sfrom=search_prime&d_ckId=null&d_curPage=12&...            False   \n499  ...  d_sfrom=search_prime&d_ckId=null&d_curPage=12&...            False   \n500  ...  d_sfrom=search_prime&d_ckId=null&d_curPage=12&...            False   \n501  ...  d_sfrom=search_prime&d_ckId=null&d_curPage=12&...            False   \n502  ...  d_sfrom=search_prime&d_ckId=null&d_curPage=12&...            False   \n\n                       recruiter.imId recruiter.imUserType  recruiter.chatted  \\\n0    b7b1c0386e10f30804612e645251413c                    2              False   \n1    c823ddf91c5fe5cce68ea511f8a9efc5                    2              False   \n2    9f80db4d7554d22be0d71104ecc2e595                    2              False   \n3    f086316927445b55e3a362ce23913155                    2              False   \n4    aeafe1dad210ee339941166e65ebdb6f                    2              False   \n..                                ...                  ...                ...   \n498  519ef598de66b1efdfb6df235db455f2                    2              False   \n499  04691b6ff2553e546bc971ec2e264ed1                    2              False   \n500  7ff8b743eeca2c74613a615479ad0f1e                    2              False   \n501  e1b82d46c985d1d43eae059a38e31609                    2              False   \n502  dfbadda76495c55f062c1b1ee9c7454d                    2              False   \n\n    recruiter.recruiterName recruiter.recruiterTitle  \\\n0                       佘女士                       人事   \n1                       何女士                       TA   \n2                       沈女士                人力资源管理实习生   \n3                       曹女士                      合伙人   \n4                       代女士                  新媒体运营主管   \n..                      ...                      ...   \n498                     沈先生                     招聘主管   \n499                     於女士                       主任   \n500                     李女士                     人事经理   \n501                     黎女士                 招聘高级专业经理   \n502                     夏先生                       职员   \n\n                recruiter.recruiterId         recruiter.recruiterPhoto  \\\n0    ef4410271ee507db4ebe78f8d139964e  5f8f986779c7cc70efbf36c008u.jpg   \n1    ab7a57a627101bfe2be08dc37d54b6f3  5f8f98648dbe6273dcf8515508u.jpg   \n2    dc5f7372900c47cbac06d00d0050166c  5f8f9866dfb13a7dee342f1808u.jpg   \n3    53da6fed5384d274258924040bc7a85b  56938e9345ce240b1ff6c31504a.png   \n4    fd6ea30e74423e3b84a317888b12ae61  602e086f09f00f0851fa451907u.png   \n..                                ...                              ...   \n498  df956e3c36dd73356e7bcafd6bce28ff  5f8f986c79c7cc70efbf36c808u.jpg   \n499  d7d4c2df100906a4d61a89f458b62922  5f8f9863f6d1ab58476f246a08u.jpg   \n500  8ab95b805563b71caa82391d89e3aa7f  5f8f9865ea60860b75384fa508u.jpg   \n501  83470119ab1644340af57d9876dc6d3a  5f8f986779c7cc70efbf36c008u.jpg   \n502  a41ac00e405f74019cb5fae4a7ba500f  5f8f986aea60860b75384fab08u.jpg   \n\n     job.campusJobKind  \n0                  NaN  \n1                  NaN  \n2                  NaN  \n3                  NaN  \n4                  NaN  \n..                 ...  \n498                NaN  \n499                NaN  \n500                NaN  \n501                NaN  \n502                NaN  \n\n[503 rows x 33 columns]",
      "text/html": "<div>\n<style scoped>\n    .dataframe tbody tr th:only-of-type {\n        vertical-align: middle;\n    }\n\n    .dataframe tbody tr th {\n        vertical-align: top;\n    }\n\n    .dataframe thead th {\n        text-align: right;\n    }\n</style>\n<table border=\"1\" class=\"dataframe\">\n  <thead>\n    <tr style=\"text-align: right;\">\n      <th></th>\n      <th>Unnamed: 0</th>\n      <th>dataInfo</th>\n      <th>dataParams</th>\n      <th>comp.compName</th>\n      <th>comp.compScale</th>\n      <th>comp.compStage</th>\n      <th>comp.compLogo</th>\n      <th>comp.compId</th>\n      <th>comp.link</th>\n      <th>comp.compIndustry</th>\n      <th>...</th>\n      <th>job.dataPromId</th>\n      <th>job.advViewFlag</th>\n      <th>recruiter.imId</th>\n      <th>recruiter.imUserType</th>\n      <th>recruiter.chatted</th>\n      <th>recruiter.recruiterName</th>\n      <th>recruiter.recruiterTitle</th>\n      <th>recruiter.recruiterId</th>\n      <th>recruiter.recruiterPhoto</th>\n      <th>job.campusJobKind</th>\n    </tr>\n  </thead>\n  <tbody>\n    <tr>\n      <th>0</th>\n      <td>0</td>\n      <td>%7B%22jobId%22%3A%2258806367%22%2C%22sfrom%22%...</td>\n      <td>{\"userId\":\"ef4410271ee507db4ebe78f8d139964e\",\"...</td>\n      <td>有料广告</td>\n      <td>1-49人</td>\n      <td>融资未公开</td>\n      <td>646daf1a747e5c46be0c72ba05u.jpg</td>\n      <td>12325901.0</td>\n      <td>https://www.liepin.com/company/12325901/</td>\n      <td>专业技术服务</td>\n      <td>...</td>\n      <td>d_sfrom=search_prime&amp;d_ckId=null&amp;d_curPage=0&amp;d...</td>\n      <td>False</td>\n      <td>b7b1c0386e10f30804612e645251413c</td>\n      <td>2</td>\n      <td>False</td>\n      <td>佘女士</td>\n      <td>人事</td>\n      <td>ef4410271ee507db4ebe78f8d139964e</td>\n      <td>5f8f986779c7cc70efbf36c008u.jpg</td>\n      <td>NaN</td>\n    </tr>\n    <tr>\n      <th>1</th>\n      <td>1</td>\n      <td>%7B%22jobId%22%3A%2246447123%22%2C%22sfrom%22%...</td>\n      <td>{\"userId\":\"ab7a57a627101bfe2be08dc37d54b6f3\",\"...</td>\n      <td>瀚与翼</td>\n      <td>50-99人</td>\n      <td>融资未公开</td>\n      <td>61c54a5c64f02422cbb5113102u.png</td>\n      <td>8272042.0</td>\n      <td>https://www.liepin.com/company/8272042/</td>\n      <td>专业技术服务</td>\n      <td>...</td>\n      <td>d_sfrom=search_prime&amp;d_ckId=null&amp;d_curPage=0&amp;d...</td>\n      <td>False</td>\n      <td>c823ddf91c5fe5cce68ea511f8a9efc5</td>\n      <td>2</td>\n      <td>False</td>\n      <td>何女士</td>\n      <td>TA</td>\n      <td>ab7a57a627101bfe2be08dc37d54b6f3</td>\n      <td>5f8f98648dbe6273dcf8515508u.jpg</td>\n      <td>NaN</td>\n    </tr>\n    <tr>\n      <th>2</th>\n      <td>2</td>\n      <td>%7B%22jobId%22%3A%2256498145%22%2C%22sfrom%22%...</td>\n      <td>{\"userId\":\"dc5f7372900c47cbac06d00d0050166c\",\"...</td>\n      <td>群邑(上海)广告有限公司</td>\n      <td>10000人以上</td>\n      <td>NaN</td>\n      <td>5ece164af1b6f069706433da06u.png</td>\n      <td>2615574.0</td>\n      <td>https://www.liepin.com/company/2615574/</td>\n      <td>广告/公关/会展</td>\n      <td>...</td>\n      <td>d_sfrom=search_prime&amp;d_ckId=null&amp;d_curPage=0&amp;d...</td>\n      <td>False</td>\n      <td>9f80db4d7554d22be0d71104ecc2e595</td>\n      <td>2</td>\n      <td>False</td>\n      <td>沈女士</td>\n      <td>人力资源管理实习生</td>\n      <td>dc5f7372900c47cbac06d00d0050166c</td>\n      <td>5f8f9866dfb13a7dee342f1808u.jpg</td>\n      <td>NaN</td>\n    </tr>\n    <tr>\n      <th>3</th>\n      <td>3</td>\n      <td>%7B%22jobId%22%3A%2225088147%22%2C%22sfrom%22%...</td>\n      <td>{\"userId\":\"53da6fed5384d274258924040bc7a85b\",\"...</td>\n      <td>上海写拾广告有限公司</td>\n      <td>1-49人</td>\n      <td>NaN</td>\n      <td>61b07937d0458d53c627567e02u.jpg</td>\n      <td>10272573.0</td>\n      <td>https://www.liepin.com/company/10272573/</td>\n      <td>广播/影视/录音</td>\n      <td>...</td>\n      <td>d_sfrom=search_prime&amp;d_ckId=null&amp;d_curPage=0&amp;d...</td>\n      <td>False</td>\n      <td>f086316927445b55e3a362ce23913155</td>\n      <td>2</td>\n      <td>False</td>\n      <td>曹女士</td>\n      <td>合伙人</td>\n      <td>53da6fed5384d274258924040bc7a85b</td>\n      <td>56938e9345ce240b1ff6c31504a.png</td>\n      <td>NaN</td>\n    </tr>\n    <tr>\n      <th>4</th>\n      <td>4</td>\n      <td>%7B%22jobId%22%3A%2235867731%22%2C%22sfrom%22%...</td>\n      <td>{\"userId\":\"fd6ea30e74423e3b84a317888b12ae61\",\"...</td>\n      <td>上海贝书管理咨询有限公司</td>\n      <td>1-49人</td>\n      <td>融资未公开</td>\n      <td>61b07937d0458d53c627567e02u.jpg</td>\n      <td>10201729.0</td>\n      <td>https://www.liepin.com/company/10201729/</td>\n      <td>广告/公关/会展</td>\n      <td>...</td>\n      <td>d_sfrom=search_prime&amp;d_ckId=null&amp;d_curPage=0&amp;d...</td>\n      <td>False</td>\n      <td>aeafe1dad210ee339941166e65ebdb6f</td>\n      <td>2</td>\n      <td>False</td>\n      <td>代女士</td>\n      <td>新媒体运营主管</td>\n      <td>fd6ea30e74423e3b84a317888b12ae61</td>\n      <td>602e086f09f00f0851fa451907u.png</td>\n      <td>NaN</td>\n    </tr>\n    <tr>\n      <th>...</th>\n      <td>...</td>\n      <td>...</td>\n      <td>...</td>\n      <td>...</td>\n      <td>...</td>\n      <td>...</td>\n      <td>...</td>\n      <td>...</td>\n      <td>...</td>\n      <td>...</td>\n      <td>...</td>\n      <td>...</td>\n      <td>...</td>\n      <td>...</td>\n      <td>...</td>\n      <td>...</td>\n      <td>...</td>\n      <td>...</td>\n      <td>...</td>\n      <td>...</td>\n      <td>...</td>\n    </tr>\n    <tr>\n      <th>498</th>\n      <td>18</td>\n      <td>%7B%22jobId%22%3A%2252222675%22%2C%22sfrom%22%...</td>\n      <td>{\"userId\":\"df956e3c36dd73356e7bcafd6bce28ff\",\"...</td>\n      <td>锦和集团</td>\n      <td>100-499人</td>\n      <td>沪深A股上市</td>\n      <td>5bfe949e74719dc6ed73f4de03a.png</td>\n      <td>7999983.0</td>\n      <td>https://www.liepin.com/company/7999983/</td>\n      <td>房地产租赁/中介</td>\n      <td>...</td>\n      <td>d_sfrom=search_prime&amp;d_ckId=null&amp;d_curPage=12&amp;...</td>\n      <td>False</td>\n      <td>519ef598de66b1efdfb6df235db455f2</td>\n      <td>2</td>\n      <td>False</td>\n      <td>沈先生</td>\n      <td>招聘主管</td>\n      <td>df956e3c36dd73356e7bcafd6bce28ff</td>\n      <td>5f8f986c79c7cc70efbf36c808u.jpg</td>\n      <td>NaN</td>\n    </tr>\n    <tr>\n      <th>499</th>\n      <td>19</td>\n      <td>%7B%22jobId%22%3A%2250916027%22%2C%22sfrom%22%...</td>\n      <td>{\"userId\":\"d7d4c2df100906a4d61a89f458b62922\",\"...</td>\n      <td>中海商业发展(深圳)有限公司</td>\n      <td>5000-10000人</td>\n      <td>NaN</td>\n      <td>5bfea0d174719d2aa34c09b503a.png</td>\n      <td>8013612.0</td>\n      <td>https://www.liepin.com/company/8013612/</td>\n      <td>房地产开发经营</td>\n      <td>...</td>\n      <td>d_sfrom=search_prime&amp;d_ckId=null&amp;d_curPage=12&amp;...</td>\n      <td>False</td>\n      <td>04691b6ff2553e546bc971ec2e264ed1</td>\n      <td>2</td>\n      <td>False</td>\n      <td>於女士</td>\n      <td>主任</td>\n      <td>d7d4c2df100906a4d61a89f458b62922</td>\n      <td>5f8f9863f6d1ab58476f246a08u.jpg</td>\n      <td>NaN</td>\n    </tr>\n    <tr>\n      <th>500</th>\n      <td>20</td>\n      <td>%7B%22jobId%22%3A%2247180577%22%2C%22sfrom%22%...</td>\n      <td>{\"userId\":\"8ab95b805563b71caa82391d89e3aa7f\",\"...</td>\n      <td>上海大力奇文化科技有限公司</td>\n      <td>NaN</td>\n      <td>NaN</td>\n      <td>61b07937d0458d53c627567e02u.jpg</td>\n      <td>13001731.0</td>\n      <td>https://www.liepin.com/company/13001731/</td>\n      <td>其他商务服务业</td>\n      <td>...</td>\n      <td>d_sfrom=search_prime&amp;d_ckId=null&amp;d_curPage=12&amp;...</td>\n      <td>False</td>\n      <td>7ff8b743eeca2c74613a615479ad0f1e</td>\n      <td>2</td>\n      <td>False</td>\n      <td>李女士</td>\n      <td>人事经理</td>\n      <td>8ab95b805563b71caa82391d89e3aa7f</td>\n      <td>5f8f9865ea60860b75384fa508u.jpg</td>\n      <td>NaN</td>\n    </tr>\n    <tr>\n      <th>501</th>\n      <td>21</td>\n      <td>%7B%22jobId%22%3A%2239252705%22%2C%22sfrom%22%...</td>\n      <td>{\"userId\":\"83470119ab1644340af57d9876dc6d3a\",\"...</td>\n      <td>上海宝龙实业发展(集团)有限公司</td>\n      <td>10000人以上</td>\n      <td>NaN</td>\n      <td>5b8500f48e50a3257f30f44f04a.jpg</td>\n      <td>6222805.0</td>\n      <td>https://www.liepin.com/company/6222805/</td>\n      <td>房地产开发经营</td>\n      <td>...</td>\n      <td>d_sfrom=search_prime&amp;d_ckId=null&amp;d_curPage=12&amp;...</td>\n      <td>False</td>\n      <td>e1b82d46c985d1d43eae059a38e31609</td>\n      <td>2</td>\n      <td>False</td>\n      <td>黎女士</td>\n      <td>招聘高级专业经理</td>\n      <td>83470119ab1644340af57d9876dc6d3a</td>\n      <td>5f8f986779c7cc70efbf36c008u.jpg</td>\n      <td>NaN</td>\n    </tr>\n    <tr>\n      <th>502</th>\n      <td>22</td>\n      <td>%7B%22jobId%22%3A%2220669607%22%2C%22sfrom%22%...</td>\n      <td>{\"userId\":\"a41ac00e405f74019cb5fae4a7ba500f\",\"...</td>\n      <td>上海姚联文化传播有限公司</td>\n      <td>1-49人</td>\n      <td>NaN</td>\n      <td>61b07937d0458d53c627567e02u.jpg</td>\n      <td>10044661.0</td>\n      <td>https://www.liepin.com/company/10044661/</td>\n      <td>广播/影视/录音</td>\n      <td>...</td>\n      <td>d_sfrom=search_prime&amp;d_ckId=null&amp;d_curPage=12&amp;...</td>\n      <td>False</td>\n      <td>dfbadda76495c55f062c1b1ee9c7454d</td>\n      <td>2</td>\n      <td>False</td>\n      <td>夏先生</td>\n      <td>职员</td>\n      <td>a41ac00e405f74019cb5fae4a7ba500f</td>\n      <td>5f8f986aea60860b75384fab08u.jpg</td>\n      <td>NaN</td>\n    </tr>\n  </tbody>\n</table>\n<p>503 rows × 33 columns</p>\n</div>"
     },
     "execution_count": 22,
     "metadata": {},
     "output_type": "execute_result"
    }
   ],
   "source": [
    "df = pd.read_excel(f'excels/{cities}/{key}/{output_time}/猎聘{cities}-{key}-{output_time}.xlsx')\n",
    "df"
   ],
   "metadata": {
    "collapsed": false
   }
  },
  {
   "cell_type": "code",
   "execution_count": 23,
   "outputs": [
    {
     "name": "stdout",
     "output_type": "stream",
     "text": [
      "<class 'pandas.core.frame.DataFrame'>\n",
      "RangeIndex: 503 entries, 0 to 502\n",
      "Data columns (total 33 columns):\n",
      " #   Column                    Non-Null Count  Dtype  \n",
      "---  ------                    --------------  -----  \n",
      " 0   Unnamed: 0                503 non-null    int64  \n",
      " 1   dataInfo                  503 non-null    object \n",
      " 2   dataParams                503 non-null    object \n",
      " 3   comp.compName             503 non-null    object \n",
      " 4   comp.compScale            492 non-null    object \n",
      " 5   comp.compStage            254 non-null    object \n",
      " 6   comp.compLogo             503 non-null    object \n",
      " 7   comp.compId               398 non-null    float64\n",
      " 8   comp.link                 398 non-null    object \n",
      " 9   comp.compIndustry         502 non-null    object \n",
      " 10  job.labels                503 non-null    object \n",
      " 11  job.topJob                503 non-null    bool   \n",
      " 12  job.title                 503 non-null    object \n",
      " 13  job.salary                503 non-null    object \n",
      " 14  job.jobId                 503 non-null    int64  \n",
      " 15  job.pcOuterLink           1 non-null      object \n",
      " 16  job.h5OuterLink           1 non-null      object \n",
      " 17  job.refreshTime           503 non-null    int64  \n",
      " 18  job.dq                    503 non-null    object \n",
      " 19  job.jobKind               503 non-null    int64  \n",
      " 20  job.requireEduLevel       495 non-null    object \n",
      " 21  job.link                  503 non-null    object \n",
      " 22  job.requireWorkYears      495 non-null    object \n",
      " 23  job.dataPromId            503 non-null    object \n",
      " 24  job.advViewFlag           503 non-null    bool   \n",
      " 25  recruiter.imId            503 non-null    object \n",
      " 26  recruiter.imUserType      503 non-null    int64  \n",
      " 27  recruiter.chatted         503 non-null    bool   \n",
      " 28  recruiter.recruiterName   503 non-null    object \n",
      " 29  recruiter.recruiterTitle  476 non-null    object \n",
      " 30  recruiter.recruiterId     503 non-null    object \n",
      " 31  recruiter.recruiterPhoto  503 non-null    object \n",
      " 32  job.campusJobKind         8 non-null      object \n",
      "dtypes: bool(3), float64(1), int64(5), object(24)\n",
      "memory usage: 119.5+ KB\n"
     ]
    }
   ],
   "source": [
    "df.info()"
   ],
   "metadata": {
    "collapsed": false
   }
  },
  {
   "cell_type": "code",
   "execution_count": 24,
   "outputs": [
    {
     "data": {
      "text/plain": "503"
     },
     "execution_count": 24,
     "metadata": {},
     "output_type": "execute_result"
    }
   ],
   "source": [
    "len(df['job.link'])"
   ],
   "metadata": {
    "collapsed": false
   }
  },
  {
   "cell_type": "code",
   "execution_count": 25,
   "outputs": [
    {
     "data": {
      "text/plain": "'https://www.liepin.com/job/1958806367.shtml'"
     },
     "execution_count": 25,
     "metadata": {},
     "output_type": "execute_result"
    }
   ],
   "source": [
    "df['job.link'][0]"
   ],
   "metadata": {
    "collapsed": false
   }
  },
  {
   "cell_type": "markdown",
   "source": [
    "# 额外：加入特殊情况检测"
   ],
   "metadata": {
    "collapsed": false
   }
  },
  {
   "cell_type": "code",
   "execution_count": 26,
   "outputs": [],
   "source": [
    "if payload['data']['mainSearchPcConditionForm'][\"workYearCode\"]=='2':\n",
    "    df_PM_gz =  df[['job.title','job.labels','job.refreshTime','job.salary','job.dq','job.topJob','comp.compStage','comp.compName','comp.compIndustry','comp.compScale','job.link']]\n",
    "else:\n",
    "    df_PM_gz =  df[['job.title','job.labels','job.refreshTime','job.salary','job.dq','job.topJob','job.requireWorkYears','job.requireEduLevel','comp.compStage','comp.compName','comp.compIndustry','comp.compScale','job.link']]"
   ],
   "metadata": {
    "collapsed": false
   }
  },
  {
   "cell_type": "markdown",
   "source": [
    "# 15.重命名为通俗易懂的列头"
   ],
   "metadata": {
    "collapsed": false
   }
  },
  {
   "cell_type": "code",
   "execution_count": 27,
   "outputs": [],
   "source": [
    "# columns 重命名\n",
    "if payload['data']['mainSearchPcConditionForm'][\"workYearCode\"]=='2':\n",
    "    df_PM_gz = df_PM_gz.rename(columns={\n",
    "        'job.title':'职位',\n",
    "        'job.labels':'职位标签',\n",
    "        'job.refreshTime':'职位更新时间',\n",
    "        'job.salary':'薪资',\n",
    "        'job.dq':'地区',\n",
    "        'job.topJob':'是否top职位',\n",
    "        'comp.compStage':'公司融资情况',\n",
    "        'comp.compName':'公司名称',\n",
    "        'comp.compIndustry':'行业',\n",
    "        'comp.compScale':'规模',\n",
    "        'job.link':'岗位详情'\n",
    "    })\n",
    "else:\n",
    "    df_PM_gz = df_PM_gz.rename(columns={\n",
    "        'job.title':'职位',\n",
    "        'job.labels':'职位标签',\n",
    "        'job.refreshTime':'职位更新时间',\n",
    "        'job.salary':'薪资',\n",
    "        'job.dq':'地区',\n",
    "        'job.topJob':'是否top职位',\n",
    "        'job.requireWorkYears':'工作年限',\n",
    "        'job.requireEduLevel':'学历',\n",
    "        'comp.compStage':'公司融资情况',\n",
    "        'comp.compName':'公司名称',\n",
    "        'comp.compIndustry':'行业',\n",
    "        'comp.compScale':'规模',\n",
    "        'job.link':'岗位详情'\n",
    "    })"
   ],
   "metadata": {
    "collapsed": false
   }
  },
  {
   "cell_type": "markdown",
   "source": [
    "# 16.引入request_html并对每条标题子级网站进行访问以及内容爬取，即爬取岗位要求"
   ],
   "metadata": {
    "collapsed": false
   }
  },
  {
   "cell_type": "code",
   "execution_count": 28,
   "outputs": [],
   "source": [
    "from requests_html import HTMLSession\n",
    "session = HTMLSession()"
   ],
   "metadata": {
    "collapsed": false
   }
  },
  {
   "cell_type": "code",
   "execution_count": 29,
   "outputs": [],
   "source": [
    "import time\n",
    "import random\n",
    "sleep_time = random.randint(3,5)"
   ],
   "metadata": {
    "collapsed": false
   }
  },
  {
   "cell_type": "code",
   "execution_count": 33,
   "outputs": [],
   "source": [],
   "metadata": {
    "collapsed": false
   }
  },
  {
   "cell_type": "code",
   "execution_count": 36,
   "outputs": [
    {
     "ename": "IndexError",
     "evalue": "list index out of range",
     "output_type": "error",
     "traceback": [
      "\u001B[1;31m---------------------------------------------------------------------------\u001B[0m",
      "\u001B[1;31mIndexError\u001B[0m                                Traceback (most recent call last)",
      "Cell \u001B[1;32mIn[36], line 6\u001B[0m\n\u001B[0;32m      4\u001B[0m s \u001B[38;5;241m=\u001B[39m session\u001B[38;5;241m.\u001B[39mget(df[\u001B[38;5;124m'\u001B[39m\u001B[38;5;124mjob.link\u001B[39m\u001B[38;5;124m'\u001B[39m][i],headers\u001B[38;5;241m=\u001B[39m\u001B[38;5;28mdict\u001B[39m(random_headers))\n\u001B[0;32m      5\u001B[0m command \u001B[38;5;241m=\u001B[39m s\u001B[38;5;241m.\u001B[39mhtml\u001B[38;5;241m.\u001B[39mfind(\u001B[38;5;124m'\u001B[39m\u001B[38;5;124mdd\u001B[39m\u001B[38;5;124m'\u001B[39m)\n\u001B[1;32m----> 6\u001B[0m 技能要求\u001B[38;5;241m.\u001B[39mappend(\u001B[43mcommand\u001B[49m\u001B[43m[\u001B[49m\u001B[38;5;241;43m0\u001B[39;49m\u001B[43m]\u001B[49m\u001B[38;5;241m.\u001B[39mtext)\n",
      "\u001B[1;31mIndexError\u001B[0m: list index out of range"
     ]
    }
   ],
   "source": [
    "技能要求 = []\n",
    "for i in range(len(df['job.link'])):\n",
    "    s = session.get(df['job.link'][i])\n",
    "    command = s.html.find('dd')\n",
    "    技能要求.append(command[0].text)"
   ],
   "metadata": {
    "collapsed": false
   }
  },
  {
   "cell_type": "code",
   "execution_count": null,
   "outputs": [],
   "source": [
    "技能要求"
   ],
   "metadata": {
    "collapsed": false
   }
  },
  {
   "cell_type": "markdown",
   "source": [
    "## 添加所爬取到的岗位要求的新列到表"
   ],
   "metadata": {
    "collapsed": false
   }
  },
  {
   "cell_type": "code",
   "execution_count": null,
   "outputs": [],
   "source": [
    "df_PM_gz['技能要求'] = 技能要求"
   ],
   "metadata": {
    "collapsed": false
   }
  },
  {
   "cell_type": "markdown",
   "source": [
    "# 17.处理时间数据"
   ],
   "metadata": {
    "collapsed": false
   }
  },
  {
   "cell_type": "code",
   "execution_count": null,
   "outputs": [],
   "source": [
    "dates = []\n",
    "for i in range(len(df_PM_gz['职位更新时间'])):\n",
    "    years = str(df_PM_gz['职位更新时间'][i])[0:4]\n",
    "    months = str(df_PM_gz['职位更新时间'][i])[4:6]\n",
    "    days = str(df_PM_gz['职位更新时间'][i])[6:8]\n",
    "    dates.append(years+'年'+months+'月'+days+'日')\n",
    "dates"
   ],
   "metadata": {
    "collapsed": false
   }
  },
  {
   "cell_type": "code",
   "execution_count": null,
   "outputs": [],
   "source": [
    "df_PM_gz['职位更新时间'] = dates"
   ],
   "metadata": {
    "collapsed": false
   }
  },
  {
   "cell_type": "markdown",
   "source": [
    "# 18.处理top职位为中文"
   ],
   "metadata": {
    "collapsed": false
   }
  },
  {
   "cell_type": "code",
   "execution_count": null,
   "outputs": [],
   "source": [
    "for i in range(len(df_PM_gz['是否top职位'])):\n",
    "    if df_PM_gz['是否top职位'][i] == False:\n",
    "        df_PM_gz['是否top职位'][i] = '否'\n",
    "    else:\n",
    "        df_PM_gz['是否top职位'][i] = '是'"
   ],
   "metadata": {
    "collapsed": false
   }
  },
  {
   "cell_type": "markdown",
   "source": [
    "# 19.删除多余行"
   ],
   "metadata": {
    "collapsed": false
   }
  },
  {
   "cell_type": "code",
   "execution_count": null,
   "outputs": [],
   "source": [
    "# df_PM_gz = df_PM_gz.drop('Unnamed: 0', axis=1)"
   ],
   "metadata": {
    "collapsed": false
   }
  },
  {
   "cell_type": "markdown",
   "source": [
    "# 20.添加序号"
   ],
   "metadata": {
    "collapsed": false
   }
  },
  {
   "cell_type": "code",
   "execution_count": null,
   "outputs": [],
   "source": [
    "序号 = []\n",
    "for i in range(len(df_PM_gz['职位更新时间'])):\n",
    "    序号.append(str(i+1))\n",
    "序号"
   ],
   "metadata": {
    "collapsed": false
   }
  },
  {
   "cell_type": "code",
   "execution_count": null,
   "outputs": [],
   "source": [
    "df_PM_gz.insert(0,'序号',序号)"
   ],
   "metadata": {
    "collapsed": false
   }
  },
  {
   "cell_type": "markdown",
   "source": [
    "# 21.输出最终表"
   ],
   "metadata": {
    "collapsed": false
   }
  },
  {
   "cell_type": "code",
   "execution_count": null,
   "outputs": [],
   "source": [
    "df_PM_gz.to_excel(f'excels/{cities}/{key}/{output_time}/猎聘{cities}-{key}-{output_time}.xlsx')"
   ],
   "metadata": {
    "collapsed": false
   }
  },
  {
   "cell_type": "markdown",
   "source": [
    "## 额外：计算各个市的区的平均薪资"
   ],
   "metadata": {
    "collapsed": false
   }
  },
  {
   "cell_type": "code",
   "execution_count": null,
   "outputs": [],
   "source": [
    "非薪资面议 = df_PM_gz [ ~df_PM_gz['薪资'].str.contains(\"面议|元/天\")]\n",
    "非薪资面议"
   ],
   "metadata": {
    "collapsed": false
   }
  },
  {
   "cell_type": "code",
   "execution_count": null,
   "outputs": [],
   "source": [
    "非薪资面议_detail = 非薪资面议['薪资'].apply(lambda x:x.split('薪')[0].split('·')).tolist()\n",
    "非薪资面议_detail"
   ],
   "metadata": {
    "collapsed": false
   }
  },
  {
   "cell_type": "code",
   "execution_count": null,
   "outputs": [],
   "source": [
    "平均薪资 = [ (int(i[0].split('-')[0]) +int(i[0].split('-')[1].split('k')[0]))/2    \\\n",
    " if len(i)==1 else round((int(i[0].split('-')[0]) +int(i[0].split('-')[1].split('k')[0]))/2*int(i[1])/12,1)     \\\n",
    " for i in 非薪资面议_detail        ]\n",
    "平均薪资"
   ],
   "metadata": {
    "collapsed": false
   }
  },
  {
   "cell_type": "code",
   "execution_count": null,
   "outputs": [],
   "source": [
    "非薪资面议['平均薪资']=平均薪资"
   ],
   "metadata": {
    "collapsed": false
   }
  },
  {
   "cell_type": "code",
   "execution_count": null,
   "outputs": [],
   "source": [
    "分地区_平均薪资 = 非薪资面议.groupby('地区').agg({'平均薪资':'median'})\n",
    "分地区_平均薪资[1:].to_excel(f'excels/{cities}/{key}/{output_time}/猎聘{城市}_{关键词}-平均薪资-{output_time}.xlsx')"
   ],
   "metadata": {
    "collapsed": false
   }
  },
  {
   "cell_type": "code",
   "execution_count": null,
   "outputs": [],
   "source": [
    "# 分地区_平均薪资_values =  [round(i[0],1) for i in 分地区_平均薪资.values.tolist()]\n",
    "# 分地区_平均薪资_values = 分地区_平均薪资_values[1:]"
   ],
   "metadata": {
    "collapsed": false
   }
  },
  {
   "cell_type": "code",
   "execution_count": null,
   "outputs": [],
   "source": [
    "# 分地区_平均薪资_index = 分地区_平均薪资.index.tolist()\n",
    "# 分地区_平均薪资_index = 分地区_平均薪资_index[1:]"
   ],
   "metadata": {
    "collapsed": false
   }
  },
  {
   "cell_type": "code",
   "execution_count": null,
   "outputs": [],
   "source": [
    "# 分地区_平均薪资_values"
   ],
   "metadata": {
    "collapsed": false
   }
  },
  {
   "cell_type": "code",
   "execution_count": null,
   "outputs": [],
   "source": [
    "# 分地区_平均薪资_index"
   ],
   "metadata": {
    "collapsed": false
   }
  },
  {
   "cell_type": "code",
   "execution_count": null,
   "outputs": [],
   "source": [],
   "metadata": {
    "collapsed": false
   }
  },
  {
   "cell_type": "code",
   "execution_count": null,
   "outputs": [],
   "source": [],
   "metadata": {
    "collapsed": false
   }
  }
 ],
 "metadata": {
  "kernelspec": {
   "display_name": "Python 3",
   "language": "python",
   "name": "python3"
  },
  "language_info": {
   "codemirror_mode": {
    "name": "ipython",
    "version": 2
   },
   "file_extension": ".py",
   "mimetype": "text/x-python",
   "name": "python",
   "nbconvert_exporter": "python",
   "pygments_lexer": "ipython2",
   "version": "2.7.6"
  }
 },
 "nbformat": 4,
 "nbformat_minor": 0
}
