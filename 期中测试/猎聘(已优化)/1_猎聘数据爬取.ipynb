{
 "cells": [
  {
   "cell_type": "markdown",
   "source": [
    "# 1.定义北上广深城市代码"
   ],
   "metadata": {
    "collapsed": false
   }
  },
  {
   "cell_type": "code",
   "execution_count": 37,
   "outputs": [],
   "source": [
    "city = [\n",
    "    {'code': '010', 'name': '北京'},\n",
    " {'code': '020', 'name': '上海'},\n",
    "{'code': '050020', 'name': '广州'},\n",
    " {'code': '050090', 'name': '深圳'},\n",
    "]"
   ],
   "metadata": {
    "collapsed": false
   }
  },
  {
   "cell_type": "markdown",
   "source": [
    "# 2.定义学历对应的代码"
   ],
   "metadata": {
    "collapsed": false
   }
  },
  {
   "cell_type": "code",
   "execution_count": 38,
   "outputs": [],
   "source": [
    "edulevel = [\n",
    "    {'code': \"010\", 'name': \"博士\"},\n",
    "{'code': \"020\", 'name': \"MBA/EMBA\"},\n",
    "{'code': \"030\", 'name': \"硕士\"},\n",
    "{'code': \"040\", 'name': \"本科\"},]"
   ],
   "metadata": {
    "collapsed": false
   }
  },
  {
   "cell_type": "markdown",
   "source": [
    "# 3.定义选择城市获取对应城市代码函数"
   ],
   "metadata": {
    "collapsed": false
   }
  },
  {
   "cell_type": "code",
   "execution_count": 39,
   "outputs": [],
   "source": [
    "def choose_city(city_name):\n",
    "    for i in city:\n",
    "        if i['name'] == city_name:\n",
    "            return i['code']"
   ],
   "metadata": {
    "collapsed": false
   }
  },
  {
   "cell_type": "markdown",
   "source": [
    "# 4.定义选择学历获取对应的代码"
   ],
   "metadata": {
    "collapsed": false
   }
  },
  {
   "cell_type": "code",
   "execution_count": 40,
   "outputs": [],
   "source": [
    "def choose_edu_level(edu_level):\n",
    "    for i in edulevel:\n",
    "        if i['name'] == edu_level:\n",
    "            return i['code']"
   ],
   "metadata": {
    "collapsed": false
   }
  },
  {
   "cell_type": "markdown",
   "source": [
    "# 5.定义请求头函数"
   ],
   "metadata": {
    "collapsed": false
   }
  },
  {
   "cell_type": "code",
   "execution_count": 41,
   "outputs": [],
   "source": [
    "def headers():\n",
    "    liepin_headers = {\n",
    "    \"Accept\": \"application/json, text/plain, */*\",\n",
    "    \"Accept-Encoding\": \"gzip, deflate, br\",\n",
    "    \"Accept-Language\": \"zh-CN,zh;q=0.9\",\n",
    "    \"Connection\": \"keep-alive\",\n",
    "    \"Content-Length\": \"399\",\n",
    "    \"Content-Type\": \"application/json;charset=UTF-8;\",\n",
    "    \"Cookie\": \"__gc_id=2d0435e250c44cbcad040f198a36b22f; _ga=GA1.1.1130967964.1695714868; __uuid=1695714873059.11; need_bind_tel=false; new_user=false; c_flag=fd8e161021d62dd50e5032f3c60a147a; imId=40be7e37d455d9dc3e4f5f0f695234e5; imId_0=40be7e37d455d9dc3e4f5f0f695234e5; imClientId=40be7e37d455d9dca12bac537377bfad; imClientId_0=40be7e37d455d9dca12bac537377bfad; access_system=C; UniqueKey=fe87a9f3258ac642a9dba665e9526a14; liepin_login_valid=0; __tlog=1703671521052.56%7C00000000%7C00000000%7Cs_00_t00%7Cs_00_t00; XSRF-TOKEN=zmgvzIbpSOSNO60YG7rEOw; lt_auth=7%2BlYM3QMxlXw4XfcjTcLtacfj9%2BsU2yYpnhehk8FhoK5W6Ll4P%2FgSwuCq7gH%2FioIqxNxdfszMLf%2BNu75yHZO60YS%2BVGkkIC0uuW52GECTeNcN8W2vezHl8zSRpscl0AC8nFbtkIL%2BQ%3D%3D; inited_user=0b40e95258783b742e53b3c4507c0e74; user_roles=0; user_photo=5f8fa3a679c7cc70efbf444e08u.png; user_name=%E6%B2%88%E8%BF%9E%E6%9D%B0; hpo_role-sec_project=sec_project_liepin; hpo_sec_tenant=0; Hm_lvt_a2647413544f5a04f00da7eee0d5e200=1703399009,1703602297,1703664162,1703671543; acw_tc=2760829517036715425438885e182462f370a34752b40f7f47d888e95fc91a; imApp_0=1; fe_im_connectJson_0=%7B%220_fe87a9f3258ac642a9dba665e9526a14%22%3A%7B%22socketConnect%22%3A%222%22%2C%22connectDomain%22%3A%22liepin.com%22%7D%7D; __session_seq=3; __uv_seq=53; Hm_lpvt_a2647413544f5a04f00da7eee0d5e200=1703671547; __tlg_event_seq=5; fe_im_socketSequence_new_0=2_2_1; fe_im_opened_pages=; _ga_54YTJKWN86=GS1.1.1703671546.45.1.1703671551.0.0.0\",\n",
    "    \"Host\": \"api-c.liepin.com\",\n",
    "    \"Origin\": \"https://www.liepin.com\",\n",
    "    \"Referer\": \"https://www.liepin.com/\",\n",
    "    \"Sec-Fetch-Dest\": \"empty\",\n",
    "    \"Sec-Fetch-Mode\": \"cors\",\n",
    "    \"Sec-Fetch-Site\": \"same-site\",\n",
    "    \"User-Agent\": \"Mozilla/5.0 (Windows NT 10.0; Win64; x64) AppleWebKit/537.36 (KHTML, like Gecko) Chrome/119.0.0.0 Safari/537.36\",\n",
    "    \"X-Client-Type\": \"web\",\n",
    "    \"X-Fscp-Bi-Stat\": \"{\\\"location\\\": \\\"https://www.liepin.com/zhaopin/?inputFrom=head_navigation&scene=init&workYearCode=1&ckId=wnpr4gafsv1m6ajec2cpy4i41diock7b\\\"}\",\n",
    "    \"X-Fscp-Fe-Version\": \"\",\n",
    "    \"X-Fscp-Std-Info\": \"{\\\"client_id\\\": \\\"40108\\\"}\",\n",
    "    \"X-Fscp-Trace-Id\": \"b0cee75f-1df6-4915-bd43-885f9dd93cb7\",\n",
    "    \"X-Fscp-Version\": \"1.1\",\n",
    "    \"X-Requested-With\": \"XMLHttpRequest\",\n",
    "    \"X-XSRF-TOKEN\": \"zmgvzIbpSOSNO60YG7rEOw\",\n",
    "    \"sec-ch-ua\": \"\\\"Google Chrome\\\";v=\\\"119\\\", \\\"Chromium\\\";v=\\\"119\\\", \\\"Not?A_Brand\\\";v=\\\"24\\\"\",\n",
    "    \"sec-ch-ua-mobile\": \"?0\",\n",
    "    \"sec-ch-ua-platform\": \"\\\"Windows\\\"\"\n",
    "}\n",
    "\n",
    "    return liepin_headers"
   ],
   "metadata": {
    "collapsed": false
   }
  },
  {
   "cell_type": "markdown",
   "source": [
    "# 6.联网以及定义请求url，引入pandas和json库"
   ],
   "metadata": {
    "collapsed": false
   }
  },
  {
   "cell_type": "code",
   "execution_count": 42,
   "outputs": [],
   "source": [
    "import pandas\n",
    "from requests_html import HTMLSession\n",
    "import json\n",
    "import pandas as pd\n",
    "\n",
    "url = \"https://apic.liepin.com/api/com.liepin.searchfront4c.pc-search-job\""
   ],
   "metadata": {
    "collapsed": false
   }
  },
  {
   "cell_type": "markdown",
   "source": [
    "# 7.定义爬取猎聘网站函数，参数有城市和关键词和学历"
   ],
   "metadata": {
    "collapsed": false
   }
  },
  {
   "cell_type": "code",
   "execution_count": 43,
   "outputs": [],
   "source": [
    "# def payloadd(城市,关键词,学历):\n",
    "#     payload = {\n",
    "#     \"data\": {\n",
    "#         \"mainSearchPcConditionForm\": {\n",
    "#             \"city\": choose_city(城市),\n",
    "#             \"dq\": choose_city(城市),\n",
    "#             \"pubTime\": \"\",\n",
    "#             \"currentPage\": 0,\n",
    "#             \"pageSize\": 40,\n",
    "#             \"key\": 关键词,\n",
    "#             \"suggestTag\": \"\",\n",
    "#             \"workYearCode\": '',\n",
    "#             \"compId\": \"\",\n",
    "#             \"compName\": \"\",\n",
    "#             \"compTag\": \"\",\n",
    "#             \"industry\": \"\",\n",
    "#             \"salary\": \"\",\n",
    "#             \"jobKind\": \"\",\n",
    "#             \"compScale\": \"\",\n",
    "#             \"compKind\": \"\",\n",
    "#             \"compStage\": \"\",\n",
    "#             \"eduLevel\": choose_edu_level(学历)\n",
    "#         },\n",
    "#         \"passThroughForm\": {\n",
    "#             \"scene\": \"input\",\n",
    "#             \"skId\": \"\",\n",
    "#             \"fkId\": \"\",\n",
    "#             \"ckId\": \"h2c8pxojavrmo1w785z7ueih2ybfpux8\",\n",
    "#             \"suggest\": None\n",
    "#         }\n",
    "#     }\n",
    "# }\n",
    "#     return payload"
   ],
   "metadata": {
    "collapsed": false
   }
  },
  {
   "cell_type": "code",
   "execution_count": 44,
   "outputs": [],
   "source": [
    "def payloadd(城市,关键词):\n",
    "    payload = {\n",
    "    \"data\": {\n",
    "        \"mainSearchPcConditionForm\": {\n",
    "            \"city\": choose_city(城市),\n",
    "            \"dq\": choose_city(城市),\n",
    "            \"pubTime\": \"\",\n",
    "            \"currentPage\": 0,\n",
    "            \"pageSize\": 40,\n",
    "            \"key\": 关键词,\n",
    "            \"suggestTag\": \"\",\n",
    "            \"workYearCode\": '',\n",
    "            \"compId\": \"\",\n",
    "            \"compName\": \"\",\n",
    "            \"compTag\": \"\",\n",
    "            \"industry\": \"\",\n",
    "            \"salary\": \"\",\n",
    "            \"jobKind\": \"\",\n",
    "            \"compScale\": \"\",\n",
    "            \"compKind\": \"\",\n",
    "            \"compStage\": \"\",\n",
    "            \"eduLevel\": \"\"\n",
    "        },\n",
    "        \"passThroughForm\": {\n",
    "            \"scene\": \"input\",\n",
    "            \"skId\": \"\",\n",
    "            \"fkId\": \"\",\n",
    "            \"ckId\": \"6kgzm7tcrvofclqukj6vmucx0ai9zl79\",\n",
    "            \"sfrom\":\"search_job_pc\"\n",
    "        }\n",
    "    }\n",
    "}\n",
    "    return payload"
   ],
   "metadata": {
    "collapsed": false
   }
  },
  {
   "cell_type": "markdown",
   "source": [
    "# 8.输入对应内容获取求职信息"
   ],
   "metadata": {
    "collapsed": false
   }
  },
  {
   "cell_type": "code",
   "execution_count": 45,
   "outputs": [],
   "source": [
    "城市 = input('输入城市，目前支持北京、上海、广州、深圳')"
   ],
   "metadata": {
    "collapsed": false
   }
  },
  {
   "cell_type": "code",
   "execution_count": 46,
   "outputs": [],
   "source": [
    "关键词 = input('关键词，任意职位即可')"
   ],
   "metadata": {
    "collapsed": false
   }
  },
  {
   "cell_type": "code",
   "execution_count": 47,
   "outputs": [],
   "source": [
    "# 学历 = input('学历，如本科、硕士、博士')"
   ],
   "metadata": {
    "collapsed": false
   }
  },
  {
   "cell_type": "markdown",
   "source": [
    "# 9.请求猎聘网数据"
   ],
   "metadata": {
    "collapsed": false
   }
  },
  {
   "cell_type": "code",
   "execution_count": 48,
   "outputs": [
    {
     "data": {
      "text/plain": "{'flag': 1,\n 'data': {'data': {'jobCardList': [{'comp': {'compLogo': '5ece164af1b6f069706433da06u.png',\n      'compScale': '10000人以上',\n      'compName': '群邑(上海)广告有限公司',\n      'compId': 2615574,\n      'link': 'https://www.liepin.com/company/2615574/',\n      'compIndustry': '广告/公关/会展'},\n     'job': {'labels': ['电商平台'],\n      'pcOuterLink': '',\n      'h5OuterLink': '',\n      'refreshTime': '20230227104151',\n      'title': '电商广告策划',\n      'topJob': False,\n      'jobKind': '2',\n      'dq': '上海-静安区',\n      'salary': '8-11k·13薪',\n      'link': 'https://www.liepin.com/job/1956498145.shtml',\n      'jobId': '56498145',\n      'requireEduLevel': '本科',\n      'requireWorkYears': '经验不限',\n      'advViewFlag': False,\n      'dataPromId': 'd_sfrom=search_prime&d_ckId=null&d_curPage=0&d_pageSize=40&d_headId=null&d_posi=0&skId=6kgzm7tcrvofclqukj6vmucx0ai9zl79&fkId=6kgzm7tcrvofclqukj6vmucx0ai9zl79&ckId=6kgzm7tcrvofclqukj6vmucx0ai9zl79&sfrom=search_job_pc&curPage=0&pageSize=40&index=0'},\n     'recruiter': {'recruiterName': '沈女士',\n      'recruiterTitle': '人力资源管理实习生',\n      'imId': '9f80db4d7554d22be0d71104ecc2e595',\n      'imUserType': '2',\n      'chatted': False,\n      'recruiterId': 'dc5f7372900c47cbac06d00d0050166c',\n      'recruiterPhoto': '5f8f9866dfb13a7dee342f1808u.jpg'},\n     'dataInfo': '%7B%22ckId%22%3A%226kgzm7tcrvofclqukj6vmucx0ai9zl79%22%2C%22scene%22%3A%22input%22%2C%22skId%22%3A%226kgzm7tcrvofclqukj6vmucx0ai9zl79%22%2C%22fkId%22%3A%226kgzm7tcrvofclqukj6vmucx0ai9zl79%22%2C%22pageSize%22%3A%2240%22%2C%22curPage%22%3A%220%22%2C%22sfrom%22%3A%22search_job_pc%22%2C%22jobKind%22%3A%222%22%2C%22jobId%22%3A%2256498145%22%2C%22d_curPage%22%3A%220%22%2C%22d_pageSize%22%3A%2240%22%2C%22as_from%22%3A%22search_prime%22%7D',\n     'dataParams': '{\"recruiterName\":\"沈女士\",\"imId\":\"9f80db4d7554d22be0d71104ecc2e595\",\"imUserType\":\"2\",\"jobKind\":\"2\",\"userId\":\"dc5f7372900c47cbac06d00d0050166c\",\"jobId\":\"56498145\",\"recruiterPhoto\":\"5f8f9866dfb13a7dee342f1808u.jpg\"}'},\n    {'comp': {'compStage': '融资未公开',\n      'compLogo': '646daf1a747e5c46be0c72ba05u.jpg',\n      'compScale': '1-49人',\n      'compName': '有料广告',\n      'compId': 12325901,\n      'link': 'https://www.liepin.com/company/12325901/',\n      'compIndustry': '专业技术服务'},\n     'job': {'labels': ['广告策划'],\n      'pcOuterLink': '',\n      'h5OuterLink': '',\n      'refreshTime': '20230818093726',\n      'title': '广告策划',\n      'topJob': False,\n      'jobKind': '2',\n      'dq': '上海-静安区',\n      'salary': '9-12k',\n      'link': 'https://www.liepin.com/job/1958806367.shtml',\n      'jobId': '58806367',\n      'requireEduLevel': '本科',\n      'requireWorkYears': '经验不限',\n      'advViewFlag': False,\n      'dataPromId': 'd_sfrom=search_prime&d_ckId=null&d_curPage=0&d_pageSize=40&d_headId=null&d_posi=1&skId=6kgzm7tcrvofclqukj6vmucx0ai9zl79&fkId=6kgzm7tcrvofclqukj6vmucx0ai9zl79&ckId=6kgzm7tcrvofclqukj6vmucx0ai9zl79&sfrom=search_job_pc&curPage=0&pageSize=40&index=1'},\n     'recruiter': {'recruiterName': '佘女士',\n      'recruiterTitle': '人事',\n      'imId': 'b7b1c0386e10f30804612e645251413c',\n      'imUserType': '2',\n      'chatted': False,\n      'recruiterId': 'ef4410271ee507db4ebe78f8d139964e',\n      'recruiterPhoto': '5f8f986779c7cc70efbf36c008u.jpg'},\n     'dataInfo': '%7B%22ckId%22%3A%226kgzm7tcrvofclqukj6vmucx0ai9zl79%22%2C%22scene%22%3A%22input%22%2C%22skId%22%3A%226kgzm7tcrvofclqukj6vmucx0ai9zl79%22%2C%22fkId%22%3A%226kgzm7tcrvofclqukj6vmucx0ai9zl79%22%2C%22pageSize%22%3A%2240%22%2C%22curPage%22%3A%220%22%2C%22sfrom%22%3A%22search_job_pc%22%2C%22jobKind%22%3A%222%22%2C%22jobId%22%3A%2258806367%22%2C%22d_curPage%22%3A%220%22%2C%22d_pageSize%22%3A%2240%22%2C%22as_from%22%3A%22search_prime%22%7D',\n     'dataParams': '{\"recruiterName\":\"佘女士\",\"imId\":\"b7b1c0386e10f30804612e645251413c\",\"imUserType\":\"2\",\"jobKind\":\"2\",\"userId\":\"ef4410271ee507db4ebe78f8d139964e\",\"jobId\":\"58806367\",\"recruiterPhoto\":\"5f8f986779c7cc70efbf36c008u.jpg\"}'},\n    {'comp': {'compStage': '融资未公开',\n      'compLogo': '61c54a5c64f02422cbb5113102u.png',\n      'compScale': '50-99人',\n      'compName': '瀚与翼',\n      'compId': 8272042,\n      'link': 'https://www.liepin.com/company/8272042/',\n      'compIndustry': '专业技术服务'},\n     'job': {'labels': [],\n      'pcOuterLink': '',\n      'h5OuterLink': '',\n      'refreshTime': '20230726141127',\n      'title': '实习生（广告策划执行） – Digital Marketing Intern',\n      'topJob': False,\n      'jobKind': '2',\n      'dq': '上海-徐汇区',\n      'salary': '2-4k',\n      'link': 'https://www.liepin.com/job/1946447123.shtml',\n      'jobId': '46447123',\n      'requireEduLevel': '本科',\n      'requireWorkYears': '经验不限',\n      'advViewFlag': False,\n      'dataPromId': 'd_sfrom=search_prime&d_ckId=null&d_curPage=0&d_pageSize=40&d_headId=null&d_posi=2&skId=6kgzm7tcrvofclqukj6vmucx0ai9zl79&fkId=6kgzm7tcrvofclqukj6vmucx0ai9zl79&ckId=6kgzm7tcrvofclqukj6vmucx0ai9zl79&sfrom=search_job_pc&curPage=0&pageSize=40&index=2'},\n     'recruiter': {'recruiterName': '何女士',\n      'recruiterTitle': 'TA',\n      'imId': 'c823ddf91c5fe5cce68ea511f8a9efc5',\n      'imUserType': '2',\n      'chatted': False,\n      'recruiterId': 'ab7a57a627101bfe2be08dc37d54b6f3',\n      'recruiterPhoto': '5f8f98648dbe6273dcf8515508u.jpg'},\n     'dataInfo': '%7B%22ckId%22%3A%226kgzm7tcrvofclqukj6vmucx0ai9zl79%22%2C%22scene%22%3A%22input%22%2C%22skId%22%3A%226kgzm7tcrvofclqukj6vmucx0ai9zl79%22%2C%22fkId%22%3A%226kgzm7tcrvofclqukj6vmucx0ai9zl79%22%2C%22pageSize%22%3A%2240%22%2C%22curPage%22%3A%220%22%2C%22sfrom%22%3A%22search_job_pc%22%2C%22jobKind%22%3A%222%22%2C%22jobId%22%3A%2246447123%22%2C%22d_curPage%22%3A%220%22%2C%22d_pageSize%22%3A%2240%22%2C%22as_from%22%3A%22search_prime%22%7D',\n     'dataParams': '{\"recruiterName\":\"何女士\",\"imId\":\"c823ddf91c5fe5cce68ea511f8a9efc5\",\"imUserType\":\"2\",\"jobKind\":\"2\",\"userId\":\"ab7a57a627101bfe2be08dc37d54b6f3\",\"jobId\":\"46447123\",\"recruiterPhoto\":\"5f8f98648dbe6273dcf8515508u.jpg\"}'},\n    {'comp': {'compLogo': '61b07937d0458d53c627567e02u.jpg',\n      'compScale': '1-49人',\n      'compName': '上海写拾广告有限公司',\n      'compId': 10272573,\n      'link': 'https://www.liepin.com/company/10272573/',\n      'compIndustry': '广播/影视/录音'},\n     'job': {'labels': ['媒介媒体', '广告文案', '活动文案', '新媒体文案', '品牌文案'],\n      'pcOuterLink': '',\n      'h5OuterLink': '',\n      'refreshTime': '20191203140001',\n      'title': '广告策划/文案',\n      'topJob': False,\n      'jobKind': '2',\n      'dq': '上海',\n      'salary': '8-12k',\n      'link': 'https://www.liepin.com/job/1925088147.shtml',\n      'jobId': '25088147',\n      'requireEduLevel': '本科',\n      'requireWorkYears': '经验不限',\n      'advViewFlag': False,\n      'dataPromId': 'd_sfrom=search_prime&d_ckId=null&d_curPage=0&d_pageSize=40&d_headId=null&d_posi=3&skId=6kgzm7tcrvofclqukj6vmucx0ai9zl79&fkId=6kgzm7tcrvofclqukj6vmucx0ai9zl79&ckId=6kgzm7tcrvofclqukj6vmucx0ai9zl79&sfrom=search_job_pc&curPage=0&pageSize=40&index=3'},\n     'recruiter': {'recruiterName': '曹女士',\n      'recruiterTitle': '合伙人',\n      'imId': 'f086316927445b55e3a362ce23913155',\n      'imUserType': '2',\n      'chatted': False,\n      'recruiterId': '53da6fed5384d274258924040bc7a85b',\n      'recruiterPhoto': '56938e9345ce240b1ff6c31504a.png'},\n     'dataInfo': '%7B%22ckId%22%3A%226kgzm7tcrvofclqukj6vmucx0ai9zl79%22%2C%22scene%22%3A%22input%22%2C%22skId%22%3A%226kgzm7tcrvofclqukj6vmucx0ai9zl79%22%2C%22fkId%22%3A%226kgzm7tcrvofclqukj6vmucx0ai9zl79%22%2C%22pageSize%22%3A%2240%22%2C%22curPage%22%3A%220%22%2C%22sfrom%22%3A%22search_job_pc%22%2C%22jobKind%22%3A%222%22%2C%22jobId%22%3A%2225088147%22%2C%22d_curPage%22%3A%220%22%2C%22d_pageSize%22%3A%2240%22%2C%22as_from%22%3A%22search_prime%22%7D',\n     'dataParams': '{\"recruiterName\":\"曹女士\",\"imId\":\"f086316927445b55e3a362ce23913155\",\"imUserType\":\"2\",\"jobKind\":\"2\",\"userId\":\"53da6fed5384d274258924040bc7a85b\",\"jobId\":\"25088147\",\"recruiterPhoto\":\"56938e9345ce240b1ff6c31504a.png\"}'},\n    {'comp': {'compStage': '融资未公开',\n      'compLogo': '61b07937d0458d53c627567e02u.jpg',\n      'compScale': '1-49人',\n      'compName': '上海贝书管理咨询有限公司',\n      'compId': 10201729,\n      'link': 'https://www.liepin.com/company/10201729/',\n      'compIndustry': '广告/公关/会展'},\n     'job': {'labels': ['内容运营'],\n      'pcOuterLink': '',\n      'h5OuterLink': '',\n      'refreshTime': '20210218142514',\n      'title': '广告策划方向应届毕业生',\n      'topJob': False,\n      'jobKind': '2',\n      'dq': '上海',\n      'salary': '6-11k·13薪',\n      'link': 'https://www.liepin.com/job/1935867731.shtml',\n      'jobId': '35867731',\n      'requireEduLevel': '本科',\n      'requireWorkYears': '经验不限',\n      'advViewFlag': False,\n      'dataPromId': 'd_sfrom=search_prime&d_ckId=null&d_curPage=0&d_pageSize=40&d_headId=null&d_posi=4&skId=6kgzm7tcrvofclqukj6vmucx0ai9zl79&fkId=6kgzm7tcrvofclqukj6vmucx0ai9zl79&ckId=6kgzm7tcrvofclqukj6vmucx0ai9zl79&sfrom=search_job_pc&curPage=0&pageSize=40&index=4'},\n     'recruiter': {'recruiterName': '代女士',\n      'recruiterTitle': '新媒体运营主管',\n      'imId': 'aeafe1dad210ee339941166e65ebdb6f',\n      'imUserType': '2',\n      'chatted': False,\n      'recruiterId': 'fd6ea30e74423e3b84a317888b12ae61',\n      'recruiterPhoto': '602e086f09f00f0851fa451907u.png'},\n     'dataInfo': '%7B%22ckId%22%3A%226kgzm7tcrvofclqukj6vmucx0ai9zl79%22%2C%22scene%22%3A%22input%22%2C%22skId%22%3A%226kgzm7tcrvofclqukj6vmucx0ai9zl79%22%2C%22fkId%22%3A%226kgzm7tcrvofclqukj6vmucx0ai9zl79%22%2C%22pageSize%22%3A%2240%22%2C%22curPage%22%3A%220%22%2C%22sfrom%22%3A%22search_job_pc%22%2C%22jobKind%22%3A%222%22%2C%22jobId%22%3A%2235867731%22%2C%22d_curPage%22%3A%220%22%2C%22d_pageSize%22%3A%2240%22%2C%22as_from%22%3A%22search_prime%22%7D',\n     'dataParams': '{\"recruiterName\":\"代女士\",\"imId\":\"aeafe1dad210ee339941166e65ebdb6f\",\"imUserType\":\"2\",\"jobKind\":\"2\",\"userId\":\"fd6ea30e74423e3b84a317888b12ae61\",\"jobId\":\"35867731\",\"recruiterPhoto\":\"602e086f09f00f0851fa451907u.png\"}'},\n    {'comp': {'compStage': '已上市',\n      'compLogo': '5bfe8fc774719d35745a814903a.png',\n      'compScale': '5000-10000人',\n      'compName': '晨光文具',\n      'compId': 3273152,\n      'link': 'https://www.liepin.com/company/3273152/',\n      'compIndustry': '食品/饮料/酒水'},\n     'job': {'labels': ['本科', '广告产品', '策略产品', '广告行业', '产品规划', '团队管理'],\n      'pcOuterLink': '',\n      'h5OuterLink': '',\n      'refreshTime': '20231128135349',\n      'title': '产品管培生',\n      'topJob': False,\n      'jobKind': '6',\n      'dq': '上海-松江区',\n      'salary': '7-12k·13薪',\n      'link': 'https://www.liepin.com/lptjob/63237641',\n      'jobId': '63237641',\n      'advViewFlag': False,\n      'campusJobKind': '应届',\n      'dataPromId': 'd_sfrom=search_prime&d_ckId=null&d_curPage=0&d_pageSize=40&d_headId=null&d_posi=5&skId=6kgzm7tcrvofclqukj6vmucx0ai9zl79&fkId=6kgzm7tcrvofclqukj6vmucx0ai9zl79&ckId=6kgzm7tcrvofclqukj6vmucx0ai9zl79&sfrom=search_job_pc&curPage=0&pageSize=40&index=5'},\n     'recruiter': {'recruiterName': '郑女士',\n      'recruiterTitle': '副总经理助理',\n      'imId': '9ea92e6540993b470503db90a2475348',\n      'imUserType': '2',\n      'chatted': False,\n      'recruiterId': 'aa38e785e592bc9e237e5c13cb1dea87',\n      'recruiterPhoto': '5f8f9866dfb13a7dee342f1808u.jpg'},\n     'dataInfo': '%7B%22ckId%22%3A%226kgzm7tcrvofclqukj6vmucx0ai9zl79%22%2C%22scene%22%3A%22input%22%2C%22skId%22%3A%226kgzm7tcrvofclqukj6vmucx0ai9zl79%22%2C%22fkId%22%3A%226kgzm7tcrvofclqukj6vmucx0ai9zl79%22%2C%22pageSize%22%3A%2240%22%2C%22curPage%22%3A%220%22%2C%22sfrom%22%3A%22search_job_pc%22%2C%22jobKind%22%3A%226%22%2C%22jobId%22%3A%2263237641%22%2C%22d_curPage%22%3A%220%22%2C%22d_pageSize%22%3A%2240%22%2C%22as_from%22%3A%22search_prime%22%7D',\n     'dataParams': '{\"recruiterName\":\"郑女士\",\"imId\":\"9ea92e6540993b470503db90a2475348\",\"imUserType\":\"2\",\"jobKind\":\"6\",\"userId\":\"aa38e785e592bc9e237e5c13cb1dea87\",\"jobId\":\"63237641\",\"recruiterPhoto\":\"5f8f9866dfb13a7dee342f1808u.jpg\"}'},\n    {'comp': {'compStage': 'D轮',\n      'compLogo': '59687369703221ef708aa5aa06a.png',\n      'compScale': '100-499人',\n      'compName': '竹间智能',\n      'compId': 8608119,\n      'link': 'https://www.liepin.com/company/8608119/',\n      'compIndustry': '互联网'},\n     'job': {'labels': ['3个月',\n       '提供转正',\n       '本科',\n       '市场运营',\n       '活动策划',\n       '市场营销',\n       '广告策划',\n       '市场策划',\n       '市场推广',\n       '广告媒介'],\n      'pcOuterLink': '',\n      'h5OuterLink': '',\n      'refreshTime': '20231030155710',\n      'title': '市场部实习生(J10310)',\n      'topJob': False,\n      'jobKind': '6',\n      'dq': '上海-徐汇区',\n      'salary': '150-250元/天',\n      'link': 'https://www.liepin.com/lptjob/62558885',\n      'jobId': '62558885',\n      'advViewFlag': False,\n      'campusJobKind': '实习',\n      'dataPromId': 'd_sfrom=search_prime&d_ckId=null&d_curPage=0&d_pageSize=40&d_headId=null&d_posi=6&skId=6kgzm7tcrvofclqukj6vmucx0ai9zl79&fkId=6kgzm7tcrvofclqukj6vmucx0ai9zl79&ckId=6kgzm7tcrvofclqukj6vmucx0ai9zl79&sfrom=search_job_pc&curPage=0&pageSize=40&index=6'},\n     'recruiter': {'recruiterName': '范女士',\n      'recruiterTitle': 'HRBP',\n      'imId': 'bc7e958fdd33ad0f67766a03c68ce883',\n      'imUserType': '2',\n      'chatted': False,\n      'recruiterId': 'da8943e78dc71b1ebbdb5cad9c1cb8f9',\n      'recruiterPhoto': '5f8f986779c7cc70efbf36c008u.jpg'},\n     'dataInfo': '%7B%22ckId%22%3A%226kgzm7tcrvofclqukj6vmucx0ai9zl79%22%2C%22scene%22%3A%22input%22%2C%22skId%22%3A%226kgzm7tcrvofclqukj6vmucx0ai9zl79%22%2C%22fkId%22%3A%226kgzm7tcrvofclqukj6vmucx0ai9zl79%22%2C%22pageSize%22%3A%2240%22%2C%22curPage%22%3A%220%22%2C%22sfrom%22%3A%22search_job_pc%22%2C%22jobKind%22%3A%226%22%2C%22jobId%22%3A%2262558885%22%2C%22d_curPage%22%3A%220%22%2C%22d_pageSize%22%3A%2240%22%2C%22as_from%22%3A%22search_prime%22%7D',\n     'dataParams': '{\"recruiterName\":\"范女士\",\"imId\":\"bc7e958fdd33ad0f67766a03c68ce883\",\"imUserType\":\"2\",\"jobKind\":\"6\",\"userId\":\"da8943e78dc71b1ebbdb5cad9c1cb8f9\",\"jobId\":\"62558885\",\"recruiterPhoto\":\"5f8f986779c7cc70efbf36c008u.jpg\"}'},\n    {'comp': {'compLogo': '64d99dd017be7f3f447bad7106u.png',\n      'compScale': '100-499人',\n      'compName': '天联广告有限公司',\n      'compId': 13638195,\n      'link': 'https://www.liepin.com/company/13638195/',\n      'compIndustry': '广告/公关/会展'},\n     'job': {'labels': ['3个月',\n       '本科',\n       '新媒体策划',\n       '自媒体策划',\n       '广告策划',\n       '文案策划',\n       '自媒体',\n       '广告媒体',\n       '新媒体',\n       '广告/传媒/文化'],\n      'pcOuterLink': '',\n      'h5OuterLink': '',\n      'refreshTime': '20231206152540',\n      'title': '文案实习生',\n      'topJob': False,\n      'jobKind': '6',\n      'dq': '上海-徐汇区',\n      'salary': '100元/天',\n      'link': 'https://www.liepin.com/lptjob/61261573',\n      'jobId': '61261573',\n      'advViewFlag': False,\n      'campusJobKind': '实习',\n      'dataPromId': 'd_sfrom=search_prime&d_ckId=null&d_curPage=0&d_pageSize=40&d_headId=null&d_posi=7&skId=6kgzm7tcrvofclqukj6vmucx0ai9zl79&fkId=6kgzm7tcrvofclqukj6vmucx0ai9zl79&ckId=6kgzm7tcrvofclqukj6vmucx0ai9zl79&sfrom=search_job_pc&curPage=0&pageSize=40&index=7'},\n     'recruiter': {'recruiterName': '王女士',\n      'recruiterTitle': '人事',\n      'imId': 'a4d3b4cd983eb4c6f5555d53f3dd73c0',\n      'imUserType': '2',\n      'chatted': False,\n      'recruiterId': '87fec6c459203b5105da1658f4bd6e4f',\n      'recruiterPhoto': '5f8f9863f6d1ab58476f246a08u.jpg'},\n     'dataInfo': '%7B%22ckId%22%3A%226kgzm7tcrvofclqukj6vmucx0ai9zl79%22%2C%22scene%22%3A%22input%22%2C%22skId%22%3A%226kgzm7tcrvofclqukj6vmucx0ai9zl79%22%2C%22fkId%22%3A%226kgzm7tcrvofclqukj6vmucx0ai9zl79%22%2C%22pageSize%22%3A%2240%22%2C%22curPage%22%3A%220%22%2C%22sfrom%22%3A%22search_job_pc%22%2C%22jobKind%22%3A%226%22%2C%22jobId%22%3A%2261261573%22%2C%22d_curPage%22%3A%220%22%2C%22d_pageSize%22%3A%2240%22%2C%22as_from%22%3A%22search_prime%22%7D',\n     'dataParams': '{\"recruiterName\":\"王女士\",\"imId\":\"a4d3b4cd983eb4c6f5555d53f3dd73c0\",\"imUserType\":\"2\",\"jobKind\":\"6\",\"userId\":\"87fec6c459203b5105da1658f4bd6e4f\",\"jobId\":\"61261573\",\"recruiterPhoto\":\"5f8f9863f6d1ab58476f246a08u.jpg\"}'},\n    {'comp': {'compLogo': '5bfe904774719d35745a9af403a.png',\n      'compScale': '10000人以上',\n      'compName': '上海老城隍庙餐饮(集团)有限公司',\n      'compId': 8711069,\n      'link': 'https://www.liepin.com/company/8711069/',\n      'compIndustry': '餐饮业'},\n     'job': {'labels': ['3个月', '本科', '市场调研分析', '市场营销', '市场策划', '市场数据分析'],\n      'pcOuterLink': '',\n      'h5OuterLink': '',\n      'refreshTime': '20231227095401',\n      'title': '市场营销实习生',\n      'topJob': False,\n      'jobKind': '6',\n      'dq': '上海',\n      'salary': '120-150元/天',\n      'link': 'https://www.liepin.com/lptjob/59902029',\n      'jobId': '59902029',\n      'advViewFlag': False,\n      'campusJobKind': '实习',\n      'dataPromId': 'd_sfrom=search_prime&d_ckId=null&d_curPage=0&d_pageSize=40&d_headId=null&d_posi=8&skId=6kgzm7tcrvofclqukj6vmucx0ai9zl79&fkId=6kgzm7tcrvofclqukj6vmucx0ai9zl79&ckId=6kgzm7tcrvofclqukj6vmucx0ai9zl79&sfrom=search_job_pc&curPage=0&pageSize=40&index=8'},\n     'recruiter': {'recruiterName': '李女士',\n      'recruiterTitle': '高级招聘经理',\n      'imId': '5d3352a2d7afe5e2dfb6df235db455f2',\n      'imUserType': '2',\n      'chatted': False,\n      'recruiterId': '0e096868887b01f7fb0b102e3c13b055',\n      'recruiterPhoto': '5ffbbcad3059cc17bf34148802u.png'},\n     'dataInfo': '%7B%22ckId%22%3A%226kgzm7tcrvofclqukj6vmucx0ai9zl79%22%2C%22scene%22%3A%22input%22%2C%22skId%22%3A%226kgzm7tcrvofclqukj6vmucx0ai9zl79%22%2C%22fkId%22%3A%226kgzm7tcrvofclqukj6vmucx0ai9zl79%22%2C%22pageSize%22%3A%2240%22%2C%22curPage%22%3A%220%22%2C%22sfrom%22%3A%22search_job_pc%22%2C%22jobKind%22%3A%226%22%2C%22jobId%22%3A%2259902029%22%2C%22d_curPage%22%3A%220%22%2C%22d_pageSize%22%3A%2240%22%2C%22as_from%22%3A%22search_prime%22%7D',\n     'dataParams': '{\"recruiterName\":\"李女士\",\"imId\":\"5d3352a2d7afe5e2dfb6df235db455f2\",\"imUserType\":\"2\",\"jobKind\":\"6\",\"userId\":\"0e096868887b01f7fb0b102e3c13b055\",\"jobId\":\"59902029\",\"recruiterPhoto\":\"5ffbbcad3059cc17bf34148802u.png\"}'},\n    {'comp': {'compLogo': '5bfe961d74719df0ac98f5c503a.png',\n      'compScale': '500-999人',\n      'compName': '上海吉博力房屋卫生设备工程技术有限公司',\n      'compId': 7865325,\n      'link': 'https://www.liepin.com/company/7865325/',\n      'compIndustry': '建材'},\n     'job': {'labels': ['3个月', '本科', '社交媒体', '英语'],\n      'pcOuterLink': '',\n      'h5OuterLink': '',\n      'refreshTime': '20230727094309',\n      'title': '市场实习生（digital marketing方向）',\n      'topJob': False,\n      'jobKind': '6',\n      'dq': '上海-嘉定区',\n      'salary': '150-180元/天',\n      'link': 'https://www.liepin.com/lptjob/55944277',\n      'jobId': '55944277',\n      'advViewFlag': False,\n      'campusJobKind': '实习',\n      'dataPromId': 'd_sfrom=search_prime&d_ckId=null&d_curPage=0&d_pageSize=40&d_headId=null&d_posi=9&skId=6kgzm7tcrvofclqukj6vmucx0ai9zl79&fkId=6kgzm7tcrvofclqukj6vmucx0ai9zl79&ckId=6kgzm7tcrvofclqukj6vmucx0ai9zl79&sfrom=search_job_pc&curPage=0&pageSize=40&index=9'},\n     'recruiter': {'recruiterName': '张女士',\n      'recruiterTitle': '',\n      'imId': '3cd447f2a1ff2080cc9b87ea7c83d11f',\n      'imUserType': '2',\n      'chatted': False,\n      'recruiterId': '1eaa69b46985daa80e8e396a741e19e6',\n      'recruiterPhoto': '5f8f98648dbe6273dcf8515508u.jpg'},\n     'dataInfo': '%7B%22ckId%22%3A%226kgzm7tcrvofclqukj6vmucx0ai9zl79%22%2C%22scene%22%3A%22input%22%2C%22skId%22%3A%226kgzm7tcrvofclqukj6vmucx0ai9zl79%22%2C%22fkId%22%3A%226kgzm7tcrvofclqukj6vmucx0ai9zl79%22%2C%22pageSize%22%3A%2240%22%2C%22curPage%22%3A%220%22%2C%22sfrom%22%3A%22search_job_pc%22%2C%22jobKind%22%3A%226%22%2C%22jobId%22%3A%2255944277%22%2C%22d_curPage%22%3A%220%22%2C%22d_pageSize%22%3A%2240%22%2C%22as_from%22%3A%22search_prime%22%7D',\n     'dataParams': '{\"recruiterName\":\"张女士\",\"imId\":\"3cd447f2a1ff2080cc9b87ea7c83d11f\",\"imUserType\":\"2\",\"jobKind\":\"6\",\"userId\":\"1eaa69b46985daa80e8e396a741e19e6\",\"jobId\":\"55944277\",\"recruiterPhoto\":\"5f8f98648dbe6273dcf8515508u.jpg\"}'},\n    {'comp': {'compLogo': '5bfea4e974719d2aa34cd04003a.png',\n      'compScale': '500-999人',\n      'compName': '东证期货',\n      'compId': 7768574,\n      'link': 'https://www.liepin.com/company/7768574/',\n      'compIndustry': '基金/证券/期货'},\n     'job': {'labels': ['3个月', '本科', '活动策划', '市场营销', '市场策划'],\n      'pcOuterLink': '',\n      'h5OuterLink': '',\n      'refreshTime': '20230220102311',\n      'title': '市场实习生',\n      'topJob': False,\n      'jobKind': '6',\n      'dq': '上海-黄浦区',\n      'salary': '80-120元/天',\n      'link': 'https://www.liepin.com/lptjob/53580053',\n      'jobId': '53580053',\n      'advViewFlag': False,\n      'campusJobKind': '实习',\n      'dataPromId': 'd_sfrom=search_prime&d_ckId=null&d_curPage=0&d_pageSize=40&d_headId=null&d_posi=10&skId=6kgzm7tcrvofclqukj6vmucx0ai9zl79&fkId=6kgzm7tcrvofclqukj6vmucx0ai9zl79&ckId=6kgzm7tcrvofclqukj6vmucx0ai9zl79&sfrom=search_job_pc&curPage=0&pageSize=40&index=10'},\n     'recruiter': {'recruiterName': '代女士',\n      'recruiterTitle': 'HR',\n      'imId': '2bd449597f033006528dabef14b76f2d',\n      'imUserType': '2',\n      'chatted': False,\n      'recruiterId': '8963e9f89fab8c50b549d000a23ef8d8',\n      'recruiterPhoto': '5f8f9865ea60860b75384fa508u.jpg'},\n     'dataInfo': '%7B%22ckId%22%3A%226kgzm7tcrvofclqukj6vmucx0ai9zl79%22%2C%22scene%22%3A%22input%22%2C%22skId%22%3A%226kgzm7tcrvofclqukj6vmucx0ai9zl79%22%2C%22fkId%22%3A%226kgzm7tcrvofclqukj6vmucx0ai9zl79%22%2C%22pageSize%22%3A%2240%22%2C%22curPage%22%3A%220%22%2C%22sfrom%22%3A%22search_job_pc%22%2C%22jobKind%22%3A%226%22%2C%22jobId%22%3A%2253580053%22%2C%22d_curPage%22%3A%220%22%2C%22d_pageSize%22%3A%2240%22%2C%22as_from%22%3A%22search_prime%22%7D',\n     'dataParams': '{\"recruiterName\":\"代女士\",\"imId\":\"2bd449597f033006528dabef14b76f2d\",\"imUserType\":\"2\",\"jobKind\":\"6\",\"userId\":\"8963e9f89fab8c50b549d000a23ef8d8\",\"jobId\":\"53580053\",\"recruiterPhoto\":\"5f8f9865ea60860b75384fa508u.jpg\"}'},\n    {'comp': {'compStage': '融资未公开',\n      'compLogo': '61b07937d0458d53c627567e02u.jpg',\n      'compScale': '100-499人',\n      'compName': '上海熙扬市场营销策划有限公司',\n      'compId': 7945907,\n      'link': 'https://www.liepin.com/company/7945907/',\n      'compIndustry': '培训服务'},\n     'job': {'labels': ['大专'],\n      'pcOuterLink': '',\n      'h5OuterLink': '',\n      'refreshTime': '20210526120547',\n      'title': '会务策划/会展策划',\n      'topJob': False,\n      'jobKind': '6',\n      'dq': '上海',\n      'salary': '150元/天',\n      'link': 'https://www.liepin.com/lptjob/39523303',\n      'jobId': '39523303',\n      'advViewFlag': False,\n      'campusJobKind': '实习',\n      'dataPromId': 'd_sfrom=search_prime&d_ckId=null&d_curPage=0&d_pageSize=40&d_headId=null&d_posi=11&skId=6kgzm7tcrvofclqukj6vmucx0ai9zl79&fkId=6kgzm7tcrvofclqukj6vmucx0ai9zl79&ckId=6kgzm7tcrvofclqukj6vmucx0ai9zl79&sfrom=search_job_pc&curPage=0&pageSize=40&index=11'},\n     'recruiter': {'recruiterName': '沈女士',\n      'recruiterTitle': 'HR',\n      'imId': '4bfc315ad425621c2980490a0cdf2257',\n      'imUserType': '2',\n      'chatted': False,\n      'recruiterId': 'd60285e2b8563f47874136c038819526',\n      'recruiterPhoto': '5f8f9866dfb13a7dee342f1808u.jpg'},\n     'dataInfo': '%7B%22ckId%22%3A%226kgzm7tcrvofclqukj6vmucx0ai9zl79%22%2C%22scene%22%3A%22input%22%2C%22skId%22%3A%226kgzm7tcrvofclqukj6vmucx0ai9zl79%22%2C%22fkId%22%3A%226kgzm7tcrvofclqukj6vmucx0ai9zl79%22%2C%22pageSize%22%3A%2240%22%2C%22curPage%22%3A%220%22%2C%22sfrom%22%3A%22search_job_pc%22%2C%22jobKind%22%3A%226%22%2C%22jobId%22%3A%2239523303%22%2C%22d_curPage%22%3A%220%22%2C%22d_pageSize%22%3A%2240%22%2C%22as_from%22%3A%22search_prime%22%7D',\n     'dataParams': '{\"recruiterName\":\"沈女士\",\"imId\":\"4bfc315ad425621c2980490a0cdf2257\",\"imUserType\":\"2\",\"jobKind\":\"6\",\"userId\":\"d60285e2b8563f47874136c038819526\",\"jobId\":\"39523303\",\"recruiterPhoto\":\"5f8f9866dfb13a7dee342f1808u.jpg\"}'},\n    {'comp': {'compStage': '天使轮',\n      'compLogo': '61b07937d0458d53c627567e02u.jpg',\n      'compScale': '1-49人',\n      'compName': '幸合贸易(上海)有限公司',\n      'compId': 12677277,\n      'link': 'https://www.liepin.com/company/12677277/',\n      'compIndustry': '日化'},\n     'job': {'labels': ['文案策划',\n       '社交媒体',\n       '自媒体',\n       '新媒体策划',\n       '短视频策划',\n       '市场策划',\n       '营销策划',\n       '品牌策划'],\n      'pcOuterLink': '',\n      'h5OuterLink': '',\n      'refreshTime': '20230724110101',\n      'title': '文案/策划',\n      'topJob': False,\n      'jobKind': '2',\n      'dq': '上海-黄浦区',\n      'salary': '3-6k',\n      'link': 'https://www.liepin.com/job/1960223327.shtml',\n      'jobId': '60223327',\n      'requireEduLevel': '本科',\n      'requireWorkYears': '经验不限',\n      'advViewFlag': False,\n      'dataPromId': 'd_sfrom=search_prime&d_ckId=null&d_curPage=0&d_pageSize=40&d_headId=null&d_posi=12&skId=6kgzm7tcrvofclqukj6vmucx0ai9zl79&fkId=6kgzm7tcrvofclqukj6vmucx0ai9zl79&ckId=6kgzm7tcrvofclqukj6vmucx0ai9zl79&sfrom=search_job_pc&curPage=0&pageSize=40&index=12'},\n     'recruiter': {'recruiterName': '李先生',\n      'recruiterTitle': '创始人',\n      'imId': '91c70e752d901e784036597854bcf58c',\n      'imUserType': '2',\n      'chatted': False,\n      'recruiterId': 'dac65d553582f6aa61ba91773c72c58d',\n      'recruiterPhoto': '63f827894252036e9088a0d604u.jpeg'},\n     'dataInfo': '%7B%22ckId%22%3A%226kgzm7tcrvofclqukj6vmucx0ai9zl79%22%2C%22scene%22%3A%22input%22%2C%22skId%22%3A%226kgzm7tcrvofclqukj6vmucx0ai9zl79%22%2C%22fkId%22%3A%226kgzm7tcrvofclqukj6vmucx0ai9zl79%22%2C%22pageSize%22%3A%2240%22%2C%22curPage%22%3A%220%22%2C%22sfrom%22%3A%22search_job_pc%22%2C%22jobKind%22%3A%222%22%2C%22jobId%22%3A%2260223327%22%2C%22d_curPage%22%3A%220%22%2C%22d_pageSize%22%3A%2240%22%2C%22as_from%22%3A%22search_prime%22%7D',\n     'dataParams': '{\"recruiterName\":\"李先生\",\"imId\":\"91c70e752d901e784036597854bcf58c\",\"imUserType\":\"2\",\"jobKind\":\"2\",\"userId\":\"dac65d553582f6aa61ba91773c72c58d\",\"jobId\":\"60223327\",\"recruiterPhoto\":\"63f827894252036e9088a0d604u.jpeg\"}'},\n    {'comp': {'compStage': '融资未公开',\n      'compLogo': '5f3184d330c37c3d011d6ef506u.jpg',\n      'compScale': '100-499人',\n      'compName': '北京故宫宫廷文化发展有限公司',\n      'compId': 7875767,\n      'link': 'https://www.liepin.com/company/7875767/',\n      'compIndustry': '广播/影视/录音'},\n     'job': {'labels': [],\n      'pcOuterLink': '',\n      'h5OuterLink': '',\n      'refreshTime': '20231225093614',\n      'title': '创意策划经理',\n      'topJob': False,\n      'jobKind': '2',\n      'dq': '上海-徐汇区',\n      'salary': '12-18k·13薪',\n      'link': 'https://www.liepin.com/job/1952268453.shtml',\n      'jobId': '52268453',\n      'requireEduLevel': '大专',\n      'requireWorkYears': '经验不限',\n      'advViewFlag': False,\n      'dataPromId': 'd_sfrom=search_prime&d_ckId=null&d_curPage=0&d_pageSize=40&d_headId=null&d_posi=13&skId=6kgzm7tcrvofclqukj6vmucx0ai9zl79&fkId=6kgzm7tcrvofclqukj6vmucx0ai9zl79&ckId=6kgzm7tcrvofclqukj6vmucx0ai9zl79&sfrom=search_job_pc&curPage=0&pageSize=40&index=13'},\n     'recruiter': {'recruiterName': '李先生',\n      'recruiterTitle': '人事经理',\n      'imId': 'c472b40fdecfa2fbac365a663ca833da',\n      'imUserType': '2',\n      'chatted': False,\n      'recruiterId': 'e25131a5739689539ec4a44618b0e7df',\n      'recruiterPhoto': '5f8f986bdfb13a7dee342f2108u.jpg'},\n     'dataInfo': '%7B%22ckId%22%3A%226kgzm7tcrvofclqukj6vmucx0ai9zl79%22%2C%22scene%22%3A%22input%22%2C%22skId%22%3A%226kgzm7tcrvofclqukj6vmucx0ai9zl79%22%2C%22fkId%22%3A%226kgzm7tcrvofclqukj6vmucx0ai9zl79%22%2C%22pageSize%22%3A%2240%22%2C%22curPage%22%3A%220%22%2C%22sfrom%22%3A%22search_job_pc%22%2C%22jobKind%22%3A%222%22%2C%22jobId%22%3A%2252268453%22%2C%22d_curPage%22%3A%220%22%2C%22d_pageSize%22%3A%2240%22%2C%22as_from%22%3A%22search_prime%22%7D',\n     'dataParams': '{\"recruiterName\":\"李先生\",\"imId\":\"c472b40fdecfa2fbac365a663ca833da\",\"imUserType\":\"2\",\"jobKind\":\"2\",\"userId\":\"e25131a5739689539ec4a44618b0e7df\",\"jobId\":\"52268453\",\"recruiterPhoto\":\"5f8f986bdfb13a7dee342f2108u.jpg\"}'},\n    {'comp': {'compStage': '融资未公开',\n      'compLogo': '61b07937d0458d53c627567e02u.jpg',\n      'compScale': '1-49人',\n      'compName': '艾鼎设计奖主办方',\n      'compId': 12581047,\n      'link': 'https://www.liepin.com/company/12581047/',\n      'compIndustry': '广播/影视/录音'},\n     'job': {'labels': ['线下活动',\n       '线上活动',\n       '赛事活动',\n       '广告媒介',\n       '设计',\n       '奖项',\n       '文化艺术',\n       '娱乐'],\n      'pcOuterLink': '',\n      'h5OuterLink': '',\n      'refreshTime': '20230829125502',\n      'title': '活动策划执行',\n      'topJob': False,\n      'jobKind': '2',\n      'dq': '上海',\n      'salary': '7-12k',\n      'link': 'https://www.liepin.com/job/1961194821.shtml',\n      'jobId': '61194821',\n      'requireEduLevel': '本科',\n      'requireWorkYears': '经验不限',\n      'advViewFlag': False,\n      'dataPromId': 'd_sfrom=search_prime&d_ckId=null&d_curPage=0&d_pageSize=40&d_headId=null&d_posi=14&skId=6kgzm7tcrvofclqukj6vmucx0ai9zl79&fkId=6kgzm7tcrvofclqukj6vmucx0ai9zl79&ckId=6kgzm7tcrvofclqukj6vmucx0ai9zl79&sfrom=search_job_pc&curPage=0&pageSize=40&index=14'},\n     'recruiter': {'recruiterName': '庞先生',\n      'recruiterTitle': '艾鼎奖创始人',\n      'imId': '015ca65e7480b9bacd74bb959a88946e',\n      'imUserType': '2',\n      'chatted': False,\n      'recruiterId': '9896ca5151d5f4fd23d06c380b0a9db9',\n      'recruiterPhoto': '63b91b729ebe411c1eba041807u.png'},\n     'dataInfo': '%7B%22ckId%22%3A%226kgzm7tcrvofclqukj6vmucx0ai9zl79%22%2C%22scene%22%3A%22input%22%2C%22skId%22%3A%226kgzm7tcrvofclqukj6vmucx0ai9zl79%22%2C%22fkId%22%3A%226kgzm7tcrvofclqukj6vmucx0ai9zl79%22%2C%22pageSize%22%3A%2240%22%2C%22curPage%22%3A%220%22%2C%22sfrom%22%3A%22search_job_pc%22%2C%22jobKind%22%3A%222%22%2C%22jobId%22%3A%2261194821%22%2C%22d_curPage%22%3A%220%22%2C%22d_pageSize%22%3A%2240%22%2C%22as_from%22%3A%22search_prime%22%7D',\n     'dataParams': '{\"recruiterName\":\"庞先生\",\"imId\":\"015ca65e7480b9bacd74bb959a88946e\",\"imUserType\":\"2\",\"jobKind\":\"2\",\"userId\":\"9896ca5151d5f4fd23d06c380b0a9db9\",\"jobId\":\"61194821\",\"recruiterPhoto\":\"63b91b729ebe411c1eba041807u.png\"}'},\n    {'comp': {'compLogo': '5a3b49718e503b638296fd4a04a.png',\n      'compScale': '500-999人',\n      'compName': '玛丽黛佳',\n      'compId': 9354798,\n      'link': 'https://www.liepin.com/company/9354798/',\n      'compIndustry': '日化'},\n     'job': {'labels': ['编导', '抖音短视频'],\n      'pcOuterLink': '',\n      'h5OuterLink': '',\n      'refreshTime': '20230829132806',\n      'title': '导演/编导',\n      'topJob': False,\n      'jobKind': '2',\n      'dq': '上海-闵行区',\n      'salary': '8-15k',\n      'link': 'https://www.liepin.com/job/1961195723.shtml',\n      'jobId': '61195723',\n      'requireEduLevel': '本科',\n      'requireWorkYears': '经验不限',\n      'advViewFlag': False,\n      'dataPromId': 'd_sfrom=search_prime&d_ckId=null&d_curPage=0&d_pageSize=40&d_headId=null&d_posi=15&skId=6kgzm7tcrvofclqukj6vmucx0ai9zl79&fkId=6kgzm7tcrvofclqukj6vmucx0ai9zl79&ckId=6kgzm7tcrvofclqukj6vmucx0ai9zl79&sfrom=search_job_pc&curPage=0&pageSize=40&index=15'},\n     'recruiter': {'recruiterName': '樊先生',\n      'recruiterTitle': 'HRBP经理',\n      'imId': '9c415855e3ddeee533f1d87ff4815723',\n      'imUserType': '2',\n      'chatted': False,\n      'recruiterId': 'cb17a5d17f4e963cfaa5a90cfceb3cc1',\n      'recruiterPhoto': '5f8f986c79c7cc70efbf36c808u.jpg'},\n     'dataInfo': '%7B%22ckId%22%3A%226kgzm7tcrvofclqukj6vmucx0ai9zl79%22%2C%22scene%22%3A%22input%22%2C%22skId%22%3A%226kgzm7tcrvofclqukj6vmucx0ai9zl79%22%2C%22fkId%22%3A%226kgzm7tcrvofclqukj6vmucx0ai9zl79%22%2C%22pageSize%22%3A%2240%22%2C%22curPage%22%3A%220%22%2C%22sfrom%22%3A%22search_job_pc%22%2C%22jobKind%22%3A%222%22%2C%22jobId%22%3A%2261195723%22%2C%22d_curPage%22%3A%220%22%2C%22d_pageSize%22%3A%2240%22%2C%22as_from%22%3A%22search_prime%22%7D',\n     'dataParams': '{\"recruiterName\":\"樊先生\",\"imId\":\"9c415855e3ddeee533f1d87ff4815723\",\"imUserType\":\"2\",\"jobKind\":\"2\",\"userId\":\"cb17a5d17f4e963cfaa5a90cfceb3cc1\",\"jobId\":\"61195723\",\"recruiterPhoto\":\"5f8f986c79c7cc70efbf36c808u.jpg\"}'},\n    {'comp': {'compStage': '新三板上市',\n      'compLogo': '5bfe917074719d35745ad49403a.png',\n      'compScale': '100-499人',\n      'compName': '上海凌脉网络科技股份有限公司',\n      'compId': 2283147,\n      'link': 'https://www.liepin.com/company/2283147/',\n      'compIndustry': '电子商务'},\n     'job': {'labels': ['新媒体运营', '短视频运营', '线上运营', '抖音平台', '快手平台', '今日头条平台'],\n      'pcOuterLink': '',\n      'h5OuterLink': '',\n      'refreshTime': '20220823111008',\n      'title': '短视频运营',\n      'topJob': False,\n      'jobKind': '2',\n      'dq': '上海-静安区',\n      'salary': '10-20k',\n      'link': 'https://www.liepin.com/job/1952083215.shtml',\n      'jobId': '52083215',\n      'requireEduLevel': '大专',\n      'requireWorkYears': '经验不限',\n      'advViewFlag': False,\n      'dataPromId': 'd_sfrom=search_prime&d_ckId=null&d_curPage=0&d_pageSize=40&d_headId=null&d_posi=16&skId=6kgzm7tcrvofclqukj6vmucx0ai9zl79&fkId=6kgzm7tcrvofclqukj6vmucx0ai9zl79&ckId=6kgzm7tcrvofclqukj6vmucx0ai9zl79&sfrom=search_job_pc&curPage=0&pageSize=40&index=16'},\n     'recruiter': {'recruiterName': '吴女士',\n      'recruiterTitle': 'HRBP',\n      'imId': 'c8a598becfdb42a0ee7b65a82243fe9b',\n      'imUserType': '2',\n      'chatted': False,\n      'recruiterId': '43794a62f7a63eea895e86e5e14b5e45',\n      'recruiterPhoto': '5f8f9865ea60860b75384fa508u.jpg'},\n     'dataInfo': '%7B%22ckId%22%3A%226kgzm7tcrvofclqukj6vmucx0ai9zl79%22%2C%22scene%22%3A%22input%22%2C%22skId%22%3A%226kgzm7tcrvofclqukj6vmucx0ai9zl79%22%2C%22fkId%22%3A%226kgzm7tcrvofclqukj6vmucx0ai9zl79%22%2C%22pageSize%22%3A%2240%22%2C%22curPage%22%3A%220%22%2C%22sfrom%22%3A%22search_job_pc%22%2C%22jobKind%22%3A%222%22%2C%22jobId%22%3A%2252083215%22%2C%22d_curPage%22%3A%220%22%2C%22d_pageSize%22%3A%2240%22%2C%22as_from%22%3A%22search_prime%22%7D',\n     'dataParams': '{\"recruiterName\":\"吴女士\",\"imId\":\"c8a598becfdb42a0ee7b65a82243fe9b\",\"imUserType\":\"2\",\"jobKind\":\"2\",\"userId\":\"43794a62f7a63eea895e86e5e14b5e45\",\"jobId\":\"52083215\",\"recruiterPhoto\":\"5f8f9865ea60860b75384fa508u.jpg\"}'},\n    {'comp': {'compLogo': '61b07937d0458d53c627567e02u.jpg',\n      'compScale': '1-49人',\n      'compName': '上海意纳广告有限公司',\n      'compId': 9520580,\n      'link': 'https://www.liepin.com/company/9520580/',\n      'compIndustry': '广告/公关/会展'},\n     'job': {'labels': ['文案策划',\n       '广告策划',\n       '营销策划',\n       '活动策划',\n       '营销活动',\n       '广告媒介',\n       '广告/传媒/文化'],\n      'pcOuterLink': '',\n      'h5OuterLink': '',\n      'refreshTime': '20220301170724',\n      'title': 'copy&planning',\n      'topJob': False,\n      'jobKind': '2',\n      'dq': '上海',\n      'salary': '10-15k',\n      'link': 'https://www.liepin.com/job/1947598755.shtml',\n      'jobId': '47598755',\n      'requireEduLevel': '本科',\n      'requireWorkYears': '经验不限',\n      'advViewFlag': False,\n      'dataPromId': 'd_sfrom=search_prime&d_ckId=null&d_curPage=0&d_pageSize=40&d_headId=null&d_posi=17&skId=6kgzm7tcrvofclqukj6vmucx0ai9zl79&fkId=6kgzm7tcrvofclqukj6vmucx0ai9zl79&ckId=6kgzm7tcrvofclqukj6vmucx0ai9zl79&sfrom=search_job_pc&curPage=0&pageSize=40&index=17'},\n     'recruiter': {'recruiterName': '汪先生',\n      'recruiterTitle': '创始人',\n      'imId': '8de1a6eed9b7e31001542792432e8b68',\n      'imUserType': '2',\n      'chatted': False,\n      'recruiterId': '310dc6639a1466d29abae9f4c7d3273e',\n      'recruiterPhoto': '61921b06f0c57815fef74e5806u.png'},\n     'dataInfo': '%7B%22ckId%22%3A%226kgzm7tcrvofclqukj6vmucx0ai9zl79%22%2C%22scene%22%3A%22input%22%2C%22skId%22%3A%226kgzm7tcrvofclqukj6vmucx0ai9zl79%22%2C%22fkId%22%3A%226kgzm7tcrvofclqukj6vmucx0ai9zl79%22%2C%22pageSize%22%3A%2240%22%2C%22curPage%22%3A%220%22%2C%22sfrom%22%3A%22search_job_pc%22%2C%22jobKind%22%3A%222%22%2C%22jobId%22%3A%2247598755%22%2C%22d_curPage%22%3A%220%22%2C%22d_pageSize%22%3A%2240%22%2C%22as_from%22%3A%22search_prime%22%7D',\n     'dataParams': '{\"recruiterName\":\"汪先生\",\"imId\":\"8de1a6eed9b7e31001542792432e8b68\",\"imUserType\":\"2\",\"jobKind\":\"2\",\"userId\":\"310dc6639a1466d29abae9f4c7d3273e\",\"jobId\":\"47598755\",\"recruiterPhoto\":\"61921b06f0c57815fef74e5806u.png\"}'},\n    {'comp': {'compLogo': '5bfea03374719d2aa34beae603a.png',\n      'compScale': '500-999人',\n      'compName': '北京搜厚物业管理有限公司上海分公司',\n      'compId': 9198460,\n      'link': 'https://www.liepin.com/company/9198460/',\n      'compIndustry': '房地产租赁/中介'},\n     'job': {'labels': ['品牌推广', '品牌公关', '广告媒介'],\n      'pcOuterLink': '',\n      'h5OuterLink': '',\n      'refreshTime': '20231018101235',\n      'title': '品牌推广经理（写字楼）',\n      'topJob': False,\n      'jobKind': '2',\n      'dq': '上海-长宁区',\n      'salary': '13-15k',\n      'link': 'https://www.liepin.com/job/1957054821.shtml',\n      'jobId': '57054821',\n      'requireEduLevel': '本科',\n      'requireWorkYears': '经验不限',\n      'advViewFlag': False,\n      'dataPromId': 'd_sfrom=search_prime&d_ckId=null&d_curPage=0&d_pageSize=40&d_headId=null&d_posi=18&skId=6kgzm7tcrvofclqukj6vmucx0ai9zl79&fkId=6kgzm7tcrvofclqukj6vmucx0ai9zl79&ckId=6kgzm7tcrvofclqukj6vmucx0ai9zl79&sfrom=search_job_pc&curPage=0&pageSize=40&index=18'},\n     'recruiter': {'recruiterName': '郑女士',\n      'recruiterTitle': '招聘主管',\n      'imId': 'add3a1477b6e6faf6bc971ec2e264ed1',\n      'imUserType': '2',\n      'chatted': False,\n      'recruiterId': '6606a742e9cff9bdb2c4cc05e9350980',\n      'recruiterPhoto': '5f8f9863f6d1ab58476f246a08u.jpg'},\n     'dataInfo': '%7B%22ckId%22%3A%226kgzm7tcrvofclqukj6vmucx0ai9zl79%22%2C%22scene%22%3A%22input%22%2C%22skId%22%3A%226kgzm7tcrvofclqukj6vmucx0ai9zl79%22%2C%22fkId%22%3A%226kgzm7tcrvofclqukj6vmucx0ai9zl79%22%2C%22pageSize%22%3A%2240%22%2C%22curPage%22%3A%220%22%2C%22sfrom%22%3A%22search_job_pc%22%2C%22jobKind%22%3A%222%22%2C%22jobId%22%3A%2257054821%22%2C%22d_curPage%22%3A%220%22%2C%22d_pageSize%22%3A%2240%22%2C%22as_from%22%3A%22search_prime%22%7D',\n     'dataParams': '{\"recruiterName\":\"郑女士\",\"imId\":\"add3a1477b6e6faf6bc971ec2e264ed1\",\"imUserType\":\"2\",\"jobKind\":\"2\",\"userId\":\"6606a742e9cff9bdb2c4cc05e9350980\",\"jobId\":\"57054821\",\"recruiterPhoto\":\"5f8f9863f6d1ab58476f246a08u.jpg\"}'},\n    {'comp': {'compStage': '融资未公开',\n      'compLogo': '61b07937d0458d53c627567e02u.jpg',\n      'compScale': '1-49人',\n      'compName': '野径(上海)信息科技有限公司',\n      'compId': 10166993,\n      'link': 'https://www.liepin.com/company/10166993/',\n      'compIndustry': '计算机软件'},\n     'job': {'labels': ['行业分析', '广告策划'],\n      'pcOuterLink': '',\n      'h5OuterLink': '',\n      'refreshTime': '20210621182838',\n      'title': '创意策划',\n      'topJob': False,\n      'jobKind': '2',\n      'dq': '上海',\n      'salary': '7-11k',\n      'link': 'https://www.liepin.com/job/1940315491.shtml',\n      'jobId': '40315491',\n      'requireEduLevel': '本科',\n      'requireWorkYears': '经验不限',\n      'advViewFlag': False,\n      'dataPromId': 'd_sfrom=search_prime&d_ckId=null&d_curPage=0&d_pageSize=40&d_headId=null&d_posi=19&skId=6kgzm7tcrvofclqukj6vmucx0ai9zl79&fkId=6kgzm7tcrvofclqukj6vmucx0ai9zl79&ckId=6kgzm7tcrvofclqukj6vmucx0ai9zl79&sfrom=search_job_pc&curPage=0&pageSize=40&index=19'},\n     'recruiter': {'recruiterName': '何先生',\n      'recruiterTitle': '人事行政',\n      'imId': '261f3414451cbbd6063dfc1b00f6daab',\n      'imUserType': '2',\n      'chatted': False,\n      'recruiterId': '24cec64f6f7e7d7c78e0857c11e8d8a9',\n      'recruiterPhoto': '5f8f986bdfb13a7dee342f2108u.jpg'},\n     'dataInfo': '%7B%22ckId%22%3A%226kgzm7tcrvofclqukj6vmucx0ai9zl79%22%2C%22scene%22%3A%22input%22%2C%22skId%22%3A%226kgzm7tcrvofclqukj6vmucx0ai9zl79%22%2C%22fkId%22%3A%226kgzm7tcrvofclqukj6vmucx0ai9zl79%22%2C%22pageSize%22%3A%2240%22%2C%22curPage%22%3A%220%22%2C%22sfrom%22%3A%22search_job_pc%22%2C%22jobKind%22%3A%222%22%2C%22jobId%22%3A%2240315491%22%2C%22d_curPage%22%3A%220%22%2C%22d_pageSize%22%3A%2240%22%2C%22as_from%22%3A%22search_prime%22%7D',\n     'dataParams': '{\"recruiterName\":\"何先生\",\"imId\":\"261f3414451cbbd6063dfc1b00f6daab\",\"imUserType\":\"2\",\"jobKind\":\"2\",\"userId\":\"24cec64f6f7e7d7c78e0857c11e8d8a9\",\"jobId\":\"40315491\",\"recruiterPhoto\":\"5f8f986bdfb13a7dee342f2108u.jpg\"}'},\n    {'comp': {'compLogo': '5bfea19374719d2aa34c2f5003a.png',\n      'compScale': '100-499人',\n      'compName': '海积信息',\n      'compId': 7862820,\n      'link': 'https://www.liepin.com/company/7862820/',\n      'compIndustry': '电子/半导体/集成电路'},\n     'job': {'labels': [],\n      'pcOuterLink': '',\n      'h5OuterLink': '',\n      'refreshTime': '20231222175612',\n      'title': '销售助理',\n      'topJob': False,\n      'jobKind': '2',\n      'dq': '上海-青浦区',\n      'salary': '5-6k',\n      'link': 'https://www.liepin.com/job/1963747123.shtml',\n      'jobId': '63747123',\n      'requireEduLevel': '本科',\n      'requireWorkYears': '经验不限',\n      'advViewFlag': False,\n      'dataPromId': 'd_sfrom=search_prime&d_ckId=null&d_curPage=0&d_pageSize=40&d_headId=null&d_posi=20&skId=6kgzm7tcrvofclqukj6vmucx0ai9zl79&fkId=6kgzm7tcrvofclqukj6vmucx0ai9zl79&ckId=6kgzm7tcrvofclqukj6vmucx0ai9zl79&sfrom=search_job_pc&curPage=0&pageSize=40&index=20'},\n     'recruiter': {'recruiterName': '李女士',\n      'recruiterTitle': '招聘经理',\n      'imId': '1709e9434c6e452bcf3b784bbdf4fe53',\n      'imUserType': '2',\n      'chatted': False,\n      'recruiterId': '8a211397f28659da42d7456ea5311e80',\n      'recruiterPhoto': '5f8f9866dfb13a7dee342f1808u.jpg'},\n     'dataInfo': '%7B%22ckId%22%3A%226kgzm7tcrvofclqukj6vmucx0ai9zl79%22%2C%22scene%22%3A%22input%22%2C%22skId%22%3A%226kgzm7tcrvofclqukj6vmucx0ai9zl79%22%2C%22fkId%22%3A%226kgzm7tcrvofclqukj6vmucx0ai9zl79%22%2C%22pageSize%22%3A%2240%22%2C%22curPage%22%3A%220%22%2C%22sfrom%22%3A%22search_job_pc%22%2C%22jobKind%22%3A%222%22%2C%22jobId%22%3A%2263747123%22%2C%22d_curPage%22%3A%220%22%2C%22d_pageSize%22%3A%2240%22%2C%22as_from%22%3A%22search_prime%22%7D',\n     'dataParams': '{\"recruiterName\":\"李女士\",\"imId\":\"1709e9434c6e452bcf3b784bbdf4fe53\",\"imUserType\":\"2\",\"jobKind\":\"2\",\"userId\":\"8a211397f28659da42d7456ea5311e80\",\"jobId\":\"63747123\",\"recruiterPhoto\":\"5f8f9866dfb13a7dee342f1808u.jpg\"}'},\n    {'comp': {'compStage': '融资未公开',\n      'compLogo': '5de4a534cd52473b94ea81d001u.jpg',\n      'compScale': '1-49人',\n      'compName': '逸飞环艺',\n      'compId': 10271781,\n      'link': 'https://www.liepin.com/company/10271781/',\n      'compIndustry': '广播/影视/录音'},\n     'job': {'labels': ['媒介媒体', '公关文案', '广告文案', '新媒体文案', '品牌文案'],\n      'pcOuterLink': '',\n      'h5OuterLink': '',\n      'refreshTime': '20191202142033',\n      'title': '文案/策划',\n      'topJob': False,\n      'jobKind': '2',\n      'dq': '上海-黄浦区',\n      'salary': '8-12k·15薪',\n      'link': 'https://www.liepin.com/job/1925062055.shtml',\n      'jobId': '25062055',\n      'requireEduLevel': '本科',\n      'requireWorkYears': '经验不限',\n      'advViewFlag': False,\n      'dataPromId': 'd_sfrom=search_prime&d_ckId=null&d_curPage=0&d_pageSize=40&d_headId=null&d_posi=21&skId=6kgzm7tcrvofclqukj6vmucx0ai9zl79&fkId=6kgzm7tcrvofclqukj6vmucx0ai9zl79&ckId=6kgzm7tcrvofclqukj6vmucx0ai9zl79&sfrom=search_job_pc&curPage=0&pageSize=40&index=21'},\n     'recruiter': {'recruiterName': '曹先生',\n      'recruiterTitle': '执行总监',\n      'imId': 'c38aeec1a843247704612e645251413c',\n      'imUserType': '2',\n      'chatted': False,\n      'recruiterId': '1eeb83c2cf17297ceb3e5c2375ee8923',\n      'recruiterPhoto': '599544e870329b70cf532c9704a.png'},\n     'dataInfo': '%7B%22ckId%22%3A%226kgzm7tcrvofclqukj6vmucx0ai9zl79%22%2C%22scene%22%3A%22input%22%2C%22skId%22%3A%226kgzm7tcrvofclqukj6vmucx0ai9zl79%22%2C%22fkId%22%3A%226kgzm7tcrvofclqukj6vmucx0ai9zl79%22%2C%22pageSize%22%3A%2240%22%2C%22curPage%22%3A%220%22%2C%22sfrom%22%3A%22search_job_pc%22%2C%22jobKind%22%3A%222%22%2C%22jobId%22%3A%2225062055%22%2C%22d_curPage%22%3A%220%22%2C%22d_pageSize%22%3A%2240%22%2C%22as_from%22%3A%22search_prime%22%7D',\n     'dataParams': '{\"recruiterName\":\"曹先生\",\"imId\":\"c38aeec1a843247704612e645251413c\",\"imUserType\":\"2\",\"jobKind\":\"2\",\"userId\":\"1eeb83c2cf17297ceb3e5c2375ee8923\",\"jobId\":\"25062055\",\"recruiterPhoto\":\"599544e870329b70cf532c9704a.png\"}'},\n    {'comp': {'compLogo': '619e42141bd4fb704e67b07204u.jpg',\n      'compScale': '50-99人',\n      'compName': '上海存典展示服务有限公司',\n      'compId': 13685409,\n      'link': 'https://www.liepin.com/company/13685409/',\n      'compIndustry': '金属制品'},\n     'job': {'labels': ['广告设计', '美术设计', '创意设计'],\n      'pcOuterLink': '',\n      'h5OuterLink': '',\n      'refreshTime': '20230919170307',\n      'title': '设计师',\n      'topJob': False,\n      'jobKind': '2',\n      'dq': '上海-奉贤区',\n      'salary': '6-10k·13薪',\n      'link': 'https://www.liepin.com/job/1961763859.shtml',\n      'jobId': '61763859',\n      'requireEduLevel': '学历不限',\n      'requireWorkYears': '经验不限',\n      'advViewFlag': False,\n      'dataPromId': 'd_sfrom=search_prime&d_ckId=null&d_curPage=0&d_pageSize=40&d_headId=null&d_posi=22&skId=6kgzm7tcrvofclqukj6vmucx0ai9zl79&fkId=6kgzm7tcrvofclqukj6vmucx0ai9zl79&ckId=6kgzm7tcrvofclqukj6vmucx0ai9zl79&sfrom=search_job_pc&curPage=0&pageSize=40&index=22'},\n     'recruiter': {'recruiterName': '刘女士',\n      'recruiterTitle': '人事经理',\n      'imId': '2c42672a27c1b9e64cbaecdd9bac9788',\n      'imUserType': '2',\n      'chatted': False,\n      'recruiterId': '90dadaccfd7d3235cbe0b3c7d82c98e8',\n      'recruiterPhoto': '5f8f9865ea60860b75384fa508u.jpg'},\n     'dataInfo': '%7B%22ckId%22%3A%226kgzm7tcrvofclqukj6vmucx0ai9zl79%22%2C%22scene%22%3A%22input%22%2C%22skId%22%3A%226kgzm7tcrvofclqukj6vmucx0ai9zl79%22%2C%22fkId%22%3A%226kgzm7tcrvofclqukj6vmucx0ai9zl79%22%2C%22pageSize%22%3A%2240%22%2C%22curPage%22%3A%220%22%2C%22sfrom%22%3A%22search_job_pc%22%2C%22jobKind%22%3A%222%22%2C%22jobId%22%3A%2261763859%22%2C%22d_curPage%22%3A%220%22%2C%22d_pageSize%22%3A%2240%22%2C%22as_from%22%3A%22search_prime%22%7D',\n     'dataParams': '{\"recruiterName\":\"刘女士\",\"imId\":\"2c42672a27c1b9e64cbaecdd9bac9788\",\"imUserType\":\"2\",\"jobKind\":\"2\",\"userId\":\"90dadaccfd7d3235cbe0b3c7d82c98e8\",\"jobId\":\"61763859\",\"recruiterPhoto\":\"5f8f9865ea60860b75384fa508u.jpg\"}'},\n    {'comp': {'compLogo': '61b07937d0458d53c627567e02u.jpg',\n      'compScale': '',\n      'compName': '湖北金铎电子商务有限公司',\n      'compId': 12708247,\n      'link': 'https://www.liepin.com/company/12708247/',\n      'compIndustry': '批发/零售'},\n     'job': {'labels': ['新媒体运营', '转化变现', '电商运营', '社群运营', '用户运营'],\n      'pcOuterLink': '',\n      'h5OuterLink': '',\n      'refreshTime': '20210926154722',\n      'title': '运营经理',\n      'topJob': False,\n      'jobKind': '2',\n      'dq': '上海',\n      'salary': '12-21k',\n      'link': 'https://www.liepin.com/job/1943564707.shtml',\n      'jobId': '43564707',\n      'requireEduLevel': '本科',\n      'requireWorkYears': '经验不限',\n      'advViewFlag': False,\n      'dataPromId': 'd_sfrom=search_prime&d_ckId=null&d_curPage=0&d_pageSize=40&d_headId=null&d_posi=23&skId=6kgzm7tcrvofclqukj6vmucx0ai9zl79&fkId=6kgzm7tcrvofclqukj6vmucx0ai9zl79&ckId=6kgzm7tcrvofclqukj6vmucx0ai9zl79&sfrom=search_job_pc&curPage=0&pageSize=40&index=23'},\n     'recruiter': {'recruiterName': '鲁女士',\n      'recruiterTitle': '总经理',\n      'imId': 'ec1812dba892a886d6a9d1214a39013b',\n      'imUserType': '2',\n      'chatted': False,\n      'recruiterId': 'd5371dbcd01aff7e1b7012bc07ff189a',\n      'recruiterPhoto': '5f8f9863f6d1ab58476f246a08u.jpg'},\n     'dataInfo': '%7B%22ckId%22%3A%226kgzm7tcrvofclqukj6vmucx0ai9zl79%22%2C%22scene%22%3A%22input%22%2C%22skId%22%3A%226kgzm7tcrvofclqukj6vmucx0ai9zl79%22%2C%22fkId%22%3A%226kgzm7tcrvofclqukj6vmucx0ai9zl79%22%2C%22pageSize%22%3A%2240%22%2C%22curPage%22%3A%220%22%2C%22sfrom%22%3A%22search_job_pc%22%2C%22jobKind%22%3A%222%22%2C%22jobId%22%3A%2243564707%22%2C%22d_curPage%22%3A%220%22%2C%22d_pageSize%22%3A%2240%22%2C%22as_from%22%3A%22search_prime%22%7D',\n     'dataParams': '{\"recruiterName\":\"鲁女士\",\"imId\":\"ec1812dba892a886d6a9d1214a39013b\",\"imUserType\":\"2\",\"jobKind\":\"2\",\"userId\":\"d5371dbcd01aff7e1b7012bc07ff189a\",\"jobId\":\"43564707\",\"recruiterPhoto\":\"5f8f9863f6d1ab58476f246a08u.jpg\"}'},\n    {'comp': {'compLogo': '61b07937d0458d53c627567e02u.jpg',\n      'compScale': '1-49人',\n      'compName': '上海予贝网络科技有限公司',\n      'compId': 12381587,\n      'link': 'https://www.liepin.com/company/12381587/',\n      'compIndustry': '专业技术服务'},\n     'job': {'labels': ['营销策划', '广告创意', '视频内容运营'],\n      'pcOuterLink': '',\n      'h5OuterLink': '',\n      'refreshTime': '20200903152150',\n      'title': '信息流广告编导',\n      'topJob': False,\n      'jobKind': '2',\n      'dq': '上海',\n      'salary': '5-10k',\n      'link': 'https://www.liepin.com/job/1931397715.shtml',\n      'jobId': '31397715',\n      'requireEduLevel': '本科',\n      'requireWorkYears': '经验不限',\n      'advViewFlag': False,\n      'dataPromId': 'd_sfrom=search_prime&d_ckId=null&d_curPage=0&d_pageSize=40&d_headId=null&d_posi=24&skId=6kgzm7tcrvofclqukj6vmucx0ai9zl79&fkId=6kgzm7tcrvofclqukj6vmucx0ai9zl79&ckId=6kgzm7tcrvofclqukj6vmucx0ai9zl79&sfrom=search_job_pc&curPage=0&pageSize=40&index=24'},\n     'recruiter': {'recruiterName': '张女士',\n      'recruiterTitle': 'hr',\n      'imId': '21c4ce29185e1356ad8732728d6065d6',\n      'imUserType': '2',\n      'chatted': False,\n      'recruiterId': '6b01515914a74eb691d900a800785e0b',\n      'recruiterPhoto': '5f8f98648dbe6273dcf8515508u.jpg'},\n     'dataInfo': '%7B%22ckId%22%3A%226kgzm7tcrvofclqukj6vmucx0ai9zl79%22%2C%22scene%22%3A%22input%22%2C%22skId%22%3A%226kgzm7tcrvofclqukj6vmucx0ai9zl79%22%2C%22fkId%22%3A%226kgzm7tcrvofclqukj6vmucx0ai9zl79%22%2C%22pageSize%22%3A%2240%22%2C%22curPage%22%3A%220%22%2C%22sfrom%22%3A%22search_job_pc%22%2C%22jobKind%22%3A%222%22%2C%22jobId%22%3A%2231397715%22%2C%22d_curPage%22%3A%220%22%2C%22d_pageSize%22%3A%2240%22%2C%22as_from%22%3A%22search_prime%22%7D',\n     'dataParams': '{\"recruiterName\":\"张女士\",\"imId\":\"21c4ce29185e1356ad8732728d6065d6\",\"imUserType\":\"2\",\"jobKind\":\"2\",\"userId\":\"6b01515914a74eb691d900a800785e0b\",\"jobId\":\"31397715\",\"recruiterPhoto\":\"5f8f98648dbe6273dcf8515508u.jpg\"}'},\n    {'comp': {'compLogo': '61b07937d0458d53c627567e02u.jpg',\n      'compScale': '1-49人',\n      'compName': '上海顷马信息科技有限公司',\n      'compId': 12919619,\n      'link': 'https://www.liepin.com/company/12919619/',\n      'compIndustry': '计算机软件'},\n     'job': {'labels': ['市场营销', '策划'],\n      'pcOuterLink': '',\n      'h5OuterLink': '',\n      'refreshTime': '20210904134242',\n      'title': '市场专员',\n      'topJob': False,\n      'jobKind': '2',\n      'dq': '上海',\n      'salary': '4-8k·13薪',\n      'link': 'https://www.liepin.com/job/1942912611.shtml',\n      'jobId': '42912611',\n      'requireEduLevel': '学历不限',\n      'requireWorkYears': '经验不限',\n      'advViewFlag': False,\n      'dataPromId': 'd_sfrom=search_prime&d_ckId=null&d_curPage=0&d_pageSize=40&d_headId=null&d_posi=25&skId=6kgzm7tcrvofclqukj6vmucx0ai9zl79&fkId=6kgzm7tcrvofclqukj6vmucx0ai9zl79&ckId=6kgzm7tcrvofclqukj6vmucx0ai9zl79&sfrom=search_job_pc&curPage=0&pageSize=40&index=25'},\n     'recruiter': {'recruiterName': '纪先生',\n      'recruiterTitle': '运营VP/首席运营官COO',\n      'imId': '568014bd73e4ab583c86c318be2f0240',\n      'imUserType': '2',\n      'chatted': False,\n      'recruiterId': '8df88f5992fd5d6e6066bfdd5462c9b3',\n      'recruiterPhoto': '5f8f986aea60860b75384fab08u.jpg'},\n     'dataInfo': '%7B%22ckId%22%3A%226kgzm7tcrvofclqukj6vmucx0ai9zl79%22%2C%22scene%22%3A%22input%22%2C%22skId%22%3A%226kgzm7tcrvofclqukj6vmucx0ai9zl79%22%2C%22fkId%22%3A%226kgzm7tcrvofclqukj6vmucx0ai9zl79%22%2C%22pageSize%22%3A%2240%22%2C%22curPage%22%3A%220%22%2C%22sfrom%22%3A%22search_job_pc%22%2C%22jobKind%22%3A%222%22%2C%22jobId%22%3A%2242912611%22%2C%22d_curPage%22%3A%220%22%2C%22d_pageSize%22%3A%2240%22%2C%22as_from%22%3A%22search_prime%22%7D',\n     'dataParams': '{\"recruiterName\":\"纪先生\",\"imId\":\"568014bd73e4ab583c86c318be2f0240\",\"imUserType\":\"2\",\"jobKind\":\"2\",\"userId\":\"8df88f5992fd5d6e6066bfdd5462c9b3\",\"jobId\":\"42912611\",\"recruiterPhoto\":\"5f8f986aea60860b75384fab08u.jpg\"}'},\n    {'comp': {'compStage': '其他',\n      'compLogo': '5bfe9b2174719df0ac99f62e03a.png',\n      'compScale': '100-499人',\n      'compName': '汇丽涂料',\n      'compId': 7845005,\n      'link': 'https://www.liepin.com/company/7845005/',\n      'compIndustry': '石化'},\n     'job': {'labels': ['市场营销'],\n      'pcOuterLink': '',\n      'h5OuterLink': '',\n      'refreshTime': '20211118180916',\n      'title': '市场专员',\n      'topJob': False,\n      'jobKind': '2',\n      'dq': '上海',\n      'salary': '5-6k',\n      'link': 'https://www.liepin.com/job/1939022295.shtml',\n      'jobId': '39022295',\n      'requireEduLevel': '大专',\n      'requireWorkYears': '经验不限',\n      'advViewFlag': False,\n      'dataPromId': 'd_sfrom=search_prime&d_ckId=null&d_curPage=0&d_pageSize=40&d_headId=null&d_posi=26&skId=6kgzm7tcrvofclqukj6vmucx0ai9zl79&fkId=6kgzm7tcrvofclqukj6vmucx0ai9zl79&ckId=6kgzm7tcrvofclqukj6vmucx0ai9zl79&sfrom=search_job_pc&curPage=0&pageSize=40&index=26'},\n     'recruiter': {'recruiterName': '叶女士',\n      'recruiterTitle': '行政人事部副经理',\n      'imId': '8914a9472477df036042c177f0a1d2b1',\n      'imUserType': '2',\n      'chatted': False,\n      'recruiterId': '0e95b8f00fe7be132975bcd0398957d8',\n      'recruiterPhoto': '54d1e77c712eb4f6b84c48d801a.jpg'},\n     'dataInfo': '%7B%22ckId%22%3A%226kgzm7tcrvofclqukj6vmucx0ai9zl79%22%2C%22scene%22%3A%22input%22%2C%22skId%22%3A%226kgzm7tcrvofclqukj6vmucx0ai9zl79%22%2C%22fkId%22%3A%226kgzm7tcrvofclqukj6vmucx0ai9zl79%22%2C%22pageSize%22%3A%2240%22%2C%22curPage%22%3A%220%22%2C%22sfrom%22%3A%22search_job_pc%22%2C%22jobKind%22%3A%222%22%2C%22jobId%22%3A%2239022295%22%2C%22d_curPage%22%3A%220%22%2C%22d_pageSize%22%3A%2240%22%2C%22as_from%22%3A%22search_prime%22%7D',\n     'dataParams': '{\"recruiterName\":\"叶女士\",\"imId\":\"8914a9472477df036042c177f0a1d2b1\",\"imUserType\":\"2\",\"jobKind\":\"2\",\"userId\":\"0e95b8f00fe7be132975bcd0398957d8\",\"jobId\":\"39022295\",\"recruiterPhoto\":\"54d1e77c712eb4f6b84c48d801a.jpg\"}'},\n    {'comp': {'compLogo': '61b07937d0458d53c627567e02u.jpg',\n      'compScale': '50-99人',\n      'compName': '上海趣存网络科技有限公司',\n      'compId': 13162845,\n      'link': 'https://www.liepin.com/company/13162845/',\n      'compIndustry': '计算机软件'},\n     'job': {'labels': ['新媒体', '面销', 'IT/互联网/软件'],\n      'pcOuterLink': '',\n      'h5OuterLink': '',\n      'refreshTime': '20220327212233',\n      'title': '互联网运营销售',\n      'topJob': False,\n      'jobKind': '2',\n      'dq': '上海-闵行区',\n      'salary': '8-13k',\n      'link': 'https://www.liepin.com/job/1948196445.shtml',\n      'jobId': '48196445',\n      'requireEduLevel': '学历不限',\n      'requireWorkYears': '经验不限',\n      'advViewFlag': False,\n      'dataPromId': 'd_sfrom=search_prime&d_ckId=null&d_curPage=0&d_pageSize=40&d_headId=null&d_posi=27&skId=6kgzm7tcrvofclqukj6vmucx0ai9zl79&fkId=6kgzm7tcrvofclqukj6vmucx0ai9zl79&ckId=6kgzm7tcrvofclqukj6vmucx0ai9zl79&sfrom=search_job_pc&curPage=0&pageSize=40&index=27'},\n     'recruiter': {'recruiterName': '周先生',\n      'recruiterTitle': '销售总经理/销售副总裁',\n      'imId': '22605379cb2ff1c62a3910ac223a8f46',\n      'imUserType': '2',\n      'chatted': False,\n      'recruiterId': 'd65fff1766796a9b20c8e599d6c5eff8',\n      'recruiterPhoto': '5f8f986aea60860b75384fab08u.jpg'},\n     'dataInfo': '%7B%22ckId%22%3A%226kgzm7tcrvofclqukj6vmucx0ai9zl79%22%2C%22scene%22%3A%22input%22%2C%22skId%22%3A%226kgzm7tcrvofclqukj6vmucx0ai9zl79%22%2C%22fkId%22%3A%226kgzm7tcrvofclqukj6vmucx0ai9zl79%22%2C%22pageSize%22%3A%2240%22%2C%22curPage%22%3A%220%22%2C%22sfrom%22%3A%22search_job_pc%22%2C%22jobKind%22%3A%222%22%2C%22jobId%22%3A%2248196445%22%2C%22d_curPage%22%3A%220%22%2C%22d_pageSize%22%3A%2240%22%2C%22as_from%22%3A%22search_prime%22%7D',\n     'dataParams': '{\"recruiterName\":\"周先生\",\"imId\":\"22605379cb2ff1c62a3910ac223a8f46\",\"imUserType\":\"2\",\"jobKind\":\"2\",\"userId\":\"d65fff1766796a9b20c8e599d6c5eff8\",\"jobId\":\"48196445\",\"recruiterPhoto\":\"5f8f986aea60860b75384fab08u.jpg\"}'},\n    {'comp': {'compLogo': '61b07937d0458d53c627567e02u.jpg',\n      'compScale': '100-499人',\n      'compName': '上海向轨网络科技有限公司',\n      'compId': 12150829,\n      'link': 'https://www.liepin.com/company/12150829/',\n      'compIndustry': '计算机软件'},\n     'job': {'labels': [],\n      'pcOuterLink': '',\n      'h5OuterLink': '',\n      'refreshTime': '20200406191337',\n      'title': '运营助理',\n      'topJob': False,\n      'jobKind': '2',\n      'dq': '上海-松江区',\n      'salary': '4-6k',\n      'link': 'https://www.liepin.com/job/1925906551.shtml',\n      'jobId': '25906551',\n      'requireEduLevel': '大专',\n      'requireWorkYears': '经验不限',\n      'advViewFlag': False,\n      'dataPromId': 'd_sfrom=search_prime&d_ckId=null&d_curPage=0&d_pageSize=40&d_headId=null&d_posi=28&skId=6kgzm7tcrvofclqukj6vmucx0ai9zl79&fkId=6kgzm7tcrvofclqukj6vmucx0ai9zl79&ckId=6kgzm7tcrvofclqukj6vmucx0ai9zl79&sfrom=search_job_pc&curPage=0&pageSize=40&index=28'},\n     'recruiter': {'recruiterName': '何先生',\n      'recruiterTitle': '人力资源总监',\n      'imId': '706909ed985d27b9cc809655362a8e54',\n      'imUserType': '2',\n      'chatted': False,\n      'recruiterId': 'b42a07129c3d9c7657b6a148a95065a5',\n      'recruiterPhoto': '5f8f986bdfb13a7dee342f2108u.jpg'},\n     'dataInfo': '%7B%22ckId%22%3A%226kgzm7tcrvofclqukj6vmucx0ai9zl79%22%2C%22scene%22%3A%22input%22%2C%22skId%22%3A%226kgzm7tcrvofclqukj6vmucx0ai9zl79%22%2C%22fkId%22%3A%226kgzm7tcrvofclqukj6vmucx0ai9zl79%22%2C%22pageSize%22%3A%2240%22%2C%22curPage%22%3A%220%22%2C%22sfrom%22%3A%22search_job_pc%22%2C%22jobKind%22%3A%222%22%2C%22jobId%22%3A%2225906551%22%2C%22d_curPage%22%3A%220%22%2C%22d_pageSize%22%3A%2240%22%2C%22as_from%22%3A%22search_prime%22%7D',\n     'dataParams': '{\"recruiterName\":\"何先生\",\"imId\":\"706909ed985d27b9cc809655362a8e54\",\"imUserType\":\"2\",\"jobKind\":\"2\",\"userId\":\"b42a07129c3d9c7657b6a148a95065a5\",\"jobId\":\"25906551\",\"recruiterPhoto\":\"5f8f986bdfb13a7dee342f2108u.jpg\"}'},\n    {'comp': {'compLogo': '61b07937d0458d53c627567e02u.jpg',\n      'compScale': '50-99人',\n      'compName': '上海蓝京贸易调剂有限公司',\n      'compId': 12420287,\n      'link': 'https://www.liepin.com/company/12420287/',\n      'compIndustry': '批发/零售'},\n     'job': {'labels': ['营销策划', '广告投放', '网络营销'],\n      'pcOuterLink': '',\n      'h5OuterLink': '',\n      'refreshTime': '20201003152249',\n      'title': '抖音运营实习生',\n      'topJob': False,\n      'jobKind': '2',\n      'dq': '上海-黄浦区',\n      'salary': '5-8k',\n      'link': 'https://www.liepin.com/job/1932379815.shtml',\n      'jobId': '32379815',\n      'requireEduLevel': '学历不限',\n      'requireWorkYears': '经验不限',\n      'advViewFlag': False,\n      'dataPromId': 'd_sfrom=search_prime&d_ckId=null&d_curPage=0&d_pageSize=40&d_headId=null&d_posi=29&skId=6kgzm7tcrvofclqukj6vmucx0ai9zl79&fkId=6kgzm7tcrvofclqukj6vmucx0ai9zl79&ckId=6kgzm7tcrvofclqukj6vmucx0ai9zl79&sfrom=search_job_pc&curPage=0&pageSize=40&index=29'},\n     'recruiter': {'recruiterName': '薛女士',\n      'recruiterTitle': '人力资源总监',\n      'imId': '43e4d1a938c944974036597854bcf58c',\n      'imUserType': '2',\n      'chatted': False,\n      'recruiterId': 'd1edf4fce5b4c3af8d9ea85431a6af9f',\n      'recruiterPhoto': '5f759fbaea60860b752e04fd08u.png'},\n     'dataInfo': '%7B%22ckId%22%3A%226kgzm7tcrvofclqukj6vmucx0ai9zl79%22%2C%22scene%22%3A%22input%22%2C%22skId%22%3A%226kgzm7tcrvofclqukj6vmucx0ai9zl79%22%2C%22fkId%22%3A%226kgzm7tcrvofclqukj6vmucx0ai9zl79%22%2C%22pageSize%22%3A%2240%22%2C%22curPage%22%3A%220%22%2C%22sfrom%22%3A%22search_job_pc%22%2C%22jobKind%22%3A%222%22%2C%22jobId%22%3A%2232379815%22%2C%22d_curPage%22%3A%220%22%2C%22d_pageSize%22%3A%2240%22%2C%22as_from%22%3A%22search_prime%22%7D',\n     'dataParams': '{\"recruiterName\":\"薛女士\",\"imId\":\"43e4d1a938c944974036597854bcf58c\",\"imUserType\":\"2\",\"jobKind\":\"2\",\"userId\":\"d1edf4fce5b4c3af8d9ea85431a6af9f\",\"jobId\":\"32379815\",\"recruiterPhoto\":\"5f759fbaea60860b752e04fd08u.png\"}'},\n    {'comp': {'compLogo': '652fa621b31f5c6e109dd24d02u.jpg',\n      'compScale': '1-49人',\n      'compName': '千语智彤',\n      'compId': 13646267,\n      'link': 'https://www.liepin.com/company/13646267/',\n      'compIndustry': '文化艺术业'},\n     'job': {'labels': ['电影传媒',\n       '广告策划',\n       '文案策划',\n       '户外媒介',\n       '传统媒介',\n       '乙方公司背景',\n       '广告/传媒/文化'],\n      'pcOuterLink': '',\n      'h5OuterLink': '',\n      'refreshTime': '20231215161444',\n      'title': '广告策划经理',\n      'topJob': False,\n      'jobKind': '2',\n      'dq': '上海-徐汇区',\n      'salary': '8-10k',\n      'link': 'https://www.liepin.com/job/1962199805.shtml',\n      'jobId': '62199805',\n      'requireEduLevel': '本科',\n      'requireWorkYears': '3-5年',\n      'advViewFlag': False,\n      'dataPromId': 'd_sfrom=search_prime&d_ckId=null&d_curPage=0&d_pageSize=40&d_headId=null&d_posi=30&skId=6kgzm7tcrvofclqukj6vmucx0ai9zl79&fkId=6kgzm7tcrvofclqukj6vmucx0ai9zl79&ckId=6kgzm7tcrvofclqukj6vmucx0ai9zl79&sfrom=search_job_pc&curPage=0&pageSize=40&index=30'},\n     'recruiter': {'recruiterName': '宋女士',\n      'recruiterTitle': '人事总监',\n      'imId': 'b244958062eb0c38e7b184a1ccff1ea4',\n      'imUserType': '2',\n      'chatted': False,\n      'recruiterId': 'f69732438414537b7db77b0a8f846828',\n      'recruiterPhoto': '64f85453af493b045620bfad03u.png'},\n     'dataInfo': '%7B%22ckId%22%3A%226kgzm7tcrvofclqukj6vmucx0ai9zl79%22%2C%22scene%22%3A%22input%22%2C%22skId%22%3A%226kgzm7tcrvofclqukj6vmucx0ai9zl79%22%2C%22fkId%22%3A%226kgzm7tcrvofclqukj6vmucx0ai9zl79%22%2C%22pageSize%22%3A%2240%22%2C%22curPage%22%3A%220%22%2C%22sfrom%22%3A%22search_job_pc%22%2C%22jobKind%22%3A%222%22%2C%22jobId%22%3A%2262199805%22%2C%22d_curPage%22%3A%220%22%2C%22d_pageSize%22%3A%2240%22%2C%22as_from%22%3A%22search_prime%22%7D',\n     'dataParams': '{\"recruiterName\":\"宋女士\",\"imId\":\"b244958062eb0c38e7b184a1ccff1ea4\",\"imUserType\":\"2\",\"jobKind\":\"2\",\"userId\":\"f69732438414537b7db77b0a8f846828\",\"jobId\":\"62199805\",\"recruiterPhoto\":\"64f85453af493b045620bfad03u.png\"}'},\n    {'comp': {'compStage': 'D轮',\n      'compLogo': '5952248270327b30a4cc59d605a.jpg',\n      'compScale': '1000-2000人',\n      'compName': '小红书',\n      'compId': 7921271,\n      'link': 'https://www.liepin.com/company/7921271/',\n      'compIndustry': '互联网'},\n     'job': {'labels': ['网站策划',\n       '文案策划',\n       '网络媒体',\n       '网络媒介',\n       '广告/传媒/文化',\n       'IT/互联网/软件',\n       '服务业'],\n      'pcOuterLink': '',\n      'h5OuterLink': '',\n      'refreshTime': '20230324120117',\n      'title': '商业化广告策划-母婴行业',\n      'topJob': False,\n      'jobKind': '2',\n      'dq': '上海-黄浦区',\n      'salary': '20-40k·15薪',\n      'link': 'https://www.liepin.com/job/1955304185.shtml',\n      'jobId': '55304185',\n      'requireEduLevel': '本科',\n      'requireWorkYears': '3-5年',\n      'advViewFlag': False,\n      'dataPromId': 'd_sfrom=search_prime&d_ckId=null&d_curPage=0&d_pageSize=40&d_headId=null&d_posi=31&skId=6kgzm7tcrvofclqukj6vmucx0ai9zl79&fkId=6kgzm7tcrvofclqukj6vmucx0ai9zl79&ckId=6kgzm7tcrvofclqukj6vmucx0ai9zl79&sfrom=search_job_pc&curPage=0&pageSize=40&index=31'},\n     'recruiter': {'recruiterName': '熊女士',\n      'recruiterTitle': 'hr',\n      'imId': 'f55503b3057ce2051acc4b10d8803776',\n      'imUserType': '2',\n      'chatted': False,\n      'recruiterId': '1758d4eb6013f023a30bb45c772903a1',\n      'recruiterPhoto': '5f8f9863f6d1ab58476f246a08u.jpg'},\n     'dataInfo': '%7B%22ckId%22%3A%226kgzm7tcrvofclqukj6vmucx0ai9zl79%22%2C%22scene%22%3A%22input%22%2C%22skId%22%3A%226kgzm7tcrvofclqukj6vmucx0ai9zl79%22%2C%22fkId%22%3A%226kgzm7tcrvofclqukj6vmucx0ai9zl79%22%2C%22pageSize%22%3A%2240%22%2C%22curPage%22%3A%220%22%2C%22sfrom%22%3A%22search_job_pc%22%2C%22jobKind%22%3A%222%22%2C%22jobId%22%3A%2255304185%22%2C%22d_curPage%22%3A%220%22%2C%22d_pageSize%22%3A%2240%22%2C%22as_from%22%3A%22search_prime%22%7D',\n     'dataParams': '{\"recruiterName\":\"熊女士\",\"imId\":\"f55503b3057ce2051acc4b10d8803776\",\"imUserType\":\"2\",\"jobKind\":\"2\",\"userId\":\"1758d4eb6013f023a30bb45c772903a1\",\"jobId\":\"55304185\",\"recruiterPhoto\":\"5f8f9863f6d1ab58476f246a08u.jpg\"}'},\n    {'comp': {'compStage': 'D轮',\n      'compLogo': '5952248270327b30a4cc59d605a.jpg',\n      'compScale': '1000-2000人',\n      'compName': '小红书',\n      'compId': 7921271,\n      'link': 'https://www.liepin.com/company/7921271/',\n      'compIndustry': '互联网'},\n     'job': {'labels': ['网站策划',\n       '文案策划',\n       '网络媒体',\n       '网络媒介',\n       '广告/传媒/文化',\n       'IT/互联网/软件'],\n      'pcOuterLink': '',\n      'h5OuterLink': '',\n      'refreshTime': '20230303093945',\n      'title': '商业化广告策划-大健康行业',\n      'topJob': False,\n      'jobKind': '2',\n      'dq': '上海-黄浦区',\n      'salary': '20-40k·15薪',\n      'link': 'https://www.liepin.com/job/1956659041.shtml',\n      'jobId': '56659041',\n      'requireEduLevel': '本科',\n      'requireWorkYears': '3-5年',\n      'advViewFlag': False,\n      'dataPromId': 'd_sfrom=search_prime&d_ckId=null&d_curPage=0&d_pageSize=40&d_headId=null&d_posi=32&skId=6kgzm7tcrvofclqukj6vmucx0ai9zl79&fkId=6kgzm7tcrvofclqukj6vmucx0ai9zl79&ckId=6kgzm7tcrvofclqukj6vmucx0ai9zl79&sfrom=search_job_pc&curPage=0&pageSize=40&index=32'},\n     'recruiter': {'recruiterName': '白女士',\n      'recruiterTitle': 'hr',\n      'imId': 'a4b4d56941978be2fbc645f98a948c5b',\n      'imUserType': '2',\n      'chatted': False,\n      'recruiterId': '7cbd01d351415a15199e859559a1e25d',\n      'recruiterPhoto': '5f8f9866dfb13a7dee342f1808u.jpg'},\n     'dataInfo': '%7B%22ckId%22%3A%226kgzm7tcrvofclqukj6vmucx0ai9zl79%22%2C%22scene%22%3A%22input%22%2C%22skId%22%3A%226kgzm7tcrvofclqukj6vmucx0ai9zl79%22%2C%22fkId%22%3A%226kgzm7tcrvofclqukj6vmucx0ai9zl79%22%2C%22pageSize%22%3A%2240%22%2C%22curPage%22%3A%220%22%2C%22sfrom%22%3A%22search_job_pc%22%2C%22jobKind%22%3A%222%22%2C%22jobId%22%3A%2256659041%22%2C%22d_curPage%22%3A%220%22%2C%22d_pageSize%22%3A%2240%22%2C%22as_from%22%3A%22search_prime%22%7D',\n     'dataParams': '{\"recruiterName\":\"白女士\",\"imId\":\"a4b4d56941978be2fbc645f98a948c5b\",\"imUserType\":\"2\",\"jobKind\":\"2\",\"userId\":\"7cbd01d351415a15199e859559a1e25d\",\"jobId\":\"56659041\",\"recruiterPhoto\":\"5f8f9866dfb13a7dee342f1808u.jpg\"}'},\n    {'comp': {'compStage': 'D轮',\n      'compLogo': '5952248270327b30a4cc59d605a.jpg',\n      'compScale': '1000-2000人',\n      'compName': '小红书',\n      'compId': 7921271,\n      'link': 'https://www.liepin.com/company/7921271/',\n      'compIndustry': '互联网'},\n     'job': {'labels': ['网站策划',\n       '文案策划',\n       '网络媒体',\n       '网络媒介',\n       '广告/传媒/文化',\n       'IT/互联网/软件'],\n      'pcOuterLink': '',\n      'h5OuterLink': '',\n      'refreshTime': '20230516151747',\n      'title': '酒水饮料商业广告策划',\n      'topJob': False,\n      'jobKind': '2',\n      'dq': '上海-黄浦区',\n      'salary': '20-40k·15薪',\n      'link': 'https://www.liepin.com/job/1958589485.shtml',\n      'jobId': '58589485',\n      'requireEduLevel': '统招本科',\n      'requireWorkYears': '3-5年',\n      'advViewFlag': False,\n      'dataPromId': 'd_sfrom=search_prime&d_ckId=null&d_curPage=0&d_pageSize=40&d_headId=null&d_posi=33&skId=6kgzm7tcrvofclqukj6vmucx0ai9zl79&fkId=6kgzm7tcrvofclqukj6vmucx0ai9zl79&ckId=6kgzm7tcrvofclqukj6vmucx0ai9zl79&sfrom=search_job_pc&curPage=0&pageSize=40&index=33'},\n     'recruiter': {'recruiterName': '白女士',\n      'recruiterTitle': 'hr',\n      'imId': 'a4b4d56941978be2fbc645f98a948c5b',\n      'imUserType': '2',\n      'chatted': False,\n      'recruiterId': '7cbd01d351415a15199e859559a1e25d',\n      'recruiterPhoto': '5f8f9866dfb13a7dee342f1808u.jpg'},\n     'dataInfo': '%7B%22ckId%22%3A%226kgzm7tcrvofclqukj6vmucx0ai9zl79%22%2C%22scene%22%3A%22input%22%2C%22skId%22%3A%226kgzm7tcrvofclqukj6vmucx0ai9zl79%22%2C%22fkId%22%3A%226kgzm7tcrvofclqukj6vmucx0ai9zl79%22%2C%22pageSize%22%3A%2240%22%2C%22curPage%22%3A%220%22%2C%22sfrom%22%3A%22search_job_pc%22%2C%22jobKind%22%3A%222%22%2C%22jobId%22%3A%2258589485%22%2C%22d_curPage%22%3A%220%22%2C%22d_pageSize%22%3A%2240%22%2C%22as_from%22%3A%22search_prime%22%7D',\n     'dataParams': '{\"recruiterName\":\"白女士\",\"imId\":\"a4b4d56941978be2fbc645f98a948c5b\",\"imUserType\":\"2\",\"jobKind\":\"2\",\"userId\":\"7cbd01d351415a15199e859559a1e25d\",\"jobId\":\"58589485\",\"recruiterPhoto\":\"5f8f9866dfb13a7dee342f1808u.jpg\"}'},\n    {'comp': {'compStage': 'D轮及以上',\n      'compLogo': '60e2fe0bf3df194a3c48adb502u.png',\n      'compScale': '1000-2000人',\n      'compName': '某上海大型互联网公司',\n      'link': '',\n      'compIndustry': '互联网'},\n     'job': {'labels': ['平台调性和特色输出完整的策划', '对标阿里P8职级'],\n      'refreshTime': '20231222091453',\n      'title': '生活服务行业 广告策划',\n      'topJob': False,\n      'jobKind': '1',\n      'dq': '上海',\n      'salary': '70-100k',\n      'link': 'https://www.liepin.com/a/51766697.shtml',\n      'jobId': '51766697',\n      'requireEduLevel': '统招本科',\n      'requireWorkYears': '5-10年',\n      'advViewFlag': False,\n      'dataPromId': 'd_sfrom=search_prime&d_ckId=null&d_curPage=0&d_pageSize=40&d_headId=null&d_posi=34&skId=6kgzm7tcrvofclqukj6vmucx0ai9zl79&fkId=6kgzm7tcrvofclqukj6vmucx0ai9zl79&ckId=6kgzm7tcrvofclqukj6vmucx0ai9zl79&sfrom=search_job_pc&curPage=0&pageSize=40&index=34'},\n     'recruiter': {'recruiterName': '郑女士',\n      'recruiterTitle': '猎头顾问',\n      'imId': '9bf4247c348a32a999c5c4fb06d115ec',\n      'imUserType': '2',\n      'chatted': False,\n      'recruiterId': '85d7d741386e59fa985d229e655b5a1a',\n      'recruiterPhoto': '644b7501f9ae2348111e2a0608u.png'},\n     'dataInfo': '%7B%22ckId%22%3A%226kgzm7tcrvofclqukj6vmucx0ai9zl79%22%2C%22scene%22%3A%22input%22%2C%22skId%22%3A%226kgzm7tcrvofclqukj6vmucx0ai9zl79%22%2C%22fkId%22%3A%226kgzm7tcrvofclqukj6vmucx0ai9zl79%22%2C%22pageSize%22%3A%2240%22%2C%22curPage%22%3A%220%22%2C%22sfrom%22%3A%22search_job_pc%22%2C%22jobKind%22%3A%221%22%2C%22jobId%22%3A%2251766697%22%2C%22d_curPage%22%3A%220%22%2C%22d_pageSize%22%3A%2240%22%2C%22as_from%22%3A%22search_prime%22%7D',\n     'dataParams': '{\"recruiterName\":\"郑女士\",\"imId\":\"9bf4247c348a32a999c5c4fb06d115ec\",\"imUserType\":\"2\",\"jobKind\":\"1\",\"userId\":\"85d7d741386e59fa985d229e655b5a1a\",\"jobId\":\"51766697\",\"recruiterPhoto\":\"644b7501f9ae2348111e2a0608u.png\"}'},\n    {'comp': {'compStage': '港股上市',\n      'compLogo': '5f3b73cb9d37de587955cfe104u.png',\n      'compScale': '10000人以上',\n      'compName': '京东物流',\n      'compId': 9770323,\n      'link': 'https://www.liepin.com/company/9770323/',\n      'compIndustry': '货运/物流/仓储'},\n     'job': {'labels': ['文案策划',\n       '媒介策划',\n       '网站策划',\n       '广告策划',\n       '营销策划',\n       '客户管理',\n       '网络媒体',\n       '移动媒体',\n       '广告媒体',\n       '乙方公司背景'],\n      'pcOuterLink': '',\n      'h5OuterLink': '',\n      'refreshTime': '20230504175401',\n      'title': '广告策划高级经理',\n      'topJob': False,\n      'jobKind': '2',\n      'dq': '上海-嘉定区',\n      'salary': '15-35k·15薪',\n      'link': 'https://www.liepin.com/job/1958273773.shtml',\n      'jobId': '58273773',\n      'requireEduLevel': '本科',\n      'requireWorkYears': '3-5年',\n      'advViewFlag': False,\n      'dataPromId': 'd_sfrom=search_prime&d_ckId=null&d_curPage=0&d_pageSize=40&d_headId=null&d_posi=35&skId=6kgzm7tcrvofclqukj6vmucx0ai9zl79&fkId=6kgzm7tcrvofclqukj6vmucx0ai9zl79&ckId=6kgzm7tcrvofclqukj6vmucx0ai9zl79&sfrom=search_job_pc&curPage=0&pageSize=40&index=35'},\n     'recruiter': {'recruiterName': '黄女士',\n      'recruiterTitle': '招聘经理',\n      'imId': '26589f3a62c07bda36d8c7038f74fcb7',\n      'imUserType': '2',\n      'chatted': False,\n      'recruiterId': 'aadd6feb5284fb88fe617cf9abcae704',\n      'recruiterPhoto': '64b290564767061a4c09cecc04u.png'},\n     'dataInfo': '%7B%22ckId%22%3A%226kgzm7tcrvofclqukj6vmucx0ai9zl79%22%2C%22scene%22%3A%22input%22%2C%22skId%22%3A%226kgzm7tcrvofclqukj6vmucx0ai9zl79%22%2C%22fkId%22%3A%226kgzm7tcrvofclqukj6vmucx0ai9zl79%22%2C%22pageSize%22%3A%2240%22%2C%22curPage%22%3A%220%22%2C%22sfrom%22%3A%22search_job_pc%22%2C%22jobKind%22%3A%222%22%2C%22jobId%22%3A%2258273773%22%2C%22d_curPage%22%3A%220%22%2C%22d_pageSize%22%3A%2240%22%2C%22as_from%22%3A%22search_prime%22%7D',\n     'dataParams': '{\"recruiterName\":\"黄女士\",\"imId\":\"26589f3a62c07bda36d8c7038f74fcb7\",\"imUserType\":\"2\",\"jobKind\":\"2\",\"userId\":\"aadd6feb5284fb88fe617cf9abcae704\",\"jobId\":\"58273773\",\"recruiterPhoto\":\"64b290564767061a4c09cecc04u.png\"}'},\n    {'comp': {'compStage': '融资未公开',\n      'compLogo': '5513cbc20cf2de3b2e1d28b701a.jpg',\n      'compScale': '1-49人',\n      'compName': '上海萌尔克文化传播有限公司',\n      'compId': 8440876,\n      'link': 'https://www.liepin.com/company/8440876/',\n      'compIndustry': '广告/公关/会展'},\n     'job': {'labels': ['广告策划', 'KOL', '广告媒介'],\n      'pcOuterLink': '',\n      'h5OuterLink': '',\n      'refreshTime': '20230111102934',\n      'title': '广告策划',\n      'topJob': False,\n      'jobKind': '2',\n      'dq': '上海',\n      'salary': '12-18k·13薪',\n      'link': 'https://www.liepin.com/job/1948397647.shtml',\n      'jobId': '48397647',\n      'requireEduLevel': '统招本科',\n      'requireWorkYears': '1-3年',\n      'advViewFlag': False,\n      'dataPromId': 'd_sfrom=search_prime&d_ckId=null&d_curPage=0&d_pageSize=40&d_headId=null&d_posi=36&skId=6kgzm7tcrvofclqukj6vmucx0ai9zl79&fkId=6kgzm7tcrvofclqukj6vmucx0ai9zl79&ckId=6kgzm7tcrvofclqukj6vmucx0ai9zl79&sfrom=search_job_pc&curPage=0&pageSize=40&index=36'},\n     'recruiter': {'recruiterName': '应先生',\n      'recruiterTitle': 'HR',\n      'imId': '361c2cc6afb54c5b062c1b1ee9c7454d',\n      'imUserType': '2',\n      'chatted': False,\n      'recruiterId': '499968e9be21bd7e3829e65eddd95de3',\n      'recruiterPhoto': '5f8f986aea60860b75384fab08u.jpg'},\n     'dataInfo': '%7B%22ckId%22%3A%226kgzm7tcrvofclqukj6vmucx0ai9zl79%22%2C%22scene%22%3A%22input%22%2C%22skId%22%3A%226kgzm7tcrvofclqukj6vmucx0ai9zl79%22%2C%22fkId%22%3A%226kgzm7tcrvofclqukj6vmucx0ai9zl79%22%2C%22pageSize%22%3A%2240%22%2C%22curPage%22%3A%220%22%2C%22sfrom%22%3A%22search_job_pc%22%2C%22jobKind%22%3A%222%22%2C%22jobId%22%3A%2248397647%22%2C%22d_curPage%22%3A%220%22%2C%22d_pageSize%22%3A%2240%22%2C%22as_from%22%3A%22search_prime%22%7D',\n     'dataParams': '{\"recruiterName\":\"应先生\",\"imId\":\"361c2cc6afb54c5b062c1b1ee9c7454d\",\"imUserType\":\"2\",\"jobKind\":\"2\",\"userId\":\"499968e9be21bd7e3829e65eddd95de3\",\"jobId\":\"48397647\",\"recruiterPhoto\":\"5f8f986aea60860b75384fab08u.jpg\"}'},\n    {'comp': {'compStage': '美股上市',\n      'compLogo': '5bfe93af74719d9f609aaaef03a.png',\n      'compScale': '10000人以上',\n      'compName': 'Baidu',\n      'compId': 884492,\n      'link': 'https://www.liepin.com/company/884492/',\n      'compIndustry': '互联网'},\n     'job': {'labels': [],\n      'pcOuterLink': '',\n      'h5OuterLink': '',\n      'refreshTime': '20220801201628',\n      'title': '广告策划运营',\n      'topJob': False,\n      'jobKind': '2',\n      'dq': '上海-浦东新区',\n      'salary': '20-35k·16薪',\n      'link': 'https://www.liepin.com/job/1951559471.shtml',\n      'jobId': '51559471',\n      'requireEduLevel': '本科',\n      'requireWorkYears': '5-10年',\n      'advViewFlag': False,\n      'dataPromId': 'd_sfrom=search_prime&d_ckId=null&d_curPage=0&d_pageSize=40&d_headId=null&d_posi=37&skId=6kgzm7tcrvofclqukj6vmucx0ai9zl79&fkId=6kgzm7tcrvofclqukj6vmucx0ai9zl79&ckId=6kgzm7tcrvofclqukj6vmucx0ai9zl79&sfrom=search_job_pc&curPage=0&pageSize=40&index=37'},\n     'recruiter': {'recruiterName': '李女士',\n      'recruiterTitle': '市场经理',\n      'imId': '7f39f748a96642b5f4067025f1d6ce6f',\n      'imUserType': '2',\n      'chatted': False,\n      'recruiterId': 'db75ed61406d3107ce2ed62f8a220a77',\n      'recruiterPhoto': '5f8f986779c7cc70efbf36c008u.jpg'},\n     'dataInfo': '%7B%22ckId%22%3A%226kgzm7tcrvofclqukj6vmucx0ai9zl79%22%2C%22scene%22%3A%22input%22%2C%22skId%22%3A%226kgzm7tcrvofclqukj6vmucx0ai9zl79%22%2C%22fkId%22%3A%226kgzm7tcrvofclqukj6vmucx0ai9zl79%22%2C%22pageSize%22%3A%2240%22%2C%22curPage%22%3A%220%22%2C%22sfrom%22%3A%22search_job_pc%22%2C%22jobKind%22%3A%222%22%2C%22jobId%22%3A%2251559471%22%2C%22d_curPage%22%3A%220%22%2C%22d_pageSize%22%3A%2240%22%2C%22as_from%22%3A%22search_prime%22%7D',\n     'dataParams': '{\"recruiterName\":\"李女士\",\"imId\":\"7f39f748a96642b5f4067025f1d6ce6f\",\"imUserType\":\"2\",\"jobKind\":\"2\",\"userId\":\"db75ed61406d3107ce2ed62f8a220a77\",\"jobId\":\"51559471\",\"recruiterPhoto\":\"5f8f986779c7cc70efbf36c008u.jpg\"}'},\n    {'comp': {'compStage': 'B轮',\n      'compLogo': '5bfea0a674719d2aa34c012803a.png',\n      'compScale': '500-999人',\n      'compName': '美宁软件',\n      'compId': 7917369,\n      'link': 'https://www.liepin.com/company/7917369/',\n      'compIndustry': '互联网'},\n     'job': {'labels': ['公关文案', '新媒体文案', '活动文案', '渠道推广'],\n      'pcOuterLink': '',\n      'h5OuterLink': '',\n      'refreshTime': '20210510142617',\n      'title': '资深广告策划',\n      'topJob': False,\n      'jobKind': '2',\n      'dq': '上海-长宁区',\n      'salary': '10-20k',\n      'link': 'https://www.liepin.com/job/1930888969.shtml',\n      'jobId': '30888969',\n      'requireEduLevel': '本科',\n      'requireWorkYears': '3-5年',\n      'advViewFlag': False,\n      'dataPromId': 'd_sfrom=search_prime&d_ckId=null&d_curPage=0&d_pageSize=40&d_headId=null&d_posi=38&skId=6kgzm7tcrvofclqukj6vmucx0ai9zl79&fkId=6kgzm7tcrvofclqukj6vmucx0ai9zl79&ckId=6kgzm7tcrvofclqukj6vmucx0ai9zl79&sfrom=search_job_pc&curPage=0&pageSize=40&index=38'},\n     'recruiter': {'recruiterName': '王女士',\n      'recruiterTitle': '资深广告策划',\n      'imId': 'f1bd39cef69adcf28fa263ed17de85b1',\n      'imUserType': '2',\n      'chatted': False,\n      'recruiterId': '912a30f19d493c65b4d6707a5c7b20db',\n      'recruiterPhoto': '5f8f98648dbe6273dcf8515508u.jpg'},\n     'dataInfo': '%7B%22ckId%22%3A%226kgzm7tcrvofclqukj6vmucx0ai9zl79%22%2C%22scene%22%3A%22input%22%2C%22skId%22%3A%226kgzm7tcrvofclqukj6vmucx0ai9zl79%22%2C%22fkId%22%3A%226kgzm7tcrvofclqukj6vmucx0ai9zl79%22%2C%22pageSize%22%3A%2240%22%2C%22curPage%22%3A%220%22%2C%22sfrom%22%3A%22search_job_pc%22%2C%22jobKind%22%3A%222%22%2C%22jobId%22%3A%2230888969%22%2C%22d_curPage%22%3A%220%22%2C%22d_pageSize%22%3A%2240%22%2C%22as_from%22%3A%22search_prime%22%7D',\n     'dataParams': '{\"recruiterName\":\"王女士\",\"imId\":\"f1bd39cef69adcf28fa263ed17de85b1\",\"imUserType\":\"2\",\"jobKind\":\"2\",\"userId\":\"912a30f19d493c65b4d6707a5c7b20db\",\"jobId\":\"30888969\",\"recruiterPhoto\":\"5f8f98648dbe6273dcf8515508u.jpg\"}'},\n    {'comp': {'compStage': '融资未公开',\n      'compLogo': '617a1cb8afa07b12e6e39aab07u.jpg',\n      'compScale': '1-49人',\n      'compName': '上海众腾网络',\n      'compId': 9538095,\n      'link': 'https://www.liepin.com/company/9538095/',\n      'compIndustry': '广告/公关/会展'},\n     'job': {'labels': ['广告策划',\n       '品牌策划',\n       '营销策划',\n       '广告媒介',\n       'MCN',\n       '社交媒体',\n       '社交媒介',\n       '广告/传媒/文化'],\n      'pcOuterLink': '',\n      'h5OuterLink': '',\n      'refreshTime': '20220115113536',\n      'title': '广告策划',\n      'topJob': False,\n      'jobKind': '2',\n      'dq': '上海-普陀区',\n      'salary': '8-15k',\n      'link': 'https://www.liepin.com/job/1944112105.shtml',\n      'jobId': '44112105',\n      'requireEduLevel': '本科',\n      'requireWorkYears': '1-3年',\n      'advViewFlag': False,\n      'dataPromId': 'd_sfrom=search_prime&d_ckId=null&d_curPage=0&d_pageSize=40&d_headId=null&d_posi=39&skId=6kgzm7tcrvofclqukj6vmucx0ai9zl79&fkId=6kgzm7tcrvofclqukj6vmucx0ai9zl79&ckId=6kgzm7tcrvofclqukj6vmucx0ai9zl79&sfrom=search_job_pc&curPage=0&pageSize=40&index=39'},\n     'recruiter': {'recruiterName': '洪女士',\n      'recruiterTitle': 'HR',\n      'imId': '55377d294232a6e2655b7446ba4011f6',\n      'imUserType': '2',\n      'chatted': False,\n      'recruiterId': '8c0a8c209a212f433ef2a5046ca84395',\n      'recruiterPhoto': '5f8f9866dfb13a7dee342f1808u.jpg'},\n     'dataInfo': '%7B%22ckId%22%3A%226kgzm7tcrvofclqukj6vmucx0ai9zl79%22%2C%22scene%22%3A%22input%22%2C%22skId%22%3A%226kgzm7tcrvofclqukj6vmucx0ai9zl79%22%2C%22fkId%22%3A%226kgzm7tcrvofclqukj6vmucx0ai9zl79%22%2C%22pageSize%22%3A%2240%22%2C%22curPage%22%3A%220%22%2C%22sfrom%22%3A%22search_job_pc%22%2C%22jobKind%22%3A%222%22%2C%22jobId%22%3A%2244112105%22%2C%22d_curPage%22%3A%220%22%2C%22d_pageSize%22%3A%2240%22%2C%22as_from%22%3A%22search_prime%22%7D',\n     'dataParams': '{\"recruiterName\":\"洪女士\",\"imId\":\"55377d294232a6e2655b7446ba4011f6\",\"imUserType\":\"2\",\"jobKind\":\"2\",\"userId\":\"8c0a8c209a212f433ef2a5046ca84395\",\"jobId\":\"44112105\",\"recruiterPhoto\":\"5f8f9866dfb13a7dee342f1808u.jpg\"}'}],\n   'jobSubscribeInfo': {'keyword': '广告策划',\n    'qrUrl': 'https://mp.weixin.qq.com/cgi-bin/showqrcode?ticket=gQFV8TwAAAAAAAAAAS5odHRwOi8vd2VpeGluLnFxLmNvbS9xLzAyN29LNTA5Rm9jdWoxd3VtbE5CYzkAAgSe24tlAwSAOgkA',\n    'dqName': '上海',\n    'dqCode': '020',\n    'id': '1bc60bbad5d564e0fa1287a23a504d90'},\n   'compList': []},\n  'passThroughData': {'ckId': '6kgzm7tcrvofclqukj6vmucx0ai9zl79',\n   'scene': 'input',\n   'skId': '6kgzm7tcrvofclqukj6vmucx0ai9zl79',\n   'fkId': '6kgzm7tcrvofclqukj6vmucx0ai9zl79',\n   'sfrom': 'search_job_pc'},\n  'pagination': {'currentPage': 0,\n   'totalPage': 13,\n   'pageSize': 40,\n   'hasNext': False,\n   'totalCounts': 500}}}"
     },
     "execution_count": 48,
     "metadata": {},
     "output_type": "execute_result"
    }
   ],
   "source": [
    "import time\n",
    "import random\n",
    "wait_time = random.randint(3,10)\n",
    "\n",
    "# payload = payloadd(str(城市),str(关键词),str(学历))\n",
    "payload = payloadd(str(城市),str(关键词))\n",
    "# create an HTML session using Requests-HTML\n",
    "session = HTMLSession()\n",
    "r = session.post(url, data=json.dumps(payload), headers=headers())\n",
    "\n",
    "# extract the JSON data from the response\n",
    "response_data = r.json()\n",
    "\n",
    "# example: print the number of job postings returned\n",
    "response_data"
   ],
   "metadata": {
    "collapsed": false
   }
  },
  {
   "cell_type": "code",
   "execution_count": 49,
   "outputs": [
    {
     "data": {
      "text/plain": "13"
     },
     "execution_count": 49,
     "metadata": {},
     "output_type": "execute_result"
    }
   ],
   "source": [
    "page = response_data['data']['pagination']['totalPage']\n",
    "page"
   ],
   "metadata": {
    "collapsed": false
   }
  },
  {
   "cell_type": "code",
   "execution_count": 50,
   "outputs": [],
   "source": [
    "# import math\n",
    "# page = math.ceil(response_data['data']['pagination']['totalCounts']/40)\n",
    "# page"
   ],
   "metadata": {
    "collapsed": false
   }
  },
  {
   "cell_type": "markdown",
   "source": [
    "# 10.翻页获取内容，并组合转为通俗易懂的图表"
   ],
   "metadata": {
    "collapsed": false
   }
  },
  {
   "cell_type": "code",
   "execution_count": 51,
   "outputs": [],
   "source": [
    "import pandas as pd\n",
    "import requests\n",
    "response_df = []\n",
    "for i in range(page): # 需要判断页面的数据有多少页\n",
    "    payload['data']['mainSearchPcConditionForm']['currentPage']=i\n",
    "    r = session.post(url, data=json.dumps(payload), headers=headers())\n",
    "    response_data = r.json()\n",
    "    df = pd.json_normalize(response_data['data']['data']['jobCardList'])\n",
    "    response_df.append(df)\n",
    "    time.sleep(wait_time)"
   ],
   "metadata": {
    "collapsed": false
   }
  },
  {
   "cell_type": "code",
   "execution_count": 52,
   "outputs": [
    {
     "data": {
      "text/plain": "                                             dataInfo  \\\n0   %7B%22d_curPage%22%3A%220%22%2C%22d_pageSize%2...   \n1   %7B%22d_curPage%22%3A%220%22%2C%22d_pageSize%2...   \n2   %7B%22d_curPage%22%3A%220%22%2C%22d_pageSize%2...   \n3   %7B%22d_curPage%22%3A%220%22%2C%22d_pageSize%2...   \n4   %7B%22d_curPage%22%3A%220%22%2C%22d_pageSize%2...   \n..                                                ...   \n15  %7B%22sfrom%22%3A%22search_job_pc%22%2C%22d_cu...   \n16  %7B%22sfrom%22%3A%22search_job_pc%22%2C%22d_cu...   \n17  %7B%22sfrom%22%3A%22search_job_pc%22%2C%22d_cu...   \n18  %7B%22sfrom%22%3A%22search_job_pc%22%2C%22d_cu...   \n19  %7B%22sfrom%22%3A%22search_job_pc%22%2C%22d_cu...   \n\n                                           dataParams  \\\n0   {\"jobId\":\"56498145\",\"recruiterName\":\"沈女士\",\"imI...   \n1   {\"jobId\":\"58806367\",\"recruiterName\":\"佘女士\",\"imI...   \n2   {\"jobId\":\"46447123\",\"recruiterName\":\"何女士\",\"imI...   \n3   {\"jobId\":\"25088147\",\"recruiterName\":\"曹女士\",\"imI...   \n4   {\"jobId\":\"35867731\",\"recruiterName\":\"代女士\",\"imI...   \n..                                                ...   \n15  {\"imId\":\"4f240e39c55f09d8eb9081834c58cfff\",\"im...   \n16  {\"imId\":\"24297bf868a23e5ec307fe6e334c0c05\",\"im...   \n17  {\"imId\":\"ece719a60daff85fe3a362ce23913155\",\"im...   \n18  {\"imId\":\"0bffd7fc8c889cd44d437e75b9ab7ce8\",\"im...   \n19  {\"imId\":\"1ad582860e4de3518d1ff84e0a6c6898\",\"im...   \n\n                                   comp.link  comp.compName  \\\n0    https://www.liepin.com/company/2615574/   群邑(上海)广告有限公司   \n1   https://www.liepin.com/company/12325901/           有料广告   \n2    https://www.liepin.com/company/8272042/            瀚与翼   \n3   https://www.liepin.com/company/10272573/     上海写拾广告有限公司   \n4   https://www.liepin.com/company/10201729/   上海贝书管理咨询有限公司   \n..                                       ...            ...   \n15   https://www.liepin.com/company/9513738/     上海慕楚广告有限公司   \n16   https://www.liepin.com/company/9959983/           思楷学术   \n17  https://www.liepin.com/company/12578785/   上海匠恒装饰工程有限公司   \n18   https://www.liepin.com/company/8035004/           且康健康   \n19                                            某大型食品/饮料/酒水公司   \n\n                      comp.compLogo  comp.compId comp.compScale  \\\n0   5ece164af1b6f069706433da06u.png    2615574.0       10000人以上   \n1   646daf1a747e5c46be0c72ba05u.jpg   12325901.0          1-49人   \n2   61c54a5c64f02422cbb5113102u.png    8272042.0         50-99人   \n3   61b07937d0458d53c627567e02u.jpg   10272573.0          1-49人   \n4   61b07937d0458d53c627567e02u.jpg   10201729.0          1-49人   \n..                              ...          ...            ...   \n15  5bfea52174719d2aa34cdb1c03a.png    9513738.0          1-49人   \n16  619c41d7836c061aae642be205u.jpg    9959983.0         50-99人   \n17  61b07937d0458d53c627567e02u.jpg   12578785.0          1-49人   \n18  5bfe971174719df0ac9926d103a.png    8035004.0       100-499人   \n19  60e2fe0bf3df194a3c48adb502u.png          NaN       500-999人   \n\n   comp.compIndustry                                         job.labels  \\\n0           广告/公关/会展                                             [电商平台]   \n1             专业技术服务                                             [广告策划]   \n2             专业技术服务                                                 []   \n3           广播/影视/录音                    [媒介媒体, 广告文案, 活动文案, 新媒体文案, 品牌文案]   \n4           广告/公关/会展                                             [内容运营]   \n..               ...                                                ...   \n15          广告/公关/会展  [网站策划, 品牌策划, 文案策划, 市场策划, 广告策划, 乙方公司背景, 广告/传媒/文...   \n16              培训服务  [品牌推广, 市场推广, 活动策划, 广告策划, 市场策划, 公关策划, 市场拓展, 渠道推...   \n17              工程施工                             [日语, ai软件, 文字编辑, 排版设计]   \n18               互联网                                             [内容运营]   \n19          食品/饮料/酒水                         [快消品市场营销, 快消品品牌策划, 营销战略策划]   \n\n                                       job.link  ...  \\\n0   https://www.liepin.com/job/1956498145.shtml  ...   \n1   https://www.liepin.com/job/1958806367.shtml  ...   \n2   https://www.liepin.com/job/1946447123.shtml  ...   \n3   https://www.liepin.com/job/1925088147.shtml  ...   \n4   https://www.liepin.com/job/1935867731.shtml  ...   \n..                                          ...  ...   \n15  https://www.liepin.com/job/1925393441.shtml  ...   \n16  https://www.liepin.com/job/1918555149.shtml  ...   \n17  https://www.liepin.com/job/1936235933.shtml  ...   \n18  https://www.liepin.com/job/1963855217.shtml  ...   \n19      https://www.liepin.com/a/51828497.shtml  ...   \n\n                                       job.dataPromId  \\\n0   d_sfrom=search_prime&d_ckId=null&d_curPage=0&d...   \n1   d_sfrom=search_prime&d_ckId=null&d_curPage=0&d...   \n2   d_sfrom=search_prime&d_ckId=null&d_curPage=0&d...   \n3   d_sfrom=search_prime&d_ckId=null&d_curPage=0&d...   \n4   d_sfrom=search_prime&d_ckId=null&d_curPage=0&d...   \n..                                                ...   \n15  d_sfrom=search_prime&d_ckId=null&d_curPage=12&...   \n16  d_sfrom=search_prime&d_ckId=null&d_curPage=12&...   \n17  d_sfrom=search_prime&d_ckId=null&d_curPage=12&...   \n18  d_sfrom=search_prime&d_ckId=null&d_curPage=12&...   \n19  d_sfrom=search_prime&d_ckId=null&d_curPage=12&...   \n\n               recruiter.recruiterId recruiter.recruiterName  \\\n0   dc5f7372900c47cbac06d00d0050166c                     沈女士   \n1   ef4410271ee507db4ebe78f8d139964e                     佘女士   \n2   ab7a57a627101bfe2be08dc37d54b6f3                     何女士   \n3   53da6fed5384d274258924040bc7a85b                     曹女士   \n4   fd6ea30e74423e3b84a317888b12ae61                     代女士   \n..                               ...                     ...   \n15  c768994050bbbd1bf2cd9a403fd66a72                     袁先生   \n16  5d88aca67670ff6774081e56f65a0088                     郭先生   \n17  cb8997d263dc1c9af1a1bf2756af9f29                     周先生   \n18  c156f74812855132a5f9c7f9d66fdfa8                     李女士   \n19  cccf9f8f5a35777d9bc2a1d2053186e7                     李女士   \n\n   recruiter.recruiterTitle                    recruiter.imId  \\\n0                 人力资源管理实习生  9f80db4d7554d22be0d71104ecc2e595   \n1                        人事  b7b1c0386e10f30804612e645251413c   \n2                        TA  c823ddf91c5fe5cce68ea511f8a9efc5   \n3                       合伙人  f086316927445b55e3a362ce23913155   \n4                   新媒体运营主管  aeafe1dad210ee339941166e65ebdb6f   \n..                      ...                               ...   \n15                     销售总监  4f240e39c55f09d8eb9081834c58cfff   \n16                   市场部负责人  24297bf868a23e5ec307fe6e334c0c05   \n17                      COO  ece719a60daff85fe3a362ce23913155   \n18                     人事主管  0bffd7fc8c889cd44d437e75b9ab7ce8   \n19                     猎头顾问  1ad582860e4de3518d1ff84e0a6c6898   \n\n   recruiter.imUserType recruiter.chatted         recruiter.recruiterPhoto  \\\n0                     2             False  5f8f9866dfb13a7dee342f1808u.jpg   \n1                     2             False  5f8f986779c7cc70efbf36c008u.jpg   \n2                     2             False  5f8f98648dbe6273dcf8515508u.jpg   \n3                     2             False  56938e9345ce240b1ff6c31504a.png   \n4                     2             False  602e086f09f00f0851fa451907u.png   \n..                  ...               ...                              ...   \n15                    2             False  593027ae70320c7ee19c474404a.png   \n16                    2             False  55da8dd645ce9445a6a4f25603a.jpg   \n17                    2             False  5f8f9868f6d1ab58476f24a008u.jpg   \n18                    2             False  5f8f9863f6d1ab58476f246a08u.jpg   \n19                    2             False  6153e77d78feba26ec5d760b08u.png   \n\n   comp.compStage job.campusJobKind  \n0             NaN               NaN  \n1           融资未公开               NaN  \n2           融资未公开               NaN  \n3             NaN               NaN  \n4           融资未公开               NaN  \n..            ...               ...  \n15          融资未公开               NaN  \n16          融资未公开               NaN  \n17          融资未公开               NaN  \n18             A轮               NaN  \n19           战略融资               NaN  \n\n[500 rows x 32 columns]",
      "text/html": "<div>\n<style scoped>\n    .dataframe tbody tr th:only-of-type {\n        vertical-align: middle;\n    }\n\n    .dataframe tbody tr th {\n        vertical-align: top;\n    }\n\n    .dataframe thead th {\n        text-align: right;\n    }\n</style>\n<table border=\"1\" class=\"dataframe\">\n  <thead>\n    <tr style=\"text-align: right;\">\n      <th></th>\n      <th>dataInfo</th>\n      <th>dataParams</th>\n      <th>comp.link</th>\n      <th>comp.compName</th>\n      <th>comp.compLogo</th>\n      <th>comp.compId</th>\n      <th>comp.compScale</th>\n      <th>comp.compIndustry</th>\n      <th>job.labels</th>\n      <th>job.link</th>\n      <th>...</th>\n      <th>job.dataPromId</th>\n      <th>recruiter.recruiterId</th>\n      <th>recruiter.recruiterName</th>\n      <th>recruiter.recruiterTitle</th>\n      <th>recruiter.imId</th>\n      <th>recruiter.imUserType</th>\n      <th>recruiter.chatted</th>\n      <th>recruiter.recruiterPhoto</th>\n      <th>comp.compStage</th>\n      <th>job.campusJobKind</th>\n    </tr>\n  </thead>\n  <tbody>\n    <tr>\n      <th>0</th>\n      <td>%7B%22d_curPage%22%3A%220%22%2C%22d_pageSize%2...</td>\n      <td>{\"jobId\":\"56498145\",\"recruiterName\":\"沈女士\",\"imI...</td>\n      <td>https://www.liepin.com/company/2615574/</td>\n      <td>群邑(上海)广告有限公司</td>\n      <td>5ece164af1b6f069706433da06u.png</td>\n      <td>2615574.0</td>\n      <td>10000人以上</td>\n      <td>广告/公关/会展</td>\n      <td>[电商平台]</td>\n      <td>https://www.liepin.com/job/1956498145.shtml</td>\n      <td>...</td>\n      <td>d_sfrom=search_prime&amp;d_ckId=null&amp;d_curPage=0&amp;d...</td>\n      <td>dc5f7372900c47cbac06d00d0050166c</td>\n      <td>沈女士</td>\n      <td>人力资源管理实习生</td>\n      <td>9f80db4d7554d22be0d71104ecc2e595</td>\n      <td>2</td>\n      <td>False</td>\n      <td>5f8f9866dfb13a7dee342f1808u.jpg</td>\n      <td>NaN</td>\n      <td>NaN</td>\n    </tr>\n    <tr>\n      <th>1</th>\n      <td>%7B%22d_curPage%22%3A%220%22%2C%22d_pageSize%2...</td>\n      <td>{\"jobId\":\"58806367\",\"recruiterName\":\"佘女士\",\"imI...</td>\n      <td>https://www.liepin.com/company/12325901/</td>\n      <td>有料广告</td>\n      <td>646daf1a747e5c46be0c72ba05u.jpg</td>\n      <td>12325901.0</td>\n      <td>1-49人</td>\n      <td>专业技术服务</td>\n      <td>[广告策划]</td>\n      <td>https://www.liepin.com/job/1958806367.shtml</td>\n      <td>...</td>\n      <td>d_sfrom=search_prime&amp;d_ckId=null&amp;d_curPage=0&amp;d...</td>\n      <td>ef4410271ee507db4ebe78f8d139964e</td>\n      <td>佘女士</td>\n      <td>人事</td>\n      <td>b7b1c0386e10f30804612e645251413c</td>\n      <td>2</td>\n      <td>False</td>\n      <td>5f8f986779c7cc70efbf36c008u.jpg</td>\n      <td>融资未公开</td>\n      <td>NaN</td>\n    </tr>\n    <tr>\n      <th>2</th>\n      <td>%7B%22d_curPage%22%3A%220%22%2C%22d_pageSize%2...</td>\n      <td>{\"jobId\":\"46447123\",\"recruiterName\":\"何女士\",\"imI...</td>\n      <td>https://www.liepin.com/company/8272042/</td>\n      <td>瀚与翼</td>\n      <td>61c54a5c64f02422cbb5113102u.png</td>\n      <td>8272042.0</td>\n      <td>50-99人</td>\n      <td>专业技术服务</td>\n      <td>[]</td>\n      <td>https://www.liepin.com/job/1946447123.shtml</td>\n      <td>...</td>\n      <td>d_sfrom=search_prime&amp;d_ckId=null&amp;d_curPage=0&amp;d...</td>\n      <td>ab7a57a627101bfe2be08dc37d54b6f3</td>\n      <td>何女士</td>\n      <td>TA</td>\n      <td>c823ddf91c5fe5cce68ea511f8a9efc5</td>\n      <td>2</td>\n      <td>False</td>\n      <td>5f8f98648dbe6273dcf8515508u.jpg</td>\n      <td>融资未公开</td>\n      <td>NaN</td>\n    </tr>\n    <tr>\n      <th>3</th>\n      <td>%7B%22d_curPage%22%3A%220%22%2C%22d_pageSize%2...</td>\n      <td>{\"jobId\":\"25088147\",\"recruiterName\":\"曹女士\",\"imI...</td>\n      <td>https://www.liepin.com/company/10272573/</td>\n      <td>上海写拾广告有限公司</td>\n      <td>61b07937d0458d53c627567e02u.jpg</td>\n      <td>10272573.0</td>\n      <td>1-49人</td>\n      <td>广播/影视/录音</td>\n      <td>[媒介媒体, 广告文案, 活动文案, 新媒体文案, 品牌文案]</td>\n      <td>https://www.liepin.com/job/1925088147.shtml</td>\n      <td>...</td>\n      <td>d_sfrom=search_prime&amp;d_ckId=null&amp;d_curPage=0&amp;d...</td>\n      <td>53da6fed5384d274258924040bc7a85b</td>\n      <td>曹女士</td>\n      <td>合伙人</td>\n      <td>f086316927445b55e3a362ce23913155</td>\n      <td>2</td>\n      <td>False</td>\n      <td>56938e9345ce240b1ff6c31504a.png</td>\n      <td>NaN</td>\n      <td>NaN</td>\n    </tr>\n    <tr>\n      <th>4</th>\n      <td>%7B%22d_curPage%22%3A%220%22%2C%22d_pageSize%2...</td>\n      <td>{\"jobId\":\"35867731\",\"recruiterName\":\"代女士\",\"imI...</td>\n      <td>https://www.liepin.com/company/10201729/</td>\n      <td>上海贝书管理咨询有限公司</td>\n      <td>61b07937d0458d53c627567e02u.jpg</td>\n      <td>10201729.0</td>\n      <td>1-49人</td>\n      <td>广告/公关/会展</td>\n      <td>[内容运营]</td>\n      <td>https://www.liepin.com/job/1935867731.shtml</td>\n      <td>...</td>\n      <td>d_sfrom=search_prime&amp;d_ckId=null&amp;d_curPage=0&amp;d...</td>\n      <td>fd6ea30e74423e3b84a317888b12ae61</td>\n      <td>代女士</td>\n      <td>新媒体运营主管</td>\n      <td>aeafe1dad210ee339941166e65ebdb6f</td>\n      <td>2</td>\n      <td>False</td>\n      <td>602e086f09f00f0851fa451907u.png</td>\n      <td>融资未公开</td>\n      <td>NaN</td>\n    </tr>\n    <tr>\n      <th>...</th>\n      <td>...</td>\n      <td>...</td>\n      <td>...</td>\n      <td>...</td>\n      <td>...</td>\n      <td>...</td>\n      <td>...</td>\n      <td>...</td>\n      <td>...</td>\n      <td>...</td>\n      <td>...</td>\n      <td>...</td>\n      <td>...</td>\n      <td>...</td>\n      <td>...</td>\n      <td>...</td>\n      <td>...</td>\n      <td>...</td>\n      <td>...</td>\n      <td>...</td>\n      <td>...</td>\n    </tr>\n    <tr>\n      <th>15</th>\n      <td>%7B%22sfrom%22%3A%22search_job_pc%22%2C%22d_cu...</td>\n      <td>{\"imId\":\"4f240e39c55f09d8eb9081834c58cfff\",\"im...</td>\n      <td>https://www.liepin.com/company/9513738/</td>\n      <td>上海慕楚广告有限公司</td>\n      <td>5bfea52174719d2aa34cdb1c03a.png</td>\n      <td>9513738.0</td>\n      <td>1-49人</td>\n      <td>广告/公关/会展</td>\n      <td>[网站策划, 品牌策划, 文案策划, 市场策划, 广告策划, 乙方公司背景, 广告/传媒/文...</td>\n      <td>https://www.liepin.com/job/1925393441.shtml</td>\n      <td>...</td>\n      <td>d_sfrom=search_prime&amp;d_ckId=null&amp;d_curPage=12&amp;...</td>\n      <td>c768994050bbbd1bf2cd9a403fd66a72</td>\n      <td>袁先生</td>\n      <td>销售总监</td>\n      <td>4f240e39c55f09d8eb9081834c58cfff</td>\n      <td>2</td>\n      <td>False</td>\n      <td>593027ae70320c7ee19c474404a.png</td>\n      <td>融资未公开</td>\n      <td>NaN</td>\n    </tr>\n    <tr>\n      <th>16</th>\n      <td>%7B%22sfrom%22%3A%22search_job_pc%22%2C%22d_cu...</td>\n      <td>{\"imId\":\"24297bf868a23e5ec307fe6e334c0c05\",\"im...</td>\n      <td>https://www.liepin.com/company/9959983/</td>\n      <td>思楷学术</td>\n      <td>619c41d7836c061aae642be205u.jpg</td>\n      <td>9959983.0</td>\n      <td>50-99人</td>\n      <td>培训服务</td>\n      <td>[品牌推广, 市场推广, 活动策划, 广告策划, 市场策划, 公关策划, 市场拓展, 渠道推...</td>\n      <td>https://www.liepin.com/job/1918555149.shtml</td>\n      <td>...</td>\n      <td>d_sfrom=search_prime&amp;d_ckId=null&amp;d_curPage=12&amp;...</td>\n      <td>5d88aca67670ff6774081e56f65a0088</td>\n      <td>郭先生</td>\n      <td>市场部负责人</td>\n      <td>24297bf868a23e5ec307fe6e334c0c05</td>\n      <td>2</td>\n      <td>False</td>\n      <td>55da8dd645ce9445a6a4f25603a.jpg</td>\n      <td>融资未公开</td>\n      <td>NaN</td>\n    </tr>\n    <tr>\n      <th>17</th>\n      <td>%7B%22sfrom%22%3A%22search_job_pc%22%2C%22d_cu...</td>\n      <td>{\"imId\":\"ece719a60daff85fe3a362ce23913155\",\"im...</td>\n      <td>https://www.liepin.com/company/12578785/</td>\n      <td>上海匠恒装饰工程有限公司</td>\n      <td>61b07937d0458d53c627567e02u.jpg</td>\n      <td>12578785.0</td>\n      <td>1-49人</td>\n      <td>工程施工</td>\n      <td>[日语, ai软件, 文字编辑, 排版设计]</td>\n      <td>https://www.liepin.com/job/1936235933.shtml</td>\n      <td>...</td>\n      <td>d_sfrom=search_prime&amp;d_ckId=null&amp;d_curPage=12&amp;...</td>\n      <td>cb8997d263dc1c9af1a1bf2756af9f29</td>\n      <td>周先生</td>\n      <td>COO</td>\n      <td>ece719a60daff85fe3a362ce23913155</td>\n      <td>2</td>\n      <td>False</td>\n      <td>5f8f9868f6d1ab58476f24a008u.jpg</td>\n      <td>融资未公开</td>\n      <td>NaN</td>\n    </tr>\n    <tr>\n      <th>18</th>\n      <td>%7B%22sfrom%22%3A%22search_job_pc%22%2C%22d_cu...</td>\n      <td>{\"imId\":\"0bffd7fc8c889cd44d437e75b9ab7ce8\",\"im...</td>\n      <td>https://www.liepin.com/company/8035004/</td>\n      <td>且康健康</td>\n      <td>5bfe971174719df0ac9926d103a.png</td>\n      <td>8035004.0</td>\n      <td>100-499人</td>\n      <td>互联网</td>\n      <td>[内容运营]</td>\n      <td>https://www.liepin.com/job/1963855217.shtml</td>\n      <td>...</td>\n      <td>d_sfrom=search_prime&amp;d_ckId=null&amp;d_curPage=12&amp;...</td>\n      <td>c156f74812855132a5f9c7f9d66fdfa8</td>\n      <td>李女士</td>\n      <td>人事主管</td>\n      <td>0bffd7fc8c889cd44d437e75b9ab7ce8</td>\n      <td>2</td>\n      <td>False</td>\n      <td>5f8f9863f6d1ab58476f246a08u.jpg</td>\n      <td>A轮</td>\n      <td>NaN</td>\n    </tr>\n    <tr>\n      <th>19</th>\n      <td>%7B%22sfrom%22%3A%22search_job_pc%22%2C%22d_cu...</td>\n      <td>{\"imId\":\"1ad582860e4de3518d1ff84e0a6c6898\",\"im...</td>\n      <td></td>\n      <td>某大型食品/饮料/酒水公司</td>\n      <td>60e2fe0bf3df194a3c48adb502u.png</td>\n      <td>NaN</td>\n      <td>500-999人</td>\n      <td>食品/饮料/酒水</td>\n      <td>[快消品市场营销, 快消品品牌策划, 营销战略策划]</td>\n      <td>https://www.liepin.com/a/51828497.shtml</td>\n      <td>...</td>\n      <td>d_sfrom=search_prime&amp;d_ckId=null&amp;d_curPage=12&amp;...</td>\n      <td>cccf9f8f5a35777d9bc2a1d2053186e7</td>\n      <td>李女士</td>\n      <td>猎头顾问</td>\n      <td>1ad582860e4de3518d1ff84e0a6c6898</td>\n      <td>2</td>\n      <td>False</td>\n      <td>6153e77d78feba26ec5d760b08u.png</td>\n      <td>战略融资</td>\n      <td>NaN</td>\n    </tr>\n  </tbody>\n</table>\n<p>500 rows × 32 columns</p>\n</div>"
     },
     "execution_count": 52,
     "metadata": {},
     "output_type": "execute_result"
    }
   ],
   "source": [
    "df = pd.concat(response_df)\n",
    "df"
   ],
   "metadata": {
    "collapsed": false
   }
  },
  {
   "cell_type": "markdown",
   "source": [
    "# 11.将输入的数据赋值，来为输出图表命名"
   ],
   "metadata": {
    "collapsed": false
   }
  },
  {
   "cell_type": "code",
   "execution_count": 53,
   "outputs": [
    {
     "data": {
      "text/plain": "'广告策划'"
     },
     "execution_count": 53,
     "metadata": {},
     "output_type": "execute_result"
    }
   ],
   "source": [
    "key = payload['data']['mainSearchPcConditionForm']['key']\n",
    "key"
   ],
   "metadata": {
    "collapsed": false
   }
  },
  {
   "cell_type": "code",
   "execution_count": 54,
   "outputs": [
    {
     "data": {
      "text/plain": "'上海'"
     },
     "execution_count": 54,
     "metadata": {},
     "output_type": "execute_result"
    }
   ],
   "source": [
    "cities = str(城市)\n",
    "cities"
   ],
   "metadata": {
    "collapsed": false
   }
  },
  {
   "cell_type": "markdown",
   "source": [
    "# 12.加入时间戳"
   ],
   "metadata": {
    "collapsed": false
   }
  },
  {
   "cell_type": "code",
   "execution_count": 55,
   "outputs": [
    {
     "data": {
      "text/plain": "'2023-12-27'"
     },
     "execution_count": 55,
     "metadata": {},
     "output_type": "execute_result"
    }
   ],
   "source": [
    "import time\n",
    "time.localtime()\n",
    "output_time = str(time.localtime().tm_year)+'-'\\\n",
    "              +str(time.localtime().tm_mon)+'-'\\\n",
    "             +str(time.localtime().tm_mday)\n",
    "output_time\n"
   ],
   "metadata": {
    "collapsed": false
   }
  },
  {
   "cell_type": "code",
   "execution_count": 56,
   "outputs": [],
   "source": [
    "import os\n",
    "\n",
    "folder_name = f\"excels/{cities}/{key}/{output_time}\"\n",
    "os.makedirs(folder_name, exist_ok=True)"
   ],
   "metadata": {
    "collapsed": false
   }
  },
  {
   "cell_type": "markdown",
   "source": [
    "# 13.输出为excel"
   ],
   "metadata": {
    "collapsed": false
   }
  },
  {
   "cell_type": "code",
   "execution_count": 57,
   "outputs": [],
   "source": [
    "df.to_excel(f'excels/{cities}/{key}/{output_time}/猎聘{cities}-{key}-{output_time}.xlsx')"
   ],
   "metadata": {
    "collapsed": false
   }
  },
  {
   "cell_type": "markdown",
   "source": [
    "# 14.读取excel"
   ],
   "metadata": {
    "collapsed": false
   }
  },
  {
   "cell_type": "code",
   "execution_count": 58,
   "outputs": [],
   "source": [
    "import pandas as pd"
   ],
   "metadata": {
    "collapsed": false
   }
  },
  {
   "cell_type": "code",
   "execution_count": 59,
   "outputs": [
    {
     "data": {
      "text/plain": "     Unnamed: 0                                           dataInfo  \\\n0             0  %7B%22d_curPage%22%3A%220%22%2C%22d_pageSize%2...   \n1             1  %7B%22d_curPage%22%3A%220%22%2C%22d_pageSize%2...   \n2             2  %7B%22d_curPage%22%3A%220%22%2C%22d_pageSize%2...   \n3             3  %7B%22d_curPage%22%3A%220%22%2C%22d_pageSize%2...   \n4             4  %7B%22d_curPage%22%3A%220%22%2C%22d_pageSize%2...   \n..          ...                                                ...   \n495          15  %7B%22sfrom%22%3A%22search_job_pc%22%2C%22d_cu...   \n496          16  %7B%22sfrom%22%3A%22search_job_pc%22%2C%22d_cu...   \n497          17  %7B%22sfrom%22%3A%22search_job_pc%22%2C%22d_cu...   \n498          18  %7B%22sfrom%22%3A%22search_job_pc%22%2C%22d_cu...   \n499          19  %7B%22sfrom%22%3A%22search_job_pc%22%2C%22d_cu...   \n\n                                            dataParams  \\\n0    {\"jobId\":\"56498145\",\"recruiterName\":\"沈女士\",\"imI...   \n1    {\"jobId\":\"58806367\",\"recruiterName\":\"佘女士\",\"imI...   \n2    {\"jobId\":\"46447123\",\"recruiterName\":\"何女士\",\"imI...   \n3    {\"jobId\":\"25088147\",\"recruiterName\":\"曹女士\",\"imI...   \n4    {\"jobId\":\"35867731\",\"recruiterName\":\"代女士\",\"imI...   \n..                                                 ...   \n495  {\"imId\":\"4f240e39c55f09d8eb9081834c58cfff\",\"im...   \n496  {\"imId\":\"24297bf868a23e5ec307fe6e334c0c05\",\"im...   \n497  {\"imId\":\"ece719a60daff85fe3a362ce23913155\",\"im...   \n498  {\"imId\":\"0bffd7fc8c889cd44d437e75b9ab7ce8\",\"im...   \n499  {\"imId\":\"1ad582860e4de3518d1ff84e0a6c6898\",\"im...   \n\n                                    comp.link  comp.compName  \\\n0     https://www.liepin.com/company/2615574/   群邑(上海)广告有限公司   \n1    https://www.liepin.com/company/12325901/           有料广告   \n2     https://www.liepin.com/company/8272042/            瀚与翼   \n3    https://www.liepin.com/company/10272573/     上海写拾广告有限公司   \n4    https://www.liepin.com/company/10201729/   上海贝书管理咨询有限公司   \n..                                        ...            ...   \n495   https://www.liepin.com/company/9513738/     上海慕楚广告有限公司   \n496   https://www.liepin.com/company/9959983/           思楷学术   \n497  https://www.liepin.com/company/12578785/   上海匠恒装饰工程有限公司   \n498   https://www.liepin.com/company/8035004/           且康健康   \n499                                       NaN  某大型食品/饮料/酒水公司   \n\n                       comp.compLogo  comp.compId comp.compScale  \\\n0    5ece164af1b6f069706433da06u.png    2615574.0       10000人以上   \n1    646daf1a747e5c46be0c72ba05u.jpg   12325901.0          1-49人   \n2    61c54a5c64f02422cbb5113102u.png    8272042.0         50-99人   \n3    61b07937d0458d53c627567e02u.jpg   10272573.0          1-49人   \n4    61b07937d0458d53c627567e02u.jpg   10201729.0          1-49人   \n..                               ...          ...            ...   \n495  5bfea52174719d2aa34cdb1c03a.png    9513738.0          1-49人   \n496  619c41d7836c061aae642be205u.jpg    9959983.0         50-99人   \n497  61b07937d0458d53c627567e02u.jpg   12578785.0          1-49人   \n498  5bfe971174719df0ac9926d103a.png    8035004.0       100-499人   \n499  60e2fe0bf3df194a3c48adb502u.png          NaN       500-999人   \n\n    comp.compIndustry                                         job.labels  ...  \\\n0            广告/公关/会展                                           ['电商平台']  ...   \n1              专业技术服务                                           ['广告策划']  ...   \n2              专业技术服务                                                 []  ...   \n3            广播/影视/录音          ['媒介媒体', '广告文案', '活动文案', '新媒体文案', '品牌文案']  ...   \n4            广告/公关/会展                                           ['内容运营']  ...   \n..                ...                                                ...  ...   \n495          广告/公关/会展  ['网站策划', '品牌策划', '文案策划', '市场策划', '广告策划', '乙方公司...  ...   \n496              培训服务  ['品牌推广', '市场推广', '活动策划', '广告策划', '市场策划', '公关策划...  ...   \n497              工程施工                     ['日语', 'ai软件', '文字编辑', '排版设计']  ...   \n498               互联网                                           ['内容运营']  ...   \n499          食品/饮料/酒水                   ['快消品市场营销', '快消品品牌策划', '营销战略策划']  ...   \n\n                                        job.dataPromId  \\\n0    d_sfrom=search_prime&d_ckId=null&d_curPage=0&d...   \n1    d_sfrom=search_prime&d_ckId=null&d_curPage=0&d...   \n2    d_sfrom=search_prime&d_ckId=null&d_curPage=0&d...   \n3    d_sfrom=search_prime&d_ckId=null&d_curPage=0&d...   \n4    d_sfrom=search_prime&d_ckId=null&d_curPage=0&d...   \n..                                                 ...   \n495  d_sfrom=search_prime&d_ckId=null&d_curPage=12&...   \n496  d_sfrom=search_prime&d_ckId=null&d_curPage=12&...   \n497  d_sfrom=search_prime&d_ckId=null&d_curPage=12&...   \n498  d_sfrom=search_prime&d_ckId=null&d_curPage=12&...   \n499  d_sfrom=search_prime&d_ckId=null&d_curPage=12&...   \n\n                recruiter.recruiterId recruiter.recruiterName  \\\n0    dc5f7372900c47cbac06d00d0050166c                     沈女士   \n1    ef4410271ee507db4ebe78f8d139964e                     佘女士   \n2    ab7a57a627101bfe2be08dc37d54b6f3                     何女士   \n3    53da6fed5384d274258924040bc7a85b                     曹女士   \n4    fd6ea30e74423e3b84a317888b12ae61                     代女士   \n..                                ...                     ...   \n495  c768994050bbbd1bf2cd9a403fd66a72                     袁先生   \n496  5d88aca67670ff6774081e56f65a0088                     郭先生   \n497  cb8997d263dc1c9af1a1bf2756af9f29                     周先生   \n498  c156f74812855132a5f9c7f9d66fdfa8                     李女士   \n499  cccf9f8f5a35777d9bc2a1d2053186e7                     李女士   \n\n     recruiter.recruiterTitle                    recruiter.imId  \\\n0                   人力资源管理实习生  9f80db4d7554d22be0d71104ecc2e595   \n1                          人事  b7b1c0386e10f30804612e645251413c   \n2                          TA  c823ddf91c5fe5cce68ea511f8a9efc5   \n3                         合伙人  f086316927445b55e3a362ce23913155   \n4                     新媒体运营主管  aeafe1dad210ee339941166e65ebdb6f   \n..                        ...                               ...   \n495                      销售总监  4f240e39c55f09d8eb9081834c58cfff   \n496                    市场部负责人  24297bf868a23e5ec307fe6e334c0c05   \n497                       COO  ece719a60daff85fe3a362ce23913155   \n498                      人事主管  0bffd7fc8c889cd44d437e75b9ab7ce8   \n499                      猎头顾问  1ad582860e4de3518d1ff84e0a6c6898   \n\n    recruiter.imUserType  recruiter.chatted         recruiter.recruiterPhoto  \\\n0                      2              False  5f8f9866dfb13a7dee342f1808u.jpg   \n1                      2              False  5f8f986779c7cc70efbf36c008u.jpg   \n2                      2              False  5f8f98648dbe6273dcf8515508u.jpg   \n3                      2              False  56938e9345ce240b1ff6c31504a.png   \n4                      2              False  602e086f09f00f0851fa451907u.png   \n..                   ...                ...                              ...   \n495                    2              False  593027ae70320c7ee19c474404a.png   \n496                    2              False  55da8dd645ce9445a6a4f25603a.jpg   \n497                    2              False  5f8f9868f6d1ab58476f24a008u.jpg   \n498                    2              False  5f8f9863f6d1ab58476f246a08u.jpg   \n499                    2              False  6153e77d78feba26ec5d760b08u.png   \n\n    comp.compStage job.campusJobKind  \n0              NaN               NaN  \n1            融资未公开               NaN  \n2            融资未公开               NaN  \n3              NaN               NaN  \n4            融资未公开               NaN  \n..             ...               ...  \n495          融资未公开               NaN  \n496          融资未公开               NaN  \n497          融资未公开               NaN  \n498             A轮               NaN  \n499           战略融资               NaN  \n\n[500 rows x 33 columns]",
      "text/html": "<div>\n<style scoped>\n    .dataframe tbody tr th:only-of-type {\n        vertical-align: middle;\n    }\n\n    .dataframe tbody tr th {\n        vertical-align: top;\n    }\n\n    .dataframe thead th {\n        text-align: right;\n    }\n</style>\n<table border=\"1\" class=\"dataframe\">\n  <thead>\n    <tr style=\"text-align: right;\">\n      <th></th>\n      <th>Unnamed: 0</th>\n      <th>dataInfo</th>\n      <th>dataParams</th>\n      <th>comp.link</th>\n      <th>comp.compName</th>\n      <th>comp.compLogo</th>\n      <th>comp.compId</th>\n      <th>comp.compScale</th>\n      <th>comp.compIndustry</th>\n      <th>job.labels</th>\n      <th>...</th>\n      <th>job.dataPromId</th>\n      <th>recruiter.recruiterId</th>\n      <th>recruiter.recruiterName</th>\n      <th>recruiter.recruiterTitle</th>\n      <th>recruiter.imId</th>\n      <th>recruiter.imUserType</th>\n      <th>recruiter.chatted</th>\n      <th>recruiter.recruiterPhoto</th>\n      <th>comp.compStage</th>\n      <th>job.campusJobKind</th>\n    </tr>\n  </thead>\n  <tbody>\n    <tr>\n      <th>0</th>\n      <td>0</td>\n      <td>%7B%22d_curPage%22%3A%220%22%2C%22d_pageSize%2...</td>\n      <td>{\"jobId\":\"56498145\",\"recruiterName\":\"沈女士\",\"imI...</td>\n      <td>https://www.liepin.com/company/2615574/</td>\n      <td>群邑(上海)广告有限公司</td>\n      <td>5ece164af1b6f069706433da06u.png</td>\n      <td>2615574.0</td>\n      <td>10000人以上</td>\n      <td>广告/公关/会展</td>\n      <td>['电商平台']</td>\n      <td>...</td>\n      <td>d_sfrom=search_prime&amp;d_ckId=null&amp;d_curPage=0&amp;d...</td>\n      <td>dc5f7372900c47cbac06d00d0050166c</td>\n      <td>沈女士</td>\n      <td>人力资源管理实习生</td>\n      <td>9f80db4d7554d22be0d71104ecc2e595</td>\n      <td>2</td>\n      <td>False</td>\n      <td>5f8f9866dfb13a7dee342f1808u.jpg</td>\n      <td>NaN</td>\n      <td>NaN</td>\n    </tr>\n    <tr>\n      <th>1</th>\n      <td>1</td>\n      <td>%7B%22d_curPage%22%3A%220%22%2C%22d_pageSize%2...</td>\n      <td>{\"jobId\":\"58806367\",\"recruiterName\":\"佘女士\",\"imI...</td>\n      <td>https://www.liepin.com/company/12325901/</td>\n      <td>有料广告</td>\n      <td>646daf1a747e5c46be0c72ba05u.jpg</td>\n      <td>12325901.0</td>\n      <td>1-49人</td>\n      <td>专业技术服务</td>\n      <td>['广告策划']</td>\n      <td>...</td>\n      <td>d_sfrom=search_prime&amp;d_ckId=null&amp;d_curPage=0&amp;d...</td>\n      <td>ef4410271ee507db4ebe78f8d139964e</td>\n      <td>佘女士</td>\n      <td>人事</td>\n      <td>b7b1c0386e10f30804612e645251413c</td>\n      <td>2</td>\n      <td>False</td>\n      <td>5f8f986779c7cc70efbf36c008u.jpg</td>\n      <td>融资未公开</td>\n      <td>NaN</td>\n    </tr>\n    <tr>\n      <th>2</th>\n      <td>2</td>\n      <td>%7B%22d_curPage%22%3A%220%22%2C%22d_pageSize%2...</td>\n      <td>{\"jobId\":\"46447123\",\"recruiterName\":\"何女士\",\"imI...</td>\n      <td>https://www.liepin.com/company/8272042/</td>\n      <td>瀚与翼</td>\n      <td>61c54a5c64f02422cbb5113102u.png</td>\n      <td>8272042.0</td>\n      <td>50-99人</td>\n      <td>专业技术服务</td>\n      <td>[]</td>\n      <td>...</td>\n      <td>d_sfrom=search_prime&amp;d_ckId=null&amp;d_curPage=0&amp;d...</td>\n      <td>ab7a57a627101bfe2be08dc37d54b6f3</td>\n      <td>何女士</td>\n      <td>TA</td>\n      <td>c823ddf91c5fe5cce68ea511f8a9efc5</td>\n      <td>2</td>\n      <td>False</td>\n      <td>5f8f98648dbe6273dcf8515508u.jpg</td>\n      <td>融资未公开</td>\n      <td>NaN</td>\n    </tr>\n    <tr>\n      <th>3</th>\n      <td>3</td>\n      <td>%7B%22d_curPage%22%3A%220%22%2C%22d_pageSize%2...</td>\n      <td>{\"jobId\":\"25088147\",\"recruiterName\":\"曹女士\",\"imI...</td>\n      <td>https://www.liepin.com/company/10272573/</td>\n      <td>上海写拾广告有限公司</td>\n      <td>61b07937d0458d53c627567e02u.jpg</td>\n      <td>10272573.0</td>\n      <td>1-49人</td>\n      <td>广播/影视/录音</td>\n      <td>['媒介媒体', '广告文案', '活动文案', '新媒体文案', '品牌文案']</td>\n      <td>...</td>\n      <td>d_sfrom=search_prime&amp;d_ckId=null&amp;d_curPage=0&amp;d...</td>\n      <td>53da6fed5384d274258924040bc7a85b</td>\n      <td>曹女士</td>\n      <td>合伙人</td>\n      <td>f086316927445b55e3a362ce23913155</td>\n      <td>2</td>\n      <td>False</td>\n      <td>56938e9345ce240b1ff6c31504a.png</td>\n      <td>NaN</td>\n      <td>NaN</td>\n    </tr>\n    <tr>\n      <th>4</th>\n      <td>4</td>\n      <td>%7B%22d_curPage%22%3A%220%22%2C%22d_pageSize%2...</td>\n      <td>{\"jobId\":\"35867731\",\"recruiterName\":\"代女士\",\"imI...</td>\n      <td>https://www.liepin.com/company/10201729/</td>\n      <td>上海贝书管理咨询有限公司</td>\n      <td>61b07937d0458d53c627567e02u.jpg</td>\n      <td>10201729.0</td>\n      <td>1-49人</td>\n      <td>广告/公关/会展</td>\n      <td>['内容运营']</td>\n      <td>...</td>\n      <td>d_sfrom=search_prime&amp;d_ckId=null&amp;d_curPage=0&amp;d...</td>\n      <td>fd6ea30e74423e3b84a317888b12ae61</td>\n      <td>代女士</td>\n      <td>新媒体运营主管</td>\n      <td>aeafe1dad210ee339941166e65ebdb6f</td>\n      <td>2</td>\n      <td>False</td>\n      <td>602e086f09f00f0851fa451907u.png</td>\n      <td>融资未公开</td>\n      <td>NaN</td>\n    </tr>\n    <tr>\n      <th>...</th>\n      <td>...</td>\n      <td>...</td>\n      <td>...</td>\n      <td>...</td>\n      <td>...</td>\n      <td>...</td>\n      <td>...</td>\n      <td>...</td>\n      <td>...</td>\n      <td>...</td>\n      <td>...</td>\n      <td>...</td>\n      <td>...</td>\n      <td>...</td>\n      <td>...</td>\n      <td>...</td>\n      <td>...</td>\n      <td>...</td>\n      <td>...</td>\n      <td>...</td>\n      <td>...</td>\n    </tr>\n    <tr>\n      <th>495</th>\n      <td>15</td>\n      <td>%7B%22sfrom%22%3A%22search_job_pc%22%2C%22d_cu...</td>\n      <td>{\"imId\":\"4f240e39c55f09d8eb9081834c58cfff\",\"im...</td>\n      <td>https://www.liepin.com/company/9513738/</td>\n      <td>上海慕楚广告有限公司</td>\n      <td>5bfea52174719d2aa34cdb1c03a.png</td>\n      <td>9513738.0</td>\n      <td>1-49人</td>\n      <td>广告/公关/会展</td>\n      <td>['网站策划', '品牌策划', '文案策划', '市场策划', '广告策划', '乙方公司...</td>\n      <td>...</td>\n      <td>d_sfrom=search_prime&amp;d_ckId=null&amp;d_curPage=12&amp;...</td>\n      <td>c768994050bbbd1bf2cd9a403fd66a72</td>\n      <td>袁先生</td>\n      <td>销售总监</td>\n      <td>4f240e39c55f09d8eb9081834c58cfff</td>\n      <td>2</td>\n      <td>False</td>\n      <td>593027ae70320c7ee19c474404a.png</td>\n      <td>融资未公开</td>\n      <td>NaN</td>\n    </tr>\n    <tr>\n      <th>496</th>\n      <td>16</td>\n      <td>%7B%22sfrom%22%3A%22search_job_pc%22%2C%22d_cu...</td>\n      <td>{\"imId\":\"24297bf868a23e5ec307fe6e334c0c05\",\"im...</td>\n      <td>https://www.liepin.com/company/9959983/</td>\n      <td>思楷学术</td>\n      <td>619c41d7836c061aae642be205u.jpg</td>\n      <td>9959983.0</td>\n      <td>50-99人</td>\n      <td>培训服务</td>\n      <td>['品牌推广', '市场推广', '活动策划', '广告策划', '市场策划', '公关策划...</td>\n      <td>...</td>\n      <td>d_sfrom=search_prime&amp;d_ckId=null&amp;d_curPage=12&amp;...</td>\n      <td>5d88aca67670ff6774081e56f65a0088</td>\n      <td>郭先生</td>\n      <td>市场部负责人</td>\n      <td>24297bf868a23e5ec307fe6e334c0c05</td>\n      <td>2</td>\n      <td>False</td>\n      <td>55da8dd645ce9445a6a4f25603a.jpg</td>\n      <td>融资未公开</td>\n      <td>NaN</td>\n    </tr>\n    <tr>\n      <th>497</th>\n      <td>17</td>\n      <td>%7B%22sfrom%22%3A%22search_job_pc%22%2C%22d_cu...</td>\n      <td>{\"imId\":\"ece719a60daff85fe3a362ce23913155\",\"im...</td>\n      <td>https://www.liepin.com/company/12578785/</td>\n      <td>上海匠恒装饰工程有限公司</td>\n      <td>61b07937d0458d53c627567e02u.jpg</td>\n      <td>12578785.0</td>\n      <td>1-49人</td>\n      <td>工程施工</td>\n      <td>['日语', 'ai软件', '文字编辑', '排版设计']</td>\n      <td>...</td>\n      <td>d_sfrom=search_prime&amp;d_ckId=null&amp;d_curPage=12&amp;...</td>\n      <td>cb8997d263dc1c9af1a1bf2756af9f29</td>\n      <td>周先生</td>\n      <td>COO</td>\n      <td>ece719a60daff85fe3a362ce23913155</td>\n      <td>2</td>\n      <td>False</td>\n      <td>5f8f9868f6d1ab58476f24a008u.jpg</td>\n      <td>融资未公开</td>\n      <td>NaN</td>\n    </tr>\n    <tr>\n      <th>498</th>\n      <td>18</td>\n      <td>%7B%22sfrom%22%3A%22search_job_pc%22%2C%22d_cu...</td>\n      <td>{\"imId\":\"0bffd7fc8c889cd44d437e75b9ab7ce8\",\"im...</td>\n      <td>https://www.liepin.com/company/8035004/</td>\n      <td>且康健康</td>\n      <td>5bfe971174719df0ac9926d103a.png</td>\n      <td>8035004.0</td>\n      <td>100-499人</td>\n      <td>互联网</td>\n      <td>['内容运营']</td>\n      <td>...</td>\n      <td>d_sfrom=search_prime&amp;d_ckId=null&amp;d_curPage=12&amp;...</td>\n      <td>c156f74812855132a5f9c7f9d66fdfa8</td>\n      <td>李女士</td>\n      <td>人事主管</td>\n      <td>0bffd7fc8c889cd44d437e75b9ab7ce8</td>\n      <td>2</td>\n      <td>False</td>\n      <td>5f8f9863f6d1ab58476f246a08u.jpg</td>\n      <td>A轮</td>\n      <td>NaN</td>\n    </tr>\n    <tr>\n      <th>499</th>\n      <td>19</td>\n      <td>%7B%22sfrom%22%3A%22search_job_pc%22%2C%22d_cu...</td>\n      <td>{\"imId\":\"1ad582860e4de3518d1ff84e0a6c6898\",\"im...</td>\n      <td>NaN</td>\n      <td>某大型食品/饮料/酒水公司</td>\n      <td>60e2fe0bf3df194a3c48adb502u.png</td>\n      <td>NaN</td>\n      <td>500-999人</td>\n      <td>食品/饮料/酒水</td>\n      <td>['快消品市场营销', '快消品品牌策划', '营销战略策划']</td>\n      <td>...</td>\n      <td>d_sfrom=search_prime&amp;d_ckId=null&amp;d_curPage=12&amp;...</td>\n      <td>cccf9f8f5a35777d9bc2a1d2053186e7</td>\n      <td>李女士</td>\n      <td>猎头顾问</td>\n      <td>1ad582860e4de3518d1ff84e0a6c6898</td>\n      <td>2</td>\n      <td>False</td>\n      <td>6153e77d78feba26ec5d760b08u.png</td>\n      <td>战略融资</td>\n      <td>NaN</td>\n    </tr>\n  </tbody>\n</table>\n<p>500 rows × 33 columns</p>\n</div>"
     },
     "execution_count": 59,
     "metadata": {},
     "output_type": "execute_result"
    }
   ],
   "source": [
    "df = pd.read_excel(f'excels/{cities}/{key}/{output_time}/猎聘{cities}-{key}-{output_time}.xlsx')\n",
    "df"
   ],
   "metadata": {
    "collapsed": false
   }
  },
  {
   "cell_type": "code",
   "execution_count": 60,
   "outputs": [
    {
     "name": "stdout",
     "output_type": "stream",
     "text": [
      "<class 'pandas.core.frame.DataFrame'>\n",
      "RangeIndex: 500 entries, 0 to 499\n",
      "Data columns (total 33 columns):\n",
      " #   Column                    Non-Null Count  Dtype  \n",
      "---  ------                    --------------  -----  \n",
      " 0   Unnamed: 0                500 non-null    int64  \n",
      " 1   dataInfo                  500 non-null    object \n",
      " 2   dataParams                500 non-null    object \n",
      " 3   comp.link                 398 non-null    object \n",
      " 4   comp.compName             500 non-null    object \n",
      " 5   comp.compLogo             500 non-null    object \n",
      " 6   comp.compId               398 non-null    float64\n",
      " 7   comp.compScale            489 non-null    object \n",
      " 8   comp.compIndustry         499 non-null    object \n",
      " 9   job.labels                500 non-null    object \n",
      " 10  job.link                  500 non-null    object \n",
      " 11  job.topJob                500 non-null    bool   \n",
      " 12  job.title                 500 non-null    object \n",
      " 13  job.jobId                 500 non-null    int64  \n",
      " 14  job.pcOuterLink           1 non-null      object \n",
      " 15  job.h5OuterLink           1 non-null      object \n",
      " 16  job.refreshTime           500 non-null    int64  \n",
      " 17  job.salary                500 non-null    object \n",
      " 18  job.requireEduLevel       492 non-null    object \n",
      " 19  job.dq                    500 non-null    object \n",
      " 20  job.jobKind               500 non-null    int64  \n",
      " 21  job.advViewFlag           500 non-null    bool   \n",
      " 22  job.requireWorkYears      492 non-null    object \n",
      " 23  job.dataPromId            500 non-null    object \n",
      " 24  recruiter.recruiterId     500 non-null    object \n",
      " 25  recruiter.recruiterName   500 non-null    object \n",
      " 26  recruiter.recruiterTitle  472 non-null    object \n",
      " 27  recruiter.imId            500 non-null    object \n",
      " 28  recruiter.imUserType      500 non-null    int64  \n",
      " 29  recruiter.chatted         500 non-null    bool   \n",
      " 30  recruiter.recruiterPhoto  500 non-null    object \n",
      " 31  comp.compStage            251 non-null    object \n",
      " 32  job.campusJobKind         8 non-null      object \n",
      "dtypes: bool(3), float64(1), int64(5), object(24)\n",
      "memory usage: 118.8+ KB\n"
     ]
    }
   ],
   "source": [
    "df.info()"
   ],
   "metadata": {
    "collapsed": false
   }
  },
  {
   "cell_type": "code",
   "execution_count": 61,
   "outputs": [
    {
     "data": {
      "text/plain": "500"
     },
     "execution_count": 61,
     "metadata": {},
     "output_type": "execute_result"
    }
   ],
   "source": [
    "len(df['job.link'])"
   ],
   "metadata": {
    "collapsed": false
   }
  },
  {
   "cell_type": "code",
   "execution_count": 62,
   "outputs": [
    {
     "data": {
      "text/plain": "'https://www.liepin.com/job/1956498145.shtml'"
     },
     "execution_count": 62,
     "metadata": {},
     "output_type": "execute_result"
    }
   ],
   "source": [
    "df['job.link'][0]"
   ],
   "metadata": {
    "collapsed": false
   }
  },
  {
   "cell_type": "markdown",
   "source": [
    "# 额外：加入特殊情况检测"
   ],
   "metadata": {
    "collapsed": false
   }
  },
  {
   "cell_type": "code",
   "execution_count": 63,
   "outputs": [],
   "source": [
    "if payload['data']['mainSearchPcConditionForm'][\"workYearCode\"]=='2':\n",
    "    df_PM_gz =  df[['job.title','job.labels','job.refreshTime','job.salary','job.dq','job.topJob','comp.compStage','comp.compName','comp.compIndustry','comp.compScale','job.link']]\n",
    "else:\n",
    "    df_PM_gz =  df[['job.title','job.labels','job.refreshTime','job.salary','job.dq','job.topJob','job.requireWorkYears','job.requireEduLevel','comp.compStage','comp.compName','comp.compIndustry','comp.compScale','job.link']]"
   ],
   "metadata": {
    "collapsed": false
   }
  },
  {
   "cell_type": "markdown",
   "source": [
    "# 15.重命名为通俗易懂的列头"
   ],
   "metadata": {
    "collapsed": false
   }
  },
  {
   "cell_type": "code",
   "execution_count": 64,
   "outputs": [],
   "source": [
    "# columns 重命名\n",
    "if payload['data']['mainSearchPcConditionForm'][\"workYearCode\"]=='2':\n",
    "    df_PM_gz = df_PM_gz.rename(columns={\n",
    "        'job.title':'职位',\n",
    "        'job.labels':'职位标签',\n",
    "        'job.refreshTime':'职位更新时间',\n",
    "        'job.salary':'薪资',\n",
    "        'job.dq':'地区',\n",
    "        'job.topJob':'是否top职位',\n",
    "        'comp.compStage':'公司融资情况',\n",
    "        'comp.compName':'公司名称',\n",
    "        'comp.compIndustry':'行业',\n",
    "        'comp.compScale':'规模',\n",
    "        'job.link':'岗位详情'\n",
    "    })\n",
    "else:\n",
    "    df_PM_gz = df_PM_gz.rename(columns={\n",
    "        'job.title':'职位',\n",
    "        'job.labels':'职位标签',\n",
    "        'job.refreshTime':'职位更新时间',\n",
    "        'job.salary':'薪资',\n",
    "        'job.dq':'地区',\n",
    "        'job.topJob':'是否top职位',\n",
    "        'job.requireWorkYears':'工作年限',\n",
    "        'job.requireEduLevel':'学历',\n",
    "        'comp.compStage':'公司融资情况',\n",
    "        'comp.compName':'公司名称',\n",
    "        'comp.compIndustry':'行业',\n",
    "        'comp.compScale':'规模',\n",
    "        'job.link':'岗位详情'\n",
    "    })"
   ],
   "metadata": {
    "collapsed": false
   }
  },
  {
   "cell_type": "markdown",
   "source": [
    "# 16.引入request_html并对每条标题子级网站进行访问以及内容爬取，即爬取岗位要求"
   ],
   "metadata": {
    "collapsed": false
   }
  },
  {
   "cell_type": "code",
   "execution_count": 65,
   "outputs": [],
   "source": [
    "from requests_html import HTMLSession\n",
    "session = HTMLSession()"
   ],
   "metadata": {
    "collapsed": false
   }
  },
  {
   "cell_type": "code",
   "execution_count": 66,
   "outputs": [],
   "source": [
    "import time\n",
    "import random\n",
    "sleep_time = random.randint(3,5)"
   ],
   "metadata": {
    "collapsed": false
   }
  },
  {
   "cell_type": "code",
   "execution_count": 66,
   "outputs": [],
   "source": [],
   "metadata": {
    "collapsed": false
   }
  },
  {
   "cell_type": "code",
   "execution_count": 67,
   "outputs": [
    {
     "ename": "IndexError",
     "evalue": "list index out of range",
     "output_type": "error",
     "traceback": [
      "\u001B[1;31m---------------------------------------------------------------------------\u001B[0m",
      "\u001B[1;31mIndexError\u001B[0m                                Traceback (most recent call last)",
      "Cell \u001B[1;32mIn[67], line 5\u001B[0m\n\u001B[0;32m      3\u001B[0m s \u001B[38;5;241m=\u001B[39m session\u001B[38;5;241m.\u001B[39mget(df[\u001B[38;5;124m'\u001B[39m\u001B[38;5;124mjob.link\u001B[39m\u001B[38;5;124m'\u001B[39m][i])\n\u001B[0;32m      4\u001B[0m command \u001B[38;5;241m=\u001B[39m s\u001B[38;5;241m.\u001B[39mhtml\u001B[38;5;241m.\u001B[39mfind(\u001B[38;5;124m'\u001B[39m\u001B[38;5;124mdd\u001B[39m\u001B[38;5;124m'\u001B[39m)\n\u001B[1;32m----> 5\u001B[0m 技能要求\u001B[38;5;241m.\u001B[39mappend(\u001B[43mcommand\u001B[49m\u001B[43m[\u001B[49m\u001B[38;5;241;43m0\u001B[39;49m\u001B[43m]\u001B[49m\u001B[38;5;241m.\u001B[39mtext)\n",
      "\u001B[1;31mIndexError\u001B[0m: list index out of range"
     ]
    }
   ],
   "source": [
    "技能要求 = []\n",
    "for i in range(len(df['job.link'])):\n",
    "    s = session.get(df['job.link'][i])\n",
    "    command = s.html.find('dd')\n",
    "    技能要求.append(command[0].text)"
   ],
   "metadata": {
    "collapsed": false
   }
  },
  {
   "cell_type": "code",
   "execution_count": null,
   "outputs": [],
   "source": [
    "技能要求"
   ],
   "metadata": {
    "collapsed": false
   }
  },
  {
   "cell_type": "markdown",
   "source": [
    "## 添加所爬取到的岗位要求的新列到表"
   ],
   "metadata": {
    "collapsed": false
   }
  },
  {
   "cell_type": "code",
   "execution_count": null,
   "outputs": [],
   "source": [
    "df_PM_gz['技能要求'] = 技能要求"
   ],
   "metadata": {
    "collapsed": false
   }
  },
  {
   "cell_type": "markdown",
   "source": [
    "# 17.处理时间数据"
   ],
   "metadata": {
    "collapsed": false
   }
  },
  {
   "cell_type": "code",
   "execution_count": 68,
   "outputs": [
    {
     "data": {
      "text/plain": "['2023年02月27日',\n '2023年08月18日',\n '2023年07月26日',\n '2019年12月03日',\n '2021年02月18日',\n '2023年11月28日',\n '2023年10月30日',\n '2023年12月06日',\n '2023年12月27日',\n '2023年07月27日',\n '2023年02月20日',\n '2021年05月26日',\n '2023年07月24日',\n '2023年12月25日',\n '2023年08月29日',\n '2023年08月29日',\n '2022年08月23日',\n '2022年03月01日',\n '2023年10月18日',\n '2021年06月21日',\n '2023年12月22日',\n '2019年12月02日',\n '2023年09月19日',\n '2021年09月26日',\n '2020年09月03日',\n '2021年09月04日',\n '2021年11月18日',\n '2022年03月27日',\n '2020年04月06日',\n '2020年10月03日',\n '2023年12月15日',\n '2023年03月24日',\n '2023年03月03日',\n '2023年05月16日',\n '2023年12月22日',\n '2023年05月04日',\n '2023年01月11日',\n '2022年08月01日',\n '2021年05月10日',\n '2022年01月15日',\n '2020年03月13日',\n '2021年04月19日',\n '2023年12月14日',\n '2023年12月11日',\n '2023年12月15日',\n '2023年12月13日',\n '2023年12月21日',\n '2023年12月13日',\n '2023年12月05日',\n '2023年12月20日',\n '2023年11月29日',\n '2023年12月02日',\n '2023年12月13日',\n '2023年12月25日',\n '2023年11月28日',\n '2023年12月07日',\n '2023年12月01日',\n '2023年12月05日',\n '2023年12月01日',\n '2023年12月06日',\n '2023年12月26日',\n '2023年10月08日',\n '2023年11月13日',\n '2023年07月10日',\n '2023年07月05日',\n '2023年08月17日',\n '2023年06月28日',\n '2023年12月23日',\n '2023年08月01日',\n '2023年09月25日',\n '2023年05月09日',\n '2021年10月22日',\n '2022年05月07日',\n '2021年12月29日',\n '2023年01月09日',\n '2021年02月20日',\n '2022年08月05日',\n '2021年10月19日',\n '2021年01月12日',\n '2020年01月09日',\n '2023年12月27日',\n '2023年10月11日',\n '2023年12月27日',\n '2023年04月19日',\n '2022年03月07日',\n '2023年12月04日',\n '2023年12月06日',\n '2023年12月27日',\n '2023年12月26日',\n '2023年12月01日',\n '2023年12月27日',\n '2023年12月27日',\n '2023年12月25日',\n '2023年11月22日',\n '2023年12月26日',\n '2023年12月04日',\n '2023年12月08日',\n '2023年12月25日',\n '2023年12月25日',\n '2023年12月26日',\n '2023年11月21日',\n '2023年06月09日',\n '2023年12月27日',\n '2023年11月12日',\n '2023年11月15日',\n '2023年11月21日',\n '2023年11月21日',\n '2023年05月24日',\n '2023年08月01日',\n '2019年05月10日',\n '2021年08月26日',\n '2021年05月31日',\n '2023年12月27日',\n '2023年10月27日',\n '2023年12月15日',\n '2023年12月27日',\n '2023年12月25日',\n '2023年12月18日',\n '2023年12月02日',\n '2023年11月30日',\n '2023年12月13日',\n '2023年12月16日',\n '2023年12月07日',\n '2023年12月22日',\n '2023年12月07日',\n '2023年11月24日',\n '2023年12月04日',\n '2023年12月11日',\n '2023年12月27日',\n '2023年12月27日',\n '2023年12月27日',\n '2023年10月11日',\n '2023年12月27日',\n '2023年10月16日',\n '2023年12月26日',\n '2023年12月26日',\n '2023年12月02日',\n '2023年07月18日',\n '2023年12月19日',\n '2023年11月30日',\n '2023年10月30日',\n '2023年11月30日',\n '2023年12月08日',\n '2023年12月07日',\n '2023年12月19日',\n '2023年12月26日',\n '2023年12月06日',\n '2023年12月05日',\n '2023年12月21日',\n '2023年12月08日',\n '2023年11月16日',\n '2023年11月23日',\n '2023年12月20日',\n '2023年11月23日',\n '2023年12月27日',\n '2023年12月08日',\n '2023年12月12日',\n '2023年12月25日',\n '2023年12月18日',\n '2023年12月11日',\n '2023年12月13日',\n '2023年11月20日',\n '2023年12月07日',\n '2023年12月21日',\n '2023年12月21日',\n '2023年12月19日',\n '2023年12月19日',\n '2023年12月19日',\n '2023年12月11日',\n '2023年11月30日',\n '2023年11月29日',\n '2023年12月13日',\n '2023年12月08日',\n '2023年12月15日',\n '2023年11月29日',\n '2023年12月19日',\n '2023年12月20日',\n '2023年12月15日',\n '2023年12月22日',\n '2023年11月30日',\n '2023年12月21日',\n '2023年10月08日',\n '2023年11月22日',\n '2023年12月25日',\n '2023年12月27日',\n '2023年12月14日',\n '2023年12月26日',\n '2023年12月25日',\n '2023年12月27日',\n '2023年12月21日',\n '2023年12月06日',\n '2023年12月27日',\n '2023年12月19日',\n '2023年12月27日',\n '2023年12月11日',\n '2023年12月25日',\n '2023年12月04日',\n '2023年11月30日',\n '2023年12月26日',\n '2023年09月04日',\n '2023年09月04日',\n '2023年12月04日',\n '2023年11月26日',\n '2023年12月26日',\n '2023年12月11日',\n '2023年12月25日',\n '2023年12月06日',\n '2023年12月05日',\n '2023年12月27日',\n '2023年12月15日',\n '2023年12月18日',\n '2023年10月16日',\n '2023年10月27日',\n '2023年12月11日',\n '2023年12月05日',\n '2023年12月15日',\n '2023年11月23日',\n '2023年12月05日',\n '2023年07月12日',\n '2023年07月12日',\n '2023年12月26日',\n '2023年12月05日',\n '2023年09月06日',\n '2023年12月27日',\n '2023年12月05日',\n '2023年12月07日',\n '2023年12月27日',\n '2023年09月26日',\n '2023年04月26日',\n '2023年12月07日',\n '2023年11月01日',\n '2023年11月27日',\n '2023年08月30日',\n '2023年11月09日',\n '2023年11月06日',\n '2023年12月12日',\n '2023年12月27日',\n '2023年11月01日',\n '2023年07月18日',\n '2023年12月07日',\n '2023年11月13日',\n '2023年10月31日',\n '2023年09月25日',\n '2023年11月13日',\n '2023年04月14日',\n '2023年10月16日',\n '2023年09月05日',\n '2023年12月27日',\n '2023年12月26日',\n '2023年11月09日',\n '2023年10月10日',\n '2023年11月01日',\n '2020年11月25日',\n '2023年11月20日',\n '2023年11月20日',\n '2023年06月08日',\n '2023年10月19日',\n '2023年10月17日',\n '2023年12月27日',\n '2022年11月17日',\n '2023年11月09日',\n '2023年12月22日',\n '2023年07月18日',\n '2023年11月21日',\n '2023年09月28日',\n '2023年11月01日',\n '2023年10月08日',\n '2023年03月30日',\n '2023年10月24日',\n '2023年11月16日',\n '2023年08月30日',\n '2023年08月01日',\n '2023年09月08日',\n '2023年08月07日',\n '2023年10月18日',\n '2023年11月01日',\n '2023年10月07日',\n '2023年11月21日',\n '2023年11月17日',\n '2023年11月23日',\n '2023年12月22日',\n '2023年10月17日',\n '2023年11月24日',\n '2023年11月21日',\n '2022年08月29日',\n '2023年11月20日',\n '2023年11月23日',\n '2023年07月24日',\n '2022年12月29日',\n '2023年10月16日',\n '2023年12月27日',\n '2023年11月10日',\n '2023年12月20日',\n '2023年11月23日',\n '2021年05月31日',\n '2023年04月12日',\n '2023年07月20日',\n '2023年08月24日',\n '2023年09月18日',\n '2023年10月16日',\n '2023年07月17日',\n '2023年11月03日',\n '2022年10月25日',\n '2023年12月22日',\n '2023年05月25日',\n '2023年07月24日',\n '2023年04月23日',\n '2023年09月19日',\n '2023年11月08日',\n '2023年10月31日',\n '2023年11月22日',\n '2022年02月18日',\n '2023年12月22日',\n '2023年04月23日',\n '2023年03月07日',\n '2023年11月09日',\n '2023年07月24日',\n '2023年10月11日',\n '2023年12月22日',\n '2023年10月07日',\n '2023年04月12日',\n '2023年11月14日',\n '2023年10月12日',\n '2023年12月25日',\n '2023年09月27日',\n '2023年01月05日',\n '2023年10月09日',\n '2023年11月14日',\n '2023年12月22日',\n '2023年03月13日',\n '2023年06月14日',\n '2023年09月12日',\n '2023年09月18日',\n '2023年08月30日',\n '2023年12月22日',\n '2023年11月05日',\n '2023年06月14日',\n '2022年11月09日',\n '2023年12月22日',\n '2023年09月26日',\n '2020年07月22日',\n '2020年11月17日',\n '2023年10月30日',\n '2023年10月12日',\n '2023年01月11日',\n '2022年02月11日',\n '2023年11月23日',\n '2023年07月10日',\n '2023年08月15日',\n '2022年08月29日',\n '2022年08月01日',\n '2021年12月09日',\n '2023年10月17日',\n '2023年08月22日',\n '2022年10月08日',\n '2023年05月17日',\n '2022年07月18日',\n '2022年10月19日',\n '2023年07月26日',\n '2023年07月03日',\n '2022年11月30日',\n '2023年08月30日',\n '2023年12月22日',\n '2023年12月22日',\n '2023年12月22日',\n '2023年01月30日',\n '2023年12月22日',\n '2019年09月30日',\n '2023年02月02日',\n '2022年10月08日',\n '2023年12月25日',\n '2023年12月22日',\n '2023年03月30日',\n '2023年09月04日',\n '2023年07月18日',\n '2023年09月12日',\n '2022年11月29日',\n '2023年06月14日',\n '2023年09月05日',\n '2021年03月07日',\n '2021年04月08日',\n '2023年03月17日',\n '2022年02月11日',\n '2021年08月03日',\n '2022年06月16日',\n '2023年03月28日',\n '2023年12月25日',\n '2023年02月22日',\n '2023年03月16日',\n '2023年03月07日',\n '2020年08月17日',\n '2023年09月01日',\n '2023年09月05日',\n '2022年11月24日',\n '2022年01月15日',\n '2023年08月23日',\n '2022年11月09日',\n '2020年10月22日',\n '2023年03月21日',\n '2022年04月06日',\n '2021年08月25日',\n '2023年06月01日',\n '2021年02月22日',\n '2022年10月19日',\n '2023年03月16日',\n '2023年03月03日',\n '2023年03月06日',\n '2022年07月04日',\n '2022年06月15日',\n '2022年12月28日',\n '2023年05月29日',\n '2021年12月20日',\n '2022年06月02日',\n '2022年06月29日',\n '2021年06月25日',\n '2021年09月29日',\n '2022年10月20日',\n '2021年08月17日',\n '2021年12月11日',\n '2021年05月30日',\n '2021年06月28日',\n '2021年03月11日',\n '2021年08月13日',\n '2023年03月01日',\n '2020年11月16日',\n '2021年06月01日',\n '2020年05月17日',\n '2022年11月17日',\n '2019年08月21日',\n '2023年06月05日',\n '2021年08月13日',\n '2022年02月17日',\n '2023年03月23日',\n '2022年10月26日',\n '2023年05月25日',\n '2022年01月28日',\n '2021年08月17日',\n '2022年01月25日',\n '2021年10月08日',\n '2020年08月13日',\n '2021年05月18日',\n '2020年04月26日',\n '2022年02月11日',\n '2021年03月21日',\n '2023年04月28日',\n '2022年11月07日',\n '2023年03月03日',\n '2022年11月09日',\n '2021年12月17日',\n '2021年09月10日',\n '2020年12月28日',\n '2020年10月24日',\n '2020年08月17日',\n '2021年12月08日',\n '2021年08月26日',\n '2019年06月14日',\n '2020年12月15日',\n '2020年11月27日',\n '2022年11月25日',\n '2021年08月19日',\n '2020年10月29日',\n '2021年05月25日',\n '2021年10月20日',\n '2022年06月16日',\n '2020年05月09日',\n '2021年11月01日',\n '2020年11月11日',\n '2021年04月25日',\n '2021年02月26日',\n '2019年09月23日',\n '2022年03月18日',\n '2022年01月12日',\n '2021年02月25日',\n '2019年10月30日',\n '2020年11月11日',\n '2022年12月08日',\n '2021年10月12日',\n '2021年09月02日',\n '2021年10月12日',\n '2020年04月06日',\n '2020年09月19日',\n '2022年11月11日',\n '2021年08月13日',\n '2022年12月06日',\n '2021年01月27日',\n '2021年08月11日',\n '2021年07月28日',\n '2019年10月24日',\n '2020年10月09日',\n '2021年04月29日',\n '2022年03月04日',\n '2020年04月07日',\n '2022年11月27日',\n '2019年12月26日',\n '2021年12月28日',\n '2021年02月22日',\n '2019年03月30日',\n '2021年03月30日',\n '2023年12月26日',\n '2023年12月26日']"
     },
     "execution_count": 68,
     "metadata": {},
     "output_type": "execute_result"
    }
   ],
   "source": [
    "dates = []\n",
    "for i in range(len(df_PM_gz['职位更新时间'])):\n",
    "    years = str(df_PM_gz['职位更新时间'][i])[0:4]\n",
    "    months = str(df_PM_gz['职位更新时间'][i])[4:6]\n",
    "    days = str(df_PM_gz['职位更新时间'][i])[6:8]\n",
    "    dates.append(years+'年'+months+'月'+days+'日')\n",
    "dates"
   ],
   "metadata": {
    "collapsed": false
   }
  },
  {
   "cell_type": "code",
   "execution_count": 69,
   "outputs": [],
   "source": [
    "df_PM_gz['职位更新时间'] = dates"
   ],
   "metadata": {
    "collapsed": false
   }
  },
  {
   "cell_type": "markdown",
   "source": [
    "# 18.处理top职位为中文"
   ],
   "metadata": {
    "collapsed": false
   }
  },
  {
   "cell_type": "code",
   "execution_count": 70,
   "outputs": [
    {
     "name": "stderr",
     "output_type": "stream",
     "text": [
      "C:\\Users\\17728\\AppData\\Local\\Temp\\ipykernel_10736\\1958569130.py:3: SettingWithCopyWarning: \n",
      "A value is trying to be set on a copy of a slice from a DataFrame\n",
      "\n",
      "See the caveats in the documentation: https://pandas.pydata.org/pandas-docs/stable/user_guide/indexing.html#returning-a-view-versus-a-copy\n",
      "  df_PM_gz['是否top职位'][i] = '否'\n"
     ]
    }
   ],
   "source": [
    "for i in range(len(df_PM_gz['是否top职位'])):\n",
    "    if df_PM_gz['是否top职位'][i] == False:\n",
    "        df_PM_gz['是否top职位'][i] = '否'\n",
    "    else:\n",
    "        df_PM_gz['是否top职位'][i] = '是'"
   ],
   "metadata": {
    "collapsed": false
   }
  },
  {
   "cell_type": "markdown",
   "source": [
    "# 19.删除多余行"
   ],
   "metadata": {
    "collapsed": false
   }
  },
  {
   "cell_type": "code",
   "execution_count": 71,
   "outputs": [],
   "source": [
    "# df_PM_gz = df_PM_gz.drop('Unnamed: 0', axis=1)"
   ],
   "metadata": {
    "collapsed": false
   }
  },
  {
   "cell_type": "markdown",
   "source": [
    "# 20.添加序号"
   ],
   "metadata": {
    "collapsed": false
   }
  },
  {
   "cell_type": "code",
   "execution_count": 72,
   "outputs": [
    {
     "data": {
      "text/plain": "['1',\n '2',\n '3',\n '4',\n '5',\n '6',\n '7',\n '8',\n '9',\n '10',\n '11',\n '12',\n '13',\n '14',\n '15',\n '16',\n '17',\n '18',\n '19',\n '20',\n '21',\n '22',\n '23',\n '24',\n '25',\n '26',\n '27',\n '28',\n '29',\n '30',\n '31',\n '32',\n '33',\n '34',\n '35',\n '36',\n '37',\n '38',\n '39',\n '40',\n '41',\n '42',\n '43',\n '44',\n '45',\n '46',\n '47',\n '48',\n '49',\n '50',\n '51',\n '52',\n '53',\n '54',\n '55',\n '56',\n '57',\n '58',\n '59',\n '60',\n '61',\n '62',\n '63',\n '64',\n '65',\n '66',\n '67',\n '68',\n '69',\n '70',\n '71',\n '72',\n '73',\n '74',\n '75',\n '76',\n '77',\n '78',\n '79',\n '80',\n '81',\n '82',\n '83',\n '84',\n '85',\n '86',\n '87',\n '88',\n '89',\n '90',\n '91',\n '92',\n '93',\n '94',\n '95',\n '96',\n '97',\n '98',\n '99',\n '100',\n '101',\n '102',\n '103',\n '104',\n '105',\n '106',\n '107',\n '108',\n '109',\n '110',\n '111',\n '112',\n '113',\n '114',\n '115',\n '116',\n '117',\n '118',\n '119',\n '120',\n '121',\n '122',\n '123',\n '124',\n '125',\n '126',\n '127',\n '128',\n '129',\n '130',\n '131',\n '132',\n '133',\n '134',\n '135',\n '136',\n '137',\n '138',\n '139',\n '140',\n '141',\n '142',\n '143',\n '144',\n '145',\n '146',\n '147',\n '148',\n '149',\n '150',\n '151',\n '152',\n '153',\n '154',\n '155',\n '156',\n '157',\n '158',\n '159',\n '160',\n '161',\n '162',\n '163',\n '164',\n '165',\n '166',\n '167',\n '168',\n '169',\n '170',\n '171',\n '172',\n '173',\n '174',\n '175',\n '176',\n '177',\n '178',\n '179',\n '180',\n '181',\n '182',\n '183',\n '184',\n '185',\n '186',\n '187',\n '188',\n '189',\n '190',\n '191',\n '192',\n '193',\n '194',\n '195',\n '196',\n '197',\n '198',\n '199',\n '200',\n '201',\n '202',\n '203',\n '204',\n '205',\n '206',\n '207',\n '208',\n '209',\n '210',\n '211',\n '212',\n '213',\n '214',\n '215',\n '216',\n '217',\n '218',\n '219',\n '220',\n '221',\n '222',\n '223',\n '224',\n '225',\n '226',\n '227',\n '228',\n '229',\n '230',\n '231',\n '232',\n '233',\n '234',\n '235',\n '236',\n '237',\n '238',\n '239',\n '240',\n '241',\n '242',\n '243',\n '244',\n '245',\n '246',\n '247',\n '248',\n '249',\n '250',\n '251',\n '252',\n '253',\n '254',\n '255',\n '256',\n '257',\n '258',\n '259',\n '260',\n '261',\n '262',\n '263',\n '264',\n '265',\n '266',\n '267',\n '268',\n '269',\n '270',\n '271',\n '272',\n '273',\n '274',\n '275',\n '276',\n '277',\n '278',\n '279',\n '280',\n '281',\n '282',\n '283',\n '284',\n '285',\n '286',\n '287',\n '288',\n '289',\n '290',\n '291',\n '292',\n '293',\n '294',\n '295',\n '296',\n '297',\n '298',\n '299',\n '300',\n '301',\n '302',\n '303',\n '304',\n '305',\n '306',\n '307',\n '308',\n '309',\n '310',\n '311',\n '312',\n '313',\n '314',\n '315',\n '316',\n '317',\n '318',\n '319',\n '320',\n '321',\n '322',\n '323',\n '324',\n '325',\n '326',\n '327',\n '328',\n '329',\n '330',\n '331',\n '332',\n '333',\n '334',\n '335',\n '336',\n '337',\n '338',\n '339',\n '340',\n '341',\n '342',\n '343',\n '344',\n '345',\n '346',\n '347',\n '348',\n '349',\n '350',\n '351',\n '352',\n '353',\n '354',\n '355',\n '356',\n '357',\n '358',\n '359',\n '360',\n '361',\n '362',\n '363',\n '364',\n '365',\n '366',\n '367',\n '368',\n '369',\n '370',\n '371',\n '372',\n '373',\n '374',\n '375',\n '376',\n '377',\n '378',\n '379',\n '380',\n '381',\n '382',\n '383',\n '384',\n '385',\n '386',\n '387',\n '388',\n '389',\n '390',\n '391',\n '392',\n '393',\n '394',\n '395',\n '396',\n '397',\n '398',\n '399',\n '400',\n '401',\n '402',\n '403',\n '404',\n '405',\n '406',\n '407',\n '408',\n '409',\n '410',\n '411',\n '412',\n '413',\n '414',\n '415',\n '416',\n '417',\n '418',\n '419',\n '420',\n '421',\n '422',\n '423',\n '424',\n '425',\n '426',\n '427',\n '428',\n '429',\n '430',\n '431',\n '432',\n '433',\n '434',\n '435',\n '436',\n '437',\n '438',\n '439',\n '440',\n '441',\n '442',\n '443',\n '444',\n '445',\n '446',\n '447',\n '448',\n '449',\n '450',\n '451',\n '452',\n '453',\n '454',\n '455',\n '456',\n '457',\n '458',\n '459',\n '460',\n '461',\n '462',\n '463',\n '464',\n '465',\n '466',\n '467',\n '468',\n '469',\n '470',\n '471',\n '472',\n '473',\n '474',\n '475',\n '476',\n '477',\n '478',\n '479',\n '480',\n '481',\n '482',\n '483',\n '484',\n '485',\n '486',\n '487',\n '488',\n '489',\n '490',\n '491',\n '492',\n '493',\n '494',\n '495',\n '496',\n '497',\n '498',\n '499',\n '500']"
     },
     "execution_count": 72,
     "metadata": {},
     "output_type": "execute_result"
    }
   ],
   "source": [
    "序号 = []\n",
    "for i in range(len(df_PM_gz['职位更新时间'])):\n",
    "    序号.append(str(i+1))\n",
    "序号"
   ],
   "metadata": {
    "collapsed": false
   }
  },
  {
   "cell_type": "code",
   "execution_count": 73,
   "outputs": [],
   "source": [
    "df_PM_gz.insert(0,'序号',序号)"
   ],
   "metadata": {
    "collapsed": false
   }
  },
  {
   "cell_type": "markdown",
   "source": [
    "# 21.输出最终表"
   ],
   "metadata": {
    "collapsed": false
   }
  },
  {
   "cell_type": "code",
   "execution_count": 74,
   "outputs": [],
   "source": [
    "df_PM_gz.to_excel(f'excels/{cities}/{key}/{output_time}/猎聘{cities}-{key}-{output_time}.xlsx')"
   ],
   "metadata": {
    "collapsed": false
   }
  },
  {
   "cell_type": "markdown",
   "source": [
    "## 额外：计算各个市的区的平均薪资"
   ],
   "metadata": {
    "collapsed": false
   }
  },
  {
   "cell_type": "code",
   "execution_count": 75,
   "outputs": [
    {
     "data": {
      "text/plain": "      序号                                      职位  \\\n0      1                                  电商广告策划   \n1      2                                    广告策划   \n2      3  实习生（广告策划执行） – Digital Marketing Intern   \n3      4                                 广告策划/文案   \n4      5                             广告策划方向应届毕业生   \n..   ...                                     ...   \n495  496                                  文案策划编辑   \n496  497                                    市场专员   \n497  498                                    品牌运营   \n498  499                                    内容策划   \n499  500                                快消食品市场总监   \n\n                                                  职位标签       职位更新时间  \\\n0                                             ['电商平台']  2023年02月27日   \n1                                             ['广告策划']  2023年08月18日   \n2                                                   []  2023年07月26日   \n3            ['媒介媒体', '广告文案', '活动文案', '新媒体文案', '品牌文案']  2019年12月03日   \n4                                             ['内容运营']  2021年02月18日   \n..                                                 ...          ...   \n495  ['网站策划', '品牌策划', '文案策划', '市场策划', '广告策划', '乙方公司...  2021年02月22日   \n496  ['品牌推广', '市场推广', '活动策划', '广告策划', '市场策划', '公关策划...  2019年03月30日   \n497                     ['日语', 'ai软件', '文字编辑', '排版设计']  2021年03月30日   \n498                                           ['内容运营']  2023年12月26日   \n499                   ['快消品市场营销', '快消品品牌策划', '营销战略策划']  2023年12月26日   \n\n            薪资       地区 是否top职位  工作年限    学历 公司融资情况           公司名称        行业  \\\n0    8-11k·13薪   上海-静安区       否  经验不限    本科    NaN   群邑(上海)广告有限公司  广告/公关/会展   \n1        9-12k   上海-静安区       否  经验不限    本科  融资未公开           有料广告    专业技术服务   \n2         2-4k   上海-徐汇区       否  经验不限    本科  融资未公开            瀚与翼    专业技术服务   \n3        8-12k       上海       否  经验不限    本科    NaN     上海写拾广告有限公司  广播/影视/录音   \n4    6-11k·13薪       上海       否  经验不限    本科  融资未公开   上海贝书管理咨询有限公司  广告/公关/会展   \n..         ...      ...     ...   ...   ...    ...            ...       ...   \n495      6-10k   上海-徐汇区       否  1-3年    大专  融资未公开     上海慕楚广告有限公司  广告/公关/会展   \n496  6-10k·13薪  上海-浦东新区       否  1-3年    大专  融资未公开           思楷学术      培训服务   \n497   4-6k·13薪   上海-闵行区       否  经验不限  学历不限  融资未公开   上海匠恒装饰工程有限公司      工程施工   \n498     10-15k       上海       否  3-5年    本科     A轮           且康健康       互联网   \n499     30-60k       上海       否  经验不限  统招本科   战略融资  某大型食品/饮料/酒水公司  食品/饮料/酒水   \n\n           规模                                         岗位详情  \n0    10000人以上  https://www.liepin.com/job/1956498145.shtml  \n1       1-49人  https://www.liepin.com/job/1958806367.shtml  \n2      50-99人  https://www.liepin.com/job/1946447123.shtml  \n3       1-49人  https://www.liepin.com/job/1925088147.shtml  \n4       1-49人  https://www.liepin.com/job/1935867731.shtml  \n..        ...                                          ...  \n495     1-49人  https://www.liepin.com/job/1925393441.shtml  \n496    50-99人  https://www.liepin.com/job/1918555149.shtml  \n497     1-49人  https://www.liepin.com/job/1936235933.shtml  \n498  100-499人  https://www.liepin.com/job/1963855217.shtml  \n499  500-999人      https://www.liepin.com/a/51828497.shtml  \n\n[483 rows x 14 columns]",
      "text/html": "<div>\n<style scoped>\n    .dataframe tbody tr th:only-of-type {\n        vertical-align: middle;\n    }\n\n    .dataframe tbody tr th {\n        vertical-align: top;\n    }\n\n    .dataframe thead th {\n        text-align: right;\n    }\n</style>\n<table border=\"1\" class=\"dataframe\">\n  <thead>\n    <tr style=\"text-align: right;\">\n      <th></th>\n      <th>序号</th>\n      <th>职位</th>\n      <th>职位标签</th>\n      <th>职位更新时间</th>\n      <th>薪资</th>\n      <th>地区</th>\n      <th>是否top职位</th>\n      <th>工作年限</th>\n      <th>学历</th>\n      <th>公司融资情况</th>\n      <th>公司名称</th>\n      <th>行业</th>\n      <th>规模</th>\n      <th>岗位详情</th>\n    </tr>\n  </thead>\n  <tbody>\n    <tr>\n      <th>0</th>\n      <td>1</td>\n      <td>电商广告策划</td>\n      <td>['电商平台']</td>\n      <td>2023年02月27日</td>\n      <td>8-11k·13薪</td>\n      <td>上海-静安区</td>\n      <td>否</td>\n      <td>经验不限</td>\n      <td>本科</td>\n      <td>NaN</td>\n      <td>群邑(上海)广告有限公司</td>\n      <td>广告/公关/会展</td>\n      <td>10000人以上</td>\n      <td>https://www.liepin.com/job/1956498145.shtml</td>\n    </tr>\n    <tr>\n      <th>1</th>\n      <td>2</td>\n      <td>广告策划</td>\n      <td>['广告策划']</td>\n      <td>2023年08月18日</td>\n      <td>9-12k</td>\n      <td>上海-静安区</td>\n      <td>否</td>\n      <td>经验不限</td>\n      <td>本科</td>\n      <td>融资未公开</td>\n      <td>有料广告</td>\n      <td>专业技术服务</td>\n      <td>1-49人</td>\n      <td>https://www.liepin.com/job/1958806367.shtml</td>\n    </tr>\n    <tr>\n      <th>2</th>\n      <td>3</td>\n      <td>实习生（广告策划执行） – Digital Marketing Intern</td>\n      <td>[]</td>\n      <td>2023年07月26日</td>\n      <td>2-4k</td>\n      <td>上海-徐汇区</td>\n      <td>否</td>\n      <td>经验不限</td>\n      <td>本科</td>\n      <td>融资未公开</td>\n      <td>瀚与翼</td>\n      <td>专业技术服务</td>\n      <td>50-99人</td>\n      <td>https://www.liepin.com/job/1946447123.shtml</td>\n    </tr>\n    <tr>\n      <th>3</th>\n      <td>4</td>\n      <td>广告策划/文案</td>\n      <td>['媒介媒体', '广告文案', '活动文案', '新媒体文案', '品牌文案']</td>\n      <td>2019年12月03日</td>\n      <td>8-12k</td>\n      <td>上海</td>\n      <td>否</td>\n      <td>经验不限</td>\n      <td>本科</td>\n      <td>NaN</td>\n      <td>上海写拾广告有限公司</td>\n      <td>广播/影视/录音</td>\n      <td>1-49人</td>\n      <td>https://www.liepin.com/job/1925088147.shtml</td>\n    </tr>\n    <tr>\n      <th>4</th>\n      <td>5</td>\n      <td>广告策划方向应届毕业生</td>\n      <td>['内容运营']</td>\n      <td>2021年02月18日</td>\n      <td>6-11k·13薪</td>\n      <td>上海</td>\n      <td>否</td>\n      <td>经验不限</td>\n      <td>本科</td>\n      <td>融资未公开</td>\n      <td>上海贝书管理咨询有限公司</td>\n      <td>广告/公关/会展</td>\n      <td>1-49人</td>\n      <td>https://www.liepin.com/job/1935867731.shtml</td>\n    </tr>\n    <tr>\n      <th>...</th>\n      <td>...</td>\n      <td>...</td>\n      <td>...</td>\n      <td>...</td>\n      <td>...</td>\n      <td>...</td>\n      <td>...</td>\n      <td>...</td>\n      <td>...</td>\n      <td>...</td>\n      <td>...</td>\n      <td>...</td>\n      <td>...</td>\n      <td>...</td>\n    </tr>\n    <tr>\n      <th>495</th>\n      <td>496</td>\n      <td>文案策划编辑</td>\n      <td>['网站策划', '品牌策划', '文案策划', '市场策划', '广告策划', '乙方公司...</td>\n      <td>2021年02月22日</td>\n      <td>6-10k</td>\n      <td>上海-徐汇区</td>\n      <td>否</td>\n      <td>1-3年</td>\n      <td>大专</td>\n      <td>融资未公开</td>\n      <td>上海慕楚广告有限公司</td>\n      <td>广告/公关/会展</td>\n      <td>1-49人</td>\n      <td>https://www.liepin.com/job/1925393441.shtml</td>\n    </tr>\n    <tr>\n      <th>496</th>\n      <td>497</td>\n      <td>市场专员</td>\n      <td>['品牌推广', '市场推广', '活动策划', '广告策划', '市场策划', '公关策划...</td>\n      <td>2019年03月30日</td>\n      <td>6-10k·13薪</td>\n      <td>上海-浦东新区</td>\n      <td>否</td>\n      <td>1-3年</td>\n      <td>大专</td>\n      <td>融资未公开</td>\n      <td>思楷学术</td>\n      <td>培训服务</td>\n      <td>50-99人</td>\n      <td>https://www.liepin.com/job/1918555149.shtml</td>\n    </tr>\n    <tr>\n      <th>497</th>\n      <td>498</td>\n      <td>品牌运营</td>\n      <td>['日语', 'ai软件', '文字编辑', '排版设计']</td>\n      <td>2021年03月30日</td>\n      <td>4-6k·13薪</td>\n      <td>上海-闵行区</td>\n      <td>否</td>\n      <td>经验不限</td>\n      <td>学历不限</td>\n      <td>融资未公开</td>\n      <td>上海匠恒装饰工程有限公司</td>\n      <td>工程施工</td>\n      <td>1-49人</td>\n      <td>https://www.liepin.com/job/1936235933.shtml</td>\n    </tr>\n    <tr>\n      <th>498</th>\n      <td>499</td>\n      <td>内容策划</td>\n      <td>['内容运营']</td>\n      <td>2023年12月26日</td>\n      <td>10-15k</td>\n      <td>上海</td>\n      <td>否</td>\n      <td>3-5年</td>\n      <td>本科</td>\n      <td>A轮</td>\n      <td>且康健康</td>\n      <td>互联网</td>\n      <td>100-499人</td>\n      <td>https://www.liepin.com/job/1963855217.shtml</td>\n    </tr>\n    <tr>\n      <th>499</th>\n      <td>500</td>\n      <td>快消食品市场总监</td>\n      <td>['快消品市场营销', '快消品品牌策划', '营销战略策划']</td>\n      <td>2023年12月26日</td>\n      <td>30-60k</td>\n      <td>上海</td>\n      <td>否</td>\n      <td>经验不限</td>\n      <td>统招本科</td>\n      <td>战略融资</td>\n      <td>某大型食品/饮料/酒水公司</td>\n      <td>食品/饮料/酒水</td>\n      <td>500-999人</td>\n      <td>https://www.liepin.com/a/51828497.shtml</td>\n    </tr>\n  </tbody>\n</table>\n<p>483 rows × 14 columns</p>\n</div>"
     },
     "execution_count": 75,
     "metadata": {},
     "output_type": "execute_result"
    }
   ],
   "source": [
    "非薪资面议 = df_PM_gz [ ~df_PM_gz['薪资'].str.contains(\"面议|元/天\")]\n",
    "非薪资面议"
   ],
   "metadata": {
    "collapsed": false
   }
  },
  {
   "cell_type": "code",
   "execution_count": 76,
   "outputs": [
    {
     "data": {
      "text/plain": "[['8-11k', '13'],\n ['9-12k'],\n ['2-4k'],\n ['8-12k'],\n ['6-11k', '13'],\n ['7-12k', '13'],\n ['3-6k'],\n ['12-18k', '13'],\n ['7-12k'],\n ['8-15k'],\n ['10-20k'],\n ['10-15k'],\n ['13-15k'],\n ['7-11k'],\n ['5-6k'],\n ['8-12k', '15'],\n ['6-10k', '13'],\n ['12-21k'],\n ['5-10k'],\n ['4-8k', '13'],\n ['5-6k'],\n ['8-13k'],\n ['4-6k'],\n ['5-8k'],\n ['8-10k'],\n ['20-40k', '15'],\n ['20-40k', '15'],\n ['20-40k', '15'],\n ['70-100k'],\n ['15-35k', '15'],\n ['12-18k', '13'],\n ['20-35k', '16'],\n ['10-20k'],\n ['8-15k'],\n ['6-10k'],\n ['12-20k', '13'],\n ['35-60k'],\n ['20-35k', '16'],\n ['25-45k', '15'],\n ['20-40k'],\n ['20-40k', '15'],\n ['18-25k'],\n ['10-15k', '13'],\n ['25-45k', '15'],\n ['30-50k', '15'],\n ['20-35k', '16'],\n ['55-65k', '14'],\n ['15-25k'],\n ['20-30k', '13'],\n ['15-22k', '13'],\n ['10-15k', '13'],\n ['16-20k', '13'],\n ['10-13k', '13'],\n ['10-20k'],\n ['30-50k', '13'],\n ['10-15k'],\n ['13-18k', '13'],\n ['10-20k'],\n ['20-45k', '15'],\n ['10-15k'],\n ['10-15k'],\n ['10-15k', '13'],\n ['11-16k', '13'],\n ['25-35k'],\n ['8-20k'],\n ['15-25k'],\n ['13-25k'],\n ['5-10k'],\n ['10-15k'],\n ['7-11k', '13'],\n ['6-10k'],\n ['15-20k'],\n ['8-12k'],\n ['18-22k'],\n ['8-24k'],\n ['18-22k', '16'],\n ['6-9k'],\n ['25-50k', '16'],\n ['40-70k', '16'],\n ['20-25k', '14'],\n ['20-25k', '14'],\n ['20-40k', '16'],\n ['30-40k'],\n ['30-40k', '16'],\n ['20-25k'],\n ['35-65k', '16'],\n ['25-40k', '16'],\n ['20-30k'],\n ['30-35k', '16'],\n ['10-17k'],\n ['10-20k'],\n ['20-35k', '16'],\n ['30-40k'],\n ['8-10k'],\n ['16-26k', '13'],\n ['25-50k'],\n ['29-45k', '16'],\n ['25-45k', '16'],\n ['30-50k', '16'],\n ['20-25k', '14'],\n ['20-30k'],\n ['6-8k'],\n ['8-14k', '13'],\n ['8-15k'],\n ['15-25k', '13'],\n ['20-40k', '15'],\n ['55-85k'],\n ['50-80k'],\n ['20-30k', '13'],\n ['50-80k'],\n ['75-85k'],\n ['35-45k'],\n ['50-80k'],\n ['50-80k'],\n ['55-85k'],\n ['23-30k', '13'],\n ['30-50k', '13'],\n ['25-35k'],\n ['60-80k'],\n ['55-85k'],\n ['70-90k'],\n ['20-25k', '13'],\n ['25-30k'],\n ['19-28k', '20'],\n ['30-50k'],\n ['18-25k', '20'],\n ['25-30k', '13'],\n ['50-80k'],\n ['60-90k'],\n ['15-40k', '15'],\n ['23-30k', '13'],\n ['25-33k'],\n ['15-30k'],\n ['20-40k'],\n ['15-25k', '15'],\n ['15-23k'],\n ['30-40k'],\n ['18-25k'],\n ['90-110k'],\n ['30-60k'],\n ['15-18k'],\n ['25-50k'],\n ['20-25k'],\n ['30-40k'],\n ['20-35k', '16'],\n ['30-40k'],\n ['25-50k'],\n ['50-80k'],\n ['20-30k', '13'],\n ['8-15k', '14'],\n ['14-17k', '13'],\n ['20-25k', '20'],\n ['18-26k'],\n ['10-15k'],\n ['18-35k', '13'],\n ['25-35k', '14'],\n ['9-15k'],\n ['12-20k'],\n ['25-30k'],\n ['11-15k'],\n ['45-65k'],\n ['30-40k'],\n ['30-50k', '15'],\n ['20-35k', '13'],\n ['35-60k', '14'],\n ['50-70k'],\n ['15-16k'],\n ['8-15k'],\n ['50-80k'],\n ['8-13k'],\n ['60-85k'],\n ['30-40k'],\n ['20-30k'],\n ['10-15k', '14'],\n ['30-50k'],\n ['35-50k', '14'],\n ['10-15k'],\n ['10-18k', '14'],\n ['12-20k'],\n ['15-20k'],\n ['8-10k'],\n ['9-10k', '13'],\n ['30-40k'],\n ['20-25k'],\n ['20-30k'],\n ['12-18k', '13'],\n ['20-30k'],\n ['15-25k', '13'],\n ['25-35k'],\n ['12-20k'],\n ['7-10k'],\n ['15-20k'],\n ['10-15k', '15'],\n ['25-30k', '14'],\n ['10-30k'],\n ['8-12k'],\n ['19-25k', '13'],\n ['15-19k', '16'],\n ['15-25k'],\n ['9-13k'],\n ['13-20k', '15'],\n ['100-150k', '14'],\n ['14-16k', '16'],\n ['8-13k'],\n ['15-20k'],\n ['15-30k'],\n ['7-10k'],\n ['15-25k', '13'],\n ['15-25k', '13'],\n ['15-20k', '14'],\n ['15-20k', '13'],\n ['12-20k', '13'],\n ['20-30k', '14'],\n ['19-25k'],\n ['8-12k'],\n ['8-13k', '13'],\n ['25-40k', '14'],\n ['20-40k', '13'],\n ['10-15k'],\n ['8-12k'],\n ['16-27k', '13'],\n ['30-60k'],\n ['100-200k'],\n ['10-15k'],\n ['8-13k', '13'],\n ['110-160k'],\n ['10-15k'],\n ['20-25k', '14'],\n ['15-20k'],\n ['15-30k'],\n ['35-40k'],\n ['20-30k'],\n ['50-80k'],\n ['12-15k'],\n ['15-25k'],\n ['15-20k', '14'],\n ['20-40k', '13'],\n ['20-28k', '14'],\n ['25-50k'],\n ['15-30k', '14'],\n ['20-30k', '16'],\n ['30-50k'],\n ['13-30k'],\n ['20-25k', '20'],\n ['22-25k', '20'],\n ['12-20k'],\n ['12-16k'],\n ['12-20k', '13'],\n ['40-60k'],\n ['12-22k'],\n ['8-12k', '13'],\n ['10-15k'],\n ['15-35k'],\n ['15-25k'],\n ['25-30k'],\n ['15-30k'],\n ['25-40k'],\n ['15-20k'],\n ['11-20k', '13'],\n ['15-25k'],\n ['25-40k', '13'],\n ['8-12k', '13'],\n ['110-160k'],\n ['28-35k', '18'],\n ['25-40k'],\n ['40-45k'],\n ['30-40k', '14'],\n ['120-150k'],\n ['10-15k'],\n ['30-40k', '16'],\n ['20-30k', '13'],\n ['15-20k', '13'],\n ['15-25k', '13'],\n ['30-40k'],\n ['13-16k', '13'],\n ['40-60k'],\n ['15-30k'],\n ['13-15k'],\n ['28-45k'],\n ['15-20k'],\n ['30-40k', '15'],\n ['15-30k', '13'],\n ['10-15k', '13'],\n ['10-18k', '13'],\n ['20-35k'],\n ['14-18k', '13'],\n ['8-15k'],\n ['13-20k'],\n ['9-15k'],\n ['8-12k', '13'],\n ['10-15k', '13'],\n ['10-15k'],\n ['25-45k'],\n ['10-15k'],\n ['10-15k'],\n ['10-15k', '13'],\n ['6-16k'],\n ['10-15k'],\n ['10-15k'],\n ['10-15k'],\n ['10-15k'],\n ['12-15k', '13'],\n ['10-15k'],\n ['8-15k'],\n ['18-22k'],\n ['10-25k'],\n ['16-25k'],\n ['12-18k'],\n ['10-16k'],\n ['7-12k'],\n ['14-15k', '16'],\n ['10-15k'],\n ['30-60k'],\n ['8-12k'],\n ['8-10k'],\n ['20-25k'],\n ['50-80k'],\n ['20-26k'],\n ['20-40k'],\n ['10-15k'],\n ['6-7k'],\n ['8-15k'],\n ['15-30k'],\n ['10-15k'],\n ['6-8k'],\n ['20-30k'],\n ['6-10k'],\n ['10-12k'],\n ['9-12k', '13'],\n ['15-30k'],\n ['15-20k'],\n ['15-20k'],\n ['9-14k', '13'],\n ['20-25k', '13'],\n ['15-25k'],\n ['25-35k', '13'],\n ['12-24k'],\n ['10-12k'],\n ['12-16k'],\n ['20-30k'],\n ['20-50k', '13'],\n ['14-20k', '14'],\n ['15-25k'],\n ['10-15k'],\n ['16-18k', '14'],\n ['20-40k'],\n ['8-15k'],\n ['8-15k'],\n ['6-8k'],\n ['6-9k'],\n ['12-15k'],\n ['10-15k', '14'],\n ['12-18k', '13'],\n ['15-25k'],\n ['6-8k'],\n ['8-12k'],\n ['8-15k', '13'],\n ['13-15k'],\n ['10-15k'],\n ['10-15k'],\n ['10-16k'],\n ['10-30k'],\n ['10-14k'],\n ['15-30k'],\n ['8-12k'],\n ['15-20k'],\n ['10-20k', '13'],\n ['15-20k'],\n ['8-10k'],\n ['8-9k'],\n ['7-10k'],\n ['8-13k'],\n ['9-15k'],\n ['8-12k'],\n ['10-15k'],\n ['15-30k', '13'],\n ['12-20k', '13'],\n ['12-20k'],\n ['6-9k'],\n ['15-30k'],\n ['15-25k'],\n ['8-10k'],\n ['10-15k'],\n ['15-20k'],\n ['15-20k'],\n ['15-25k'],\n ['15-25k'],\n ['5-10k'],\n ['8-12k'],\n ['6-10k'],\n ['15-22k', '13'],\n ['8-10k'],\n ['6-9k'],\n ['8-12k'],\n ['15-25k', '13'],\n ['15-35k'],\n ['15-20k'],\n ['6-10k'],\n ['10-15k', '13'],\n ['10-15k'],\n ['20-35k'],\n ['10-15k'],\n ['11-15k'],\n ['10-25k', '13'],\n ['8-9k'],\n ['11-30k', '15'],\n ['8-10k'],\n ['10-15k'],\n ['8-15k'],\n ['10-15k'],\n ['20-25k'],\n ['13-18k'],\n ['9-10k', '14'],\n ['15-20k'],\n ['8-15k'],\n ['10-15k'],\n ['10-15k'],\n ['15-20k', '14'],\n ['15-20k', '13'],\n ['20-25k'],\n ['20-26k', '15'],\n ['12-15k', '16'],\n ['7-12k'],\n ['10-15k'],\n ['8-16k'],\n ['7-12k'],\n ['18-22k'],\n ['5-10k', '13'],\n ['12-20k'],\n ['6-10k'],\n ['7-13k'],\n ['10-15k'],\n ['10-15k', '13'],\n ['10-15k'],\n ['10-15k'],\n ['8-10k', '14'],\n ['10-15k', '13'],\n ['9-15k'],\n ['6-9k'],\n ['7-12k', '13'],\n ['8-10k'],\n ['10-12k'],\n ['6-9k'],\n ['10-15k'],\n ['7-8k'],\n ['4-12k'],\n ['8-12k'],\n ['6-10k'],\n ['7-12k'],\n ['10-15k'],\n ['6-11k'],\n ['8-11k'],\n ['8-12k'],\n ['8-10k'],\n ['6-11k'],\n ['6-8k'],\n ['5-10k'],\n ['8-12k'],\n ['5-8k'],\n ['6-8k', '14'],\n ['10-15k'],\n ['7-12k'],\n ['4-6k'],\n ['4-7k'],\n ['10-15k'],\n ['10-15k'],\n ['6-10k'],\n ['18-35k'],\n ['8-13k'],\n ['8-9k'],\n ['8-13k'],\n ['6-11k'],\n ['5-10k'],\n ['8-12k'],\n ['8-12k'],\n ['8-12k'],\n ['6-8k'],\n ['6-10k'],\n ['6-10k'],\n ['6-10k', '13'],\n ['4-6k', '13'],\n ['10-15k'],\n ['30-60k']]"
     },
     "execution_count": 76,
     "metadata": {},
     "output_type": "execute_result"
    }
   ],
   "source": [
    "非薪资面议_detail = 非薪资面议['薪资'].apply(lambda x:x.split('薪')[0].split('·')).tolist()\n",
    "非薪资面议_detail"
   ],
   "metadata": {
    "collapsed": false
   }
  },
  {
   "cell_type": "code",
   "execution_count": 77,
   "outputs": [
    {
     "data": {
      "text/plain": "[10.3,\n 10.5,\n 3.0,\n 10.0,\n 9.2,\n 10.3,\n 4.5,\n 16.2,\n 9.5,\n 11.5,\n 15.0,\n 12.5,\n 14.0,\n 9.0,\n 5.5,\n 12.5,\n 8.7,\n 16.5,\n 7.5,\n 6.5,\n 5.5,\n 10.5,\n 5.0,\n 6.5,\n 9.0,\n 37.5,\n 37.5,\n 37.5,\n 85.0,\n 31.2,\n 16.2,\n 36.7,\n 15.0,\n 11.5,\n 8.0,\n 17.3,\n 47.5,\n 36.7,\n 43.8,\n 30.0,\n 37.5,\n 21.5,\n 13.5,\n 43.8,\n 50.0,\n 36.7,\n 70.0,\n 20.0,\n 27.1,\n 20.0,\n 13.5,\n 19.5,\n 12.5,\n 15.0,\n 43.3,\n 12.5,\n 16.8,\n 15.0,\n 40.6,\n 12.5,\n 12.5,\n 13.5,\n 14.6,\n 30.0,\n 14.0,\n 20.0,\n 19.0,\n 7.5,\n 12.5,\n 9.8,\n 8.0,\n 17.5,\n 10.0,\n 20.0,\n 16.0,\n 26.7,\n 7.5,\n 50.0,\n 73.3,\n 26.2,\n 26.2,\n 40.0,\n 35.0,\n 46.7,\n 22.5,\n 66.7,\n 43.3,\n 25.0,\n 43.3,\n 13.5,\n 15.0,\n 36.7,\n 35.0,\n 9.0,\n 22.8,\n 37.5,\n 49.3,\n 46.7,\n 53.3,\n 26.2,\n 25.0,\n 7.0,\n 11.9,\n 11.5,\n 21.7,\n 37.5,\n 70.0,\n 65.0,\n 27.1,\n 65.0,\n 80.0,\n 40.0,\n 65.0,\n 65.0,\n 70.0,\n 28.7,\n 43.3,\n 30.0,\n 70.0,\n 70.0,\n 80.0,\n 24.4,\n 27.5,\n 39.2,\n 40.0,\n 35.8,\n 29.8,\n 65.0,\n 75.0,\n 34.4,\n 28.7,\n 29.0,\n 22.5,\n 30.0,\n 25.0,\n 19.0,\n 35.0,\n 21.5,\n 100.0,\n 45.0,\n 16.5,\n 37.5,\n 22.5,\n 35.0,\n 36.7,\n 35.0,\n 37.5,\n 65.0,\n 27.1,\n 13.4,\n 16.8,\n 37.5,\n 22.0,\n 12.5,\n 28.7,\n 35.0,\n 12.0,\n 16.0,\n 27.5,\n 13.0,\n 55.0,\n 35.0,\n 50.0,\n 29.8,\n 55.4,\n 60.0,\n 15.5,\n 11.5,\n 65.0,\n 10.5,\n 72.5,\n 35.0,\n 25.0,\n 14.6,\n 40.0,\n 49.6,\n 12.5,\n 16.3,\n 16.0,\n 17.5,\n 9.0,\n 10.3,\n 35.0,\n 22.5,\n 25.0,\n 16.2,\n 25.0,\n 21.7,\n 30.0,\n 16.0,\n 8.5,\n 17.5,\n 15.6,\n 32.1,\n 20.0,\n 10.0,\n 23.8,\n 22.7,\n 20.0,\n 11.0,\n 20.6,\n 145.8,\n 20.0,\n 10.5,\n 17.5,\n 22.5,\n 8.5,\n 21.7,\n 21.7,\n 20.4,\n 19.0,\n 17.3,\n 29.2,\n 22.0,\n 10.0,\n 11.4,\n 37.9,\n 32.5,\n 12.5,\n 10.0,\n 23.3,\n 45.0,\n 150.0,\n 12.5,\n 11.4,\n 135.0,\n 12.5,\n 26.2,\n 17.5,\n 22.5,\n 37.5,\n 25.0,\n 65.0,\n 13.5,\n 20.0,\n 20.4,\n 32.5,\n 28.0,\n 37.5,\n 26.2,\n 33.3,\n 40.0,\n 21.5,\n 37.5,\n 39.2,\n 16.0,\n 14.0,\n 17.3,\n 50.0,\n 17.0,\n 10.8,\n 12.5,\n 25.0,\n 20.0,\n 27.5,\n 22.5,\n 32.5,\n 17.5,\n 16.8,\n 20.0,\n 35.2,\n 10.8,\n 135.0,\n 47.2,\n 32.5,\n 42.5,\n 40.8,\n 135.0,\n 12.5,\n 46.7,\n 27.1,\n 19.0,\n 21.7,\n 35.0,\n 15.7,\n 50.0,\n 22.5,\n 14.0,\n 36.5,\n 17.5,\n 43.8,\n 24.4,\n 13.5,\n 15.2,\n 27.5,\n 17.3,\n 11.5,\n 16.5,\n 12.0,\n 10.8,\n 13.5,\n 12.5,\n 35.0,\n 12.5,\n 12.5,\n 13.5,\n 11.0,\n 12.5,\n 12.5,\n 12.5,\n 12.5,\n 14.6,\n 12.5,\n 11.5,\n 20.0,\n 17.5,\n 20.5,\n 15.0,\n 13.0,\n 9.5,\n 19.3,\n 12.5,\n 45.0,\n 10.0,\n 9.0,\n 22.5,\n 65.0,\n 23.0,\n 30.0,\n 12.5,\n 6.5,\n 11.5,\n 22.5,\n 12.5,\n 7.0,\n 25.0,\n 8.0,\n 11.0,\n 11.4,\n 22.5,\n 17.5,\n 17.5,\n 12.5,\n 24.4,\n 20.0,\n 32.5,\n 18.0,\n 11.0,\n 14.0,\n 25.0,\n 37.9,\n 19.8,\n 20.0,\n 12.5,\n 19.8,\n 30.0,\n 11.5,\n 11.5,\n 7.0,\n 7.5,\n 13.5,\n 14.6,\n 16.2,\n 20.0,\n 7.0,\n 10.0,\n 12.5,\n 14.0,\n 12.5,\n 12.5,\n 13.0,\n 20.0,\n 12.0,\n 22.5,\n 10.0,\n 17.5,\n 16.2,\n 17.5,\n 9.0,\n 8.5,\n 8.5,\n 10.5,\n 12.0,\n 10.0,\n 12.5,\n 24.4,\n 17.3,\n 16.0,\n 7.5,\n 22.5,\n 20.0,\n 9.0,\n 12.5,\n 17.5,\n 17.5,\n 20.0,\n 20.0,\n 7.5,\n 10.0,\n 8.0,\n 20.0,\n 9.0,\n 7.5,\n 10.0,\n 21.7,\n 25.0,\n 17.5,\n 8.0,\n 13.5,\n 12.5,\n 27.5,\n 12.5,\n 13.0,\n 19.0,\n 8.5,\n 25.6,\n 9.0,\n 12.5,\n 11.5,\n 12.5,\n 22.5,\n 15.5,\n 11.1,\n 17.5,\n 11.5,\n 12.5,\n 12.5,\n 20.4,\n 19.0,\n 22.5,\n 28.8,\n 18.0,\n 9.5,\n 12.5,\n 12.0,\n 9.5,\n 20.0,\n 8.1,\n 16.0,\n 8.0,\n 10.0,\n 12.5,\n 13.5,\n 12.5,\n 12.5,\n 10.5,\n 13.5,\n 12.0,\n 7.5,\n 10.3,\n 9.0,\n 11.0,\n 7.5,\n 12.5,\n 7.5,\n 8.0,\n 10.0,\n 8.0,\n 9.5,\n 12.5,\n 8.5,\n 9.5,\n 10.0,\n 9.0,\n 8.5,\n 7.0,\n 7.5,\n 10.0,\n 6.5,\n 8.2,\n 12.5,\n 9.5,\n 5.0,\n 5.5,\n 12.5,\n 12.5,\n 8.0,\n 26.5,\n 10.5,\n 8.5,\n 10.5,\n 8.5,\n 7.5,\n 10.0,\n 10.0,\n 10.0,\n 7.0,\n 8.0,\n 8.0,\n 8.7,\n 5.4,\n 12.5,\n 45.0]"
     },
     "execution_count": 77,
     "metadata": {},
     "output_type": "execute_result"
    }
   ],
   "source": [
    "平均薪资 = [ (int(i[0].split('-')[0]) +int(i[0].split('-')[1].split('k')[0]))/2    \\\n",
    " if len(i)==1 else round((int(i[0].split('-')[0]) +int(i[0].split('-')[1].split('k')[0]))/2*int(i[1])/12,1)     \\\n",
    " for i in 非薪资面议_detail        ]\n",
    "平均薪资"
   ],
   "metadata": {
    "collapsed": false
   }
  },
  {
   "cell_type": "code",
   "execution_count": 78,
   "outputs": [
    {
     "name": "stderr",
     "output_type": "stream",
     "text": [
      "C:\\Users\\17728\\AppData\\Local\\Temp\\ipykernel_10736\\3896161248.py:1: SettingWithCopyWarning: \n",
      "A value is trying to be set on a copy of a slice from a DataFrame.\n",
      "Try using .loc[row_indexer,col_indexer] = value instead\n",
      "\n",
      "See the caveats in the documentation: https://pandas.pydata.org/pandas-docs/stable/user_guide/indexing.html#returning-a-view-versus-a-copy\n",
      "  非薪资面议['平均薪资']=平均薪资\n"
     ]
    }
   ],
   "source": [
    "非薪资面议['平均薪资']=平均薪资"
   ],
   "metadata": {
    "collapsed": false
   }
  },
  {
   "cell_type": "code",
   "execution_count": 79,
   "outputs": [],
   "source": [
    "分地区_平均薪资 = 非薪资面议.groupby('地区').agg({'平均薪资':'median'})\n",
    "分地区_平均薪资[1:].to_excel(f'excels/{cities}/{key}/{output_time}/猎聘{城市}_{关键词}-平均薪资-{output_time}.xlsx')"
   ],
   "metadata": {
    "collapsed": false
   }
  },
  {
   "cell_type": "code",
   "execution_count": null,
   "outputs": [],
   "source": [
    "# 分地区_平均薪资_values =  [round(i[0],1) for i in 分地区_平均薪资.values.tolist()]\n",
    "# 分地区_平均薪资_values = 分地区_平均薪资_values[1:]"
   ],
   "metadata": {
    "collapsed": false
   }
  },
  {
   "cell_type": "code",
   "execution_count": null,
   "outputs": [],
   "source": [
    "# 分地区_平均薪资_index = 分地区_平均薪资.index.tolist()\n",
    "# 分地区_平均薪资_index = 分地区_平均薪资_index[1:]"
   ],
   "metadata": {
    "collapsed": false
   }
  },
  {
   "cell_type": "code",
   "execution_count": null,
   "outputs": [],
   "source": [
    "# 分地区_平均薪资_values"
   ],
   "metadata": {
    "collapsed": false
   }
  },
  {
   "cell_type": "code",
   "execution_count": null,
   "outputs": [],
   "source": [
    "# 分地区_平均薪资_index"
   ],
   "metadata": {
    "collapsed": false
   }
  },
  {
   "cell_type": "code",
   "execution_count": null,
   "outputs": [],
   "source": [],
   "metadata": {
    "collapsed": false
   }
  },
  {
   "cell_type": "code",
   "execution_count": null,
   "outputs": [],
   "source": [],
   "metadata": {
    "collapsed": false
   }
  }
 ],
 "metadata": {
  "kernelspec": {
   "display_name": "Python 3",
   "language": "python",
   "name": "python3"
  },
  "language_info": {
   "codemirror_mode": {
    "name": "ipython",
    "version": 2
   },
   "file_extension": ".py",
   "mimetype": "text/x-python",
   "name": "python",
   "nbconvert_exporter": "python",
   "pygments_lexer": "ipython2",
   "version": "2.7.6"
  }
 },
 "nbformat": 4,
 "nbformat_minor": 0
}
