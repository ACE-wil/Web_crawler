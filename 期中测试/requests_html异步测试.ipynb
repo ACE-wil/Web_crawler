{
 "cells": [
  {
   "cell_type": "code",
   "execution_count": null,
   "outputs": [],
   "source": [
    "# requests_html 异步"
   ],
   "metadata": {
    "collapsed": false
   }
  },
  {
   "cell_type": "code",
   "execution_count": 6,
   "outputs": [],
   "source": [
    "# import nest_asyncio\n",
    "# nest_asyncio.apply()"
   ],
   "metadata": {
    "collapsed": false
   }
  },
  {
   "cell_type": "code",
   "execution_count": 7,
   "outputs": [
    {
     "data": {
      "text/plain": "[]"
     },
     "execution_count": 7,
     "metadata": {},
     "output_type": "execute_result"
    }
   ],
   "source": [
    "# import asyncio\n",
    "# from requests_html import AsyncHTMLSession\n",
    "#\n",
    "# async def fetch_data(url):\n",
    "#     session = AsyncHTMLSession()\n",
    "#     response = await session.get(url)\n",
    "#     await response.html.arender()\n",
    "#     await asyncio.sleep(15)\n",
    "#\n",
    "#     elements = response.html.find('div.job-sec-text')  # 替换为你的选择器\n",
    "#     text_content = [element.text for element in elements]\n",
    "#\n",
    "#     return text_content\n",
    "#\n",
    "# async def main():\n",
    "#     url = 'https://www.zhipin.com/job_detail/68451cc9884ccf761HZ42dW8ElJT.html?lid=6ChDThUbzno.search.3&securityId=b6JDOu6PlMjGM-_1_plr33F9r9kSRyvoCkZ6l2hfmiaje5gLAJMipfEB_zrSytNUWGJQCX7AcxPC5twGU7DvRqq8BmuzA03NpYmzLRvoWBEgFZwCJhnimVtZD2VUqvuUG52RCR1mQSpqWI3AJ4HOpCaNFj5imIY_oxqj4UweNH1iAg~~&sessionId='  # 替换为你要访问的网页 URL\n",
    "#     result = await fetch_data(url)\n",
    "#     return result\n",
    "#\n",
    "# # 创建事件循环并运行异步函数\n",
    "# loop = asyncio.get_event_loop()\n",
    "# result = loop.run_until_complete(main())\n",
    "# result\n"
   ],
   "metadata": {
    "collapsed": false
   }
  },
  {
   "cell_type": "code",
   "execution_count": 8,
   "outputs": [
    {
     "name": "stdout",
     "output_type": "stream",
     "text": [
      "<!DOCTYPE html>\n",
      "<html>\n",
      "    <head>\n",
      "        <meta charset=\"utf-8\" />\n",
      "        <meta http-equiv=\"X-UA-Compatible\" content=\"IE=edge,chrome=1\" />\n",
      "        <meta name=\"viewport\" content=\"width=device-width, initial-scale=1.0, maximum-scale=1.0, minimum-scale=1.0, user-scalable=no\" />\n",
      "        <title>è¯·ç¨å</title>\n",
      "        <style>\n",
      "            html,\n",
      "            body {\n",
      "                margin: 0;\n",
      "                width: 100%;\n",
      "                height: 100%;\n",
      "            }\n",
      "            @keyframes bossLoading {\n",
      "                0% {\n",
      "                    transform: translate3d(0, 0, 0);\n",
      "                }\n",
      "                50% {\n",
      "                    transform: translate3d(0, -10px, 0);\n",
      "                }\n",
      "            }\n",
      "            .data-tips {\n",
      "                text-align: center;\n",
      "                height: 100%;\n",
      "                position: relative;\n",
      "                background: #fff;\n",
      "                top: 50%;\n",
      "                margin-top: -37px;\n",
      "            }\n",
      "            .data-tips .boss-loading {\n",
      "                width: 100%;\n",
      "            }\n",
      "            .data-tips .boss-loading p {\n",
      "                margin-top: 10px;\n",
      "                color: #9fa3b0;\n",
      "            }\n",
      "            .boss-loading .component-b,\n",
      "            .boss-loading .component-s1,\n",
      "            .boss-loading .component-o,\n",
      "            .boss-loading .component-s2 {\n",
      "                display: inline-block;\n",
      "                width: 40px;\n",
      "                height: 42px;\n",
      "                line-height: 42px;\n",
      "                font-family: Helvetica Neue,Helvetica,Arial,Hiragino Sans GB,Hiragino Sans GB W3,Microsoft YaHei UI,Microsoft YaHei,WenQuanYi Micro Hei,sans-serif;\n",
      "                font-weight: bolder;\n",
      "                font-size: 40px;\n",
      "                color: #eceef2;\n",
      "                vertical-align: top;\n",
      "                -webkit-animation-fill-mode: both;\n",
      "                -webkit-animation: bossLoading 0.6s infinite linear alternate;\n",
      "                -moz-animation: bossLoading 0.6s infinite linear alternate;\n",
      "                animation: bossLoading 0.6s infinite linear alternate;\n",
      "            }\n",
      "            .boss-loading .component-o {\n",
      "                -webkit-animation-delay: 0.1s;\n",
      "                -moz-animation-delay: 0.1s;\n",
      "                animation-delay: 0.1s;\n",
      "            }\n",
      "            .boss-loading .component-s1 {\n",
      "                -webkit-animation-delay: 0.2s;\n",
      "                -moz-animation-delay: 0.2s;\n",
      "                animation-delay: 0.2s;\n",
      "            }\n",
      "            .boss-loading .component-s2 {\n",
      "                -webkit-animation-delay: 0.3s;\n",
      "                -moz-animation-delay: 0.3s;\n",
      "                animation-delay: 0.3s;\n",
      "            }\n",
      "        </style>\n",
      "    </head>\n",
      "    <body>\n",
      "        <div class=\"data-tips\">\n",
      "            <div class=\"tip-inner\">\n",
      "                <div class=\"boss-loading\">\n",
      "                    <span class=\"component-b\">B</span><span class=\"component-o\">O</span><span class=\"component-s1\">S</span><span class=\"component-s2\">S</span>\n",
      "                    <p class=\"gray\">æ­£å¨å è½½ä¸­...</p>\n",
      "                </div>\n",
      "            </div>\n",
      "        </div>\n",
      "        <script>\n",
      "            var securityPageName=\"securityCheck\";(function(){var image=new Image();var url=window.location.href;var lenSrcReferer=url.split(\"srcReferer\").length-1;image.src=\"https://t.zhipin.com/f.gif?pk=\"+securityPageName+\"&len=\"+lenSrcReferer+\"&r=\"+document.referrer})();(function(){var pageInterNum=0;var pageStartTime=new Date().getTime();var UA=window.navigator.userAgent;var isIE;if(UA.indexOf(\"MSIE \")>-1){isIE=true}function init(frame){var COOKIE_DOMAIN=(function(){var hostName=location.hostname;if(hostName===\"localhost\"||/^(\\d+\\.){3}\\d+$/.test(hostName)){return hostName}return\".\"+hostName.split(\".\").slice(-2).join(\".\")})();var seriesLoadScript=function(scriptUrl,callback){var url=scriptUrl;var script=document.createElement(\"script\");script.setAttribute(\"type\",\"text/javascript\");script.setAttribute(\"charset\",\"UTF-8\");script.onload=script.onreadystatechange=function(){if(!isIE||this.readyState==\"loaded\"||this.readyState==\"complete\"){callback()}};script.setAttribute(\"src\",scriptUrl);if(frame.tagName!=\"IFRAME\"){frame.appendChild(script)}else if(frame.contentDocument){if(frame.contentDocument.body){frame.contentDocument.body.appendChild(script)}else{frame.contentDocument.documentElement.appendChild(script)}}else if(frame.document){if(frame.document.body){frame.document.body.appendChild(script)}else{frame.document.documentElement.appendChild(script)}}};var getQueryString=function(name){var reg=new RegExp(\"(^|&)\"+name+\"=([^&]*)(&|$)\");var r=window.location.search.substr(1).match(reg);if(r!=null)return unescape(r[2]);return null};var Cookie={get:function(name){var arr,reg=new RegExp(\"(^| )\"+name+\"=([^;]*)(;|$)\");if((arr=document.cookie.match(reg))){return unescape(arr[2])}else{return null}},set:function(name,value,time,domain,path){var str=name+\"=\"+encodeURIComponent(value);if(time){var date=new Date(time).toGMTString();str+=\";expires=\"+date}str=domain?str+\";domain=\"+domain:str;str=path?str+\";path=\"+path:str;document.cookie=str},};var urlFilter={config:{url:\"\",whiteHostList:[\"m.zhipin.com\",\"www.zhipin.com\",\"pre-www.zhipin.com\",],blackPathList:[\"security-check.html\",\"security-check1.html\"],},setStrategy:function(){var url=urlFilter.config.url;switch(true){case urlFilter.isBlackHost(url)||urlFilter.hasBlackPath(url):urlFilter.config.url=\"/\";break}return urlFilter.config.url},isAbsolutePathStartable:function(url){return url.indexOf(\"//\")<0&&url.indexOf(\"/\")===0},isBlackHost:function(url){var isBlackHost=false;var rule=/^(https?)?(:?\\/\\/+)([^\\/?]*)(.*)?$/;url.replace(rule,function(res,$1,$2,$3,$4){isBlackHost=!urlFilter.isHostInWhiteList($3);console.error(\"hostname\",$3,\"isBlackHost\",isBlackHost);return isBlackHost?\"/\":url});return isBlackHost},hasBlackPath:function(url){var isBlackPath=false;var blackPathList=urlFilter.config.blackPathList;for(var i=0;i<blackPathList.length;i++){if(url.indexOf(blackPathList[i])>-1){isBlackPath=true;break}}return isBlackPath},isHostInWhiteList:function(hostname){return urlFilter.config.whiteHostList.indexOf(hostname)>-1},filter:function(url){urlFilter.config.url=url||\"/\";return urlFilter.setStrategy()},};var jumpReplace=function(url){var filterUrl=urlFilter.filter(url);window.location.replace(filterUrl)};var jumpPage=function(srcReferer,callbackUrl){if(callbackUrl||srcReferer.indexOf(\"security-check.html\")>-1){jumpReplace(callbackUrl)}else{jumpReplace(srcReferer)}var image=new Image();image.src=\"https://t.zhipin.com/f.gif?pk=\"+securityPageName+\"&ca=securityCheckJump_\"+Math.round((new Date().getTime()-pageStartTime)/1000)+\"&r=\"+document.referrer};var url=window.location.href||\"\";var seed=getQueryString(\"seed\")||\"\";var ts=getQueryString(\"ts\")||\"\";var fileName=getQueryString(\"name\")||\"\";var callbackUrl=getQueryString(\"callbackUrl\")||\"\";var srcReferer=getQueryString(\"srcReferer\")||\"\";if(fileName===\"null\"||!seed||!fileName||!callbackUrl){var image=new Image();var url=window.location.href;var paramsStr=\"\";var lenSrcReferer=url.split(\"srcReferer\").length-1;var reportData={appKey:url.indexOf(\"weizhipin\")>-1?\"ed8d1b9d40a89f30ba721\":\"d071323e4304ae2931f11\",errorType:\"collectData\",errorCode:\"security_check_error\",json:JSON.stringify({url:url,fileName:fileName,seed:seed,ts:ts,callbackUrl:callbackUrl,srcReferer:srcReferer,}),};for(var key in reportData){paramsStr+=\"&\"+key+\"=\"+reportData[key]}paramsStr=paramsStr.substr(1);image.src=\"https://t.kanzhun.com/z.json?\"+paramsStr}if(seed&&ts&&fileName){var interTimer=setInterval(function(){pageInterNum++;if(pageInterNum>5){clearInterval(interTimer)}var image=new Image();image.src=\"https://t.zhipin.com/f.gif?pk=\"+securityPageName+\"&ca=securityCheckTimer_\"+Math.round((new Date().getTime()-pageStartTime)/1000)+\"&r=\"+document.referrer},10000);seriesLoadScript(\"security-js/\"+fileName+\".js\",function(){var expiredate=new Date().getTime()+32*60*60*1000*2;var code=\"\";var nativeParams={};var ABC=window.ABC||frame.contentWindow.ABC;try{code=new ABC().z(seed,parseInt(ts)+(480+new Date().getTimezoneOffset())*60*1000)}catch(e){}if(code&&callbackUrl){Cookie.set(\"__zp_stoken__\",code,expiredate,COOKIE_DOMAIN,\"/\");if(typeof window.wst!=\"undefined\"&&typeof wst.postMessage==\"function\"){nativeParams={name:\"setWKCookie\",params:{url:COOKIE_DOMAIN,name:\"__zp_stoken__\",value:encodeURIComponent(code),expiredate:expiredate,path:\"/\",},};window.wst.postMessage(JSON.stringify(nativeParams))}jumpPage(srcReferer,callbackUrl)}else{var nocodeImage=new Image();nocodeImage.src=\"https://t.zhipin.com/f.gif?pk=\"+securityPageName+\"&ca=securityCheckNoCode_\"+Math.round((new Date().getTime()-pageStartTime)/1000)+\"&r=\"+document.referrer;jumpReplace(\"/\")}})}}var ie=!!(window.attachEvent&&!window.opera);var wk=/webkit\\/(\\d+)/i.test(navigator.userAgent)&&RegExp.$1<525;var fn=[];var run=function(){for(var i=0;i<fn.length;i++)fn[i]()};function ready(f){if(!ie&&!wk&&document.addEventListener)return document.addEventListener(\"DOMContentLoaded\",f,false);if(fn.push(f)>1)return;if(ie)(function(){try{document.documentElement.doScroll(\"left\");run()}catch(err){setTimeout(arguments.callee,0)}})();else if(wk)var t=setInterval(function(){if(/^(loaded|complete)$/.test(document.readyState))clearInterval(t),run()},0)}ready(function(){var frame=document.createElement(\"iframe\");frame.style.height=0;frame.style.width=0;frame.style.margin=0;frame.style.padding=0;frame.style.border=\"0 none\";frame.name=\"zhipinFrame\";frame.src=\"about:blank\";document.onreadystatechange=function(){if(document.readyState===\"complete\"){init(frame)}};(document.body||document.documentElement).appendChild(frame)})})();var _hmt=_hmt||[];(function(){var hm=document.createElement(\"script\");hm.src=\"https://hm.baidu.com/hm.js?194df3105ad7148dcf2b98a91b5e727a\";var s=document.getElementsByTagName(\"script\")[0];s.parentNode.insertBefore(hm,s)})();\n",
      "        </script>\n",
      "    </body>\n",
      "</html>\n",
      "\n"
     ]
    }
   ],
   "source": [
    "# import asyncio\n",
    "# from requests_html import AsyncHTMLSession\n",
    "#\n",
    "# async def fetch_data(url):\n",
    "#     session = AsyncHTMLSession()\n",
    "#     response = await session.get(url)\n",
    "#     await response.html.arender()\n",
    "#\n",
    "#     # 输出整个页面的 HTML 内容\n",
    "#     print(response.text)\n",
    "#\n",
    "#     return response\n",
    "#\n",
    "# async def main():\n",
    "#     url = 'https://www.zhipin.com/job_detail/68451cc9884ccf761HZ42dW8ElJT.html?lid=6ChDThUbzno.search.3&securityId=b6JDOu6PlMjGM-_1_plr33F9r9kSRyvoCkZ6l2hfmiaje5gLAJMipfEB_zrSytNUWGJQCX7AcxPC5twGU7DvRqq8BmuzA03NpYmzLRvoWBEgFZwCJhnimVtZD2VUqvuUG52RCR1mQSpqWI3AJ4HOpCaNFj5imIY_oxqj4UweNH1iAg~~&sessionId='  # 替换为你要访问的网页 URL\n",
    "#     result = await fetch_data(url)\n",
    "#     return result\n",
    "#\n",
    "# # 创建事件循环并运行异步函数\n",
    "# loop = asyncio.get_event_loop()\n",
    "# result = loop.run_until_complete(main())\n"
   ],
   "metadata": {
    "collapsed": false
   }
  },
  {
   "cell_type": "markdown",
   "source": [
    "# Selenium 和 Webdriver使用谷歌爬取"
   ],
   "metadata": {
    "collapsed": false
   }
  },
  {
   "cell_type": "code",
   "execution_count": 20,
   "outputs": [
    {
     "name": "stdout",
     "output_type": "stream",
     "text": [
      "<html class=\"standard\"><!--<![endif]--><head>\n",
      "    <meta charset=\"utf-8\">\n",
      "    <meta http-equiv=\"X-UA-Compatible\" content=\"IE=edge,chrome=1\">\n",
      "    <meta name=\"viewport\" content=\"width=device-width,initial-scale=1,maximum-scale=1,user-scalable=0\">\n",
      "    <title>BOSS直聘-找工作我要跟老板谈！招聘求职找工作！</title>\n",
      "    <meta name=\"keywords\" content=\"BOSS直聘,直聘网,招聘网,人才网,找工作,求职\">\n",
      "    <meta name=\"description\" content=\"BOSS直聘是权威领先的招聘网，开启人才网招聘求职新时代，让求职者与Boss直接开聊、加快面试、即时反馈，找工作就来BOSS直聘和Boss开聊吧！\">\n",
      "    <meta name=\"format-detection\" content=\"email=no\">\n",
      "    <meta name=\"format-detection\" content=\"telephone=no\">\n",
      "    <style>.page-data-tips{height:100vh;min-height:340px;color:#999;position:relative;background:#fff;text-align:center}.page-data-tips:after{content:'';display:inline-block;width:0;height:100%;vertical-align:middle}.page-data-tips .layout-page-loading{display:inline-block;vertical-align:middle}.page-data-tips .layout-page-text{margin-top:10px}.layout-page-loading .layout-component-b,.layout-page-loading .layout-component-o,.layout-page-loading .layout-component-s1,.layout-page-loading .layout-component-s2{display:inline-block;width:40px;height:42px;background:url(https://img.bosszhipin.com/static/file/2022/3n5u85ptgd1667195187847.png) no-repeat;vertical-align:middle;-webkit-animation-fill-mode:both;-webkit-animation:pageBossLoading .6s infinite linear alternate;-moz-animation:pageBossLoading .6s infinite linear alternate;animation:pageBossLoading .6s infinite linear alternate}.layout-page-loading .layout-component-b{background-position:0 0}.layout-page-loading .layout-component-o{content:'';background-position:0 -68px;margin-left:-4px;-webkit-animation-delay:.1s;-moz-animation-delay:.1s;animation-delay:.1s}.layout-page-loading .layout-component-s1{background-position:0 -141px;margin-left:6px;-webkit-animation-delay:.2s;-moz-animation-delay:.2s;animation-delay:.2s}.layout-page-loading .layout-component-s2{content:'';background-position:0 -141px;margin-left:-4px;-webkit-animation-delay:.3s;-moz-animation-delay:.3s;animation-delay:.3s}.layout-page-loading p.gray{margin-top:10px}@-webkit-keyframes pageBossLoading{0%{transform:-webkit-translate3d(0,0,0)}50%{transform:-webkit-translate3d(0,-10px,0)}}@-moz-keyframes pageBossLoading{0%{transform:-moz-translate3d(0,0,0)}50%{transform:-moz-translate3d(0,-10px,0)}}@keyframes pageBossLoading{0%{transform:translate3d(0,0,0)}50%{transform:translate3d(0,-10px,0)}}</style>\n",
      "    \n",
      "    <script src=\"https://static.zhipin.com/library/js/analytics/ka.zhipin.min.js\"></script><script src=\"https://z.zhipin.com/H5/js/plugins/web-report.min-1.28.js\"></script>\n",
      "    <script>try{performanceReport({action:\"action_js_monitor\",appKey:\"ObsSRskiryhn60pf\",isAjax:!(-1<navigator.userAgent.indexOf(\"Atlantis\"))})}catch(t){}</script>\n",
      "    \n",
      "  <link href=\"https://static.zhipin.com/zhipin-sign/v70/static/css/app.54d86ff7.css\" rel=\"stylesheet\" crossorigin=\"anonymous\"><link rel=\"stylesheet\" type=\"text/css\" href=\"https://static.zhipin.com/zhipin-sign/v70/static/css/safe-slider.f8f913dc.css\" crossorigin=\"anonymous\"><script charset=\"utf-8\" src=\"https://static.zhipin.com/zhipin-sign/v70/static/js/safe-slider.d24fa9ef.js\" crossorigin=\"anonymous\"></script></head>\n",
      "  <body>\n",
      "    <div id=\"wrap\" class=\"wrap-verify-slider\"><!----><div data-v-1b81ed58=\"\" class=\"page-verify-slider\"><div data-v-1b81ed58=\"\" class=\"error-content\"><div data-v-1b81ed58=\"\" class=\"text\"><button data-v-1b81ed58=\"\" ka=\"validate_button_click\" class=\"btn\"><!---->点击进行验证 </button></div><h3 data-v-1b81ed58=\"\" class=\"gray\">当前 IP 地址可能存在异常访问行为，完成验证后即可正常使用.</h3></div><div data-v-1b81ed58=\"\" class=\"footer\"><p data-v-1b81ed58=\"\">© copyright BOSS直聘 京ICP备14013441号-5</p></div></div><!----></div>\n",
      "    <input type=\"hidden\" id=\"page_key_name\" value=\"\">\n",
      "    <script src=\"https://static.zhipin.com/library/js/lib/jquery-1.12.2.min.js\" crossorigin=\"anonymous\"></script>\n",
      "    <script>var _T=_T||[];!function(){var t=document.createElement(\"script\");t.src=\"https://static.zhipin.com/library/js/analytics/ka.zhipin.min.js\";var e=document.getElementsByTagName(\"script\")[0];e.parentNode.insertBefore(t,e)}()</script>\n",
      "  <script src=\"https://static.zhipin.com/zhipin-sign/v70/static/js/iframe-core.2def20b5.js\" crossorigin=\"anonymous\"></script><script src=\"https://static.zhipin.com/zhipin-sign/v70/static/js/vendors~app.97f83f60.js\" crossorigin=\"anonymous\"></script><script src=\"https://static.zhipin.com/zhipin-sign/v70/static/js/app.5b02f170.js\" crossorigin=\"anonymous\"></script><iframe name=\"zhipinFrame\" src=\"about:blank\" style=\"height: 0px; width: 0px; margin: 0px; padding: 0px; border: 0px none; position: fixed; z-index: -100;\"></iframe>\n",
      "\n",
      "<script type=\"text/javascript\" src=\"https://static.zhipin.com/library/js/plugins/gt.js\"></script><script type=\"text/javascript\" src=\"https://static.zhipin.com/library/js/lib/f.min.js\"></script></body></html>\n"
     ]
    }
   ],
   "source": [
    "from selenium import webdriver\n",
    "from selenium.webdriver.chrome.options import Options\n",
    "import time\n",
    "import random\n",
    "# 设置 Chrome 为无头模式\n",
    "chrome_options = Options()\n",
    "chrome_options.add_argument(\"--headless\")\n",
    "user_agent = \"Mozilla/5.0 (Windows NT 10.0; Win64; x64) AppleWebKit/537.36 (KHTML, like Gecko) Chrome/91.0.4472.124 Safari/537.36\"\n",
    "chrome_options.add_argument(f\"user-agent={user_agent}\")\n",
    "# 初始化 Chrome WebDriver\n",
    "driver = webdriver.Chrome(options=chrome_options)\n",
    "\n",
    "# 目标网页 URL\n",
    "url = 'https://www.zhipin.com/job_detail/d0e525e8d59e607e1HZ-2Nq_FFZV.html?lid=6mM5Ir2kWyB.search.5&securityId=87GFcZPXsIx7H-41vupBfTyOazo1MG8ldPItAVw0rxV35LXTUZLhnslZd59jrJ6aUui9FbSeKFUmyv2xC0ALcEJc1W82qcOFEhAFXdEXJSMjvLK7P4P8L7O5CIROTpUcRjy6Cf3bxMOalOYfCZpF8L7VWHbV_I7P09XC9G7akiBdGRg~&sessionId='  # 替换为你要访问的网页 URL\n",
    "\n",
    "# 访问网页\n",
    "driver.get(url)\n",
    "\n",
    "# 等待一定时间，确保 JavaScript 代码有足够的时间加载数据\n",
    "wait_time = random.randint(5,10)\n",
    "time.sleep(wait_time)  # 你可能需要根据网页加载时间进行调整\n",
    "\n",
    "# 获取网页内容\n",
    "page_content = driver.page_source\n",
    "\n",
    "# 关闭 WebDriver\n",
    "driver.quit()\n",
    "\n",
    "# 输出网页内容\n",
    "print(page_content)\n"
   ],
   "metadata": {
    "collapsed": false
   }
  },
  {
   "cell_type": "code",
   "execution_count": 13,
   "outputs": [],
   "source": [
    "from bs4 import BeautifulSoup\n",
    "soup = BeautifulSoup(page_content, 'html.parser')\n",
    "target_tag = soup.find('title')"
   ],
   "metadata": {
    "collapsed": false
   }
  },
  {
   "cell_type": "code",
   "execution_count": 15,
   "outputs": [],
   "source": [
    "the_target = [x.text for x in target_tag]"
   ],
   "metadata": {
    "collapsed": false
   }
  },
  {
   "cell_type": "code",
   "execution_count": 16,
   "outputs": [
    {
     "data": {
      "text/plain": "['BOSS直聘-找工作我要跟老板谈！招聘求职找工作！']"
     },
     "execution_count": 16,
     "metadata": {},
     "output_type": "execute_result"
    }
   ],
   "source": [
    "the_target"
   ],
   "metadata": {
    "collapsed": false
   }
  },
  {
   "cell_type": "code",
   "execution_count": null,
   "outputs": [],
   "source": [],
   "metadata": {
    "collapsed": false
   }
  }
 ],
 "metadata": {
  "kernelspec": {
   "display_name": "Python 3",
   "language": "python",
   "name": "python3"
  },
  "language_info": {
   "codemirror_mode": {
    "name": "ipython",
    "version": 2
   },
   "file_extension": ".py",
   "mimetype": "text/x-python",
   "name": "python",
   "nbconvert_exporter": "python",
   "pygments_lexer": "ipython2",
   "version": "2.7.6"
  }
 },
 "nbformat": 4,
 "nbformat_minor": 0
}
