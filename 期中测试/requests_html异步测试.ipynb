{
 "cells": [
  {
   "cell_type": "code",
   "execution_count": 1,
   "metadata": {
    "collapsed": true
   },
   "outputs": [],
   "source": [
    "import nest_asyncio\n",
    "nest_asyncio.apply()"
   ]
  },
  {
   "cell_type": "code",
   "execution_count": 6,
   "outputs": [
    {
     "data": {
      "text/plain": "[]"
     },
     "execution_count": 6,
     "metadata": {},
     "output_type": "execute_result"
    }
   ],
   "source": [
    "import asyncio\n",
    "from requests_html import AsyncHTMLSession\n",
    "\n",
    "async def fetch_data(url):\n",
    "    session = AsyncHTMLSession()\n",
    "    response = await session.get(url)\n",
    "    await response.html.arender()\n",
    "    await asyncio.sleep(15)\n",
    "\n",
    "    elements = response.html.find('div.job-sec-text')  # 替换为你的选择器\n",
    "    text_content = [element.text for element in elements]\n",
    "\n",
    "    return text_content\n",
    "\n",
    "async def main():\n",
    "    url = 'https://www.zhipin.com/job_detail/68451cc9884ccf761HZ42dW8ElJT.html?lid=6ChDThUbzno.search.3&securityId=b6JDOu6PlMjGM-_1_plr33F9r9kSRyvoCkZ6l2hfmiaje5gLAJMipfEB_zrSytNUWGJQCX7AcxPC5twGU7DvRqq8BmuzA03NpYmzLRvoWBEgFZwCJhnimVtZD2VUqvuUG52RCR1mQSpqWI3AJ4HOpCaNFj5imIY_oxqj4UweNH1iAg~~&sessionId='  # 替换为你要访问的网页 URL\n",
    "    result = await fetch_data(url)\n",
    "    return result\n",
    "\n",
    "# 创建事件循环并运行异步函数\n",
    "loop = asyncio.get_event_loop()\n",
    "result = loop.run_until_complete(main())\n",
    "result\n"
   ],
   "metadata": {
    "collapsed": false
   }
  },
  {
   "cell_type": "code",
   "execution_count": 7,
   "outputs": [
    {
     "name": "stdout",
     "output_type": "stream",
     "text": [
      "<!DOCTYPE html>\n",
      "<html>\n",
      "    <head>\n",
      "        <meta charset=\"utf-8\" />\n",
      "        <meta http-equiv=\"X-UA-Compatible\" content=\"IE=edge,chrome=1\" />\n",
      "        <meta name=\"viewport\" content=\"width=device-width, initial-scale=1.0, maximum-scale=1.0, minimum-scale=1.0, user-scalable=no\" />\n",
      "        <title>è¯·ç¨å</title>\n",
      "        <style>\n",
      "            html,\n",
      "            body {\n",
      "                margin: 0;\n",
      "                width: 100%;\n",
      "                height: 100%;\n",
      "            }\n",
      "            @keyframes bossLoading {\n",
      "                0% {\n",
      "                    transform: translate3d(0, 0, 0);\n",
      "                }\n",
      "                50% {\n",
      "                    transform: translate3d(0, -10px, 0);\n",
      "                }\n",
      "            }\n",
      "            .data-tips {\n",
      "                text-align: center;\n",
      "                height: 100%;\n",
      "                position: relative;\n",
      "                background: #fff;\n",
      "                top: 50%;\n",
      "                margin-top: -37px;\n",
      "            }\n",
      "            .data-tips .boss-loading {\n",
      "                width: 100%;\n",
      "            }\n",
      "            .data-tips .boss-loading p {\n",
      "                margin-top: 10px;\n",
      "                color: #9fa3b0;\n",
      "            }\n",
      "            .boss-loading .component-b,\n",
      "            .boss-loading .component-s1,\n",
      "            .boss-loading .component-o,\n",
      "            .boss-loading .component-s2 {\n",
      "                display: inline-block;\n",
      "                width: 40px;\n",
      "                height: 42px;\n",
      "                line-height: 42px;\n",
      "                font-family: Helvetica Neue,Helvetica,Arial,Hiragino Sans GB,Hiragino Sans GB W3,Microsoft YaHei UI,Microsoft YaHei,WenQuanYi Micro Hei,sans-serif;\n",
      "                font-weight: bolder;\n",
      "                font-size: 40px;\n",
      "                color: #eceef2;\n",
      "                vertical-align: top;\n",
      "                -webkit-animation-fill-mode: both;\n",
      "                -webkit-animation: bossLoading 0.6s infinite linear alternate;\n",
      "                -moz-animation: bossLoading 0.6s infinite linear alternate;\n",
      "                animation: bossLoading 0.6s infinite linear alternate;\n",
      "            }\n",
      "            .boss-loading .component-o {\n",
      "                -webkit-animation-delay: 0.1s;\n",
      "                -moz-animation-delay: 0.1s;\n",
      "                animation-delay: 0.1s;\n",
      "            }\n",
      "            .boss-loading .component-s1 {\n",
      "                -webkit-animation-delay: 0.2s;\n",
      "                -moz-animation-delay: 0.2s;\n",
      "                animation-delay: 0.2s;\n",
      "            }\n",
      "            .boss-loading .component-s2 {\n",
      "                -webkit-animation-delay: 0.3s;\n",
      "                -moz-animation-delay: 0.3s;\n",
      "                animation-delay: 0.3s;\n",
      "            }\n",
      "        </style>\n",
      "    </head>\n",
      "    <body>\n",
      "        <div class=\"data-tips\">\n",
      "            <div class=\"tip-inner\">\n",
      "                <div class=\"boss-loading\">\n",
      "                    <span class=\"component-b\">B</span><span class=\"component-o\">O</span><span class=\"component-s1\">S</span><span class=\"component-s2\">S</span>\n",
      "                    <p class=\"gray\">æ­£å¨å è½½ä¸­...</p>\n",
      "                </div>\n",
      "            </div>\n",
      "        </div>\n",
      "        <script>\n",
      "            var securityPageName=\"securityCheck\";(function(){var image=new Image();var url=window.location.href;var lenSrcReferer=url.split(\"srcReferer\").length-1;image.src=\"https://t.zhipin.com/f.gif?pk=\"+securityPageName+\"&len=\"+lenSrcReferer+\"&r=\"+document.referrer})();(function(){var pageInterNum=0;var pageStartTime=new Date().getTime();var UA=window.navigator.userAgent;var isIE;if(UA.indexOf(\"MSIE \")>-1){isIE=true}function init(frame){var COOKIE_DOMAIN=(function(){var hostName=location.hostname;if(hostName===\"localhost\"||/^(\\d+\\.){3}\\d+$/.test(hostName)){return hostName}return\".\"+hostName.split(\".\").slice(-2).join(\".\")})();var seriesLoadScript=function(scriptUrl,callback){var url=scriptUrl;var script=document.createElement(\"script\");script.setAttribute(\"type\",\"text/javascript\");script.setAttribute(\"charset\",\"UTF-8\");script.onload=script.onreadystatechange=function(){if(!isIE||this.readyState==\"loaded\"||this.readyState==\"complete\"){callback()}};script.setAttribute(\"src\",scriptUrl);if(frame.tagName!=\"IFRAME\"){frame.appendChild(script)}else if(frame.contentDocument){if(frame.contentDocument.body){frame.contentDocument.body.appendChild(script)}else{frame.contentDocument.documentElement.appendChild(script)}}else if(frame.document){if(frame.document.body){frame.document.body.appendChild(script)}else{frame.document.documentElement.appendChild(script)}}};var getQueryString=function(name){var reg=new RegExp(\"(^|&)\"+name+\"=([^&]*)(&|$)\");var r=window.location.search.substr(1).match(reg);if(r!=null)return unescape(r[2]);return null};var Cookie={get:function(name){var arr,reg=new RegExp(\"(^| )\"+name+\"=([^;]*)(;|$)\");if((arr=document.cookie.match(reg))){return unescape(arr[2])}else{return null}},set:function(name,value,time,domain,path){var str=name+\"=\"+encodeURIComponent(value);if(time){var date=new Date(time).toGMTString();str+=\";expires=\"+date}str=domain?str+\";domain=\"+domain:str;str=path?str+\";path=\"+path:str;document.cookie=str},};var urlFilter={config:{url:\"\",whiteHostList:[\"m.zhipin.com\",\"www.zhipin.com\",\"pre-www.zhipin.com\",],blackPathList:[\"security-check.html\",\"security-check1.html\"],},setStrategy:function(){var url=urlFilter.config.url;switch(true){case urlFilter.isBlackHost(url)||urlFilter.hasBlackPath(url):urlFilter.config.url=\"/\";break}return urlFilter.config.url},isAbsolutePathStartable:function(url){return url.indexOf(\"//\")<0&&url.indexOf(\"/\")===0},isBlackHost:function(url){var isBlackHost=false;var rule=/^(https?)?(:?\\/\\/+)([^\\/?]*)(.*)?$/;url.replace(rule,function(res,$1,$2,$3,$4){isBlackHost=!urlFilter.isHostInWhiteList($3);console.error(\"hostname\",$3,\"isBlackHost\",isBlackHost);return isBlackHost?\"/\":url});return isBlackHost},hasBlackPath:function(url){var isBlackPath=false;var blackPathList=urlFilter.config.blackPathList;for(var i=0;i<blackPathList.length;i++){if(url.indexOf(blackPathList[i])>-1){isBlackPath=true;break}}return isBlackPath},isHostInWhiteList:function(hostname){return urlFilter.config.whiteHostList.indexOf(hostname)>-1},filter:function(url){urlFilter.config.url=url||\"/\";return urlFilter.setStrategy()},};var jumpReplace=function(url){var filterUrl=urlFilter.filter(url);window.location.replace(filterUrl)};var jumpPage=function(srcReferer,callbackUrl){if(callbackUrl||srcReferer.indexOf(\"security-check.html\")>-1){jumpReplace(callbackUrl)}else{jumpReplace(srcReferer)}var image=new Image();image.src=\"https://t.zhipin.com/f.gif?pk=\"+securityPageName+\"&ca=securityCheckJump_\"+Math.round((new Date().getTime()-pageStartTime)/1000)+\"&r=\"+document.referrer};var url=window.location.href||\"\";var seed=getQueryString(\"seed\")||\"\";var ts=getQueryString(\"ts\")||\"\";var fileName=getQueryString(\"name\")||\"\";var callbackUrl=getQueryString(\"callbackUrl\")||\"\";var srcReferer=getQueryString(\"srcReferer\")||\"\";if(fileName===\"null\"||!seed||!fileName||!callbackUrl){var image=new Image();var url=window.location.href;var paramsStr=\"\";var lenSrcReferer=url.split(\"srcReferer\").length-1;var reportData={appKey:url.indexOf(\"weizhipin\")>-1?\"ed8d1b9d40a89f30ba721\":\"d071323e4304ae2931f11\",errorType:\"collectData\",errorCode:\"security_check_error\",json:JSON.stringify({url:url,fileName:fileName,seed:seed,ts:ts,callbackUrl:callbackUrl,srcReferer:srcReferer,}),};for(var key in reportData){paramsStr+=\"&\"+key+\"=\"+reportData[key]}paramsStr=paramsStr.substr(1);image.src=\"https://t.kanzhun.com/z.json?\"+paramsStr}if(seed&&ts&&fileName){var interTimer=setInterval(function(){pageInterNum++;if(pageInterNum>5){clearInterval(interTimer)}var image=new Image();image.src=\"https://t.zhipin.com/f.gif?pk=\"+securityPageName+\"&ca=securityCheckTimer_\"+Math.round((new Date().getTime()-pageStartTime)/1000)+\"&r=\"+document.referrer},10000);seriesLoadScript(\"security-js/\"+fileName+\".js\",function(){var expiredate=new Date().getTime()+32*60*60*1000*2;var code=\"\";var nativeParams={};var ABC=window.ABC||frame.contentWindow.ABC;try{code=new ABC().z(seed,parseInt(ts)+(480+new Date().getTimezoneOffset())*60*1000)}catch(e){}if(code&&callbackUrl){Cookie.set(\"__zp_stoken__\",code,expiredate,COOKIE_DOMAIN,\"/\");if(typeof window.wst!=\"undefined\"&&typeof wst.postMessage==\"function\"){nativeParams={name:\"setWKCookie\",params:{url:COOKIE_DOMAIN,name:\"__zp_stoken__\",value:encodeURIComponent(code),expiredate:expiredate,path:\"/\",},};window.wst.postMessage(JSON.stringify(nativeParams))}jumpPage(srcReferer,callbackUrl)}else{var nocodeImage=new Image();nocodeImage.src=\"https://t.zhipin.com/f.gif?pk=\"+securityPageName+\"&ca=securityCheckNoCode_\"+Math.round((new Date().getTime()-pageStartTime)/1000)+\"&r=\"+document.referrer;jumpReplace(\"/\")}})}}var ie=!!(window.attachEvent&&!window.opera);var wk=/webkit\\/(\\d+)/i.test(navigator.userAgent)&&RegExp.$1<525;var fn=[];var run=function(){for(var i=0;i<fn.length;i++)fn[i]()};function ready(f){if(!ie&&!wk&&document.addEventListener)return document.addEventListener(\"DOMContentLoaded\",f,false);if(fn.push(f)>1)return;if(ie)(function(){try{document.documentElement.doScroll(\"left\");run()}catch(err){setTimeout(arguments.callee,0)}})();else if(wk)var t=setInterval(function(){if(/^(loaded|complete)$/.test(document.readyState))clearInterval(t),run()},0)}ready(function(){var frame=document.createElement(\"iframe\");frame.style.height=0;frame.style.width=0;frame.style.margin=0;frame.style.padding=0;frame.style.border=\"0 none\";frame.name=\"zhipinFrame\";frame.src=\"about:blank\";document.onreadystatechange=function(){if(document.readyState===\"complete\"){init(frame)}};(document.body||document.documentElement).appendChild(frame)})})();var _hmt=_hmt||[];(function(){var hm=document.createElement(\"script\");hm.src=\"https://hm.baidu.com/hm.js?194df3105ad7148dcf2b98a91b5e727a\";var s=document.getElementsByTagName(\"script\")[0];s.parentNode.insertBefore(hm,s)})();\n",
      "        </script>\n",
      "    </body>\n",
      "</html>\n",
      "\n"
     ]
    }
   ],
   "source": [
    "import asyncio\n",
    "from requests_html import AsyncHTMLSession\n",
    "\n",
    "async def fetch_data(url):\n",
    "    session = AsyncHTMLSession()\n",
    "    response = await session.get(url)\n",
    "    await response.html.arender()\n",
    "\n",
    "    # 输出整个页面的 HTML 内容\n",
    "    print(response.text)\n",
    "\n",
    "    return response\n",
    "\n",
    "async def main():\n",
    "    url = 'https://www.zhipin.com/job_detail/68451cc9884ccf761HZ42dW8ElJT.html?lid=6ChDThUbzno.search.3&securityId=b6JDOu6PlMjGM-_1_plr33F9r9kSRyvoCkZ6l2hfmiaje5gLAJMipfEB_zrSytNUWGJQCX7AcxPC5twGU7DvRqq8BmuzA03NpYmzLRvoWBEgFZwCJhnimVtZD2VUqvuUG52RCR1mQSpqWI3AJ4HOpCaNFj5imIY_oxqj4UweNH1iAg~~&sessionId='  # 替换为你要访问的网页 URL\n",
    "    result = await fetch_data(url)\n",
    "    return result\n",
    "\n",
    "# 创建事件循环并运行异步函数\n",
    "loop = asyncio.get_event_loop()\n",
    "result = loop.run_until_complete(main())\n"
   ],
   "metadata": {
    "collapsed": false
   }
  },
  {
   "cell_type": "code",
   "execution_count": 8,
   "outputs": [
    {
     "name": "stderr",
     "output_type": "stream",
     "text": [
      "Unable to obtain driver using Selenium Manager: Selenium Manager failed for: E:\\Anaconda3\\lib\\site-packages\\selenium\\webdriver\\common\\windows\\selenium-manager.exe --browser chrome --output json.\n",
      "The chromedriver version cannot be discovered\n"
     ]
    },
    {
     "ename": "SeleniumManagerException",
     "evalue": "Message: Selenium Manager failed for: E:\\Anaconda3\\lib\\site-packages\\selenium\\webdriver\\common\\windows\\selenium-manager.exe --browser chrome --output json.\nThe chromedriver version cannot be discovered\n",
     "output_type": "error",
     "traceback": [
      "\u001B[1;31m---------------------------------------------------------------------------\u001B[0m",
      "\u001B[1;31mSeleniumManagerException\u001B[0m                  Traceback (most recent call last)",
      "Cell \u001B[1;32mIn[8], line 10\u001B[0m\n\u001B[0;32m      7\u001B[0m chrome_options\u001B[38;5;241m.\u001B[39madd_argument(\u001B[38;5;124m\"\u001B[39m\u001B[38;5;124m--headless\u001B[39m\u001B[38;5;124m\"\u001B[39m)\n\u001B[0;32m      9\u001B[0m \u001B[38;5;66;03m# 初始化 Chrome WebDriver\u001B[39;00m\n\u001B[1;32m---> 10\u001B[0m driver \u001B[38;5;241m=\u001B[39m \u001B[43mwebdriver\u001B[49m\u001B[38;5;241;43m.\u001B[39;49m\u001B[43mChrome\u001B[49m\u001B[43m(\u001B[49m\u001B[43moptions\u001B[49m\u001B[38;5;241;43m=\u001B[39;49m\u001B[43mchrome_options\u001B[49m\u001B[43m)\u001B[49m\n\u001B[0;32m     12\u001B[0m \u001B[38;5;66;03m# 目标网页 URL\u001B[39;00m\n\u001B[0;32m     13\u001B[0m url \u001B[38;5;241m=\u001B[39m \u001B[38;5;124m'\u001B[39m\u001B[38;5;124mhttps://www.zhipin.com/job_detail/68451cc9884ccf761HZ42dW8ElJT.html?lid=6ChDThUbzno.search.3&securityId=b6JDOu6PlMjGM-_1_plr33F9r9kSRyvoCkZ6l2hfmiaje5gLAJMipfEB_zrSytNUWGJQCX7AcxPC5twGU7DvRqq8BmuzA03NpYmzLRvoWBEgFZwCJhnimVtZD2VUqvuUG52RCR1mQSpqWI3AJ4HOpCaNFj5imIY_oxqj4UweNH1iAg~~&sessionId=\u001B[39m\u001B[38;5;124m'\u001B[39m  \u001B[38;5;66;03m# 替换为你要访问的网页 URL\u001B[39;00m\n",
      "File \u001B[1;32mE:\\Anaconda3\\lib\\site-packages\\selenium\\webdriver\\chrome\\webdriver.py:82\u001B[0m, in \u001B[0;36mWebDriver.__init__\u001B[1;34m(self, executable_path, port, options, service_args, desired_capabilities, service_log_path, chrome_options, service, keep_alive)\u001B[0m\n\u001B[0;32m     80\u001B[0m \u001B[38;5;28;01mif\u001B[39;00m \u001B[38;5;129;01mnot\u001B[39;00m service:\n\u001B[0;32m     81\u001B[0m     service \u001B[38;5;241m=\u001B[39m Service(executable_path, port, service_args, service_log_path)\n\u001B[1;32m---> 82\u001B[0m service\u001B[38;5;241m.\u001B[39mpath \u001B[38;5;241m=\u001B[39m \u001B[43mDriverFinder\u001B[49m\u001B[38;5;241;43m.\u001B[39;49m\u001B[43mget_path\u001B[49m\u001B[43m(\u001B[49m\u001B[43mservice\u001B[49m\u001B[43m,\u001B[49m\u001B[43m \u001B[49m\u001B[43moptions\u001B[49m\u001B[43m)\u001B[49m\n\u001B[0;32m     84\u001B[0m \u001B[38;5;28msuper\u001B[39m()\u001B[38;5;241m.\u001B[39m\u001B[38;5;21m__init__\u001B[39m(\n\u001B[0;32m     85\u001B[0m     DesiredCapabilities\u001B[38;5;241m.\u001B[39mCHROME[\u001B[38;5;124m\"\u001B[39m\u001B[38;5;124mbrowserName\u001B[39m\u001B[38;5;124m\"\u001B[39m],\n\u001B[0;32m     86\u001B[0m     \u001B[38;5;124m\"\u001B[39m\u001B[38;5;124mgoog\u001B[39m\u001B[38;5;124m\"\u001B[39m,\n\u001B[1;32m   (...)\u001B[0m\n\u001B[0;32m     93\u001B[0m     keep_alive,\n\u001B[0;32m     94\u001B[0m )\n",
      "File \u001B[1;32mE:\\Anaconda3\\lib\\site-packages\\selenium\\webdriver\\common\\driver_finder.py:43\u001B[0m, in \u001B[0;36mDriverFinder.get_path\u001B[1;34m(service, options)\u001B[0m\n\u001B[0;32m     41\u001B[0m \u001B[38;5;28;01mexcept\u001B[39;00m WebDriverException \u001B[38;5;28;01mas\u001B[39;00m err:\n\u001B[0;32m     42\u001B[0m     logger\u001B[38;5;241m.\u001B[39mwarning(\u001B[38;5;124m\"\u001B[39m\u001B[38;5;124mUnable to obtain driver using Selenium Manager: \u001B[39m\u001B[38;5;124m\"\u001B[39m \u001B[38;5;241m+\u001B[39m err\u001B[38;5;241m.\u001B[39mmsg)\n\u001B[1;32m---> 43\u001B[0m     \u001B[38;5;28;01mraise\u001B[39;00m err\n\u001B[0;32m     45\u001B[0m \u001B[38;5;28;01mreturn\u001B[39;00m path\n",
      "File \u001B[1;32mE:\\Anaconda3\\lib\\site-packages\\selenium\\webdriver\\common\\driver_finder.py:40\u001B[0m, in \u001B[0;36mDriverFinder.get_path\u001B[1;34m(service, options)\u001B[0m\n\u001B[0;32m     37\u001B[0m \u001B[38;5;129m@staticmethod\u001B[39m\n\u001B[0;32m     38\u001B[0m \u001B[38;5;28;01mdef\u001B[39;00m \u001B[38;5;21mget_path\u001B[39m(service: Service, options: BaseOptions) \u001B[38;5;241m-\u001B[39m\u001B[38;5;241m>\u001B[39m \u001B[38;5;28mstr\u001B[39m:\n\u001B[0;32m     39\u001B[0m     \u001B[38;5;28;01mtry\u001B[39;00m:\n\u001B[1;32m---> 40\u001B[0m         path \u001B[38;5;241m=\u001B[39m shutil\u001B[38;5;241m.\u001B[39mwhich(service\u001B[38;5;241m.\u001B[39mpath) \u001B[38;5;129;01mor\u001B[39;00m \u001B[43mSeleniumManager\u001B[49m\u001B[43m(\u001B[49m\u001B[43m)\u001B[49m\u001B[38;5;241;43m.\u001B[39;49m\u001B[43mdriver_location\u001B[49m\u001B[43m(\u001B[49m\u001B[43moptions\u001B[49m\u001B[43m)\u001B[49m\n\u001B[0;32m     41\u001B[0m     \u001B[38;5;28;01mexcept\u001B[39;00m WebDriverException \u001B[38;5;28;01mas\u001B[39;00m err:\n\u001B[0;32m     42\u001B[0m         logger\u001B[38;5;241m.\u001B[39mwarning(\u001B[38;5;124m\"\u001B[39m\u001B[38;5;124mUnable to obtain driver using Selenium Manager: \u001B[39m\u001B[38;5;124m\"\u001B[39m \u001B[38;5;241m+\u001B[39m err\u001B[38;5;241m.\u001B[39mmsg)\n",
      "File \u001B[1;32mE:\\Anaconda3\\lib\\site-packages\\selenium\\webdriver\\common\\selenium_manager.py:101\u001B[0m, in \u001B[0;36mSeleniumManager.driver_location\u001B[1;34m(self, options)\u001B[0m\n\u001B[0;32m     98\u001B[0m     args\u001B[38;5;241m.\u001B[39mappend(\u001B[38;5;124m\"\u001B[39m\u001B[38;5;124m--browser-path\u001B[39m\u001B[38;5;124m\"\u001B[39m)\n\u001B[0;32m     99\u001B[0m     args\u001B[38;5;241m.\u001B[39mappend(\u001B[38;5;28mstr\u001B[39m(binary_location))\n\u001B[1;32m--> 101\u001B[0m result \u001B[38;5;241m=\u001B[39m \u001B[38;5;28;43mself\u001B[39;49m\u001B[38;5;241;43m.\u001B[39;49m\u001B[43mrun\u001B[49m\u001B[43m(\u001B[49m\u001B[43margs\u001B[49m\u001B[43m)\u001B[49m\n\u001B[0;32m    102\u001B[0m executable \u001B[38;5;241m=\u001B[39m result\u001B[38;5;241m.\u001B[39msplit(\u001B[38;5;124m\"\u001B[39m\u001B[38;5;130;01m\\t\u001B[39;00m\u001B[38;5;124m\"\u001B[39m)[\u001B[38;5;241m-\u001B[39m\u001B[38;5;241m1\u001B[39m]\u001B[38;5;241m.\u001B[39mstrip()\n\u001B[0;32m    103\u001B[0m logger\u001B[38;5;241m.\u001B[39mdebug(\u001B[38;5;124mf\u001B[39m\u001B[38;5;124m\"\u001B[39m\u001B[38;5;124mUsing driver at: \u001B[39m\u001B[38;5;132;01m{\u001B[39;00mexecutable\u001B[38;5;132;01m}\u001B[39;00m\u001B[38;5;124m\"\u001B[39m)\n",
      "File \u001B[1;32mE:\\Anaconda3\\lib\\site-packages\\selenium\\webdriver\\common\\selenium_manager.py:122\u001B[0m, in \u001B[0;36mSeleniumManager.run\u001B[1;34m(args)\u001B[0m\n\u001B[0;32m    120\u001B[0m result \u001B[38;5;241m=\u001B[39m output[\u001B[38;5;124m\"\u001B[39m\u001B[38;5;124mresult\u001B[39m\u001B[38;5;124m\"\u001B[39m][\u001B[38;5;124m\"\u001B[39m\u001B[38;5;124mmessage\u001B[39m\u001B[38;5;124m\"\u001B[39m]\n\u001B[0;32m    121\u001B[0m \u001B[38;5;28;01mif\u001B[39;00m completed_proc\u001B[38;5;241m.\u001B[39mreturncode:\n\u001B[1;32m--> 122\u001B[0m     \u001B[38;5;28;01mraise\u001B[39;00m SeleniumManagerException(\u001B[38;5;124mf\u001B[39m\u001B[38;5;124m\"\u001B[39m\u001B[38;5;124mSelenium Manager failed for: \u001B[39m\u001B[38;5;132;01m{\u001B[39;00mcommand\u001B[38;5;132;01m}\u001B[39;00m\u001B[38;5;124m.\u001B[39m\u001B[38;5;130;01m\\n\u001B[39;00m\u001B[38;5;132;01m{\u001B[39;00mresult\u001B[38;5;132;01m}\u001B[39;00m\u001B[38;5;132;01m{\u001B[39;00mstderr\u001B[38;5;132;01m}\u001B[39;00m\u001B[38;5;124m\"\u001B[39m)\n\u001B[0;32m    123\u001B[0m \u001B[38;5;28;01melse\u001B[39;00m:\n\u001B[0;32m    124\u001B[0m     \u001B[38;5;66;03m# Selenium Manager exited successfully, return executable path and print warnings\u001B[39;00m\n\u001B[0;32m    125\u001B[0m     \u001B[38;5;28;01mfor\u001B[39;00m item \u001B[38;5;129;01min\u001B[39;00m output[\u001B[38;5;124m\"\u001B[39m\u001B[38;5;124mlogs\u001B[39m\u001B[38;5;124m\"\u001B[39m]:\n",
      "\u001B[1;31mSeleniumManagerException\u001B[0m: Message: Selenium Manager failed for: E:\\Anaconda3\\lib\\site-packages\\selenium\\webdriver\\common\\windows\\selenium-manager.exe --browser chrome --output json.\nThe chromedriver version cannot be discovered\n"
     ]
    }
   ],
   "source": [
    "from selenium import webdriver\n",
    "from selenium.webdriver.chrome.options import Options\n",
    "import time\n",
    "\n",
    "# 设置 Chrome 为无头模式\n",
    "chrome_options = Options()\n",
    "chrome_options.add_argument(\"--headless\")\n",
    "\n",
    "# 初始化 Chrome WebDriver\n",
    "driver = webdriver.Chrome(options=chrome_options)\n",
    "\n",
    "# 目标网页 URL\n",
    "url = 'https://www.zhipin.com/job_detail/68451cc9884ccf761HZ42dW8ElJT.html?lid=6ChDThUbzno.search.3&securityId=b6JDOu6PlMjGM-_1_plr33F9r9kSRyvoCkZ6l2hfmiaje5gLAJMipfEB_zrSytNUWGJQCX7AcxPC5twGU7DvRqq8BmuzA03NpYmzLRvoWBEgFZwCJhnimVtZD2VUqvuUG52RCR1mQSpqWI3AJ4HOpCaNFj5imIY_oxqj4UweNH1iAg~~&sessionId='  # 替换为你要访问的网页 URL\n",
    "\n",
    "# 访问网页\n",
    "driver.get(url)\n",
    "\n",
    "# 等待一定时间，确保 JavaScript 代码有足够的时间加载数据\n",
    "time.sleep(5)  # 你可能需要根据网页加载时间进行调整\n",
    "\n",
    "# 获取网页内容\n",
    "page_content = driver.page_source\n",
    "\n",
    "# 关闭 WebDriver\n",
    "driver.quit()\n",
    "\n",
    "# 输出网页内容\n",
    "print(page_content)\n"
   ],
   "metadata": {
    "collapsed": false
   }
  },
  {
   "cell_type": "code",
   "execution_count": null,
   "outputs": [],
   "source": [],
   "metadata": {
    "collapsed": false
   }
  }
 ],
 "metadata": {
  "kernelspec": {
   "display_name": "Python 3",
   "language": "python",
   "name": "python3"
  },
  "language_info": {
   "codemirror_mode": {
    "name": "ipython",
    "version": 2
   },
   "file_extension": ".py",
   "mimetype": "text/x-python",
   "name": "python",
   "nbconvert_exporter": "python",
   "pygments_lexer": "ipython2",
   "version": "2.7.6"
  }
 },
 "nbformat": 4,
 "nbformat_minor": 0
}
