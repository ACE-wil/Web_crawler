{
 "cells": [
  {
   "cell_type": "code",
   "execution_count": 22,
   "outputs": [],
   "source": [
    "from requests_html import HTMLSession\n",
    "session = HTMLSession()"
   ],
   "metadata": {
    "collapsed": false
   }
  },
  {
   "cell_type": "code",
   "execution_count": 23,
   "outputs": [],
   "source": [
    "s = session.get('https://www.liepin.com/job/1958273773.shtml')\n"
   ],
   "metadata": {
    "collapsed": false
   }
  },
  {
   "cell_type": "code",
   "execution_count": 24,
   "outputs": [],
   "source": [
    "command = s.html.find('dd')"
   ],
   "metadata": {
    "collapsed": false
   }
  },
  {
   "cell_type": "code",
   "execution_count": 30,
   "outputs": [
    {
     "data": {
      "text/plain": "'工作内容： 1、 负责策划方案需符合时下趋垫与客户需求点结合； 2、 具备较强的策略策划能力，能够主导研究传统媒体，互联网，移动媒体等创意营销的应用，根据客户需求，带领团队提供专门线上线下解决方案、策划创意方案，并得到行业份额以及客户认可获取广告投放费用； 3、围绕客户需求，协调产品，创意，运营，数据，销售等相关部门，提供投前、投中、投后的数据洞察和结案报告，系统性的推动物流广告以及相关营销数据产品的优化、迭代和创新； 4、具备行业调研能力，能够定期输出不同行业的媒体策划方案并得到有效实施。 任职资格： 1、3-5年专业广告策划出身，具备多年带队经验，营销策划公司，互联网媒体或广告公司工作经验 2、丰富的客户服务经验及案例，服务过快消类，汽车类，奢侈品类，健康类全行业客户 3、能承担工作的挑战压力，积极进取，注重效果，乐于创新 4、优秀的文案功底和方案策划能力，提案能力和陈述能力 5、良好的组织协调能力，团队合作精神，能承担大的工作压力，勇于担当 6、拥有线下营销策划经验是加分项。'"
     },
     "execution_count": 30,
     "metadata": {},
     "output_type": "execute_result"
    }
   ],
   "source": [
    "command[0].text"
   ],
   "metadata": {
    "collapsed": false
   }
  },
  {
   "cell_type": "code",
   "execution_count": null,
   "outputs": [],
   "source": [],
   "metadata": {
    "collapsed": false
   }
  }
 ],
 "metadata": {
  "kernelspec": {
   "display_name": "Python 3",
   "language": "python",
   "name": "python3"
  },
  "language_info": {
   "codemirror_mode": {
    "name": "ipython",
    "version": 2
   },
   "file_extension": ".py",
   "mimetype": "text/x-python",
   "name": "python",
   "nbconvert_exporter": "python",
   "pygments_lexer": "ipython2",
   "version": "2.7.6"
  }
 },
 "nbformat": 4,
 "nbformat_minor": 0
}
