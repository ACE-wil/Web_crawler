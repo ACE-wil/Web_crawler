{
 "cells": [
  {
   "cell_type": "markdown",
   "source": [
    "# 51job有反自动化爬取，半小时能爬取一次"
   ],
   "metadata": {
    "collapsed": false
   }
  },
  {
   "cell_type": "code",
   "execution_count": 72,
   "outputs": [],
   "source": [
    "import pandas\n",
    "from requests_html import HTMLSession\n",
    "import json\n",
    "import pandas as pd"
   ],
   "metadata": {
    "collapsed": false
   }
  },
  {
   "cell_type": "code",
   "execution_count": 73,
   "outputs": [
    {
     "name": "stdout",
     "output_type": "stream",
     "text": [
      "1701315704\n"
     ]
    }
   ],
   "source": [
    "import time\n",
    "timestamp = time.time()\n",
    "print(int(timestamp))"
   ],
   "metadata": {
    "collapsed": false
   }
  },
  {
   "cell_type": "code",
   "execution_count": 74,
   "outputs": [],
   "source": [
    "cities = {\n",
    "    '上海':'020000',\n",
    "    '北京':'010000',\n",
    "    '广州':'030200',\n",
    "    '深圳':'040000'\n",
    "}"
   ],
   "metadata": {
    "collapsed": false
   }
  },
  {
   "cell_type": "code",
   "execution_count": 75,
   "outputs": [],
   "source": [
    "关键字 = input(\"输入职位\")"
   ],
   "metadata": {
    "collapsed": false
   }
  },
  {
   "cell_type": "code",
   "execution_count": 76,
   "outputs": [],
   "source": [
    "城市 = input(\"输入城市\")"
   ],
   "metadata": {
    "collapsed": false
   }
  },
  {
   "cell_type": "code",
   "execution_count": 77,
   "outputs": [
    {
     "data": {
      "text/plain": "'010000'"
     },
     "execution_count": 77,
     "metadata": {},
     "output_type": "execute_result"
    }
   ],
   "source": [
    "cities[城市]"
   ],
   "metadata": {
    "collapsed": false
   }
  },
  {
   "cell_type": "code",
   "execution_count": 78,
   "outputs": [
    {
     "name": "stdout",
     "output_type": "stream",
     "text": [
      "%E5%B9%BF%E5%91%8A%E7%AD%96%E5%88%92\n"
     ]
    }
   ],
   "source": [
    "import urllib.parse\n",
    "encoded_content = urllib.parse.quote(str(关键字))\n",
    "print(encoded_content)"
   ],
   "metadata": {
    "collapsed": false
   }
  },
  {
   "cell_type": "code",
   "execution_count": 79,
   "outputs": [],
   "source": [
    "url = 'https://we.51job.com/api/job/search-pc?api_key=51job&timestamp='+str(int(timestamp))+'&keyword='+str(encoded_content)+'&searchType=2&function=&industry=&jobArea='+cities[城市]+'&jobArea2=&landmark=&metro=&salary=&workYear=&degree=&companyType=&companySize=&jobType=&issueDate=&sortType=0&pageNum=1&requestId=&pageSize=20&source=1&accountId=225393392&pageCode=sou%7Csou%7Csoulb'"
   ],
   "metadata": {
    "collapsed": false
   }
  },
  {
   "cell_type": "code",
   "execution_count": 80,
   "outputs": [],
   "source": [
    "payload = {\n",
    "    \"api_key\": \"51job\",\n",
    "    \"timestamp\": str(timestamp),\n",
    "    \"keyword\": str(关键字),\n",
    "    \"searchType\": \"2\",\n",
    "    \"function\": \"\",\n",
    "    \"industry\": \"\",\n",
    "    \"jobArea\": cities[城市],\n",
    "    \"jobArea2\": \"\",\n",
    "    \"landmark\": \"\",\n",
    "    \"metro\": \"\",\n",
    "    \"salary\": \"\",\n",
    "    \"workYear\": \"\",\n",
    "    \"degree\": \"\",\n",
    "    \"companyType\": \"\",\n",
    "    \"companySize\": \"\",\n",
    "    \"jobType\": \"\",\n",
    "    \"issueDate\": \"\",\n",
    "    \"sortType\": \"0\",\n",
    "    \"pageNum\": \"1\",\n",
    "    \"requestId\": \"\",\n",
    "    \"pageSize\": \"20\",\n",
    "    \"source\": \"1\",\n",
    "    \"accountId\": \"225393392\",\n",
    "    \"pageCode\": \"sou|sou|soulb\"\n",
    "}"
   ],
   "metadata": {
    "collapsed": false
   }
  },
  {
   "cell_type": "code",
   "execution_count": 81,
   "outputs": [],
   "source": [
    "# link = 'https://we.51job.com/api/job/search-pc?'\n",
    "# for key,value in payload.items():\n",
    "#     link += key +'='+str(value)+'&'"
   ],
   "metadata": {
    "collapsed": false
   }
  },
  {
   "cell_type": "code",
   "execution_count": 82,
   "outputs": [],
   "source": [
    "# link = link[:-2]"
   ],
   "metadata": {
    "collapsed": false
   }
  },
  {
   "cell_type": "code",
   "execution_count": 86,
   "outputs": [],
   "source": [
    "wuyou_job_headers = {\n",
    "    \"Accept\": \"application/json, text/plain, */*\",\n",
    "    \"Accept-Encoding\": \"gzip, deflate, br\",\n",
    "    \"Accept-Language\": \"zh-CN,zh;q=0.9\",\n",
    "    \"Connection\": \"keep-alive\",\n",
    "    \"Cookie\": \"guid=df9079b1bea9db9cb298b4eeb9d04e27; nsearch=jobarea%3D%26%7C%26ord_field%3D%26%7C%26recentSearch0%3D%26%7C%26recentSearch1%3D%26%7C%26recentSearch2%3D%26%7C%26recentSearch3%3D%26%7C%26recentSearch4%3D%26%7C%26collapse_expansion%3D; partner=cn_bing_com; seo_refer_info_2023=%7B%22referUrl%22%3A%22https%3A%5C%2F%5C%2Fcn.bing.com%5C%2F%22%2C%22referHost%22%3A%22cn.bing.com%22%2C%22landUrl%22%3A%22%5C%2F%22%2C%22landHost%22%3A%22www.51job.com%22%2C%22partner%22%3Anull%7D; privacy=1701274637; Hm_lvt_1370a11171bd6f2d9b1fe98951541941=1701258507,1701306677; ps=needv%3D0; 51job=cuid%3D225393392%26%7C%26cusername%3DH021XlNfvSPd3m09B6UJ5XjQNG%252BYxTqqwsHd4Nl1Dt0%253D%26%7C%26cpassword%3D%26%7C%26cname%3Dd86ku2fK8S6E%252BRb5pj7CNQ%253D%253D%26%7C%26cemail%3DTulofWBK5Hi1tlVbVjjiYd1cspTrJXGw46fV%252BkR%252BdjM%253D%26%7C%26cemailstatus%3D0%26%7C%26cnickname%3D%26%7C%26ccry%3D.0vPXBy0iUA.c%26%7C%26cconfirmkey%3DshTz5e9OmApDw%26%7C%26cautologin%3D0%26%7C%26cenglish%3D0%26%7C%26sex%3D0%26%7C%26cnamekey%3DshdbRrNkhN5Oo%26%7C%26to%3D8631e09ad8ed44cc0933d93833621abf6567e153%26%7C%26; sensor=createDate%3D2023-04-10%26%7C%26identityType%3D2; slife=lastvisit%3D010000%26%7C%26lastlogindate%3D20231130%26%7C%26; NSC_ohjoy-bmjzvo-200-159=ffffffffc3a0d61945525d5f4f58455e445a4a423660; sensorsdata2015jssdkcross=%7B%22distinct_id%22%3A%22225393392%22%2C%22first_id%22%3A%2218c1ae8b042878-0ee7352aa1ad44-26031051-1327104-18c1ae8b043557%22%2C%22props%22%3A%7B%22%24latest_traffic_source_type%22%3A%22%E8%87%AA%E7%84%B6%E6%90%9C%E7%B4%A2%E6%B5%81%E9%87%8F%22%2C%22%24latest_search_keyword%22%3A%22%E6%9C%AA%E5%8F%96%E5%88%B0%E5%80%BC%22%2C%22%24latest_referrer%22%3A%22https%3A%2F%2Fcn.bing.com%2F%22%7D%2C%22identities%22%3A%22eyIkaWRlbnRpdHlfY29va2llX2lkIjoiMThjMWFlOGIwNDI4NzgtMGVlNzM1MmFhMWFkNDQtMjYwMzEwNTEtMTMyNzEwNC0xOGMxYWU4YjA0MzU1NyIsIiRpZGVudGl0eV9sb2dpbl9pZCI6IjIyNTM5MzM5MiJ9%22%2C%22history_login_id%22%3A%7B%22name%22%3A%22%24identity_login_id%22%2C%22value%22%3A%22225393392%22%7D%2C%22%24device_id%22%3A%2218c1ae8b042878-0ee7352aa1ad44-26031051-1327104-18c1ae8b043557%22%7D; Hm_lpvt_1370a11171bd6f2d9b1fe98951541941=1701306964; acw_tc=ac11000117013118333986905e00d2a89041b871c14dc809bc51ed4ea79297; acw_sc__v2=6567f559222b77323621a4d5fb4c0ce19cb80115; search=jobarea%7E%60030200%7C%21recentSearch0%7E%60030200%A1%FB%A1%FA000000%A1%FB%A1%FA0000%A1%FB%A1%FA00%A1%FB%A1%FA99%A1%FB%A1%FA%A1%FB%A1%FA99%A1%FB%A1%FA99%A1%FB%A1%FA99%A1%FB%A1%FA99%A1%FB%A1%FA9%A1%FB%A1%FA99%A1%FB%A1%FA%A1%FB%A1%FA0%A1%FB%A1%FA%CF%FA%CA%DB%D6%FA%C0%ED%A1%FB%A1%FA2%A1%FB%A1%FA1%7C%21recentSearch1%7E%60020000%2C030200%A1%FB%A1%FA000000%A1%FB%A1%FA0000%A1%FB%A1%FA00%A1%FB%A1%FA99%A1%FB%A1%FA%A1%FB%A1%FA99%A1%FB%A1%FA99%A1%FB%A1%FA99%A1%FB%A1%FA99%A1%FB%A1%FA9%A1%FB%A1%FA99%A1%FB%A1%FA%A1%FB%A1%FA0%A1%FB%A1%FA%CF%FA%CA%DB%D6%FA%C0%ED%A1%FB%A1%FA2%A1%FB%A1%FA1%7C%21recentSearch2%7E%60020000%A1%FB%A1%FA000000%A1%FB%A1%FA0000%A1%FB%A1%FA00%A1%FB%A1%FA99%A1%FB%A1%FA%A1%FB%A1%FA99%A1%FB%A1%FA99%A1%FB%A1%FA99%A1%FB%A1%FA99%A1%FB%A1%FA9%A1%FB%A1%FA99%A1%FB%A1%FA%A1%FB%A1%FA0%A1%FB%A1%FA%CF%FA%CA%DB%D6%FA%C0%ED%A1%FB%A1%FA2%A1%FB%A1%FA1%7C%21recentSearch3%7E%60020000%A1%FB%A1%FA000000%A1%FB%A1%FA0000%A1%FB%A1%FA00%A1%FB%A1%FA99%A1%FB%A1%FA%A1%FB%A1%FA99%A1%FB%A1%FA99%A1%FB%A1%FA99%A1%FB%A1%FA99%A1%FB%A1%FA9%A1%FB%A1%FA99%A1%FB%A1%FA%A1%FB%A1%FA0%A1%FB%A1%FA%B9%E3%B8%E6%B2%DF%BB%AE%A1%FB%A1%FA2%A1%FB%A1%FA1%7C%21recentSearch4%7E%60020000%A1%FB%A1%FA000000%A1%FB%A1%FA0000%A1%FB%A1%FA00%A1%FB%A1%FA99%A1%FB%A1%FA%A1%FB%A1%FA99%A1%FB%A1%FA99%A1%FB%A1%FA99%A1%FB%A1%FA99%A1%FB%A1%FA9%A1%FB%A1%FA99%A1%FB%A1%FA%A1%FB%A1%FA0%A1%FB%A1%FA%CF%FA%CA%DB%A1%FB%A1%FA2%A1%FB%A1%FA1%7C%21; JSESSIONID=9FCDEF0EC50C59A0178C701F90B46299; ssxmod_itna=eqGOAKGIeRoN0=DXbqgD8DuQKDkYGD0gGr+TwB4GNeoDZDiqAPGhDCb8trWPiK4/tiiemaqcCgGKNLegorLp=u7m0fsbDCPGnDBIKsHlYxiiyDCeDIDWeDiDGbOD=xGYDjBIz1yDm4i7DiKDpx0kzx5DW=5DEBK8DYysDDHQCx07DQHCeDDzeDfxzAhYtF5HitBpDivKcchkD7HIDlcxnbGkTFM6emH1U9xwLGFhP40OD09GUxibz1oDUeyzQ3hNrh6eVY+e5n45+BDxQpGezjmY+qhKTe/x1iW3Hj=ZeDDWP7r5HMwDD===; ssxmod_itna2=eqGOAKGIeRoN0=DXbqgD8DuQKDkYGD0gGr+TwDA=cwbD/ln7DFxiKlkgQ6yx84n7BwKGFjrdx2G3qFlvRsxdilo=7xq3bnLEo6cpFhk=EEhKyGvNlR3RzPHkUZMg5X3zD1roh7Kz4nB5HPpDsQ0HPnoBadS5GQ4FCnBx86ZTpWaW=YiOkR=nTXPWehheK6aO=hzFGqYO13gFwy1KCVGmjxSv=eCg==Kebb+M=dS3hYgH555Q0jOc8VUM+6/MkakCn4/op91GyQX6m98vC8F5nVCFAc1L7IvmiV+LEocFGvpKlXVqn6tNLlwZh6Mlq21ivxp0jtKzNx3Ks=LzBP34jiajRBXL=5XBxMxKhOQrFKmlrrKRvg0yhe9BPYjb5IRsDTXA5XYdEQNXQuMhT5/fs2eSoKd/qK0DaDG2FG5GO5/T=jreUbW7b4fm5D2a705h8TEnFhiNKuDe2OISwl0D7GzGfOqW8T4kKTq0pdRw+/8kXxzNDHKw5bD8OdpYD7GfGwLOPnTX8il0xtqeDhNGb4Gj4eeqD08Dijk896ePQQe4nFbBwWuQ4eOdkFdyPCnmcSwbPWeBci8SzcPYlWkD7y/HddD=\",\n",
    "    \"From-Domain\": \"51job_web\",\n",
    "    \"Host\": \"we.51job.com\",\n",
    "    \"Referer\": \"https://we.51job.com/pc/search?jobArea=010000&keyword=%E9%94%80%E5%94%AE&searchType=2&sortType=0&metro=\",\n",
    "    \"Sec-Fetch-Dest\": \"empty\",\n",
    "    \"Sec-Fetch-Mode\": \"cors\",\n",
    "    \"Sec-Fetch-Site\": \"same-origin\",\n",
    "    \"User-Agent\": \"Mozilla/5.0 (Windows NT 10.0; Win64; x64) AppleWebKit/537.36 (KHTML, like Gecko) Chrome/119.0.0.0 Safari/537.36\",\n",
    "    \"account-id\": \"225393392\",\n",
    "    \"partner\": \"cn_bing_com\",\n",
    "    \"property\": \"%7B%22partner%22%3A%22cn_bing_com%22%2C%22webId%22%3A2%2C%22fromdomain%22%3A%2251job_web%22%2C%22frompageUrl%22%3A%22https%3A%2F%2Fwe.51job.com%2F%22%2C%22pageUrl%22%3A%22https%3A%2F%2Fwe.51job.com%2Fpc%2Fsearch%3FjobArea%3D010000%26keyword%3D%25E9%2594%2580%25E5%2594%25AE%26searchType%3D2%26sortType%3D0%26metro%3D%22%2C%22identityType%22%3A%22%E5%9C%A8%E6%A0%A1%E7%94%9F%22%2C%22userType%22%3A%22%E8%80%81%E7%94%A8%E6%88%B7%22%2C%22isLogin%22%3A%22%E6%98%AF%22%2C%22accountid%22%3A%22225393392%22%2C%22keywordType%22%3A%22%E8%BE%93%E5%85%A5%E5%90%8E%E9%80%89%E6%8B%A9%E8%81%94%E6%83%B3%E8%AF%8D%22%7D\",\n",
    "    \"sec-ch-ua\": \"\\\"Google Chrome\\\";v=\\\"119\\\", \\\"Chromium\\\";v=\\\"119\\\", \\\"Not?A_Brand\\\";v=\\\"24\\\"\",\n",
    "    \"sec-ch-ua-mobile\": \"?0\",\n",
    "    \"sec-ch-ua-platform\": \"\\\"Windows\\\"\",\n",
    "    \"sign\": \"cefa440ff106186f94ed53523dbef2925af580ef0026d69c71aaff0415413a5c\",\n",
    "    \"user-token\": \"40e53e49337309f355d376e582e5be5465672527\",\n",
    "    \"uuid\": \"df9079b1bea9db9cb298b4eeb9d04e27\"\n",
    "}\n"
   ],
   "metadata": {
    "collapsed": false
   }
  },
  {
   "cell_type": "markdown",
   "source": [
    "# 容易黑号，半小时爬取一次就可"
   ],
   "metadata": {
    "collapsed": false
   }
  },
  {
   "cell_type": "code",
   "execution_count": 87,
   "outputs": [
    {
     "ename": "JSONDecodeError",
     "evalue": "Expecting value: line 1 column 1 (char 0)",
     "output_type": "error",
     "traceback": [
      "\u001B[1;31m---------------------------------------------------------------------------\u001B[0m",
      "\u001B[1;31mJSONDecodeError\u001B[0m                           Traceback (most recent call last)",
      "File \u001B[1;32mE:\\Anaconda3\\lib\\site-packages\\requests\\models.py:971\u001B[0m, in \u001B[0;36mResponse.json\u001B[1;34m(self, **kwargs)\u001B[0m\n\u001B[0;32m    970\u001B[0m \u001B[38;5;28;01mtry\u001B[39;00m:\n\u001B[1;32m--> 971\u001B[0m     \u001B[38;5;28;01mreturn\u001B[39;00m complexjson\u001B[38;5;241m.\u001B[39mloads(\u001B[38;5;28mself\u001B[39m\u001B[38;5;241m.\u001B[39mtext, \u001B[38;5;241m*\u001B[39m\u001B[38;5;241m*\u001B[39mkwargs)\n\u001B[0;32m    972\u001B[0m \u001B[38;5;28;01mexcept\u001B[39;00m JSONDecodeError \u001B[38;5;28;01mas\u001B[39;00m e:\n\u001B[0;32m    973\u001B[0m     \u001B[38;5;66;03m# Catch JSON-related errors and raise as requests.JSONDecodeError\u001B[39;00m\n\u001B[0;32m    974\u001B[0m     \u001B[38;5;66;03m# This aliases json.JSONDecodeError and simplejson.JSONDecodeError\u001B[39;00m\n",
      "File \u001B[1;32mE:\\Anaconda3\\lib\\site-packages\\simplejson\\__init__.py:514\u001B[0m, in \u001B[0;36mloads\u001B[1;34m(s, encoding, cls, object_hook, parse_float, parse_int, parse_constant, object_pairs_hook, use_decimal, allow_nan, **kw)\u001B[0m\n\u001B[0;32m    510\u001B[0m \u001B[38;5;28;01mif\u001B[39;00m (\u001B[38;5;28mcls\u001B[39m \u001B[38;5;129;01mis\u001B[39;00m \u001B[38;5;28;01mNone\u001B[39;00m \u001B[38;5;129;01mand\u001B[39;00m encoding \u001B[38;5;129;01mis\u001B[39;00m \u001B[38;5;28;01mNone\u001B[39;00m \u001B[38;5;129;01mand\u001B[39;00m object_hook \u001B[38;5;129;01mis\u001B[39;00m \u001B[38;5;28;01mNone\u001B[39;00m \u001B[38;5;129;01mand\u001B[39;00m\n\u001B[0;32m    511\u001B[0m         parse_int \u001B[38;5;129;01mis\u001B[39;00m \u001B[38;5;28;01mNone\u001B[39;00m \u001B[38;5;129;01mand\u001B[39;00m parse_float \u001B[38;5;129;01mis\u001B[39;00m \u001B[38;5;28;01mNone\u001B[39;00m \u001B[38;5;129;01mand\u001B[39;00m\n\u001B[0;32m    512\u001B[0m         parse_constant \u001B[38;5;129;01mis\u001B[39;00m \u001B[38;5;28;01mNone\u001B[39;00m \u001B[38;5;129;01mand\u001B[39;00m object_pairs_hook \u001B[38;5;129;01mis\u001B[39;00m \u001B[38;5;28;01mNone\u001B[39;00m\n\u001B[0;32m    513\u001B[0m         \u001B[38;5;129;01mand\u001B[39;00m \u001B[38;5;129;01mnot\u001B[39;00m use_decimal \u001B[38;5;129;01mand\u001B[39;00m \u001B[38;5;129;01mnot\u001B[39;00m allow_nan \u001B[38;5;129;01mand\u001B[39;00m \u001B[38;5;129;01mnot\u001B[39;00m kw):\n\u001B[1;32m--> 514\u001B[0m     \u001B[38;5;28;01mreturn\u001B[39;00m \u001B[43m_default_decoder\u001B[49m\u001B[38;5;241;43m.\u001B[39;49m\u001B[43mdecode\u001B[49m\u001B[43m(\u001B[49m\u001B[43ms\u001B[49m\u001B[43m)\u001B[49m\n\u001B[0;32m    515\u001B[0m \u001B[38;5;28;01mif\u001B[39;00m \u001B[38;5;28mcls\u001B[39m \u001B[38;5;129;01mis\u001B[39;00m \u001B[38;5;28;01mNone\u001B[39;00m:\n",
      "File \u001B[1;32mE:\\Anaconda3\\lib\\site-packages\\simplejson\\decoder.py:386\u001B[0m, in \u001B[0;36mJSONDecoder.decode\u001B[1;34m(self, s, _w, _PY3)\u001B[0m\n\u001B[0;32m    385\u001B[0m     s \u001B[38;5;241m=\u001B[39m \u001B[38;5;28mstr\u001B[39m(s, \u001B[38;5;28mself\u001B[39m\u001B[38;5;241m.\u001B[39mencoding)\n\u001B[1;32m--> 386\u001B[0m obj, end \u001B[38;5;241m=\u001B[39m \u001B[38;5;28;43mself\u001B[39;49m\u001B[38;5;241;43m.\u001B[39;49m\u001B[43mraw_decode\u001B[49m\u001B[43m(\u001B[49m\u001B[43ms\u001B[49m\u001B[43m)\u001B[49m\n\u001B[0;32m    387\u001B[0m end \u001B[38;5;241m=\u001B[39m _w(s, end)\u001B[38;5;241m.\u001B[39mend()\n",
      "File \u001B[1;32mE:\\Anaconda3\\lib\\site-packages\\simplejson\\decoder.py:416\u001B[0m, in \u001B[0;36mJSONDecoder.raw_decode\u001B[1;34m(self, s, idx, _w, _PY3)\u001B[0m\n\u001B[0;32m    415\u001B[0m         idx \u001B[38;5;241m+\u001B[39m\u001B[38;5;241m=\u001B[39m \u001B[38;5;241m3\u001B[39m\n\u001B[1;32m--> 416\u001B[0m \u001B[38;5;28;01mreturn\u001B[39;00m \u001B[38;5;28;43mself\u001B[39;49m\u001B[38;5;241;43m.\u001B[39;49m\u001B[43mscan_once\u001B[49m\u001B[43m(\u001B[49m\u001B[43ms\u001B[49m\u001B[43m,\u001B[49m\u001B[43m \u001B[49m\u001B[43midx\u001B[49m\u001B[38;5;241;43m=\u001B[39;49m\u001B[43m_w\u001B[49m\u001B[43m(\u001B[49m\u001B[43ms\u001B[49m\u001B[43m,\u001B[49m\u001B[43m \u001B[49m\u001B[43midx\u001B[49m\u001B[43m)\u001B[49m\u001B[38;5;241;43m.\u001B[39;49m\u001B[43mend\u001B[49m\u001B[43m(\u001B[49m\u001B[43m)\u001B[49m\u001B[43m)\u001B[49m\n",
      "\u001B[1;31mJSONDecodeError\u001B[0m: Expecting value: line 1 column 1 (char 0)",
      "\nDuring handling of the above exception, another exception occurred:\n",
      "\u001B[1;31mJSONDecodeError\u001B[0m                           Traceback (most recent call last)",
      "Cell \u001B[1;32mIn[87], line 5\u001B[0m\n\u001B[0;32m      1\u001B[0m session \u001B[38;5;241m=\u001B[39m HTMLSession()\n\u001B[0;32m      3\u001B[0m r \u001B[38;5;241m=\u001B[39m session\u001B[38;5;241m.\u001B[39mget(url, data\u001B[38;5;241m=\u001B[39mpayload, headers\u001B[38;5;241m=\u001B[39mwuyou_job_headers)\n\u001B[1;32m----> 5\u001B[0m response_data \u001B[38;5;241m=\u001B[39m \u001B[43mr\u001B[49m\u001B[38;5;241;43m.\u001B[39;49m\u001B[43mjson\u001B[49m\u001B[43m(\u001B[49m\u001B[43m)\u001B[49m\n\u001B[0;32m      7\u001B[0m response_data\n",
      "File \u001B[1;32mE:\\Anaconda3\\lib\\site-packages\\requests\\models.py:975\u001B[0m, in \u001B[0;36mResponse.json\u001B[1;34m(self, **kwargs)\u001B[0m\n\u001B[0;32m    971\u001B[0m     \u001B[38;5;28;01mreturn\u001B[39;00m complexjson\u001B[38;5;241m.\u001B[39mloads(\u001B[38;5;28mself\u001B[39m\u001B[38;5;241m.\u001B[39mtext, \u001B[38;5;241m*\u001B[39m\u001B[38;5;241m*\u001B[39mkwargs)\n\u001B[0;32m    972\u001B[0m \u001B[38;5;28;01mexcept\u001B[39;00m JSONDecodeError \u001B[38;5;28;01mas\u001B[39;00m e:\n\u001B[0;32m    973\u001B[0m     \u001B[38;5;66;03m# Catch JSON-related errors and raise as requests.JSONDecodeError\u001B[39;00m\n\u001B[0;32m    974\u001B[0m     \u001B[38;5;66;03m# This aliases json.JSONDecodeError and simplejson.JSONDecodeError\u001B[39;00m\n\u001B[1;32m--> 975\u001B[0m     \u001B[38;5;28;01mraise\u001B[39;00m RequestsJSONDecodeError(e\u001B[38;5;241m.\u001B[39mmsg, e\u001B[38;5;241m.\u001B[39mdoc, e\u001B[38;5;241m.\u001B[39mpos)\n",
      "\u001B[1;31mJSONDecodeError\u001B[0m: Expecting value: line 1 column 1 (char 0)"
     ]
    }
   ],
   "source": [
    "\n",
    "session = HTMLSession()\n",
    "\n",
    "r = session.get(url, data=payload, headers=wuyou_job_headers)\n",
    "\n",
    "response_data = r.json()\n",
    "\n",
    "response_data"
   ],
   "metadata": {
    "collapsed": false
   }
  },
  {
   "cell_type": "code",
   "execution_count": null,
   "outputs": [],
   "source": [
    "df_wuyou = pd.json_normalize(response_data['resultbody']['job']['items'])\n",
    "df_wuyou"
   ],
   "metadata": {
    "collapsed": false
   }
  },
  {
   "cell_type": "code",
   "execution_count": null,
   "outputs": [],
   "source": [
    "citi_name = str(城市)\n",
    "citi_name"
   ],
   "metadata": {
    "collapsed": false
   }
  },
  {
   "cell_type": "code",
   "execution_count": null,
   "outputs": [],
   "source": [
    "key = str(关键字)\n",
    "key"
   ],
   "metadata": {
    "collapsed": false
   }
  },
  {
   "cell_type": "code",
   "execution_count": null,
   "outputs": [],
   "source": [
    "import time\n",
    "time.localtime()\n",
    "output_time = str(time.localtime().tm_year)+'-'\\\n",
    "              +str(time.localtime().tm_mon)+'-'\\\n",
    "             +str(time.localtime().tm_mday)+'_'\\\n",
    "             +str(time.localtime().tm_hour)+'-' \\\n",
    "             +str(time.localtime().tm_min)\n",
    "output_time"
   ],
   "metadata": {
    "collapsed": false
   }
  },
  {
   "cell_type": "code",
   "execution_count": null,
   "outputs": [],
   "source": [
    "df_wuyou.to_excel('wuyou'+citi_name+key+output_time+'.xlsx')"
   ],
   "metadata": {
    "collapsed": false
   }
  },
  {
   "cell_type": "code",
   "execution_count": null,
   "outputs": [],
   "source": [
    "import pandas as pd"
   ],
   "metadata": {
    "collapsed": false
   }
  },
  {
   "cell_type": "code",
   "execution_count": null,
   "outputs": [],
   "source": [
    "read_df = pd.read_excel('wuyou'+citi_name+key+output_time+'.xlsx')\n",
    "read_df"
   ],
   "metadata": {
    "collapsed": false
   }
  },
  {
   "cell_type": "code",
   "execution_count": null,
   "outputs": [],
   "source": [
    "df_wuyou_job = read_df[['jobName','jobTags','jobAreaString','provideSalaryString','workYearString','degreeString','industryType1Str','companyName','companyTypeString','companySizeString','hrName','hrPosition','updateDateTime','jobHref','companyHref']]"
   ],
   "metadata": {
    "collapsed": false
   }
  },
  {
   "cell_type": "code",
   "execution_count": null,
   "outputs": [],
   "source": [
    "df_wuyou_job"
   ],
   "metadata": {
    "collapsed": false
   }
  },
  {
   "cell_type": "code",
   "execution_count": null,
   "outputs": [],
   "source": [
    "df_wuyou_job = df_wuyou_job.rename(columns={\n",
    "    'jobName':'职位名称',\n",
    "    'jobTags':'职位标签',\n",
    "    'jobAreaString':'岗位地址',\n",
    "    'provideSalaryString':'工资',\n",
    "    'workYearString':'工作经验',\n",
    "    'degreeString':'学历要求',\n",
    "    'industryType1Str':'公司行业',\n",
    "    'companyName':'公司名称',\n",
    "    'companyTypeString':'公司体制',\n",
    "    'companySizeString':'公司规模',\n",
    "    'hrName':'招聘者名称',\n",
    "    'hrPosition':'招聘者职位',\n",
    "    'updateDateTime':'更新时间',\n",
    "    'jobHref':'岗位详情',\n",
    "    'companyHref':'公司官网',\n",
    "})"
   ],
   "metadata": {
    "collapsed": false
   }
  },
  {
   "cell_type": "markdown",
   "source": [
    "# 尝试进入详情页爬取，抓不到数据，好像是script脚本+Ajax"
   ],
   "metadata": {
    "collapsed": false
   }
  },
  {
   "cell_type": "code",
   "execution_count": null,
   "outputs": [],
   "source": [
    "# from requests_html import HTMLSession\n",
    "# session = HTMLSession()"
   ],
   "metadata": {
    "collapsed": false
   }
  },
  {
   "cell_type": "code",
   "execution_count": null,
   "outputs": [],
   "source": [
    "# s = session.get(df_wuyou['jobHref'][1])\n",
    "# command = s.html.find('div.tmsg')"
   ],
   "metadata": {
    "collapsed": false
   }
  },
  {
   "cell_type": "code",
   "execution_count": null,
   "outputs": [],
   "source": [
    "# 技能要求 = []\n",
    "# for i in range(len(df_wuyou['jobHref'])):\n",
    "#     s = session.get(df_wuyou['jobHref'][i])\n",
    "#     command = s.html.find('div.inbox')\n",
    "#\n",
    "#     技能要求.append(command.text)"
   ],
   "metadata": {
    "collapsed": false
   }
  },
  {
   "cell_type": "code",
   "execution_count": null,
   "outputs": [],
   "source": [
    "df_wuyou_job.to_excel('51job前程无忧-'+citi_name+'-'+key+output_time+'.xlsx')"
   ],
   "metadata": {
    "collapsed": false
   }
  },
  {
   "cell_type": "code",
   "execution_count": null,
   "outputs": [],
   "source": [],
   "metadata": {
    "collapsed": false
   }
  }
 ],
 "metadata": {
  "kernelspec": {
   "display_name": "Python 3",
   "language": "python",
   "name": "python3"
  },
  "language_info": {
   "codemirror_mode": {
    "name": "ipython",
    "version": 2
   },
   "file_extension": ".py",
   "mimetype": "text/x-python",
   "name": "python",
   "nbconvert_exporter": "python",
   "pygments_lexer": "ipython2",
   "version": "2.7.6"
  }
 },
 "nbformat": 4,
 "nbformat_minor": 0
}
