{
 "cells": [
  {
   "cell_type": "markdown",
   "source": [
    "# 1.定义北上广深城市代码"
   ],
   "metadata": {
    "collapsed": false
   }
  },
  {
   "cell_type": "code",
   "execution_count": 1,
   "outputs": [],
   "source": [
    "city = [\n",
    "    {'code': '010', 'name': '北京'},\n",
    " {'code': '020', 'name': '上海'},\n",
    "{'code': '050020', 'name': '广州'},\n",
    " {'code': '050090', 'name': '深圳'},\n",
    "]"
   ],
   "metadata": {
    "collapsed": false
   }
  },
  {
   "cell_type": "markdown",
   "source": [
    "# 2.定义学历对应的代码"
   ],
   "metadata": {
    "collapsed": false
   }
  },
  {
   "cell_type": "code",
   "execution_count": 2,
   "outputs": [],
   "source": [
    "edulevel = [\n",
    "    {'code': \"010\", 'name': \"博士\"},\n",
    "{'code': \"020\", 'name': \"MBA/EMBA\"},\n",
    "{'code': \"030\", 'name': \"硕士\"},\n",
    "{'code': \"040\", 'name': \"本科\"},]"
   ],
   "metadata": {
    "collapsed": false
   }
  },
  {
   "cell_type": "markdown",
   "source": [
    "# 3.定义选择城市获取对应城市代码函数"
   ],
   "metadata": {
    "collapsed": false
   }
  },
  {
   "cell_type": "code",
   "execution_count": 3,
   "outputs": [],
   "source": [
    "def choose_city(city_name):\n",
    "    for i in city:\n",
    "        if i['name'] == city_name:\n",
    "            return i['code']"
   ],
   "metadata": {
    "collapsed": false
   }
  },
  {
   "cell_type": "markdown",
   "source": [
    "# 4.定义选择学历获取对应的代码"
   ],
   "metadata": {
    "collapsed": false
   }
  },
  {
   "cell_type": "code",
   "execution_count": 4,
   "outputs": [],
   "source": [
    "def choose_edu_level(edu_level):\n",
    "    for i in edulevel:\n",
    "        if i['name'] == edu_level:\n",
    "            return i['code']"
   ],
   "metadata": {
    "collapsed": false
   }
  },
  {
   "cell_type": "markdown",
   "source": [
    "# 5.定义请求头函数"
   ],
   "metadata": {
    "collapsed": false
   }
  },
  {
   "cell_type": "code",
   "execution_count": 5,
   "outputs": [],
   "source": [
    "def headers():\n",
    "    liepin_headers = {\n",
    "        \"Accept\": \"application/json, text/plain, */*\",\n",
    "        \"Accept-Encoding\": \"gzip, deflate, br\",\n",
    "        \"Accept-Language\": \"zh-CN,zh;q=0.9\",\n",
    "        \"Connection\": \"keep-alive\",\n",
    "        \"Content-Length\": \"487\",\n",
    "        \"Content-Type\": \"application/json;charset=UTF-8;\",\n",
    "        \"Cookie\": \"XSRF-TOKEN=zIARnRM0QQaLudJk_4OBXw; __gc_id=e936feed5bd343e5a73b304fa0d4ad5f; _ga=GA1.1.504776059.1697021947; __uuid=1697021948310.51; __tlog=1697021948354.48%7C00000000%7C00000000%7C00000000%7C00000000; Hm_lvt_a2647413544f5a04f00da7eee0d5e200=1697021951; acw_tc=2760828416970219810274366e53a098388abcfc886c89f5cbf2332344893f; Hm_lpvt_a2647413544f5a04f00da7eee0d5e200=1697021975; __session_seq=4; __uv_seq=4; __tlg_event_seq=24; _ga_54YTJKWN86=GS1.1.1697021946.1.1.1697023027.0.0.0\",\n",
    "        \"Host\": \"api-c.liepin.com\",\n",
    "        \"Origin\": \"https://www.liepin.com\",\n",
    "        \"Referer\": \"https://www.liepin.com/zhaopin/?currentPage=0&pageSize=40&city=050090&dq=050090&pubTime=&key=%E4%BA%A7%E5%93%81%E7%BB%8F%E7%90%86&suggestTag=&otherCity=&industry=&ckId=geq5b0qsi9umzbhn0oojbi2j8v8qu2bb&scene=condition&skId=geq5b0qsi9umzbhn0oojbi2j8v8qu2bb&fkId=geq5b0qsi9umzbhn0oojbi2j8v8qu2bb&sfrom=search_job_pc&suggestId=\",\n",
    "        \"Sec-Fetch-Dest\": \"empty\",\n",
    "        \"Sec-Fetch-Mode\": \"cors\",\n",
    "        \"Sec-Fetch-Site\": \"same-site\",\n",
    "        \"User-Agent\": \"Mozilla/5.0 (Windows NT 6.1; WOW64) AppleWebKit/537.36 (KHTML, like Gecko) Chrome/81.0.4044.122 Safari/537.36\",\n",
    "        \"X-Client-Type\": \"web\",\n",
    "        \"X-Fscp-Bi-Stat\": \"{\\\"location\\\": \\\"https://www.liepin.com/zhaopin/?currentPage=0&pageSize=40&city=050090&dq=050090&pubTime=&key=%E4%BA%A7%E5%93%81%E7%BB%8F%E7%90%86&suggestTag=&otherCity=&industry=&ckId=geq5b0qsi9umzbhn0oojbi2j8v8qu2bb&scene=condition&skId=geq5b0qsi9umzbhn0oojbi2j8v8qu2bb&fkId=geq5b0qsi9umzbhn0oojbi2j8v8qu2bb&sfrom=search_job_pc&suggestId=\\\"}\",\n",
    "        \"X-Fscp-Fe-Version\": \"\",\n",
    "        \"X-Fscp-Std-Info\": \"{\\\"client_id\\\": \\\"40108\\\"}\",\n",
    "        \"X-Fscp-Trace-Id\": \"187c89d1-ed19-48b2-99fe-85ceeb116589\",\n",
    "        \"X-Fscp-Version\": \"1.1\",\n",
    "        \"X-Requested-With\": \"XMLHttpRequest\",\n",
    "        \"X-XSRF-TOKEN\": \"zIARnRM0QQaLudJk_4OBXw\"\n",
    "    }\n",
    "\n",
    "    return liepin_headers"
   ],
   "metadata": {
    "collapsed": false
   }
  },
  {
   "cell_type": "markdown",
   "source": [
    "# 6.联网以及定义请求url，引入pandas和json库"
   ],
   "metadata": {
    "collapsed": false
   }
  },
  {
   "cell_type": "code",
   "execution_count": 6,
   "outputs": [],
   "source": [
    "import pandas\n",
    "from requests_html import HTMLSession\n",
    "import json\n",
    "import pandas as pd\n",
    "\n",
    "url = \"https://apic.liepin.com/api/com.liepin.searchfront4c.pc-search-job\""
   ],
   "metadata": {
    "collapsed": false
   }
  },
  {
   "cell_type": "markdown",
   "source": [
    "# 7.定义爬取猎聘网站函数，参数有城市和关键词和学历"
   ],
   "metadata": {
    "collapsed": false
   }
  },
  {
   "cell_type": "code",
   "execution_count": 7,
   "outputs": [],
   "source": [
    "def payloadd(城市,关键词,学历):\n",
    "    payload = {\n",
    "    \"data\": {\n",
    "        \"mainSearchPcConditionForm\": {\n",
    "            \"city\": choose_city(城市),\n",
    "            \"dq\": choose_city(城市),\n",
    "            \"pubTime\": \"\",\n",
    "            \"currentPage\": 0,\n",
    "            \"pageSize\": 40,\n",
    "            \"key\": 关键词,\n",
    "            \"suggestTag\": \"\",\n",
    "            \"workYearCode\": '',\n",
    "            \"compId\": \"\",\n",
    "            \"compName\": \"\",\n",
    "            \"compTag\": \"\",\n",
    "            \"industry\": \"\",\n",
    "            \"salary\": \"\",\n",
    "            \"jobKind\": \"\",\n",
    "            \"compScale\": \"\",\n",
    "            \"compKind\": \"\",\n",
    "            \"compStage\": \"\",\n",
    "            \"eduLevel\": choose_edu_level(学历)\n",
    "        },\n",
    "        \"passThroughForm\": {\n",
    "            \"scene\": \"input\",\n",
    "            \"skId\": \"\",\n",
    "            \"fkId\": \"\",\n",
    "            \"ckId\": \"h2c8pxojavrmo1w785z7ueih2ybfpux8\",\n",
    "            \"suggest\": None\n",
    "        }\n",
    "    }\n",
    "}\n",
    "    return payload"
   ],
   "metadata": {
    "collapsed": false
   }
  },
  {
   "cell_type": "markdown",
   "source": [
    "# 8.输入对应内容获取求职信息"
   ],
   "metadata": {
    "collapsed": false
   }
  },
  {
   "cell_type": "code",
   "execution_count": 25,
   "outputs": [],
   "source": [
    "城市 = input('输入城市，目前支持北京、上海、广州、深圳')"
   ],
   "metadata": {
    "collapsed": false
   }
  },
  {
   "cell_type": "code",
   "execution_count": 26,
   "outputs": [],
   "source": [
    "关键词 = input('关键词，任意职位即可')"
   ],
   "metadata": {
    "collapsed": false
   }
  },
  {
   "cell_type": "code",
   "execution_count": 27,
   "outputs": [],
   "source": [
    "学历 = input('学历，如本科、硕士、博士')"
   ],
   "metadata": {
    "collapsed": false
   }
  },
  {
   "cell_type": "markdown",
   "source": [
    "# 9.请求猎聘网数据"
   ],
   "metadata": {
    "collapsed": false
   }
  },
  {
   "cell_type": "code",
   "execution_count": 28,
   "outputs": [
    {
     "data": {
      "text/plain": "{'flag': 1,\n 'data': {'data': {'jobCardList': [{'dataParams': '{\"userId\":\"181b5eaac20859c201c724cba006438e\",\"imId\":\"3f588040b06a7b314f9742af3b6a500a\",\"imUserType\":\"2\",\"jobId\":\"49462105\",\"recruiterName\":\"李先生\",\"jobKind\":\"1\",\"recruiterPhoto\":\"5f8fa3a8ea60860b75385c7208u.png\"}',\n     'job': {'labels': ['广告策划', '新媒体'],\n      'refreshTime': '20230916093155',\n      'dq': '深圳',\n      'jobId': '49462105',\n      'jobKind': '1',\n      'link': 'https://www.liepin.com/a/49462105.shtml',\n      'topJob': False,\n      'title': '广告策划',\n      'salary': '15-20k',\n      'dataPromId': 'd_sfrom=search_prime&d_ckId=null&d_curPage=0&d_pageSize=40&d_headId=null&d_posi=0&skId=h2c8pxojavrmo1w785z7ueih2ybfpux8&fkId=h2c8pxojavrmo1w785z7ueih2ybfpux8&ckId=h2c8pxojavrmo1w785z7ueih2ybfpux8&sfrom=search_job_pc&curPage=0&pageSize=40&index=0',\n      'requireWorkYears': '3-5年',\n      'requireEduLevel': '本科',\n      'advViewFlag': False},\n     'recruiter': {'imId': '3f588040b06a7b314f9742af3b6a500a',\n      'imUserType': '2',\n      'recruiterName': '李先生',\n      'recruiterTitle': '猎头顾问',\n      'chatted': False,\n      'recruiterId': '181b5eaac20859c201c724cba006438e',\n      'recruiterPhoto': '5f8fa3a8ea60860b75385c7208u.png'},\n     'comp': {'compStage': '融资未公开',\n      'compLogo': '60e2fe0bf3df194a3c48adb502u.png',\n      'compScale': '100-499人',\n      'link': '',\n      'compName': '某深圳云计算/大数据公司',\n      'compIndustry': '云计算/大数据'},\n     'dataInfo': '%7B%22ckId%22%3A%22h2c8pxojavrmo1w785z7ueih2ybfpux8%22%2C%22scene%22%3A%22input%22%2C%22skId%22%3A%22h2c8pxojavrmo1w785z7ueih2ybfpux8%22%2C%22fkId%22%3A%22h2c8pxojavrmo1w785z7ueih2ybfpux8%22%2C%22pageSize%22%3A%2240%22%2C%22curPage%22%3A%220%22%2C%22sfrom%22%3A%22search_job_pc%22%2C%22jobId%22%3A%2249462105%22%2C%22jobKind%22%3A%221%22%2C%22d_curPage%22%3A%220%22%2C%22d_pageSize%22%3A%2240%22%2C%22as_from%22%3A%22search_prime%22%7D'},\n    {'dataParams': '{\"userId\":\"a7113020c23e14d83ae654ff5fc70253\",\"imId\":\"ab85de58bc41b6079df82a630335d146\",\"imUserType\":\"2\",\"jobId\":\"49511733\",\"recruiterName\":\"张女士\",\"jobKind\":\"1\",\"recruiterPhoto\":\"5f8fa3baf6d1ab58476f324908u.png\"}',\n     'job': {'labels': ['广告策划', '营销策划', '新媒体', '新媒体策划', '广告/传媒/文化'],\n      'refreshTime': '20230919093804',\n      'dq': '深圳',\n      'jobId': '49511733',\n      'jobKind': '1',\n      'link': 'https://www.liepin.com/a/49511733.shtml',\n      'topJob': False,\n      'title': '广告策划',\n      'salary': '15-25k',\n      'dataPromId': 'd_sfrom=search_prime&d_ckId=null&d_curPage=0&d_pageSize=40&d_headId=null&d_posi=1&skId=h2c8pxojavrmo1w785z7ueih2ybfpux8&fkId=h2c8pxojavrmo1w785z7ueih2ybfpux8&ckId=h2c8pxojavrmo1w785z7ueih2ybfpux8&sfrom=search_job_pc&curPage=0&pageSize=40&index=1',\n      'requireWorkYears': '3-5年',\n      'requireEduLevel': '本科',\n      'advViewFlag': False},\n     'recruiter': {'imId': 'ab85de58bc41b6079df82a630335d146',\n      'imUserType': '2',\n      'recruiterName': '张女士',\n      'recruiterTitle': '猎头顾问',\n      'chatted': False,\n      'recruiterId': 'a7113020c23e14d83ae654ff5fc70253',\n      'recruiterPhoto': '5f8fa3baf6d1ab58476f324908u.png'},\n     'comp': {'compLogo': '60e2fe0bf3df194a3c48adb502u.png',\n      'compScale': '50-99人',\n      'link': '',\n      'compName': '某深圳咨询服务公司',\n      'compIndustry': '咨询服务'},\n     'dataInfo': '%7B%22ckId%22%3A%22h2c8pxojavrmo1w785z7ueih2ybfpux8%22%2C%22scene%22%3A%22input%22%2C%22skId%22%3A%22h2c8pxojavrmo1w785z7ueih2ybfpux8%22%2C%22fkId%22%3A%22h2c8pxojavrmo1w785z7ueih2ybfpux8%22%2C%22pageSize%22%3A%2240%22%2C%22curPage%22%3A%220%22%2C%22sfrom%22%3A%22search_job_pc%22%2C%22jobId%22%3A%2249511733%22%2C%22jobKind%22%3A%221%22%2C%22d_curPage%22%3A%220%22%2C%22d_pageSize%22%3A%2240%22%2C%22as_from%22%3A%22search_prime%22%7D'},\n    {'dataParams': '{\"userId\":\"7c140a5bd2dbdb83a1a4eb0b60e7929a\",\"imId\":\"d70b7e4f6f8ad124351ff05530f680dd\",\"imUserType\":\"2\",\"jobId\":\"49859333\",\"recruiterName\":\"李女士\",\"jobKind\":\"2\",\"recruiterPhoto\":\"62283fb181a14b00fe4728ed06u.png\"}',\n     'job': {'labels': ['电商策划', '媒介策划', '数据分析'],\n      'refreshTime': '20231201094205',\n      'dq': '深圳',\n      'jobId': '49859333',\n      'jobKind': '2',\n      'link': 'https://www.liepin.com/job/1949859333.shtml',\n      'topJob': False,\n      'title': '广告策划经理（电商方向）',\n      'salary': '20-30k',\n      'dataPromId': 'd_sfrom=search_prime&d_ckId=null&d_curPage=0&d_pageSize=40&d_headId=null&d_posi=2&skId=h2c8pxojavrmo1w785z7ueih2ybfpux8&fkId=h2c8pxojavrmo1w785z7ueih2ybfpux8&ckId=h2c8pxojavrmo1w785z7ueih2ybfpux8&sfrom=search_job_pc&curPage=0&pageSize=40&index=2',\n      'pcOuterLink': '',\n      'h5OuterLink': '',\n      'requireWorkYears': '5-10年',\n      'requireEduLevel': '统招本科',\n      'advViewFlag': False},\n     'recruiter': {'imId': 'd70b7e4f6f8ad124351ff05530f680dd',\n      'imUserType': '2',\n      'recruiterName': '李女士',\n      'recruiterTitle': '华扬联众数字技术股份有限公司深圳分公司人力资源总监',\n      'chatted': False,\n      'recruiterId': '7c140a5bd2dbdb83a1a4eb0b60e7929a',\n      'recruiterPhoto': '62283fb181a14b00fe4728ed06u.png'},\n     'comp': {'compId': 8655207,\n      'compStage': '已上市',\n      'compLogo': '5bfe98bd74719df0ac997eb403a.png',\n      'compScale': '100-499人',\n      'link': 'https://www.liepin.com/company/8655207/',\n      'compName': '华扬联众数字技术股份有限公司深圳分公司',\n      'compIndustry': '广告/公关/会展'},\n     'dataInfo': '%7B%22ckId%22%3A%22h2c8pxojavrmo1w785z7ueih2ybfpux8%22%2C%22scene%22%3A%22input%22%2C%22skId%22%3A%22h2c8pxojavrmo1w785z7ueih2ybfpux8%22%2C%22fkId%22%3A%22h2c8pxojavrmo1w785z7ueih2ybfpux8%22%2C%22pageSize%22%3A%2240%22%2C%22curPage%22%3A%220%22%2C%22sfrom%22%3A%22search_job_pc%22%2C%22jobId%22%3A%2249859333%22%2C%22jobKind%22%3A%222%22%2C%22d_curPage%22%3A%220%22%2C%22d_pageSize%22%3A%2240%22%2C%22as_from%22%3A%22search_prime%22%7D'},\n    {'dataParams': '{\"userId\":\"3babec4b306b3ff6e013cb1f65fc9ace\",\"imId\":\"164dfa9e21d61f124ec8d2175e04cdc6\",\"imUserType\":\"2\",\"jobId\":\"49693291\",\"recruiterName\":\"钟先生\",\"jobKind\":\"1\",\"recruiterPhoto\":\"63ff44d3f6f3654cff904bb906u.png\"}',\n     'job': {'labels': ['文案策划',\n       '广告策划',\n       '户外媒介',\n       '传统媒介',\n       '广告媒介',\n       '品牌活动',\n       '营销活动',\n       '4A公司背景',\n       'to B',\n       '广告/传媒/文化'],\n      'refreshTime': '20231124142922',\n      'dq': '深圳-福田区',\n      'jobId': '49693291',\n      'jobKind': '1',\n      'link': 'https://www.liepin.com/a/49693291.shtml',\n      'topJob': False,\n      'title': '广告策划',\n      'salary': '15-25k',\n      'dataPromId': 'd_sfrom=search_prime&d_ckId=null&d_curPage=0&d_pageSize=40&d_headId=null&d_posi=3&skId=h2c8pxojavrmo1w785z7ueih2ybfpux8&fkId=h2c8pxojavrmo1w785z7ueih2ybfpux8&ckId=h2c8pxojavrmo1w785z7ueih2ybfpux8&sfrom=search_job_pc&curPage=0&pageSize=40&index=3',\n      'requireWorkYears': '3-5年',\n      'requireEduLevel': '统招本科',\n      'advViewFlag': False},\n     'recruiter': {'imId': '164dfa9e21d61f124ec8d2175e04cdc6',\n      'imUserType': '2',\n      'recruiterName': '钟先生',\n      'recruiterTitle': '猎头顾问',\n      'chatted': False,\n      'recruiterId': '3babec4b306b3ff6e013cb1f65fc9ace',\n      'recruiterPhoto': '63ff44d3f6f3654cff904bb906u.png'},\n     'comp': {'compLogo': '60e2fe0bf3df194a3c48adb502u.png',\n      'compScale': '1-49人',\n      'link': '',\n      'compName': '某深圳电子商务公司',\n      'compIndustry': '电子商务'},\n     'dataInfo': '%7B%22ckId%22%3A%22h2c8pxojavrmo1w785z7ueih2ybfpux8%22%2C%22scene%22%3A%22input%22%2C%22skId%22%3A%22h2c8pxojavrmo1w785z7ueih2ybfpux8%22%2C%22fkId%22%3A%22h2c8pxojavrmo1w785z7ueih2ybfpux8%22%2C%22pageSize%22%3A%2240%22%2C%22curPage%22%3A%220%22%2C%22sfrom%22%3A%22search_job_pc%22%2C%22jobId%22%3A%2249693291%22%2C%22jobKind%22%3A%221%22%2C%22d_curPage%22%3A%220%22%2C%22d_pageSize%22%3A%2240%22%2C%22as_from%22%3A%22search_prime%22%7D'},\n    {'dataParams': '{\"userId\":\"268ad976d8fa5902377adac1ca921a5f\",\"imId\":\"8ff547c88d9d1d78ff5aa8e531f3e699\",\"imUserType\":\"2\",\"jobId\":\"49458217\",\"recruiterName\":\"王先生\",\"jobKind\":\"1\",\"recruiterPhoto\":\"5f8fa3a78dbe6273dcf85e2608u.png\"}',\n     'job': {'labels': [],\n      'refreshTime': '20230915172955',\n      'dq': '深圳',\n      'jobId': '49458217',\n      'jobKind': '1',\n      'link': 'https://www.liepin.com/a/49458217.shtml',\n      'topJob': False,\n      'title': '广告策划',\n      'salary': '22-23k',\n      'dataPromId': 'd_sfrom=search_prime&d_ckId=null&d_curPage=0&d_pageSize=40&d_headId=null&d_posi=4&skId=h2c8pxojavrmo1w785z7ueih2ybfpux8&fkId=h2c8pxojavrmo1w785z7ueih2ybfpux8&ckId=h2c8pxojavrmo1w785z7ueih2ybfpux8&sfrom=search_job_pc&curPage=0&pageSize=40&index=4',\n      'requireWorkYears': '3-5年',\n      'requireEduLevel': '统招本科',\n      'advViewFlag': False},\n     'recruiter': {'imId': '8ff547c88d9d1d78ff5aa8e531f3e699',\n      'imUserType': '2',\n      'recruiterName': '王先生',\n      'recruiterTitle': '猎头顾问',\n      'chatted': False,\n      'recruiterId': '268ad976d8fa5902377adac1ca921a5f',\n      'recruiterPhoto': '5f8fa3a78dbe6273dcf85e2608u.png'},\n     'comp': {'compStage': '已上市',\n      'compLogo': '60e2fe0bf3df194a3c48adb502u.png',\n      'compScale': '10000人以上',\n      'link': '',\n      'compName': '某深圳知名公司',\n      'compIndustry': '批发/零售'},\n     'dataInfo': '%7B%22ckId%22%3A%22h2c8pxojavrmo1w785z7ueih2ybfpux8%22%2C%22scene%22%3A%22input%22%2C%22skId%22%3A%22h2c8pxojavrmo1w785z7ueih2ybfpux8%22%2C%22fkId%22%3A%22h2c8pxojavrmo1w785z7ueih2ybfpux8%22%2C%22pageSize%22%3A%2240%22%2C%22curPage%22%3A%220%22%2C%22sfrom%22%3A%22search_job_pc%22%2C%22jobId%22%3A%2249458217%22%2C%22jobKind%22%3A%221%22%2C%22d_curPage%22%3A%220%22%2C%22d_pageSize%22%3A%2240%22%2C%22as_from%22%3A%22search_prime%22%7D'},\n    {'dataParams': '{\"userId\":\"89407a28c9738e84184b5c29e2c3db6e\",\"imId\":\"df618f74aae78ba67dd12b43f7e9acc1\",\"imUserType\":\"2\",\"jobId\":\"49703519\",\"recruiterName\":\"姚女士\",\"jobKind\":\"1\",\"recruiterPhoto\":\"61bc17397be38f14907911e903u.png\"}',\n     'job': {'labels': ['直播策划', 'KOL', '广告/传媒/文化', 'IT/互联网/软件'],\n      'refreshTime': '20230926194436',\n      'dq': '深圳',\n      'jobId': '49703519',\n      'jobKind': '1',\n      'link': 'https://www.liepin.com/a/49703519.shtml',\n      'topJob': False,\n      'title': '广告策划',\n      'salary': '15-25k',\n      'dataPromId': 'd_sfrom=search_prime&d_ckId=null&d_curPage=0&d_pageSize=40&d_headId=null&d_posi=5&skId=h2c8pxojavrmo1w785z7ueih2ybfpux8&fkId=h2c8pxojavrmo1w785z7ueih2ybfpux8&ckId=h2c8pxojavrmo1w785z7ueih2ybfpux8&sfrom=search_job_pc&curPage=0&pageSize=40&index=5',\n      'requireWorkYears': '5-10年',\n      'requireEduLevel': '本科',\n      'advViewFlag': False},\n     'recruiter': {'imId': 'df618f74aae78ba67dd12b43f7e9acc1',\n      'imUserType': '2',\n      'recruiterName': '姚女士',\n      'recruiterTitle': '猎头顾问',\n      'chatted': False,\n      'recruiterId': '89407a28c9738e84184b5c29e2c3db6e',\n      'recruiterPhoto': '61bc17397be38f14907911e903u.png'},\n     'comp': {'compStage': '不需要融资',\n      'compLogo': '60e2fe0bf3df194a3c48adb502u.png',\n      'compScale': '1-49人',\n      'link': '',\n      'compName': '某深圳互联网公司',\n      'compIndustry': '互联网'},\n     'dataInfo': '%7B%22ckId%22%3A%22h2c8pxojavrmo1w785z7ueih2ybfpux8%22%2C%22scene%22%3A%22input%22%2C%22skId%22%3A%22h2c8pxojavrmo1w785z7ueih2ybfpux8%22%2C%22fkId%22%3A%22h2c8pxojavrmo1w785z7ueih2ybfpux8%22%2C%22pageSize%22%3A%2240%22%2C%22curPage%22%3A%220%22%2C%22sfrom%22%3A%22search_job_pc%22%2C%22jobId%22%3A%2249703519%22%2C%22jobKind%22%3A%221%22%2C%22d_curPage%22%3A%220%22%2C%22d_pageSize%22%3A%2240%22%2C%22as_from%22%3A%22search_prime%22%7D'},\n    {'dataParams': '{\"userId\":\"b5e5646f67497a4ca09cdb17f0f94218\",\"imId\":\"e8ed8394c021d74659a7d64ad9817c9f\",\"imUserType\":\"2\",\"jobId\":\"49200081\",\"recruiterName\":\"关女士\",\"jobKind\":\"1\",\"recruiterPhoto\":\"5d6f1eca1922212016c1940a01u.jpg\"}',\n     'job': {'labels': [],\n      'refreshTime': '20231201094401',\n      'dq': '深圳',\n      'jobId': '49200081',\n      'jobKind': '1',\n      'link': 'https://www.liepin.com/a/49200081.shtml',\n      'topJob': False,\n      'title': '广告策划岗（效果广告）',\n      'salary': '20-30k·14薪',\n      'dataPromId': 'd_sfrom=search_prime&d_ckId=null&d_curPage=0&d_pageSize=40&d_headId=null&d_posi=6&skId=h2c8pxojavrmo1w785z7ueih2ybfpux8&fkId=h2c8pxojavrmo1w785z7ueih2ybfpux8&ckId=h2c8pxojavrmo1w785z7ueih2ybfpux8&sfrom=search_job_pc&curPage=0&pageSize=40&index=6',\n      'requireWorkYears': '3-5年',\n      'requireEduLevel': '统招本科',\n      'advViewFlag': False},\n     'recruiter': {'imId': 'e8ed8394c021d74659a7d64ad9817c9f',\n      'imUserType': '2',\n      'recruiterName': '关女士',\n      'recruiterTitle': '猎头顾问',\n      'chatted': False,\n      'recruiterId': 'b5e5646f67497a4ca09cdb17f0f94218',\n      'recruiterPhoto': '5d6f1eca1922212016c1940a01u.jpg'},\n     'comp': {'compStage': '不需要融资',\n      'compLogo': '60e2fe0bf3df194a3c48adb502u.png',\n      'compScale': '1-49人',\n      'link': '',\n      'compName': '某深圳互联网公司',\n      'compIndustry': '互联网'},\n     'dataInfo': '%7B%22ckId%22%3A%22h2c8pxojavrmo1w785z7ueih2ybfpux8%22%2C%22scene%22%3A%22input%22%2C%22skId%22%3A%22h2c8pxojavrmo1w785z7ueih2ybfpux8%22%2C%22fkId%22%3A%22h2c8pxojavrmo1w785z7ueih2ybfpux8%22%2C%22pageSize%22%3A%2240%22%2C%22curPage%22%3A%220%22%2C%22sfrom%22%3A%22search_job_pc%22%2C%22jobId%22%3A%2249200081%22%2C%22jobKind%22%3A%221%22%2C%22d_curPage%22%3A%220%22%2C%22d_pageSize%22%3A%2240%22%2C%22as_from%22%3A%22search_prime%22%7D'},\n    {'dataParams': '{\"userId\":\"76b04097edcb0aabec3b97d8bf89f356\",\"imId\":\"6a683ed2ba2d73c7c5715bb95c1c6de6\",\"imUserType\":\"2\",\"jobId\":\"57524441\",\"recruiterName\":\"向女士\",\"jobKind\":\"2\",\"recruiterPhoto\":\"5f8f9865ea60860b75384fa508u.jpg\"}',\n     'job': {'labels': ['文案策划', '新媒体策划', '营销策划', '公关策划'],\n      'refreshTime': '20230404103030',\n      'dq': '深圳-福田区',\n      'jobId': '57524441',\n      'jobKind': '2',\n      'link': 'https://www.liepin.com/job/1957524441.shtml',\n      'topJob': False,\n      'title': '广告策划经理',\n      'salary': '11-15k',\n      'dataPromId': 'd_sfrom=search_prime&d_ckId=null&d_curPage=0&d_pageSize=40&d_headId=null&d_posi=7&skId=h2c8pxojavrmo1w785z7ueih2ybfpux8&fkId=h2c8pxojavrmo1w785z7ueih2ybfpux8&ckId=h2c8pxojavrmo1w785z7ueih2ybfpux8&sfrom=search_job_pc&curPage=0&pageSize=40&index=7',\n      'pcOuterLink': '',\n      'h5OuterLink': '',\n      'requireWorkYears': '3-5年',\n      'requireEduLevel': '本科',\n      'advViewFlag': False},\n     'recruiter': {'imId': '6a683ed2ba2d73c7c5715bb95c1c6de6',\n      'imUserType': '2',\n      'recruiterName': '向女士',\n      'recruiterTitle': '人事',\n      'chatted': False,\n      'recruiterId': '76b04097edcb0aabec3b97d8bf89f356',\n      'recruiterPhoto': '5f8f9865ea60860b75384fa508u.jpg'},\n     'comp': {'compId': 12615949,\n      'compStage': 'B轮',\n      'compLogo': '54d1ea91712eb4f6b84dc44c02c.png',\n      'compScale': '100-499人',\n      'link': 'https://www.liepin.com/company/12615949/',\n      'compName': '深圳宏禧互动科技股份有限公司',\n      'compIndustry': '广播/影视/录音'},\n     'dataInfo': '%7B%22ckId%22%3A%22h2c8pxojavrmo1w785z7ueih2ybfpux8%22%2C%22scene%22%3A%22input%22%2C%22skId%22%3A%22h2c8pxojavrmo1w785z7ueih2ybfpux8%22%2C%22fkId%22%3A%22h2c8pxojavrmo1w785z7ueih2ybfpux8%22%2C%22pageSize%22%3A%2240%22%2C%22curPage%22%3A%220%22%2C%22sfrom%22%3A%22search_job_pc%22%2C%22jobId%22%3A%2257524441%22%2C%22jobKind%22%3A%222%22%2C%22d_curPage%22%3A%220%22%2C%22d_pageSize%22%3A%2240%22%2C%22as_from%22%3A%22search_prime%22%7D'},\n    {'dataParams': '{\"userId\":\"fca9deff4be2505a2951066a0c6d1a7a\",\"imId\":\"1c3fe757750b2f95cb8db5f39dbf4c7c\",\"imUserType\":\"2\",\"jobId\":\"47986945\",\"recruiterName\":\"李江\",\"jobKind\":\"2\",\"recruiterPhoto\":\"622bfbf1cd58e269107c50f705u.png\"}',\n     'job': {'labels': ['自媒体',\n       '营销策划',\n       '文案策划',\n       '新媒体策划',\n       '媒介策划',\n       'KOL',\n       '短视频',\n       '直播媒体',\n       '乙方公司背景',\n       '广告/传媒/文化'],\n      'refreshTime': '20230717174544',\n      'dq': '深圳-龙岗区',\n      'jobId': '47986945',\n      'jobKind': '2',\n      'link': 'https://www.liepin.com/job/1947986945.shtml',\n      'topJob': False,\n      'title': '广告策划总监',\n      'salary': '15-30k',\n      'dataPromId': 'd_sfrom=search_prime&d_ckId=null&d_curPage=0&d_pageSize=40&d_headId=null&d_posi=8&skId=h2c8pxojavrmo1w785z7ueih2ybfpux8&fkId=h2c8pxojavrmo1w785z7ueih2ybfpux8&ckId=h2c8pxojavrmo1w785z7ueih2ybfpux8&sfrom=search_job_pc&curPage=0&pageSize=40&index=8',\n      'pcOuterLink': '',\n      'h5OuterLink': '',\n      'requireWorkYears': '3-5年',\n      'requireEduLevel': '本科',\n      'advViewFlag': False},\n     'recruiter': {'imId': '1c3fe757750b2f95cb8db5f39dbf4c7c',\n      'imUserType': '2',\n      'recruiterName': '李江',\n      'recruiterTitle': '董事长/创始人',\n      'chatted': False,\n      'recruiterId': 'fca9deff4be2505a2951066a0c6d1a7a',\n      'recruiterPhoto': '622bfbf1cd58e269107c50f705u.png'},\n     'comp': {'compId': 13155323,\n      'compStage': 'A轮',\n      'compLogo': '622c114ed5235a3cb077f01a08u.jpg',\n      'compScale': '500-999人',\n      'link': 'https://www.liepin.com/company/13155323/',\n      'compName': '青橙数科集团',\n      'compIndustry': '互联网'},\n     'dataInfo': '%7B%22ckId%22%3A%22h2c8pxojavrmo1w785z7ueih2ybfpux8%22%2C%22scene%22%3A%22input%22%2C%22skId%22%3A%22h2c8pxojavrmo1w785z7ueih2ybfpux8%22%2C%22fkId%22%3A%22h2c8pxojavrmo1w785z7ueih2ybfpux8%22%2C%22pageSize%22%3A%2240%22%2C%22curPage%22%3A%220%22%2C%22sfrom%22%3A%22search_job_pc%22%2C%22jobId%22%3A%2247986945%22%2C%22jobKind%22%3A%222%22%2C%22d_curPage%22%3A%220%22%2C%22d_pageSize%22%3A%2240%22%2C%22as_from%22%3A%22search_prime%22%7D'},\n    {'dataParams': '{\"userId\":\"83303250e924bdfe55053d1846969ed5\",\"imId\":\"8c39725e12c7d3ce649c553ff84e776e\",\"imUserType\":\"2\",\"jobId\":\"56422107\",\"recruiterName\":\"陈女士\",\"jobKind\":\"2\",\"recruiterPhoto\":\"5f8f9865ea60860b75384fa508u.jpg\"}',\n     'job': {'labels': ['营销策划', '品牌策划', '自媒体策划', '文案策划', '广告/传媒/文化'],\n      'refreshTime': '20230228161102',\n      'dq': '深圳-南山区',\n      'jobId': '56422107',\n      'jobKind': '2',\n      'link': 'https://www.liepin.com/job/1956422107.shtml',\n      'topJob': False,\n      'title': '广告策划经理',\n      'salary': '9-14k·13薪',\n      'dataPromId': 'd_sfrom=search_prime&d_ckId=null&d_curPage=0&d_pageSize=40&d_headId=null&d_posi=9&skId=h2c8pxojavrmo1w785z7ueih2ybfpux8&fkId=h2c8pxojavrmo1w785z7ueih2ybfpux8&ckId=h2c8pxojavrmo1w785z7ueih2ybfpux8&sfrom=search_job_pc&curPage=0&pageSize=40&index=9',\n      'pcOuterLink': '',\n      'h5OuterLink': '',\n      'requireWorkYears': '1-3年',\n      'requireEduLevel': '本科',\n      'advViewFlag': False},\n     'recruiter': {'imId': '8c39725e12c7d3ce649c553ff84e776e',\n      'imUserType': '2',\n      'recruiterName': '陈女士',\n      'recruiterTitle': '行政主管',\n      'chatted': False,\n      'recruiterId': '83303250e924bdfe55053d1846969ed5',\n      'recruiterPhoto': '5f8f9865ea60860b75384fa508u.jpg'},\n     'comp': {'compId': 8628096,\n      'compStage': '融资未公开',\n      'compLogo': '62eb903a6e5d962a49ed5edf06u.png',\n      'compScale': '500-999人',\n      'link': 'https://www.liepin.com/company/8628096/',\n      'compName': '剧星传媒',\n      'compIndustry': '广告/公关/会展'},\n     'dataInfo': '%7B%22ckId%22%3A%22h2c8pxojavrmo1w785z7ueih2ybfpux8%22%2C%22scene%22%3A%22input%22%2C%22skId%22%3A%22h2c8pxojavrmo1w785z7ueih2ybfpux8%22%2C%22fkId%22%3A%22h2c8pxojavrmo1w785z7ueih2ybfpux8%22%2C%22pageSize%22%3A%2240%22%2C%22curPage%22%3A%220%22%2C%22sfrom%22%3A%22search_job_pc%22%2C%22jobId%22%3A%2256422107%22%2C%22jobKind%22%3A%222%22%2C%22d_curPage%22%3A%220%22%2C%22d_pageSize%22%3A%2240%22%2C%22as_from%22%3A%22search_prime%22%7D'},\n    {'dataParams': '{\"userId\":\"db3139775d5fb7a7664279500deb8a8f\",\"imId\":\"ccfacb00097ba3168491f11171918ddf\",\"imUserType\":\"2\",\"jobId\":\"44612053\",\"recruiterName\":\"廖女士\",\"jobKind\":\"2\",\"recruiterPhoto\":\"5f8f9866dfb13a7dee342f1808u.jpg\"}',\n     'job': {'labels': ['广告设计'],\n      'refreshTime': '20211107174050',\n      'dq': '深圳',\n      'jobId': '44612053',\n      'jobKind': '2',\n      'link': 'https://www.liepin.com/job/1944612053.shtml',\n      'topJob': False,\n      'title': '广告策划',\n      'salary': '10-15k',\n      'dataPromId': 'd_sfrom=search_prime&d_ckId=null&d_curPage=0&d_pageSize=40&d_headId=null&d_posi=10&skId=h2c8pxojavrmo1w785z7ueih2ybfpux8&fkId=h2c8pxojavrmo1w785z7ueih2ybfpux8&ckId=h2c8pxojavrmo1w785z7ueih2ybfpux8&sfrom=search_job_pc&curPage=0&pageSize=40&index=10',\n      'pcOuterLink': '',\n      'h5OuterLink': '',\n      'requireWorkYears': '经验不限',\n      'requireEduLevel': '本科',\n      'advViewFlag': False},\n     'recruiter': {'imId': 'ccfacb00097ba3168491f11171918ddf',\n      'imUserType': '2',\n      'recruiterName': '廖女士',\n      'recruiterTitle': '首席执行官CEO/总裁/总经理',\n      'chatted': False,\n      'recruiterId': 'db3139775d5fb7a7664279500deb8a8f',\n      'recruiterPhoto': '5f8f9866dfb13a7dee342f1808u.jpg'},\n     'comp': {'compId': 12990811,\n      'compLogo': '61b07937d0458d53c627567e02u.jpg',\n      'compScale': '1-49人',\n      'link': 'https://www.liepin.com/company/12990811/',\n      'compName': '力视(深圳)创意文化有限公司',\n      'compIndustry': '广告/公关/会展'},\n     'dataInfo': '%7B%22ckId%22%3A%22h2c8pxojavrmo1w785z7ueih2ybfpux8%22%2C%22scene%22%3A%22input%22%2C%22skId%22%3A%22h2c8pxojavrmo1w785z7ueih2ybfpux8%22%2C%22fkId%22%3A%22h2c8pxojavrmo1w785z7ueih2ybfpux8%22%2C%22pageSize%22%3A%2240%22%2C%22curPage%22%3A%220%22%2C%22sfrom%22%3A%22search_job_pc%22%2C%22jobId%22%3A%2244612053%22%2C%22jobKind%22%3A%222%22%2C%22d_curPage%22%3A%220%22%2C%22d_pageSize%22%3A%2240%22%2C%22as_from%22%3A%22search_prime%22%7D'},\n    {'dataParams': '{\"userId\":\"185d01fae5102f0d84a8548ecc450a6f\",\"imId\":\"b7b0de3de297dba7c94f4d0c9b7b96ae\",\"imUserType\":\"2\",\"jobId\":\"49910307\",\"recruiterName\":\"任女士\",\"jobKind\":\"2\",\"recruiterPhoto\":\"5f8f9863f6d1ab58476f246a08u.jpg\"}',\n     'job': {'labels': [],\n      'refreshTime': '20220609181440',\n      'dq': '深圳',\n      'jobId': '49910307',\n      'jobKind': '2',\n      'link': 'https://www.liepin.com/job/1949910307.shtml',\n      'topJob': False,\n      'title': '广告策划经理（电商向）',\n      'salary': '15-25k·13薪',\n      'dataPromId': 'd_sfrom=search_prime&d_ckId=null&d_curPage=0&d_pageSize=40&d_headId=null&d_posi=11&skId=h2c8pxojavrmo1w785z7ueih2ybfpux8&fkId=h2c8pxojavrmo1w785z7ueih2ybfpux8&ckId=h2c8pxojavrmo1w785z7ueih2ybfpux8&sfrom=search_job_pc&curPage=0&pageSize=40&index=11',\n      'pcOuterLink': '',\n      'h5OuterLink': '',\n      'requireWorkYears': '5-10年',\n      'requireEduLevel': '统招本科',\n      'advViewFlag': False},\n     'recruiter': {'imId': 'b7b0de3de297dba7c94f4d0c9b7b96ae',\n      'imUserType': '2',\n      'recruiterName': '任女士',\n      'recruiterTitle': '',\n      'chatted': False,\n      'recruiterId': '185d01fae5102f0d84a8548ecc450a6f',\n      'recruiterPhoto': '5f8f9863f6d1ab58476f246a08u.jpg'},\n     'comp': {'compId': 8655207,\n      'compStage': '已上市',\n      'compLogo': '5bfe98bd74719df0ac997eb403a.png',\n      'compScale': '100-499人',\n      'link': 'https://www.liepin.com/company/8655207/',\n      'compName': '华扬联众数字技术股份有限公司深圳分公司',\n      'compIndustry': '广告/公关/会展'},\n     'dataInfo': '%7B%22ckId%22%3A%22h2c8pxojavrmo1w785z7ueih2ybfpux8%22%2C%22scene%22%3A%22input%22%2C%22skId%22%3A%22h2c8pxojavrmo1w785z7ueih2ybfpux8%22%2C%22fkId%22%3A%22h2c8pxojavrmo1w785z7ueih2ybfpux8%22%2C%22pageSize%22%3A%2240%22%2C%22curPage%22%3A%220%22%2C%22sfrom%22%3A%22search_job_pc%22%2C%22jobId%22%3A%2249910307%22%2C%22jobKind%22%3A%222%22%2C%22d_curPage%22%3A%220%22%2C%22d_pageSize%22%3A%2240%22%2C%22as_from%22%3A%22search_prime%22%7D'},\n    {'dataParams': '{\"userId\":\"434f867c2cd7dd7c17de564b1bb60ea8\",\"imId\":\"09427ef96116efb4062c1b1ee9c7454d\",\"imUserType\":\"2\",\"jobId\":\"38388095\",\"recruiterName\":\"黄女士\",\"jobKind\":\"2\",\"recruiterPhoto\":\"607ef487d2a5985c0ac08b6902u.png\"}',\n     'job': {'labels': ['效果广告', '全案撰写', '电商营销', '比稿', '复盘', '数据分析'],\n      'refreshTime': '20210420233734',\n      'dq': '深圳',\n      'jobId': '38388095',\n      'jobKind': '2',\n      'link': 'https://www.liepin.com/job/1938388095.shtml',\n      'topJob': False,\n      'title': '电商广告策划高级经理',\n      'salary': '15-20k·13薪',\n      'dataPromId': 'd_sfrom=search_prime&d_ckId=null&d_curPage=0&d_pageSize=40&d_headId=null&d_posi=12&skId=h2c8pxojavrmo1w785z7ueih2ybfpux8&fkId=h2c8pxojavrmo1w785z7ueih2ybfpux8&ckId=h2c8pxojavrmo1w785z7ueih2ybfpux8&sfrom=search_job_pc&curPage=0&pageSize=40&index=12',\n      'pcOuterLink': '',\n      'h5OuterLink': '',\n      'requireWorkYears': '3-5年',\n      'requireEduLevel': '本科',\n      'advViewFlag': False},\n     'recruiter': {'imId': '09427ef96116efb4062c1b1ee9c7454d',\n      'imUserType': '2',\n      'recruiterName': '黄女士',\n      'recruiterTitle': '招聘专员',\n      'chatted': False,\n      'recruiterId': '434f867c2cd7dd7c17de564b1bb60ea8',\n      'recruiterPhoto': '607ef487d2a5985c0ac08b6902u.png'},\n     'comp': {'compId': 10054283,\n      'compStage': '战略投资',\n      'compLogo': '5ce358b5d3ced448645a2c7d05u.png',\n      'compScale': '50-99人',\n      'link': 'https://www.liepin.com/company/10054283/',\n      'compName': '福建豌豆尖尖网络技术有限公司',\n      'compIndustry': '互联网'},\n     'dataInfo': '%7B%22ckId%22%3A%22h2c8pxojavrmo1w785z7ueih2ybfpux8%22%2C%22scene%22%3A%22input%22%2C%22skId%22%3A%22h2c8pxojavrmo1w785z7ueih2ybfpux8%22%2C%22fkId%22%3A%22h2c8pxojavrmo1w785z7ueih2ybfpux8%22%2C%22pageSize%22%3A%2240%22%2C%22curPage%22%3A%220%22%2C%22sfrom%22%3A%22search_job_pc%22%2C%22jobId%22%3A%2238388095%22%2C%22jobKind%22%3A%222%22%2C%22d_curPage%22%3A%220%22%2C%22d_pageSize%22%3A%2240%22%2C%22as_from%22%3A%22search_prime%22%7D'},\n    {'dataParams': '{\"userId\":\"b79bd1e37b9832c3bb27605a214e52b0\",\"imId\":\"da5873071d13750e99eeb040770b0b48\",\"imUserType\":\"2\",\"jobId\":\"50510345\",\"recruiterName\":\"邓女士\",\"jobKind\":\"1\",\"recruiterPhoto\":\"6274eefe3bf66543590b182a02u.png\"}',\n     'job': {'labels': ['海外广告'],\n      'refreshTime': '20231101152535',\n      'dq': '深圳-龙岗区',\n      'jobId': '50510345',\n      'jobKind': '1',\n      'link': 'https://www.liepin.com/a/50510345.shtml',\n      'topJob': False,\n      'title': '500强大厂-客户经理【广告方向、海外、英语好】',\n      'salary': '10-15k',\n      'dataPromId': 'd_sfrom=search_prime&d_ckId=null&d_curPage=0&d_pageSize=40&d_headId=null&d_posi=13&skId=h2c8pxojavrmo1w785z7ueih2ybfpux8&fkId=h2c8pxojavrmo1w785z7ueih2ybfpux8&ckId=h2c8pxojavrmo1w785z7ueih2ybfpux8&sfrom=search_job_pc&curPage=0&pageSize=40&index=13',\n      'requireWorkYears': '3-5年',\n      'requireEduLevel': '统招本科',\n      'advViewFlag': False},\n     'recruiter': {'imId': 'da5873071d13750e99eeb040770b0b48',\n      'imUserType': '2',\n      'recruiterName': '邓女士',\n      'recruiterTitle': '猎头顾问',\n      'chatted': False,\n      'recruiterId': 'b79bd1e37b9832c3bb27605a214e52b0',\n      'recruiterPhoto': '6274eefe3bf66543590b182a02u.png'},\n     'comp': {'compStage': '战略融资',\n      'compLogo': '60e2fe0bf3df194a3c48adb502u.png',\n      'compScale': '10000人以上',\n      'link': '',\n      'compName': '某知名公司',\n      'compIndustry': '电子/半导体/集成电路'},\n     'dataInfo': '%7B%22ckId%22%3A%22h2c8pxojavrmo1w785z7ueih2ybfpux8%22%2C%22scene%22%3A%22input%22%2C%22skId%22%3A%22h2c8pxojavrmo1w785z7ueih2ybfpux8%22%2C%22fkId%22%3A%22h2c8pxojavrmo1w785z7ueih2ybfpux8%22%2C%22pageSize%22%3A%2240%22%2C%22curPage%22%3A%220%22%2C%22sfrom%22%3A%22search_job_pc%22%2C%22jobId%22%3A%2250510345%22%2C%22jobKind%22%3A%221%22%2C%22d_curPage%22%3A%220%22%2C%22d_pageSize%22%3A%2240%22%2C%22as_from%22%3A%22search_prime%22%7D'},\n    {'dataParams': '{\"userId\":\"f9a38110ebdf2e4dfea338649f909633\",\"imId\":\"8d7651ea4fea9b9ea5be1174c03e48f0\",\"imUserType\":\"2\",\"jobId\":\"60343109\",\"recruiterName\":\"黄先生\",\"jobKind\":\"2\",\"recruiterPhoto\":\"5f8f986c79c7cc70efbf36c808u.jpg\"}',\n     'job': {'labels': ['品牌策划', '营销活动', '品牌活动', '新媒体', '品牌营销', '品牌公关'],\n      'refreshTime': '20230811110041',\n      'dq': '深圳-宝安区',\n      'jobId': '60343109',\n      'jobKind': '2',\n      'link': 'https://www.liepin.com/job/1960343109.shtml',\n      'topJob': False,\n      'title': '品牌策划',\n      'salary': '10-15k·14薪',\n      'dataPromId': 'd_sfrom=search_prime&d_ckId=null&d_curPage=0&d_pageSize=40&d_headId=null&d_posi=14&skId=h2c8pxojavrmo1w785z7ueih2ybfpux8&fkId=h2c8pxojavrmo1w785z7ueih2ybfpux8&ckId=h2c8pxojavrmo1w785z7ueih2ybfpux8&sfrom=search_job_pc&curPage=0&pageSize=40&index=14',\n      'pcOuterLink': '',\n      'h5OuterLink': '',\n      'requireWorkYears': '3-5年',\n      'requireEduLevel': '本科',\n      'advViewFlag': False},\n     'recruiter': {'imId': '8d7651ea4fea9b9ea5be1174c03e48f0',\n      'imUserType': '2',\n      'recruiterName': '黄先生',\n      'recruiterTitle': '品牌专家',\n      'chatted': False,\n      'recruiterId': 'f9a38110ebdf2e4dfea338649f909633',\n      'recruiterPhoto': '5f8f986c79c7cc70efbf36c808u.jpg'},\n     'comp': {'compId': 1628914,\n      'compStage': '创业板上市',\n      'compLogo': '5bfffacd74719da073f0ebac03u.png',\n      'compScale': '5000-10000人',\n      'link': 'https://www.liepin.com/company/1628914/',\n      'compName': '洲明科技',\n      'compIndustry': '电子/半导体/集成电路'},\n     'dataInfo': '%7B%22ckId%22%3A%22h2c8pxojavrmo1w785z7ueih2ybfpux8%22%2C%22scene%22%3A%22input%22%2C%22skId%22%3A%22h2c8pxojavrmo1w785z7ueih2ybfpux8%22%2C%22fkId%22%3A%22h2c8pxojavrmo1w785z7ueih2ybfpux8%22%2C%22pageSize%22%3A%2240%22%2C%22curPage%22%3A%220%22%2C%22sfrom%22%3A%22search_job_pc%22%2C%22jobId%22%3A%2260343109%22%2C%22jobKind%22%3A%222%22%2C%22d_curPage%22%3A%220%22%2C%22d_pageSize%22%3A%2240%22%2C%22as_from%22%3A%22search_prime%22%7D'},\n    {'dataParams': '{\"userId\":\"93590a7ce15eee1212cfd5ec8b8d2c53\",\"imId\":\"4a6c3dfbd4bbaa453eae059a38e31609\",\"imUserType\":\"2\",\"jobId\":\"60774641\",\"recruiterName\":\"刘先生\",\"jobKind\":\"2\",\"recruiterPhoto\":\"5f8f986c79c7cc70efbf36c808u.jpg\"}',\n     'job': {'labels': ['团队管理',\n       '房地产',\n       '销售管理',\n       '房产交易',\n       '市场洞察',\n       '销售培训',\n       '房地产行业'],\n      'refreshTime': '20230913135741',\n      'dq': '深圳-宝安区',\n      'jobId': '60774641',\n      'jobKind': '2',\n      'link': 'https://www.liepin.com/job/1960774641.shtml',\n      'topJob': False,\n      'title': '营销管理岗',\n      'salary': '8-15k',\n      'dataPromId': 'd_sfrom=search_prime&d_ckId=null&d_curPage=0&d_pageSize=40&d_headId=null&d_posi=15&skId=h2c8pxojavrmo1w785z7ueih2ybfpux8&fkId=h2c8pxojavrmo1w785z7ueih2ybfpux8&ckId=h2c8pxojavrmo1w785z7ueih2ybfpux8&sfrom=search_job_pc&curPage=0&pageSize=40&index=15',\n      'pcOuterLink': '',\n      'h5OuterLink': '',\n      'requireWorkYears': '5-10年',\n      'requireEduLevel': '本科',\n      'advViewFlag': False},\n     'recruiter': {'imId': '4a6c3dfbd4bbaa453eae059a38e31609',\n      'imUserType': '2',\n      'recruiterName': '刘先生',\n      'recruiterTitle': '人力资源经理',\n      'chatted': False,\n      'recruiterId': '93590a7ce15eee1212cfd5ec8b8d2c53',\n      'recruiterPhoto': '5f8f986c79c7cc70efbf36c808u.jpg'},\n     'comp': {'compId': 9126594,\n      'compLogo': '63eb27532c1e06711b7094a407u.png',\n      'compScale': '100-499人',\n      'link': 'https://www.liepin.com/company/9126594/',\n      'compName': '深圳市特区建发投资发展有限公司',\n      'compIndustry': '房地产开发经营'},\n     'dataInfo': '%7B%22ckId%22%3A%22h2c8pxojavrmo1w785z7ueih2ybfpux8%22%2C%22scene%22%3A%22input%22%2C%22skId%22%3A%22h2c8pxojavrmo1w785z7ueih2ybfpux8%22%2C%22fkId%22%3A%22h2c8pxojavrmo1w785z7ueih2ybfpux8%22%2C%22pageSize%22%3A%2240%22%2C%22curPage%22%3A%220%22%2C%22sfrom%22%3A%22search_job_pc%22%2C%22jobId%22%3A%2260774641%22%2C%22jobKind%22%3A%222%22%2C%22d_curPage%22%3A%220%22%2C%22d_pageSize%22%3A%2240%22%2C%22as_from%22%3A%22search_prime%22%7D'},\n    {'dataParams': '{\"userId\":\"5f8545a0e13372fff0ba90b11c5607f5\",\"imId\":\"2e71ae69030ce773e0d71104ecc2e595\",\"imUserType\":\"2\",\"jobId\":\"62929521\",\"recruiterName\":\"唐女士\",\"jobKind\":\"2\",\"recruiterPhoto\":\"5f8f9866dfb13a7dee342f1808u.jpg\"}',\n     'job': {'labels': [],\n      'refreshTime': '20231123155505',\n      'dq': '深圳-龙华区',\n      'jobId': '62929521',\n      'jobKind': '2',\n      'link': 'https://www.liepin.com/job/1962929521.shtml',\n      'topJob': False,\n      'title': '品牌营销总监（双休）',\n      'salary': '40-45k',\n      'dataPromId': 'd_sfrom=search_prime&d_ckId=null&d_curPage=0&d_pageSize=40&d_headId=null&d_posi=16&skId=h2c8pxojavrmo1w785z7ueih2ybfpux8&fkId=h2c8pxojavrmo1w785z7ueih2ybfpux8&ckId=h2c8pxojavrmo1w785z7ueih2ybfpux8&sfrom=search_job_pc&curPage=0&pageSize=40&index=16',\n      'pcOuterLink': '',\n      'h5OuterLink': '',\n      'requireWorkYears': '5-10年',\n      'requireEduLevel': '本科',\n      'advViewFlag': False},\n     'recruiter': {'imId': '2e71ae69030ce773e0d71104ecc2e595',\n      'imUserType': '2',\n      'recruiterName': '唐女士',\n      'recruiterTitle': '高级猎聘专员',\n      'chatted': False,\n      'recruiterId': '5f8545a0e13372fff0ba90b11c5607f5',\n      'recruiterPhoto': '5f8f9866dfb13a7dee342f1808u.jpg'},\n     'comp': {'compId': 8267592,\n      'compStage': '融资未公开',\n      'compLogo': '60653cd07e4f174e4d349fb006u.png',\n      'compScale': '100-499人',\n      'link': 'https://www.liepin.com/company/8267592/',\n      'compName': '深圳乐能电子有限公司',\n      'compIndustry': '电子商务'},\n     'dataInfo': '%7B%22ckId%22%3A%22h2c8pxojavrmo1w785z7ueih2ybfpux8%22%2C%22scene%22%3A%22input%22%2C%22skId%22%3A%22h2c8pxojavrmo1w785z7ueih2ybfpux8%22%2C%22fkId%22%3A%22h2c8pxojavrmo1w785z7ueih2ybfpux8%22%2C%22pageSize%22%3A%2240%22%2C%22curPage%22%3A%220%22%2C%22sfrom%22%3A%22search_job_pc%22%2C%22jobId%22%3A%2262929521%22%2C%22jobKind%22%3A%222%22%2C%22d_curPage%22%3A%220%22%2C%22d_pageSize%22%3A%2240%22%2C%22as_from%22%3A%22search_prime%22%7D'},\n    {'dataParams': '{\"userId\":\"5f8545a0e13372fff0ba90b11c5607f5\",\"imId\":\"2e71ae69030ce773e0d71104ecc2e595\",\"imUserType\":\"2\",\"jobId\":\"62797509\",\"recruiterName\":\"唐女士\",\"jobKind\":\"2\",\"recruiterPhoto\":\"5f8f9866dfb13a7dee342f1808u.jpg\"}',\n     'job': {'labels': [],\n      'refreshTime': '20231109105039',\n      'dq': '深圳-龙华区',\n      'jobId': '62797509',\n      'jobKind': '2',\n      'link': 'https://www.liepin.com/job/1962797509.shtml',\n      'topJob': False,\n      'title': '品牌总监（双休）',\n      'salary': '30-35k',\n      'dataPromId': 'd_sfrom=search_prime&d_ckId=null&d_curPage=0&d_pageSize=40&d_headId=null&d_posi=17&skId=h2c8pxojavrmo1w785z7ueih2ybfpux8&fkId=h2c8pxojavrmo1w785z7ueih2ybfpux8&ckId=h2c8pxojavrmo1w785z7ueih2ybfpux8&sfrom=search_job_pc&curPage=0&pageSize=40&index=17',\n      'pcOuterLink': '',\n      'h5OuterLink': '',\n      'requireWorkYears': '5-10年',\n      'requireEduLevel': '本科',\n      'advViewFlag': False},\n     'recruiter': {'imId': '2e71ae69030ce773e0d71104ecc2e595',\n      'imUserType': '2',\n      'recruiterName': '唐女士',\n      'recruiterTitle': '高级猎聘专员',\n      'chatted': False,\n      'recruiterId': '5f8545a0e13372fff0ba90b11c5607f5',\n      'recruiterPhoto': '5f8f9866dfb13a7dee342f1808u.jpg'},\n     'comp': {'compId': 8267592,\n      'compStage': '融资未公开',\n      'compLogo': '60653cd07e4f174e4d349fb006u.png',\n      'compScale': '100-499人',\n      'link': 'https://www.liepin.com/company/8267592/',\n      'compName': '深圳乐能电子有限公司',\n      'compIndustry': '电子商务'},\n     'dataInfo': '%7B%22ckId%22%3A%22h2c8pxojavrmo1w785z7ueih2ybfpux8%22%2C%22scene%22%3A%22input%22%2C%22skId%22%3A%22h2c8pxojavrmo1w785z7ueih2ybfpux8%22%2C%22fkId%22%3A%22h2c8pxojavrmo1w785z7ueih2ybfpux8%22%2C%22pageSize%22%3A%2240%22%2C%22curPage%22%3A%220%22%2C%22sfrom%22%3A%22search_job_pc%22%2C%22jobId%22%3A%2262797509%22%2C%22jobKind%22%3A%222%22%2C%22d_curPage%22%3A%220%22%2C%22d_pageSize%22%3A%2240%22%2C%22as_from%22%3A%22search_prime%22%7D'},\n    {'dataParams': '{\"userId\":\"24bbb78a4f07628ae1506cab68f16d25\",\"imId\":\"ec31f403784b91b029c9b0b0f994250e\",\"imUserType\":\"2\",\"jobId\":\"61451319\",\"recruiterName\":\"陈女士\",\"jobKind\":\"2\",\"recruiterPhoto\":\"5f8f9863f6d1ab58476f246a08u.jpg\"}',\n     'job': {'labels': ['品牌营销', '品牌推广', '品牌策划'],\n      'refreshTime': '20231114183124',\n      'dq': '深圳-福田区',\n      'jobId': '61451319',\n      'jobKind': '2',\n      'link': 'https://www.liepin.com/job/1961451319.shtml',\n      'topJob': False,\n      'title': '资深品牌策划',\n      'salary': '15-18k',\n      'dataPromId': 'd_sfrom=search_prime&d_ckId=null&d_curPage=0&d_pageSize=40&d_headId=null&d_posi=18&skId=h2c8pxojavrmo1w785z7ueih2ybfpux8&fkId=h2c8pxojavrmo1w785z7ueih2ybfpux8&ckId=h2c8pxojavrmo1w785z7ueih2ybfpux8&sfrom=search_job_pc&curPage=0&pageSize=40&index=18',\n      'pcOuterLink': '',\n      'h5OuterLink': '',\n      'requireWorkYears': '3-5年',\n      'requireEduLevel': '统招本科',\n      'advViewFlag': False},\n     'recruiter': {'imId': 'ec31f403784b91b029c9b0b0f994250e',\n      'imUserType': '2',\n      'recruiterName': '陈女士',\n      'recruiterTitle': 'HR',\n      'chatted': False,\n      'recruiterId': '24bbb78a4f07628ae1506cab68f16d25',\n      'recruiterPhoto': '5f8f9863f6d1ab58476f246a08u.jpg'},\n     'comp': {'compId': 10089721,\n      'compStage': 'B轮',\n      'compLogo': '6180f2bf47b3ae59643d294805u.png',\n      'compScale': '100-499人',\n      'link': 'https://www.liepin.com/company/10089721/',\n      'compName': '理然化妆品',\n      'compIndustry': '电子商务'},\n     'dataInfo': '%7B%22ckId%22%3A%22h2c8pxojavrmo1w785z7ueih2ybfpux8%22%2C%22scene%22%3A%22input%22%2C%22skId%22%3A%22h2c8pxojavrmo1w785z7ueih2ybfpux8%22%2C%22fkId%22%3A%22h2c8pxojavrmo1w785z7ueih2ybfpux8%22%2C%22pageSize%22%3A%2240%22%2C%22curPage%22%3A%220%22%2C%22sfrom%22%3A%22search_job_pc%22%2C%22jobId%22%3A%2261451319%22%2C%22jobKind%22%3A%222%22%2C%22d_curPage%22%3A%220%22%2C%22d_pageSize%22%3A%2240%22%2C%22as_from%22%3A%22search_prime%22%7D'},\n    {'dataParams': '{\"userId\":\"ada8e8a10b0bc39200574e28b441aacf\",\"imId\":\"5d3bb797a6aebab105783d9a4a302353\",\"imUserType\":\"2\",\"jobId\":\"59381567\",\"recruiterName\":\"覃女士\",\"jobKind\":\"2\",\"recruiterPhoto\":\"632c0195a9ee980ad14201f108u.jpeg\"}',\n     'job': {'labels': ['网站策划',\n       '品牌策划',\n       '市场策划',\n       '文案策划',\n       '网络媒体',\n       '门户网站',\n       'IT/互联网/软件',\n       '广告/传媒/文化'],\n      'refreshTime': '20230616104034',\n      'dq': '深圳-宝安区',\n      'jobId': '59381567',\n      'jobKind': '2',\n      'link': 'https://www.liepin.com/job/1959381567.shtml',\n      'topJob': False,\n      'title': '商业运营经理（广告营销策划）',\n      'salary': '25-55k',\n      'dataPromId': 'd_sfrom=search_prime&d_ckId=null&d_curPage=0&d_pageSize=40&d_headId=null&d_posi=19&skId=h2c8pxojavrmo1w785z7ueih2ybfpux8&fkId=h2c8pxojavrmo1w785z7ueih2ybfpux8&ckId=h2c8pxojavrmo1w785z7ueih2ybfpux8&sfrom=search_job_pc&curPage=0&pageSize=40&index=19',\n      'pcOuterLink': '',\n      'h5OuterLink': '',\n      'requireWorkYears': '5-10年',\n      'requireEduLevel': '统招本科',\n      'advViewFlag': False},\n     'recruiter': {'imId': '5d3bb797a6aebab105783d9a4a302353',\n      'imUserType': '2',\n      'recruiterName': '覃女士',\n      'recruiterTitle': '',\n      'chatted': False,\n      'recruiterId': 'ada8e8a10b0bc39200574e28b441aacf',\n      'recruiterPhoto': '632c0195a9ee980ad14201f108u.jpeg'},\n     'comp': {'compId': 4787049,\n      'compLogo': '5d7853b6d0e79f08cff5a19603u.png',\n      'compScale': '5000-10000人',\n      'link': 'https://www.liepin.com/company/4787049/',\n      'compName': 'vivo',\n      'compIndustry': '互联网'},\n     'dataInfo': '%7B%22ckId%22%3A%22h2c8pxojavrmo1w785z7ueih2ybfpux8%22%2C%22scene%22%3A%22input%22%2C%22skId%22%3A%22h2c8pxojavrmo1w785z7ueih2ybfpux8%22%2C%22fkId%22%3A%22h2c8pxojavrmo1w785z7ueih2ybfpux8%22%2C%22pageSize%22%3A%2240%22%2C%22curPage%22%3A%220%22%2C%22sfrom%22%3A%22search_job_pc%22%2C%22jobId%22%3A%2259381567%22%2C%22jobKind%22%3A%222%22%2C%22d_curPage%22%3A%220%22%2C%22d_pageSize%22%3A%2240%22%2C%22as_from%22%3A%22search_prime%22%7D'},\n    {'dataParams': '{\"userId\":\"320c3b18c09eabae5ed7e75d5a7f84ad\",\"imId\":\"7b31948702bae19e4383db9bf147ecbd\",\"imUserType\":\"2\",\"jobId\":\"61916879\",\"recruiterName\":\"宋女士\",\"jobKind\":\"2\",\"recruiterPhoto\":\"5f8f986779c7cc70efbf36c008u.jpg\"}',\n     'job': {'labels': ['商业项目运营'],\n      'refreshTime': '20230926153333',\n      'dq': '深圳-宝安区',\n      'jobId': '61916879',\n      'jobKind': '2',\n      'link': 'https://www.liepin.com/job/1961916879.shtml',\n      'topJob': False,\n      'title': '商业运营经理-D4127T',\n      'salary': '50-70k',\n      'dataPromId': 'd_sfrom=search_prime&d_ckId=null&d_curPage=0&d_pageSize=40&d_headId=null&d_posi=20&skId=h2c8pxojavrmo1w785z7ueih2ybfpux8&fkId=h2c8pxojavrmo1w785z7ueih2ybfpux8&ckId=h2c8pxojavrmo1w785z7ueih2ybfpux8&sfrom=search_job_pc&curPage=0&pageSize=40&index=20',\n      'pcOuterLink': '',\n      'h5OuterLink': '',\n      'requireWorkYears': '5-10年',\n      'requireEduLevel': '统招本科',\n      'advViewFlag': False},\n     'recruiter': {'imId': '7b31948702bae19e4383db9bf147ecbd',\n      'imUserType': '2',\n      'recruiterName': '宋女士',\n      'recruiterTitle': '招聘总监',\n      'chatted': False,\n      'recruiterId': '320c3b18c09eabae5ed7e75d5a7f84ad',\n      'recruiterPhoto': '5f8f986779c7cc70efbf36c008u.jpg'},\n     'comp': {'compId': 4787049,\n      'compLogo': '5d7853b6d0e79f08cff5a19603u.png',\n      'compScale': '5000-10000人',\n      'link': 'https://www.liepin.com/company/4787049/',\n      'compName': 'vivo',\n      'compIndustry': '互联网'},\n     'dataInfo': '%7B%22ckId%22%3A%22h2c8pxojavrmo1w785z7ueih2ybfpux8%22%2C%22scene%22%3A%22input%22%2C%22skId%22%3A%22h2c8pxojavrmo1w785z7ueih2ybfpux8%22%2C%22fkId%22%3A%22h2c8pxojavrmo1w785z7ueih2ybfpux8%22%2C%22pageSize%22%3A%2240%22%2C%22curPage%22%3A%220%22%2C%22sfrom%22%3A%22search_job_pc%22%2C%22jobId%22%3A%2261916879%22%2C%22jobKind%22%3A%222%22%2C%22d_curPage%22%3A%220%22%2C%22d_pageSize%22%3A%2240%22%2C%22as_from%22%3A%22search_prime%22%7D'},\n    {'dataParams': '{\"userId\":\"266d7328bfa9aad328a0c067d677b5f4\",\"imId\":\"0387d437061ba9a1ef38cb0ce6f46cd7\",\"imUserType\":\"2\",\"jobId\":\"59290373\",\"recruiterName\":\"刘先生\",\"jobKind\":\"2\",\"recruiterPhoto\":\"5f8f986c79c7cc70efbf36c808u.jpg\"}',\n     'job': {'labels': ['品牌策划',\n       '广告策划',\n       '企业策划',\n       '文案策划',\n       '广告媒介',\n       '自媒体',\n       '广告/传媒/文化',\n       '房地产/建筑业'],\n      'refreshTime': '20230802104553',\n      'dq': '深圳-南山区',\n      'jobId': '59290373',\n      'jobKind': '2',\n      'link': 'https://www.liepin.com/job/1959290373.shtml',\n      'topJob': False,\n      'title': '商业企划经理',\n      'salary': '15-18k·14薪',\n      'dataPromId': 'd_sfrom=search_prime&d_ckId=null&d_curPage=0&d_pageSize=40&d_headId=null&d_posi=21&skId=h2c8pxojavrmo1w785z7ueih2ybfpux8&fkId=h2c8pxojavrmo1w785z7ueih2ybfpux8&ckId=h2c8pxojavrmo1w785z7ueih2ybfpux8&sfrom=search_job_pc&curPage=0&pageSize=40&index=21',\n      'pcOuterLink': '',\n      'h5OuterLink': '',\n      'requireWorkYears': '3-5年',\n      'requireEduLevel': '本科',\n      'advViewFlag': False},\n     'recruiter': {'imId': '0387d437061ba9a1ef38cb0ce6f46cd7',\n      'imUserType': '2',\n      'recruiterName': '刘先生',\n      'recruiterTitle': '招聘专员/助理',\n      'chatted': False,\n      'recruiterId': '266d7328bfa9aad328a0c067d677b5f4',\n      'recruiterPhoto': '5f8f986c79c7cc70efbf36c808u.jpg'},\n     'comp': {'compId': 4817469,\n      'compStage': '已上市',\n      'compLogo': '5bfe9ad974719df0ac99e94603a.png',\n      'compScale': '10000人以上',\n      'link': 'https://www.liepin.com/company/4817469/',\n      'compName': '万科',\n      'compIndustry': '房地产开发经营'},\n     'dataInfo': '%7B%22ckId%22%3A%22h2c8pxojavrmo1w785z7ueih2ybfpux8%22%2C%22scene%22%3A%22input%22%2C%22skId%22%3A%22h2c8pxojavrmo1w785z7ueih2ybfpux8%22%2C%22fkId%22%3A%22h2c8pxojavrmo1w785z7ueih2ybfpux8%22%2C%22pageSize%22%3A%2240%22%2C%22curPage%22%3A%220%22%2C%22sfrom%22%3A%22search_job_pc%22%2C%22jobId%22%3A%2259290373%22%2C%22jobKind%22%3A%222%22%2C%22d_curPage%22%3A%220%22%2C%22d_pageSize%22%3A%2240%22%2C%22as_from%22%3A%22search_prime%22%7D'},\n    {'dataParams': '{\"userId\":\"9bea76bc30fe2e9010c755e01809276f\",\"imId\":\"2e76ce21467bd78ad0c9942d1c305c1a\",\"imUserType\":\"2\",\"jobId\":\"55364489\",\"recruiterName\":\"张女士\",\"jobKind\":\"2\",\"recruiterPhoto\":\"624e3ceadba87875df4a27db05u.png\"}',\n     'job': {'labels': ['品牌策划',\n       '抖音平台',\n       '整合营销',\n       '独立策划',\n       '现场提案',\n       '媒体研究',\n       '4A公司背景'],\n      'refreshTime': '20231129095900',\n      'dq': '深圳',\n      'jobId': '55364489',\n      'jobKind': '2',\n      'link': 'https://www.liepin.com/job/1955364489.shtml',\n      'topJob': False,\n      'title': '品牌策划(XJ000512)',\n      'salary': '18-30k',\n      'dataPromId': 'd_sfrom=search_prime&d_ckId=null&d_curPage=0&d_pageSize=40&d_headId=null&d_posi=22&skId=h2c8pxojavrmo1w785z7ueih2ybfpux8&fkId=h2c8pxojavrmo1w785z7ueih2ybfpux8&ckId=h2c8pxojavrmo1w785z7ueih2ybfpux8&sfrom=search_job_pc&curPage=0&pageSize=40&index=22',\n      'pcOuterLink': '',\n      'h5OuterLink': '',\n      'requireWorkYears': '3-5年',\n      'requireEduLevel': '本科',\n      'advViewFlag': False},\n     'recruiter': {'imId': '2e76ce21467bd78ad0c9942d1c305c1a',\n      'imUserType': '2',\n      'recruiterName': '张女士',\n      'recruiterTitle': '招聘负责人',\n      'chatted': False,\n      'recruiterId': '9bea76bc30fe2e9010c755e01809276f',\n      'recruiterPhoto': '624e3ceadba87875df4a27db05u.png'},\n     'comp': {'compId': 12344309,\n      'compStage': '战略投资',\n      'compLogo': '64fad0430a6ac65d711c3e1f01u.png',\n      'compScale': '500-999人',\n      'link': 'https://www.liepin.com/company/12344309/',\n      'compName': '深圳市亿科数字科技有限公司',\n      'compIndustry': '广告/公关/会展'},\n     'dataInfo': '%7B%22ckId%22%3A%22h2c8pxojavrmo1w785z7ueih2ybfpux8%22%2C%22scene%22%3A%22input%22%2C%22skId%22%3A%22h2c8pxojavrmo1w785z7ueih2ybfpux8%22%2C%22fkId%22%3A%22h2c8pxojavrmo1w785z7ueih2ybfpux8%22%2C%22pageSize%22%3A%2240%22%2C%22curPage%22%3A%220%22%2C%22sfrom%22%3A%22search_job_pc%22%2C%22jobId%22%3A%2255364489%22%2C%22jobKind%22%3A%222%22%2C%22d_curPage%22%3A%220%22%2C%22d_pageSize%22%3A%2240%22%2C%22as_from%22%3A%22search_prime%22%7D'},\n    {'dataParams': '{\"userId\":\"a06d40771a6fad30c17cc7265d291aa9\",\"imId\":\"309cfcc0ffdc458101ab80e4a8b96567\",\"imUserType\":\"2\",\"jobId\":\"47906861\",\"recruiterName\":\"黄先生\",\"jobKind\":\"1\",\"recruiterPhoto\":\"5fb613d8b1d9242a23ea8fb806u.png\"}',\n     'job': {'labels': ['品牌推广', '市场营销', '市场推广', '广告/传媒/文化'],\n      'refreshTime': '20231113215225',\n      'dq': '深圳',\n      'jobId': '47906861',\n      'jobKind': '1',\n      'link': 'https://www.liepin.com/a/47906861.shtml',\n      'topJob': False,\n      'title': '海外市场推广经理',\n      'salary': '25-35k',\n      'dataPromId': 'd_sfrom=search_prime&d_ckId=null&d_curPage=0&d_pageSize=40&d_headId=null&d_posi=23&skId=h2c8pxojavrmo1w785z7ueih2ybfpux8&fkId=h2c8pxojavrmo1w785z7ueih2ybfpux8&ckId=h2c8pxojavrmo1w785z7ueih2ybfpux8&sfrom=search_job_pc&curPage=0&pageSize=40&index=23',\n      'requireWorkYears': '3-5年',\n      'requireEduLevel': '统招本科',\n      'advViewFlag': False},\n     'recruiter': {'imId': '309cfcc0ffdc458101ab80e4a8b96567',\n      'imUserType': '2',\n      'recruiterName': '黄先生',\n      'recruiterTitle': '猎头顾问',\n      'chatted': False,\n      'recruiterId': 'a06d40771a6fad30c17cc7265d291aa9',\n      'recruiterPhoto': '5fb613d8b1d9242a23ea8fb806u.png'},\n     'comp': {'compStage': '已上市',\n      'compLogo': '60e2fe0bf3df194a3c48adb502u.png',\n      'compScale': '2000-5000人',\n      'link': '',\n      'compName': '某深圳新能源上市公司',\n      'compIndustry': '新能源'},\n     'dataInfo': '%7B%22ckId%22%3A%22h2c8pxojavrmo1w785z7ueih2ybfpux8%22%2C%22scene%22%3A%22input%22%2C%22skId%22%3A%22h2c8pxojavrmo1w785z7ueih2ybfpux8%22%2C%22fkId%22%3A%22h2c8pxojavrmo1w785z7ueih2ybfpux8%22%2C%22pageSize%22%3A%2240%22%2C%22curPage%22%3A%220%22%2C%22sfrom%22%3A%22search_job_pc%22%2C%22jobId%22%3A%2247906861%22%2C%22jobKind%22%3A%221%22%2C%22d_curPage%22%3A%220%22%2C%22d_pageSize%22%3A%2240%22%2C%22as_from%22%3A%22search_prime%22%7D'},\n    {'dataParams': '{\"userId\":\"8446ce98c7a1d6b442c5469df0b09132\",\"imId\":\"4b18ef0259b624bd160b5b344d4ef7b6\",\"imUserType\":\"2\",\"jobId\":\"55269333\",\"recruiterName\":\"高先生\",\"jobKind\":\"2\",\"recruiterPhoto\":\"5f8f986aea60860b75384fab08u.jpg\"}',\n     'job': {'labels': [],\n      'refreshTime': '20221229231640',\n      'dq': '深圳-龙华区',\n      'jobId': '55269333',\n      'jobKind': '2',\n      'link': 'https://www.liepin.com/job/1955269333.shtml',\n      'topJob': False,\n      'title': '品牌总监',\n      'salary': '40-60k',\n      'dataPromId': 'd_sfrom=search_prime&d_ckId=null&d_curPage=0&d_pageSize=40&d_headId=null&d_posi=24&skId=h2c8pxojavrmo1w785z7ueih2ybfpux8&fkId=h2c8pxojavrmo1w785z7ueih2ybfpux8&ckId=h2c8pxojavrmo1w785z7ueih2ybfpux8&sfrom=search_job_pc&curPage=0&pageSize=40&index=24',\n      'pcOuterLink': '',\n      'h5OuterLink': '',\n      'requireWorkYears': '5-10年',\n      'requireEduLevel': '本科',\n      'advViewFlag': False},\n     'recruiter': {'imId': '4b18ef0259b624bd160b5b344d4ef7b6',\n      'imUserType': '2',\n      'recruiterName': '高先生',\n      'recruiterTitle': '',\n      'chatted': False,\n      'recruiterId': '8446ce98c7a1d6b442c5469df0b09132',\n      'recruiterPhoto': '5f8f986aea60860b75384fab08u.jpg'},\n     'comp': {'compId': 571564,\n      'compLogo': '5bfe92e474719d9f609a828a03a.png',\n      'compScale': '2000-5000人',\n      'link': 'https://www.liepin.com/company/571564/',\n      'compName': '天狮集团',\n      'compIndustry': '日化'},\n     'dataInfo': '%7B%22ckId%22%3A%22h2c8pxojavrmo1w785z7ueih2ybfpux8%22%2C%22scene%22%3A%22input%22%2C%22skId%22%3A%22h2c8pxojavrmo1w785z7ueih2ybfpux8%22%2C%22fkId%22%3A%22h2c8pxojavrmo1w785z7ueih2ybfpux8%22%2C%22pageSize%22%3A%2240%22%2C%22curPage%22%3A%220%22%2C%22sfrom%22%3A%22search_job_pc%22%2C%22jobId%22%3A%2255269333%22%2C%22jobKind%22%3A%222%22%2C%22d_curPage%22%3A%220%22%2C%22d_pageSize%22%3A%2240%22%2C%22as_from%22%3A%22search_prime%22%7D'},\n    {'dataParams': '{\"userId\":\"91635afddf35df138913322e6f97c28e\",\"imId\":\"651f050b55046b799f90a7bcfdb96d0e\",\"imUserType\":\"2\",\"jobId\":\"50298181\",\"recruiterName\":\"辛玥\",\"jobKind\":\"1\",\"recruiterPhoto\":\"64701ad6b7a64441774c068904u.png\"}',\n     'job': {'labels': ['营销策划', '计划运营', '定位策略', '推广策划', '项目施工管理', '房建工程'],\n      'refreshTime': '20231024155353',\n      'dq': '深圳',\n      'jobId': '50298181',\n      'jobKind': '1',\n      'link': 'https://www.liepin.com/a/50298181.shtml',\n      'topJob': False,\n      'title': '深圳地区项目营销负责人',\n      'salary': '30-50k',\n      'dataPromId': 'd_sfrom=search_prime&d_ckId=null&d_curPage=0&d_pageSize=40&d_headId=null&d_posi=25&skId=h2c8pxojavrmo1w785z7ueih2ybfpux8&fkId=h2c8pxojavrmo1w785z7ueih2ybfpux8&ckId=h2c8pxojavrmo1w785z7ueih2ybfpux8&sfrom=search_job_pc&curPage=0&pageSize=40&index=25',\n      'requireWorkYears': '5-10年',\n      'requireEduLevel': '统招本科',\n      'advViewFlag': False},\n     'recruiter': {'imId': '651f050b55046b799f90a7bcfdb96d0e',\n      'imUserType': '2',\n      'recruiterName': '辛玥',\n      'recruiterTitle': '猎头顾问',\n      'chatted': False,\n      'recruiterId': '91635afddf35df138913322e6f97c28e',\n      'recruiterPhoto': '64701ad6b7a64441774c068904u.png'},\n     'comp': {'compStage': '战略融资',\n      'compLogo': '60e2fe0bf3df194a3c48adb502u.png',\n      'compScale': '500-999人',\n      'link': '',\n      'compName': '某深圳大型房地产开发经营公司',\n      'compIndustry': '房地产开发经营'},\n     'dataInfo': '%7B%22ckId%22%3A%22h2c8pxojavrmo1w785z7ueih2ybfpux8%22%2C%22scene%22%3A%22input%22%2C%22skId%22%3A%22h2c8pxojavrmo1w785z7ueih2ybfpux8%22%2C%22fkId%22%3A%22h2c8pxojavrmo1w785z7ueih2ybfpux8%22%2C%22pageSize%22%3A%2240%22%2C%22curPage%22%3A%220%22%2C%22sfrom%22%3A%22search_job_pc%22%2C%22jobId%22%3A%2250298181%22%2C%22jobKind%22%3A%221%22%2C%22d_curPage%22%3A%220%22%2C%22d_pageSize%22%3A%2240%22%2C%22as_from%22%3A%22search_prime%22%7D'},\n    {'dataParams': '{\"userId\":\"61938f5ecd7f0c3abf407d0877483faa\",\"imId\":\"90420a2264c9532a8d0518f0e699d577\",\"imUserType\":\"2\",\"jobId\":\"57773051\",\"recruiterName\":\"朱女士\",\"jobKind\":\"2\",\"recruiterPhoto\":\"5f8f9863f6d1ab58476f246a08u.jpg\"}',\n     'job': {'labels': ['品牌策划', '新媒体', '品牌活动', '品牌营销'],\n      'refreshTime': '20231122114823',\n      'dq': '深圳-南山区',\n      'jobId': '57773051',\n      'jobKind': '2',\n      'link': 'https://www.liepin.com/job/1957773051.shtml',\n      'topJob': False,\n      'title': '营销推广经理',\n      'salary': '25-35k·14薪',\n      'dataPromId': 'd_sfrom=search_prime&d_ckId=null&d_curPage=0&d_pageSize=40&d_headId=null&d_posi=26&skId=h2c8pxojavrmo1w785z7ueih2ybfpux8&fkId=h2c8pxojavrmo1w785z7ueih2ybfpux8&ckId=h2c8pxojavrmo1w785z7ueih2ybfpux8&sfrom=search_job_pc&curPage=0&pageSize=40&index=26',\n      'pcOuterLink': '',\n      'h5OuterLink': '',\n      'requireWorkYears': '5-10年',\n      'requireEduLevel': '本科',\n      'advViewFlag': False},\n     'recruiter': {'imId': '90420a2264c9532a8d0518f0e699d577',\n      'imUserType': '2',\n      'recruiterName': '朱女士',\n      'recruiterTitle': '招聘专员',\n      'chatted': False,\n      'recruiterId': '61938f5ecd7f0c3abf407d0877483faa',\n      'recruiterPhoto': '5f8f9863f6d1ab58476f246a08u.jpg'},\n     'comp': {'compId': 5420248,\n      'compLogo': '5bfea4ef74719d2aa34cd15f03a.png',\n      'compScale': '500-999人',\n      'link': 'https://www.liepin.com/company/5420248/',\n      'compName': '云创设计(深圳)集团有限公司',\n      'compIndustry': '服装/纺织/皮革'},\n     'dataInfo': '%7B%22ckId%22%3A%22h2c8pxojavrmo1w785z7ueih2ybfpux8%22%2C%22scene%22%3A%22input%22%2C%22skId%22%3A%22h2c8pxojavrmo1w785z7ueih2ybfpux8%22%2C%22fkId%22%3A%22h2c8pxojavrmo1w785z7ueih2ybfpux8%22%2C%22pageSize%22%3A%2240%22%2C%22curPage%22%3A%220%22%2C%22sfrom%22%3A%22search_job_pc%22%2C%22jobId%22%3A%2257773051%22%2C%22jobKind%22%3A%222%22%2C%22d_curPage%22%3A%220%22%2C%22d_pageSize%22%3A%2240%22%2C%22as_from%22%3A%22search_prime%22%7D'},\n    {'dataParams': '{\"userId\":\"217abdaf25c24d9e16c87a336b47f59f\",\"imId\":\"ebd7e5b03f781202f4067025f1d6ce6f\",\"imUserType\":\"2\",\"jobId\":\"50598641\",\"recruiterName\":\"陈先生\",\"jobKind\":\"1\",\"recruiterPhoto\":\"5fe05bf51721db2a11d95d9801u.jpg\"}',\n     'job': {'labels': ['市场推广',\n       '品牌推广',\n       '渠道推广',\n       '营销推广',\n       '媒介推广',\n       '市场策划',\n       '渠道策划',\n       '市场运营',\n       '市场拓展',\n       '市场调研分析'],\n      'refreshTime': '20231106093953',\n      'dq': '深圳',\n      'jobId': '50598641',\n      'jobKind': '1',\n      'link': 'https://www.liepin.com/a/50598641.shtml',\n      'topJob': False,\n      'title': '市场总监',\n      'salary': '35-65k',\n      'dataPromId': 'd_sfrom=search_prime&d_ckId=null&d_curPage=0&d_pageSize=40&d_headId=null&d_posi=27&skId=h2c8pxojavrmo1w785z7ueih2ybfpux8&fkId=h2c8pxojavrmo1w785z7ueih2ybfpux8&ckId=h2c8pxojavrmo1w785z7ueih2ybfpux8&sfrom=search_job_pc&curPage=0&pageSize=40&index=27',\n      'requireWorkYears': '经验不限',\n      'requireEduLevel': '统招本科',\n      'advViewFlag': False},\n     'recruiter': {'imId': 'ebd7e5b03f781202f4067025f1d6ce6f',\n      'imUserType': '2',\n      'recruiterName': '陈先生',\n      'recruiterTitle': '猎头顾问',\n      'chatted': False,\n      'recruiterId': '217abdaf25c24d9e16c87a336b47f59f',\n      'recruiterPhoto': '5fe05bf51721db2a11d95d9801u.jpg'},\n     'comp': {'compStage': '融资未公开',\n      'compLogo': '60e2fe0bf3df194a3c48adb502u.png',\n      'compScale': '10000人以上',\n      'link': '',\n      'compName': '某大型快消品公司',\n      'compIndustry': '日化'},\n     'dataInfo': '%7B%22ckId%22%3A%22h2c8pxojavrmo1w785z7ueih2ybfpux8%22%2C%22scene%22%3A%22input%22%2C%22skId%22%3A%22h2c8pxojavrmo1w785z7ueih2ybfpux8%22%2C%22fkId%22%3A%22h2c8pxojavrmo1w785z7ueih2ybfpux8%22%2C%22pageSize%22%3A%2240%22%2C%22curPage%22%3A%220%22%2C%22sfrom%22%3A%22search_job_pc%22%2C%22jobId%22%3A%2250598641%22%2C%22jobKind%22%3A%221%22%2C%22d_curPage%22%3A%220%22%2C%22d_pageSize%22%3A%2240%22%2C%22as_from%22%3A%22search_prime%22%7D'},\n    {'dataParams': '{\"userId\":\"24bbb78a4f07628ae1506cab68f16d25\",\"imId\":\"ec31f403784b91b029c9b0b0f994250e\",\"imUserType\":\"2\",\"jobId\":\"60417225\",\"recruiterName\":\"陈女士\",\"jobKind\":\"2\",\"recruiterPhoto\":\"5f8f9863f6d1ab58476f246a08u.jpg\"}',\n     'job': {'labels': ['营销策划', '文案策划', '活动策划', '公关策划', '房地产/建筑业'],\n      'refreshTime': '20230731160709',\n      'dq': '深圳-福田区',\n      'jobId': '60417225',\n      'jobKind': '2',\n      'link': 'https://www.liepin.com/job/1960417225.shtml',\n      'topJob': False,\n      'title': '品牌策划',\n      'salary': '12-15k',\n      'dataPromId': 'd_sfrom=search_prime&d_ckId=null&d_curPage=0&d_pageSize=40&d_headId=null&d_posi=28&skId=h2c8pxojavrmo1w785z7ueih2ybfpux8&fkId=h2c8pxojavrmo1w785z7ueih2ybfpux8&ckId=h2c8pxojavrmo1w785z7ueih2ybfpux8&sfrom=search_job_pc&curPage=0&pageSize=40&index=28',\n      'pcOuterLink': '',\n      'h5OuterLink': '',\n      'requireWorkYears': '1-3年',\n      'requireEduLevel': '统招本科',\n      'advViewFlag': False},\n     'recruiter': {'imId': 'ec31f403784b91b029c9b0b0f994250e',\n      'imUserType': '2',\n      'recruiterName': '陈女士',\n      'recruiterTitle': 'HR',\n      'chatted': False,\n      'recruiterId': '24bbb78a4f07628ae1506cab68f16d25',\n      'recruiterPhoto': '5f8f9863f6d1ab58476f246a08u.jpg'},\n     'comp': {'compId': 10089721,\n      'compStage': 'B轮',\n      'compLogo': '6180f2bf47b3ae59643d294805u.png',\n      'compScale': '100-499人',\n      'link': 'https://www.liepin.com/company/10089721/',\n      'compName': '理然化妆品',\n      'compIndustry': '电子商务'},\n     'dataInfo': '%7B%22ckId%22%3A%22h2c8pxojavrmo1w785z7ueih2ybfpux8%22%2C%22scene%22%3A%22input%22%2C%22skId%22%3A%22h2c8pxojavrmo1w785z7ueih2ybfpux8%22%2C%22fkId%22%3A%22h2c8pxojavrmo1w785z7ueih2ybfpux8%22%2C%22pageSize%22%3A%2240%22%2C%22curPage%22%3A%220%22%2C%22sfrom%22%3A%22search_job_pc%22%2C%22jobId%22%3A%2260417225%22%2C%22jobKind%22%3A%222%22%2C%22d_curPage%22%3A%220%22%2C%22d_pageSize%22%3A%2240%22%2C%22as_from%22%3A%22search_prime%22%7D'},\n    {'dataParams': '{\"userId\":\"ea8ddfab56ce6f61ba5476702434b7e8\",\"imId\":\"ca79f28e0bb54528478730d086184fcb\",\"imUserType\":\"2\",\"jobId\":\"63060193\",\"recruiterName\":\"何女士\",\"jobKind\":\"2\",\"recruiterPhoto\":\"5f8f9863f6d1ab58476f246a08u.jpg\"}',\n     'job': {'labels': ['品牌策划',\n       '营销策划',\n       '广告策划',\n       '市场策划',\n       '门户网站',\n       '广告媒介',\n       '广告/传媒/文化'],\n      'refreshTime': '20231121092913',\n      'dq': '深圳-福田区',\n      'jobId': '63060193',\n      'jobKind': '2',\n      'link': 'https://www.liepin.com/job/1963060193.shtml',\n      'topJob': False,\n      'title': '营销设计',\n      'salary': '10-15k',\n      'dataPromId': 'd_sfrom=search_prime&d_ckId=null&d_curPage=0&d_pageSize=40&d_headId=null&d_posi=29&skId=h2c8pxojavrmo1w785z7ueih2ybfpux8&fkId=h2c8pxojavrmo1w785z7ueih2ybfpux8&ckId=h2c8pxojavrmo1w785z7ueih2ybfpux8&sfrom=search_job_pc&curPage=0&pageSize=40&index=29',\n      'pcOuterLink': '',\n      'h5OuterLink': '',\n      'requireWorkYears': '3-5年',\n      'requireEduLevel': '本科',\n      'advViewFlag': False},\n     'recruiter': {'imId': 'ca79f28e0bb54528478730d086184fcb',\n      'imUserType': '2',\n      'recruiterName': '何女士',\n      'recruiterTitle': '运营店长',\n      'chatted': False,\n      'recruiterId': 'ea8ddfab56ce6f61ba5476702434b7e8',\n      'recruiterPhoto': '5f8f9863f6d1ab58476f246a08u.jpg'},\n     'comp': {'compId': 12523127,\n      'compLogo': '61724eb280dc64654d32084502u.png',\n      'compScale': '10000人以上',\n      'link': 'https://www.liepin.com/company/12523127/',\n      'compName': '斐乐服饰有限公司',\n      'compIndustry': '服装/纺织/皮革'},\n     'dataInfo': '%7B%22ckId%22%3A%22h2c8pxojavrmo1w785z7ueih2ybfpux8%22%2C%22scene%22%3A%22input%22%2C%22skId%22%3A%22h2c8pxojavrmo1w785z7ueih2ybfpux8%22%2C%22fkId%22%3A%22h2c8pxojavrmo1w785z7ueih2ybfpux8%22%2C%22pageSize%22%3A%2240%22%2C%22curPage%22%3A%220%22%2C%22sfrom%22%3A%22search_job_pc%22%2C%22jobId%22%3A%2263060193%22%2C%22jobKind%22%3A%222%22%2C%22d_curPage%22%3A%220%22%2C%22d_pageSize%22%3A%2240%22%2C%22as_from%22%3A%22search_prime%22%7D'},\n    {'dataParams': '{\"userId\":\"4a9c54569d88cffa0229ecc5b35adaf3\",\"imId\":\"40638f1c5e7070d867766a03c68ce883\",\"imUserType\":\"2\",\"jobId\":\"50424345\",\"recruiterName\":\"金女士\",\"jobKind\":\"1\",\"recruiterPhoto\":\"62b95e3c960afe7fdfce568c06u.png\"}',\n     'job': {'labels': ['市场营销', '广告策划', '广告媒介'],\n      'refreshTime': '20231108115018',\n      'dq': '深圳',\n      'jobId': '50424345',\n      'jobKind': '1',\n      'link': 'https://www.liepin.com/a/50424345.shtml',\n      'topJob': False,\n      'title': '市场营销总监',\n      'salary': '30-55k·14薪',\n      'dataPromId': 'd_sfrom=search_prime&d_ckId=null&d_curPage=0&d_pageSize=40&d_headId=null&d_posi=30&skId=h2c8pxojavrmo1w785z7ueih2ybfpux8&fkId=h2c8pxojavrmo1w785z7ueih2ybfpux8&ckId=h2c8pxojavrmo1w785z7ueih2ybfpux8&sfrom=search_job_pc&curPage=0&pageSize=40&index=30',\n      'requireWorkYears': '5-10年',\n      'requireEduLevel': '统招本科',\n      'advViewFlag': False},\n     'recruiter': {'imId': '40638f1c5e7070d867766a03c68ce883',\n      'imUserType': '2',\n      'recruiterName': '金女士',\n      'recruiterTitle': '猎头顾问',\n      'chatted': False,\n      'recruiterId': '4a9c54569d88cffa0229ecc5b35adaf3',\n      'recruiterPhoto': '62b95e3c960afe7fdfce568c06u.png'},\n     'comp': {'compLogo': '60e2fe0bf3df194a3c48adb502u.png',\n      'compScale': '',\n      'link': '',\n      'compName': '某知名公司',\n      'compIndustry': '咨询服务'},\n     'dataInfo': '%7B%22ckId%22%3A%22h2c8pxojavrmo1w785z7ueih2ybfpux8%22%2C%22scene%22%3A%22input%22%2C%22skId%22%3A%22h2c8pxojavrmo1w785z7ueih2ybfpux8%22%2C%22fkId%22%3A%22h2c8pxojavrmo1w785z7ueih2ybfpux8%22%2C%22pageSize%22%3A%2240%22%2C%22curPage%22%3A%220%22%2C%22sfrom%22%3A%22search_job_pc%22%2C%22jobId%22%3A%2250424345%22%2C%22jobKind%22%3A%221%22%2C%22d_curPage%22%3A%220%22%2C%22d_pageSize%22%3A%2240%22%2C%22as_from%22%3A%22search_prime%22%7D'},\n    {'dataParams': '{\"userId\":\"2194c6e595f80f05da85b6d382ddf410\",\"imId\":\"be77798a1cfdaaa255a0b6511a508218\",\"imUserType\":\"2\",\"jobId\":\"63308163\",\"recruiterName\":\"成女士\",\"jobKind\":\"2\",\"recruiterPhoto\":\"5f8f9866dfb13a7dee342f1808u.jpg\"}',\n     'job': {'labels': [],\n      'refreshTime': '20231130153327',\n      'dq': '深圳-龙岗区',\n      'jobId': '63308163',\n      'jobKind': '2',\n      'link': 'https://www.liepin.com/job/1963308163.shtml',\n      'topJob': False,\n      'title': 'Tiktok投放优化师',\n      'salary': '12-20k',\n      'dataPromId': 'd_sfrom=search_prime&d_ckId=null&d_curPage=0&d_pageSize=40&d_headId=null&d_posi=31&skId=h2c8pxojavrmo1w785z7ueih2ybfpux8&fkId=h2c8pxojavrmo1w785z7ueih2ybfpux8&ckId=h2c8pxojavrmo1w785z7ueih2ybfpux8&sfrom=search_job_pc&curPage=0&pageSize=40&index=31',\n      'pcOuterLink': '',\n      'h5OuterLink': '',\n      'requireWorkYears': '1-3年',\n      'requireEduLevel': '本科',\n      'advViewFlag': False},\n     'recruiter': {'imId': 'be77798a1cfdaaa255a0b6511a508218',\n      'imUserType': '2',\n      'recruiterName': '成女士',\n      'recruiterTitle': '人事行政主管',\n      'chatted': False,\n      'recruiterId': '2194c6e595f80f05da85b6d382ddf410',\n      'recruiterPhoto': '5f8f9866dfb13a7dee342f1808u.jpg'},\n     'comp': {'compId': 12723443,\n      'compLogo': '609a4e46abebcb39f8cdaeb405u.png',\n      'compScale': '100-499人',\n      'link': 'https://www.liepin.com/company/12723443/',\n      'compName': '珠海大拇指创新科技有限公司深圳分公司',\n      'compIndustry': '电子商务'},\n     'dataInfo': '%7B%22ckId%22%3A%22h2c8pxojavrmo1w785z7ueih2ybfpux8%22%2C%22scene%22%3A%22input%22%2C%22skId%22%3A%22h2c8pxojavrmo1w785z7ueih2ybfpux8%22%2C%22fkId%22%3A%22h2c8pxojavrmo1w785z7ueih2ybfpux8%22%2C%22pageSize%22%3A%2240%22%2C%22curPage%22%3A%220%22%2C%22sfrom%22%3A%22search_job_pc%22%2C%22jobId%22%3A%2263308163%22%2C%22jobKind%22%3A%222%22%2C%22d_curPage%22%3A%220%22%2C%22d_pageSize%22%3A%2240%22%2C%22as_from%22%3A%22search_prime%22%7D'},\n    {'dataParams': '{\"userId\":\"74f0310ec7b9f0fad2d460840fc7fe62\",\"imId\":\"7f1261a438c7a6e1a8576116ff288909\",\"imUserType\":\"2\",\"jobId\":\"51251379\",\"recruiterName\":\"孙女士\",\"jobKind\":\"1\",\"recruiterPhoto\":\"5dcbba34d38a3d7423cf54b504u.jpg\"}',\n     'job': {'labels': ['品牌推广',\n       '品牌公关',\n       '新媒体',\n       '自媒体',\n       'MCN',\n       '品牌活动',\n       '广告/传媒/文化',\n       '快消品'],\n      'refreshTime': '20231130112112',\n      'dq': '深圳-南山区',\n      'jobId': '51251379',\n      'jobKind': '1',\n      'link': 'https://www.liepin.com/a/51251379.shtml',\n      'topJob': False,\n      'title': '市场营销负责人',\n      'salary': '25-40k·15薪',\n      'dataPromId': 'd_sfrom=search_prime&d_ckId=null&d_curPage=0&d_pageSize=40&d_headId=null&d_posi=32&skId=h2c8pxojavrmo1w785z7ueih2ybfpux8&fkId=h2c8pxojavrmo1w785z7ueih2ybfpux8&ckId=h2c8pxojavrmo1w785z7ueih2ybfpux8&sfrom=search_job_pc&curPage=0&pageSize=40&index=32',\n      'requireWorkYears': '10年以上',\n      'requireEduLevel': '本科',\n      'advViewFlag': False},\n     'recruiter': {'imId': '7f1261a438c7a6e1a8576116ff288909',\n      'imUserType': '2',\n      'recruiterName': '孙女士',\n      'recruiterTitle': '猎头顾问',\n      'chatted': False,\n      'recruiterId': '74f0310ec7b9f0fad2d460840fc7fe62',\n      'recruiterPhoto': '5dcbba34d38a3d7423cf54b504u.jpg'},\n     'comp': {'compStage': '融资未公开',\n      'compLogo': '60e2fe0bf3df194a3c48adb502u.png',\n      'compScale': '500-999人',\n      'link': '',\n      'compName': '某女装集团公司',\n      'compIndustry': '服装纺织'},\n     'dataInfo': '%7B%22ckId%22%3A%22h2c8pxojavrmo1w785z7ueih2ybfpux8%22%2C%22scene%22%3A%22input%22%2C%22skId%22%3A%22h2c8pxojavrmo1w785z7ueih2ybfpux8%22%2C%22fkId%22%3A%22h2c8pxojavrmo1w785z7ueih2ybfpux8%22%2C%22pageSize%22%3A%2240%22%2C%22curPage%22%3A%220%22%2C%22sfrom%22%3A%22search_job_pc%22%2C%22jobId%22%3A%2251251379%22%2C%22jobKind%22%3A%221%22%2C%22d_curPage%22%3A%220%22%2C%22d_pageSize%22%3A%2240%22%2C%22as_from%22%3A%22search_prime%22%7D'},\n    {'dataParams': '{\"userId\":\"648bf771110bcde360f596c7c13a9dbe\",\"imId\":\"b4b816ba165ce3889b730e23f2bd8f83\",\"imUserType\":\"2\",\"jobId\":\"51249485\",\"recruiterName\":\"罗女士\",\"jobKind\":\"1\",\"recruiterPhoto\":\"5ef19950f3eec46a32354f5203u.png\"}',\n     'job': {'labels': ['批发/零售', '品牌管理', '战略管理'],\n      'refreshTime': '20231130105305',\n      'dq': '深圳',\n      'jobId': '51249485',\n      'jobKind': '1',\n      'link': 'https://www.liepin.com/a/51249485.shtml',\n      'topJob': False,\n      'title': 'CMO',\n      'salary': '80-110k·18薪',\n      'dataPromId': 'd_sfrom=search_prime&d_ckId=null&d_curPage=0&d_pageSize=40&d_headId=null&d_posi=33&skId=h2c8pxojavrmo1w785z7ueih2ybfpux8&fkId=h2c8pxojavrmo1w785z7ueih2ybfpux8&ckId=h2c8pxojavrmo1w785z7ueih2ybfpux8&sfrom=search_job_pc&curPage=0&pageSize=40&index=33',\n      'requireWorkYears': '10年以上',\n      'requireEduLevel': '本科',\n      'advViewFlag': False},\n     'recruiter': {'imId': 'b4b816ba165ce3889b730e23f2bd8f83',\n      'imUserType': '2',\n      'recruiterName': '罗女士',\n      'recruiterTitle': '猎头顾问',\n      'chatted': False,\n      'recruiterId': '648bf771110bcde360f596c7c13a9dbe',\n      'recruiterPhoto': '5ef19950f3eec46a32354f5203u.png'},\n     'comp': {'compStage': '已上市',\n      'compLogo': '60e2fe0bf3df194a3c48adb502u.png',\n      'compScale': '2000-5000人',\n      'link': '',\n      'compName': '某珠宝/首饰上市公司',\n      'compIndustry': '珠宝/首饰'},\n     'dataInfo': '%7B%22ckId%22%3A%22h2c8pxojavrmo1w785z7ueih2ybfpux8%22%2C%22scene%22%3A%22input%22%2C%22skId%22%3A%22h2c8pxojavrmo1w785z7ueih2ybfpux8%22%2C%22fkId%22%3A%22h2c8pxojavrmo1w785z7ueih2ybfpux8%22%2C%22pageSize%22%3A%2240%22%2C%22curPage%22%3A%220%22%2C%22sfrom%22%3A%22search_job_pc%22%2C%22jobId%22%3A%2251249485%22%2C%22jobKind%22%3A%221%22%2C%22d_curPage%22%3A%220%22%2C%22d_pageSize%22%3A%2240%22%2C%22as_from%22%3A%22search_prime%22%7D'},\n    {'dataParams': '{\"userId\":\"448bbbf4637c583f66e53193a867b43d\",\"imId\":\"091190ab3e9371b58f669bb17ec3d8eb\",\"imUserType\":\"2\",\"jobId\":\"56537133\",\"recruiterName\":\"宋先生\",\"jobKind\":\"2\",\"recruiterPhoto\":\"5f8f986bdfb13a7dee342f2108u.jpg\"}',\n     'job': {'labels': ['内容运营',\n       '新媒体运营',\n       '广告投放/流量运营',\n       '品牌运营',\n       '服装/纺织/皮革',\n       '时尚类',\n       '线上运营',\n       'to C',\n       '小红书平台',\n       '微信公众号'],\n      'refreshTime': '20231121154936',\n      'dq': '深圳',\n      'jobId': '56537133',\n      'jobKind': '2',\n      'link': 'https://www.liepin.com/job/1956537133.shtml',\n      'topJob': False,\n      'title': '新媒体运营',\n      'salary': '10-15k',\n      'dataPromId': 'd_sfrom=search_prime&d_ckId=null&d_curPage=0&d_pageSize=40&d_headId=null&d_posi=34&skId=h2c8pxojavrmo1w785z7ueih2ybfpux8&fkId=h2c8pxojavrmo1w785z7ueih2ybfpux8&ckId=h2c8pxojavrmo1w785z7ueih2ybfpux8&sfrom=search_job_pc&curPage=0&pageSize=40&index=34',\n      'pcOuterLink': '',\n      'h5OuterLink': '',\n      'requireWorkYears': '1-3年',\n      'requireEduLevel': '本科',\n      'advViewFlag': False},\n     'recruiter': {'imId': '091190ab3e9371b58f669bb17ec3d8eb',\n      'imUserType': '2',\n      'recruiterName': '宋先生',\n      'recruiterTitle': 'HRBP',\n      'chatted': False,\n      'recruiterId': '448bbbf4637c583f66e53193a867b43d',\n      'recruiterPhoto': '5f8f986bdfb13a7dee342f2108u.jpg'},\n     'comp': {'compId': 853854,\n      'compLogo': '5bfe9e7c74719d2aa34b958c03a.png',\n      'compScale': '5000-10000人',\n      'link': 'https://www.liepin.com/company/853854/',\n      'compName': '玛丝菲尔时装',\n      'compIndustry': '服装/纺织/皮革'},\n     'dataInfo': '%7B%22ckId%22%3A%22h2c8pxojavrmo1w785z7ueih2ybfpux8%22%2C%22scene%22%3A%22input%22%2C%22skId%22%3A%22h2c8pxojavrmo1w785z7ueih2ybfpux8%22%2C%22fkId%22%3A%22h2c8pxojavrmo1w785z7ueih2ybfpux8%22%2C%22pageSize%22%3A%2240%22%2C%22curPage%22%3A%220%22%2C%22sfrom%22%3A%22search_job_pc%22%2C%22jobId%22%3A%2256537133%22%2C%22jobKind%22%3A%222%22%2C%22d_curPage%22%3A%220%22%2C%22d_pageSize%22%3A%2240%22%2C%22as_from%22%3A%22search_prime%22%7D'},\n    {'dataParams': '{\"userId\":\"d6879a71d8a00bf5a72a917e2ef8d6fa\",\"imId\":\"2190c76eb5d37eec10eee5f74aeb3ab8\",\"imUserType\":\"2\",\"jobId\":\"60511395\",\"recruiterName\":\"刘女士\",\"jobKind\":\"2\",\"recruiterPhoto\":\"5f8f986779c7cc70efbf36c008u.jpg\"}',\n     'job': {'labels': ['营销策划', '市场策划', '广告策划', '企业策划', '短视频策划', '广告媒介'],\n      'refreshTime': '20231103145818',\n      'dq': '深圳-龙岗区',\n      'jobId': '60511395',\n      'jobKind': '2',\n      'link': 'https://www.liepin.com/job/1960511395.shtml',\n      'topJob': False,\n      'title': '市场推广经理',\n      'salary': '15-17k·16薪',\n      'dataPromId': 'd_sfrom=search_prime&d_ckId=null&d_curPage=0&d_pageSize=40&d_headId=null&d_posi=35&skId=h2c8pxojavrmo1w785z7ueih2ybfpux8&fkId=h2c8pxojavrmo1w785z7ueih2ybfpux8&ckId=h2c8pxojavrmo1w785z7ueih2ybfpux8&sfrom=search_job_pc&curPage=0&pageSize=40&index=35',\n      'pcOuterLink': '',\n      'h5OuterLink': '',\n      'requireWorkYears': '5-10年',\n      'requireEduLevel': '统招本科',\n      'advViewFlag': False},\n     'recruiter': {'imId': '2190c76eb5d37eec10eee5f74aeb3ab8',\n      'imUserType': '2',\n      'recruiterName': '刘女士',\n      'recruiterTitle': '人力行政经理',\n      'chatted': False,\n      'recruiterId': 'd6879a71d8a00bf5a72a917e2ef8d6fa',\n      'recruiterPhoto': '5f8f986779c7cc70efbf36c008u.jpg'},\n     'comp': {'compId': 9762333,\n      'compLogo': '5c9208e587fd7dc0d34c4ef706u.jpg',\n      'compScale': '10000人以上',\n      'link': 'https://www.liepin.com/company/9762333/',\n      'compName': '万达商管深圳公司',\n      'compIndustry': '房地产租赁/中介'},\n     'dataInfo': '%7B%22ckId%22%3A%22h2c8pxojavrmo1w785z7ueih2ybfpux8%22%2C%22scene%22%3A%22input%22%2C%22skId%22%3A%22h2c8pxojavrmo1w785z7ueih2ybfpux8%22%2C%22fkId%22%3A%22h2c8pxojavrmo1w785z7ueih2ybfpux8%22%2C%22pageSize%22%3A%2240%22%2C%22curPage%22%3A%220%22%2C%22sfrom%22%3A%22search_job_pc%22%2C%22jobId%22%3A%2260511395%22%2C%22jobKind%22%3A%222%22%2C%22d_curPage%22%3A%220%22%2C%22d_pageSize%22%3A%2240%22%2C%22as_from%22%3A%22search_prime%22%7D'},\n    {'dataParams': '{\"userId\":\"cade8ffb87aef149176b8ddf4e8d3b55\",\"imId\":\"f4862a46ee044a99ee7b65a82243fe9b\",\"imUserType\":\"2\",\"jobId\":\"50456287\",\"recruiterName\":\"张先生\",\"jobKind\":\"1\",\"recruiterPhoto\":\"60eced8e42717d1fb413d6ba03u.png\"}',\n     'job': {'labels': ['品牌推广',\n       '新媒体',\n       '品牌活动',\n       '自媒体',\n       'MCN',\n       '广告/传媒/文化',\n       '快消品'],\n      'refreshTime': '20231031095955',\n      'dq': '深圳',\n      'jobId': '50456287',\n      'jobKind': '1',\n      'link': 'https://www.liepin.com/a/50456287.shtml',\n      'topJob': False,\n      'title': '品牌经理',\n      'salary': '25-45k·14薪',\n      'dataPromId': 'd_sfrom=search_prime&d_ckId=null&d_curPage=0&d_pageSize=40&d_headId=null&d_posi=36&skId=h2c8pxojavrmo1w785z7ueih2ybfpux8&fkId=h2c8pxojavrmo1w785z7ueih2ybfpux8&ckId=h2c8pxojavrmo1w785z7ueih2ybfpux8&sfrom=search_job_pc&curPage=0&pageSize=40&index=36',\n      'requireWorkYears': '5-10年',\n      'requireEduLevel': '本科',\n      'advViewFlag': False},\n     'recruiter': {'imId': 'f4862a46ee044a99ee7b65a82243fe9b',\n      'imUserType': '2',\n      'recruiterName': '张先生',\n      'recruiterTitle': '猎头顾问',\n      'chatted': False,\n      'recruiterId': 'cade8ffb87aef149176b8ddf4e8d3b55',\n      'recruiterPhoto': '60eced8e42717d1fb413d6ba03u.png'},\n     'comp': {'compStage': '融资未公开',\n      'compLogo': '60e2fe0bf3df194a3c48adb502u.png',\n      'compScale': '500-999人',\n      'link': '',\n      'compName': '某深圳大型服装/纺织/皮革公司',\n      'compIndustry': '服装/纺织/皮革'},\n     'dataInfo': '%7B%22ckId%22%3A%22h2c8pxojavrmo1w785z7ueih2ybfpux8%22%2C%22scene%22%3A%22input%22%2C%22skId%22%3A%22h2c8pxojavrmo1w785z7ueih2ybfpux8%22%2C%22fkId%22%3A%22h2c8pxojavrmo1w785z7ueih2ybfpux8%22%2C%22pageSize%22%3A%2240%22%2C%22curPage%22%3A%220%22%2C%22sfrom%22%3A%22search_job_pc%22%2C%22jobId%22%3A%2250456287%22%2C%22jobKind%22%3A%221%22%2C%22d_curPage%22%3A%220%22%2C%22d_pageSize%22%3A%2240%22%2C%22as_from%22%3A%22search_prime%22%7D'},\n    {'dataParams': '{\"userId\":\"9cd6d7a5edc23197e370a96e61783313\",\"imId\":\"77426cea57aee05586da8f3a9139f92c\",\"imUserType\":\"2\",\"jobId\":\"50658013\",\"recruiterName\":\"谭女士\",\"jobKind\":\"1\",\"recruiterPhoto\":\"6550f068e2a06252844d378203u.jpg\"}',\n     'job': {'labels': ['品牌管理', '战略管理', '批发/零售'],\n      'refreshTime': '20231107154950',\n      'dq': '深圳',\n      'jobId': '50658013',\n      'jobKind': '1',\n      'link': 'https://www.liepin.com/a/50658013.shtml',\n      'topJob': False,\n      'title': 'CBO/CMO',\n      'salary': '80-85k·14薪',\n      'dataPromId': 'd_sfrom=search_prime&d_ckId=null&d_curPage=0&d_pageSize=40&d_headId=null&d_posi=37&skId=h2c8pxojavrmo1w785z7ueih2ybfpux8&fkId=h2c8pxojavrmo1w785z7ueih2ybfpux8&ckId=h2c8pxojavrmo1w785z7ueih2ybfpux8&sfrom=search_job_pc&curPage=0&pageSize=40&index=37',\n      'requireWorkYears': '10年以上',\n      'requireEduLevel': '统招本科',\n      'advViewFlag': False},\n     'recruiter': {'imId': '77426cea57aee05586da8f3a9139f92c',\n      'imUserType': '2',\n      'recruiterName': '谭女士',\n      'recruiterTitle': '猎头顾问',\n      'chatted': False,\n      'recruiterId': '9cd6d7a5edc23197e370a96e61783313',\n      'recruiterPhoto': '6550f068e2a06252844d378203u.jpg'},\n     'comp': {'compStage': '已上市',\n      'compLogo': '60e2fe0bf3df194a3c48adb502u.png',\n      'compScale': '2000-5000人',\n      'link': '',\n      'compName': '某深圳珠宝/首饰上市公司',\n      'compIndustry': '珠宝/首饰'},\n     'dataInfo': '%7B%22ckId%22%3A%22h2c8pxojavrmo1w785z7ueih2ybfpux8%22%2C%22scene%22%3A%22input%22%2C%22skId%22%3A%22h2c8pxojavrmo1w785z7ueih2ybfpux8%22%2C%22fkId%22%3A%22h2c8pxojavrmo1w785z7ueih2ybfpux8%22%2C%22pageSize%22%3A%2240%22%2C%22curPage%22%3A%220%22%2C%22sfrom%22%3A%22search_job_pc%22%2C%22jobId%22%3A%2250658013%22%2C%22jobKind%22%3A%221%22%2C%22d_curPage%22%3A%220%22%2C%22d_pageSize%22%3A%2240%22%2C%22as_from%22%3A%22search_prime%22%7D'},\n    {'dataParams': '{\"userId\":\"ae06b14f1481452657b0cb99973532c7\",\"imId\":\"6bbc7887d819c1af2982e990dc084411\",\"imUserType\":\"2\",\"jobId\":\"63134565\",\"recruiterName\":\"马女士\",\"jobKind\":\"2\",\"recruiterPhoto\":\"6507ea0eeac52a0fe94cbe5a07u.png\"}',\n     'job': {'labels': [],\n      'refreshTime': '20231123112805',\n      'dq': '深圳-光明区',\n      'jobId': '63134565',\n      'jobKind': '2',\n      'link': 'https://www.liepin.com/job/1963134565.shtml',\n      'topJob': False,\n      'title': '市场品牌推广经理--新能源/光伏/自动化',\n      'salary': '20-30k',\n      'dataPromId': 'd_sfrom=search_prime&d_ckId=null&d_curPage=0&d_pageSize=40&d_headId=null&d_posi=38&skId=h2c8pxojavrmo1w785z7ueih2ybfpux8&fkId=h2c8pxojavrmo1w785z7ueih2ybfpux8&ckId=h2c8pxojavrmo1w785z7ueih2ybfpux8&sfrom=search_job_pc&curPage=0&pageSize=40&index=38',\n      'pcOuterLink': '',\n      'h5OuterLink': '',\n      'requireWorkYears': '3-5年',\n      'requireEduLevel': '统招本科',\n      'advViewFlag': False},\n     'recruiter': {'imId': '6bbc7887d819c1af2982e990dc084411',\n      'imUserType': '2',\n      'recruiterName': '马女士',\n      'recruiterTitle': 'HR经理',\n      'chatted': False,\n      'recruiterId': 'ae06b14f1481452657b0cb99973532c7',\n      'recruiterPhoto': '6507ea0eeac52a0fe94cbe5a07u.png'},\n     'comp': {'compId': 8884183,\n      'compStage': '融资未公开',\n      'compLogo': '6041a67c47efeb69daf7d9de02u.png',\n      'compScale': '1000-2000人',\n      'link': 'https://www.liepin.com/company/8884183/',\n      'compName': '深圳市智佳能自动化有限公司',\n      'compIndustry': '机械/设备'},\n     'dataInfo': '%7B%22ckId%22%3A%22h2c8pxojavrmo1w785z7ueih2ybfpux8%22%2C%22scene%22%3A%22input%22%2C%22skId%22%3A%22h2c8pxojavrmo1w785z7ueih2ybfpux8%22%2C%22fkId%22%3A%22h2c8pxojavrmo1w785z7ueih2ybfpux8%22%2C%22pageSize%22%3A%2240%22%2C%22curPage%22%3A%220%22%2C%22sfrom%22%3A%22search_job_pc%22%2C%22jobId%22%3A%2263134565%22%2C%22jobKind%22%3A%222%22%2C%22d_curPage%22%3A%220%22%2C%22d_pageSize%22%3A%2240%22%2C%22as_from%22%3A%22search_prime%22%7D'},\n    {'dataParams': '{\"userId\":\"f866635367a906f05933b1a0f16b484a\",\"imId\":\"3cd7f2f041390cc14d437e75b9ab7ce8\",\"imUserType\":\"2\",\"jobId\":\"51103809\",\"recruiterName\":\"郭女士\",\"jobKind\":\"1\",\"recruiterPhoto\":\"6555bb419ad153517243458c04u.jpeg\"}',\n     'job': {'labels': ['品牌管理', '战略管理', '批发/零售'],\n      'refreshTime': '20231124094452',\n      'dq': '深圳',\n      'jobId': '51103809',\n      'jobKind': '1',\n      'link': 'https://www.liepin.com/a/51103809.shtml',\n      'topJob': False,\n      'title': 'CMO',\n      'salary': '160-240k',\n      'dataPromId': 'd_sfrom=search_prime&d_ckId=null&d_curPage=0&d_pageSize=40&d_headId=null&d_posi=39&skId=h2c8pxojavrmo1w785z7ueih2ybfpux8&fkId=h2c8pxojavrmo1w785z7ueih2ybfpux8&ckId=h2c8pxojavrmo1w785z7ueih2ybfpux8&sfrom=search_job_pc&curPage=0&pageSize=40&index=39',\n      'requireWorkYears': '10年以上',\n      'requireEduLevel': '本科',\n      'advViewFlag': False},\n     'recruiter': {'imId': '3cd7f2f041390cc14d437e75b9ab7ce8',\n      'imUserType': '2',\n      'recruiterName': '郭女士',\n      'recruiterTitle': '猎头顾问',\n      'chatted': False,\n      'recruiterId': 'f866635367a906f05933b1a0f16b484a',\n      'recruiterPhoto': '6555bb419ad153517243458c04u.jpeg'},\n     'comp': {'compStage': '已上市',\n      'compLogo': '60e2fe0bf3df194a3c48adb502u.png',\n      'compScale': '2000-5000人',\n      'link': '',\n      'compName': '某深圳珠宝/首饰上市公司',\n      'compIndustry': '珠宝/首饰'},\n     'dataInfo': '%7B%22ckId%22%3A%22h2c8pxojavrmo1w785z7ueih2ybfpux8%22%2C%22scene%22%3A%22input%22%2C%22skId%22%3A%22h2c8pxojavrmo1w785z7ueih2ybfpux8%22%2C%22fkId%22%3A%22h2c8pxojavrmo1w785z7ueih2ybfpux8%22%2C%22pageSize%22%3A%2240%22%2C%22curPage%22%3A%220%22%2C%22sfrom%22%3A%22search_job_pc%22%2C%22jobId%22%3A%2251103809%22%2C%22jobKind%22%3A%221%22%2C%22d_curPage%22%3A%220%22%2C%22d_pageSize%22%3A%2240%22%2C%22as_from%22%3A%22search_prime%22%7D'}],\n   'compList': []},\n  'passThroughData': {'ckId': 'h2c8pxojavrmo1w785z7ueih2ybfpux8',\n   'scene': 'input',\n   'skId': 'h2c8pxojavrmo1w785z7ueih2ybfpux8',\n   'fkId': 'h2c8pxojavrmo1w785z7ueih2ybfpux8',\n   'sfrom': 'search_job_pc'},\n  'pagination': {'currentPage': 0,\n   'totalPage': 7,\n   'pageSize': 40,\n   'totalCounts': 259,\n   'hasNext': False}}}"
     },
     "execution_count": 28,
     "metadata": {},
     "output_type": "execute_result"
    }
   ],
   "source": [
    "import time\n",
    "import random\n",
    "wait_time = random.randint(3,10)\n",
    "\n",
    "payload = payloadd(str(城市),str(关键词),str(学历))\n",
    "# create an HTML session using Requests-HTML\n",
    "session = HTMLSession()\n",
    "r = session.post(url, data=json.dumps(payload), headers=headers())\n",
    "\n",
    "# extract the JSON data from the response\n",
    "response_data = r.json()\n",
    "\n",
    "# example: print the number of job postings returned\n",
    "response_data"
   ],
   "metadata": {
    "collapsed": false
   }
  },
  {
   "cell_type": "code",
   "execution_count": 29,
   "outputs": [
    {
     "data": {
      "text/plain": "7"
     },
     "execution_count": 29,
     "metadata": {},
     "output_type": "execute_result"
    }
   ],
   "source": [
    "page = response_data['data']['pagination']['totalPage']\n",
    "page"
   ],
   "metadata": {
    "collapsed": false
   }
  },
  {
   "cell_type": "markdown",
   "source": [
    "# 10.翻页获取内容，并组合转为通俗易懂的图表"
   ],
   "metadata": {
    "collapsed": false
   }
  },
  {
   "cell_type": "code",
   "execution_count": 30,
   "outputs": [],
   "source": [
    "import pandas as pd\n",
    "import requests\n",
    "response_df = []\n",
    "for i in range(3): # 需要判断页面的数据有多少页\n",
    "    payload['data']['mainSearchPcConditionForm']['currentPage']=i\n",
    "    df = pd.json_normalize(response_data['data']['data']['jobCardList'])\n",
    "    response_df.append(df)\n",
    "    time.sleep(wait_time)"
   ],
   "metadata": {
    "collapsed": false
   }
  },
  {
   "cell_type": "code",
   "execution_count": 31,
   "outputs": [
    {
     "data": {
      "text/plain": "                                           dataParams  \\\n0   {\"userId\":\"181b5eaac20859c201c724cba006438e\",\"...   \n1   {\"userId\":\"a7113020c23e14d83ae654ff5fc70253\",\"...   \n2   {\"userId\":\"7c140a5bd2dbdb83a1a4eb0b60e7929a\",\"...   \n3   {\"userId\":\"3babec4b306b3ff6e013cb1f65fc9ace\",\"...   \n4   {\"userId\":\"268ad976d8fa5902377adac1ca921a5f\",\"...   \n..                                                ...   \n35  {\"userId\":\"d6879a71d8a00bf5a72a917e2ef8d6fa\",\"...   \n36  {\"userId\":\"cade8ffb87aef149176b8ddf4e8d3b55\",\"...   \n37  {\"userId\":\"9cd6d7a5edc23197e370a96e61783313\",\"...   \n38  {\"userId\":\"ae06b14f1481452657b0cb99973532c7\",\"...   \n39  {\"userId\":\"f866635367a906f05933b1a0f16b484a\",\"...   \n\n                                             dataInfo  \\\n0   %7B%22ckId%22%3A%22h2c8pxojavrmo1w785z7ueih2yb...   \n1   %7B%22ckId%22%3A%22h2c8pxojavrmo1w785z7ueih2yb...   \n2   %7B%22ckId%22%3A%22h2c8pxojavrmo1w785z7ueih2yb...   \n3   %7B%22ckId%22%3A%22h2c8pxojavrmo1w785z7ueih2yb...   \n4   %7B%22ckId%22%3A%22h2c8pxojavrmo1w785z7ueih2yb...   \n..                                                ...   \n35  %7B%22ckId%22%3A%22h2c8pxojavrmo1w785z7ueih2yb...   \n36  %7B%22ckId%22%3A%22h2c8pxojavrmo1w785z7ueih2yb...   \n37  %7B%22ckId%22%3A%22h2c8pxojavrmo1w785z7ueih2yb...   \n38  %7B%22ckId%22%3A%22h2c8pxojavrmo1w785z7ueih2yb...   \n39  %7B%22ckId%22%3A%22h2c8pxojavrmo1w785z7ueih2yb...   \n\n                                           job.labels job.refreshTime  job.dq  \\\n0                                         [广告策划, 新媒体]  20230916093155      深圳   \n1                  [广告策划, 营销策划, 新媒体, 新媒体策划, 广告/传媒/文化]  20230919093804      深圳   \n2                                  [电商策划, 媒介策划, 数据分析]  20231201094205      深圳   \n3   [文案策划, 广告策划, 户外媒介, 传统媒介, 广告媒介, 品牌活动, 营销活动, 4A公...  20231124142922  深圳-福田区   \n4                                                  []  20230915172955      深圳   \n..                                                ...             ...     ...   \n35              [营销策划, 市场策划, 广告策划, 企业策划, 短视频策划, 广告媒介]  20231103145818  深圳-龙岗区   \n36         [品牌推广, 新媒体, 品牌活动, 自媒体, MCN, 广告/传媒/文化, 快消品]  20231031095955      深圳   \n37                                [品牌管理, 战略管理, 批发/零售]  20231107154950      深圳   \n38                                                 []  20231123112805  深圳-光明区   \n39                                [品牌管理, 战略管理, 批发/零售]  20231124094452      深圳   \n\n   job.jobId job.jobKind                                     job.link  \\\n0   49462105           1      https://www.liepin.com/a/49462105.shtml   \n1   49511733           1      https://www.liepin.com/a/49511733.shtml   \n2   49859333           2  https://www.liepin.com/job/1949859333.shtml   \n3   49693291           1      https://www.liepin.com/a/49693291.shtml   \n4   49458217           1      https://www.liepin.com/a/49458217.shtml   \n..       ...         ...                                          ...   \n35  60511395           2  https://www.liepin.com/job/1960511395.shtml   \n36  50456287           1      https://www.liepin.com/a/50456287.shtml   \n37  50658013           1      https://www.liepin.com/a/50658013.shtml   \n38  63134565           2  https://www.liepin.com/job/1963134565.shtml   \n39  51103809           1      https://www.liepin.com/a/51103809.shtml   \n\n    job.topJob             job.title  ...          recruiter.recruiterPhoto  \\\n0        False                  广告策划  ...   5f8fa3a8ea60860b75385c7208u.png   \n1        False                  广告策划  ...   5f8fa3baf6d1ab58476f324908u.png   \n2        False          广告策划经理（电商方向）  ...   62283fb181a14b00fe4728ed06u.png   \n3        False                  广告策划  ...   63ff44d3f6f3654cff904bb906u.png   \n4        False                  广告策划  ...   5f8fa3a78dbe6273dcf85e2608u.png   \n..         ...                   ...  ...                               ...   \n35       False                市场推广经理  ...   5f8f986779c7cc70efbf36c008u.jpg   \n36       False                  品牌经理  ...   60eced8e42717d1fb413d6ba03u.png   \n37       False               CBO/CMO  ...   6550f068e2a06252844d378203u.jpg   \n38       False  市场品牌推广经理--新能源/光伏/自动化  ...   6507ea0eeac52a0fe94cbe5a07u.png   \n39       False                   CMO  ...  6555bb419ad153517243458c04u.jpeg   \n\n   comp.compStage                    comp.compLogo comp.compScale  \\\n0           融资未公开  60e2fe0bf3df194a3c48adb502u.png       100-499人   \n1             NaN  60e2fe0bf3df194a3c48adb502u.png         50-99人   \n2             已上市  5bfe98bd74719df0ac997eb403a.png       100-499人   \n3             NaN  60e2fe0bf3df194a3c48adb502u.png          1-49人   \n4             已上市  60e2fe0bf3df194a3c48adb502u.png       10000人以上   \n..            ...                              ...            ...   \n35            NaN  5c9208e587fd7dc0d34c4ef706u.jpg       10000人以上   \n36          融资未公开  60e2fe0bf3df194a3c48adb502u.png       500-999人   \n37            已上市  60e2fe0bf3df194a3c48adb502u.png     2000-5000人   \n38          融资未公开  6041a67c47efeb69daf7d9de02u.png     1000-2000人   \n39            已上市  60e2fe0bf3df194a3c48adb502u.png     2000-5000人   \n\n                                  comp.link        comp.compName  \\\n0                                                   某深圳云计算/大数据公司   \n1                                                      某深圳咨询服务公司   \n2   https://www.liepin.com/company/8655207/  华扬联众数字技术股份有限公司深圳分公司   \n3                                                      某深圳电子商务公司   \n4                                                        某深圳知名公司   \n..                                      ...                  ...   \n35  https://www.liepin.com/company/9762333/             万达商管深圳公司   \n36                                               某深圳大型服装/纺织/皮革公司   \n37                                                  某深圳珠宝/首饰上市公司   \n38  https://www.liepin.com/company/8884183/        深圳市智佳能自动化有限公司   \n39                                                  某深圳珠宝/首饰上市公司   \n\n   comp.compIndustry job.pcOuterLink job.h5OuterLink  comp.compId  \n0            云计算/大数据             NaN             NaN          NaN  \n1               咨询服务             NaN             NaN          NaN  \n2           广告/公关/会展                                    8655207.0  \n3               电子商务             NaN             NaN          NaN  \n4              批发/零售             NaN             NaN          NaN  \n..               ...             ...             ...          ...  \n35          房地产租赁/中介                                    9762333.0  \n36          服装/纺织/皮革             NaN             NaN          NaN  \n37             珠宝/首饰             NaN             NaN          NaN  \n38             机械/设备                                    8884183.0  \n39             珠宝/首饰             NaN             NaN          NaN  \n\n[120 rows x 31 columns]",
      "text/html": "<div>\n<style scoped>\n    .dataframe tbody tr th:only-of-type {\n        vertical-align: middle;\n    }\n\n    .dataframe tbody tr th {\n        vertical-align: top;\n    }\n\n    .dataframe thead th {\n        text-align: right;\n    }\n</style>\n<table border=\"1\" class=\"dataframe\">\n  <thead>\n    <tr style=\"text-align: right;\">\n      <th></th>\n      <th>dataParams</th>\n      <th>dataInfo</th>\n      <th>job.labels</th>\n      <th>job.refreshTime</th>\n      <th>job.dq</th>\n      <th>job.jobId</th>\n      <th>job.jobKind</th>\n      <th>job.link</th>\n      <th>job.topJob</th>\n      <th>job.title</th>\n      <th>...</th>\n      <th>recruiter.recruiterPhoto</th>\n      <th>comp.compStage</th>\n      <th>comp.compLogo</th>\n      <th>comp.compScale</th>\n      <th>comp.link</th>\n      <th>comp.compName</th>\n      <th>comp.compIndustry</th>\n      <th>job.pcOuterLink</th>\n      <th>job.h5OuterLink</th>\n      <th>comp.compId</th>\n    </tr>\n  </thead>\n  <tbody>\n    <tr>\n      <th>0</th>\n      <td>{\"userId\":\"181b5eaac20859c201c724cba006438e\",\"...</td>\n      <td>%7B%22ckId%22%3A%22h2c8pxojavrmo1w785z7ueih2yb...</td>\n      <td>[广告策划, 新媒体]</td>\n      <td>20230916093155</td>\n      <td>深圳</td>\n      <td>49462105</td>\n      <td>1</td>\n      <td>https://www.liepin.com/a/49462105.shtml</td>\n      <td>False</td>\n      <td>广告策划</td>\n      <td>...</td>\n      <td>5f8fa3a8ea60860b75385c7208u.png</td>\n      <td>融资未公开</td>\n      <td>60e2fe0bf3df194a3c48adb502u.png</td>\n      <td>100-499人</td>\n      <td></td>\n      <td>某深圳云计算/大数据公司</td>\n      <td>云计算/大数据</td>\n      <td>NaN</td>\n      <td>NaN</td>\n      <td>NaN</td>\n    </tr>\n    <tr>\n      <th>1</th>\n      <td>{\"userId\":\"a7113020c23e14d83ae654ff5fc70253\",\"...</td>\n      <td>%7B%22ckId%22%3A%22h2c8pxojavrmo1w785z7ueih2yb...</td>\n      <td>[广告策划, 营销策划, 新媒体, 新媒体策划, 广告/传媒/文化]</td>\n      <td>20230919093804</td>\n      <td>深圳</td>\n      <td>49511733</td>\n      <td>1</td>\n      <td>https://www.liepin.com/a/49511733.shtml</td>\n      <td>False</td>\n      <td>广告策划</td>\n      <td>...</td>\n      <td>5f8fa3baf6d1ab58476f324908u.png</td>\n      <td>NaN</td>\n      <td>60e2fe0bf3df194a3c48adb502u.png</td>\n      <td>50-99人</td>\n      <td></td>\n      <td>某深圳咨询服务公司</td>\n      <td>咨询服务</td>\n      <td>NaN</td>\n      <td>NaN</td>\n      <td>NaN</td>\n    </tr>\n    <tr>\n      <th>2</th>\n      <td>{\"userId\":\"7c140a5bd2dbdb83a1a4eb0b60e7929a\",\"...</td>\n      <td>%7B%22ckId%22%3A%22h2c8pxojavrmo1w785z7ueih2yb...</td>\n      <td>[电商策划, 媒介策划, 数据分析]</td>\n      <td>20231201094205</td>\n      <td>深圳</td>\n      <td>49859333</td>\n      <td>2</td>\n      <td>https://www.liepin.com/job/1949859333.shtml</td>\n      <td>False</td>\n      <td>广告策划经理（电商方向）</td>\n      <td>...</td>\n      <td>62283fb181a14b00fe4728ed06u.png</td>\n      <td>已上市</td>\n      <td>5bfe98bd74719df0ac997eb403a.png</td>\n      <td>100-499人</td>\n      <td>https://www.liepin.com/company/8655207/</td>\n      <td>华扬联众数字技术股份有限公司深圳分公司</td>\n      <td>广告/公关/会展</td>\n      <td></td>\n      <td></td>\n      <td>8655207.0</td>\n    </tr>\n    <tr>\n      <th>3</th>\n      <td>{\"userId\":\"3babec4b306b3ff6e013cb1f65fc9ace\",\"...</td>\n      <td>%7B%22ckId%22%3A%22h2c8pxojavrmo1w785z7ueih2yb...</td>\n      <td>[文案策划, 广告策划, 户外媒介, 传统媒介, 广告媒介, 品牌活动, 营销活动, 4A公...</td>\n      <td>20231124142922</td>\n      <td>深圳-福田区</td>\n      <td>49693291</td>\n      <td>1</td>\n      <td>https://www.liepin.com/a/49693291.shtml</td>\n      <td>False</td>\n      <td>广告策划</td>\n      <td>...</td>\n      <td>63ff44d3f6f3654cff904bb906u.png</td>\n      <td>NaN</td>\n      <td>60e2fe0bf3df194a3c48adb502u.png</td>\n      <td>1-49人</td>\n      <td></td>\n      <td>某深圳电子商务公司</td>\n      <td>电子商务</td>\n      <td>NaN</td>\n      <td>NaN</td>\n      <td>NaN</td>\n    </tr>\n    <tr>\n      <th>4</th>\n      <td>{\"userId\":\"268ad976d8fa5902377adac1ca921a5f\",\"...</td>\n      <td>%7B%22ckId%22%3A%22h2c8pxojavrmo1w785z7ueih2yb...</td>\n      <td>[]</td>\n      <td>20230915172955</td>\n      <td>深圳</td>\n      <td>49458217</td>\n      <td>1</td>\n      <td>https://www.liepin.com/a/49458217.shtml</td>\n      <td>False</td>\n      <td>广告策划</td>\n      <td>...</td>\n      <td>5f8fa3a78dbe6273dcf85e2608u.png</td>\n      <td>已上市</td>\n      <td>60e2fe0bf3df194a3c48adb502u.png</td>\n      <td>10000人以上</td>\n      <td></td>\n      <td>某深圳知名公司</td>\n      <td>批发/零售</td>\n      <td>NaN</td>\n      <td>NaN</td>\n      <td>NaN</td>\n    </tr>\n    <tr>\n      <th>...</th>\n      <td>...</td>\n      <td>...</td>\n      <td>...</td>\n      <td>...</td>\n      <td>...</td>\n      <td>...</td>\n      <td>...</td>\n      <td>...</td>\n      <td>...</td>\n      <td>...</td>\n      <td>...</td>\n      <td>...</td>\n      <td>...</td>\n      <td>...</td>\n      <td>...</td>\n      <td>...</td>\n      <td>...</td>\n      <td>...</td>\n      <td>...</td>\n      <td>...</td>\n      <td>...</td>\n    </tr>\n    <tr>\n      <th>35</th>\n      <td>{\"userId\":\"d6879a71d8a00bf5a72a917e2ef8d6fa\",\"...</td>\n      <td>%7B%22ckId%22%3A%22h2c8pxojavrmo1w785z7ueih2yb...</td>\n      <td>[营销策划, 市场策划, 广告策划, 企业策划, 短视频策划, 广告媒介]</td>\n      <td>20231103145818</td>\n      <td>深圳-龙岗区</td>\n      <td>60511395</td>\n      <td>2</td>\n      <td>https://www.liepin.com/job/1960511395.shtml</td>\n      <td>False</td>\n      <td>市场推广经理</td>\n      <td>...</td>\n      <td>5f8f986779c7cc70efbf36c008u.jpg</td>\n      <td>NaN</td>\n      <td>5c9208e587fd7dc0d34c4ef706u.jpg</td>\n      <td>10000人以上</td>\n      <td>https://www.liepin.com/company/9762333/</td>\n      <td>万达商管深圳公司</td>\n      <td>房地产租赁/中介</td>\n      <td></td>\n      <td></td>\n      <td>9762333.0</td>\n    </tr>\n    <tr>\n      <th>36</th>\n      <td>{\"userId\":\"cade8ffb87aef149176b8ddf4e8d3b55\",\"...</td>\n      <td>%7B%22ckId%22%3A%22h2c8pxojavrmo1w785z7ueih2yb...</td>\n      <td>[品牌推广, 新媒体, 品牌活动, 自媒体, MCN, 广告/传媒/文化, 快消品]</td>\n      <td>20231031095955</td>\n      <td>深圳</td>\n      <td>50456287</td>\n      <td>1</td>\n      <td>https://www.liepin.com/a/50456287.shtml</td>\n      <td>False</td>\n      <td>品牌经理</td>\n      <td>...</td>\n      <td>60eced8e42717d1fb413d6ba03u.png</td>\n      <td>融资未公开</td>\n      <td>60e2fe0bf3df194a3c48adb502u.png</td>\n      <td>500-999人</td>\n      <td></td>\n      <td>某深圳大型服装/纺织/皮革公司</td>\n      <td>服装/纺织/皮革</td>\n      <td>NaN</td>\n      <td>NaN</td>\n      <td>NaN</td>\n    </tr>\n    <tr>\n      <th>37</th>\n      <td>{\"userId\":\"9cd6d7a5edc23197e370a96e61783313\",\"...</td>\n      <td>%7B%22ckId%22%3A%22h2c8pxojavrmo1w785z7ueih2yb...</td>\n      <td>[品牌管理, 战略管理, 批发/零售]</td>\n      <td>20231107154950</td>\n      <td>深圳</td>\n      <td>50658013</td>\n      <td>1</td>\n      <td>https://www.liepin.com/a/50658013.shtml</td>\n      <td>False</td>\n      <td>CBO/CMO</td>\n      <td>...</td>\n      <td>6550f068e2a06252844d378203u.jpg</td>\n      <td>已上市</td>\n      <td>60e2fe0bf3df194a3c48adb502u.png</td>\n      <td>2000-5000人</td>\n      <td></td>\n      <td>某深圳珠宝/首饰上市公司</td>\n      <td>珠宝/首饰</td>\n      <td>NaN</td>\n      <td>NaN</td>\n      <td>NaN</td>\n    </tr>\n    <tr>\n      <th>38</th>\n      <td>{\"userId\":\"ae06b14f1481452657b0cb99973532c7\",\"...</td>\n      <td>%7B%22ckId%22%3A%22h2c8pxojavrmo1w785z7ueih2yb...</td>\n      <td>[]</td>\n      <td>20231123112805</td>\n      <td>深圳-光明区</td>\n      <td>63134565</td>\n      <td>2</td>\n      <td>https://www.liepin.com/job/1963134565.shtml</td>\n      <td>False</td>\n      <td>市场品牌推广经理--新能源/光伏/自动化</td>\n      <td>...</td>\n      <td>6507ea0eeac52a0fe94cbe5a07u.png</td>\n      <td>融资未公开</td>\n      <td>6041a67c47efeb69daf7d9de02u.png</td>\n      <td>1000-2000人</td>\n      <td>https://www.liepin.com/company/8884183/</td>\n      <td>深圳市智佳能自动化有限公司</td>\n      <td>机械/设备</td>\n      <td></td>\n      <td></td>\n      <td>8884183.0</td>\n    </tr>\n    <tr>\n      <th>39</th>\n      <td>{\"userId\":\"f866635367a906f05933b1a0f16b484a\",\"...</td>\n      <td>%7B%22ckId%22%3A%22h2c8pxojavrmo1w785z7ueih2yb...</td>\n      <td>[品牌管理, 战略管理, 批发/零售]</td>\n      <td>20231124094452</td>\n      <td>深圳</td>\n      <td>51103809</td>\n      <td>1</td>\n      <td>https://www.liepin.com/a/51103809.shtml</td>\n      <td>False</td>\n      <td>CMO</td>\n      <td>...</td>\n      <td>6555bb419ad153517243458c04u.jpeg</td>\n      <td>已上市</td>\n      <td>60e2fe0bf3df194a3c48adb502u.png</td>\n      <td>2000-5000人</td>\n      <td></td>\n      <td>某深圳珠宝/首饰上市公司</td>\n      <td>珠宝/首饰</td>\n      <td>NaN</td>\n      <td>NaN</td>\n      <td>NaN</td>\n    </tr>\n  </tbody>\n</table>\n<p>120 rows × 31 columns</p>\n</div>"
     },
     "execution_count": 31,
     "metadata": {},
     "output_type": "execute_result"
    }
   ],
   "source": [
    "df = pd.concat(response_df)\n",
    "df"
   ],
   "metadata": {
    "collapsed": false
   }
  },
  {
   "cell_type": "markdown",
   "source": [
    "# 11.将输入的数据赋值，来为输出图表命名"
   ],
   "metadata": {
    "collapsed": false
   }
  },
  {
   "cell_type": "code",
   "execution_count": 32,
   "outputs": [
    {
     "data": {
      "text/plain": "'广告策划'"
     },
     "execution_count": 32,
     "metadata": {},
     "output_type": "execute_result"
    }
   ],
   "source": [
    "key = payload['data']['mainSearchPcConditionForm']['key']\n",
    "key"
   ],
   "metadata": {
    "collapsed": false
   }
  },
  {
   "cell_type": "code",
   "execution_count": 33,
   "outputs": [
    {
     "data": {
      "text/plain": "'深圳'"
     },
     "execution_count": 33,
     "metadata": {},
     "output_type": "execute_result"
    }
   ],
   "source": [
    "cities = str(城市)\n",
    "cities"
   ],
   "metadata": {
    "collapsed": false
   }
  },
  {
   "cell_type": "markdown",
   "source": [
    "# 12.加入时间戳"
   ],
   "metadata": {
    "collapsed": false
   }
  },
  {
   "cell_type": "code",
   "execution_count": 34,
   "outputs": [
    {
     "data": {
      "text/plain": "'2023-12-1_19-27'"
     },
     "execution_count": 34,
     "metadata": {},
     "output_type": "execute_result"
    }
   ],
   "source": [
    "import time\n",
    "time.localtime()\n",
    "output_time = str(time.localtime().tm_year)+'-'\\\n",
    "              +str(time.localtime().tm_mon)+'-'\\\n",
    "             +str(time.localtime().tm_mday)+'_'\\\n",
    "             +str(time.localtime().tm_hour)+'-' \\\n",
    "             +str(time.localtime().tm_min)\n",
    "output_time\n"
   ],
   "metadata": {
    "collapsed": false
   }
  },
  {
   "cell_type": "markdown",
   "source": [
    "# 13.输出为excel"
   ],
   "metadata": {
    "collapsed": false
   }
  },
  {
   "cell_type": "code",
   "execution_count": 35,
   "outputs": [],
   "source": [
    "df.to_excel( '猎聘'+cities+'-'+key+output_time+'.xlsx')"
   ],
   "metadata": {
    "collapsed": false
   }
  },
  {
   "cell_type": "markdown",
   "source": [
    "# 14.读取excel"
   ],
   "metadata": {
    "collapsed": false
   }
  },
  {
   "cell_type": "code",
   "execution_count": 36,
   "outputs": [],
   "source": [
    "import pandas as pd"
   ],
   "metadata": {
    "collapsed": false
   }
  },
  {
   "cell_type": "code",
   "execution_count": 37,
   "outputs": [
    {
     "data": {
      "text/plain": "     Unnamed: 0                                         dataParams  \\\n0             0  {\"userId\":\"181b5eaac20859c201c724cba006438e\",\"...   \n1             1  {\"userId\":\"a7113020c23e14d83ae654ff5fc70253\",\"...   \n2             2  {\"userId\":\"7c140a5bd2dbdb83a1a4eb0b60e7929a\",\"...   \n3             3  {\"userId\":\"3babec4b306b3ff6e013cb1f65fc9ace\",\"...   \n4             4  {\"userId\":\"268ad976d8fa5902377adac1ca921a5f\",\"...   \n..          ...                                                ...   \n115          35  {\"userId\":\"d6879a71d8a00bf5a72a917e2ef8d6fa\",\"...   \n116          36  {\"userId\":\"cade8ffb87aef149176b8ddf4e8d3b55\",\"...   \n117          37  {\"userId\":\"9cd6d7a5edc23197e370a96e61783313\",\"...   \n118          38  {\"userId\":\"ae06b14f1481452657b0cb99973532c7\",\"...   \n119          39  {\"userId\":\"f866635367a906f05933b1a0f16b484a\",\"...   \n\n                                              dataInfo  \\\n0    %7B%22ckId%22%3A%22h2c8pxojavrmo1w785z7ueih2yb...   \n1    %7B%22ckId%22%3A%22h2c8pxojavrmo1w785z7ueih2yb...   \n2    %7B%22ckId%22%3A%22h2c8pxojavrmo1w785z7ueih2yb...   \n3    %7B%22ckId%22%3A%22h2c8pxojavrmo1w785z7ueih2yb...   \n4    %7B%22ckId%22%3A%22h2c8pxojavrmo1w785z7ueih2yb...   \n..                                                 ...   \n115  %7B%22ckId%22%3A%22h2c8pxojavrmo1w785z7ueih2yb...   \n116  %7B%22ckId%22%3A%22h2c8pxojavrmo1w785z7ueih2yb...   \n117  %7B%22ckId%22%3A%22h2c8pxojavrmo1w785z7ueih2yb...   \n118  %7B%22ckId%22%3A%22h2c8pxojavrmo1w785z7ueih2yb...   \n119  %7B%22ckId%22%3A%22h2c8pxojavrmo1w785z7ueih2yb...   \n\n                                            job.labels  job.refreshTime  \\\n0                                      ['广告策划', '新媒体']   20230916093155   \n1         ['广告策划', '营销策划', '新媒体', '新媒体策划', '广告/传媒/文化']   20230919093804   \n2                             ['电商策划', '媒介策划', '数据分析']   20231201094205   \n3    ['文案策划', '广告策划', '户外媒介', '传统媒介', '广告媒介', '品牌活动...   20231124142922   \n4                                                   []   20230915172955   \n..                                                 ...              ...   \n115  ['营销策划', '市场策划', '广告策划', '企业策划', '短视频策划', '广告媒介']   20231103145818   \n116  ['品牌推广', '新媒体', '品牌活动', '自媒体', 'MCN', '广告/传媒/文...   20231031095955   \n117                          ['品牌管理', '战略管理', '批发/零售']   20231107154950   \n118                                                 []   20231123112805   \n119                          ['品牌管理', '战略管理', '批发/零售']   20231124094452   \n\n     job.dq  job.jobId  job.jobKind  \\\n0        深圳   49462105            1   \n1        深圳   49511733            1   \n2        深圳   49859333            2   \n3    深圳-福田区   49693291            1   \n4        深圳   49458217            1   \n..      ...        ...          ...   \n115  深圳-龙岗区   60511395            2   \n116      深圳   50456287            1   \n117      深圳   50658013            1   \n118  深圳-光明区   63134565            2   \n119      深圳   51103809            1   \n\n                                        job.link  job.topJob  ...  \\\n0        https://www.liepin.com/a/49462105.shtml       False  ...   \n1        https://www.liepin.com/a/49511733.shtml       False  ...   \n2    https://www.liepin.com/job/1949859333.shtml       False  ...   \n3        https://www.liepin.com/a/49693291.shtml       False  ...   \n4        https://www.liepin.com/a/49458217.shtml       False  ...   \n..                                           ...         ...  ...   \n115  https://www.liepin.com/job/1960511395.shtml       False  ...   \n116      https://www.liepin.com/a/50456287.shtml       False  ...   \n117      https://www.liepin.com/a/50658013.shtml       False  ...   \n118  https://www.liepin.com/job/1963134565.shtml       False  ...   \n119      https://www.liepin.com/a/51103809.shtml       False  ...   \n\n             recruiter.recruiterPhoto comp.compStage  \\\n0     5f8fa3a8ea60860b75385c7208u.png          融资未公开   \n1     5f8fa3baf6d1ab58476f324908u.png            NaN   \n2     62283fb181a14b00fe4728ed06u.png            已上市   \n3     63ff44d3f6f3654cff904bb906u.png            NaN   \n4     5f8fa3a78dbe6273dcf85e2608u.png            已上市   \n..                                ...            ...   \n115   5f8f986779c7cc70efbf36c008u.jpg            NaN   \n116   60eced8e42717d1fb413d6ba03u.png          融资未公开   \n117   6550f068e2a06252844d378203u.jpg            已上市   \n118   6507ea0eeac52a0fe94cbe5a07u.png          融资未公开   \n119  6555bb419ad153517243458c04u.jpeg            已上市   \n\n                       comp.compLogo comp.compScale  \\\n0    60e2fe0bf3df194a3c48adb502u.png       100-499人   \n1    60e2fe0bf3df194a3c48adb502u.png         50-99人   \n2    5bfe98bd74719df0ac997eb403a.png       100-499人   \n3    60e2fe0bf3df194a3c48adb502u.png          1-49人   \n4    60e2fe0bf3df194a3c48adb502u.png       10000人以上   \n..                               ...            ...   \n115  5c9208e587fd7dc0d34c4ef706u.jpg       10000人以上   \n116  60e2fe0bf3df194a3c48adb502u.png       500-999人   \n117  60e2fe0bf3df194a3c48adb502u.png     2000-5000人   \n118  6041a67c47efeb69daf7d9de02u.png     1000-2000人   \n119  60e2fe0bf3df194a3c48adb502u.png     2000-5000人   \n\n                                   comp.link        comp.compName  \\\n0                                        NaN         某深圳云计算/大数据公司   \n1                                        NaN            某深圳咨询服务公司   \n2    https://www.liepin.com/company/8655207/  华扬联众数字技术股份有限公司深圳分公司   \n3                                        NaN            某深圳电子商务公司   \n4                                        NaN              某深圳知名公司   \n..                                       ...                  ...   \n115  https://www.liepin.com/company/9762333/             万达商管深圳公司   \n116                                      NaN      某深圳大型服装/纺织/皮革公司   \n117                                      NaN         某深圳珠宝/首饰上市公司   \n118  https://www.liepin.com/company/8884183/        深圳市智佳能自动化有限公司   \n119                                      NaN         某深圳珠宝/首饰上市公司   \n\n    comp.compIndustry  job.pcOuterLink job.h5OuterLink comp.compId  \n0             云计算/大数据              NaN             NaN         NaN  \n1                咨询服务              NaN             NaN         NaN  \n2            广告/公关/会展              NaN             NaN   8655207.0  \n3                电子商务              NaN             NaN         NaN  \n4               批发/零售              NaN             NaN         NaN  \n..                ...              ...             ...         ...  \n115          房地产租赁/中介              NaN             NaN   9762333.0  \n116          服装/纺织/皮革              NaN             NaN         NaN  \n117             珠宝/首饰              NaN             NaN         NaN  \n118             机械/设备              NaN             NaN   8884183.0  \n119             珠宝/首饰              NaN             NaN         NaN  \n\n[120 rows x 32 columns]",
      "text/html": "<div>\n<style scoped>\n    .dataframe tbody tr th:only-of-type {\n        vertical-align: middle;\n    }\n\n    .dataframe tbody tr th {\n        vertical-align: top;\n    }\n\n    .dataframe thead th {\n        text-align: right;\n    }\n</style>\n<table border=\"1\" class=\"dataframe\">\n  <thead>\n    <tr style=\"text-align: right;\">\n      <th></th>\n      <th>Unnamed: 0</th>\n      <th>dataParams</th>\n      <th>dataInfo</th>\n      <th>job.labels</th>\n      <th>job.refreshTime</th>\n      <th>job.dq</th>\n      <th>job.jobId</th>\n      <th>job.jobKind</th>\n      <th>job.link</th>\n      <th>job.topJob</th>\n      <th>...</th>\n      <th>recruiter.recruiterPhoto</th>\n      <th>comp.compStage</th>\n      <th>comp.compLogo</th>\n      <th>comp.compScale</th>\n      <th>comp.link</th>\n      <th>comp.compName</th>\n      <th>comp.compIndustry</th>\n      <th>job.pcOuterLink</th>\n      <th>job.h5OuterLink</th>\n      <th>comp.compId</th>\n    </tr>\n  </thead>\n  <tbody>\n    <tr>\n      <th>0</th>\n      <td>0</td>\n      <td>{\"userId\":\"181b5eaac20859c201c724cba006438e\",\"...</td>\n      <td>%7B%22ckId%22%3A%22h2c8pxojavrmo1w785z7ueih2yb...</td>\n      <td>['广告策划', '新媒体']</td>\n      <td>20230916093155</td>\n      <td>深圳</td>\n      <td>49462105</td>\n      <td>1</td>\n      <td>https://www.liepin.com/a/49462105.shtml</td>\n      <td>False</td>\n      <td>...</td>\n      <td>5f8fa3a8ea60860b75385c7208u.png</td>\n      <td>融资未公开</td>\n      <td>60e2fe0bf3df194a3c48adb502u.png</td>\n      <td>100-499人</td>\n      <td>NaN</td>\n      <td>某深圳云计算/大数据公司</td>\n      <td>云计算/大数据</td>\n      <td>NaN</td>\n      <td>NaN</td>\n      <td>NaN</td>\n    </tr>\n    <tr>\n      <th>1</th>\n      <td>1</td>\n      <td>{\"userId\":\"a7113020c23e14d83ae654ff5fc70253\",\"...</td>\n      <td>%7B%22ckId%22%3A%22h2c8pxojavrmo1w785z7ueih2yb...</td>\n      <td>['广告策划', '营销策划', '新媒体', '新媒体策划', '广告/传媒/文化']</td>\n      <td>20230919093804</td>\n      <td>深圳</td>\n      <td>49511733</td>\n      <td>1</td>\n      <td>https://www.liepin.com/a/49511733.shtml</td>\n      <td>False</td>\n      <td>...</td>\n      <td>5f8fa3baf6d1ab58476f324908u.png</td>\n      <td>NaN</td>\n      <td>60e2fe0bf3df194a3c48adb502u.png</td>\n      <td>50-99人</td>\n      <td>NaN</td>\n      <td>某深圳咨询服务公司</td>\n      <td>咨询服务</td>\n      <td>NaN</td>\n      <td>NaN</td>\n      <td>NaN</td>\n    </tr>\n    <tr>\n      <th>2</th>\n      <td>2</td>\n      <td>{\"userId\":\"7c140a5bd2dbdb83a1a4eb0b60e7929a\",\"...</td>\n      <td>%7B%22ckId%22%3A%22h2c8pxojavrmo1w785z7ueih2yb...</td>\n      <td>['电商策划', '媒介策划', '数据分析']</td>\n      <td>20231201094205</td>\n      <td>深圳</td>\n      <td>49859333</td>\n      <td>2</td>\n      <td>https://www.liepin.com/job/1949859333.shtml</td>\n      <td>False</td>\n      <td>...</td>\n      <td>62283fb181a14b00fe4728ed06u.png</td>\n      <td>已上市</td>\n      <td>5bfe98bd74719df0ac997eb403a.png</td>\n      <td>100-499人</td>\n      <td>https://www.liepin.com/company/8655207/</td>\n      <td>华扬联众数字技术股份有限公司深圳分公司</td>\n      <td>广告/公关/会展</td>\n      <td>NaN</td>\n      <td>NaN</td>\n      <td>8655207.0</td>\n    </tr>\n    <tr>\n      <th>3</th>\n      <td>3</td>\n      <td>{\"userId\":\"3babec4b306b3ff6e013cb1f65fc9ace\",\"...</td>\n      <td>%7B%22ckId%22%3A%22h2c8pxojavrmo1w785z7ueih2yb...</td>\n      <td>['文案策划', '广告策划', '户外媒介', '传统媒介', '广告媒介', '品牌活动...</td>\n      <td>20231124142922</td>\n      <td>深圳-福田区</td>\n      <td>49693291</td>\n      <td>1</td>\n      <td>https://www.liepin.com/a/49693291.shtml</td>\n      <td>False</td>\n      <td>...</td>\n      <td>63ff44d3f6f3654cff904bb906u.png</td>\n      <td>NaN</td>\n      <td>60e2fe0bf3df194a3c48adb502u.png</td>\n      <td>1-49人</td>\n      <td>NaN</td>\n      <td>某深圳电子商务公司</td>\n      <td>电子商务</td>\n      <td>NaN</td>\n      <td>NaN</td>\n      <td>NaN</td>\n    </tr>\n    <tr>\n      <th>4</th>\n      <td>4</td>\n      <td>{\"userId\":\"268ad976d8fa5902377adac1ca921a5f\",\"...</td>\n      <td>%7B%22ckId%22%3A%22h2c8pxojavrmo1w785z7ueih2yb...</td>\n      <td>[]</td>\n      <td>20230915172955</td>\n      <td>深圳</td>\n      <td>49458217</td>\n      <td>1</td>\n      <td>https://www.liepin.com/a/49458217.shtml</td>\n      <td>False</td>\n      <td>...</td>\n      <td>5f8fa3a78dbe6273dcf85e2608u.png</td>\n      <td>已上市</td>\n      <td>60e2fe0bf3df194a3c48adb502u.png</td>\n      <td>10000人以上</td>\n      <td>NaN</td>\n      <td>某深圳知名公司</td>\n      <td>批发/零售</td>\n      <td>NaN</td>\n      <td>NaN</td>\n      <td>NaN</td>\n    </tr>\n    <tr>\n      <th>...</th>\n      <td>...</td>\n      <td>...</td>\n      <td>...</td>\n      <td>...</td>\n      <td>...</td>\n      <td>...</td>\n      <td>...</td>\n      <td>...</td>\n      <td>...</td>\n      <td>...</td>\n      <td>...</td>\n      <td>...</td>\n      <td>...</td>\n      <td>...</td>\n      <td>...</td>\n      <td>...</td>\n      <td>...</td>\n      <td>...</td>\n      <td>...</td>\n      <td>...</td>\n      <td>...</td>\n    </tr>\n    <tr>\n      <th>115</th>\n      <td>35</td>\n      <td>{\"userId\":\"d6879a71d8a00bf5a72a917e2ef8d6fa\",\"...</td>\n      <td>%7B%22ckId%22%3A%22h2c8pxojavrmo1w785z7ueih2yb...</td>\n      <td>['营销策划', '市场策划', '广告策划', '企业策划', '短视频策划', '广告媒介']</td>\n      <td>20231103145818</td>\n      <td>深圳-龙岗区</td>\n      <td>60511395</td>\n      <td>2</td>\n      <td>https://www.liepin.com/job/1960511395.shtml</td>\n      <td>False</td>\n      <td>...</td>\n      <td>5f8f986779c7cc70efbf36c008u.jpg</td>\n      <td>NaN</td>\n      <td>5c9208e587fd7dc0d34c4ef706u.jpg</td>\n      <td>10000人以上</td>\n      <td>https://www.liepin.com/company/9762333/</td>\n      <td>万达商管深圳公司</td>\n      <td>房地产租赁/中介</td>\n      <td>NaN</td>\n      <td>NaN</td>\n      <td>9762333.0</td>\n    </tr>\n    <tr>\n      <th>116</th>\n      <td>36</td>\n      <td>{\"userId\":\"cade8ffb87aef149176b8ddf4e8d3b55\",\"...</td>\n      <td>%7B%22ckId%22%3A%22h2c8pxojavrmo1w785z7ueih2yb...</td>\n      <td>['品牌推广', '新媒体', '品牌活动', '自媒体', 'MCN', '广告/传媒/文...</td>\n      <td>20231031095955</td>\n      <td>深圳</td>\n      <td>50456287</td>\n      <td>1</td>\n      <td>https://www.liepin.com/a/50456287.shtml</td>\n      <td>False</td>\n      <td>...</td>\n      <td>60eced8e42717d1fb413d6ba03u.png</td>\n      <td>融资未公开</td>\n      <td>60e2fe0bf3df194a3c48adb502u.png</td>\n      <td>500-999人</td>\n      <td>NaN</td>\n      <td>某深圳大型服装/纺织/皮革公司</td>\n      <td>服装/纺织/皮革</td>\n      <td>NaN</td>\n      <td>NaN</td>\n      <td>NaN</td>\n    </tr>\n    <tr>\n      <th>117</th>\n      <td>37</td>\n      <td>{\"userId\":\"9cd6d7a5edc23197e370a96e61783313\",\"...</td>\n      <td>%7B%22ckId%22%3A%22h2c8pxojavrmo1w785z7ueih2yb...</td>\n      <td>['品牌管理', '战略管理', '批发/零售']</td>\n      <td>20231107154950</td>\n      <td>深圳</td>\n      <td>50658013</td>\n      <td>1</td>\n      <td>https://www.liepin.com/a/50658013.shtml</td>\n      <td>False</td>\n      <td>...</td>\n      <td>6550f068e2a06252844d378203u.jpg</td>\n      <td>已上市</td>\n      <td>60e2fe0bf3df194a3c48adb502u.png</td>\n      <td>2000-5000人</td>\n      <td>NaN</td>\n      <td>某深圳珠宝/首饰上市公司</td>\n      <td>珠宝/首饰</td>\n      <td>NaN</td>\n      <td>NaN</td>\n      <td>NaN</td>\n    </tr>\n    <tr>\n      <th>118</th>\n      <td>38</td>\n      <td>{\"userId\":\"ae06b14f1481452657b0cb99973532c7\",\"...</td>\n      <td>%7B%22ckId%22%3A%22h2c8pxojavrmo1w785z7ueih2yb...</td>\n      <td>[]</td>\n      <td>20231123112805</td>\n      <td>深圳-光明区</td>\n      <td>63134565</td>\n      <td>2</td>\n      <td>https://www.liepin.com/job/1963134565.shtml</td>\n      <td>False</td>\n      <td>...</td>\n      <td>6507ea0eeac52a0fe94cbe5a07u.png</td>\n      <td>融资未公开</td>\n      <td>6041a67c47efeb69daf7d9de02u.png</td>\n      <td>1000-2000人</td>\n      <td>https://www.liepin.com/company/8884183/</td>\n      <td>深圳市智佳能自动化有限公司</td>\n      <td>机械/设备</td>\n      <td>NaN</td>\n      <td>NaN</td>\n      <td>8884183.0</td>\n    </tr>\n    <tr>\n      <th>119</th>\n      <td>39</td>\n      <td>{\"userId\":\"f866635367a906f05933b1a0f16b484a\",\"...</td>\n      <td>%7B%22ckId%22%3A%22h2c8pxojavrmo1w785z7ueih2yb...</td>\n      <td>['品牌管理', '战略管理', '批发/零售']</td>\n      <td>20231124094452</td>\n      <td>深圳</td>\n      <td>51103809</td>\n      <td>1</td>\n      <td>https://www.liepin.com/a/51103809.shtml</td>\n      <td>False</td>\n      <td>...</td>\n      <td>6555bb419ad153517243458c04u.jpeg</td>\n      <td>已上市</td>\n      <td>60e2fe0bf3df194a3c48adb502u.png</td>\n      <td>2000-5000人</td>\n      <td>NaN</td>\n      <td>某深圳珠宝/首饰上市公司</td>\n      <td>珠宝/首饰</td>\n      <td>NaN</td>\n      <td>NaN</td>\n      <td>NaN</td>\n    </tr>\n  </tbody>\n</table>\n<p>120 rows × 32 columns</p>\n</div>"
     },
     "execution_count": 37,
     "metadata": {},
     "output_type": "execute_result"
    }
   ],
   "source": [
    "df = pd.read_excel('猎聘'+cities+'-'+key+output_time+'.xlsx')\n",
    "df"
   ],
   "metadata": {
    "collapsed": false
   }
  },
  {
   "cell_type": "code",
   "execution_count": 38,
   "outputs": [
    {
     "name": "stdout",
     "output_type": "stream",
     "text": [
      "<class 'pandas.core.frame.DataFrame'>\n",
      "RangeIndex: 120 entries, 0 to 119\n",
      "Data columns (total 32 columns):\n",
      " #   Column                    Non-Null Count  Dtype  \n",
      "---  ------                    --------------  -----  \n",
      " 0   Unnamed: 0                120 non-null    int64  \n",
      " 1   dataParams                120 non-null    object \n",
      " 2   dataInfo                  120 non-null    object \n",
      " 3   job.labels                120 non-null    object \n",
      " 4   job.refreshTime           120 non-null    int64  \n",
      " 5   job.dq                    120 non-null    object \n",
      " 6   job.jobId                 120 non-null    int64  \n",
      " 7   job.jobKind               120 non-null    int64  \n",
      " 8   job.link                  120 non-null    object \n",
      " 9   job.topJob                120 non-null    bool   \n",
      " 10  job.title                 120 non-null    object \n",
      " 11  job.salary                120 non-null    object \n",
      " 12  job.dataPromId            120 non-null    object \n",
      " 13  job.requireWorkYears      120 non-null    object \n",
      " 14  job.requireEduLevel       120 non-null    object \n",
      " 15  job.advViewFlag           120 non-null    bool   \n",
      " 16  recruiter.imId            120 non-null    object \n",
      " 17  recruiter.imUserType      120 non-null    int64  \n",
      " 18  recruiter.recruiterName   120 non-null    object \n",
      " 19  recruiter.recruiterTitle  111 non-null    object \n",
      " 20  recruiter.chatted         120 non-null    bool   \n",
      " 21  recruiter.recruiterId     120 non-null    object \n",
      " 22  recruiter.recruiterPhoto  120 non-null    object \n",
      " 23  comp.compStage            81 non-null     object \n",
      " 24  comp.compLogo             120 non-null    object \n",
      " 25  comp.compScale            117 non-null    object \n",
      " 26  comp.link                 72 non-null     object \n",
      " 27  comp.compName             120 non-null    object \n",
      " 28  comp.compIndustry         120 non-null    object \n",
      " 29  job.pcOuterLink           0 non-null      float64\n",
      " 30  job.h5OuterLink           0 non-null      float64\n",
      " 31  comp.compId               72 non-null     float64\n",
      "dtypes: bool(3), float64(3), int64(5), object(21)\n",
      "memory usage: 27.7+ KB\n"
     ]
    }
   ],
   "source": [
    "df.info()"
   ],
   "metadata": {
    "collapsed": false
   }
  },
  {
   "cell_type": "code",
   "execution_count": 39,
   "outputs": [
    {
     "data": {
      "text/plain": "120"
     },
     "execution_count": 39,
     "metadata": {},
     "output_type": "execute_result"
    }
   ],
   "source": [
    "len(df['job.link'])"
   ],
   "metadata": {
    "collapsed": false
   }
  },
  {
   "cell_type": "code",
   "execution_count": 40,
   "outputs": [
    {
     "data": {
      "text/plain": "'https://www.liepin.com/a/49462105.shtml'"
     },
     "execution_count": 40,
     "metadata": {},
     "output_type": "execute_result"
    }
   ],
   "source": [
    "df['job.link'][0]"
   ],
   "metadata": {
    "collapsed": false
   }
  },
  {
   "cell_type": "markdown",
   "source": [
    "# 额外：加入特殊情况检测"
   ],
   "metadata": {
    "collapsed": false
   }
  },
  {
   "cell_type": "code",
   "execution_count": 41,
   "outputs": [],
   "source": [
    "if payload['data']['mainSearchPcConditionForm'][\"workYearCode\"]=='2':\n",
    "    df_PM_gz =  df[['job.labels','job.refreshTime','job.title','job.salary','job.dq','job.topJob','comp.compStage','comp.compName','comp.compIndustry','comp.compScale']]\n",
    "else:\n",
    "    df_PM_gz =  df[['job.labels','job.refreshTime','job.title','job.salary','job.dq','job.topJob','job.requireWorkYears','job.requireEduLevel','comp.compStage','comp.compName','comp.compIndustry','comp.compScale']]"
   ],
   "metadata": {
    "collapsed": false
   }
  },
  {
   "cell_type": "markdown",
   "source": [
    "# 15.重命名为通俗易懂的列头"
   ],
   "metadata": {
    "collapsed": false
   }
  },
  {
   "cell_type": "code",
   "execution_count": 42,
   "outputs": [],
   "source": [
    "# columns 重命名\n",
    "if payload['data']['mainSearchPcConditionForm'][\"workYearCode\"]=='2':\n",
    "    df_PM_gz = df_PM_gz.rename(columns={\n",
    "        'job.labels':'职位标签',\n",
    "        'job.refreshTime':'职位更新时间',\n",
    "        'job.title':'职位',\n",
    "        'job.salary':'薪资',\n",
    "        'job.dq':'地区',\n",
    "        'job.topJob':'是否top职位',\n",
    "        'comp.compStage':'公司融资情况',\n",
    "        'comp.compName':'公司名称',\n",
    "        'comp.compIndustry':'行业',\n",
    "        'comp.compScale':'规模'\n",
    "    })\n",
    "else:\n",
    "    df_PM_gz = df_PM_gz.rename(columns={\n",
    "        'job.labels':'职位标签',\n",
    "        'job.refreshTime':'职位更新时间',\n",
    "        'job.title':'职位',\n",
    "        'job.salary':'薪资',\n",
    "        'job.dq':'地区',\n",
    "        'job.topJob':'是否top职位',\n",
    "        'job.requireWorkYears':'工作年限',\n",
    "        'job.requireEduLevel':'学历',\n",
    "        'comp.compStage':'公司融资情况',\n",
    "        'comp.compName':'公司名称',\n",
    "        'comp.compIndustry':'行业',\n",
    "        'comp.compScale':'规模'\n",
    "    })"
   ],
   "metadata": {
    "collapsed": false
   }
  },
  {
   "cell_type": "markdown",
   "source": [
    "# 16.引入request_html并对每条标题子级网站进行访问以及内容爬取，即爬取岗位要求"
   ],
   "metadata": {
    "collapsed": false
   }
  },
  {
   "cell_type": "code",
   "execution_count": 43,
   "outputs": [],
   "source": [
    "from requests_html import HTMLSession\n",
    "session = HTMLSession()"
   ],
   "metadata": {
    "collapsed": false
   }
  },
  {
   "cell_type": "code",
   "execution_count": 44,
   "outputs": [],
   "source": [
    "技能要求 = []\n",
    "for i in range(len(df['job.link'])):\n",
    "    s = session.get(df['job.link'][i])\n",
    "    command = s.html.find('dd')\n",
    "    技能要求.append(command[0].text)"
   ],
   "metadata": {
    "collapsed": false
   }
  },
  {
   "cell_type": "markdown",
   "source": [
    "## 添加所爬取到的岗位要求的新列到表"
   ],
   "metadata": {
    "collapsed": false
   }
  },
  {
   "cell_type": "code",
   "execution_count": 45,
   "outputs": [],
   "source": [
    "df_PM_gz['技能要求'] = 技能要求"
   ],
   "metadata": {
    "collapsed": false
   }
  },
  {
   "cell_type": "markdown",
   "source": [
    "# 17.输出最终表"
   ],
   "metadata": {
    "collapsed": false
   }
  },
  {
   "cell_type": "code",
   "execution_count": 46,
   "outputs": [],
   "source": [
    "df_PM_gz.to_excel('猎聘'+ cities+'-'+key +output_time+'.xlsx')"
   ],
   "metadata": {
    "collapsed": false
   }
  },
  {
   "cell_type": "markdown",
   "source": [
    "## 额外：计算各个市的区的平均薪资"
   ],
   "metadata": {
    "collapsed": false
   }
  },
  {
   "cell_type": "code",
   "execution_count": 47,
   "outputs": [
    {
     "data": {
      "text/plain": "                                                  职位标签          职位更新时间  \\\n0                                      ['广告策划', '新媒体']  20230916093155   \n1         ['广告策划', '营销策划', '新媒体', '新媒体策划', '广告/传媒/文化']  20230919093804   \n2                             ['电商策划', '媒介策划', '数据分析']  20231201094205   \n3    ['文案策划', '广告策划', '户外媒介', '传统媒介', '广告媒介', '品牌活动...  20231124142922   \n4                                                   []  20230915172955   \n..                                                 ...             ...   \n115  ['营销策划', '市场策划', '广告策划', '企业策划', '短视频策划', '广告媒介']  20231103145818   \n116  ['品牌推广', '新媒体', '品牌活动', '自媒体', 'MCN', '广告/传媒/文...  20231031095955   \n117                          ['品牌管理', '战略管理', '批发/零售']  20231107154950   \n118                                                 []  20231123112805   \n119                          ['品牌管理', '战略管理', '批发/零售']  20231124094452   \n\n                       职位          薪资      地区  是否top职位   工作年限    学历 公司融资情况  \\\n0                    广告策划      15-20k      深圳    False   3-5年    本科  融资未公开   \n1                    广告策划      15-25k      深圳    False   3-5年    本科    NaN   \n2            广告策划经理（电商方向）      20-30k      深圳    False  5-10年  统招本科    已上市   \n3                    广告策划      15-25k  深圳-福田区    False   3-5年  统招本科    NaN   \n4                    广告策划      22-23k      深圳    False   3-5年  统招本科    已上市   \n..                    ...         ...     ...      ...    ...   ...    ...   \n115                市场推广经理  15-17k·16薪  深圳-龙岗区    False  5-10年  统招本科    NaN   \n116                  品牌经理  25-45k·14薪      深圳    False  5-10年    本科  融资未公开   \n117               CBO/CMO  80-85k·14薪      深圳    False  10年以上  统招本科    已上市   \n118  市场品牌推广经理--新能源/光伏/自动化      20-30k  深圳-光明区    False   3-5年  统招本科  融资未公开   \n119                   CMO    160-240k      深圳    False  10年以上    本科    已上市   \n\n                    公司名称        行业          规模  \\\n0           某深圳云计算/大数据公司   云计算/大数据    100-499人   \n1              某深圳咨询服务公司      咨询服务      50-99人   \n2    华扬联众数字技术股份有限公司深圳分公司  广告/公关/会展    100-499人   \n3              某深圳电子商务公司      电子商务       1-49人   \n4                某深圳知名公司     批发/零售    10000人以上   \n..                   ...       ...         ...   \n115             万达商管深圳公司  房地产租赁/中介    10000人以上   \n116      某深圳大型服装/纺织/皮革公司  服装/纺织/皮革    500-999人   \n117         某深圳珠宝/首饰上市公司     珠宝/首饰  2000-5000人   \n118        深圳市智佳能自动化有限公司     机械/设备  1000-2000人   \n119         某深圳珠宝/首饰上市公司     珠宝/首饰  2000-5000人   \n\n                                                  技能要求  \n0    工作职责1、3年以上品牌/数字广告策划、媒介规划等方面工作经验，熟悉手机数码行业优先2、了解...  \n1    工作职责 1、3年以上品牌/数字广告策划、媒介规划等方面工作经验，熟悉手机数码行业优先； 2...  \n2    岗位职责： 1、电商策划。根据客户的投放需求，结合销售额与电商平台的节奏，合理分配每个电商平...  \n3    1、方案输出 撰写竞价广告投放方案、代运营和KOL合作案，及各项目结案报告 2、文案策划 撰...  \n4    1.有一定的剧本评估能力，能为公司在市场上寻找可开发的优质的电影、电视剧剧本； 2.了解国内...  \n..                                                 ...  \n115  市场企划经理-菁英人才 岗位职责： 1.负责制定企业年度、季度、月度营销策划、宣传推广、平面...  \n116  1、根据全年推广计划，策划营销推广事件，范围涉及品牌活动、销售活动、VIP活动、不同人群对应...  \n117  【岗位职责】 1、根据品牌发展战略，制定公司品牌发展策略和规划，包括行业和竞争对手分析，市场...  \n118  岗位职责： 1. 制定市场推广策略，据公司市场定位、竞争情况、目标受众等因素，制定推广策略 ...  \n119  岗位职责： 1、根据品牌发展战略，制定公司品牌发展策略和规划，包括行业和竞争对手分析，市场和...  \n\n[120 rows x 13 columns]",
      "text/html": "<div>\n<style scoped>\n    .dataframe tbody tr th:only-of-type {\n        vertical-align: middle;\n    }\n\n    .dataframe tbody tr th {\n        vertical-align: top;\n    }\n\n    .dataframe thead th {\n        text-align: right;\n    }\n</style>\n<table border=\"1\" class=\"dataframe\">\n  <thead>\n    <tr style=\"text-align: right;\">\n      <th></th>\n      <th>职位标签</th>\n      <th>职位更新时间</th>\n      <th>职位</th>\n      <th>薪资</th>\n      <th>地区</th>\n      <th>是否top职位</th>\n      <th>工作年限</th>\n      <th>学历</th>\n      <th>公司融资情况</th>\n      <th>公司名称</th>\n      <th>行业</th>\n      <th>规模</th>\n      <th>技能要求</th>\n    </tr>\n  </thead>\n  <tbody>\n    <tr>\n      <th>0</th>\n      <td>['广告策划', '新媒体']</td>\n      <td>20230916093155</td>\n      <td>广告策划</td>\n      <td>15-20k</td>\n      <td>深圳</td>\n      <td>False</td>\n      <td>3-5年</td>\n      <td>本科</td>\n      <td>融资未公开</td>\n      <td>某深圳云计算/大数据公司</td>\n      <td>云计算/大数据</td>\n      <td>100-499人</td>\n      <td>工作职责1、3年以上品牌/数字广告策划、媒介规划等方面工作经验，熟悉手机数码行业优先2、了解...</td>\n    </tr>\n    <tr>\n      <th>1</th>\n      <td>['广告策划', '营销策划', '新媒体', '新媒体策划', '广告/传媒/文化']</td>\n      <td>20230919093804</td>\n      <td>广告策划</td>\n      <td>15-25k</td>\n      <td>深圳</td>\n      <td>False</td>\n      <td>3-5年</td>\n      <td>本科</td>\n      <td>NaN</td>\n      <td>某深圳咨询服务公司</td>\n      <td>咨询服务</td>\n      <td>50-99人</td>\n      <td>工作职责 1、3年以上品牌/数字广告策划、媒介规划等方面工作经验，熟悉手机数码行业优先； 2...</td>\n    </tr>\n    <tr>\n      <th>2</th>\n      <td>['电商策划', '媒介策划', '数据分析']</td>\n      <td>20231201094205</td>\n      <td>广告策划经理（电商方向）</td>\n      <td>20-30k</td>\n      <td>深圳</td>\n      <td>False</td>\n      <td>5-10年</td>\n      <td>统招本科</td>\n      <td>已上市</td>\n      <td>华扬联众数字技术股份有限公司深圳分公司</td>\n      <td>广告/公关/会展</td>\n      <td>100-499人</td>\n      <td>岗位职责： 1、电商策划。根据客户的投放需求，结合销售额与电商平台的节奏，合理分配每个电商平...</td>\n    </tr>\n    <tr>\n      <th>3</th>\n      <td>['文案策划', '广告策划', '户外媒介', '传统媒介', '广告媒介', '品牌活动...</td>\n      <td>20231124142922</td>\n      <td>广告策划</td>\n      <td>15-25k</td>\n      <td>深圳-福田区</td>\n      <td>False</td>\n      <td>3-5年</td>\n      <td>统招本科</td>\n      <td>NaN</td>\n      <td>某深圳电子商务公司</td>\n      <td>电子商务</td>\n      <td>1-49人</td>\n      <td>1、方案输出 撰写竞价广告投放方案、代运营和KOL合作案，及各项目结案报告 2、文案策划 撰...</td>\n    </tr>\n    <tr>\n      <th>4</th>\n      <td>[]</td>\n      <td>20230915172955</td>\n      <td>广告策划</td>\n      <td>22-23k</td>\n      <td>深圳</td>\n      <td>False</td>\n      <td>3-5年</td>\n      <td>统招本科</td>\n      <td>已上市</td>\n      <td>某深圳知名公司</td>\n      <td>批发/零售</td>\n      <td>10000人以上</td>\n      <td>1.有一定的剧本评估能力，能为公司在市场上寻找可开发的优质的电影、电视剧剧本； 2.了解国内...</td>\n    </tr>\n    <tr>\n      <th>...</th>\n      <td>...</td>\n      <td>...</td>\n      <td>...</td>\n      <td>...</td>\n      <td>...</td>\n      <td>...</td>\n      <td>...</td>\n      <td>...</td>\n      <td>...</td>\n      <td>...</td>\n      <td>...</td>\n      <td>...</td>\n      <td>...</td>\n    </tr>\n    <tr>\n      <th>115</th>\n      <td>['营销策划', '市场策划', '广告策划', '企业策划', '短视频策划', '广告媒介']</td>\n      <td>20231103145818</td>\n      <td>市场推广经理</td>\n      <td>15-17k·16薪</td>\n      <td>深圳-龙岗区</td>\n      <td>False</td>\n      <td>5-10年</td>\n      <td>统招本科</td>\n      <td>NaN</td>\n      <td>万达商管深圳公司</td>\n      <td>房地产租赁/中介</td>\n      <td>10000人以上</td>\n      <td>市场企划经理-菁英人才 岗位职责： 1.负责制定企业年度、季度、月度营销策划、宣传推广、平面...</td>\n    </tr>\n    <tr>\n      <th>116</th>\n      <td>['品牌推广', '新媒体', '品牌活动', '自媒体', 'MCN', '广告/传媒/文...</td>\n      <td>20231031095955</td>\n      <td>品牌经理</td>\n      <td>25-45k·14薪</td>\n      <td>深圳</td>\n      <td>False</td>\n      <td>5-10年</td>\n      <td>本科</td>\n      <td>融资未公开</td>\n      <td>某深圳大型服装/纺织/皮革公司</td>\n      <td>服装/纺织/皮革</td>\n      <td>500-999人</td>\n      <td>1、根据全年推广计划，策划营销推广事件，范围涉及品牌活动、销售活动、VIP活动、不同人群对应...</td>\n    </tr>\n    <tr>\n      <th>117</th>\n      <td>['品牌管理', '战略管理', '批发/零售']</td>\n      <td>20231107154950</td>\n      <td>CBO/CMO</td>\n      <td>80-85k·14薪</td>\n      <td>深圳</td>\n      <td>False</td>\n      <td>10年以上</td>\n      <td>统招本科</td>\n      <td>已上市</td>\n      <td>某深圳珠宝/首饰上市公司</td>\n      <td>珠宝/首饰</td>\n      <td>2000-5000人</td>\n      <td>【岗位职责】 1、根据品牌发展战略，制定公司品牌发展策略和规划，包括行业和竞争对手分析，市场...</td>\n    </tr>\n    <tr>\n      <th>118</th>\n      <td>[]</td>\n      <td>20231123112805</td>\n      <td>市场品牌推广经理--新能源/光伏/自动化</td>\n      <td>20-30k</td>\n      <td>深圳-光明区</td>\n      <td>False</td>\n      <td>3-5年</td>\n      <td>统招本科</td>\n      <td>融资未公开</td>\n      <td>深圳市智佳能自动化有限公司</td>\n      <td>机械/设备</td>\n      <td>1000-2000人</td>\n      <td>岗位职责： 1. 制定市场推广策略，据公司市场定位、竞争情况、目标受众等因素，制定推广策略 ...</td>\n    </tr>\n    <tr>\n      <th>119</th>\n      <td>['品牌管理', '战略管理', '批发/零售']</td>\n      <td>20231124094452</td>\n      <td>CMO</td>\n      <td>160-240k</td>\n      <td>深圳</td>\n      <td>False</td>\n      <td>10年以上</td>\n      <td>本科</td>\n      <td>已上市</td>\n      <td>某深圳珠宝/首饰上市公司</td>\n      <td>珠宝/首饰</td>\n      <td>2000-5000人</td>\n      <td>岗位职责： 1、根据品牌发展战略，制定公司品牌发展策略和规划，包括行业和竞争对手分析，市场和...</td>\n    </tr>\n  </tbody>\n</table>\n<p>120 rows × 13 columns</p>\n</div>"
     },
     "execution_count": 47,
     "metadata": {},
     "output_type": "execute_result"
    }
   ],
   "source": [
    "非薪资面议 = df_PM_gz [ ~df_PM_gz['薪资'].str.contains(\"面议|元/天\")]\n",
    "非薪资面议"
   ],
   "metadata": {
    "collapsed": false
   }
  },
  {
   "cell_type": "code",
   "execution_count": 48,
   "outputs": [
    {
     "data": {
      "text/plain": "[['15-20k'],\n ['15-25k'],\n ['20-30k'],\n ['15-25k'],\n ['22-23k'],\n ['15-25k'],\n ['20-30k', '14'],\n ['11-15k'],\n ['15-30k'],\n ['9-14k', '13'],\n ['10-15k'],\n ['15-25k', '13'],\n ['15-20k', '13'],\n ['10-15k'],\n ['10-15k', '14'],\n ['8-15k'],\n ['40-45k'],\n ['30-35k'],\n ['15-18k'],\n ['25-55k'],\n ['50-70k'],\n ['15-18k', '14'],\n ['18-30k'],\n ['25-35k'],\n ['40-60k'],\n ['30-50k'],\n ['25-35k', '14'],\n ['35-65k'],\n ['12-15k'],\n ['10-15k'],\n ['30-55k', '14'],\n ['12-20k'],\n ['25-40k', '15'],\n ['80-110k', '18'],\n ['10-15k'],\n ['15-17k', '16'],\n ['25-45k', '14'],\n ['80-85k', '14'],\n ['20-30k'],\n ['160-240k'],\n ['15-20k'],\n ['15-25k'],\n ['20-30k'],\n ['15-25k'],\n ['22-23k'],\n ['15-25k'],\n ['20-30k', '14'],\n ['11-15k'],\n ['15-30k'],\n ['9-14k', '13'],\n ['10-15k'],\n ['15-25k', '13'],\n ['15-20k', '13'],\n ['10-15k'],\n ['10-15k', '14'],\n ['8-15k'],\n ['40-45k'],\n ['30-35k'],\n ['15-18k'],\n ['25-55k'],\n ['50-70k'],\n ['15-18k', '14'],\n ['18-30k'],\n ['25-35k'],\n ['40-60k'],\n ['30-50k'],\n ['25-35k', '14'],\n ['35-65k'],\n ['12-15k'],\n ['10-15k'],\n ['30-55k', '14'],\n ['12-20k'],\n ['25-40k', '15'],\n ['80-110k', '18'],\n ['10-15k'],\n ['15-17k', '16'],\n ['25-45k', '14'],\n ['80-85k', '14'],\n ['20-30k'],\n ['160-240k'],\n ['15-20k'],\n ['15-25k'],\n ['20-30k'],\n ['15-25k'],\n ['22-23k'],\n ['15-25k'],\n ['20-30k', '14'],\n ['11-15k'],\n ['15-30k'],\n ['9-14k', '13'],\n ['10-15k'],\n ['15-25k', '13'],\n ['15-20k', '13'],\n ['10-15k'],\n ['10-15k', '14'],\n ['8-15k'],\n ['40-45k'],\n ['30-35k'],\n ['15-18k'],\n ['25-55k'],\n ['50-70k'],\n ['15-18k', '14'],\n ['18-30k'],\n ['25-35k'],\n ['40-60k'],\n ['30-50k'],\n ['25-35k', '14'],\n ['35-65k'],\n ['12-15k'],\n ['10-15k'],\n ['30-55k', '14'],\n ['12-20k'],\n ['25-40k', '15'],\n ['80-110k', '18'],\n ['10-15k'],\n ['15-17k', '16'],\n ['25-45k', '14'],\n ['80-85k', '14'],\n ['20-30k'],\n ['160-240k']]"
     },
     "execution_count": 48,
     "metadata": {},
     "output_type": "execute_result"
    }
   ],
   "source": [
    "非薪资面议_detail = 非薪资面议['薪资'].apply(lambda x:x.split('薪')[0].split('·')).tolist()\n",
    "非薪资面议_detail"
   ],
   "metadata": {
    "collapsed": false
   }
  },
  {
   "cell_type": "code",
   "execution_count": 49,
   "outputs": [
    {
     "data": {
      "text/plain": "[17.5,\n 20.0,\n 25.0,\n 20.0,\n 22.5,\n 20.0,\n 29.2,\n 13.0,\n 22.5,\n 12.5,\n 12.5,\n 21.7,\n 19.0,\n 12.5,\n 14.6,\n 11.5,\n 42.5,\n 32.5,\n 16.5,\n 40.0,\n 60.0,\n 19.2,\n 24.0,\n 30.0,\n 50.0,\n 40.0,\n 35.0,\n 50.0,\n 13.5,\n 12.5,\n 49.6,\n 16.0,\n 40.6,\n 142.5,\n 12.5,\n 21.3,\n 40.8,\n 96.2,\n 25.0,\n 200.0,\n 17.5,\n 20.0,\n 25.0,\n 20.0,\n 22.5,\n 20.0,\n 29.2,\n 13.0,\n 22.5,\n 12.5,\n 12.5,\n 21.7,\n 19.0,\n 12.5,\n 14.6,\n 11.5,\n 42.5,\n 32.5,\n 16.5,\n 40.0,\n 60.0,\n 19.2,\n 24.0,\n 30.0,\n 50.0,\n 40.0,\n 35.0,\n 50.0,\n 13.5,\n 12.5,\n 49.6,\n 16.0,\n 40.6,\n 142.5,\n 12.5,\n 21.3,\n 40.8,\n 96.2,\n 25.0,\n 200.0,\n 17.5,\n 20.0,\n 25.0,\n 20.0,\n 22.5,\n 20.0,\n 29.2,\n 13.0,\n 22.5,\n 12.5,\n 12.5,\n 21.7,\n 19.0,\n 12.5,\n 14.6,\n 11.5,\n 42.5,\n 32.5,\n 16.5,\n 40.0,\n 60.0,\n 19.2,\n 24.0,\n 30.0,\n 50.0,\n 40.0,\n 35.0,\n 50.0,\n 13.5,\n 12.5,\n 49.6,\n 16.0,\n 40.6,\n 142.5,\n 12.5,\n 21.3,\n 40.8,\n 96.2,\n 25.0,\n 200.0]"
     },
     "execution_count": 49,
     "metadata": {},
     "output_type": "execute_result"
    }
   ],
   "source": [
    "平均薪资 = [ (int(i[0].split('-')[0]) +int(i[0].split('-')[1].split('k')[0]))/2    \\\n",
    " if len(i)==1 else round((int(i[0].split('-')[0]) +int(i[0].split('-')[1].split('k')[0]))/2*int(i[1])/12,1)     \\\n",
    " for i in 非薪资面议_detail        ]\n",
    "平均薪资"
   ],
   "metadata": {
    "collapsed": false
   }
  },
  {
   "cell_type": "code",
   "execution_count": 50,
   "outputs": [],
   "source": [
    "非薪资面议['平均薪资']=平均薪资"
   ],
   "metadata": {
    "collapsed": false
   }
  },
  {
   "cell_type": "code",
   "execution_count": 51,
   "outputs": [],
   "source": [
    "分地区_平均薪资 = 非薪资面议.groupby('地区').agg({'平均薪资':'median'})\n",
    "分地区_平均薪资[1:].to_excel('猎聘'+城市+'_'+关键词+'-平均薪资.xlsx')"
   ],
   "metadata": {
    "collapsed": false
   }
  },
  {
   "cell_type": "code",
   "execution_count": null,
   "outputs": [],
   "source": [
    "# 分地区_平均薪资_values =  [round(i[0],1) for i in 分地区_平均薪资.values.tolist()]\n",
    "# 分地区_平均薪资_values = 分地区_平均薪资_values[1:]"
   ],
   "metadata": {
    "collapsed": false
   }
  },
  {
   "cell_type": "code",
   "execution_count": null,
   "outputs": [],
   "source": [
    "# 分地区_平均薪资_index = 分地区_平均薪资.index.tolist()\n",
    "# 分地区_平均薪资_index = 分地区_平均薪资_index[1:]"
   ],
   "metadata": {
    "collapsed": false
   }
  },
  {
   "cell_type": "code",
   "execution_count": null,
   "outputs": [],
   "source": [
    "# 分地区_平均薪资_values"
   ],
   "metadata": {
    "collapsed": false
   }
  },
  {
   "cell_type": "code",
   "execution_count": null,
   "outputs": [],
   "source": [
    "# 分地区_平均薪资_index"
   ],
   "metadata": {
    "collapsed": false
   }
  },
  {
   "cell_type": "code",
   "execution_count": null,
   "outputs": [],
   "source": [],
   "metadata": {
    "collapsed": false
   }
  }
 ],
 "metadata": {
  "kernelspec": {
   "display_name": "Python 3",
   "language": "python",
   "name": "python3"
  },
  "language_info": {
   "codemirror_mode": {
    "name": "ipython",
    "version": 2
   },
   "file_extension": ".py",
   "mimetype": "text/x-python",
   "name": "python",
   "nbconvert_exporter": "python",
   "pygments_lexer": "ipython2",
   "version": "2.7.6"
  }
 },
 "nbformat": 4,
 "nbformat_minor": 0
}
