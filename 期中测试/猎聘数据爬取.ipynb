{
 "cells": [
  {
   "cell_type": "markdown",
   "source": [
    "# 1.定义北上广深城市代码"
   ],
   "metadata": {
    "collapsed": false
   }
  },
  {
   "cell_type": "code",
   "execution_count": 1,
   "outputs": [],
   "source": [
    "city = [\n",
    "    {'code': '010', 'name': '北京'},\n",
    " {'code': '020', 'name': '上海'},\n",
    "{'code': '050020', 'name': '广州'},\n",
    " {'code': '050090', 'name': '深圳'},\n",
    "]"
   ],
   "metadata": {
    "collapsed": false
   }
  },
  {
   "cell_type": "markdown",
   "source": [
    "# 2.定义学历对应的代码"
   ],
   "metadata": {
    "collapsed": false
   }
  },
  {
   "cell_type": "code",
   "execution_count": 2,
   "outputs": [],
   "source": [
    "edulevel = [\n",
    "    {'code': \"010\", 'name': \"博士\"},\n",
    "{'code': \"020\", 'name': \"MBA/EMBA\"},\n",
    "{'code': \"030\", 'name': \"硕士\"},\n",
    "{'code': \"040\", 'name': \"本科\"},]"
   ],
   "metadata": {
    "collapsed": false
   }
  },
  {
   "cell_type": "markdown",
   "source": [
    "# 3.定义选择城市获取对应城市代码函数"
   ],
   "metadata": {
    "collapsed": false
   }
  },
  {
   "cell_type": "code",
   "execution_count": 3,
   "outputs": [],
   "source": [
    "def choose_city(city_name):\n",
    "    for i in city:\n",
    "        if i['name'] == city_name:\n",
    "            return i['code']"
   ],
   "metadata": {
    "collapsed": false
   }
  },
  {
   "cell_type": "markdown",
   "source": [
    "# 4.定义选择学历获取对应的代码"
   ],
   "metadata": {
    "collapsed": false
   }
  },
  {
   "cell_type": "code",
   "execution_count": 4,
   "outputs": [],
   "source": [
    "def choose_edu_level(edu_level):\n",
    "    for i in edulevel:\n",
    "        if i['name'] == edu_level:\n",
    "            return i['code']"
   ],
   "metadata": {
    "collapsed": false
   }
  },
  {
   "cell_type": "markdown",
   "source": [
    "# 5.定义请求头函数"
   ],
   "metadata": {
    "collapsed": false
   }
  },
  {
   "cell_type": "code",
   "execution_count": 5,
   "outputs": [],
   "source": [
    "def headers():\n",
    "    liepin_headers = {\n",
    "        \"Accept\": \"application/json, text/plain, */*\",\n",
    "        \"Accept-Encoding\": \"gzip, deflate, br\",\n",
    "        \"Accept-Language\": \"zh-CN,zh;q=0.9\",\n",
    "        \"Connection\": \"keep-alive\",\n",
    "        \"Content-Length\": \"487\",\n",
    "        \"Content-Type\": \"application/json;charset=UTF-8;\",\n",
    "        \"Cookie\": \"XSRF-TOKEN=zIARnRM0QQaLudJk_4OBXw; __gc_id=e936feed5bd343e5a73b304fa0d4ad5f; _ga=GA1.1.504776059.1697021947; __uuid=1697021948310.51; __tlog=1697021948354.48%7C00000000%7C00000000%7C00000000%7C00000000; Hm_lvt_a2647413544f5a04f00da7eee0d5e200=1697021951; acw_tc=2760828416970219810274366e53a098388abcfc886c89f5cbf2332344893f; Hm_lpvt_a2647413544f5a04f00da7eee0d5e200=1697021975; __session_seq=4; __uv_seq=4; __tlg_event_seq=24; _ga_54YTJKWN86=GS1.1.1697021946.1.1.1697023027.0.0.0\",\n",
    "        \"Host\": \"api-c.liepin.com\",\n",
    "        \"Origin\": \"https://www.liepin.com\",\n",
    "        \"Referer\": \"https://www.liepin.com/zhaopin/?currentPage=0&pageSize=40&city=050090&dq=050090&pubTime=&key=%E4%BA%A7%E5%93%81%E7%BB%8F%E7%90%86&suggestTag=&otherCity=&industry=&ckId=geq5b0qsi9umzbhn0oojbi2j8v8qu2bb&scene=condition&skId=geq5b0qsi9umzbhn0oojbi2j8v8qu2bb&fkId=geq5b0qsi9umzbhn0oojbi2j8v8qu2bb&sfrom=search_job_pc&suggestId=\",\n",
    "        \"Sec-Fetch-Dest\": \"empty\",\n",
    "        \"Sec-Fetch-Mode\": \"cors\",\n",
    "        \"Sec-Fetch-Site\": \"same-site\",\n",
    "        \"User-Agent\": \"Mozilla/5.0 (Windows NT 6.1; WOW64) AppleWebKit/537.36 (KHTML, like Gecko) Chrome/81.0.4044.122 Safari/537.36\",\n",
    "        \"X-Client-Type\": \"web\",\n",
    "        \"X-Fscp-Bi-Stat\": \"{\\\"location\\\": \\\"https://www.liepin.com/zhaopin/?currentPage=0&pageSize=40&city=050090&dq=050090&pubTime=&key=%E4%BA%A7%E5%93%81%E7%BB%8F%E7%90%86&suggestTag=&otherCity=&industry=&ckId=geq5b0qsi9umzbhn0oojbi2j8v8qu2bb&scene=condition&skId=geq5b0qsi9umzbhn0oojbi2j8v8qu2bb&fkId=geq5b0qsi9umzbhn0oojbi2j8v8qu2bb&sfrom=search_job_pc&suggestId=\\\"}\",\n",
    "        \"X-Fscp-Fe-Version\": \"\",\n",
    "        \"X-Fscp-Std-Info\": \"{\\\"client_id\\\": \\\"40108\\\"}\",\n",
    "        \"X-Fscp-Trace-Id\": \"187c89d1-ed19-48b2-99fe-85ceeb116589\",\n",
    "        \"X-Fscp-Version\": \"1.1\",\n",
    "        \"X-Requested-With\": \"XMLHttpRequest\",\n",
    "        \"X-XSRF-TOKEN\": \"zIARnRM0QQaLudJk_4OBXw\"\n",
    "    }\n",
    "\n",
    "    return liepin_headers"
   ],
   "metadata": {
    "collapsed": false
   }
  },
  {
   "cell_type": "markdown",
   "source": [
    "# 6.联网以及定义请求url，引入pandas和json库"
   ],
   "metadata": {
    "collapsed": false
   }
  },
  {
   "cell_type": "code",
   "execution_count": 6,
   "outputs": [],
   "source": [
    "import pandas\n",
    "from requests_html import HTMLSession\n",
    "import json\n",
    "import pandas as pd\n",
    "\n",
    "url = \"https://apic.liepin.com/api/com.liepin.searchfront4c.pc-search-job\""
   ],
   "metadata": {
    "collapsed": false
   }
  },
  {
   "cell_type": "markdown",
   "source": [
    "# 7.定义爬取猎聘网站函数，参数有城市和关键词和学历"
   ],
   "metadata": {
    "collapsed": false
   }
  },
  {
   "cell_type": "code",
   "execution_count": 7,
   "outputs": [],
   "source": [
    "def payloadd(城市,关键词,学历):\n",
    "    payload = {\n",
    "    \"data\": {\n",
    "        \"mainSearchPcConditionForm\": {\n",
    "            \"city\": choose_city(城市),\n",
    "            \"dq\": choose_city(城市),\n",
    "            \"pubTime\": \"\",\n",
    "            \"currentPage\": 0,\n",
    "            \"pageSize\": 40,\n",
    "            \"key\": 关键词,\n",
    "            \"suggestTag\": \"\",\n",
    "            \"workYearCode\": '',\n",
    "            \"compId\": \"\",\n",
    "            \"compName\": \"\",\n",
    "            \"compTag\": \"\",\n",
    "            \"industry\": \"\",\n",
    "            \"salary\": \"\",\n",
    "            \"jobKind\": \"\",\n",
    "            \"compScale\": \"\",\n",
    "            \"compKind\": \"\",\n",
    "            \"compStage\": \"\",\n",
    "            \"eduLevel\": choose_edu_level(学历)\n",
    "        },\n",
    "        \"passThroughForm\": {\n",
    "            \"scene\": \"input\",\n",
    "            \"skId\": \"\",\n",
    "            \"fkId\": \"\",\n",
    "            \"ckId\": \"h2c8pxojavrmo1w785z7ueih2ybfpux8\",\n",
    "            \"suggest\": None\n",
    "        }\n",
    "    }\n",
    "}\n",
    "    return payload"
   ],
   "metadata": {
    "collapsed": false
   }
  },
  {
   "cell_type": "markdown",
   "source": [
    "# 8.输入对应内容获取求职信息"
   ],
   "metadata": {
    "collapsed": false
   }
  },
  {
   "cell_type": "code",
   "execution_count": 8,
   "outputs": [],
   "source": [
    "城市 = input('输入城市，目前支持北京、上海、广州、深圳')"
   ],
   "metadata": {
    "collapsed": false
   }
  },
  {
   "cell_type": "code",
   "execution_count": 9,
   "outputs": [],
   "source": [
    "关键词 = input('关键词，任意职位即可')"
   ],
   "metadata": {
    "collapsed": false
   }
  },
  {
   "cell_type": "code",
   "execution_count": 10,
   "outputs": [],
   "source": [
    "学历 = input('学历，如本科、硕士、博士')"
   ],
   "metadata": {
    "collapsed": false
   }
  },
  {
   "cell_type": "markdown",
   "source": [
    "# 9.请求猎聘网数据"
   ],
   "metadata": {
    "collapsed": false
   }
  },
  {
   "cell_type": "code",
   "execution_count": 11,
   "outputs": [
    {
     "data": {
      "text/plain": "{'flag': 1,\n 'data': {'data': {'jobCardList': [{'job': {'labels': ['文案策划',\n       '媒介策划',\n       '广告策划',\n       '网站策划',\n       '营销策划',\n       '客户管理',\n       '广告媒体',\n       '网络媒体',\n       '移动媒体',\n       '乙方公司背景'],\n      'link': 'https://www.liepin.com/job/1961023089.shtml',\n      'advViewFlag': False,\n      'topJob': False,\n      'refreshTime': '20230822164123',\n      'dq': '广州-黄埔区',\n      'title': '广告策划经理',\n      'jobId': '61023089',\n      'jobKind': '2',\n      'salary': '20-30k·16薪',\n      'requireWorkYears': '3-5年',\n      'requireEduLevel': '统招本科',\n      'pcOuterLink': '',\n      'h5OuterLink': '',\n      'dataPromId': 'd_sfrom=search_prime&d_ckId=null&d_curPage=0&d_pageSize=40&d_headId=null&d_posi=0&skId=h2c8pxojavrmo1w785z7ueih2ybfpux8&fkId=h2c8pxojavrmo1w785z7ueih2ybfpux8&ckId=h2c8pxojavrmo1w785z7ueih2ybfpux8&sfrom=search_job_pc&curPage=0&pageSize=40&index=0'},\n     'recruiter': {'imId': '26589f3a62c07bda36d8c7038f74fcb7',\n      'imUserType': '2',\n      'chatted': False,\n      'recruiterName': '黄女士',\n      'recruiterTitle': '招聘经理',\n      'recruiterId': 'aadd6feb5284fb88fe617cf9abcae704',\n      'recruiterPhoto': '64b290564767061a4c09cecc04u.png'},\n     'comp': {'link': 'https://www.liepin.com/company/9770323/',\n      'compScale': '10000人以上',\n      'compName': '京东物流',\n      'compId': 9770323,\n      'compIndustry': '货运/物流/仓储',\n      'compStage': '港股上市',\n      'compLogo': '5f3b73cb9d37de587955cfe104u.png'},\n     'dataInfo': '%7B%22ckId%22%3A%22h2c8pxojavrmo1w785z7ueih2ybfpux8%22%2C%22scene%22%3A%22input%22%2C%22pageSize%22%3A%2240%22%2C%22curPage%22%3A%220%22%2C%22skId%22%3A%22h2c8pxojavrmo1w785z7ueih2ybfpux8%22%2C%22fkId%22%3A%22h2c8pxojavrmo1w785z7ueih2ybfpux8%22%2C%22sfrom%22%3A%22search_job_pc%22%2C%22jobId%22%3A%2261023089%22%2C%22jobKind%22%3A%222%22%2C%22d_curPage%22%3A%220%22%2C%22d_pageSize%22%3A%2240%22%2C%22as_from%22%3A%22search_prime%22%7D',\n     'dataParams': '{\"imId\":\"26589f3a62c07bda36d8c7038f74fcb7\",\"imUserType\":\"2\",\"jobId\":\"61023089\",\"jobKind\":\"2\",\"recruiterName\":\"黄女士\",\"userId\":\"aadd6feb5284fb88fe617cf9abcae704\",\"recruiterPhoto\":\"64b290564767061a4c09cecc04u.png\"}'},\n    {'job': {'labels': ['营销策划',\n       '广告策划',\n       '文案策划',\n       '网站策划',\n       '广告媒介',\n       '广告/传媒/文化',\n       'IT/互联网/软件'],\n      'link': 'https://www.liepin.com/job/1963121211.shtml',\n      'advViewFlag': False,\n      'topJob': False,\n      'refreshTime': '20231122174436',\n      'dq': '广州-天河区',\n      'title': '广告策划',\n      'jobId': '63121211',\n      'jobKind': '2',\n      'salary': '10-20k',\n      'requireWorkYears': '3-5年',\n      'requireEduLevel': '统招本科',\n      'pcOuterLink': '',\n      'h5OuterLink': '',\n      'dataPromId': 'd_sfrom=search_prime&d_ckId=null&d_curPage=0&d_pageSize=40&d_headId=null&d_posi=1&skId=h2c8pxojavrmo1w785z7ueih2ybfpux8&fkId=h2c8pxojavrmo1w785z7ueih2ybfpux8&ckId=h2c8pxojavrmo1w785z7ueih2ybfpux8&sfrom=search_job_pc&curPage=0&pageSize=40&index=1'},\n     'recruiter': {'imId': '4b0541da576efe8d816841a4612c5b46',\n      'imUserType': '2',\n      'chatted': False,\n      'recruiterName': '吴先生',\n      'recruiterTitle': '人力资源经理',\n      'recruiterId': 'f50982b6b6a4646b0a0465cbb5fe98a9',\n      'recruiterPhoto': '5f8f986aea60860b75384fab08u.jpg'},\n     'comp': {'link': 'https://www.liepin.com/company/9739457/',\n      'compScale': '100-499人',\n      'compName': '广州信日信息科技有限公司',\n      'compId': 9739457,\n      'compIndustry': '广告/公关/会展',\n      'compLogo': '5c6bb406509919c4f5f7271203u.png'},\n     'dataInfo': '%7B%22ckId%22%3A%22h2c8pxojavrmo1w785z7ueih2ybfpux8%22%2C%22scene%22%3A%22input%22%2C%22pageSize%22%3A%2240%22%2C%22curPage%22%3A%220%22%2C%22skId%22%3A%22h2c8pxojavrmo1w785z7ueih2ybfpux8%22%2C%22fkId%22%3A%22h2c8pxojavrmo1w785z7ueih2ybfpux8%22%2C%22sfrom%22%3A%22search_job_pc%22%2C%22jobId%22%3A%2263121211%22%2C%22jobKind%22%3A%222%22%2C%22d_curPage%22%3A%220%22%2C%22d_pageSize%22%3A%2240%22%2C%22as_from%22%3A%22search_prime%22%7D',\n     'dataParams': '{\"imId\":\"4b0541da576efe8d816841a4612c5b46\",\"imUserType\":\"2\",\"jobId\":\"63121211\",\"jobKind\":\"2\",\"recruiterName\":\"吴先生\",\"userId\":\"f50982b6b6a4646b0a0465cbb5fe98a9\",\"recruiterPhoto\":\"5f8f986aea60860b75384fab08u.jpg\"}'},\n    {'job': {'labels': ['广告策划',\n       '营销策划',\n       '4A公司背景',\n       'to B',\n       '广告/传媒/文化',\n       'IT/互联网/软件',\n       '大客户',\n       '品牌活动',\n       '广告媒介',\n       '品牌策划'],\n      'link': 'https://www.liepin.com/job/1948061671.shtml',\n      'advViewFlag': False,\n      'topJob': False,\n      'refreshTime': '20231130154242',\n      'dq': '广州-天河区',\n      'title': '广告策划',\n      'jobId': '48061671',\n      'jobKind': '2',\n      'salary': '15-23k',\n      'requireWorkYears': '3-5年',\n      'requireEduLevel': '统招本科',\n      'pcOuterLink': '',\n      'h5OuterLink': '',\n      'dataPromId': 'd_sfrom=search_prime&d_ckId=null&d_curPage=0&d_pageSize=40&d_headId=null&d_posi=2&skId=h2c8pxojavrmo1w785z7ueih2ybfpux8&fkId=h2c8pxojavrmo1w785z7ueih2ybfpux8&ckId=h2c8pxojavrmo1w785z7ueih2ybfpux8&sfrom=search_job_pc&curPage=0&pageSize=40&index=2'},\n     'recruiter': {'imId': 'f6d635b5b40785c98c8c33ff4072bd7f',\n      'imUserType': '2',\n      'chatted': False,\n      'recruiterName': '黄女士',\n      'recruiterTitle': '高级人力资源经理',\n      'recruiterId': '13b4fbc929297c57cab68a818831b544',\n      'recruiterPhoto': '6247b4bc8c74e57d84e936f405u.png'},\n     'comp': {'link': 'https://www.liepin.com/company/7855801/',\n      'compScale': '100-499人',\n      'compName': '宝宝树',\n      'compId': 7855801,\n      'compIndustry': '在线社交/媒体',\n      'compStage': '港股上市',\n      'compLogo': '5d81843d28021708fa48783504u.png'},\n     'dataInfo': '%7B%22ckId%22%3A%22h2c8pxojavrmo1w785z7ueih2ybfpux8%22%2C%22scene%22%3A%22input%22%2C%22pageSize%22%3A%2240%22%2C%22curPage%22%3A%220%22%2C%22skId%22%3A%22h2c8pxojavrmo1w785z7ueih2ybfpux8%22%2C%22fkId%22%3A%22h2c8pxojavrmo1w785z7ueih2ybfpux8%22%2C%22sfrom%22%3A%22search_job_pc%22%2C%22jobId%22%3A%2248061671%22%2C%22jobKind%22%3A%222%22%2C%22d_curPage%22%3A%220%22%2C%22d_pageSize%22%3A%2240%22%2C%22as_from%22%3A%22search_prime%22%7D',\n     'dataParams': '{\"imId\":\"f6d635b5b40785c98c8c33ff4072bd7f\",\"imUserType\":\"2\",\"jobId\":\"48061671\",\"jobKind\":\"2\",\"recruiterName\":\"黄女士\",\"userId\":\"13b4fbc929297c57cab68a818831b544\",\"recruiterPhoto\":\"6247b4bc8c74e57d84e936f405u.png\"}'},\n    {'job': {'labels': ['广告策划', '活动策划', '营销策划'],\n      'link': 'https://www.liepin.com/job/1957145127.shtml',\n      'advViewFlag': False,\n      'topJob': False,\n      'refreshTime': '20230321121700',\n      'dq': '广州-增城区',\n      'title': '广告策划主管',\n      'jobId': '57145127',\n      'jobKind': '2',\n      'salary': '12-20k',\n      'requireWorkYears': '3-5年',\n      'requireEduLevel': '本科',\n      'pcOuterLink': '',\n      'h5OuterLink': '',\n      'dataPromId': 'd_sfrom=search_prime&d_ckId=null&d_curPage=0&d_pageSize=40&d_headId=null&d_posi=3&skId=h2c8pxojavrmo1w785z7ueih2ybfpux8&fkId=h2c8pxojavrmo1w785z7ueih2ybfpux8&ckId=h2c8pxojavrmo1w785z7ueih2ybfpux8&sfrom=search_job_pc&curPage=0&pageSize=40&index=3'},\n     'recruiter': {'imId': '3f510c2eb0181bccd9f9b108068c7fc3',\n      'imUserType': '2',\n      'chatted': False,\n      'recruiterName': '姚女士',\n      'recruiterTitle': '',\n      'recruiterId': 'caee11e4e63bb05dd03784ce9c33c2b0',\n      'recruiterPhoto': '5f8f9863f6d1ab58476f246a08u.jpg'},\n     'comp': {'link': 'https://www.liepin.com/company/10280429/',\n      'compScale': '2000-5000人',\n      'compName': '五羊━本田摩托(广州)有限公司',\n      'compId': 10280429,\n      'compIndustry': '其他制造业',\n      'compLogo': '63ac00101eca7a1a5442e36c06u.png'},\n     'dataInfo': '%7B%22ckId%22%3A%22h2c8pxojavrmo1w785z7ueih2ybfpux8%22%2C%22scene%22%3A%22input%22%2C%22pageSize%22%3A%2240%22%2C%22curPage%22%3A%220%22%2C%22skId%22%3A%22h2c8pxojavrmo1w785z7ueih2ybfpux8%22%2C%22fkId%22%3A%22h2c8pxojavrmo1w785z7ueih2ybfpux8%22%2C%22sfrom%22%3A%22search_job_pc%22%2C%22jobId%22%3A%2257145127%22%2C%22jobKind%22%3A%222%22%2C%22d_curPage%22%3A%220%22%2C%22d_pageSize%22%3A%2240%22%2C%22as_from%22%3A%22search_prime%22%7D',\n     'dataParams': '{\"imId\":\"3f510c2eb0181bccd9f9b108068c7fc3\",\"imUserType\":\"2\",\"jobId\":\"57145127\",\"jobKind\":\"2\",\"recruiterName\":\"姚女士\",\"userId\":\"caee11e4e63bb05dd03784ce9c33c2b0\",\"recruiterPhoto\":\"5f8f9863f6d1ab58476f246a08u.jpg\"}'},\n    {'job': {'labels': ['效果广告投放经验', '竞价策划', '营销策划', '效果广告'],\n      'link': 'https://www.liepin.com/job/1959106999.shtml',\n      'advViewFlag': False,\n      'topJob': False,\n      'refreshTime': '20231114165850',\n      'dq': '广州-海珠区',\n      'title': '效果广告策划',\n      'jobId': '59106999',\n      'jobKind': '2',\n      'salary': '10-25k',\n      'requireWorkYears': '3-5年',\n      'requireEduLevel': '本科',\n      'pcOuterLink': '',\n      'h5OuterLink': '',\n      'dataPromId': 'd_sfrom=search_prime&d_ckId=null&d_curPage=0&d_pageSize=40&d_headId=null&d_posi=4&skId=h2c8pxojavrmo1w785z7ueih2ybfpux8&fkId=h2c8pxojavrmo1w785z7ueih2ybfpux8&ckId=h2c8pxojavrmo1w785z7ueih2ybfpux8&sfrom=search_job_pc&curPage=0&pageSize=40&index=4'},\n     'recruiter': {'imId': 'e4026a9d386e3fb12b1d8d3fa16dcfe7',\n      'imUserType': '2',\n      'chatted': False,\n      'recruiterName': '何女士',\n      'recruiterTitle': '高级HRBP经理',\n      'recruiterId': '5442d31b7043ad0e89bfd16d86f01372',\n      'recruiterPhoto': '610b5b6d0e53225d69e1e7cf05u.png'},\n     'comp': {'link': 'https://www.liepin.com/company/1054367/',\n      'compScale': '2000-5000人',\n      'compName': '省广集团',\n      'compId': 1054367,\n      'compIndustry': '广告/公关/会展',\n      'compStage': '沪深A股上市',\n      'compLogo': '5d803842d0e79f08cffdfb2208u.png'},\n     'dataInfo': '%7B%22ckId%22%3A%22h2c8pxojavrmo1w785z7ueih2ybfpux8%22%2C%22scene%22%3A%22input%22%2C%22pageSize%22%3A%2240%22%2C%22curPage%22%3A%220%22%2C%22skId%22%3A%22h2c8pxojavrmo1w785z7ueih2ybfpux8%22%2C%22fkId%22%3A%22h2c8pxojavrmo1w785z7ueih2ybfpux8%22%2C%22sfrom%22%3A%22search_job_pc%22%2C%22jobId%22%3A%2259106999%22%2C%22jobKind%22%3A%222%22%2C%22d_curPage%22%3A%220%22%2C%22d_pageSize%22%3A%2240%22%2C%22as_from%22%3A%22search_prime%22%7D',\n     'dataParams': '{\"imId\":\"e4026a9d386e3fb12b1d8d3fa16dcfe7\",\"imUserType\":\"2\",\"jobId\":\"59106999\",\"jobKind\":\"2\",\"recruiterName\":\"何女士\",\"userId\":\"5442d31b7043ad0e89bfd16d86f01372\",\"recruiterPhoto\":\"610b5b6d0e53225d69e1e7cf05u.png\"}'},\n    {'job': {'labels': ['文案策划'],\n      'link': 'https://www.liepin.com/a/50867443.shtml',\n      'advViewFlag': False,\n      'topJob': False,\n      'refreshTime': '20231121155117',\n      'dq': '广州-海珠区',\n      'title': '效果广告策划总监/副总监',\n      'jobId': '50867443',\n      'jobKind': '1',\n      'salary': '25-35k·14薪',\n      'requireWorkYears': '3-5年',\n      'requireEduLevel': '统招本科',\n      'dataPromId': 'd_sfrom=search_prime&d_ckId=null&d_curPage=0&d_pageSize=40&d_headId=null&d_posi=5&skId=h2c8pxojavrmo1w785z7ueih2ybfpux8&fkId=h2c8pxojavrmo1w785z7ueih2ybfpux8&ckId=h2c8pxojavrmo1w785z7ueih2ybfpux8&sfrom=search_job_pc&curPage=0&pageSize=40&index=5'},\n     'recruiter': {'imId': '8d4ad73c6d76e6772982e990dc084411',\n      'imUserType': '2',\n      'chatted': False,\n      'recruiterName': '叶先生',\n      'recruiterTitle': '猎头顾问',\n      'recruiterId': '91f839d99658b01810e1c1413ce5dfb1',\n      'recruiterPhoto': '5f8fa3a679c7cc70efbf444e08u.png'},\n     'comp': {'link': '',\n      'compScale': '2000-5000人',\n      'compName': '某知名公司',\n      'compIndustry': '广告/公关/会展',\n      'compStage': '已上市',\n      'compLogo': '60e2fe0bf3df194a3c48adb502u.png'},\n     'dataInfo': '%7B%22ckId%22%3A%22h2c8pxojavrmo1w785z7ueih2ybfpux8%22%2C%22scene%22%3A%22input%22%2C%22pageSize%22%3A%2240%22%2C%22curPage%22%3A%220%22%2C%22skId%22%3A%22h2c8pxojavrmo1w785z7ueih2ybfpux8%22%2C%22fkId%22%3A%22h2c8pxojavrmo1w785z7ueih2ybfpux8%22%2C%22sfrom%22%3A%22search_job_pc%22%2C%22jobId%22%3A%2250867443%22%2C%22jobKind%22%3A%221%22%2C%22d_curPage%22%3A%220%22%2C%22d_pageSize%22%3A%2240%22%2C%22as_from%22%3A%22search_prime%22%7D',\n     'dataParams': '{\"imId\":\"8d4ad73c6d76e6772982e990dc084411\",\"imUserType\":\"2\",\"jobId\":\"50867443\",\"jobKind\":\"1\",\"recruiterName\":\"叶先生\",\"userId\":\"91f839d99658b01810e1c1413ce5dfb1\",\"recruiterPhoto\":\"5f8fa3a679c7cc70efbf444e08u.png\"}'},\n    {'job': {'labels': ['文案策划', '广告/传媒/文化'],\n      'link': 'https://www.liepin.com/job/1960498013.shtml',\n      'advViewFlag': False,\n      'topJob': False,\n      'refreshTime': '20231110112859',\n      'dq': '广州-天河区',\n      'title': '广告策划经理',\n      'jobId': '60498013',\n      'jobKind': '2',\n      'salary': '15-22k',\n      'requireWorkYears': '3-5年',\n      'requireEduLevel': '本科',\n      'pcOuterLink': '',\n      'h5OuterLink': '',\n      'dataPromId': 'd_sfrom=search_prime&d_ckId=null&d_curPage=0&d_pageSize=40&d_headId=null&d_posi=6&skId=h2c8pxojavrmo1w785z7ueih2ybfpux8&fkId=h2c8pxojavrmo1w785z7ueih2ybfpux8&ckId=h2c8pxojavrmo1w785z7ueih2ybfpux8&sfrom=search_job_pc&curPage=0&pageSize=40&index=6'},\n     'recruiter': {'imId': '9e7f8f09f578155a6cdb271ea7541165',\n      'imUserType': '2',\n      'chatted': False,\n      'recruiterName': '卢女士',\n      'recruiterTitle': 'HRBP',\n      'recruiterId': '5dad70ae9e9d328fabb7a5055b177b20',\n      'recruiterPhoto': '64c72b232dd043653af17f1a04u.png'},\n     'comp': {'link': 'https://www.liepin.com/company/13614635/',\n      'compScale': '100-499人',\n      'compName': '广州华拓全链品效数字营销有限公司',\n      'compId': 13614635,\n      'compIndustry': '广告/公关/会展',\n      'compLogo': '61b07937d0458d53c627567e02u.jpg'},\n     'dataInfo': '%7B%22ckId%22%3A%22h2c8pxojavrmo1w785z7ueih2ybfpux8%22%2C%22scene%22%3A%22input%22%2C%22pageSize%22%3A%2240%22%2C%22curPage%22%3A%220%22%2C%22skId%22%3A%22h2c8pxojavrmo1w785z7ueih2ybfpux8%22%2C%22fkId%22%3A%22h2c8pxojavrmo1w785z7ueih2ybfpux8%22%2C%22sfrom%22%3A%22search_job_pc%22%2C%22jobId%22%3A%2260498013%22%2C%22jobKind%22%3A%222%22%2C%22d_curPage%22%3A%220%22%2C%22d_pageSize%22%3A%2240%22%2C%22as_from%22%3A%22search_prime%22%7D',\n     'dataParams': '{\"imId\":\"9e7f8f09f578155a6cdb271ea7541165\",\"imUserType\":\"2\",\"jobId\":\"60498013\",\"jobKind\":\"2\",\"recruiterName\":\"卢女士\",\"userId\":\"5dad70ae9e9d328fabb7a5055b177b20\",\"recruiterPhoto\":\"64c72b232dd043653af17f1a04u.png\"}'},\n    {'job': {'labels': ['媒介策划',\n       '市场策划',\n       '企业策划',\n       '新媒体策划',\n       '网站策划',\n       '广告策划',\n       '新媒体',\n       '广告媒介',\n       '网络媒体',\n       '广告/传媒/文化'],\n      'link': 'https://www.liepin.com/job/1961829817.shtml',\n      'advViewFlag': False,\n      'topJob': False,\n      'refreshTime': '20231027101301',\n      'dq': '广州-海珠区',\n      'title': '广告策划总监',\n      'jobId': '61829817',\n      'jobKind': '2',\n      'salary': '25-40k',\n      'requireWorkYears': '5-10年',\n      'requireEduLevel': '本科',\n      'pcOuterLink': '',\n      'h5OuterLink': '',\n      'dataPromId': 'd_sfrom=search_prime&d_ckId=null&d_curPage=0&d_pageSize=40&d_headId=null&d_posi=7&skId=h2c8pxojavrmo1w785z7ueih2ybfpux8&fkId=h2c8pxojavrmo1w785z7ueih2ybfpux8&ckId=h2c8pxojavrmo1w785z7ueih2ybfpux8&sfrom=search_job_pc&curPage=0&pageSize=40&index=7'},\n     'recruiter': {'imId': 'a99adb50272a9bdc5eb8013476205931',\n      'imUserType': '2',\n      'chatted': False,\n      'recruiterName': '谢女士',\n      'recruiterTitle': '',\n      'recruiterId': '2eac08f064d92d3b0e888bc0b643f089',\n      'recruiterPhoto': '5f8f9866dfb13a7dee342f1808u.jpg'},\n     'comp': {'link': 'https://www.liepin.com/company/12624471/',\n      'compScale': '5000-10000人',\n      'compName': '合景悠活控股集团',\n      'compId': 12624471,\n      'compIndustry': '房地产租赁/中介',\n      'compStage': '港股上市',\n      'compLogo': '61026bef5a6bd4512c214a2f04u.png'},\n     'dataInfo': '%7B%22ckId%22%3A%22h2c8pxojavrmo1w785z7ueih2ybfpux8%22%2C%22scene%22%3A%22input%22%2C%22pageSize%22%3A%2240%22%2C%22curPage%22%3A%220%22%2C%22skId%22%3A%22h2c8pxojavrmo1w785z7ueih2ybfpux8%22%2C%22fkId%22%3A%22h2c8pxojavrmo1w785z7ueih2ybfpux8%22%2C%22sfrom%22%3A%22search_job_pc%22%2C%22jobId%22%3A%2261829817%22%2C%22jobKind%22%3A%222%22%2C%22d_curPage%22%3A%220%22%2C%22d_pageSize%22%3A%2240%22%2C%22as_from%22%3A%22search_prime%22%7D',\n     'dataParams': '{\"imId\":\"a99adb50272a9bdc5eb8013476205931\",\"imUserType\":\"2\",\"jobId\":\"61829817\",\"jobKind\":\"2\",\"recruiterName\":\"谢女士\",\"userId\":\"2eac08f064d92d3b0e888bc0b643f089\",\"recruiterPhoto\":\"5f8f9866dfb13a7dee342f1808u.jpg\"}'},\n    {'job': {'labels': ['效果策划', '品效营销'],\n      'link': 'https://www.liepin.com/a/50676955.shtml',\n      'advViewFlag': False,\n      'topJob': False,\n      'refreshTime': '20231108100152',\n      'dq': '广州-海珠区',\n      'title': '效果广告策划',\n      'jobId': '50676955',\n      'jobKind': '1',\n      'salary': '16-25k',\n      'requireWorkYears': '1-3年',\n      'requireEduLevel': '本科',\n      'dataPromId': 'd_sfrom=search_prime&d_ckId=null&d_curPage=0&d_pageSize=40&d_headId=null&d_posi=8&skId=h2c8pxojavrmo1w785z7ueih2ybfpux8&fkId=h2c8pxojavrmo1w785z7ueih2ybfpux8&ckId=h2c8pxojavrmo1w785z7ueih2ybfpux8&sfrom=search_job_pc&curPage=0&pageSize=40&index=8'},\n     'recruiter': {'imId': '14602c26f101ed30d3a0457e92ea9bdb',\n      'imUserType': '2',\n      'chatted': False,\n      'recruiterName': '何欣欣',\n      'recruiterTitle': '猎头顾问',\n      'recruiterId': '7ca4d158fbff86df96cca59a97855826',\n      'recruiterPhoto': '65420422bc3ef94755abec3d04u.png'},\n     'comp': {'link': '',\n      'compScale': '2000-5000人',\n      'compName': '某广告/公关/会展公司',\n      'compIndustry': '广告/公关/会展',\n      'compStage': '已上市',\n      'compLogo': '60e2fe0bf3df194a3c48adb502u.png'},\n     'dataInfo': '%7B%22ckId%22%3A%22h2c8pxojavrmo1w785z7ueih2ybfpux8%22%2C%22scene%22%3A%22input%22%2C%22pageSize%22%3A%2240%22%2C%22curPage%22%3A%220%22%2C%22skId%22%3A%22h2c8pxojavrmo1w785z7ueih2ybfpux8%22%2C%22fkId%22%3A%22h2c8pxojavrmo1w785z7ueih2ybfpux8%22%2C%22sfrom%22%3A%22search_job_pc%22%2C%22jobId%22%3A%2250676955%22%2C%22jobKind%22%3A%221%22%2C%22d_curPage%22%3A%220%22%2C%22d_pageSize%22%3A%2240%22%2C%22as_from%22%3A%22search_prime%22%7D',\n     'dataParams': '{\"imId\":\"14602c26f101ed30d3a0457e92ea9bdb\",\"imUserType\":\"2\",\"jobId\":\"50676955\",\"jobKind\":\"1\",\"recruiterName\":\"何欣欣\",\"userId\":\"7ca4d158fbff86df96cca59a97855826\",\"recruiterPhoto\":\"65420422bc3ef94755abec3d04u.png\"}'},\n    {'job': {'labels': ['文案策划', '云计算/大数据'],\n      'link': 'https://www.liepin.com/a/50949115.shtml',\n      'advViewFlag': False,\n      'topJob': False,\n      'refreshTime': '20231127102524',\n      'dq': '广州-海珠区',\n      'title': '效果广告策划 年薪35-45万',\n      'jobId': '50949115',\n      'jobKind': '1',\n      'salary': '25-30k·14薪',\n      'requireWorkYears': '3-5年',\n      'requireEduLevel': '统招本科',\n      'dataPromId': 'd_sfrom=search_prime&d_ckId=null&d_curPage=0&d_pageSize=40&d_headId=null&d_posi=9&skId=h2c8pxojavrmo1w785z7ueih2ybfpux8&fkId=h2c8pxojavrmo1w785z7ueih2ybfpux8&ckId=h2c8pxojavrmo1w785z7ueih2ybfpux8&sfrom=search_job_pc&curPage=0&pageSize=40&index=9'},\n     'recruiter': {'imId': '49bbccc5d13d6dc12982e990dc084411',\n      'imUserType': '2',\n      'chatted': False,\n      'recruiterName': '马女士',\n      'recruiterTitle': '猎头顾问',\n      'recruiterId': '3bf3740b3c476b8c04f5795d713b6a57',\n      'recruiterPhoto': '5ed8b4ba15b5366045d12dd105u.jpg'},\n     'comp': {'link': '',\n      'compScale': '2000-5000人',\n      'compName': '某广州广告/公关/会展上市公司',\n      'compIndustry': '广告/公关/会展',\n      'compStage': '已上市',\n      'compLogo': '60e2fe0bf3df194a3c48adb502u.png'},\n     'dataInfo': '%7B%22ckId%22%3A%22h2c8pxojavrmo1w785z7ueih2ybfpux8%22%2C%22scene%22%3A%22input%22%2C%22pageSize%22%3A%2240%22%2C%22curPage%22%3A%220%22%2C%22skId%22%3A%22h2c8pxojavrmo1w785z7ueih2ybfpux8%22%2C%22fkId%22%3A%22h2c8pxojavrmo1w785z7ueih2ybfpux8%22%2C%22sfrom%22%3A%22search_job_pc%22%2C%22jobId%22%3A%2250949115%22%2C%22jobKind%22%3A%221%22%2C%22d_curPage%22%3A%220%22%2C%22d_pageSize%22%3A%2240%22%2C%22as_from%22%3A%22search_prime%22%7D',\n     'dataParams': '{\"imId\":\"49bbccc5d13d6dc12982e990dc084411\",\"imUserType\":\"2\",\"jobId\":\"50949115\",\"jobKind\":\"1\",\"recruiterName\":\"马女士\",\"userId\":\"3bf3740b3c476b8c04f5795d713b6a57\",\"recruiterPhoto\":\"5ed8b4ba15b5366045d12dd105u.jpg\"}'},\n    {'job': {'labels': ['短视频策划', '媒介策划', '广告策划', '营销策划', '广告/传媒/文化'],\n      'link': 'https://www.liepin.com/a/49742691.shtml',\n      'advViewFlag': False,\n      'topJob': False,\n      'refreshTime': '20231121134259',\n      'dq': '广州',\n      'title': '广告策划经理',\n      'jobId': '49742691',\n      'jobKind': '1',\n      'salary': '10-15k·13薪',\n      'requireWorkYears': '1-3年',\n      'requireEduLevel': '统招本科',\n      'dataPromId': 'd_sfrom=search_prime&d_ckId=null&d_curPage=0&d_pageSize=40&d_headId=null&d_posi=10&skId=h2c8pxojavrmo1w785z7ueih2ybfpux8&fkId=h2c8pxojavrmo1w785z7ueih2ybfpux8&ckId=h2c8pxojavrmo1w785z7ueih2ybfpux8&sfrom=search_job_pc&curPage=0&pageSize=40&index=10'},\n     'recruiter': {'imId': '1ea5a0993d3cd147540202c0778f1521',\n      'imUserType': '2',\n      'chatted': False,\n      'recruiterName': '曹先生',\n      'recruiterTitle': '猎头顾问',\n      'recruiterId': 'bc5aeb6fbe53ec20a08be7d47ba8d3cf',\n      'recruiterPhoto': '5f8fa3a679c7cc70efbf444e08u.png'},\n     'comp': {'link': '',\n      'compScale': '500-999人',\n      'compName': '某广告/公关/会展公司',\n      'compIndustry': '广告/公关/会展',\n      'compStage': '融资未公开',\n      'compLogo': '60e2fe0bf3df194a3c48adb502u.png'},\n     'dataInfo': '%7B%22ckId%22%3A%22h2c8pxojavrmo1w785z7ueih2ybfpux8%22%2C%22scene%22%3A%22input%22%2C%22pageSize%22%3A%2240%22%2C%22curPage%22%3A%220%22%2C%22skId%22%3A%22h2c8pxojavrmo1w785z7ueih2ybfpux8%22%2C%22fkId%22%3A%22h2c8pxojavrmo1w785z7ueih2ybfpux8%22%2C%22sfrom%22%3A%22search_job_pc%22%2C%22jobId%22%3A%2249742691%22%2C%22jobKind%22%3A%221%22%2C%22d_curPage%22%3A%220%22%2C%22d_pageSize%22%3A%2240%22%2C%22as_from%22%3A%22search_prime%22%7D',\n     'dataParams': '{\"imId\":\"1ea5a0993d3cd147540202c0778f1521\",\"imUserType\":\"2\",\"jobId\":\"49742691\",\"jobKind\":\"1\",\"recruiterName\":\"曹先生\",\"userId\":\"bc5aeb6fbe53ec20a08be7d47ba8d3cf\",\"recruiterPhoto\":\"5f8fa3a679c7cc70efbf444e08u.png\"}'},\n    {'job': {'labels': ['快消品',\n       '广告策划',\n       '文案策划',\n       '营销策划',\n       '4A公司背景',\n       '乙方公司背景',\n       '大客户',\n       'to B',\n       '广告/传媒/文化'],\n      'link': 'https://www.liepin.com/job/1953412179.shtml',\n      'advViewFlag': False,\n      'topJob': False,\n      'refreshTime': '20230911204408',\n      'dq': '广州-天河区',\n      'title': '广告策划总监',\n      'jobId': '53412179',\n      'jobKind': '2',\n      'salary': '18-25k',\n      'requireWorkYears': '5-10年',\n      'requireEduLevel': '本科',\n      'pcOuterLink': '',\n      'h5OuterLink': '',\n      'dataPromId': 'd_sfrom=search_prime&d_ckId=null&d_curPage=0&d_pageSize=40&d_headId=null&d_posi=11&skId=h2c8pxojavrmo1w785z7ueih2ybfpux8&fkId=h2c8pxojavrmo1w785z7ueih2ybfpux8&ckId=h2c8pxojavrmo1w785z7ueih2ybfpux8&sfrom=search_job_pc&curPage=0&pageSize=40&index=11'},\n     'recruiter': {'imId': '9a0a8a3c4b8baaa071de52c3bc0b6279',\n      'imUserType': '2',\n      'chatted': False,\n      'recruiterName': '林女士',\n      'recruiterTitle': '高级招聘专员',\n      'recruiterId': 'bef248641c66d93a77ef0dfa1713ba30',\n      'recruiterPhoto': '5f8f9865ea60860b75384fa508u.jpg'},\n     'comp': {'link': 'https://www.liepin.com/company/8521096/',\n      'compScale': '1000-2000人',\n      'compName': '凡拓数创',\n      'compId': 8521096,\n      'compIndustry': '计算机软件',\n      'compStage': '沪深A股上市',\n      'compLogo': '5bfe9d7774719d2aa34b638903a.png'},\n     'dataInfo': '%7B%22ckId%22%3A%22h2c8pxojavrmo1w785z7ueih2ybfpux8%22%2C%22scene%22%3A%22input%22%2C%22pageSize%22%3A%2240%22%2C%22curPage%22%3A%220%22%2C%22skId%22%3A%22h2c8pxojavrmo1w785z7ueih2ybfpux8%22%2C%22fkId%22%3A%22h2c8pxojavrmo1w785z7ueih2ybfpux8%22%2C%22sfrom%22%3A%22search_job_pc%22%2C%22jobId%22%3A%2253412179%22%2C%22jobKind%22%3A%222%22%2C%22d_curPage%22%3A%220%22%2C%22d_pageSize%22%3A%2240%22%2C%22as_from%22%3A%22search_prime%22%7D',\n     'dataParams': '{\"imId\":\"9a0a8a3c4b8baaa071de52c3bc0b6279\",\"imUserType\":\"2\",\"jobId\":\"53412179\",\"jobKind\":\"2\",\"recruiterName\":\"林女士\",\"userId\":\"bef248641c66d93a77ef0dfa1713ba30\",\"recruiterPhoto\":\"5f8f9865ea60860b75384fa508u.jpg\"}'},\n    {'job': {'labels': ['品牌策划', '营销策划', '广告/传媒/文化', '电子商务'],\n      'link': 'https://www.liepin.com/job/1962441395.shtml',\n      'advViewFlag': False,\n      'topJob': False,\n      'refreshTime': '20231024174000',\n      'dq': '广州-番禺区',\n      'title': '广告策划总监（酒水/汽车）',\n      'jobId': '62441395',\n      'jobKind': '2',\n      'salary': '20-35k',\n      'requireWorkYears': '5-10年',\n      'requireEduLevel': '本科',\n      'pcOuterLink': '',\n      'h5OuterLink': '',\n      'dataPromId': 'd_sfrom=search_prime&d_ckId=null&d_curPage=0&d_pageSize=40&d_headId=null&d_posi=12&skId=h2c8pxojavrmo1w785z7ueih2ybfpux8&fkId=h2c8pxojavrmo1w785z7ueih2ybfpux8&ckId=h2c8pxojavrmo1w785z7ueih2ybfpux8&sfrom=search_job_pc&curPage=0&pageSize=40&index=12'},\n     'recruiter': {'imId': '1685fa44f415eac713dd84912f51618a',\n      'imUserType': '2',\n      'chatted': False,\n      'recruiterName': '王女士',\n      'recruiterTitle': '人力资源副经理',\n      'recruiterId': 'dea0955a315e8f15c4a37cc021205894',\n      'recruiterPhoto': '5f8f98648dbe6273dcf8515508u.jpg'},\n     'comp': {'link': 'https://www.liepin.com/company/9146475/',\n      'compScale': '100-499人',\n      'compName': '广东因赛品牌营销集团股份有限公司',\n      'compId': 9146475,\n      'compIndustry': '广告/公关/会展',\n      'compStage': '沪深A股上市',\n      'compLogo': '5bfe9d9f74719d2aa34b6af203a.png'},\n     'dataInfo': '%7B%22ckId%22%3A%22h2c8pxojavrmo1w785z7ueih2ybfpux8%22%2C%22scene%22%3A%22input%22%2C%22pageSize%22%3A%2240%22%2C%22curPage%22%3A%220%22%2C%22skId%22%3A%22h2c8pxojavrmo1w785z7ueih2ybfpux8%22%2C%22fkId%22%3A%22h2c8pxojavrmo1w785z7ueih2ybfpux8%22%2C%22sfrom%22%3A%22search_job_pc%22%2C%22jobId%22%3A%2262441395%22%2C%22jobKind%22%3A%222%22%2C%22d_curPage%22%3A%220%22%2C%22d_pageSize%22%3A%2240%22%2C%22as_from%22%3A%22search_prime%22%7D',\n     'dataParams': '{\"imId\":\"1685fa44f415eac713dd84912f51618a\",\"imUserType\":\"2\",\"jobId\":\"62441395\",\"jobKind\":\"2\",\"recruiterName\":\"王女士\",\"userId\":\"dea0955a315e8f15c4a37cc021205894\",\"recruiterPhoto\":\"5f8f98648dbe6273dcf8515508u.jpg\"}'},\n    {'job': {'labels': ['to B',\n       '大客户',\n       '甲方公司背景',\n       '乙方公司背景',\n       '4A公司背景',\n       '广告策划',\n       '品牌策划',\n       '营销策划',\n       '3c'],\n      'link': 'https://www.liepin.com/job/1960666761.shtml',\n      'advViewFlag': False,\n      'topJob': False,\n      'refreshTime': '20230809120542',\n      'dq': '广州-天河区',\n      'title': '资深广告策划-3c行业',\n      'jobId': '60666761',\n      'jobKind': '2',\n      'salary': '25-50k·13薪',\n      'requireWorkYears': '5-10年',\n      'requireEduLevel': '统招本科',\n      'pcOuterLink': '',\n      'h5OuterLink': '',\n      'dataPromId': 'd_sfrom=search_prime&d_ckId=null&d_curPage=0&d_pageSize=40&d_headId=null&d_posi=13&skId=h2c8pxojavrmo1w785z7ueih2ybfpux8&fkId=h2c8pxojavrmo1w785z7ueih2ybfpux8&ckId=h2c8pxojavrmo1w785z7ueih2ybfpux8&sfrom=search_job_pc&curPage=0&pageSize=40&index=13'},\n     'recruiter': {'imId': '487e1777475ee6d4f1a24835218174fd',\n      'imUserType': '2',\n      'chatted': False,\n      'recruiterName': '关女士',\n      'recruiterTitle': 'hr',\n      'recruiterId': '4f6d68288e33570cec48e2e1666ec755',\n      'recruiterPhoto': '5f8f9865ea60860b75384fa508u.jpg'},\n     'comp': {'link': 'https://www.liepin.com/company/7921271/',\n      'compScale': '1000-2000人',\n      'compName': '小红书',\n      'compId': 7921271,\n      'compIndustry': '互联网',\n      'compStage': 'D轮',\n      'compLogo': '5952248270327b30a4cc59d605a.jpg'},\n     'dataInfo': '%7B%22ckId%22%3A%22h2c8pxojavrmo1w785z7ueih2ybfpux8%22%2C%22scene%22%3A%22input%22%2C%22pageSize%22%3A%2240%22%2C%22curPage%22%3A%220%22%2C%22skId%22%3A%22h2c8pxojavrmo1w785z7ueih2ybfpux8%22%2C%22fkId%22%3A%22h2c8pxojavrmo1w785z7ueih2ybfpux8%22%2C%22sfrom%22%3A%22search_job_pc%22%2C%22jobId%22%3A%2260666761%22%2C%22jobKind%22%3A%222%22%2C%22d_curPage%22%3A%220%22%2C%22d_pageSize%22%3A%2240%22%2C%22as_from%22%3A%22search_prime%22%7D',\n     'dataParams': '{\"imId\":\"487e1777475ee6d4f1a24835218174fd\",\"imUserType\":\"2\",\"jobId\":\"60666761\",\"jobKind\":\"2\",\"recruiterName\":\"关女士\",\"userId\":\"4f6d68288e33570cec48e2e1666ec755\",\"recruiterPhoto\":\"5f8f9865ea60860b75384fa508u.jpg\"}'},\n    {'job': {'labels': ['文案策划'],\n      'link': 'https://www.liepin.com/job/1959866331.shtml',\n      'advViewFlag': False,\n      'topJob': False,\n      'refreshTime': '20230711172239',\n      'dq': '广州-海珠区',\n      'title': '效果广告策划',\n      'jobId': '59866331',\n      'jobKind': '2',\n      'salary': '11-25k',\n      'requireWorkYears': '1-3年',\n      'requireEduLevel': '统招本科',\n      'pcOuterLink': '',\n      'h5OuterLink': '',\n      'dataPromId': 'd_sfrom=search_prime&d_ckId=null&d_curPage=0&d_pageSize=40&d_headId=null&d_posi=14&skId=h2c8pxojavrmo1w785z7ueih2ybfpux8&fkId=h2c8pxojavrmo1w785z7ueih2ybfpux8&ckId=h2c8pxojavrmo1w785z7ueih2ybfpux8&sfrom=search_job_pc&curPage=0&pageSize=40&index=14'},\n     'recruiter': {'imId': '2bd6542b989e5c5634bd6f8976dce95b',\n      'imUserType': '2',\n      'chatted': False,\n      'recruiterName': '郑女士',\n      'recruiterTitle': 'HRBP主管',\n      'recruiterId': '474a6b94b1c394bdef84b03da031c632',\n      'recruiterPhoto': '64a7686ca12f6d355e98637107u.png'},\n     'comp': {'link': 'https://www.liepin.com/company/1054367/',\n      'compScale': '2000-5000人',\n      'compName': '省广集团',\n      'compId': 1054367,\n      'compIndustry': '广告/公关/会展',\n      'compStage': '沪深A股上市',\n      'compLogo': '5d803842d0e79f08cffdfb2208u.png'},\n     'dataInfo': '%7B%22ckId%22%3A%22h2c8pxojavrmo1w785z7ueih2ybfpux8%22%2C%22scene%22%3A%22input%22%2C%22pageSize%22%3A%2240%22%2C%22curPage%22%3A%220%22%2C%22skId%22%3A%22h2c8pxojavrmo1w785z7ueih2ybfpux8%22%2C%22fkId%22%3A%22h2c8pxojavrmo1w785z7ueih2ybfpux8%22%2C%22sfrom%22%3A%22search_job_pc%22%2C%22jobId%22%3A%2259866331%22%2C%22jobKind%22%3A%222%22%2C%22d_curPage%22%3A%220%22%2C%22d_pageSize%22%3A%2240%22%2C%22as_from%22%3A%22search_prime%22%7D',\n     'dataParams': '{\"imId\":\"2bd6542b989e5c5634bd6f8976dce95b\",\"imUserType\":\"2\",\"jobId\":\"59866331\",\"jobKind\":\"2\",\"recruiterName\":\"郑女士\",\"userId\":\"474a6b94b1c394bdef84b03da031c632\",\"recruiterPhoto\":\"64a7686ca12f6d355e98637107u.png\"}'},\n    {'job': {'labels': [],\n      'link': 'https://www.liepin.com/job/1939032283.shtml',\n      'advViewFlag': False,\n      'topJob': False,\n      'refreshTime': '20230728105420',\n      'dq': '广州',\n      'title': '广告策划经理-广州',\n      'jobId': '39032283',\n      'jobKind': '2',\n      'salary': '10-15k',\n      'requireWorkYears': '5-10年',\n      'requireEduLevel': '本科',\n      'pcOuterLink': '',\n      'h5OuterLink': '',\n      'dataPromId': 'd_sfrom=search_prime&d_ckId=null&d_curPage=0&d_pageSize=40&d_headId=null&d_posi=15&skId=h2c8pxojavrmo1w785z7ueih2ybfpux8&fkId=h2c8pxojavrmo1w785z7ueih2ybfpux8&ckId=h2c8pxojavrmo1w785z7ueih2ybfpux8&sfrom=search_job_pc&curPage=0&pageSize=40&index=15'},\n     'recruiter': {'imId': '87cc2579d2e614a54a7a04e7d95591ea',\n      'imUserType': '2',\n      'chatted': False,\n      'recruiterName': '梁女士',\n      'recruiterTitle': '人力资源伙伴(HRBP)',\n      'recruiterId': '82ca2fafcee6f5a5185a3441d89c5d70',\n      'recruiterPhoto': '5f8f98648dbe6273dcf8515508u.jpg'},\n     'comp': {'link': 'https://www.liepin.com/company/1054367/',\n      'compScale': '2000-5000人',\n      'compName': '省广集团',\n      'compId': 1054367,\n      'compIndustry': '广告/公关/会展',\n      'compStage': '沪深A股上市',\n      'compLogo': '5d803842d0e79f08cffdfb2208u.png'},\n     'dataInfo': '%7B%22ckId%22%3A%22h2c8pxojavrmo1w785z7ueih2ybfpux8%22%2C%22scene%22%3A%22input%22%2C%22pageSize%22%3A%2240%22%2C%22curPage%22%3A%220%22%2C%22skId%22%3A%22h2c8pxojavrmo1w785z7ueih2ybfpux8%22%2C%22fkId%22%3A%22h2c8pxojavrmo1w785z7ueih2ybfpux8%22%2C%22sfrom%22%3A%22search_job_pc%22%2C%22jobId%22%3A%2239032283%22%2C%22jobKind%22%3A%222%22%2C%22d_curPage%22%3A%220%22%2C%22d_pageSize%22%3A%2240%22%2C%22as_from%22%3A%22search_prime%22%7D',\n     'dataParams': '{\"imId\":\"87cc2579d2e614a54a7a04e7d95591ea\",\"imUserType\":\"2\",\"jobId\":\"39032283\",\"jobKind\":\"2\",\"recruiterName\":\"梁女士\",\"userId\":\"82ca2fafcee6f5a5185a3441d89c5d70\",\"recruiterPhoto\":\"5f8f98648dbe6273dcf8515508u.jpg\"}'},\n    {'job': {'labels': [],\n      'link': 'https://www.liepin.com/job/1957755785.shtml',\n      'advViewFlag': False,\n      'topJob': False,\n      'refreshTime': '20231201170635',\n      'dq': '广州-海珠区',\n      'title': '视频广告策划/编导（产品视频方向）',\n      'jobId': '57755785',\n      'jobKind': '2',\n      'salary': '8-12k·13薪',\n      'requireWorkYears': '1-3年',\n      'requireEduLevel': '本科',\n      'pcOuterLink': '',\n      'h5OuterLink': '',\n      'dataPromId': 'd_sfrom=search_prime&d_ckId=null&d_curPage=0&d_pageSize=40&d_headId=null&d_posi=16&skId=h2c8pxojavrmo1w785z7ueih2ybfpux8&fkId=h2c8pxojavrmo1w785z7ueih2ybfpux8&ckId=h2c8pxojavrmo1w785z7ueih2ybfpux8&sfrom=search_job_pc&curPage=0&pageSize=40&index=16'},\n     'recruiter': {'imId': 'c4711d22f4ee2851b134787ef53b847e',\n      'imUserType': '2',\n      'chatted': False,\n      'recruiterName': '石女士',\n      'recruiterTitle': '行政人事',\n      'recruiterId': '240115ebd80e209836afa260374a9d4b',\n      'recruiterPhoto': '643684c2b39cd53e5a8a7a7401u.jpeg'},\n     'comp': {'link': 'https://www.liepin.com/company/13504625/',\n      'compScale': '1-49人',\n      'compName': '广州三拾传媒有限公司',\n      'compId': 13504625,\n      'compIndustry': '广播/影视/录音',\n      'compLogo': '61b07937d0458d53c627567e02u.jpg'},\n     'dataInfo': '%7B%22ckId%22%3A%22h2c8pxojavrmo1w785z7ueih2ybfpux8%22%2C%22scene%22%3A%22input%22%2C%22pageSize%22%3A%2240%22%2C%22curPage%22%3A%220%22%2C%22skId%22%3A%22h2c8pxojavrmo1w785z7ueih2ybfpux8%22%2C%22fkId%22%3A%22h2c8pxojavrmo1w785z7ueih2ybfpux8%22%2C%22sfrom%22%3A%22search_job_pc%22%2C%22jobId%22%3A%2257755785%22%2C%22jobKind%22%3A%222%22%2C%22d_curPage%22%3A%220%22%2C%22d_pageSize%22%3A%2240%22%2C%22as_from%22%3A%22search_prime%22%7D',\n     'dataParams': '{\"imId\":\"c4711d22f4ee2851b134787ef53b847e\",\"imUserType\":\"2\",\"jobId\":\"57755785\",\"jobKind\":\"2\",\"recruiterName\":\"石女士\",\"userId\":\"240115ebd80e209836afa260374a9d4b\",\"recruiterPhoto\":\"643684c2b39cd53e5a8a7a7401u.jpeg\"}'},\n    {'job': {'labels': ['销售培训', '广告业', '市场洞察', '客户管理', '广告营销', '广告行业'],\n      'link': 'https://www.liepin.com/job/1953722501.shtml',\n      'advViewFlag': False,\n      'topJob': False,\n      'refreshTime': '20230628111904',\n      'dq': '广州-海珠区',\n      'title': '媒介广告策划经理',\n      'jobId': '53722501',\n      'jobKind': '2',\n      'salary': '10-15k',\n      'requireWorkYears': '3-5年',\n      'requireEduLevel': '本科',\n      'pcOuterLink': '',\n      'h5OuterLink': '',\n      'dataPromId': 'd_sfrom=search_prime&d_ckId=null&d_curPage=0&d_pageSize=40&d_headId=null&d_posi=17&skId=h2c8pxojavrmo1w785z7ueih2ybfpux8&fkId=h2c8pxojavrmo1w785z7ueih2ybfpux8&ckId=h2c8pxojavrmo1w785z7ueih2ybfpux8&sfrom=search_job_pc&curPage=0&pageSize=40&index=17'},\n     'recruiter': {'imId': '34cfbf1c4d41b8b2e37b0b202b2adc1c',\n      'imUserType': '2',\n      'chatted': False,\n      'recruiterName': '刘女士',\n      'recruiterTitle': '咨询热线/呼叫中心服务人员',\n      'recruiterId': '8440880668d1cc38754579393ab7befe',\n      'recruiterPhoto': '61b1a4569429d8575917bd4807u.jpg'},\n     'comp': {'link': 'https://www.liepin.com/company/10170553/',\n      'compScale': '100-499人',\n      'compName': '广州携旅信息科技有限公司',\n      'compId': 10170553,\n      'compIndustry': '计算机软件',\n      'compStage': 'B轮',\n      'compLogo': '6055cb920162a52b2c4f573307u.png'},\n     'dataInfo': '%7B%22ckId%22%3A%22h2c8pxojavrmo1w785z7ueih2ybfpux8%22%2C%22scene%22%3A%22input%22%2C%22pageSize%22%3A%2240%22%2C%22curPage%22%3A%220%22%2C%22skId%22%3A%22h2c8pxojavrmo1w785z7ueih2ybfpux8%22%2C%22fkId%22%3A%22h2c8pxojavrmo1w785z7ueih2ybfpux8%22%2C%22sfrom%22%3A%22search_job_pc%22%2C%22jobId%22%3A%2253722501%22%2C%22jobKind%22%3A%222%22%2C%22d_curPage%22%3A%220%22%2C%22d_pageSize%22%3A%2240%22%2C%22as_from%22%3A%22search_prime%22%7D',\n     'dataParams': '{\"imId\":\"34cfbf1c4d41b8b2e37b0b202b2adc1c\",\"imUserType\":\"2\",\"jobId\":\"53722501\",\"jobKind\":\"2\",\"recruiterName\":\"刘女士\",\"userId\":\"8440880668d1cc38754579393ab7befe\",\"recruiterPhoto\":\"61b1a4569429d8575917bd4807u.jpg\"}'},\n    {'job': {'labels': ['广告文案', '品牌文案', '视频文案', '创意策划', '品牌营销'],\n      'link': 'https://www.liepin.com/job/1939520923.shtml',\n      'advViewFlag': False,\n      'topJob': False,\n      'refreshTime': '20220727162937',\n      'dq': '广州',\n      'title': '广告策划',\n      'jobId': '39520923',\n      'jobKind': '2',\n      'salary': '8-12k',\n      'requireWorkYears': '1-3年',\n      'requireEduLevel': '本科',\n      'pcOuterLink': '',\n      'h5OuterLink': '',\n      'dataPromId': 'd_sfrom=search_prime&d_ckId=null&d_curPage=0&d_pageSize=40&d_headId=null&d_posi=18&skId=h2c8pxojavrmo1w785z7ueih2ybfpux8&fkId=h2c8pxojavrmo1w785z7ueih2ybfpux8&ckId=h2c8pxojavrmo1w785z7ueih2ybfpux8&sfrom=search_job_pc&curPage=0&pageSize=40&index=18'},\n     'recruiter': {'imId': '2025d357b5543e0971de52c3bc0b6279',\n      'imUserType': '2',\n      'chatted': False,\n      'recruiterName': '陈女士',\n      'recruiterTitle': '人事经理',\n      'recruiterId': 'd72d5d3dd73987f52e39101ba8e07d3c',\n      'recruiterPhoto': '603605d97c8d9149327848f405u.png'},\n     'comp': {'link': 'https://www.liepin.com/company/12576517/',\n      'compScale': '1-49人',\n      'compName': '广州守腾网络科技有限公司',\n      'compId': 12576517,\n      'compStage': '融资未公开',\n      'compLogo': '61b07937d0458d53c627567e02u.jpg'},\n     'dataInfo': '%7B%22ckId%22%3A%22h2c8pxojavrmo1w785z7ueih2ybfpux8%22%2C%22scene%22%3A%22input%22%2C%22pageSize%22%3A%2240%22%2C%22curPage%22%3A%220%22%2C%22skId%22%3A%22h2c8pxojavrmo1w785z7ueih2ybfpux8%22%2C%22fkId%22%3A%22h2c8pxojavrmo1w785z7ueih2ybfpux8%22%2C%22sfrom%22%3A%22search_job_pc%22%2C%22jobId%22%3A%2239520923%22%2C%22jobKind%22%3A%222%22%2C%22d_curPage%22%3A%220%22%2C%22d_pageSize%22%3A%2240%22%2C%22as_from%22%3A%22search_prime%22%7D',\n     'dataParams': '{\"imId\":\"2025d357b5543e0971de52c3bc0b6279\",\"imUserType\":\"2\",\"jobId\":\"39520923\",\"jobKind\":\"2\",\"recruiterName\":\"陈女士\",\"userId\":\"d72d5d3dd73987f52e39101ba8e07d3c\",\"recruiterPhoto\":\"603605d97c8d9149327848f405u.png\"}'},\n    {'job': {'labels': ['短视频策划',\n       '文案策划',\n       '短视频',\n       '广告策划',\n       '信息流',\n       '乙方公司背景',\n       'to B'],\n      'link': 'https://www.liepin.com/job/1941622165.shtml',\n      'advViewFlag': False,\n      'topJob': False,\n      'refreshTime': '20220413135033',\n      'dq': '广州-天河区',\n      'title': '广告策划',\n      'jobId': '41622165',\n      'jobKind': '2',\n      'salary': '11-20k',\n      'requireWorkYears': '3-5年',\n      'requireEduLevel': '本科',\n      'pcOuterLink': '',\n      'h5OuterLink': '',\n      'dataPromId': 'd_sfrom=search_prime&d_ckId=null&d_curPage=0&d_pageSize=40&d_headId=null&d_posi=19&skId=h2c8pxojavrmo1w785z7ueih2ybfpux8&fkId=h2c8pxojavrmo1w785z7ueih2ybfpux8&ckId=h2c8pxojavrmo1w785z7ueih2ybfpux8&sfrom=search_job_pc&curPage=0&pageSize=40&index=19'},\n     'recruiter': {'imId': '54a954a7c5f81d26fbc645f98a948c5b',\n      'imUserType': '2',\n      'chatted': False,\n      'recruiterName': '李女士',\n      'recruiterTitle': '人力资源伙伴(HRBP)',\n      'recruiterId': 'cfcda7d5d0d5c2d1a269fdd59058c9e3',\n      'recruiterPhoto': '5f8f9866dfb13a7dee342f1808u.jpg'},\n     'comp': {'link': 'https://www.liepin.com/company/8225307/',\n      'compScale': '1000-2000人',\n      'compName': '三维家',\n      'compId': 8225307,\n      'compIndustry': '互联网',\n      'compStage': 'D轮',\n      'compLogo': '619c63ddb9519b011e87190704u.png'},\n     'dataInfo': '%7B%22ckId%22%3A%22h2c8pxojavrmo1w785z7ueih2ybfpux8%22%2C%22scene%22%3A%22input%22%2C%22pageSize%22%3A%2240%22%2C%22curPage%22%3A%220%22%2C%22skId%22%3A%22h2c8pxojavrmo1w785z7ueih2ybfpux8%22%2C%22fkId%22%3A%22h2c8pxojavrmo1w785z7ueih2ybfpux8%22%2C%22sfrom%22%3A%22search_job_pc%22%2C%22jobId%22%3A%2241622165%22%2C%22jobKind%22%3A%222%22%2C%22d_curPage%22%3A%220%22%2C%22d_pageSize%22%3A%2240%22%2C%22as_from%22%3A%22search_prime%22%7D',\n     'dataParams': '{\"imId\":\"54a954a7c5f81d26fbc645f98a948c5b\",\"imUserType\":\"2\",\"jobId\":\"41622165\",\"jobKind\":\"2\",\"recruiterName\":\"李女士\",\"userId\":\"cfcda7d5d0d5c2d1a269fdd59058c9e3\",\"recruiterPhoto\":\"5f8f9866dfb13a7dee342f1808u.jpg\"}'},\n    {'job': {'labels': ['活动策划', '媒介策划', '公关策划', '广告/传媒/文化'],\n      'link': 'https://www.liepin.com/job/1960779457.shtml',\n      'advViewFlag': False,\n      'topJob': False,\n      'refreshTime': '20230814113432',\n      'dq': '广州-天河区',\n      'title': '广告策划经理（汽车中心）',\n      'jobId': '60779457',\n      'jobKind': '2',\n      'salary': '8-13k',\n      'requireWorkYears': '1-3年',\n      'requireEduLevel': '本科',\n      'pcOuterLink': '',\n      'h5OuterLink': '',\n      'dataPromId': 'd_sfrom=search_prime&d_ckId=null&d_curPage=0&d_pageSize=40&d_headId=null&d_posi=20&skId=h2c8pxojavrmo1w785z7ueih2ybfpux8&fkId=h2c8pxojavrmo1w785z7ueih2ybfpux8&ckId=h2c8pxojavrmo1w785z7ueih2ybfpux8&sfrom=search_job_pc&curPage=0&pageSize=40&index=20'},\n     'recruiter': {'imId': '31f9c8bf692cd93d9df82a630335d146',\n      'imUserType': '2',\n      'chatted': False,\n      'recruiterName': '郑女士',\n      'recruiterTitle': 'HRBP助理',\n      'recruiterId': 'b08f6efe85a961067ad6c98f2453be56',\n      'recruiterPhoto': '5f8f9863f6d1ab58476f246a08u.jpg'},\n     'comp': {'link': 'https://www.liepin.com/company/9146475/',\n      'compScale': '100-499人',\n      'compName': '广东因赛品牌营销集团股份有限公司',\n      'compId': 9146475,\n      'compIndustry': '广告/公关/会展',\n      'compStage': '沪深A股上市',\n      'compLogo': '5bfe9d9f74719d2aa34b6af203a.png'},\n     'dataInfo': '%7B%22ckId%22%3A%22h2c8pxojavrmo1w785z7ueih2ybfpux8%22%2C%22scene%22%3A%22input%22%2C%22pageSize%22%3A%2240%22%2C%22curPage%22%3A%220%22%2C%22skId%22%3A%22h2c8pxojavrmo1w785z7ueih2ybfpux8%22%2C%22fkId%22%3A%22h2c8pxojavrmo1w785z7ueih2ybfpux8%22%2C%22sfrom%22%3A%22search_job_pc%22%2C%22jobId%22%3A%2260779457%22%2C%22jobKind%22%3A%222%22%2C%22d_curPage%22%3A%220%22%2C%22d_pageSize%22%3A%2240%22%2C%22as_from%22%3A%22search_prime%22%7D',\n     'dataParams': '{\"imId\":\"31f9c8bf692cd93d9df82a630335d146\",\"imUserType\":\"2\",\"jobId\":\"60779457\",\"jobKind\":\"2\",\"recruiterName\":\"郑女士\",\"userId\":\"b08f6efe85a961067ad6c98f2453be56\",\"recruiterPhoto\":\"5f8f9863f6d1ab58476f246a08u.jpg\"}'},\n    {'job': {'labels': ['新媒体策划',\n       '广告策划',\n       '营销策划',\n       '品牌策划',\n       '乙方公司背景',\n       '广告/传媒/文化',\n       '4A公司背景',\n       '快消品'],\n      'link': 'https://www.liepin.com/job/1957005931.shtml',\n      'advViewFlag': False,\n      'topJob': False,\n      'refreshTime': '20230608141359',\n      'dq': '广州-海珠区',\n      'title': '广告策划',\n      'jobId': '57005931',\n      'jobKind': '2',\n      'salary': '8-15k',\n      'requireWorkYears': '3-5年',\n      'requireEduLevel': '本科',\n      'pcOuterLink': '',\n      'h5OuterLink': '',\n      'dataPromId': 'd_sfrom=search_prime&d_ckId=null&d_curPage=0&d_pageSize=40&d_headId=null&d_posi=21&skId=h2c8pxojavrmo1w785z7ueih2ybfpux8&fkId=h2c8pxojavrmo1w785z7ueih2ybfpux8&ckId=h2c8pxojavrmo1w785z7ueih2ybfpux8&sfrom=search_job_pc&curPage=0&pageSize=40&index=21'},\n     'recruiter': {'imId': '7e9bf91ac5feaa3851c33e5c07618208',\n      'imUserType': '2',\n      'chatted': False,\n      'recruiterName': '赖女士',\n      'recruiterTitle': 'hr',\n      'recruiterId': 'b3e9bd538fb6ac17268a60d9b0e5ad9b',\n      'recruiterPhoto': '5f8f98648dbe6273dcf8515508u.jpg'},\n     'comp': {'link': 'https://www.liepin.com/company/10026797/',\n      'compScale': '1-49人',\n      'compName': '广州鼎承文化传媒科技有限公司',\n      'compId': 10026797,\n      'compIndustry': '其他商务服务业',\n      'compLogo': '61b07937d0458d53c627567e02u.jpg'},\n     'dataInfo': '%7B%22ckId%22%3A%22h2c8pxojavrmo1w785z7ueih2ybfpux8%22%2C%22scene%22%3A%22input%22%2C%22pageSize%22%3A%2240%22%2C%22curPage%22%3A%220%22%2C%22skId%22%3A%22h2c8pxojavrmo1w785z7ueih2ybfpux8%22%2C%22fkId%22%3A%22h2c8pxojavrmo1w785z7ueih2ybfpux8%22%2C%22sfrom%22%3A%22search_job_pc%22%2C%22jobId%22%3A%2257005931%22%2C%22jobKind%22%3A%222%22%2C%22d_curPage%22%3A%220%22%2C%22d_pageSize%22%3A%2240%22%2C%22as_from%22%3A%22search_prime%22%7D',\n     'dataParams': '{\"imId\":\"7e9bf91ac5feaa3851c33e5c07618208\",\"imUserType\":\"2\",\"jobId\":\"57005931\",\"jobKind\":\"2\",\"recruiterName\":\"赖女士\",\"userId\":\"b3e9bd538fb6ac17268a60d9b0e5ad9b\",\"recruiterPhoto\":\"5f8f98648dbe6273dcf8515508u.jpg\"}'},\n    {'job': {'labels': ['网站策划',\n       '营销策划',\n       '网络媒体',\n       '新媒体',\n       '广告/传媒/文化',\n       'IT/互联网/软件',\n       '电子商务'],\n      'link': 'https://www.liepin.com/job/1947766565.shtml',\n      'advViewFlag': False,\n      'topJob': False,\n      'refreshTime': '20220507170122',\n      'dq': '广州-越秀区',\n      'title': '广告策划经理',\n      'jobId': '47766565',\n      'jobKind': '2',\n      'salary': '15-25k',\n      'requireWorkYears': '1-3年',\n      'requireEduLevel': '本科',\n      'pcOuterLink': '',\n      'h5OuterLink': '',\n      'dataPromId': 'd_sfrom=search_prime&d_ckId=null&d_curPage=0&d_pageSize=40&d_headId=null&d_posi=22&skId=h2c8pxojavrmo1w785z7ueih2ybfpux8&fkId=h2c8pxojavrmo1w785z7ueih2ybfpux8&ckId=h2c8pxojavrmo1w785z7ueih2ybfpux8&sfrom=search_job_pc&curPage=0&pageSize=40&index=22'},\n     'recruiter': {'imId': '58b8365f60a6aca48fa263ed17de85b1',\n      'imUserType': '2',\n      'chatted': False,\n      'recruiterName': '龚女士',\n      'recruiterTitle': '招聘主管',\n      'recruiterId': '4e4592482c2c482d89c8cf077b59c7fa',\n      'recruiterPhoto': '5f8f98648dbe6273dcf8515508u.jpg'},\n     'comp': {'link': 'https://www.liepin.com/company/7946852/',\n      'compScale': '100-499人',\n      'compName': '返利科技',\n      'compId': 7946852,\n      'compIndustry': '电子商务',\n      'compStage': '沪深A股上市',\n      'compLogo': '61a06f512b6b92739ef3d68f06u.png'},\n     'dataInfo': '%7B%22ckId%22%3A%22h2c8pxojavrmo1w785z7ueih2ybfpux8%22%2C%22scene%22%3A%22input%22%2C%22pageSize%22%3A%2240%22%2C%22curPage%22%3A%220%22%2C%22skId%22%3A%22h2c8pxojavrmo1w785z7ueih2ybfpux8%22%2C%22fkId%22%3A%22h2c8pxojavrmo1w785z7ueih2ybfpux8%22%2C%22sfrom%22%3A%22search_job_pc%22%2C%22jobId%22%3A%2247766565%22%2C%22jobKind%22%3A%222%22%2C%22d_curPage%22%3A%220%22%2C%22d_pageSize%22%3A%2240%22%2C%22as_from%22%3A%22search_prime%22%7D',\n     'dataParams': '{\"imId\":\"58b8365f60a6aca48fa263ed17de85b1\",\"imUserType\":\"2\",\"jobId\":\"47766565\",\"jobKind\":\"2\",\"recruiterName\":\"龚女士\",\"userId\":\"4e4592482c2c482d89c8cf077b59c7fa\",\"recruiterPhoto\":\"5f8f98648dbe6273dcf8515508u.jpg\"}'},\n    {'job': {'labels': ['营销项目'],\n      'link': 'https://www.liepin.com/job/1918108443.shtml',\n      'advViewFlag': False,\n      'topJob': False,\n      'refreshTime': '20190305154440',\n      'dq': '广州',\n      'title': '广告策划',\n      'jobId': '18108443',\n      'jobKind': '2',\n      'salary': '5-10k·13薪',\n      'requireWorkYears': '1-3年',\n      'requireEduLevel': '本科',\n      'pcOuterLink': '',\n      'h5OuterLink': '',\n      'dataPromId': 'd_sfrom=search_prime&d_ckId=null&d_curPage=0&d_pageSize=40&d_headId=null&d_posi=23&skId=h2c8pxojavrmo1w785z7ueih2ybfpux8&fkId=h2c8pxojavrmo1w785z7ueih2ybfpux8&ckId=h2c8pxojavrmo1w785z7ueih2ybfpux8&sfrom=search_job_pc&curPage=0&pageSize=40&index=23'},\n     'recruiter': {'imId': '8e7330162b6b775fc94f4d0c9b7b96ae',\n      'imUserType': '2',\n      'chatted': False,\n      'recruiterName': '陈先生',\n      'recruiterTitle': '合伙人',\n      'recruiterId': 'e691e6f1b796f0b2bc55ab0e81d497cf',\n      'recruiterPhoto': '5c80f173261c45f047a266f801u.png'},\n     'comp': {'link': 'https://www.liepin.com/company/8444221/',\n      'compScale': '1-49人',\n      'compName': '广州飞米广告有限公司',\n      'compId': 8444221,\n      'compIndustry': '专业技术服务',\n      'compStage': '融资未公开',\n      'compLogo': '61b07937d0458d53c627567e02u.jpg'},\n     'dataInfo': '%7B%22ckId%22%3A%22h2c8pxojavrmo1w785z7ueih2ybfpux8%22%2C%22scene%22%3A%22input%22%2C%22pageSize%22%3A%2240%22%2C%22curPage%22%3A%220%22%2C%22skId%22%3A%22h2c8pxojavrmo1w785z7ueih2ybfpux8%22%2C%22fkId%22%3A%22h2c8pxojavrmo1w785z7ueih2ybfpux8%22%2C%22sfrom%22%3A%22search_job_pc%22%2C%22jobId%22%3A%2218108443%22%2C%22jobKind%22%3A%222%22%2C%22d_curPage%22%3A%220%22%2C%22d_pageSize%22%3A%2240%22%2C%22as_from%22%3A%22search_prime%22%7D',\n     'dataParams': '{\"imId\":\"8e7330162b6b775fc94f4d0c9b7b96ae\",\"imUserType\":\"2\",\"jobId\":\"18108443\",\"jobKind\":\"2\",\"recruiterName\":\"陈先生\",\"userId\":\"e691e6f1b796f0b2bc55ab0e81d497cf\",\"recruiterPhoto\":\"5c80f173261c45f047a266f801u.png\"}'},\n    {'job': {'labels': ['文案策划', '活动策划', '品牌活动', '营销活动'],\n      'link': 'https://www.liepin.com/job/1950879589.shtml',\n      'advViewFlag': False,\n      'topJob': False,\n      'refreshTime': '20220705114909',\n      'dq': '广州-增城区',\n      'title': '广告策划文案',\n      'jobId': '50879589',\n      'jobKind': '2',\n      'salary': '5-8k',\n      'requireWorkYears': '3-5年',\n      'requireEduLevel': '本科',\n      'pcOuterLink': '',\n      'h5OuterLink': '',\n      'dataPromId': 'd_sfrom=search_prime&d_ckId=null&d_curPage=0&d_pageSize=40&d_headId=null&d_posi=24&skId=h2c8pxojavrmo1w785z7ueih2ybfpux8&fkId=h2c8pxojavrmo1w785z7ueih2ybfpux8&ckId=h2c8pxojavrmo1w785z7ueih2ybfpux8&sfrom=search_job_pc&curPage=0&pageSize=40&index=24'},\n     'recruiter': {'imId': 'b8740c6682e5c0bce2a6e48d27d32952',\n      'imUserType': '2',\n      'chatted': False,\n      'recruiterName': '何先生',\n      'recruiterTitle': '运营经理/主管',\n      'recruiterId': '623ac67948111d0459cee3ca71461524',\n      'recruiterPhoto': '5f8f98698dbe6273dcf8516008u.jpg'},\n     'comp': {'link': 'https://www.liepin.com/company/13261023/',\n      'compScale': '1-49人',\n      'compName': '广州市御众汽车用品有限公司',\n      'compId': 13261023,\n      'compIndustry': '汽车交易/后市场',\n      'compLogo': '61b07937d0458d53c627567e02u.jpg'},\n     'dataInfo': '%7B%22ckId%22%3A%22h2c8pxojavrmo1w785z7ueih2ybfpux8%22%2C%22scene%22%3A%22input%22%2C%22pageSize%22%3A%2240%22%2C%22curPage%22%3A%220%22%2C%22skId%22%3A%22h2c8pxojavrmo1w785z7ueih2ybfpux8%22%2C%22fkId%22%3A%22h2c8pxojavrmo1w785z7ueih2ybfpux8%22%2C%22sfrom%22%3A%22search_job_pc%22%2C%22jobId%22%3A%2250879589%22%2C%22jobKind%22%3A%222%22%2C%22d_curPage%22%3A%220%22%2C%22d_pageSize%22%3A%2240%22%2C%22as_from%22%3A%22search_prime%22%7D',\n     'dataParams': '{\"imId\":\"b8740c6682e5c0bce2a6e48d27d32952\",\"imUserType\":\"2\",\"jobId\":\"50879589\",\"jobKind\":\"2\",\"recruiterName\":\"何先生\",\"userId\":\"623ac67948111d0459cee3ca71461524\",\"recruiterPhoto\":\"5f8f98698dbe6273dcf8516008u.jpg\"}'},\n    {'job': {'labels': ['品牌文案', '广告文案', '新媒体文案', '媒介媒体'],\n      'link': 'https://www.liepin.com/job/1940353387.shtml',\n      'advViewFlag': False,\n      'topJob': False,\n      'refreshTime': '20210622160113',\n      'dq': '广州',\n      'title': '房产行业广告策划',\n      'jobId': '40353387',\n      'jobKind': '2',\n      'salary': '6-10k',\n      'requireWorkYears': '1-3年',\n      'requireEduLevel': '本科',\n      'pcOuterLink': '',\n      'h5OuterLink': '',\n      'dataPromId': 'd_sfrom=search_prime&d_ckId=null&d_curPage=0&d_pageSize=40&d_headId=null&d_posi=25&skId=h2c8pxojavrmo1w785z7ueih2ybfpux8&fkId=h2c8pxojavrmo1w785z7ueih2ybfpux8&ckId=h2c8pxojavrmo1w785z7ueih2ybfpux8&sfrom=search_job_pc&curPage=0&pageSize=40&index=25'},\n     'recruiter': {'imId': 'aad8b36e5699801daaab3863ce164b20',\n      'imUserType': '2',\n      'chatted': False,\n      'recruiterName': '潘女士',\n      'recruiterTitle': 'hr',\n      'recruiterId': 'b574bb144c787bff13a812d2d943b593',\n      'recruiterPhoto': '60d194b9b5d2dc1b541b567601u.png'},\n     'comp': {'link': 'https://www.liepin.com/company/12737865/',\n      'compScale': '100-499人',\n      'compName': '多啦数字技术(广州)有限公司',\n      'compId': 12737865,\n      'compIndustry': '互联网',\n      'compStage': '融资未公开',\n      'compLogo': '60c9879102bc3c6965a4b2a606u.png'},\n     'dataInfo': '%7B%22ckId%22%3A%22h2c8pxojavrmo1w785z7ueih2ybfpux8%22%2C%22scene%22%3A%22input%22%2C%22pageSize%22%3A%2240%22%2C%22curPage%22%3A%220%22%2C%22skId%22%3A%22h2c8pxojavrmo1w785z7ueih2ybfpux8%22%2C%22fkId%22%3A%22h2c8pxojavrmo1w785z7ueih2ybfpux8%22%2C%22sfrom%22%3A%22search_job_pc%22%2C%22jobId%22%3A%2240353387%22%2C%22jobKind%22%3A%222%22%2C%22d_curPage%22%3A%220%22%2C%22d_pageSize%22%3A%2240%22%2C%22as_from%22%3A%22search_prime%22%7D',\n     'dataParams': '{\"imId\":\"aad8b36e5699801daaab3863ce164b20\",\"imUserType\":\"2\",\"jobId\":\"40353387\",\"jobKind\":\"2\",\"recruiterName\":\"潘女士\",\"userId\":\"b574bb144c787bff13a812d2d943b593\",\"recruiterPhoto\":\"60d194b9b5d2dc1b541b567601u.png\"}'},\n    {'job': {'labels': ['市场策划', '市场推广', '市场营销', '汽车行业'],\n      'link': 'https://www.liepin.com/job/1963288735.shtml',\n      'advViewFlag': False,\n      'topJob': False,\n      'refreshTime': '20231129221705',\n      'dq': '广州-天河区',\n      'title': '广告策划-交通行业',\n      'jobId': '63288735',\n      'jobKind': '2',\n      'salary': '25-45k·15薪',\n      'requireWorkYears': '5-10年',\n      'requireEduLevel': '本科',\n      'pcOuterLink': '',\n      'h5OuterLink': '',\n      'dataPromId': 'd_sfrom=search_prime&d_ckId=null&d_curPage=0&d_pageSize=40&d_headId=null&d_posi=26&skId=h2c8pxojavrmo1w785z7ueih2ybfpux8&fkId=h2c8pxojavrmo1w785z7ueih2ybfpux8&ckId=h2c8pxojavrmo1w785z7ueih2ybfpux8&sfrom=search_job_pc&curPage=0&pageSize=40&index=26'},\n     'recruiter': {'imId': 'f08d2ca968e841ed4da34c7ac147e5b9',\n      'imUserType': '2',\n      'chatted': False,\n      'recruiterName': '韩女士',\n      'recruiterTitle': '招聘主管',\n      'recruiterId': 'b5ee10cbdf2ef8ef8dd3ccacb977af60',\n      'recruiterPhoto': '5f8f9866dfb13a7dee342f1808u.jpg'},\n     'comp': {'link': 'https://www.liepin.com/company/7921271/',\n      'compScale': '1000-2000人',\n      'compName': '小红书',\n      'compId': 7921271,\n      'compIndustry': '互联网',\n      'compStage': 'D轮',\n      'compLogo': '5952248270327b30a4cc59d605a.jpg'},\n     'dataInfo': '%7B%22ckId%22%3A%22h2c8pxojavrmo1w785z7ueih2ybfpux8%22%2C%22scene%22%3A%22input%22%2C%22pageSize%22%3A%2240%22%2C%22curPage%22%3A%220%22%2C%22skId%22%3A%22h2c8pxojavrmo1w785z7ueih2ybfpux8%22%2C%22fkId%22%3A%22h2c8pxojavrmo1w785z7ueih2ybfpux8%22%2C%22sfrom%22%3A%22search_job_pc%22%2C%22jobId%22%3A%2263288735%22%2C%22jobKind%22%3A%222%22%2C%22d_curPage%22%3A%220%22%2C%22d_pageSize%22%3A%2240%22%2C%22as_from%22%3A%22search_prime%22%7D',\n     'dataParams': '{\"imId\":\"f08d2ca968e841ed4da34c7ac147e5b9\",\"imUserType\":\"2\",\"jobId\":\"63288735\",\"jobKind\":\"2\",\"recruiterName\":\"韩女士\",\"userId\":\"b5ee10cbdf2ef8ef8dd3ccacb977af60\",\"recruiterPhoto\":\"5f8f9866dfb13a7dee342f1808u.jpg\"}'},\n    {'job': {'labels': ['活动策划',\n       '广告策划',\n       '媒介策划',\n       '品牌策划',\n       '营销策划',\n       '市场策划',\n       '广告媒介',\n       '品牌活动',\n       '乙方公司背景',\n       'to B'],\n      'link': 'https://www.liepin.com/job/1962687067.shtml',\n      'advViewFlag': False,\n      'topJob': False,\n      'refreshTime': '20231120092212',\n      'dq': '广州-番禺区',\n      'title': '活动策划',\n      'jobId': '62687067',\n      'jobKind': '2',\n      'salary': '7-10k·13薪',\n      'requireWorkYears': '1-3年',\n      'requireEduLevel': '本科',\n      'pcOuterLink': '',\n      'h5OuterLink': '',\n      'dataPromId': 'd_sfrom=search_prime&d_ckId=null&d_curPage=0&d_pageSize=40&d_headId=null&d_posi=27&skId=h2c8pxojavrmo1w785z7ueih2ybfpux8&fkId=h2c8pxojavrmo1w785z7ueih2ybfpux8&ckId=h2c8pxojavrmo1w785z7ueih2ybfpux8&sfrom=search_job_pc&curPage=0&pageSize=40&index=27'},\n     'recruiter': {'imId': 'a01bc6f7ed4ed78786273d579bc2a4d6',\n      'imUserType': '2',\n      'chatted': False,\n      'recruiterName': '周女士',\n      'recruiterTitle': '行政',\n      'recruiterId': '6365f2cd13aceb9826ce5c03c666d9e9',\n      'recruiterPhoto': '5f8f9863f6d1ab58476f246a08u.jpg'},\n     'comp': {'link': 'https://www.liepin.com/company/13726137/',\n      'compScale': '50-99人',\n      'compName': '广州术扬文化传播有限公司',\n      'compId': 13726137,\n      'compIndustry': '广告/公关/会展',\n      'compStage': '融资未公开',\n      'compLogo': '61b07937d0458d53c627567e02u.jpg'},\n     'dataInfo': '%7B%22ckId%22%3A%22h2c8pxojavrmo1w785z7ueih2ybfpux8%22%2C%22scene%22%3A%22input%22%2C%22pageSize%22%3A%2240%22%2C%22curPage%22%3A%220%22%2C%22skId%22%3A%22h2c8pxojavrmo1w785z7ueih2ybfpux8%22%2C%22fkId%22%3A%22h2c8pxojavrmo1w785z7ueih2ybfpux8%22%2C%22sfrom%22%3A%22search_job_pc%22%2C%22jobId%22%3A%2262687067%22%2C%22jobKind%22%3A%222%22%2C%22d_curPage%22%3A%220%22%2C%22d_pageSize%22%3A%2240%22%2C%22as_from%22%3A%22search_prime%22%7D',\n     'dataParams': '{\"imId\":\"a01bc6f7ed4ed78786273d579bc2a4d6\",\"imUserType\":\"2\",\"jobId\":\"62687067\",\"jobKind\":\"2\",\"recruiterName\":\"周女士\",\"userId\":\"6365f2cd13aceb9826ce5c03c666d9e9\",\"recruiterPhoto\":\"5f8f9863f6d1ab58476f246a08u.jpg\"}'},\n    {'job': {'labels': ['MCN', '拓展培训', '客户管理', '市场洞察'],\n      'link': 'https://www.liepin.com/job/1958368307.shtml',\n      'advViewFlag': False,\n      'topJob': False,\n      'refreshTime': '20230508142458',\n      'dq': '广州-白云区',\n      'title': '商务经理',\n      'jobId': '58368307',\n      'jobKind': '2',\n      'salary': '8-12k',\n      'requireWorkYears': '1-3年',\n      'requireEduLevel': '本科',\n      'pcOuterLink': '',\n      'h5OuterLink': '',\n      'dataPromId': 'd_sfrom=search_prime&d_ckId=null&d_curPage=0&d_pageSize=40&d_headId=null&d_posi=28&skId=h2c8pxojavrmo1w785z7ueih2ybfpux8&fkId=h2c8pxojavrmo1w785z7ueih2ybfpux8&ckId=h2c8pxojavrmo1w785z7ueih2ybfpux8&sfrom=search_job_pc&curPage=0&pageSize=40&index=28'},\n     'recruiter': {'imId': '7f76104da0d255e168d7af4a41816ea1',\n      'imUserType': '2',\n      'chatted': False,\n      'recruiterName': '刘女士',\n      'recruiterTitle': '人事主管',\n      'recruiterId': '0db4ca05ce4598005f4544aadc1b7a35',\n      'recruiterPhoto': '61b3700cd318b4087cedef5c04u.png'},\n     'comp': {'link': 'https://www.liepin.com/company/10273173/',\n      'compScale': '100-499人',\n      'compName': '广东莲藕健康科技有限公司',\n      'compId': 10273173,\n      'compIndustry': '医疗机构',\n      'compStage': '融资未公开',\n      'compLogo': '628b4f1efd2f9b3a2870bcf203u.png'},\n     'dataInfo': '%7B%22ckId%22%3A%22h2c8pxojavrmo1w785z7ueih2ybfpux8%22%2C%22scene%22%3A%22input%22%2C%22pageSize%22%3A%2240%22%2C%22curPage%22%3A%220%22%2C%22skId%22%3A%22h2c8pxojavrmo1w785z7ueih2ybfpux8%22%2C%22fkId%22%3A%22h2c8pxojavrmo1w785z7ueih2ybfpux8%22%2C%22sfrom%22%3A%22search_job_pc%22%2C%22jobId%22%3A%2258368307%22%2C%22jobKind%22%3A%222%22%2C%22d_curPage%22%3A%220%22%2C%22d_pageSize%22%3A%2240%22%2C%22as_from%22%3A%22search_prime%22%7D',\n     'dataParams': '{\"imId\":\"7f76104da0d255e168d7af4a41816ea1\",\"imUserType\":\"2\",\"jobId\":\"58368307\",\"jobKind\":\"2\",\"recruiterName\":\"刘女士\",\"userId\":\"0db4ca05ce4598005f4544aadc1b7a35\",\"recruiterPhoto\":\"61b3700cd318b4087cedef5c04u.png\"}'},\n    {'job': {'labels': ['公关策划',\n       '广告策划',\n       '文案策划',\n       '新媒体策划',\n       '品牌策划',\n       '市场策划',\n       '广告媒介',\n       '新媒体',\n       '广告/传媒/文化'],\n      'link': 'https://www.liepin.com/job/1939439921.shtml',\n      'advViewFlag': False,\n      'topJob': False,\n      'refreshTime': '20210524150304',\n      'dq': '广州-天河区',\n      'title': '文案/策划',\n      'jobId': '39439921',\n      'jobKind': '2',\n      'salary': '6-15k',\n      'requireWorkYears': '1-3年',\n      'requireEduLevel': '本科',\n      'pcOuterLink': '',\n      'h5OuterLink': '',\n      'dataPromId': 'd_sfrom=search_prime&d_ckId=null&d_curPage=0&d_pageSize=40&d_headId=null&d_posi=29&skId=h2c8pxojavrmo1w785z7ueih2ybfpux8&fkId=h2c8pxojavrmo1w785z7ueih2ybfpux8&ckId=h2c8pxojavrmo1w785z7ueih2ybfpux8&sfrom=search_job_pc&curPage=0&pageSize=40&index=29'},\n     'recruiter': {'imId': '8db3993bb0aedc139ccf3dc45f6d7696',\n      'imUserType': '2',\n      'chatted': False,\n      'recruiterName': '李先生',\n      'recruiterTitle': '',\n      'recruiterId': '96f2042d135429369b8e69ddb4370408',\n      'recruiterPhoto': '5f8f9863f6d1ab58476f246a08u.jpg'},\n     'comp': {'link': 'https://www.liepin.com/company/7939567/',\n      'compScale': '100-499人',\n      'compName': '广州源缘生物科技有限公司',\n      'compId': 7939567,\n      'compIndustry': '医疗机构',\n      'compStage': '融资未公开',\n      'compLogo': '61b07937d0458d53c627567e02u.jpg'},\n     'dataInfo': '%7B%22ckId%22%3A%22h2c8pxojavrmo1w785z7ueih2ybfpux8%22%2C%22scene%22%3A%22input%22%2C%22pageSize%22%3A%2240%22%2C%22curPage%22%3A%220%22%2C%22skId%22%3A%22h2c8pxojavrmo1w785z7ueih2ybfpux8%22%2C%22fkId%22%3A%22h2c8pxojavrmo1w785z7ueih2ybfpux8%22%2C%22sfrom%22%3A%22search_job_pc%22%2C%22jobId%22%3A%2239439921%22%2C%22jobKind%22%3A%222%22%2C%22d_curPage%22%3A%220%22%2C%22d_pageSize%22%3A%2240%22%2C%22as_from%22%3A%22search_prime%22%7D',\n     'dataParams': '{\"imId\":\"8db3993bb0aedc139ccf3dc45f6d7696\",\"imUserType\":\"2\",\"jobId\":\"39439921\",\"jobKind\":\"2\",\"recruiterName\":\"李先生\",\"userId\":\"96f2042d135429369b8e69ddb4370408\",\"recruiterPhoto\":\"5f8f9863f6d1ab58476f246a08u.jpg\"}'},\n    {'job': {'labels': ['品牌推广',\n       '品牌营销',\n       '品牌策划',\n       '品牌活动',\n       '营销活动',\n       '自媒体',\n       '网络媒介',\n       '门户网站',\n       '网络媒体',\n       '广告媒介'],\n      'link': 'https://www.liepin.com/job/1962857409.shtml',\n      'advViewFlag': False,\n      'topJob': False,\n      'refreshTime': '20231112205618',\n      'dq': '广州-黄埔区',\n      'title': '品牌经理/主管',\n      'jobId': '62857409',\n      'jobKind': '2',\n      'salary': '15-25k',\n      'requireWorkYears': '3-5年',\n      'requireEduLevel': '本科',\n      'pcOuterLink': '',\n      'h5OuterLink': '',\n      'dataPromId': 'd_sfrom=search_prime&d_ckId=null&d_curPage=0&d_pageSize=40&d_headId=null&d_posi=30&skId=h2c8pxojavrmo1w785z7ueih2ybfpux8&fkId=h2c8pxojavrmo1w785z7ueih2ybfpux8&ckId=h2c8pxojavrmo1w785z7ueih2ybfpux8&sfrom=search_job_pc&curPage=0&pageSize=40&index=30'},\n     'recruiter': {'imId': '061f14575c63da2529888d5bd738486d',\n      'imUserType': '2',\n      'chatted': False,\n      'recruiterName': '张先生',\n      'recruiterTitle': '市场营销中心总监',\n      'recruiterId': '28d4d949a29ab917d4a9b6a23f95991b',\n      'recruiterPhoto': '5f8f9868f6d1ab58476f24a008u.jpg'},\n     'comp': {'link': 'https://www.liepin.com/company/8299929/',\n      'compScale': '2000-5000人',\n      'compName': '梦天木作',\n      'compId': 8299929,\n      'compIndustry': '家具/家居',\n      'compStage': '沪深A股上市',\n      'compLogo': '64bf65fcd38b8e55a2fcc76d01u.png'},\n     'dataInfo': '%7B%22ckId%22%3A%22h2c8pxojavrmo1w785z7ueih2ybfpux8%22%2C%22scene%22%3A%22input%22%2C%22pageSize%22%3A%2240%22%2C%22curPage%22%3A%220%22%2C%22skId%22%3A%22h2c8pxojavrmo1w785z7ueih2ybfpux8%22%2C%22fkId%22%3A%22h2c8pxojavrmo1w785z7ueih2ybfpux8%22%2C%22sfrom%22%3A%22search_job_pc%22%2C%22jobId%22%3A%2262857409%22%2C%22jobKind%22%3A%222%22%2C%22d_curPage%22%3A%220%22%2C%22d_pageSize%22%3A%2240%22%2C%22as_from%22%3A%22search_prime%22%7D',\n     'dataParams': '{\"imId\":\"061f14575c63da2529888d5bd738486d\",\"imUserType\":\"2\",\"jobId\":\"62857409\",\"jobKind\":\"2\",\"recruiterName\":\"张先生\",\"userId\":\"28d4d949a29ab917d4a9b6a23f95991b\",\"recruiterPhoto\":\"5f8f9868f6d1ab58476f24a008u.jpg\"}'},\n    {'job': {'labels': ['营销策划', '广告策划'],\n      'link': 'https://www.liepin.com/job/1934019149.shtml',\n      'advViewFlag': False,\n      'topJob': False,\n      'refreshTime': '20231106154057',\n      'dq': '广州-天河区',\n      'title': '策划经理（天河区牛奶厂）',\n      'jobId': '34019149',\n      'jobKind': '2',\n      'salary': '20-25k',\n      'requireWorkYears': '3-5年',\n      'requireEduLevel': '本科',\n      'pcOuterLink': '',\n      'h5OuterLink': '',\n      'dataPromId': 'd_sfrom=search_prime&d_ckId=null&d_curPage=0&d_pageSize=40&d_headId=null&d_posi=31&skId=h2c8pxojavrmo1w785z7ueih2ybfpux8&fkId=h2c8pxojavrmo1w785z7ueih2ybfpux8&ckId=h2c8pxojavrmo1w785z7ueih2ybfpux8&sfrom=search_job_pc&curPage=0&pageSize=40&index=31'},\n     'recruiter': {'imId': 'ee348aa7edfba17b4383db9bf147ecbd',\n      'imUserType': '2',\n      'chatted': False,\n      'recruiterName': '史先生',\n      'recruiterTitle': '人力资源助理经理',\n      'recruiterId': '8772975ca357e884a77df11f3036da93',\n      'recruiterPhoto': '5f8f986c79c7cc70efbf36c808u.jpg'},\n     'comp': {'link': 'https://www.liepin.com/company/5228001/',\n      'compScale': '5000-10000人',\n      'compName': '合景泰富集团控股有限公司',\n      'compId': 5228001,\n      'compIndustry': '房地产开发经营',\n      'compLogo': '5bfe9ece74719d2aa34ba58803a.png'},\n     'dataInfo': '%7B%22ckId%22%3A%22h2c8pxojavrmo1w785z7ueih2ybfpux8%22%2C%22scene%22%3A%22input%22%2C%22pageSize%22%3A%2240%22%2C%22curPage%22%3A%220%22%2C%22skId%22%3A%22h2c8pxojavrmo1w785z7ueih2ybfpux8%22%2C%22fkId%22%3A%22h2c8pxojavrmo1w785z7ueih2ybfpux8%22%2C%22sfrom%22%3A%22search_job_pc%22%2C%22jobId%22%3A%2234019149%22%2C%22jobKind%22%3A%222%22%2C%22d_curPage%22%3A%220%22%2C%22d_pageSize%22%3A%2240%22%2C%22as_from%22%3A%22search_prime%22%7D',\n     'dataParams': '{\"imId\":\"ee348aa7edfba17b4383db9bf147ecbd\",\"imUserType\":\"2\",\"jobId\":\"34019149\",\"jobKind\":\"2\",\"recruiterName\":\"史先生\",\"userId\":\"8772975ca357e884a77df11f3036da93\",\"recruiterPhoto\":\"5f8f986c79c7cc70efbf36c808u.jpg\"}'},\n    {'job': {'labels': [],\n      'link': 'https://www.liepin.com/job/1962749643.shtml',\n      'advViewFlag': False,\n      'topJob': False,\n      'refreshTime': '20231107163006',\n      'dq': '广州',\n      'title': '媒介推广专员',\n      'jobId': '62749643',\n      'jobKind': '2',\n      'salary': '7-10k·13薪',\n      'requireWorkYears': '1-3年',\n      'requireEduLevel': '本科',\n      'pcOuterLink': '',\n      'h5OuterLink': '',\n      'dataPromId': 'd_sfrom=search_prime&d_ckId=null&d_curPage=0&d_pageSize=40&d_headId=null&d_posi=32&skId=h2c8pxojavrmo1w785z7ueih2ybfpux8&fkId=h2c8pxojavrmo1w785z7ueih2ybfpux8&ckId=h2c8pxojavrmo1w785z7ueih2ybfpux8&sfrom=search_job_pc&curPage=0&pageSize=40&index=32'},\n     'recruiter': {'imId': '7ef8654bbe980196c0b855de83315f3c',\n      'imUserType': '2',\n      'chatted': False,\n      'recruiterName': '何先生',\n      'recruiterTitle': '人事经理',\n      'recruiterId': '12aa632e94b2563cbbcc140067432cda',\n      'recruiterPhoto': '5f8f986aea60860b75384fab08u.jpg'},\n     'comp': {'link': 'https://www.liepin.com/company/12936965/',\n      'compScale': '500-999人',\n      'compName': '世纪美尚(广州)化妆品有限公司',\n      'compId': 12936965,\n      'compIndustry': '互联网',\n      'compLogo': '635b92a65fd2f55ef5a2b62f03u.png'},\n     'dataInfo': '%7B%22ckId%22%3A%22h2c8pxojavrmo1w785z7ueih2ybfpux8%22%2C%22scene%22%3A%22input%22%2C%22pageSize%22%3A%2240%22%2C%22curPage%22%3A%220%22%2C%22skId%22%3A%22h2c8pxojavrmo1w785z7ueih2ybfpux8%22%2C%22fkId%22%3A%22h2c8pxojavrmo1w785z7ueih2ybfpux8%22%2C%22sfrom%22%3A%22search_job_pc%22%2C%22jobId%22%3A%2262749643%22%2C%22jobKind%22%3A%222%22%2C%22d_curPage%22%3A%220%22%2C%22d_pageSize%22%3A%2240%22%2C%22as_from%22%3A%22search_prime%22%7D',\n     'dataParams': '{\"imId\":\"7ef8654bbe980196c0b855de83315f3c\",\"imUserType\":\"2\",\"jobId\":\"62749643\",\"jobKind\":\"2\",\"recruiterName\":\"何先生\",\"userId\":\"12aa632e94b2563cbbcc140067432cda\",\"recruiterPhoto\":\"5f8f986aea60860b75384fab08u.jpg\"}'},\n    {'job': {'labels': ['品牌策划', '媒介策划', '活动策划', '品牌活动', '平面媒体', '房地产/建筑业'],\n      'link': 'https://www.liepin.com/job/1960824379.shtml',\n      'advViewFlag': False,\n      'topJob': False,\n      'refreshTime': '20231124104046',\n      'dq': '广州-黄埔区',\n      'title': '公关经理（ZN）',\n      'jobId': '60824379',\n      'jobKind': '2',\n      'salary': '薪资面议',\n      'requireWorkYears': '5-10年',\n      'requireEduLevel': '本科',\n      'pcOuterLink': '',\n      'h5OuterLink': '',\n      'dataPromId': 'd_sfrom=search_prime&d_ckId=null&d_curPage=0&d_pageSize=40&d_headId=null&d_posi=33&skId=h2c8pxojavrmo1w785z7ueih2ybfpux8&fkId=h2c8pxojavrmo1w785z7ueih2ybfpux8&ckId=h2c8pxojavrmo1w785z7ueih2ybfpux8&sfrom=search_job_pc&curPage=0&pageSize=40&index=33'},\n     'recruiter': {'imId': '25849370b78008b7cde5ca55a88b4d39',\n      'imUserType': '2',\n      'chatted': False,\n      'recruiterName': '张女士',\n      'recruiterTitle': '人力经理',\n      'recruiterId': '747b101dfc697e41ce5446869ec8ed01',\n      'recruiterPhoto': '5f8f9866dfb13a7dee342f1808u.jpg'},\n     'comp': {'link': 'https://www.liepin.com/company/13364381/',\n      'compScale': '100-499人',\n      'compName': '粤港澳大湾区(广东)国创中心',\n      'compId': 13364381,\n      'compIndustry': '政府/公共事业',\n      'compLogo': '639689d6f021873656dc161e03u.png'},\n     'dataInfo': '%7B%22ckId%22%3A%22h2c8pxojavrmo1w785z7ueih2ybfpux8%22%2C%22scene%22%3A%22input%22%2C%22pageSize%22%3A%2240%22%2C%22curPage%22%3A%220%22%2C%22skId%22%3A%22h2c8pxojavrmo1w785z7ueih2ybfpux8%22%2C%22fkId%22%3A%22h2c8pxojavrmo1w785z7ueih2ybfpux8%22%2C%22sfrom%22%3A%22search_job_pc%22%2C%22jobId%22%3A%2260824379%22%2C%22jobKind%22%3A%222%22%2C%22d_curPage%22%3A%220%22%2C%22d_pageSize%22%3A%2240%22%2C%22as_from%22%3A%22search_prime%22%7D',\n     'dataParams': '{\"imId\":\"25849370b78008b7cde5ca55a88b4d39\",\"imUserType\":\"2\",\"jobId\":\"60824379\",\"jobKind\":\"2\",\"recruiterName\":\"张女士\",\"userId\":\"747b101dfc697e41ce5446869ec8ed01\",\"recruiterPhoto\":\"5f8f9866dfb13a7dee342f1808u.jpg\"}'},\n    {'job': {'labels': ['品牌推广',\n       '品牌策划',\n       '品牌运营',\n       '品牌设计',\n       '新媒体',\n       'KOL',\n       '广告/传媒/文化'],\n      'link': 'https://www.liepin.com/job/1953126559.shtml',\n      'advViewFlag': False,\n      'topJob': False,\n      'refreshTime': '20231122101515',\n      'dq': '广州-天河区',\n      'title': '高级产品经理/产品经理',\n      'jobId': '53126559',\n      'jobKind': '2',\n      'salary': '15-28k·13薪',\n      'requireWorkYears': '5-10年',\n      'requireEduLevel': '本科',\n      'pcOuterLink': '',\n      'h5OuterLink': '',\n      'dataPromId': 'd_sfrom=search_prime&d_ckId=null&d_curPage=0&d_pageSize=40&d_headId=null&d_posi=34&skId=h2c8pxojavrmo1w785z7ueih2ybfpux8&fkId=h2c8pxojavrmo1w785z7ueih2ybfpux8&ckId=h2c8pxojavrmo1w785z7ueih2ybfpux8&sfrom=search_job_pc&curPage=0&pageSize=40&index=34'},\n     'recruiter': {'imId': 'fb94d0eef421593a509db46caffb89c7',\n      'imUserType': '2',\n      'chatted': False,\n      'recruiterName': '谢女士',\n      'recruiterTitle': '人力资源经理',\n      'recruiterId': 'ccfed7449a759b2cf7778dde1bad5db7',\n      'recruiterPhoto': '5f8f9863f6d1ab58476f246a08u.jpg'},\n     'comp': {'link': 'https://www.liepin.com/company/2061455/',\n      'compScale': '500-999人',\n      'compName': '曼秀雷敦',\n      'compId': 2061455,\n      'compIndustry': '日化',\n      'compLogo': '555c2acba3109367c320a8c601a.png'},\n     'dataInfo': '%7B%22ckId%22%3A%22h2c8pxojavrmo1w785z7ueih2ybfpux8%22%2C%22scene%22%3A%22input%22%2C%22pageSize%22%3A%2240%22%2C%22curPage%22%3A%220%22%2C%22skId%22%3A%22h2c8pxojavrmo1w785z7ueih2ybfpux8%22%2C%22fkId%22%3A%22h2c8pxojavrmo1w785z7ueih2ybfpux8%22%2C%22sfrom%22%3A%22search_job_pc%22%2C%22jobId%22%3A%2253126559%22%2C%22jobKind%22%3A%222%22%2C%22d_curPage%22%3A%220%22%2C%22d_pageSize%22%3A%2240%22%2C%22as_from%22%3A%22search_prime%22%7D',\n     'dataParams': '{\"imId\":\"fb94d0eef421593a509db46caffb89c7\",\"imUserType\":\"2\",\"jobId\":\"53126559\",\"jobKind\":\"2\",\"recruiterName\":\"谢女士\",\"userId\":\"ccfed7449a759b2cf7778dde1bad5db7\",\"recruiterPhoto\":\"5f8f9863f6d1ab58476f246a08u.jpg\"}'},\n    {'job': {'labels': [],\n      'link': 'https://www.liepin.com/job/1955269335.shtml',\n      'advViewFlag': False,\n      'topJob': False,\n      'refreshTime': '20221229231640',\n      'dq': '广州-从化区',\n      'title': '品牌总监',\n      'jobId': '55269335',\n      'jobKind': '2',\n      'salary': '40-60k',\n      'requireWorkYears': '5-10年',\n      'requireEduLevel': '本科',\n      'pcOuterLink': '',\n      'h5OuterLink': '',\n      'dataPromId': 'd_sfrom=search_prime&d_ckId=null&d_curPage=0&d_pageSize=40&d_headId=null&d_posi=35&skId=h2c8pxojavrmo1w785z7ueih2ybfpux8&fkId=h2c8pxojavrmo1w785z7ueih2ybfpux8&ckId=h2c8pxojavrmo1w785z7ueih2ybfpux8&sfrom=search_job_pc&curPage=0&pageSize=40&index=35'},\n     'recruiter': {'imId': '4b18ef0259b624bd160b5b344d4ef7b6',\n      'imUserType': '2',\n      'chatted': False,\n      'recruiterName': '高先生',\n      'recruiterTitle': '',\n      'recruiterId': '8446ce98c7a1d6b442c5469df0b09132',\n      'recruiterPhoto': '5f8f986aea60860b75384fab08u.jpg'},\n     'comp': {'link': 'https://www.liepin.com/company/571564/',\n      'compScale': '2000-5000人',\n      'compName': '天狮集团',\n      'compId': 571564,\n      'compIndustry': '日化',\n      'compLogo': '5bfe92e474719d9f609a828a03a.png'},\n     'dataInfo': '%7B%22ckId%22%3A%22h2c8pxojavrmo1w785z7ueih2ybfpux8%22%2C%22scene%22%3A%22input%22%2C%22pageSize%22%3A%2240%22%2C%22curPage%22%3A%220%22%2C%22skId%22%3A%22h2c8pxojavrmo1w785z7ueih2ybfpux8%22%2C%22fkId%22%3A%22h2c8pxojavrmo1w785z7ueih2ybfpux8%22%2C%22sfrom%22%3A%22search_job_pc%22%2C%22jobId%22%3A%2255269335%22%2C%22jobKind%22%3A%222%22%2C%22d_curPage%22%3A%220%22%2C%22d_pageSize%22%3A%2240%22%2C%22as_from%22%3A%22search_prime%22%7D',\n     'dataParams': '{\"imId\":\"4b18ef0259b624bd160b5b344d4ef7b6\",\"imUserType\":\"2\",\"jobId\":\"55269335\",\"jobKind\":\"2\",\"recruiterName\":\"高先生\",\"userId\":\"8446ce98c7a1d6b442c5469df0b09132\",\"recruiterPhoto\":\"5f8f986aea60860b75384fab08u.jpg\"}'},\n    {'job': {'labels': ['前期策划', '商业建筑'],\n      'link': 'https://www.liepin.com/job/1962488883.shtml',\n      'advViewFlag': False,\n      'topJob': False,\n      'refreshTime': '20231026132335',\n      'dq': '广州-番禺区',\n      'title': '策划经理（品牌建设与活动策划方向）',\n      'jobId': '62488883',\n      'jobKind': '2',\n      'salary': '20-30k·18薪',\n      'requireWorkYears': '10年以上',\n      'requireEduLevel': '本科',\n      'pcOuterLink': '',\n      'h5OuterLink': '',\n      'dataPromId': 'd_sfrom=search_prime&d_ckId=null&d_curPage=0&d_pageSize=40&d_headId=null&d_posi=36&skId=h2c8pxojavrmo1w785z7ueih2ybfpux8&fkId=h2c8pxojavrmo1w785z7ueih2ybfpux8&ckId=h2c8pxojavrmo1w785z7ueih2ybfpux8&sfrom=search_job_pc&curPage=0&pageSize=40&index=36'},\n     'recruiter': {'imId': 'ea3e06eb6ec240eb8d1ff84e0a6c6898',\n      'imUserType': '2',\n      'chatted': False,\n      'recruiterName': '冯女士',\n      'recruiterTitle': '人事行政部经理',\n      'recruiterId': '0e34843226890f32074fdfd5a624b252',\n      'recruiterPhoto': '5f8f9865ea60860b75384fa508u.jpg'},\n     'comp': {'link': 'https://www.liepin.com/company/8036842/',\n      'compScale': '1-49人',\n      'compName': '广州市番禺区得宝立房产实业有限公司',\n      'compId': 8036842,\n      'compIndustry': '房地产开发经营',\n      'compLogo': '61b07937d0458d53c627567e02u.jpg'},\n     'dataInfo': '%7B%22ckId%22%3A%22h2c8pxojavrmo1w785z7ueih2ybfpux8%22%2C%22scene%22%3A%22input%22%2C%22pageSize%22%3A%2240%22%2C%22curPage%22%3A%220%22%2C%22skId%22%3A%22h2c8pxojavrmo1w785z7ueih2ybfpux8%22%2C%22fkId%22%3A%22h2c8pxojavrmo1w785z7ueih2ybfpux8%22%2C%22sfrom%22%3A%22search_job_pc%22%2C%22jobId%22%3A%2262488883%22%2C%22jobKind%22%3A%222%22%2C%22d_curPage%22%3A%220%22%2C%22d_pageSize%22%3A%2240%22%2C%22as_from%22%3A%22search_prime%22%7D',\n     'dataParams': '{\"imId\":\"ea3e06eb6ec240eb8d1ff84e0a6c6898\",\"imUserType\":\"2\",\"jobId\":\"62488883\",\"jobKind\":\"2\",\"recruiterName\":\"冯女士\",\"userId\":\"0e34843226890f32074fdfd5a624b252\",\"recruiterPhoto\":\"5f8f9865ea60860b75384fa508u.jpg\"}'},\n    {'job': {'labels': ['品牌推广', '市场推广', '活动策划', '市场营销', '市场拓展'],\n      'link': 'https://www.liepin.com/a/50473119.shtml',\n      'advViewFlag': False,\n      'topJob': False,\n      'refreshTime': '20231031152203',\n      'dq': '广州',\n      'title': '市场总监',\n      'jobId': '50473119',\n      'jobKind': '1',\n      'salary': '150-200k',\n      'requireWorkYears': '10年以上',\n      'requireEduLevel': '本科',\n      'dataPromId': 'd_sfrom=search_prime&d_ckId=null&d_curPage=0&d_pageSize=40&d_headId=null&d_posi=37&skId=h2c8pxojavrmo1w785z7ueih2ybfpux8&fkId=h2c8pxojavrmo1w785z7ueih2ybfpux8&ckId=h2c8pxojavrmo1w785z7ueih2ybfpux8&sfrom=search_job_pc&curPage=0&pageSize=40&index=37'},\n     'recruiter': {'imId': 'e49e15d2ccb5ff4ecc809655362a8e54',\n      'imUserType': '2',\n      'chatted': False,\n      'recruiterName': '谈女士',\n      'recruiterTitle': '猎头顾问',\n      'recruiterId': '1cc9a7685fa032bcb094eb03ce55d45d',\n      'recruiterPhoto': '592e711570323cc6a2d4482c04a.jpg'},\n     'comp': {'link': '',\n      'compScale': '2000-5000人',\n      'compName': '某广州服装/纺织/皮革上市公司',\n      'compIndustry': '服装/纺织/皮革',\n      'compStage': '已上市',\n      'compLogo': '60e2fe0bf3df194a3c48adb502u.png'},\n     'dataInfo': '%7B%22ckId%22%3A%22h2c8pxojavrmo1w785z7ueih2ybfpux8%22%2C%22scene%22%3A%22input%22%2C%22pageSize%22%3A%2240%22%2C%22curPage%22%3A%220%22%2C%22skId%22%3A%22h2c8pxojavrmo1w785z7ueih2ybfpux8%22%2C%22fkId%22%3A%22h2c8pxojavrmo1w785z7ueih2ybfpux8%22%2C%22sfrom%22%3A%22search_job_pc%22%2C%22jobId%22%3A%2250473119%22%2C%22jobKind%22%3A%221%22%2C%22d_curPage%22%3A%220%22%2C%22d_pageSize%22%3A%2240%22%2C%22as_from%22%3A%22search_prime%22%7D',\n     'dataParams': '{\"imId\":\"e49e15d2ccb5ff4ecc809655362a8e54\",\"imUserType\":\"2\",\"jobId\":\"50473119\",\"jobKind\":\"1\",\"recruiterName\":\"谈女士\",\"userId\":\"1cc9a7685fa032bcb094eb03ce55d45d\",\"recruiterPhoto\":\"592e711570323cc6a2d4482c04a.jpg\"}'},\n    {'job': {'labels': [],\n      'link': 'https://www.liepin.com/job/1963316579.shtml',\n      'advViewFlag': False,\n      'topJob': False,\n      'refreshTime': '20231201102047',\n      'dq': '广州-海珠区',\n      'title': '广告投放优化师（抖音渠道）',\n      'jobId': '63316579',\n      'jobKind': '2',\n      'salary': '8-12k',\n      'requireWorkYears': '1-3年',\n      'requireEduLevel': '本科',\n      'pcOuterLink': '',\n      'h5OuterLink': '',\n      'dataPromId': 'd_sfrom=search_prime&d_ckId=null&d_curPage=0&d_pageSize=40&d_headId=null&d_posi=38&skId=h2c8pxojavrmo1w785z7ueih2ybfpux8&fkId=h2c8pxojavrmo1w785z7ueih2ybfpux8&ckId=h2c8pxojavrmo1w785z7ueih2ybfpux8&sfrom=search_job_pc&curPage=0&pageSize=40&index=38'},\n     'recruiter': {'imId': 'd5b785128e48827bf0e943e3aa9ed4a9',\n      'imUserType': '2',\n      'chatted': False,\n      'recruiterName': '潘女士',\n      'recruiterTitle': '招聘经理',\n      'recruiterId': '00a147b384567427fd08789b64b2ab78',\n      'recruiterPhoto': '5f8f98648dbe6273dcf8515508u.jpg'},\n     'comp': {'link': 'https://www.liepin.com/company/8565691/',\n      'compScale': '500-999人',\n      'compName': '凡科',\n      'compId': 8565691,\n      'compIndustry': '互联网',\n      'compStage': '新三板上市',\n      'compLogo': '5f0e8273639c8353866faf6d01u.png'},\n     'dataInfo': '%7B%22ckId%22%3A%22h2c8pxojavrmo1w785z7ueih2ybfpux8%22%2C%22scene%22%3A%22input%22%2C%22pageSize%22%3A%2240%22%2C%22curPage%22%3A%220%22%2C%22skId%22%3A%22h2c8pxojavrmo1w785z7ueih2ybfpux8%22%2C%22fkId%22%3A%22h2c8pxojavrmo1w785z7ueih2ybfpux8%22%2C%22sfrom%22%3A%22search_job_pc%22%2C%22jobId%22%3A%2263316579%22%2C%22jobKind%22%3A%222%22%2C%22d_curPage%22%3A%220%22%2C%22d_pageSize%22%3A%2240%22%2C%22as_from%22%3A%22search_prime%22%7D',\n     'dataParams': '{\"imId\":\"d5b785128e48827bf0e943e3aa9ed4a9\",\"imUserType\":\"2\",\"jobId\":\"63316579\",\"jobKind\":\"2\",\"recruiterName\":\"潘女士\",\"userId\":\"00a147b384567427fd08789b64b2ab78\",\"recruiterPhoto\":\"5f8f98648dbe6273dcf8515508u.jpg\"}'},\n    {'job': {'labels': ['知乎平台', '小红书平台', 'MCN', 'KOL营销'],\n      'link': 'https://www.liepin.com/job/1963299097.shtml',\n      'advViewFlag': False,\n      'topJob': False,\n      'refreshTime': '20231130114319',\n      'dq': '广州-海珠区',\n      'title': '渠道商务经理',\n      'jobId': '63299097',\n      'jobKind': '2',\n      'salary': '10-15k',\n      'requireWorkYears': '1-3年',\n      'requireEduLevel': '统招本科',\n      'pcOuterLink': '',\n      'h5OuterLink': '',\n      'dataPromId': 'd_sfrom=search_prime&d_ckId=null&d_curPage=0&d_pageSize=40&d_headId=null&d_posi=39&skId=h2c8pxojavrmo1w785z7ueih2ybfpux8&fkId=h2c8pxojavrmo1w785z7ueih2ybfpux8&ckId=h2c8pxojavrmo1w785z7ueih2ybfpux8&sfrom=search_job_pc&curPage=0&pageSize=40&index=39'},\n     'recruiter': {'imId': 'ddb18eb835b618f2c562567b5e2dfc82',\n      'imUserType': '2',\n      'chatted': False,\n      'recruiterName': '邓女士',\n      'recruiterTitle': 'HR',\n      'recruiterId': '47fd62b8bcc38f9c91c3ab93b929d3f9',\n      'recruiterPhoto': '6561da1a569fe3770545ee8804u.png'},\n     'comp': {'link': 'https://www.liepin.com/company/12702271/',\n      'compScale': '50-99人',\n      'compName': '北京知外文化',\n      'compId': 12702271,\n      'compIndustry': '广告/公关/会展',\n      'compLogo': '63fef08ca69a635e72b26f0201u.png'},\n     'dataInfo': '%7B%22ckId%22%3A%22h2c8pxojavrmo1w785z7ueih2ybfpux8%22%2C%22scene%22%3A%22input%22%2C%22pageSize%22%3A%2240%22%2C%22curPage%22%3A%220%22%2C%22skId%22%3A%22h2c8pxojavrmo1w785z7ueih2ybfpux8%22%2C%22fkId%22%3A%22h2c8pxojavrmo1w785z7ueih2ybfpux8%22%2C%22sfrom%22%3A%22search_job_pc%22%2C%22jobId%22%3A%2263299097%22%2C%22jobKind%22%3A%222%22%2C%22d_curPage%22%3A%220%22%2C%22d_pageSize%22%3A%2240%22%2C%22as_from%22%3A%22search_prime%22%7D',\n     'dataParams': '{\"imId\":\"ddb18eb835b618f2c562567b5e2dfc82\",\"imUserType\":\"2\",\"jobId\":\"63299097\",\"jobKind\":\"2\",\"recruiterName\":\"邓女士\",\"userId\":\"47fd62b8bcc38f9c91c3ab93b929d3f9\",\"recruiterPhoto\":\"6561da1a569fe3770545ee8804u.png\"}'}],\n   'compList': []},\n  'passThroughData': {'ckId': 'h2c8pxojavrmo1w785z7ueih2ybfpux8',\n   'scene': 'input',\n   'skId': 'h2c8pxojavrmo1w785z7ueih2ybfpux8',\n   'fkId': 'h2c8pxojavrmo1w785z7ueih2ybfpux8',\n   'sfrom': 'search_job_pc'},\n  'pagination': {'totalCounts': 225,\n   'totalPage': 6,\n   'pageSize': 40,\n   'currentPage': 0,\n   'hasNext': False}}}"
     },
     "execution_count": 11,
     "metadata": {},
     "output_type": "execute_result"
    }
   ],
   "source": [
    "import time\n",
    "import random\n",
    "wait_time = random.randint(3,10)\n",
    "\n",
    "payload = payloadd(str(城市),str(关键词),str(学历))\n",
    "# create an HTML session using Requests-HTML\n",
    "session = HTMLSession()\n",
    "r = session.post(url, data=json.dumps(payload), headers=headers())\n",
    "\n",
    "# extract the JSON data from the response\n",
    "response_data = r.json()\n",
    "\n",
    "# example: print the number of job postings returned\n",
    "response_data"
   ],
   "metadata": {
    "collapsed": false
   }
  },
  {
   "cell_type": "code",
   "execution_count": 12,
   "outputs": [
    {
     "data": {
      "text/plain": "6"
     },
     "execution_count": 12,
     "metadata": {},
     "output_type": "execute_result"
    }
   ],
   "source": [
    "page = response_data['data']['pagination']['totalPage']\n",
    "page"
   ],
   "metadata": {
    "collapsed": false
   }
  },
  {
   "cell_type": "markdown",
   "source": [
    "# 10.翻页获取内容，并组合转为通俗易懂的图表"
   ],
   "metadata": {
    "collapsed": false
   }
  },
  {
   "cell_type": "code",
   "execution_count": 13,
   "outputs": [],
   "source": [
    "import pandas as pd\n",
    "import requests\n",
    "response_df = []\n",
    "for i in range(3): # 需要判断页面的数据有多少页\n",
    "    payload['data']['mainSearchPcConditionForm']['currentPage']=i\n",
    "    df = pd.json_normalize(response_data['data']['data']['jobCardList'])\n",
    "    response_df.append(df)\n",
    "    time.sleep(wait_time)"
   ],
   "metadata": {
    "collapsed": false
   }
  },
  {
   "cell_type": "code",
   "execution_count": 14,
   "outputs": [
    {
     "data": {
      "text/plain": "                                             dataInfo  \\\n0   %7B%22ckId%22%3A%22h2c8pxojavrmo1w785z7ueih2yb...   \n1   %7B%22ckId%22%3A%22h2c8pxojavrmo1w785z7ueih2yb...   \n2   %7B%22ckId%22%3A%22h2c8pxojavrmo1w785z7ueih2yb...   \n3   %7B%22ckId%22%3A%22h2c8pxojavrmo1w785z7ueih2yb...   \n4   %7B%22ckId%22%3A%22h2c8pxojavrmo1w785z7ueih2yb...   \n..                                                ...   \n35  %7B%22ckId%22%3A%22h2c8pxojavrmo1w785z7ueih2yb...   \n36  %7B%22ckId%22%3A%22h2c8pxojavrmo1w785z7ueih2yb...   \n37  %7B%22ckId%22%3A%22h2c8pxojavrmo1w785z7ueih2yb...   \n38  %7B%22ckId%22%3A%22h2c8pxojavrmo1w785z7ueih2yb...   \n39  %7B%22ckId%22%3A%22h2c8pxojavrmo1w785z7ueih2yb...   \n\n                                           dataParams  \\\n0   {\"imId\":\"26589f3a62c07bda36d8c7038f74fcb7\",\"im...   \n1   {\"imId\":\"4b0541da576efe8d816841a4612c5b46\",\"im...   \n2   {\"imId\":\"f6d635b5b40785c98c8c33ff4072bd7f\",\"im...   \n3   {\"imId\":\"3f510c2eb0181bccd9f9b108068c7fc3\",\"im...   \n4   {\"imId\":\"e4026a9d386e3fb12b1d8d3fa16dcfe7\",\"im...   \n..                                                ...   \n35  {\"imId\":\"4b18ef0259b624bd160b5b344d4ef7b6\",\"im...   \n36  {\"imId\":\"ea3e06eb6ec240eb8d1ff84e0a6c6898\",\"im...   \n37  {\"imId\":\"e49e15d2ccb5ff4ecc809655362a8e54\",\"im...   \n38  {\"imId\":\"d5b785128e48827bf0e943e3aa9ed4a9\",\"im...   \n39  {\"imId\":\"ddb18eb835b618f2c562567b5e2dfc82\",\"im...   \n\n                                           job.labels  \\\n0   [文案策划, 媒介策划, 广告策划, 网站策划, 营销策划, 客户管理, 广告媒体, 网络媒...   \n1   [营销策划, 广告策划, 文案策划, 网站策划, 广告媒介, 广告/传媒/文化, IT/互联...   \n2   [广告策划, 营销策划, 4A公司背景, to B, 广告/传媒/文化, IT/互联网/软件...   \n3                                  [广告策划, 活动策划, 营销策划]   \n4                        [效果广告投放经验, 竞价策划, 营销策划, 效果广告]   \n..                                                ...   \n35                                                 []   \n36                                       [前期策划, 商业建筑]   \n37                     [品牌推广, 市场推广, 活动策划, 市场营销, 市场拓展]   \n38                                                 []   \n39                          [知乎平台, 小红书平台, MCN, KOL营销]   \n\n                                       job.link  job.advViewFlag  job.topJob  \\\n0   https://www.liepin.com/job/1961023089.shtml            False       False   \n1   https://www.liepin.com/job/1963121211.shtml            False       False   \n2   https://www.liepin.com/job/1948061671.shtml            False       False   \n3   https://www.liepin.com/job/1957145127.shtml            False       False   \n4   https://www.liepin.com/job/1959106999.shtml            False       False   \n..                                          ...              ...         ...   \n35  https://www.liepin.com/job/1955269335.shtml            False       False   \n36  https://www.liepin.com/job/1962488883.shtml            False       False   \n37      https://www.liepin.com/a/50473119.shtml            False       False   \n38  https://www.liepin.com/job/1963316579.shtml            False       False   \n39  https://www.liepin.com/job/1963299097.shtml            False       False   \n\n   job.refreshTime  job.dq          job.title job.jobId  ...  \\\n0   20230822164123  广州-黄埔区             广告策划经理  61023089  ...   \n1   20231122174436  广州-天河区               广告策划  63121211  ...   \n2   20231130154242  广州-天河区               广告策划  48061671  ...   \n3   20230321121700  广州-增城区             广告策划主管  57145127  ...   \n4   20231114165850  广州-海珠区             效果广告策划  59106999  ...   \n..             ...     ...                ...       ...  ...   \n35  20221229231640  广州-从化区               品牌总监  55269335  ...   \n36  20231026132335  广州-番禺区  策划经理（品牌建设与活动策划方向）  62488883  ...   \n37  20231031152203      广州               市场总监  50473119  ...   \n38  20231201102047  广州-海珠区      广告投放优化师（抖音渠道）  63316579  ...   \n39  20231130114319  广州-海珠区             渠道商务经理  63299097  ...   \n\n   recruiter.recruiterTitle             recruiter.recruiterId  \\\n0                      招聘经理  aadd6feb5284fb88fe617cf9abcae704   \n1                    人力资源经理  f50982b6b6a4646b0a0465cbb5fe98a9   \n2                  高级人力资源经理  13b4fbc929297c57cab68a818831b544   \n3                            caee11e4e63bb05dd03784ce9c33c2b0   \n4                  高级HRBP经理  5442d31b7043ad0e89bfd16d86f01372   \n..                      ...                               ...   \n35                           8446ce98c7a1d6b442c5469df0b09132   \n36                  人事行政部经理  0e34843226890f32074fdfd5a624b252   \n37                     猎头顾问  1cc9a7685fa032bcb094eb03ce55d45d   \n38                     招聘经理  00a147b384567427fd08789b64b2ab78   \n39                       HR  47fd62b8bcc38f9c91c3ab93b929d3f9   \n\n           recruiter.recruiterPhoto                                 comp.link  \\\n0   64b290564767061a4c09cecc04u.png   https://www.liepin.com/company/9770323/   \n1   5f8f986aea60860b75384fab08u.jpg   https://www.liepin.com/company/9739457/   \n2   6247b4bc8c74e57d84e936f405u.png   https://www.liepin.com/company/7855801/   \n3   5f8f9863f6d1ab58476f246a08u.jpg  https://www.liepin.com/company/10280429/   \n4   610b5b6d0e53225d69e1e7cf05u.png   https://www.liepin.com/company/1054367/   \n..                              ...                                       ...   \n35  5f8f986aea60860b75384fab08u.jpg    https://www.liepin.com/company/571564/   \n36  5f8f9865ea60860b75384fa508u.jpg   https://www.liepin.com/company/8036842/   \n37  592e711570323cc6a2d4482c04a.jpg                                             \n38  5f8f98648dbe6273dcf8515508u.jpg   https://www.liepin.com/company/8565691/   \n39  6561da1a569fe3770545ee8804u.png  https://www.liepin.com/company/12702271/   \n\n   comp.compScale      comp.compName comp.compId comp.compIndustry  \\\n0        10000人以上               京东物流   9770323.0          货运/物流/仓储   \n1        100-499人       广州信日信息科技有限公司   9739457.0          广告/公关/会展   \n2        100-499人                宝宝树   7855801.0           在线社交/媒体   \n3      2000-5000人    五羊━本田摩托(广州)有限公司  10280429.0             其他制造业   \n4      2000-5000人               省广集团   1054367.0          广告/公关/会展   \n..            ...                ...         ...               ...   \n35     2000-5000人               天狮集团    571564.0                日化   \n36          1-49人  广州市番禺区得宝立房产实业有限公司   8036842.0           房地产开发经营   \n37     2000-5000人    某广州服装/纺织/皮革上市公司         NaN          服装/纺织/皮革   \n38       500-999人                 凡科   8565691.0               互联网   \n39         50-99人             北京知外文化  12702271.0          广告/公关/会展   \n\n   comp.compStage                    comp.compLogo  \n0            港股上市  5f3b73cb9d37de587955cfe104u.png  \n1             NaN  5c6bb406509919c4f5f7271203u.png  \n2            港股上市  5d81843d28021708fa48783504u.png  \n3             NaN  63ac00101eca7a1a5442e36c06u.png  \n4          沪深A股上市  5d803842d0e79f08cffdfb2208u.png  \n..            ...                              ...  \n35            NaN  5bfe92e474719d9f609a828a03a.png  \n36            NaN  61b07937d0458d53c627567e02u.jpg  \n37            已上市  60e2fe0bf3df194a3c48adb502u.png  \n38          新三板上市  5f0e8273639c8353866faf6d01u.png  \n39            NaN  63fef08ca69a635e72b26f0201u.png  \n\n[120 rows x 31 columns]",
      "text/html": "<div>\n<style scoped>\n    .dataframe tbody tr th:only-of-type {\n        vertical-align: middle;\n    }\n\n    .dataframe tbody tr th {\n        vertical-align: top;\n    }\n\n    .dataframe thead th {\n        text-align: right;\n    }\n</style>\n<table border=\"1\" class=\"dataframe\">\n  <thead>\n    <tr style=\"text-align: right;\">\n      <th></th>\n      <th>dataInfo</th>\n      <th>dataParams</th>\n      <th>job.labels</th>\n      <th>job.link</th>\n      <th>job.advViewFlag</th>\n      <th>job.topJob</th>\n      <th>job.refreshTime</th>\n      <th>job.dq</th>\n      <th>job.title</th>\n      <th>job.jobId</th>\n      <th>...</th>\n      <th>recruiter.recruiterTitle</th>\n      <th>recruiter.recruiterId</th>\n      <th>recruiter.recruiterPhoto</th>\n      <th>comp.link</th>\n      <th>comp.compScale</th>\n      <th>comp.compName</th>\n      <th>comp.compId</th>\n      <th>comp.compIndustry</th>\n      <th>comp.compStage</th>\n      <th>comp.compLogo</th>\n    </tr>\n  </thead>\n  <tbody>\n    <tr>\n      <th>0</th>\n      <td>%7B%22ckId%22%3A%22h2c8pxojavrmo1w785z7ueih2yb...</td>\n      <td>{\"imId\":\"26589f3a62c07bda36d8c7038f74fcb7\",\"im...</td>\n      <td>[文案策划, 媒介策划, 广告策划, 网站策划, 营销策划, 客户管理, 广告媒体, 网络媒...</td>\n      <td>https://www.liepin.com/job/1961023089.shtml</td>\n      <td>False</td>\n      <td>False</td>\n      <td>20230822164123</td>\n      <td>广州-黄埔区</td>\n      <td>广告策划经理</td>\n      <td>61023089</td>\n      <td>...</td>\n      <td>招聘经理</td>\n      <td>aadd6feb5284fb88fe617cf9abcae704</td>\n      <td>64b290564767061a4c09cecc04u.png</td>\n      <td>https://www.liepin.com/company/9770323/</td>\n      <td>10000人以上</td>\n      <td>京东物流</td>\n      <td>9770323.0</td>\n      <td>货运/物流/仓储</td>\n      <td>港股上市</td>\n      <td>5f3b73cb9d37de587955cfe104u.png</td>\n    </tr>\n    <tr>\n      <th>1</th>\n      <td>%7B%22ckId%22%3A%22h2c8pxojavrmo1w785z7ueih2yb...</td>\n      <td>{\"imId\":\"4b0541da576efe8d816841a4612c5b46\",\"im...</td>\n      <td>[营销策划, 广告策划, 文案策划, 网站策划, 广告媒介, 广告/传媒/文化, IT/互联...</td>\n      <td>https://www.liepin.com/job/1963121211.shtml</td>\n      <td>False</td>\n      <td>False</td>\n      <td>20231122174436</td>\n      <td>广州-天河区</td>\n      <td>广告策划</td>\n      <td>63121211</td>\n      <td>...</td>\n      <td>人力资源经理</td>\n      <td>f50982b6b6a4646b0a0465cbb5fe98a9</td>\n      <td>5f8f986aea60860b75384fab08u.jpg</td>\n      <td>https://www.liepin.com/company/9739457/</td>\n      <td>100-499人</td>\n      <td>广州信日信息科技有限公司</td>\n      <td>9739457.0</td>\n      <td>广告/公关/会展</td>\n      <td>NaN</td>\n      <td>5c6bb406509919c4f5f7271203u.png</td>\n    </tr>\n    <tr>\n      <th>2</th>\n      <td>%7B%22ckId%22%3A%22h2c8pxojavrmo1w785z7ueih2yb...</td>\n      <td>{\"imId\":\"f6d635b5b40785c98c8c33ff4072bd7f\",\"im...</td>\n      <td>[广告策划, 营销策划, 4A公司背景, to B, 广告/传媒/文化, IT/互联网/软件...</td>\n      <td>https://www.liepin.com/job/1948061671.shtml</td>\n      <td>False</td>\n      <td>False</td>\n      <td>20231130154242</td>\n      <td>广州-天河区</td>\n      <td>广告策划</td>\n      <td>48061671</td>\n      <td>...</td>\n      <td>高级人力资源经理</td>\n      <td>13b4fbc929297c57cab68a818831b544</td>\n      <td>6247b4bc8c74e57d84e936f405u.png</td>\n      <td>https://www.liepin.com/company/7855801/</td>\n      <td>100-499人</td>\n      <td>宝宝树</td>\n      <td>7855801.0</td>\n      <td>在线社交/媒体</td>\n      <td>港股上市</td>\n      <td>5d81843d28021708fa48783504u.png</td>\n    </tr>\n    <tr>\n      <th>3</th>\n      <td>%7B%22ckId%22%3A%22h2c8pxojavrmo1w785z7ueih2yb...</td>\n      <td>{\"imId\":\"3f510c2eb0181bccd9f9b108068c7fc3\",\"im...</td>\n      <td>[广告策划, 活动策划, 营销策划]</td>\n      <td>https://www.liepin.com/job/1957145127.shtml</td>\n      <td>False</td>\n      <td>False</td>\n      <td>20230321121700</td>\n      <td>广州-增城区</td>\n      <td>广告策划主管</td>\n      <td>57145127</td>\n      <td>...</td>\n      <td></td>\n      <td>caee11e4e63bb05dd03784ce9c33c2b0</td>\n      <td>5f8f9863f6d1ab58476f246a08u.jpg</td>\n      <td>https://www.liepin.com/company/10280429/</td>\n      <td>2000-5000人</td>\n      <td>五羊━本田摩托(广州)有限公司</td>\n      <td>10280429.0</td>\n      <td>其他制造业</td>\n      <td>NaN</td>\n      <td>63ac00101eca7a1a5442e36c06u.png</td>\n    </tr>\n    <tr>\n      <th>4</th>\n      <td>%7B%22ckId%22%3A%22h2c8pxojavrmo1w785z7ueih2yb...</td>\n      <td>{\"imId\":\"e4026a9d386e3fb12b1d8d3fa16dcfe7\",\"im...</td>\n      <td>[效果广告投放经验, 竞价策划, 营销策划, 效果广告]</td>\n      <td>https://www.liepin.com/job/1959106999.shtml</td>\n      <td>False</td>\n      <td>False</td>\n      <td>20231114165850</td>\n      <td>广州-海珠区</td>\n      <td>效果广告策划</td>\n      <td>59106999</td>\n      <td>...</td>\n      <td>高级HRBP经理</td>\n      <td>5442d31b7043ad0e89bfd16d86f01372</td>\n      <td>610b5b6d0e53225d69e1e7cf05u.png</td>\n      <td>https://www.liepin.com/company/1054367/</td>\n      <td>2000-5000人</td>\n      <td>省广集团</td>\n      <td>1054367.0</td>\n      <td>广告/公关/会展</td>\n      <td>沪深A股上市</td>\n      <td>5d803842d0e79f08cffdfb2208u.png</td>\n    </tr>\n    <tr>\n      <th>...</th>\n      <td>...</td>\n      <td>...</td>\n      <td>...</td>\n      <td>...</td>\n      <td>...</td>\n      <td>...</td>\n      <td>...</td>\n      <td>...</td>\n      <td>...</td>\n      <td>...</td>\n      <td>...</td>\n      <td>...</td>\n      <td>...</td>\n      <td>...</td>\n      <td>...</td>\n      <td>...</td>\n      <td>...</td>\n      <td>...</td>\n      <td>...</td>\n      <td>...</td>\n      <td>...</td>\n    </tr>\n    <tr>\n      <th>35</th>\n      <td>%7B%22ckId%22%3A%22h2c8pxojavrmo1w785z7ueih2yb...</td>\n      <td>{\"imId\":\"4b18ef0259b624bd160b5b344d4ef7b6\",\"im...</td>\n      <td>[]</td>\n      <td>https://www.liepin.com/job/1955269335.shtml</td>\n      <td>False</td>\n      <td>False</td>\n      <td>20221229231640</td>\n      <td>广州-从化区</td>\n      <td>品牌总监</td>\n      <td>55269335</td>\n      <td>...</td>\n      <td></td>\n      <td>8446ce98c7a1d6b442c5469df0b09132</td>\n      <td>5f8f986aea60860b75384fab08u.jpg</td>\n      <td>https://www.liepin.com/company/571564/</td>\n      <td>2000-5000人</td>\n      <td>天狮集团</td>\n      <td>571564.0</td>\n      <td>日化</td>\n      <td>NaN</td>\n      <td>5bfe92e474719d9f609a828a03a.png</td>\n    </tr>\n    <tr>\n      <th>36</th>\n      <td>%7B%22ckId%22%3A%22h2c8pxojavrmo1w785z7ueih2yb...</td>\n      <td>{\"imId\":\"ea3e06eb6ec240eb8d1ff84e0a6c6898\",\"im...</td>\n      <td>[前期策划, 商业建筑]</td>\n      <td>https://www.liepin.com/job/1962488883.shtml</td>\n      <td>False</td>\n      <td>False</td>\n      <td>20231026132335</td>\n      <td>广州-番禺区</td>\n      <td>策划经理（品牌建设与活动策划方向）</td>\n      <td>62488883</td>\n      <td>...</td>\n      <td>人事行政部经理</td>\n      <td>0e34843226890f32074fdfd5a624b252</td>\n      <td>5f8f9865ea60860b75384fa508u.jpg</td>\n      <td>https://www.liepin.com/company/8036842/</td>\n      <td>1-49人</td>\n      <td>广州市番禺区得宝立房产实业有限公司</td>\n      <td>8036842.0</td>\n      <td>房地产开发经营</td>\n      <td>NaN</td>\n      <td>61b07937d0458d53c627567e02u.jpg</td>\n    </tr>\n    <tr>\n      <th>37</th>\n      <td>%7B%22ckId%22%3A%22h2c8pxojavrmo1w785z7ueih2yb...</td>\n      <td>{\"imId\":\"e49e15d2ccb5ff4ecc809655362a8e54\",\"im...</td>\n      <td>[品牌推广, 市场推广, 活动策划, 市场营销, 市场拓展]</td>\n      <td>https://www.liepin.com/a/50473119.shtml</td>\n      <td>False</td>\n      <td>False</td>\n      <td>20231031152203</td>\n      <td>广州</td>\n      <td>市场总监</td>\n      <td>50473119</td>\n      <td>...</td>\n      <td>猎头顾问</td>\n      <td>1cc9a7685fa032bcb094eb03ce55d45d</td>\n      <td>592e711570323cc6a2d4482c04a.jpg</td>\n      <td></td>\n      <td>2000-5000人</td>\n      <td>某广州服装/纺织/皮革上市公司</td>\n      <td>NaN</td>\n      <td>服装/纺织/皮革</td>\n      <td>已上市</td>\n      <td>60e2fe0bf3df194a3c48adb502u.png</td>\n    </tr>\n    <tr>\n      <th>38</th>\n      <td>%7B%22ckId%22%3A%22h2c8pxojavrmo1w785z7ueih2yb...</td>\n      <td>{\"imId\":\"d5b785128e48827bf0e943e3aa9ed4a9\",\"im...</td>\n      <td>[]</td>\n      <td>https://www.liepin.com/job/1963316579.shtml</td>\n      <td>False</td>\n      <td>False</td>\n      <td>20231201102047</td>\n      <td>广州-海珠区</td>\n      <td>广告投放优化师（抖音渠道）</td>\n      <td>63316579</td>\n      <td>...</td>\n      <td>招聘经理</td>\n      <td>00a147b384567427fd08789b64b2ab78</td>\n      <td>5f8f98648dbe6273dcf8515508u.jpg</td>\n      <td>https://www.liepin.com/company/8565691/</td>\n      <td>500-999人</td>\n      <td>凡科</td>\n      <td>8565691.0</td>\n      <td>互联网</td>\n      <td>新三板上市</td>\n      <td>5f0e8273639c8353866faf6d01u.png</td>\n    </tr>\n    <tr>\n      <th>39</th>\n      <td>%7B%22ckId%22%3A%22h2c8pxojavrmo1w785z7ueih2yb...</td>\n      <td>{\"imId\":\"ddb18eb835b618f2c562567b5e2dfc82\",\"im...</td>\n      <td>[知乎平台, 小红书平台, MCN, KOL营销]</td>\n      <td>https://www.liepin.com/job/1963299097.shtml</td>\n      <td>False</td>\n      <td>False</td>\n      <td>20231130114319</td>\n      <td>广州-海珠区</td>\n      <td>渠道商务经理</td>\n      <td>63299097</td>\n      <td>...</td>\n      <td>HR</td>\n      <td>47fd62b8bcc38f9c91c3ab93b929d3f9</td>\n      <td>6561da1a569fe3770545ee8804u.png</td>\n      <td>https://www.liepin.com/company/12702271/</td>\n      <td>50-99人</td>\n      <td>北京知外文化</td>\n      <td>12702271.0</td>\n      <td>广告/公关/会展</td>\n      <td>NaN</td>\n      <td>63fef08ca69a635e72b26f0201u.png</td>\n    </tr>\n  </tbody>\n</table>\n<p>120 rows × 31 columns</p>\n</div>"
     },
     "execution_count": 14,
     "metadata": {},
     "output_type": "execute_result"
    }
   ],
   "source": [
    "df = pd.concat(response_df)\n",
    "df"
   ],
   "metadata": {
    "collapsed": false
   }
  },
  {
   "cell_type": "markdown",
   "source": [
    "# 11.将输入的数据赋值，来为输出图表命名"
   ],
   "metadata": {
    "collapsed": false
   }
  },
  {
   "cell_type": "code",
   "execution_count": 15,
   "outputs": [
    {
     "data": {
      "text/plain": "'广告策划'"
     },
     "execution_count": 15,
     "metadata": {},
     "output_type": "execute_result"
    }
   ],
   "source": [
    "key = payload['data']['mainSearchPcConditionForm']['key']\n",
    "key"
   ],
   "metadata": {
    "collapsed": false
   }
  },
  {
   "cell_type": "code",
   "execution_count": 16,
   "outputs": [
    {
     "data": {
      "text/plain": "'广州'"
     },
     "execution_count": 16,
     "metadata": {},
     "output_type": "execute_result"
    }
   ],
   "source": [
    "cities = str(城市)\n",
    "cities"
   ],
   "metadata": {
    "collapsed": false
   }
  },
  {
   "cell_type": "markdown",
   "source": [
    "# 12.加入时间戳"
   ],
   "metadata": {
    "collapsed": false
   }
  },
  {
   "cell_type": "code",
   "execution_count": 17,
   "outputs": [
    {
     "data": {
      "text/plain": "'2023-12-2_0-47'"
     },
     "execution_count": 17,
     "metadata": {},
     "output_type": "execute_result"
    }
   ],
   "source": [
    "import time\n",
    "time.localtime()\n",
    "output_time = str(time.localtime().tm_year)+'-'\\\n",
    "              +str(time.localtime().tm_mon)+'-'\\\n",
    "             +str(time.localtime().tm_mday)+'_'\\\n",
    "             +str(time.localtime().tm_hour)+'-' \\\n",
    "             +str(time.localtime().tm_min)\n",
    "output_time\n"
   ],
   "metadata": {
    "collapsed": false
   }
  },
  {
   "cell_type": "markdown",
   "source": [
    "# 13.输出为excel"
   ],
   "metadata": {
    "collapsed": false
   }
  },
  {
   "cell_type": "code",
   "execution_count": 18,
   "outputs": [],
   "source": [
    "df.to_excel( '猎聘'+cities+'-'+key+output_time+'.xlsx')"
   ],
   "metadata": {
    "collapsed": false
   }
  },
  {
   "cell_type": "markdown",
   "source": [
    "# 14.读取excel"
   ],
   "metadata": {
    "collapsed": false
   }
  },
  {
   "cell_type": "code",
   "execution_count": 19,
   "outputs": [],
   "source": [
    "import pandas as pd"
   ],
   "metadata": {
    "collapsed": false
   }
  },
  {
   "cell_type": "code",
   "execution_count": 20,
   "outputs": [
    {
     "data": {
      "text/plain": "     Unnamed: 0                                           dataInfo  \\\n0             0  %7B%22ckId%22%3A%22h2c8pxojavrmo1w785z7ueih2yb...   \n1             1  %7B%22ckId%22%3A%22h2c8pxojavrmo1w785z7ueih2yb...   \n2             2  %7B%22ckId%22%3A%22h2c8pxojavrmo1w785z7ueih2yb...   \n3             3  %7B%22ckId%22%3A%22h2c8pxojavrmo1w785z7ueih2yb...   \n4             4  %7B%22ckId%22%3A%22h2c8pxojavrmo1w785z7ueih2yb...   \n..          ...                                                ...   \n115          35  %7B%22ckId%22%3A%22h2c8pxojavrmo1w785z7ueih2yb...   \n116          36  %7B%22ckId%22%3A%22h2c8pxojavrmo1w785z7ueih2yb...   \n117          37  %7B%22ckId%22%3A%22h2c8pxojavrmo1w785z7ueih2yb...   \n118          38  %7B%22ckId%22%3A%22h2c8pxojavrmo1w785z7ueih2yb...   \n119          39  %7B%22ckId%22%3A%22h2c8pxojavrmo1w785z7ueih2yb...   \n\n                                            dataParams  \\\n0    {\"imId\":\"26589f3a62c07bda36d8c7038f74fcb7\",\"im...   \n1    {\"imId\":\"4b0541da576efe8d816841a4612c5b46\",\"im...   \n2    {\"imId\":\"f6d635b5b40785c98c8c33ff4072bd7f\",\"im...   \n3    {\"imId\":\"3f510c2eb0181bccd9f9b108068c7fc3\",\"im...   \n4    {\"imId\":\"e4026a9d386e3fb12b1d8d3fa16dcfe7\",\"im...   \n..                                                 ...   \n115  {\"imId\":\"4b18ef0259b624bd160b5b344d4ef7b6\",\"im...   \n116  {\"imId\":\"ea3e06eb6ec240eb8d1ff84e0a6c6898\",\"im...   \n117  {\"imId\":\"e49e15d2ccb5ff4ecc809655362a8e54\",\"im...   \n118  {\"imId\":\"d5b785128e48827bf0e943e3aa9ed4a9\",\"im...   \n119  {\"imId\":\"ddb18eb835b618f2c562567b5e2dfc82\",\"im...   \n\n                                            job.labels  \\\n0    ['文案策划', '媒介策划', '广告策划', '网站策划', '营销策划', '客户管理...   \n1    ['营销策划', '广告策划', '文案策划', '网站策划', '广告媒介', '广告/传...   \n2    ['广告策划', '营销策划', '4A公司背景', 'to B', '广告/传媒/文化',...   \n3                             ['广告策划', '活动策划', '营销策划']   \n4                 ['效果广告投放经验', '竞价策划', '营销策划', '效果广告']   \n..                                                 ...   \n115                                                 []   \n116                                   ['前期策划', '商业建筑']   \n117           ['品牌推广', '市场推广', '活动策划', '市场营销', '市场拓展']   \n118                                                 []   \n119                  ['知乎平台', '小红书平台', 'MCN', 'KOL营销']   \n\n                                        job.link  job.advViewFlag  job.topJob  \\\n0    https://www.liepin.com/job/1961023089.shtml            False       False   \n1    https://www.liepin.com/job/1963121211.shtml            False       False   \n2    https://www.liepin.com/job/1948061671.shtml            False       False   \n3    https://www.liepin.com/job/1957145127.shtml            False       False   \n4    https://www.liepin.com/job/1959106999.shtml            False       False   \n..                                           ...              ...         ...   \n115  https://www.liepin.com/job/1955269335.shtml            False       False   \n116  https://www.liepin.com/job/1962488883.shtml            False       False   \n117      https://www.liepin.com/a/50473119.shtml            False       False   \n118  https://www.liepin.com/job/1963316579.shtml            False       False   \n119  https://www.liepin.com/job/1963299097.shtml            False       False   \n\n     job.refreshTime  job.dq          job.title  ...  \\\n0     20230822164123  广州-黄埔区             广告策划经理  ...   \n1     20231122174436  广州-天河区               广告策划  ...   \n2     20231130154242  广州-天河区               广告策划  ...   \n3     20230321121700  广州-增城区             广告策划主管  ...   \n4     20231114165850  广州-海珠区             效果广告策划  ...   \n..               ...     ...                ...  ...   \n115   20221229231640  广州-从化区               品牌总监  ...   \n116   20231026132335  广州-番禺区  策划经理（品牌建设与活动策划方向）  ...   \n117   20231031152203      广州               市场总监  ...   \n118   20231201102047  广州-海珠区      广告投放优化师（抖音渠道）  ...   \n119   20231130114319  广州-海珠区             渠道商务经理  ...   \n\n     recruiter.recruiterTitle             recruiter.recruiterId  \\\n0                        招聘经理  aadd6feb5284fb88fe617cf9abcae704   \n1                      人力资源经理  f50982b6b6a4646b0a0465cbb5fe98a9   \n2                    高级人力资源经理  13b4fbc929297c57cab68a818831b544   \n3                         NaN  caee11e4e63bb05dd03784ce9c33c2b0   \n4                    高级HRBP经理  5442d31b7043ad0e89bfd16d86f01372   \n..                        ...                               ...   \n115                       NaN  8446ce98c7a1d6b442c5469df0b09132   \n116                   人事行政部经理  0e34843226890f32074fdfd5a624b252   \n117                      猎头顾问  1cc9a7685fa032bcb094eb03ce55d45d   \n118                      招聘经理  00a147b384567427fd08789b64b2ab78   \n119                        HR  47fd62b8bcc38f9c91c3ab93b929d3f9   \n\n            recruiter.recruiterPhoto  \\\n0    64b290564767061a4c09cecc04u.png   \n1    5f8f986aea60860b75384fab08u.jpg   \n2    6247b4bc8c74e57d84e936f405u.png   \n3    5f8f9863f6d1ab58476f246a08u.jpg   \n4    610b5b6d0e53225d69e1e7cf05u.png   \n..                               ...   \n115  5f8f986aea60860b75384fab08u.jpg   \n116  5f8f9865ea60860b75384fa508u.jpg   \n117  592e711570323cc6a2d4482c04a.jpg   \n118  5f8f98648dbe6273dcf8515508u.jpg   \n119  6561da1a569fe3770545ee8804u.png   \n\n                                    comp.link comp.compScale  \\\n0     https://www.liepin.com/company/9770323/       10000人以上   \n1     https://www.liepin.com/company/9739457/       100-499人   \n2     https://www.liepin.com/company/7855801/       100-499人   \n3    https://www.liepin.com/company/10280429/     2000-5000人   \n4     https://www.liepin.com/company/1054367/     2000-5000人   \n..                                        ...            ...   \n115    https://www.liepin.com/company/571564/     2000-5000人   \n116   https://www.liepin.com/company/8036842/          1-49人   \n117                                       NaN     2000-5000人   \n118   https://www.liepin.com/company/8565691/       500-999人   \n119  https://www.liepin.com/company/12702271/         50-99人   \n\n         comp.compName  comp.compId comp.compIndustry comp.compStage  \\\n0                 京东物流    9770323.0          货运/物流/仓储           港股上市   \n1         广州信日信息科技有限公司    9739457.0          广告/公关/会展            NaN   \n2                  宝宝树    7855801.0           在线社交/媒体           港股上市   \n3      五羊━本田摩托(广州)有限公司   10280429.0             其他制造业            NaN   \n4                 省广集团    1054367.0          广告/公关/会展         沪深A股上市   \n..                 ...          ...               ...            ...   \n115               天狮集团     571564.0                日化            NaN   \n116  广州市番禺区得宝立房产实业有限公司    8036842.0           房地产开发经营            NaN   \n117    某广州服装/纺织/皮革上市公司          NaN          服装/纺织/皮革            已上市   \n118                 凡科    8565691.0               互联网          新三板上市   \n119             北京知外文化   12702271.0          广告/公关/会展            NaN   \n\n                       comp.compLogo  \n0    5f3b73cb9d37de587955cfe104u.png  \n1    5c6bb406509919c4f5f7271203u.png  \n2    5d81843d28021708fa48783504u.png  \n3    63ac00101eca7a1a5442e36c06u.png  \n4    5d803842d0e79f08cffdfb2208u.png  \n..                               ...  \n115  5bfe92e474719d9f609a828a03a.png  \n116  61b07937d0458d53c627567e02u.jpg  \n117  60e2fe0bf3df194a3c48adb502u.png  \n118  5f0e8273639c8353866faf6d01u.png  \n119  63fef08ca69a635e72b26f0201u.png  \n\n[120 rows x 32 columns]",
      "text/html": "<div>\n<style scoped>\n    .dataframe tbody tr th:only-of-type {\n        vertical-align: middle;\n    }\n\n    .dataframe tbody tr th {\n        vertical-align: top;\n    }\n\n    .dataframe thead th {\n        text-align: right;\n    }\n</style>\n<table border=\"1\" class=\"dataframe\">\n  <thead>\n    <tr style=\"text-align: right;\">\n      <th></th>\n      <th>Unnamed: 0</th>\n      <th>dataInfo</th>\n      <th>dataParams</th>\n      <th>job.labels</th>\n      <th>job.link</th>\n      <th>job.advViewFlag</th>\n      <th>job.topJob</th>\n      <th>job.refreshTime</th>\n      <th>job.dq</th>\n      <th>job.title</th>\n      <th>...</th>\n      <th>recruiter.recruiterTitle</th>\n      <th>recruiter.recruiterId</th>\n      <th>recruiter.recruiterPhoto</th>\n      <th>comp.link</th>\n      <th>comp.compScale</th>\n      <th>comp.compName</th>\n      <th>comp.compId</th>\n      <th>comp.compIndustry</th>\n      <th>comp.compStage</th>\n      <th>comp.compLogo</th>\n    </tr>\n  </thead>\n  <tbody>\n    <tr>\n      <th>0</th>\n      <td>0</td>\n      <td>%7B%22ckId%22%3A%22h2c8pxojavrmo1w785z7ueih2yb...</td>\n      <td>{\"imId\":\"26589f3a62c07bda36d8c7038f74fcb7\",\"im...</td>\n      <td>['文案策划', '媒介策划', '广告策划', '网站策划', '营销策划', '客户管理...</td>\n      <td>https://www.liepin.com/job/1961023089.shtml</td>\n      <td>False</td>\n      <td>False</td>\n      <td>20230822164123</td>\n      <td>广州-黄埔区</td>\n      <td>广告策划经理</td>\n      <td>...</td>\n      <td>招聘经理</td>\n      <td>aadd6feb5284fb88fe617cf9abcae704</td>\n      <td>64b290564767061a4c09cecc04u.png</td>\n      <td>https://www.liepin.com/company/9770323/</td>\n      <td>10000人以上</td>\n      <td>京东物流</td>\n      <td>9770323.0</td>\n      <td>货运/物流/仓储</td>\n      <td>港股上市</td>\n      <td>5f3b73cb9d37de587955cfe104u.png</td>\n    </tr>\n    <tr>\n      <th>1</th>\n      <td>1</td>\n      <td>%7B%22ckId%22%3A%22h2c8pxojavrmo1w785z7ueih2yb...</td>\n      <td>{\"imId\":\"4b0541da576efe8d816841a4612c5b46\",\"im...</td>\n      <td>['营销策划', '广告策划', '文案策划', '网站策划', '广告媒介', '广告/传...</td>\n      <td>https://www.liepin.com/job/1963121211.shtml</td>\n      <td>False</td>\n      <td>False</td>\n      <td>20231122174436</td>\n      <td>广州-天河区</td>\n      <td>广告策划</td>\n      <td>...</td>\n      <td>人力资源经理</td>\n      <td>f50982b6b6a4646b0a0465cbb5fe98a9</td>\n      <td>5f8f986aea60860b75384fab08u.jpg</td>\n      <td>https://www.liepin.com/company/9739457/</td>\n      <td>100-499人</td>\n      <td>广州信日信息科技有限公司</td>\n      <td>9739457.0</td>\n      <td>广告/公关/会展</td>\n      <td>NaN</td>\n      <td>5c6bb406509919c4f5f7271203u.png</td>\n    </tr>\n    <tr>\n      <th>2</th>\n      <td>2</td>\n      <td>%7B%22ckId%22%3A%22h2c8pxojavrmo1w785z7ueih2yb...</td>\n      <td>{\"imId\":\"f6d635b5b40785c98c8c33ff4072bd7f\",\"im...</td>\n      <td>['广告策划', '营销策划', '4A公司背景', 'to B', '广告/传媒/文化',...</td>\n      <td>https://www.liepin.com/job/1948061671.shtml</td>\n      <td>False</td>\n      <td>False</td>\n      <td>20231130154242</td>\n      <td>广州-天河区</td>\n      <td>广告策划</td>\n      <td>...</td>\n      <td>高级人力资源经理</td>\n      <td>13b4fbc929297c57cab68a818831b544</td>\n      <td>6247b4bc8c74e57d84e936f405u.png</td>\n      <td>https://www.liepin.com/company/7855801/</td>\n      <td>100-499人</td>\n      <td>宝宝树</td>\n      <td>7855801.0</td>\n      <td>在线社交/媒体</td>\n      <td>港股上市</td>\n      <td>5d81843d28021708fa48783504u.png</td>\n    </tr>\n    <tr>\n      <th>3</th>\n      <td>3</td>\n      <td>%7B%22ckId%22%3A%22h2c8pxojavrmo1w785z7ueih2yb...</td>\n      <td>{\"imId\":\"3f510c2eb0181bccd9f9b108068c7fc3\",\"im...</td>\n      <td>['广告策划', '活动策划', '营销策划']</td>\n      <td>https://www.liepin.com/job/1957145127.shtml</td>\n      <td>False</td>\n      <td>False</td>\n      <td>20230321121700</td>\n      <td>广州-增城区</td>\n      <td>广告策划主管</td>\n      <td>...</td>\n      <td>NaN</td>\n      <td>caee11e4e63bb05dd03784ce9c33c2b0</td>\n      <td>5f8f9863f6d1ab58476f246a08u.jpg</td>\n      <td>https://www.liepin.com/company/10280429/</td>\n      <td>2000-5000人</td>\n      <td>五羊━本田摩托(广州)有限公司</td>\n      <td>10280429.0</td>\n      <td>其他制造业</td>\n      <td>NaN</td>\n      <td>63ac00101eca7a1a5442e36c06u.png</td>\n    </tr>\n    <tr>\n      <th>4</th>\n      <td>4</td>\n      <td>%7B%22ckId%22%3A%22h2c8pxojavrmo1w785z7ueih2yb...</td>\n      <td>{\"imId\":\"e4026a9d386e3fb12b1d8d3fa16dcfe7\",\"im...</td>\n      <td>['效果广告投放经验', '竞价策划', '营销策划', '效果广告']</td>\n      <td>https://www.liepin.com/job/1959106999.shtml</td>\n      <td>False</td>\n      <td>False</td>\n      <td>20231114165850</td>\n      <td>广州-海珠区</td>\n      <td>效果广告策划</td>\n      <td>...</td>\n      <td>高级HRBP经理</td>\n      <td>5442d31b7043ad0e89bfd16d86f01372</td>\n      <td>610b5b6d0e53225d69e1e7cf05u.png</td>\n      <td>https://www.liepin.com/company/1054367/</td>\n      <td>2000-5000人</td>\n      <td>省广集团</td>\n      <td>1054367.0</td>\n      <td>广告/公关/会展</td>\n      <td>沪深A股上市</td>\n      <td>5d803842d0e79f08cffdfb2208u.png</td>\n    </tr>\n    <tr>\n      <th>...</th>\n      <td>...</td>\n      <td>...</td>\n      <td>...</td>\n      <td>...</td>\n      <td>...</td>\n      <td>...</td>\n      <td>...</td>\n      <td>...</td>\n      <td>...</td>\n      <td>...</td>\n      <td>...</td>\n      <td>...</td>\n      <td>...</td>\n      <td>...</td>\n      <td>...</td>\n      <td>...</td>\n      <td>...</td>\n      <td>...</td>\n      <td>...</td>\n      <td>...</td>\n      <td>...</td>\n    </tr>\n    <tr>\n      <th>115</th>\n      <td>35</td>\n      <td>%7B%22ckId%22%3A%22h2c8pxojavrmo1w785z7ueih2yb...</td>\n      <td>{\"imId\":\"4b18ef0259b624bd160b5b344d4ef7b6\",\"im...</td>\n      <td>[]</td>\n      <td>https://www.liepin.com/job/1955269335.shtml</td>\n      <td>False</td>\n      <td>False</td>\n      <td>20221229231640</td>\n      <td>广州-从化区</td>\n      <td>品牌总监</td>\n      <td>...</td>\n      <td>NaN</td>\n      <td>8446ce98c7a1d6b442c5469df0b09132</td>\n      <td>5f8f986aea60860b75384fab08u.jpg</td>\n      <td>https://www.liepin.com/company/571564/</td>\n      <td>2000-5000人</td>\n      <td>天狮集团</td>\n      <td>571564.0</td>\n      <td>日化</td>\n      <td>NaN</td>\n      <td>5bfe92e474719d9f609a828a03a.png</td>\n    </tr>\n    <tr>\n      <th>116</th>\n      <td>36</td>\n      <td>%7B%22ckId%22%3A%22h2c8pxojavrmo1w785z7ueih2yb...</td>\n      <td>{\"imId\":\"ea3e06eb6ec240eb8d1ff84e0a6c6898\",\"im...</td>\n      <td>['前期策划', '商业建筑']</td>\n      <td>https://www.liepin.com/job/1962488883.shtml</td>\n      <td>False</td>\n      <td>False</td>\n      <td>20231026132335</td>\n      <td>广州-番禺区</td>\n      <td>策划经理（品牌建设与活动策划方向）</td>\n      <td>...</td>\n      <td>人事行政部经理</td>\n      <td>0e34843226890f32074fdfd5a624b252</td>\n      <td>5f8f9865ea60860b75384fa508u.jpg</td>\n      <td>https://www.liepin.com/company/8036842/</td>\n      <td>1-49人</td>\n      <td>广州市番禺区得宝立房产实业有限公司</td>\n      <td>8036842.0</td>\n      <td>房地产开发经营</td>\n      <td>NaN</td>\n      <td>61b07937d0458d53c627567e02u.jpg</td>\n    </tr>\n    <tr>\n      <th>117</th>\n      <td>37</td>\n      <td>%7B%22ckId%22%3A%22h2c8pxojavrmo1w785z7ueih2yb...</td>\n      <td>{\"imId\":\"e49e15d2ccb5ff4ecc809655362a8e54\",\"im...</td>\n      <td>['品牌推广', '市场推广', '活动策划', '市场营销', '市场拓展']</td>\n      <td>https://www.liepin.com/a/50473119.shtml</td>\n      <td>False</td>\n      <td>False</td>\n      <td>20231031152203</td>\n      <td>广州</td>\n      <td>市场总监</td>\n      <td>...</td>\n      <td>猎头顾问</td>\n      <td>1cc9a7685fa032bcb094eb03ce55d45d</td>\n      <td>592e711570323cc6a2d4482c04a.jpg</td>\n      <td>NaN</td>\n      <td>2000-5000人</td>\n      <td>某广州服装/纺织/皮革上市公司</td>\n      <td>NaN</td>\n      <td>服装/纺织/皮革</td>\n      <td>已上市</td>\n      <td>60e2fe0bf3df194a3c48adb502u.png</td>\n    </tr>\n    <tr>\n      <th>118</th>\n      <td>38</td>\n      <td>%7B%22ckId%22%3A%22h2c8pxojavrmo1w785z7ueih2yb...</td>\n      <td>{\"imId\":\"d5b785128e48827bf0e943e3aa9ed4a9\",\"im...</td>\n      <td>[]</td>\n      <td>https://www.liepin.com/job/1963316579.shtml</td>\n      <td>False</td>\n      <td>False</td>\n      <td>20231201102047</td>\n      <td>广州-海珠区</td>\n      <td>广告投放优化师（抖音渠道）</td>\n      <td>...</td>\n      <td>招聘经理</td>\n      <td>00a147b384567427fd08789b64b2ab78</td>\n      <td>5f8f98648dbe6273dcf8515508u.jpg</td>\n      <td>https://www.liepin.com/company/8565691/</td>\n      <td>500-999人</td>\n      <td>凡科</td>\n      <td>8565691.0</td>\n      <td>互联网</td>\n      <td>新三板上市</td>\n      <td>5f0e8273639c8353866faf6d01u.png</td>\n    </tr>\n    <tr>\n      <th>119</th>\n      <td>39</td>\n      <td>%7B%22ckId%22%3A%22h2c8pxojavrmo1w785z7ueih2yb...</td>\n      <td>{\"imId\":\"ddb18eb835b618f2c562567b5e2dfc82\",\"im...</td>\n      <td>['知乎平台', '小红书平台', 'MCN', 'KOL营销']</td>\n      <td>https://www.liepin.com/job/1963299097.shtml</td>\n      <td>False</td>\n      <td>False</td>\n      <td>20231130114319</td>\n      <td>广州-海珠区</td>\n      <td>渠道商务经理</td>\n      <td>...</td>\n      <td>HR</td>\n      <td>47fd62b8bcc38f9c91c3ab93b929d3f9</td>\n      <td>6561da1a569fe3770545ee8804u.png</td>\n      <td>https://www.liepin.com/company/12702271/</td>\n      <td>50-99人</td>\n      <td>北京知外文化</td>\n      <td>12702271.0</td>\n      <td>广告/公关/会展</td>\n      <td>NaN</td>\n      <td>63fef08ca69a635e72b26f0201u.png</td>\n    </tr>\n  </tbody>\n</table>\n<p>120 rows × 32 columns</p>\n</div>"
     },
     "execution_count": 20,
     "metadata": {},
     "output_type": "execute_result"
    }
   ],
   "source": [
    "df = pd.read_excel('猎聘'+cities+'-'+key+output_time+'.xlsx')\n",
    "df"
   ],
   "metadata": {
    "collapsed": false
   }
  },
  {
   "cell_type": "code",
   "execution_count": 21,
   "outputs": [
    {
     "name": "stdout",
     "output_type": "stream",
     "text": [
      "<class 'pandas.core.frame.DataFrame'>\n",
      "RangeIndex: 120 entries, 0 to 119\n",
      "Data columns (total 32 columns):\n",
      " #   Column                    Non-Null Count  Dtype  \n",
      "---  ------                    --------------  -----  \n",
      " 0   Unnamed: 0                120 non-null    int64  \n",
      " 1   dataInfo                  120 non-null    object \n",
      " 2   dataParams                120 non-null    object \n",
      " 3   job.labels                120 non-null    object \n",
      " 4   job.link                  120 non-null    object \n",
      " 5   job.advViewFlag           120 non-null    bool   \n",
      " 6   job.topJob                120 non-null    bool   \n",
      " 7   job.refreshTime           120 non-null    int64  \n",
      " 8   job.dq                    120 non-null    object \n",
      " 9   job.title                 120 non-null    object \n",
      " 10  job.jobId                 120 non-null    int64  \n",
      " 11  job.jobKind               120 non-null    int64  \n",
      " 12  job.salary                120 non-null    object \n",
      " 13  job.requireWorkYears      120 non-null    object \n",
      " 14  job.requireEduLevel       120 non-null    object \n",
      " 15  job.pcOuterLink           0 non-null      float64\n",
      " 16  job.h5OuterLink           0 non-null      float64\n",
      " 17  job.dataPromId            120 non-null    object \n",
      " 18  recruiter.imId            120 non-null    object \n",
      " 19  recruiter.imUserType      120 non-null    int64  \n",
      " 20  recruiter.chatted         120 non-null    bool   \n",
      " 21  recruiter.recruiterName   120 non-null    object \n",
      " 22  recruiter.recruiterTitle  108 non-null    object \n",
      " 23  recruiter.recruiterId     120 non-null    object \n",
      " 24  recruiter.recruiterPhoto  120 non-null    object \n",
      " 25  comp.link                 105 non-null    object \n",
      " 26  comp.compScale            120 non-null    object \n",
      " 27  comp.compName             120 non-null    object \n",
      " 28  comp.compId               105 non-null    float64\n",
      " 29  comp.compIndustry         117 non-null    object \n",
      " 30  comp.compStage            81 non-null     object \n",
      " 31  comp.compLogo             120 non-null    object \n",
      "dtypes: bool(3), float64(3), int64(5), object(21)\n",
      "memory usage: 27.7+ KB\n"
     ]
    }
   ],
   "source": [
    "df.info()"
   ],
   "metadata": {
    "collapsed": false
   }
  },
  {
   "cell_type": "code",
   "execution_count": 22,
   "outputs": [
    {
     "data": {
      "text/plain": "120"
     },
     "execution_count": 22,
     "metadata": {},
     "output_type": "execute_result"
    }
   ],
   "source": [
    "len(df['job.link'])"
   ],
   "metadata": {
    "collapsed": false
   }
  },
  {
   "cell_type": "code",
   "execution_count": 23,
   "outputs": [
    {
     "data": {
      "text/plain": "'https://www.liepin.com/job/1961023089.shtml'"
     },
     "execution_count": 23,
     "metadata": {},
     "output_type": "execute_result"
    }
   ],
   "source": [
    "df['job.link'][0]"
   ],
   "metadata": {
    "collapsed": false
   }
  },
  {
   "cell_type": "markdown",
   "source": [
    "# 额外：加入特殊情况检测"
   ],
   "metadata": {
    "collapsed": false
   }
  },
  {
   "cell_type": "code",
   "execution_count": 24,
   "outputs": [],
   "source": [
    "if payload['data']['mainSearchPcConditionForm'][\"workYearCode\"]=='2':\n",
    "    df_PM_gz =  df[['job.labels','job.refreshTime','job.title','job.salary','job.dq','job.topJob','comp.compStage','comp.compName','comp.compIndustry','comp.compScale']]\n",
    "else:\n",
    "    df_PM_gz =  df[['job.labels','job.refreshTime','job.title','job.salary','job.dq','job.topJob','job.requireWorkYears','job.requireEduLevel','comp.compStage','comp.compName','comp.compIndustry','comp.compScale']]"
   ],
   "metadata": {
    "collapsed": false
   }
  },
  {
   "cell_type": "markdown",
   "source": [
    "# 15.重命名为通俗易懂的列头"
   ],
   "metadata": {
    "collapsed": false
   }
  },
  {
   "cell_type": "code",
   "execution_count": 25,
   "outputs": [],
   "source": [
    "# columns 重命名\n",
    "if payload['data']['mainSearchPcConditionForm'][\"workYearCode\"]=='2':\n",
    "    df_PM_gz = df_PM_gz.rename(columns={\n",
    "        'job.labels':'职位标签',\n",
    "        'job.refreshTime':'职位更新时间',\n",
    "        'job.title':'职位',\n",
    "        'job.salary':'薪资',\n",
    "        'job.dq':'地区',\n",
    "        'job.topJob':'是否top职位',\n",
    "        'comp.compStage':'公司融资情况',\n",
    "        'comp.compName':'公司名称',\n",
    "        'comp.compIndustry':'行业',\n",
    "        'comp.compScale':'规模'\n",
    "    })\n",
    "else:\n",
    "    df_PM_gz = df_PM_gz.rename(columns={\n",
    "        'job.labels':'职位标签',\n",
    "        'job.refreshTime':'职位更新时间',\n",
    "        'job.title':'职位',\n",
    "        'job.salary':'薪资',\n",
    "        'job.dq':'地区',\n",
    "        'job.topJob':'是否top职位',\n",
    "        'job.requireWorkYears':'工作年限',\n",
    "        'job.requireEduLevel':'学历',\n",
    "        'comp.compStage':'公司融资情况',\n",
    "        'comp.compName':'公司名称',\n",
    "        'comp.compIndustry':'行业',\n",
    "        'comp.compScale':'规模'\n",
    "    })"
   ],
   "metadata": {
    "collapsed": false
   }
  },
  {
   "cell_type": "markdown",
   "source": [
    "# 16.引入request_html并对每条标题子级网站进行访问以及内容爬取，即爬取岗位要求"
   ],
   "metadata": {
    "collapsed": false
   }
  },
  {
   "cell_type": "code",
   "execution_count": 26,
   "outputs": [],
   "source": [
    "from requests_html import HTMLSession\n",
    "session = HTMLSession()"
   ],
   "metadata": {
    "collapsed": false
   }
  },
  {
   "cell_type": "code",
   "execution_count": 27,
   "outputs": [],
   "source": [
    "技能要求 = []\n",
    "for i in range(len(df['job.link'])):\n",
    "    s = session.get(df['job.link'][i])\n",
    "    command = s.html.find('dd')\n",
    "    技能要求.append(command[0].text)"
   ],
   "metadata": {
    "collapsed": false
   }
  },
  {
   "cell_type": "markdown",
   "source": [
    "## 添加所爬取到的岗位要求的新列到表"
   ],
   "metadata": {
    "collapsed": false
   }
  },
  {
   "cell_type": "code",
   "execution_count": 28,
   "outputs": [],
   "source": [
    "df_PM_gz['技能要求'] = 技能要求"
   ],
   "metadata": {
    "collapsed": false
   }
  },
  {
   "cell_type": "markdown",
   "source": [
    "# 17.输出最终表"
   ],
   "metadata": {
    "collapsed": false
   }
  },
  {
   "cell_type": "code",
   "execution_count": 29,
   "outputs": [],
   "source": [
    "df_PM_gz.to_excel('猎聘'+ cities+'-'+key +output_time+'.xlsx')"
   ],
   "metadata": {
    "collapsed": false
   }
  },
  {
   "cell_type": "markdown",
   "source": [
    "## 额外：计算各个市的区的平均薪资"
   ],
   "metadata": {
    "collapsed": false
   }
  },
  {
   "cell_type": "code",
   "execution_count": 30,
   "outputs": [
    {
     "data": {
      "text/plain": "                                                  职位标签          职位更新时间  \\\n0    ['文案策划', '媒介策划', '广告策划', '网站策划', '营销策划', '客户管理...  20230822164123   \n1    ['营销策划', '广告策划', '文案策划', '网站策划', '广告媒介', '广告/传...  20231122174436   \n2    ['广告策划', '营销策划', '4A公司背景', 'to B', '广告/传媒/文化',...  20231130154242   \n3                             ['广告策划', '活动策划', '营销策划']  20230321121700   \n4                 ['效果广告投放经验', '竞价策划', '营销策划', '效果广告']  20231114165850   \n..                                                 ...             ...   \n115                                                 []  20221229231640   \n116                                   ['前期策划', '商业建筑']  20231026132335   \n117           ['品牌推广', '市场推广', '活动策划', '市场营销', '市场拓展']  20231031152203   \n118                                                 []  20231201102047   \n119                  ['知乎平台', '小红书平台', 'MCN', 'KOL营销']  20231130114319   \n\n                    职位          薪资      地区  是否top职位   工作年限    学历  公司融资情况  \\\n0               广告策划经理  20-30k·16薪  广州-黄埔区    False   3-5年  统招本科    港股上市   \n1                 广告策划      10-20k  广州-天河区    False   3-5年  统招本科     NaN   \n2                 广告策划      15-23k  广州-天河区    False   3-5年  统招本科    港股上市   \n3               广告策划主管      12-20k  广州-增城区    False   3-5年    本科     NaN   \n4               效果广告策划      10-25k  广州-海珠区    False   3-5年    本科  沪深A股上市   \n..                 ...         ...     ...      ...    ...   ...     ...   \n115               品牌总监      40-60k  广州-从化区    False  5-10年    本科     NaN   \n116  策划经理（品牌建设与活动策划方向）  20-30k·18薪  广州-番禺区    False  10年以上    本科     NaN   \n117               市场总监    150-200k      广州    False  10年以上    本科     已上市   \n118      广告投放优化师（抖音渠道）       8-12k  广州-海珠区    False   1-3年    本科   新三板上市   \n119             渠道商务经理      10-15k  广州-海珠区    False   1-3年  统招本科     NaN   \n\n                  公司名称        行业          规模  \\\n0                 京东物流  货运/物流/仓储    10000人以上   \n1         广州信日信息科技有限公司  广告/公关/会展    100-499人   \n2                  宝宝树   在线社交/媒体    100-499人   \n3      五羊━本田摩托(广州)有限公司     其他制造业  2000-5000人   \n4                 省广集团  广告/公关/会展  2000-5000人   \n..                 ...       ...         ...   \n115               天狮集团        日化  2000-5000人   \n116  广州市番禺区得宝立房产实业有限公司   房地产开发经营       1-49人   \n117    某广州服装/纺织/皮革上市公司  服装/纺织/皮革  2000-5000人   \n118                 凡科       互联网    500-999人   \n119             北京知外文化  广告/公关/会展      50-99人   \n\n                                                  技能要求  \n0    工作内容： 1、 负责策划方案需符合时下趋垫与客户需求点结合； 2、 具备较强的策略策划能力...  \n1    【工作内容】 1. 撰写品牌数字、社会化媒体营销方案的传媒策略及内容策划方案 2. 根据情况...  \n2    岗位职责： 1、深刻理解宝宝树商业产品，提炼核心价值及应用场景，输出产品通案，提升产品认知及...  \n3    1、广告策划：根据公司的产品定位，制订产品广告策略，推进产品广告形象的设计与制作。 2、宣传...  \n4    工作职责: 1. 准确解读项目投放需求，提出有效解决方案，负责效果策划方案的产出； 2. 完...  \n..                                                 ...  \n115  岗位职责： 1. 根据集团战略规划，制定企业品牌发展战略，建立品牌管理体系，负责集团品牌定位...  \n116  职位要求： 1、本科或以上学历； 2、熟悉广州市房地产市场，8年或以上房地产企业的营销及策划...  \n117  市场营销总监（奢侈品牌） 寻访要求： 职位描述 工作内容： 向海外创意中心汇报，共同商讨并制...  \n118  上市以来，凡科通过为企业用户提供多元、高效、易用的互联网工具，已帮助了越来越多的企业有效降低...  \n119  职位描述 【工作内容】 负责知乎、小红书MCN事业部的博主销售工作，主要对接广告公司/渠道合...  \n\n[117 rows x 13 columns]",
      "text/html": "<div>\n<style scoped>\n    .dataframe tbody tr th:only-of-type {\n        vertical-align: middle;\n    }\n\n    .dataframe tbody tr th {\n        vertical-align: top;\n    }\n\n    .dataframe thead th {\n        text-align: right;\n    }\n</style>\n<table border=\"1\" class=\"dataframe\">\n  <thead>\n    <tr style=\"text-align: right;\">\n      <th></th>\n      <th>职位标签</th>\n      <th>职位更新时间</th>\n      <th>职位</th>\n      <th>薪资</th>\n      <th>地区</th>\n      <th>是否top职位</th>\n      <th>工作年限</th>\n      <th>学历</th>\n      <th>公司融资情况</th>\n      <th>公司名称</th>\n      <th>行业</th>\n      <th>规模</th>\n      <th>技能要求</th>\n    </tr>\n  </thead>\n  <tbody>\n    <tr>\n      <th>0</th>\n      <td>['文案策划', '媒介策划', '广告策划', '网站策划', '营销策划', '客户管理...</td>\n      <td>20230822164123</td>\n      <td>广告策划经理</td>\n      <td>20-30k·16薪</td>\n      <td>广州-黄埔区</td>\n      <td>False</td>\n      <td>3-5年</td>\n      <td>统招本科</td>\n      <td>港股上市</td>\n      <td>京东物流</td>\n      <td>货运/物流/仓储</td>\n      <td>10000人以上</td>\n      <td>工作内容： 1、 负责策划方案需符合时下趋垫与客户需求点结合； 2、 具备较强的策略策划能力...</td>\n    </tr>\n    <tr>\n      <th>1</th>\n      <td>['营销策划', '广告策划', '文案策划', '网站策划', '广告媒介', '广告/传...</td>\n      <td>20231122174436</td>\n      <td>广告策划</td>\n      <td>10-20k</td>\n      <td>广州-天河区</td>\n      <td>False</td>\n      <td>3-5年</td>\n      <td>统招本科</td>\n      <td>NaN</td>\n      <td>广州信日信息科技有限公司</td>\n      <td>广告/公关/会展</td>\n      <td>100-499人</td>\n      <td>【工作内容】 1. 撰写品牌数字、社会化媒体营销方案的传媒策略及内容策划方案 2. 根据情况...</td>\n    </tr>\n    <tr>\n      <th>2</th>\n      <td>['广告策划', '营销策划', '4A公司背景', 'to B', '广告/传媒/文化',...</td>\n      <td>20231130154242</td>\n      <td>广告策划</td>\n      <td>15-23k</td>\n      <td>广州-天河区</td>\n      <td>False</td>\n      <td>3-5年</td>\n      <td>统招本科</td>\n      <td>港股上市</td>\n      <td>宝宝树</td>\n      <td>在线社交/媒体</td>\n      <td>100-499人</td>\n      <td>岗位职责： 1、深刻理解宝宝树商业产品，提炼核心价值及应用场景，输出产品通案，提升产品认知及...</td>\n    </tr>\n    <tr>\n      <th>3</th>\n      <td>['广告策划', '活动策划', '营销策划']</td>\n      <td>20230321121700</td>\n      <td>广告策划主管</td>\n      <td>12-20k</td>\n      <td>广州-增城区</td>\n      <td>False</td>\n      <td>3-5年</td>\n      <td>本科</td>\n      <td>NaN</td>\n      <td>五羊━本田摩托(广州)有限公司</td>\n      <td>其他制造业</td>\n      <td>2000-5000人</td>\n      <td>1、广告策划：根据公司的产品定位，制订产品广告策略，推进产品广告形象的设计与制作。 2、宣传...</td>\n    </tr>\n    <tr>\n      <th>4</th>\n      <td>['效果广告投放经验', '竞价策划', '营销策划', '效果广告']</td>\n      <td>20231114165850</td>\n      <td>效果广告策划</td>\n      <td>10-25k</td>\n      <td>广州-海珠区</td>\n      <td>False</td>\n      <td>3-5年</td>\n      <td>本科</td>\n      <td>沪深A股上市</td>\n      <td>省广集团</td>\n      <td>广告/公关/会展</td>\n      <td>2000-5000人</td>\n      <td>工作职责: 1. 准确解读项目投放需求，提出有效解决方案，负责效果策划方案的产出； 2. 完...</td>\n    </tr>\n    <tr>\n      <th>...</th>\n      <td>...</td>\n      <td>...</td>\n      <td>...</td>\n      <td>...</td>\n      <td>...</td>\n      <td>...</td>\n      <td>...</td>\n      <td>...</td>\n      <td>...</td>\n      <td>...</td>\n      <td>...</td>\n      <td>...</td>\n      <td>...</td>\n    </tr>\n    <tr>\n      <th>115</th>\n      <td>[]</td>\n      <td>20221229231640</td>\n      <td>品牌总监</td>\n      <td>40-60k</td>\n      <td>广州-从化区</td>\n      <td>False</td>\n      <td>5-10年</td>\n      <td>本科</td>\n      <td>NaN</td>\n      <td>天狮集团</td>\n      <td>日化</td>\n      <td>2000-5000人</td>\n      <td>岗位职责： 1. 根据集团战略规划，制定企业品牌发展战略，建立品牌管理体系，负责集团品牌定位...</td>\n    </tr>\n    <tr>\n      <th>116</th>\n      <td>['前期策划', '商业建筑']</td>\n      <td>20231026132335</td>\n      <td>策划经理（品牌建设与活动策划方向）</td>\n      <td>20-30k·18薪</td>\n      <td>广州-番禺区</td>\n      <td>False</td>\n      <td>10年以上</td>\n      <td>本科</td>\n      <td>NaN</td>\n      <td>广州市番禺区得宝立房产实业有限公司</td>\n      <td>房地产开发经营</td>\n      <td>1-49人</td>\n      <td>职位要求： 1、本科或以上学历； 2、熟悉广州市房地产市场，8年或以上房地产企业的营销及策划...</td>\n    </tr>\n    <tr>\n      <th>117</th>\n      <td>['品牌推广', '市场推广', '活动策划', '市场营销', '市场拓展']</td>\n      <td>20231031152203</td>\n      <td>市场总监</td>\n      <td>150-200k</td>\n      <td>广州</td>\n      <td>False</td>\n      <td>10年以上</td>\n      <td>本科</td>\n      <td>已上市</td>\n      <td>某广州服装/纺织/皮革上市公司</td>\n      <td>服装/纺织/皮革</td>\n      <td>2000-5000人</td>\n      <td>市场营销总监（奢侈品牌） 寻访要求： 职位描述 工作内容： 向海外创意中心汇报，共同商讨并制...</td>\n    </tr>\n    <tr>\n      <th>118</th>\n      <td>[]</td>\n      <td>20231201102047</td>\n      <td>广告投放优化师（抖音渠道）</td>\n      <td>8-12k</td>\n      <td>广州-海珠区</td>\n      <td>False</td>\n      <td>1-3年</td>\n      <td>本科</td>\n      <td>新三板上市</td>\n      <td>凡科</td>\n      <td>互联网</td>\n      <td>500-999人</td>\n      <td>上市以来，凡科通过为企业用户提供多元、高效、易用的互联网工具，已帮助了越来越多的企业有效降低...</td>\n    </tr>\n    <tr>\n      <th>119</th>\n      <td>['知乎平台', '小红书平台', 'MCN', 'KOL营销']</td>\n      <td>20231130114319</td>\n      <td>渠道商务经理</td>\n      <td>10-15k</td>\n      <td>广州-海珠区</td>\n      <td>False</td>\n      <td>1-3年</td>\n      <td>统招本科</td>\n      <td>NaN</td>\n      <td>北京知外文化</td>\n      <td>广告/公关/会展</td>\n      <td>50-99人</td>\n      <td>职位描述 【工作内容】 负责知乎、小红书MCN事业部的博主销售工作，主要对接广告公司/渠道合...</td>\n    </tr>\n  </tbody>\n</table>\n<p>117 rows × 13 columns</p>\n</div>"
     },
     "execution_count": 30,
     "metadata": {},
     "output_type": "execute_result"
    }
   ],
   "source": [
    "非薪资面议 = df_PM_gz [ ~df_PM_gz['薪资'].str.contains(\"面议|元/天\")]\n",
    "非薪资面议"
   ],
   "metadata": {
    "collapsed": false
   }
  },
  {
   "cell_type": "code",
   "execution_count": 31,
   "outputs": [
    {
     "data": {
      "text/plain": "[['20-30k', '16'],\n ['10-20k'],\n ['15-23k'],\n ['12-20k'],\n ['10-25k'],\n ['25-35k', '14'],\n ['15-22k'],\n ['25-40k'],\n ['16-25k'],\n ['25-30k', '14'],\n ['10-15k', '13'],\n ['18-25k'],\n ['20-35k'],\n ['25-50k', '13'],\n ['11-25k'],\n ['10-15k'],\n ['8-12k', '13'],\n ['10-15k'],\n ['8-12k'],\n ['11-20k'],\n ['8-13k'],\n ['8-15k'],\n ['15-25k'],\n ['5-10k', '13'],\n ['5-8k'],\n ['6-10k'],\n ['25-45k', '15'],\n ['7-10k', '13'],\n ['8-12k'],\n ['6-15k'],\n ['15-25k'],\n ['20-25k'],\n ['7-10k', '13'],\n ['15-28k', '13'],\n ['40-60k'],\n ['20-30k', '18'],\n ['150-200k'],\n ['8-12k'],\n ['10-15k'],\n ['20-30k', '16'],\n ['10-20k'],\n ['15-23k'],\n ['12-20k'],\n ['10-25k'],\n ['25-35k', '14'],\n ['15-22k'],\n ['25-40k'],\n ['16-25k'],\n ['25-30k', '14'],\n ['10-15k', '13'],\n ['18-25k'],\n ['20-35k'],\n ['25-50k', '13'],\n ['11-25k'],\n ['10-15k'],\n ['8-12k', '13'],\n ['10-15k'],\n ['8-12k'],\n ['11-20k'],\n ['8-13k'],\n ['8-15k'],\n ['15-25k'],\n ['5-10k', '13'],\n ['5-8k'],\n ['6-10k'],\n ['25-45k', '15'],\n ['7-10k', '13'],\n ['8-12k'],\n ['6-15k'],\n ['15-25k'],\n ['20-25k'],\n ['7-10k', '13'],\n ['15-28k', '13'],\n ['40-60k'],\n ['20-30k', '18'],\n ['150-200k'],\n ['8-12k'],\n ['10-15k'],\n ['20-30k', '16'],\n ['10-20k'],\n ['15-23k'],\n ['12-20k'],\n ['10-25k'],\n ['25-35k', '14'],\n ['15-22k'],\n ['25-40k'],\n ['16-25k'],\n ['25-30k', '14'],\n ['10-15k', '13'],\n ['18-25k'],\n ['20-35k'],\n ['25-50k', '13'],\n ['11-25k'],\n ['10-15k'],\n ['8-12k', '13'],\n ['10-15k'],\n ['8-12k'],\n ['11-20k'],\n ['8-13k'],\n ['8-15k'],\n ['15-25k'],\n ['5-10k', '13'],\n ['5-8k'],\n ['6-10k'],\n ['25-45k', '15'],\n ['7-10k', '13'],\n ['8-12k'],\n ['6-15k'],\n ['15-25k'],\n ['20-25k'],\n ['7-10k', '13'],\n ['15-28k', '13'],\n ['40-60k'],\n ['20-30k', '18'],\n ['150-200k'],\n ['8-12k'],\n ['10-15k']]"
     },
     "execution_count": 31,
     "metadata": {},
     "output_type": "execute_result"
    }
   ],
   "source": [
    "非薪资面议_detail = 非薪资面议['薪资'].apply(lambda x:x.split('薪')[0].split('·')).tolist()\n",
    "非薪资面议_detail"
   ],
   "metadata": {
    "collapsed": false
   }
  },
  {
   "cell_type": "code",
   "execution_count": 32,
   "outputs": [
    {
     "data": {
      "text/plain": "[33.3,\n 15.0,\n 19.0,\n 16.0,\n 17.5,\n 35.0,\n 18.5,\n 32.5,\n 20.5,\n 32.1,\n 13.5,\n 21.5,\n 27.5,\n 40.6,\n 18.0,\n 12.5,\n 10.8,\n 12.5,\n 10.0,\n 15.5,\n 10.5,\n 11.5,\n 20.0,\n 8.1,\n 6.5,\n 8.0,\n 43.8,\n 9.2,\n 10.0,\n 10.5,\n 20.0,\n 22.5,\n 9.2,\n 23.3,\n 50.0,\n 37.5,\n 175.0,\n 10.0,\n 12.5,\n 33.3,\n 15.0,\n 19.0,\n 16.0,\n 17.5,\n 35.0,\n 18.5,\n 32.5,\n 20.5,\n 32.1,\n 13.5,\n 21.5,\n 27.5,\n 40.6,\n 18.0,\n 12.5,\n 10.8,\n 12.5,\n 10.0,\n 15.5,\n 10.5,\n 11.5,\n 20.0,\n 8.1,\n 6.5,\n 8.0,\n 43.8,\n 9.2,\n 10.0,\n 10.5,\n 20.0,\n 22.5,\n 9.2,\n 23.3,\n 50.0,\n 37.5,\n 175.0,\n 10.0,\n 12.5,\n 33.3,\n 15.0,\n 19.0,\n 16.0,\n 17.5,\n 35.0,\n 18.5,\n 32.5,\n 20.5,\n 32.1,\n 13.5,\n 21.5,\n 27.5,\n 40.6,\n 18.0,\n 12.5,\n 10.8,\n 12.5,\n 10.0,\n 15.5,\n 10.5,\n 11.5,\n 20.0,\n 8.1,\n 6.5,\n 8.0,\n 43.8,\n 9.2,\n 10.0,\n 10.5,\n 20.0,\n 22.5,\n 9.2,\n 23.3,\n 50.0,\n 37.5,\n 175.0,\n 10.0,\n 12.5]"
     },
     "execution_count": 32,
     "metadata": {},
     "output_type": "execute_result"
    }
   ],
   "source": [
    "平均薪资 = [ (int(i[0].split('-')[0]) +int(i[0].split('-')[1].split('k')[0]))/2    \\\n",
    " if len(i)==1 else round((int(i[0].split('-')[0]) +int(i[0].split('-')[1].split('k')[0]))/2*int(i[1])/12,1)     \\\n",
    " for i in 非薪资面议_detail        ]\n",
    "平均薪资"
   ],
   "metadata": {
    "collapsed": false
   }
  },
  {
   "cell_type": "code",
   "execution_count": 33,
   "outputs": [
    {
     "name": "stderr",
     "output_type": "stream",
     "text": [
      "C:\\Users\\17728\\AppData\\Local\\Temp\\ipykernel_28772\\3896161248.py:1: SettingWithCopyWarning: \n",
      "A value is trying to be set on a copy of a slice from a DataFrame.\n",
      "Try using .loc[row_indexer,col_indexer] = value instead\n",
      "\n",
      "See the caveats in the documentation: https://pandas.pydata.org/pandas-docs/stable/user_guide/indexing.html#returning-a-view-versus-a-copy\n",
      "  非薪资面议['平均薪资']=平均薪资\n"
     ]
    }
   ],
   "source": [
    "非薪资面议['平均薪资']=平均薪资"
   ],
   "metadata": {
    "collapsed": false
   }
  },
  {
   "cell_type": "code",
   "execution_count": 34,
   "outputs": [],
   "source": [
    "分地区_平均薪资 = 非薪资面议.groupby('地区').agg({'平均薪资':'median'})\n",
    "分地区_平均薪资[1:].to_excel('猎聘'+城市+'_'+关键词+'-平均薪资.xlsx')"
   ],
   "metadata": {
    "collapsed": false
   }
  },
  {
   "cell_type": "code",
   "execution_count": 35,
   "outputs": [],
   "source": [
    "# 分地区_平均薪资_values =  [round(i[0],1) for i in 分地区_平均薪资.values.tolist()]\n",
    "# 分地区_平均薪资_values = 分地区_平均薪资_values[1:]"
   ],
   "metadata": {
    "collapsed": false
   }
  },
  {
   "cell_type": "code",
   "execution_count": 36,
   "outputs": [],
   "source": [
    "# 分地区_平均薪资_index = 分地区_平均薪资.index.tolist()\n",
    "# 分地区_平均薪资_index = 分地区_平均薪资_index[1:]"
   ],
   "metadata": {
    "collapsed": false
   }
  },
  {
   "cell_type": "code",
   "execution_count": 37,
   "outputs": [],
   "source": [
    "# 分地区_平均薪资_values"
   ],
   "metadata": {
    "collapsed": false
   }
  },
  {
   "cell_type": "code",
   "execution_count": 38,
   "outputs": [],
   "source": [
    "# 分地区_平均薪资_index"
   ],
   "metadata": {
    "collapsed": false
   }
  },
  {
   "cell_type": "code",
   "execution_count": 38,
   "outputs": [],
   "source": [],
   "metadata": {
    "collapsed": false
   }
  }
 ],
 "metadata": {
  "kernelspec": {
   "display_name": "Python 3",
   "language": "python",
   "name": "python3"
  },
  "language_info": {
   "codemirror_mode": {
    "name": "ipython",
    "version": 2
   },
   "file_extension": ".py",
   "mimetype": "text/x-python",
   "name": "python",
   "nbconvert_exporter": "python",
   "pygments_lexer": "ipython2",
   "version": "2.7.6"
  }
 },
 "nbformat": 4,
 "nbformat_minor": 0
}
