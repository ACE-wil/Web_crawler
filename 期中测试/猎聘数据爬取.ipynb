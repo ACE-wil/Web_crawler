{
 "cells": [
  {
   "cell_type": "markdown",
   "source": [
    "# 1.定义北上广深城市代码"
   ],
   "metadata": {
    "collapsed": false
   }
  },
  {
   "cell_type": "code",
   "execution_count": 52,
   "outputs": [],
   "source": [
    "city = [\n",
    "    {'code': '010', 'name': '北京'},\n",
    " {'code': '020', 'name': '上海'},\n",
    "{'code': '050020', 'name': '广州'},\n",
    " {'code': '050090', 'name': '深圳'},\n",
    "]"
   ],
   "metadata": {
    "collapsed": false
   }
  },
  {
   "cell_type": "markdown",
   "source": [
    "# 2.定义学历对应的代码"
   ],
   "metadata": {
    "collapsed": false
   }
  },
  {
   "cell_type": "code",
   "execution_count": 53,
   "outputs": [],
   "source": [
    "edulevel = [\n",
    "    {'code': \"010\", 'name': \"博士\"},\n",
    "{'code': \"020\", 'name': \"MBA/EMBA\"},\n",
    "{'code': \"030\", 'name': \"硕士\"},\n",
    "{'code': \"040\", 'name': \"本科\"},]"
   ],
   "metadata": {
    "collapsed": false
   }
  },
  {
   "cell_type": "markdown",
   "source": [
    "# 3.定义选择城市获取对应城市代码函数"
   ],
   "metadata": {
    "collapsed": false
   }
  },
  {
   "cell_type": "code",
   "execution_count": 54,
   "outputs": [],
   "source": [
    "def choose_city(city_name):\n",
    "    for i in city:\n",
    "        if i['name'] == city_name:\n",
    "            return i['code']"
   ],
   "metadata": {
    "collapsed": false
   }
  },
  {
   "cell_type": "markdown",
   "source": [
    "# 4.定义选择学历获取对应的代码"
   ],
   "metadata": {
    "collapsed": false
   }
  },
  {
   "cell_type": "code",
   "execution_count": 55,
   "outputs": [],
   "source": [
    "def choose_edu_level(edu_level):\n",
    "    for i in edulevel:\n",
    "        if i['name'] == edu_level:\n",
    "            return i['code']"
   ],
   "metadata": {
    "collapsed": false
   }
  },
  {
   "cell_type": "markdown",
   "source": [
    "# 5.定义请求头函数"
   ],
   "metadata": {
    "collapsed": false
   }
  },
  {
   "cell_type": "code",
   "execution_count": 56,
   "outputs": [],
   "source": [
    "def headers():\n",
    "    liepin_headers = {\n",
    "        \"Accept\": \"application/json, text/plain, */*\",\n",
    "        \"Accept-Encoding\": \"gzip, deflate, br\",\n",
    "        \"Accept-Language\": \"zh-CN,zh;q=0.9\",\n",
    "        \"Connection\": \"keep-alive\",\n",
    "        \"Content-Length\": \"487\",\n",
    "        \"Content-Type\": \"application/json;charset=UTF-8;\",\n",
    "        \"Cookie\": \"XSRF-TOKEN=zIARnRM0QQaLudJk_4OBXw; __gc_id=e936feed5bd343e5a73b304fa0d4ad5f; _ga=GA1.1.504776059.1697021947; __uuid=1697021948310.51; __tlog=1697021948354.48%7C00000000%7C00000000%7C00000000%7C00000000; Hm_lvt_a2647413544f5a04f00da7eee0d5e200=1697021951; acw_tc=2760828416970219810274366e53a098388abcfc886c89f5cbf2332344893f; Hm_lpvt_a2647413544f5a04f00da7eee0d5e200=1697021975; __session_seq=4; __uv_seq=4; __tlg_event_seq=24; _ga_54YTJKWN86=GS1.1.1697021946.1.1.1697023027.0.0.0\",\n",
    "        \"Host\": \"api-c.liepin.com\",\n",
    "        \"Origin\": \"https://www.liepin.com\",\n",
    "        \"Referer\": \"https://www.liepin.com/zhaopin/?currentPage=0&pageSize=40&city=050090&dq=050090&pubTime=&key=%E4%BA%A7%E5%93%81%E7%BB%8F%E7%90%86&suggestTag=&otherCity=&industry=&ckId=geq5b0qsi9umzbhn0oojbi2j8v8qu2bb&scene=condition&skId=geq5b0qsi9umzbhn0oojbi2j8v8qu2bb&fkId=geq5b0qsi9umzbhn0oojbi2j8v8qu2bb&sfrom=search_job_pc&suggestId=\",\n",
    "        \"Sec-Fetch-Dest\": \"empty\",\n",
    "        \"Sec-Fetch-Mode\": \"cors\",\n",
    "        \"Sec-Fetch-Site\": \"same-site\",\n",
    "        \"User-Agent\": \"Mozilla/5.0 (Windows NT 6.1; WOW64) AppleWebKit/537.36 (KHTML, like Gecko) Chrome/81.0.4044.122 Safari/537.36\",\n",
    "        \"X-Client-Type\": \"web\",\n",
    "        \"X-Fscp-Bi-Stat\": \"{\\\"location\\\": \\\"https://www.liepin.com/zhaopin/?currentPage=0&pageSize=40&city=050090&dq=050090&pubTime=&key=%E4%BA%A7%E5%93%81%E7%BB%8F%E7%90%86&suggestTag=&otherCity=&industry=&ckId=geq5b0qsi9umzbhn0oojbi2j8v8qu2bb&scene=condition&skId=geq5b0qsi9umzbhn0oojbi2j8v8qu2bb&fkId=geq5b0qsi9umzbhn0oojbi2j8v8qu2bb&sfrom=search_job_pc&suggestId=\\\"}\",\n",
    "        \"X-Fscp-Fe-Version\": \"\",\n",
    "        \"X-Fscp-Std-Info\": \"{\\\"client_id\\\": \\\"40108\\\"}\",\n",
    "        \"X-Fscp-Trace-Id\": \"187c89d1-ed19-48b2-99fe-85ceeb116589\",\n",
    "        \"X-Fscp-Version\": \"1.1\",\n",
    "        \"X-Requested-With\": \"XMLHttpRequest\",\n",
    "        \"X-XSRF-TOKEN\": \"zIARnRM0QQaLudJk_4OBXw\"\n",
    "    }\n",
    "\n",
    "    return liepin_headers"
   ],
   "metadata": {
    "collapsed": false
   }
  },
  {
   "cell_type": "markdown",
   "source": [
    "# 6.联网以及定义请求url，引入pandas和json库"
   ],
   "metadata": {
    "collapsed": false
   }
  },
  {
   "cell_type": "code",
   "execution_count": 57,
   "outputs": [],
   "source": [
    "import pandas\n",
    "from requests_html import HTMLSession\n",
    "import json\n",
    "import pandas as pd\n",
    "\n",
    "url = \"https://apic.liepin.com/api/com.liepin.searchfront4c.pc-search-job\""
   ],
   "metadata": {
    "collapsed": false
   }
  },
  {
   "cell_type": "markdown",
   "source": [
    "# 7.定义爬取猎聘网站函数，参数有城市和关键词和学历"
   ],
   "metadata": {
    "collapsed": false
   }
  },
  {
   "cell_type": "code",
   "execution_count": 58,
   "outputs": [],
   "source": [
    "def payloadd(城市,关键词,学历):\n",
    "    payload = {\n",
    "    \"data\": {\n",
    "        \"mainSearchPcConditionForm\": {\n",
    "            \"city\": choose_city(城市),\n",
    "            \"dq\": choose_city(城市),\n",
    "            \"pubTime\": \"\",\n",
    "            \"currentPage\": 0,\n",
    "            \"pageSize\": 40,\n",
    "            \"key\": 关键词,\n",
    "            \"suggestTag\": \"\",\n",
    "            \"workYearCode\": '',\n",
    "            \"compId\": \"\",\n",
    "            \"compName\": \"\",\n",
    "            \"compTag\": \"\",\n",
    "            \"industry\": \"\",\n",
    "            \"salary\": \"\",\n",
    "            \"jobKind\": \"\",\n",
    "            \"compScale\": \"\",\n",
    "            \"compKind\": \"\",\n",
    "            \"compStage\": \"\",\n",
    "            \"eduLevel\": choose_edu_level(学历)\n",
    "        },\n",
    "        \"passThroughForm\": {\n",
    "            \"scene\": \"input\",\n",
    "            \"skId\": \"\",\n",
    "            \"fkId\": \"\",\n",
    "            \"ckId\": \"h2c8pxojavrmo1w785z7ueih2ybfpux8\",\n",
    "            \"suggest\": None\n",
    "        }\n",
    "    }\n",
    "}\n",
    "    return payload"
   ],
   "metadata": {
    "collapsed": false
   }
  },
  {
   "cell_type": "markdown",
   "source": [
    "# 8.输入对应内容获取求职信息"
   ],
   "metadata": {
    "collapsed": false
   }
  },
  {
   "cell_type": "code",
   "execution_count": 59,
   "outputs": [],
   "source": [
    "城市 = input('输入城市，目前支持北京、上海、广州、深圳')"
   ],
   "metadata": {
    "collapsed": false
   }
  },
  {
   "cell_type": "code",
   "execution_count": 60,
   "outputs": [],
   "source": [
    "关键词 = input('关键词，任意职位即可')"
   ],
   "metadata": {
    "collapsed": false
   }
  },
  {
   "cell_type": "code",
   "execution_count": 61,
   "outputs": [],
   "source": [
    "学历 = input('学历，如本科、硕士、博士')"
   ],
   "metadata": {
    "collapsed": false
   }
  },
  {
   "cell_type": "markdown",
   "source": [
    "# 9.请求猎聘网数据"
   ],
   "metadata": {
    "collapsed": false
   }
  },
  {
   "cell_type": "code",
   "execution_count": 62,
   "outputs": [
    {
     "data": {
      "text/plain": "{'flag': 1,\n 'data': {'data': {'compList': [],\n   'jobCardList': [{'job': {'labels': ['广告策划',\n       '营销策划',\n       '品牌策划',\n       '乙方公司背景',\n       '广告/传媒/文化'],\n      'refreshTime': '20231130165331',\n      'topJob': False,\n      'requireWorkYears': '1-3年',\n      'jobKind': '2',\n      'link': 'https://www.liepin.com/job/1962255391.shtml',\n      'jobId': '62255391',\n      'dq': '北京-朝阳区',\n      'title': '广告策划专员',\n      'advViewFlag': False,\n      'salary': '7-12k·13薪',\n      'pcOuterLink': '',\n      'h5OuterLink': '',\n      'dataPromId': 'd_sfrom=search_prime&d_ckId=null&d_curPage=0&d_pageSize=40&d_headId=null&d_posi=0&skId=h2c8pxojavrmo1w785z7ueih2ybfpux8&fkId=h2c8pxojavrmo1w785z7ueih2ybfpux8&ckId=h2c8pxojavrmo1w785z7ueih2ybfpux8&sfrom=search_job_pc&curPage=0&pageSize=40&index=0',\n      'requireEduLevel': '统招本科'},\n     'recruiter': {'recruiterName': '李女士',\n      'recruiterTitle': '',\n      'chatted': False,\n      'imId': 'dbd40badfb9fa97c82261b716e3a7685',\n      'imUserType': '2',\n      'recruiterId': 'a483e9b984a083fd3d159b943eec45f0',\n      'recruiterPhoto': '5f8f9863f6d1ab58476f246a08u.jpg'},\n     'comp': {'compId': 13425171,\n      'compIndustry': '广告/公关/会展',\n      'compScale': '1-49人',\n      'link': 'https://www.liepin.com/company/13425171/',\n      'compLogo': '63ec5f2a5462d70ab95f62ca01u.png',\n      'compName': '德吉文化'},\n     'dataInfo': '%7B%22ckId%22%3A%22h2c8pxojavrmo1w785z7ueih2ybfpux8%22%2C%22pageSize%22%3A%2240%22%2C%22curPage%22%3A%220%22%2C%22scene%22%3A%22input%22%2C%22skId%22%3A%22h2c8pxojavrmo1w785z7ueih2ybfpux8%22%2C%22fkId%22%3A%22h2c8pxojavrmo1w785z7ueih2ybfpux8%22%2C%22jobKind%22%3A%222%22%2C%22jobId%22%3A%2262255391%22%2C%22sfrom%22%3A%22search_job_pc%22%2C%22d_curPage%22%3A%220%22%2C%22d_pageSize%22%3A%2240%22%2C%22as_from%22%3A%22search_prime%22%7D',\n     'dataParams': '{\"recruiterName\":\"李女士\",\"jobKind\":\"2\",\"userId\":\"a483e9b984a083fd3d159b943eec45f0\",\"jobId\":\"62255391\",\"imId\":\"dbd40badfb9fa97c82261b716e3a7685\",\"imUserType\":\"2\",\"recruiterPhoto\":\"5f8f9863f6d1ab58476f246a08u.jpg\"}'},\n    {'job': {'labels': [],\n      'refreshTime': '20231121102642',\n      'topJob': False,\n      'requireWorkYears': '5-10年',\n      'jobKind': '2',\n      'link': 'https://www.liepin.com/job/1963064221.shtml',\n      'jobId': '63064221',\n      'dq': '北京-西城区',\n      'title': '广告策划运营',\n      'advViewFlag': False,\n      'salary': '15-20k',\n      'pcOuterLink': '',\n      'h5OuterLink': '',\n      'dataPromId': 'd_sfrom=search_prime&d_ckId=null&d_curPage=0&d_pageSize=40&d_headId=null&d_posi=1&skId=h2c8pxojavrmo1w785z7ueih2ybfpux8&fkId=h2c8pxojavrmo1w785z7ueih2ybfpux8&ckId=h2c8pxojavrmo1w785z7ueih2ybfpux8&sfrom=search_job_pc&curPage=0&pageSize=40&index=1',\n      'requireEduLevel': '本科'},\n     'recruiter': {'recruiterName': '吴女士',\n      'recruiterTitle': 'HR经理',\n      'chatted': False,\n      'imId': 'c90ab12afdee71459add05084bd83d36',\n      'imUserType': '2',\n      'recruiterId': '544ec63fbf257aa3c63c53c95bbaf19c',\n      'recruiterPhoto': '5f8f9865ea60860b75384fa508u.jpg'},\n     'comp': {'compId': 12731733,\n      'compIndustry': '工程施工',\n      'compScale': '1-49人',\n      'link': 'https://www.liepin.com/company/12731733/',\n      'compStage': '融资未公开',\n      'compLogo': '61b07937d0458d53c627567e02u.jpg',\n      'compName': '双田(北京)机电工程有限公司'},\n     'dataInfo': '%7B%22ckId%22%3A%22h2c8pxojavrmo1w785z7ueih2ybfpux8%22%2C%22pageSize%22%3A%2240%22%2C%22curPage%22%3A%220%22%2C%22scene%22%3A%22input%22%2C%22skId%22%3A%22h2c8pxojavrmo1w785z7ueih2ybfpux8%22%2C%22fkId%22%3A%22h2c8pxojavrmo1w785z7ueih2ybfpux8%22%2C%22jobKind%22%3A%222%22%2C%22jobId%22%3A%2263064221%22%2C%22sfrom%22%3A%22search_job_pc%22%2C%22d_curPage%22%3A%220%22%2C%22d_pageSize%22%3A%2240%22%2C%22as_from%22%3A%22search_prime%22%7D',\n     'dataParams': '{\"recruiterName\":\"吴女士\",\"jobKind\":\"2\",\"userId\":\"544ec63fbf257aa3c63c53c95bbaf19c\",\"jobId\":\"63064221\",\"imId\":\"c90ab12afdee71459add05084bd83d36\",\"imUserType\":\"2\",\"recruiterPhoto\":\"5f8f9865ea60860b75384fa508u.jpg\"}'},\n    {'job': {'labels': ['文案策划',\n       '广告策划',\n       '媒介策划',\n       '网站策划',\n       '营销策划',\n       '客户管理',\n       '广告媒体',\n       '移动媒体',\n       '网络媒体',\n       '乙方公司背景'],\n      'refreshTime': '20230504175537',\n      'topJob': False,\n      'requireWorkYears': '10年以上',\n      'jobKind': '2',\n      'link': 'https://www.liepin.com/job/1958273833.shtml',\n      'jobId': '58273833',\n      'dq': '北京-通州区',\n      'title': '广告策划总监',\n      'advViewFlag': False,\n      'salary': '40-60k·15薪',\n      'pcOuterLink': '',\n      'h5OuterLink': '',\n      'dataPromId': 'd_sfrom=search_prime&d_ckId=null&d_curPage=0&d_pageSize=40&d_headId=null&d_posi=2&skId=h2c8pxojavrmo1w785z7ueih2ybfpux8&fkId=h2c8pxojavrmo1w785z7ueih2ybfpux8&ckId=h2c8pxojavrmo1w785z7ueih2ybfpux8&sfrom=search_job_pc&curPage=0&pageSize=40&index=2',\n      'requireEduLevel': '本科'},\n     'recruiter': {'recruiterName': '黄女士',\n      'recruiterTitle': '招聘经理',\n      'chatted': False,\n      'imId': '26589f3a62c07bda36d8c7038f74fcb7',\n      'imUserType': '2',\n      'recruiterId': 'aadd6feb5284fb88fe617cf9abcae704',\n      'recruiterPhoto': '64b290564767061a4c09cecc04u.png'},\n     'comp': {'compId': 9770323,\n      'compIndustry': '货运/物流/仓储',\n      'compScale': '10000人以上',\n      'link': 'https://www.liepin.com/company/9770323/',\n      'compStage': '港股上市',\n      'compLogo': '5f3b73cb9d37de587955cfe104u.png',\n      'compName': '京东物流'},\n     'dataInfo': '%7B%22ckId%22%3A%22h2c8pxojavrmo1w785z7ueih2ybfpux8%22%2C%22pageSize%22%3A%2240%22%2C%22curPage%22%3A%220%22%2C%22scene%22%3A%22input%22%2C%22skId%22%3A%22h2c8pxojavrmo1w785z7ueih2ybfpux8%22%2C%22fkId%22%3A%22h2c8pxojavrmo1w785z7ueih2ybfpux8%22%2C%22jobKind%22%3A%222%22%2C%22jobId%22%3A%2258273833%22%2C%22sfrom%22%3A%22search_job_pc%22%2C%22d_curPage%22%3A%220%22%2C%22d_pageSize%22%3A%2240%22%2C%22as_from%22%3A%22search_prime%22%7D',\n     'dataParams': '{\"recruiterName\":\"黄女士\",\"jobKind\":\"2\",\"userId\":\"aadd6feb5284fb88fe617cf9abcae704\",\"jobId\":\"58273833\",\"imId\":\"26589f3a62c07bda36d8c7038f74fcb7\",\"imUserType\":\"2\",\"recruiterPhoto\":\"64b290564767061a4c09cecc04u.png\"}'},\n    {'job': {'labels': ['营销策划', '广告策划', '文案策划', '广告媒介', '电子商务'],\n      'refreshTime': '20231127180826',\n      'topJob': False,\n      'requireWorkYears': '3-5年',\n      'jobKind': '2',\n      'link': 'https://www.liepin.com/job/1959559635.shtml',\n      'jobId': '59559635',\n      'dq': '北京-朝阳区',\n      'title': '广告策划经理/专员',\n      'advViewFlag': False,\n      'salary': '15-20k',\n      'pcOuterLink': '',\n      'h5OuterLink': '',\n      'dataPromId': 'd_sfrom=search_prime&d_ckId=null&d_curPage=0&d_pageSize=40&d_headId=null&d_posi=3&skId=h2c8pxojavrmo1w785z7ueih2ybfpux8&fkId=h2c8pxojavrmo1w785z7ueih2ybfpux8&ckId=h2c8pxojavrmo1w785z7ueih2ybfpux8&sfrom=search_job_pc&curPage=0&pageSize=40&index=3',\n      'requireEduLevel': '本科'},\n     'recruiter': {'recruiterName': '艾先生',\n      'recruiterTitle': '石家庄运营中心副经理',\n      'chatted': False,\n      'imId': '74176d5e4a74c061651ec1d54741dccf',\n      'imUserType': '2',\n      'recruiterId': '0d7bec34e8ab59976333e80b532df6c7',\n      'recruiterPhoto': '5f8f9866dfb13a7dee342f1808u.jpg'},\n     'comp': {'compId': 13100721,\n      'compIndustry': '互联网',\n      'compScale': '50-99人',\n      'link': 'https://www.liepin.com/company/13100721/',\n      'compStage': '融资未公开',\n      'compLogo': '619cbb391bd4fb704e42e6aa02u.jpg',\n      'compName': '北京桔柚科技有限公司'},\n     'dataInfo': '%7B%22ckId%22%3A%22h2c8pxojavrmo1w785z7ueih2ybfpux8%22%2C%22pageSize%22%3A%2240%22%2C%22curPage%22%3A%220%22%2C%22scene%22%3A%22input%22%2C%22skId%22%3A%22h2c8pxojavrmo1w785z7ueih2ybfpux8%22%2C%22fkId%22%3A%22h2c8pxojavrmo1w785z7ueih2ybfpux8%22%2C%22jobKind%22%3A%222%22%2C%22jobId%22%3A%2259559635%22%2C%22sfrom%22%3A%22search_job_pc%22%2C%22d_curPage%22%3A%220%22%2C%22d_pageSize%22%3A%2240%22%2C%22as_from%22%3A%22search_prime%22%7D',\n     'dataParams': '{\"recruiterName\":\"艾先生\",\"jobKind\":\"2\",\"userId\":\"0d7bec34e8ab59976333e80b532df6c7\",\"jobId\":\"59559635\",\"imId\":\"74176d5e4a74c061651ec1d54741dccf\",\"imUserType\":\"2\",\"recruiterPhoto\":\"5f8f9866dfb13a7dee342f1808u.jpg\"}'},\n    {'job': {'labels': [],\n      'refreshTime': '20230920144933',\n      'topJob': False,\n      'requireWorkYears': '3-5年',\n      'jobKind': '2',\n      'link': 'https://www.liepin.com/job/1960819273.shtml',\n      'jobId': '60819273',\n      'dq': '北京-朝阳区',\n      'title': '广告策划经理（双休 五险一金）',\n      'advViewFlag': False,\n      'salary': '15-25k',\n      'pcOuterLink': '',\n      'h5OuterLink': '',\n      'dataPromId': 'd_sfrom=search_prime&d_ckId=null&d_curPage=0&d_pageSize=40&d_headId=null&d_posi=4&skId=h2c8pxojavrmo1w785z7ueih2ybfpux8&fkId=h2c8pxojavrmo1w785z7ueih2ybfpux8&ckId=h2c8pxojavrmo1w785z7ueih2ybfpux8&sfrom=search_job_pc&curPage=0&pageSize=40&index=4',\n      'requireEduLevel': '本科'},\n     'recruiter': {'recruiterName': '关女士',\n      'recruiterTitle': '人事',\n      'chatted': False,\n      'imId': 'a534cfa02607b7baabcb385e72bd8d3d',\n      'imUserType': '2',\n      'recruiterId': '36aa038690ce4080c68176cf1ad725bb',\n      'recruiterPhoto': '5f8f9865ea60860b75384fa508u.jpg'},\n     'comp': {'compId': 13100721,\n      'compIndustry': '互联网',\n      'compScale': '50-99人',\n      'link': 'https://www.liepin.com/company/13100721/',\n      'compStage': '融资未公开',\n      'compLogo': '619cbb391bd4fb704e42e6aa02u.jpg',\n      'compName': '北京桔柚科技有限公司'},\n     'dataInfo': '%7B%22ckId%22%3A%22h2c8pxojavrmo1w785z7ueih2ybfpux8%22%2C%22pageSize%22%3A%2240%22%2C%22curPage%22%3A%220%22%2C%22scene%22%3A%22input%22%2C%22skId%22%3A%22h2c8pxojavrmo1w785z7ueih2ybfpux8%22%2C%22fkId%22%3A%22h2c8pxojavrmo1w785z7ueih2ybfpux8%22%2C%22jobKind%22%3A%222%22%2C%22jobId%22%3A%2260819273%22%2C%22sfrom%22%3A%22search_job_pc%22%2C%22d_curPage%22%3A%220%22%2C%22d_pageSize%22%3A%2240%22%2C%22as_from%22%3A%22search_prime%22%7D',\n     'dataParams': '{\"recruiterName\":\"关女士\",\"jobKind\":\"2\",\"userId\":\"36aa038690ce4080c68176cf1ad725bb\",\"jobId\":\"60819273\",\"imId\":\"a534cfa02607b7baabcb385e72bd8d3d\",\"imUserType\":\"2\",\"recruiterPhoto\":\"5f8f9865ea60860b75384fa508u.jpg\"}'},\n    {'job': {'labels': [],\n      'refreshTime': '20230523162224',\n      'topJob': False,\n      'requireWorkYears': '3-5年',\n      'jobKind': '2',\n      'link': 'https://www.liepin.com/job/1958780215.shtml',\n      'jobId': '58780215',\n      'dq': '北京',\n      'title': '广告策划经理',\n      'advViewFlag': False,\n      'salary': '13-26k',\n      'pcOuterLink': '',\n      'h5OuterLink': '',\n      'dataPromId': 'd_sfrom=search_prime&d_ckId=null&d_curPage=0&d_pageSize=40&d_headId=null&d_posi=5&skId=h2c8pxojavrmo1w785z7ueih2ybfpux8&fkId=h2c8pxojavrmo1w785z7ueih2ybfpux8&ckId=h2c8pxojavrmo1w785z7ueih2ybfpux8&sfrom=search_job_pc&curPage=0&pageSize=40&index=5',\n      'requireEduLevel': '本科'},\n     'recruiter': {'recruiterName': '杨女士',\n      'recruiterTitle': '总助',\n      'chatted': False,\n      'imId': '915bd0a20b72ffad7db94255d9736b5c',\n      'imUserType': '2',\n      'recruiterId': '2b2e4ec0171f8e45e75032802e1ae51e',\n      'recruiterPhoto': '5f8f9866dfb13a7dee342f1808u.jpg'},\n     'comp': {'compId': 13235959,\n      'compIndustry': '批发/零售',\n      'compScale': '50-99人',\n      'link': 'https://www.liepin.com/company/13235959/',\n      'compLogo': '61b07937d0458d53c627567e02u.jpg',\n      'compName': '北京大有利进出口有限公司'},\n     'dataInfo': '%7B%22ckId%22%3A%22h2c8pxojavrmo1w785z7ueih2ybfpux8%22%2C%22pageSize%22%3A%2240%22%2C%22curPage%22%3A%220%22%2C%22scene%22%3A%22input%22%2C%22skId%22%3A%22h2c8pxojavrmo1w785z7ueih2ybfpux8%22%2C%22fkId%22%3A%22h2c8pxojavrmo1w785z7ueih2ybfpux8%22%2C%22jobKind%22%3A%222%22%2C%22jobId%22%3A%2258780215%22%2C%22sfrom%22%3A%22search_job_pc%22%2C%22d_curPage%22%3A%220%22%2C%22d_pageSize%22%3A%2240%22%2C%22as_from%22%3A%22search_prime%22%7D',\n     'dataParams': '{\"recruiterName\":\"杨女士\",\"jobKind\":\"2\",\"userId\":\"2b2e4ec0171f8e45e75032802e1ae51e\",\"jobId\":\"58780215\",\"imId\":\"915bd0a20b72ffad7db94255d9736b5c\",\"imUserType\":\"2\",\"recruiterPhoto\":\"5f8f9866dfb13a7dee342f1808u.jpg\"}'},\n    {'job': {'labels': ['品牌策划', '网站策划', '营销策划', 'IT/互联网/软件', '广告/传媒/文化'],\n      'refreshTime': '20230324222322',\n      'topJob': False,\n      'requireWorkYears': '5-10年',\n      'jobKind': '2',\n      'link': 'https://www.liepin.com/job/1957284347.shtml',\n      'jobId': '57284347',\n      'dq': '北京-朝阳区',\n      'title': '广告策划经理',\n      'advViewFlag': False,\n      'salary': '11-16k',\n      'pcOuterLink': '',\n      'h5OuterLink': '',\n      'dataPromId': 'd_sfrom=search_prime&d_ckId=null&d_curPage=0&d_pageSize=40&d_headId=null&d_posi=6&skId=h2c8pxojavrmo1w785z7ueih2ybfpux8&fkId=h2c8pxojavrmo1w785z7ueih2ybfpux8&ckId=h2c8pxojavrmo1w785z7ueih2ybfpux8&sfrom=search_job_pc&curPage=0&pageSize=40&index=6',\n      'requireEduLevel': '本科'},\n     'recruiter': {'recruiterName': '梁女士',\n      'recruiterTitle': '人力资源伙伴(HRBP)',\n      'chatted': False,\n      'imId': '87cc2579d2e614a54a7a04e7d95591ea',\n      'imUserType': '2',\n      'recruiterId': '82ca2fafcee6f5a5185a3441d89c5d70',\n      'recruiterPhoto': '5f8f98648dbe6273dcf8515508u.jpg'},\n     'comp': {'compId': 1054367,\n      'compIndustry': '广告/公关/会展',\n      'compScale': '2000-5000人',\n      'link': 'https://www.liepin.com/company/1054367/',\n      'compStage': '沪深A股上市',\n      'compLogo': '5d803842d0e79f08cffdfb2208u.png',\n      'compName': '省广集团'},\n     'dataInfo': '%7B%22ckId%22%3A%22h2c8pxojavrmo1w785z7ueih2ybfpux8%22%2C%22pageSize%22%3A%2240%22%2C%22curPage%22%3A%220%22%2C%22scene%22%3A%22input%22%2C%22skId%22%3A%22h2c8pxojavrmo1w785z7ueih2ybfpux8%22%2C%22fkId%22%3A%22h2c8pxojavrmo1w785z7ueih2ybfpux8%22%2C%22jobKind%22%3A%222%22%2C%22jobId%22%3A%2257284347%22%2C%22sfrom%22%3A%22search_job_pc%22%2C%22d_curPage%22%3A%220%22%2C%22d_pageSize%22%3A%2240%22%2C%22as_from%22%3A%22search_prime%22%7D',\n     'dataParams': '{\"recruiterName\":\"梁女士\",\"jobKind\":\"2\",\"userId\":\"82ca2fafcee6f5a5185a3441d89c5d70\",\"jobId\":\"57284347\",\"imId\":\"87cc2579d2e614a54a7a04e7d95591ea\",\"imUserType\":\"2\",\"recruiterPhoto\":\"5f8f98648dbe6273dcf8515508u.jpg\"}'},\n    {'job': {'labels': ['新媒体策划',\n       '广告策划',\n       '广告媒介',\n       '网络媒介',\n       '户外媒介',\n       '信息流',\n       'KOL',\n       '品牌策划',\n       '营销策划',\n       '文案策划'],\n      'refreshTime': '20220128105526',\n      'topJob': False,\n      'requireWorkYears': '3-5年',\n      'jobKind': '2',\n      'link': 'https://www.liepin.com/job/1946693977.shtml',\n      'jobId': '46693977',\n      'dq': '北京-朝阳区',\n      'title': '广告策划经理',\n      'advViewFlag': False,\n      'salary': '20-30k',\n      'pcOuterLink': '',\n      'h5OuterLink': '',\n      'dataPromId': 'd_sfrom=search_prime&d_ckId=null&d_curPage=0&d_pageSize=40&d_headId=null&d_posi=7&skId=h2c8pxojavrmo1w785z7ueih2ybfpux8&fkId=h2c8pxojavrmo1w785z7ueih2ybfpux8&ckId=h2c8pxojavrmo1w785z7ueih2ybfpux8&sfrom=search_job_pc&curPage=0&pageSize=40&index=7',\n      'requireEduLevel': '统招本科'},\n     'recruiter': {'recruiterName': '安女士',\n      'recruiterTitle': '',\n      'chatted': False,\n      'imId': '7dd2d67a83312b0a062c1b1ee9c7454d',\n      'imUserType': '2',\n      'recruiterId': '2c1c7e6f5234f8b8e11b50e1f765005c',\n      'recruiterPhoto': '64e42d4c88835223e141125804u.jpeg'},\n     'comp': {'compId': 1054367,\n      'compIndustry': '广告/公关/会展',\n      'compScale': '2000-5000人',\n      'link': 'https://www.liepin.com/company/1054367/',\n      'compStage': '沪深A股上市',\n      'compLogo': '5d803842d0e79f08cffdfb2208u.png',\n      'compName': '省广集团'},\n     'dataInfo': '%7B%22ckId%22%3A%22h2c8pxojavrmo1w785z7ueih2ybfpux8%22%2C%22pageSize%22%3A%2240%22%2C%22curPage%22%3A%220%22%2C%22scene%22%3A%22input%22%2C%22skId%22%3A%22h2c8pxojavrmo1w785z7ueih2ybfpux8%22%2C%22fkId%22%3A%22h2c8pxojavrmo1w785z7ueih2ybfpux8%22%2C%22jobKind%22%3A%222%22%2C%22jobId%22%3A%2246693977%22%2C%22sfrom%22%3A%22search_job_pc%22%2C%22d_curPage%22%3A%220%22%2C%22d_pageSize%22%3A%2240%22%2C%22as_from%22%3A%22search_prime%22%7D',\n     'dataParams': '{\"recruiterName\":\"安女士\",\"jobKind\":\"2\",\"userId\":\"2c1c7e6f5234f8b8e11b50e1f765005c\",\"jobId\":\"46693977\",\"imId\":\"7dd2d67a83312b0a062c1b1ee9c7454d\",\"imUserType\":\"2\",\"recruiterPhoto\":\"64e42d4c88835223e141125804u.jpeg\"}'},\n    {'job': {'labels': ['广告文案'],\n      'refreshTime': '20210805115110',\n      'topJob': False,\n      'requireWorkYears': '1-3年',\n      'jobKind': '2',\n      'link': 'https://www.liepin.com/job/1941792755.shtml',\n      'jobId': '41792755',\n      'dq': '北京-朝阳区',\n      'title': '广告策划',\n      'advViewFlag': False,\n      'salary': '8-13k',\n      'pcOuterLink': '',\n      'h5OuterLink': '',\n      'dataPromId': 'd_sfrom=search_prime&d_ckId=null&d_curPage=0&d_pageSize=40&d_headId=null&d_posi=8&skId=h2c8pxojavrmo1w785z7ueih2ybfpux8&fkId=h2c8pxojavrmo1w785z7ueih2ybfpux8&ckId=h2c8pxojavrmo1w785z7ueih2ybfpux8&sfrom=search_job_pc&curPage=0&pageSize=40&index=8',\n      'requireEduLevel': '本科'},\n     'recruiter': {'recruiterName': '陶女士',\n      'recruiterTitle': 'HR',\n      'chatted': False,\n      'imId': 'fd624deebc6779ca058646d4efc6c3fb',\n      'imUserType': '2',\n      'recruiterId': 'ebd649abcca3d0add3fe05e7cfd06951',\n      'recruiterPhoto': '5f8f9866dfb13a7dee342f1808u.jpg'},\n     'comp': {'compId': 12869891,\n      'compIndustry': '专业技术服务',\n      'compScale': '1-49人',\n      'link': 'https://www.liepin.com/company/12869891/',\n      'compLogo': '61b07937d0458d53c627567e02u.jpg',\n      'compName': '中科天蓝(北京)数字科技有限公司'},\n     'dataInfo': '%7B%22ckId%22%3A%22h2c8pxojavrmo1w785z7ueih2ybfpux8%22%2C%22pageSize%22%3A%2240%22%2C%22curPage%22%3A%220%22%2C%22scene%22%3A%22input%22%2C%22skId%22%3A%22h2c8pxojavrmo1w785z7ueih2ybfpux8%22%2C%22fkId%22%3A%22h2c8pxojavrmo1w785z7ueih2ybfpux8%22%2C%22jobKind%22%3A%222%22%2C%22jobId%22%3A%2241792755%22%2C%22sfrom%22%3A%22search_job_pc%22%2C%22d_curPage%22%3A%220%22%2C%22d_pageSize%22%3A%2240%22%2C%22as_from%22%3A%22search_prime%22%7D',\n     'dataParams': '{\"recruiterName\":\"陶女士\",\"jobKind\":\"2\",\"userId\":\"ebd649abcca3d0add3fe05e7cfd06951\",\"jobId\":\"41792755\",\"imId\":\"fd624deebc6779ca058646d4efc6c3fb\",\"imUserType\":\"2\",\"recruiterPhoto\":\"5f8f9866dfb13a7dee342f1808u.jpg\"}'},\n    {'job': {'labels': ['营销策划', '品牌策划', '文案策划', '市场策划', '汽车行业', '广告/传媒/文化'],\n      'refreshTime': '20201126094209',\n      'topJob': False,\n      'requireWorkYears': '5-10年',\n      'jobKind': '2',\n      'link': 'https://www.liepin.com/job/1932847357.shtml',\n      'jobId': '32847357',\n      'dq': '北京',\n      'title': '广告策划经理（汽车）',\n      'advViewFlag': False,\n      'salary': '20-25k',\n      'pcOuterLink': '',\n      'h5OuterLink': '',\n      'dataPromId': 'd_sfrom=search_prime&d_ckId=null&d_curPage=0&d_pageSize=40&d_headId=null&d_posi=9&skId=h2c8pxojavrmo1w785z7ueih2ybfpux8&fkId=h2c8pxojavrmo1w785z7ueih2ybfpux8&ckId=h2c8pxojavrmo1w785z7ueih2ybfpux8&sfrom=search_job_pc&curPage=0&pageSize=40&index=9',\n      'requireEduLevel': '本科'},\n     'recruiter': {'recruiterName': '金女士',\n      'recruiterTitle': '人力资源',\n      'chatted': False,\n      'imId': 'cabc88682ad954c471de52c3bc0b6279',\n      'imUserType': '2',\n      'recruiterId': '164708f81ef50b0932ead1dba263572a',\n      'recruiterPhoto': '5f8f9865ea60860b75384fa508u.jpg'},\n     'comp': {'compId': 9144834,\n      'compIndustry': '广告/公关/会展',\n      'compScale': '50-99人',\n      'link': 'https://www.liepin.com/company/9144834/',\n      'compStage': '融资未公开',\n      'compLogo': '61b07937d0458d53c627567e02u.jpg',\n      'compName': '北京伊诺盛北广广告有限公司'},\n     'dataInfo': '%7B%22ckId%22%3A%22h2c8pxojavrmo1w785z7ueih2ybfpux8%22%2C%22pageSize%22%3A%2240%22%2C%22curPage%22%3A%220%22%2C%22scene%22%3A%22input%22%2C%22skId%22%3A%22h2c8pxojavrmo1w785z7ueih2ybfpux8%22%2C%22fkId%22%3A%22h2c8pxojavrmo1w785z7ueih2ybfpux8%22%2C%22jobKind%22%3A%222%22%2C%22jobId%22%3A%2232847357%22%2C%22sfrom%22%3A%22search_job_pc%22%2C%22d_curPage%22%3A%220%22%2C%22d_pageSize%22%3A%2240%22%2C%22as_from%22%3A%22search_prime%22%7D',\n     'dataParams': '{\"recruiterName\":\"金女士\",\"jobKind\":\"2\",\"userId\":\"164708f81ef50b0932ead1dba263572a\",\"jobId\":\"32847357\",\"imId\":\"cabc88682ad954c471de52c3bc0b6279\",\"imUserType\":\"2\",\"recruiterPhoto\":\"5f8f9865ea60860b75384fa508u.jpg\"}'},\n    {'job': {'labels': ['快消行业策划', '广告策划', '招商策划', '线上广告'],\n      'refreshTime': '20230505140938',\n      'topJob': False,\n      'requireWorkYears': '3-5年',\n      'jobKind': '2',\n      'link': 'https://www.liepin.com/job/1958294161.shtml',\n      'jobId': '58294161',\n      'dq': '北京-海淀区',\n      'title': '广告策划经理',\n      'advViewFlag': False,\n      'salary': '15-20k·14薪',\n      'pcOuterLink': '',\n      'h5OuterLink': '',\n      'dataPromId': 'd_sfrom=search_prime&d_ckId=null&d_curPage=0&d_pageSize=40&d_headId=null&d_posi=10&skId=h2c8pxojavrmo1w785z7ueih2ybfpux8&fkId=h2c8pxojavrmo1w785z7ueih2ybfpux8&ckId=h2c8pxojavrmo1w785z7ueih2ybfpux8&sfrom=search_job_pc&curPage=0&pageSize=40&index=10',\n      'requireEduLevel': '统招本科'},\n     'recruiter': {'recruiterName': '韦女士',\n      'recruiterTitle': '',\n      'chatted': False,\n      'imId': 'be12fac189cce9dd99eeb040770b0b48',\n      'imUserType': '2',\n      'recruiterId': '2c86d7458afea8e9dd9b20697dce2286',\n      'recruiterPhoto': '5f8f9863f6d1ab58476f246a08u.jpg'},\n     'comp': {'compId': 882936,\n      'compIndustry': '电子商务',\n      'compScale': '5000-10000人',\n      'link': 'https://www.liepin.com/company/882936/',\n      'compStage': '美股上市',\n      'compLogo': '603db7920f02191a79819fdb04u.png',\n      'compName': '去哪儿'},\n     'dataInfo': '%7B%22ckId%22%3A%22h2c8pxojavrmo1w785z7ueih2ybfpux8%22%2C%22pageSize%22%3A%2240%22%2C%22curPage%22%3A%220%22%2C%22scene%22%3A%22input%22%2C%22skId%22%3A%22h2c8pxojavrmo1w785z7ueih2ybfpux8%22%2C%22fkId%22%3A%22h2c8pxojavrmo1w785z7ueih2ybfpux8%22%2C%22jobKind%22%3A%222%22%2C%22jobId%22%3A%2258294161%22%2C%22sfrom%22%3A%22search_job_pc%22%2C%22d_curPage%22%3A%220%22%2C%22d_pageSize%22%3A%2240%22%2C%22as_from%22%3A%22search_prime%22%7D',\n     'dataParams': '{\"recruiterName\":\"韦女士\",\"jobKind\":\"2\",\"userId\":\"2c86d7458afea8e9dd9b20697dce2286\",\"jobId\":\"58294161\",\"imId\":\"be12fac189cce9dd99eeb040770b0b48\",\"imUserType\":\"2\",\"recruiterPhoto\":\"5f8f9863f6d1ab58476f246a08u.jpg\"}'},\n    {'job': {'labels': ['市场营销', '广告媒体', '广告/传媒/文化', '快消品'],\n      'refreshTime': '20231115174720',\n      'topJob': False,\n      'requireWorkYears': '5-10年',\n      'jobKind': '2',\n      'link': 'https://www.liepin.com/job/1962954773.shtml',\n      'jobId': '62954773',\n      'dq': '北京-朝阳区',\n      'title': '广告策划-快消',\n      'advViewFlag': False,\n      'salary': '25-45k·15薪',\n      'pcOuterLink': '',\n      'h5OuterLink': '',\n      'dataPromId': 'd_sfrom=search_prime&d_ckId=null&d_curPage=0&d_pageSize=40&d_headId=null&d_posi=11&skId=h2c8pxojavrmo1w785z7ueih2ybfpux8&fkId=h2c8pxojavrmo1w785z7ueih2ybfpux8&ckId=h2c8pxojavrmo1w785z7ueih2ybfpux8&sfrom=search_job_pc&curPage=0&pageSize=40&index=11',\n      'requireEduLevel': '本科'},\n     'recruiter': {'recruiterName': '韩女士',\n      'recruiterTitle': '招聘主管',\n      'chatted': False,\n      'imId': 'f08d2ca968e841ed4da34c7ac147e5b9',\n      'imUserType': '2',\n      'recruiterId': 'b5ee10cbdf2ef8ef8dd3ccacb977af60',\n      'recruiterPhoto': '5f8f9866dfb13a7dee342f1808u.jpg'},\n     'comp': {'compId': 7921271,\n      'compIndustry': '互联网',\n      'compScale': '1000-2000人',\n      'link': 'https://www.liepin.com/company/7921271/',\n      'compStage': 'D轮',\n      'compLogo': '5952248270327b30a4cc59d605a.jpg',\n      'compName': '小红书'},\n     'dataInfo': '%7B%22ckId%22%3A%22h2c8pxojavrmo1w785z7ueih2ybfpux8%22%2C%22pageSize%22%3A%2240%22%2C%22curPage%22%3A%220%22%2C%22scene%22%3A%22input%22%2C%22skId%22%3A%22h2c8pxojavrmo1w785z7ueih2ybfpux8%22%2C%22fkId%22%3A%22h2c8pxojavrmo1w785z7ueih2ybfpux8%22%2C%22jobKind%22%3A%222%22%2C%22jobId%22%3A%2262954773%22%2C%22sfrom%22%3A%22search_job_pc%22%2C%22d_curPage%22%3A%220%22%2C%22d_pageSize%22%3A%2240%22%2C%22as_from%22%3A%22search_prime%22%7D',\n     'dataParams': '{\"recruiterName\":\"韩女士\",\"jobKind\":\"2\",\"userId\":\"b5ee10cbdf2ef8ef8dd3ccacb977af60\",\"jobId\":\"62954773\",\"imId\":\"f08d2ca968e841ed4da34c7ac147e5b9\",\"imUserType\":\"2\",\"recruiterPhoto\":\"5f8f9866dfb13a7dee342f1808u.jpg\"}'},\n    {'job': {'labels': ['门户网站', '广告/传媒/文化'],\n      'refreshTime': '20231124195200',\n      'topJob': False,\n      'requireWorkYears': '3-5年',\n      'jobKind': '2',\n      'link': 'https://www.liepin.com/job/1963181961.shtml',\n      'jobId': '63181961',\n      'dq': '北京-朝阳区',\n      'title': '广告策划-豪华汽车方向',\n      'advViewFlag': False,\n      'salary': '16-30k·15薪',\n      'pcOuterLink': '',\n      'h5OuterLink': '',\n      'dataPromId': 'd_sfrom=search_prime&d_ckId=null&d_curPage=0&d_pageSize=40&d_headId=null&d_posi=12&skId=h2c8pxojavrmo1w785z7ueih2ybfpux8&fkId=h2c8pxojavrmo1w785z7ueih2ybfpux8&ckId=h2c8pxojavrmo1w785z7ueih2ybfpux8&sfrom=search_job_pc&curPage=0&pageSize=40&index=12',\n      'requireEduLevel': '本科'},\n     'recruiter': {'recruiterName': '刘先生',\n      'recruiterTitle': '招聘',\n      'chatted': False,\n      'imId': '1a87394f562aca5a19e71f6ca153c527',\n      'imUserType': '2',\n      'recruiterId': '78817b1c0b0ba0d34017af0aff4abb54',\n      'recruiterPhoto': '5f8f986bdfb13a7dee342f2108u.jpg'},\n     'comp': {'compId': 7863078,\n      'compIndustry': '互联网',\n      'compScale': '10000人以上',\n      'link': 'https://www.liepin.com/company/7863078/',\n      'compStage': '其他',\n      'compLogo': '5d887b5528021708fa52b44403u.jpg',\n      'compName': '字节跳动'},\n     'dataInfo': '%7B%22ckId%22%3A%22h2c8pxojavrmo1w785z7ueih2ybfpux8%22%2C%22pageSize%22%3A%2240%22%2C%22curPage%22%3A%220%22%2C%22scene%22%3A%22input%22%2C%22skId%22%3A%22h2c8pxojavrmo1w785z7ueih2ybfpux8%22%2C%22fkId%22%3A%22h2c8pxojavrmo1w785z7ueih2ybfpux8%22%2C%22jobKind%22%3A%222%22%2C%22jobId%22%3A%2263181961%22%2C%22sfrom%22%3A%22search_job_pc%22%2C%22d_curPage%22%3A%220%22%2C%22d_pageSize%22%3A%2240%22%2C%22as_from%22%3A%22search_prime%22%7D',\n     'dataParams': '{\"recruiterName\":\"刘先生\",\"jobKind\":\"2\",\"userId\":\"78817b1c0b0ba0d34017af0aff4abb54\",\"jobId\":\"63181961\",\"imId\":\"1a87394f562aca5a19e71f6ca153c527\",\"imUserType\":\"2\",\"recruiterPhoto\":\"5f8f986bdfb13a7dee342f2108u.jpg\"}'},\n    {'job': {'labels': ['市场策划', '市场推广', '市场营销', '汽车行业'],\n      'refreshTime': '20231129221703',\n      'topJob': False,\n      'requireWorkYears': '5-10年',\n      'jobKind': '2',\n      'link': 'https://www.liepin.com/job/1963288733.shtml',\n      'jobId': '63288733',\n      'dq': '北京-朝阳区',\n      'title': '广告策划-交通行业',\n      'advViewFlag': False,\n      'salary': '25-45k·15薪',\n      'pcOuterLink': '',\n      'h5OuterLink': '',\n      'dataPromId': 'd_sfrom=search_prime&d_ckId=null&d_curPage=0&d_pageSize=40&d_headId=null&d_posi=13&skId=h2c8pxojavrmo1w785z7ueih2ybfpux8&fkId=h2c8pxojavrmo1w785z7ueih2ybfpux8&ckId=h2c8pxojavrmo1w785z7ueih2ybfpux8&sfrom=search_job_pc&curPage=0&pageSize=40&index=13',\n      'requireEduLevel': '本科'},\n     'recruiter': {'recruiterName': '韩女士',\n      'recruiterTitle': '招聘主管',\n      'chatted': False,\n      'imId': 'f08d2ca968e841ed4da34c7ac147e5b9',\n      'imUserType': '2',\n      'recruiterId': 'b5ee10cbdf2ef8ef8dd3ccacb977af60',\n      'recruiterPhoto': '5f8f9866dfb13a7dee342f1808u.jpg'},\n     'comp': {'compId': 7921271,\n      'compIndustry': '互联网',\n      'compScale': '1000-2000人',\n      'link': 'https://www.liepin.com/company/7921271/',\n      'compStage': 'D轮',\n      'compLogo': '5952248270327b30a4cc59d605a.jpg',\n      'compName': '小红书'},\n     'dataInfo': '%7B%22ckId%22%3A%22h2c8pxojavrmo1w785z7ueih2ybfpux8%22%2C%22pageSize%22%3A%2240%22%2C%22curPage%22%3A%220%22%2C%22scene%22%3A%22input%22%2C%22skId%22%3A%22h2c8pxojavrmo1w785z7ueih2ybfpux8%22%2C%22fkId%22%3A%22h2c8pxojavrmo1w785z7ueih2ybfpux8%22%2C%22jobKind%22%3A%222%22%2C%22jobId%22%3A%2263288733%22%2C%22sfrom%22%3A%22search_job_pc%22%2C%22d_curPage%22%3A%220%22%2C%22d_pageSize%22%3A%2240%22%2C%22as_from%22%3A%22search_prime%22%7D',\n     'dataParams': '{\"recruiterName\":\"韩女士\",\"jobKind\":\"2\",\"userId\":\"b5ee10cbdf2ef8ef8dd3ccacb977af60\",\"jobId\":\"63288733\",\"imId\":\"f08d2ca968e841ed4da34c7ac147e5b9\",\"imUserType\":\"2\",\"recruiterPhoto\":\"5f8f9866dfb13a7dee342f1808u.jpg\"}'},\n    {'job': {'labels': ['市场策划', '市场营销', '市场推广', '网络媒体', '网络媒介', '服务业'],\n      'refreshTime': '20231029192008',\n      'topJob': False,\n      'requireWorkYears': '5-10年',\n      'jobKind': '2',\n      'link': 'https://www.liepin.com/job/1962538243.shtml',\n      'jobId': '62538243',\n      'dq': '北京-朝阳区',\n      'title': '生活服务行业 广告策划',\n      'advViewFlag': False,\n      'salary': '20-40k·15薪',\n      'pcOuterLink': '',\n      'h5OuterLink': '',\n      'dataPromId': 'd_sfrom=search_prime&d_ckId=null&d_curPage=0&d_pageSize=40&d_headId=null&d_posi=14&skId=h2c8pxojavrmo1w785z7ueih2ybfpux8&fkId=h2c8pxojavrmo1w785z7ueih2ybfpux8&ckId=h2c8pxojavrmo1w785z7ueih2ybfpux8&sfrom=search_job_pc&curPage=0&pageSize=40&index=14',\n      'requireEduLevel': '本科'},\n     'recruiter': {'recruiterName': '韩女士',\n      'recruiterTitle': '招聘主管',\n      'chatted': False,\n      'imId': 'f08d2ca968e841ed4da34c7ac147e5b9',\n      'imUserType': '2',\n      'recruiterId': 'b5ee10cbdf2ef8ef8dd3ccacb977af60',\n      'recruiterPhoto': '5f8f9866dfb13a7dee342f1808u.jpg'},\n     'comp': {'compId': 7921271,\n      'compIndustry': '互联网',\n      'compScale': '1000-2000人',\n      'link': 'https://www.liepin.com/company/7921271/',\n      'compStage': 'D轮',\n      'compLogo': '5952248270327b30a4cc59d605a.jpg',\n      'compName': '小红书'},\n     'dataInfo': '%7B%22ckId%22%3A%22h2c8pxojavrmo1w785z7ueih2ybfpux8%22%2C%22pageSize%22%3A%2240%22%2C%22curPage%22%3A%220%22%2C%22scene%22%3A%22input%22%2C%22skId%22%3A%22h2c8pxojavrmo1w785z7ueih2ybfpux8%22%2C%22fkId%22%3A%22h2c8pxojavrmo1w785z7ueih2ybfpux8%22%2C%22jobKind%22%3A%222%22%2C%22jobId%22%3A%2262538243%22%2C%22sfrom%22%3A%22search_job_pc%22%2C%22d_curPage%22%3A%220%22%2C%22d_pageSize%22%3A%2240%22%2C%22as_from%22%3A%22search_prime%22%7D',\n     'dataParams': '{\"recruiterName\":\"韩女士\",\"jobKind\":\"2\",\"userId\":\"b5ee10cbdf2ef8ef8dd3ccacb977af60\",\"jobId\":\"62538243\",\"imId\":\"f08d2ca968e841ed4da34c7ac147e5b9\",\"imUserType\":\"2\",\"recruiterPhoto\":\"5f8f9866dfb13a7dee342f1808u.jpg\"}'},\n    {'job': {'labels': ['营销策划',\n       '品牌策划',\n       '文案策划',\n       '网站策划',\n       '广告/传媒/文化',\n       'IT/互联网/软件'],\n      'refreshTime': '20231121152719',\n      'topJob': False,\n      'requireWorkYears': '1-3年',\n      'jobKind': '2',\n      'link': 'https://www.liepin.com/job/1953731471.shtml',\n      'jobId': '53731471',\n      'dq': '北京-朝阳区',\n      'title': '广告策划',\n      'advViewFlag': False,\n      'salary': '10-18k·13薪',\n      'pcOuterLink': '',\n      'h5OuterLink': '',\n      'dataPromId': 'd_sfrom=search_prime&d_ckId=null&d_curPage=0&d_pageSize=40&d_headId=null&d_posi=15&skId=h2c8pxojavrmo1w785z7ueih2ybfpux8&fkId=h2c8pxojavrmo1w785z7ueih2ybfpux8&ckId=h2c8pxojavrmo1w785z7ueih2ybfpux8&sfrom=search_job_pc&curPage=0&pageSize=40&index=15',\n      'requireEduLevel': '本科'},\n     'recruiter': {'recruiterName': '王女士',\n      'recruiterTitle': '',\n      'chatted': False,\n      'imId': '5a191eeee9f4ff61254c4de262dd1bd3',\n      'imUserType': '2',\n      'recruiterId': '4540720ab443e82441fee134b7bf26ba',\n      'recruiterPhoto': '5f8f9866dfb13a7dee342f1808u.jpg'},\n     'comp': {'compId': 8628096,\n      'compIndustry': '广告/公关/会展',\n      'compScale': '500-999人',\n      'link': 'https://www.liepin.com/company/8628096/',\n      'compStage': '融资未公开',\n      'compLogo': '62eb903a6e5d962a49ed5edf06u.png',\n      'compName': '剧星传媒'},\n     'dataInfo': '%7B%22ckId%22%3A%22h2c8pxojavrmo1w785z7ueih2ybfpux8%22%2C%22pageSize%22%3A%2240%22%2C%22curPage%22%3A%220%22%2C%22scene%22%3A%22input%22%2C%22skId%22%3A%22h2c8pxojavrmo1w785z7ueih2ybfpux8%22%2C%22fkId%22%3A%22h2c8pxojavrmo1w785z7ueih2ybfpux8%22%2C%22jobKind%22%3A%222%22%2C%22jobId%22%3A%2253731471%22%2C%22sfrom%22%3A%22search_job_pc%22%2C%22d_curPage%22%3A%220%22%2C%22d_pageSize%22%3A%2240%22%2C%22as_from%22%3A%22search_prime%22%7D',\n     'dataParams': '{\"recruiterName\":\"王女士\",\"jobKind\":\"2\",\"userId\":\"4540720ab443e82441fee134b7bf26ba\",\"jobId\":\"53731471\",\"imId\":\"5a191eeee9f4ff61254c4de262dd1bd3\",\"imUserType\":\"2\",\"recruiterPhoto\":\"5f8f9866dfb13a7dee342f1808u.jpg\"}'},\n    {'job': {'labels': ['文案策划', '网站策划', '门户网站', '政府/社会服务', '快消品'],\n      'refreshTime': '20230703103441',\n      'topJob': False,\n      'requireWorkYears': '3-5年',\n      'jobKind': '2',\n      'link': 'https://www.liepin.com/job/1953134329.shtml',\n      'jobId': '53134329',\n      'dq': '北京-朝阳区',\n      'title': '广告策划经理',\n      'advViewFlag': False,\n      'salary': '9-27k',\n      'pcOuterLink': '',\n      'h5OuterLink': '',\n      'dataPromId': 'd_sfrom=search_prime&d_ckId=null&d_curPage=0&d_pageSize=40&d_headId=null&d_posi=16&skId=h2c8pxojavrmo1w785z7ueih2ybfpux8&fkId=h2c8pxojavrmo1w785z7ueih2ybfpux8&ckId=h2c8pxojavrmo1w785z7ueih2ybfpux8&sfrom=search_job_pc&curPage=0&pageSize=40&index=16',\n      'requireEduLevel': '本科'},\n     'recruiter': {'recruiterName': '兴女士',\n      'recruiterTitle': '法人',\n      'chatted': False,\n      'imId': '083b14ae7103ee8006150598105b657c',\n      'imUserType': '2',\n      'recruiterId': '6d9bf8cf86d5a86b569e86ba075b15f1',\n      'recruiterPhoto': '5f8f9865ea60860b75384fa508u.jpg'},\n     'comp': {'compId': 12621369,\n      'compIndustry': '专业技术服务',\n      'compScale': '1-49人',\n      'link': 'https://www.liepin.com/company/12621369/',\n      'compLogo': '645c86cac14c5b293b0e1c4803u.jpg',\n      'compName': '北京润泽鹏达'},\n     'dataInfo': '%7B%22ckId%22%3A%22h2c8pxojavrmo1w785z7ueih2ybfpux8%22%2C%22pageSize%22%3A%2240%22%2C%22curPage%22%3A%220%22%2C%22scene%22%3A%22input%22%2C%22skId%22%3A%22h2c8pxojavrmo1w785z7ueih2ybfpux8%22%2C%22fkId%22%3A%22h2c8pxojavrmo1w785z7ueih2ybfpux8%22%2C%22jobKind%22%3A%222%22%2C%22jobId%22%3A%2253134329%22%2C%22sfrom%22%3A%22search_job_pc%22%2C%22d_curPage%22%3A%220%22%2C%22d_pageSize%22%3A%2240%22%2C%22as_from%22%3A%22search_prime%22%7D',\n     'dataParams': '{\"recruiterName\":\"兴女士\",\"jobKind\":\"2\",\"userId\":\"6d9bf8cf86d5a86b569e86ba075b15f1\",\"jobId\":\"53134329\",\"imId\":\"083b14ae7103ee8006150598105b657c\",\"imUserType\":\"2\",\"recruiterPhoto\":\"5f8f9865ea60860b75384fa508u.jpg\"}'},\n    {'job': {'labels': ['广告策划'],\n      'refreshTime': '20231009192313',\n      'topJob': False,\n      'requireWorkYears': '3-5年',\n      'jobKind': '2',\n      'link': 'https://www.liepin.com/job/1950747597.shtml',\n      'jobId': '50747597',\n      'dq': '北京-朝阳区',\n      'title': '广告策划-北京(J10535)',\n      'advViewFlag': False,\n      'salary': '20-35k·14薪',\n      'pcOuterLink': '',\n      'h5OuterLink': '',\n      'dataPromId': 'd_sfrom=search_prime&d_ckId=null&d_curPage=0&d_pageSize=40&d_headId=null&d_posi=17&skId=h2c8pxojavrmo1w785z7ueih2ybfpux8&fkId=h2c8pxojavrmo1w785z7ueih2ybfpux8&ckId=h2c8pxojavrmo1w785z7ueih2ybfpux8&sfrom=search_job_pc&curPage=0&pageSize=40&index=17',\n      'requireEduLevel': '统招本科'},\n     'recruiter': {'recruiterName': '孙女士',\n      'recruiterTitle': '高级招聘专员',\n      'chatted': False,\n      'imId': '48b544d133f6ea80d6536557a2c53778',\n      'imUserType': '2',\n      'recruiterId': 'e5479901c87f9000e469001437fc9a4e',\n      'recruiterPhoto': '5f8f9863f6d1ab58476f246a08u.jpg'},\n     'comp': {'compId': 8664154,\n      'compIndustry': '互联网',\n      'compScale': '1000-2000人',\n      'link': 'https://www.liepin.com/company/8664154/',\n      'compLogo': '5b7d17208e5016e5665c4b0104a.png',\n      'compName': '北京卡路里信息技术有限公司'},\n     'dataInfo': '%7B%22ckId%22%3A%22h2c8pxojavrmo1w785z7ueih2ybfpux8%22%2C%22pageSize%22%3A%2240%22%2C%22curPage%22%3A%220%22%2C%22scene%22%3A%22input%22%2C%22skId%22%3A%22h2c8pxojavrmo1w785z7ueih2ybfpux8%22%2C%22fkId%22%3A%22h2c8pxojavrmo1w785z7ueih2ybfpux8%22%2C%22jobKind%22%3A%222%22%2C%22jobId%22%3A%2250747597%22%2C%22sfrom%22%3A%22search_job_pc%22%2C%22d_curPage%22%3A%220%22%2C%22d_pageSize%22%3A%2240%22%2C%22as_from%22%3A%22search_prime%22%7D',\n     'dataParams': '{\"recruiterName\":\"孙女士\",\"jobKind\":\"2\",\"userId\":\"e5479901c87f9000e469001437fc9a4e\",\"jobId\":\"50747597\",\"imId\":\"48b544d133f6ea80d6536557a2c53778\",\"imUserType\":\"2\",\"recruiterPhoto\":\"5f8f9863f6d1ab58476f246a08u.jpg\"}'},\n    {'job': {'labels': ['广告/传媒/文化'],\n      'refreshTime': '20231123144656',\n      'topJob': False,\n      'requireWorkYears': '5-10年',\n      'jobKind': '2',\n      'link': 'https://www.liepin.com/job/1962732245.shtml',\n      'jobId': '62732245',\n      'dq': '北京-朝阳区',\n      'title': '广告策划总监',\n      'advViewFlag': False,\n      'salary': '30-45k',\n      'pcOuterLink': '',\n      'h5OuterLink': '',\n      'dataPromId': 'd_sfrom=search_prime&d_ckId=null&d_curPage=0&d_pageSize=40&d_headId=null&d_posi=18&skId=h2c8pxojavrmo1w785z7ueih2ybfpux8&fkId=h2c8pxojavrmo1w785z7ueih2ybfpux8&ckId=h2c8pxojavrmo1w785z7ueih2ybfpux8&sfrom=search_job_pc&curPage=0&pageSize=40&index=18',\n      'requireEduLevel': '本科'},\n     'recruiter': {'recruiterName': '常女士',\n      'recruiterTitle': '人事经理',\n      'chatted': False,\n      'imId': '448047ccdaa303881e0eee8bcfc0b74c',\n      'imUserType': '2',\n      'recruiterId': 'a599fc51709ffd2d81debca56bfa385b',\n      'recruiterPhoto': '5f8f98648dbe6273dcf8515508u.jpg'},\n     'comp': {'compId': 12936455,\n      'compIndustry': '广告/公关/会展',\n      'compScale': '50-99人',\n      'link': 'https://www.liepin.com/company/12936455/',\n      'compLogo': '614c4705e4116611ba268f6203u.png',\n      'compName': '上海氩氪广告Arkr Digital'},\n     'dataInfo': '%7B%22ckId%22%3A%22h2c8pxojavrmo1w785z7ueih2ybfpux8%22%2C%22pageSize%22%3A%2240%22%2C%22curPage%22%3A%220%22%2C%22scene%22%3A%22input%22%2C%22skId%22%3A%22h2c8pxojavrmo1w785z7ueih2ybfpux8%22%2C%22fkId%22%3A%22h2c8pxojavrmo1w785z7ueih2ybfpux8%22%2C%22jobKind%22%3A%222%22%2C%22jobId%22%3A%2262732245%22%2C%22sfrom%22%3A%22search_job_pc%22%2C%22d_curPage%22%3A%220%22%2C%22d_pageSize%22%3A%2240%22%2C%22as_from%22%3A%22search_prime%22%7D',\n     'dataParams': '{\"recruiterName\":\"常女士\",\"jobKind\":\"2\",\"userId\":\"a599fc51709ffd2d81debca56bfa385b\",\"jobId\":\"62732245\",\"imId\":\"448047ccdaa303881e0eee8bcfc0b74c\",\"imUserType\":\"2\",\"recruiterPhoto\":\"5f8f98648dbe6273dcf8515508u.jpg\"}'},\n    {'job': {'labels': ['媒介策划', '快消电商', '品牌文案'],\n      'refreshTime': '20230816152333',\n      'topJob': False,\n      'requireWorkYears': '3-5年',\n      'jobKind': '2',\n      'link': 'https://www.liepin.com/job/1959709507.shtml',\n      'jobId': '59709507',\n      'dq': '北京-海淀区',\n      'title': '广告策划专家（快消）-【商业化】',\n      'advViewFlag': False,\n      'salary': '25-55k·16薪',\n      'pcOuterLink': '',\n      'h5OuterLink': '',\n      'dataPromId': 'd_sfrom=search_prime&d_ckId=null&d_curPage=0&d_pageSize=40&d_headId=null&d_posi=19&skId=h2c8pxojavrmo1w785z7ueih2ybfpux8&fkId=h2c8pxojavrmo1w785z7ueih2ybfpux8&ckId=h2c8pxojavrmo1w785z7ueih2ybfpux8&sfrom=search_job_pc&curPage=0&pageSize=40&index=19',\n      'requireEduLevel': '本科'},\n     'recruiter': {'recruiterName': '刘女士',\n      'recruiterTitle': '招聘顾问',\n      'chatted': False,\n      'imId': '5713f8e32f048bf4aefc9b4a2bd8879c',\n      'imUserType': '2',\n      'recruiterId': '716334209abf4afe611c3add67335cef',\n      'recruiterPhoto': '5f8f9865ea60860b75384fa508u.jpg'},\n     'comp': {'compId': 8605497,\n      'compIndustry': '互联网',\n      'compScale': '10000人以上',\n      'link': 'https://www.liepin.com/company/8605497/',\n      'compStage': '港股上市',\n      'compLogo': '61c959425856064211ca0c8108u.png',\n      'compName': '快手'},\n     'dataInfo': '%7B%22ckId%22%3A%22h2c8pxojavrmo1w785z7ueih2ybfpux8%22%2C%22pageSize%22%3A%2240%22%2C%22curPage%22%3A%220%22%2C%22scene%22%3A%22input%22%2C%22skId%22%3A%22h2c8pxojavrmo1w785z7ueih2ybfpux8%22%2C%22fkId%22%3A%22h2c8pxojavrmo1w785z7ueih2ybfpux8%22%2C%22jobKind%22%3A%222%22%2C%22jobId%22%3A%2259709507%22%2C%22sfrom%22%3A%22search_job_pc%22%2C%22d_curPage%22%3A%220%22%2C%22d_pageSize%22%3A%2240%22%2C%22as_from%22%3A%22search_prime%22%7D',\n     'dataParams': '{\"recruiterName\":\"刘女士\",\"jobKind\":\"2\",\"userId\":\"716334209abf4afe611c3add67335cef\",\"jobId\":\"59709507\",\"imId\":\"5713f8e32f048bf4aefc9b4a2bd8879c\",\"imUserType\":\"2\",\"recruiterPhoto\":\"5f8f9865ea60860b75384fa508u.jpg\"}'},\n    {'job': {'labels': [],\n      'refreshTime': '20231127120051',\n      'topJob': False,\n      'requireWorkYears': '经验不限',\n      'jobKind': '1',\n      'link': 'https://www.liepin.com/a/50110815.shtml',\n      'jobId': '50110815',\n      'dq': '北京',\n      'title': '广告策划总监',\n      'advViewFlag': False,\n      'salary': '40-60k',\n      'dataPromId': 'd_sfrom=search_prime&d_ckId=null&d_curPage=0&d_pageSize=40&d_headId=null&d_posi=20&skId=h2c8pxojavrmo1w785z7ueih2ybfpux8&fkId=h2c8pxojavrmo1w785z7ueih2ybfpux8&ckId=h2c8pxojavrmo1w785z7ueih2ybfpux8&sfrom=search_job_pc&curPage=0&pageSize=40&index=20',\n      'requireEduLevel': '统招本科'},\n     'recruiter': {'recruiterName': '闫女士',\n      'recruiterTitle': '猎头顾问',\n      'chatted': False,\n      'imId': '2c913b533acea2852980490a0cdf2257',\n      'imUserType': '2',\n      'recruiterId': '20c576c610f87f4196cda1ab07076b48',\n      'recruiterPhoto': '604779574c997871cd4211ab01u.png'},\n     'comp': {'compIndustry': '广告/公关/会展',\n      'compScale': '100-499人',\n      'link': '',\n      'compStage': '融资未公开',\n      'compLogo': '60e2fe0bf3df194a3c48adb502u.png',\n      'compName': '某北京广告/公关/会展公司'},\n     'dataInfo': '%7B%22ckId%22%3A%22h2c8pxojavrmo1w785z7ueih2ybfpux8%22%2C%22pageSize%22%3A%2240%22%2C%22curPage%22%3A%220%22%2C%22scene%22%3A%22input%22%2C%22skId%22%3A%22h2c8pxojavrmo1w785z7ueih2ybfpux8%22%2C%22fkId%22%3A%22h2c8pxojavrmo1w785z7ueih2ybfpux8%22%2C%22jobKind%22%3A%221%22%2C%22jobId%22%3A%2250110815%22%2C%22sfrom%22%3A%22search_job_pc%22%2C%22d_curPage%22%3A%220%22%2C%22d_pageSize%22%3A%2240%22%2C%22as_from%22%3A%22search_prime%22%7D',\n     'dataParams': '{\"recruiterName\":\"闫女士\",\"jobKind\":\"1\",\"userId\":\"20c576c610f87f4196cda1ab07076b48\",\"jobId\":\"50110815\",\"imId\":\"2c913b533acea2852980490a0cdf2257\",\"imUserType\":\"2\",\"recruiterPhoto\":\"604779574c997871cd4211ab01u.png\"}'},\n    {'job': {'labels': ['产品运营'],\n      'refreshTime': '20230817194057',\n      'topJob': False,\n      'requireWorkYears': '5-10年',\n      'jobKind': '2',\n      'link': 'https://www.liepin.com/job/1960610231.shtml',\n      'jobId': '60610231',\n      'dq': '北京-朝阳区',\n      'title': '广告策划-耐消',\n      'advViewFlag': False,\n      'salary': '25-45k·16薪',\n      'pcOuterLink': '',\n      'h5OuterLink': '',\n      'dataPromId': 'd_sfrom=search_prime&d_ckId=null&d_curPage=0&d_pageSize=40&d_headId=null&d_posi=21&skId=h2c8pxojavrmo1w785z7ueih2ybfpux8&fkId=h2c8pxojavrmo1w785z7ueih2ybfpux8&ckId=h2c8pxojavrmo1w785z7ueih2ybfpux8&sfrom=search_job_pc&curPage=0&pageSize=40&index=21',\n      'requireEduLevel': '本科'},\n     'recruiter': {'recruiterName': '韩女士',\n      'recruiterTitle': '招聘主管',\n      'chatted': False,\n      'imId': 'f08d2ca968e841ed4da34c7ac147e5b9',\n      'imUserType': '2',\n      'recruiterId': 'b5ee10cbdf2ef8ef8dd3ccacb977af60',\n      'recruiterPhoto': '5f8f9866dfb13a7dee342f1808u.jpg'},\n     'comp': {'compId': 7921271,\n      'compIndustry': '互联网',\n      'compScale': '1000-2000人',\n      'link': 'https://www.liepin.com/company/7921271/',\n      'compStage': 'D轮',\n      'compLogo': '5952248270327b30a4cc59d605a.jpg',\n      'compName': '小红书'},\n     'dataInfo': '%7B%22ckId%22%3A%22h2c8pxojavrmo1w785z7ueih2ybfpux8%22%2C%22pageSize%22%3A%2240%22%2C%22curPage%22%3A%220%22%2C%22scene%22%3A%22input%22%2C%22skId%22%3A%22h2c8pxojavrmo1w785z7ueih2ybfpux8%22%2C%22fkId%22%3A%22h2c8pxojavrmo1w785z7ueih2ybfpux8%22%2C%22jobKind%22%3A%222%22%2C%22jobId%22%3A%2260610231%22%2C%22sfrom%22%3A%22search_job_pc%22%2C%22d_curPage%22%3A%220%22%2C%22d_pageSize%22%3A%2240%22%2C%22as_from%22%3A%22search_prime%22%7D',\n     'dataParams': '{\"recruiterName\":\"韩女士\",\"jobKind\":\"2\",\"userId\":\"b5ee10cbdf2ef8ef8dd3ccacb977af60\",\"jobId\":\"60610231\",\"imId\":\"f08d2ca968e841ed4da34c7ac147e5b9\",\"imUserType\":\"2\",\"recruiterPhoto\":\"5f8f9866dfb13a7dee342f1808u.jpg\"}'},\n    {'job': {'labels': [],\n      'refreshTime': '20231128193245',\n      'topJob': False,\n      'requireWorkYears': '5-10年',\n      'jobKind': '1',\n      'link': 'https://www.liepin.com/a/50462435.shtml',\n      'jobId': '50462435',\n      'dq': '北京',\n      'title': '生活服务行业 广告策划',\n      'advViewFlag': False,\n      'salary': '35-60k',\n      'dataPromId': 'd_sfrom=search_prime&d_ckId=null&d_curPage=0&d_pageSize=40&d_headId=null&d_posi=22&skId=h2c8pxojavrmo1w785z7ueih2ybfpux8&fkId=h2c8pxojavrmo1w785z7ueih2ybfpux8&ckId=h2c8pxojavrmo1w785z7ueih2ybfpux8&sfrom=search_job_pc&curPage=0&pageSize=40&index=22',\n      'requireEduLevel': '本科'},\n     'recruiter': {'recruiterName': '张女士',\n      'recruiterTitle': '猎头顾问',\n      'chatted': False,\n      'imId': 'b82198015923d9ddc1bd2b3e9fec8144',\n      'imUserType': '2',\n      'recruiterId': '0856310723ffd91ecece00ab3c69cd5c',\n      'recruiterPhoto': '62c6c0693d65642b15f1667002u.png'},\n     'comp': {'compIndustry': '广告/公关/会展',\n      'compScale': '5000-10000人',\n      'link': '',\n      'compLogo': '60e2fe0bf3df194a3c48adb502u.png',\n      'compName': '某上海大型广告/公关/会展公司'},\n     'dataInfo': '%7B%22ckId%22%3A%22h2c8pxojavrmo1w785z7ueih2ybfpux8%22%2C%22pageSize%22%3A%2240%22%2C%22curPage%22%3A%220%22%2C%22scene%22%3A%22input%22%2C%22skId%22%3A%22h2c8pxojavrmo1w785z7ueih2ybfpux8%22%2C%22fkId%22%3A%22h2c8pxojavrmo1w785z7ueih2ybfpux8%22%2C%22jobKind%22%3A%221%22%2C%22jobId%22%3A%2250462435%22%2C%22sfrom%22%3A%22search_job_pc%22%2C%22d_curPage%22%3A%220%22%2C%22d_pageSize%22%3A%2240%22%2C%22as_from%22%3A%22search_prime%22%7D',\n     'dataParams': '{\"recruiterName\":\"张女士\",\"jobKind\":\"1\",\"userId\":\"0856310723ffd91ecece00ab3c69cd5c\",\"jobId\":\"50462435\",\"imId\":\"b82198015923d9ddc1bd2b3e9fec8144\",\"imUserType\":\"2\",\"recruiterPhoto\":\"62c6c0693d65642b15f1667002u.png\"}'},\n    {'job': {'labels': [],\n      'refreshTime': '20231116151831',\n      'topJob': False,\n      'requireWorkYears': '3-5年',\n      'jobKind': '2',\n      'link': 'https://www.liepin.com/job/1962431071.shtml',\n      'jobId': '62431071',\n      'dq': '北京-朝阳区',\n      'title': '广告策划经理——free/全职',\n      'advViewFlag': False,\n      'salary': '17-30k',\n      'pcOuterLink': '',\n      'h5OuterLink': '',\n      'dataPromId': 'd_sfrom=search_prime&d_ckId=null&d_curPage=0&d_pageSize=40&d_headId=null&d_posi=23&skId=h2c8pxojavrmo1w785z7ueih2ybfpux8&fkId=h2c8pxojavrmo1w785z7ueih2ybfpux8&ckId=h2c8pxojavrmo1w785z7ueih2ybfpux8&sfrom=search_job_pc&curPage=0&pageSize=40&index=23',\n      'requireEduLevel': '本科'},\n     'recruiter': {'recruiterName': '李女士',\n      'recruiterTitle': 'HRD',\n      'chatted': False,\n      'imId': 'b8d35c9ff6e259b48c7fd219ac0bcf9b',\n      'imUserType': '2',\n      'recruiterId': '2db7251ad28345bb377befc721fedfa7',\n      'recruiterPhoto': '653b162b67af7e45549be68802u.jpg'},\n     'comp': {'compId': 8633977,\n      'compIndustry': '广告/公关/会展',\n      'compScale': '100-499人',\n      'link': 'https://www.liepin.com/company/8633977/',\n      'compLogo': '653a2432e358b439b9af564108u.png',\n      'compName': '新知百略'},\n     'dataInfo': '%7B%22ckId%22%3A%22h2c8pxojavrmo1w785z7ueih2ybfpux8%22%2C%22pageSize%22%3A%2240%22%2C%22curPage%22%3A%220%22%2C%22scene%22%3A%22input%22%2C%22skId%22%3A%22h2c8pxojavrmo1w785z7ueih2ybfpux8%22%2C%22fkId%22%3A%22h2c8pxojavrmo1w785z7ueih2ybfpux8%22%2C%22jobKind%22%3A%222%22%2C%22jobId%22%3A%2262431071%22%2C%22sfrom%22%3A%22search_job_pc%22%2C%22d_curPage%22%3A%220%22%2C%22d_pageSize%22%3A%2240%22%2C%22as_from%22%3A%22search_prime%22%7D',\n     'dataParams': '{\"recruiterName\":\"李女士\",\"jobKind\":\"2\",\"userId\":\"2db7251ad28345bb377befc721fedfa7\",\"jobId\":\"62431071\",\"imId\":\"b8d35c9ff6e259b48c7fd219ac0bcf9b\",\"imUserType\":\"2\",\"recruiterPhoto\":\"653b162b67af7e45549be68802u.jpg\"}'},\n    {'job': {'labels': ['文案策划', '营销策划', '网站策划', '广告/传媒/文化', 'IT/互联网/软件'],\n      'refreshTime': '20230908093335',\n      'topJob': False,\n      'requireWorkYears': '1-3年',\n      'jobKind': '2',\n      'link': 'https://www.liepin.com/job/1951638203.shtml',\n      'jobId': '51638203',\n      'dq': '北京',\n      'title': '广告策划主管',\n      'advViewFlag': False,\n      'salary': '10-20k',\n      'pcOuterLink': '',\n      'h5OuterLink': '',\n      'dataPromId': 'd_sfrom=search_prime&d_ckId=null&d_curPage=0&d_pageSize=40&d_headId=null&d_posi=24&skId=h2c8pxojavrmo1w785z7ueih2ybfpux8&fkId=h2c8pxojavrmo1w785z7ueih2ybfpux8&ckId=h2c8pxojavrmo1w785z7ueih2ybfpux8&sfrom=search_job_pc&curPage=0&pageSize=40&index=24',\n      'requireEduLevel': '统招本科'},\n     'recruiter': {'recruiterName': '李女士',\n      'recruiterTitle': 'HR',\n      'chatted': False,\n      'imId': '12ce5ce02e17b65345913e3a4abf94f3',\n      'imUserType': '2',\n      'recruiterId': 'f448e31a4eb0c15d69ec32b67bcdd5cf',\n      'recruiterPhoto': '5cc65b24d3ced448643f126a07u.png'},\n     'comp': {'compId': 8816376,\n      'compIndustry': '互联网',\n      'compScale': '500-999人',\n      'link': 'https://www.liepin.com/company/8816376/',\n      'compStage': '已上市',\n      'compLogo': '5c946e1d261c454598f1647906u.png',\n      'compName': '北京蓝色光标数字传媒科技有限公司'},\n     'dataInfo': '%7B%22ckId%22%3A%22h2c8pxojavrmo1w785z7ueih2ybfpux8%22%2C%22pageSize%22%3A%2240%22%2C%22curPage%22%3A%220%22%2C%22scene%22%3A%22input%22%2C%22skId%22%3A%22h2c8pxojavrmo1w785z7ueih2ybfpux8%22%2C%22fkId%22%3A%22h2c8pxojavrmo1w785z7ueih2ybfpux8%22%2C%22jobKind%22%3A%222%22%2C%22jobId%22%3A%2251638203%22%2C%22sfrom%22%3A%22search_job_pc%22%2C%22d_curPage%22%3A%220%22%2C%22d_pageSize%22%3A%2240%22%2C%22as_from%22%3A%22search_prime%22%7D',\n     'dataParams': '{\"recruiterName\":\"李女士\",\"jobKind\":\"2\",\"userId\":\"f448e31a4eb0c15d69ec32b67bcdd5cf\",\"jobId\":\"51638203\",\"imId\":\"12ce5ce02e17b65345913e3a4abf94f3\",\"imUserType\":\"2\",\"recruiterPhoto\":\"5cc65b24d3ced448643f126a07u.png\"}'},\n    {'job': {'labels': ['广告创意', '广告策划'],\n      'refreshTime': '20201117114250',\n      'topJob': False,\n      'requireWorkYears': '3-5年',\n      'jobKind': '2',\n      'link': 'https://www.liepin.com/job/1929058381.shtml',\n      'jobId': '29058381',\n      'dq': '北京-海淀区',\n      'title': '品牌广告策划',\n      'advViewFlag': False,\n      'salary': '20-40k·14薪',\n      'pcOuterLink': '',\n      'h5OuterLink': '',\n      'dataPromId': 'd_sfrom=search_prime&d_ckId=null&d_curPage=0&d_pageSize=40&d_headId=null&d_posi=25&skId=h2c8pxojavrmo1w785z7ueih2ybfpux8&fkId=h2c8pxojavrmo1w785z7ueih2ybfpux8&ckId=h2c8pxojavrmo1w785z7ueih2ybfpux8&sfrom=search_job_pc&curPage=0&pageSize=40&index=25',\n      'requireEduLevel': '统招本科'},\n     'recruiter': {'recruiterName': '章先生',\n      'recruiterTitle': 'HR',\n      'chatted': False,\n      'imId': '7d5288281c73ab1301ab80e4a8b96567',\n      'imUserType': '2',\n      'recruiterId': '757645a03e140f397630baa1a55f8d55',\n      'recruiterPhoto': '5f8f986c79c7cc70efbf36c808u.jpg'},\n     'comp': {'compId': 2174886,\n      'compIndustry': '互联网',\n      'compScale': '10000人以上',\n      'link': 'https://www.liepin.com/company/2174886/',\n      'compStage': '港股上市',\n      'compLogo': '6063eaae381b283e0ab09cfb05u.png',\n      'compName': '小米'},\n     'dataInfo': '%7B%22ckId%22%3A%22h2c8pxojavrmo1w785z7ueih2ybfpux8%22%2C%22pageSize%22%3A%2240%22%2C%22curPage%22%3A%220%22%2C%22scene%22%3A%22input%22%2C%22skId%22%3A%22h2c8pxojavrmo1w785z7ueih2ybfpux8%22%2C%22fkId%22%3A%22h2c8pxojavrmo1w785z7ueih2ybfpux8%22%2C%22jobKind%22%3A%222%22%2C%22jobId%22%3A%2229058381%22%2C%22sfrom%22%3A%22search_job_pc%22%2C%22d_curPage%22%3A%220%22%2C%22d_pageSize%22%3A%2240%22%2C%22as_from%22%3A%22search_prime%22%7D',\n     'dataParams': '{\"recruiterName\":\"章先生\",\"jobKind\":\"2\",\"userId\":\"757645a03e140f397630baa1a55f8d55\",\"jobId\":\"29058381\",\"imId\":\"7d5288281c73ab1301ab80e4a8b96567\",\"imUserType\":\"2\",\"recruiterPhoto\":\"5f8f986c79c7cc70efbf36c808u.jpg\"}'},\n    {'job': {'labels': ['品牌策划',\n       '营销策划',\n       '广告策划',\n       '活动策划',\n       '文案策划',\n       '市场策划',\n       '新闻策划',\n       '企业策划',\n       '营销活动',\n       '品牌活动'],\n      'refreshTime': '20201117114250',\n      'topJob': False,\n      'requireWorkYears': '3-5年',\n      'jobKind': '2',\n      'link': 'https://www.liepin.com/job/1929714569.shtml',\n      'jobId': '29714569',\n      'dq': '北京-海淀区',\n      'title': '海外品牌广告策划',\n      'advViewFlag': False,\n      'salary': '25-35k·14薪',\n      'pcOuterLink': '',\n      'h5OuterLink': '',\n      'dataPromId': 'd_sfrom=search_prime&d_ckId=null&d_curPage=0&d_pageSize=40&d_headId=null&d_posi=26&skId=h2c8pxojavrmo1w785z7ueih2ybfpux8&fkId=h2c8pxojavrmo1w785z7ueih2ybfpux8&ckId=h2c8pxojavrmo1w785z7ueih2ybfpux8&sfrom=search_job_pc&curPage=0&pageSize=40&index=26',\n      'requireEduLevel': '本科'},\n     'recruiter': {'recruiterName': '章先生',\n      'recruiterTitle': 'HR',\n      'chatted': False,\n      'imId': '7d5288281c73ab1301ab80e4a8b96567',\n      'imUserType': '2',\n      'recruiterId': '757645a03e140f397630baa1a55f8d55',\n      'recruiterPhoto': '5f8f986c79c7cc70efbf36c808u.jpg'},\n     'comp': {'compId': 2174886,\n      'compIndustry': '互联网',\n      'compScale': '10000人以上',\n      'link': 'https://www.liepin.com/company/2174886/',\n      'compStage': '港股上市',\n      'compLogo': '6063eaae381b283e0ab09cfb05u.png',\n      'compName': '小米'},\n     'dataInfo': '%7B%22ckId%22%3A%22h2c8pxojavrmo1w785z7ueih2ybfpux8%22%2C%22pageSize%22%3A%2240%22%2C%22curPage%22%3A%220%22%2C%22scene%22%3A%22input%22%2C%22skId%22%3A%22h2c8pxojavrmo1w785z7ueih2ybfpux8%22%2C%22fkId%22%3A%22h2c8pxojavrmo1w785z7ueih2ybfpux8%22%2C%22jobKind%22%3A%222%22%2C%22jobId%22%3A%2229714569%22%2C%22sfrom%22%3A%22search_job_pc%22%2C%22d_curPage%22%3A%220%22%2C%22d_pageSize%22%3A%2240%22%2C%22as_from%22%3A%22search_prime%22%7D',\n     'dataParams': '{\"recruiterName\":\"章先生\",\"jobKind\":\"2\",\"userId\":\"757645a03e140f397630baa1a55f8d55\",\"jobId\":\"29714569\",\"imId\":\"7d5288281c73ab1301ab80e4a8b96567\",\"imUserType\":\"2\",\"recruiterPhoto\":\"5f8f986c79c7cc70efbf36c808u.jpg\"}'},\n    {'job': {'labels': [],\n      'refreshTime': '20230301173436',\n      'topJob': False,\n      'requireWorkYears': '5-10年',\n      'jobKind': '2',\n      'link': 'https://www.liepin.com/job/1956609951.shtml',\n      'jobId': '56609951',\n      'dq': '北京-朝阳区',\n      'title': '高级广告策划经理',\n      'advViewFlag': False,\n      'salary': '20-30k',\n      'pcOuterLink': '',\n      'h5OuterLink': '',\n      'dataPromId': 'd_sfrom=search_prime&d_ckId=null&d_curPage=0&d_pageSize=40&d_headId=null&d_posi=27&skId=h2c8pxojavrmo1w785z7ueih2ybfpux8&fkId=h2c8pxojavrmo1w785z7ueih2ybfpux8&ckId=h2c8pxojavrmo1w785z7ueih2ybfpux8&sfrom=search_job_pc&curPage=0&pageSize=40&index=27',\n      'requireEduLevel': '本科'},\n     'recruiter': {'recruiterName': '向女士',\n      'recruiterTitle': '招聘总监',\n      'chatted': False,\n      'imId': 'b1c969a25904c6b471de52c3bc0b6279',\n      'imUserType': '2',\n      'recruiterId': '3f2e0994cfdd8c93b86860c9e5536edb',\n      'recruiterPhoto': '607cdc93e526fa171d5b8c8406u.png'},\n     'comp': {'compId': 12253819,\n      'compIndustry': '广播/影视/录音',\n      'compScale': '100-499人',\n      'link': 'https://www.liepin.com/company/12253819/',\n      'compStage': '融资未公开',\n      'compLogo': '5bfe920974719d35745af38203a.png',\n      'compName': '北京热源汇盈网络科技有限公司'},\n     'dataInfo': '%7B%22ckId%22%3A%22h2c8pxojavrmo1w785z7ueih2ybfpux8%22%2C%22pageSize%22%3A%2240%22%2C%22curPage%22%3A%220%22%2C%22scene%22%3A%22input%22%2C%22skId%22%3A%22h2c8pxojavrmo1w785z7ueih2ybfpux8%22%2C%22fkId%22%3A%22h2c8pxojavrmo1w785z7ueih2ybfpux8%22%2C%22jobKind%22%3A%222%22%2C%22jobId%22%3A%2256609951%22%2C%22sfrom%22%3A%22search_job_pc%22%2C%22d_curPage%22%3A%220%22%2C%22d_pageSize%22%3A%2240%22%2C%22as_from%22%3A%22search_prime%22%7D',\n     'dataParams': '{\"recruiterName\":\"向女士\",\"jobKind\":\"2\",\"userId\":\"3f2e0994cfdd8c93b86860c9e5536edb\",\"jobId\":\"56609951\",\"imId\":\"b1c969a25904c6b471de52c3bc0b6279\",\"imUserType\":\"2\",\"recruiterPhoto\":\"607cdc93e526fa171d5b8c8406u.png\"}'},\n    {'job': {'labels': [],\n      'refreshTime': '20231024151337',\n      'topJob': False,\n      'requireWorkYears': '3-5年',\n      'jobKind': '2',\n      'link': 'https://www.liepin.com/job/1962433159.shtml',\n      'jobId': '62433159',\n      'dq': '北京-朝阳区',\n      'title': '广告策划经理——free/全职',\n      'advViewFlag': False,\n      'salary': '17-30k',\n      'pcOuterLink': '',\n      'h5OuterLink': '',\n      'dataPromId': 'd_sfrom=search_prime&d_ckId=null&d_curPage=0&d_pageSize=40&d_headId=null&d_posi=28&skId=h2c8pxojavrmo1w785z7ueih2ybfpux8&fkId=h2c8pxojavrmo1w785z7ueih2ybfpux8&ckId=h2c8pxojavrmo1w785z7ueih2ybfpux8&sfrom=search_job_pc&curPage=0&pageSize=40&index=28',\n      'requireEduLevel': '本科'},\n     'recruiter': {'recruiterName': '周女士',\n      'recruiterTitle': '人事行政专员',\n      'chatted': False,\n      'imId': 'dfbb59997b183797b1f0b9c52c0f4979',\n      'imUserType': '2',\n      'recruiterId': 'df1805b75f1a3f6e9582f54713c96151',\n      'recruiterPhoto': '5f8f9865ea60860b75384fa508u.jpg'},\n     'comp': {'compId': 8633977,\n      'compIndustry': '广告/公关/会展',\n      'compScale': '100-499人',\n      'link': 'https://www.liepin.com/company/8633977/',\n      'compLogo': '653a2432e358b439b9af564108u.png',\n      'compName': '新知百略'},\n     'dataInfo': '%7B%22ckId%22%3A%22h2c8pxojavrmo1w785z7ueih2ybfpux8%22%2C%22pageSize%22%3A%2240%22%2C%22curPage%22%3A%220%22%2C%22scene%22%3A%22input%22%2C%22skId%22%3A%22h2c8pxojavrmo1w785z7ueih2ybfpux8%22%2C%22fkId%22%3A%22h2c8pxojavrmo1w785z7ueih2ybfpux8%22%2C%22jobKind%22%3A%222%22%2C%22jobId%22%3A%2262433159%22%2C%22sfrom%22%3A%22search_job_pc%22%2C%22d_curPage%22%3A%220%22%2C%22d_pageSize%22%3A%2240%22%2C%22as_from%22%3A%22search_prime%22%7D',\n     'dataParams': '{\"recruiterName\":\"周女士\",\"jobKind\":\"2\",\"userId\":\"df1805b75f1a3f6e9582f54713c96151\",\"jobId\":\"62433159\",\"imId\":\"dfbb59997b183797b1f0b9c52c0f4979\",\"imUserType\":\"2\",\"recruiterPhoto\":\"5f8f9865ea60860b75384fa508u.jpg\"}'},\n    {'job': {'labels': ['文案策划'],\n      'refreshTime': '20230328160251',\n      'topJob': False,\n      'requireWorkYears': '3-5年',\n      'jobKind': '2',\n      'link': 'https://www.liepin.com/job/1931853205.shtml',\n      'jobId': '31853205',\n      'dq': '北京',\n      'title': '广告策划',\n      'advViewFlag': False,\n      'salary': '10-15k',\n      'pcOuterLink': '',\n      'h5OuterLink': '',\n      'dataPromId': 'd_sfrom=search_prime&d_ckId=null&d_curPage=0&d_pageSize=40&d_headId=null&d_posi=29&skId=h2c8pxojavrmo1w785z7ueih2ybfpux8&fkId=h2c8pxojavrmo1w785z7ueih2ybfpux8&ckId=h2c8pxojavrmo1w785z7ueih2ybfpux8&sfrom=search_job_pc&curPage=0&pageSize=40&index=29',\n      'requireEduLevel': '本科'},\n     'recruiter': {'recruiterName': '杨女士',\n      'recruiterTitle': '人力资源总监',\n      'chatted': False,\n      'imId': 'af3222f0ff84c15599eeb040770b0b48',\n      'imUserType': '2',\n      'recruiterId': '11464489d00c97ef1b2fbd44cc798533',\n      'recruiterPhoto': '5f8f9863f6d1ab58476f246a08u.jpg'},\n     'comp': {'compId': 8019457,\n      'compIndustry': '广告/公关/会展',\n      'compScale': '1-49人',\n      'link': 'https://www.liepin.com/company/8019457/',\n      'compStage': '融资未公开',\n      'compLogo': '5bfea56174719d2aa34ce17d03a.png',\n      'compName': '北京奇璐时代广告有限公司'},\n     'dataInfo': '%7B%22ckId%22%3A%22h2c8pxojavrmo1w785z7ueih2ybfpux8%22%2C%22pageSize%22%3A%2240%22%2C%22curPage%22%3A%220%22%2C%22scene%22%3A%22input%22%2C%22skId%22%3A%22h2c8pxojavrmo1w785z7ueih2ybfpux8%22%2C%22fkId%22%3A%22h2c8pxojavrmo1w785z7ueih2ybfpux8%22%2C%22jobKind%22%3A%222%22%2C%22jobId%22%3A%2231853205%22%2C%22sfrom%22%3A%22search_job_pc%22%2C%22d_curPage%22%3A%220%22%2C%22d_pageSize%22%3A%2240%22%2C%22as_from%22%3A%22search_prime%22%7D',\n     'dataParams': '{\"recruiterName\":\"杨女士\",\"jobKind\":\"2\",\"userId\":\"11464489d00c97ef1b2fbd44cc798533\",\"jobId\":\"31853205\",\"imId\":\"af3222f0ff84c15599eeb040770b0b48\",\"imUserType\":\"2\",\"recruiterPhoto\":\"5f8f9863f6d1ab58476f246a08u.jpg\"}'},\n    {'job': {'labels': [],\n      'refreshTime': '20231024144448',\n      'topJob': False,\n      'requireWorkYears': '3-5年',\n      'jobKind': '2',\n      'link': 'https://www.liepin.com/job/1962431441.shtml',\n      'jobId': '62431441',\n      'dq': '北京-朝阳区',\n      'title': '广告策划经理——free/全职',\n      'advViewFlag': False,\n      'salary': '17-30k',\n      'pcOuterLink': '',\n      'h5OuterLink': '',\n      'dataPromId': 'd_sfrom=search_prime&d_ckId=null&d_curPage=0&d_pageSize=40&d_headId=null&d_posi=30&skId=h2c8pxojavrmo1w785z7ueih2ybfpux8&fkId=h2c8pxojavrmo1w785z7ueih2ybfpux8&ckId=h2c8pxojavrmo1w785z7ueih2ybfpux8&sfrom=search_job_pc&curPage=0&pageSize=40&index=30',\n      'requireEduLevel': '本科'},\n     'recruiter': {'recruiterName': '闫女士',\n      'recruiterTitle': 'hr',\n      'chatted': False,\n      'imId': 'dfbb59997b1837979809d03804875792',\n      'imUserType': '2',\n      'recruiterId': '854a1e34a50f3eec3b25c7c79b53db06',\n      'recruiterPhoto': '5f8f98648dbe6273dcf8515508u.jpg'},\n     'comp': {'compId': 8633977,\n      'compIndustry': '广告/公关/会展',\n      'compScale': '100-499人',\n      'link': 'https://www.liepin.com/company/8633977/',\n      'compLogo': '653a2432e358b439b9af564108u.png',\n      'compName': '新知百略'},\n     'dataInfo': '%7B%22ckId%22%3A%22h2c8pxojavrmo1w785z7ueih2ybfpux8%22%2C%22pageSize%22%3A%2240%22%2C%22curPage%22%3A%220%22%2C%22scene%22%3A%22input%22%2C%22skId%22%3A%22h2c8pxojavrmo1w785z7ueih2ybfpux8%22%2C%22fkId%22%3A%22h2c8pxojavrmo1w785z7ueih2ybfpux8%22%2C%22jobKind%22%3A%222%22%2C%22jobId%22%3A%2262431441%22%2C%22sfrom%22%3A%22search_job_pc%22%2C%22d_curPage%22%3A%220%22%2C%22d_pageSize%22%3A%2240%22%2C%22as_from%22%3A%22search_prime%22%7D',\n     'dataParams': '{\"recruiterName\":\"闫女士\",\"jobKind\":\"2\",\"userId\":\"854a1e34a50f3eec3b25c7c79b53db06\",\"jobId\":\"62431441\",\"imId\":\"dfbb59997b1837979809d03804875792\",\"imUserType\":\"2\",\"recruiterPhoto\":\"5f8f98648dbe6273dcf8515508u.jpg\"}'},\n    {'job': {'labels': ['策略策划'],\n      'refreshTime': '20220401084441',\n      'topJob': False,\n      'requireWorkYears': '5-10年',\n      'jobKind': '2',\n      'link': 'https://www.liepin.com/job/1941412853.shtml',\n      'jobId': '41412853',\n      'dq': '北京-朝阳区',\n      'title': '广告策划',\n      'advViewFlag': False,\n      'salary': '15-30k·15薪',\n      'pcOuterLink': '',\n      'h5OuterLink': '',\n      'dataPromId': 'd_sfrom=search_prime&d_ckId=null&d_curPage=0&d_pageSize=40&d_headId=null&d_posi=31&skId=h2c8pxojavrmo1w785z7ueih2ybfpux8&fkId=h2c8pxojavrmo1w785z7ueih2ybfpux8&ckId=h2c8pxojavrmo1w785z7ueih2ybfpux8&sfrom=search_job_pc&curPage=0&pageSize=40&index=31',\n      'requireEduLevel': '本科'},\n     'recruiter': {'recruiterName': '白女士',\n      'recruiterTitle': '策划总监',\n      'chatted': False,\n      'imId': 'd1d86424995b13326e8893c9219f7e03',\n      'imUserType': '2',\n      'recruiterId': '915729d4d5a4dca35ca2e84a012516d9',\n      'recruiterPhoto': '5f8f9863f6d1ab58476f246a08u.jpg'},\n     'comp': {'compId': 7921271,\n      'compIndustry': '互联网',\n      'compScale': '1000-2000人',\n      'link': 'https://www.liepin.com/company/7921271/',\n      'compStage': 'D轮',\n      'compLogo': '5952248270327b30a4cc59d605a.jpg',\n      'compName': '小红书'},\n     'dataInfo': '%7B%22ckId%22%3A%22h2c8pxojavrmo1w785z7ueih2ybfpux8%22%2C%22pageSize%22%3A%2240%22%2C%22curPage%22%3A%220%22%2C%22scene%22%3A%22input%22%2C%22skId%22%3A%22h2c8pxojavrmo1w785z7ueih2ybfpux8%22%2C%22fkId%22%3A%22h2c8pxojavrmo1w785z7ueih2ybfpux8%22%2C%22jobKind%22%3A%222%22%2C%22jobId%22%3A%2241412853%22%2C%22sfrom%22%3A%22search_job_pc%22%2C%22d_curPage%22%3A%220%22%2C%22d_pageSize%22%3A%2240%22%2C%22as_from%22%3A%22search_prime%22%7D',\n     'dataParams': '{\"recruiterName\":\"白女士\",\"jobKind\":\"2\",\"userId\":\"915729d4d5a4dca35ca2e84a012516d9\",\"jobId\":\"41412853\",\"imId\":\"d1d86424995b13326e8893c9219f7e03\",\"imUserType\":\"2\",\"recruiterPhoto\":\"5f8f9863f6d1ab58476f246a08u.jpg\"}'},\n    {'job': {'labels': ['营销策划',\n       '营销传播',\n       '品牌策划',\n       '品牌广告策划及制作',\n       '供应商对接和管理经验',\n       '创意策划',\n       '品牌传播',\n       '品牌宣传'],\n      'refreshTime': '20201105115532',\n      'topJob': False,\n      'requireWorkYears': '3-5年',\n      'jobKind': '2',\n      'link': 'https://www.liepin.com/job/1931980021.shtml',\n      'jobId': '31980021',\n      'dq': '北京',\n      'title': '品牌广告策划【MJ002019】',\n      'advViewFlag': False,\n      'salary': '25-40k·14薪',\n      'pcOuterLink': '',\n      'h5OuterLink': '',\n      'dataPromId': 'd_sfrom=search_prime&d_ckId=null&d_curPage=0&d_pageSize=40&d_headId=null&d_posi=32&skId=h2c8pxojavrmo1w785z7ueih2ybfpux8&fkId=h2c8pxojavrmo1w785z7ueih2ybfpux8&ckId=h2c8pxojavrmo1w785z7ueih2ybfpux8&sfrom=search_job_pc&curPage=0&pageSize=40&index=32',\n      'requireEduLevel': '本科'},\n     'recruiter': {'recruiterName': '吴女士',\n      'recruiterTitle': 'HRBP',\n      'chatted': False,\n      'imId': 'bc7b193698827db471de52c3bc0b6279',\n      'imUserType': '2',\n      'recruiterId': 'e88df732f276864148399c88f7809286',\n      'recruiterPhoto': '5f8f9865ea60860b75384fa508u.jpg'},\n     'comp': {'compId': 8156911,\n      'compIndustry': '在线教育',\n      'compScale': '10000人以上',\n      'link': 'https://www.liepin.com/company/8156911/',\n      'compStage': 'D轮',\n      'compLogo': '5ee1bd1815b5366045d8405502u.jpg',\n      'compName': '北京猿力未来科技有限公司'},\n     'dataInfo': '%7B%22ckId%22%3A%22h2c8pxojavrmo1w785z7ueih2ybfpux8%22%2C%22pageSize%22%3A%2240%22%2C%22curPage%22%3A%220%22%2C%22scene%22%3A%22input%22%2C%22skId%22%3A%22h2c8pxojavrmo1w785z7ueih2ybfpux8%22%2C%22fkId%22%3A%22h2c8pxojavrmo1w785z7ueih2ybfpux8%22%2C%22jobKind%22%3A%222%22%2C%22jobId%22%3A%2231980021%22%2C%22sfrom%22%3A%22search_job_pc%22%2C%22d_curPage%22%3A%220%22%2C%22d_pageSize%22%3A%2240%22%2C%22as_from%22%3A%22search_prime%22%7D',\n     'dataParams': '{\"recruiterName\":\"吴女士\",\"jobKind\":\"2\",\"userId\":\"e88df732f276864148399c88f7809286\",\"jobId\":\"31980021\",\"imId\":\"bc7b193698827db471de52c3bc0b6279\",\"imUserType\":\"2\",\"recruiterPhoto\":\"5f8f9865ea60860b75384fa508u.jpg\"}'},\n    {'job': {'labels': ['活动策划', '广告策划'],\n      'refreshTime': '20210217232541',\n      'topJob': False,\n      'requireWorkYears': '3-5年',\n      'jobKind': '2',\n      'link': 'https://www.liepin.com/job/1935850383.shtml',\n      'jobId': '35850383',\n      'dq': '北京',\n      'title': 'LA广告策划专家-【商业化】',\n      'advViewFlag': False,\n      'salary': '20-50k·16薪',\n      'pcOuterLink': '',\n      'h5OuterLink': '',\n      'dataPromId': 'd_sfrom=search_prime&d_ckId=null&d_curPage=0&d_pageSize=40&d_headId=null&d_posi=33&skId=h2c8pxojavrmo1w785z7ueih2ybfpux8&fkId=h2c8pxojavrmo1w785z7ueih2ybfpux8&ckId=h2c8pxojavrmo1w785z7ueih2ybfpux8&sfrom=search_job_pc&curPage=0&pageSize=40&index=33',\n      'requireEduLevel': '统招本科'},\n     'recruiter': {'recruiterName': '刘先生',\n      'recruiterTitle': '招聘者',\n      'chatted': False,\n      'imId': 'dcb169d31db5bfbc063dfc1b00f6daab',\n      'imUserType': '2',\n      'recruiterId': '705e18a72a70b722b4f28103db256200',\n      'recruiterPhoto': '5f8f986bdfb13a7dee342f2108u.jpg'},\n     'comp': {'compId': 9819261,\n      'compIndustry': '在线社交/媒体',\n      'compScale': '10000人以上',\n      'link': 'https://www.liepin.com/company/9819261/',\n      'compStage': '港股上市',\n      'compLogo': '5bfffa8074719da073f0c61703u.png',\n      'compName': '北京快手科技有限公司'},\n     'dataInfo': '%7B%22ckId%22%3A%22h2c8pxojavrmo1w785z7ueih2ybfpux8%22%2C%22pageSize%22%3A%2240%22%2C%22curPage%22%3A%220%22%2C%22scene%22%3A%22input%22%2C%22skId%22%3A%22h2c8pxojavrmo1w785z7ueih2ybfpux8%22%2C%22fkId%22%3A%22h2c8pxojavrmo1w785z7ueih2ybfpux8%22%2C%22jobKind%22%3A%222%22%2C%22jobId%22%3A%2235850383%22%2C%22sfrom%22%3A%22search_job_pc%22%2C%22d_curPage%22%3A%220%22%2C%22d_pageSize%22%3A%2240%22%2C%22as_from%22%3A%22search_prime%22%7D',\n     'dataParams': '{\"recruiterName\":\"刘先生\",\"jobKind\":\"2\",\"userId\":\"705e18a72a70b722b4f28103db256200\",\"jobId\":\"35850383\",\"imId\":\"dcb169d31db5bfbc063dfc1b00f6daab\",\"imUserType\":\"2\",\"recruiterPhoto\":\"5f8f986bdfb13a7dee342f2108u.jpg\"}'},\n    {'job': {'labels': ['营销策划'],\n      'refreshTime': '20210409185800',\n      'topJob': False,\n      'requireWorkYears': '5-10年',\n      'jobKind': '2',\n      'link': 'https://www.liepin.com/job/1937998571.shtml',\n      'jobId': '37998571',\n      'dq': '北京',\n      'title': '广告策划',\n      'advViewFlag': False,\n      'salary': '15-30k·14薪',\n      'pcOuterLink': '',\n      'h5OuterLink': '',\n      'dataPromId': 'd_sfrom=search_prime&d_ckId=null&d_curPage=0&d_pageSize=40&d_headId=null&d_posi=34&skId=h2c8pxojavrmo1w785z7ueih2ybfpux8&fkId=h2c8pxojavrmo1w785z7ueih2ybfpux8&ckId=h2c8pxojavrmo1w785z7ueih2ybfpux8&sfrom=search_job_pc&curPage=0&pageSize=40&index=34',\n      'requireEduLevel': '本科'},\n     'recruiter': {'recruiterName': '王女士',\n      'recruiterTitle': '数据运营',\n      'chatted': False,\n      'imId': '089f211e6241daa83417a188cf69ded9',\n      'imUserType': '2',\n      'recruiterId': '2c0df059cbc0d11dbc829b9793b84815',\n      'recruiterPhoto': '5f8f9863f6d1ab58476f246a08u.jpg'},\n     'comp': {'compId': 1663745,\n      'compIndustry': '互联网',\n      'compScale': '10000人以上',\n      'link': 'https://www.liepin.com/company/1663745/',\n      'compStage': '已上市',\n      'compLogo': '5bfe9d0074719d2aa34b4d5b03a.png',\n      'compName': '京东'},\n     'dataInfo': '%7B%22ckId%22%3A%22h2c8pxojavrmo1w785z7ueih2ybfpux8%22%2C%22pageSize%22%3A%2240%22%2C%22curPage%22%3A%220%22%2C%22scene%22%3A%22input%22%2C%22skId%22%3A%22h2c8pxojavrmo1w785z7ueih2ybfpux8%22%2C%22fkId%22%3A%22h2c8pxojavrmo1w785z7ueih2ybfpux8%22%2C%22jobKind%22%3A%222%22%2C%22jobId%22%3A%2237998571%22%2C%22sfrom%22%3A%22search_job_pc%22%2C%22d_curPage%22%3A%220%22%2C%22d_pageSize%22%3A%2240%22%2C%22as_from%22%3A%22search_prime%22%7D',\n     'dataParams': '{\"recruiterName\":\"王女士\",\"jobKind\":\"2\",\"userId\":\"2c0df059cbc0d11dbc829b9793b84815\",\"jobId\":\"37998571\",\"imId\":\"089f211e6241daa83417a188cf69ded9\",\"imUserType\":\"2\",\"recruiterPhoto\":\"5f8f9863f6d1ab58476f246a08u.jpg\"}'},\n    {'job': {'labels': ['网站策划',\n       '营销策划',\n       '网络媒体',\n       '新媒体',\n       '广告/传媒/文化',\n       'IT/互联网/软件',\n       '电子商务'],\n      'refreshTime': '20230325174623',\n      'topJob': False,\n      'requireWorkYears': '5-10年',\n      'jobKind': '2',\n      'link': 'https://www.liepin.com/job/1931947093.shtml',\n      'jobId': '31947093',\n      'dq': '北京',\n      'title': '广告策划',\n      'advViewFlag': False,\n      'salary': '12-24k',\n      'pcOuterLink': '',\n      'h5OuterLink': '',\n      'dataPromId': 'd_sfrom=search_prime&d_ckId=null&d_curPage=0&d_pageSize=40&d_headId=null&d_posi=35&skId=h2c8pxojavrmo1w785z7ueih2ybfpux8&fkId=h2c8pxojavrmo1w785z7ueih2ybfpux8&ckId=h2c8pxojavrmo1w785z7ueih2ybfpux8&sfrom=search_job_pc&curPage=0&pageSize=40&index=35',\n      'requireEduLevel': '本科'},\n     'recruiter': {'recruiterName': '张女士',\n      'recruiterTitle': '招聘专家',\n      'chatted': False,\n      'imId': '23b5ccd3791f5d2ba9f0273dd33fa30b',\n      'imUserType': '2',\n      'recruiterId': 'ad675617c422e3352f9297e7e44825ab',\n      'recruiterPhoto': '54d1e79e712eb4f6b84cb0a802c.jpg'},\n     'comp': {'compId': 7946852,\n      'compIndustry': '电子商务',\n      'compScale': '100-499人',\n      'link': 'https://www.liepin.com/company/7946852/',\n      'compStage': '沪深A股上市',\n      'compLogo': '61a06f512b6b92739ef3d68f06u.png',\n      'compName': '返利科技'},\n     'dataInfo': '%7B%22ckId%22%3A%22h2c8pxojavrmo1w785z7ueih2ybfpux8%22%2C%22pageSize%22%3A%2240%22%2C%22curPage%22%3A%220%22%2C%22scene%22%3A%22input%22%2C%22skId%22%3A%22h2c8pxojavrmo1w785z7ueih2ybfpux8%22%2C%22fkId%22%3A%22h2c8pxojavrmo1w785z7ueih2ybfpux8%22%2C%22jobKind%22%3A%222%22%2C%22jobId%22%3A%2231947093%22%2C%22sfrom%22%3A%22search_job_pc%22%2C%22d_curPage%22%3A%220%22%2C%22d_pageSize%22%3A%2240%22%2C%22as_from%22%3A%22search_prime%22%7D',\n     'dataParams': '{\"recruiterName\":\"张女士\",\"jobKind\":\"2\",\"userId\":\"ad675617c422e3352f9297e7e44825ab\",\"jobId\":\"31947093\",\"imId\":\"23b5ccd3791f5d2ba9f0273dd33fa30b\",\"imUserType\":\"2\",\"recruiterPhoto\":\"54d1e79e712eb4f6b84cb0a802c.jpg\"}'},\n    {'job': {'labels': ['营销策划',\n       '自媒体策划',\n       '媒介策划',\n       '广告策划',\n       '新媒体',\n       '广告媒体',\n       '信息流',\n       '门户网站',\n       '短视频',\n       '广告/传媒/文化'],\n      'refreshTime': '20230323163808',\n      'topJob': False,\n      'requireWorkYears': '3-5年',\n      'jobKind': '2',\n      'link': 'https://www.liepin.com/job/1956010747.shtml',\n      'jobId': '56010747',\n      'dq': '北京-朝阳区',\n      'title': '广告策划经理',\n      'advViewFlag': False,\n      'salary': '10-20k·13薪',\n      'pcOuterLink': '',\n      'h5OuterLink': '',\n      'dataPromId': 'd_sfrom=search_prime&d_ckId=null&d_curPage=0&d_pageSize=40&d_headId=null&d_posi=36&skId=h2c8pxojavrmo1w785z7ueih2ybfpux8&fkId=h2c8pxojavrmo1w785z7ueih2ybfpux8&ckId=h2c8pxojavrmo1w785z7ueih2ybfpux8&sfrom=search_job_pc&curPage=0&pageSize=40&index=36',\n      'requireEduLevel': '本科'},\n     'recruiter': {'recruiterName': '张女士',\n      'recruiterTitle': '招聘主管',\n      'chatted': False,\n      'imId': '5449fc3258dc048f4a442a36df2c3658',\n      'imUserType': '2',\n      'recruiterId': 'b26e88d69108b2290c633f544d7c351a',\n      'recruiterPhoto': '62f327dd1ecdfe187abc9b8705u.png'},\n     'comp': {'compId': 7857853,\n      'compIndustry': '互联网',\n      'compScale': '500-999人',\n      'link': 'https://www.liepin.com/company/7857853/',\n      'compStage': '已上市',\n      'compLogo': '5bfe973674719df0ac992e6403a.png',\n      'compName': '无双科技'},\n     'dataInfo': '%7B%22ckId%22%3A%22h2c8pxojavrmo1w785z7ueih2ybfpux8%22%2C%22pageSize%22%3A%2240%22%2C%22curPage%22%3A%220%22%2C%22scene%22%3A%22input%22%2C%22skId%22%3A%22h2c8pxojavrmo1w785z7ueih2ybfpux8%22%2C%22fkId%22%3A%22h2c8pxojavrmo1w785z7ueih2ybfpux8%22%2C%22jobKind%22%3A%222%22%2C%22jobId%22%3A%2256010747%22%2C%22sfrom%22%3A%22search_job_pc%22%2C%22d_curPage%22%3A%220%22%2C%22d_pageSize%22%3A%2240%22%2C%22as_from%22%3A%22search_prime%22%7D',\n     'dataParams': '{\"recruiterName\":\"张女士\",\"jobKind\":\"2\",\"userId\":\"b26e88d69108b2290c633f544d7c351a\",\"jobId\":\"56010747\",\"imId\":\"5449fc3258dc048f4a442a36df2c3658\",\"imUserType\":\"2\",\"recruiterPhoto\":\"62f327dd1ecdfe187abc9b8705u.png\"}'},\n    {'job': {'labels': ['营销策划',\n       '媒介策划',\n       '广告策划',\n       '自媒体策划',\n       '新媒体',\n       '广告媒体',\n       '信息流',\n       '门户网站',\n       '短视频',\n       '广告/传媒/文化'],\n      'refreshTime': '20230323163808',\n      'topJob': False,\n      'requireWorkYears': '3-5年',\n      'jobKind': '2',\n      'link': 'https://www.liepin.com/job/1951830319.shtml',\n      'jobId': '51830319',\n      'dq': '北京-朝阳区',\n      'title': '广告策划总监',\n      'advViewFlag': False,\n      'salary': '18-30k',\n      'pcOuterLink': '',\n      'h5OuterLink': '',\n      'dataPromId': 'd_sfrom=search_prime&d_ckId=null&d_curPage=0&d_pageSize=40&d_headId=null&d_posi=37&skId=h2c8pxojavrmo1w785z7ueih2ybfpux8&fkId=h2c8pxojavrmo1w785z7ueih2ybfpux8&ckId=h2c8pxojavrmo1w785z7ueih2ybfpux8&sfrom=search_job_pc&curPage=0&pageSize=40&index=37',\n      'requireEduLevel': '本科'},\n     'recruiter': {'recruiterName': '张女士',\n      'recruiterTitle': '招聘主管',\n      'chatted': False,\n      'imId': '5449fc3258dc048f4a442a36df2c3658',\n      'imUserType': '2',\n      'recruiterId': 'b26e88d69108b2290c633f544d7c351a',\n      'recruiterPhoto': '62f327dd1ecdfe187abc9b8705u.png'},\n     'comp': {'compId': 7857853,\n      'compIndustry': '互联网',\n      'compScale': '500-999人',\n      'link': 'https://www.liepin.com/company/7857853/',\n      'compStage': '已上市',\n      'compLogo': '5bfe973674719df0ac992e6403a.png',\n      'compName': '无双科技'},\n     'dataInfo': '%7B%22ckId%22%3A%22h2c8pxojavrmo1w785z7ueih2ybfpux8%22%2C%22pageSize%22%3A%2240%22%2C%22curPage%22%3A%220%22%2C%22scene%22%3A%22input%22%2C%22skId%22%3A%22h2c8pxojavrmo1w785z7ueih2ybfpux8%22%2C%22fkId%22%3A%22h2c8pxojavrmo1w785z7ueih2ybfpux8%22%2C%22jobKind%22%3A%222%22%2C%22jobId%22%3A%2251830319%22%2C%22sfrom%22%3A%22search_job_pc%22%2C%22d_curPage%22%3A%220%22%2C%22d_pageSize%22%3A%2240%22%2C%22as_from%22%3A%22search_prime%22%7D',\n     'dataParams': '{\"recruiterName\":\"张女士\",\"jobKind\":\"2\",\"userId\":\"b26e88d69108b2290c633f544d7c351a\",\"jobId\":\"51830319\",\"imId\":\"5449fc3258dc048f4a442a36df2c3658\",\"imUserType\":\"2\",\"recruiterPhoto\":\"62f327dd1ecdfe187abc9b8705u.png\"}'},\n    {'job': {'labels': ['营销策划', '广告策划'],\n      'refreshTime': '20190723162207',\n      'topJob': False,\n      'requireWorkYears': '3-5年',\n      'jobKind': '2',\n      'link': 'https://www.liepin.com/job/1921802541.shtml',\n      'jobId': '21802541',\n      'dq': '北京',\n      'title': '广告策划',\n      'advViewFlag': False,\n      'salary': '10-15k',\n      'pcOuterLink': '',\n      'h5OuterLink': '',\n      'dataPromId': 'd_sfrom=search_prime&d_ckId=null&d_curPage=0&d_pageSize=40&d_headId=null&d_posi=38&skId=h2c8pxojavrmo1w785z7ueih2ybfpux8&fkId=h2c8pxojavrmo1w785z7ueih2ybfpux8&ckId=h2c8pxojavrmo1w785z7ueih2ybfpux8&sfrom=search_job_pc&curPage=0&pageSize=40&index=38',\n      'requireEduLevel': '本科'},\n     'recruiter': {'recruiterName': '陈女士',\n      'recruiterTitle': '文案策划',\n      'chatted': False,\n      'imId': 'e64c8faf96b6b0b101ab80e4a8b96567',\n      'imUserType': '2',\n      'recruiterId': '8500fa3165014d8bccb0f957c43907bb',\n      'recruiterPhoto': '5f8f986779c7cc70efbf36c008u.jpg'},\n     'comp': {'compId': 9760939,\n      'compIndustry': '广告/公关/会展',\n      'compScale': '1-49人',\n      'link': 'https://www.liepin.com/company/9760939/',\n      'compStage': '融资未公开',\n      'compLogo': '61b07937d0458d53c627567e02u.jpg',\n      'compName': '北京比如文化传播有限公司'},\n     'dataInfo': '%7B%22ckId%22%3A%22h2c8pxojavrmo1w785z7ueih2ybfpux8%22%2C%22pageSize%22%3A%2240%22%2C%22curPage%22%3A%220%22%2C%22scene%22%3A%22input%22%2C%22skId%22%3A%22h2c8pxojavrmo1w785z7ueih2ybfpux8%22%2C%22fkId%22%3A%22h2c8pxojavrmo1w785z7ueih2ybfpux8%22%2C%22jobKind%22%3A%222%22%2C%22jobId%22%3A%2221802541%22%2C%22sfrom%22%3A%22search_job_pc%22%2C%22d_curPage%22%3A%220%22%2C%22d_pageSize%22%3A%2240%22%2C%22as_from%22%3A%22search_prime%22%7D',\n     'dataParams': '{\"recruiterName\":\"陈女士\",\"jobKind\":\"2\",\"userId\":\"8500fa3165014d8bccb0f957c43907bb\",\"jobId\":\"21802541\",\"imId\":\"e64c8faf96b6b0b101ab80e4a8b96567\",\"imUserType\":\"2\",\"recruiterPhoto\":\"5f8f986779c7cc70efbf36c008u.jpg\"}'},\n    {'job': {'labels': [],\n      'refreshTime': '20220111204451',\n      'topJob': False,\n      'requireWorkYears': '3-5年',\n      'jobKind': '2',\n      'link': 'https://www.liepin.com/job/1946335963.shtml',\n      'jobId': '46335963',\n      'dq': '北京-海淀区',\n      'title': '海外广告策划',\n      'advViewFlag': False,\n      'salary': '15-30k·14薪',\n      'pcOuterLink': '',\n      'h5OuterLink': '',\n      'dataPromId': 'd_sfrom=search_prime&d_ckId=null&d_curPage=0&d_pageSize=40&d_headId=null&d_posi=39&skId=h2c8pxojavrmo1w785z7ueih2ybfpux8&fkId=h2c8pxojavrmo1w785z7ueih2ybfpux8&ckId=h2c8pxojavrmo1w785z7ueih2ybfpux8&sfrom=search_job_pc&curPage=0&pageSize=40&index=39',\n      'requireEduLevel': '统招本科'},\n     'recruiter': {'recruiterName': '刘女士',\n      'recruiterTitle': '营）',\n      'chatted': False,\n      'imId': '369dc12386fea39038336404cc661e56',\n      'imUserType': '2',\n      'recruiterId': 'd6ee9eebb2d2ecef3fe4d28eaa0a2448',\n      'recruiterPhoto': '5f8f9866dfb13a7dee342f1808u.jpg'},\n     'comp': {'compId': 8785513,\n      'compIndustry': '互联网',\n      'compScale': '10000人以上',\n      'link': 'https://www.liepin.com/company/8785513/',\n      'compStage': '港股上市',\n      'compLogo': '5fb5f56fb1d9242a23ea71d901u.jpg',\n      'compName': '小米集团'},\n     'dataInfo': '%7B%22ckId%22%3A%22h2c8pxojavrmo1w785z7ueih2ybfpux8%22%2C%22pageSize%22%3A%2240%22%2C%22curPage%22%3A%220%22%2C%22scene%22%3A%22input%22%2C%22skId%22%3A%22h2c8pxojavrmo1w785z7ueih2ybfpux8%22%2C%22fkId%22%3A%22h2c8pxojavrmo1w785z7ueih2ybfpux8%22%2C%22jobKind%22%3A%222%22%2C%22jobId%22%3A%2246335963%22%2C%22sfrom%22%3A%22search_job_pc%22%2C%22d_curPage%22%3A%220%22%2C%22d_pageSize%22%3A%2240%22%2C%22as_from%22%3A%22search_prime%22%7D',\n     'dataParams': '{\"recruiterName\":\"刘女士\",\"jobKind\":\"2\",\"userId\":\"d6ee9eebb2d2ecef3fe4d28eaa0a2448\",\"jobId\":\"46335963\",\"imId\":\"369dc12386fea39038336404cc661e56\",\"imUserType\":\"2\",\"recruiterPhoto\":\"5f8f9866dfb13a7dee342f1808u.jpg\"}'}]},\n  'passThroughData': {'ckId': 'h2c8pxojavrmo1w785z7ueih2ybfpux8',\n   'scene': 'input',\n   'skId': 'h2c8pxojavrmo1w785z7ueih2ybfpux8',\n   'fkId': 'h2c8pxojavrmo1w785z7ueih2ybfpux8',\n   'sfrom': 'search_job_pc'},\n  'pagination': {'totalPage': 8,\n   'pageSize': 40,\n   'currentPage': 0,\n   'hasNext': False,\n   'totalCounts': 283}}}"
     },
     "execution_count": 62,
     "metadata": {},
     "output_type": "execute_result"
    }
   ],
   "source": [
    "import time\n",
    "import random\n",
    "wait_time = random.randint(3,10)\n",
    "\n",
    "payload = payloadd(str(城市),str(关键词),str(学历))\n",
    "# create an HTML session using Requests-HTML\n",
    "session = HTMLSession()\n",
    "r = session.post(url, data=json.dumps(payload), headers=headers())\n",
    "\n",
    "# extract the JSON data from the response\n",
    "response_data = r.json()\n",
    "\n",
    "# example: print the number of job postings returned\n",
    "response_data"
   ],
   "metadata": {
    "collapsed": false
   }
  },
  {
   "cell_type": "code",
   "execution_count": 63,
   "outputs": [
    {
     "data": {
      "text/plain": "8"
     },
     "execution_count": 63,
     "metadata": {},
     "output_type": "execute_result"
    }
   ],
   "source": [
    "page = response_data['data']['pagination']['totalPage']\n",
    "page"
   ],
   "metadata": {
    "collapsed": false
   }
  },
  {
   "cell_type": "markdown",
   "source": [
    "# 10.翻页获取内容，并组合转为通俗易懂的图表"
   ],
   "metadata": {
    "collapsed": false
   }
  },
  {
   "cell_type": "code",
   "execution_count": 64,
   "outputs": [],
   "source": [
    "import pandas as pd\n",
    "import requests\n",
    "response_df = []\n",
    "for i in range(3): # 需要判断页面的数据有多少页\n",
    "    payload['data']['mainSearchPcConditionForm']['currentPage']=i\n",
    "    df = pd.json_normalize(response_data['data']['data']['jobCardList'])\n",
    "    response_df.append(df)\n",
    "    time.sleep(wait_time)"
   ],
   "metadata": {
    "collapsed": false
   }
  },
  {
   "cell_type": "code",
   "execution_count": 65,
   "outputs": [
    {
     "data": {
      "text/plain": "                                             dataInfo  \\\n0   %7B%22ckId%22%3A%22h2c8pxojavrmo1w785z7ueih2yb...   \n1   %7B%22ckId%22%3A%22h2c8pxojavrmo1w785z7ueih2yb...   \n2   %7B%22ckId%22%3A%22h2c8pxojavrmo1w785z7ueih2yb...   \n3   %7B%22ckId%22%3A%22h2c8pxojavrmo1w785z7ueih2yb...   \n4   %7B%22ckId%22%3A%22h2c8pxojavrmo1w785z7ueih2yb...   \n..                                                ...   \n35  %7B%22ckId%22%3A%22h2c8pxojavrmo1w785z7ueih2yb...   \n36  %7B%22ckId%22%3A%22h2c8pxojavrmo1w785z7ueih2yb...   \n37  %7B%22ckId%22%3A%22h2c8pxojavrmo1w785z7ueih2yb...   \n38  %7B%22ckId%22%3A%22h2c8pxojavrmo1w785z7ueih2yb...   \n39  %7B%22ckId%22%3A%22h2c8pxojavrmo1w785z7ueih2yb...   \n\n                                           dataParams  \\\n0   {\"recruiterName\":\"李女士\",\"jobKind\":\"2\",\"userId\":...   \n1   {\"recruiterName\":\"吴女士\",\"jobKind\":\"2\",\"userId\":...   \n2   {\"recruiterName\":\"黄女士\",\"jobKind\":\"2\",\"userId\":...   \n3   {\"recruiterName\":\"艾先生\",\"jobKind\":\"2\",\"userId\":...   \n4   {\"recruiterName\":\"关女士\",\"jobKind\":\"2\",\"userId\":...   \n..                                                ...   \n35  {\"recruiterName\":\"张女士\",\"jobKind\":\"2\",\"userId\":...   \n36  {\"recruiterName\":\"张女士\",\"jobKind\":\"2\",\"userId\":...   \n37  {\"recruiterName\":\"张女士\",\"jobKind\":\"2\",\"userId\":...   \n38  {\"recruiterName\":\"陈女士\",\"jobKind\":\"2\",\"userId\":...   \n39  {\"recruiterName\":\"刘女士\",\"jobKind\":\"2\",\"userId\":...   \n\n                                           job.labels job.refreshTime  \\\n0                [广告策划, 营销策划, 品牌策划, 乙方公司背景, 广告/传媒/文化]  20231130165331   \n1                                                  []  20231121102642   \n2   [文案策划, 广告策划, 媒介策划, 网站策划, 营销策划, 客户管理, 广告媒体, 移动媒...  20230504175537   \n3                      [营销策划, 广告策划, 文案策划, 广告媒介, 电子商务]  20231127180826   \n4                                                  []  20230920144933   \n..                                                ...             ...   \n35  [网站策划, 营销策划, 网络媒体, 新媒体, 广告/传媒/文化, IT/互联网/软件, 电...  20230325174623   \n36  [营销策划, 自媒体策划, 媒介策划, 广告策划, 新媒体, 广告媒体, 信息流, 门户网站...  20230323163808   \n37  [营销策划, 媒介策划, 广告策划, 自媒体策划, 新媒体, 广告媒体, 信息流, 门户网站...  20230323163808   \n38                                       [营销策划, 广告策划]  20190723162207   \n39                                                 []  20220111204451   \n\n    job.topJob job.requireWorkYears job.jobKind  \\\n0        False                 1-3年           2   \n1        False                5-10年           2   \n2        False                10年以上           2   \n3        False                 3-5年           2   \n4        False                 3-5年           2   \n..         ...                  ...         ...   \n35       False                5-10年           2   \n36       False                 3-5年           2   \n37       False                 3-5年           2   \n38       False                 3-5年           2   \n39       False                 3-5年           2   \n\n                                       job.link job.jobId  job.dq  ...  \\\n0   https://www.liepin.com/job/1962255391.shtml  62255391  北京-朝阳区  ...   \n1   https://www.liepin.com/job/1963064221.shtml  63064221  北京-西城区  ...   \n2   https://www.liepin.com/job/1958273833.shtml  58273833  北京-通州区  ...   \n3   https://www.liepin.com/job/1959559635.shtml  59559635  北京-朝阳区  ...   \n4   https://www.liepin.com/job/1960819273.shtml  60819273  北京-朝阳区  ...   \n..                                          ...       ...     ...  ...   \n35  https://www.liepin.com/job/1931947093.shtml  31947093      北京  ...   \n36  https://www.liepin.com/job/1956010747.shtml  56010747  北京-朝阳区  ...   \n37  https://www.liepin.com/job/1951830319.shtml  51830319  北京-朝阳区  ...   \n38  https://www.liepin.com/job/1921802541.shtml  21802541      北京  ...   \n39  https://www.liepin.com/job/1946335963.shtml  46335963  北京-海淀区  ...   \n\n   recruiter.imUserType             recruiter.recruiterId  \\\n0                     2  a483e9b984a083fd3d159b943eec45f0   \n1                     2  544ec63fbf257aa3c63c53c95bbaf19c   \n2                     2  aadd6feb5284fb88fe617cf9abcae704   \n3                     2  0d7bec34e8ab59976333e80b532df6c7   \n4                     2  36aa038690ce4080c68176cf1ad725bb   \n..                  ...                               ...   \n35                    2  ad675617c422e3352f9297e7e44825ab   \n36                    2  b26e88d69108b2290c633f544d7c351a   \n37                    2  b26e88d69108b2290c633f544d7c351a   \n38                    2  8500fa3165014d8bccb0f957c43907bb   \n39                    2  d6ee9eebb2d2ecef3fe4d28eaa0a2448   \n\n           recruiter.recruiterPhoto comp.compId comp.compIndustry  \\\n0   5f8f9863f6d1ab58476f246a08u.jpg  13425171.0          广告/公关/会展   \n1   5f8f9865ea60860b75384fa508u.jpg  12731733.0              工程施工   \n2   64b290564767061a4c09cecc04u.png   9770323.0          货运/物流/仓储   \n3   5f8f9866dfb13a7dee342f1808u.jpg  13100721.0               互联网   \n4   5f8f9865ea60860b75384fa508u.jpg  13100721.0               互联网   \n..                              ...         ...               ...   \n35  54d1e79e712eb4f6b84cb0a802c.jpg   7946852.0              电子商务   \n36  62f327dd1ecdfe187abc9b8705u.png   7857853.0               互联网   \n37  62f327dd1ecdfe187abc9b8705u.png   7857853.0               互联网   \n38  5f8f986779c7cc70efbf36c008u.jpg   9760939.0          广告/公关/会展   \n39  5f8f9866dfb13a7dee342f1808u.jpg   8785513.0               互联网   \n\n   comp.compScale                                 comp.link  \\\n0           1-49人  https://www.liepin.com/company/13425171/   \n1           1-49人  https://www.liepin.com/company/12731733/   \n2        10000人以上   https://www.liepin.com/company/9770323/   \n3          50-99人  https://www.liepin.com/company/13100721/   \n4          50-99人  https://www.liepin.com/company/13100721/   \n..            ...                                       ...   \n35       100-499人   https://www.liepin.com/company/7946852/   \n36       500-999人   https://www.liepin.com/company/7857853/   \n37       500-999人   https://www.liepin.com/company/7857853/   \n38          1-49人   https://www.liepin.com/company/9760939/   \n39       10000人以上   https://www.liepin.com/company/8785513/   \n\n                      comp.compLogo   comp.compName  comp.compStage  \n0   63ec5f2a5462d70ab95f62ca01u.png            德吉文化             NaN  \n1   61b07937d0458d53c627567e02u.jpg  双田(北京)机电工程有限公司           融资未公开  \n2   5f3b73cb9d37de587955cfe104u.png            京东物流            港股上市  \n3   619cbb391bd4fb704e42e6aa02u.jpg      北京桔柚科技有限公司           融资未公开  \n4   619cbb391bd4fb704e42e6aa02u.jpg      北京桔柚科技有限公司           融资未公开  \n..                              ...             ...             ...  \n35  61a06f512b6b92739ef3d68f06u.png            返利科技          沪深A股上市  \n36  5bfe973674719df0ac992e6403a.png            无双科技             已上市  \n37  5bfe973674719df0ac992e6403a.png            无双科技             已上市  \n38  61b07937d0458d53c627567e02u.jpg    北京比如文化传播有限公司           融资未公开  \n39  5fb5f56fb1d9242a23ea71d901u.jpg            小米集团            港股上市  \n\n[120 rows x 31 columns]",
      "text/html": "<div>\n<style scoped>\n    .dataframe tbody tr th:only-of-type {\n        vertical-align: middle;\n    }\n\n    .dataframe tbody tr th {\n        vertical-align: top;\n    }\n\n    .dataframe thead th {\n        text-align: right;\n    }\n</style>\n<table border=\"1\" class=\"dataframe\">\n  <thead>\n    <tr style=\"text-align: right;\">\n      <th></th>\n      <th>dataInfo</th>\n      <th>dataParams</th>\n      <th>job.labels</th>\n      <th>job.refreshTime</th>\n      <th>job.topJob</th>\n      <th>job.requireWorkYears</th>\n      <th>job.jobKind</th>\n      <th>job.link</th>\n      <th>job.jobId</th>\n      <th>job.dq</th>\n      <th>...</th>\n      <th>recruiter.imUserType</th>\n      <th>recruiter.recruiterId</th>\n      <th>recruiter.recruiterPhoto</th>\n      <th>comp.compId</th>\n      <th>comp.compIndustry</th>\n      <th>comp.compScale</th>\n      <th>comp.link</th>\n      <th>comp.compLogo</th>\n      <th>comp.compName</th>\n      <th>comp.compStage</th>\n    </tr>\n  </thead>\n  <tbody>\n    <tr>\n      <th>0</th>\n      <td>%7B%22ckId%22%3A%22h2c8pxojavrmo1w785z7ueih2yb...</td>\n      <td>{\"recruiterName\":\"李女士\",\"jobKind\":\"2\",\"userId\":...</td>\n      <td>[广告策划, 营销策划, 品牌策划, 乙方公司背景, 广告/传媒/文化]</td>\n      <td>20231130165331</td>\n      <td>False</td>\n      <td>1-3年</td>\n      <td>2</td>\n      <td>https://www.liepin.com/job/1962255391.shtml</td>\n      <td>62255391</td>\n      <td>北京-朝阳区</td>\n      <td>...</td>\n      <td>2</td>\n      <td>a483e9b984a083fd3d159b943eec45f0</td>\n      <td>5f8f9863f6d1ab58476f246a08u.jpg</td>\n      <td>13425171.0</td>\n      <td>广告/公关/会展</td>\n      <td>1-49人</td>\n      <td>https://www.liepin.com/company/13425171/</td>\n      <td>63ec5f2a5462d70ab95f62ca01u.png</td>\n      <td>德吉文化</td>\n      <td>NaN</td>\n    </tr>\n    <tr>\n      <th>1</th>\n      <td>%7B%22ckId%22%3A%22h2c8pxojavrmo1w785z7ueih2yb...</td>\n      <td>{\"recruiterName\":\"吴女士\",\"jobKind\":\"2\",\"userId\":...</td>\n      <td>[]</td>\n      <td>20231121102642</td>\n      <td>False</td>\n      <td>5-10年</td>\n      <td>2</td>\n      <td>https://www.liepin.com/job/1963064221.shtml</td>\n      <td>63064221</td>\n      <td>北京-西城区</td>\n      <td>...</td>\n      <td>2</td>\n      <td>544ec63fbf257aa3c63c53c95bbaf19c</td>\n      <td>5f8f9865ea60860b75384fa508u.jpg</td>\n      <td>12731733.0</td>\n      <td>工程施工</td>\n      <td>1-49人</td>\n      <td>https://www.liepin.com/company/12731733/</td>\n      <td>61b07937d0458d53c627567e02u.jpg</td>\n      <td>双田(北京)机电工程有限公司</td>\n      <td>融资未公开</td>\n    </tr>\n    <tr>\n      <th>2</th>\n      <td>%7B%22ckId%22%3A%22h2c8pxojavrmo1w785z7ueih2yb...</td>\n      <td>{\"recruiterName\":\"黄女士\",\"jobKind\":\"2\",\"userId\":...</td>\n      <td>[文案策划, 广告策划, 媒介策划, 网站策划, 营销策划, 客户管理, 广告媒体, 移动媒...</td>\n      <td>20230504175537</td>\n      <td>False</td>\n      <td>10年以上</td>\n      <td>2</td>\n      <td>https://www.liepin.com/job/1958273833.shtml</td>\n      <td>58273833</td>\n      <td>北京-通州区</td>\n      <td>...</td>\n      <td>2</td>\n      <td>aadd6feb5284fb88fe617cf9abcae704</td>\n      <td>64b290564767061a4c09cecc04u.png</td>\n      <td>9770323.0</td>\n      <td>货运/物流/仓储</td>\n      <td>10000人以上</td>\n      <td>https://www.liepin.com/company/9770323/</td>\n      <td>5f3b73cb9d37de587955cfe104u.png</td>\n      <td>京东物流</td>\n      <td>港股上市</td>\n    </tr>\n    <tr>\n      <th>3</th>\n      <td>%7B%22ckId%22%3A%22h2c8pxojavrmo1w785z7ueih2yb...</td>\n      <td>{\"recruiterName\":\"艾先生\",\"jobKind\":\"2\",\"userId\":...</td>\n      <td>[营销策划, 广告策划, 文案策划, 广告媒介, 电子商务]</td>\n      <td>20231127180826</td>\n      <td>False</td>\n      <td>3-5年</td>\n      <td>2</td>\n      <td>https://www.liepin.com/job/1959559635.shtml</td>\n      <td>59559635</td>\n      <td>北京-朝阳区</td>\n      <td>...</td>\n      <td>2</td>\n      <td>0d7bec34e8ab59976333e80b532df6c7</td>\n      <td>5f8f9866dfb13a7dee342f1808u.jpg</td>\n      <td>13100721.0</td>\n      <td>互联网</td>\n      <td>50-99人</td>\n      <td>https://www.liepin.com/company/13100721/</td>\n      <td>619cbb391bd4fb704e42e6aa02u.jpg</td>\n      <td>北京桔柚科技有限公司</td>\n      <td>融资未公开</td>\n    </tr>\n    <tr>\n      <th>4</th>\n      <td>%7B%22ckId%22%3A%22h2c8pxojavrmo1w785z7ueih2yb...</td>\n      <td>{\"recruiterName\":\"关女士\",\"jobKind\":\"2\",\"userId\":...</td>\n      <td>[]</td>\n      <td>20230920144933</td>\n      <td>False</td>\n      <td>3-5年</td>\n      <td>2</td>\n      <td>https://www.liepin.com/job/1960819273.shtml</td>\n      <td>60819273</td>\n      <td>北京-朝阳区</td>\n      <td>...</td>\n      <td>2</td>\n      <td>36aa038690ce4080c68176cf1ad725bb</td>\n      <td>5f8f9865ea60860b75384fa508u.jpg</td>\n      <td>13100721.0</td>\n      <td>互联网</td>\n      <td>50-99人</td>\n      <td>https://www.liepin.com/company/13100721/</td>\n      <td>619cbb391bd4fb704e42e6aa02u.jpg</td>\n      <td>北京桔柚科技有限公司</td>\n      <td>融资未公开</td>\n    </tr>\n    <tr>\n      <th>...</th>\n      <td>...</td>\n      <td>...</td>\n      <td>...</td>\n      <td>...</td>\n      <td>...</td>\n      <td>...</td>\n      <td>...</td>\n      <td>...</td>\n      <td>...</td>\n      <td>...</td>\n      <td>...</td>\n      <td>...</td>\n      <td>...</td>\n      <td>...</td>\n      <td>...</td>\n      <td>...</td>\n      <td>...</td>\n      <td>...</td>\n      <td>...</td>\n      <td>...</td>\n      <td>...</td>\n    </tr>\n    <tr>\n      <th>35</th>\n      <td>%7B%22ckId%22%3A%22h2c8pxojavrmo1w785z7ueih2yb...</td>\n      <td>{\"recruiterName\":\"张女士\",\"jobKind\":\"2\",\"userId\":...</td>\n      <td>[网站策划, 营销策划, 网络媒体, 新媒体, 广告/传媒/文化, IT/互联网/软件, 电...</td>\n      <td>20230325174623</td>\n      <td>False</td>\n      <td>5-10年</td>\n      <td>2</td>\n      <td>https://www.liepin.com/job/1931947093.shtml</td>\n      <td>31947093</td>\n      <td>北京</td>\n      <td>...</td>\n      <td>2</td>\n      <td>ad675617c422e3352f9297e7e44825ab</td>\n      <td>54d1e79e712eb4f6b84cb0a802c.jpg</td>\n      <td>7946852.0</td>\n      <td>电子商务</td>\n      <td>100-499人</td>\n      <td>https://www.liepin.com/company/7946852/</td>\n      <td>61a06f512b6b92739ef3d68f06u.png</td>\n      <td>返利科技</td>\n      <td>沪深A股上市</td>\n    </tr>\n    <tr>\n      <th>36</th>\n      <td>%7B%22ckId%22%3A%22h2c8pxojavrmo1w785z7ueih2yb...</td>\n      <td>{\"recruiterName\":\"张女士\",\"jobKind\":\"2\",\"userId\":...</td>\n      <td>[营销策划, 自媒体策划, 媒介策划, 广告策划, 新媒体, 广告媒体, 信息流, 门户网站...</td>\n      <td>20230323163808</td>\n      <td>False</td>\n      <td>3-5年</td>\n      <td>2</td>\n      <td>https://www.liepin.com/job/1956010747.shtml</td>\n      <td>56010747</td>\n      <td>北京-朝阳区</td>\n      <td>...</td>\n      <td>2</td>\n      <td>b26e88d69108b2290c633f544d7c351a</td>\n      <td>62f327dd1ecdfe187abc9b8705u.png</td>\n      <td>7857853.0</td>\n      <td>互联网</td>\n      <td>500-999人</td>\n      <td>https://www.liepin.com/company/7857853/</td>\n      <td>5bfe973674719df0ac992e6403a.png</td>\n      <td>无双科技</td>\n      <td>已上市</td>\n    </tr>\n    <tr>\n      <th>37</th>\n      <td>%7B%22ckId%22%3A%22h2c8pxojavrmo1w785z7ueih2yb...</td>\n      <td>{\"recruiterName\":\"张女士\",\"jobKind\":\"2\",\"userId\":...</td>\n      <td>[营销策划, 媒介策划, 广告策划, 自媒体策划, 新媒体, 广告媒体, 信息流, 门户网站...</td>\n      <td>20230323163808</td>\n      <td>False</td>\n      <td>3-5年</td>\n      <td>2</td>\n      <td>https://www.liepin.com/job/1951830319.shtml</td>\n      <td>51830319</td>\n      <td>北京-朝阳区</td>\n      <td>...</td>\n      <td>2</td>\n      <td>b26e88d69108b2290c633f544d7c351a</td>\n      <td>62f327dd1ecdfe187abc9b8705u.png</td>\n      <td>7857853.0</td>\n      <td>互联网</td>\n      <td>500-999人</td>\n      <td>https://www.liepin.com/company/7857853/</td>\n      <td>5bfe973674719df0ac992e6403a.png</td>\n      <td>无双科技</td>\n      <td>已上市</td>\n    </tr>\n    <tr>\n      <th>38</th>\n      <td>%7B%22ckId%22%3A%22h2c8pxojavrmo1w785z7ueih2yb...</td>\n      <td>{\"recruiterName\":\"陈女士\",\"jobKind\":\"2\",\"userId\":...</td>\n      <td>[营销策划, 广告策划]</td>\n      <td>20190723162207</td>\n      <td>False</td>\n      <td>3-5年</td>\n      <td>2</td>\n      <td>https://www.liepin.com/job/1921802541.shtml</td>\n      <td>21802541</td>\n      <td>北京</td>\n      <td>...</td>\n      <td>2</td>\n      <td>8500fa3165014d8bccb0f957c43907bb</td>\n      <td>5f8f986779c7cc70efbf36c008u.jpg</td>\n      <td>9760939.0</td>\n      <td>广告/公关/会展</td>\n      <td>1-49人</td>\n      <td>https://www.liepin.com/company/9760939/</td>\n      <td>61b07937d0458d53c627567e02u.jpg</td>\n      <td>北京比如文化传播有限公司</td>\n      <td>融资未公开</td>\n    </tr>\n    <tr>\n      <th>39</th>\n      <td>%7B%22ckId%22%3A%22h2c8pxojavrmo1w785z7ueih2yb...</td>\n      <td>{\"recruiterName\":\"刘女士\",\"jobKind\":\"2\",\"userId\":...</td>\n      <td>[]</td>\n      <td>20220111204451</td>\n      <td>False</td>\n      <td>3-5年</td>\n      <td>2</td>\n      <td>https://www.liepin.com/job/1946335963.shtml</td>\n      <td>46335963</td>\n      <td>北京-海淀区</td>\n      <td>...</td>\n      <td>2</td>\n      <td>d6ee9eebb2d2ecef3fe4d28eaa0a2448</td>\n      <td>5f8f9866dfb13a7dee342f1808u.jpg</td>\n      <td>8785513.0</td>\n      <td>互联网</td>\n      <td>10000人以上</td>\n      <td>https://www.liepin.com/company/8785513/</td>\n      <td>5fb5f56fb1d9242a23ea71d901u.jpg</td>\n      <td>小米集团</td>\n      <td>港股上市</td>\n    </tr>\n  </tbody>\n</table>\n<p>120 rows × 31 columns</p>\n</div>"
     },
     "execution_count": 65,
     "metadata": {},
     "output_type": "execute_result"
    }
   ],
   "source": [
    "df = pd.concat(response_df)\n",
    "df"
   ],
   "metadata": {
    "collapsed": false
   }
  },
  {
   "cell_type": "markdown",
   "source": [
    "# 11.将输入的数据赋值，来为输出图表命名"
   ],
   "metadata": {
    "collapsed": false
   }
  },
  {
   "cell_type": "code",
   "execution_count": 66,
   "outputs": [
    {
     "data": {
      "text/plain": "'广告策划'"
     },
     "execution_count": 66,
     "metadata": {},
     "output_type": "execute_result"
    }
   ],
   "source": [
    "key = payload['data']['mainSearchPcConditionForm']['key']\n",
    "key"
   ],
   "metadata": {
    "collapsed": false
   }
  },
  {
   "cell_type": "code",
   "execution_count": 67,
   "outputs": [
    {
     "data": {
      "text/plain": "'北京'"
     },
     "execution_count": 67,
     "metadata": {},
     "output_type": "execute_result"
    }
   ],
   "source": [
    "cities = str(城市)\n",
    "cities"
   ],
   "metadata": {
    "collapsed": false
   }
  },
  {
   "cell_type": "markdown",
   "source": [
    "# 12.加入时间戳"
   ],
   "metadata": {
    "collapsed": false
   }
  },
  {
   "cell_type": "code",
   "execution_count": 68,
   "outputs": [
    {
     "data": {
      "text/plain": "'2023-11-30_23-38'"
     },
     "execution_count": 68,
     "metadata": {},
     "output_type": "execute_result"
    }
   ],
   "source": [
    "import time\n",
    "time.localtime()\n",
    "output_time = str(time.localtime().tm_year)+'-'\\\n",
    "              +str(time.localtime().tm_mon)+'-'\\\n",
    "             +str(time.localtime().tm_mday)+'_'\\\n",
    "             +str(time.localtime().tm_hour)+'-' \\\n",
    "             +str(time.localtime().tm_min)\n",
    "output_time\n"
   ],
   "metadata": {
    "collapsed": false
   }
  },
  {
   "cell_type": "markdown",
   "source": [
    "# 13.输出为excel"
   ],
   "metadata": {
    "collapsed": false
   }
  },
  {
   "cell_type": "code",
   "execution_count": 69,
   "outputs": [],
   "source": [
    "df.to_excel( '猎聘'+cities+'-'+key+output_time+'.xlsx')"
   ],
   "metadata": {
    "collapsed": false
   }
  },
  {
   "cell_type": "markdown",
   "source": [
    "# 14.读取excel"
   ],
   "metadata": {
    "collapsed": false
   }
  },
  {
   "cell_type": "code",
   "execution_count": 70,
   "outputs": [],
   "source": [
    "import pandas as pd"
   ],
   "metadata": {
    "collapsed": false
   }
  },
  {
   "cell_type": "code",
   "execution_count": 71,
   "outputs": [
    {
     "data": {
      "text/plain": "     Unnamed: 0                                           dataInfo  \\\n0             0  %7B%22ckId%22%3A%22h2c8pxojavrmo1w785z7ueih2yb...   \n1             1  %7B%22ckId%22%3A%22h2c8pxojavrmo1w785z7ueih2yb...   \n2             2  %7B%22ckId%22%3A%22h2c8pxojavrmo1w785z7ueih2yb...   \n3             3  %7B%22ckId%22%3A%22h2c8pxojavrmo1w785z7ueih2yb...   \n4             4  %7B%22ckId%22%3A%22h2c8pxojavrmo1w785z7ueih2yb...   \n..          ...                                                ...   \n115          35  %7B%22ckId%22%3A%22h2c8pxojavrmo1w785z7ueih2yb...   \n116          36  %7B%22ckId%22%3A%22h2c8pxojavrmo1w785z7ueih2yb...   \n117          37  %7B%22ckId%22%3A%22h2c8pxojavrmo1w785z7ueih2yb...   \n118          38  %7B%22ckId%22%3A%22h2c8pxojavrmo1w785z7ueih2yb...   \n119          39  %7B%22ckId%22%3A%22h2c8pxojavrmo1w785z7ueih2yb...   \n\n                                            dataParams  \\\n0    {\"recruiterName\":\"李女士\",\"jobKind\":\"2\",\"userId\":...   \n1    {\"recruiterName\":\"吴女士\",\"jobKind\":\"2\",\"userId\":...   \n2    {\"recruiterName\":\"黄女士\",\"jobKind\":\"2\",\"userId\":...   \n3    {\"recruiterName\":\"艾先生\",\"jobKind\":\"2\",\"userId\":...   \n4    {\"recruiterName\":\"关女士\",\"jobKind\":\"2\",\"userId\":...   \n..                                                 ...   \n115  {\"recruiterName\":\"张女士\",\"jobKind\":\"2\",\"userId\":...   \n116  {\"recruiterName\":\"张女士\",\"jobKind\":\"2\",\"userId\":...   \n117  {\"recruiterName\":\"张女士\",\"jobKind\":\"2\",\"userId\":...   \n118  {\"recruiterName\":\"陈女士\",\"jobKind\":\"2\",\"userId\":...   \n119  {\"recruiterName\":\"刘女士\",\"jobKind\":\"2\",\"userId\":...   \n\n                                            job.labels  job.refreshTime  \\\n0       ['广告策划', '营销策划', '品牌策划', '乙方公司背景', '广告/传媒/文化']   20231130165331   \n1                                                   []   20231121102642   \n2    ['文案策划', '广告策划', '媒介策划', '网站策划', '营销策划', '客户管理...   20230504175537   \n3             ['营销策划', '广告策划', '文案策划', '广告媒介', '电子商务']   20231127180826   \n4                                                   []   20230920144933   \n..                                                 ...              ...   \n115  ['网站策划', '营销策划', '网络媒体', '新媒体', '广告/传媒/文化', 'I...   20230325174623   \n116  ['营销策划', '自媒体策划', '媒介策划', '广告策划', '新媒体', '广告媒体...   20230323163808   \n117  ['营销策划', '媒介策划', '广告策划', '自媒体策划', '新媒体', '广告媒体...   20230323163808   \n118                                   ['营销策划', '广告策划']   20190723162207   \n119                                                 []   20220111204451   \n\n     job.topJob job.requireWorkYears  job.jobKind  \\\n0         False                 1-3年            2   \n1         False                5-10年            2   \n2         False                10年以上            2   \n3         False                 3-5年            2   \n4         False                 3-5年            2   \n..          ...                  ...          ...   \n115       False                5-10年            2   \n116       False                 3-5年            2   \n117       False                 3-5年            2   \n118       False                 3-5年            2   \n119       False                 3-5年            2   \n\n                                        job.link  job.jobId  ...  \\\n0    https://www.liepin.com/job/1962255391.shtml   62255391  ...   \n1    https://www.liepin.com/job/1963064221.shtml   63064221  ...   \n2    https://www.liepin.com/job/1958273833.shtml   58273833  ...   \n3    https://www.liepin.com/job/1959559635.shtml   59559635  ...   \n4    https://www.liepin.com/job/1960819273.shtml   60819273  ...   \n..                                           ...        ...  ...   \n115  https://www.liepin.com/job/1931947093.shtml   31947093  ...   \n116  https://www.liepin.com/job/1956010747.shtml   56010747  ...   \n117  https://www.liepin.com/job/1951830319.shtml   51830319  ...   \n118  https://www.liepin.com/job/1921802541.shtml   21802541  ...   \n119  https://www.liepin.com/job/1946335963.shtml   46335963  ...   \n\n    recruiter.imUserType             recruiter.recruiterId  \\\n0                      2  a483e9b984a083fd3d159b943eec45f0   \n1                      2  544ec63fbf257aa3c63c53c95bbaf19c   \n2                      2  aadd6feb5284fb88fe617cf9abcae704   \n3                      2  0d7bec34e8ab59976333e80b532df6c7   \n4                      2  36aa038690ce4080c68176cf1ad725bb   \n..                   ...                               ...   \n115                    2  ad675617c422e3352f9297e7e44825ab   \n116                    2  b26e88d69108b2290c633f544d7c351a   \n117                    2  b26e88d69108b2290c633f544d7c351a   \n118                    2  8500fa3165014d8bccb0f957c43907bb   \n119                    2  d6ee9eebb2d2ecef3fe4d28eaa0a2448   \n\n            recruiter.recruiterPhoto comp.compId  comp.compIndustry  \\\n0    5f8f9863f6d1ab58476f246a08u.jpg  13425171.0           广告/公关/会展   \n1    5f8f9865ea60860b75384fa508u.jpg  12731733.0               工程施工   \n2    64b290564767061a4c09cecc04u.png   9770323.0           货运/物流/仓储   \n3    5f8f9866dfb13a7dee342f1808u.jpg  13100721.0                互联网   \n4    5f8f9865ea60860b75384fa508u.jpg  13100721.0                互联网   \n..                               ...         ...                ...   \n115  54d1e79e712eb4f6b84cb0a802c.jpg   7946852.0               电子商务   \n116  62f327dd1ecdfe187abc9b8705u.png   7857853.0                互联网   \n117  62f327dd1ecdfe187abc9b8705u.png   7857853.0                互联网   \n118  5f8f986779c7cc70efbf36c008u.jpg   9760939.0           广告/公关/会展   \n119  5f8f9866dfb13a7dee342f1808u.jpg   8785513.0                互联网   \n\n     comp.compScale                                 comp.link  \\\n0             1-49人  https://www.liepin.com/company/13425171/   \n1             1-49人  https://www.liepin.com/company/12731733/   \n2          10000人以上   https://www.liepin.com/company/9770323/   \n3            50-99人  https://www.liepin.com/company/13100721/   \n4            50-99人  https://www.liepin.com/company/13100721/   \n..              ...                                       ...   \n115        100-499人   https://www.liepin.com/company/7946852/   \n116        500-999人   https://www.liepin.com/company/7857853/   \n117        500-999人   https://www.liepin.com/company/7857853/   \n118           1-49人   https://www.liepin.com/company/9760939/   \n119        10000人以上   https://www.liepin.com/company/8785513/   \n\n                       comp.compLogo   comp.compName comp.compStage  \n0    63ec5f2a5462d70ab95f62ca01u.png            德吉文化            NaN  \n1    61b07937d0458d53c627567e02u.jpg  双田(北京)机电工程有限公司          融资未公开  \n2    5f3b73cb9d37de587955cfe104u.png            京东物流           港股上市  \n3    619cbb391bd4fb704e42e6aa02u.jpg      北京桔柚科技有限公司          融资未公开  \n4    619cbb391bd4fb704e42e6aa02u.jpg      北京桔柚科技有限公司          融资未公开  \n..                               ...             ...            ...  \n115  61a06f512b6b92739ef3d68f06u.png            返利科技         沪深A股上市  \n116  5bfe973674719df0ac992e6403a.png            无双科技            已上市  \n117  5bfe973674719df0ac992e6403a.png            无双科技            已上市  \n118  61b07937d0458d53c627567e02u.jpg    北京比如文化传播有限公司          融资未公开  \n119  5fb5f56fb1d9242a23ea71d901u.jpg            小米集团           港股上市  \n\n[120 rows x 32 columns]",
      "text/html": "<div>\n<style scoped>\n    .dataframe tbody tr th:only-of-type {\n        vertical-align: middle;\n    }\n\n    .dataframe tbody tr th {\n        vertical-align: top;\n    }\n\n    .dataframe thead th {\n        text-align: right;\n    }\n</style>\n<table border=\"1\" class=\"dataframe\">\n  <thead>\n    <tr style=\"text-align: right;\">\n      <th></th>\n      <th>Unnamed: 0</th>\n      <th>dataInfo</th>\n      <th>dataParams</th>\n      <th>job.labels</th>\n      <th>job.refreshTime</th>\n      <th>job.topJob</th>\n      <th>job.requireWorkYears</th>\n      <th>job.jobKind</th>\n      <th>job.link</th>\n      <th>job.jobId</th>\n      <th>...</th>\n      <th>recruiter.imUserType</th>\n      <th>recruiter.recruiterId</th>\n      <th>recruiter.recruiterPhoto</th>\n      <th>comp.compId</th>\n      <th>comp.compIndustry</th>\n      <th>comp.compScale</th>\n      <th>comp.link</th>\n      <th>comp.compLogo</th>\n      <th>comp.compName</th>\n      <th>comp.compStage</th>\n    </tr>\n  </thead>\n  <tbody>\n    <tr>\n      <th>0</th>\n      <td>0</td>\n      <td>%7B%22ckId%22%3A%22h2c8pxojavrmo1w785z7ueih2yb...</td>\n      <td>{\"recruiterName\":\"李女士\",\"jobKind\":\"2\",\"userId\":...</td>\n      <td>['广告策划', '营销策划', '品牌策划', '乙方公司背景', '广告/传媒/文化']</td>\n      <td>20231130165331</td>\n      <td>False</td>\n      <td>1-3年</td>\n      <td>2</td>\n      <td>https://www.liepin.com/job/1962255391.shtml</td>\n      <td>62255391</td>\n      <td>...</td>\n      <td>2</td>\n      <td>a483e9b984a083fd3d159b943eec45f0</td>\n      <td>5f8f9863f6d1ab58476f246a08u.jpg</td>\n      <td>13425171.0</td>\n      <td>广告/公关/会展</td>\n      <td>1-49人</td>\n      <td>https://www.liepin.com/company/13425171/</td>\n      <td>63ec5f2a5462d70ab95f62ca01u.png</td>\n      <td>德吉文化</td>\n      <td>NaN</td>\n    </tr>\n    <tr>\n      <th>1</th>\n      <td>1</td>\n      <td>%7B%22ckId%22%3A%22h2c8pxojavrmo1w785z7ueih2yb...</td>\n      <td>{\"recruiterName\":\"吴女士\",\"jobKind\":\"2\",\"userId\":...</td>\n      <td>[]</td>\n      <td>20231121102642</td>\n      <td>False</td>\n      <td>5-10年</td>\n      <td>2</td>\n      <td>https://www.liepin.com/job/1963064221.shtml</td>\n      <td>63064221</td>\n      <td>...</td>\n      <td>2</td>\n      <td>544ec63fbf257aa3c63c53c95bbaf19c</td>\n      <td>5f8f9865ea60860b75384fa508u.jpg</td>\n      <td>12731733.0</td>\n      <td>工程施工</td>\n      <td>1-49人</td>\n      <td>https://www.liepin.com/company/12731733/</td>\n      <td>61b07937d0458d53c627567e02u.jpg</td>\n      <td>双田(北京)机电工程有限公司</td>\n      <td>融资未公开</td>\n    </tr>\n    <tr>\n      <th>2</th>\n      <td>2</td>\n      <td>%7B%22ckId%22%3A%22h2c8pxojavrmo1w785z7ueih2yb...</td>\n      <td>{\"recruiterName\":\"黄女士\",\"jobKind\":\"2\",\"userId\":...</td>\n      <td>['文案策划', '广告策划', '媒介策划', '网站策划', '营销策划', '客户管理...</td>\n      <td>20230504175537</td>\n      <td>False</td>\n      <td>10年以上</td>\n      <td>2</td>\n      <td>https://www.liepin.com/job/1958273833.shtml</td>\n      <td>58273833</td>\n      <td>...</td>\n      <td>2</td>\n      <td>aadd6feb5284fb88fe617cf9abcae704</td>\n      <td>64b290564767061a4c09cecc04u.png</td>\n      <td>9770323.0</td>\n      <td>货运/物流/仓储</td>\n      <td>10000人以上</td>\n      <td>https://www.liepin.com/company/9770323/</td>\n      <td>5f3b73cb9d37de587955cfe104u.png</td>\n      <td>京东物流</td>\n      <td>港股上市</td>\n    </tr>\n    <tr>\n      <th>3</th>\n      <td>3</td>\n      <td>%7B%22ckId%22%3A%22h2c8pxojavrmo1w785z7ueih2yb...</td>\n      <td>{\"recruiterName\":\"艾先生\",\"jobKind\":\"2\",\"userId\":...</td>\n      <td>['营销策划', '广告策划', '文案策划', '广告媒介', '电子商务']</td>\n      <td>20231127180826</td>\n      <td>False</td>\n      <td>3-5年</td>\n      <td>2</td>\n      <td>https://www.liepin.com/job/1959559635.shtml</td>\n      <td>59559635</td>\n      <td>...</td>\n      <td>2</td>\n      <td>0d7bec34e8ab59976333e80b532df6c7</td>\n      <td>5f8f9866dfb13a7dee342f1808u.jpg</td>\n      <td>13100721.0</td>\n      <td>互联网</td>\n      <td>50-99人</td>\n      <td>https://www.liepin.com/company/13100721/</td>\n      <td>619cbb391bd4fb704e42e6aa02u.jpg</td>\n      <td>北京桔柚科技有限公司</td>\n      <td>融资未公开</td>\n    </tr>\n    <tr>\n      <th>4</th>\n      <td>4</td>\n      <td>%7B%22ckId%22%3A%22h2c8pxojavrmo1w785z7ueih2yb...</td>\n      <td>{\"recruiterName\":\"关女士\",\"jobKind\":\"2\",\"userId\":...</td>\n      <td>[]</td>\n      <td>20230920144933</td>\n      <td>False</td>\n      <td>3-5年</td>\n      <td>2</td>\n      <td>https://www.liepin.com/job/1960819273.shtml</td>\n      <td>60819273</td>\n      <td>...</td>\n      <td>2</td>\n      <td>36aa038690ce4080c68176cf1ad725bb</td>\n      <td>5f8f9865ea60860b75384fa508u.jpg</td>\n      <td>13100721.0</td>\n      <td>互联网</td>\n      <td>50-99人</td>\n      <td>https://www.liepin.com/company/13100721/</td>\n      <td>619cbb391bd4fb704e42e6aa02u.jpg</td>\n      <td>北京桔柚科技有限公司</td>\n      <td>融资未公开</td>\n    </tr>\n    <tr>\n      <th>...</th>\n      <td>...</td>\n      <td>...</td>\n      <td>...</td>\n      <td>...</td>\n      <td>...</td>\n      <td>...</td>\n      <td>...</td>\n      <td>...</td>\n      <td>...</td>\n      <td>...</td>\n      <td>...</td>\n      <td>...</td>\n      <td>...</td>\n      <td>...</td>\n      <td>...</td>\n      <td>...</td>\n      <td>...</td>\n      <td>...</td>\n      <td>...</td>\n      <td>...</td>\n      <td>...</td>\n    </tr>\n    <tr>\n      <th>115</th>\n      <td>35</td>\n      <td>%7B%22ckId%22%3A%22h2c8pxojavrmo1w785z7ueih2yb...</td>\n      <td>{\"recruiterName\":\"张女士\",\"jobKind\":\"2\",\"userId\":...</td>\n      <td>['网站策划', '营销策划', '网络媒体', '新媒体', '广告/传媒/文化', 'I...</td>\n      <td>20230325174623</td>\n      <td>False</td>\n      <td>5-10年</td>\n      <td>2</td>\n      <td>https://www.liepin.com/job/1931947093.shtml</td>\n      <td>31947093</td>\n      <td>...</td>\n      <td>2</td>\n      <td>ad675617c422e3352f9297e7e44825ab</td>\n      <td>54d1e79e712eb4f6b84cb0a802c.jpg</td>\n      <td>7946852.0</td>\n      <td>电子商务</td>\n      <td>100-499人</td>\n      <td>https://www.liepin.com/company/7946852/</td>\n      <td>61a06f512b6b92739ef3d68f06u.png</td>\n      <td>返利科技</td>\n      <td>沪深A股上市</td>\n    </tr>\n    <tr>\n      <th>116</th>\n      <td>36</td>\n      <td>%7B%22ckId%22%3A%22h2c8pxojavrmo1w785z7ueih2yb...</td>\n      <td>{\"recruiterName\":\"张女士\",\"jobKind\":\"2\",\"userId\":...</td>\n      <td>['营销策划', '自媒体策划', '媒介策划', '广告策划', '新媒体', '广告媒体...</td>\n      <td>20230323163808</td>\n      <td>False</td>\n      <td>3-5年</td>\n      <td>2</td>\n      <td>https://www.liepin.com/job/1956010747.shtml</td>\n      <td>56010747</td>\n      <td>...</td>\n      <td>2</td>\n      <td>b26e88d69108b2290c633f544d7c351a</td>\n      <td>62f327dd1ecdfe187abc9b8705u.png</td>\n      <td>7857853.0</td>\n      <td>互联网</td>\n      <td>500-999人</td>\n      <td>https://www.liepin.com/company/7857853/</td>\n      <td>5bfe973674719df0ac992e6403a.png</td>\n      <td>无双科技</td>\n      <td>已上市</td>\n    </tr>\n    <tr>\n      <th>117</th>\n      <td>37</td>\n      <td>%7B%22ckId%22%3A%22h2c8pxojavrmo1w785z7ueih2yb...</td>\n      <td>{\"recruiterName\":\"张女士\",\"jobKind\":\"2\",\"userId\":...</td>\n      <td>['营销策划', '媒介策划', '广告策划', '自媒体策划', '新媒体', '广告媒体...</td>\n      <td>20230323163808</td>\n      <td>False</td>\n      <td>3-5年</td>\n      <td>2</td>\n      <td>https://www.liepin.com/job/1951830319.shtml</td>\n      <td>51830319</td>\n      <td>...</td>\n      <td>2</td>\n      <td>b26e88d69108b2290c633f544d7c351a</td>\n      <td>62f327dd1ecdfe187abc9b8705u.png</td>\n      <td>7857853.0</td>\n      <td>互联网</td>\n      <td>500-999人</td>\n      <td>https://www.liepin.com/company/7857853/</td>\n      <td>5bfe973674719df0ac992e6403a.png</td>\n      <td>无双科技</td>\n      <td>已上市</td>\n    </tr>\n    <tr>\n      <th>118</th>\n      <td>38</td>\n      <td>%7B%22ckId%22%3A%22h2c8pxojavrmo1w785z7ueih2yb...</td>\n      <td>{\"recruiterName\":\"陈女士\",\"jobKind\":\"2\",\"userId\":...</td>\n      <td>['营销策划', '广告策划']</td>\n      <td>20190723162207</td>\n      <td>False</td>\n      <td>3-5年</td>\n      <td>2</td>\n      <td>https://www.liepin.com/job/1921802541.shtml</td>\n      <td>21802541</td>\n      <td>...</td>\n      <td>2</td>\n      <td>8500fa3165014d8bccb0f957c43907bb</td>\n      <td>5f8f986779c7cc70efbf36c008u.jpg</td>\n      <td>9760939.0</td>\n      <td>广告/公关/会展</td>\n      <td>1-49人</td>\n      <td>https://www.liepin.com/company/9760939/</td>\n      <td>61b07937d0458d53c627567e02u.jpg</td>\n      <td>北京比如文化传播有限公司</td>\n      <td>融资未公开</td>\n    </tr>\n    <tr>\n      <th>119</th>\n      <td>39</td>\n      <td>%7B%22ckId%22%3A%22h2c8pxojavrmo1w785z7ueih2yb...</td>\n      <td>{\"recruiterName\":\"刘女士\",\"jobKind\":\"2\",\"userId\":...</td>\n      <td>[]</td>\n      <td>20220111204451</td>\n      <td>False</td>\n      <td>3-5年</td>\n      <td>2</td>\n      <td>https://www.liepin.com/job/1946335963.shtml</td>\n      <td>46335963</td>\n      <td>...</td>\n      <td>2</td>\n      <td>d6ee9eebb2d2ecef3fe4d28eaa0a2448</td>\n      <td>5f8f9866dfb13a7dee342f1808u.jpg</td>\n      <td>8785513.0</td>\n      <td>互联网</td>\n      <td>10000人以上</td>\n      <td>https://www.liepin.com/company/8785513/</td>\n      <td>5fb5f56fb1d9242a23ea71d901u.jpg</td>\n      <td>小米集团</td>\n      <td>港股上市</td>\n    </tr>\n  </tbody>\n</table>\n<p>120 rows × 32 columns</p>\n</div>"
     },
     "execution_count": 71,
     "metadata": {},
     "output_type": "execute_result"
    }
   ],
   "source": [
    "df = pd.read_excel('猎聘'+cities+'-'+key+output_time+'.xlsx')\n",
    "df"
   ],
   "metadata": {
    "collapsed": false
   }
  },
  {
   "cell_type": "code",
   "execution_count": 72,
   "outputs": [
    {
     "name": "stdout",
     "output_type": "stream",
     "text": [
      "<class 'pandas.core.frame.DataFrame'>\n",
      "RangeIndex: 120 entries, 0 to 119\n",
      "Data columns (total 32 columns):\n",
      " #   Column                    Non-Null Count  Dtype  \n",
      "---  ------                    --------------  -----  \n",
      " 0   Unnamed: 0                120 non-null    int64  \n",
      " 1   dataInfo                  120 non-null    object \n",
      " 2   dataParams                120 non-null    object \n",
      " 3   job.labels                120 non-null    object \n",
      " 4   job.refreshTime           120 non-null    int64  \n",
      " 5   job.topJob                120 non-null    bool   \n",
      " 6   job.requireWorkYears      120 non-null    object \n",
      " 7   job.jobKind               120 non-null    int64  \n",
      " 8   job.link                  120 non-null    object \n",
      " 9   job.jobId                 120 non-null    int64  \n",
      " 10  job.dq                    120 non-null    object \n",
      " 11  job.title                 120 non-null    object \n",
      " 12  job.advViewFlag           120 non-null    bool   \n",
      " 13  job.salary                120 non-null    object \n",
      " 14  job.pcOuterLink           0 non-null      float64\n",
      " 15  job.h5OuterLink           0 non-null      float64\n",
      " 16  job.dataPromId            120 non-null    object \n",
      " 17  job.requireEduLevel       120 non-null    object \n",
      " 18  recruiter.recruiterName   120 non-null    object \n",
      " 19  recruiter.recruiterTitle  108 non-null    object \n",
      " 20  recruiter.chatted         120 non-null    bool   \n",
      " 21  recruiter.imId            120 non-null    object \n",
      " 22  recruiter.imUserType      120 non-null    int64  \n",
      " 23  recruiter.recruiterId     120 non-null    object \n",
      " 24  recruiter.recruiterPhoto  120 non-null    object \n",
      " 25  comp.compId               114 non-null    float64\n",
      " 26  comp.compIndustry         120 non-null    object \n",
      " 27  comp.compScale            120 non-null    object \n",
      " 28  comp.link                 114 non-null    object \n",
      " 29  comp.compLogo             120 non-null    object \n",
      " 30  comp.compName             120 non-null    object \n",
      " 31  comp.compStage            90 non-null     object \n",
      "dtypes: bool(3), float64(3), int64(5), object(21)\n",
      "memory usage: 27.7+ KB\n"
     ]
    }
   ],
   "source": [
    "df.info()"
   ],
   "metadata": {
    "collapsed": false
   }
  },
  {
   "cell_type": "code",
   "execution_count": 73,
   "outputs": [
    {
     "data": {
      "text/plain": "120"
     },
     "execution_count": 73,
     "metadata": {},
     "output_type": "execute_result"
    }
   ],
   "source": [
    "len(df['job.link'])"
   ],
   "metadata": {
    "collapsed": false
   }
  },
  {
   "cell_type": "code",
   "execution_count": 74,
   "outputs": [
    {
     "data": {
      "text/plain": "'https://www.liepin.com/job/1962255391.shtml'"
     },
     "execution_count": 74,
     "metadata": {},
     "output_type": "execute_result"
    }
   ],
   "source": [
    "df['job.link'][0]"
   ],
   "metadata": {
    "collapsed": false
   }
  },
  {
   "cell_type": "markdown",
   "source": [
    "# 额外：加入特殊情况检测"
   ],
   "metadata": {
    "collapsed": false
   }
  },
  {
   "cell_type": "code",
   "execution_count": 75,
   "outputs": [],
   "source": [
    "if payload['data']['mainSearchPcConditionForm'][\"workYearCode\"]=='2':\n",
    "    df_PM_gz =  df[['job.labels','job.refreshTime','job.title','job.salary','job.dq','job.topJob','comp.compStage','comp.compName','comp.compIndustry','comp.compScale']]\n",
    "else:\n",
    "    df_PM_gz =  df[['job.labels','job.refreshTime','job.title','job.salary','job.dq','job.topJob','job.requireWorkYears','job.requireEduLevel','comp.compStage','comp.compName','comp.compIndustry','comp.compScale']]"
   ],
   "metadata": {
    "collapsed": false
   }
  },
  {
   "cell_type": "markdown",
   "source": [
    "# 15.重命名为通俗易懂的列头"
   ],
   "metadata": {
    "collapsed": false
   }
  },
  {
   "cell_type": "code",
   "execution_count": 76,
   "outputs": [],
   "source": [
    "# columns 重命名\n",
    "if payload['data']['mainSearchPcConditionForm'][\"workYearCode\"]=='2':\n",
    "    df_PM_gz = df_PM_gz.rename(columns={\n",
    "        'job.labels':'职位标签',\n",
    "        'job.refreshTime':'职位更新时间',\n",
    "        'job.title':'职位',\n",
    "        'job.salary':'薪资',\n",
    "        'job.dq':'地区',\n",
    "        'job.topJob':'是否top职位',\n",
    "        'comp.compStage':'公司融资情况',\n",
    "        'comp.compName':'公司名称',\n",
    "        'comp.compIndustry':'行业',\n",
    "        'comp.compScale':'规模'\n",
    "    })\n",
    "else:\n",
    "    df_PM_gz = df_PM_gz.rename(columns={\n",
    "        'job.labels':'职位标签',\n",
    "        'job.refreshTime':'职位更新时间',\n",
    "        'job.title':'职位',\n",
    "        'job.salary':'薪资',\n",
    "        'job.dq':'地区',\n",
    "        'job.topJob':'是否top职位',\n",
    "        'job.requireWorkYears':'工作年限',\n",
    "        'job.requireEduLevel':'学历',\n",
    "        'comp.compStage':'公司融资情况',\n",
    "        'comp.compName':'公司名称',\n",
    "        'comp.compIndustry':'行业',\n",
    "        'comp.compScale':'规模'\n",
    "    })"
   ],
   "metadata": {
    "collapsed": false
   }
  },
  {
   "cell_type": "markdown",
   "source": [
    "# 16.引入request_html并对每条标题子级网站进行访问以及内容爬取，即爬取岗位要求"
   ],
   "metadata": {
    "collapsed": false
   }
  },
  {
   "cell_type": "code",
   "execution_count": 77,
   "outputs": [],
   "source": [
    "from requests_html import HTMLSession\n",
    "session = HTMLSession()"
   ],
   "metadata": {
    "collapsed": false
   }
  },
  {
   "cell_type": "code",
   "execution_count": 78,
   "outputs": [],
   "source": [
    "技能要求 = []\n",
    "for i in range(len(df['job.link'])):\n",
    "    s = session.get(df['job.link'][i])\n",
    "    command = s.html.find('dd')\n",
    "    技能要求.append(command[0].text)"
   ],
   "metadata": {
    "collapsed": false
   }
  },
  {
   "cell_type": "markdown",
   "source": [
    "## 添加所爬取到的岗位要求的新列到表"
   ],
   "metadata": {
    "collapsed": false
   }
  },
  {
   "cell_type": "code",
   "execution_count": 79,
   "outputs": [],
   "source": [
    "df_PM_gz['技能要求'] = 技能要求"
   ],
   "metadata": {
    "collapsed": false
   }
  },
  {
   "cell_type": "markdown",
   "source": [
    "# 17.输出最终表"
   ],
   "metadata": {
    "collapsed": false
   }
  },
  {
   "cell_type": "code",
   "execution_count": 80,
   "outputs": [],
   "source": [
    "df_PM_gz.to_excel('猎聘'+ cities+'-'+key +output_time+'.xlsx')"
   ],
   "metadata": {
    "collapsed": false
   }
  },
  {
   "cell_type": "markdown",
   "source": [
    "## 额外：计算各个市的区的平均薪资"
   ],
   "metadata": {
    "collapsed": false
   }
  },
  {
   "cell_type": "code",
   "execution_count": 81,
   "outputs": [
    {
     "data": {
      "text/plain": "                                                  职位标签          职位更新时间  \\\n0       ['广告策划', '营销策划', '品牌策划', '乙方公司背景', '广告/传媒/文化']  20231130165331   \n1                                                   []  20231121102642   \n2    ['文案策划', '广告策划', '媒介策划', '网站策划', '营销策划', '客户管理...  20230504175537   \n3             ['营销策划', '广告策划', '文案策划', '广告媒介', '电子商务']  20231127180826   \n4                                                   []  20230920144933   \n..                                                 ...             ...   \n115  ['网站策划', '营销策划', '网络媒体', '新媒体', '广告/传媒/文化', 'I...  20230325174623   \n116  ['营销策划', '自媒体策划', '媒介策划', '广告策划', '新媒体', '广告媒体...  20230323163808   \n117  ['营销策划', '媒介策划', '广告策划', '自媒体策划', '新媒体', '广告媒体...  20230323163808   \n118                                   ['营销策划', '广告策划']  20190723162207   \n119                                                 []  20220111204451   \n\n                  职位          薪资      地区  是否top职位   工作年限    学历  公司融资情况  \\\n0             广告策划专员   7-12k·13薪  北京-朝阳区    False   1-3年  统招本科     NaN   \n1             广告策划运营      15-20k  北京-西城区    False  5-10年    本科   融资未公开   \n2             广告策划总监  40-60k·15薪  北京-通州区    False  10年以上    本科    港股上市   \n3          广告策划经理/专员      15-20k  北京-朝阳区    False   3-5年    本科   融资未公开   \n4    广告策划经理（双休 五险一金）      15-25k  北京-朝阳区    False   3-5年    本科   融资未公开   \n..               ...         ...     ...      ...    ...   ...     ...   \n115             广告策划      12-24k      北京    False  5-10年    本科  沪深A股上市   \n116           广告策划经理  10-20k·13薪  北京-朝阳区    False   3-5年    本科     已上市   \n117           广告策划总监      18-30k  北京-朝阳区    False   3-5年    本科     已上市   \n118             广告策划      10-15k      北京    False   3-5年    本科   融资未公开   \n119           海外广告策划  15-30k·14薪  北京-海淀区    False   3-5年  统招本科    港股上市   \n\n               公司名称        行业        规模  \\\n0              德吉文化  广告/公关/会展     1-49人   \n1    双田(北京)机电工程有限公司      工程施工     1-49人   \n2              京东物流  货运/物流/仓储  10000人以上   \n3        北京桔柚科技有限公司       互联网    50-99人   \n4        北京桔柚科技有限公司       互联网    50-99人   \n..              ...       ...       ...   \n115            返利科技      电子商务  100-499人   \n116            无双科技       互联网  500-999人   \n117            无双科技       互联网  500-999人   \n118    北京比如文化传播有限公司  广告/公关/会展     1-49人   \n119            小米集团       互联网  10000人以上   \n\n                                                  技能要求  \n0    岗位职责： 1.根据客户的要求或brief，负责策划和制定品牌营销、品牌整合营销及综艺植入等...  \n1    职位描述： 1、独挡一面写字楼园区内电子显示屏广告策划 运营 市场营销 2、通过独到的用户洞...  \n2    职位描述: 1、 负责公司整体商业化广告营销产品的市场定位、价值挖掘&衡量评估、包装，并协助...  \n3    1. 基于客户线上营销推广需求，可独立完成常规性项目的媒介/广告营销策划方案，包括但不限于人...  \n4    岗位职责： 1. 基于客户线上营销推广需求，可独立完成常规性项目的媒介/广告营销策划方案，包...  \n..                                                 ...  \n115  岗位职责: 1、对互联网广告业务进行卖点挖掘，整合公司产品资源，根据销售需求，落实呈现合作营...  \n116  工作内容： 1、带领策划团队，协同相关团队完成各类策划案和推广方案； 2、带领策划团队深入研...  \n117  职责描述： 1、带领策划团队，协同相关团队完成各类策划案和推广方案； 2、带领策划团队深入研...  \n118  职位描述：   1.根据brief完成提案创意、视频脚本、官方文案等类型的内容撰写；   2...  \n119  职责描述： 1. 与客户关键决策人建立咨询关系，稳固客户并挖掘客户潜在需求，保证服务的延续性...  \n\n[120 rows x 13 columns]",
      "text/html": "<div>\n<style scoped>\n    .dataframe tbody tr th:only-of-type {\n        vertical-align: middle;\n    }\n\n    .dataframe tbody tr th {\n        vertical-align: top;\n    }\n\n    .dataframe thead th {\n        text-align: right;\n    }\n</style>\n<table border=\"1\" class=\"dataframe\">\n  <thead>\n    <tr style=\"text-align: right;\">\n      <th></th>\n      <th>职位标签</th>\n      <th>职位更新时间</th>\n      <th>职位</th>\n      <th>薪资</th>\n      <th>地区</th>\n      <th>是否top职位</th>\n      <th>工作年限</th>\n      <th>学历</th>\n      <th>公司融资情况</th>\n      <th>公司名称</th>\n      <th>行业</th>\n      <th>规模</th>\n      <th>技能要求</th>\n    </tr>\n  </thead>\n  <tbody>\n    <tr>\n      <th>0</th>\n      <td>['广告策划', '营销策划', '品牌策划', '乙方公司背景', '广告/传媒/文化']</td>\n      <td>20231130165331</td>\n      <td>广告策划专员</td>\n      <td>7-12k·13薪</td>\n      <td>北京-朝阳区</td>\n      <td>False</td>\n      <td>1-3年</td>\n      <td>统招本科</td>\n      <td>NaN</td>\n      <td>德吉文化</td>\n      <td>广告/公关/会展</td>\n      <td>1-49人</td>\n      <td>岗位职责： 1.根据客户的要求或brief，负责策划和制定品牌营销、品牌整合营销及综艺植入等...</td>\n    </tr>\n    <tr>\n      <th>1</th>\n      <td>[]</td>\n      <td>20231121102642</td>\n      <td>广告策划运营</td>\n      <td>15-20k</td>\n      <td>北京-西城区</td>\n      <td>False</td>\n      <td>5-10年</td>\n      <td>本科</td>\n      <td>融资未公开</td>\n      <td>双田(北京)机电工程有限公司</td>\n      <td>工程施工</td>\n      <td>1-49人</td>\n      <td>职位描述： 1、独挡一面写字楼园区内电子显示屏广告策划 运营 市场营销 2、通过独到的用户洞...</td>\n    </tr>\n    <tr>\n      <th>2</th>\n      <td>['文案策划', '广告策划', '媒介策划', '网站策划', '营销策划', '客户管理...</td>\n      <td>20230504175537</td>\n      <td>广告策划总监</td>\n      <td>40-60k·15薪</td>\n      <td>北京-通州区</td>\n      <td>False</td>\n      <td>10年以上</td>\n      <td>本科</td>\n      <td>港股上市</td>\n      <td>京东物流</td>\n      <td>货运/物流/仓储</td>\n      <td>10000人以上</td>\n      <td>职位描述: 1、 负责公司整体商业化广告营销产品的市场定位、价值挖掘&amp;衡量评估、包装，并协助...</td>\n    </tr>\n    <tr>\n      <th>3</th>\n      <td>['营销策划', '广告策划', '文案策划', '广告媒介', '电子商务']</td>\n      <td>20231127180826</td>\n      <td>广告策划经理/专员</td>\n      <td>15-20k</td>\n      <td>北京-朝阳区</td>\n      <td>False</td>\n      <td>3-5年</td>\n      <td>本科</td>\n      <td>融资未公开</td>\n      <td>北京桔柚科技有限公司</td>\n      <td>互联网</td>\n      <td>50-99人</td>\n      <td>1. 基于客户线上营销推广需求，可独立完成常规性项目的媒介/广告营销策划方案，包括但不限于人...</td>\n    </tr>\n    <tr>\n      <th>4</th>\n      <td>[]</td>\n      <td>20230920144933</td>\n      <td>广告策划经理（双休 五险一金）</td>\n      <td>15-25k</td>\n      <td>北京-朝阳区</td>\n      <td>False</td>\n      <td>3-5年</td>\n      <td>本科</td>\n      <td>融资未公开</td>\n      <td>北京桔柚科技有限公司</td>\n      <td>互联网</td>\n      <td>50-99人</td>\n      <td>岗位职责： 1. 基于客户线上营销推广需求，可独立完成常规性项目的媒介/广告营销策划方案，包...</td>\n    </tr>\n    <tr>\n      <th>...</th>\n      <td>...</td>\n      <td>...</td>\n      <td>...</td>\n      <td>...</td>\n      <td>...</td>\n      <td>...</td>\n      <td>...</td>\n      <td>...</td>\n      <td>...</td>\n      <td>...</td>\n      <td>...</td>\n      <td>...</td>\n      <td>...</td>\n    </tr>\n    <tr>\n      <th>115</th>\n      <td>['网站策划', '营销策划', '网络媒体', '新媒体', '广告/传媒/文化', 'I...</td>\n      <td>20230325174623</td>\n      <td>广告策划</td>\n      <td>12-24k</td>\n      <td>北京</td>\n      <td>False</td>\n      <td>5-10年</td>\n      <td>本科</td>\n      <td>沪深A股上市</td>\n      <td>返利科技</td>\n      <td>电子商务</td>\n      <td>100-499人</td>\n      <td>岗位职责: 1、对互联网广告业务进行卖点挖掘，整合公司产品资源，根据销售需求，落实呈现合作营...</td>\n    </tr>\n    <tr>\n      <th>116</th>\n      <td>['营销策划', '自媒体策划', '媒介策划', '广告策划', '新媒体', '广告媒体...</td>\n      <td>20230323163808</td>\n      <td>广告策划经理</td>\n      <td>10-20k·13薪</td>\n      <td>北京-朝阳区</td>\n      <td>False</td>\n      <td>3-5年</td>\n      <td>本科</td>\n      <td>已上市</td>\n      <td>无双科技</td>\n      <td>互联网</td>\n      <td>500-999人</td>\n      <td>工作内容： 1、带领策划团队，协同相关团队完成各类策划案和推广方案； 2、带领策划团队深入研...</td>\n    </tr>\n    <tr>\n      <th>117</th>\n      <td>['营销策划', '媒介策划', '广告策划', '自媒体策划', '新媒体', '广告媒体...</td>\n      <td>20230323163808</td>\n      <td>广告策划总监</td>\n      <td>18-30k</td>\n      <td>北京-朝阳区</td>\n      <td>False</td>\n      <td>3-5年</td>\n      <td>本科</td>\n      <td>已上市</td>\n      <td>无双科技</td>\n      <td>互联网</td>\n      <td>500-999人</td>\n      <td>职责描述： 1、带领策划团队，协同相关团队完成各类策划案和推广方案； 2、带领策划团队深入研...</td>\n    </tr>\n    <tr>\n      <th>118</th>\n      <td>['营销策划', '广告策划']</td>\n      <td>20190723162207</td>\n      <td>广告策划</td>\n      <td>10-15k</td>\n      <td>北京</td>\n      <td>False</td>\n      <td>3-5年</td>\n      <td>本科</td>\n      <td>融资未公开</td>\n      <td>北京比如文化传播有限公司</td>\n      <td>广告/公关/会展</td>\n      <td>1-49人</td>\n      <td>职位描述：   1.根据brief完成提案创意、视频脚本、官方文案等类型的内容撰写；   2...</td>\n    </tr>\n    <tr>\n      <th>119</th>\n      <td>[]</td>\n      <td>20220111204451</td>\n      <td>海外广告策划</td>\n      <td>15-30k·14薪</td>\n      <td>北京-海淀区</td>\n      <td>False</td>\n      <td>3-5年</td>\n      <td>统招本科</td>\n      <td>港股上市</td>\n      <td>小米集团</td>\n      <td>互联网</td>\n      <td>10000人以上</td>\n      <td>职责描述： 1. 与客户关键决策人建立咨询关系，稳固客户并挖掘客户潜在需求，保证服务的延续性...</td>\n    </tr>\n  </tbody>\n</table>\n<p>120 rows × 13 columns</p>\n</div>"
     },
     "execution_count": 81,
     "metadata": {},
     "output_type": "execute_result"
    }
   ],
   "source": [
    "非薪资面议 = df_PM_gz [ ~df_PM_gz['薪资'].str.contains(\"面议|元/天\")]\n",
    "非薪资面议"
   ],
   "metadata": {
    "collapsed": false
   }
  },
  {
   "cell_type": "code",
   "execution_count": 82,
   "outputs": [
    {
     "data": {
      "text/plain": "[['7-12k', '13'],\n ['15-20k'],\n ['40-60k', '15'],\n ['15-20k'],\n ['15-25k'],\n ['13-26k'],\n ['11-16k'],\n ['20-30k'],\n ['8-13k'],\n ['20-25k'],\n ['15-20k', '14'],\n ['25-45k', '15'],\n ['16-30k', '15'],\n ['25-45k', '15'],\n ['20-40k', '15'],\n ['10-18k', '13'],\n ['9-27k'],\n ['20-35k', '14'],\n ['30-45k'],\n ['25-55k', '16'],\n ['40-60k'],\n ['25-45k', '16'],\n ['35-60k'],\n ['17-30k'],\n ['10-20k'],\n ['20-40k', '14'],\n ['25-35k', '14'],\n ['20-30k'],\n ['17-30k'],\n ['10-15k'],\n ['17-30k'],\n ['15-30k', '15'],\n ['25-40k', '14'],\n ['20-50k', '16'],\n ['15-30k', '14'],\n ['12-24k'],\n ['10-20k', '13'],\n ['18-30k'],\n ['10-15k'],\n ['15-30k', '14'],\n ['7-12k', '13'],\n ['15-20k'],\n ['40-60k', '15'],\n ['15-20k'],\n ['15-25k'],\n ['13-26k'],\n ['11-16k'],\n ['20-30k'],\n ['8-13k'],\n ['20-25k'],\n ['15-20k', '14'],\n ['25-45k', '15'],\n ['16-30k', '15'],\n ['25-45k', '15'],\n ['20-40k', '15'],\n ['10-18k', '13'],\n ['9-27k'],\n ['20-35k', '14'],\n ['30-45k'],\n ['25-55k', '16'],\n ['40-60k'],\n ['25-45k', '16'],\n ['35-60k'],\n ['17-30k'],\n ['10-20k'],\n ['20-40k', '14'],\n ['25-35k', '14'],\n ['20-30k'],\n ['17-30k'],\n ['10-15k'],\n ['17-30k'],\n ['15-30k', '15'],\n ['25-40k', '14'],\n ['20-50k', '16'],\n ['15-30k', '14'],\n ['12-24k'],\n ['10-20k', '13'],\n ['18-30k'],\n ['10-15k'],\n ['15-30k', '14'],\n ['7-12k', '13'],\n ['15-20k'],\n ['40-60k', '15'],\n ['15-20k'],\n ['15-25k'],\n ['13-26k'],\n ['11-16k'],\n ['20-30k'],\n ['8-13k'],\n ['20-25k'],\n ['15-20k', '14'],\n ['25-45k', '15'],\n ['16-30k', '15'],\n ['25-45k', '15'],\n ['20-40k', '15'],\n ['10-18k', '13'],\n ['9-27k'],\n ['20-35k', '14'],\n ['30-45k'],\n ['25-55k', '16'],\n ['40-60k'],\n ['25-45k', '16'],\n ['35-60k'],\n ['17-30k'],\n ['10-20k'],\n ['20-40k', '14'],\n ['25-35k', '14'],\n ['20-30k'],\n ['17-30k'],\n ['10-15k'],\n ['17-30k'],\n ['15-30k', '15'],\n ['25-40k', '14'],\n ['20-50k', '16'],\n ['15-30k', '14'],\n ['12-24k'],\n ['10-20k', '13'],\n ['18-30k'],\n ['10-15k'],\n ['15-30k', '14']]"
     },
     "execution_count": 82,
     "metadata": {},
     "output_type": "execute_result"
    }
   ],
   "source": [
    "非薪资面议_detail = 非薪资面议['薪资'].apply(lambda x:x.split('薪')[0].split('·')).tolist()\n",
    "非薪资面议_detail"
   ],
   "metadata": {
    "collapsed": false
   }
  },
  {
   "cell_type": "code",
   "execution_count": 83,
   "outputs": [
    {
     "data": {
      "text/plain": "[10.3,\n 17.5,\n 62.5,\n 17.5,\n 20.0,\n 19.5,\n 13.5,\n 25.0,\n 10.5,\n 22.5,\n 20.4,\n 43.8,\n 28.8,\n 43.8,\n 37.5,\n 15.2,\n 18.0,\n 32.1,\n 37.5,\n 53.3,\n 50.0,\n 46.7,\n 47.5,\n 23.5,\n 15.0,\n 35.0,\n 35.0,\n 25.0,\n 23.5,\n 12.5,\n 23.5,\n 28.1,\n 37.9,\n 46.7,\n 26.2,\n 18.0,\n 16.2,\n 24.0,\n 12.5,\n 26.2,\n 10.3,\n 17.5,\n 62.5,\n 17.5,\n 20.0,\n 19.5,\n 13.5,\n 25.0,\n 10.5,\n 22.5,\n 20.4,\n 43.8,\n 28.8,\n 43.8,\n 37.5,\n 15.2,\n 18.0,\n 32.1,\n 37.5,\n 53.3,\n 50.0,\n 46.7,\n 47.5,\n 23.5,\n 15.0,\n 35.0,\n 35.0,\n 25.0,\n 23.5,\n 12.5,\n 23.5,\n 28.1,\n 37.9,\n 46.7,\n 26.2,\n 18.0,\n 16.2,\n 24.0,\n 12.5,\n 26.2,\n 10.3,\n 17.5,\n 62.5,\n 17.5,\n 20.0,\n 19.5,\n 13.5,\n 25.0,\n 10.5,\n 22.5,\n 20.4,\n 43.8,\n 28.8,\n 43.8,\n 37.5,\n 15.2,\n 18.0,\n 32.1,\n 37.5,\n 53.3,\n 50.0,\n 46.7,\n 47.5,\n 23.5,\n 15.0,\n 35.0,\n 35.0,\n 25.0,\n 23.5,\n 12.5,\n 23.5,\n 28.1,\n 37.9,\n 46.7,\n 26.2,\n 18.0,\n 16.2,\n 24.0,\n 12.5,\n 26.2]"
     },
     "execution_count": 83,
     "metadata": {},
     "output_type": "execute_result"
    }
   ],
   "source": [
    "平均薪资 = [ (int(i[0].split('-')[0]) +int(i[0].split('-')[1].split('k')[0]))/2    \\\n",
    " if len(i)==1 else round((int(i[0].split('-')[0]) +int(i[0].split('-')[1].split('k')[0]))/2*int(i[1])/12,1)     \\\n",
    " for i in 非薪资面议_detail        ]\n",
    "平均薪资"
   ],
   "metadata": {
    "collapsed": false
   }
  },
  {
   "cell_type": "code",
   "execution_count": 84,
   "outputs": [],
   "source": [
    "非薪资面议['平均薪资']=平均薪资"
   ],
   "metadata": {
    "collapsed": false
   }
  },
  {
   "cell_type": "code",
   "execution_count": 85,
   "outputs": [],
   "source": [
    "分地区_平均薪资 = 非薪资面议.groupby('地区').agg({'平均薪资':'median'})\n",
    "分地区_平均薪资[1:].to_excel('猎聘'+城市+'_'+关键词+'-平均薪资.xlsx')"
   ],
   "metadata": {
    "collapsed": false
   }
  },
  {
   "cell_type": "code",
   "execution_count": 86,
   "outputs": [],
   "source": [
    "# 分地区_平均薪资_values =  [round(i[0],1) for i in 分地区_平均薪资.values.tolist()]\n",
    "# 分地区_平均薪资_values = 分地区_平均薪资_values[1:]"
   ],
   "metadata": {
    "collapsed": false
   }
  },
  {
   "cell_type": "code",
   "execution_count": 87,
   "outputs": [],
   "source": [
    "# 分地区_平均薪资_index = 分地区_平均薪资.index.tolist()\n",
    "# 分地区_平均薪资_index = 分地区_平均薪资_index[1:]"
   ],
   "metadata": {
    "collapsed": false
   }
  },
  {
   "cell_type": "code",
   "execution_count": 88,
   "outputs": [
    {
     "data": {
      "text/plain": "[23.8, 35.0, 17.5, 62.5]"
     },
     "execution_count": 88,
     "metadata": {},
     "output_type": "execute_result"
    }
   ],
   "source": [
    "# 分地区_平均薪资_values"
   ],
   "metadata": {
    "collapsed": false
   }
  },
  {
   "cell_type": "code",
   "execution_count": 89,
   "outputs": [
    {
     "data": {
      "text/plain": "['北京-朝阳区', '北京-海淀区', '北京-西城区', '北京-通州区']"
     },
     "execution_count": 89,
     "metadata": {},
     "output_type": "execute_result"
    }
   ],
   "source": [
    "# 分地区_平均薪资_index"
   ],
   "metadata": {
    "collapsed": false
   }
  },
  {
   "cell_type": "code",
   "execution_count": 89,
   "outputs": [],
   "source": [],
   "metadata": {
    "collapsed": false
   }
  }
 ],
 "metadata": {
  "kernelspec": {
   "display_name": "Python 3",
   "language": "python",
   "name": "python3"
  },
  "language_info": {
   "codemirror_mode": {
    "name": "ipython",
    "version": 2
   },
   "file_extension": ".py",
   "mimetype": "text/x-python",
   "name": "python",
   "nbconvert_exporter": "python",
   "pygments_lexer": "ipython2",
   "version": "2.7.6"
  }
 },
 "nbformat": 4,
 "nbformat_minor": 0
}
