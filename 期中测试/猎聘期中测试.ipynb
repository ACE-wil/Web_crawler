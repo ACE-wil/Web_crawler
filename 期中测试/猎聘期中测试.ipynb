{
 "cells": [
  {
   "cell_type": "markdown",
   "source": [
    "# 1.定义北上广深城市代码"
   ],
   "metadata": {
    "collapsed": false
   }
  },
  {
   "cell_type": "code",
   "execution_count": 1,
   "outputs": [],
   "source": [
    "city = [\n",
    "    {'code': '010', 'name': '北京'},\n",
    " {'code': '020', 'name': '上海'},\n",
    "{'code': '050020', 'name': '广州'},\n",
    " {'code': '050090', 'name': '深圳'},\n",
    "]"
   ],
   "metadata": {
    "collapsed": false
   }
  },
  {
   "cell_type": "markdown",
   "source": [
    "# 2.定义学历对应的代码"
   ],
   "metadata": {
    "collapsed": false
   }
  },
  {
   "cell_type": "code",
   "execution_count": null,
   "outputs": [],
   "source": [
    "edulevel = [\n",
    "    {'code': \"010\", 'name': \"博士\"},\n",
    "{'code': \"020\", 'name': \"MBA/EMBA\"},\n",
    "{'code': \"030\", 'name': \"硕士\"},\n",
    "{'code': \"040\", 'name': \"本科\"},\n",
    "{'code': \"050\", 'name': \"大专\"},\n",
    "{'code': \"060\", 'name': \"中专/中技\"},\n",
    "{'code': \"080\", 'name': \"高中\"},\n",
    "{'code': \"090\", 'name': \"初中及以下\"},]"
   ],
   "metadata": {
    "collapsed": false
   }
  },
  {
   "cell_type": "markdown",
   "source": [
    "# 3.定义选择城市获取对应城市代码函数"
   ],
   "metadata": {
    "collapsed": false
   }
  },
  {
   "cell_type": "code",
   "execution_count": null,
   "outputs": [],
   "source": [
    "def choose_city(city_name):\n",
    "    for i in city:\n",
    "        if i['name'] == city_name:\n",
    "            return i['code']"
   ],
   "metadata": {
    "collapsed": false
   }
  },
  {
   "cell_type": "markdown",
   "source": [
    "# 4.定义选择学历获取对应的代码"
   ],
   "metadata": {
    "collapsed": false
   }
  },
  {
   "cell_type": "code",
   "execution_count": null,
   "outputs": [],
   "source": [
    "def choose_edu_level(edu_level):\n",
    "    for i in edulevel:\n",
    "        if i['name'] == edu_level:\n",
    "            return i['code']"
   ],
   "metadata": {
    "collapsed": false
   }
  },
  {
   "cell_type": "markdown",
   "source": [
    "# 5.定义请求头函数"
   ],
   "metadata": {
    "collapsed": false
   }
  },
  {
   "cell_type": "code",
   "execution_count": 3,
   "outputs": [],
   "source": [
    "def headers():\n",
    "    liepin_headers = {\n",
    "        \"Accept\": \"application/json, text/plain, */*\",\n",
    "        \"Accept-Encoding\": \"gzip, deflate, br\",\n",
    "        \"Accept-Language\": \"zh-CN,zh;q=0.9\",\n",
    "        \"Connection\": \"keep-alive\",\n",
    "        \"Content-Length\": \"487\",\n",
    "        \"Content-Type\": \"application/json;charset=UTF-8;\",\n",
    "        \"Cookie\": \"XSRF-TOKEN=zIARnRM0QQaLudJk_4OBXw; __gc_id=e936feed5bd343e5a73b304fa0d4ad5f; _ga=GA1.1.504776059.1697021947; __uuid=1697021948310.51; __tlog=1697021948354.48%7C00000000%7C00000000%7C00000000%7C00000000; Hm_lvt_a2647413544f5a04f00da7eee0d5e200=1697021951; acw_tc=2760828416970219810274366e53a098388abcfc886c89f5cbf2332344893f; Hm_lpvt_a2647413544f5a04f00da7eee0d5e200=1697021975; __session_seq=4; __uv_seq=4; __tlg_event_seq=24; _ga_54YTJKWN86=GS1.1.1697021946.1.1.1697023027.0.0.0\",\n",
    "        \"Host\": \"api-c.liepin.com\",\n",
    "        \"Origin\": \"https://www.liepin.com\",\n",
    "        \"Referer\": \"https://www.liepin.com/zhaopin/?currentPage=0&pageSize=40&city=050090&dq=050090&pubTime=&key=%E4%BA%A7%E5%93%81%E7%BB%8F%E7%90%86&suggestTag=&otherCity=&industry=&ckId=geq5b0qsi9umzbhn0oojbi2j8v8qu2bb&scene=condition&skId=geq5b0qsi9umzbhn0oojbi2j8v8qu2bb&fkId=geq5b0qsi9umzbhn0oojbi2j8v8qu2bb&sfrom=search_job_pc&suggestId=\",\n",
    "        \"Sec-Fetch-Dest\": \"empty\",\n",
    "        \"Sec-Fetch-Mode\": \"cors\",\n",
    "        \"Sec-Fetch-Site\": \"same-site\",\n",
    "        \"User-Agent\": \"Mozilla/5.0 (Windows NT 6.1; WOW64) AppleWebKit/537.36 (KHTML, like Gecko) Chrome/81.0.4044.122 Safari/537.36\",\n",
    "        \"X-Client-Type\": \"web\",\n",
    "        \"X-Fscp-Bi-Stat\": \"{\\\"location\\\": \\\"https://www.liepin.com/zhaopin/?currentPage=0&pageSize=40&city=050090&dq=050090&pubTime=&key=%E4%BA%A7%E5%93%81%E7%BB%8F%E7%90%86&suggestTag=&otherCity=&industry=&ckId=geq5b0qsi9umzbhn0oojbi2j8v8qu2bb&scene=condition&skId=geq5b0qsi9umzbhn0oojbi2j8v8qu2bb&fkId=geq5b0qsi9umzbhn0oojbi2j8v8qu2bb&sfrom=search_job_pc&suggestId=\\\"}\",\n",
    "        \"X-Fscp-Fe-Version\": \"\",\n",
    "        \"X-Fscp-Std-Info\": \"{\\\"client_id\\\": \\\"40108\\\"}\",\n",
    "        \"X-Fscp-Trace-Id\": \"187c89d1-ed19-48b2-99fe-85ceeb116589\",\n",
    "        \"X-Fscp-Version\": \"1.1\",\n",
    "        \"X-Requested-With\": \"XMLHttpRequest\",\n",
    "        \"X-XSRF-TOKEN\": \"zIARnRM0QQaLudJk_4OBXw\"\n",
    "    }\n",
    "\n",
    "    return liepin_headers"
   ],
   "metadata": {
    "collapsed": false
   }
  },
  {
   "cell_type": "markdown",
   "source": [
    "# 6.联网以及定义请求url，引入pandas和json库"
   ],
   "metadata": {
    "collapsed": false
   }
  },
  {
   "cell_type": "code",
   "execution_count": 4,
   "outputs": [],
   "source": [
    "import pandas\n",
    "from requests_html import HTMLSession\n",
    "import json\n",
    "import pandas as pd\n",
    "\n",
    "url = \"https://apic.liepin.com/api/com.liepin.searchfront4c.pc-search-job\""
   ],
   "metadata": {
    "collapsed": false
   }
  },
  {
   "cell_type": "markdown",
   "source": [
    "# 7.定义爬取猎聘网站函数，参数有城市和关键词"
   ],
   "metadata": {
    "collapsed": false
   }
  },
  {
   "cell_type": "code",
   "execution_count": 5,
   "outputs": [],
   "source": [
    "def payloadd(城市,关键词,学历):\n",
    "    payload = {\n",
    "    \"data\": {\n",
    "        \"mainSearchPcConditionForm\": {\n",
    "            \"city\": choose_city(城市),\n",
    "            \"dq\": choose_city(城市),\n",
    "            \"pubTime\": \"\",\n",
    "            \"currentPage\": 0,\n",
    "            \"pageSize\": 40,\n",
    "            \"key\": 关键词,\n",
    "            \"suggestTag\": \"\",\n",
    "            \"workYearCode\": '',\n",
    "            \"compId\": \"\",\n",
    "            \"compName\": \"\",\n",
    "            \"compTag\": \"\",\n",
    "            \"industry\": \"\",\n",
    "            \"salary\": \"\",\n",
    "            \"jobKind\": \"\",\n",
    "            \"compScale\": \"\",\n",
    "            \"compKind\": \"\",\n",
    "            \"compStage\": \"\",\n",
    "            \"eduLevel\": choose_edu_level(学历)\n",
    "        },\n",
    "        \"passThroughForm\": {\n",
    "            \"scene\": \"input\",\n",
    "            \"skId\": \"\",\n",
    "            \"fkId\": \"\",\n",
    "            \"ckId\": \"h2c8pxojavrmo1w785z7ueih2ybfpux8\",\n",
    "            \"suggest\": None\n",
    "        }\n",
    "    }\n",
    "}\n",
    "    return payload"
   ],
   "metadata": {
    "collapsed": false
   }
  },
  {
   "cell_type": "markdown",
   "source": [
    "# 8.输入对应内容获取求职信息"
   ],
   "metadata": {
    "collapsed": false
   }
  },
  {
   "cell_type": "code",
   "execution_count": 6,
   "outputs": [],
   "source": [
    "城市 = input('输入城市')"
   ],
   "metadata": {
    "collapsed": false
   }
  },
  {
   "cell_type": "code",
   "execution_count": 7,
   "outputs": [],
   "source": [
    "关键词 = input('关键词')"
   ],
   "metadata": {
    "collapsed": false
   }
  },
  {
   "cell_type": "code",
   "execution_count": null,
   "outputs": [],
   "source": [
    "学历 = input('学历')"
   ],
   "metadata": {
    "collapsed": false
   }
  },
  {
   "cell_type": "markdown",
   "source": [
    "# 9.请求猎聘网数据"
   ],
   "metadata": {
    "collapsed": false
   }
  },
  {
   "cell_type": "code",
   "execution_count": 8,
   "outputs": [
    {
     "data": {
      "text/plain": "{'flag': 1,\n 'data': {'data': {'jobCardList': [{'dataParams': '{\"userId\":\"aadd6feb5284fb88fe617cf9abcae704\",\"imId\":\"26589f3a62c07bda36d8c7038f74fcb7\",\"imUserType\":\"2\",\"jobId\":\"58273773\",\"recruiterName\":\"黄女士\",\"jobKind\":\"2\",\"recruiterPhoto\":\"64b290564767061a4c09cecc04u.png\"}',\n     'job': {'labels': ['文案策划',\n       '媒介策划',\n       '广告策划',\n       '网站策划',\n       '营销策划',\n       '客户管理',\n       '网络媒体',\n       '移动媒体',\n       '广告媒体',\n       '乙方公司背景'],\n      'refreshTime': '20230504175401',\n      'dq': '上海-嘉定区',\n      'jobId': '58273773',\n      'jobKind': '2',\n      'link': 'https://www.liepin.com/job/1958273773.shtml',\n      'topJob': False,\n      'title': '广告策划高级经理',\n      'salary': '15-35k·15薪',\n      'dataPromId': 'd_sfrom=search_prime&d_ckId=null&d_curPage=0&d_pageSize=40&d_headId=null&d_posi=0&skId=h2c8pxojavrmo1w785z7ueih2ybfpux8&fkId=h2c8pxojavrmo1w785z7ueih2ybfpux8&ckId=h2c8pxojavrmo1w785z7ueih2ybfpux8&sfrom=search_job_pc&curPage=0&pageSize=40&index=0',\n      'pcOuterLink': '',\n      'h5OuterLink': '',\n      'requireWorkYears': '3-5年',\n      'requireEduLevel': '本科',\n      'advViewFlag': False},\n     'recruiter': {'imId': '26589f3a62c07bda36d8c7038f74fcb7',\n      'imUserType': '2',\n      'recruiterName': '黄女士',\n      'recruiterTitle': '招聘经理',\n      'chatted': False,\n      'recruiterId': 'aadd6feb5284fb88fe617cf9abcae704',\n      'recruiterPhoto': '64b290564767061a4c09cecc04u.png'},\n     'comp': {'compId': 9770323,\n      'compStage': '港股上市',\n      'compLogo': '5f3b73cb9d37de587955cfe104u.png',\n      'compScale': '10000人以上',\n      'link': 'https://www.liepin.com/company/9770323/',\n      'compName': '京东物流',\n      'compIndustry': '货运/物流/仓储'},\n     'dataInfo': '%7B%22ckId%22%3A%22h2c8pxojavrmo1w785z7ueih2ybfpux8%22%2C%22scene%22%3A%22input%22%2C%22skId%22%3A%22h2c8pxojavrmo1w785z7ueih2ybfpux8%22%2C%22fkId%22%3A%22h2c8pxojavrmo1w785z7ueih2ybfpux8%22%2C%22pageSize%22%3A%2240%22%2C%22curPage%22%3A%220%22%2C%22sfrom%22%3A%22search_job_pc%22%2C%22jobId%22%3A%2258273773%22%2C%22jobKind%22%3A%222%22%2C%22d_curPage%22%3A%220%22%2C%22d_pageSize%22%3A%2240%22%2C%22as_from%22%3A%22search_prime%22%7D'},\n    {'dataParams': '{\"userId\":\"7cbd01d351415a15199e859559a1e25d\",\"imId\":\"a4b4d56941978be2fbc645f98a948c5b\",\"imUserType\":\"2\",\"jobId\":\"58589485\",\"recruiterName\":\"白女士\",\"jobKind\":\"2\",\"recruiterPhoto\":\"5f8f9866dfb13a7dee342f1808u.jpg\"}',\n     'job': {'labels': ['网站策划',\n       '文案策划',\n       '网络媒介',\n       '网络媒体',\n       '广告/传媒/文化',\n       'IT/互联网/软件'],\n      'refreshTime': '20230516151747',\n      'dq': '上海-黄浦区',\n      'jobId': '58589485',\n      'jobKind': '2',\n      'link': 'https://www.liepin.com/job/1958589485.shtml',\n      'topJob': False,\n      'title': '酒水饮料商业广告策划',\n      'salary': '20-40k·15薪',\n      'dataPromId': 'd_sfrom=search_prime&d_ckId=null&d_curPage=0&d_pageSize=40&d_headId=null&d_posi=1&skId=h2c8pxojavrmo1w785z7ueih2ybfpux8&fkId=h2c8pxojavrmo1w785z7ueih2ybfpux8&ckId=h2c8pxojavrmo1w785z7ueih2ybfpux8&sfrom=search_job_pc&curPage=0&pageSize=40&index=1',\n      'pcOuterLink': '',\n      'h5OuterLink': '',\n      'requireWorkYears': '3-5年',\n      'requireEduLevel': '统招本科',\n      'advViewFlag': False},\n     'recruiter': {'imId': 'a4b4d56941978be2fbc645f98a948c5b',\n      'imUserType': '2',\n      'recruiterName': '白女士',\n      'recruiterTitle': 'hr',\n      'chatted': False,\n      'recruiterId': '7cbd01d351415a15199e859559a1e25d',\n      'recruiterPhoto': '5f8f9866dfb13a7dee342f1808u.jpg'},\n     'comp': {'compId': 7921271,\n      'compStage': 'D轮',\n      'compLogo': '5952248270327b30a4cc59d605a.jpg',\n      'compScale': '1000-2000人',\n      'link': 'https://www.liepin.com/company/7921271/',\n      'compName': '小红书',\n      'compIndustry': '互联网'},\n     'dataInfo': '%7B%22ckId%22%3A%22h2c8pxojavrmo1w785z7ueih2ybfpux8%22%2C%22scene%22%3A%22input%22%2C%22skId%22%3A%22h2c8pxojavrmo1w785z7ueih2ybfpux8%22%2C%22fkId%22%3A%22h2c8pxojavrmo1w785z7ueih2ybfpux8%22%2C%22pageSize%22%3A%2240%22%2C%22curPage%22%3A%220%22%2C%22sfrom%22%3A%22search_job_pc%22%2C%22jobId%22%3A%2258589485%22%2C%22jobKind%22%3A%222%22%2C%22d_curPage%22%3A%220%22%2C%22d_pageSize%22%3A%2240%22%2C%22as_from%22%3A%22search_prime%22%7D'},\n    {'dataParams': '{\"userId\":\"db75ed61406d3107ce2ed62f8a220a77\",\"imId\":\"7f39f748a96642b5f4067025f1d6ce6f\",\"imUserType\":\"2\",\"jobId\":\"51559471\",\"recruiterName\":\"李女士\",\"jobKind\":\"2\",\"recruiterPhoto\":\"5f8f986779c7cc70efbf36c008u.jpg\"}',\n     'job': {'labels': [],\n      'refreshTime': '20220801201628',\n      'dq': '上海-浦东新区',\n      'jobId': '51559471',\n      'jobKind': '2',\n      'link': 'https://www.liepin.com/job/1951559471.shtml',\n      'topJob': False,\n      'title': '广告策划运营',\n      'salary': '20-35k·16薪',\n      'dataPromId': 'd_sfrom=search_prime&d_ckId=null&d_curPage=0&d_pageSize=40&d_headId=null&d_posi=2&skId=h2c8pxojavrmo1w785z7ueih2ybfpux8&fkId=h2c8pxojavrmo1w785z7ueih2ybfpux8&ckId=h2c8pxojavrmo1w785z7ueih2ybfpux8&sfrom=search_job_pc&curPage=0&pageSize=40&index=2',\n      'pcOuterLink': '',\n      'h5OuterLink': '',\n      'requireWorkYears': '5-10年',\n      'requireEduLevel': '本科',\n      'advViewFlag': False},\n     'recruiter': {'imId': '7f39f748a96642b5f4067025f1d6ce6f',\n      'imUserType': '2',\n      'recruiterName': '李女士',\n      'recruiterTitle': '市场经理',\n      'chatted': False,\n      'recruiterId': 'db75ed61406d3107ce2ed62f8a220a77',\n      'recruiterPhoto': '5f8f986779c7cc70efbf36c008u.jpg'},\n     'comp': {'compId': 884492,\n      'compStage': '美股上市',\n      'compLogo': '5bfe93af74719d9f609aaaef03a.png',\n      'compScale': '10000人以上',\n      'link': 'https://www.liepin.com/company/884492/',\n      'compName': 'Baidu',\n      'compIndustry': '互联网'},\n     'dataInfo': '%7B%22ckId%22%3A%22h2c8pxojavrmo1w785z7ueih2ybfpux8%22%2C%22scene%22%3A%22input%22%2C%22skId%22%3A%22h2c8pxojavrmo1w785z7ueih2ybfpux8%22%2C%22fkId%22%3A%22h2c8pxojavrmo1w785z7ueih2ybfpux8%22%2C%22pageSize%22%3A%2240%22%2C%22curPage%22%3A%220%22%2C%22sfrom%22%3A%22search_job_pc%22%2C%22jobId%22%3A%2251559471%22%2C%22jobKind%22%3A%222%22%2C%22d_curPage%22%3A%220%22%2C%22d_pageSize%22%3A%2240%22%2C%22as_from%22%3A%22search_prime%22%7D'},\n    {'dataParams': '{\"userId\":\"499968e9be21bd7e3829e65eddd95de3\",\"imId\":\"361c2cc6afb54c5b062c1b1ee9c7454d\",\"imUserType\":\"2\",\"jobId\":\"48397647\",\"recruiterName\":\"应先生\",\"jobKind\":\"2\",\"recruiterPhoto\":\"5f8f986aea60860b75384fab08u.jpg\"}',\n     'job': {'labels': ['广告策划', '广告媒介', 'KOL'],\n      'refreshTime': '20230111102934',\n      'dq': '上海',\n      'jobId': '48397647',\n      'jobKind': '2',\n      'link': 'https://www.liepin.com/job/1948397647.shtml',\n      'topJob': False,\n      'title': '广告策划',\n      'salary': '12-18k·13薪',\n      'dataPromId': 'd_sfrom=search_prime&d_ckId=null&d_curPage=0&d_pageSize=40&d_headId=null&d_posi=3&skId=h2c8pxojavrmo1w785z7ueih2ybfpux8&fkId=h2c8pxojavrmo1w785z7ueih2ybfpux8&ckId=h2c8pxojavrmo1w785z7ueih2ybfpux8&sfrom=search_job_pc&curPage=0&pageSize=40&index=3',\n      'pcOuterLink': '',\n      'h5OuterLink': '',\n      'requireWorkYears': '1-3年',\n      'requireEduLevel': '统招本科',\n      'advViewFlag': False},\n     'recruiter': {'imId': '361c2cc6afb54c5b062c1b1ee9c7454d',\n      'imUserType': '2',\n      'recruiterName': '应先生',\n      'recruiterTitle': 'HR',\n      'chatted': False,\n      'recruiterId': '499968e9be21bd7e3829e65eddd95de3',\n      'recruiterPhoto': '5f8f986aea60860b75384fab08u.jpg'},\n     'comp': {'compId': 8440876,\n      'compStage': '融资未公开',\n      'compLogo': '5513cbc20cf2de3b2e1d28b701a.jpg',\n      'compScale': '1-49人',\n      'link': 'https://www.liepin.com/company/8440876/',\n      'compName': '上海萌尔克文化传播有限公司',\n      'compIndustry': '广告/公关/会展'},\n     'dataInfo': '%7B%22ckId%22%3A%22h2c8pxojavrmo1w785z7ueih2ybfpux8%22%2C%22scene%22%3A%22input%22%2C%22skId%22%3A%22h2c8pxojavrmo1w785z7ueih2ybfpux8%22%2C%22fkId%22%3A%22h2c8pxojavrmo1w785z7ueih2ybfpux8%22%2C%22pageSize%22%3A%2240%22%2C%22curPage%22%3A%220%22%2C%22sfrom%22%3A%22search_job_pc%22%2C%22jobId%22%3A%2248397647%22%2C%22jobKind%22%3A%222%22%2C%22d_curPage%22%3A%220%22%2C%22d_pageSize%22%3A%2240%22%2C%22as_from%22%3A%22search_prime%22%7D'},\n    {'dataParams': '{\"userId\":\"f69732438414537b7db77b0a8f846828\",\"imId\":\"b244958062eb0c38e7b184a1ccff1ea4\",\"imUserType\":\"2\",\"jobId\":\"62199805\",\"recruiterName\":\"宋女士\",\"jobKind\":\"2\",\"recruiterPhoto\":\"64f85453af493b045620bfad03u.png\"}',\n     'job': {'labels': ['电影传媒',\n       '广告策划',\n       '文案策划',\n       '户外媒介',\n       '传统媒介',\n       '乙方公司背景',\n       '广告/传媒/文化'],\n      'refreshTime': '20231018173810',\n      'dq': '上海-徐汇区',\n      'jobId': '62199805',\n      'jobKind': '2',\n      'link': 'https://www.liepin.com/job/1962199805.shtml',\n      'topJob': False,\n      'title': '广告策划经理',\n      'salary': '8-10k',\n      'dataPromId': 'd_sfrom=search_prime&d_ckId=null&d_curPage=0&d_pageSize=40&d_headId=null&d_posi=4&skId=h2c8pxojavrmo1w785z7ueih2ybfpux8&fkId=h2c8pxojavrmo1w785z7ueih2ybfpux8&ckId=h2c8pxojavrmo1w785z7ueih2ybfpux8&sfrom=search_job_pc&curPage=0&pageSize=40&index=4',\n      'pcOuterLink': '',\n      'h5OuterLink': '',\n      'requireWorkYears': '3-5年',\n      'requireEduLevel': '本科',\n      'advViewFlag': False},\n     'recruiter': {'imId': 'b244958062eb0c38e7b184a1ccff1ea4',\n      'imUserType': '2',\n      'recruiterName': '宋女士',\n      'recruiterTitle': '人事总监',\n      'chatted': False,\n      'recruiterId': 'f69732438414537b7db77b0a8f846828',\n      'recruiterPhoto': '64f85453af493b045620bfad03u.png'},\n     'comp': {'compId': 13646267,\n      'compLogo': '652fa621b31f5c6e109dd24d02u.jpg',\n      'compScale': '1-49人',\n      'link': 'https://www.liepin.com/company/13646267/',\n      'compName': '千语智彤',\n      'compIndustry': '文化艺术业'},\n     'dataInfo': '%7B%22ckId%22%3A%22h2c8pxojavrmo1w785z7ueih2ybfpux8%22%2C%22scene%22%3A%22input%22%2C%22skId%22%3A%22h2c8pxojavrmo1w785z7ueih2ybfpux8%22%2C%22fkId%22%3A%22h2c8pxojavrmo1w785z7ueih2ybfpux8%22%2C%22pageSize%22%3A%2240%22%2C%22curPage%22%3A%220%22%2C%22sfrom%22%3A%22search_job_pc%22%2C%22jobId%22%3A%2262199805%22%2C%22jobKind%22%3A%222%22%2C%22d_curPage%22%3A%220%22%2C%22d_pageSize%22%3A%2240%22%2C%22as_from%22%3A%22search_prime%22%7D'},\n    {'dataParams': '{\"userId\":\"7cbd01d351415a15199e859559a1e25d\",\"imId\":\"a4b4d56941978be2fbc645f98a948c5b\",\"imUserType\":\"2\",\"jobId\":\"56659041\",\"recruiterName\":\"白女士\",\"jobKind\":\"2\",\"recruiterPhoto\":\"5f8f9866dfb13a7dee342f1808u.jpg\"}',\n     'job': {'labels': ['网站策划',\n       '文案策划',\n       '网络媒介',\n       '网络媒体',\n       '广告/传媒/文化',\n       'IT/互联网/软件'],\n      'refreshTime': '20230303093945',\n      'dq': '上海-黄浦区',\n      'jobId': '56659041',\n      'jobKind': '2',\n      'link': 'https://www.liepin.com/job/1956659041.shtml',\n      'topJob': False,\n      'title': '商业化广告策划-大健康行业',\n      'salary': '20-40k·15薪',\n      'dataPromId': 'd_sfrom=search_prime&d_ckId=null&d_curPage=0&d_pageSize=40&d_headId=null&d_posi=5&skId=h2c8pxojavrmo1w785z7ueih2ybfpux8&fkId=h2c8pxojavrmo1w785z7ueih2ybfpux8&ckId=h2c8pxojavrmo1w785z7ueih2ybfpux8&sfrom=search_job_pc&curPage=0&pageSize=40&index=5',\n      'pcOuterLink': '',\n      'h5OuterLink': '',\n      'requireWorkYears': '3-5年',\n      'requireEduLevel': '本科',\n      'advViewFlag': False},\n     'recruiter': {'imId': 'a4b4d56941978be2fbc645f98a948c5b',\n      'imUserType': '2',\n      'recruiterName': '白女士',\n      'recruiterTitle': 'hr',\n      'chatted': False,\n      'recruiterId': '7cbd01d351415a15199e859559a1e25d',\n      'recruiterPhoto': '5f8f9866dfb13a7dee342f1808u.jpg'},\n     'comp': {'compId': 7921271,\n      'compStage': 'D轮',\n      'compLogo': '5952248270327b30a4cc59d605a.jpg',\n      'compScale': '1000-2000人',\n      'link': 'https://www.liepin.com/company/7921271/',\n      'compName': '小红书',\n      'compIndustry': '互联网'},\n     'dataInfo': '%7B%22ckId%22%3A%22h2c8pxojavrmo1w785z7ueih2ybfpux8%22%2C%22scene%22%3A%22input%22%2C%22skId%22%3A%22h2c8pxojavrmo1w785z7ueih2ybfpux8%22%2C%22fkId%22%3A%22h2c8pxojavrmo1w785z7ueih2ybfpux8%22%2C%22pageSize%22%3A%2240%22%2C%22curPage%22%3A%220%22%2C%22sfrom%22%3A%22search_job_pc%22%2C%22jobId%22%3A%2256659041%22%2C%22jobKind%22%3A%222%22%2C%22d_curPage%22%3A%220%22%2C%22d_pageSize%22%3A%2240%22%2C%22as_from%22%3A%22search_prime%22%7D'},\n    {'dataParams': '{\"userId\":\"8c0a8c209a212f433ef2a5046ca84395\",\"imId\":\"55377d294232a6e2655b7446ba4011f6\",\"imUserType\":\"2\",\"jobId\":\"44112105\",\"recruiterName\":\"洪女士\",\"jobKind\":\"2\",\"recruiterPhoto\":\"5f8f9866dfb13a7dee342f1808u.jpg\"}',\n     'job': {'labels': ['广告策划',\n       '品牌策划',\n       '营销策划',\n       '广告媒介',\n       'MCN',\n       '社交媒体',\n       '社交媒介',\n       '广告/传媒/文化'],\n      'refreshTime': '20220115113536',\n      'dq': '上海-普陀区',\n      'jobId': '44112105',\n      'jobKind': '2',\n      'link': 'https://www.liepin.com/job/1944112105.shtml',\n      'topJob': False,\n      'title': '广告策划',\n      'salary': '8-15k',\n      'dataPromId': 'd_sfrom=search_prime&d_ckId=null&d_curPage=0&d_pageSize=40&d_headId=null&d_posi=6&skId=h2c8pxojavrmo1w785z7ueih2ybfpux8&fkId=h2c8pxojavrmo1w785z7ueih2ybfpux8&ckId=h2c8pxojavrmo1w785z7ueih2ybfpux8&sfrom=search_job_pc&curPage=0&pageSize=40&index=6',\n      'pcOuterLink': '',\n      'h5OuterLink': '',\n      'requireWorkYears': '1-3年',\n      'requireEduLevel': '本科',\n      'advViewFlag': False},\n     'recruiter': {'imId': '55377d294232a6e2655b7446ba4011f6',\n      'imUserType': '2',\n      'recruiterName': '洪女士',\n      'recruiterTitle': 'HR',\n      'chatted': False,\n      'recruiterId': '8c0a8c209a212f433ef2a5046ca84395',\n      'recruiterPhoto': '5f8f9866dfb13a7dee342f1808u.jpg'},\n     'comp': {'compId': 9538095,\n      'compStage': '融资未公开',\n      'compLogo': '617a1cb8afa07b12e6e39aab07u.jpg',\n      'compScale': '1-49人',\n      'link': 'https://www.liepin.com/company/9538095/',\n      'compName': '上海众腾网络',\n      'compIndustry': '广告/公关/会展'},\n     'dataInfo': '%7B%22ckId%22%3A%22h2c8pxojavrmo1w785z7ueih2ybfpux8%22%2C%22scene%22%3A%22input%22%2C%22skId%22%3A%22h2c8pxojavrmo1w785z7ueih2ybfpux8%22%2C%22fkId%22%3A%22h2c8pxojavrmo1w785z7ueih2ybfpux8%22%2C%22pageSize%22%3A%2240%22%2C%22curPage%22%3A%220%22%2C%22sfrom%22%3A%22search_job_pc%22%2C%22jobId%22%3A%2244112105%22%2C%22jobKind%22%3A%222%22%2C%22d_curPage%22%3A%220%22%2C%22d_pageSize%22%3A%2240%22%2C%22as_from%22%3A%22search_prime%22%7D'},\n    {'dataParams': '{\"userId\":\"1758d4eb6013f023a30bb45c772903a1\",\"imId\":\"f55503b3057ce2051acc4b10d8803776\",\"imUserType\":\"2\",\"jobId\":\"55304185\",\"recruiterName\":\"熊女士\",\"jobKind\":\"2\",\"recruiterPhoto\":\"5f8f9863f6d1ab58476f246a08u.jpg\"}',\n     'job': {'labels': ['网站策划',\n       '文案策划',\n       '网络媒介',\n       '网络媒体',\n       '广告/传媒/文化',\n       'IT/互联网/软件',\n       '服务业'],\n      'refreshTime': '20230324120117',\n      'dq': '上海-黄浦区',\n      'jobId': '55304185',\n      'jobKind': '2',\n      'link': 'https://www.liepin.com/job/1955304185.shtml',\n      'topJob': False,\n      'title': '商业化广告策划-母婴行业',\n      'salary': '20-40k·15薪',\n      'dataPromId': 'd_sfrom=search_prime&d_ckId=null&d_curPage=0&d_pageSize=40&d_headId=null&d_posi=7&skId=h2c8pxojavrmo1w785z7ueih2ybfpux8&fkId=h2c8pxojavrmo1w785z7ueih2ybfpux8&ckId=h2c8pxojavrmo1w785z7ueih2ybfpux8&sfrom=search_job_pc&curPage=0&pageSize=40&index=7',\n      'pcOuterLink': '',\n      'h5OuterLink': '',\n      'requireWorkYears': '3-5年',\n      'requireEduLevel': '本科',\n      'advViewFlag': False},\n     'recruiter': {'imId': 'f55503b3057ce2051acc4b10d8803776',\n      'imUserType': '2',\n      'recruiterName': '熊女士',\n      'recruiterTitle': 'hr',\n      'chatted': False,\n      'recruiterId': '1758d4eb6013f023a30bb45c772903a1',\n      'recruiterPhoto': '5f8f9863f6d1ab58476f246a08u.jpg'},\n     'comp': {'compId': 7921271,\n      'compStage': 'D轮',\n      'compLogo': '5952248270327b30a4cc59d605a.jpg',\n      'compScale': '1000-2000人',\n      'link': 'https://www.liepin.com/company/7921271/',\n      'compName': '小红书',\n      'compIndustry': '互联网'},\n     'dataInfo': '%7B%22ckId%22%3A%22h2c8pxojavrmo1w785z7ueih2ybfpux8%22%2C%22scene%22%3A%22input%22%2C%22skId%22%3A%22h2c8pxojavrmo1w785z7ueih2ybfpux8%22%2C%22fkId%22%3A%22h2c8pxojavrmo1w785z7ueih2ybfpux8%22%2C%22pageSize%22%3A%2240%22%2C%22curPage%22%3A%220%22%2C%22sfrom%22%3A%22search_job_pc%22%2C%22jobId%22%3A%2255304185%22%2C%22jobKind%22%3A%222%22%2C%22d_curPage%22%3A%220%22%2C%22d_pageSize%22%3A%2240%22%2C%22as_from%22%3A%22search_prime%22%7D'},\n    {'dataParams': '{\"userId\":\"912a30f19d493c65b4d6707a5c7b20db\",\"imId\":\"f1bd39cef69adcf28fa263ed17de85b1\",\"imUserType\":\"2\",\"jobId\":\"30888969\",\"recruiterName\":\"王女士\",\"jobKind\":\"2\",\"recruiterPhoto\":\"5f8f98648dbe6273dcf8515508u.jpg\"}',\n     'job': {'labels': ['公关文案', '新媒体文案', '活动文案', '渠道推广'],\n      'refreshTime': '20210510142617',\n      'dq': '上海-长宁区',\n      'jobId': '30888969',\n      'jobKind': '2',\n      'link': 'https://www.liepin.com/job/1930888969.shtml',\n      'topJob': False,\n      'title': '资深广告策划',\n      'salary': '10-20k',\n      'dataPromId': 'd_sfrom=search_prime&d_ckId=null&d_curPage=0&d_pageSize=40&d_headId=null&d_posi=8&skId=h2c8pxojavrmo1w785z7ueih2ybfpux8&fkId=h2c8pxojavrmo1w785z7ueih2ybfpux8&ckId=h2c8pxojavrmo1w785z7ueih2ybfpux8&sfrom=search_job_pc&curPage=0&pageSize=40&index=8',\n      'pcOuterLink': '',\n      'h5OuterLink': '',\n      'requireWorkYears': '3-5年',\n      'requireEduLevel': '本科',\n      'advViewFlag': False},\n     'recruiter': {'imId': 'f1bd39cef69adcf28fa263ed17de85b1',\n      'imUserType': '2',\n      'recruiterName': '王女士',\n      'recruiterTitle': '资深广告策划',\n      'chatted': False,\n      'recruiterId': '912a30f19d493c65b4d6707a5c7b20db',\n      'recruiterPhoto': '5f8f98648dbe6273dcf8515508u.jpg'},\n     'comp': {'compId': 7917369,\n      'compStage': 'B轮',\n      'compLogo': '5bfea0a674719d2aa34c012803a.png',\n      'compScale': '500-999人',\n      'link': 'https://www.liepin.com/company/7917369/',\n      'compName': '美宁软件',\n      'compIndustry': '互联网'},\n     'dataInfo': '%7B%22ckId%22%3A%22h2c8pxojavrmo1w785z7ueih2ybfpux8%22%2C%22scene%22%3A%22input%22%2C%22skId%22%3A%22h2c8pxojavrmo1w785z7ueih2ybfpux8%22%2C%22fkId%22%3A%22h2c8pxojavrmo1w785z7ueih2ybfpux8%22%2C%22pageSize%22%3A%2240%22%2C%22curPage%22%3A%220%22%2C%22sfrom%22%3A%22search_job_pc%22%2C%22jobId%22%3A%2230888969%22%2C%22jobKind%22%3A%222%22%2C%22d_curPage%22%3A%220%22%2C%22d_pageSize%22%3A%2240%22%2C%22as_from%22%3A%22search_prime%22%7D'},\n    {'dataParams': '{\"userId\":\"e5479901c87f9000e469001437fc9a4e\",\"imId\":\"48b544d133f6ea80d6536557a2c53778\",\"imUserType\":\"2\",\"jobId\":\"62724203\",\"recruiterName\":\"孙女士\",\"jobKind\":\"2\",\"recruiterPhoto\":\"5f8f9863f6d1ab58476f246a08u.jpg\"}',\n     'job': {'labels': ['文案策划', '营销策划', '广告/传媒/文化'],\n      'refreshTime': '20231106193131',\n      'dq': '上海-静安区',\n      'jobId': '62724203',\n      'jobKind': '2',\n      'link': 'https://www.liepin.com/job/1962724203.shtml',\n      'topJob': False,\n      'title': '广告策划(J11378)',\n      'salary': '20-30k·14薪',\n      'dataPromId': 'd_sfrom=search_prime&d_ckId=null&d_curPage=0&d_pageSize=40&d_headId=null&d_posi=9&skId=h2c8pxojavrmo1w785z7ueih2ybfpux8&fkId=h2c8pxojavrmo1w785z7ueih2ybfpux8&ckId=h2c8pxojavrmo1w785z7ueih2ybfpux8&sfrom=search_job_pc&curPage=0&pageSize=40&index=9',\n      'pcOuterLink': '',\n      'h5OuterLink': '',\n      'requireWorkYears': '3-5年',\n      'requireEduLevel': '本科',\n      'advViewFlag': False},\n     'recruiter': {'imId': '48b544d133f6ea80d6536557a2c53778',\n      'imUserType': '2',\n      'recruiterName': '孙女士',\n      'recruiterTitle': '高级招聘专员',\n      'chatted': False,\n      'recruiterId': 'e5479901c87f9000e469001437fc9a4e',\n      'recruiterPhoto': '5f8f9863f6d1ab58476f246a08u.jpg'},\n     'comp': {'compId': 8664154,\n      'compLogo': '5b7d17208e5016e5665c4b0104a.png',\n      'compScale': '1000-2000人',\n      'link': 'https://www.liepin.com/company/8664154/',\n      'compName': '北京卡路里信息技术有限公司',\n      'compIndustry': '互联网'},\n     'dataInfo': '%7B%22ckId%22%3A%22h2c8pxojavrmo1w785z7ueih2ybfpux8%22%2C%22scene%22%3A%22input%22%2C%22skId%22%3A%22h2c8pxojavrmo1w785z7ueih2ybfpux8%22%2C%22fkId%22%3A%22h2c8pxojavrmo1w785z7ueih2ybfpux8%22%2C%22pageSize%22%3A%2240%22%2C%22curPage%22%3A%220%22%2C%22sfrom%22%3A%22search_job_pc%22%2C%22jobId%22%3A%2262724203%22%2C%22jobKind%22%3A%222%22%2C%22d_curPage%22%3A%220%22%2C%22d_pageSize%22%3A%2240%22%2C%22as_from%22%3A%22search_prime%22%7D'},\n    {'dataParams': '{\"userId\":\"46b39021748ca7395fd60ed56980d49b\",\"imId\":\"8c909c76a975f69fe3a362ce23913155\",\"imUserType\":\"2\",\"jobId\":\"63078139\",\"recruiterName\":\"倪先生\",\"jobKind\":\"2\",\"recruiterPhoto\":\"5f8f9868f6d1ab58476f24a008u.jpg\"}',\n     'job': {'labels': ['广告策划', '新媒体策划', '营销策划', '品牌策划'],\n      'refreshTime': '20231121150522',\n      'dq': '上海-普陀区',\n      'jobId': '63078139',\n      'jobKind': '2',\n      'link': 'https://www.liepin.com/job/1963078139.shtml',\n      'topJob': False,\n      'title': '广告策划总监',\n      'salary': '18-26k·13薪',\n      'dataPromId': 'd_sfrom=search_prime&d_ckId=null&d_curPage=0&d_pageSize=40&d_headId=null&d_posi=10&skId=h2c8pxojavrmo1w785z7ueih2ybfpux8&fkId=h2c8pxojavrmo1w785z7ueih2ybfpux8&ckId=h2c8pxojavrmo1w785z7ueih2ybfpux8&sfrom=search_job_pc&curPage=0&pageSize=40&index=10',\n      'pcOuterLink': '',\n      'h5OuterLink': '',\n      'requireWorkYears': '5-10年',\n      'requireEduLevel': '统招本科',\n      'advViewFlag': False},\n     'recruiter': {'imId': '8c909c76a975f69fe3a362ce23913155',\n      'imUserType': '2',\n      'recruiterName': '倪先生',\n      'recruiterTitle': '人力部主管',\n      'chatted': False,\n      'recruiterId': '46b39021748ca7395fd60ed56980d49b',\n      'recruiterPhoto': '5f8f9868f6d1ab58476f24a008u.jpg'},\n     'comp': {'compId': 7969094,\n      'compLogo': '5cb005834146387bda37e60801u.jpg',\n      'compScale': '1-49人',\n      'link': 'https://www.liepin.com/company/7969094/',\n      'compName': '矩正广告',\n      'compIndustry': '广告/公关/会展'},\n     'dataInfo': '%7B%22ckId%22%3A%22h2c8pxojavrmo1w785z7ueih2ybfpux8%22%2C%22scene%22%3A%22input%22%2C%22skId%22%3A%22h2c8pxojavrmo1w785z7ueih2ybfpux8%22%2C%22fkId%22%3A%22h2c8pxojavrmo1w785z7ueih2ybfpux8%22%2C%22pageSize%22%3A%2240%22%2C%22curPage%22%3A%220%22%2C%22sfrom%22%3A%22search_job_pc%22%2C%22jobId%22%3A%2263078139%22%2C%22jobKind%22%3A%222%22%2C%22d_curPage%22%3A%220%22%2C%22d_pageSize%22%3A%2240%22%2C%22as_from%22%3A%22search_prime%22%7D'},\n    {'dataParams': '{\"userId\":\"8ae5d400d0d9447855bf1dccde12843b\",\"imId\":\"88732b11b8592de6e3a362ce23913155\",\"imUserType\":\"2\",\"jobId\":\"56110721\",\"recruiterName\":\"梁女士\",\"jobKind\":\"2\",\"recruiterPhoto\":\"62fb2bc7137c0235dfdf8b7f03u.png\"}',\n     'job': {'labels': ['线上', '广告公司', '4A公司背景'],\n      'refreshTime': '20231124114034',\n      'dq': '上海-浦东新区',\n      'jobId': '56110721',\n      'jobKind': '2',\n      'link': 'https://www.liepin.com/job/1956110721.shtml',\n      'topJob': False,\n      'title': '广告策划经理',\n      'salary': '10-15k·13薪',\n      'dataPromId': 'd_sfrom=search_prime&d_ckId=null&d_curPage=0&d_pageSize=40&d_headId=null&d_posi=11&skId=h2c8pxojavrmo1w785z7ueih2ybfpux8&fkId=h2c8pxojavrmo1w785z7ueih2ybfpux8&ckId=h2c8pxojavrmo1w785z7ueih2ybfpux8&sfrom=search_job_pc&curPage=0&pageSize=40&index=11',\n      'pcOuterLink': '',\n      'h5OuterLink': '',\n      'requireWorkYears': '3-5年',\n      'requireEduLevel': '本科',\n      'advViewFlag': False},\n     'recruiter': {'imId': '88732b11b8592de6e3a362ce23913155',\n      'imUserType': '2',\n      'recruiterName': '梁女士',\n      'recruiterTitle': '人事经理',\n      'chatted': False,\n      'recruiterId': '8ae5d400d0d9447855bf1dccde12843b',\n      'recruiterPhoto': '62fb2bc7137c0235dfdf8b7f03u.png'},\n     'comp': {'compId': 8277960,\n      'compStage': '融资未公开',\n      'compLogo': '5bfe99e374719df0ac99b8df03a.png',\n      'compScale': '100-499人',\n      'link': 'https://www.liepin.com/company/8277960/',\n      'compName': '上海千守营销策划有限公司',\n      'compIndustry': '广告/公关/会展'},\n     'dataInfo': '%7B%22ckId%22%3A%22h2c8pxojavrmo1w785z7ueih2ybfpux8%22%2C%22scene%22%3A%22input%22%2C%22skId%22%3A%22h2c8pxojavrmo1w785z7ueih2ybfpux8%22%2C%22fkId%22%3A%22h2c8pxojavrmo1w785z7ueih2ybfpux8%22%2C%22pageSize%22%3A%2240%22%2C%22curPage%22%3A%220%22%2C%22sfrom%22%3A%22search_job_pc%22%2C%22jobId%22%3A%2256110721%22%2C%22jobKind%22%3A%222%22%2C%22d_curPage%22%3A%220%22%2C%22d_pageSize%22%3A%2240%22%2C%22as_from%22%3A%22search_prime%22%7D'},\n    {'dataParams': '{\"userId\":\"b5ee10cbdf2ef8ef8dd3ccacb977af60\",\"imId\":\"f08d2ca968e841ed4da34c7ac147e5b9\",\"imUserType\":\"2\",\"jobId\":\"62954767\",\"recruiterName\":\"韩女士\",\"jobKind\":\"2\",\"recruiterPhoto\":\"5f8f9866dfb13a7dee342f1808u.jpg\"}',\n     'job': {'labels': ['市场营销', '广告媒体', '广告/传媒/文化', '快消品'],\n      'refreshTime': '20231115174703',\n      'dq': '上海-黄浦区',\n      'jobId': '62954767',\n      'jobKind': '2',\n      'link': 'https://www.liepin.com/job/1962954767.shtml',\n      'topJob': False,\n      'title': '广告策划-快消',\n      'salary': '25-45k·15薪',\n      'dataPromId': 'd_sfrom=search_prime&d_ckId=null&d_curPage=0&d_pageSize=40&d_headId=null&d_posi=12&skId=h2c8pxojavrmo1w785z7ueih2ybfpux8&fkId=h2c8pxojavrmo1w785z7ueih2ybfpux8&ckId=h2c8pxojavrmo1w785z7ueih2ybfpux8&sfrom=search_job_pc&curPage=0&pageSize=40&index=12',\n      'pcOuterLink': '',\n      'h5OuterLink': '',\n      'requireWorkYears': '5-10年',\n      'requireEduLevel': '本科',\n      'advViewFlag': False},\n     'recruiter': {'imId': 'f08d2ca968e841ed4da34c7ac147e5b9',\n      'imUserType': '2',\n      'recruiterName': '韩女士',\n      'recruiterTitle': '招聘主管',\n      'chatted': False,\n      'recruiterId': 'b5ee10cbdf2ef8ef8dd3ccacb977af60',\n      'recruiterPhoto': '5f8f9866dfb13a7dee342f1808u.jpg'},\n     'comp': {'compId': 7921271,\n      'compStage': 'D轮',\n      'compLogo': '5952248270327b30a4cc59d605a.jpg',\n      'compScale': '1000-2000人',\n      'link': 'https://www.liepin.com/company/7921271/',\n      'compName': '小红书',\n      'compIndustry': '互联网'},\n     'dataInfo': '%7B%22ckId%22%3A%22h2c8pxojavrmo1w785z7ueih2ybfpux8%22%2C%22scene%22%3A%22input%22%2C%22skId%22%3A%22h2c8pxojavrmo1w785z7ueih2ybfpux8%22%2C%22fkId%22%3A%22h2c8pxojavrmo1w785z7ueih2ybfpux8%22%2C%22pageSize%22%3A%2240%22%2C%22curPage%22%3A%220%22%2C%22sfrom%22%3A%22search_job_pc%22%2C%22jobId%22%3A%2262954767%22%2C%22jobKind%22%3A%222%22%2C%22d_curPage%22%3A%220%22%2C%22d_pageSize%22%3A%2240%22%2C%22as_from%22%3A%22search_prime%22%7D'},\n    {'dataParams': '{\"userId\":\"b5ee10cbdf2ef8ef8dd3ccacb977af60\",\"imId\":\"f08d2ca968e841ed4da34c7ac147e5b9\",\"imUserType\":\"2\",\"jobId\":\"62538241\",\"recruiterName\":\"韩女士\",\"jobKind\":\"2\",\"recruiterPhoto\":\"5f8f9866dfb13a7dee342f1808u.jpg\"}',\n     'job': {'labels': ['市场策划', '市场推广', '市场营销', '网络媒介', '网络媒体', '服务业'],\n      'refreshTime': '20231029191945',\n      'dq': '上海-黄浦区',\n      'jobId': '62538241',\n      'jobKind': '2',\n      'link': 'https://www.liepin.com/job/1962538241.shtml',\n      'topJob': False,\n      'title': '生活服务行业 广告策划',\n      'salary': '20-40k·15薪',\n      'dataPromId': 'd_sfrom=search_prime&d_ckId=null&d_curPage=0&d_pageSize=40&d_headId=null&d_posi=13&skId=h2c8pxojavrmo1w785z7ueih2ybfpux8&fkId=h2c8pxojavrmo1w785z7ueih2ybfpux8&ckId=h2c8pxojavrmo1w785z7ueih2ybfpux8&sfrom=search_job_pc&curPage=0&pageSize=40&index=13',\n      'pcOuterLink': '',\n      'h5OuterLink': '',\n      'requireWorkYears': '5-10年',\n      'requireEduLevel': '本科',\n      'advViewFlag': False},\n     'recruiter': {'imId': 'f08d2ca968e841ed4da34c7ac147e5b9',\n      'imUserType': '2',\n      'recruiterName': '韩女士',\n      'recruiterTitle': '招聘主管',\n      'chatted': False,\n      'recruiterId': 'b5ee10cbdf2ef8ef8dd3ccacb977af60',\n      'recruiterPhoto': '5f8f9866dfb13a7dee342f1808u.jpg'},\n     'comp': {'compId': 7921271,\n      'compStage': 'D轮',\n      'compLogo': '5952248270327b30a4cc59d605a.jpg',\n      'compScale': '1000-2000人',\n      'link': 'https://www.liepin.com/company/7921271/',\n      'compName': '小红书',\n      'compIndustry': '互联网'},\n     'dataInfo': '%7B%22ckId%22%3A%22h2c8pxojavrmo1w785z7ueih2ybfpux8%22%2C%22scene%22%3A%22input%22%2C%22skId%22%3A%22h2c8pxojavrmo1w785z7ueih2ybfpux8%22%2C%22fkId%22%3A%22h2c8pxojavrmo1w785z7ueih2ybfpux8%22%2C%22pageSize%22%3A%2240%22%2C%22curPage%22%3A%220%22%2C%22sfrom%22%3A%22search_job_pc%22%2C%22jobId%22%3A%2262538241%22%2C%22jobKind%22%3A%222%22%2C%22d_curPage%22%3A%220%22%2C%22d_pageSize%22%3A%2240%22%2C%22as_from%22%3A%22search_prime%22%7D'},\n    {'dataParams': '{\"userId\":\"b5ee10cbdf2ef8ef8dd3ccacb977af60\",\"imId\":\"f08d2ca968e841ed4da34c7ac147e5b9\",\"imUserType\":\"2\",\"jobId\":\"56378225\",\"recruiterName\":\"韩女士\",\"jobKind\":\"2\",\"recruiterPhoto\":\"5f8f9866dfb13a7dee342f1808u.jpg\"}',\n     'job': {'labels': ['营销策划', '广告策划', '品牌策划', '甲方公司背景'],\n      'refreshTime': '20230817194057',\n      'dq': '上海-黄浦区',\n      'jobId': '56378225',\n      'jobKind': '2',\n      'link': 'https://www.liepin.com/job/1956378225.shtml',\n      'topJob': False,\n      'title': '广告策划-家居家装房产',\n      'salary': '20-45k·15薪',\n      'dataPromId': 'd_sfrom=search_prime&d_ckId=null&d_curPage=0&d_pageSize=40&d_headId=null&d_posi=14&skId=h2c8pxojavrmo1w785z7ueih2ybfpux8&fkId=h2c8pxojavrmo1w785z7ueih2ybfpux8&ckId=h2c8pxojavrmo1w785z7ueih2ybfpux8&sfrom=search_job_pc&curPage=0&pageSize=40&index=14',\n      'pcOuterLink': '',\n      'h5OuterLink': '',\n      'requireWorkYears': '3-5年',\n      'requireEduLevel': '本科',\n      'advViewFlag': False},\n     'recruiter': {'imId': 'f08d2ca968e841ed4da34c7ac147e5b9',\n      'imUserType': '2',\n      'recruiterName': '韩女士',\n      'recruiterTitle': '招聘主管',\n      'chatted': False,\n      'recruiterId': 'b5ee10cbdf2ef8ef8dd3ccacb977af60',\n      'recruiterPhoto': '5f8f9866dfb13a7dee342f1808u.jpg'},\n     'comp': {'compId': 7921271,\n      'compStage': 'D轮',\n      'compLogo': '5952248270327b30a4cc59d605a.jpg',\n      'compScale': '1000-2000人',\n      'link': 'https://www.liepin.com/company/7921271/',\n      'compName': '小红书',\n      'compIndustry': '互联网'},\n     'dataInfo': '%7B%22ckId%22%3A%22h2c8pxojavrmo1w785z7ueih2ybfpux8%22%2C%22scene%22%3A%22input%22%2C%22skId%22%3A%22h2c8pxojavrmo1w785z7ueih2ybfpux8%22%2C%22fkId%22%3A%22h2c8pxojavrmo1w785z7ueih2ybfpux8%22%2C%22pageSize%22%3A%2240%22%2C%22curPage%22%3A%220%22%2C%22sfrom%22%3A%22search_job_pc%22%2C%22jobId%22%3A%2256378225%22%2C%22jobKind%22%3A%222%22%2C%22d_curPage%22%3A%220%22%2C%22d_pageSize%22%3A%2240%22%2C%22as_from%22%3A%22search_prime%22%7D'},\n    {'dataParams': '{\"userId\":\"633dd0c923f2f94cdf88892b93fe3679\",\"imId\":\"6b81690930720681383f3da79799f0a9\",\"imUserType\":\"2\",\"jobId\":\"57005033\",\"recruiterName\":\"栾女士\",\"jobKind\":\"2\",\"recruiterPhoto\":\"5f8f9866dfb13a7dee342f1808u.jpg\"}',\n     'job': {'labels': ['广告媒体',\n       '文案策划',\n       '广告策划',\n       '乙方公司背景',\n       'to B',\n       '大客户',\n       '广告/传媒/文化',\n       '房地产/建筑业',\n       '营销活动'],\n      'refreshTime': '20231120114046',\n      'dq': '上海-长宁区',\n      'jobId': '57005033',\n      'jobKind': '2',\n      'link': 'https://www.liepin.com/job/1957005033.shtml',\n      'topJob': False,\n      'title': '地产广告策划',\n      'salary': '10-15k',\n      'dataPromId': 'd_sfrom=search_prime&d_ckId=null&d_curPage=0&d_pageSize=40&d_headId=null&d_posi=15&skId=h2c8pxojavrmo1w785z7ueih2ybfpux8&fkId=h2c8pxojavrmo1w785z7ueih2ybfpux8&ckId=h2c8pxojavrmo1w785z7ueih2ybfpux8&sfrom=search_job_pc&curPage=0&pageSize=40&index=15',\n      'pcOuterLink': '',\n      'h5OuterLink': '',\n      'requireWorkYears': '3-5年',\n      'requireEduLevel': '本科',\n      'advViewFlag': False},\n     'recruiter': {'imId': '6b81690930720681383f3da79799f0a9',\n      'imUserType': '2',\n      'recruiterName': '栾女士',\n      'recruiterTitle': '人力资源部经理',\n      'chatted': False,\n      'recruiterId': '633dd0c923f2f94cdf88892b93fe3679',\n      'recruiterPhoto': '5f8f9866dfb13a7dee342f1808u.jpg'},\n     'comp': {'compId': 12368529,\n      'compLogo': '6455fef7588d916a382852a008u.png',\n      'compScale': '50-99人',\n      'link': 'https://www.liepin.com/company/12368529/',\n      'compName': '诸葛云微米',\n      'compIndustry': '广告/公关/会展'},\n     'dataInfo': '%7B%22ckId%22%3A%22h2c8pxojavrmo1w785z7ueih2ybfpux8%22%2C%22scene%22%3A%22input%22%2C%22skId%22%3A%22h2c8pxojavrmo1w785z7ueih2ybfpux8%22%2C%22fkId%22%3A%22h2c8pxojavrmo1w785z7ueih2ybfpux8%22%2C%22pageSize%22%3A%2240%22%2C%22curPage%22%3A%220%22%2C%22sfrom%22%3A%22search_job_pc%22%2C%22jobId%22%3A%2257005033%22%2C%22jobKind%22%3A%222%22%2C%22d_curPage%22%3A%220%22%2C%22d_pageSize%22%3A%2240%22%2C%22as_from%22%3A%22search_prime%22%7D'},\n    {'dataParams': '{\"userId\":\"4c8804f7c7e414ee3f08540ae0da5646\",\"imId\":\"d716010b1fa58724f7d8b7d889eac294\",\"imUserType\":\"2\",\"jobId\":\"62870335\",\"recruiterName\":\"党女士\",\"jobKind\":\"2\",\"recruiterPhoto\":\"5f8f98648dbe6273dcf8515508u.jpg\"}',\n     'job': {'labels': ['企业内部职位',\n       '线下',\n       '4A公司背景',\n       '策划经验',\n       '广告/传媒/文化',\n       '广告文案',\n       '项目管理'],\n      'refreshTime': '20231113133532',\n      'dq': '上海-虹口区',\n      'jobId': '62870335',\n      'jobKind': '2',\n      'link': 'https://www.liepin.com/job/1962870335.shtml',\n      'topJob': False,\n      'title': '广告策划',\n      'salary': '10-15k',\n      'dataPromId': 'd_sfrom=search_prime&d_ckId=null&d_curPage=0&d_pageSize=40&d_headId=null&d_posi=16&skId=h2c8pxojavrmo1w785z7ueih2ybfpux8&fkId=h2c8pxojavrmo1w785z7ueih2ybfpux8&ckId=h2c8pxojavrmo1w785z7ueih2ybfpux8&sfrom=search_job_pc&curPage=0&pageSize=40&index=16',\n      'pcOuterLink': '',\n      'h5OuterLink': '',\n      'requireWorkYears': '1-3年',\n      'requireEduLevel': '本科',\n      'advViewFlag': False},\n     'recruiter': {'imId': 'd716010b1fa58724f7d8b7d889eac294',\n      'imUserType': '2',\n      'recruiterName': '党女士',\n      'recruiterTitle': 'hr',\n      'chatted': False,\n      'recruiterId': '4c8804f7c7e414ee3f08540ae0da5646',\n      'recruiterPhoto': '5f8f98648dbe6273dcf8515508u.jpg'},\n     'comp': {'compId': 8797207,\n      'compStage': 'A轮',\n      'compLogo': '5962d22e7032e822e84be2a105a.png',\n      'compScale': '50-99人',\n      'link': 'https://www.liepin.com/company/8797207/',\n      'compName': '知我探索教育科技(北京)有限公司',\n      'compIndustry': '在线社交/媒体'},\n     'dataInfo': '%7B%22ckId%22%3A%22h2c8pxojavrmo1w785z7ueih2ybfpux8%22%2C%22scene%22%3A%22input%22%2C%22skId%22%3A%22h2c8pxojavrmo1w785z7ueih2ybfpux8%22%2C%22fkId%22%3A%22h2c8pxojavrmo1w785z7ueih2ybfpux8%22%2C%22pageSize%22%3A%2240%22%2C%22curPage%22%3A%220%22%2C%22sfrom%22%3A%22search_job_pc%22%2C%22jobId%22%3A%2262870335%22%2C%22jobKind%22%3A%222%22%2C%22d_curPage%22%3A%220%22%2C%22d_pageSize%22%3A%2240%22%2C%22as_from%22%3A%22search_prime%22%7D'},\n    {'dataParams': '{\"userId\":\"14a9558c5608daf8ed3d46c969c779ab\",\"imId\":\"9c183a472234305c6042c177f0a1d2b1\",\"imUserType\":\"2\",\"jobId\":\"45844341\",\"recruiterName\":\"卢女士\",\"jobKind\":\"2\",\"recruiterPhoto\":\"5812bc0862f006e00f95d82f04a.png\"}',\n     'job': {'labels': ['市场策划',\n       '广告媒体',\n       '汽车行业',\n       '4A公司背景',\n       '广告提案',\n       '大客户',\n       'to B',\n       'IT/互联网/软件'],\n      'refreshTime': '20231129165153',\n      'dq': '上海-徐汇区',\n      'jobId': '45844341',\n      'jobKind': '2',\n      'link': 'https://www.liepin.com/job/1945844341.shtml',\n      'topJob': False,\n      'title': '汽车网广告策划',\n      'salary': '10-20k',\n      'dataPromId': 'd_sfrom=search_prime&d_ckId=null&d_curPage=0&d_pageSize=40&d_headId=null&d_posi=17&skId=h2c8pxojavrmo1w785z7ueih2ybfpux8&fkId=h2c8pxojavrmo1w785z7ueih2ybfpux8&ckId=h2c8pxojavrmo1w785z7ueih2ybfpux8&sfrom=search_job_pc&curPage=0&pageSize=40&index=17',\n      'pcOuterLink': '',\n      'h5OuterLink': '',\n      'requireWorkYears': '1-3年',\n      'requireEduLevel': '本科',\n      'advViewFlag': False},\n     'recruiter': {'imId': '9c183a472234305c6042c177f0a1d2b1',\n      'imUserType': '2',\n      'recruiterName': '卢女士',\n      'recruiterTitle': '行政部 经理',\n      'chatted': False,\n      'recruiterId': '14a9558c5608daf8ed3d46c969c779ab',\n      'recruiterPhoto': '5812bc0862f006e00f95d82f04a.png'},\n     'comp': {'compId': 883294,\n      'compStage': '已上市',\n      'compLogo': '5bfe91bf74719d35745ae43f03a.png',\n      'compScale': '500-999人',\n      'link': 'https://www.liepin.com/company/883294/',\n      'compName': '太平洋网络',\n      'compIndustry': '互联网'},\n     'dataInfo': '%7B%22ckId%22%3A%22h2c8pxojavrmo1w785z7ueih2ybfpux8%22%2C%22scene%22%3A%22input%22%2C%22skId%22%3A%22h2c8pxojavrmo1w785z7ueih2ybfpux8%22%2C%22fkId%22%3A%22h2c8pxojavrmo1w785z7ueih2ybfpux8%22%2C%22pageSize%22%3A%2240%22%2C%22curPage%22%3A%220%22%2C%22sfrom%22%3A%22search_job_pc%22%2C%22jobId%22%3A%2245844341%22%2C%22jobKind%22%3A%222%22%2C%22d_curPage%22%3A%220%22%2C%22d_pageSize%22%3A%2240%22%2C%22as_from%22%3A%22search_prime%22%7D'},\n    {'dataParams': '{\"userId\":\"8440880668d1cc38754579393ab7befe\",\"imId\":\"34cfbf1c4d41b8b2e37b0b202b2adc1c\",\"imUserType\":\"2\",\"jobId\":\"55036851\",\"recruiterName\":\"刘女士\",\"jobKind\":\"2\",\"recruiterPhoto\":\"61b1a4569429d8575917bd4807u.jpg\"}',\n     'job': {'labels': ['自媒体策划', '品牌策划', '活动策划', '营销策划'],\n      'refreshTime': '20230628111904',\n      'dq': '上海-静安区',\n      'jobId': '55036851',\n      'jobKind': '2',\n      'link': 'https://www.liepin.com/job/1955036851.shtml',\n      'topJob': False,\n      'title': '广告策划经理',\n      'salary': '10-15k',\n      'dataPromId': 'd_sfrom=search_prime&d_ckId=null&d_curPage=0&d_pageSize=40&d_headId=null&d_posi=18&skId=h2c8pxojavrmo1w785z7ueih2ybfpux8&fkId=h2c8pxojavrmo1w785z7ueih2ybfpux8&ckId=h2c8pxojavrmo1w785z7ueih2ybfpux8&sfrom=search_job_pc&curPage=0&pageSize=40&index=18',\n      'pcOuterLink': '',\n      'h5OuterLink': '',\n      'requireWorkYears': '3-5年',\n      'requireEduLevel': '本科',\n      'advViewFlag': False},\n     'recruiter': {'imId': '34cfbf1c4d41b8b2e37b0b202b2adc1c',\n      'imUserType': '2',\n      'recruiterName': '刘女士',\n      'recruiterTitle': '咨询热线/呼叫中心服务人员',\n      'chatted': False,\n      'recruiterId': '8440880668d1cc38754579393ab7befe',\n      'recruiterPhoto': '61b1a4569429d8575917bd4807u.jpg'},\n     'comp': {'compId': 10170553,\n      'compStage': 'B轮',\n      'compLogo': '6055cb920162a52b2c4f573307u.png',\n      'compScale': '100-499人',\n      'link': 'https://www.liepin.com/company/10170553/',\n      'compName': '广州携旅信息科技有限公司',\n      'compIndustry': '计算机软件'},\n     'dataInfo': '%7B%22ckId%22%3A%22h2c8pxojavrmo1w785z7ueih2ybfpux8%22%2C%22scene%22%3A%22input%22%2C%22skId%22%3A%22h2c8pxojavrmo1w785z7ueih2ybfpux8%22%2C%22fkId%22%3A%22h2c8pxojavrmo1w785z7ueih2ybfpux8%22%2C%22pageSize%22%3A%2240%22%2C%22curPage%22%3A%220%22%2C%22sfrom%22%3A%22search_job_pc%22%2C%22jobId%22%3A%2255036851%22%2C%22jobKind%22%3A%222%22%2C%22d_curPage%22%3A%220%22%2C%22d_pageSize%22%3A%2240%22%2C%22as_from%22%3A%22search_prime%22%7D'},\n    {'dataParams': '{\"userId\":\"0856310723ffd91ecece00ab3c69cd5c\",\"imId\":\"b82198015923d9ddc1bd2b3e9fec8144\",\"imUserType\":\"2\",\"jobId\":\"50462499\",\"recruiterName\":\"张女士\",\"jobKind\":\"1\",\"recruiterPhoto\":\"62c6c0693d65642b15f1667002u.png\"}',\n     'job': {'labels': [],\n      'refreshTime': '20231128193245',\n      'dq': '上海',\n      'jobId': '50462499',\n      'jobKind': '1',\n      'link': 'https://www.liepin.com/a/50462499.shtml',\n      'topJob': False,\n      'title': '生活服务行业 广告策划',\n      'salary': '35-60k',\n      'dataPromId': 'd_sfrom=search_prime&d_ckId=null&d_curPage=0&d_pageSize=40&d_headId=null&d_posi=19&skId=h2c8pxojavrmo1w785z7ueih2ybfpux8&fkId=h2c8pxojavrmo1w785z7ueih2ybfpux8&ckId=h2c8pxojavrmo1w785z7ueih2ybfpux8&sfrom=search_job_pc&curPage=0&pageSize=40&index=19',\n      'requireWorkYears': '5-10年',\n      'requireEduLevel': '本科',\n      'advViewFlag': False},\n     'recruiter': {'imId': 'b82198015923d9ddc1bd2b3e9fec8144',\n      'imUserType': '2',\n      'recruiterName': '张女士',\n      'recruiterTitle': '猎头顾问',\n      'chatted': False,\n      'recruiterId': '0856310723ffd91ecece00ab3c69cd5c',\n      'recruiterPhoto': '62c6c0693d65642b15f1667002u.png'},\n     'comp': {'compLogo': '60e2fe0bf3df194a3c48adb502u.png',\n      'compScale': '5000-10000人',\n      'link': '',\n      'compName': '某上海大型广告/公关/会展公司',\n      'compIndustry': '广告/公关/会展'},\n     'dataInfo': '%7B%22ckId%22%3A%22h2c8pxojavrmo1w785z7ueih2ybfpux8%22%2C%22scene%22%3A%22input%22%2C%22skId%22%3A%22h2c8pxojavrmo1w785z7ueih2ybfpux8%22%2C%22fkId%22%3A%22h2c8pxojavrmo1w785z7ueih2ybfpux8%22%2C%22pageSize%22%3A%2240%22%2C%22curPage%22%3A%220%22%2C%22sfrom%22%3A%22search_job_pc%22%2C%22jobId%22%3A%2250462499%22%2C%22jobKind%22%3A%221%22%2C%22d_curPage%22%3A%220%22%2C%22d_pageSize%22%3A%2240%22%2C%22as_from%22%3A%22search_prime%22%7D'},\n    {'dataParams': '{\"userId\":\"ef4410271ee507db4ebe78f8d139964e\",\"imId\":\"b7b1c0386e10f30804612e645251413c\",\"imUserType\":\"2\",\"jobId\":\"58806367\",\"recruiterName\":\"佘女士\",\"jobKind\":\"2\",\"recruiterPhoto\":\"5f8f986779c7cc70efbf36c008u.jpg\"}',\n     'job': {'labels': ['广告策划'],\n      'refreshTime': '20230818093726',\n      'dq': '上海-静安区',\n      'jobId': '58806367',\n      'jobKind': '2',\n      'link': 'https://www.liepin.com/job/1958806367.shtml',\n      'topJob': False,\n      'title': '广告策划',\n      'salary': '9-12k',\n      'dataPromId': 'd_sfrom=search_prime&d_ckId=null&d_curPage=0&d_pageSize=40&d_headId=null&d_posi=20&skId=h2c8pxojavrmo1w785z7ueih2ybfpux8&fkId=h2c8pxojavrmo1w785z7ueih2ybfpux8&ckId=h2c8pxojavrmo1w785z7ueih2ybfpux8&sfrom=search_job_pc&curPage=0&pageSize=40&index=20',\n      'pcOuterLink': '',\n      'h5OuterLink': '',\n      'requireWorkYears': '经验不限',\n      'requireEduLevel': '本科',\n      'advViewFlag': False},\n     'recruiter': {'imId': 'b7b1c0386e10f30804612e645251413c',\n      'imUserType': '2',\n      'recruiterName': '佘女士',\n      'recruiterTitle': '人事',\n      'chatted': False,\n      'recruiterId': 'ef4410271ee507db4ebe78f8d139964e',\n      'recruiterPhoto': '5f8f986779c7cc70efbf36c008u.jpg'},\n     'comp': {'compId': 12325901,\n      'compStage': '融资未公开',\n      'compLogo': '646daf1a747e5c46be0c72ba05u.jpg',\n      'compScale': '1-49人',\n      'link': 'https://www.liepin.com/company/12325901/',\n      'compName': '有料广告',\n      'compIndustry': '专业技术服务'},\n     'dataInfo': '%7B%22ckId%22%3A%22h2c8pxojavrmo1w785z7ueih2ybfpux8%22%2C%22scene%22%3A%22input%22%2C%22skId%22%3A%22h2c8pxojavrmo1w785z7ueih2ybfpux8%22%2C%22fkId%22%3A%22h2c8pxojavrmo1w785z7ueih2ybfpux8%22%2C%22pageSize%22%3A%2240%22%2C%22curPage%22%3A%220%22%2C%22sfrom%22%3A%22search_job_pc%22%2C%22jobId%22%3A%2258806367%22%2C%22jobKind%22%3A%222%22%2C%22d_curPage%22%3A%220%22%2C%22d_pageSize%22%3A%2240%22%2C%22as_from%22%3A%22search_prime%22%7D'},\n    {'dataParams': '{\"userId\":\"0bddc564a354ca6e84d836593f539fd0\",\"imId\":\"2adbdc7826ace924721ecde79a93b5df\",\"imUserType\":\"2\",\"jobId\":\"54488429\",\"recruiterName\":\"祝女士\",\"jobKind\":\"2\",\"recruiterPhoto\":\"649d5646cbfb6f58e041561a03u.png\"}',\n     'job': {'labels': ['品牌策划', '文案策划', '营销策划', '广告/传媒/文化'],\n      'refreshTime': '20230509175815',\n      'dq': '上海',\n      'jobId': '54488429',\n      'jobKind': '2',\n      'link': 'https://www.liepin.com/job/1954488429.shtml',\n      'topJob': False,\n      'title': '广告策划总监',\n      'salary': '25-35k',\n      'dataPromId': 'd_sfrom=search_prime&d_ckId=null&d_curPage=0&d_pageSize=40&d_headId=null&d_posi=21&skId=h2c8pxojavrmo1w785z7ueih2ybfpux8&fkId=h2c8pxojavrmo1w785z7ueih2ybfpux8&ckId=h2c8pxojavrmo1w785z7ueih2ybfpux8&sfrom=search_job_pc&curPage=0&pageSize=40&index=21',\n      'pcOuterLink': '',\n      'h5OuterLink': '',\n      'requireWorkYears': '5-10年',\n      'requireEduLevel': '本科',\n      'advViewFlag': False},\n     'recruiter': {'imId': '2adbdc7826ace924721ecde79a93b5df',\n      'imUserType': '2',\n      'recruiterName': '祝女士',\n      'recruiterTitle': '资深HRBP经理',\n      'chatted': False,\n      'recruiterId': '0bddc564a354ca6e84d836593f539fd0',\n      'recruiterPhoto': '649d5646cbfb6f58e041561a03u.png'},\n     'comp': {'compId': 7943164,\n      'compLogo': '5bfea25d74719d2aa34c566c03a.png',\n      'compScale': '100-499人',\n      'link': 'https://www.liepin.com/company/7943164/',\n      'compName': '上海悦普网络科技有限公司',\n      'compIndustry': '互联网'},\n     'dataInfo': '%7B%22ckId%22%3A%22h2c8pxojavrmo1w785z7ueih2ybfpux8%22%2C%22scene%22%3A%22input%22%2C%22skId%22%3A%22h2c8pxojavrmo1w785z7ueih2ybfpux8%22%2C%22fkId%22%3A%22h2c8pxojavrmo1w785z7ueih2ybfpux8%22%2C%22pageSize%22%3A%2240%22%2C%22curPage%22%3A%220%22%2C%22sfrom%22%3A%22search_job_pc%22%2C%22jobId%22%3A%2254488429%22%2C%22jobKind%22%3A%222%22%2C%22d_curPage%22%3A%220%22%2C%22d_pageSize%22%3A%2240%22%2C%22as_from%22%3A%22search_prime%22%7D'},\n    {'dataParams': '{\"userId\":\"d452da82bc2475e0587874d7e143cc24\",\"imId\":\"b6a100beb015adabf4067025f1d6ce6f\",\"imUserType\":\"2\",\"jobId\":\"54751125\",\"recruiterName\":\"李先生\",\"jobKind\":\"2\",\"recruiterPhoto\":\"5f8f986c79c7cc70efbf36c808u.jpg\"}',\n     'job': {'labels': ['品牌策划', '营销策划', '视频网站', '广告/传媒/文化', '能源/环保/化工'],\n      'refreshTime': '20221130164250',\n      'dq': '上海-黄浦区',\n      'jobId': '54751125',\n      'jobKind': '2',\n      'link': 'https://www.liepin.com/job/1954751125.shtml',\n      'topJob': False,\n      'title': ' 高级广告策划（华东） (MJ008031)',\n      'salary': '10-15k·16薪',\n      'dataPromId': 'd_sfrom=search_prime&d_ckId=null&d_curPage=0&d_pageSize=40&d_headId=null&d_posi=22&skId=h2c8pxojavrmo1w785z7ueih2ybfpux8&fkId=h2c8pxojavrmo1w785z7ueih2ybfpux8&ckId=h2c8pxojavrmo1w785z7ueih2ybfpux8&sfrom=search_job_pc&curPage=0&pageSize=40&index=22',\n      'pcOuterLink': '',\n      'h5OuterLink': '',\n      'requireWorkYears': '1-3年',\n      'requireEduLevel': '统招本科',\n      'advViewFlag': False},\n     'recruiter': {'imId': 'b6a100beb015adabf4067025f1d6ce6f',\n      'imUserType': '2',\n      'recruiterName': '李先生',\n      'recruiterTitle': '人力资源',\n      'chatted': False,\n      'recruiterId': 'd452da82bc2475e0587874d7e143cc24',\n      'recruiterPhoto': '5f8f986c79c7cc70efbf36c808u.jpg'},\n     'comp': {'compId': 6128386,\n      'compStage': '已上市',\n      'compLogo': '5925665b7032a8e95b0f0cff06a.jpg',\n      'compScale': '10000人以上',\n      'link': 'https://www.liepin.com/company/6128386/',\n      'compName': '搜狐',\n      'compIndustry': '互联网'},\n     'dataInfo': '%7B%22ckId%22%3A%22h2c8pxojavrmo1w785z7ueih2ybfpux8%22%2C%22scene%22%3A%22input%22%2C%22skId%22%3A%22h2c8pxojavrmo1w785z7ueih2ybfpux8%22%2C%22fkId%22%3A%22h2c8pxojavrmo1w785z7ueih2ybfpux8%22%2C%22pageSize%22%3A%2240%22%2C%22curPage%22%3A%220%22%2C%22sfrom%22%3A%22search_job_pc%22%2C%22jobId%22%3A%2254751125%22%2C%22jobKind%22%3A%222%22%2C%22d_curPage%22%3A%220%22%2C%22d_pageSize%22%3A%2240%22%2C%22as_from%22%3A%22search_prime%22%7D'},\n    {'dataParams': '{\"userId\":\"69eb5c65b4a12dd42d700471fbaf4ec3\",\"imId\":\"b0761e9736b53478576c9077e768cf3d\",\"imUserType\":\"2\",\"jobId\":\"60442581\",\"recruiterName\":\"邢女士\",\"jobKind\":\"2\",\"recruiterPhoto\":\"5f8f986779c7cc70efbf36c008u.jpg\"}',\n     'job': {'labels': ['营销策划', '社交媒体', '广告媒介', '品牌活动'],\n      'refreshTime': '20230801135320',\n      'dq': '上海-普陀区',\n      'jobId': '60442581',\n      'jobKind': '2',\n      'link': 'https://www.liepin.com/job/1960442581.shtml',\n      'topJob': False,\n      'title': '广告策划经理',\n      'salary': '10-15k·13薪',\n      'dataPromId': 'd_sfrom=search_prime&d_ckId=null&d_curPage=0&d_pageSize=40&d_headId=null&d_posi=23&skId=h2c8pxojavrmo1w785z7ueih2ybfpux8&fkId=h2c8pxojavrmo1w785z7ueih2ybfpux8&ckId=h2c8pxojavrmo1w785z7ueih2ybfpux8&sfrom=search_job_pc&curPage=0&pageSize=40&index=23',\n      'pcOuterLink': '',\n      'h5OuterLink': '',\n      'requireWorkYears': '1-3年',\n      'requireEduLevel': '本科',\n      'advViewFlag': False},\n     'recruiter': {'imId': 'b0761e9736b53478576c9077e768cf3d',\n      'imUserType': '2',\n      'recruiterName': '邢女士',\n      'recruiterTitle': '人事副总监',\n      'chatted': False,\n      'recruiterId': '69eb5c65b4a12dd42d700471fbaf4ec3',\n      'recruiterPhoto': '5f8f986779c7cc70efbf36c008u.jpg'},\n     'comp': {'compId': 8628096,\n      'compStage': '融资未公开',\n      'compLogo': '62eb903a6e5d962a49ed5edf06u.png',\n      'compScale': '500-999人',\n      'link': 'https://www.liepin.com/company/8628096/',\n      'compName': '剧星传媒',\n      'compIndustry': '广告/公关/会展'},\n     'dataInfo': '%7B%22ckId%22%3A%22h2c8pxojavrmo1w785z7ueih2ybfpux8%22%2C%22scene%22%3A%22input%22%2C%22skId%22%3A%22h2c8pxojavrmo1w785z7ueih2ybfpux8%22%2C%22fkId%22%3A%22h2c8pxojavrmo1w785z7ueih2ybfpux8%22%2C%22pageSize%22%3A%2240%22%2C%22curPage%22%3A%220%22%2C%22sfrom%22%3A%22search_job_pc%22%2C%22jobId%22%3A%2260442581%22%2C%22jobKind%22%3A%222%22%2C%22d_curPage%22%3A%220%22%2C%22d_pageSize%22%3A%2240%22%2C%22as_from%22%3A%22search_prime%22%7D'},\n    {'dataParams': '{\"userId\":\"6edaa5f960b95174421f7a43910d00d4\",\"imId\":\"235131e309fa786899f9cacb8148e1ff\",\"imUserType\":\"2\",\"jobId\":\"53022201\",\"recruiterName\":\"杨女士\",\"jobKind\":\"2\",\"recruiterPhoto\":\"5f8f9865ea60860b75384fa508u.jpg\"}',\n     'job': {'labels': ['网站策划',\n       '营销策划',\n       '会议策划',\n       '社交媒介',\n       '社交媒体',\n       '网络媒体',\n       '门户网站',\n       '广告/传媒/文化',\n       'IT/互联网/软件',\n       '服务业'],\n      'refreshTime': '20221129173935',\n      'dq': '上海',\n      'jobId': '53022201',\n      'jobKind': '2',\n      'link': 'https://www.liepin.com/job/1953022201.shtml',\n      'topJob': False,\n      'title': '广告策划',\n      'salary': '8-15k',\n      'dataPromId': 'd_sfrom=search_prime&d_ckId=null&d_curPage=0&d_pageSize=40&d_headId=null&d_posi=24&skId=h2c8pxojavrmo1w785z7ueih2ybfpux8&fkId=h2c8pxojavrmo1w785z7ueih2ybfpux8&ckId=h2c8pxojavrmo1w785z7ueih2ybfpux8&sfrom=search_job_pc&curPage=0&pageSize=40&index=24',\n      'pcOuterLink': '',\n      'h5OuterLink': '',\n      'requireWorkYears': '1-3年',\n      'requireEduLevel': '本科',\n      'advViewFlag': False},\n     'recruiter': {'imId': '235131e309fa786899f9cacb8148e1ff',\n      'imUserType': '2',\n      'recruiterName': '杨女士',\n      'recruiterTitle': '培训经理',\n      'chatted': False,\n      'recruiterId': '6edaa5f960b95174421f7a43910d00d4',\n      'recruiterPhoto': '5f8f9865ea60860b75384fa508u.jpg'},\n     'comp': {'compId': 8678662,\n      'compLogo': '5bfe92a474719d9f609a75bf03a.png',\n      'compScale': '100-499人',\n      'link': 'https://www.liepin.com/company/8678662/',\n      'compName': '上海科翼文化传播有限公司',\n      'compIndustry': '广告/公关/会展'},\n     'dataInfo': '%7B%22ckId%22%3A%22h2c8pxojavrmo1w785z7ueih2ybfpux8%22%2C%22scene%22%3A%22input%22%2C%22skId%22%3A%22h2c8pxojavrmo1w785z7ueih2ybfpux8%22%2C%22fkId%22%3A%22h2c8pxojavrmo1w785z7ueih2ybfpux8%22%2C%22pageSize%22%3A%2240%22%2C%22curPage%22%3A%220%22%2C%22sfrom%22%3A%22search_job_pc%22%2C%22jobId%22%3A%2253022201%22%2C%22jobKind%22%3A%222%22%2C%22d_curPage%22%3A%220%22%2C%22d_pageSize%22%3A%2240%22%2C%22as_from%22%3A%22search_prime%22%7D'},\n    {'dataParams': '{\"userId\":\"4e4592482c2c482d89c8cf077b59c7fa\",\"imId\":\"58b8365f60a6aca48fa263ed17de85b1\",\"imUserType\":\"2\",\"jobId\":\"47766563\",\"recruiterName\":\"龚女士\",\"jobKind\":\"2\",\"recruiterPhoto\":\"5f8f98648dbe6273dcf8515508u.jpg\"}',\n     'job': {'labels': ['网站策划',\n       '营销策划',\n       '网络媒体',\n       '新媒体',\n       '广告/传媒/文化',\n       'IT/互联网/软件',\n       '电子商务'],\n      'refreshTime': '20220507170122',\n      'dq': '上海-徐汇区',\n      'jobId': '47766563',\n      'jobKind': '2',\n      'link': 'https://www.liepin.com/job/1947766563.shtml',\n      'topJob': False,\n      'title': '广告策划经理',\n      'salary': '15-25k',\n      'dataPromId': 'd_sfrom=search_prime&d_ckId=null&d_curPage=0&d_pageSize=40&d_headId=null&d_posi=25&skId=h2c8pxojavrmo1w785z7ueih2ybfpux8&fkId=h2c8pxojavrmo1w785z7ueih2ybfpux8&ckId=h2c8pxojavrmo1w785z7ueih2ybfpux8&sfrom=search_job_pc&curPage=0&pageSize=40&index=25',\n      'pcOuterLink': '',\n      'h5OuterLink': '',\n      'requireWorkYears': '1-3年',\n      'requireEduLevel': '本科',\n      'advViewFlag': False},\n     'recruiter': {'imId': '58b8365f60a6aca48fa263ed17de85b1',\n      'imUserType': '2',\n      'recruiterName': '龚女士',\n      'recruiterTitle': '招聘主管',\n      'chatted': False,\n      'recruiterId': '4e4592482c2c482d89c8cf077b59c7fa',\n      'recruiterPhoto': '5f8f98648dbe6273dcf8515508u.jpg'},\n     'comp': {'compId': 7946852,\n      'compStage': '沪深A股上市',\n      'compLogo': '61a06f512b6b92739ef3d68f06u.png',\n      'compScale': '100-499人',\n      'link': 'https://www.liepin.com/company/7946852/',\n      'compName': '返利科技',\n      'compIndustry': '电子商务'},\n     'dataInfo': '%7B%22ckId%22%3A%22h2c8pxojavrmo1w785z7ueih2ybfpux8%22%2C%22scene%22%3A%22input%22%2C%22skId%22%3A%22h2c8pxojavrmo1w785z7ueih2ybfpux8%22%2C%22fkId%22%3A%22h2c8pxojavrmo1w785z7ueih2ybfpux8%22%2C%22pageSize%22%3A%2240%22%2C%22curPage%22%3A%220%22%2C%22sfrom%22%3A%22search_job_pc%22%2C%22jobId%22%3A%2247766563%22%2C%22jobKind%22%3A%222%22%2C%22d_curPage%22%3A%220%22%2C%22d_pageSize%22%3A%2240%22%2C%22as_from%22%3A%22search_prime%22%7D'},\n    {'dataParams': '{\"userId\":\"0873eb5d74ae9a66f0e2f453fc0238cf\",\"imId\":\"59df824988f0534d2b1d8d3fa16dcfe7\",\"imUserType\":\"2\",\"jobId\":\"59383183\",\"recruiterName\":\"储先生\",\"jobKind\":\"2\",\"recruiterPhoto\":\"646c72b17f50394d56d73cba01u.png\"}',\n     'job': {'labels': ['品牌策划', '文案策划', '广告策划', '广告媒介', '汽车行业'],\n      'refreshTime': '20230710124505',\n      'dq': '上海-徐汇区',\n      'jobId': '59383183',\n      'jobKind': '2',\n      'link': 'https://www.liepin.com/job/1959383183.shtml',\n      'topJob': False,\n      'title': '广告策划经理',\n      'salary': '13-18k·13薪',\n      'dataPromId': 'd_sfrom=search_prime&d_ckId=null&d_curPage=0&d_pageSize=40&d_headId=null&d_posi=26&skId=h2c8pxojavrmo1w785z7ueih2ybfpux8&fkId=h2c8pxojavrmo1w785z7ueih2ybfpux8&ckId=h2c8pxojavrmo1w785z7ueih2ybfpux8&sfrom=search_job_pc&curPage=0&pageSize=40&index=26',\n      'pcOuterLink': '',\n      'h5OuterLink': '',\n      'requireWorkYears': '3-5年',\n      'requireEduLevel': '本科',\n      'advViewFlag': False},\n     'recruiter': {'imId': '59df824988f0534d2b1d8d3fa16dcfe7',\n      'imUserType': '2',\n      'recruiterName': '储先生',\n      'recruiterTitle': 'CEO',\n      'chatted': False,\n      'recruiterId': '0873eb5d74ae9a66f0e2f453fc0238cf',\n      'recruiterPhoto': '646c72b17f50394d56d73cba01u.png'},\n     'comp': {'compId': 13554129,\n      'compLogo': '646c73adb4c948430878622e01u.jpg',\n      'compScale': '50-99人',\n      'link': 'https://www.liepin.com/company/13554129/',\n      'compName': '上海雷艺后道广告传播有限公司',\n      'compIndustry': '广告/公关/会展'},\n     'dataInfo': '%7B%22ckId%22%3A%22h2c8pxojavrmo1w785z7ueih2ybfpux8%22%2C%22scene%22%3A%22input%22%2C%22skId%22%3A%22h2c8pxojavrmo1w785z7ueih2ybfpux8%22%2C%22fkId%22%3A%22h2c8pxojavrmo1w785z7ueih2ybfpux8%22%2C%22pageSize%22%3A%2240%22%2C%22curPage%22%3A%220%22%2C%22sfrom%22%3A%22search_job_pc%22%2C%22jobId%22%3A%2259383183%22%2C%22jobKind%22%3A%222%22%2C%22d_curPage%22%3A%220%22%2C%22d_pageSize%22%3A%2240%22%2C%22as_from%22%3A%22search_prime%22%7D'},\n    {'dataParams': '{\"userId\":\"f7265a0329d646b3c58cd9b7a7e32e40\",\"imId\":\"36b2948ee6e5692ae030375514342674\",\"imUserType\":\"2\",\"jobId\":\"34715845\",\"recruiterName\":\"沈女士\",\"jobKind\":\"2\",\"recruiterPhoto\":\"5f8f9866dfb13a7dee342f1808u.jpg\"}',\n     'job': {'labels': ['软文撰写'],\n      'refreshTime': '20210220165726',\n      'dq': '上海-普陀区',\n      'jobId': '34715845',\n      'jobKind': '2',\n      'link': 'https://www.liepin.com/job/1934715845.shtml',\n      'topJob': False,\n      'title': '互联网广告策划',\n      'salary': '10-15k',\n      'dataPromId': 'd_sfrom=search_prime&d_ckId=null&d_curPage=0&d_pageSize=40&d_headId=null&d_posi=27&skId=h2c8pxojavrmo1w785z7ueih2ybfpux8&fkId=h2c8pxojavrmo1w785z7ueih2ybfpux8&ckId=h2c8pxojavrmo1w785z7ueih2ybfpux8&sfrom=search_job_pc&curPage=0&pageSize=40&index=27',\n      'pcOuterLink': '',\n      'h5OuterLink': '',\n      'requireWorkYears': '3-5年',\n      'requireEduLevel': '本科',\n      'advViewFlag': False},\n     'recruiter': {'imId': '36b2948ee6e5692ae030375514342674',\n      'imUserType': '2',\n      'recruiterName': '沈女士',\n      'recruiterTitle': 'HR',\n      'chatted': False,\n      'recruiterId': 'f7265a0329d646b3c58cd9b7a7e32e40',\n      'recruiterPhoto': '5f8f9866dfb13a7dee342f1808u.jpg'},\n     'comp': {'compId': 10065865,\n      'compLogo': '5cee7c49d3ced4486466022408u.png',\n      'compScale': '1-49人',\n      'link': 'https://www.liepin.com/company/10065865/',\n      'compName': '上海途阔网络科技有限公司',\n      'compIndustry': '广告/公关/会展'},\n     'dataInfo': '%7B%22ckId%22%3A%22h2c8pxojavrmo1w785z7ueih2ybfpux8%22%2C%22scene%22%3A%22input%22%2C%22skId%22%3A%22h2c8pxojavrmo1w785z7ueih2ybfpux8%22%2C%22fkId%22%3A%22h2c8pxojavrmo1w785z7ueih2ybfpux8%22%2C%22pageSize%22%3A%2240%22%2C%22curPage%22%3A%220%22%2C%22sfrom%22%3A%22search_job_pc%22%2C%22jobId%22%3A%2234715845%22%2C%22jobKind%22%3A%222%22%2C%22d_curPage%22%3A%220%22%2C%22d_pageSize%22%3A%2240%22%2C%22as_from%22%3A%22search_prime%22%7D'},\n    {'dataParams': '{\"userId\":\"94d9f55489762fe8d2d016077806f136\",\"imId\":\"7e67958df1825a65ccf79dbc9e75a66a\",\"imUserType\":\"2\",\"jobId\":\"59770761\",\"recruiterName\":\"朱女士\",\"jobKind\":\"2\",\"recruiterPhoto\":\"5f8f986779c7cc70efbf36c008u.jpg\"}',\n     'job': {'labels': ['网站策划', '文案策划'],\n      'refreshTime': '20230705103604',\n      'dq': '上海-静安区',\n      'jobId': '59770761',\n      'jobKind': '2',\n      'link': 'https://www.liepin.com/job/1959770761.shtml',\n      'topJob': False,\n      'title': '广告策划主管',\n      'salary': '10-20k',\n      'dataPromId': 'd_sfrom=search_prime&d_ckId=null&d_curPage=0&d_pageSize=40&d_headId=null&d_posi=28&skId=h2c8pxojavrmo1w785z7ueih2ybfpux8&fkId=h2c8pxojavrmo1w785z7ueih2ybfpux8&ckId=h2c8pxojavrmo1w785z7ueih2ybfpux8&sfrom=search_job_pc&curPage=0&pageSize=40&index=28',\n      'pcOuterLink': '',\n      'h5OuterLink': '',\n      'requireWorkYears': '3-5年',\n      'requireEduLevel': '本科',\n      'advViewFlag': False},\n     'recruiter': {'imId': '7e67958df1825a65ccf79dbc9e75a66a',\n      'imUserType': '2',\n      'recruiterName': '朱女士',\n      'recruiterTitle': '',\n      'chatted': False,\n      'recruiterId': '94d9f55489762fe8d2d016077806f136',\n      'recruiterPhoto': '5f8f986779c7cc70efbf36c008u.jpg'},\n     'comp': {'compId': 12885573,\n      'compLogo': '63bfdb7ba5766336322f5c5408u.png',\n      'compScale': '50-99人',\n      'link': 'https://www.liepin.com/company/12885573/',\n      'compName': '上海一簇文化传媒有限公司',\n      'compIndustry': '广告/公关/会展'},\n     'dataInfo': '%7B%22ckId%22%3A%22h2c8pxojavrmo1w785z7ueih2ybfpux8%22%2C%22scene%22%3A%22input%22%2C%22skId%22%3A%22h2c8pxojavrmo1w785z7ueih2ybfpux8%22%2C%22fkId%22%3A%22h2c8pxojavrmo1w785z7ueih2ybfpux8%22%2C%22pageSize%22%3A%2240%22%2C%22curPage%22%3A%220%22%2C%22sfrom%22%3A%22search_job_pc%22%2C%22jobId%22%3A%2259770761%22%2C%22jobKind%22%3A%222%22%2C%22d_curPage%22%3A%220%22%2C%22d_pageSize%22%3A%2240%22%2C%22as_from%22%3A%22search_prime%22%7D'},\n    {'dataParams': '{\"userId\":\"ae3c2eaf2ccdbcb211147515e664dd3e\",\"imId\":\"70ea1470cdeabf19e37b0b202b2adc1c\",\"imUserType\":\"2\",\"jobId\":\"46046445\",\"recruiterName\":\"陈女士\",\"jobKind\":\"2\",\"recruiterPhoto\":\"61c2fbb02980e0366f1e159e08u.png\"}',\n     'job': {'labels': ['媒介策划', 'social'],\n      'refreshTime': '20211229103705',\n      'dq': '上海-静安区',\n      'jobId': '46046445',\n      'jobKind': '2',\n      'link': 'https://www.liepin.com/job/1946046445.shtml',\n      'topJob': False,\n      'title': '广告策划经理',\n      'salary': '13-25k',\n      'dataPromId': 'd_sfrom=search_prime&d_ckId=null&d_curPage=0&d_pageSize=40&d_headId=null&d_posi=29&skId=h2c8pxojavrmo1w785z7ueih2ybfpux8&fkId=h2c8pxojavrmo1w785z7ueih2ybfpux8&ckId=h2c8pxojavrmo1w785z7ueih2ybfpux8&sfrom=search_job_pc&curPage=0&pageSize=40&index=29',\n      'pcOuterLink': '',\n      'h5OuterLink': '',\n      'requireWorkYears': '3-5年',\n      'requireEduLevel': '本科',\n      'advViewFlag': False},\n     'recruiter': {'imId': '70ea1470cdeabf19e37b0b202b2adc1c',\n      'imUserType': '2',\n      'recruiterName': '陈女士',\n      'recruiterTitle': '业务Leader',\n      'chatted': False,\n      'recruiterId': 'ae3c2eaf2ccdbcb211147515e664dd3e',\n      'recruiterPhoto': '61c2fbb02980e0366f1e159e08u.png'},\n     'comp': {'compId': 12304967,\n      'compLogo': '61b07937d0458d53c627567e02u.jpg',\n      'compScale': '1-49人',\n      'link': 'https://www.liepin.com/company/12304967/',\n      'compName': '上海真招商务咨询有限公司',\n      'compIndustry': '广告/公关/会展'},\n     'dataInfo': '%7B%22ckId%22%3A%22h2c8pxojavrmo1w785z7ueih2ybfpux8%22%2C%22scene%22%3A%22input%22%2C%22skId%22%3A%22h2c8pxojavrmo1w785z7ueih2ybfpux8%22%2C%22fkId%22%3A%22h2c8pxojavrmo1w785z7ueih2ybfpux8%22%2C%22pageSize%22%3A%2240%22%2C%22curPage%22%3A%220%22%2C%22sfrom%22%3A%22search_job_pc%22%2C%22jobId%22%3A%2246046445%22%2C%22jobKind%22%3A%222%22%2C%22d_curPage%22%3A%220%22%2C%22d_pageSize%22%3A%2240%22%2C%22as_from%22%3A%22search_prime%22%7D'},\n    {'dataParams': '{\"userId\":\"dc5f7372900c47cbac06d00d0050166c\",\"imId\":\"9f80db4d7554d22be0d71104ecc2e595\",\"imUserType\":\"2\",\"jobId\":\"56498145\",\"recruiterName\":\"沈女士\",\"jobKind\":\"2\",\"recruiterPhoto\":\"5f8f9866dfb13a7dee342f1808u.jpg\"}',\n     'job': {'labels': ['电商平台'],\n      'refreshTime': '20230227104151',\n      'dq': '上海-静安区',\n      'jobId': '56498145',\n      'jobKind': '2',\n      'link': 'https://www.liepin.com/job/1956498145.shtml',\n      'topJob': False,\n      'title': '电商广告策划',\n      'salary': '8-11k·13薪',\n      'dataPromId': 'd_sfrom=search_prime&d_ckId=null&d_curPage=0&d_pageSize=40&d_headId=null&d_posi=30&skId=h2c8pxojavrmo1w785z7ueih2ybfpux8&fkId=h2c8pxojavrmo1w785z7ueih2ybfpux8&ckId=h2c8pxojavrmo1w785z7ueih2ybfpux8&sfrom=search_job_pc&curPage=0&pageSize=40&index=30',\n      'pcOuterLink': '',\n      'h5OuterLink': '',\n      'requireWorkYears': '经验不限',\n      'requireEduLevel': '本科',\n      'advViewFlag': False},\n     'recruiter': {'imId': '9f80db4d7554d22be0d71104ecc2e595',\n      'imUserType': '2',\n      'recruiterName': '沈女士',\n      'recruiterTitle': '人力资源管理实习生',\n      'chatted': False,\n      'recruiterId': 'dc5f7372900c47cbac06d00d0050166c',\n      'recruiterPhoto': '5f8f9866dfb13a7dee342f1808u.jpg'},\n     'comp': {'compId': 2615574,\n      'compLogo': '5ece164af1b6f069706433da06u.png',\n      'compScale': '10000人以上',\n      'link': 'https://www.liepin.com/company/2615574/',\n      'compName': '群邑(上海)广告有限公司',\n      'compIndustry': '广告/公关/会展'},\n     'dataInfo': '%7B%22ckId%22%3A%22h2c8pxojavrmo1w785z7ueih2ybfpux8%22%2C%22scene%22%3A%22input%22%2C%22skId%22%3A%22h2c8pxojavrmo1w785z7ueih2ybfpux8%22%2C%22fkId%22%3A%22h2c8pxojavrmo1w785z7ueih2ybfpux8%22%2C%22pageSize%22%3A%2240%22%2C%22curPage%22%3A%220%22%2C%22sfrom%22%3A%22search_job_pc%22%2C%22jobId%22%3A%2256498145%22%2C%22jobKind%22%3A%222%22%2C%22d_curPage%22%3A%220%22%2C%22d_pageSize%22%3A%2240%22%2C%22as_from%22%3A%22search_prime%22%7D'},\n    {'dataParams': '{\"userId\":\"ab85195b339ccc0124e70d26f33cc59b\",\"imId\":\"39ae20de9dbc56fe416531f89b829049\",\"imUserType\":\"2\",\"jobId\":\"54220219\",\"recruiterName\":\"秦女士\",\"jobKind\":\"2\",\"recruiterPhoto\":\"5f8f986779c7cc70efbf36c008u.jpg\"}',\n     'job': {'labels': ['文案策划', '网站策划'],\n      'refreshTime': '20221122110805',\n      'dq': '上海-黄浦区',\n      'jobId': '54220219',\n      'jobKind': '2',\n      'link': 'https://www.liepin.com/job/1954220219.shtml',\n      'topJob': False,\n      'title': '美妆商业广告策划',\n      'salary': '20-35k·15薪',\n      'dataPromId': 'd_sfrom=search_prime&d_ckId=null&d_curPage=0&d_pageSize=40&d_headId=null&d_posi=31&skId=h2c8pxojavrmo1w785z7ueih2ybfpux8&fkId=h2c8pxojavrmo1w785z7ueih2ybfpux8&ckId=h2c8pxojavrmo1w785z7ueih2ybfpux8&sfrom=search_job_pc&curPage=0&pageSize=40&index=31',\n      'pcOuterLink': '',\n      'h5OuterLink': '',\n      'requireWorkYears': '5-10年',\n      'requireEduLevel': '本科',\n      'advViewFlag': False},\n     'recruiter': {'imId': '39ae20de9dbc56fe416531f89b829049',\n      'imUserType': '2',\n      'recruiterName': '秦女士',\n      'recruiterTitle': '猎头顾问',\n      'chatted': False,\n      'recruiterId': 'ab85195b339ccc0124e70d26f33cc59b',\n      'recruiterPhoto': '5f8f986779c7cc70efbf36c008u.jpg'},\n     'comp': {'compId': 7921271,\n      'compStage': 'D轮',\n      'compLogo': '5952248270327b30a4cc59d605a.jpg',\n      'compScale': '1000-2000人',\n      'link': 'https://www.liepin.com/company/7921271/',\n      'compName': '小红书',\n      'compIndustry': '互联网'},\n     'dataInfo': '%7B%22ckId%22%3A%22h2c8pxojavrmo1w785z7ueih2ybfpux8%22%2C%22scene%22%3A%22input%22%2C%22skId%22%3A%22h2c8pxojavrmo1w785z7ueih2ybfpux8%22%2C%22fkId%22%3A%22h2c8pxojavrmo1w785z7ueih2ybfpux8%22%2C%22pageSize%22%3A%2240%22%2C%22curPage%22%3A%220%22%2C%22sfrom%22%3A%22search_job_pc%22%2C%22jobId%22%3A%2254220219%22%2C%22jobKind%22%3A%222%22%2C%22d_curPage%22%3A%220%22%2C%22d_pageSize%22%3A%2240%22%2C%22as_from%22%3A%22search_prime%22%7D'},\n    {'dataParams': '{\"userId\":\"58e5cc20f861b67295a8f7d9a8379a92\",\"imId\":\"eb4372a33bf861aec307fe6e334c0c05\",\"imUserType\":\"2\",\"jobId\":\"44045745\",\"recruiterName\":\"凌先生\",\"jobKind\":\"2\",\"recruiterPhoto\":\"5f8f98698dbe6273dcf8516008u.jpg\"}',\n     'job': {'labels': ['品牌文案', '新媒体文案', '活动文案'],\n      'refreshTime': '20211019123704',\n      'dq': '上海-普陀区',\n      'jobId': '44045745',\n      'jobKind': '2',\n      'link': 'https://www.liepin.com/job/1944045745.shtml',\n      'topJob': False,\n      'title': '广告策划文案',\n      'salary': '6-10k',\n      'dataPromId': 'd_sfrom=search_prime&d_ckId=null&d_curPage=0&d_pageSize=40&d_headId=null&d_posi=32&skId=h2c8pxojavrmo1w785z7ueih2ybfpux8&fkId=h2c8pxojavrmo1w785z7ueih2ybfpux8&ckId=h2c8pxojavrmo1w785z7ueih2ybfpux8&sfrom=search_job_pc&curPage=0&pageSize=40&index=32',\n      'pcOuterLink': '',\n      'h5OuterLink': '',\n      'requireWorkYears': '1-3年',\n      'requireEduLevel': '本科',\n      'advViewFlag': False},\n     'recruiter': {'imId': 'eb4372a33bf861aec307fe6e334c0c05',\n      'imUserType': '2',\n      'recruiterName': '凌先生',\n      'recruiterTitle': '总监',\n      'chatted': False,\n      'recruiterId': '58e5cc20f861b67295a8f7d9a8379a92',\n      'recruiterPhoto': '5f8f98698dbe6273dcf8516008u.jpg'},\n     'comp': {'compId': 12434119,\n      'compLogo': '5f891de8ea60860b753572a003u.jpg',\n      'compScale': '1-49人',\n      'link': 'https://www.liepin.com/company/12434119/',\n      'compName': '上海果匠文化传播有限公司',\n      'compIndustry': '广播/影视/录音'},\n     'dataInfo': '%7B%22ckId%22%3A%22h2c8pxojavrmo1w785z7ueih2ybfpux8%22%2C%22scene%22%3A%22input%22%2C%22skId%22%3A%22h2c8pxojavrmo1w785z7ueih2ybfpux8%22%2C%22fkId%22%3A%22h2c8pxojavrmo1w785z7ueih2ybfpux8%22%2C%22pageSize%22%3A%2240%22%2C%22curPage%22%3A%220%22%2C%22sfrom%22%3A%22search_job_pc%22%2C%22jobId%22%3A%2244045745%22%2C%22jobKind%22%3A%222%22%2C%22d_curPage%22%3A%220%22%2C%22d_pageSize%22%3A%2240%22%2C%22as_from%22%3A%22search_prime%22%7D'},\n    {'dataParams': '{\"userId\":\"167b0a32c2e89ebe637725b7d1bac95f\",\"imId\":\"632d543acaf50ea5cc96cca4578a1729\",\"imUserType\":\"2\",\"jobId\":\"44105917\",\"recruiterName\":\"缪女士\",\"jobKind\":\"2\",\"recruiterPhoto\":\"5f8f98648dbe6273dcf8515508u.jpg\"}',\n     'job': {'labels': ['网站策划', '营销策划', 'IT/互联网/软件', '广告/传媒/文化'],\n      'refreshTime': '20211022115632',\n      'dq': '上海-长宁区',\n      'jobId': '44105917',\n      'jobKind': '2',\n      'link': 'https://www.liepin.com/job/1944105917.shtml',\n      'topJob': False,\n      'title': '广告策划',\n      'salary': '8-20k',\n      'dataPromId': 'd_sfrom=search_prime&d_ckId=null&d_curPage=0&d_pageSize=40&d_headId=null&d_posi=33&skId=h2c8pxojavrmo1w785z7ueih2ybfpux8&fkId=h2c8pxojavrmo1w785z7ueih2ybfpux8&ckId=h2c8pxojavrmo1w785z7ueih2ybfpux8&sfrom=search_job_pc&curPage=0&pageSize=40&index=33',\n      'pcOuterLink': '',\n      'h5OuterLink': '',\n      'requireWorkYears': '1-3年',\n      'requireEduLevel': '本科',\n      'advViewFlag': False},\n     'recruiter': {'imId': '632d543acaf50ea5cc96cca4578a1729',\n      'imUserType': '2',\n      'recruiterName': '缪女士',\n      'recruiterTitle': '总经理',\n      'chatted': False,\n      'recruiterId': '167b0a32c2e89ebe637725b7d1bac95f',\n      'recruiterPhoto': '5f8f98648dbe6273dcf8515508u.jpg'},\n     'comp': {'compId': 12971257,\n      'compLogo': '61b07937d0458d53c627567e02u.jpg',\n      'compScale': '1-49人',\n      'link': 'https://www.liepin.com/company/12971257/',\n      'compName': '上海一颂商务咨询有限公司',\n      'compIndustry': '广告/公关/会展'},\n     'dataInfo': '%7B%22ckId%22%3A%22h2c8pxojavrmo1w785z7ueih2ybfpux8%22%2C%22scene%22%3A%22input%22%2C%22skId%22%3A%22h2c8pxojavrmo1w785z7ueih2ybfpux8%22%2C%22fkId%22%3A%22h2c8pxojavrmo1w785z7ueih2ybfpux8%22%2C%22pageSize%22%3A%2240%22%2C%22curPage%22%3A%220%22%2C%22sfrom%22%3A%22search_job_pc%22%2C%22jobId%22%3A%2244105917%22%2C%22jobKind%22%3A%222%22%2C%22d_curPage%22%3A%220%22%2C%22d_pageSize%22%3A%2240%22%2C%22as_from%22%3A%22search_prime%22%7D'},\n    {'dataParams': '{\"userId\":\"9b99e1785cbdcb3fbcf91d9e082d58b1\",\"imId\":\"4bd077f6c2c32bf99b730e23f2bd8f83\",\"imUserType\":\"2\",\"jobId\":\"14204783\",\"recruiterName\":\"闵女士\",\"jobKind\":\"2\",\"recruiterPhoto\":\"5dfaef9f276e4871f42f074e04u.png\"}',\n     'job': {'labels': ['广告策划', '广告媒体', '广告/传媒/文化'],\n      'refreshTime': '20230109113508',\n      'dq': '上海-长宁区',\n      'jobId': '14204783',\n      'jobKind': '2',\n      'link': 'https://www.liepin.com/job/1914204783.shtml',\n      'topJob': False,\n      'title': '广告策划AE',\n      'salary': '5-10k',\n      'dataPromId': 'd_sfrom=search_prime&d_ckId=null&d_curPage=0&d_pageSize=40&d_headId=null&d_posi=34&skId=h2c8pxojavrmo1w785z7ueih2ybfpux8&fkId=h2c8pxojavrmo1w785z7ueih2ybfpux8&ckId=h2c8pxojavrmo1w785z7ueih2ybfpux8&sfrom=search_job_pc&curPage=0&pageSize=40&index=34',\n      'pcOuterLink': '',\n      'h5OuterLink': '',\n      'requireWorkYears': '经验不限',\n      'requireEduLevel': '本科',\n      'advViewFlag': False},\n     'recruiter': {'imId': '4bd077f6c2c32bf99b730e23f2bd8f83',\n      'imUserType': '2',\n      'recruiterName': '闵女士',\n      'recruiterTitle': 'Operation & HR Manager',\n      'chatted': False,\n      'recruiterId': '9b99e1785cbdcb3fbcf91d9e082d58b1',\n      'recruiterPhoto': '5dfaef9f276e4871f42f074e04u.png'},\n     'comp': {'compId': 9540371,\n      'compStage': '融资未公开',\n      'compLogo': '61b07937d0458d53c627567e02u.jpg',\n      'compScale': '50-99人',\n      'link': 'https://www.liepin.com/company/9540371/',\n      'compName': '事话(上海)广告有限公司',\n      'compIndustry': '广告/公关/会展'},\n     'dataInfo': '%7B%22ckId%22%3A%22h2c8pxojavrmo1w785z7ueih2ybfpux8%22%2C%22scene%22%3A%22input%22%2C%22skId%22%3A%22h2c8pxojavrmo1w785z7ueih2ybfpux8%22%2C%22fkId%22%3A%22h2c8pxojavrmo1w785z7ueih2ybfpux8%22%2C%22pageSize%22%3A%2240%22%2C%22curPage%22%3A%220%22%2C%22sfrom%22%3A%22search_job_pc%22%2C%22jobId%22%3A%2214204783%22%2C%22jobKind%22%3A%222%22%2C%22d_curPage%22%3A%220%22%2C%22d_pageSize%22%3A%2240%22%2C%22as_from%22%3A%22search_prime%22%7D'},\n    {'dataParams': '{\"userId\":\"fd6ea30e74423e3b84a317888b12ae61\",\"imId\":\"aeafe1dad210ee339941166e65ebdb6f\",\"imUserType\":\"2\",\"jobId\":\"35867731\",\"recruiterName\":\"代女士\",\"jobKind\":\"2\",\"recruiterPhoto\":\"602e086f09f00f0851fa451907u.png\"}',\n     'job': {'labels': ['内容运营'],\n      'refreshTime': '20210218142514',\n      'dq': '上海',\n      'jobId': '35867731',\n      'jobKind': '2',\n      'link': 'https://www.liepin.com/job/1935867731.shtml',\n      'topJob': False,\n      'title': '广告策划方向应届毕业生',\n      'salary': '6-11k·13薪',\n      'dataPromId': 'd_sfrom=search_prime&d_ckId=null&d_curPage=0&d_pageSize=40&d_headId=null&d_posi=35&skId=h2c8pxojavrmo1w785z7ueih2ybfpux8&fkId=h2c8pxojavrmo1w785z7ueih2ybfpux8&ckId=h2c8pxojavrmo1w785z7ueih2ybfpux8&sfrom=search_job_pc&curPage=0&pageSize=40&index=35',\n      'pcOuterLink': '',\n      'h5OuterLink': '',\n      'requireWorkYears': '经验不限',\n      'requireEduLevel': '本科',\n      'advViewFlag': False},\n     'recruiter': {'imId': 'aeafe1dad210ee339941166e65ebdb6f',\n      'imUserType': '2',\n      'recruiterName': '代女士',\n      'recruiterTitle': '新媒体运营主管',\n      'chatted': False,\n      'recruiterId': 'fd6ea30e74423e3b84a317888b12ae61',\n      'recruiterPhoto': '602e086f09f00f0851fa451907u.png'},\n     'comp': {'compId': 10201729,\n      'compStage': '融资未公开',\n      'compLogo': '61b07937d0458d53c627567e02u.jpg',\n      'compScale': '1-49人',\n      'link': 'https://www.liepin.com/company/10201729/',\n      'compName': '上海贝书管理咨询有限公司',\n      'compIndustry': '广告/公关/会展'},\n     'dataInfo': '%7B%22ckId%22%3A%22h2c8pxojavrmo1w785z7ueih2ybfpux8%22%2C%22scene%22%3A%22input%22%2C%22skId%22%3A%22h2c8pxojavrmo1w785z7ueih2ybfpux8%22%2C%22fkId%22%3A%22h2c8pxojavrmo1w785z7ueih2ybfpux8%22%2C%22pageSize%22%3A%2240%22%2C%22curPage%22%3A%220%22%2C%22sfrom%22%3A%22search_job_pc%22%2C%22jobId%22%3A%2235867731%22%2C%22jobKind%22%3A%222%22%2C%22d_curPage%22%3A%220%22%2C%22d_pageSize%22%3A%2240%22%2C%22as_from%22%3A%22search_prime%22%7D'},\n    {'dataParams': '{\"userId\":\"53da6fed5384d274258924040bc7a85b\",\"imId\":\"f086316927445b55e3a362ce23913155\",\"imUserType\":\"2\",\"jobId\":\"25088147\",\"recruiterName\":\"曹女士\",\"jobKind\":\"2\",\"recruiterPhoto\":\"56938e9345ce240b1ff6c31504a.png\"}',\n     'job': {'labels': ['媒介媒体', '广告文案', '活动文案', '新媒体文案', '品牌文案'],\n      'refreshTime': '20191203140001',\n      'dq': '上海',\n      'jobId': '25088147',\n      'jobKind': '2',\n      'link': 'https://www.liepin.com/job/1925088147.shtml',\n      'topJob': False,\n      'title': '广告策划/文案',\n      'salary': '8-12k',\n      'dataPromId': 'd_sfrom=search_prime&d_ckId=null&d_curPage=0&d_pageSize=40&d_headId=null&d_posi=36&skId=h2c8pxojavrmo1w785z7ueih2ybfpux8&fkId=h2c8pxojavrmo1w785z7ueih2ybfpux8&ckId=h2c8pxojavrmo1w785z7ueih2ybfpux8&sfrom=search_job_pc&curPage=0&pageSize=40&index=36',\n      'pcOuterLink': '',\n      'h5OuterLink': '',\n      'requireWorkYears': '经验不限',\n      'requireEduLevel': '本科',\n      'advViewFlag': False},\n     'recruiter': {'imId': 'f086316927445b55e3a362ce23913155',\n      'imUserType': '2',\n      'recruiterName': '曹女士',\n      'recruiterTitle': '合伙人',\n      'chatted': False,\n      'recruiterId': '53da6fed5384d274258924040bc7a85b',\n      'recruiterPhoto': '56938e9345ce240b1ff6c31504a.png'},\n     'comp': {'compId': 10272573,\n      'compLogo': '61b07937d0458d53c627567e02u.jpg',\n      'compScale': '1-49人',\n      'link': 'https://www.liepin.com/company/10272573/',\n      'compName': '上海写拾广告有限公司',\n      'compIndustry': '广播/影视/录音'},\n     'dataInfo': '%7B%22ckId%22%3A%22h2c8pxojavrmo1w785z7ueih2ybfpux8%22%2C%22scene%22%3A%22input%22%2C%22skId%22%3A%22h2c8pxojavrmo1w785z7ueih2ybfpux8%22%2C%22fkId%22%3A%22h2c8pxojavrmo1w785z7ueih2ybfpux8%22%2C%22pageSize%22%3A%2240%22%2C%22curPage%22%3A%220%22%2C%22sfrom%22%3A%22search_job_pc%22%2C%22jobId%22%3A%2225088147%22%2C%22jobKind%22%3A%222%22%2C%22d_curPage%22%3A%220%22%2C%22d_pageSize%22%3A%2240%22%2C%22as_from%22%3A%22search_prime%22%7D'},\n    {'dataParams': '{\"userId\":\"69cc5812e34744fbd1a98392911bf68b\",\"imId\":\"52ff7e3b099c41be410685fca6d952de\",\"imUserType\":\"2\",\"jobId\":\"50576139\",\"recruiterName\":\"顾女士\",\"jobKind\":\"2\",\"recruiterPhoto\":\"5f8f9863f6d1ab58476f246a08u.jpg\"}',\n     'job': {'labels': ['营销策划', '社交媒体', 'MCN', '广告策划', 'KOL', '新媒体', '4A公司背景'],\n      'refreshTime': '20220805112358',\n      'dq': '上海-静安区',\n      'jobId': '50576139',\n      'jobKind': '2',\n      'link': 'https://www.liepin.com/job/1950576139.shtml',\n      'topJob': False,\n      'title': '广告策划',\n      'salary': '7-11k·13薪',\n      'dataPromId': 'd_sfrom=search_prime&d_ckId=null&d_curPage=0&d_pageSize=40&d_headId=null&d_posi=37&skId=h2c8pxojavrmo1w785z7ueih2ybfpux8&fkId=h2c8pxojavrmo1w785z7ueih2ybfpux8&ckId=h2c8pxojavrmo1w785z7ueih2ybfpux8&sfrom=search_job_pc&curPage=0&pageSize=40&index=37',\n      'pcOuterLink': '',\n      'h5OuterLink': '',\n      'requireWorkYears': '经验不限',\n      'requireEduLevel': '本科',\n      'advViewFlag': False},\n     'recruiter': {'imId': '52ff7e3b099c41be410685fca6d952de',\n      'imUserType': '2',\n      'recruiterName': '顾女士',\n      'recruiterTitle': '人事行政专员',\n      'chatted': False,\n      'recruiterId': '69cc5812e34744fbd1a98392911bf68b',\n      'recruiterPhoto': '5f8f9863f6d1ab58476f246a08u.jpg'},\n     'comp': {'compId': 8951592,\n      'compStage': '其他',\n      'compLogo': '61d596484437f3326bc3974106u.png',\n      'compScale': '100-499人',\n      'link': 'https://www.liepin.com/company/8951592/',\n      'compName': '上海告趣信息科技有限公司',\n      'compIndustry': '广告/公关/会展'},\n     'dataInfo': '%7B%22ckId%22%3A%22h2c8pxojavrmo1w785z7ueih2ybfpux8%22%2C%22scene%22%3A%22input%22%2C%22skId%22%3A%22h2c8pxojavrmo1w785z7ueih2ybfpux8%22%2C%22fkId%22%3A%22h2c8pxojavrmo1w785z7ueih2ybfpux8%22%2C%22pageSize%22%3A%2240%22%2C%22curPage%22%3A%220%22%2C%22sfrom%22%3A%22search_job_pc%22%2C%22jobId%22%3A%2250576139%22%2C%22jobKind%22%3A%222%22%2C%22d_curPage%22%3A%220%22%2C%22d_pageSize%22%3A%2240%22%2C%22as_from%22%3A%22search_prime%22%7D'},\n    {'dataParams': '{\"userId\":\"b2b0154910105fbc0a059834698e279d\",\"imId\":\"dddded64a883925f4383db9bf147ecbd\",\"imUserType\":\"2\",\"jobId\":\"34936027\",\"recruiterName\":\"朱女士\",\"jobKind\":\"2\",\"recruiterPhoto\":\"5f8f986779c7cc70efbf36c008u.jpg\"}',\n     'job': {'labels': [],\n      'refreshTime': '20210112143724',\n      'dq': '上海-杨浦区',\n      'jobId': '34936027',\n      'jobKind': '2',\n      'link': 'https://www.liepin.com/job/1934936027.shtml',\n      'topJob': False,\n      'title': '广告策划总监',\n      'salary': '15-20k',\n      'dataPromId': 'd_sfrom=search_prime&d_ckId=null&d_curPage=0&d_pageSize=40&d_headId=null&d_posi=38&skId=h2c8pxojavrmo1w785z7ueih2ybfpux8&fkId=h2c8pxojavrmo1w785z7ueih2ybfpux8&ckId=h2c8pxojavrmo1w785z7ueih2ybfpux8&sfrom=search_job_pc&curPage=0&pageSize=40&index=38',\n      'pcOuterLink': '',\n      'h5OuterLink': '',\n      'requireWorkYears': '5-10年',\n      'requireEduLevel': '本科',\n      'advViewFlag': False},\n     'recruiter': {'imId': 'dddded64a883925f4383db9bf147ecbd',\n      'imUserType': '2',\n      'recruiterName': '朱女士',\n      'recruiterTitle': '',\n      'chatted': False,\n      'recruiterId': 'b2b0154910105fbc0a059834698e279d',\n      'recruiterPhoto': '5f8f986779c7cc70efbf36c008u.jpg'},\n     'comp': {'compId': 10011765,\n      'compStage': '战略投资',\n      'compLogo': '5cc51679501544662c5e52f305u.jpg',\n      'compScale': '50-99人',\n      'link': 'https://www.liepin.com/company/10011765/',\n      'compName': '爸妈营',\n      'compIndustry': '互联网'},\n     'dataInfo': '%7B%22ckId%22%3A%22h2c8pxojavrmo1w785z7ueih2ybfpux8%22%2C%22scene%22%3A%22input%22%2C%22skId%22%3A%22h2c8pxojavrmo1w785z7ueih2ybfpux8%22%2C%22fkId%22%3A%22h2c8pxojavrmo1w785z7ueih2ybfpux8%22%2C%22pageSize%22%3A%2240%22%2C%22curPage%22%3A%220%22%2C%22sfrom%22%3A%22search_job_pc%22%2C%22jobId%22%3A%2234936027%22%2C%22jobKind%22%3A%222%22%2C%22d_curPage%22%3A%220%22%2C%22d_pageSize%22%3A%2240%22%2C%22as_from%22%3A%22search_prime%22%7D'},\n    {'dataParams': '{\"userId\":\"b5ee10cbdf2ef8ef8dd3ccacb977af60\",\"imId\":\"f08d2ca968e841ed4da34c7ac147e5b9\",\"imUserType\":\"2\",\"jobId\":\"63288741\",\"recruiterName\":\"韩女士\",\"jobKind\":\"2\",\"recruiterPhoto\":\"5f8f9866dfb13a7dee342f1808u.jpg\"}',\n     'job': {'labels': [],\n      'refreshTime': '20231129221733',\n      'dq': '上海-黄浦区',\n      'jobId': '63288741',\n      'jobKind': '2',\n      'link': 'https://www.liepin.com/job/1963288741.shtml',\n      'topJob': False,\n      'title': '广告策划-交通行业',\n      'salary': '25-45k·15薪',\n      'dataPromId': 'd_sfrom=search_prime&d_ckId=null&d_curPage=0&d_pageSize=40&d_headId=null&d_posi=39&skId=h2c8pxojavrmo1w785z7ueih2ybfpux8&fkId=h2c8pxojavrmo1w785z7ueih2ybfpux8&ckId=h2c8pxojavrmo1w785z7ueih2ybfpux8&sfrom=search_job_pc&curPage=0&pageSize=40&index=39',\n      'pcOuterLink': '',\n      'h5OuterLink': '',\n      'requireWorkYears': '5-10年',\n      'requireEduLevel': '本科',\n      'advViewFlag': False},\n     'recruiter': {'imId': 'f08d2ca968e841ed4da34c7ac147e5b9',\n      'imUserType': '2',\n      'recruiterName': '韩女士',\n      'recruiterTitle': '招聘主管',\n      'chatted': False,\n      'recruiterId': 'b5ee10cbdf2ef8ef8dd3ccacb977af60',\n      'recruiterPhoto': '5f8f9866dfb13a7dee342f1808u.jpg'},\n     'comp': {'compId': 7921271,\n      'compStage': 'D轮',\n      'compLogo': '5952248270327b30a4cc59d605a.jpg',\n      'compScale': '1000-2000人',\n      'link': 'https://www.liepin.com/company/7921271/',\n      'compName': '小红书',\n      'compIndustry': '互联网'},\n     'dataInfo': '%7B%22ckId%22%3A%22h2c8pxojavrmo1w785z7ueih2ybfpux8%22%2C%22scene%22%3A%22input%22%2C%22skId%22%3A%22h2c8pxojavrmo1w785z7ueih2ybfpux8%22%2C%22fkId%22%3A%22h2c8pxojavrmo1w785z7ueih2ybfpux8%22%2C%22pageSize%22%3A%2240%22%2C%22curPage%22%3A%220%22%2C%22sfrom%22%3A%22search_job_pc%22%2C%22jobId%22%3A%2263288741%22%2C%22jobKind%22%3A%222%22%2C%22d_curPage%22%3A%220%22%2C%22d_pageSize%22%3A%2240%22%2C%22as_from%22%3A%22search_prime%22%7D'}],\n   'compList': []},\n  'passThroughData': {'ckId': 'h2c8pxojavrmo1w785z7ueih2ybfpux8',\n   'scene': 'input',\n   'skId': 'h2c8pxojavrmo1w785z7ueih2ybfpux8',\n   'fkId': 'h2c8pxojavrmo1w785z7ueih2ybfpux8',\n   'sfrom': 'search_job_pc'},\n  'pagination': {'currentPage': 0,\n   'totalPage': 9,\n   'pageSize': 40,\n   'totalCounts': 336,\n   'hasNext': False}}}"
     },
     "execution_count": 8,
     "metadata": {},
     "output_type": "execute_result"
    }
   ],
   "source": [
    "import time\n",
    "import random\n",
    "wait_time = random.randint(3,10)\n",
    "\n",
    "payload = payloadd(str(城市),str(关键词))\n",
    "# create an HTML session using Requests-HTML\n",
    "session = HTMLSession()\n",
    "r = session.post(url, data=json.dumps(payload), headers=headers())\n",
    "\n",
    "# extract the JSON data from the response\n",
    "response_data = r.json()\n",
    "\n",
    "# example: print the number of job postings returned\n",
    "response_data"
   ],
   "metadata": {
    "collapsed": false
   }
  },
  {
   "cell_type": "code",
   "execution_count": 11,
   "outputs": [
    {
     "data": {
      "text/plain": "9"
     },
     "execution_count": 11,
     "metadata": {},
     "output_type": "execute_result"
    }
   ],
   "source": [
    "page = response_data['data']['pagination']['totalPage']\n",
    "page"
   ],
   "metadata": {
    "collapsed": false
   }
  },
  {
   "cell_type": "markdown",
   "source": [
    "# 10.翻页获取内容，并组合转为通俗易懂的图表"
   ],
   "metadata": {
    "collapsed": false
   }
  },
  {
   "cell_type": "code",
   "execution_count": 12,
   "outputs": [],
   "source": [
    "import pandas as pd\n",
    "import requests\n",
    "response_df = []\n",
    "for i in range(6): # 需要判断页面的数据有多少页\n",
    "    payload['data']['mainSearchPcConditionForm']['currentPage']=i\n",
    "    df = pd.json_normalize(response_data['data']['data']['jobCardList'])\n",
    "    response_df.append(df)\n",
    "    time.sleep(wait_time)"
   ],
   "metadata": {
    "collapsed": false
   }
  },
  {
   "cell_type": "code",
   "execution_count": 13,
   "outputs": [
    {
     "data": {
      "text/plain": "                                           dataParams  \\\n0   {\"userId\":\"aadd6feb5284fb88fe617cf9abcae704\",\"...   \n1   {\"userId\":\"7cbd01d351415a15199e859559a1e25d\",\"...   \n2   {\"userId\":\"db75ed61406d3107ce2ed62f8a220a77\",\"...   \n3   {\"userId\":\"499968e9be21bd7e3829e65eddd95de3\",\"...   \n4   {\"userId\":\"f69732438414537b7db77b0a8f846828\",\"...   \n..                                                ...   \n35  {\"userId\":\"fd6ea30e74423e3b84a317888b12ae61\",\"...   \n36  {\"userId\":\"53da6fed5384d274258924040bc7a85b\",\"...   \n37  {\"userId\":\"69cc5812e34744fbd1a98392911bf68b\",\"...   \n38  {\"userId\":\"b2b0154910105fbc0a059834698e279d\",\"...   \n39  {\"userId\":\"b5ee10cbdf2ef8ef8dd3ccacb977af60\",\"...   \n\n                                             dataInfo  \\\n0   %7B%22ckId%22%3A%22h2c8pxojavrmo1w785z7ueih2yb...   \n1   %7B%22ckId%22%3A%22h2c8pxojavrmo1w785z7ueih2yb...   \n2   %7B%22ckId%22%3A%22h2c8pxojavrmo1w785z7ueih2yb...   \n3   %7B%22ckId%22%3A%22h2c8pxojavrmo1w785z7ueih2yb...   \n4   %7B%22ckId%22%3A%22h2c8pxojavrmo1w785z7ueih2yb...   \n..                                                ...   \n35  %7B%22ckId%22%3A%22h2c8pxojavrmo1w785z7ueih2yb...   \n36  %7B%22ckId%22%3A%22h2c8pxojavrmo1w785z7ueih2yb...   \n37  %7B%22ckId%22%3A%22h2c8pxojavrmo1w785z7ueih2yb...   \n38  %7B%22ckId%22%3A%22h2c8pxojavrmo1w785z7ueih2yb...   \n39  %7B%22ckId%22%3A%22h2c8pxojavrmo1w785z7ueih2yb...   \n\n                                           job.labels job.refreshTime  \\\n0   [文案策划, 媒介策划, 广告策划, 网站策划, 营销策划, 客户管理, 网络媒体, 移动媒...  20230504175401   \n1       [网站策划, 文案策划, 网络媒介, 网络媒体, 广告/传媒/文化, IT/互联网/软件]  20230516151747   \n2                                                  []  20220801201628   \n3                                   [广告策划, 广告媒介, KOL]  20230111102934   \n4    [电影传媒, 广告策划, 文案策划, 户外媒介, 传统媒介, 乙方公司背景, 广告/传媒/文化]  20231018173810   \n..                                                ...             ...   \n35                                             [内容运营]  20210218142514   \n36                    [媒介媒体, 广告文案, 活动文案, 新媒体文案, 品牌文案]  20191203140001   \n37          [营销策划, 社交媒体, MCN, 广告策划, KOL, 新媒体, 4A公司背景]  20220805112358   \n38                                                 []  20210112143724   \n39                                                 []  20231129221733   \n\n     job.dq job.jobId job.jobKind  \\\n0    上海-嘉定区  58273773           2   \n1    上海-黄浦区  58589485           2   \n2   上海-浦东新区  51559471           2   \n3        上海  48397647           2   \n4    上海-徐汇区  62199805           2   \n..      ...       ...         ...   \n35       上海  35867731           2   \n36       上海  25088147           2   \n37   上海-静安区  50576139           2   \n38   上海-杨浦区  34936027           2   \n39   上海-黄浦区  63288741           2   \n\n                                       job.link  job.topJob    job.title  ...  \\\n0   https://www.liepin.com/job/1958273773.shtml       False     广告策划高级经理  ...   \n1   https://www.liepin.com/job/1958589485.shtml       False   酒水饮料商业广告策划  ...   \n2   https://www.liepin.com/job/1951559471.shtml       False       广告策划运营  ...   \n3   https://www.liepin.com/job/1948397647.shtml       False         广告策划  ...   \n4   https://www.liepin.com/job/1962199805.shtml       False       广告策划经理  ...   \n..                                          ...         ...          ...  ...   \n35  https://www.liepin.com/job/1935867731.shtml       False  广告策划方向应届毕业生  ...   \n36  https://www.liepin.com/job/1925088147.shtml       False      广告策划/文案  ...   \n37  https://www.liepin.com/job/1950576139.shtml       False         广告策划  ...   \n38  https://www.liepin.com/job/1934936027.shtml       False       广告策划总监  ...   \n39  https://www.liepin.com/job/1963288741.shtml       False    广告策划-交通行业  ...   \n\n   recruiter.chatted             recruiter.recruiterId  \\\n0              False  aadd6feb5284fb88fe617cf9abcae704   \n1              False  7cbd01d351415a15199e859559a1e25d   \n2              False  db75ed61406d3107ce2ed62f8a220a77   \n3              False  499968e9be21bd7e3829e65eddd95de3   \n4              False  f69732438414537b7db77b0a8f846828   \n..               ...                               ...   \n35             False  fd6ea30e74423e3b84a317888b12ae61   \n36             False  53da6fed5384d274258924040bc7a85b   \n37             False  69cc5812e34744fbd1a98392911bf68b   \n38             False  b2b0154910105fbc0a059834698e279d   \n39             False  b5ee10cbdf2ef8ef8dd3ccacb977af60   \n\n           recruiter.recruiterPhoto comp.compId comp.compStage  \\\n0   64b290564767061a4c09cecc04u.png   9770323.0           港股上市   \n1   5f8f9866dfb13a7dee342f1808u.jpg   7921271.0             D轮   \n2   5f8f986779c7cc70efbf36c008u.jpg    884492.0           美股上市   \n3   5f8f986aea60860b75384fab08u.jpg   8440876.0          融资未公开   \n4   64f85453af493b045620bfad03u.png  13646267.0            NaN   \n..                              ...         ...            ...   \n35  602e086f09f00f0851fa451907u.png  10201729.0          融资未公开   \n36  56938e9345ce240b1ff6c31504a.png  10272573.0            NaN   \n37  5f8f9863f6d1ab58476f246a08u.jpg   8951592.0             其他   \n38  5f8f986779c7cc70efbf36c008u.jpg  10011765.0           战略投资   \n39  5f8f9866dfb13a7dee342f1808u.jpg   7921271.0             D轮   \n\n                      comp.compLogo  comp.compScale  \\\n0   5f3b73cb9d37de587955cfe104u.png        10000人以上   \n1   5952248270327b30a4cc59d605a.jpg      1000-2000人   \n2   5bfe93af74719d9f609aaaef03a.png        10000人以上   \n3   5513cbc20cf2de3b2e1d28b701a.jpg           1-49人   \n4   652fa621b31f5c6e109dd24d02u.jpg           1-49人   \n..                              ...             ...   \n35  61b07937d0458d53c627567e02u.jpg           1-49人   \n36  61b07937d0458d53c627567e02u.jpg           1-49人   \n37  61d596484437f3326bc3974106u.png        100-499人   \n38  5cc51679501544662c5e52f305u.jpg          50-99人   \n39  5952248270327b30a4cc59d605a.jpg      1000-2000人   \n\n                                   comp.link  comp.compName comp.compIndustry  \n0    https://www.liepin.com/company/9770323/           京东物流          货运/物流/仓储  \n1    https://www.liepin.com/company/7921271/            小红书               互联网  \n2     https://www.liepin.com/company/884492/          Baidu               互联网  \n3    https://www.liepin.com/company/8440876/  上海萌尔克文化传播有限公司          广告/公关/会展  \n4   https://www.liepin.com/company/13646267/           千语智彤             文化艺术业  \n..                                       ...            ...               ...  \n35  https://www.liepin.com/company/10201729/   上海贝书管理咨询有限公司          广告/公关/会展  \n36  https://www.liepin.com/company/10272573/     上海写拾广告有限公司          广播/影视/录音  \n37   https://www.liepin.com/company/8951592/   上海告趣信息科技有限公司          广告/公关/会展  \n38  https://www.liepin.com/company/10011765/            爸妈营               互联网  \n39   https://www.liepin.com/company/7921271/            小红书               互联网  \n\n[240 rows x 31 columns]",
      "text/html": "<div>\n<style scoped>\n    .dataframe tbody tr th:only-of-type {\n        vertical-align: middle;\n    }\n\n    .dataframe tbody tr th {\n        vertical-align: top;\n    }\n\n    .dataframe thead th {\n        text-align: right;\n    }\n</style>\n<table border=\"1\" class=\"dataframe\">\n  <thead>\n    <tr style=\"text-align: right;\">\n      <th></th>\n      <th>dataParams</th>\n      <th>dataInfo</th>\n      <th>job.labels</th>\n      <th>job.refreshTime</th>\n      <th>job.dq</th>\n      <th>job.jobId</th>\n      <th>job.jobKind</th>\n      <th>job.link</th>\n      <th>job.topJob</th>\n      <th>job.title</th>\n      <th>...</th>\n      <th>recruiter.chatted</th>\n      <th>recruiter.recruiterId</th>\n      <th>recruiter.recruiterPhoto</th>\n      <th>comp.compId</th>\n      <th>comp.compStage</th>\n      <th>comp.compLogo</th>\n      <th>comp.compScale</th>\n      <th>comp.link</th>\n      <th>comp.compName</th>\n      <th>comp.compIndustry</th>\n    </tr>\n  </thead>\n  <tbody>\n    <tr>\n      <th>0</th>\n      <td>{\"userId\":\"aadd6feb5284fb88fe617cf9abcae704\",\"...</td>\n      <td>%7B%22ckId%22%3A%22h2c8pxojavrmo1w785z7ueih2yb...</td>\n      <td>[文案策划, 媒介策划, 广告策划, 网站策划, 营销策划, 客户管理, 网络媒体, 移动媒...</td>\n      <td>20230504175401</td>\n      <td>上海-嘉定区</td>\n      <td>58273773</td>\n      <td>2</td>\n      <td>https://www.liepin.com/job/1958273773.shtml</td>\n      <td>False</td>\n      <td>广告策划高级经理</td>\n      <td>...</td>\n      <td>False</td>\n      <td>aadd6feb5284fb88fe617cf9abcae704</td>\n      <td>64b290564767061a4c09cecc04u.png</td>\n      <td>9770323.0</td>\n      <td>港股上市</td>\n      <td>5f3b73cb9d37de587955cfe104u.png</td>\n      <td>10000人以上</td>\n      <td>https://www.liepin.com/company/9770323/</td>\n      <td>京东物流</td>\n      <td>货运/物流/仓储</td>\n    </tr>\n    <tr>\n      <th>1</th>\n      <td>{\"userId\":\"7cbd01d351415a15199e859559a1e25d\",\"...</td>\n      <td>%7B%22ckId%22%3A%22h2c8pxojavrmo1w785z7ueih2yb...</td>\n      <td>[网站策划, 文案策划, 网络媒介, 网络媒体, 广告/传媒/文化, IT/互联网/软件]</td>\n      <td>20230516151747</td>\n      <td>上海-黄浦区</td>\n      <td>58589485</td>\n      <td>2</td>\n      <td>https://www.liepin.com/job/1958589485.shtml</td>\n      <td>False</td>\n      <td>酒水饮料商业广告策划</td>\n      <td>...</td>\n      <td>False</td>\n      <td>7cbd01d351415a15199e859559a1e25d</td>\n      <td>5f8f9866dfb13a7dee342f1808u.jpg</td>\n      <td>7921271.0</td>\n      <td>D轮</td>\n      <td>5952248270327b30a4cc59d605a.jpg</td>\n      <td>1000-2000人</td>\n      <td>https://www.liepin.com/company/7921271/</td>\n      <td>小红书</td>\n      <td>互联网</td>\n    </tr>\n    <tr>\n      <th>2</th>\n      <td>{\"userId\":\"db75ed61406d3107ce2ed62f8a220a77\",\"...</td>\n      <td>%7B%22ckId%22%3A%22h2c8pxojavrmo1w785z7ueih2yb...</td>\n      <td>[]</td>\n      <td>20220801201628</td>\n      <td>上海-浦东新区</td>\n      <td>51559471</td>\n      <td>2</td>\n      <td>https://www.liepin.com/job/1951559471.shtml</td>\n      <td>False</td>\n      <td>广告策划运营</td>\n      <td>...</td>\n      <td>False</td>\n      <td>db75ed61406d3107ce2ed62f8a220a77</td>\n      <td>5f8f986779c7cc70efbf36c008u.jpg</td>\n      <td>884492.0</td>\n      <td>美股上市</td>\n      <td>5bfe93af74719d9f609aaaef03a.png</td>\n      <td>10000人以上</td>\n      <td>https://www.liepin.com/company/884492/</td>\n      <td>Baidu</td>\n      <td>互联网</td>\n    </tr>\n    <tr>\n      <th>3</th>\n      <td>{\"userId\":\"499968e9be21bd7e3829e65eddd95de3\",\"...</td>\n      <td>%7B%22ckId%22%3A%22h2c8pxojavrmo1w785z7ueih2yb...</td>\n      <td>[广告策划, 广告媒介, KOL]</td>\n      <td>20230111102934</td>\n      <td>上海</td>\n      <td>48397647</td>\n      <td>2</td>\n      <td>https://www.liepin.com/job/1948397647.shtml</td>\n      <td>False</td>\n      <td>广告策划</td>\n      <td>...</td>\n      <td>False</td>\n      <td>499968e9be21bd7e3829e65eddd95de3</td>\n      <td>5f8f986aea60860b75384fab08u.jpg</td>\n      <td>8440876.0</td>\n      <td>融资未公开</td>\n      <td>5513cbc20cf2de3b2e1d28b701a.jpg</td>\n      <td>1-49人</td>\n      <td>https://www.liepin.com/company/8440876/</td>\n      <td>上海萌尔克文化传播有限公司</td>\n      <td>广告/公关/会展</td>\n    </tr>\n    <tr>\n      <th>4</th>\n      <td>{\"userId\":\"f69732438414537b7db77b0a8f846828\",\"...</td>\n      <td>%7B%22ckId%22%3A%22h2c8pxojavrmo1w785z7ueih2yb...</td>\n      <td>[电影传媒, 广告策划, 文案策划, 户外媒介, 传统媒介, 乙方公司背景, 广告/传媒/文化]</td>\n      <td>20231018173810</td>\n      <td>上海-徐汇区</td>\n      <td>62199805</td>\n      <td>2</td>\n      <td>https://www.liepin.com/job/1962199805.shtml</td>\n      <td>False</td>\n      <td>广告策划经理</td>\n      <td>...</td>\n      <td>False</td>\n      <td>f69732438414537b7db77b0a8f846828</td>\n      <td>64f85453af493b045620bfad03u.png</td>\n      <td>13646267.0</td>\n      <td>NaN</td>\n      <td>652fa621b31f5c6e109dd24d02u.jpg</td>\n      <td>1-49人</td>\n      <td>https://www.liepin.com/company/13646267/</td>\n      <td>千语智彤</td>\n      <td>文化艺术业</td>\n    </tr>\n    <tr>\n      <th>...</th>\n      <td>...</td>\n      <td>...</td>\n      <td>...</td>\n      <td>...</td>\n      <td>...</td>\n      <td>...</td>\n      <td>...</td>\n      <td>...</td>\n      <td>...</td>\n      <td>...</td>\n      <td>...</td>\n      <td>...</td>\n      <td>...</td>\n      <td>...</td>\n      <td>...</td>\n      <td>...</td>\n      <td>...</td>\n      <td>...</td>\n      <td>...</td>\n      <td>...</td>\n      <td>...</td>\n    </tr>\n    <tr>\n      <th>35</th>\n      <td>{\"userId\":\"fd6ea30e74423e3b84a317888b12ae61\",\"...</td>\n      <td>%7B%22ckId%22%3A%22h2c8pxojavrmo1w785z7ueih2yb...</td>\n      <td>[内容运营]</td>\n      <td>20210218142514</td>\n      <td>上海</td>\n      <td>35867731</td>\n      <td>2</td>\n      <td>https://www.liepin.com/job/1935867731.shtml</td>\n      <td>False</td>\n      <td>广告策划方向应届毕业生</td>\n      <td>...</td>\n      <td>False</td>\n      <td>fd6ea30e74423e3b84a317888b12ae61</td>\n      <td>602e086f09f00f0851fa451907u.png</td>\n      <td>10201729.0</td>\n      <td>融资未公开</td>\n      <td>61b07937d0458d53c627567e02u.jpg</td>\n      <td>1-49人</td>\n      <td>https://www.liepin.com/company/10201729/</td>\n      <td>上海贝书管理咨询有限公司</td>\n      <td>广告/公关/会展</td>\n    </tr>\n    <tr>\n      <th>36</th>\n      <td>{\"userId\":\"53da6fed5384d274258924040bc7a85b\",\"...</td>\n      <td>%7B%22ckId%22%3A%22h2c8pxojavrmo1w785z7ueih2yb...</td>\n      <td>[媒介媒体, 广告文案, 活动文案, 新媒体文案, 品牌文案]</td>\n      <td>20191203140001</td>\n      <td>上海</td>\n      <td>25088147</td>\n      <td>2</td>\n      <td>https://www.liepin.com/job/1925088147.shtml</td>\n      <td>False</td>\n      <td>广告策划/文案</td>\n      <td>...</td>\n      <td>False</td>\n      <td>53da6fed5384d274258924040bc7a85b</td>\n      <td>56938e9345ce240b1ff6c31504a.png</td>\n      <td>10272573.0</td>\n      <td>NaN</td>\n      <td>61b07937d0458d53c627567e02u.jpg</td>\n      <td>1-49人</td>\n      <td>https://www.liepin.com/company/10272573/</td>\n      <td>上海写拾广告有限公司</td>\n      <td>广播/影视/录音</td>\n    </tr>\n    <tr>\n      <th>37</th>\n      <td>{\"userId\":\"69cc5812e34744fbd1a98392911bf68b\",\"...</td>\n      <td>%7B%22ckId%22%3A%22h2c8pxojavrmo1w785z7ueih2yb...</td>\n      <td>[营销策划, 社交媒体, MCN, 广告策划, KOL, 新媒体, 4A公司背景]</td>\n      <td>20220805112358</td>\n      <td>上海-静安区</td>\n      <td>50576139</td>\n      <td>2</td>\n      <td>https://www.liepin.com/job/1950576139.shtml</td>\n      <td>False</td>\n      <td>广告策划</td>\n      <td>...</td>\n      <td>False</td>\n      <td>69cc5812e34744fbd1a98392911bf68b</td>\n      <td>5f8f9863f6d1ab58476f246a08u.jpg</td>\n      <td>8951592.0</td>\n      <td>其他</td>\n      <td>61d596484437f3326bc3974106u.png</td>\n      <td>100-499人</td>\n      <td>https://www.liepin.com/company/8951592/</td>\n      <td>上海告趣信息科技有限公司</td>\n      <td>广告/公关/会展</td>\n    </tr>\n    <tr>\n      <th>38</th>\n      <td>{\"userId\":\"b2b0154910105fbc0a059834698e279d\",\"...</td>\n      <td>%7B%22ckId%22%3A%22h2c8pxojavrmo1w785z7ueih2yb...</td>\n      <td>[]</td>\n      <td>20210112143724</td>\n      <td>上海-杨浦区</td>\n      <td>34936027</td>\n      <td>2</td>\n      <td>https://www.liepin.com/job/1934936027.shtml</td>\n      <td>False</td>\n      <td>广告策划总监</td>\n      <td>...</td>\n      <td>False</td>\n      <td>b2b0154910105fbc0a059834698e279d</td>\n      <td>5f8f986779c7cc70efbf36c008u.jpg</td>\n      <td>10011765.0</td>\n      <td>战略投资</td>\n      <td>5cc51679501544662c5e52f305u.jpg</td>\n      <td>50-99人</td>\n      <td>https://www.liepin.com/company/10011765/</td>\n      <td>爸妈营</td>\n      <td>互联网</td>\n    </tr>\n    <tr>\n      <th>39</th>\n      <td>{\"userId\":\"b5ee10cbdf2ef8ef8dd3ccacb977af60\",\"...</td>\n      <td>%7B%22ckId%22%3A%22h2c8pxojavrmo1w785z7ueih2yb...</td>\n      <td>[]</td>\n      <td>20231129221733</td>\n      <td>上海-黄浦区</td>\n      <td>63288741</td>\n      <td>2</td>\n      <td>https://www.liepin.com/job/1963288741.shtml</td>\n      <td>False</td>\n      <td>广告策划-交通行业</td>\n      <td>...</td>\n      <td>False</td>\n      <td>b5ee10cbdf2ef8ef8dd3ccacb977af60</td>\n      <td>5f8f9866dfb13a7dee342f1808u.jpg</td>\n      <td>7921271.0</td>\n      <td>D轮</td>\n      <td>5952248270327b30a4cc59d605a.jpg</td>\n      <td>1000-2000人</td>\n      <td>https://www.liepin.com/company/7921271/</td>\n      <td>小红书</td>\n      <td>互联网</td>\n    </tr>\n  </tbody>\n</table>\n<p>240 rows × 31 columns</p>\n</div>"
     },
     "execution_count": 13,
     "metadata": {},
     "output_type": "execute_result"
    }
   ],
   "source": [
    "df = pd.concat(response_df)\n",
    "df"
   ],
   "metadata": {
    "collapsed": false
   }
  },
  {
   "cell_type": "markdown",
   "source": [
    "# 11.将输入的数据赋值，来为输出图表命名"
   ],
   "metadata": {
    "collapsed": false
   }
  },
  {
   "cell_type": "code",
   "execution_count": 24,
   "outputs": [
    {
     "data": {
      "text/plain": "'广告策划'"
     },
     "execution_count": 24,
     "metadata": {},
     "output_type": "execute_result"
    }
   ],
   "source": [
    "key = payload['data']['mainSearchPcConditionForm']['key']\n",
    "key"
   ],
   "metadata": {
    "collapsed": false
   }
  },
  {
   "cell_type": "code",
   "execution_count": 25,
   "outputs": [
    {
     "data": {
      "text/plain": "'上海'"
     },
     "execution_count": 25,
     "metadata": {},
     "output_type": "execute_result"
    }
   ],
   "source": [
    "cities = str(城市)\n",
    "cities"
   ],
   "metadata": {
    "collapsed": false
   }
  },
  {
   "cell_type": "markdown",
   "source": [
    "# 12.加入时间戳"
   ],
   "metadata": {
    "collapsed": false
   }
  },
  {
   "cell_type": "code",
   "execution_count": 27,
   "outputs": [
    {
     "data": {
      "text/plain": "'2023-11-30_0-37'"
     },
     "execution_count": 27,
     "metadata": {},
     "output_type": "execute_result"
    }
   ],
   "source": [
    "import time\n",
    "time.localtime()\n",
    "output_time = str(time.localtime().tm_year)+'-'\\\n",
    "              +str(time.localtime().tm_mon)+'-'\\\n",
    "             +str(time.localtime().tm_mday)+'_'\\\n",
    "             +str(time.localtime().tm_hour)+'-' \\\n",
    "             +str(time.localtime().tm_min)\n",
    "output_time\n"
   ],
   "metadata": {
    "collapsed": false
   }
  },
  {
   "cell_type": "markdown",
   "source": [
    "# 13.输出为excel"
   ],
   "metadata": {
    "collapsed": false
   }
  },
  {
   "cell_type": "code",
   "execution_count": 28,
   "outputs": [],
   "source": [
    "df.to_excel( '猎聘'+cities+'-'+key+output_time+'.xlsx')"
   ],
   "metadata": {
    "collapsed": false
   }
  },
  {
   "cell_type": "markdown",
   "source": [
    "# 14.读取excel"
   ],
   "metadata": {
    "collapsed": false
   }
  },
  {
   "cell_type": "code",
   "execution_count": 29,
   "outputs": [],
   "source": [
    "import pandas as pd"
   ],
   "metadata": {
    "collapsed": false
   }
  },
  {
   "cell_type": "code",
   "execution_count": 30,
   "outputs": [
    {
     "data": {
      "text/plain": "     Unnamed: 0                                         dataParams  \\\n0             0  {\"userId\":\"aadd6feb5284fb88fe617cf9abcae704\",\"...   \n1             1  {\"userId\":\"7cbd01d351415a15199e859559a1e25d\",\"...   \n2             2  {\"userId\":\"db75ed61406d3107ce2ed62f8a220a77\",\"...   \n3             3  {\"userId\":\"499968e9be21bd7e3829e65eddd95de3\",\"...   \n4             4  {\"userId\":\"f69732438414537b7db77b0a8f846828\",\"...   \n..          ...                                                ...   \n235          35  {\"userId\":\"fd6ea30e74423e3b84a317888b12ae61\",\"...   \n236          36  {\"userId\":\"53da6fed5384d274258924040bc7a85b\",\"...   \n237          37  {\"userId\":\"69cc5812e34744fbd1a98392911bf68b\",\"...   \n238          38  {\"userId\":\"b2b0154910105fbc0a059834698e279d\",\"...   \n239          39  {\"userId\":\"b5ee10cbdf2ef8ef8dd3ccacb977af60\",\"...   \n\n                                              dataInfo  \\\n0    %7B%22ckId%22%3A%22h2c8pxojavrmo1w785z7ueih2yb...   \n1    %7B%22ckId%22%3A%22h2c8pxojavrmo1w785z7ueih2yb...   \n2    %7B%22ckId%22%3A%22h2c8pxojavrmo1w785z7ueih2yb...   \n3    %7B%22ckId%22%3A%22h2c8pxojavrmo1w785z7ueih2yb...   \n4    %7B%22ckId%22%3A%22h2c8pxojavrmo1w785z7ueih2yb...   \n..                                                 ...   \n235  %7B%22ckId%22%3A%22h2c8pxojavrmo1w785z7ueih2yb...   \n236  %7B%22ckId%22%3A%22h2c8pxojavrmo1w785z7ueih2yb...   \n237  %7B%22ckId%22%3A%22h2c8pxojavrmo1w785z7ueih2yb...   \n238  %7B%22ckId%22%3A%22h2c8pxojavrmo1w785z7ueih2yb...   \n239  %7B%22ckId%22%3A%22h2c8pxojavrmo1w785z7ueih2yb...   \n\n                                            job.labels  job.refreshTime  \\\n0    ['文案策划', '媒介策划', '广告策划', '网站策划', '营销策划', '客户管理...   20230504175401   \n1    ['网站策划', '文案策划', '网络媒介', '网络媒体', '广告/传媒/文化', '...   20230516151747   \n2                                                   []   20220801201628   \n3                              ['广告策划', '广告媒介', 'KOL']   20230111102934   \n4    ['电影传媒', '广告策划', '文案策划', '户外媒介', '传统媒介', '乙方公司...   20231018173810   \n..                                                 ...              ...   \n235                                           ['内容运营']   20210218142514   \n236          ['媒介媒体', '广告文案', '活动文案', '新媒体文案', '品牌文案']   20191203140001   \n237  ['营销策划', '社交媒体', 'MCN', '广告策划', 'KOL', '新媒体', ...   20220805112358   \n238                                                 []   20210112143724   \n239                                                 []   20231129221733   \n\n      job.dq  job.jobId  job.jobKind  \\\n0     上海-嘉定区   58273773            2   \n1     上海-黄浦区   58589485            2   \n2    上海-浦东新区   51559471            2   \n3         上海   48397647            2   \n4     上海-徐汇区   62199805            2   \n..       ...        ...          ...   \n235       上海   35867731            2   \n236       上海   25088147            2   \n237   上海-静安区   50576139            2   \n238   上海-杨浦区   34936027            2   \n239   上海-黄浦区   63288741            2   \n\n                                        job.link  job.topJob  ...  \\\n0    https://www.liepin.com/job/1958273773.shtml       False  ...   \n1    https://www.liepin.com/job/1958589485.shtml       False  ...   \n2    https://www.liepin.com/job/1951559471.shtml       False  ...   \n3    https://www.liepin.com/job/1948397647.shtml       False  ...   \n4    https://www.liepin.com/job/1962199805.shtml       False  ...   \n..                                           ...         ...  ...   \n235  https://www.liepin.com/job/1935867731.shtml       False  ...   \n236  https://www.liepin.com/job/1925088147.shtml       False  ...   \n237  https://www.liepin.com/job/1950576139.shtml       False  ...   \n238  https://www.liepin.com/job/1934936027.shtml       False  ...   \n239  https://www.liepin.com/job/1963288741.shtml       False  ...   \n\n    recruiter.chatted             recruiter.recruiterId  \\\n0               False  aadd6feb5284fb88fe617cf9abcae704   \n1               False  7cbd01d351415a15199e859559a1e25d   \n2               False  db75ed61406d3107ce2ed62f8a220a77   \n3               False  499968e9be21bd7e3829e65eddd95de3   \n4               False  f69732438414537b7db77b0a8f846828   \n..                ...                               ...   \n235             False  fd6ea30e74423e3b84a317888b12ae61   \n236             False  53da6fed5384d274258924040bc7a85b   \n237             False  69cc5812e34744fbd1a98392911bf68b   \n238             False  b2b0154910105fbc0a059834698e279d   \n239             False  b5ee10cbdf2ef8ef8dd3ccacb977af60   \n\n            recruiter.recruiterPhoto  comp.compId  comp.compStage  \\\n0    64b290564767061a4c09cecc04u.png    9770323.0            港股上市   \n1    5f8f9866dfb13a7dee342f1808u.jpg    7921271.0              D轮   \n2    5f8f986779c7cc70efbf36c008u.jpg     884492.0            美股上市   \n3    5f8f986aea60860b75384fab08u.jpg    8440876.0           融资未公开   \n4    64f85453af493b045620bfad03u.png   13646267.0             NaN   \n..                               ...          ...             ...   \n235  602e086f09f00f0851fa451907u.png   10201729.0           融资未公开   \n236  56938e9345ce240b1ff6c31504a.png   10272573.0             NaN   \n237  5f8f9863f6d1ab58476f246a08u.jpg    8951592.0              其他   \n238  5f8f986779c7cc70efbf36c008u.jpg   10011765.0            战略投资   \n239  5f8f9866dfb13a7dee342f1808u.jpg    7921271.0              D轮   \n\n                       comp.compLogo comp.compScale  \\\n0    5f3b73cb9d37de587955cfe104u.png       10000人以上   \n1    5952248270327b30a4cc59d605a.jpg     1000-2000人   \n2    5bfe93af74719d9f609aaaef03a.png       10000人以上   \n3    5513cbc20cf2de3b2e1d28b701a.jpg          1-49人   \n4    652fa621b31f5c6e109dd24d02u.jpg          1-49人   \n..                               ...            ...   \n235  61b07937d0458d53c627567e02u.jpg          1-49人   \n236  61b07937d0458d53c627567e02u.jpg          1-49人   \n237  61d596484437f3326bc3974106u.png       100-499人   \n238  5cc51679501544662c5e52f305u.jpg         50-99人   \n239  5952248270327b30a4cc59d605a.jpg     1000-2000人   \n\n                                    comp.link  comp.compName  \\\n0     https://www.liepin.com/company/9770323/           京东物流   \n1     https://www.liepin.com/company/7921271/            小红书   \n2      https://www.liepin.com/company/884492/          Baidu   \n3     https://www.liepin.com/company/8440876/  上海萌尔克文化传播有限公司   \n4    https://www.liepin.com/company/13646267/           千语智彤   \n..                                        ...            ...   \n235  https://www.liepin.com/company/10201729/   上海贝书管理咨询有限公司   \n236  https://www.liepin.com/company/10272573/     上海写拾广告有限公司   \n237   https://www.liepin.com/company/8951592/   上海告趣信息科技有限公司   \n238  https://www.liepin.com/company/10011765/            爸妈营   \n239   https://www.liepin.com/company/7921271/            小红书   \n\n     comp.compIndustry  \n0             货运/物流/仓储  \n1                  互联网  \n2                  互联网  \n3             广告/公关/会展  \n4                文化艺术业  \n..                 ...  \n235           广告/公关/会展  \n236           广播/影视/录音  \n237           广告/公关/会展  \n238                互联网  \n239                互联网  \n\n[240 rows x 32 columns]",
      "text/html": "<div>\n<style scoped>\n    .dataframe tbody tr th:only-of-type {\n        vertical-align: middle;\n    }\n\n    .dataframe tbody tr th {\n        vertical-align: top;\n    }\n\n    .dataframe thead th {\n        text-align: right;\n    }\n</style>\n<table border=\"1\" class=\"dataframe\">\n  <thead>\n    <tr style=\"text-align: right;\">\n      <th></th>\n      <th>Unnamed: 0</th>\n      <th>dataParams</th>\n      <th>dataInfo</th>\n      <th>job.labels</th>\n      <th>job.refreshTime</th>\n      <th>job.dq</th>\n      <th>job.jobId</th>\n      <th>job.jobKind</th>\n      <th>job.link</th>\n      <th>job.topJob</th>\n      <th>...</th>\n      <th>recruiter.chatted</th>\n      <th>recruiter.recruiterId</th>\n      <th>recruiter.recruiterPhoto</th>\n      <th>comp.compId</th>\n      <th>comp.compStage</th>\n      <th>comp.compLogo</th>\n      <th>comp.compScale</th>\n      <th>comp.link</th>\n      <th>comp.compName</th>\n      <th>comp.compIndustry</th>\n    </tr>\n  </thead>\n  <tbody>\n    <tr>\n      <th>0</th>\n      <td>0</td>\n      <td>{\"userId\":\"aadd6feb5284fb88fe617cf9abcae704\",\"...</td>\n      <td>%7B%22ckId%22%3A%22h2c8pxojavrmo1w785z7ueih2yb...</td>\n      <td>['文案策划', '媒介策划', '广告策划', '网站策划', '营销策划', '客户管理...</td>\n      <td>20230504175401</td>\n      <td>上海-嘉定区</td>\n      <td>58273773</td>\n      <td>2</td>\n      <td>https://www.liepin.com/job/1958273773.shtml</td>\n      <td>False</td>\n      <td>...</td>\n      <td>False</td>\n      <td>aadd6feb5284fb88fe617cf9abcae704</td>\n      <td>64b290564767061a4c09cecc04u.png</td>\n      <td>9770323.0</td>\n      <td>港股上市</td>\n      <td>5f3b73cb9d37de587955cfe104u.png</td>\n      <td>10000人以上</td>\n      <td>https://www.liepin.com/company/9770323/</td>\n      <td>京东物流</td>\n      <td>货运/物流/仓储</td>\n    </tr>\n    <tr>\n      <th>1</th>\n      <td>1</td>\n      <td>{\"userId\":\"7cbd01d351415a15199e859559a1e25d\",\"...</td>\n      <td>%7B%22ckId%22%3A%22h2c8pxojavrmo1w785z7ueih2yb...</td>\n      <td>['网站策划', '文案策划', '网络媒介', '网络媒体', '广告/传媒/文化', '...</td>\n      <td>20230516151747</td>\n      <td>上海-黄浦区</td>\n      <td>58589485</td>\n      <td>2</td>\n      <td>https://www.liepin.com/job/1958589485.shtml</td>\n      <td>False</td>\n      <td>...</td>\n      <td>False</td>\n      <td>7cbd01d351415a15199e859559a1e25d</td>\n      <td>5f8f9866dfb13a7dee342f1808u.jpg</td>\n      <td>7921271.0</td>\n      <td>D轮</td>\n      <td>5952248270327b30a4cc59d605a.jpg</td>\n      <td>1000-2000人</td>\n      <td>https://www.liepin.com/company/7921271/</td>\n      <td>小红书</td>\n      <td>互联网</td>\n    </tr>\n    <tr>\n      <th>2</th>\n      <td>2</td>\n      <td>{\"userId\":\"db75ed61406d3107ce2ed62f8a220a77\",\"...</td>\n      <td>%7B%22ckId%22%3A%22h2c8pxojavrmo1w785z7ueih2yb...</td>\n      <td>[]</td>\n      <td>20220801201628</td>\n      <td>上海-浦东新区</td>\n      <td>51559471</td>\n      <td>2</td>\n      <td>https://www.liepin.com/job/1951559471.shtml</td>\n      <td>False</td>\n      <td>...</td>\n      <td>False</td>\n      <td>db75ed61406d3107ce2ed62f8a220a77</td>\n      <td>5f8f986779c7cc70efbf36c008u.jpg</td>\n      <td>884492.0</td>\n      <td>美股上市</td>\n      <td>5bfe93af74719d9f609aaaef03a.png</td>\n      <td>10000人以上</td>\n      <td>https://www.liepin.com/company/884492/</td>\n      <td>Baidu</td>\n      <td>互联网</td>\n    </tr>\n    <tr>\n      <th>3</th>\n      <td>3</td>\n      <td>{\"userId\":\"499968e9be21bd7e3829e65eddd95de3\",\"...</td>\n      <td>%7B%22ckId%22%3A%22h2c8pxojavrmo1w785z7ueih2yb...</td>\n      <td>['广告策划', '广告媒介', 'KOL']</td>\n      <td>20230111102934</td>\n      <td>上海</td>\n      <td>48397647</td>\n      <td>2</td>\n      <td>https://www.liepin.com/job/1948397647.shtml</td>\n      <td>False</td>\n      <td>...</td>\n      <td>False</td>\n      <td>499968e9be21bd7e3829e65eddd95de3</td>\n      <td>5f8f986aea60860b75384fab08u.jpg</td>\n      <td>8440876.0</td>\n      <td>融资未公开</td>\n      <td>5513cbc20cf2de3b2e1d28b701a.jpg</td>\n      <td>1-49人</td>\n      <td>https://www.liepin.com/company/8440876/</td>\n      <td>上海萌尔克文化传播有限公司</td>\n      <td>广告/公关/会展</td>\n    </tr>\n    <tr>\n      <th>4</th>\n      <td>4</td>\n      <td>{\"userId\":\"f69732438414537b7db77b0a8f846828\",\"...</td>\n      <td>%7B%22ckId%22%3A%22h2c8pxojavrmo1w785z7ueih2yb...</td>\n      <td>['电影传媒', '广告策划', '文案策划', '户外媒介', '传统媒介', '乙方公司...</td>\n      <td>20231018173810</td>\n      <td>上海-徐汇区</td>\n      <td>62199805</td>\n      <td>2</td>\n      <td>https://www.liepin.com/job/1962199805.shtml</td>\n      <td>False</td>\n      <td>...</td>\n      <td>False</td>\n      <td>f69732438414537b7db77b0a8f846828</td>\n      <td>64f85453af493b045620bfad03u.png</td>\n      <td>13646267.0</td>\n      <td>NaN</td>\n      <td>652fa621b31f5c6e109dd24d02u.jpg</td>\n      <td>1-49人</td>\n      <td>https://www.liepin.com/company/13646267/</td>\n      <td>千语智彤</td>\n      <td>文化艺术业</td>\n    </tr>\n    <tr>\n      <th>...</th>\n      <td>...</td>\n      <td>...</td>\n      <td>...</td>\n      <td>...</td>\n      <td>...</td>\n      <td>...</td>\n      <td>...</td>\n      <td>...</td>\n      <td>...</td>\n      <td>...</td>\n      <td>...</td>\n      <td>...</td>\n      <td>...</td>\n      <td>...</td>\n      <td>...</td>\n      <td>...</td>\n      <td>...</td>\n      <td>...</td>\n      <td>...</td>\n      <td>...</td>\n      <td>...</td>\n    </tr>\n    <tr>\n      <th>235</th>\n      <td>35</td>\n      <td>{\"userId\":\"fd6ea30e74423e3b84a317888b12ae61\",\"...</td>\n      <td>%7B%22ckId%22%3A%22h2c8pxojavrmo1w785z7ueih2yb...</td>\n      <td>['内容运营']</td>\n      <td>20210218142514</td>\n      <td>上海</td>\n      <td>35867731</td>\n      <td>2</td>\n      <td>https://www.liepin.com/job/1935867731.shtml</td>\n      <td>False</td>\n      <td>...</td>\n      <td>False</td>\n      <td>fd6ea30e74423e3b84a317888b12ae61</td>\n      <td>602e086f09f00f0851fa451907u.png</td>\n      <td>10201729.0</td>\n      <td>融资未公开</td>\n      <td>61b07937d0458d53c627567e02u.jpg</td>\n      <td>1-49人</td>\n      <td>https://www.liepin.com/company/10201729/</td>\n      <td>上海贝书管理咨询有限公司</td>\n      <td>广告/公关/会展</td>\n    </tr>\n    <tr>\n      <th>236</th>\n      <td>36</td>\n      <td>{\"userId\":\"53da6fed5384d274258924040bc7a85b\",\"...</td>\n      <td>%7B%22ckId%22%3A%22h2c8pxojavrmo1w785z7ueih2yb...</td>\n      <td>['媒介媒体', '广告文案', '活动文案', '新媒体文案', '品牌文案']</td>\n      <td>20191203140001</td>\n      <td>上海</td>\n      <td>25088147</td>\n      <td>2</td>\n      <td>https://www.liepin.com/job/1925088147.shtml</td>\n      <td>False</td>\n      <td>...</td>\n      <td>False</td>\n      <td>53da6fed5384d274258924040bc7a85b</td>\n      <td>56938e9345ce240b1ff6c31504a.png</td>\n      <td>10272573.0</td>\n      <td>NaN</td>\n      <td>61b07937d0458d53c627567e02u.jpg</td>\n      <td>1-49人</td>\n      <td>https://www.liepin.com/company/10272573/</td>\n      <td>上海写拾广告有限公司</td>\n      <td>广播/影视/录音</td>\n    </tr>\n    <tr>\n      <th>237</th>\n      <td>37</td>\n      <td>{\"userId\":\"69cc5812e34744fbd1a98392911bf68b\",\"...</td>\n      <td>%7B%22ckId%22%3A%22h2c8pxojavrmo1w785z7ueih2yb...</td>\n      <td>['营销策划', '社交媒体', 'MCN', '广告策划', 'KOL', '新媒体', ...</td>\n      <td>20220805112358</td>\n      <td>上海-静安区</td>\n      <td>50576139</td>\n      <td>2</td>\n      <td>https://www.liepin.com/job/1950576139.shtml</td>\n      <td>False</td>\n      <td>...</td>\n      <td>False</td>\n      <td>69cc5812e34744fbd1a98392911bf68b</td>\n      <td>5f8f9863f6d1ab58476f246a08u.jpg</td>\n      <td>8951592.0</td>\n      <td>其他</td>\n      <td>61d596484437f3326bc3974106u.png</td>\n      <td>100-499人</td>\n      <td>https://www.liepin.com/company/8951592/</td>\n      <td>上海告趣信息科技有限公司</td>\n      <td>广告/公关/会展</td>\n    </tr>\n    <tr>\n      <th>238</th>\n      <td>38</td>\n      <td>{\"userId\":\"b2b0154910105fbc0a059834698e279d\",\"...</td>\n      <td>%7B%22ckId%22%3A%22h2c8pxojavrmo1w785z7ueih2yb...</td>\n      <td>[]</td>\n      <td>20210112143724</td>\n      <td>上海-杨浦区</td>\n      <td>34936027</td>\n      <td>2</td>\n      <td>https://www.liepin.com/job/1934936027.shtml</td>\n      <td>False</td>\n      <td>...</td>\n      <td>False</td>\n      <td>b2b0154910105fbc0a059834698e279d</td>\n      <td>5f8f986779c7cc70efbf36c008u.jpg</td>\n      <td>10011765.0</td>\n      <td>战略投资</td>\n      <td>5cc51679501544662c5e52f305u.jpg</td>\n      <td>50-99人</td>\n      <td>https://www.liepin.com/company/10011765/</td>\n      <td>爸妈营</td>\n      <td>互联网</td>\n    </tr>\n    <tr>\n      <th>239</th>\n      <td>39</td>\n      <td>{\"userId\":\"b5ee10cbdf2ef8ef8dd3ccacb977af60\",\"...</td>\n      <td>%7B%22ckId%22%3A%22h2c8pxojavrmo1w785z7ueih2yb...</td>\n      <td>[]</td>\n      <td>20231129221733</td>\n      <td>上海-黄浦区</td>\n      <td>63288741</td>\n      <td>2</td>\n      <td>https://www.liepin.com/job/1963288741.shtml</td>\n      <td>False</td>\n      <td>...</td>\n      <td>False</td>\n      <td>b5ee10cbdf2ef8ef8dd3ccacb977af60</td>\n      <td>5f8f9866dfb13a7dee342f1808u.jpg</td>\n      <td>7921271.0</td>\n      <td>D轮</td>\n      <td>5952248270327b30a4cc59d605a.jpg</td>\n      <td>1000-2000人</td>\n      <td>https://www.liepin.com/company/7921271/</td>\n      <td>小红书</td>\n      <td>互联网</td>\n    </tr>\n  </tbody>\n</table>\n<p>240 rows × 32 columns</p>\n</div>"
     },
     "execution_count": 30,
     "metadata": {},
     "output_type": "execute_result"
    }
   ],
   "source": [
    "df = pd.read_excel('猎聘'+cities+'-'+key+output_time+'.xlsx')\n",
    "df"
   ],
   "metadata": {
    "collapsed": false
   }
  },
  {
   "cell_type": "code",
   "execution_count": 31,
   "outputs": [
    {
     "name": "stdout",
     "output_type": "stream",
     "text": [
      "<class 'pandas.core.frame.DataFrame'>\n",
      "RangeIndex: 240 entries, 0 to 239\n",
      "Data columns (total 32 columns):\n",
      " #   Column                    Non-Null Count  Dtype  \n",
      "---  ------                    --------------  -----  \n",
      " 0   Unnamed: 0                240 non-null    int64  \n",
      " 1   dataParams                240 non-null    object \n",
      " 2   dataInfo                  240 non-null    object \n",
      " 3   job.labels                240 non-null    object \n",
      " 4   job.refreshTime           240 non-null    int64  \n",
      " 5   job.dq                    240 non-null    object \n",
      " 6   job.jobId                 240 non-null    int64  \n",
      " 7   job.jobKind               240 non-null    int64  \n",
      " 8   job.link                  240 non-null    object \n",
      " 9   job.topJob                240 non-null    bool   \n",
      " 10  job.title                 240 non-null    object \n",
      " 11  job.salary                240 non-null    object \n",
      " 12  job.dataPromId            240 non-null    object \n",
      " 13  job.pcOuterLink           0 non-null      float64\n",
      " 14  job.h5OuterLink           0 non-null      float64\n",
      " 15  job.requireWorkYears      240 non-null    object \n",
      " 16  job.requireEduLevel       240 non-null    object \n",
      " 17  job.advViewFlag           240 non-null    bool   \n",
      " 18  recruiter.imId            240 non-null    object \n",
      " 19  recruiter.imUserType      240 non-null    int64  \n",
      " 20  recruiter.recruiterName   240 non-null    object \n",
      " 21  recruiter.recruiterTitle  228 non-null    object \n",
      " 22  recruiter.chatted         240 non-null    bool   \n",
      " 23  recruiter.recruiterId     240 non-null    object \n",
      " 24  recruiter.recruiterPhoto  240 non-null    object \n",
      " 25  comp.compId               234 non-null    float64\n",
      " 26  comp.compStage            150 non-null    object \n",
      " 27  comp.compLogo             240 non-null    object \n",
      " 28  comp.compScale            240 non-null    object \n",
      " 29  comp.link                 234 non-null    object \n",
      " 30  comp.compName             240 non-null    object \n",
      " 31  comp.compIndustry         240 non-null    object \n",
      "dtypes: bool(3), float64(3), int64(5), object(21)\n",
      "memory usage: 55.2+ KB\n"
     ]
    }
   ],
   "source": [
    "df.info()"
   ],
   "metadata": {
    "collapsed": false
   }
  },
  {
   "cell_type": "code",
   "execution_count": 34,
   "outputs": [
    {
     "data": {
      "text/plain": "240"
     },
     "execution_count": 34,
     "metadata": {},
     "output_type": "execute_result"
    }
   ],
   "source": [
    "len(df['job.link'])"
   ],
   "metadata": {
    "collapsed": false
   }
  },
  {
   "cell_type": "code",
   "execution_count": 36,
   "outputs": [
    {
     "data": {
      "text/plain": "'https://www.liepin.com/job/1958273773.shtml'"
     },
     "execution_count": 36,
     "metadata": {},
     "output_type": "execute_result"
    }
   ],
   "source": [
    "df['job.link'][0]"
   ],
   "metadata": {
    "collapsed": false
   }
  },
  {
   "cell_type": "markdown",
   "source": [
    "# 额外：加入特殊情况检测"
   ],
   "metadata": {
    "collapsed": false
   }
  },
  {
   "cell_type": "code",
   "execution_count": 41,
   "outputs": [],
   "source": [
    "if payload['data']['mainSearchPcConditionForm'][\"workYearCode\"]=='2':\n",
    "    df_PM_gz =  df[['job.labels','job.refreshTime','job.title','job.salary','job.dq','job.topJob','comp.compStage','comp.compName','comp.compIndustry','comp.compScale']]\n",
    "else:\n",
    "    df_PM_gz =  df[['job.labels','job.refreshTime','job.title','job.salary','job.dq','job.topJob','job.requireWorkYears','job.requireEduLevel','comp.compStage','comp.compName','comp.compIndustry','comp.compScale']]"
   ],
   "metadata": {
    "collapsed": false
   }
  },
  {
   "cell_type": "markdown",
   "source": [
    "# 15.重命名为通俗易懂的列头"
   ],
   "metadata": {
    "collapsed": false
   }
  },
  {
   "cell_type": "code",
   "execution_count": 44,
   "outputs": [],
   "source": [
    "# columns 重命名\n",
    "if payload['data']['mainSearchPcConditionForm'][\"workYearCode\"]=='2':\n",
    "    df_PM_gz = df_PM_gz.rename(columns={\n",
    "        'job.labels':'职位标签',\n",
    "        'job.refreshTime':'职位更新时间',\n",
    "        'job.title':'职位',\n",
    "        'job.salary':'薪资',\n",
    "        'job.dq':'地区',\n",
    "        'job.topJob':'是否top职位',\n",
    "        'comp.compStage':'公司融资情况',\n",
    "        'comp.compName':'公司名称',\n",
    "        'comp.compIndustry':'行业',\n",
    "        'comp.compScale':'规模'\n",
    "    })\n",
    "else:\n",
    "    df_PM_gz = df_PM_gz.rename(columns={\n",
    "        'job.labels':'职位标签',\n",
    "        'job.refreshTime':'职位更新时间',\n",
    "        'job.title':'职位',\n",
    "        'job.salary':'薪资',\n",
    "        'job.dq':'地区',\n",
    "        'job.topJob':'是否top职位',\n",
    "        'job.requireWorkYears':'工作年限',\n",
    "        'job.requireEduLevel':'学历',\n",
    "        'comp.compStage':'公司融资情况',\n",
    "        'comp.compName':'公司名称',\n",
    "        'comp.compIndustry':'行业',\n",
    "        'comp.compScale':'规模'\n",
    "    })"
   ],
   "metadata": {
    "collapsed": false
   }
  },
  {
   "cell_type": "markdown",
   "source": [
    "# 16.引入request_html并对每条标题子级网站进行访问以及内容爬取，即爬取岗位要求"
   ],
   "metadata": {
    "collapsed": false
   }
  },
  {
   "cell_type": "code",
   "execution_count": 45,
   "outputs": [],
   "source": [
    "from requests_html import HTMLSession\n",
    "session = HTMLSession()"
   ],
   "metadata": {
    "collapsed": false
   }
  },
  {
   "cell_type": "code",
   "execution_count": 38,
   "outputs": [],
   "source": [
    "技能要求 = []\n",
    "for i in range(len(df['job.link'])):\n",
    "    s = session.get(df['job.link'][i])\n",
    "    command = s.html.find('dd')\n",
    "    技能要求.append(command[0].text)"
   ],
   "metadata": {
    "collapsed": false
   }
  },
  {
   "cell_type": "markdown",
   "source": [
    "## 添加所爬取到的岗位要求的新列到表"
   ],
   "metadata": {
    "collapsed": false
   }
  },
  {
   "cell_type": "code",
   "execution_count": 46,
   "outputs": [],
   "source": [
    "df_PM_gz['技能要求'] = 技能要求"
   ],
   "metadata": {
    "collapsed": false
   }
  },
  {
   "cell_type": "markdown",
   "source": [
    "# 17.输出最终表"
   ],
   "metadata": {
    "collapsed": false
   }
  },
  {
   "cell_type": "code",
   "execution_count": 47,
   "outputs": [],
   "source": [
    "df_PM_gz.to_excel('猎聘'+ cities+'-'+key +output_time+'.xlsx')"
   ],
   "metadata": {
    "collapsed": false
   }
  },
  {
   "cell_type": "markdown",
   "source": [
    "## 额外：计算各个市的区的平均薪资"
   ],
   "metadata": {
    "collapsed": false
   }
  },
  {
   "cell_type": "code",
   "execution_count": 48,
   "outputs": [
    {
     "data": {
      "text/plain": "                                                  职位标签          职位更新时间  \\\n0    ['文案策划', '媒介策划', '广告策划', '网站策划', '营销策划', '客户管理...  20230504175401   \n1    ['网站策划', '文案策划', '网络媒介', '网络媒体', '广告/传媒/文化', '...  20230516151747   \n2                                                   []  20220801201628   \n3                              ['广告策划', '广告媒介', 'KOL']  20230111102934   \n4    ['电影传媒', '广告策划', '文案策划', '户外媒介', '传统媒介', '乙方公司...  20231018173810   \n..                                                 ...             ...   \n235                                           ['内容运营']  20210218142514   \n236          ['媒介媒体', '广告文案', '活动文案', '新媒体文案', '品牌文案']  20191203140001   \n237  ['营销策划', '社交媒体', 'MCN', '广告策划', 'KOL', '新媒体', ...  20220805112358   \n238                                                 []  20210112143724   \n239                                                 []  20231129221733   \n\n              职位          薪资       地区  是否top职位   工作年限    学历 公司融资情况  \\\n0       广告策划高级经理  15-35k·15薪   上海-嘉定区    False   3-5年    本科   港股上市   \n1     酒水饮料商业广告策划  20-40k·15薪   上海-黄浦区    False   3-5年  统招本科     D轮   \n2         广告策划运营  20-35k·16薪  上海-浦东新区    False  5-10年    本科   美股上市   \n3           广告策划  12-18k·13薪       上海    False   1-3年  统招本科  融资未公开   \n4         广告策划经理       8-10k   上海-徐汇区    False   3-5年    本科    NaN   \n..           ...         ...      ...      ...    ...   ...    ...   \n235  广告策划方向应届毕业生   6-11k·13薪       上海    False   经验不限    本科  融资未公开   \n236      广告策划/文案       8-12k       上海    False   经验不限    本科    NaN   \n237         广告策划   7-11k·13薪   上海-静安区    False   经验不限    本科     其他   \n238       广告策划总监      15-20k   上海-杨浦区    False  5-10年    本科   战略投资   \n239    广告策划-交通行业  25-45k·15薪   上海-黄浦区    False  5-10年    本科     D轮   \n\n              公司名称        行业          规模  \\\n0             京东物流  货运/物流/仓储    10000人以上   \n1              小红书       互联网  1000-2000人   \n2            Baidu       互联网    10000人以上   \n3    上海萌尔克文化传播有限公司  广告/公关/会展       1-49人   \n4             千语智彤     文化艺术业       1-49人   \n..             ...       ...         ...   \n235   上海贝书管理咨询有限公司  广告/公关/会展       1-49人   \n236     上海写拾广告有限公司  广播/影视/录音       1-49人   \n237   上海告趣信息科技有限公司  广告/公关/会展    100-499人   \n238            爸妈营       互联网      50-99人   \n239            小红书       互联网  1000-2000人   \n\n                                                  技能要求  \n0    工作内容： 1、 负责策划方案需符合时下趋垫与客户需求点结合； 2、 具备较强的策略策划能力...  \n1    1、能够深度了解快消/互联网客户需求，提炼产品卖点，并能够结合小红书平台调性和特色撰写完整的...  \n2    职责描述： -根据广告行业客户合作需求，完成行业合作方案及大客户合作方案 -整合平台及公司资...  \n3    岗位职责： 1.具备较强的逻辑和洞察力，以及与客户直接沟通的能力，能快速准确理解客户brie...  \n4    岗位职责 1、有较强的沟通能力，有良好的创造性思维能力、创意概念; 2、了解广告市场动态，依...  \n..                                                 ...  \n235  职位描述： 1. 负责金融机构的微信、雪球、天天基金、蚂蚁财富等平台内容运营、活动策划、粉丝...  \n236  岗位职责 1. 参与公司服务金融机构的创意海报、微信长图等文案撰写； 2.负责公司金融机构客...  \n237  岗位描述： 1.具有良好的创造性思维、沟通协调能力，较强的战略和市场营销理念，熟悉社交媒体玩...  \n238  岗位职责： 1.日常对接公司KA大客户项目需求，及时响应，根据客户项目Brief要求，自我思...  \n239  工作职责： 工作职责： 1、能够深入了解客户的品牌内涵，把握客户需求，并能够结合小红书平台调...  \n\n[240 rows x 13 columns]",
      "text/html": "<div>\n<style scoped>\n    .dataframe tbody tr th:only-of-type {\n        vertical-align: middle;\n    }\n\n    .dataframe tbody tr th {\n        vertical-align: top;\n    }\n\n    .dataframe thead th {\n        text-align: right;\n    }\n</style>\n<table border=\"1\" class=\"dataframe\">\n  <thead>\n    <tr style=\"text-align: right;\">\n      <th></th>\n      <th>职位标签</th>\n      <th>职位更新时间</th>\n      <th>职位</th>\n      <th>薪资</th>\n      <th>地区</th>\n      <th>是否top职位</th>\n      <th>工作年限</th>\n      <th>学历</th>\n      <th>公司融资情况</th>\n      <th>公司名称</th>\n      <th>行业</th>\n      <th>规模</th>\n      <th>技能要求</th>\n    </tr>\n  </thead>\n  <tbody>\n    <tr>\n      <th>0</th>\n      <td>['文案策划', '媒介策划', '广告策划', '网站策划', '营销策划', '客户管理...</td>\n      <td>20230504175401</td>\n      <td>广告策划高级经理</td>\n      <td>15-35k·15薪</td>\n      <td>上海-嘉定区</td>\n      <td>False</td>\n      <td>3-5年</td>\n      <td>本科</td>\n      <td>港股上市</td>\n      <td>京东物流</td>\n      <td>货运/物流/仓储</td>\n      <td>10000人以上</td>\n      <td>工作内容： 1、 负责策划方案需符合时下趋垫与客户需求点结合； 2、 具备较强的策略策划能力...</td>\n    </tr>\n    <tr>\n      <th>1</th>\n      <td>['网站策划', '文案策划', '网络媒介', '网络媒体', '广告/传媒/文化', '...</td>\n      <td>20230516151747</td>\n      <td>酒水饮料商业广告策划</td>\n      <td>20-40k·15薪</td>\n      <td>上海-黄浦区</td>\n      <td>False</td>\n      <td>3-5年</td>\n      <td>统招本科</td>\n      <td>D轮</td>\n      <td>小红书</td>\n      <td>互联网</td>\n      <td>1000-2000人</td>\n      <td>1、能够深度了解快消/互联网客户需求，提炼产品卖点，并能够结合小红书平台调性和特色撰写完整的...</td>\n    </tr>\n    <tr>\n      <th>2</th>\n      <td>[]</td>\n      <td>20220801201628</td>\n      <td>广告策划运营</td>\n      <td>20-35k·16薪</td>\n      <td>上海-浦东新区</td>\n      <td>False</td>\n      <td>5-10年</td>\n      <td>本科</td>\n      <td>美股上市</td>\n      <td>Baidu</td>\n      <td>互联网</td>\n      <td>10000人以上</td>\n      <td>职责描述： -根据广告行业客户合作需求，完成行业合作方案及大客户合作方案 -整合平台及公司资...</td>\n    </tr>\n    <tr>\n      <th>3</th>\n      <td>['广告策划', '广告媒介', 'KOL']</td>\n      <td>20230111102934</td>\n      <td>广告策划</td>\n      <td>12-18k·13薪</td>\n      <td>上海</td>\n      <td>False</td>\n      <td>1-3年</td>\n      <td>统招本科</td>\n      <td>融资未公开</td>\n      <td>上海萌尔克文化传播有限公司</td>\n      <td>广告/公关/会展</td>\n      <td>1-49人</td>\n      <td>岗位职责： 1.具备较强的逻辑和洞察力，以及与客户直接沟通的能力，能快速准确理解客户brie...</td>\n    </tr>\n    <tr>\n      <th>4</th>\n      <td>['电影传媒', '广告策划', '文案策划', '户外媒介', '传统媒介', '乙方公司...</td>\n      <td>20231018173810</td>\n      <td>广告策划经理</td>\n      <td>8-10k</td>\n      <td>上海-徐汇区</td>\n      <td>False</td>\n      <td>3-5年</td>\n      <td>本科</td>\n      <td>NaN</td>\n      <td>千语智彤</td>\n      <td>文化艺术业</td>\n      <td>1-49人</td>\n      <td>岗位职责 1、有较强的沟通能力，有良好的创造性思维能力、创意概念; 2、了解广告市场动态，依...</td>\n    </tr>\n    <tr>\n      <th>...</th>\n      <td>...</td>\n      <td>...</td>\n      <td>...</td>\n      <td>...</td>\n      <td>...</td>\n      <td>...</td>\n      <td>...</td>\n      <td>...</td>\n      <td>...</td>\n      <td>...</td>\n      <td>...</td>\n      <td>...</td>\n      <td>...</td>\n    </tr>\n    <tr>\n      <th>235</th>\n      <td>['内容运营']</td>\n      <td>20210218142514</td>\n      <td>广告策划方向应届毕业生</td>\n      <td>6-11k·13薪</td>\n      <td>上海</td>\n      <td>False</td>\n      <td>经验不限</td>\n      <td>本科</td>\n      <td>融资未公开</td>\n      <td>上海贝书管理咨询有限公司</td>\n      <td>广告/公关/会展</td>\n      <td>1-49人</td>\n      <td>职位描述： 1. 负责金融机构的微信、雪球、天天基金、蚂蚁财富等平台内容运营、活动策划、粉丝...</td>\n    </tr>\n    <tr>\n      <th>236</th>\n      <td>['媒介媒体', '广告文案', '活动文案', '新媒体文案', '品牌文案']</td>\n      <td>20191203140001</td>\n      <td>广告策划/文案</td>\n      <td>8-12k</td>\n      <td>上海</td>\n      <td>False</td>\n      <td>经验不限</td>\n      <td>本科</td>\n      <td>NaN</td>\n      <td>上海写拾广告有限公司</td>\n      <td>广播/影视/录音</td>\n      <td>1-49人</td>\n      <td>岗位职责 1. 参与公司服务金融机构的创意海报、微信长图等文案撰写； 2.负责公司金融机构客...</td>\n    </tr>\n    <tr>\n      <th>237</th>\n      <td>['营销策划', '社交媒体', 'MCN', '广告策划', 'KOL', '新媒体', ...</td>\n      <td>20220805112358</td>\n      <td>广告策划</td>\n      <td>7-11k·13薪</td>\n      <td>上海-静安区</td>\n      <td>False</td>\n      <td>经验不限</td>\n      <td>本科</td>\n      <td>其他</td>\n      <td>上海告趣信息科技有限公司</td>\n      <td>广告/公关/会展</td>\n      <td>100-499人</td>\n      <td>岗位描述： 1.具有良好的创造性思维、沟通协调能力，较强的战略和市场营销理念，熟悉社交媒体玩...</td>\n    </tr>\n    <tr>\n      <th>238</th>\n      <td>[]</td>\n      <td>20210112143724</td>\n      <td>广告策划总监</td>\n      <td>15-20k</td>\n      <td>上海-杨浦区</td>\n      <td>False</td>\n      <td>5-10年</td>\n      <td>本科</td>\n      <td>战略投资</td>\n      <td>爸妈营</td>\n      <td>互联网</td>\n      <td>50-99人</td>\n      <td>岗位职责： 1.日常对接公司KA大客户项目需求，及时响应，根据客户项目Brief要求，自我思...</td>\n    </tr>\n    <tr>\n      <th>239</th>\n      <td>[]</td>\n      <td>20231129221733</td>\n      <td>广告策划-交通行业</td>\n      <td>25-45k·15薪</td>\n      <td>上海-黄浦区</td>\n      <td>False</td>\n      <td>5-10年</td>\n      <td>本科</td>\n      <td>D轮</td>\n      <td>小红书</td>\n      <td>互联网</td>\n      <td>1000-2000人</td>\n      <td>工作职责： 工作职责： 1、能够深入了解客户的品牌内涵，把握客户需求，并能够结合小红书平台调...</td>\n    </tr>\n  </tbody>\n</table>\n<p>240 rows × 13 columns</p>\n</div>"
     },
     "execution_count": 48,
     "metadata": {},
     "output_type": "execute_result"
    }
   ],
   "source": [
    "非薪资面议 = df_PM_gz [ ~df_PM_gz['薪资'].str.contains(\"面议|元/天\")]\n",
    "非薪资面议"
   ],
   "metadata": {
    "collapsed": false
   }
  },
  {
   "cell_type": "code",
   "execution_count": 49,
   "outputs": [
    {
     "data": {
      "text/plain": "[['15-35k', '15'],\n ['20-40k', '15'],\n ['20-35k', '16'],\n ['12-18k', '13'],\n ['8-10k'],\n ['20-40k', '15'],\n ['8-15k'],\n ['20-40k', '15'],\n ['10-20k'],\n ['20-30k', '14'],\n ['18-26k', '13'],\n ['10-15k', '13'],\n ['25-45k', '15'],\n ['20-40k', '15'],\n ['20-45k', '15'],\n ['10-15k'],\n ['10-15k'],\n ['10-20k'],\n ['10-15k'],\n ['35-60k'],\n ['9-12k'],\n ['25-35k'],\n ['10-15k', '16'],\n ['10-15k', '13'],\n ['8-15k'],\n ['15-25k'],\n ['13-18k', '13'],\n ['10-15k'],\n ['10-20k'],\n ['13-25k'],\n ['8-11k', '13'],\n ['20-35k', '15'],\n ['6-10k'],\n ['8-20k'],\n ['5-10k'],\n ['6-11k', '13'],\n ['8-12k'],\n ['7-11k', '13'],\n ['15-20k'],\n ['25-45k', '15'],\n ['15-35k', '15'],\n ['20-40k', '15'],\n ['20-35k', '16'],\n ['12-18k', '13'],\n ['8-10k'],\n ['20-40k', '15'],\n ['8-15k'],\n ['20-40k', '15'],\n ['10-20k'],\n ['20-30k', '14'],\n ['18-26k', '13'],\n ['10-15k', '13'],\n ['25-45k', '15'],\n ['20-40k', '15'],\n ['20-45k', '15'],\n ['10-15k'],\n ['10-15k'],\n ['10-20k'],\n ['10-15k'],\n ['35-60k'],\n ['9-12k'],\n ['25-35k'],\n ['10-15k', '16'],\n ['10-15k', '13'],\n ['8-15k'],\n ['15-25k'],\n ['13-18k', '13'],\n ['10-15k'],\n ['10-20k'],\n ['13-25k'],\n ['8-11k', '13'],\n ['20-35k', '15'],\n ['6-10k'],\n ['8-20k'],\n ['5-10k'],\n ['6-11k', '13'],\n ['8-12k'],\n ['7-11k', '13'],\n ['15-20k'],\n ['25-45k', '15'],\n ['15-35k', '15'],\n ['20-40k', '15'],\n ['20-35k', '16'],\n ['12-18k', '13'],\n ['8-10k'],\n ['20-40k', '15'],\n ['8-15k'],\n ['20-40k', '15'],\n ['10-20k'],\n ['20-30k', '14'],\n ['18-26k', '13'],\n ['10-15k', '13'],\n ['25-45k', '15'],\n ['20-40k', '15'],\n ['20-45k', '15'],\n ['10-15k'],\n ['10-15k'],\n ['10-20k'],\n ['10-15k'],\n ['35-60k'],\n ['9-12k'],\n ['25-35k'],\n ['10-15k', '16'],\n ['10-15k', '13'],\n ['8-15k'],\n ['15-25k'],\n ['13-18k', '13'],\n ['10-15k'],\n ['10-20k'],\n ['13-25k'],\n ['8-11k', '13'],\n ['20-35k', '15'],\n ['6-10k'],\n ['8-20k'],\n ['5-10k'],\n ['6-11k', '13'],\n ['8-12k'],\n ['7-11k', '13'],\n ['15-20k'],\n ['25-45k', '15'],\n ['15-35k', '15'],\n ['20-40k', '15'],\n ['20-35k', '16'],\n ['12-18k', '13'],\n ['8-10k'],\n ['20-40k', '15'],\n ['8-15k'],\n ['20-40k', '15'],\n ['10-20k'],\n ['20-30k', '14'],\n ['18-26k', '13'],\n ['10-15k', '13'],\n ['25-45k', '15'],\n ['20-40k', '15'],\n ['20-45k', '15'],\n ['10-15k'],\n ['10-15k'],\n ['10-20k'],\n ['10-15k'],\n ['35-60k'],\n ['9-12k'],\n ['25-35k'],\n ['10-15k', '16'],\n ['10-15k', '13'],\n ['8-15k'],\n ['15-25k'],\n ['13-18k', '13'],\n ['10-15k'],\n ['10-20k'],\n ['13-25k'],\n ['8-11k', '13'],\n ['20-35k', '15'],\n ['6-10k'],\n ['8-20k'],\n ['5-10k'],\n ['6-11k', '13'],\n ['8-12k'],\n ['7-11k', '13'],\n ['15-20k'],\n ['25-45k', '15'],\n ['15-35k', '15'],\n ['20-40k', '15'],\n ['20-35k', '16'],\n ['12-18k', '13'],\n ['8-10k'],\n ['20-40k', '15'],\n ['8-15k'],\n ['20-40k', '15'],\n ['10-20k'],\n ['20-30k', '14'],\n ['18-26k', '13'],\n ['10-15k', '13'],\n ['25-45k', '15'],\n ['20-40k', '15'],\n ['20-45k', '15'],\n ['10-15k'],\n ['10-15k'],\n ['10-20k'],\n ['10-15k'],\n ['35-60k'],\n ['9-12k'],\n ['25-35k'],\n ['10-15k', '16'],\n ['10-15k', '13'],\n ['8-15k'],\n ['15-25k'],\n ['13-18k', '13'],\n ['10-15k'],\n ['10-20k'],\n ['13-25k'],\n ['8-11k', '13'],\n ['20-35k', '15'],\n ['6-10k'],\n ['8-20k'],\n ['5-10k'],\n ['6-11k', '13'],\n ['8-12k'],\n ['7-11k', '13'],\n ['15-20k'],\n ['25-45k', '15'],\n ['15-35k', '15'],\n ['20-40k', '15'],\n ['20-35k', '16'],\n ['12-18k', '13'],\n ['8-10k'],\n ['20-40k', '15'],\n ['8-15k'],\n ['20-40k', '15'],\n ['10-20k'],\n ['20-30k', '14'],\n ['18-26k', '13'],\n ['10-15k', '13'],\n ['25-45k', '15'],\n ['20-40k', '15'],\n ['20-45k', '15'],\n ['10-15k'],\n ['10-15k'],\n ['10-20k'],\n ['10-15k'],\n ['35-60k'],\n ['9-12k'],\n ['25-35k'],\n ['10-15k', '16'],\n ['10-15k', '13'],\n ['8-15k'],\n ['15-25k'],\n ['13-18k', '13'],\n ['10-15k'],\n ['10-20k'],\n ['13-25k'],\n ['8-11k', '13'],\n ['20-35k', '15'],\n ['6-10k'],\n ['8-20k'],\n ['5-10k'],\n ['6-11k', '13'],\n ['8-12k'],\n ['7-11k', '13'],\n ['15-20k'],\n ['25-45k', '15']]"
     },
     "execution_count": 49,
     "metadata": {},
     "output_type": "execute_result"
    }
   ],
   "source": [
    "非薪资面议_detail = 非薪资面议['薪资'].apply(lambda x:x.split('薪')[0].split('·')).tolist()\n",
    "非薪资面议_detail"
   ],
   "metadata": {
    "collapsed": false
   }
  },
  {
   "cell_type": "code",
   "execution_count": 50,
   "outputs": [
    {
     "data": {
      "text/plain": "[31.2,\n 37.5,\n 36.7,\n 16.2,\n 9.0,\n 37.5,\n 11.5,\n 37.5,\n 15.0,\n 29.2,\n 23.8,\n 13.5,\n 43.8,\n 37.5,\n 40.6,\n 12.5,\n 12.5,\n 15.0,\n 12.5,\n 47.5,\n 10.5,\n 30.0,\n 16.7,\n 13.5,\n 11.5,\n 20.0,\n 16.8,\n 12.5,\n 15.0,\n 19.0,\n 10.3,\n 34.4,\n 8.0,\n 14.0,\n 7.5,\n 9.2,\n 10.0,\n 9.8,\n 17.5,\n 43.8,\n 31.2,\n 37.5,\n 36.7,\n 16.2,\n 9.0,\n 37.5,\n 11.5,\n 37.5,\n 15.0,\n 29.2,\n 23.8,\n 13.5,\n 43.8,\n 37.5,\n 40.6,\n 12.5,\n 12.5,\n 15.0,\n 12.5,\n 47.5,\n 10.5,\n 30.0,\n 16.7,\n 13.5,\n 11.5,\n 20.0,\n 16.8,\n 12.5,\n 15.0,\n 19.0,\n 10.3,\n 34.4,\n 8.0,\n 14.0,\n 7.5,\n 9.2,\n 10.0,\n 9.8,\n 17.5,\n 43.8,\n 31.2,\n 37.5,\n 36.7,\n 16.2,\n 9.0,\n 37.5,\n 11.5,\n 37.5,\n 15.0,\n 29.2,\n 23.8,\n 13.5,\n 43.8,\n 37.5,\n 40.6,\n 12.5,\n 12.5,\n 15.0,\n 12.5,\n 47.5,\n 10.5,\n 30.0,\n 16.7,\n 13.5,\n 11.5,\n 20.0,\n 16.8,\n 12.5,\n 15.0,\n 19.0,\n 10.3,\n 34.4,\n 8.0,\n 14.0,\n 7.5,\n 9.2,\n 10.0,\n 9.8,\n 17.5,\n 43.8,\n 31.2,\n 37.5,\n 36.7,\n 16.2,\n 9.0,\n 37.5,\n 11.5,\n 37.5,\n 15.0,\n 29.2,\n 23.8,\n 13.5,\n 43.8,\n 37.5,\n 40.6,\n 12.5,\n 12.5,\n 15.0,\n 12.5,\n 47.5,\n 10.5,\n 30.0,\n 16.7,\n 13.5,\n 11.5,\n 20.0,\n 16.8,\n 12.5,\n 15.0,\n 19.0,\n 10.3,\n 34.4,\n 8.0,\n 14.0,\n 7.5,\n 9.2,\n 10.0,\n 9.8,\n 17.5,\n 43.8,\n 31.2,\n 37.5,\n 36.7,\n 16.2,\n 9.0,\n 37.5,\n 11.5,\n 37.5,\n 15.0,\n 29.2,\n 23.8,\n 13.5,\n 43.8,\n 37.5,\n 40.6,\n 12.5,\n 12.5,\n 15.0,\n 12.5,\n 47.5,\n 10.5,\n 30.0,\n 16.7,\n 13.5,\n 11.5,\n 20.0,\n 16.8,\n 12.5,\n 15.0,\n 19.0,\n 10.3,\n 34.4,\n 8.0,\n 14.0,\n 7.5,\n 9.2,\n 10.0,\n 9.8,\n 17.5,\n 43.8,\n 31.2,\n 37.5,\n 36.7,\n 16.2,\n 9.0,\n 37.5,\n 11.5,\n 37.5,\n 15.0,\n 29.2,\n 23.8,\n 13.5,\n 43.8,\n 37.5,\n 40.6,\n 12.5,\n 12.5,\n 15.0,\n 12.5,\n 47.5,\n 10.5,\n 30.0,\n 16.7,\n 13.5,\n 11.5,\n 20.0,\n 16.8,\n 12.5,\n 15.0,\n 19.0,\n 10.3,\n 34.4,\n 8.0,\n 14.0,\n 7.5,\n 9.2,\n 10.0,\n 9.8,\n 17.5,\n 43.8]"
     },
     "execution_count": 50,
     "metadata": {},
     "output_type": "execute_result"
    }
   ],
   "source": [
    "平均薪资 = [ (int(i[0].split('-')[0]) +int(i[0].split('-')[1].split('k')[0]))/2    \\\n",
    " if len(i)==1 else round((int(i[0].split('-')[0]) +int(i[0].split('-')[1].split('k')[0]))/2*int(i[1])/12,1)     \\\n",
    " for i in 非薪资面议_detail        ]\n",
    "平均薪资"
   ],
   "metadata": {
    "collapsed": false
   }
  },
  {
   "cell_type": "code",
   "execution_count": 51,
   "outputs": [],
   "source": [
    "非薪资面议['平均薪资']=平均薪资"
   ],
   "metadata": {
    "collapsed": false
   }
  },
  {
   "cell_type": "code",
   "execution_count": 52,
   "outputs": [],
   "source": [
    "分地区_平均薪资 = 非薪资面议.groupby('地区').agg({'平均薪资':'median'})\n",
    "分地区_平均薪资[1:].to_excel('猎聘'+城市+'_'+关键词+'-平均薪资.xlsx')"
   ],
   "metadata": {
    "collapsed": false
   }
  },
  {
   "cell_type": "code",
   "execution_count": 53,
   "outputs": [],
   "source": [
    "分地区_平均薪资_values =  [round(i[0],1) for i in 分地区_平均薪资.values.tolist()]\n",
    "分地区_平均薪资_values = 分地区_平均薪资_values[1:]"
   ],
   "metadata": {
    "collapsed": false
   }
  },
  {
   "cell_type": "code",
   "execution_count": 54,
   "outputs": [],
   "source": [
    "分地区_平均薪资_index = 分地区_平均薪资.index.tolist()\n",
    "分地区_平均薪资_index = 分地区_平均薪资_index[1:]"
   ],
   "metadata": {
    "collapsed": false
   }
  },
  {
   "cell_type": "code",
   "execution_count": 55,
   "outputs": [
    {
     "data": {
      "text/plain": "[31.2, 15.9, 12.5, 17.5, 25.1, 12.5, 13.2, 12.5, 37.5]"
     },
     "execution_count": 55,
     "metadata": {},
     "output_type": "execute_result"
    }
   ],
   "source": [
    "分地区_平均薪资_values"
   ],
   "metadata": {
    "collapsed": false
   }
  },
  {
   "cell_type": "code",
   "execution_count": 56,
   "outputs": [
    {
     "data": {
      "text/plain": "['上海-嘉定区',\n '上海-徐汇区',\n '上海-普陀区',\n '上海-杨浦区',\n '上海-浦东新区',\n '上海-虹口区',\n '上海-长宁区',\n '上海-静安区',\n '上海-黄浦区']"
     },
     "execution_count": 56,
     "metadata": {},
     "output_type": "execute_result"
    }
   ],
   "source": [
    "分地区_平均薪资_index"
   ],
   "metadata": {
    "collapsed": false
   }
  },
  {
   "cell_type": "code",
   "execution_count": null,
   "outputs": [],
   "source": [],
   "metadata": {
    "collapsed": false
   }
  }
 ],
 "metadata": {
  "kernelspec": {
   "display_name": "Python 3",
   "language": "python",
   "name": "python3"
  },
  "language_info": {
   "codemirror_mode": {
    "name": "ipython",
    "version": 2
   },
   "file_extension": ".py",
   "mimetype": "text/x-python",
   "name": "python",
   "nbconvert_exporter": "python",
   "pygments_lexer": "ipython2",
   "version": "2.7.6"
  }
 },
 "nbformat": 4,
 "nbformat_minor": 0
}
