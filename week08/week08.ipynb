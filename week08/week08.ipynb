{
 "cells": [
  {
   "cell_type": "code",
   "execution_count": 77,
   "outputs": [],
   "source": [
    "# 导入初始数据"
   ],
   "metadata": {
    "collapsed": false
   }
  },
  {
   "cell_type": "code",
   "execution_count": 78,
   "outputs": [],
   "source": [
    "city = [{'code': '410', 'name': '全国'},\n",
    " {'code': '010', 'name': '北京'},\n",
    " {'code': '020', 'name': '上海'},\n",
    " {'code': '030', 'name': '天津'},\n",
    " {'code': '040', 'name': '重庆'},\n",
    " {'code': '050020', 'name': '广州'},\n",
    " {'code': '050090', 'name': '深圳'},\n",
    " {'code': '060080', 'name': '苏州'},\n",
    " {'code': '060020', 'name': '南京'},\n",
    " {'code': '070020', 'name': '杭州'},\n",
    " {'code': '210040', 'name': '大连'},\n",
    " {'code': '280020', 'name': '成都'},\n",
    " {'code': '170020', 'name': '武汉'},\n",
    " {'code': '270020', 'name': '西安'}]\n",
    "\n",
    "comScale = [{\"code\": \"010\",\"name\": \"1-49人\"},\n",
    "  {\"code\": \"020\",\"name\": \"50-99人\"},\n",
    "  {\"code\": \"030\",\"name\": \"100-499人\"},\n",
    "  {\"code\": \"040\",\"name\": \"500-999人\"},\n",
    "  {\"code\": \"050\",\"name\": \"1000-2000人\"},\n",
    "  {\"code\": \"060\",\"name\": \"2000-5000人\"},\n",
    "  {\"code\": \"070\",\"name\": \"5000-10000人\"},\n",
    "  {\"code\": \"080\",\"name\": \"10000人以上\"}]\n",
    "\n",
    "workExperiences = [{'code': '1', 'name': '应届生'},\n",
    " {'code': '2', 'name': '实习生'},\n",
    " {'code': '0$1', 'name': '1年以内'},\n",
    " {'code': '1$3', 'name': '1-3年'},\n",
    " {'code': '3$5', 'name': '3-5年'},\n",
    " {'code': '5$10', 'name': '5-10年'},\n",
    " {'code': '10$999', 'name': '10年以上'}]\n",
    "\n",
    "def choose_WE(工作经验):\n",
    "    for i in workExperiences:\n",
    "        if i['name'] == 工作经验:\n",
    "            return i['code']\n",
    "\n",
    "def choose_city(city_name):\n",
    "    for i in city:\n",
    "        if i['name'] == city_name:\n",
    "            return i['code']\n",
    "\n",
    "def com_scale(公司规模):\n",
    "    for i in comScale:\n",
    "        if i['name'] == 公司规模:\n",
    "            return i['code']\n",
    "\n",
    "def headers():\n",
    "    liepin_headers = {\n",
    "        \"Accept\": \"application/json, text/plain, */*\",\n",
    "        \"Accept-Encoding\": \"gzip, deflate, br\",\n",
    "        \"Accept-Language\": \"zh-CN,zh;q=0.9\",\n",
    "        \"Connection\": \"keep-alive\",\n",
    "        \"Content-Length\": \"487\",\n",
    "        \"Content-Type\": \"application/json;charset=UTF-8;\",\n",
    "        \"Cookie\": \"XSRF-TOKEN=zIARnRM0QQaLudJk_4OBXw; __gc_id=e936feed5bd343e5a73b304fa0d4ad5f; _ga=GA1.1.504776059.1697021947; __uuid=1697021948310.51; __tlog=1697021948354.48%7C00000000%7C00000000%7C00000000%7C00000000; Hm_lvt_a2647413544f5a04f00da7eee0d5e200=1697021951; acw_tc=2760828416970219810274366e53a098388abcfc886c89f5cbf2332344893f; Hm_lpvt_a2647413544f5a04f00da7eee0d5e200=1697021975; __session_seq=4; __uv_seq=4; __tlg_event_seq=24; _ga_54YTJKWN86=GS1.1.1697021946.1.1.1697023027.0.0.0\",\n",
    "        \"Host\": \"api-c.liepin.com\",\n",
    "        \"Origin\": \"https://www.liepin.com\",\n",
    "        \"Referer\": \"https://www.liepin.com/zhaopin/?currentPage=0&pageSize=40&city=050090&dq=050090&pubTime=&key=%E4%BA%A7%E5%93%81%E7%BB%8F%E7%90%86&suggestTag=&otherCity=&industry=&ckId=geq5b0qsi9umzbhn0oojbi2j8v8qu2bb&scene=condition&skId=geq5b0qsi9umzbhn0oojbi2j8v8qu2bb&fkId=geq5b0qsi9umzbhn0oojbi2j8v8qu2bb&sfrom=search_job_pc&suggestId=\",\n",
    "        \"Sec-Fetch-Dest\": \"empty\",\n",
    "        \"Sec-Fetch-Mode\": \"cors\",\n",
    "        \"Sec-Fetch-Site\": \"same-site\",\n",
    "        \"User-Agent\": \"Mozilla/5.0 (Windows NT 6.1; WOW64) AppleWebKit/537.36 (KHTML, like Gecko) Chrome/81.0.4044.122 Safari/537.36\",\n",
    "        \"X-Client-Type\": \"web\",\n",
    "        \"X-Fscp-Bi-Stat\": \"{\\\"location\\\": \\\"https://www.liepin.com/zhaopin/?currentPage=0&pageSize=40&city=050090&dq=050090&pubTime=&key=%E4%BA%A7%E5%93%81%E7%BB%8F%E7%90%86&suggestTag=&otherCity=&industry=&ckId=geq5b0qsi9umzbhn0oojbi2j8v8qu2bb&scene=condition&skId=geq5b0qsi9umzbhn0oojbi2j8v8qu2bb&fkId=geq5b0qsi9umzbhn0oojbi2j8v8qu2bb&sfrom=search_job_pc&suggestId=\\\"}\",\n",
    "        \"X-Fscp-Fe-Version\": \"\",\n",
    "        \"X-Fscp-Std-Info\": \"{\\\"client_id\\\": \\\"40108\\\"}\",\n",
    "        \"X-Fscp-Trace-Id\": \"187c89d1-ed19-48b2-99fe-85ceeb116589\",\n",
    "        \"X-Fscp-Version\": \"1.1\",\n",
    "        \"X-Requested-With\": \"XMLHttpRequest\",\n",
    "        \"X-XSRF-TOKEN\": \"zIARnRM0QQaLudJk_4OBXw\"\n",
    "    }\n",
    "\n",
    "    return liepin_headers"
   ],
   "metadata": {
    "collapsed": false
   }
  },
  {
   "cell_type": "code",
   "execution_count": 79,
   "id": "c6f6861b",
   "metadata": {},
   "outputs": [],
   "source": [
    "import pandas\n",
    "from requests_html import HTMLSession\n",
    "import json\n",
    "import pandas as pd\n",
    "\n",
    "url = \"https://apic.liepin.com/api/com.liepin.searchfront4c.pc-search-job\"\n",
    "\n",
    "def payloadd(城市,关键词,工作经验,公司规模):\n",
    "    payload = {\n",
    "    \"data\": {\n",
    "        \"mainSearchPcConditionForm\": {\n",
    "            \"city\": choose_city(城市),\n",
    "            \"dq\": choose_city(城市),\n",
    "            \"pubTime\": \"\",\n",
    "            \"currentPage\": 0,\n",
    "            \"pageSize\": 40,\n",
    "            \"key\": 关键词,\n",
    "            \"suggestTag\": \"\",\n",
    "            \"workYearCode\": choose_WE(工作经验),\n",
    "            \"compId\": \"\",\n",
    "            \"compName\": \"\",\n",
    "            \"compTag\": \"\",\n",
    "            \"industry\": \"\",\n",
    "            \"salary\": \"\",\n",
    "            \"jobKind\": \"\",\n",
    "            \"compScale\": com_scale(公司规模),\n",
    "            \"compKind\": \"\",\n",
    "            \"compStage\": \"\",\n",
    "            \"eduLevel\": \"\"\n",
    "        },\n",
    "        \"passThroughForm\": {\n",
    "            \"scene\": \"input\",\n",
    "            \"skId\": \"\",\n",
    "            \"fkId\": \"\",\n",
    "            \"ckId\": \"h2c8pxojavrmo1w785z7ueih2ybfpux8\",\n",
    "            \"suggest\": None\n",
    "        }\n",
    "    }\n",
    "}\n",
    "    return payload"
   ]
  },
  {
   "cell_type": "code",
   "execution_count": 80,
   "outputs": [],
   "source": [
    "城市 = input('输入城市')"
   ],
   "metadata": {
    "collapsed": false
   }
  },
  {
   "cell_type": "code",
   "execution_count": 81,
   "outputs": [],
   "source": [
    "关键词 = input('关键词')"
   ],
   "metadata": {
    "collapsed": false
   }
  },
  {
   "cell_type": "code",
   "execution_count": 82,
   "outputs": [],
   "source": [
    "工作经验 = input('应届生,实习生,1年以内,1-3年,3-5年任选一个')"
   ],
   "metadata": {
    "collapsed": false
   }
  },
  {
   "cell_type": "code",
   "execution_count": 83,
   "outputs": [],
   "source": [
    "公司规模 = input(\"规模大小:1-49人,50-99人,100-499人,500-999人,1000-2000人,2000-5000人,5000-10000人,10000人以上\")"
   ],
   "metadata": {
    "collapsed": false
   }
  },
  {
   "cell_type": "code",
   "execution_count": 84,
   "outputs": [
    {
     "data": {
      "text/plain": "{'flag': 1,\n 'data': {'data': {'jobCardList': [{'dataInfo': '%7B%22sfrom%22%3A%22search_job_pc%22%2C%22jobKind%22%3A%222%22%2C%22jobId%22%3A%2260645571%22%2C%22ckId%22%3A%22h2c8pxojavrmo1w785z7ueih2ybfpux8%22%2C%22scene%22%3A%22input%22%2C%22skId%22%3A%22h2c8pxojavrmo1w785z7ueih2ybfpux8%22%2C%22fkId%22%3A%22h2c8pxojavrmo1w785z7ueih2ybfpux8%22%2C%22pageSize%22%3A%2240%22%2C%22curPage%22%3A%220%22%2C%22d_curPage%22%3A%220%22%2C%22d_pageSize%22%3A%2240%22%2C%22as_from%22%3A%22search_prime%22%7D',\n     'job': {'labels': [],\n      'requireWorkYears': '3-5年',\n      'requireEduLevel': '统招本科',\n      'dq': '上海',\n      'jobKind': '2',\n      'jobId': '60645571',\n      'refreshTime': '20231020173721',\n      'title': '资深后端工程师',\n      'topJob': True,\n      'dataPromId': 'd_sfrom=search_prime&d_ckId=null&d_curPage=0&d_pageSize=40&d_headId=null&d_posi=0&skId=h2c8pxojavrmo1w785z7ueih2ybfpux8&fkId=h2c8pxojavrmo1w785z7ueih2ybfpux8&ckId=h2c8pxojavrmo1w785z7ueih2ybfpux8&sfrom=search_job_pc&curPage=0&pageSize=40&index=0',\n      'advViewFlag': True,\n      'link': 'https://www.liepin.com/job/1960645571.shtml',\n      'salary': '30-60k·13薪',\n      'pcOuterLink': '',\n      'h5OuterLink': ''},\n     'recruiter': {'recruiterName': '李女士',\n      'recruiterTitle': '人事经理',\n      'chatted': False,\n      'imId': '669ab19c92addb9eaefc9b4a2bd8879c',\n      'imUserType': '2',\n      'recruiterPhoto': '5f8f9865ea60860b75384fa508u.jpg',\n      'recruiterId': 'fa7a9e31e97654fabb97073ecc8e0141'},\n     'comp': {'compStage': 'B轮',\n      'compLogo': '6191d4bd45dcfe252c61b8ea08u.png',\n      'compId': 9952803,\n      'compScale': '50-99人',\n      'compName': '上海芯联芯智能科技有限公司',\n      'compIndustry': '电子/半导体/集成电路',\n      'link': 'https://www.liepin.com/company/9952803/'},\n     'dataParams': '{\"recruiterName\":\"李女士\",\"jobKind\":\"2\",\"jobId\":\"60645571\",\"imId\":\"669ab19c92addb9eaefc9b4a2bd8879c\",\"imUserType\":\"2\",\"userId\":\"fa7a9e31e97654fabb97073ecc8e0141\",\"recruiterPhoto\":\"5f8f9865ea60860b75384fa508u.jpg\"}'},\n    {'dataInfo': '%7B%22sfrom%22%3A%22search_job_pc%22%2C%22jobKind%22%3A%222%22%2C%22jobId%22%3A%2262272413%22%2C%22ckId%22%3A%22h2c8pxojavrmo1w785z7ueih2ybfpux8%22%2C%22scene%22%3A%22input%22%2C%22skId%22%3A%22h2c8pxojavrmo1w785z7ueih2ybfpux8%22%2C%22fkId%22%3A%22h2c8pxojavrmo1w785z7ueih2ybfpux8%22%2C%22pageSize%22%3A%2240%22%2C%22curPage%22%3A%220%22%2C%22d_curPage%22%3A%220%22%2C%22d_pageSize%22%3A%2240%22%2C%22as_from%22%3A%22search_prime%22%7D',\n     'job': {'labels': ['活动策划'],\n      'requireWorkYears': '1-3年',\n      'requireEduLevel': '统招本科',\n      'dq': '深圳-龙华区',\n      'jobKind': '2',\n      'jobId': '62272413',\n      'refreshTime': '20231024142354',\n      'title': '市场专员',\n      'topJob': True,\n      'dataPromId': 'd_sfrom=search_prime&d_ckId=null&d_curPage=0&d_pageSize=40&d_headId=null&d_posi=1&skId=h2c8pxojavrmo1w785z7ueih2ybfpux8&fkId=h2c8pxojavrmo1w785z7ueih2ybfpux8&ckId=h2c8pxojavrmo1w785z7ueih2ybfpux8&sfrom=search_job_pc&curPage=0&pageSize=40&index=1',\n      'advViewFlag': True,\n      'link': 'https://www.liepin.com/job/1962272413.shtml',\n      'salary': '6-8k·15薪',\n      'pcOuterLink': '',\n      'h5OuterLink': ''},\n     'recruiter': {'recruiterName': '程先生',\n      'recruiterTitle': '经理',\n      'chatted': False,\n      'imId': '122fa8e5fdf20baf2980490a0cdf2257',\n      'imUserType': '2',\n      'recruiterPhoto': '5f8f986bdfb13a7dee342f2108u.jpg',\n      'recruiterId': '06cdc80cb7fb2ac6697e9ea8563d0dcd'},\n     'comp': {'compLogo': '5bfea61174719d2aa34cf17003a.png',\n      'compId': 7674188,\n      'compScale': '500-999人',\n      'compName': '轴心自控',\n      'compIndustry': '工业自动化',\n      'link': 'https://www.liepin.com/company/7674188/'},\n     'dataParams': '{\"recruiterName\":\"程先生\",\"jobKind\":\"2\",\"jobId\":\"62272413\",\"imId\":\"122fa8e5fdf20baf2980490a0cdf2257\",\"imUserType\":\"2\",\"userId\":\"06cdc80cb7fb2ac6697e9ea8563d0dcd\",\"recruiterPhoto\":\"5f8f986bdfb13a7dee342f2108u.jpg\"}'},\n    {'dataInfo': '%7B%22sfrom%22%3A%22search_job_pc%22%2C%22jobKind%22%3A%222%22%2C%22jobId%22%3A%2254525243%22%2C%22ckId%22%3A%22h2c8pxojavrmo1w785z7ueih2ybfpux8%22%2C%22scene%22%3A%22input%22%2C%22skId%22%3A%22h2c8pxojavrmo1w785z7ueih2ybfpux8%22%2C%22fkId%22%3A%22h2c8pxojavrmo1w785z7ueih2ybfpux8%22%2C%22pageSize%22%3A%2240%22%2C%22curPage%22%3A%220%22%2C%22d_curPage%22%3A%220%22%2C%22d_pageSize%22%3A%2240%22%2C%22as_from%22%3A%22search_prime%22%7D',\n     'job': {'labels': ['面销', '大客户', '医美行业'],\n      'requireWorkYears': '1-3年',\n      'requireEduLevel': '中专/中技',\n      'dq': '上海-闵行区',\n      'jobKind': '2',\n      'jobId': '54525243',\n      'refreshTime': '20231020170819',\n      'title': '医美市场咨询师',\n      'topJob': True,\n      'dataPromId': 'd_sfrom=search_prime&d_ckId=null&d_curPage=0&d_pageSize=40&d_headId=null&d_posi=2&skId=h2c8pxojavrmo1w785z7ueih2ybfpux8&fkId=h2c8pxojavrmo1w785z7ueih2ybfpux8&ckId=h2c8pxojavrmo1w785z7ueih2ybfpux8&sfrom=search_job_pc&curPage=0&pageSize=40&index=2',\n      'advViewFlag': True,\n      'link': 'https://www.liepin.com/job/1954525243.shtml',\n      'salary': '15-30k',\n      'pcOuterLink': '',\n      'h5OuterLink': ''},\n     'recruiter': {'recruiterName': '周先生',\n      'recruiterTitle': '人事经理',\n      'chatted': False,\n      'imId': 'caf8cb1db5b7ac964b595caf25f6eb7a',\n      'imUserType': '2',\n      'recruiterPhoto': '5f8f986aea60860b75384fab08u.jpg',\n      'recruiterId': '79da310765a901130956812c3b3d8b3f'},\n     'comp': {'compLogo': '652f45c65d89236fe07d6b8c04u.png',\n      'compId': 13298973,\n      'compScale': '100-499人',\n      'compName': '上海臻吻门诊部有限公司',\n      'compIndustry': '医疗机构',\n      'link': 'https://www.liepin.com/company/13298973/'},\n     'dataParams': '{\"recruiterName\":\"周先生\",\"jobKind\":\"2\",\"jobId\":\"54525243\",\"imId\":\"caf8cb1db5b7ac964b595caf25f6eb7a\",\"imUserType\":\"2\",\"userId\":\"79da310765a901130956812c3b3d8b3f\",\"recruiterPhoto\":\"5f8f986aea60860b75384fab08u.jpg\"}'},\n    {'dataInfo': '%7B%22sfrom%22%3A%22search_job_pc%22%2C%22jobKind%22%3A%226%22%2C%22jobId%22%3A%2262502885%22%2C%22ckId%22%3A%22h2c8pxojavrmo1w785z7ueih2ybfpux8%22%2C%22scene%22%3A%22input%22%2C%22skId%22%3A%22h2c8pxojavrmo1w785z7ueih2ybfpux8%22%2C%22fkId%22%3A%22h2c8pxojavrmo1w785z7ueih2ybfpux8%22%2C%22pageSize%22%3A%2240%22%2C%22curPage%22%3A%220%22%2C%22d_curPage%22%3A%220%22%2C%22d_pageSize%22%3A%2240%22%2C%22as_from%22%3A%22search_prime%22%7D',\n     'job': {'labels': ['本科'],\n      'dq': '上海-松江区',\n      'jobKind': '6',\n      'jobId': '62502885',\n      'refreshTime': '20231026180415',\n      'title': '采购实习生 (MJ000592)',\n      'topJob': False,\n      'dataPromId': 'd_sfrom=search_prime&d_ckId=null&d_curPage=0&d_pageSize=40&d_headId=null&d_posi=3&skId=h2c8pxojavrmo1w785z7ueih2ybfpux8&fkId=h2c8pxojavrmo1w785z7ueih2ybfpux8&ckId=h2c8pxojavrmo1w785z7ueih2ybfpux8&sfrom=search_job_pc&curPage=0&pageSize=40&index=3',\n      'campusJobKind': '应届',\n      'advViewFlag': False,\n      'link': 'https://www.liepin.com/lptjob/62502885',\n      'salary': '2-4k',\n      'pcOuterLink': '',\n      'h5OuterLink': ''},\n     'recruiter': {'recruiterName': '王女士',\n      'recruiterTitle': '招聘管理专员',\n      'chatted': False,\n      'imId': 'bac827e93e409b4c4eb3c85621fabd5f',\n      'imUserType': '2',\n      'recruiterPhoto': '5f8f9866dfb13a7dee342f1808u.jpg',\n      'recruiterId': '0024355126a7ab22035613e03b37a7fa'},\n     'comp': {'compStage': '沪深A股上市',\n      'compLogo': '5bfea1ca74719d2aa34c3a3203a.png',\n      'compId': 883023,\n      'compScale': '2000-5000人',\n      'compName': '保隆科技',\n      'compIndustry': '汽车零部件及配件',\n      'link': 'https://www.liepin.com/company/883023/'},\n     'dataParams': '{\"recruiterName\":\"王女士\",\"jobKind\":\"6\",\"jobId\":\"62502885\",\"imId\":\"bac827e93e409b4c4eb3c85621fabd5f\",\"imUserType\":\"2\",\"userId\":\"0024355126a7ab22035613e03b37a7fa\",\"recruiterPhoto\":\"5f8f9866dfb13a7dee342f1808u.jpg\"}'},\n    {'dataInfo': '%7B%22sfrom%22%3A%22search_job_pc%22%2C%22jobKind%22%3A%226%22%2C%22jobId%22%3A%2262502845%22%2C%22ckId%22%3A%22h2c8pxojavrmo1w785z7ueih2ybfpux8%22%2C%22scene%22%3A%22input%22%2C%22skId%22%3A%22h2c8pxojavrmo1w785z7ueih2ybfpux8%22%2C%22fkId%22%3A%22h2c8pxojavrmo1w785z7ueih2ybfpux8%22%2C%22pageSize%22%3A%2240%22%2C%22curPage%22%3A%220%22%2C%22d_curPage%22%3A%220%22%2C%22d_pageSize%22%3A%2240%22%2C%22as_from%22%3A%22search_prime%22%7D',\n     'job': {'labels': ['本科',\n       '桌面运维',\n       'IT运维',\n       '技术支持',\n       '系统运维',\n       '商业信息化',\n       '电商领域',\n       'OA系统',\n       'CRM系统'],\n      'dq': '成都-高新区',\n      'jobKind': '6',\n      'jobId': '62502845',\n      'refreshTime': '20231026180245',\n      'title': '远程技术支持工程师',\n      'topJob': False,\n      'dataPromId': 'd_sfrom=search_prime&d_ckId=null&d_curPage=0&d_pageSize=40&d_headId=null&d_posi=4&skId=h2c8pxojavrmo1w785z7ueih2ybfpux8&fkId=h2c8pxojavrmo1w785z7ueih2ybfpux8&ckId=h2c8pxojavrmo1w785z7ueih2ybfpux8&sfrom=search_job_pc&curPage=0&pageSize=40&index=4',\n      'campusJobKind': '应届',\n      'advViewFlag': False,\n      'link': 'https://www.liepin.com/lptjob/62502845',\n      'salary': '5-6k',\n      'pcOuterLink': '',\n      'h5OuterLink': ''},\n     'recruiter': {'recruiterName': '崔女士',\n      'recruiterTitle': 'Senior HR Generalist',\n      'chatted': False,\n      'imId': 'ef5883c06db1052e4905a3841e4dc3ea',\n      'imUserType': '2',\n      'recruiterPhoto': '5f8f9865ea60860b75384fa508u.jpg',\n      'recruiterId': '88faabfe6b5d0360d5c713ddc09f95d9'},\n     'comp': {'compLogo': '6510f082bd22112c9fcbf50b02u.png',\n      'compId': 13620497,\n      'compScale': '100-499人',\n      'compName': '源讯企业科技',\n      'compIndustry': 'IT服务',\n      'link': 'https://www.liepin.com/company/13620497/'},\n     'dataParams': '{\"recruiterName\":\"崔女士\",\"jobKind\":\"6\",\"jobId\":\"62502845\",\"imId\":\"ef5883c06db1052e4905a3841e4dc3ea\",\"imUserType\":\"2\",\"userId\":\"88faabfe6b5d0360d5c713ddc09f95d9\",\"recruiterPhoto\":\"5f8f9865ea60860b75384fa508u.jpg\"}'},\n    {'dataInfo': '%7B%22sfrom%22%3A%22search_job_pc%22%2C%22jobKind%22%3A%226%22%2C%22jobId%22%3A%2262502787%22%2C%22ckId%22%3A%22h2c8pxojavrmo1w785z7ueih2ybfpux8%22%2C%22scene%22%3A%22input%22%2C%22skId%22%3A%22h2c8pxojavrmo1w785z7ueih2ybfpux8%22%2C%22fkId%22%3A%22h2c8pxojavrmo1w785z7ueih2ybfpux8%22%2C%22pageSize%22%3A%2240%22%2C%22curPage%22%3A%220%22%2C%22d_curPage%22%3A%220%22%2C%22d_pageSize%22%3A%2240%22%2C%22as_from%22%3A%22search_prime%22%7D',\n     'job': {'labels': ['本科', '资本运营', '行业研究'],\n      'dq': '北京-朝阳区',\n      'jobKind': '6',\n      'jobId': '62502787',\n      'refreshTime': '20231026180021',\n      'title': '资本运营岗 19810',\n      'topJob': False,\n      'dataPromId': 'd_sfrom=search_prime&d_ckId=null&d_curPage=0&d_pageSize=40&d_headId=null&d_posi=5&skId=h2c8pxojavrmo1w785z7ueih2ybfpux8&fkId=h2c8pxojavrmo1w785z7ueih2ybfpux8&ckId=h2c8pxojavrmo1w785z7ueih2ybfpux8&sfrom=search_job_pc&curPage=0&pageSize=40&index=5',\n      'campusJobKind': '应届',\n      'advViewFlag': False,\n      'link': 'https://www.liepin.com/lptjob/62502787',\n      'salary': '12-20k',\n      'pcOuterLink': '',\n      'h5OuterLink': ''},\n     'recruiter': {'recruiterName': '李先生',\n      'recruiterTitle': 'HRBP',\n      'chatted': False,\n      'imId': '8e5c90c90712a1ec13f41eedf071201e',\n      'imUserType': '2',\n      'recruiterPhoto': '5f8f98698dbe6273dcf8516008u.jpg',\n      'recruiterId': '22eed0bd7f88ba8dc420e7b10d6f39a5'},\n     'comp': {'compStage': '沪深A股上市',\n      'compLogo': '5d78b9bdd0e79f08cff839e807u.jpg',\n      'compId': 1730543,\n      'compScale': '10000人以上',\n      'compName': '华夏幸福',\n      'compIndustry': '房地产开发经营',\n      'link': 'https://www.liepin.com/company/1730543/'},\n     'dataParams': '{\"recruiterName\":\"李先生\",\"jobKind\":\"6\",\"jobId\":\"62502787\",\"imId\":\"8e5c90c90712a1ec13f41eedf071201e\",\"imUserType\":\"2\",\"userId\":\"22eed0bd7f88ba8dc420e7b10d6f39a5\",\"recruiterPhoto\":\"5f8f98698dbe6273dcf8516008u.jpg\"}'},\n    {'dataInfo': '%7B%22sfrom%22%3A%22search_job_pc%22%2C%22jobKind%22%3A%226%22%2C%22jobId%22%3A%2262502693%22%2C%22ckId%22%3A%22h2c8pxojavrmo1w785z7ueih2ybfpux8%22%2C%22scene%22%3A%22input%22%2C%22skId%22%3A%22h2c8pxojavrmo1w785z7ueih2ybfpux8%22%2C%22fkId%22%3A%22h2c8pxojavrmo1w785z7ueih2ybfpux8%22%2C%22pageSize%22%3A%2240%22%2C%22curPage%22%3A%220%22%2C%22d_curPage%22%3A%220%22%2C%22d_pageSize%22%3A%2240%22%2C%22as_from%22%3A%22search_prime%22%7D',\n     'job': {'labels': ['本科', '核保', '市场营销', '核赔', '保险理赔', '财务管理', '人力行政'],\n      'dq': '福州-台江区',\n      'jobKind': '6',\n      'jobId': '62502693',\n      'refreshTime': '20231026175727',\n      'title': '橙星管培生',\n      'topJob': False,\n      'dataPromId': 'd_sfrom=search_prime&d_ckId=null&d_curPage=0&d_pageSize=40&d_headId=null&d_posi=6&skId=h2c8pxojavrmo1w785z7ueih2ybfpux8&fkId=h2c8pxojavrmo1w785z7ueih2ybfpux8&ckId=h2c8pxojavrmo1w785z7ueih2ybfpux8&sfrom=search_job_pc&curPage=0&pageSize=40&index=6',\n      'campusJobKind': '应届',\n      'advViewFlag': False,\n      'link': 'https://www.liepin.com/lptjob/62502693',\n      'salary': '4-8k',\n      'pcOuterLink': '',\n      'h5OuterLink': ''},\n     'recruiter': {'recruiterName': '王女士',\n      'recruiterTitle': '',\n      'chatted': False,\n      'imId': '3b99bae513920e8169df24199cb901bf',\n      'imUserType': '2',\n      'recruiterPhoto': '5f8f98648dbe6273dcf8515508u.jpg',\n      'recruiterId': '043115a44c283a2f3a82eb7e3823d995'},\n     'comp': {'compStage': '融资未公开',\n      'compLogo': '5fb1e1bb7d84d06ed7b3379804u.png',\n      'compId': 8334435,\n      'compScale': '2000-5000人',\n      'compName': '平安产险福建分公司',\n      'compIndustry': '保险',\n      'link': 'https://www.liepin.com/company/8334435/'},\n     'dataParams': '{\"recruiterName\":\"王女士\",\"jobKind\":\"6\",\"jobId\":\"62502693\",\"imId\":\"3b99bae513920e8169df24199cb901bf\",\"imUserType\":\"2\",\"userId\":\"043115a44c283a2f3a82eb7e3823d995\",\"recruiterPhoto\":\"5f8f98648dbe6273dcf8515508u.jpg\"}'},\n    {'dataInfo': '%7B%22sfrom%22%3A%22search_job_pc%22%2C%22jobKind%22%3A%226%22%2C%22jobId%22%3A%2262502609%22%2C%22ckId%22%3A%22h2c8pxojavrmo1w785z7ueih2ybfpux8%22%2C%22scene%22%3A%22input%22%2C%22skId%22%3A%22h2c8pxojavrmo1w785z7ueih2ybfpux8%22%2C%22fkId%22%3A%22h2c8pxojavrmo1w785z7ueih2ybfpux8%22%2C%22pageSize%22%3A%2240%22%2C%22curPage%22%3A%220%22%2C%22d_curPage%22%3A%220%22%2C%22d_pageSize%22%3A%2240%22%2C%22as_from%22%3A%22search_prime%22%7D',\n     'job': {'labels': ['3个月', '本科'],\n      'dq': '广州-南沙区',\n      'jobKind': '6',\n      'jobId': '62502609',\n      'refreshTime': '20231026175448',\n      'title': '线上记者实习生',\n      'topJob': False,\n      'dataPromId': 'd_sfrom=search_prime&d_ckId=null&d_curPage=0&d_pageSize=40&d_headId=null&d_posi=7&skId=h2c8pxojavrmo1w785z7ueih2ybfpux8&fkId=h2c8pxojavrmo1w785z7ueih2ybfpux8&ckId=h2c8pxojavrmo1w785z7ueih2ybfpux8&sfrom=search_job_pc&curPage=0&pageSize=40&index=7',\n      'campusJobKind': '实习',\n      'advViewFlag': False,\n      'link': 'https://www.liepin.com/lptjob/62502609',\n      'salary': '50元/天',\n      'pcOuterLink': '',\n      'h5OuterLink': ''},\n     'recruiter': {'recruiterName': '齐女士',\n      'recruiterTitle': '',\n      'chatted': False,\n      'imId': '4e11c9153338b0f10e33f8ac54fbf39e',\n      'imUserType': '2',\n      'recruiterPhoto': '5f8f9865ea60860b75384fa508u.jpg',\n      'recruiterId': '61a17db33cfcad2557bdc25099d9bc84'},\n     'comp': {'compStage': '融资未公开',\n      'compLogo': '5e56108029d83a6754545bdb03u.jpg',\n      'compId': 10127735,\n      'compScale': '1-49人',\n      'compName': '广东海丝研究院有限公司',\n      'compIndustry': '咨询服务',\n      'link': 'https://www.liepin.com/company/10127735/'},\n     'dataParams': '{\"recruiterName\":\"齐女士\",\"jobKind\":\"6\",\"jobId\":\"62502609\",\"imId\":\"4e11c9153338b0f10e33f8ac54fbf39e\",\"imUserType\":\"2\",\"userId\":\"61a17db33cfcad2557bdc25099d9bc84\",\"recruiterPhoto\":\"5f8f9865ea60860b75384fa508u.jpg\"}'},\n    {'dataInfo': '%7B%22sfrom%22%3A%22search_job_pc%22%2C%22jobKind%22%3A%226%22%2C%22jobId%22%3A%2262502409%22%2C%22ckId%22%3A%22h2c8pxojavrmo1w785z7ueih2ybfpux8%22%2C%22scene%22%3A%22input%22%2C%22skId%22%3A%22h2c8pxojavrmo1w785z7ueih2ybfpux8%22%2C%22fkId%22%3A%22h2c8pxojavrmo1w785z7ueih2ybfpux8%22%2C%22pageSize%22%3A%2240%22%2C%22curPage%22%3A%220%22%2C%22d_curPage%22%3A%220%22%2C%22d_pageSize%22%3A%2240%22%2C%22as_from%22%3A%22search_prime%22%7D',\n     'job': {'labels': ['本科'],\n      'dq': '深圳',\n      'jobKind': '6',\n      'jobId': '62502409',\n      'refreshTime': '20231026174814',\n      'title': '【海之子】投研岗-康养公司',\n      'topJob': False,\n      'dataPromId': 'd_sfrom=search_prime&d_ckId=null&d_curPage=0&d_pageSize=40&d_headId=null&d_posi=8&skId=h2c8pxojavrmo1w785z7ueih2ybfpux8&fkId=h2c8pxojavrmo1w785z7ueih2ybfpux8&ckId=h2c8pxojavrmo1w785z7ueih2ybfpux8&sfrom=search_job_pc&curPage=0&pageSize=40&index=8',\n      'campusJobKind': '应届',\n      'advViewFlag': False,\n      'link': 'https://www.liepin.com/lptjob/62502409',\n      'salary': '薪资面议',\n      'pcOuterLink': 'https://9-s.cn/LB0NAa',\n      'h5OuterLink': 'https://9-s.cn/LB0NAa'},\n     'recruiter': {'recruiterName': '赵先生',\n      'recruiterTitle': '招聘总监',\n      'chatted': False,\n      'imId': '19bcd07d94d285a2e030375514342674',\n      'imUserType': '2',\n      'recruiterPhoto': '5ad73bcd8e503c6657e1728a04a.jpg',\n      'recruiterId': '204d0a32bd2872d273eed9e2426925e2'},\n     'comp': {'compLogo': '6152c4cc6f51835dc0c4098401u.png',\n      'compId': 8008752,\n      'compScale': '5000-10000人',\n      'compName': '中海地产',\n      'compIndustry': '房地产开发经营',\n      'link': 'https://www.liepin.com/company/8008752/'},\n     'dataParams': '{\"recruiterName\":\"赵先生\",\"jobKind\":\"6\",\"jobId\":\"62502409\",\"imId\":\"19bcd07d94d285a2e030375514342674\",\"imUserType\":\"2\",\"userId\":\"204d0a32bd2872d273eed9e2426925e2\",\"recruiterPhoto\":\"5ad73bcd8e503c6657e1728a04a.jpg\"}'},\n    {'dataInfo': '%7B%22sfrom%22%3A%22search_job_pc%22%2C%22jobKind%22%3A%222%22%2C%22jobId%22%3A%2261005693%22%2C%22ckId%22%3A%22h2c8pxojavrmo1w785z7ueih2ybfpux8%22%2C%22scene%22%3A%22input%22%2C%22skId%22%3A%22h2c8pxojavrmo1w785z7ueih2ybfpux8%22%2C%22fkId%22%3A%22h2c8pxojavrmo1w785z7ueih2ybfpux8%22%2C%22pageSize%22%3A%2240%22%2C%22curPage%22%3A%220%22%2C%22d_curPage%22%3A%220%22%2C%22d_pageSize%22%3A%2240%22%2C%22as_from%22%3A%22search_prime%22%7D',\n     'job': {'labels': [],\n      'requireWorkYears': '5-10年',\n      'requireEduLevel': '统招本科',\n      'dq': '深圳',\n      'jobKind': '2',\n      'jobId': '61005693',\n      'refreshTime': '20231026140338',\n      'title': '高级PE工程师',\n      'topJob': False,\n      'dataPromId': 'd_sfrom=search_prime&d_ckId=null&d_curPage=0&d_pageSize=40&d_headId=null&d_posi=9&skId=h2c8pxojavrmo1w785z7ueih2ybfpux8&fkId=h2c8pxojavrmo1w785z7ueih2ybfpux8&ckId=h2c8pxojavrmo1w785z7ueih2ybfpux8&sfrom=search_job_pc&curPage=0&pageSize=40&index=9',\n      'advViewFlag': False,\n      'link': 'https://www.liepin.com/job/1961005693.shtml',\n      'salary': '25-35k·14薪',\n      'pcOuterLink': '',\n      'h5OuterLink': ''},\n     'recruiter': {'recruiterName': '岳先生',\n      'recruiterTitle': '',\n      'chatted': False,\n      'imId': '62ca8963f571646acefc0e440455247a',\n      'imUserType': '2',\n      'recruiterPhoto': '5f8f986c79c7cc70efbf36c808u.jpg',\n      'recruiterId': '1cbdea047556eab4801515c379bf8239'},\n     'comp': {'compStage': '其他',\n      'compLogo': '5df8690f276e4871f42afa5301u.png',\n      'compId': 9508647,\n      'compScale': '5000-10000人',\n      'compName': '深圳市大疆百旺科技有限公司',\n      'compIndustry': '电子/半导体/集成电路',\n      'link': 'https://www.liepin.com/company/9508647/'},\n     'dataParams': '{\"recruiterName\":\"岳先生\",\"jobKind\":\"2\",\"jobId\":\"61005693\",\"imId\":\"62ca8963f571646acefc0e440455247a\",\"imUserType\":\"2\",\"userId\":\"1cbdea047556eab4801515c379bf8239\",\"recruiterPhoto\":\"5f8f986c79c7cc70efbf36c808u.jpg\"}'},\n    {'dataInfo': '%7B%22sfrom%22%3A%22search_job_pc%22%2C%22jobKind%22%3A%226%22%2C%22jobId%22%3A%2262502383%22%2C%22ckId%22%3A%22h2c8pxojavrmo1w785z7ueih2ybfpux8%22%2C%22scene%22%3A%22input%22%2C%22skId%22%3A%22h2c8pxojavrmo1w785z7ueih2ybfpux8%22%2C%22fkId%22%3A%22h2c8pxojavrmo1w785z7ueih2ybfpux8%22%2C%22pageSize%22%3A%2240%22%2C%22curPage%22%3A%220%22%2C%22d_curPage%22%3A%220%22%2C%22d_pageSize%22%3A%2240%22%2C%22as_from%22%3A%22search_prime%22%7D',\n     'job': {'labels': ['本科'],\n      'dq': '深圳',\n      'jobKind': '6',\n      'jobId': '62502383',\n      'refreshTime': '20231026174700',\n      'title': '【海之子】运营管理岗-康养公司',\n      'topJob': False,\n      'dataPromId': 'd_sfrom=search_prime&d_ckId=null&d_curPage=0&d_pageSize=40&d_headId=null&d_posi=10&skId=h2c8pxojavrmo1w785z7ueih2ybfpux8&fkId=h2c8pxojavrmo1w785z7ueih2ybfpux8&ckId=h2c8pxojavrmo1w785z7ueih2ybfpux8&sfrom=search_job_pc&curPage=0&pageSize=40&index=10',\n      'campusJobKind': '应届',\n      'advViewFlag': False,\n      'link': 'https://www.liepin.com/lptjob/62502383',\n      'salary': '薪资面议',\n      'pcOuterLink': 'https://9-s.cn/LB0NuC',\n      'h5OuterLink': 'https://9-s.cn/LB0NuC'},\n     'recruiter': {'recruiterName': '赵先生',\n      'recruiterTitle': '招聘总监',\n      'chatted': False,\n      'imId': '19bcd07d94d285a2e030375514342674',\n      'imUserType': '2',\n      'recruiterPhoto': '5ad73bcd8e503c6657e1728a04a.jpg',\n      'recruiterId': '204d0a32bd2872d273eed9e2426925e2'},\n     'comp': {'compLogo': '6152c4cc6f51835dc0c4098401u.png',\n      'compId': 8008752,\n      'compScale': '5000-10000人',\n      'compName': '中海地产',\n      'compIndustry': '房地产开发经营',\n      'link': 'https://www.liepin.com/company/8008752/'},\n     'dataParams': '{\"recruiterName\":\"赵先生\",\"jobKind\":\"6\",\"jobId\":\"62502383\",\"imId\":\"19bcd07d94d285a2e030375514342674\",\"imUserType\":\"2\",\"userId\":\"204d0a32bd2872d273eed9e2426925e2\",\"recruiterPhoto\":\"5ad73bcd8e503c6657e1728a04a.jpg\"}'},\n    {'dataInfo': '%7B%22sfrom%22%3A%22search_job_pc%22%2C%22jobKind%22%3A%226%22%2C%22jobId%22%3A%2262502341%22%2C%22ckId%22%3A%22h2c8pxojavrmo1w785z7ueih2ybfpux8%22%2C%22scene%22%3A%22input%22%2C%22skId%22%3A%22h2c8pxojavrmo1w785z7ueih2ybfpux8%22%2C%22fkId%22%3A%22h2c8pxojavrmo1w785z7ueih2ybfpux8%22%2C%22pageSize%22%3A%2240%22%2C%22curPage%22%3A%220%22%2C%22d_curPage%22%3A%220%22%2C%22d_pageSize%22%3A%2240%22%2C%22as_from%22%3A%22search_prime%22%7D',\n     'job': {'labels': ['本科'],\n      'dq': '深圳',\n      'jobKind': '6',\n      'jobId': '62502341',\n      'refreshTime': '20231026174541',\n      'title': '【海之子】产品经理岗-科技公司',\n      'topJob': False,\n      'dataPromId': 'd_sfrom=search_prime&d_ckId=null&d_curPage=0&d_pageSize=40&d_headId=null&d_posi=11&skId=h2c8pxojavrmo1w785z7ueih2ybfpux8&fkId=h2c8pxojavrmo1w785z7ueih2ybfpux8&ckId=h2c8pxojavrmo1w785z7ueih2ybfpux8&sfrom=search_job_pc&curPage=0&pageSize=40&index=11',\n      'campusJobKind': '应届',\n      'advViewFlag': False,\n      'link': 'https://www.liepin.com/lptjob/62502341',\n      'salary': '薪资面议',\n      'pcOuterLink': 'https://9-s.cn/LB0NhL',\n      'h5OuterLink': 'https://9-s.cn/LB0NhL'},\n     'recruiter': {'recruiterName': '赵先生',\n      'recruiterTitle': '招聘总监',\n      'chatted': False,\n      'imId': '19bcd07d94d285a2e030375514342674',\n      'imUserType': '2',\n      'recruiterPhoto': '5ad73bcd8e503c6657e1728a04a.jpg',\n      'recruiterId': '204d0a32bd2872d273eed9e2426925e2'},\n     'comp': {'compLogo': '6152c4cc6f51835dc0c4098401u.png',\n      'compId': 8008752,\n      'compScale': '5000-10000人',\n      'compName': '中海地产',\n      'compIndustry': '房地产开发经营',\n      'link': 'https://www.liepin.com/company/8008752/'},\n     'dataParams': '{\"recruiterName\":\"赵先生\",\"jobKind\":\"6\",\"jobId\":\"62502341\",\"imId\":\"19bcd07d94d285a2e030375514342674\",\"imUserType\":\"2\",\"userId\":\"204d0a32bd2872d273eed9e2426925e2\",\"recruiterPhoto\":\"5ad73bcd8e503c6657e1728a04a.jpg\"}'},\n    {'dataInfo': '%7B%22sfrom%22%3A%22search_job_pc%22%2C%22jobKind%22%3A%226%22%2C%22jobId%22%3A%2262502335%22%2C%22ckId%22%3A%22h2c8pxojavrmo1w785z7ueih2ybfpux8%22%2C%22scene%22%3A%22input%22%2C%22skId%22%3A%22h2c8pxojavrmo1w785z7ueih2ybfpux8%22%2C%22fkId%22%3A%22h2c8pxojavrmo1w785z7ueih2ybfpux8%22%2C%22pageSize%22%3A%2240%22%2C%22curPage%22%3A%220%22%2C%22d_curPage%22%3A%220%22%2C%22d_pageSize%22%3A%2240%22%2C%22as_from%22%3A%22search_prime%22%7D',\n     'job': {'labels': ['本科'],\n      'dq': '北京-朝阳区',\n      'jobKind': '6',\n      'jobId': '62502335',\n      'refreshTime': '20231026174536',\n      'title': '综合管理岗 19812',\n      'topJob': False,\n      'dataPromId': 'd_sfrom=search_prime&d_ckId=null&d_curPage=0&d_pageSize=40&d_headId=null&d_posi=12&skId=h2c8pxojavrmo1w785z7ueih2ybfpux8&fkId=h2c8pxojavrmo1w785z7ueih2ybfpux8&ckId=h2c8pxojavrmo1w785z7ueih2ybfpux8&sfrom=search_job_pc&curPage=0&pageSize=40&index=12',\n      'campusJobKind': '应届',\n      'advViewFlag': False,\n      'link': 'https://www.liepin.com/lptjob/62502335',\n      'salary': '12-20k',\n      'pcOuterLink': '',\n      'h5OuterLink': ''},\n     'recruiter': {'recruiterName': '李先生',\n      'recruiterTitle': 'HRBP',\n      'chatted': False,\n      'imId': '8e5c90c90712a1ec13f41eedf071201e',\n      'imUserType': '2',\n      'recruiterPhoto': '5f8f98698dbe6273dcf8516008u.jpg',\n      'recruiterId': '22eed0bd7f88ba8dc420e7b10d6f39a5'},\n     'comp': {'compStage': '沪深A股上市',\n      'compLogo': '5d78b9bdd0e79f08cff839e807u.jpg',\n      'compId': 1730543,\n      'compScale': '10000人以上',\n      'compName': '华夏幸福',\n      'compIndustry': '房地产开发经营',\n      'link': 'https://www.liepin.com/company/1730543/'},\n     'dataParams': '{\"recruiterName\":\"李先生\",\"jobKind\":\"6\",\"jobId\":\"62502335\",\"imId\":\"8e5c90c90712a1ec13f41eedf071201e\",\"imUserType\":\"2\",\"userId\":\"22eed0bd7f88ba8dc420e7b10d6f39a5\",\"recruiterPhoto\":\"5f8f98698dbe6273dcf8516008u.jpg\"}'},\n    {'dataInfo': '%7B%22sfrom%22%3A%22search_job_pc%22%2C%22jobKind%22%3A%226%22%2C%22jobId%22%3A%2262502309%22%2C%22ckId%22%3A%22h2c8pxojavrmo1w785z7ueih2ybfpux8%22%2C%22scene%22%3A%22input%22%2C%22skId%22%3A%22h2c8pxojavrmo1w785z7ueih2ybfpux8%22%2C%22fkId%22%3A%22h2c8pxojavrmo1w785z7ueih2ybfpux8%22%2C%22pageSize%22%3A%2240%22%2C%22curPage%22%3A%220%22%2C%22d_curPage%22%3A%220%22%2C%22d_pageSize%22%3A%2240%22%2C%22as_from%22%3A%22search_prime%22%7D',\n     'job': {'labels': ['硕士'],\n      'dq': '合肥',\n      'jobKind': '6',\n      'jobId': '62502309',\n      'refreshTime': '20231026174613',\n      'title': '【海之子】安装工程岗-中建宏达',\n      'topJob': False,\n      'dataPromId': 'd_sfrom=search_prime&d_ckId=null&d_curPage=0&d_pageSize=40&d_headId=null&d_posi=13&skId=h2c8pxojavrmo1w785z7ueih2ybfpux8&fkId=h2c8pxojavrmo1w785z7ueih2ybfpux8&ckId=h2c8pxojavrmo1w785z7ueih2ybfpux8&sfrom=search_job_pc&curPage=0&pageSize=40&index=13',\n      'campusJobKind': '应届',\n      'advViewFlag': False,\n      'link': 'https://www.liepin.com/lptjob/62502309',\n      'salary': '薪资面议',\n      'pcOuterLink': 'https://9-s.cn/LB0NxE',\n      'h5OuterLink': 'https://9-s.cn/LB0NxE'},\n     'recruiter': {'recruiterName': '赵先生',\n      'recruiterTitle': '招聘总监',\n      'chatted': False,\n      'imId': '19bcd07d94d285a2e030375514342674',\n      'imUserType': '2',\n      'recruiterPhoto': '5ad73bcd8e503c6657e1728a04a.jpg',\n      'recruiterId': '204d0a32bd2872d273eed9e2426925e2'},\n     'comp': {'compLogo': '6152c4cc6f51835dc0c4098401u.png',\n      'compId': 8008752,\n      'compScale': '5000-10000人',\n      'compName': '中海地产',\n      'compIndustry': '房地产开发经营',\n      'link': 'https://www.liepin.com/company/8008752/'},\n     'dataParams': '{\"recruiterName\":\"赵先生\",\"jobKind\":\"6\",\"jobId\":\"62502309\",\"imId\":\"19bcd07d94d285a2e030375514342674\",\"imUserType\":\"2\",\"userId\":\"204d0a32bd2872d273eed9e2426925e2\",\"recruiterPhoto\":\"5ad73bcd8e503c6657e1728a04a.jpg\"}'},\n    {'dataInfo': '%7B%22sfrom%22%3A%22search_job_pc%22%2C%22jobKind%22%3A%222%22%2C%22jobId%22%3A%2262442985%22%2C%22ckId%22%3A%22h2c8pxojavrmo1w785z7ueih2ybfpux8%22%2C%22scene%22%3A%22input%22%2C%22skId%22%3A%22h2c8pxojavrmo1w785z7ueih2ybfpux8%22%2C%22fkId%22%3A%22h2c8pxojavrmo1w785z7ueih2ybfpux8%22%2C%22pageSize%22%3A%2240%22%2C%22curPage%22%3A%220%22%2C%22d_curPage%22%3A%220%22%2C%22d_pageSize%22%3A%2240%22%2C%22as_from%22%3A%22search_prime%22%7D',\n     'job': {'labels': [],\n      'requireWorkYears': '3-5年',\n      'requireEduLevel': '硕士',\n      'dq': '北京-通州区',\n      'jobKind': '2',\n      'jobId': '62442985',\n      'refreshTime': '20231024183631',\n      'title': '电气工程师',\n      'topJob': False,\n      'dataPromId': 'd_sfrom=search_prime&d_ckId=null&d_curPage=0&d_pageSize=40&d_headId=null&d_posi=14&skId=h2c8pxojavrmo1w785z7ueih2ybfpux8&fkId=h2c8pxojavrmo1w785z7ueih2ybfpux8&ckId=h2c8pxojavrmo1w785z7ueih2ybfpux8&sfrom=search_job_pc&curPage=0&pageSize=40&index=14',\n      'advViewFlag': False,\n      'link': 'https://www.liepin.com/job/1962442985.shtml',\n      'salary': '15-30k·14薪',\n      'pcOuterLink': '',\n      'h5OuterLink': ''},\n     'recruiter': {'recruiterName': '桑先生',\n      'recruiterTitle': 'HRBP经理',\n      'chatted': False,\n      'imId': 'e9875cdd4cdec8cf4f3475fd061985f8',\n      'imUserType': '2',\n      'recruiterPhoto': '5f8f9868f6d1ab58476f24a008u.jpg',\n      'recruiterId': '39857dfdc256b59b9b14690791176a33'},\n     'comp': {'compStage': 'C轮',\n      'compLogo': '65221fae4ee7a80bb78eda0006u.png',\n      'compId': 8432471,\n      'compScale': '500-999人',\n      'compName': '东方晶源',\n      'compIndustry': '电子/半导体/集成电路',\n      'link': 'https://www.liepin.com/company/8432471/'},\n     'dataParams': '{\"recruiterName\":\"桑先生\",\"jobKind\":\"2\",\"jobId\":\"62442985\",\"imId\":\"e9875cdd4cdec8cf4f3475fd061985f8\",\"imUserType\":\"2\",\"userId\":\"39857dfdc256b59b9b14690791176a33\",\"recruiterPhoto\":\"5f8f9868f6d1ab58476f24a008u.jpg\"}'},\n    {'dataInfo': '%7B%22sfrom%22%3A%22search_job_pc%22%2C%22jobKind%22%3A%226%22%2C%22jobId%22%3A%2262502289%22%2C%22ckId%22%3A%22h2c8pxojavrmo1w785z7ueih2ybfpux8%22%2C%22scene%22%3A%22input%22%2C%22skId%22%3A%22h2c8pxojavrmo1w785z7ueih2ybfpux8%22%2C%22fkId%22%3A%22h2c8pxojavrmo1w785z7ueih2ybfpux8%22%2C%22pageSize%22%3A%2240%22%2C%22curPage%22%3A%220%22%2C%22d_curPage%22%3A%220%22%2C%22d_pageSize%22%3A%2240%22%2C%22as_from%22%3A%22search_prime%22%7D',\n     'job': {'labels': ['硕士'],\n      'dq': '深圳',\n      'jobKind': '6',\n      'jobId': '62502289',\n      'refreshTime': '20231026174357',\n      'title': '【海之子】土建工程岗-中建宏达',\n      'topJob': False,\n      'dataPromId': 'd_sfrom=search_prime&d_ckId=null&d_curPage=0&d_pageSize=40&d_headId=null&d_posi=15&skId=h2c8pxojavrmo1w785z7ueih2ybfpux8&fkId=h2c8pxojavrmo1w785z7ueih2ybfpux8&ckId=h2c8pxojavrmo1w785z7ueih2ybfpux8&sfrom=search_job_pc&curPage=0&pageSize=40&index=15',\n      'campusJobKind': '应届',\n      'advViewFlag': False,\n      'link': 'https://www.liepin.com/lptjob/62502289',\n      'salary': '薪资面议',\n      'pcOuterLink': 'https://9-s.cn/LB0NnH',\n      'h5OuterLink': 'https://9-s.cn/LB0NnH'},\n     'recruiter': {'recruiterName': '赵先生',\n      'recruiterTitle': '招聘总监',\n      'chatted': False,\n      'imId': '19bcd07d94d285a2e030375514342674',\n      'imUserType': '2',\n      'recruiterPhoto': '5ad73bcd8e503c6657e1728a04a.jpg',\n      'recruiterId': '204d0a32bd2872d273eed9e2426925e2'},\n     'comp': {'compLogo': '6152c4cc6f51835dc0c4098401u.png',\n      'compId': 8008752,\n      'compScale': '5000-10000人',\n      'compName': '中海地产',\n      'compIndustry': '房地产开发经营',\n      'link': 'https://www.liepin.com/company/8008752/'},\n     'dataParams': '{\"recruiterName\":\"赵先生\",\"jobKind\":\"6\",\"jobId\":\"62502289\",\"imId\":\"19bcd07d94d285a2e030375514342674\",\"imUserType\":\"2\",\"userId\":\"204d0a32bd2872d273eed9e2426925e2\",\"recruiterPhoto\":\"5ad73bcd8e503c6657e1728a04a.jpg\"}'},\n    {'dataInfo': '%7B%22sfrom%22%3A%22search_job_pc%22%2C%22jobKind%22%3A%226%22%2C%22jobId%22%3A%2262502271%22%2C%22ckId%22%3A%22h2c8pxojavrmo1w785z7ueih2ybfpux8%22%2C%22scene%22%3A%22input%22%2C%22skId%22%3A%22h2c8pxojavrmo1w785z7ueih2ybfpux8%22%2C%22fkId%22%3A%22h2c8pxojavrmo1w785z7ueih2ybfpux8%22%2C%22pageSize%22%3A%2240%22%2C%22curPage%22%3A%220%22%2C%22d_curPage%22%3A%220%22%2C%22d_pageSize%22%3A%2240%22%2C%22as_from%22%3A%22search_prime%22%7D',\n     'job': {'labels': ['硕士'],\n      'dq': '深圳',\n      'jobKind': '6',\n      'jobId': '62502271',\n      'refreshTime': '20231026174316',\n      'title': '【海之子】结构设计岗-华艺设计',\n      'topJob': False,\n      'dataPromId': 'd_sfrom=search_prime&d_ckId=null&d_curPage=0&d_pageSize=40&d_headId=null&d_posi=16&skId=h2c8pxojavrmo1w785z7ueih2ybfpux8&fkId=h2c8pxojavrmo1w785z7ueih2ybfpux8&ckId=h2c8pxojavrmo1w785z7ueih2ybfpux8&sfrom=search_job_pc&curPage=0&pageSize=40&index=16',\n      'campusJobKind': '应届',\n      'advViewFlag': False,\n      'link': 'https://www.liepin.com/lptjob/62502271',\n      'salary': '薪资面议',\n      'pcOuterLink': 'https://9-s.cn/LB0Nya',\n      'h5OuterLink': 'https://9-s.cn/LB0Nya'},\n     'recruiter': {'recruiterName': '赵先生',\n      'recruiterTitle': '招聘总监',\n      'chatted': False,\n      'imId': '19bcd07d94d285a2e030375514342674',\n      'imUserType': '2',\n      'recruiterPhoto': '5ad73bcd8e503c6657e1728a04a.jpg',\n      'recruiterId': '204d0a32bd2872d273eed9e2426925e2'},\n     'comp': {'compLogo': '6152c4cc6f51835dc0c4098401u.png',\n      'compId': 8008752,\n      'compScale': '5000-10000人',\n      'compName': '中海地产',\n      'compIndustry': '房地产开发经营',\n      'link': 'https://www.liepin.com/company/8008752/'},\n     'dataParams': '{\"recruiterName\":\"赵先生\",\"jobKind\":\"6\",\"jobId\":\"62502271\",\"imId\":\"19bcd07d94d285a2e030375514342674\",\"imUserType\":\"2\",\"userId\":\"204d0a32bd2872d273eed9e2426925e2\",\"recruiterPhoto\":\"5ad73bcd8e503c6657e1728a04a.jpg\"}'},\n    {'dataInfo': '%7B%22sfrom%22%3A%22search_job_pc%22%2C%22jobKind%22%3A%226%22%2C%22jobId%22%3A%2262502237%22%2C%22ckId%22%3A%22h2c8pxojavrmo1w785z7ueih2ybfpux8%22%2C%22scene%22%3A%22input%22%2C%22skId%22%3A%22h2c8pxojavrmo1w785z7ueih2ybfpux8%22%2C%22fkId%22%3A%22h2c8pxojavrmo1w785z7ueih2ybfpux8%22%2C%22pageSize%22%3A%2240%22%2C%22curPage%22%3A%220%22%2C%22d_curPage%22%3A%220%22%2C%22d_pageSize%22%3A%2240%22%2C%22as_from%22%3A%22search_prime%22%7D',\n     'job': {'labels': ['硕士'],\n      'dq': '深圳',\n      'jobKind': '6',\n      'jobId': '62502237',\n      'refreshTime': '20231026174233',\n      'title': '【海之子】暖通空调设计岗-华艺设计',\n      'topJob': False,\n      'dataPromId': 'd_sfrom=search_prime&d_ckId=null&d_curPage=0&d_pageSize=40&d_headId=null&d_posi=17&skId=h2c8pxojavrmo1w785z7ueih2ybfpux8&fkId=h2c8pxojavrmo1w785z7ueih2ybfpux8&ckId=h2c8pxojavrmo1w785z7ueih2ybfpux8&sfrom=search_job_pc&curPage=0&pageSize=40&index=17',\n      'campusJobKind': '应届',\n      'advViewFlag': False,\n      'link': 'https://www.liepin.com/lptjob/62502237',\n      'salary': '薪资面议',\n      'pcOuterLink': 'https://9-s.cn/LB0NHl',\n      'h5OuterLink': 'https://9-s.cn/LB0NHl'},\n     'recruiter': {'recruiterName': '赵先生',\n      'recruiterTitle': '招聘总监',\n      'chatted': False,\n      'imId': '19bcd07d94d285a2e030375514342674',\n      'imUserType': '2',\n      'recruiterPhoto': '5ad73bcd8e503c6657e1728a04a.jpg',\n      'recruiterId': '204d0a32bd2872d273eed9e2426925e2'},\n     'comp': {'compLogo': '6152c4cc6f51835dc0c4098401u.png',\n      'compId': 8008752,\n      'compScale': '5000-10000人',\n      'compName': '中海地产',\n      'compIndustry': '房地产开发经营',\n      'link': 'https://www.liepin.com/company/8008752/'},\n     'dataParams': '{\"recruiterName\":\"赵先生\",\"jobKind\":\"6\",\"jobId\":\"62502237\",\"imId\":\"19bcd07d94d285a2e030375514342674\",\"imUserType\":\"2\",\"userId\":\"204d0a32bd2872d273eed9e2426925e2\",\"recruiterPhoto\":\"5ad73bcd8e503c6657e1728a04a.jpg\"}'},\n    {'dataInfo': '%7B%22sfrom%22%3A%22search_job_pc%22%2C%22jobKind%22%3A%226%22%2C%22jobId%22%3A%2262120603%22%2C%22ckId%22%3A%22h2c8pxojavrmo1w785z7ueih2ybfpux8%22%2C%22scene%22%3A%22input%22%2C%22skId%22%3A%22h2c8pxojavrmo1w785z7ueih2ybfpux8%22%2C%22fkId%22%3A%22h2c8pxojavrmo1w785z7ueih2ybfpux8%22%2C%22pageSize%22%3A%2240%22%2C%22curPage%22%3A%220%22%2C%22d_curPage%22%3A%220%22%2C%22d_pageSize%22%3A%2240%22%2C%22as_from%22%3A%22search_prime%22%7D',\n     'job': {'labels': ['硕士', 'NCM', 'LCO', '钠离子电池', '固态电池', '富锂锰基', '磷酸锰铁锂'],\n      'dq': '天津-西青区',\n      'jobKind': '6',\n      'jobId': '62120603',\n      'refreshTime': '20231011093836',\n      'title': '锂电正极材料研发',\n      'topJob': False,\n      'dataPromId': 'd_sfrom=search_prime&d_ckId=null&d_curPage=0&d_pageSize=40&d_headId=null&d_posi=18&skId=h2c8pxojavrmo1w785z7ueih2ybfpux8&fkId=h2c8pxojavrmo1w785z7ueih2ybfpux8&ckId=h2c8pxojavrmo1w785z7ueih2ybfpux8&sfrom=search_job_pc&curPage=0&pageSize=40&index=18',\n      'campusJobKind': '应届',\n      'advViewFlag': False,\n      'link': 'https://www.liepin.com/lptjob/62120603',\n      'salary': '10-30k',\n      'pcOuterLink': '',\n      'h5OuterLink': ''},\n     'recruiter': {'recruiterName': '闫先生',\n      'recruiterTitle': '招聘主管',\n      'chatted': False,\n      'imId': '444e80448401ee20e7b184a1ccff1ea4',\n      'imUserType': '2',\n      'recruiterPhoto': '64be31831941b4466f46207702u.png',\n      'recruiterId': '5943597d75986ec40d808b8b43d09ee5'},\n     'comp': {'compLogo': '61b07937d0458d53c627567e02u.jpg',\n      'compId': 12996881,\n      'compScale': '10000人以上',\n      'compName': '浙江华友新能源科技有限公司',\n      'compIndustry': '环保',\n      'link': 'https://www.liepin.com/company/12996881/'},\n     'dataParams': '{\"recruiterName\":\"闫先生\",\"jobKind\":\"6\",\"jobId\":\"62120603\",\"imId\":\"444e80448401ee20e7b184a1ccff1ea4\",\"imUserType\":\"2\",\"userId\":\"5943597d75986ec40d808b8b43d09ee5\",\"recruiterPhoto\":\"64be31831941b4466f46207702u.png\"}'},\n    {'dataInfo': '%7B%22sfrom%22%3A%22search_job_pc%22%2C%22jobKind%22%3A%222%22%2C%22jobId%22%3A%2261744797%22%2C%22ckId%22%3A%22h2c8pxojavrmo1w785z7ueih2ybfpux8%22%2C%22scene%22%3A%22input%22%2C%22skId%22%3A%22h2c8pxojavrmo1w785z7ueih2ybfpux8%22%2C%22fkId%22%3A%22h2c8pxojavrmo1w785z7ueih2ybfpux8%22%2C%22pageSize%22%3A%2240%22%2C%22curPage%22%3A%220%22%2C%22d_curPage%22%3A%220%22%2C%22d_pageSize%22%3A%2240%22%2C%22as_from%22%3A%22search_prime%22%7D',\n     'job': {'labels': [],\n      'requireWorkYears': '3-5年',\n      'requireEduLevel': '本科',\n      'dq': '无锡-滨湖区',\n      'jobKind': '2',\n      'jobId': '61744797',\n      'refreshTime': '20230919111022',\n      'title': '校准测试工程师',\n      'topJob': False,\n      'dataPromId': 'd_sfrom=search_prime&d_ckId=null&d_curPage=0&d_pageSize=40&d_headId=null&d_posi=19&skId=h2c8pxojavrmo1w785z7ueih2ybfpux8&fkId=h2c8pxojavrmo1w785z7ueih2ybfpux8&ckId=h2c8pxojavrmo1w785z7ueih2ybfpux8&sfrom=search_job_pc&curPage=0&pageSize=40&index=19',\n      'advViewFlag': False,\n      'link': 'https://www.liepin.com/job/1961744797.shtml',\n      'salary': '12-20k',\n      'pcOuterLink': '',\n      'h5OuterLink': ''},\n     'recruiter': {'recruiterName': '黄先生',\n      'recruiterTitle': '招聘主管',\n      'chatted': False,\n      'imId': '595aeb0e84a87ca64ebbef01db417cf0',\n      'imUserType': '2',\n      'recruiterPhoto': '5f8f986bdfb13a7dee342f2108u.jpg',\n      'recruiterId': '47c658aaf72baee7bc1ccff4c8a8cbef'},\n     'comp': {'compStage': '沪深A股上市',\n      'compLogo': '5bfe8f1174719d35745a5dfb03a.png',\n      'compId': 7913886,\n      'compScale': '1000-2000人',\n      'compName': '华培集团',\n      'compIndustry': '汽车零部件及配件',\n      'link': 'https://www.liepin.com/company/7913886/'},\n     'dataParams': '{\"recruiterName\":\"黄先生\",\"jobKind\":\"2\",\"jobId\":\"61744797\",\"imId\":\"595aeb0e84a87ca64ebbef01db417cf0\",\"imUserType\":\"2\",\"userId\":\"47c658aaf72baee7bc1ccff4c8a8cbef\",\"recruiterPhoto\":\"5f8f986bdfb13a7dee342f2108u.jpg\"}'},\n    {'dataInfo': '%7B%22sfrom%22%3A%22search_job_pc%22%2C%22jobKind%22%3A%226%22%2C%22jobId%22%3A%2262502235%22%2C%22ckId%22%3A%22h2c8pxojavrmo1w785z7ueih2ybfpux8%22%2C%22scene%22%3A%22input%22%2C%22skId%22%3A%22h2c8pxojavrmo1w785z7ueih2ybfpux8%22%2C%22fkId%22%3A%22h2c8pxojavrmo1w785z7ueih2ybfpux8%22%2C%22pageSize%22%3A%2240%22%2C%22curPage%22%3A%220%22%2C%22d_curPage%22%3A%220%22%2C%22d_pageSize%22%3A%2240%22%2C%22as_from%22%3A%22search_prime%22%7D',\n     'job': {'labels': ['3个月',\n       '大专',\n       '社会招聘',\n       '校园招聘',\n       '海外招聘',\n       'HRIS',\n       '服务业',\n       '广告/传媒/文化',\n       '教育培训',\n       '运营团队',\n       '岗位配置招聘'],\n      'dq': '上海-静安区',\n      'jobKind': '6',\n      'jobId': '62502235',\n      'refreshTime': '20231026174232',\n      'title': '人事招聘实习生',\n      'topJob': False,\n      'dataPromId': 'd_sfrom=search_prime&d_ckId=null&d_curPage=0&d_pageSize=40&d_headId=null&d_posi=20&skId=h2c8pxojavrmo1w785z7ueih2ybfpux8&fkId=h2c8pxojavrmo1w785z7ueih2ybfpux8&ckId=h2c8pxojavrmo1w785z7ueih2ybfpux8&sfrom=search_job_pc&curPage=0&pageSize=40&index=20',\n      'campusJobKind': '实习',\n      'advViewFlag': False,\n      'link': 'https://www.liepin.com/lptjob/62502235',\n      'salary': '120-150元/天',\n      'pcOuterLink': '',\n      'h5OuterLink': ''},\n     'recruiter': {'recruiterName': '陆先生',\n      'recruiterTitle': 'hr',\n      'chatted': False,\n      'imId': '8d0f15a04f5802a46172c091f854d35c',\n      'imUserType': '2',\n      'recruiterPhoto': '5f8f9868f6d1ab58476f24a008u.jpg',\n      'recruiterId': '5a2e76079afcc5a501b2110d3b13ef11'},\n     'comp': {'compLogo': '61b07937d0458d53c627567e02u.jpg',\n      'compId': 13313939,\n      'compScale': '1-49人',\n      'compName': '上海铖羽企业管理咨询有限公司',\n      'compIndustry': '咨询服务',\n      'link': 'https://www.liepin.com/company/13313939/'},\n     'dataParams': '{\"recruiterName\":\"陆先生\",\"jobKind\":\"6\",\"jobId\":\"62502235\",\"imId\":\"8d0f15a04f5802a46172c091f854d35c\",\"imUserType\":\"2\",\"userId\":\"5a2e76079afcc5a501b2110d3b13ef11\",\"recruiterPhoto\":\"5f8f9868f6d1ab58476f24a008u.jpg\"}'},\n    {'dataInfo': '%7B%22sfrom%22%3A%22search_job_pc%22%2C%22jobKind%22%3A%226%22%2C%22jobId%22%3A%2262502217%22%2C%22ckId%22%3A%22h2c8pxojavrmo1w785z7ueih2ybfpux8%22%2C%22scene%22%3A%22input%22%2C%22skId%22%3A%22h2c8pxojavrmo1w785z7ueih2ybfpux8%22%2C%22fkId%22%3A%22h2c8pxojavrmo1w785z7ueih2ybfpux8%22%2C%22pageSize%22%3A%2240%22%2C%22curPage%22%3A%220%22%2C%22d_curPage%22%3A%220%22%2C%22d_pageSize%22%3A%2240%22%2C%22as_from%22%3A%22search_prime%22%7D',\n     'job': {'labels': ['硕士'],\n      'dq': '深圳',\n      'jobKind': '6',\n      'jobId': '62502217',\n      'refreshTime': '20231026174155',\n      'title': '【海之子】给排水设计岗-华艺设计',\n      'topJob': False,\n      'dataPromId': 'd_sfrom=search_prime&d_ckId=null&d_curPage=0&d_pageSize=40&d_headId=null&d_posi=21&skId=h2c8pxojavrmo1w785z7ueih2ybfpux8&fkId=h2c8pxojavrmo1w785z7ueih2ybfpux8&ckId=h2c8pxojavrmo1w785z7ueih2ybfpux8&sfrom=search_job_pc&curPage=0&pageSize=40&index=21',\n      'campusJobKind': '应届',\n      'advViewFlag': False,\n      'link': 'https://www.liepin.com/lptjob/62502217',\n      'salary': '薪资面议',\n      'pcOuterLink': 'https://9-s.cn/LB0Nk4',\n      'h5OuterLink': 'https://9-s.cn/LB0Nk4'},\n     'recruiter': {'recruiterName': '赵先生',\n      'recruiterTitle': '招聘总监',\n      'chatted': False,\n      'imId': '19bcd07d94d285a2e030375514342674',\n      'imUserType': '2',\n      'recruiterPhoto': '5ad73bcd8e503c6657e1728a04a.jpg',\n      'recruiterId': '204d0a32bd2872d273eed9e2426925e2'},\n     'comp': {'compLogo': '6152c4cc6f51835dc0c4098401u.png',\n      'compId': 8008752,\n      'compScale': '5000-10000人',\n      'compName': '中海地产',\n      'compIndustry': '房地产开发经营',\n      'link': 'https://www.liepin.com/company/8008752/'},\n     'dataParams': '{\"recruiterName\":\"赵先生\",\"jobKind\":\"6\",\"jobId\":\"62502217\",\"imId\":\"19bcd07d94d285a2e030375514342674\",\"imUserType\":\"2\",\"userId\":\"204d0a32bd2872d273eed9e2426925e2\",\"recruiterPhoto\":\"5ad73bcd8e503c6657e1728a04a.jpg\"}'},\n    {'dataInfo': '%7B%22sfrom%22%3A%22search_job_pc%22%2C%22jobKind%22%3A%226%22%2C%22jobId%22%3A%2262502191%22%2C%22ckId%22%3A%22h2c8pxojavrmo1w785z7ueih2ybfpux8%22%2C%22scene%22%3A%22input%22%2C%22skId%22%3A%22h2c8pxojavrmo1w785z7ueih2ybfpux8%22%2C%22fkId%22%3A%22h2c8pxojavrmo1w785z7ueih2ybfpux8%22%2C%22pageSize%22%3A%2240%22%2C%22curPage%22%3A%220%22%2C%22d_curPage%22%3A%220%22%2C%22d_pageSize%22%3A%2240%22%2C%22as_from%22%3A%22search_prime%22%7D',\n     'job': {'labels': ['硕士'],\n      'dq': '深圳',\n      'jobKind': '6',\n      'jobId': '62502191',\n      'refreshTime': '20231026174117',\n      'title': '【海之子】电气设计岗-华艺设计',\n      'topJob': False,\n      'dataPromId': 'd_sfrom=search_prime&d_ckId=null&d_curPage=0&d_pageSize=40&d_headId=null&d_posi=22&skId=h2c8pxojavrmo1w785z7ueih2ybfpux8&fkId=h2c8pxojavrmo1w785z7ueih2ybfpux8&ckId=h2c8pxojavrmo1w785z7ueih2ybfpux8&sfrom=search_job_pc&curPage=0&pageSize=40&index=22',\n      'campusJobKind': '应届',\n      'advViewFlag': False,\n      'link': 'https://www.liepin.com/lptjob/62502191',\n      'salary': '薪资面议',\n      'pcOuterLink': 'https://9-s.cn/LB0Nqy',\n      'h5OuterLink': 'https://9-s.cn/LB0Nqy'},\n     'recruiter': {'recruiterName': '赵先生',\n      'recruiterTitle': '招聘总监',\n      'chatted': False,\n      'imId': '19bcd07d94d285a2e030375514342674',\n      'imUserType': '2',\n      'recruiterPhoto': '5ad73bcd8e503c6657e1728a04a.jpg',\n      'recruiterId': '204d0a32bd2872d273eed9e2426925e2'},\n     'comp': {'compLogo': '6152c4cc6f51835dc0c4098401u.png',\n      'compId': 8008752,\n      'compScale': '5000-10000人',\n      'compName': '中海地产',\n      'compIndustry': '房地产开发经营',\n      'link': 'https://www.liepin.com/company/8008752/'},\n     'dataParams': '{\"recruiterName\":\"赵先生\",\"jobKind\":\"6\",\"jobId\":\"62502191\",\"imId\":\"19bcd07d94d285a2e030375514342674\",\"imUserType\":\"2\",\"userId\":\"204d0a32bd2872d273eed9e2426925e2\",\"recruiterPhoto\":\"5ad73bcd8e503c6657e1728a04a.jpg\"}'},\n    {'dataInfo': '%7B%22sfrom%22%3A%22search_job_pc%22%2C%22jobKind%22%3A%226%22%2C%22jobId%22%3A%2262502169%22%2C%22ckId%22%3A%22h2c8pxojavrmo1w785z7ueih2ybfpux8%22%2C%22scene%22%3A%22input%22%2C%22skId%22%3A%22h2c8pxojavrmo1w785z7ueih2ybfpux8%22%2C%22fkId%22%3A%22h2c8pxojavrmo1w785z7ueih2ybfpux8%22%2C%22pageSize%22%3A%2240%22%2C%22curPage%22%3A%220%22%2C%22d_curPage%22%3A%220%22%2C%22d_pageSize%22%3A%2240%22%2C%22as_from%22%3A%22search_prime%22%7D',\n     'job': {'labels': ['本科'],\n      'dq': '深圳',\n      'jobKind': '6',\n      'jobId': '62502169',\n      'refreshTime': '20231026174035',\n      'title': '【海之子】建筑设计岗-华艺设计',\n      'topJob': False,\n      'dataPromId': 'd_sfrom=search_prime&d_ckId=null&d_curPage=0&d_pageSize=40&d_headId=null&d_posi=23&skId=h2c8pxojavrmo1w785z7ueih2ybfpux8&fkId=h2c8pxojavrmo1w785z7ueih2ybfpux8&ckId=h2c8pxojavrmo1w785z7ueih2ybfpux8&sfrom=search_job_pc&curPage=0&pageSize=40&index=23',\n      'campusJobKind': '应届',\n      'advViewFlag': False,\n      'link': 'https://www.liepin.com/lptjob/62502169',\n      'salary': '薪资面议',\n      'pcOuterLink': 'https://9-s.cn/LB0ND2',\n      'h5OuterLink': 'https://9-s.cn/LB0ND2'},\n     'recruiter': {'recruiterName': '赵先生',\n      'recruiterTitle': '招聘总监',\n      'chatted': False,\n      'imId': '19bcd07d94d285a2e030375514342674',\n      'imUserType': '2',\n      'recruiterPhoto': '5ad73bcd8e503c6657e1728a04a.jpg',\n      'recruiterId': '204d0a32bd2872d273eed9e2426925e2'},\n     'comp': {'compLogo': '6152c4cc6f51835dc0c4098401u.png',\n      'compId': 8008752,\n      'compScale': '5000-10000人',\n      'compName': '中海地产',\n      'compIndustry': '房地产开发经营',\n      'link': 'https://www.liepin.com/company/8008752/'},\n     'dataParams': '{\"recruiterName\":\"赵先生\",\"jobKind\":\"6\",\"jobId\":\"62502169\",\"imId\":\"19bcd07d94d285a2e030375514342674\",\"imUserType\":\"2\",\"userId\":\"204d0a32bd2872d273eed9e2426925e2\",\"recruiterPhoto\":\"5ad73bcd8e503c6657e1728a04a.jpg\"}'},\n    {'dataInfo': '%7B%22sfrom%22%3A%22search_job_pc%22%2C%22jobKind%22%3A%226%22%2C%22jobId%22%3A%2262502125%22%2C%22ckId%22%3A%22h2c8pxojavrmo1w785z7ueih2ybfpux8%22%2C%22scene%22%3A%22input%22%2C%22skId%22%3A%22h2c8pxojavrmo1w785z7ueih2ybfpux8%22%2C%22fkId%22%3A%22h2c8pxojavrmo1w785z7ueih2ybfpux8%22%2C%22pageSize%22%3A%2240%22%2C%22curPage%22%3A%220%22%2C%22d_curPage%22%3A%220%22%2C%22d_pageSize%22%3A%2240%22%2C%22as_from%22%3A%22search_prime%22%7D',\n     'job': {'labels': ['硕士'],\n      'dq': '深圳',\n      'jobKind': '6',\n      'jobId': '62502125',\n      'refreshTime': '20231026173936',\n      'title': '【海之子】招采管理岗-供应链公司',\n      'topJob': False,\n      'dataPromId': 'd_sfrom=search_prime&d_ckId=null&d_curPage=0&d_pageSize=40&d_headId=null&d_posi=24&skId=h2c8pxojavrmo1w785z7ueih2ybfpux8&fkId=h2c8pxojavrmo1w785z7ueih2ybfpux8&ckId=h2c8pxojavrmo1w785z7ueih2ybfpux8&sfrom=search_job_pc&curPage=0&pageSize=40&index=24',\n      'campusJobKind': '应届',\n      'advViewFlag': False,\n      'link': 'https://www.liepin.com/lptjob/62502125',\n      'salary': '薪资面议',\n      'pcOuterLink': 'https://9-s.cn/LB0NRN',\n      'h5OuterLink': 'https://9-s.cn/LB0NRN'},\n     'recruiter': {'recruiterName': '赵先生',\n      'recruiterTitle': '招聘总监',\n      'chatted': False,\n      'imId': '19bcd07d94d285a2e030375514342674',\n      'imUserType': '2',\n      'recruiterPhoto': '5ad73bcd8e503c6657e1728a04a.jpg',\n      'recruiterId': '204d0a32bd2872d273eed9e2426925e2'},\n     'comp': {'compLogo': '6152c4cc6f51835dc0c4098401u.png',\n      'compId': 8008752,\n      'compScale': '5000-10000人',\n      'compName': '中海地产',\n      'compIndustry': '房地产开发经营',\n      'link': 'https://www.liepin.com/company/8008752/'},\n     'dataParams': '{\"recruiterName\":\"赵先生\",\"jobKind\":\"6\",\"jobId\":\"62502125\",\"imId\":\"19bcd07d94d285a2e030375514342674\",\"imUserType\":\"2\",\"userId\":\"204d0a32bd2872d273eed9e2426925e2\",\"recruiterPhoto\":\"5ad73bcd8e503c6657e1728a04a.jpg\"}'},\n    {'dataInfo': '%7B%22sfrom%22%3A%22search_job_pc%22%2C%22jobKind%22%3A%226%22%2C%22jobId%22%3A%2262502087%22%2C%22ckId%22%3A%22h2c8pxojavrmo1w785z7ueih2ybfpux8%22%2C%22scene%22%3A%22input%22%2C%22skId%22%3A%22h2c8pxojavrmo1w785z7ueih2ybfpux8%22%2C%22fkId%22%3A%22h2c8pxojavrmo1w785z7ueih2ybfpux8%22%2C%22pageSize%22%3A%2240%22%2C%22curPage%22%3A%220%22%2C%22d_curPage%22%3A%220%22%2C%22d_pageSize%22%3A%2240%22%2C%22as_from%22%3A%22search_prime%22%7D',\n     'job': {'labels': ['硕士'],\n      'dq': '深圳',\n      'jobKind': '6',\n      'jobId': '62502087',\n      'refreshTime': '20231026173833',\n      'title': '【海之子】财务管理岗-供应链公司',\n      'topJob': False,\n      'dataPromId': 'd_sfrom=search_prime&d_ckId=null&d_curPage=0&d_pageSize=40&d_headId=null&d_posi=25&skId=h2c8pxojavrmo1w785z7ueih2ybfpux8&fkId=h2c8pxojavrmo1w785z7ueih2ybfpux8&ckId=h2c8pxojavrmo1w785z7ueih2ybfpux8&sfrom=search_job_pc&curPage=0&pageSize=40&index=25',\n      'campusJobKind': '应届',\n      'advViewFlag': False,\n      'link': 'https://www.liepin.com/lptjob/62502087',\n      'salary': '薪资面议',\n      'pcOuterLink': 'https://9-s.cn/LB0NLd',\n      'h5OuterLink': 'https://9-s.cn/LB0NLd'},\n     'recruiter': {'recruiterName': '赵先生',\n      'recruiterTitle': '招聘总监',\n      'chatted': False,\n      'imId': '19bcd07d94d285a2e030375514342674',\n      'imUserType': '2',\n      'recruiterPhoto': '5ad73bcd8e503c6657e1728a04a.jpg',\n      'recruiterId': '204d0a32bd2872d273eed9e2426925e2'},\n     'comp': {'compLogo': '6152c4cc6f51835dc0c4098401u.png',\n      'compId': 8008752,\n      'compScale': '5000-10000人',\n      'compName': '中海地产',\n      'compIndustry': '房地产开发经营',\n      'link': 'https://www.liepin.com/company/8008752/'},\n     'dataParams': '{\"recruiterName\":\"赵先生\",\"jobKind\":\"6\",\"jobId\":\"62502087\",\"imId\":\"19bcd07d94d285a2e030375514342674\",\"imUserType\":\"2\",\"userId\":\"204d0a32bd2872d273eed9e2426925e2\",\"recruiterPhoto\":\"5ad73bcd8e503c6657e1728a04a.jpg\"}'},\n    {'dataInfo': '%7B%22sfrom%22%3A%22search_job_pc%22%2C%22jobKind%22%3A%226%22%2C%22jobId%22%3A%2262502059%22%2C%22ckId%22%3A%22h2c8pxojavrmo1w785z7ueih2ybfpux8%22%2C%22scene%22%3A%22input%22%2C%22skId%22%3A%22h2c8pxojavrmo1w785z7ueih2ybfpux8%22%2C%22fkId%22%3A%22h2c8pxojavrmo1w785z7ueih2ybfpux8%22%2C%22pageSize%22%3A%2240%22%2C%22curPage%22%3A%220%22%2C%22d_curPage%22%3A%220%22%2C%22d_pageSize%22%3A%2240%22%2C%22as_from%22%3A%22search_prime%22%7D',\n     'job': {'labels': ['本科'],\n      'dq': '深圳',\n      'jobKind': '6',\n      'jobId': '62502059',\n      'refreshTime': '20231026173745',\n      'title': '【海之子】商业综合管理岗-商业公司',\n      'topJob': False,\n      'dataPromId': 'd_sfrom=search_prime&d_ckId=null&d_curPage=0&d_pageSize=40&d_headId=null&d_posi=26&skId=h2c8pxojavrmo1w785z7ueih2ybfpux8&fkId=h2c8pxojavrmo1w785z7ueih2ybfpux8&ckId=h2c8pxojavrmo1w785z7ueih2ybfpux8&sfrom=search_job_pc&curPage=0&pageSize=40&index=26',\n      'campusJobKind': '应届',\n      'advViewFlag': False,\n      'link': 'https://www.liepin.com/lptjob/62502059',\n      'salary': '薪资面议',\n      'pcOuterLink': 'https://9-s.cn/LB0iXZ',\n      'h5OuterLink': 'https://9-s.cn/LB0iXZ'},\n     'recruiter': {'recruiterName': '赵先生',\n      'recruiterTitle': '招聘总监',\n      'chatted': False,\n      'imId': '19bcd07d94d285a2e030375514342674',\n      'imUserType': '2',\n      'recruiterPhoto': '5ad73bcd8e503c6657e1728a04a.jpg',\n      'recruiterId': '204d0a32bd2872d273eed9e2426925e2'},\n     'comp': {'compLogo': '6152c4cc6f51835dc0c4098401u.png',\n      'compId': 8008752,\n      'compScale': '5000-10000人',\n      'compName': '中海地产',\n      'compIndustry': '房地产开发经营',\n      'link': 'https://www.liepin.com/company/8008752/'},\n     'dataParams': '{\"recruiterName\":\"赵先生\",\"jobKind\":\"6\",\"jobId\":\"62502059\",\"imId\":\"19bcd07d94d285a2e030375514342674\",\"imUserType\":\"2\",\"userId\":\"204d0a32bd2872d273eed9e2426925e2\",\"recruiterPhoto\":\"5ad73bcd8e503c6657e1728a04a.jpg\"}'},\n    {'dataInfo': '%7B%22sfrom%22%3A%22search_job_pc%22%2C%22jobKind%22%3A%226%22%2C%22jobId%22%3A%2262502021%22%2C%22ckId%22%3A%22h2c8pxojavrmo1w785z7ueih2ybfpux8%22%2C%22scene%22%3A%22input%22%2C%22skId%22%3A%22h2c8pxojavrmo1w785z7ueih2ybfpux8%22%2C%22fkId%22%3A%22h2c8pxojavrmo1w785z7ueih2ybfpux8%22%2C%22pageSize%22%3A%2240%22%2C%22curPage%22%3A%220%22%2C%22d_curPage%22%3A%220%22%2C%22d_pageSize%22%3A%2240%22%2C%22as_from%22%3A%22search_prime%22%7D',\n     'job': {'labels': ['本科'],\n      'dq': '深圳',\n      'jobKind': '6',\n      'jobId': '62502021',\n      'refreshTime': '20231026173650',\n      'title': '【海之子】人力资源岗-商业公司',\n      'topJob': False,\n      'dataPromId': 'd_sfrom=search_prime&d_ckId=null&d_curPage=0&d_pageSize=40&d_headId=null&d_posi=27&skId=h2c8pxojavrmo1w785z7ueih2ybfpux8&fkId=h2c8pxojavrmo1w785z7ueih2ybfpux8&ckId=h2c8pxojavrmo1w785z7ueih2ybfpux8&sfrom=search_job_pc&curPage=0&pageSize=40&index=27',\n      'campusJobKind': '应届',\n      'advViewFlag': False,\n      'link': 'https://www.liepin.com/lptjob/62502021',\n      'salary': '薪资面议',\n      'pcOuterLink': 'https://9-s.cn/LB0iwr',\n      'h5OuterLink': 'https://9-s.cn/LB0iwr'},\n     'recruiter': {'recruiterName': '赵先生',\n      'recruiterTitle': '招聘总监',\n      'chatted': False,\n      'imId': '19bcd07d94d285a2e030375514342674',\n      'imUserType': '2',\n      'recruiterPhoto': '5ad73bcd8e503c6657e1728a04a.jpg',\n      'recruiterId': '204d0a32bd2872d273eed9e2426925e2'},\n     'comp': {'compLogo': '6152c4cc6f51835dc0c4098401u.png',\n      'compId': 8008752,\n      'compScale': '5000-10000人',\n      'compName': '中海地产',\n      'compIndustry': '房地产开发经营',\n      'link': 'https://www.liepin.com/company/8008752/'},\n     'dataParams': '{\"recruiterName\":\"赵先生\",\"jobKind\":\"6\",\"jobId\":\"62502021\",\"imId\":\"19bcd07d94d285a2e030375514342674\",\"imUserType\":\"2\",\"userId\":\"204d0a32bd2872d273eed9e2426925e2\",\"recruiterPhoto\":\"5ad73bcd8e503c6657e1728a04a.jpg\"}'},\n    {'dataInfo': '%7B%22sfrom%22%3A%22search_job_pc%22%2C%22jobKind%22%3A%226%22%2C%22jobId%22%3A%2262502011%22%2C%22ckId%22%3A%22h2c8pxojavrmo1w785z7ueih2ybfpux8%22%2C%22scene%22%3A%22input%22%2C%22skId%22%3A%22h2c8pxojavrmo1w785z7ueih2ybfpux8%22%2C%22fkId%22%3A%22h2c8pxojavrmo1w785z7ueih2ybfpux8%22%2C%22pageSize%22%3A%2240%22%2C%22curPage%22%3A%220%22%2C%22d_curPage%22%3A%220%22%2C%22d_pageSize%22%3A%2240%22%2C%22as_from%22%3A%22search_prime%22%7D',\n     'job': {'labels': ['6个月', '提供转正', '本科'],\n      'dq': '南京-秦淮区',\n      'jobKind': '6',\n      'jobId': '62502011',\n      'refreshTime': '20231026173642',\n      'title': '人力资源助理',\n      'topJob': False,\n      'dataPromId': 'd_sfrom=search_prime&d_ckId=null&d_curPage=0&d_pageSize=40&d_headId=null&d_posi=28&skId=h2c8pxojavrmo1w785z7ueih2ybfpux8&fkId=h2c8pxojavrmo1w785z7ueih2ybfpux8&ckId=h2c8pxojavrmo1w785z7ueih2ybfpux8&sfrom=search_job_pc&curPage=0&pageSize=40&index=28',\n      'campusJobKind': '实习',\n      'advViewFlag': False,\n      'link': 'https://www.liepin.com/lptjob/62502011',\n      'salary': '100-200元/天',\n      'pcOuterLink': '',\n      'h5OuterLink': ''},\n     'recruiter': {'recruiterName': '刘女士',\n      'recruiterTitle': '招聘与员工关系负责人',\n      'chatted': False,\n      'imId': '0991377fb061868071de52c3bc0b6279',\n      'imUserType': '2',\n      'recruiterPhoto': '5f8f9865ea60860b75384fa508u.jpg',\n      'recruiterId': 'ffa31ecd84ac1f86fd0b4545e99f696f'},\n     'comp': {'compLogo': '63aa8b713eeb7c1578302cb907u.png',\n      'compId': 10288705,\n      'compScale': '50-99人',\n      'compName': '江苏智仁景行新材料研究院有限公司',\n      'compIndustry': '新材料',\n      'link': 'https://www.liepin.com/company/10288705/'},\n     'dataParams': '{\"recruiterName\":\"刘女士\",\"jobKind\":\"6\",\"jobId\":\"62502011\",\"imId\":\"0991377fb061868071de52c3bc0b6279\",\"imUserType\":\"2\",\"userId\":\"ffa31ecd84ac1f86fd0b4545e99f696f\",\"recruiterPhoto\":\"5f8f9865ea60860b75384fa508u.jpg\"}'},\n    {'dataInfo': '%7B%22sfrom%22%3A%22search_job_pc%22%2C%22jobKind%22%3A%226%22%2C%22jobId%22%3A%2262501983%22%2C%22ckId%22%3A%22h2c8pxojavrmo1w785z7ueih2ybfpux8%22%2C%22scene%22%3A%22input%22%2C%22skId%22%3A%22h2c8pxojavrmo1w785z7ueih2ybfpux8%22%2C%22fkId%22%3A%22h2c8pxojavrmo1w785z7ueih2ybfpux8%22%2C%22pageSize%22%3A%2240%22%2C%22curPage%22%3A%220%22%2C%22d_curPage%22%3A%220%22%2C%22d_pageSize%22%3A%2240%22%2C%22as_from%22%3A%22search_prime%22%7D',\n     'job': {'labels': ['本科'],\n      'dq': '深圳',\n      'jobKind': '6',\n      'jobId': '62501983',\n      'refreshTime': '20231026173613',\n      'title': '【海之子】资产管理岗-商业公司',\n      'topJob': False,\n      'dataPromId': 'd_sfrom=search_prime&d_ckId=null&d_curPage=0&d_pageSize=40&d_headId=null&d_posi=29&skId=h2c8pxojavrmo1w785z7ueih2ybfpux8&fkId=h2c8pxojavrmo1w785z7ueih2ybfpux8&ckId=h2c8pxojavrmo1w785z7ueih2ybfpux8&sfrom=search_job_pc&curPage=0&pageSize=40&index=29',\n      'campusJobKind': '应届',\n      'advViewFlag': False,\n      'link': 'https://www.liepin.com/lptjob/62501983',\n      'salary': '薪资面议',\n      'pcOuterLink': 'https://9-s.cn/LB0im5',\n      'h5OuterLink': 'https://9-s.cn/LB0im5'},\n     'recruiter': {'recruiterName': '赵先生',\n      'recruiterTitle': '招聘总监',\n      'chatted': False,\n      'imId': '19bcd07d94d285a2e030375514342674',\n      'imUserType': '2',\n      'recruiterPhoto': '5ad73bcd8e503c6657e1728a04a.jpg',\n      'recruiterId': '204d0a32bd2872d273eed9e2426925e2'},\n     'comp': {'compLogo': '6152c4cc6f51835dc0c4098401u.png',\n      'compId': 8008752,\n      'compScale': '5000-10000人',\n      'compName': '中海地产',\n      'compIndustry': '房地产开发经营',\n      'link': 'https://www.liepin.com/company/8008752/'},\n     'dataParams': '{\"recruiterName\":\"赵先生\",\"jobKind\":\"6\",\"jobId\":\"62501983\",\"imId\":\"19bcd07d94d285a2e030375514342674\",\"imUserType\":\"2\",\"userId\":\"204d0a32bd2872d273eed9e2426925e2\",\"recruiterPhoto\":\"5ad73bcd8e503c6657e1728a04a.jpg\"}'},\n    {'dataInfo': '%7B%22sfrom%22%3A%22search_job_pc%22%2C%22jobKind%22%3A%226%22%2C%22jobId%22%3A%2262501965%22%2C%22ckId%22%3A%22h2c8pxojavrmo1w785z7ueih2ybfpux8%22%2C%22scene%22%3A%22input%22%2C%22skId%22%3A%22h2c8pxojavrmo1w785z7ueih2ybfpux8%22%2C%22fkId%22%3A%22h2c8pxojavrmo1w785z7ueih2ybfpux8%22%2C%22pageSize%22%3A%2240%22%2C%22curPage%22%3A%220%22%2C%22d_curPage%22%3A%220%22%2C%22d_pageSize%22%3A%2240%22%2C%22as_from%22%3A%22search_prime%22%7D',\n     'job': {'labels': ['6个月',\n       '本科',\n       '活动管理',\n       '办公用品管理',\n       '物业对接',\n       '企业文化管理',\n       '报销管理',\n       '行政采购',\n       '办公环境管理'],\n      'dq': '成都-高新区',\n      'jobKind': '6',\n      'jobId': '62501965',\n      'refreshTime': '20231026173547',\n      'title': '行政实习生',\n      'topJob': False,\n      'dataPromId': 'd_sfrom=search_prime&d_ckId=null&d_curPage=0&d_pageSize=40&d_headId=null&d_posi=30&skId=h2c8pxojavrmo1w785z7ueih2ybfpux8&fkId=h2c8pxojavrmo1w785z7ueih2ybfpux8&ckId=h2c8pxojavrmo1w785z7ueih2ybfpux8&sfrom=search_job_pc&curPage=0&pageSize=40&index=30',\n      'campusJobKind': '实习',\n      'advViewFlag': False,\n      'link': 'https://www.liepin.com/lptjob/62501965',\n      'salary': '100-150元/天',\n      'pcOuterLink': '',\n      'h5OuterLink': ''},\n     'recruiter': {'recruiterName': '崔女士',\n      'recruiterTitle': '人力资源招聘专员',\n      'chatted': False,\n      'imId': '43662eaac9a6621651c33e5c07618208',\n      'imUserType': '2',\n      'recruiterPhoto': '5f8f98648dbe6273dcf8515508u.jpg',\n      'recruiterId': 'fc489a3d09463a5899b940c501d554f3'},\n     'comp': {'compLogo': '628b2326b244352e0e9214d308u.png',\n      'compId': 9301156,\n      'compScale': '100-499人',\n      'compName': '宽德投资',\n      'compIndustry': '基金/证券/期货',\n      'link': 'https://www.liepin.com/company/9301156/'},\n     'dataParams': '{\"recruiterName\":\"崔女士\",\"jobKind\":\"6\",\"jobId\":\"62501965\",\"imId\":\"43662eaac9a6621651c33e5c07618208\",\"imUserType\":\"2\",\"userId\":\"fc489a3d09463a5899b940c501d554f3\",\"recruiterPhoto\":\"5f8f98648dbe6273dcf8515508u.jpg\"}'},\n    {'dataInfo': '%7B%22sfrom%22%3A%22search_job_pc%22%2C%22jobKind%22%3A%226%22%2C%22jobId%22%3A%2262501935%22%2C%22ckId%22%3A%22h2c8pxojavrmo1w785z7ueih2ybfpux8%22%2C%22scene%22%3A%22input%22%2C%22skId%22%3A%22h2c8pxojavrmo1w785z7ueih2ybfpux8%22%2C%22fkId%22%3A%22h2c8pxojavrmo1w785z7ueih2ybfpux8%22%2C%22pageSize%22%3A%2240%22%2C%22curPage%22%3A%220%22%2C%22d_curPage%22%3A%220%22%2C%22d_pageSize%22%3A%2240%22%2C%22as_from%22%3A%22search_prime%22%7D',\n     'job': {'labels': ['本科'],\n      'dq': '深圳',\n      'jobKind': '6',\n      'jobId': '62501935',\n      'refreshTime': '20231026173459',\n      'title': '【海之子】财务管理岗-商业公司',\n      'topJob': False,\n      'dataPromId': 'd_sfrom=search_prime&d_ckId=null&d_curPage=0&d_pageSize=40&d_headId=null&d_posi=31&skId=h2c8pxojavrmo1w785z7ueih2ybfpux8&fkId=h2c8pxojavrmo1w785z7ueih2ybfpux8&ckId=h2c8pxojavrmo1w785z7ueih2ybfpux8&sfrom=search_job_pc&curPage=0&pageSize=40&index=31',\n      'campusJobKind': '应届',\n      'advViewFlag': False,\n      'link': 'https://www.liepin.com/lptjob/62501935',\n      'salary': '薪资面议',\n      'pcOuterLink': 'https://9-s.cn/LB0iIr',\n      'h5OuterLink': 'https://9-s.cn/LB0iIr'},\n     'recruiter': {'recruiterName': '赵先生',\n      'recruiterTitle': '招聘总监',\n      'chatted': False,\n      'imId': '19bcd07d94d285a2e030375514342674',\n      'imUserType': '2',\n      'recruiterPhoto': '5ad73bcd8e503c6657e1728a04a.jpg',\n      'recruiterId': '204d0a32bd2872d273eed9e2426925e2'},\n     'comp': {'compLogo': '6152c4cc6f51835dc0c4098401u.png',\n      'compId': 8008752,\n      'compScale': '5000-10000人',\n      'compName': '中海地产',\n      'compIndustry': '房地产开发经营',\n      'link': 'https://www.liepin.com/company/8008752/'},\n     'dataParams': '{\"recruiterName\":\"赵先生\",\"jobKind\":\"6\",\"jobId\":\"62501935\",\"imId\":\"19bcd07d94d285a2e030375514342674\",\"imUserType\":\"2\",\"userId\":\"204d0a32bd2872d273eed9e2426925e2\",\"recruiterPhoto\":\"5ad73bcd8e503c6657e1728a04a.jpg\"}'},\n    {'dataInfo': '%7B%22sfrom%22%3A%22search_job_pc%22%2C%22jobKind%22%3A%226%22%2C%22jobId%22%3A%2262501927%22%2C%22ckId%22%3A%22h2c8pxojavrmo1w785z7ueih2ybfpux8%22%2C%22scene%22%3A%22input%22%2C%22skId%22%3A%22h2c8pxojavrmo1w785z7ueih2ybfpux8%22%2C%22fkId%22%3A%22h2c8pxojavrmo1w785z7ueih2ybfpux8%22%2C%22pageSize%22%3A%2240%22%2C%22curPage%22%3A%220%22%2C%22d_curPage%22%3A%220%22%2C%22d_pageSize%22%3A%2240%22%2C%22as_from%22%3A%22search_prime%22%7D',\n     'job': {'labels': ['4个月', '提供转正', '本科'],\n      'dq': '北京-朝阳区',\n      'jobKind': '6',\n      'jobId': '62501927',\n      'refreshTime': '20231026173522',\n      'title': '商务运营',\n      'topJob': False,\n      'dataPromId': 'd_sfrom=search_prime&d_ckId=null&d_curPage=0&d_pageSize=40&d_headId=null&d_posi=32&skId=h2c8pxojavrmo1w785z7ueih2ybfpux8&fkId=h2c8pxojavrmo1w785z7ueih2ybfpux8&ckId=h2c8pxojavrmo1w785z7ueih2ybfpux8&sfrom=search_job_pc&curPage=0&pageSize=40&index=32',\n      'campusJobKind': '实习',\n      'advViewFlag': False,\n      'link': 'https://www.liepin.com/lptjob/62501927',\n      'salary': '200-250元/天',\n      'pcOuterLink': '',\n      'h5OuterLink': ''},\n     'recruiter': {'recruiterName': '刘女士',\n      'recruiterTitle': 'HR',\n      'chatted': False,\n      'imId': '8d01642b818e4e7aebd994a81266b45f',\n      'imUserType': '2',\n      'recruiterPhoto': '6412b6a90cc0a967ecd05e7805u.jpeg',\n      'recruiterId': '141267588f3603bf11a0e2e6115b076b'},\n     'comp': {'compStage': '科创板上市',\n      'compLogo': '60b0bdd6270c82136aeae3da07u.png',\n      'compId': 8980447,\n      'compScale': '100-499人',\n      'compName': '三未信安科技股份有限公司',\n      'compIndustry': '网络/信息安全',\n      'link': 'https://www.liepin.com/company/8980447/'},\n     'dataParams': '{\"recruiterName\":\"刘女士\",\"jobKind\":\"6\",\"jobId\":\"62501927\",\"imId\":\"8d01642b818e4e7aebd994a81266b45f\",\"imUserType\":\"2\",\"userId\":\"141267588f3603bf11a0e2e6115b076b\",\"recruiterPhoto\":\"6412b6a90cc0a967ecd05e7805u.jpeg\"}'},\n    {'dataInfo': '%7B%22sfrom%22%3A%22search_job_pc%22%2C%22jobKind%22%3A%226%22%2C%22jobId%22%3A%2262501889%22%2C%22ckId%22%3A%22h2c8pxojavrmo1w785z7ueih2ybfpux8%22%2C%22scene%22%3A%22input%22%2C%22skId%22%3A%22h2c8pxojavrmo1w785z7ueih2ybfpux8%22%2C%22fkId%22%3A%22h2c8pxojavrmo1w785z7ueih2ybfpux8%22%2C%22pageSize%22%3A%2240%22%2C%22curPage%22%3A%220%22%2C%22d_curPage%22%3A%220%22%2C%22d_pageSize%22%3A%2240%22%2C%22as_from%22%3A%22search_prime%22%7D',\n     'job': {'labels': ['本科'],\n      'dq': '合肥',\n      'jobKind': '6',\n      'jobId': '62501889',\n      'refreshTime': '20231026173402',\n      'title': '【海之子】财务管理岗',\n      'topJob': False,\n      'dataPromId': 'd_sfrom=search_prime&d_ckId=null&d_curPage=0&d_pageSize=40&d_headId=null&d_posi=33&skId=h2c8pxojavrmo1w785z7ueih2ybfpux8&fkId=h2c8pxojavrmo1w785z7ueih2ybfpux8&ckId=h2c8pxojavrmo1w785z7ueih2ybfpux8&sfrom=search_job_pc&curPage=0&pageSize=40&index=33',\n      'campusJobKind': '应届',\n      'advViewFlag': False,\n      'link': 'https://www.liepin.com/lptjob/62501889',\n      'salary': '薪资面议',\n      'pcOuterLink': 'https://9-s.cn/LB0i16',\n      'h5OuterLink': 'https://9-s.cn/LB0i16'},\n     'recruiter': {'recruiterName': '赵先生',\n      'recruiterTitle': '招聘总监',\n      'chatted': False,\n      'imId': '19bcd07d94d285a2e030375514342674',\n      'imUserType': '2',\n      'recruiterPhoto': '5ad73bcd8e503c6657e1728a04a.jpg',\n      'recruiterId': '204d0a32bd2872d273eed9e2426925e2'},\n     'comp': {'compLogo': '6152c4cc6f51835dc0c4098401u.png',\n      'compId': 8008752,\n      'compScale': '5000-10000人',\n      'compName': '中海地产',\n      'compIndustry': '房地产开发经营',\n      'link': 'https://www.liepin.com/company/8008752/'},\n     'dataParams': '{\"recruiterName\":\"赵先生\",\"jobKind\":\"6\",\"jobId\":\"62501889\",\"imId\":\"19bcd07d94d285a2e030375514342674\",\"imUserType\":\"2\",\"userId\":\"204d0a32bd2872d273eed9e2426925e2\",\"recruiterPhoto\":\"5ad73bcd8e503c6657e1728a04a.jpg\"}'},\n    {'dataInfo': '%7B%22sfrom%22%3A%22search_job_pc%22%2C%22jobKind%22%3A%226%22%2C%22jobId%22%3A%2262501887%22%2C%22ckId%22%3A%22h2c8pxojavrmo1w785z7ueih2ybfpux8%22%2C%22scene%22%3A%22input%22%2C%22skId%22%3A%22h2c8pxojavrmo1w785z7ueih2ybfpux8%22%2C%22fkId%22%3A%22h2c8pxojavrmo1w785z7ueih2ybfpux8%22%2C%22pageSize%22%3A%2240%22%2C%22curPage%22%3A%220%22%2C%22d_curPage%22%3A%220%22%2C%22d_pageSize%22%3A%2240%22%2C%22as_from%22%3A%22search_prime%22%7D',\n     'job': {'labels': ['本科'],\n      'dq': '银川',\n      'jobKind': '6',\n      'jobId': '62501887',\n      'refreshTime': '20231026173401',\n      'title': '【海之子】财务管理岗',\n      'topJob': False,\n      'dataPromId': 'd_sfrom=search_prime&d_ckId=null&d_curPage=0&d_pageSize=40&d_headId=null&d_posi=34&skId=h2c8pxojavrmo1w785z7ueih2ybfpux8&fkId=h2c8pxojavrmo1w785z7ueih2ybfpux8&ckId=h2c8pxojavrmo1w785z7ueih2ybfpux8&sfrom=search_job_pc&curPage=0&pageSize=40&index=34',\n      'campusJobKind': '应届',\n      'advViewFlag': False,\n      'link': 'https://www.liepin.com/lptjob/62501887',\n      'salary': '薪资面议',\n      'pcOuterLink': 'https://9-s.cn/LB0i16',\n      'h5OuterLink': 'https://9-s.cn/LB0i16'},\n     'recruiter': {'recruiterName': '赵先生',\n      'recruiterTitle': '招聘总监',\n      'chatted': False,\n      'imId': '19bcd07d94d285a2e030375514342674',\n      'imUserType': '2',\n      'recruiterPhoto': '5ad73bcd8e503c6657e1728a04a.jpg',\n      'recruiterId': '204d0a32bd2872d273eed9e2426925e2'},\n     'comp': {'compLogo': '6152c4cc6f51835dc0c4098401u.png',\n      'compId': 8008752,\n      'compScale': '5000-10000人',\n      'compName': '中海地产',\n      'compIndustry': '房地产开发经营',\n      'link': 'https://www.liepin.com/company/8008752/'},\n     'dataParams': '{\"recruiterName\":\"赵先生\",\"jobKind\":\"6\",\"jobId\":\"62501887\",\"imId\":\"19bcd07d94d285a2e030375514342674\",\"imUserType\":\"2\",\"userId\":\"204d0a32bd2872d273eed9e2426925e2\",\"recruiterPhoto\":\"5ad73bcd8e503c6657e1728a04a.jpg\"}'},\n    {'dataInfo': '%7B%22sfrom%22%3A%22search_job_pc%22%2C%22jobKind%22%3A%226%22%2C%22jobId%22%3A%2262501885%22%2C%22ckId%22%3A%22h2c8pxojavrmo1w785z7ueih2ybfpux8%22%2C%22scene%22%3A%22input%22%2C%22skId%22%3A%22h2c8pxojavrmo1w785z7ueih2ybfpux8%22%2C%22fkId%22%3A%22h2c8pxojavrmo1w785z7ueih2ybfpux8%22%2C%22pageSize%22%3A%2240%22%2C%22curPage%22%3A%220%22%2C%22d_curPage%22%3A%220%22%2C%22d_pageSize%22%3A%2240%22%2C%22as_from%22%3A%22search_prime%22%7D',\n     'job': {'labels': ['本科'],\n      'dq': '重庆',\n      'jobKind': '6',\n      'jobId': '62501885',\n      'refreshTime': '20231026173401',\n      'title': '【海之子】财务管理岗',\n      'topJob': False,\n      'dataPromId': 'd_sfrom=search_prime&d_ckId=null&d_curPage=0&d_pageSize=40&d_headId=null&d_posi=35&skId=h2c8pxojavrmo1w785z7ueih2ybfpux8&fkId=h2c8pxojavrmo1w785z7ueih2ybfpux8&ckId=h2c8pxojavrmo1w785z7ueih2ybfpux8&sfrom=search_job_pc&curPage=0&pageSize=40&index=35',\n      'campusJobKind': '应届',\n      'advViewFlag': False,\n      'link': 'https://www.liepin.com/lptjob/62501885',\n      'salary': '薪资面议',\n      'pcOuterLink': 'https://9-s.cn/LB0i16',\n      'h5OuterLink': 'https://9-s.cn/LB0i16'},\n     'recruiter': {'recruiterName': '赵先生',\n      'recruiterTitle': '招聘总监',\n      'chatted': False,\n      'imId': '19bcd07d94d285a2e030375514342674',\n      'imUserType': '2',\n      'recruiterPhoto': '5ad73bcd8e503c6657e1728a04a.jpg',\n      'recruiterId': '204d0a32bd2872d273eed9e2426925e2'},\n     'comp': {'compLogo': '6152c4cc6f51835dc0c4098401u.png',\n      'compId': 8008752,\n      'compScale': '5000-10000人',\n      'compName': '中海地产',\n      'compIndustry': '房地产开发经营',\n      'link': 'https://www.liepin.com/company/8008752/'},\n     'dataParams': '{\"recruiterName\":\"赵先生\",\"jobKind\":\"6\",\"jobId\":\"62501885\",\"imId\":\"19bcd07d94d285a2e030375514342674\",\"imUserType\":\"2\",\"userId\":\"204d0a32bd2872d273eed9e2426925e2\",\"recruiterPhoto\":\"5ad73bcd8e503c6657e1728a04a.jpg\"}'},\n    {'dataInfo': '%7B%22sfrom%22%3A%22search_job_pc%22%2C%22jobKind%22%3A%226%22%2C%22jobId%22%3A%2262501883%22%2C%22ckId%22%3A%22h2c8pxojavrmo1w785z7ueih2ybfpux8%22%2C%22scene%22%3A%22input%22%2C%22skId%22%3A%22h2c8pxojavrmo1w785z7ueih2ybfpux8%22%2C%22fkId%22%3A%22h2c8pxojavrmo1w785z7ueih2ybfpux8%22%2C%22pageSize%22%3A%2240%22%2C%22curPage%22%3A%220%22%2C%22d_curPage%22%3A%220%22%2C%22d_pageSize%22%3A%2240%22%2C%22as_from%22%3A%22search_prime%22%7D',\n     'job': {'labels': ['本科'],\n      'dq': '厦门',\n      'jobKind': '6',\n      'jobId': '62501883',\n      'refreshTime': '20231026173401',\n      'title': '【海之子】财务管理岗',\n      'topJob': False,\n      'dataPromId': 'd_sfrom=search_prime&d_ckId=null&d_curPage=0&d_pageSize=40&d_headId=null&d_posi=36&skId=h2c8pxojavrmo1w785z7ueih2ybfpux8&fkId=h2c8pxojavrmo1w785z7ueih2ybfpux8&ckId=h2c8pxojavrmo1w785z7ueih2ybfpux8&sfrom=search_job_pc&curPage=0&pageSize=40&index=36',\n      'campusJobKind': '应届',\n      'advViewFlag': False,\n      'link': 'https://www.liepin.com/lptjob/62501883',\n      'salary': '薪资面议',\n      'pcOuterLink': 'https://9-s.cn/LB0i16',\n      'h5OuterLink': 'https://9-s.cn/LB0i16'},\n     'recruiter': {'recruiterName': '赵先生',\n      'recruiterTitle': '招聘总监',\n      'chatted': False,\n      'imId': '19bcd07d94d285a2e030375514342674',\n      'imUserType': '2',\n      'recruiterPhoto': '5ad73bcd8e503c6657e1728a04a.jpg',\n      'recruiterId': '204d0a32bd2872d273eed9e2426925e2'},\n     'comp': {'compLogo': '6152c4cc6f51835dc0c4098401u.png',\n      'compId': 8008752,\n      'compScale': '5000-10000人',\n      'compName': '中海地产',\n      'compIndustry': '房地产开发经营',\n      'link': 'https://www.liepin.com/company/8008752/'},\n     'dataParams': '{\"recruiterName\":\"赵先生\",\"jobKind\":\"6\",\"jobId\":\"62501883\",\"imId\":\"19bcd07d94d285a2e030375514342674\",\"imUserType\":\"2\",\"userId\":\"204d0a32bd2872d273eed9e2426925e2\",\"recruiterPhoto\":\"5ad73bcd8e503c6657e1728a04a.jpg\"}'},\n    {'dataInfo': '%7B%22sfrom%22%3A%22search_job_pc%22%2C%22jobKind%22%3A%226%22%2C%22jobId%22%3A%2262501881%22%2C%22ckId%22%3A%22h2c8pxojavrmo1w785z7ueih2ybfpux8%22%2C%22scene%22%3A%22input%22%2C%22skId%22%3A%22h2c8pxojavrmo1w785z7ueih2ybfpux8%22%2C%22fkId%22%3A%22h2c8pxojavrmo1w785z7ueih2ybfpux8%22%2C%22pageSize%22%3A%2240%22%2C%22curPage%22%3A%220%22%2C%22d_curPage%22%3A%220%22%2C%22d_pageSize%22%3A%2240%22%2C%22as_from%22%3A%22search_prime%22%7D',\n     'job': {'labels': ['本科'],\n      'dq': '福州',\n      'jobKind': '6',\n      'jobId': '62501881',\n      'refreshTime': '20231026173400',\n      'title': '【海之子】财务管理岗',\n      'topJob': False,\n      'dataPromId': 'd_sfrom=search_prime&d_ckId=null&d_curPage=0&d_pageSize=40&d_headId=null&d_posi=37&skId=h2c8pxojavrmo1w785z7ueih2ybfpux8&fkId=h2c8pxojavrmo1w785z7ueih2ybfpux8&ckId=h2c8pxojavrmo1w785z7ueih2ybfpux8&sfrom=search_job_pc&curPage=0&pageSize=40&index=37',\n      'campusJobKind': '应届',\n      'advViewFlag': False,\n      'link': 'https://www.liepin.com/lptjob/62501881',\n      'salary': '薪资面议',\n      'pcOuterLink': 'https://9-s.cn/LB0i16',\n      'h5OuterLink': 'https://9-s.cn/LB0i16'},\n     'recruiter': {'recruiterName': '赵先生',\n      'recruiterTitle': '招聘总监',\n      'chatted': False,\n      'imId': '19bcd07d94d285a2e030375514342674',\n      'imUserType': '2',\n      'recruiterPhoto': '5ad73bcd8e503c6657e1728a04a.jpg',\n      'recruiterId': '204d0a32bd2872d273eed9e2426925e2'},\n     'comp': {'compLogo': '6152c4cc6f51835dc0c4098401u.png',\n      'compId': 8008752,\n      'compScale': '5000-10000人',\n      'compName': '中海地产',\n      'compIndustry': '房地产开发经营',\n      'link': 'https://www.liepin.com/company/8008752/'},\n     'dataParams': '{\"recruiterName\":\"赵先生\",\"jobKind\":\"6\",\"jobId\":\"62501881\",\"imId\":\"19bcd07d94d285a2e030375514342674\",\"imUserType\":\"2\",\"userId\":\"204d0a32bd2872d273eed9e2426925e2\",\"recruiterPhoto\":\"5ad73bcd8e503c6657e1728a04a.jpg\"}'},\n    {'dataInfo': '%7B%22sfrom%22%3A%22search_job_pc%22%2C%22jobKind%22%3A%226%22%2C%22jobId%22%3A%2262501879%22%2C%22ckId%22%3A%22h2c8pxojavrmo1w785z7ueih2ybfpux8%22%2C%22scene%22%3A%22input%22%2C%22skId%22%3A%22h2c8pxojavrmo1w785z7ueih2ybfpux8%22%2C%22fkId%22%3A%22h2c8pxojavrmo1w785z7ueih2ybfpux8%22%2C%22pageSize%22%3A%2240%22%2C%22curPage%22%3A%220%22%2C%22d_curPage%22%3A%220%22%2C%22d_pageSize%22%3A%2240%22%2C%22as_from%22%3A%22search_prime%22%7D',\n     'job': {'labels': ['本科'],\n      'dq': '北京',\n      'jobKind': '6',\n      'jobId': '62501879',\n      'refreshTime': '20231026173400',\n      'title': '【海之子】财务管理岗',\n      'topJob': False,\n      'dataPromId': 'd_sfrom=search_prime&d_ckId=null&d_curPage=0&d_pageSize=40&d_headId=null&d_posi=38&skId=h2c8pxojavrmo1w785z7ueih2ybfpux8&fkId=h2c8pxojavrmo1w785z7ueih2ybfpux8&ckId=h2c8pxojavrmo1w785z7ueih2ybfpux8&sfrom=search_job_pc&curPage=0&pageSize=40&index=38',\n      'campusJobKind': '应届',\n      'advViewFlag': False,\n      'link': 'https://www.liepin.com/lptjob/62501879',\n      'salary': '薪资面议',\n      'pcOuterLink': 'https://9-s.cn/LB0i16',\n      'h5OuterLink': 'https://9-s.cn/LB0i16'},\n     'recruiter': {'recruiterName': '赵先生',\n      'recruiterTitle': '招聘总监',\n      'chatted': False,\n      'imId': '19bcd07d94d285a2e030375514342674',\n      'imUserType': '2',\n      'recruiterPhoto': '5ad73bcd8e503c6657e1728a04a.jpg',\n      'recruiterId': '204d0a32bd2872d273eed9e2426925e2'},\n     'comp': {'compLogo': '6152c4cc6f51835dc0c4098401u.png',\n      'compId': 8008752,\n      'compScale': '5000-10000人',\n      'compName': '中海地产',\n      'compIndustry': '房地产开发经营',\n      'link': 'https://www.liepin.com/company/8008752/'},\n     'dataParams': '{\"recruiterName\":\"赵先生\",\"jobKind\":\"6\",\"jobId\":\"62501879\",\"imId\":\"19bcd07d94d285a2e030375514342674\",\"imUserType\":\"2\",\"userId\":\"204d0a32bd2872d273eed9e2426925e2\",\"recruiterPhoto\":\"5ad73bcd8e503c6657e1728a04a.jpg\"}'},\n    {'dataInfo': '%7B%22sfrom%22%3A%22search_job_pc%22%2C%22jobKind%22%3A%226%22%2C%22jobId%22%3A%2262501877%22%2C%22ckId%22%3A%22h2c8pxojavrmo1w785z7ueih2ybfpux8%22%2C%22scene%22%3A%22input%22%2C%22skId%22%3A%22h2c8pxojavrmo1w785z7ueih2ybfpux8%22%2C%22fkId%22%3A%22h2c8pxojavrmo1w785z7ueih2ybfpux8%22%2C%22pageSize%22%3A%2240%22%2C%22curPage%22%3A%220%22%2C%22d_curPage%22%3A%220%22%2C%22d_pageSize%22%3A%2240%22%2C%22as_from%22%3A%22search_prime%22%7D',\n     'job': {'labels': ['本科'],\n      'dq': '杭州',\n      'jobKind': '6',\n      'jobId': '62501877',\n      'refreshTime': '20231026173400',\n      'title': '【海之子】财务管理岗',\n      'topJob': False,\n      'dataPromId': 'd_sfrom=search_prime&d_ckId=null&d_curPage=0&d_pageSize=40&d_headId=null&d_posi=39&skId=h2c8pxojavrmo1w785z7ueih2ybfpux8&fkId=h2c8pxojavrmo1w785z7ueih2ybfpux8&ckId=h2c8pxojavrmo1w785z7ueih2ybfpux8&sfrom=search_job_pc&curPage=0&pageSize=40&index=39',\n      'campusJobKind': '应届',\n      'advViewFlag': False,\n      'link': 'https://www.liepin.com/lptjob/62501877',\n      'salary': '薪资面议',\n      'pcOuterLink': 'https://9-s.cn/LB0i16',\n      'h5OuterLink': 'https://9-s.cn/LB0i16'},\n     'recruiter': {'recruiterName': '赵先生',\n      'recruiterTitle': '招聘总监',\n      'chatted': False,\n      'imId': '19bcd07d94d285a2e030375514342674',\n      'imUserType': '2',\n      'recruiterPhoto': '5ad73bcd8e503c6657e1728a04a.jpg',\n      'recruiterId': '204d0a32bd2872d273eed9e2426925e2'},\n     'comp': {'compLogo': '6152c4cc6f51835dc0c4098401u.png',\n      'compId': 8008752,\n      'compScale': '5000-10000人',\n      'compName': '中海地产',\n      'compIndustry': '房地产开发经营',\n      'link': 'https://www.liepin.com/company/8008752/'},\n     'dataParams': '{\"recruiterName\":\"赵先生\",\"jobKind\":\"6\",\"jobId\":\"62501877\",\"imId\":\"19bcd07d94d285a2e030375514342674\",\"imUserType\":\"2\",\"userId\":\"204d0a32bd2872d273eed9e2426925e2\",\"recruiterPhoto\":\"5ad73bcd8e503c6657e1728a04a.jpg\"}'}],\n   'compList': []},\n  'passThroughData': {'sfrom': 'search_job_pc',\n   'ckId': 'h2c8pxojavrmo1w785z7ueih2ybfpux8',\n   'scene': 'input',\n   'skId': 'h2c8pxojavrmo1w785z7ueih2ybfpux8',\n   'fkId': 'h2c8pxojavrmo1w785z7ueih2ybfpux8'},\n  'pagination': {'currentPage': 0,\n   'pageSize': 40,\n   'totalPage': 10,\n   'totalCounts': 807,\n   'hasNext': False}}}"
     },
     "execution_count": 84,
     "metadata": {},
     "output_type": "execute_result"
    }
   ],
   "source": [
    "import time\n",
    "import random\n",
    "wait_time = random.randint(3,10)\n",
    "\n",
    "payload = payloadd(str(城市),str(关键词),str(工作经验),str(公司规模))\n",
    "# create an HTML session using Requests-HTML\n",
    "session = HTMLSession()\n",
    "r = session.post(url, data=json.dumps(payload), headers=headers())\n",
    "\n",
    "# extract the JSON data from the response\n",
    "response_data = r.json()\n",
    "\n",
    "# example: print the number of job postings returned\n",
    "response_data"
   ],
   "metadata": {
    "collapsed": false
   }
  },
  {
   "cell_type": "code",
   "execution_count": 85,
   "id": "c9ce3169",
   "metadata": {},
   "outputs": [
    {
     "data": {
      "text/plain": "10"
     },
     "execution_count": 85,
     "metadata": {},
     "output_type": "execute_result"
    }
   ],
   "source": [
    "# 向上取整\n",
    "page = response_data['data']['pagination']['totalPage']\n",
    "page"
   ]
  },
  {
   "cell_type": "markdown",
   "id": "00d5fcb6",
   "metadata": {},
   "source": [
    "## 翻页获取数据"
   ]
  },
  {
   "cell_type": "code",
   "execution_count": 86,
   "id": "43043d51",
   "metadata": {},
   "outputs": [
    {
     "ename": "KeyboardInterrupt",
     "evalue": "",
     "output_type": "error",
     "traceback": [
      "\u001B[1;31m---------------------------------------------------------------------------\u001B[0m",
      "\u001B[1;31mKeyboardInterrupt\u001B[0m                         Traceback (most recent call last)",
      "Cell \u001B[1;32mIn[86], line 8\u001B[0m\n\u001B[0;32m      6\u001B[0m df \u001B[38;5;241m=\u001B[39m pd\u001B[38;5;241m.\u001B[39mjson_normalize(response_data[\u001B[38;5;124m'\u001B[39m\u001B[38;5;124mdata\u001B[39m\u001B[38;5;124m'\u001B[39m][\u001B[38;5;124m'\u001B[39m\u001B[38;5;124mdata\u001B[39m\u001B[38;5;124m'\u001B[39m][\u001B[38;5;124m'\u001B[39m\u001B[38;5;124mjobCardList\u001B[39m\u001B[38;5;124m'\u001B[39m])\n\u001B[0;32m      7\u001B[0m response_df\u001B[38;5;241m.\u001B[39mappend(df)\n\u001B[1;32m----> 8\u001B[0m \u001B[43mtime\u001B[49m\u001B[38;5;241;43m.\u001B[39;49m\u001B[43msleep\u001B[49m\u001B[43m(\u001B[49m\u001B[43mwait_time\u001B[49m\u001B[43m)\u001B[49m\n",
      "\u001B[1;31mKeyboardInterrupt\u001B[0m: "
     ]
    }
   ],
   "source": [
    "import pandas as pd\n",
    "import requests\n",
    "response_df = []\n",
    "for i in range(page): # 需要判断页面的数据有多少页\n",
    "    payload['data']['mainSearchPcConditionForm']['currentPage']=i\n",
    "    df = pd.json_normalize(response_data['data']['data']['jobCardList'])\n",
    "    response_df.append(df)\n",
    "    time.sleep(wait_time)"
   ]
  },
  {
   "cell_type": "code",
   "execution_count": null,
   "outputs": [],
   "source": [],
   "metadata": {
    "collapsed": false
   }
  },
  {
   "cell_type": "markdown",
   "id": "abf39634",
   "metadata": {},
   "source": [
    "## 数据整理成为表格\n",
    "> 1. pandas 中的concat方法"
   ]
  },
  {
   "cell_type": "code",
   "execution_count": null,
   "id": "481b39e9",
   "metadata": {
    "scrolled": true
   },
   "outputs": [],
   "source": [
    "df = pd.concat(response_df)\n",
    "df"
   ]
  },
  {
   "cell_type": "code",
   "execution_count": null,
   "id": "c2ac6009",
   "metadata": {},
   "outputs": [],
   "source": [
    "key = payload['data']['mainSearchPcConditionForm']['key']\n",
    "key"
   ]
  },
  {
   "cell_type": "markdown",
   "id": "70fc6de3",
   "metadata": {},
   "source": [
    "## 数据存储"
   ]
  },
  {
   "cell_type": "code",
   "execution_count": null,
   "id": "2e032016",
   "metadata": {},
   "outputs": [],
   "source": [
    "import time"
   ]
  },
  {
   "cell_type": "code",
   "execution_count": null,
   "id": "0affdb43",
   "metadata": {},
   "outputs": [],
   "source": [
    "time.localtime()"
   ]
  },
  {
   "cell_type": "code",
   "execution_count": null,
   "id": "9badfd3c",
   "metadata": {},
   "outputs": [],
   "source": [
    "output_time = str(time.localtime().tm_year)+'-'\\\n",
    "              +str(time.localtime().tm_mon)+'-'\\\n",
    "             +str(time.localtime().tm_mday)+'_'\\\n",
    "             +str(time.localtime().tm_hour)+'-' \\\n",
    "             +str(time.localtime().tm_min)\n",
    "output_time "
   ]
  },
  {
   "cell_type": "code",
   "execution_count": null,
   "id": "1d2de632",
   "metadata": {},
   "outputs": [],
   "source": [
    "# 按照职位名称和时间导出文件\n",
    "df.to_excel( key +'_liepin_'+output_time+'.xlsx')"
   ]
  },
  {
   "cell_type": "markdown",
   "id": "f6511a95",
   "metadata": {},
   "source": [
    "# 数据分析\n",
    "\n",
    "> 1. Pandas/Numpy\n",
    "> 2. Pyecharts(bokeh、matplotlab、seaborn、echarts、Tebleau)/更考虑用户的体验"
   ]
  },
  {
   "cell_type": "code",
   "execution_count": null,
   "id": "ae96f73c",
   "metadata": {},
   "outputs": [],
   "source": [
    "import pandas as pd"
   ]
  },
  {
   "cell_type": "code",
   "execution_count": null,
   "id": "af2682c2",
   "metadata": {
    "scrolled": true
   },
   "outputs": [],
   "source": [
    "df = pd.read_excel(key+'_liepin_'+output_time+'.xlsx')\n",
    "df"
   ]
  },
  {
   "cell_type": "code",
   "execution_count": null,
   "id": "e14c166d",
   "metadata": {
    "scrolled": false
   },
   "outputs": [],
   "source": [
    "df.info()"
   ]
  },
  {
   "cell_type": "markdown",
   "id": "9bf806de",
   "metadata": {},
   "source": [
    "## 筛选存在数据分析价值的列"
   ]
  },
  {
   "cell_type": "code",
   "execution_count": null,
   "id": "048c64d5",
   "metadata": {
    "scrolled": true
   },
   "outputs": [],
   "source": [
    "if payload['data']['mainSearchPcConditionForm'][\"workYearCode\"]=='2':\n",
    "    df_PM_gz =  df[['job.labels','job.refreshTime','job.title','job.salary','job.dq','job.topJob','comp.compStage','comp.compName','comp.compIndustry','comp.compScale']]\n",
    "else:\n",
    "    df_PM_gz =  df[['job.labels','job.refreshTime','job.title','job.salary','job.dq','job.topJob','job.requireWorkYears','job.requireEduLevel','comp.compStage','comp.compName','comp.compIndustry','comp.compScale']]"
   ]
  },
  {
   "cell_type": "markdown",
   "id": "66931fa5",
   "metadata": {},
   "source": [
    "## 地区分布"
   ]
  },
  {
   "cell_type": "code",
   "execution_count": null,
   "id": "40af9bd5",
   "metadata": {
    "scrolled": true
   },
   "outputs": [],
   "source": [
    "df_PM_gz['job.dq'].value_counts()"
   ]
  },
  {
   "cell_type": "code",
   "execution_count": null,
   "id": "6e2e2626",
   "metadata": {},
   "outputs": [],
   "source": [
    "地区 = [ df_PM_gz['job.dq'].value_counts().index.tolist()[i].split('-')[1]\\\n",
    "         for i,v in enumerate(df_PM_gz['job.dq'].value_counts().index.tolist()) if '-' in v]\n",
    "地区"
   ]
  },
  {
   "cell_type": "code",
   "execution_count": null,
   "id": "6c2a3f0f",
   "metadata": {},
   "outputs": [],
   "source": [
    "岗位个数 = [ df_PM_gz['job.dq'].value_counts().values.tolist()[i] for i,v in enumerate(df_PM_gz['job.dq'].value_counts().index.tolist()) if \"-\" in v]\n",
    "岗位个数"
   ]
  },
  {
   "cell_type": "code",
   "execution_count": null,
   "id": "7bdd1791",
   "metadata": {},
   "outputs": [],
   "source": [
    "# 还要合并回去原来的行\n",
    "df_PM_gz['job.title'][   df_PM_gz['job.title'].str.contains('（')   ].str.split('（').apply(lambda x:x[0])"
   ]
  },
  {
   "cell_type": "code",
   "execution_count": null,
   "id": "67ce6925",
   "metadata": {
    "scrolled": false
   },
   "outputs": [],
   "source": [
    "# 处理过一些，清洗后的数据\n",
    "df_job_title = df_PM_gz['job.title'].apply(lambda x:x.split('（')[0].split('/')[0].split('(')[0]).value_counts()\n",
    "df_job_title"
   ]
  },
  {
   "cell_type": "code",
   "execution_count": null,
   "id": "002d568f",
   "metadata": {
    "scrolled": true
   },
   "outputs": [],
   "source": [
    "df_job_title.index.tolist()"
   ]
  },
  {
   "cell_type": "code",
   "execution_count": null,
   "id": "02180275",
   "metadata": {},
   "outputs": [],
   "source": [
    "len(df_job_title.index.tolist())"
   ]
  },
  {
   "cell_type": "code",
   "execution_count": null,
   "id": "e8c8f438",
   "metadata": {
    "scrolled": true
   },
   "outputs": [],
   "source": [
    "df_job_title.values.tolist()"
   ]
  },
  {
   "cell_type": "code",
   "execution_count": null,
   "id": "24635f28",
   "metadata": {},
   "outputs": [],
   "source": [
    "# 未处理字符串的数据（不太整洁和干净的数据）\n",
    "df_PM_gz['job.title'].value_counts()"
   ]
  },
  {
   "cell_type": "code",
   "execution_count": null,
   "id": "0a02f2bc",
   "metadata": {},
   "outputs": [],
   "source": [
    "# 列表推导式\n",
    "PM_title_words = [(  df_job_title.index.tolist()[i]   ,   df_job_title.values.tolist()[i]  )    for i in range(1,len(df_job_title.index.tolist())) ]\n",
    "PM_title_words"
   ]
  },
  {
   "cell_type": "code",
   "execution_count": null,
   "id": "601ce6a9",
   "metadata": {},
   "outputs": [],
   "source": [
    "from pyecharts import options as opts\n",
    "from pyecharts.charts import WordCloud\n",
    "from pyecharts.globals import SymbolType\n",
    "\n",
    "c = (\n",
    "    WordCloud()\n",
    "    .add(\"\", PM_title_words, word_size_range=[20, 100], shape=SymbolType.DIAMOND)\n",
    "    .set_global_opts(title_opts=opts.TitleOpts(title=\"WordCloud-shape-diamond\"))\n",
    "    .render( key +\"_wordcloud_map_岗位名称_\"+ output_time+\".html\")\n",
    ")\n"
   ]
  },
  {
   "cell_type": "markdown",
   "id": "6dd926d7",
   "metadata": {},
   "source": [
    "## job.labels\n",
    "\n",
    "* 目标：统计labels的数量并做词云图"
   ]
  },
  {
   "cell_type": "code",
   "execution_count": null,
   "id": "692c0136",
   "metadata": {},
   "outputs": [],
   "source": [
    "df_PM_gz['job.labels']"
   ]
  },
  {
   "cell_type": "code",
   "execution_count": null,
   "id": "58da6bb3",
   "metadata": {},
   "outputs": [],
   "source": [
    "df_PM_gz['job.labels'].values"
   ]
  },
  {
   "cell_type": "code",
   "execution_count": null,
   "id": "d607c892",
   "metadata": {},
   "outputs": [],
   "source": [
    "df_PM_gz['job.labels'].apply(lambda x:eval(x)).tolist()"
   ]
  },
  {
   "cell_type": "code",
   "execution_count": null,
   "id": "cdd091f5",
   "metadata": {},
   "outputs": [],
   "source": [
    "# 列表的推导式\n",
    "PM_labels_list = [j     for i in df_PM_gz['job.labels'].apply(lambda x:eval(x)).tolist()       for j in i    ]\n",
    "PM_labels_list"
   ]
  },
  {
   "cell_type": "code",
   "execution_count": null,
   "id": "41a5b2f5",
   "metadata": {},
   "outputs": [],
   "source": [
    "# 创建words\n",
    "\n",
    "PM_labels_words = [ (i,PM_labels_list.count(i)) for i in set(PM_labels_list)]\n",
    "PM_labels_words"
   ]
  },
  {
   "cell_type": "code",
   "execution_count": null,
   "id": "251470c9",
   "metadata": {},
   "outputs": [],
   "source": [
    "# 可视化词云图\n",
    "from pyecharts import options as opts\n",
    "from pyecharts.charts import WordCloud\n",
    "from pyecharts.globals import SymbolType\n",
    "\n",
    "c = (\n",
    "    WordCloud()\n",
    "    .add(\"\", PM_labels_words, word_size_range=[20, 100], shape=SymbolType.DIAMOND)\n",
    "    .set_global_opts(title_opts=opts.TitleOpts(title=\"WordCloud-shape-diamond\"))\n",
    "    .render( key +\"_wordcloud_map_职位标签_\"+ output_time+\".html\")\n",
    ")\n"
   ]
  },
  {
   "cell_type": "markdown",
   "id": "f4a2acfd",
   "metadata": {},
   "source": [
    "## 薪资-（平均薪资）"
   ]
  },
  {
   "cell_type": "code",
   "execution_count": null,
   "id": "16561a4f",
   "metadata": {
    "scrolled": true
   },
   "outputs": [],
   "source": [
    "# columns 重命名\n",
    "if payload['data']['mainSearchPcConditionForm'][\"workYearCode\"]=='2':\n",
    "    df_PM_gz = df_PM_gz.rename(columns={\n",
    "        'job.labels':'职位标签',\n",
    "        'job.refreshTime':'职位更新时间',\n",
    "        'job.title':'职位',\n",
    "        'job.salary':'薪资',\n",
    "        'job.dq':'地区',\n",
    "        'job.topJob':'是否top职位',\n",
    "        'comp.compStage':'公司融资情况',\n",
    "        'comp.compName':'公司名称',\n",
    "        'comp.compIndustry':'行业',\n",
    "        'comp.compScale':'规模'\n",
    "    })\n",
    "else:\n",
    "    df_PM_gz = df_PM_gz.rename(columns={\n",
    "        'job.labels':'职位标签',\n",
    "        'job.refreshTime':'职位更新时间',\n",
    "        'job.title':'职位',\n",
    "        'job.salary':'薪资',\n",
    "        'job.dq':'地区',\n",
    "        'job.topJob':'是否top职位',\n",
    "        'job.requireWorkYears':'工作年限',\n",
    "        'job.requireEduLevel':'学历',\n",
    "        'comp.compStage':'公司融资情况',\n",
    "        'comp.compName':'公司名称',\n",
    "        'comp.compIndustry':'行业',\n",
    "        'comp.compScale':'规模'\n",
    "    })"
   ]
  },
  {
   "cell_type": "code",
   "execution_count": null,
   "outputs": [],
   "source": [
    "print(type(df_PM_gz))"
   ],
   "metadata": {
    "collapsed": false
   }
  },
  {
   "cell_type": "code",
   "execution_count": null,
   "id": "00bdb902",
   "metadata": {
    "scrolled": true
   },
   "outputs": [],
   "source": [
    "if payload['data']['mainSearchPcConditionForm'][\"workYearCode\"]=='2':\n",
    "    非薪资面议 = df_PM_gz [ ~df_PM_gz['薪资'].str.contains(\"面议\")]\n",
    "else:\n",
    "    非薪资面议 = df_PM_gz [ ~df_PM_gz['薪资'].str.contains(\"面议|元/天\")]"
   ]
  },
  {
   "cell_type": "code",
   "execution_count": null,
   "outputs": [],
   "source": [],
   "metadata": {
    "collapsed": false
   }
  },
  {
   "cell_type": "code",
   "execution_count": null,
   "id": "18d53ef0",
   "metadata": {},
   "outputs": [],
   "source": [
    "if payload['data']['mainSearchPcConditionForm'][\"workYearCode\"]=='2':\n",
    "    非薪资面议_detail = 非薪资面议['薪资'].apply(lambda x:x.split('元')[0]).tolist()\n",
    "else:\n",
    "     非薪资面议_detail = 非薪资面议['薪资'].apply(lambda x:x.split('薪')[0].split('·')[0]).tolist()"
   ]
  },
  {
   "cell_type": "code",
   "execution_count": null,
   "outputs": [],
   "source": [
    "非薪资面议_detail"
   ],
   "metadata": {
    "collapsed": false
   }
  },
  {
   "cell_type": "code",
   "execution_count": null,
   "outputs": [],
   "source": [
    "len(非薪资面议_detail[0])"
   ],
   "metadata": {
    "collapsed": false
   }
  },
  {
   "cell_type": "code",
   "execution_count": null,
   "id": "e6004d3a",
   "metadata": {},
   "outputs": [],
   "source": [
    "(10+15)/2*13/12"
   ]
  },
  {
   "cell_type": "code",
   "execution_count": null,
   "id": "6296b488",
   "metadata": {},
   "outputs": [],
   "source": [
    "if payload['data']['mainSearchPcConditionForm'][\"workYearCode\"]=='2':\n",
    "    平均薪资 = [ int(i)*30    \\\n",
    "    if len(i)==3 else round((int(i.split('-')[0]) +int(i.split('-')[1]))/2*30)     \\\n",
    "    for i in 非薪资面议_detail]\n",
    "else:\n",
    "    平均薪资 = [(int(i[0].split('-')[0]) + int(i[0].split('-')[1].split('k')[0])) / 2 \\\n",
    "                    if len(i) == 1 else round(\n",
    "        (int(i[0].split('-')[0]) + int(i[0].split('-')[1].split('k')[0])) / 2 * int(i[1]) / 12, 1) \\\n",
    "                for i in 非薪资面议_detail]"
   ]
  },
  {
   "cell_type": "code",
   "execution_count": null,
   "id": "b7ee36c9",
   "metadata": {},
   "outputs": [],
   "source": [
    "len(平均薪资)"
   ]
  },
  {
   "cell_type": "code",
   "execution_count": null,
   "id": "0bf7c61d",
   "metadata": {
    "scrolled": true
   },
   "outputs": [],
   "source": [
    "非薪资面议['平均薪资']=平均薪资"
   ]
  },
  {
   "cell_type": "code",
   "execution_count": null,
   "id": "7de0c864",
   "metadata": {
    "scrolled": true
   },
   "outputs": [],
   "source": [
    "非薪资面议"
   ]
  },
  {
   "cell_type": "code",
   "execution_count": null,
   "id": "5a723ae3",
   "metadata": {
    "scrolled": true
   },
   "outputs": [],
   "source": [
    "# 分地区平均薪资\n",
    "分地区_平均薪资 = 非薪资面议.groupby('地区').agg({'平均薪资':'median'})\n",
    "分地区_平均薪资\n",
    "jsongg = 分地区_平均薪资.to_json(force_ascii=False)\n",
    "jsongg"
   ]
  },
  {
   "cell_type": "code",
   "execution_count": null,
   "outputs": [],
   "source": [
    "分地区_平均薪资"
   ],
   "metadata": {
    "collapsed": false
   }
  },
  {
   "cell_type": "code",
   "execution_count": null,
   "outputs": [],
   "source": [
    "data = json.loads(jsongg)"
   ],
   "metadata": {
    "collapsed": false
   }
  },
  {
   "cell_type": "code",
   "execution_count": null,
   "id": "f260e86e",
   "metadata": {},
   "outputs": [],
   "source": [
    "分地区_平均薪资_values =  [round(i[0],1) for i in 分地区_平均薪资.values.tolist()]\n",
    "分地区_平均薪资_values"
   ]
  },
  {
   "cell_type": "code",
   "execution_count": null,
   "outputs": [],
   "source": [
    "平均薪资_整数 = [int(i[0]) for i in 分地区_平均薪资.values.tolist()]\n",
    "平均薪资_整数"
   ],
   "metadata": {
    "collapsed": false
   }
  },
  {
   "cell_type": "code",
   "execution_count": null,
   "id": "23b5bf70",
   "metadata": {},
   "outputs": [],
   "source": [
    "分地区_平均薪资_index = 分地区_平均薪资.index.tolist()\n",
    "分地区_平均薪资_index"
   ]
  },
  {
   "cell_type": "code",
   "execution_count": null,
   "outputs": [],
   "source": [
    "chart2_data = [{value:平均薪资_整数[i],name:分地区_平均薪资_index} for i in range(len(分地区_平均薪资_index))]"
   ],
   "metadata": {
    "collapsed": false
   }
  },
  {
   "cell_type": "code",
   "execution_count": null,
   "id": "7144cf60",
   "metadata": {},
   "outputs": [],
   "source": [
    "from pyecharts import options as opts\n",
    "from pyecharts.charts import Bar\n",
    "from pyecharts.faker import Faker\n",
    "\n",
    "\n",
    "c = (\n",
    "    Bar()\n",
    "    .add_xaxis([i.split('-')[1] for i in 分地区_平均薪资_index[1:]])\n",
    "    .add_yaxis(\"地区\",分地区_平均薪资_values[1:])\n",
    "    .set_global_opts(\n",
    "        title_opts=opts.TitleOpts(title=\"PM-分地区-中位数薪资\"),\n",
    "        brush_opts=opts.BrushOpts(),\n",
    "    )\n",
    "    .render( key + 用户输入城市+\"平均薪资\"+output_time+'.html')\n",
    ")\n",
    "# c.render_notebook()"
   ]
  },
  {
   "cell_type": "code",
   "execution_count": null,
   "id": "eea5da69",
   "metadata": {},
   "outputs": [],
   "source": [
    "df_year_salary = 非薪资面议.groupby('工作年限').agg({'平均薪资':'mean'})\n",
    "df_year_salary"
   ]
  },
  {
   "cell_type": "code",
   "execution_count": null,
   "id": "2163b27f",
   "metadata": {
    "scrolled": true
   },
   "outputs": [],
   "source": [
    "# 分工作时间和学历平均薪资\n",
    "df_year_edulevel =  非薪资面议.groupby(['工作年限','学历']).agg({'平均薪资':'mean'})\n",
    "df_year_edulevel"
   ]
  },
  {
   "cell_type": "code",
   "execution_count": null,
   "id": "9e3d7c57",
   "metadata": {},
   "outputs": [],
   "source": [
    "# 分行业\n",
    "df_industry = 非薪资面议.groupby('行业').agg({'平均薪资':'mean'})\n",
    "df_industry"
   ]
  },
  {
   "cell_type": "code",
   "execution_count": null,
   "id": "b22612f0",
   "metadata": {},
   "outputs": [],
   "source": [
    "with pd.ExcelWriter(key+'_'+output_time+'_.xlsx') as writer:  \n",
    "    df_year_salary.to_excel(writer, sheet_name='分工作年限平均薪资')\n",
    "    df_year_edulevel.to_excel(writer, sheet_name='分学历平均薪资')\n",
    "    df_industry.to_excel(writer, sheet_name='分行业平均薪资')"
   ]
  },
  {
   "cell_type": "code",
   "execution_count": null,
   "id": "9326b535",
   "metadata": {},
   "outputs": [],
   "source": []
  },
  {
   "cell_type": "code",
   "execution_count": null,
   "id": "2b4f207e",
   "metadata": {},
   "outputs": [],
   "source": []
  },
  {
   "cell_type": "code",
   "execution_count": null,
   "id": "70f92c9d",
   "metadata": {},
   "outputs": [],
   "source": []
  },
  {
   "cell_type": "code",
   "execution_count": null,
   "id": "981e1308",
   "metadata": {},
   "outputs": [],
   "source": []
  }
 ],
 "metadata": {
  "kernelspec": {
   "display_name": "Python 3",
   "language": "python",
   "name": "python3"
  },
  "language_info": {
   "codemirror_mode": {
    "name": "ipython",
    "version": 3
   },
   "file_extension": ".py",
   "mimetype": "text/x-python",
   "name": "python",
   "nbconvert_exporter": "python",
   "pygments_lexer": "ipython3",
   "version": "3.8.8"
  },
  "toc": {
   "base_numbering": 1,
   "nav_menu": {},
   "number_sections": true,
   "sideBar": true,
   "skip_h1_title": false,
   "title_cell": "Table of Contents",
   "title_sidebar": "Contents",
   "toc_cell": false,
   "toc_position": {
    "height": "618px",
    "left": "29px",
    "top": "111.125px",
    "width": "327.188px"
   },
   "toc_section_display": true,
   "toc_window_display": true
  }
 },
 "nbformat": 4,
 "nbformat_minor": 5
}
