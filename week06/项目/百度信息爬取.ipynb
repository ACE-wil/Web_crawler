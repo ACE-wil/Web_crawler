{
 "cells": [
  {
   "cell_type": "code",
   "execution_count": 26,
   "metadata": {
    "collapsed": true
   },
   "outputs": [],
   "source": [
    "from requests_html import HTMLSession"
   ]
  },
  {
   "cell_type": "code",
   "execution_count": 27,
   "outputs": [],
   "source": [
    "session = HTMLSession()"
   ],
   "metadata": {
    "collapsed": false
   }
  },
  {
   "cell_type": "code",
   "execution_count": 39,
   "outputs": [],
   "source": [
    "url  = 'https://www.baidu.com/s?wd=%E8%96%9B%E4%B9%8B%E8%B0%A6&base_query=%E8%96%9B%E4%B9%8B%E8%B0%A6&pn=0&oq=%E8%96%9B%E4%B9%8B%E8%B0%A6&tn=baiduhome_pg&ie=utf-8&usm=3&rsv_idx=2&rsv_pq=9a37e83400192e18&rsv_t=8e68zuyq8PCfmXfaeMzaAR1ys03MtppzHEuB5w8zDshCIvHfWCH%2BiQQOykOyDPNDm9LT'"
   ],
   "metadata": {
    "collapsed": false
   }
  },
  {
   "cell_type": "code",
   "execution_count": 40,
   "outputs": [],
   "source": [
    "r = session.get(url)"
   ],
   "metadata": {
    "collapsed": false
   }
  },
  {
   "cell_type": "code",
   "execution_count": 41,
   "outputs": [
    {
     "data": {
      "text/plain": "200"
     },
     "execution_count": 41,
     "metadata": {},
     "output_type": "execute_result"
    }
   ],
   "source": [
    "r.status_code"
   ],
   "metadata": {
    "collapsed": false
   }
  },
  {
   "cell_type": "code",
   "execution_count": 46,
   "outputs": [
    {
     "data": {
      "text/plain": "[]"
     },
     "execution_count": 46,
     "metadata": {},
     "output_type": "execute_result"
    }
   ],
   "source": [
    "baidu_title = r.html.find('div.c-container > a')\n",
    "baidu_title"
   ],
   "metadata": {
    "collapsed": false
   }
  },
  {
   "cell_type": "code",
   "execution_count": 47,
   "outputs": [
    {
     "data": {
      "text/plain": "[]"
     },
     "execution_count": 47,
     "metadata": {},
     "output_type": "execute_result"
    }
   ],
   "source": [
    "baidu_title_list = [x.text for x in baidu_title]\n",
    "baidu_title_list"
   ],
   "metadata": {
    "collapsed": false
   }
  },
  {
   "cell_type": "code",
   "execution_count": 20,
   "outputs": [],
   "source": [
    "# 第一页\n",
    "# https://www.baidu.com/s?wd=%E8%96%9B%E4%B9%8B%E8%B0%A6&base_query=%E8%96%9B%E4%B9%8B%E8%B0%A6&pn=0&oq=%E8%96%9B%E4%B9%8B%E8%B0%A6&tn=baiduhome_pg&ie=utf-8&usm=3&rsv_idx=2&rsv_pq=9a37e83400192e18&rsv_t=8e68zuyq8PCfmXfaeMzaAR1ys03MtppzHEuB5w8zDshCIvHfWCH%2BiQQOykOyDPNDm9LT"
   ],
   "metadata": {
    "collapsed": false
   }
  },
  {
   "cell_type": "code",
   "execution_count": null,
   "outputs": [],
   "source": [
    "# # 第二页\n",
    "# https://www.baidu.com/s?wd=%E8%96%9B%E4%B9%8B%E8%B0%A6&base_query=%E8%96%9B%E4%B9%8B%E8%B0%A6&pn=10&oq=%E8%96%9B%E4%B9%8B%E8%B0%A6&tn=baiduhome_pg&ie=utf-8&usm=3&rsv_idx=2&rsv_pq=aad9dba400026840&rsv_t=4babBqzH%2Ftx0f0wojsK93epRQbVFgp8%2B7rLsNNV7TPbRxsgS75GwsEkCQ3wVeDA5LceN"
   ],
   "metadata": {
    "collapsed": false
   }
  },
  {
   "cell_type": "code",
   "execution_count": null,
   "outputs": [],
   "source": [
    "# # 第三页\n",
    "# https://www.baidu.com/s?wd=%E8%96%9B%E4%B9%8B%E8%B0%A6&base_query=%E8%96%9B%E4%B9%8B%E8%B0%A6&pn=20&oq=%E8%96%9B%E4%B9%8B%E8%B0%A6&tn=baiduhome_pg&ie=utf-8&usm=3&rsv_idx=2&rsv_pq=c8de18c900027546&rsv_t=0e37ujEwoAoI7o%2F0TwLhcg8%2FHMGxgwT%2FhGFvQu%2BaFeYiUGBsr1SVUNUBbVzoqiZM7%2FB9"
   ],
   "metadata": {
    "collapsed": false
   }
  },
  {
   "cell_type": "code",
   "execution_count": 48,
   "outputs": [],
   "source": [
    "import requests\n",
    "from requests_html import HTMLSession"
   ],
   "metadata": {
    "collapsed": false
   }
  },
  {
   "cell_type": "code",
   "execution_count": 55,
   "outputs": [],
   "source": [],
   "metadata": {
    "collapsed": false
   }
  },
  {
   "cell_type": "code",
   "execution_count": 67,
   "outputs": [],
   "source": [
    "url  = 'https://www.baidu.com/s?ie=utf-8&mod=1&isbd=1&isid=c6cf3d1e00099ecc&ie=utf-8&f=8&rsv_bp=1&rsv_idx=2&tn=baiduhome_pg&wd=%E5%B9%BF%E4%B8%9C&oq=gd&rsv_pq=c6cf3d1e00099ecc&rsv_t=c6b1Pwd2RPclNuyFccsnjGTj6s6PRfMS1RboeRjrbR0uzTbQrFmaFQow9XqC7rvIV%2BeZ&rqlang=cn&rsv_enter=0&rsv_dl=tb&rsv_btype=t&inputT=2737&rsv_sug3=5&rsv_sug1=6&rsv_sug7=100&rsv_sug2=0&rsv_sug4=2737&bs=gd&rsv_sid=undefined&_ss=1&clist=&hsug=&f4s=1&csor=2&_cr1=33972'"
   ],
   "metadata": {
    "collapsed": false
   }
  },
  {
   "cell_type": "code",
   "execution_count": 68,
   "outputs": [],
   "source": [
    "import json\n",
    "session = HTMLSession()"
   ],
   "metadata": {
    "collapsed": false
   }
  },
  {
   "cell_type": "code",
   "execution_count": 69,
   "outputs": [],
   "source": [
    "headers = {\n",
    "    \"Accept\": \"*/*\",\n",
    "    \"Accept-Encoding\": \"gzip, deflate, br\",\n",
    "    \"Accept-Language\": \"zh-CN,zh;q=0.9\",\n",
    "    \"Connection\": \"keep-alive\",\n",
    "    \"Cookie\": \"BIDUPSID=6503B0BBA28DA357DB8C0650684F6103; PSTM=1677303011; MAWEBCUID=web_orQwohARYfLrQAEcjjaquGvEwqaNZHVkcZGiuUwfgeYJzmkxhd; newlogin=1; H_WISE_SIDS=216854_213353_214805_110085_244728_261716_236312_262913_256419_264480_265881_266368_267066_265615_267072_268592_268030_259642_269831_269904_256739_270460_270548_271173_263618_256957_271320_266027_270102_271674_271812_271935_256154_271254_234296_234207_269297_272278_267596_260335_267558_272374_273164_273155_273118_273150_273234_273301_273400_273386_273518_272642_271147_273670_273317_264170_270186_272263_270142_274081_273931_274156_273918_273789_273043_273594_272857_274300_256223_274342_272332_272561_274441_188333_274767_274761_274853_274856_274847_270158_273981_275069_275096_267807_267547_273923_275146_275167_274333_275149_272317_269563_271157_275771_273492_275673_275002_275939_275848_275970_274784_274079_276089_269610_276060; H_WISE_SIDS_BFESS=216854_213353_214805_110085_244728_261716_236312_262913_256419_264480_265881_266368_267066_265615_267072_268592_268030_259642_269831_269904_256739_270460_270548_271173_263618_256957_271320_266027_270102_271674_271812_271935_256154_271254_234296_234207_269297_272278_267596_260335_267558_272374_273164_273155_273118_273150_273234_273301_273400_273386_273518_272642_271147_273670_273317_264170_270186_272263_270142_274081_273931_274156_273918_273789_273043_273594_272857_274300_256223_274342_272332_272561_274441_188333_274767_274761_274853_274856_274847_270158_273981_275069_275096_267807_267547_273923_275146_275167_274333_275149_272317_269563_271157_275771_273492_275673_275002_275939_275848_275970_274784_274079_276089_269610_276060; MCITY=-257%3A; ispeed_lsm=0; BAIDUID=14C325D52694668D5AC6490F103065F0:FG=1; BDUSS=VXQkEtM1N3TkFwSFAzUmJpZDVmaX4yb2xQVVZOT0xoQjJwbzZYbjNYcHUtM0psSVFBQUFBJCQAAAAAAAAAAAEAAACzRjxksKGwoc7YztiywTkwAAAAAAAAAAAAAAAAAAAAAAAAAAAAAAAAAAAAAAAAAAAAAAAAAAAAAAAAAAAAAAAAAAAAAG5uS2VubktlMV; BDUSS_BFESS=VXQkEtM1N3TkFwSFAzUmJpZDVmaX4yb2xQVVZOT0xoQjJwbzZYbjNYcHUtM0psSVFBQUFBJCQAAAAAAAAAAAEAAACzRjxksKGwoc7YztiywTkwAAAAAAAAAAAAAAAAAAAAAAAAAAAAAAAAAAAAAAAAAAAAAAAAAAAAAAAAAAAAAAAAAAAAAG5uS2VubktlMV; H_PS_PSSID=39669_39664_39683_39676; BD_UPN=12314753; BDORZ=B490B5EBF6F3CD402E515D22BCDA1598; ab_sr=1.0.1_NzQ1NzVlYzQ3MGU3N2RkMDQ1ZWUxMmRhZGZkNDRjMDU1MDNhNWM5NThjYTJlODg5ZTdmMDQ3Y2E3YzVjYzk4YjFmNzQ2ODkyYmNiZWNkZTYwMzhmOGMzNmE5MzEyZTA4ODU2NzM4YzFjMDgwY2NlYzJiY2E2OWU4NmY1OTA1Zjk2Yzc5YzRmNjk3YWM2YjVmZjBjZGM2NGYwZDcyZDIyYTc5MGIxOTExZWIyNmUxMDRhNmNhMjJkZjdhNzhhMzEx; BD_CK_SAM=1; PSINO=7; delPer=0; H_PS_645EC=c6b1Pwd2RPclNuyFccsnjGTj6s6PRfMS1RboeRjrbR0uzTbQrFmaFQow9XqC7rvIV%2BeZ; BAIDUID_BFESS=14C325D52694668D5AC6490F103065F0:FG=1; BA_HECTOR=21ak042l0ga181010l0h8l8l1il3l7r1r; ZFY=RoXKPKHTLM2oPk9Ov:AfOFLSoJby:AKfOu6SZURnGqk3A:C; COOKIE_SESSION=2_1_9_9_4_44_1_0_7_8_0_4_36_0_0_3_1698195208_1698196257_1698196254%7C9%2310578782_329_1698196254%7C9; BDSVRTM=7; WWW_ST=1699861823915\",\n",
    "    \"Host\": \"www.baidu.com\",\n",
    "    \"Is_pbs\": \"gd\",\n",
    "    \"Is_referer\": \"https://www.baidu.com/s?ie=utf-8&f=8&rsv_bp=1&rsv_idx=2&tn=baiduhome_pg&wd=gd&oq=%25E8%2596%259B%25E4%25B9%258B%25E8%25B0%25A6&rsv_pq=997cd99900092b06&rsv_t=d12fOHurlWXoH9aq5AqUGHMgdlnwQ6Nhxslz%2BxGOPRuOztS8PpimPwSphHJRvYqft1sg&rqlang=cn&rsv_enter=0&rsv_dl=tb&rsv_sug3=2&rsv_sug1=3&rsv_sug7=100&rsv_btype=t&inputT=27709&rsv_sug4=27709&bs=%E8%96%9B%E4%B9%8B%E8%B0%A6\",\n",
    "    \"Is_xhr\": \"1\",\n",
    "    \"Referer\": \"https://www.baidu.com/s?ie=utf-8&f=8&rsv_bp=1&rsv_idx=2&tn=baiduhome_pg&wd=%E5%B9%BF%E4%B8%9C&oq=gd&rsv_pq=c6cf3d1e00099ecc&rsv_t=c6b1Pwd2RPclNuyFccsnjGTj6s6PRfMS1RboeRjrbR0uzTbQrFmaFQow9XqC7rvIV%2BeZ&rqlang=cn&rsv_enter=0&rsv_dl=tb&rsv_btype=t&inputT=2737&rsv_sug3=5&rsv_sug1=6&rsv_sug7=100&rsv_sug2=0&rsv_sug4=2737\",\n",
    "    \"Sec-Ch-Ua\": \"\\\"Google Chrome\\\";v=\\\"117\\\", \\\"Not;A=Brand\\\";v=\\\"8\\\", \\\"Chromium\\\";v=\\\"117\\\"\",\n",
    "    \"Sec-Ch-Ua-Mobile\": \"?0\",\n",
    "    \"Sec-Ch-Ua-Platform\": \"\\\"Windows\\\"\",\n",
    "    \"Sec-Fetch-Dest\": \"empty\",\n",
    "    \"Sec-Fetch-Mode\": \"cors\",\n",
    "    \"Sec-Fetch-Site\": \"same-origin\",\n",
    "    \"User-Agent\": \"Mozilla/5.0 (Windows NT 10.0; Win64; x64) AppleWebKit/537.36 (KHTML, like Gecko) Chrome/117.0.0.0 Safari/537.36\",\n",
    "    \"X-Requested-With\": \"XMLHttpRequest\"\n",
    "}"
   ],
   "metadata": {
    "collapsed": false
   }
  },
  {
   "cell_type": "code",
   "execution_count": 78,
   "outputs": [],
   "source": [
    "r= session.get(url,headers=headers)"
   ],
   "metadata": {
    "collapsed": false
   }
  },
  {
   "cell_type": "code",
   "execution_count": 79,
   "outputs": [
    {
     "data": {
      "text/plain": "200"
     },
     "execution_count": 79,
     "metadata": {},
     "output_type": "execute_result"
    }
   ],
   "source": [
    "r.status_code"
   ],
   "metadata": {
    "collapsed": false
   }
  },
  {
   "cell_type": "code",
   "execution_count": 80,
   "outputs": [
    {
     "name": "stdout",
     "output_type": "stream",
     "text": [
      "<Response [200]>\n"
     ]
    }
   ],
   "source": [
    "print(r)"
   ],
   "metadata": {
    "collapsed": false
   }
  },
  {
   "cell_type": "code",
   "execution_count": null,
   "outputs": [],
   "source": [],
   "metadata": {
    "collapsed": false
   }
  }
 ],
 "metadata": {
  "kernelspec": {
   "display_name": "Python 3",
   "language": "python",
   "name": "python3"
  },
  "language_info": {
   "codemirror_mode": {
    "name": "ipython",
    "version": 2
   },
   "file_extension": ".py",
   "mimetype": "text/x-python",
   "name": "python",
   "nbconvert_exporter": "python",
   "pygments_lexer": "ipython2",
   "version": "2.7.6"
  }
 },
 "nbformat": 4,
 "nbformat_minor": 0
}
