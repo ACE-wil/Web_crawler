{
 "cells": [
  {
   "cell_type": "code",
   "execution_count": 1,
   "metadata": {
    "collapsed": true
   },
   "outputs": [],
   "source": [
    "from requests_html import HTMLSession\n",
    "from xpinyin import Pinyin\n",
    "import requests\n",
    "session = HTMLSession()\n",
    "地区 = input(\"请输入你的地区，目前只支持输入该区的前两个字\")\n",
    "p = Pinyin()\n",
    "地区_pinyin = p.get_pinyin(地区, '')\n",
    "for i in range(10):\n",
    "    if i==0:\n",
    "        url = \"https://gz.lianjia.com/ershoufang/\"+ 地区_pinyin + \"/\"\n",
    "        s = session.get(url)\n",
    "        house_title = s.html.find('.title > a')\n",
    "        house_prize = s.html.find('.totalPrice.totalPrice2 > span')\n",
    "        house_position = s.html.find('.positionInfo > a')\n",
    "        house_time = s.html.find('.followInfo')\n",
    "        house_detail = s.html.find('.houseInfo')\n",
    "        house_square = s.html.find('.unitPrice > span')\n",
    "    else:\n",
    "        url = \"https://gz.lianjia.com/ershoufang/\"+ 地区_pinyin + \"/pg\" + str(i) + \"/\"\n",
    "        s = session.get(url)\n",
    "        house_title += s.html.find('.title > a')\n",
    "        house_title\n",
    "        house_prize += s.html.find('.totalPrice.totalPrice2 > span')\n",
    "        house_position += s.html.find('.positionInfo > a')\n",
    "        house_detail += s.html.find('.houseInfo')\n",
    "        house_time += s.html.find('.followInfo')\n",
    "        house_square += s.html.find('.unitPrice > span')\n"
   ]
  },
  {
   "cell_type": "code",
   "execution_count": 2,
   "outputs": [
    {
     "data": {
      "text/plain": "'2023-9-22_22-27'"
     },
     "execution_count": 2,
     "metadata": {},
     "output_type": "execute_result"
    }
   ],
   "source": [
    "import time\n",
    "time.localtime()\n",
    "output_time = str(time.localtime().tm_year)+'-'\\\n",
    "              +str(time.localtime().tm_mon)+'-'\\\n",
    "             +str(time.localtime().tm_mday)+'_'\\\n",
    "             +str(time.localtime().tm_hour)+'-' \\\n",
    "             +str(time.localtime().tm_min)\n",
    "output_time"
   ],
   "metadata": {
    "collapsed": false
   }
  },
  {
   "cell_type": "code",
   "execution_count": 3,
   "outputs": [],
   "source": [
    "import pandas as pd\n",
    "house_df = pd.DataFrame()\n",
    "for i in range(len(house_title)):\n",
    "  house_df.loc[i, '标题'] = house_title[i].text\n",
    "  house_df.loc[i, '位置'] = house_position[i].text\n",
    "  house_df.loc[i, '详情'] = house_detail[i].text\n",
    "  house_df.loc[i, '发布时间'] = house_time[i].text.split('/')[1]\n",
    "  house_df.loc[i, '总价'] = house_prize[i].text + '万'\n",
    "  house_df.loc[i, '单价'] = house_square[i].text\n",
    "  house_df.loc[i, '详情'] = house_detail[i].text\n",
    "  house_df.loc[i, '网址'] = house_title[i].absolute_links\n",
    "house_df.to_excel(地区+\"区二手房\"+output_time+'.xlsx', index=False)"
   ],
   "metadata": {
    "collapsed": false
   }
  },
  {
   "cell_type": "code",
   "execution_count": 4,
   "outputs": [
    {
     "name": "stdout",
     "output_type": "stream",
     "text": [
      "Requirement already satisfied: xpinyin in e:\\anaconda3\\lib\\site-packages (0.7.6)\n"
     ]
    }
   ],
   "source": [
    "!pip install xpinyin"
   ],
   "metadata": {
    "collapsed": false
   }
  },
  {
   "cell_type": "code",
   "execution_count": 4,
   "outputs": [],
   "source": [],
   "metadata": {
    "collapsed": false
   }
  }
 ],
 "metadata": {
  "kernelspec": {
   "display_name": "Python 3",
   "language": "python",
   "name": "python3"
  },
  "language_info": {
   "codemirror_mode": {
    "name": "ipython",
    "version": 2
   },
   "file_extension": ".py",
   "mimetype": "text/x-python",
   "name": "python",
   "nbconvert_exporter": "python",
   "pygments_lexer": "ipython2",
   "version": "2.7.6"
  }
 },
 "nbformat": 4,
 "nbformat_minor": 0
}
