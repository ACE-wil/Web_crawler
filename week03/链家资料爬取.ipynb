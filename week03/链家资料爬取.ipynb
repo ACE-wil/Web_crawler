{
 "cells": [
  {
   "cell_type": "code",
   "execution_count": 1,
   "metadata": {
    "collapsed": true
   },
   "outputs": [],
   "source": [
    "from requests_html import HTMLSession\n",
    "session = HTMLSession()\n",
    "\n"
   ]
  },
  {
   "cell_type": "code",
   "execution_count": 2,
   "outputs": [],
   "source": [
    "for i in range(10):\n",
    "    if i==0:\n",
    "        s = session.get('https://gz.lianjia.com/ershoufang/rs%E5%A4%A9%E6%B2%B3/')\n",
    "        house_title = s.html.find('.title > a')\n",
    "        house_prize = s.html.find('.totalPrice.totalPrice2 > span')\n",
    "        house_position = s.html.find('.positionInfo > a')\n",
    "        house_time = s.html.find('.followInfo')\n",
    "        house_detail = s.html.find('.houseInfo')\n",
    "        house_square = s.html.find('.unitPrice > span')\n",
    "        # 第一种写法\n",
    "    else:\n",
    "        url = 'https://gz.lianjia.com/ershoufang/' +'pg' + str(i)+'rs%E5%A4%A9%E6%B2%B3/'\n",
    "        s = session.get(url)\n",
    "        house_title += s.html.find('.title > a')\n",
    "        # 第二种写法\n",
    "        # select = \"div.info.clear\"\n",
    "        # r = session.get(url)\n",
    "        # lianjia_house = r.html.find(select)\n",
    "        house_title\n",
    "        # 房子价格\n",
    "        house_prize += s.html.find('.totalPrice.totalPrice2 > span')\n",
    "        # 房子位置\n",
    "        house_position += s.html.find('.positionInfo > a')\n",
    "        # 房子详情\n",
    "        house_detail += s.html.find('.houseInfo')\n",
    "        # 发布时间\n",
    "        house_time += s.html.find('.followInfo')\n",
    "        # 单价\n",
    "        house_square += s.html.find('.unitPrice > span')"
   ],
   "metadata": {
    "collapsed": false
   }
  },
  {
   "cell_type": "code",
   "execution_count": 3,
   "outputs": [],
   "source": [
    "# for i in range(len(house_title)):\n",
    "#     print(house_title[i].text)\n",
    "#     print(house_prize[i].text)\n",
    "#     print(house_position[i].text)\n",
    "#     print(house_detail[i].text)\n",
    "#     print(house_title[i].absolute_links)\n",
    "#     print()"
   ],
   "metadata": {
    "collapsed": false
   }
  },
  {
   "cell_type": "code",
   "execution_count": 4,
   "outputs": [
    {
     "data": {
      "text/plain": "'2023-10-23_16-24'"
     },
     "execution_count": 4,
     "metadata": {},
     "output_type": "execute_result"
    }
   ],
   "source": [
    "import time\n",
    "time.localtime()\n",
    "output_time = str(time.localtime().tm_year)+'-'\\\n",
    "              +str(time.localtime().tm_mon)+'-'\\\n",
    "             +str(time.localtime().tm_mday)+'_'\\\n",
    "             +str(time.localtime().tm_hour)+'-' \\\n",
    "             +str(time.localtime().tm_min)\n",
    "output_time"
   ],
   "metadata": {
    "collapsed": false
   }
  },
  {
   "cell_type": "code",
   "execution_count": 5,
   "outputs": [
    {
     "ename": "AttributeError",
     "evalue": "'list' object has no attribute 'attrs'",
     "output_type": "error",
     "traceback": [
      "\u001B[1;31m---------------------------------------------------------------------------\u001B[0m",
      "\u001B[1;31mAttributeError\u001B[0m                            Traceback (most recent call last)",
      "Cell \u001B[1;32mIn[5], line 4\u001B[0m\n\u001B[0;32m      2\u001B[0m get_pic \u001B[38;5;241m=\u001B[39m s\u001B[38;5;241m.\u001B[39mhtml\u001B[38;5;241m.\u001B[39mfind(\u001B[38;5;124m'\u001B[39m\u001B[38;5;124m.lj-lazy\u001B[39m\u001B[38;5;124m'\u001B[39m)\n\u001B[0;32m      3\u001B[0m \u001B[38;5;28;01mfor\u001B[39;00m i \u001B[38;5;129;01min\u001B[39;00m \u001B[38;5;28mrange\u001B[39m(\u001B[38;5;28mlen\u001B[39m(get_pic)):\n\u001B[1;32m----> 4\u001B[0m     img_url \u001B[38;5;241m=\u001B[39m \u001B[43mget_pic\u001B[49m\u001B[38;5;241;43m.\u001B[39;49m\u001B[43mattrs\u001B[49m[\u001B[38;5;124m'\u001B[39m\u001B[38;5;124msrc\u001B[39m\u001B[38;5;124m'\u001B[39m]\n\u001B[0;32m      5\u001B[0m     \u001B[38;5;28mprint\u001B[39m(img_url)\n",
      "\u001B[1;31mAttributeError\u001B[0m: 'list' object has no attribute 'attrs'"
     ]
    }
   ],
   "source": [],
   "metadata": {
    "collapsed": false
   }
  },
  {
   "cell_type": "code",
   "execution_count": 6,
   "outputs": [],
   "source": [
    "import pandas as pd\n",
    "\n",
    "house_df = pd.DataFrame()\n",
    "\n",
    "for i in range(len(house_title)):\n",
    "  house_df.loc[i, '标题'] = house_title[i].text\n",
    "  house_df.loc[i, '位置'] = house_position[i].text\n",
    "  house_df.loc[i, '详情'] = house_detail[i].text\n",
    "  house_df.loc[i, '发布时间'] = house_time[i].text.split('/')[1]\n",
    "  house_df.loc[i, '总价'] = house_prize[i].text + '万'\n",
    "  house_df.loc[i, '单价'] = house_square[i].text\n",
    "  house_df.loc[i, '详情'] = house_detail[i].text\n",
    "  house_df.loc[i, '网址'] = house_title[i].absolute_links\n",
    "house_df.to_excel(\"天河二手房\"+output_time+'.xlsx', index=False)"
   ],
   "metadata": {
    "collapsed": false
   }
  },
  {
   "cell_type": "code",
   "execution_count": null,
   "outputs": [],
   "source": [
    "import requests\n",
    "get_pic = s.html.find('.lj-lazy')\n",
    "for i in range(len(get_pic)):\n",
    "    img_url = get_pic.attrs['src']\n",
    "    print(img_url)"
   ],
   "metadata": {
    "collapsed": false
   }
  },
  {
   "cell_type": "code",
   "execution_count": null,
   "outputs": [],
   "source": [],
   "metadata": {
    "collapsed": false
   }
  }
 ],
 "metadata": {
  "kernelspec": {
   "display_name": "Python 3",
   "language": "python",
   "name": "python3"
  },
  "language_info": {
   "codemirror_mode": {
    "name": "ipython",
    "version": 2
   },
   "file_extension": ".py",
   "mimetype": "text/x-python",
   "name": "python",
   "nbconvert_exporter": "python",
   "pygments_lexer": "ipython2",
   "version": "2.7.6"
  }
 },
 "nbformat": 4,
 "nbformat_minor": 0
}
