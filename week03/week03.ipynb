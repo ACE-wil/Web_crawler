{
 "cells": [
  {
   "cell_type": "code",
   "execution_count": 14,
   "metadata": {
    "collapsed": true
   },
   "outputs": [],
   "source": [
    "from requests_html import HTMLSession"
   ]
  },
  {
   "cell_type": "code",
   "execution_count": 15,
   "outputs": [],
   "source": [
    "session = HTMLSession()"
   ],
   "metadata": {
    "collapsed": false
   }
  },
  {
   "cell_type": "code",
   "execution_count": 16,
   "outputs": [],
   "source": [
    "r = session.get('https://www.nfu.edu.cn/xxyw/index.htm')"
   ],
   "metadata": {
    "collapsed": false
   }
  },
  {
   "cell_type": "code",
   "execution_count": 17,
   "outputs": [
    {
     "data": {
      "text/plain": "b'<!DOCTYPE html>\\n<html><head><meta http-equiv=\"Content-Type\" content=\"text/html; charset=UTF-8\">\\n\\t<meta name=\"renderer\" content=\"webkit\">\\n\\t<meta http-equiv=\"x-ua-compatible\" content=\"IE=edge\">\\n\\n\\t<title>\\xe5\\xad\\xa6\\xe6\\xa0\\xa1\\xe8\\xa6\\x81\\xe9\\x97\\xbb - \\xe5\\xb9\\xbf\\xe5\\xb7\\x9e\\xe5\\x8d\\x97\\xe6\\x96\\xb9\\xe5\\xad\\xa6\\xe9\\x99\\xa2</title>\\n\\t<meta name=\"keywords\" content=\"\">\\n\\t<meta name=\"description\" content=\"\">\\n\\t\\n\\t<link rel=\"stylesheet\" type=\"text/css\" href=\"../css/swiper-3.3.1.min.css\">\\n\\t<link href=\"../css/lin.css\" rel=\"stylesheet\" type=\"text/css\">\\n\\n\\t<script src=\"../js/jquery-1.11.3.min.js\"></script>\\n\\t<script src=\"../js/jquery-1.11.1.js\"></script>\\n\\t<script src=\"../js/jquery.easie-min.js\" type=\"text/javascript\"></script>\\n\\t<script src=\"../js/swiper.min.js\" type=\"text/javascript\"></script>\\n\\t<script src=\"../js/lin.js\"></script>\\n\\t\\n\\t\\n\\t<link href=\"../css/page.css\" rel=\"stylesheet\" type=\"text/css\">\\n\\t<link href=\"http://www.nfu.edu.cn/Public/favicon.ico\" rel=\"Shortcut Icon\">\\n\\t<link href=\"http://www.nfu.edu.cn/Public/favicon.ico\" rel=\"Bookmark\">\\n\\n<script type=\"text/javascript\"> \\n\\tvar browser={\\n\\t    versions:function(){\\n\\t        var u = navigator.userAgent, app = navigator.appVersion;\\n\\t        return {//\\xe7\\xa7\\xbb\\xe5\\x8a\\xa8\\xe7\\xbb\\x88\\xe7\\xab\\xaf\\xe6\\xb5\\x8f\\xe8\\xa7\\x88\\xe5\\x99\\xa8\\xe7\\x89\\x88\\xe6\\x9c\\xac\\xe4\\xbf\\xa1\\xe6\\x81\\xaf\\n\\t            trident: u.indexOf(\\'Trident\\') > -1, //IE\\xe5\\x86\\x85\\xe6\\xa0\\xb8\\n\\t            presto: u.indexOf(\\'Presto\\') > -1, //opera\\xe5\\x86\\x85\\xe6\\xa0\\xb8\\n\\t            webKit: u.indexOf(\\'AppleWebKit\\') > -1, //\\xe8\\x8b\\xb9\\xe6\\x9e\\x9c\\xe3\\x80\\x81\\xe8\\xb0\\xb7\\xe6\\xad\\x8c\\xe5\\x86\\x85\\xe6\\xa0\\xb8\\n\\t            gecko: u.indexOf(\\'Gecko\\') > -1 && u.indexOf(\\'KHTML\\') == -1, //\\xe7\\x81\\xab\\xe7\\x8b\\x90\\xe5\\x86\\x85\\xe6\\xa0\\xb8\\n\\t            mobile: !!u.match(/AppleWebKit.*Mobile.*/)||u.indexOf(\\'iPad\\') > -1, //\\xe6\\x98\\xaf\\xe5\\x90\\xa6\\xe4\\xb8\\xba\\xe7\\xa7\\xbb\\xe5\\x8a\\xa8\\xe7\\xbb\\x88\\xe7\\xab\\xaf\\n\\t            ios: !!u.match(/\\\\(i[^;]+;( U;)? CPU.+Mac OS X/), //ios\\xe7\\xbb\\x88\\xe7\\xab\\xaf\\n\\t            android: u.indexOf(\\'Android\\') > -1 || u.indexOf(\\'Linux\\') > -1, //android\\xe7\\xbb\\x88\\xe7\\xab\\xaf\\xe6\\x88\\x96\\xe8\\x80\\x85uc\\xe6\\xb5\\x8f\\xe8\\xa7\\x88\\xe5\\x99\\xa8\\n\\t            iPhone: u.indexOf(\\'iPhone\\') > -1, //\\xe6\\x98\\xaf\\xe5\\x90\\xa6\\xe4\\xb8\\xbaiPhone\\xe6\\x88\\x96\\xe8\\x80\\x85QQHD\\xe6\\xb5\\x8f\\xe8\\xa7\\x88\\xe5\\x99\\xa8\\n\\t            iPad: u.indexOf(\\'iPad\\') > -1, //\\xe6\\x98\\xaf\\xe5\\x90\\xa6iPad\\n\\t            webApp: u.indexOf(\\'Safari\\') == -1 //\\xe6\\x98\\xaf\\xe5\\x90\\xa6web\\xe5\\xba\\x94\\xe8\\xaf\\xa5\\xe7\\xa8\\x8b\\xe5\\xba\\x8f\\xef\\xbc\\x8c\\xe6\\xb2\\xa1\\xe6\\x9c\\x89\\xe5\\xa4\\xb4\\xe9\\x83\\xa8\\xe4\\xb8\\x8e\\xe5\\xba\\x95\\xe9\\x83\\xa8\\n\\t        };\\n\\t    }(),\\n\\t}\\n\\tif(browser.versions.android || browser.versions.iPhone){\\n\\t\\tvar url = document.location.href ;\\n\\t\\tvar ext = url.substr(url.lastIndexOf(\".\"),url.length) ;\\n\\t\\tif(ext != null && (ext == \\'.htm\\' || ext == \\'.html\\')){\\n\\t\\t\\turl = url.substr(0,url.lastIndexOf(\".\")) ;\\n\\t\\t\\turl = url + \"_mobile\" + ext ;\\n\\t\\t}else{\\n\\t\\t\\turl = url + \"index_mobile.htm\" ;\\n\\t\\t}\\n\\t\\tdocument.location = url ;\\n\\t}\\n</script>\\n </head>\\n<body>\\n<!--\\xe5\\xa4\\xb4\\xe9\\x83\\xa8-->\\n\\t\\n<div class=\"lin-header \">\\n\\t\\t<div class=\"lin-head clearfix\">\\n\\t\\t\\t<h1 class=\"lin-topl\">\\n\\t\\t\\t\\t<a href=\"../index.htm\" target=\"_blank\" title=\"\\xe5\\xb9\\xbf\\xe5\\xb7\\x9e\\xe5\\x8d\\x97\\xe6\\x96\\xb9\\xe5\\xad\\xa6\\xe9\\x99\\xa2\">\\n\\t\\t\\t\\t\\t<img src=\"../images/logo.png\">\\n\\t\\t\\t\\t</a>\\n\\t\\t\\t</h1>\\n\\t\\t\\t<div class=\"lin-topr\">\\n\\t\\t\\t\\t<div class=\"lin-youxiang\">\\n\\t\\t\\t\\t\\t<!--<a href=\"http://oa.nfu.edu.cn/\" target=\"_blank\">\\xe5\\x8a\\x9e\\xe5\\x85\\xac\\xe7\\xb3\\xbb\\xe7\\xbb\\x9f</a>\\n\\t\\t\\t\\t\\t<a href=\"../xcyx/index.htm\">\\xe6\\xa0\\xa1\\xe9\\x95\\xbf\\xe9\\x82\\xae\\xe7\\xae\\xb1</a>-->\\n\\t\\t\\t\\t\\t<a href=\"http://en.nfu.edu.cn/\">English Version</a>\\n\\t\\t\\t\\t\\t\\t<!-- <a href=\"https://mail.nfu.edu.cn/\" target=\"_blank\">\\xe9\\x82\\xae\\xe7\\xae\\xb1\\xe7\\x99\\xbb\\xe5\\xbd\\x95</a>\\n\\t\\t\\t\\t\\t\\t\\t<a href=\"mailto:nfcsysuyz@126.com\" target=\"_blank\" title=\"nfcsysuyz@126.com\" >\\xe9\\x99\\xa2\\xe9\\x95\\xbf\\xe4\\xbf\\xa1\\xe7\\xae\\xb1</a> -->\\n\\t\\t\\t\\t</div>\\n\\t\\t\\t\\t<div class=\"lin-ser lin-serhide\">\\n\\t\\t\\t\\t\\t<div class=\"serbox\">\\n\\t\\t\\t\\t\\t\\t<form action=\"/cms/web/search/index.jsp\" method=\"get\" id=\"search_form\">\\n\\t\\t\\t\\t\\t\\t\\t<input name=\"siteID\" value=\"bbef6bf928be491d9180b44993df0ac9\" type =\"hidden\"> \\n\\t\\t\\t\\t\\t\\t\\t<input type=\"text\" name=\"query\" id=\"keyword\" placeholder=\"\\xe6\\x90\\x9c\\xe7\\xb4\\xa2\">\\n\\t\\t\\t\\t\\t\\t\\t<a href=\"javascript:;\" id=\"search_btn\">\\n\\t\\t\\t\\t\\t\\t\\t</a>\\n\\t\\t\\t\\t\\t\\t</form>\\t\\n\\t\\t\\t\\t\\t\\t<script type=\"text/javascript\">\\n\\t\\t\\t\\t\\t\\t\\t$(\"#search_btn\").click(function(){\\n\\t\\t\\t\\t\\t\\t\\t\\tvar keyword=$(\"#keyword\").val();\\n\\t\\t\\t\\t\\t\\t\\t\\tif(keyword==\\'\\'){\\n\\t\\t\\t\\t\\t\\t\\t\\t\\talert(\\'* \\xe8\\xaf\\xb7\\xe8\\xbe\\x93\\xe5\\x85\\xa5\\xe6\\x90\\x9c\\xe7\\xb4\\xa2\\xe5\\x85\\xb3\\xe9\\x94\\xae\\xe8\\xaf\\x8d !\\');\\n\\t\\t\\t\\t\\t\\t\\t\\t\\t$(\"#keyword\").focus();\\n\\t\\t\\t\\t\\t\\t\\t\\t\\treturn false;\\n\\t\\t\\t\\t\\t\\t\\t\\t}else{\\n\\t\\t\\t\\t\\t\\t\\t\\t\\t$(\"#search_form\").submit();\\n\\t\\t\\t\\t\\t\\t\\t\\t}\\n\\t\\t\\t\\t\\t\\t\\t})\\n\\t\\t\\t\\t\\t\\t</script>\\n\\t\\t\\t\\t\\t</div>\\n\\t\\t\\t\\t\\t\\n\\t\\t\\t\\t</div>\\n\\t\\t\\t</div>\\n\\t\\t</div>\\n\\t</div>\\n\\t\\t\\t<!-- end \\xe5\\xa4\\xb4\\xe9\\x83\\xa8-->\\n\\t\\t\\t<!--\\xe5\\xaf\\xbc\\xe8\\x88\\xaa\\xe6\\x9d\\xa1-->\\n\\t\\t\\t<div class=\"lin-navbar\">\\n\\t\\t\\t\\t<p class=\"navnav\">\\n\\t\\t\\t\\t\\t<span>\\n\\t\\t\\t\\t\\t</span>\\n\\t\\t\\t\\t\\t<span>\\n\\t\\t\\t\\t\\t</span>\\n\\t\\t\\t\\t\\t<span>\\n\\t\\t\\t\\t\\t</span>\\n\\t\\t\\t\\t</p>\\n\\t\\t\\t\\t<ul class=\"lin-nav clearfix\">\\n\\t\\t\\t\\t\\t<li class=\"lin-navli\"><a href=\"../index.htm\">\\xe9\\xa6\\x96\\xe9\\xa1\\xb5</a></li>\\n\\t\\t\\t\\t\\t\\t\\t\\t\\t\\t\\t\\t\\t\\t\\t<li class=\"lin-navli\">\\n\\t\\t\\t\\t\\t\\t<a href=\"../xxgk/index.htm\" target=\"_blank\">\\xe5\\xad\\xa6\\xe6\\xa0\\xa1\\xe6\\xa6\\x82\\xe5\\x86\\xb5</a>\\n\\t\\t\\t\\t\\t\\t<div class=\"lin-navdiv\">\\n\\t\\t\\t\\t\\t\\t\\t<div class=\"sonnav-bg\">\\n\\t\\t\\t\\t\\t\\t\\t\\t<ul class=\"nav-conul clearfix\" style=\"padding-left: 99px;\">\\n\\t\\t\\t\\t\\t\\t\\t\\t\\t\\t\\t\\t\\t\\t\\t\\t\\t\\t\\t\\t\\t\\t\\t\\t\\t\\t\\t\\t\\t\\t<li><a href=\"../xxgk/xxjj/index.htm\" target=\"_self\">\\xe5\\xad\\xa6\\xe6\\xa0\\xa1\\xe7\\xae\\x80\\xe4\\xbb\\x8b</a></li>\\n\\t\\t\\t\\t\\t\\t\\t\\t\\t\\t\\t\\t\\t\\t\\t\\t\\t\\t\\t\\t\\t\\t\\t\\t\\t\\t\\t\\t\\t\\t\\t\\t\\t\\t\\t\\t\\t\\t\\t\\t<li><a href=\"../xxgk/xrld/index.htm\" target=\"_self\">\\xe7\\x8e\\xb0\\xe4\\xbb\\xbb\\xe9\\xa2\\x86\\xe5\\xaf\\xbc</a></li>\\n\\t\\t\\t\\t\\t\\t\\t\\t\\t\\t\\t\\t\\t\\t\\t\\t\\t\\t\\t\\t\\t\\t\\t\\t\\t\\t\\t\\t\\t\\t\\t\\t\\t\\t\\t\\t\\t\\t\\t\\t<li><a href=\"../xxgk/xhxxxg/index.htm\" target=\"_self\">\\xe6\\xa0\\xa1\\xe5\\xbe\\xbd  \\xe6\\xa0\\xa1\\xe8\\xae\\xad  \\xe6\\xa0\\xa1\\xe6\\xad\\x8c</a></li>\\n\\t\\t\\t\\t\\t\\t\\t\\t\\t\\t\\t\\t\\t\\t\\t\\t\\t\\t\\t\\t\\t\\t\\t\\t\\t\\t\\t\\t\\t\\t\\t\\t\\t\\t\\t\\t\\t\\t\\t\\t<li><a href=\"../xxgk/nfdsj/index.htm\" target=\"_self\">\\xe5\\x8d\\x97\\xe6\\x96\\xb9\\xe5\\xa4\\xa7\\xe4\\xba\\x8b\\xe8\\xae\\xb0</a></li>\\n\\t\\t\\t\\t\\t\\t\\t\\t\\t\\t\\t\\t\\t\\t\\t\\t\\t\\t\\t\\t\\t\\t\\t\\t\\t\\t\\t\\t\\t\\t\\t\\t\\t\\t\\t\\t\\t\\t\\t\\t<li><a href=\"../xxgk/xxxl/index.htm\" target=\"_self\">\\xe5\\xad\\xa6\\xe6\\xa0\\xa1\\xe6\\xa0\\xa1\\xe5\\x8e\\x86</a></li>\\n\\t\\t\\t\\t\\t\\t\\t\\t\\t\\t\\t\\t\\t\\t\\t\\t\\t\\t\\t\\t\\t\\t\\t\\t\\t\\t\\t</ul>\\n\\t\\t\\t\\t\\t\\t\\t</div>\\n\\t\\t\\t\\t\\t\\t</div>\\n\\t\\t\\t\\t\\t</li>\\n\\t\\t\\t\\t\\t\\t\\t\\t\\t\\t\\t\\t\\t\\t\\t\\t\\t\\t\\t\\t\\t<li class=\"lin-navli\">\\n\\t\\t\\t\\t\\t\\t\\t<a href=\"http://cpc.nfu.edu.cn/\" target=\"_self\">\\xe5\\x85\\x9a\\xe5\\xbb\\xba\\xe4\\xb9\\x8b\\xe7\\xaa\\x97</a>\\n\\t\\t\\t\\t\\t\\t</li>\\n\\t\\t\\t\\t\\t\\t\\t\\t\\t\\t\\t\\t\\t\\t\\t\\t\\t\\t\\t\\t<li class=\"lin-navli\">\\n\\t\\t\\t\\t\\t\\t<a href=\"../jgsz/index.htm\" target=\"_blank\">\\xe6\\x9c\\xba\\xe6\\x9e\\x84\\xe8\\xae\\xbe\\xe7\\xbd\\xae</a>\\n\\t\\t\\t\\t\\t\\t<div class=\"lin-navdiv\">\\n\\t\\t\\t\\t\\t\\t\\t<div class=\"sonnav-bg\">\\n\\t\\t\\t\\t\\t\\t\\t\\t<ul class=\"nav-conul clearfix\" style=\"padding-left: 99px;\">\\n\\t\\t\\t\\t\\t\\t\\t\\t\\t\\t\\t\\t\\t\\t\\t\\t\\t\\t\\t\\t\\t\\t\\t\\t\\t\\t\\t\\t\\t\\t<li><a href=\"../jgsz/yxsz/index.htm\" target=\"_self\">\\xe9\\x99\\xa2\\xe7\\xb3\\xbb\\xe8\\xae\\xbe\\xe7\\xbd\\xae</a></li>\\n\\t\\t\\t\\t\\t\\t\\t\\t\\t\\t\\t\\t\\t\\t\\t\\t\\t\\t\\t\\t\\t\\t\\t\\t\\t\\t\\t\\t\\t\\t\\t\\t\\t\\t\\t\\t\\t\\t\\t\\t<li><a href=\"../jgsz/gljg/index.htm\" target=\"_self\">\\xe7\\xae\\xa1\\xe7\\x90\\x86\\xe6\\x9c\\xba\\xe6\\x9e\\x84</a></li>\\n\\t\\t\\t\\t\\t\\t\\t\\t\\t\\t\\t\\t\\t\\t\\t\\t\\t\\t\\t\\t\\t\\t\\t\\t\\t\\t\\t\\t\\t\\t\\t\\t\\t\\t\\t\\t\\t\\t\\t\\t<li><a href=\"../jgsz/cswyh/index.htm\" target=\"_self\">\\xe5\\xb8\\xb8\\xe8\\xae\\xbe\\xe5\\xa7\\x94\\xe5\\x91\\x98\\xe4\\xbc\\x9a</a></li>\\n\\t\\t\\t\\t\\t\\t\\t\\t\\t\\t\\t\\t\\t\\t\\t\\t\\t\\t\\t\\t\\t\\t\\t\\t\\t\\t\\t</ul>\\n\\t\\t\\t\\t\\t\\t\\t</div>\\n\\t\\t\\t\\t\\t\\t</div>\\n\\t\\t\\t\\t\\t</li>\\n\\t\\t\\t\\t\\t\\t\\t\\t\\t\\t\\t\\t\\t\\t\\t\\t\\t\\t\\t\\t<li class=\"lin-navli\">\\n\\t\\t\\t\\t\\t\\t<a href=\"../rcpy/index.htm\" target=\"_blank\">\\xe4\\xba\\xba\\xe6\\x89\\x8d\\xe5\\x9f\\xb9\\xe5\\x85\\xbb</a>\\n\\t\\t\\t\\t\\t\\t<div class=\"lin-navdiv\">\\n\\t\\t\\t\\t\\t\\t\\t<div class=\"sonnav-bg\">\\n\\t\\t\\t\\t\\t\\t\\t\\t<ul class=\"nav-conul clearfix\" style=\"padding-left: 99px;\">\\n\\t\\t\\t\\t\\t\\t\\t\\t\\t\\t\\t\\t\\t\\t\\t\\t\\t\\t\\t\\t\\t\\t\\t\\t\\t\\t\\t\\t\\t\\t<li><a href=\"../rcpy/msjs/index.htm\" target=\"_self\">\\xe5\\x90\\x8d\\xe5\\xb8\\x88\\xe4\\xbb\\x8b\\xe7\\xbb\\x8d</a></li>\\n\\t\\t\\t\\t\\t\\t\\t\\t\\t\\t\\t\\t\\t\\t\\t\\t\\t\\t\\t\\t\\t\\t\\t\\t\\t\\t\\t\\t\\t\\t\\t\\t\\t\\t\\t\\t\\t\\t\\t\\t<li><a href=\"../rcpy/bkjy/index.htm\" target=\"_self\">\\xe6\\x9c\\xac\\xe7\\xa7\\x91\\xe6\\x95\\x99\\xe8\\x82\\xb2</a></li>\\n\\t\\t\\t\\t\\t\\t\\t\\t\\t\\t\\t\\t\\t\\t\\t\\t\\t\\t\\t\\t\\t\\t\\t\\t\\t\\t\\t\\t\\t\\t\\t\\t\\t\\t\\t\\t\\t\\t\\t\\t<li><a href=\"../rcpy/jxjy/index.htm\" target=\"_self\">\\xe7\\xbb\\xa7\\xe7\\xbb\\xad\\xe6\\x95\\x99\\xe8\\x82\\xb2</a></li>\\n\\t\\t\\t\\t\\t\\t\\t\\t\\t\\t\\t\\t\\t\\t\\t\\t\\t\\t\\t\\t\\t\\t\\t\\t\\t\\t\\t</ul>\\n\\t\\t\\t\\t\\t\\t\\t</div>\\n\\t\\t\\t\\t\\t\\t</div>\\n\\t\\t\\t\\t\\t</li>\\n\\t\\t\\t\\t\\t\\t\\t\\t\\t\\t\\t\\t\\t\\t\\t\\t\\t\\t\\t\\t<li class=\"lin-navli\">\\n\\t\\t\\t\\t\\t\\t<a href=\"../jxky/index.htm\" target=\"_blank\">\\xe6\\x95\\x99\\xe5\\xad\\xa6\\xe7\\xa7\\x91\\xe7\\xa0\\x94</a>\\n\\t\\t\\t\\t\\t\\t<div class=\"lin-navdiv\">\\n\\t\\t\\t\\t\\t\\t\\t<div class=\"sonnav-bg\">\\n\\t\\t\\t\\t\\t\\t\\t\\t<ul class=\"nav-conul clearfix\" style=\"padding-left: 99px;\">\\n\\t\\t\\t\\t\\t\\t\\t\\t\\t\\t\\t\\t\\t\\t\\t\\t\\t\\t\\t\\t\\t\\t\\t\\t\\t\\t\\t\\t\\t\\t<li><a href=\"http://jw.nfu.edu.cn/\" target=\"_self\">\\xe6\\x95\\x99\\xe5\\x8a\\xa1\\xe5\\xa4\\x84</a></li>\\n\\t\\t\\t\\t\\t\\t\\t\\t\\t\\t\\t\\t\\t\\t\\t\\t\\t\\t\\t\\t\\t\\t\\t\\t\\t\\t\\t\\t\\t\\t\\t\\t\\t\\t\\t\\t\\t\\t\\t\\t<li><a href=\"http://ky.nfu.edu.cn/\" target=\"_self\">\\xe7\\xa7\\x91\\xe7\\xa0\\x94\\xe5\\xa4\\x84</a></li>\\n\\t\\t\\t\\t\\t\\t\\t\\t\\t\\t\\t\\t\\t\\t\\t\\t\\t\\t\\t\\t\\t\\t\\t\\t\\t\\t\\t\\t\\t\\t\\t\\t\\t\\t\\t\\t\\t\\t\\t\\t<li><a href=\"../jxky/kyjg/index.htm\" target=\"_self\">\\xe7\\xa7\\x91\\xe7\\xa0\\x94\\xe6\\x9c\\xba\\xe6\\x9e\\x84</a></li>\\n\\t\\t\\t\\t\\t\\t\\t\\t\\t\\t\\t\\t\\t\\t\\t\\t\\t\\t\\t\\t\\t\\t\\t\\t\\t\\t\\t</ul>\\n\\t\\t\\t\\t\\t\\t\\t</div>\\n\\t\\t\\t\\t\\t\\t</div>\\n\\t\\t\\t\\t\\t</li>\\n\\t\\t\\t\\t\\t\\t\\t\\t\\t\\t\\t\\t\\t\\t\\t\\t\\t\\t\\t\\t<li class=\"lin-navli\">\\n\\t\\t\\t\\t\\t\\t<a href=\"../zsjy/index.htm\" target=\"_blank\">\\xe6\\x8b\\x9b\\xe7\\x94\\x9f\\xe5\\xb0\\xb1\\xe4\\xb8\\x9a</a>\\n\\t\\t\\t\\t\\t\\t<div class=\"lin-navdiv\">\\n\\t\\t\\t\\t\\t\\t\\t<div class=\"sonnav-bg\">\\n\\t\\t\\t\\t\\t\\t\\t\\t<ul class=\"nav-conul clearfix\" style=\"padding-left: 99px;\">\\n\\t\\t\\t\\t\\t\\t\\t\\t\\t\\t\\t\\t\\t\\t\\t\\t\\t\\t\\t\\t\\t\\t\\t\\t\\t\\t\\t\\t\\t\\t<li><a href=\"http://zsb.nfu.edu.cn/\" target=\"_self\">\\xe6\\x9c\\xac\\xe7\\xa7\\x91\\xe6\\x8b\\x9b\\xe7\\x94\\x9f</a></li>\\n\\t\\t\\t\\t\\t\\t\\t\\t\\t\\t\\t\\t\\t\\t\\t\\t\\t\\t\\t\\t\\t\\t\\t\\t\\t\\t\\t\\t\\t\\t\\t\\t\\t\\t\\t\\t\\t\\t\\t\\t<li><a href=\"http://jx.nfu.edu.cn/\" target=\"_self\">\\xe7\\xbb\\xa7\\xe7\\xbb\\xad\\xe6\\x95\\x99\\xe8\\x82\\xb2</a></li>\\n\\t\\t\\t\\t\\t\\t\\t\\t\\t\\t\\t\\t\\t\\t\\t\\t\\t\\t\\t\\t\\t\\t\\t\\t\\t\\t\\t\\t\\t\\t\\t\\t\\t\\t\\t\\t\\t\\t\\t\\t<li><a href=\"../zsjy/jyfw/index.htm\" target=\"_self\">\\xe5\\xb0\\xb1\\xe4\\xb8\\x9a\\xe6\\x9c\\x8d\\xe5\\x8a\\xa1</a></li>\\n\\t\\t\\t\\t\\t\\t\\t\\t\\t\\t\\t\\t\\t\\t\\t\\t\\t\\t\\t\\t\\t\\t\\t\\t\\t\\t\\t</ul>\\n\\t\\t\\t\\t\\t\\t\\t</div>\\n\\t\\t\\t\\t\\t\\t</div>\\n\\t\\t\\t\\t\\t</li>\\n\\t\\t\\t\\t\\t\\t\\t\\t\\t\\t\\t\\t\\t\\t\\t\\t\\t\\t\\t\\t<li class=\"lin-navli\">\\n\\t\\t\\t\\t\\t\\t<a href=\"../tsg/index.htm\" target=\"_blank\">\\xe5\\x9b\\xbe\\xe4\\xb9\\xa6\\xe9\\xa6\\x86</a>\\n\\t\\t\\t\\t\\t\\t<div class=\"lin-navdiv\">\\n\\t\\t\\t\\t\\t\\t\\t<div class=\"sonnav-bg\">\\n\\t\\t\\t\\t\\t\\t\\t\\t<ul class=\"nav-conul clearfix\" style=\"padding-left: 99px;\">\\n\\t\\t\\t\\t\\t\\t\\t\\t\\t\\t\\t\\t\\t\\t\\t\\t\\t\\t\\t\\t\\t\\t\\t\\t\\t\\t\\t\\t\\t\\t<li><a href=\"http://lib.nfu.edu.cn/\" target=\"_self\">\\xe5\\x9b\\xbe\\xe4\\xb9\\xa6\\xe9\\xa6\\x86</a></li>\\n\\t\\t\\t\\t\\t\\t\\t\\t\\t\\t\\t\\t\\t\\t\\t\\t\\t\\t\\t\\t\\t\\t\\t\\t\\t\\t\\t\\t\\t\\t\\t\\t\\t\\t\\t\\t\\t\\t\\t\\t<li><a href=\"http://das.nfu.edu.cn/\" target=\"_self\">\\xe6\\xa1\\xa3\\xe6\\xa1\\x88\\xe5\\xae\\xa4</a></li>\\n\\t\\t\\t\\t\\t\\t\\t\\t\\t\\t\\t\\t\\t\\t\\t\\t\\t\\t\\t\\t\\t\\t\\t\\t\\t\\t\\t\\t\\t\\t\\t\\t\\t\\t\\t\\t\\t\\t\\t\\t\\n\\t\\t\\t\\t\\t\\t\\t\\t\\t\\t\\t\\t\\t\\t\\t\\t\\t\\t\\t\\t\\t\\t\\t\\t\\t\\t\\t</ul>\\n\\t\\t\\t\\t\\t\\t\\t</div>\\n\\t\\t\\t\\t\\t\\t</div>\\n\\t\\t\\t\\t\\t</li>\\n\\t\\t\\t\\t\\t\\t\\t\\t\\t\\t\\t\\t\\t\\t\\t\\t\\t\\t\\t\\t<li class=\"lin-navli\">\\n\\t\\t\\t\\t\\t\\t<a href=\"../hzjl/index.htm\" target=\"_blank\">\\xe5\\x90\\x88\\xe4\\xbd\\x9c\\xe4\\xba\\xa4\\xe6\\xb5\\x81</a>\\n\\t\\t\\t\\t\\t\\t<div class=\"lin-navdiv\">\\n\\t\\t\\t\\t\\t\\t\\t<div class=\"sonnav-bg\">\\n\\t\\t\\t\\t\\t\\t\\t\\t<ul class=\"nav-conul clearfix\" style=\"padding-left: 99px;\">\\n\\t\\t\\t\\t\\t\\t\\t\\t\\t\\t\\t\\t\\t\\t\\t\\t\\t\\t\\t\\t\\t\\t\\t\\t\\t\\t\\t\\t\\t\\t<li><a href=\"http://gj.nfu.edu.cn/\" target=\"_self\">\\xe5\\x9b\\xbd\\xe9\\x99\\x85\\xe4\\xba\\xa4\\xe6\\xb5\\x81</a></li>\\n\\t\\t\\t\\t\\t\\t\\t\\t\\t\\t\\t\\t\\t\\t\\t\\t\\t\\t\\t\\t\\t\\t\\t\\t\\t\\t\\t\\t\\t\\t\\t\\t\\t\\t\\t\\t\\t\\t\\t\\t<li><a href=\"http://gj.nfu.edu.cn/Home/Waishi/waishilist/class/1/p/1.html\" target=\"_self\">\\xe5\\xa4\\x96\\xe4\\xba\\x8b\\xe6\\x9c\\x8d\\xe5\\x8a\\xa1</a></li>\\n\\t\\t\\t\\t\\t\\t\\t\\t\\t\\t\\t\\t\\t\\t\\t\\t\\t\\t\\t\\t\\t\\t\\t\\t\\t\\t\\t\\t\\t\\t\\t\\t\\t\\t\\t\\t\\t\\t\\t\\t\\n\\t\\t\\t\\t\\t\\t\\t\\t\\t\\t\\t\\t\\t\\t\\t\\t\\t\\t\\t\\t\\t\\t\\t\\t\\t\\t\\t</ul>\\n\\t\\t\\t\\t\\t\\t\\t</div>\\n\\t\\t\\t\\t\\t\\t</div>\\n\\t\\t\\t\\t\\t</li>\\n\\t\\t\\t\\t\\t\\t\\t\\t\\t\\t\\t\\t\\t\\t\\t\\t\\t\\t\\t\\t<li class=\"lin-navli\">\\n\\t\\t\\t\\t\\t\\t<a href=\"../rczp/index.htm\" target=\"_blank\">\\xe4\\xba\\xba\\xe6\\x89\\x8d\\xe6\\x8b\\x9b\\xe8\\x81\\x98</a>\\n\\t\\t\\t\\t\\t\\t<div class=\"lin-navdiv\">\\n\\t\\t\\t\\t\\t\\t\\t<div class=\"sonnav-bg\">\\n\\t\\t\\t\\t\\t\\t\\t\\t<ul class=\"nav-conul clearfix\" style=\"padding-left: 99px;\">\\n\\t\\t\\t\\t\\t\\t\\t\\t\\t\\t\\t\\t\\t\\t\\t\\t\\t\\t\\t\\t\\t\\t\\t\\t\\t\\t\\t\\t\\t\\t<li><a href=\"../rczp/jsxl/index.htm\" target=\"_self\">\\xe6\\x95\\x99\\xe5\\xb8\\x88\\xe7\\xb3\\xbb\\xe5\\x88\\x97</a></li>\\n\\t\\t\\t\\t\\t\\t\\t\\t\\t\\t\\t\\t\\t\\t\\t\\t\\t\\t\\t\\t\\t\\t\\t\\t\\t\\t\\t\\t\\t\\t\\t\\t\\t\\t\\t\\t\\t\\t\\t\\t<li><a href=\"../rczp/glxl/index.htm\" target=\"_self\">\\xe7\\xae\\xa1\\xe7\\x90\\x86\\xe7\\xb3\\xbb\\xe5\\x88\\x97</a></li>\\n\\t\\t\\t\\t\\t\\t\\t\\t\\t\\t\\t\\t\\t\\t\\t\\t\\t\\t\\t\\t\\t\\t\\t\\t\\t\\t\\t</ul>\\n\\t\\t\\t\\t\\t\\t\\t</div>\\n\\t\\t\\t\\t\\t\\t</div>\\n\\t\\t\\t\\t\\t</li>\\n\\t\\t\\t\\t\\t\\t\\t\\t\\t\\t\\t\\t\\t\\t\\t\\t\\t\\t\\t\\t<li class=\"lin-navli\">\\n\\t\\t\\t\\t\\t\\t<a href=\"../zjnf/index.htm\" target=\"_blank\">\\xe8\\xb5\\xb0\\xe8\\xbf\\x9b\\xe5\\x8d\\x97\\xe6\\x96\\xb9</a>\\n\\t\\t\\t\\t\\t\\t<div class=\"lin-navdiv\">\\n\\t\\t\\t\\t\\t\\t\\t<div class=\"sonnav-bg\">\\n\\t\\t\\t\\t\\t\\t\\t\\t<ul class=\"nav-conul clearfix\" style=\"padding-left: 99px;\">\\n\\t\\t\\t\\t\\t\\t\\t\\t\\t\\t\\t\\t\\t\\t\\t\\t\\t\\t\\t\\t\\t\\t\\t\\t\\t\\t\\t\\t\\t\\t<li><a href=\"../zjnf/tsnf/index.htm\" target=\"_self\">\\xe5\\x9b\\xbe\\xe8\\xaf\\xb4\\xe5\\x8d\\x97\\xe6\\x96\\xb9</a></li>\\n\\t\\t\\t\\t\\t\\t\\t\\t\\t\\t\\t\\t\\t\\t\\t\\t\\t\\t\\t\\t\\t\\t\\t\\t\\t\\t\\t\\t\\t\\t\\t\\t\\t\\t\\t\\t\\t\\t\\t\\t<li><a href=\"../zjnf/shfw/index.htm\" target=\"_self\">\\xe7\\x94\\x9f\\xe6\\xb4\\xbb\\xe6\\x9c\\x8d\\xe5\\x8a\\xa1</a></li>\\n\\t\\t\\t\\t\\t\\t\\t\\t\\t\\t\\t\\t\\t\\t\\t\\t\\t\\t\\t\\t\\t\\t\\t\\t\\t\\t\\t\\t\\t\\t\\t\\t\\t\\t\\t\\t\\t\\t\\t\\t<li><a href=\"../zjnf/ylfw/index.htm\" target=\"_self\">\\xe5\\x8c\\xbb\\xe7\\x96\\x97\\xe6\\x9c\\x8d\\xe5\\x8a\\xa1</a></li>\\n\\t\\t\\t\\t\\t\\t\\t\\t\\t\\t\\t\\t\\t\\t\\t\\t\\t\\t\\t\\t\\t\\t\\t\\t\\t\\t\\t\\t\\t\\t\\t\\t\\t\\t\\t\\t\\t\\t\\t\\t<li><a href=\"../zjnf/xb/index.htm\" target=\"_self\">\\xe6\\xa0\\xa1\\xe6\\x8a\\xa5</a></li>\\n\\t\\t\\t\\t\\t\\t\\t\\t\\t\\t\\t\\t\\t\\t\\t\\t\\t\\t\\t\\t\\t\\t\\t\\t\\t\\t\\t\\t\\t\\t\\t\\t\\t\\t\\t\\t\\t\\t\\t\\t<li><a href=\"../zjnf/jtzy/index.htm\" target=\"_self\">\\xe4\\xba\\xa4\\xe9\\x80\\x9a\\xe6\\x8c\\x87\\xe5\\xbc\\x95</a></li>\\n\\t\\t\\t\\t\\t\\t\\t\\t\\t\\t\\t\\t\\t\\t\\t\\t\\t\\t\\t\\t\\t\\t\\t\\t\\t\\t\\t</ul>\\n\\t\\t\\t\\t\\t\\t\\t</div>\\n\\t\\t\\t\\t\\t\\t</div>\\n\\t\\t\\t\\t\\t</li>\\n\\t\\t\\t\\t\\t\\t\\t\\t\\t\\t\\t\\t\\t\\t\\t\\t\\t\\n\\t\\t\\t\\t</ul>\\n\\t\\t\\t\\t\\t\\t\\n\\t\\t\\t</div>\\n\\t\\t\\t<div class=\"lin-navbg\"></div>\\n\\n\\t<!--content-->\\n\\t<div class=\"lin-content\">\\n\\t\\t<div class=\"lin-neiye clearfix\">\\n\\t\\t\\t\\n<div class=\"list_left clearfix\">\\n\\t<div class=\"list_title\">\\xe5\\xad\\xa6\\xe6\\xa0\\xa1\\xe8\\xa6\\x81\\xe9\\x97\\xbb</div>\\n\\t<div class=\"list_con\">\\n\\t  <p class=\"nav-ny\">\\n\\t   <span> </span>\\n\\t   <span></span>\\n\\t   <span></span>\\n\\t\\t</p>\\n\\t\\t<ul class=\"list_ul\">\\n\\t\\t\\t\\t\\t\\t\\t\\t\\t\\t\\t\\t\\t\\t\\t\\t\\t\\t\\t\\t\\t\\t\\t\\t\\t\\t\\t\\t\\t\\t\\t\\t\\t\\t\\t\\t\\t\\t\\t\\t\\t\\t\\t\\t\\t\\t\\t\\t\\t\\t\\t\\t\\t\\t\\t\\t\\t\\t\\t\\t\\t\\t\\t\\t\\t\\t\\t\\t\\t\\t\\t\\t\\t\\t\\t\\t\\t\\t\\t\\t\\t\\t\\t\\t\\t\\t\\t\\t\\t\\t\\t\\t\\t\\t\\t\\t\\t\\t\\t\\t\\t\\t\\t\\t\\t\\t\\t\\t\\t\\t\\t\\t\\t\\t\\t\\t\\t\\t\\t\\t\\t\\t<li>\\n\\t\\t\\t\\t\\t\\t\\t\\t\\t\\t\\t\\t\\t<a href=\"index.htm\" class=\"current_in\">\\xe5\\xad\\xa6\\xe6\\xa0\\xa1\\xe8\\xa6\\x81\\xe9\\x97\\xbb<span class=\"yuan\"></span></a>\\n\\t\\t\\t\\t\\t\\t\\t\\t\\t\\t\\t  <ul class=\"in_ul\">\\n\\t\\t\\t\\t\\t  </ul>\\n\\t\\t\\t\\t\\t</li>\\n\\t\\t\\t\\t\\t\\t\\t\\t\\t\\t\\t\\t\\t\\t\\t\\t<li>\\n\\t\\t\\t\\t\\t\\t\\t\\t\\t\\t\\t\\t\\t<a href=\"../xydt/index.htm\">\\xe6\\xa0\\xa1\\xe5\\x9b\\xad\\xe5\\x8a\\xa8\\xe6\\x80\\x81<span class=\"yuan\"></span></a>\\n\\t\\t\\t\\t\\t\\t\\t\\t\\t\\t\\t  <ul class=\"in_ul\">\\n\\t\\t\\t\\t\\t  </ul>\\n\\t\\t\\t\\t\\t</li>\\n\\t\\t\\t\\t\\t\\t\\t\\t\\t\\t\\t\\t\\t\\t\\t\\t<li>\\n\\t\\t\\t\\t\\t\\t\\t\\t\\t\\t\\t\\t\\t<a href=\"../tzgg/index.htm\">\\xe9\\x80\\x9a\\xe7\\x9f\\xa5\\xe5\\x85\\xac\\xe5\\x91\\x8a<span class=\"yuan\"></span></a>\\n\\t\\t\\t\\t\\t\\t\\t\\t\\t\\t\\t  <ul class=\"in_ul\">\\n\\t\\t\\t\\t\\t  </ul>\\n\\t\\t\\t\\t\\t</li>\\n\\t\\t\\t\\t\\t\\t\\t\\t\\t\\t\\t\\t\\t\\t\\t\\t<li>\\n\\t\\t\\t\\t\\t\\t\\t\\t\\t\\t\\t\\t\\t<a href=\"../ztb/index.htm\">\\xe6\\x8b\\x9b\\xe6\\x8a\\x95\\xe6\\xa0\\x87<span class=\"yuan\"></span></a>\\n\\t\\t\\t\\t\\t\\t\\t\\t\\t\\t\\t  <ul class=\"in_ul\">\\n\\t\\t\\t\\t\\t  </ul>\\n\\t\\t\\t\\t\\t</li>\\n\\t\\t\\t\\t\\t\\t\\t\\t\\t\\t\\t\\t\\t\\t\\t\\t<li>\\n\\t\\t\\t\\t\\t\\t\\t\\t\\t\\t\\t\\t\\t<a href=\"../gjdt/index.htm\">\\xe9\\xab\\x98\\xe6\\x95\\x99\\xe5\\x8a\\xa8\\xe6\\x80\\x81<span class=\"yuan\"></span></a>\\n\\t\\t\\t\\t\\t\\t\\t\\t\\t\\t\\t  <ul class=\"in_ul\">\\n\\t\\t\\t\\t\\t  </ul>\\n\\t\\t\\t\\t\\t</li>\\n\\t\\t\\t\\t\\t\\t\\t\\t\\t\\t\\t\\t\\t\\t\\t\\t\\t\\t\\t\\t\\t\\t\\t\\t\\t\\t\\t\\t\\t\\t\\t\\t\\t\\t\\t\\t\\t\\t\\t\\t\\t\\t\\t\\t\\t\\t\\t\\t\\t\\t\\t\\t\\t\\t\\t\\t\\t\\t\\t\\t\\t\\t\\t\\t\\t\\t\\t\\t\\t\\t\\t\\t\\t\\t\\t\\t\\t\\t\\t\\t\\t\\t\\t\\t\\t\\t\\t\\t\\t\\t\\t\\t\\t\\t\\t\\t\\t\\t\\t\\t\\t\\t\\t\\t\\t\\t\\t\\t\\t\\t\\t\\t\\t\\t\\t\\t\\t\\t\\t\\t\\t\\t\\t\\t\\t\\t\\t\\t\\t\\t\\t\\t\\t\\t\\t\\t\\t\\t\\t\\t\\t\\t\\t\\t\\t\\t\\t\\t\\t\\t\\t\\t\\t\\t\\t\\t\\t\\t\\t\\t\\t\\t\\t\\t\\t\\t\\t\\t\\t\\t\\t\\t\\t\\t\\t\\t\\t\\t\\t\\t\\t\\t\\t\\t\\t\\t\\t\\t\\t\\t\\t\\t\\t\\t\\t\\t\\t\\t\\t\\t\\t\\t\\t\\t\\t\\t\\t\\t\\t\\t\\t\\t\\t\\t\\t\\t\\t\\t\\t\\t\\t\\t\\t\\t\\t\\t\\t\\t\\t\\t\\t\\t\\t\\t\\t\\t\\t\\t\\t\\t\\t\\t\\t\\t\\t\\t\\t\\t\\t\\t\\t\\t\\t\\t\\t\\t\\t\\t\\t\\t\\t\\t\\t\\t\\t\\t\\t\\t\\t<li>\\n\\t\\t\\t\\t\\t\\t\\t\\t\\t\\t\\t\\t\\t<a href=\"../qzzggcdjd100zn/index.htm\">\\xe5\\xba\\x86\\xe7\\xa5\\x9d\\xe4\\xb8\\xad\\xe5\\x9b\\xbd\\xe5\\x85\\xb1\\xe4\\xba\\xa7\\xe5\\x85\\x9a\\xe5\\xbb\\xba\\xe5\\x85\\x9a100\\xe5\\x91\\xa8\\xe5\\xb9\\xb4<span class=\"yuan\"></span></a>\\n\\t\\t\\t\\t\\t\\t\\t\\t\\t\\t\\t  <ul class=\"in_ul\">\\n\\t\\t\\t\\t\\t  </ul>\\n\\t\\t\\t\\t\\t</li>\\n\\t\\t\\t\\t\\t\\t\\t\\t\\t\\t\\t\\t\\t\\t\\t\\t<li>\\n\\t\\t\\t\\t\\t\\t\\t\\t\\t\\t\\t\\t\\t<a href=\"../zggcddsxxjy/index.htm\">\\xe4\\xb8\\xad\\xe5\\x9b\\xbd\\xe5\\x85\\xb1\\xe4\\xba\\xa7\\xe5\\x85\\x9a\\xe5\\x85\\x9a\\xe5\\x8f\\xb2\\xe5\\xad\\xa6\\xe4\\xb9\\xa0\\xe6\\x95\\x99\\xe8\\x82\\xb2<span class=\"yuan\"></span></a>\\n\\t\\t\\t\\t\\t\\t\\t\\t\\t\\t\\t  <ul class=\"in_ul\">\\n\\t\\t\\t\\t\\t  </ul>\\n\\t\\t\\t\\t\\t</li>\\n\\t\\t\\t\\t\\t\\t\\t\\t\\t\\t\\t\\t\\t\\t\\t\\t\\t\\t\\t\\t\\t\\t\\t\\t\\t\\t\\t\\t\\t\\t\\t</ul>\\n\\t</div>\\n</div>\\t\\t\\t<div class=\"list_right\">\\n\\t\\t\\t\\t<div class=\"fan clearfix\">\\n\\t\\t\\t\\t\\t<span class=\"fan_title\">\\xe5\\xad\\xa6\\xe6\\xa0\\xa1\\xe8\\xa6\\x81\\xe9\\x97\\xbb</span>\\n\\t\\t\\t\\t\\t<span class=\"fan_right\">\\xe6\\x82\\xa8\\xe5\\xbd\\x93\\xe5\\x89\\x8d\\xe4\\xbd\\x8d\\xe7\\xbd\\xae\\xe6\\x98\\xaf\\xef\\xbc\\x9a                 <a href=\"../index.htm\">\\xe7\\xbd\\x91\\xe7\\xab\\x99\\xe9\\xa6\\x96\\xe9\\xa1\\xb5</a> > \\n        <font>\\xe5\\xad\\xa6\\xe6\\xa0\\xa1\\xe8\\xa6\\x81\\xe9\\x97\\xbb</font>\\n\\t\\t\\t\\t</div>\\n\\t\\t\\t\\t<div class=\"ny_content\">\\n\\t\\t\\t\\t\\t<ul class=\"list-ul\">\\n\\t\\t\\t\\t\\t\\t\\t\\t\\t\\t\\t\\t\\t<li>\\n\\t\\t\\t\\t\\t\\t\\t\\t<font class=\"right-more\">2023-09-13</font>\\n\\t\\t\\t\\t\\t\\t\\t\\t<div class=\"news_title\">\\n\\t\\t\\t\\t\\t\\t\\t\\t\\t<a href=\"a8d4f0d2c2d7410ebf668eb88e0fec03.htm\" title=\"\\xe9\\x9b\\x86\\xe5\\x90\\x88\\xef\\xbc\\x81\\xe5\\x86\\x9b\\xe8\\xae\\xad\\xe5\\xbc\\x80\\xe8\\x90\\xa5\\xef\\xbc\\x81\">            \\xe9\\x9b\\x86\\xe5\\x90\\x88\\xef\\xbc\\x81\\xe5\\x86\\x9b\\xe8\\xae\\xad\\xe5\\xbc\\x80\\xe8\\x90\\xa5\\xef\\xbc\\x81 \\n    </a>\\n\\t\\t\\t\\t\\t\\t\\t\\t</div>\\n\\t\\t\\t\\t\\t\\t\\t</li>\\n\\t\\t\\t\\t\\t\\t\\t\\t\\t\\t\\t\\t\\t<li>\\n\\t\\t\\t\\t\\t\\t\\t\\t<font class=\"right-more\">2023-09-12</font>\\n\\t\\t\\t\\t\\t\\t\\t\\t<div class=\"news_title\">\\n\\t\\t\\t\\t\\t\\t\\t\\t\\t<a href=\"9d85c517440d4128a0e1a7bc1a4a9f1b.htm\" title=\"\\xe5\\x8e\\x9a\\xe5\\xbe\\xb7\\xe5\\x92\\x8c\\xe5\\x90\\x88&#xff0c;\\xe4\\xbc\\xa0\\xe6\\x89\\xbf\\xe5\\x88\\x9b\\xe6\\x96\\xb0&#xff01;\\xe4\\xb8\\xad\\xe5\\x8c\\xbb\\xe8\\x8d\\xaf\\xe5\\x81\\xa5\\xe5\\xba\\xb7\\xe5\\xad\\xa6\\xe9\\x99\\xa22023\\xe7\\xba\\xa7\\xe6\\x96\\xb0\\xe7\\x94\\x9f\\xe5\\xbc\\x80\\xe5\\xad\\xa6\\xe5\\x85\\xb8\\xe7\\xa4\\xbc\\xe6\\x9a\\xa8\\xe9\\xa6\\x96\\xe5\\xb1\\x8a\\xe7\\xb4\\xab\\xe5\\x92\\x8c\\xe7\\x8f\\xad\\xe5\\xbc\\x80\\xe7\\x8f\\xad\\xe4\\xbb\\xaa\\xe5\\xbc\\x8f\\xe9\\x9a\\x86\\xe9\\x87\\x8d\\xe4\\xb8\\xbe\\xe8\\xa1\\x8c\">            \\xe5\\x8e\\x9a\\xe5\\xbe\\xb7\\xe5\\x92\\x8c\\xe5\\x90\\x88&#xff0c;\\xe4\\xbc\\xa0\\xe6\\x89\\xbf\\xe5\\x88\\x9b\\xe6\\x96\\xb0&#xff01;\\xe4\\xb8\\xad\\xe5\\x8c\\xbb\\xe8\\x8d\\xaf\\xe5\\x81\\xa5\\xe5\\xba\\xb7\\xe5\\xad\\xa6\\xe9\\x99\\xa22023\\xe7\\xba\\xa7\\xe6\\x96\\xb0\\xe7\\x94\\x9f\\xe5\\xbc\\x80\\xe5\\xad\\xa6\\xe5\\x85\\xb8\\xe7\\xa4\\xbc\\xe6\\x9a\\xa8\\xe9\\xa6\\x96\\xe5\\xb1\\x8a... \\n    </a>\\n\\t\\t\\t\\t\\t\\t\\t\\t</div>\\n\\t\\t\\t\\t\\t\\t\\t</li>\\n\\t\\t\\t\\t\\t\\t\\t\\t\\t\\t\\t\\t\\t<li>\\n\\t\\t\\t\\t\\t\\t\\t\\t<font class=\"right-more\">2023-09-11</font>\\n\\t\\t\\t\\t\\t\\t\\t\\t<div class=\"news_title\">\\n\\t\\t\\t\\t\\t\\t\\t\\t\\t<a href=\"92c408c6529d4d26a723d841d6485a1e.htm\" title=\"\\xe6\\x96\\xb0\\xe5\\xad\\xa6\\xe6\\x9c\\x9f\\xef\\xbc\\x8c\\xe4\\xbb\\xa5\\xe4\\xb8\\x80\\xe5\\x9c\\xba\\xe7\\xa0\\x94\\xe8\\xae\\xa8\\xe4\\xbc\\x9a\\xe6\\x8b\\x89\\xe5\\xbc\\x80\\xe5\\xba\\x8f\\xe5\\xb9\\x95\\xef\\xbc\\x81\">            \\xe6\\x96\\xb0\\xe5\\xad\\xa6\\xe6\\x9c\\x9f\\xef\\xbc\\x8c\\xe4\\xbb\\xa5\\xe4\\xb8\\x80\\xe5\\x9c\\xba\\xe7\\xa0\\x94\\xe8\\xae\\xa8\\xe4\\xbc\\x9a\\xe6\\x8b\\x89\\xe5\\xbc\\x80\\xe5\\xba\\x8f\\xe5\\xb9\\x95\\xef\\xbc\\x81 \\n    </a>\\n\\t\\t\\t\\t\\t\\t\\t\\t</div>\\n\\t\\t\\t\\t\\t\\t\\t</li>\\n\\t\\t\\t\\t\\t\\t\\t\\t\\t\\t\\t\\t\\t<li>\\n\\t\\t\\t\\t\\t\\t\\t\\t<font class=\"right-more\">2023-09-06</font>\\n\\t\\t\\t\\t\\t\\t\\t\\t<div class=\"news_title\">\\n\\t\\t\\t\\t\\t\\t\\t\\t\\t<a href=\"3bc00a4927fc4398a5bd552a7fb2ae0e.htm\" title=\"\\xe6\\x88\\x91\\xe6\\xa0\\xa1\\xe5\\xbc\\x80\\xe5\\xb1\\x952023\\xe5\\xb9\\xb4\\xe7\\xa7\\x8b\\xe5\\xad\\xa3\\xe5\\xad\\xa6\\xe6\\x9c\\x9f\\xe6\\x95\\x99\\xe5\\xad\\xa6\\xe6\\xa3\\x80\\xe6\\x9f\\xa5\\xe5\\xb7\\xa5\\xe4\\xbd\\x9c\">            \\xe6\\x88\\x91\\xe6\\xa0\\xa1\\xe5\\xbc\\x80\\xe5\\xb1\\x952023\\xe5\\xb9\\xb4\\xe7\\xa7\\x8b\\xe5\\xad\\xa3\\xe5\\xad\\xa6\\xe6\\x9c\\x9f\\xe6\\x95\\x99\\xe5\\xad\\xa6\\xe6\\xa3\\x80\\xe6\\x9f\\xa5\\xe5\\xb7\\xa5\\xe4\\xbd\\x9c \\n    </a>\\n\\t\\t\\t\\t\\t\\t\\t\\t</div>\\n\\t\\t\\t\\t\\t\\t\\t</li>\\n\\t\\t\\t\\t\\t\\t\\t\\t\\t\\t\\t\\t\\t<li>\\n\\t\\t\\t\\t\\t\\t\\t\\t<font class=\"right-more\">2023-09-10</font>\\n\\t\\t\\t\\t\\t\\t\\t\\t<div class=\"news_title\">\\n\\t\\t\\t\\t\\t\\t\\t\\t\\t<a href=\"53dd98b1eb6c4d7f8def44592e519c45.htm\" title=\"\\xe8\\xba\\xac\\xe8\\x80\\x95\\xe6\\x95\\x99\\xe5\\x9d\\x9b&#xff0c;\\xe5\\xbc\\xba\\xe5\\x9b\\xbd\\xe6\\x9c\\x89\\xe6\\x88\\x91\\xe2\\x80\\x94\\xe2\\x80\\x94\\xe6\\x88\\x91\\xe6\\xa0\\xa1\\xe5\\xbc\\x80\\xe5\\xb1\\x95\\xe5\\xba\\x86\\xe7\\xa5\\x9d2023\\xe5\\xb9\\xb4\\xe6\\x95\\x99\\xe5\\xb8\\x88\\xe8\\x8a\\x82\\xe6\\x9a\\xa8\\xe5\\xb8\\x88\\xe5\\xbe\\xb7\\xe5\\xbb\\xba\\xe8\\xae\\xbe\\xe4\\xb8\\xbb\\xe9\\xa2\\x98\\xe6\\x95\\x99\\xe8\\x82\\xb2\\xe6\\x9c\\x88\\xe7\\xb3\\xbb\\xe5\\x88\\x97\\xe6\\xb4\\xbb\\xe5\\x8a\\xa8\">            \\xe8\\xba\\xac\\xe8\\x80\\x95\\xe6\\x95\\x99\\xe5\\x9d\\x9b&#xff0c;\\xe5\\xbc\\xba\\xe5\\x9b\\xbd\\xe6\\x9c\\x89\\xe6\\x88\\x91\\xe2\\x80\\x94\\xe2\\x80\\x94\\xe6\\x88\\x91\\xe6\\xa0\\xa1\\xe5\\xbc\\x80\\xe5\\xb1\\x95\\xe5\\xba\\x86\\xe7\\xa5\\x9d2023\\xe5\\xb9\\xb4\\xe6\\x95\\x99\\xe5\\xb8\\x88\\xe8\\x8a\\x82\\xe6\\x9a\\xa8\\xe5\\xb8\\x88\\xe5\\xbe\\xb7\\xe5\\xbb\\xba\\xe8\\xae\\xbe\\xe4\\xb8\\xbb\\xe9\\xa2\\x98\\xe6\\x95\\x99\\xe8\\x82\\xb2\\xe6\\x9c\\x88\\xe7\\xb3\\xbb\\xe5\\x88\\x97\\xe6\\xb4\\xbb... \\n    </a>\\n\\t\\t\\t\\t\\t\\t\\t\\t</div>\\n\\t\\t\\t\\t\\t\\t\\t</li>\\n\\t\\t\\t\\t\\t\\t\\t\\t\\t\\t\\t\\t\\t<li>\\n\\t\\t\\t\\t\\t\\t\\t\\t<font class=\"right-more\">2023-09-10</font>\\n\\t\\t\\t\\t\\t\\t\\t\\t<div class=\"news_title\">\\n\\t\\t\\t\\t\\t\\t\\t\\t\\t<a href=\"d2163668db974ea596874c63d1bb7776.htm\" title=\"\\xe6\\x9d\\xa5\\xe8\\x87\\xaa\\xe6\\xa0\\xa1\\xe9\\x95\\xbf\\xe3\\x80\\x81\\xe4\\xb9\\xa6\\xe8\\xae\\xb0\\xe7\\x9a\\x84\\xe8\\x8a\\x82\\xe6\\x97\\xa5\\xe9\\x97\\xae\\xe5\\x80\\x99\">            \\xe6\\x9d\\xa5\\xe8\\x87\\xaa\\xe6\\xa0\\xa1\\xe9\\x95\\xbf\\xe3\\x80\\x81\\xe4\\xb9\\xa6\\xe8\\xae\\xb0\\xe7\\x9a\\x84\\xe8\\x8a\\x82\\xe6\\x97\\xa5\\xe9\\x97\\xae\\xe5\\x80\\x99 \\n    </a>\\n\\t\\t\\t\\t\\t\\t\\t\\t</div>\\n\\t\\t\\t\\t\\t\\t\\t</li>\\n\\t\\t\\t\\t\\t\\t\\t\\t\\t\\t\\t\\t\\t<li>\\n\\t\\t\\t\\t\\t\\t\\t\\t<font class=\"right-more\">2023-09-06</font>\\n\\t\\t\\t\\t\\t\\t\\t\\t<div class=\"news_title\">\\n\\t\\t\\t\\t\\t\\t\\t\\t\\t<a href=\"df632618d31b40798bf71b8ea2d103ca.htm\" title=\"\\xe4\\xbb\\x8e\\xe5\\x8c\\x96\\xe5\\x8c\\xba\\xe5\\x89\\xaf\\xe5\\x8c\\xba\\xe9\\x95\\xbf\\xe3\\x80\\x81\\xe5\\x8c\\xba\\xe5\\x85\\xac\\xe5\\xae\\x89\\xe5\\x88\\x86\\xe5\\xb1\\x80\\xe5\\xb1\\x80\\xe9\\x95\\xbf\\xe9\\x99\\x88\\xe8\\x88\\xaa\\xe4\\xb8\\x80\\xe8\\xa1\\x8c\\xe8\\x8e\\x85\\xe4\\xb8\\xb4\\xe6\\x88\\x91\\xe6\\xa0\\xa1\\xe5\\xbc\\x80\\xe5\\xb1\\x95\\xe9\\xa3\\x9f\\xe5\\x93\\x81\\xe5\\xae\\x89\\xe5\\x85\\xa8\\xe2\\x80\\x9c\\xe4\\xb8\\xa4\\xe4\\xb8\\xaa\\xe8\\xb4\\xa3\\xe4\\xbb\\xbb\\xe2\\x80\\x9d\\xe5\\x8c\\x85\\xe4\\xbf\\x9d\\xe7\\x9d\\xa3\\xe5\\xaf\\xbc\">            \\xe4\\xbb\\x8e\\xe5\\x8c\\x96\\xe5\\x8c\\xba\\xe5\\x89\\xaf\\xe5\\x8c\\xba\\xe9\\x95\\xbf\\xe3\\x80\\x81\\xe5\\x8c\\xba\\xe5\\x85\\xac\\xe5\\xae\\x89\\xe5\\x88\\x86\\xe5\\xb1\\x80\\xe5\\xb1\\x80\\xe9\\x95\\xbf\\xe9\\x99\\x88\\xe8\\x88\\xaa\\xe4\\xb8\\x80\\xe8\\xa1\\x8c\\xe8\\x8e\\x85\\xe4\\xb8\\xb4\\xe6\\x88\\x91\\xe6\\xa0\\xa1\\xe5\\xbc\\x80\\xe5\\xb1\\x95\\xe9\\xa3\\x9f\\xe5\\x93\\x81\\xe5\\xae\\x89\\xe5\\x85\\xa8\\xe2\\x80\\x9c\\xe4\\xb8\\xa4\\xe4\\xb8\\xaa\\xe8\\xb4\\xa3\\xe4\\xbb\\xbb\\xe2\\x80\\x9d\\xe5\\x8c\\x85\\xe4\\xbf\\x9d\\xe7\\x9d\\xa3\\xe5\\xaf\\xbc \\n    </a>\\n\\t\\t\\t\\t\\t\\t\\t\\t</div>\\n\\t\\t\\t\\t\\t\\t\\t</li>\\n\\t\\t\\t\\t\\t\\t\\t\\t\\t\\t\\t\\t\\t<li>\\n\\t\\t\\t\\t\\t\\t\\t\\t<font class=\"right-more\">2023-09-06</font>\\n\\t\\t\\t\\t\\t\\t\\t\\t<div class=\"news_title\">\\n\\t\\t\\t\\t\\t\\t\\t\\t\\t<a href=\"4f75495fe0e94d378fbabb94fabba1bd.htm\" title=\"\\xe9\\xa6\\x96\\xe6\\x89\\xb9\\xe4\\xb8\\x8a\\xe7\\xba\\xbf&#xff01;\\xe6\\x88\\x91\\xe6\\xa0\\xa14\\xe9\\x97\\xa8\\xe8\\xaf\\xbe\\xe7\\xa8\\x8b\\xe7\\x99\\xbb\\xe9\\x99\\x86\\xe5\\x85\\xa8\\xe5\\x9b\\xbd\\xe9\\xab\\x98\\xe6\\xa0\\xa1\\xe8\\xaf\\xbe\\xe7\\xa8\\x8b\\xe6\\x80\\x9d\\xe6\\x94\\xbf\\xe6\\x95\\x99\\xe5\\xad\\xa6\\xe8\\xb5\\x84\\xe6\\xba\\x90\\xe6\\x9c\\x8d\\xe5\\x8a\\xa1\\xe5\\xb9\\xb3\\xe5\\x8f\\xb0\">            \\xe9\\xa6\\x96\\xe6\\x89\\xb9\\xe4\\xb8\\x8a\\xe7\\xba\\xbf&#xff01;\\xe6\\x88\\x91\\xe6\\xa0\\xa14\\xe9\\x97\\xa8\\xe8\\xaf\\xbe\\xe7\\xa8\\x8b\\xe7\\x99\\xbb\\xe9\\x99\\x86\\xe5\\x85\\xa8\\xe5\\x9b\\xbd\\xe9\\xab\\x98\\xe6\\xa0\\xa1\\xe8\\xaf\\xbe\\xe7\\xa8\\x8b\\xe6\\x80\\x9d\\xe6\\x94\\xbf\\xe6\\x95\\x99\\xe5\\xad\\xa6\\xe8\\xb5\\x84\\xe6\\xba\\x90\\xe6\\x9c\\x8d\\xe5\\x8a\\xa1\\xe5\\xb9\\xb3\\xe5\\x8f\\xb0 \\n    </a>\\n\\t\\t\\t\\t\\t\\t\\t\\t</div>\\n\\t\\t\\t\\t\\t\\t\\t</li>\\n\\t\\t\\t\\t\\t\\t\\t\\t\\t\\t\\t\\t\\t<li>\\n\\t\\t\\t\\t\\t\\t\\t\\t<font class=\"right-more\">2023-09-02</font>\\n\\t\\t\\t\\t\\t\\t\\t\\t<div class=\"news_title\">\\n\\t\\t\\t\\t\\t\\t\\t\\t\\t<a href=\"64d88d805cb24e29818796b5ed03bd84.htm\" title=\"\\xe6\\xac\\xa2\\xe8\\xbf\\x8e&#xff01;\\xe5\\x8d\\x97\\xe6\\x96\\xb9\\xe5\\xad\\xa6\\xe9\\x99\\xa2\\xe9\\xa6\\x96\\xe6\\x89\\xb9\\xe6\\x96\\xb0\\xe7\\x94\\x9f\\xe5\\xb7\\xb2\\xe5\\xb0\\xb1\\xe4\\xbd\\x8d&#xff01;\">            \\xe6\\xac\\xa2\\xe8\\xbf\\x8e&#xff01;\\xe5\\x8d\\x97\\xe6\\x96\\xb9\\xe5\\xad\\xa6\\xe9\\x99\\xa2\\xe9\\xa6\\x96\\xe6\\x89\\xb9\\xe6\\x96\\xb0\\xe7\\x94\\x9f\\xe5\\xb7\\xb2\\xe5\\xb0\\xb1\\xe4\\xbd\\x8d&#xff01; \\n    </a>\\n\\t\\t\\t\\t\\t\\t\\t\\t</div>\\n\\t\\t\\t\\t\\t\\t\\t</li>\\n\\t\\t\\t\\t\\t\\t\\t\\t\\t\\t\\t\\t\\t<li>\\n\\t\\t\\t\\t\\t\\t\\t\\t<font class=\"right-more\">2023-08-26</font>\\n\\t\\t\\t\\t\\t\\t\\t\\t<div class=\"news_title\">\\n\\t\\t\\t\\t\\t\\t\\t\\t\\t<a href=\"f2bf2742d7de4ce09be7082fef186869.htm\" title=\"\\xe6\\x88\\x91\\xe6\\xa0\\xa1\\xe6\\x95\\x99\\xe5\\xb8\\x88\\xe8\\x8e\\xb7\\xe2\\x80\\x9c\\xe7\\x9c\\x81\\xe9\\x95\\xbf\\xe6\\x9d\\xaf\\xe2\\x80\\x9d\\xe5\\xb7\\xa5\\xe4\\xb8\\x9a\\xe8\\xae\\xbe\\xe8\\xae\\xa1\\xe5\\xa4\\xa7\\xe8\\xb5\\x9b\\xe4\\xba\\x8c\\xe7\\xad\\x89\\xe5\\xa5\\x96\">            \\xe6\\x88\\x91\\xe6\\xa0\\xa1\\xe6\\x95\\x99\\xe5\\xb8\\x88\\xe8\\x8e\\xb7\\xe2\\x80\\x9c\\xe7\\x9c\\x81\\xe9\\x95\\xbf\\xe6\\x9d\\xaf\\xe2\\x80\\x9d\\xe5\\xb7\\xa5\\xe4\\xb8\\x9a\\xe8\\xae\\xbe\\xe8\\xae\\xa1\\xe5\\xa4\\xa7\\xe8\\xb5\\x9b\\xe4\\xba\\x8c\\xe7\\xad\\x89\\xe5\\xa5\\x96 \\n    </a>\\n\\t\\t\\t\\t\\t\\t\\t\\t</div>\\n\\t\\t\\t\\t\\t\\t\\t</li>\\n\\t\\t\\t\\t\\t\\t\\t\\t\\t\\t\\t\\t\\t<li>\\n\\t\\t\\t\\t\\t\\t\\t\\t<font class=\"right-more\">2023-08-19</font>\\n\\t\\t\\t\\t\\t\\t\\t\\t<div class=\"news_title\">\\n\\t\\t\\t\\t\\t\\t\\t\\t\\t<a href=\"a0b30b72b462428cb239e90fe175a9ce.htm\" title=\"\\xe6\\x88\\x91\\xe4\\xbb\\xac\\xe6\\x98\\xaf&#xff0c;\\xe5\\x85\\xa8\\xe5\\x9b\\xbd\\xe6\\x80\\xbb\\xe5\\x86\\xa0\\xe5\\x86\\x9b&#xff01;\">            \\xe6\\x88\\x91\\xe4\\xbb\\xac\\xe6\\x98\\xaf&#xff0c;\\xe5\\x85\\xa8\\xe5\\x9b\\xbd\\xe6\\x80\\xbb\\xe5\\x86\\xa0\\xe5\\x86\\x9b&#xff01; \\n    </a>\\n\\t\\t\\t\\t\\t\\t\\t\\t</div>\\n\\t\\t\\t\\t\\t\\t\\t</li>\\n\\t\\t\\t\\t\\t\\t\\t\\t\\t\\t\\t\\t\\t<li>\\n\\t\\t\\t\\t\\t\\t\\t\\t<font class=\"right-more\">2023-08-18</font>\\n\\t\\t\\t\\t\\t\\t\\t\\t<div class=\"news_title\">\\n\\t\\t\\t\\t\\t\\t\\t\\t\\t<a href=\"de6768f996eb44f4ad0c9bb169903e98.htm\" title=\"\\xe5\\x85\\xa8\\xe5\\x9b\\xbd\\xe4\\xba\\x8c\\xe7\\xad\\x89\\xe5\\xa5\\x96+3\\xef\\xbc\\x81\">            \\xe5\\x85\\xa8\\xe5\\x9b\\xbd\\xe4\\xba\\x8c\\xe7\\xad\\x89\\xe5\\xa5\\x96+3\\xef\\xbc\\x81 \\n    </a>\\n\\t\\t\\t\\t\\t\\t\\t\\t</div>\\n\\t\\t\\t\\t\\t\\t\\t</li>\\n\\t\\t\\t\\t\\t\\t\\t\\t\\t\\t\\t\\t\\t<li>\\n\\t\\t\\t\\t\\t\\t\\t\\t<font class=\"right-more\">2023-08-15</font>\\n\\t\\t\\t\\t\\t\\t\\t\\t<div class=\"news_title\">\\n\\t\\t\\t\\t\\t\\t\\t\\t\\t<a href=\"96267573495b4f66a490f2ba9ec3ea0c.htm\" title=\"\\xe6\\x88\\x91\\xe6\\xa0\\xa1\\xe8\\x8e\\xb7\\xe9\\x82\\x80\\xe5\\x8f\\x82\\xe5\\x8a\\xa0\\xe4\\xb8\\xad\\xe5\\x9b\\xbd\\xe6\\x8a\\x97\\xe7\\x99\\x8c\\xe5\\x8d\\x8f\\xe4\\xbc\\x9aCACA\\xe6\\x8c\\x87\\xe5\\x8d\\x97\\xe8\\xbf\\x9b\\xe6\\xa0\\xa1\\xe5\\x9b\\xad\\xe5\\xb7\\xa5\\xe4\\xbd\\x9c\\xe6\\x8e\\xa8\\xe5\\x8a\\xa8\\xe4\\xbc\\x9a&#xff08;\\xe5\\xb9\\xbf\\xe4\\xb8\\x9c\\xe7\\xab\\x99&#xff09;\">            \\xe6\\x88\\x91\\xe6\\xa0\\xa1\\xe8\\x8e\\xb7\\xe9\\x82\\x80\\xe5\\x8f\\x82\\xe5\\x8a\\xa0\\xe4\\xb8\\xad\\xe5\\x9b\\xbd\\xe6\\x8a\\x97\\xe7\\x99\\x8c\\xe5\\x8d\\x8f\\xe4\\xbc\\x9aCACA\\xe6\\x8c\\x87\\xe5\\x8d\\x97\\xe8\\xbf\\x9b\\xe6\\xa0\\xa1\\xe5\\x9b\\xad\\xe5\\xb7\\xa5\\xe4\\xbd\\x9c\\xe6\\x8e\\xa8\\xe5\\x8a\\xa8\\xe4\\xbc\\x9a&#xff08;\\xe5\\xb9\\xbf\\xe4\\xb8\\x9c\\xe7\\xab\\x99&#xff09; \\n    </a>\\n\\t\\t\\t\\t\\t\\t\\t\\t</div>\\n\\t\\t\\t\\t\\t\\t\\t</li>\\n\\t\\t\\t\\t\\t\\t\\t\\t\\t\\t\\t\\t\\t<li>\\n\\t\\t\\t\\t\\t\\t\\t\\t<font class=\"right-more\">2023-08-11</font>\\n\\t\\t\\t\\t\\t\\t\\t\\t<div class=\"news_title\">\\n\\t\\t\\t\\t\\t\\t\\t\\t\\t<a href=\"e37b88d9a4fd49b89a59af13f09246db.htm\" title=\"\\xe5\\xad\\xa6\\xe6\\xa0\\xa1\\xe5\\x8f\\xac\\xe5\\xbc\\x80\\xe5\\xad\\xa6\\xe7\\x94\\x9f\\xe5\\xae\\xbf\\xe8\\x88\\x8d\\xe6\\x94\\xb9\\xe9\\x80\\xa0\\xe5\\xb7\\xa5\\xe7\\xa8\\x8b\\xe8\\xbf\\x9b\\xe5\\xba\\xa6\\xe5\\x8d\\x8f\\xe8\\xb0\\x83\\xe4\\xbc\\x9a\\xe5\\xb9\\xb6\\xe6\\xa3\\x80\\xe6\\x9f\\xa5\\xe6\\x96\\xbd\\xe5\\xb7\\xa5\\xe7\\x8e\\xb0\\xe5\\x9c\\xba\">            \\xe5\\xad\\xa6\\xe6\\xa0\\xa1\\xe5\\x8f\\xac\\xe5\\xbc\\x80\\xe5\\xad\\xa6\\xe7\\x94\\x9f\\xe5\\xae\\xbf\\xe8\\x88\\x8d\\xe6\\x94\\xb9\\xe9\\x80\\xa0\\xe5\\xb7\\xa5\\xe7\\xa8\\x8b\\xe8\\xbf\\x9b\\xe5\\xba\\xa6\\xe5\\x8d\\x8f\\xe8\\xb0\\x83\\xe4\\xbc\\x9a\\xe5\\xb9\\xb6\\xe6\\xa3\\x80\\xe6\\x9f\\xa5\\xe6\\x96\\xbd\\xe5\\xb7\\xa5\\xe7\\x8e\\xb0\\xe5\\x9c\\xba \\n    </a>\\n\\t\\t\\t\\t\\t\\t\\t\\t</div>\\n\\t\\t\\t\\t\\t\\t\\t</li>\\n\\t\\t\\t\\t\\t\\t\\t\\t\\t\\t\\t\\t\\t<li>\\n\\t\\t\\t\\t\\t\\t\\t\\t<font class=\"right-more\">2023-08-11</font>\\n\\t\\t\\t\\t\\t\\t\\t\\t<div class=\"news_title\">\\n\\t\\t\\t\\t\\t\\t\\t\\t\\t<a href=\"7148917faf2f437abeaf225e966dd502.htm\" title=\"\\xe6\\x88\\x91\\xe6\\xa0\\xa1\\xe8\\x8e\\xb7800\\xe4\\xb8\\x87\\xe7\\x9c\\x81\\xe7\\xba\\xa7\\xe6\\xb0\\x91\\xe5\\x8a\\x9e\\xe6\\x95\\x99\\xe8\\x82\\xb2\\xe5\\x8f\\x91\\xe5\\xb1\\x95\\xe4\\xb8\\x93\\xe9\\xa1\\xb9\\xe8\\xb5\\x84\\xe9\\x87\\x91\\xe6\\x94\\xaf\\xe6\\x8c\\x81\">            \\xe6\\x88\\x91\\xe6\\xa0\\xa1\\xe8\\x8e\\xb7800\\xe4\\xb8\\x87\\xe7\\x9c\\x81\\xe7\\xba\\xa7\\xe6\\xb0\\x91\\xe5\\x8a\\x9e\\xe6\\x95\\x99\\xe8\\x82\\xb2\\xe5\\x8f\\x91\\xe5\\xb1\\x95\\xe4\\xb8\\x93\\xe9\\xa1\\xb9\\xe8\\xb5\\x84\\xe9\\x87\\x91\\xe6\\x94\\xaf\\xe6\\x8c\\x81 \\n    </a>\\n\\t\\t\\t\\t\\t\\t\\t\\t</div>\\n\\t\\t\\t\\t\\t\\t\\t</li>\\n\\t\\t\\t\\t\\t\\t\\t\\t\\t\\t\\t\\t\\t<li>\\n\\t\\t\\t\\t\\t\\t\\t\\t<font class=\"right-more\">2023-08-04</font>\\n\\t\\t\\t\\t\\t\\t\\t\\t<div class=\"news_title\">\\n\\t\\t\\t\\t\\t\\t\\t\\t\\t<a href=\"d6f0a1cedeac423fb6eda482d72c56ce.htm\" title=\"\\xe6\\x88\\x91\\xe6\\xa0\\xa1\\xe6\\x96\\xa9\\xe8\\x8e\\xb7\\xe5\\xa4\\x9a\\xe9\\xa1\\xb9\\xe7\\x9c\\x81\\xe6\\x95\\x99\\xe8\\x82\\xb2\\xe6\\x95\\x99\\xe5\\xad\\xa6\\xe4\\xbc\\x98\\xe7\\xa7\\x80\\xe6\\xa1\\x88\\xe4\\xbe\\x8b\">            \\xe6\\x88\\x91\\xe6\\xa0\\xa1\\xe6\\x96\\xa9\\xe8\\x8e\\xb7\\xe5\\xa4\\x9a\\xe9\\xa1\\xb9\\xe7\\x9c\\x81\\xe6\\x95\\x99\\xe8\\x82\\xb2\\xe6\\x95\\x99\\xe5\\xad\\xa6\\xe4\\xbc\\x98\\xe7\\xa7\\x80\\xe6\\xa1\\x88\\xe4\\xbe\\x8b \\n    </a>\\n\\t\\t\\t\\t\\t\\t\\t\\t</div>\\n\\t\\t\\t\\t\\t\\t\\t</li>\\n\\t\\t\\t\\t\\t\\t\\t\\t\\t\\t\\t\\t\\t<li>\\n\\t\\t\\t\\t\\t\\t\\t\\t<font class=\"right-more\">2023-07-21</font>\\n\\t\\t\\t\\t\\t\\t\\t\\t<div class=\"news_title\">\\n\\t\\t\\t\\t\\t\\t\\t\\t\\t<a href=\"0803663924a442588ee67bce4b9249be.htm\" title=\"\\xe6\\xa0\\xa1\\xe9\\xa2\\x86\\xe5\\xaf\\xbc\\xe5\\xb8\\xa6\\xe9\\x98\\x9f\\xe6\\xa3\\x80\\xe6\\x9f\\xa5\\xe6\\x8c\\x87\\xe5\\xaf\\xbc\\xe6\\xa0\\xa1\\xe5\\x9b\\xad\\xe5\\xae\\x89\\xe5\\x85\\xa8\\xe5\\xb7\\xa5\\xe4\\xbd\\x9c\\xe5\\xb9\\xb6\\xe8\\xb5\\xb0\\xe8\\xae\\xbf\\xe6\\x85\\xb0\\xe9\\x97\\xae\\xe7\\x95\\x99\\xe6\\xa0\\xa1\\xe5\\xb8\\x88\\xe7\\x94\\x9f\">            \\xe6\\xa0\\xa1\\xe9\\xa2\\x86\\xe5\\xaf\\xbc\\xe5\\xb8\\xa6\\xe9\\x98\\x9f\\xe6\\xa3\\x80\\xe6\\x9f\\xa5\\xe6\\x8c\\x87\\xe5\\xaf\\xbc\\xe6\\xa0\\xa1\\xe5\\x9b\\xad\\xe5\\xae\\x89\\xe5\\x85\\xa8\\xe5\\xb7\\xa5\\xe4\\xbd\\x9c\\xe5\\xb9\\xb6\\xe8\\xb5\\xb0\\xe8\\xae\\xbf\\xe6\\x85\\xb0\\xe9\\x97\\xae\\xe7\\x95\\x99\\xe6\\xa0\\xa1\\xe5\\xb8\\x88\\xe7\\x94\\x9f \\n    </a>\\n\\t\\t\\t\\t\\t\\t\\t\\t</div>\\n\\t\\t\\t\\t\\t\\t\\t</li>\\n\\t\\t\\t\\t\\t\\t\\t\\t\\t\\t\\t\\t\\t<li>\\n\\t\\t\\t\\t\\t\\t\\t\\t<font class=\"right-more\">2023-07-19</font>\\n\\t\\t\\t\\t\\t\\t\\t\\t<div class=\"news_title\">\\n\\t\\t\\t\\t\\t\\t\\t\\t\\t<a href=\"2ca11309128e42a58ed4f1c42be754d3.htm\" title=\"\\xe6\\x9a\\x91\\xe6\\x9c\\x9f\\xe8\\x8e\\xb7\\xe5\\xa5\\x96\\xe8\\xbf\\x9e\\xe8\\xbf\\x9e&#xff01;\\xe7\\xbb\\x99\\xe5\\x8d\\x97\\xe9\\x99\\xa2\\xe5\\xb8\\x88\\xe7\\x94\\x9f\\xe7\\x82\\xb9\\xe8\\xb5\\x9e&#xff01;\">            \\xe6\\x9a\\x91\\xe6\\x9c\\x9f\\xe8\\x8e\\xb7\\xe5\\xa5\\x96\\xe8\\xbf\\x9e\\xe8\\xbf\\x9e&#xff01;\\xe7\\xbb\\x99\\xe5\\x8d\\x97\\xe9\\x99\\xa2\\xe5\\xb8\\x88\\xe7\\x94\\x9f\\xe7\\x82\\xb9\\xe8\\xb5\\x9e&#xff01; \\n    </a>\\n\\t\\t\\t\\t\\t\\t\\t\\t</div>\\n\\t\\t\\t\\t\\t\\t\\t</li>\\n\\t\\t\\t\\t\\t\\t\\t\\t\\t\\t\\t\\t\\t<li>\\n\\t\\t\\t\\t\\t\\t\\t\\t<font class=\"right-more\">2023-07-18</font>\\n\\t\\t\\t\\t\\t\\t\\t\\t<div class=\"news_title\">\\n\\t\\t\\t\\t\\t\\t\\t\\t\\t<a href=\"c6c2ea21061e41eda1f5f27a8baf6cc2.htm\" title=\"\\xe6\\x88\\x91\\xe6\\xa0\\xa1\\xe5\\x8f\\x97\\xe9\\x82\\x80\\xe5\\x9c\\xa8\\xe5\\x85\\xa8\\xe5\\x9b\\xbd\\xe2\\x80\\x9c\\xe9\\xab\\x98\\xe7\\xad\\x89\\xe6\\x95\\x99\\xe8\\x82\\xb2\\xe6\\x95\\xb0\\xe5\\xad\\x97\\xe5\\x8f\\x98\\xe9\\x9d\\xa9\\xe4\\xb8\\x8e\\xe9\\x99\\xa2\\xe6\\xa0\\xa1\\xe7\\xa0\\x94\\xe7\\xa9\\xb6\\xe4\\xb8\\x93\\xe4\\xb8\\x9a\\xe5\\x8c\\x96\\xe2\\x80\\x9d\\xe5\\xad\\xa6\\xe6\\x9c\\xaf\\xe7\\xa0\\x94\\xe8\\xae\\xa8\\xe4\\xbc\\x9a\\xe4\\xb8\\x8a\\xe5\\x8f\\x91\\xe8\\xa8\\x80\">            \\xe6\\x88\\x91\\xe6\\xa0\\xa1\\xe5\\x8f\\x97\\xe9\\x82\\x80\\xe5\\x9c\\xa8\\xe5\\x85\\xa8\\xe5\\x9b\\xbd\\xe2\\x80\\x9c\\xe9\\xab\\x98\\xe7\\xad\\x89\\xe6\\x95\\x99\\xe8\\x82\\xb2\\xe6\\x95\\xb0\\xe5\\xad\\x97\\xe5\\x8f\\x98\\xe9\\x9d\\xa9\\xe4\\xb8\\x8e\\xe9\\x99\\xa2\\xe6\\xa0\\xa1\\xe7\\xa0\\x94\\xe7\\xa9\\xb6\\xe4\\xb8\\x93\\xe4\\xb8\\x9a\\xe5\\x8c\\x96\\xe2\\x80\\x9d\\xe5\\xad\\xa6\\xe6\\x9c\\xaf\\xe7\\xa0\\x94\\xe8\\xae\\xa8\\xe4\\xbc\\x9a\\xe4\\xb8\\x8a\\xe5\\x8f\\x91\\xe8\\xa8\\x80 \\n    </a>\\n\\t\\t\\t\\t\\t\\t\\t\\t</div>\\n\\t\\t\\t\\t\\t\\t\\t</li>\\n\\t\\t\\t\\t\\t\\t\\t\\t\\t\\t\\t\\t\\t<li>\\n\\t\\t\\t\\t\\t\\t\\t\\t<font class=\"right-more\">2023-07-15</font>\\n\\t\\t\\t\\t\\t\\t\\t\\t<div class=\"news_title\">\\n\\t\\t\\t\\t\\t\\t\\t\\t\\t<a href=\"fb7ac3185a354c3db858d063d2d46239.htm\" title=\"\\xe5\\x9b\\xbd\\xe6\\xa0\\x87\\xe9\\xa1\\xb9\\xe7\\x9b\\xae\\xe2\\x80\\x94\\xe2\\x80\\x94\\xe6\\x88\\x91\\xe6\\xa0\\xa1\\xe5\\x8f\\xac\\xe5\\xbc\\x80\\xe5\\x9b\\xbd\\xe5\\xae\\xb6\\xe6\\xa0\\x87\\xe5\\x87\\x86\\xe5\\xa7\\x94\\xe5\\xb9\\xbf\\xe4\\xb8\\x9c\\xe7\\xa4\\xbe\\xe4\\xbc\\x9a\\xe7\\xbb\\x84\\xe7\\xbb\\x87\\xe8\\x83\\xbd\\xe5\\x8a\\x9b\\xe5\\xbb\\xba\\xe8\\xae\\xbe\\xe6\\xa0\\x87\\xe5\\x87\\x86\\xe5\\x8c\\x96\\xe8\\xaf\\x95\\xe7\\x82\\xb9\\xe9\\xa1\\xb9\\xe7\\x9b\\xae\\xe5\\x90\\xaf\\xe5\\x8a\\xa8\\xe4\\xbc\\x9a\">            \\xe5\\x9b\\xbd\\xe6\\xa0\\x87\\xe9\\xa1\\xb9\\xe7\\x9b\\xae\\xe2\\x80\\x94\\xe2\\x80\\x94\\xe6\\x88\\x91\\xe6\\xa0\\xa1\\xe5\\x8f\\xac\\xe5\\xbc\\x80\\xe5\\x9b\\xbd\\xe5\\xae\\xb6\\xe6\\xa0\\x87\\xe5\\x87\\x86\\xe5\\xa7\\x94\\xe5\\xb9\\xbf\\xe4\\xb8\\x9c\\xe7\\xa4\\xbe\\xe4\\xbc\\x9a\\xe7\\xbb\\x84\\xe7\\xbb\\x87\\xe8\\x83\\xbd\\xe5\\x8a\\x9b\\xe5\\xbb\\xba\\xe8\\xae\\xbe\\xe6\\xa0\\x87\\xe5\\x87\\x86\\xe5\\x8c\\x96\\xe8\\xaf\\x95\\xe7\\x82\\xb9\\xe9\\xa1\\xb9\\xe7\\x9b\\xae\\xe5\\x90\\xaf\\xe5\\x8a\\xa8\\xe4\\xbc\\x9a \\n    </a>\\n\\t\\t\\t\\t\\t\\t\\t\\t</div>\\n\\t\\t\\t\\t\\t\\t\\t</li>\\n\\t\\t\\t\\t\\t\\t\\t\\t\\t\\t\\t</ul>\\n\\t\\t\\t\\t\\t\\t<div style=\"clear: both;\"></div>\\n\\t\\t\\t\\t\\t\\t\\n\\t<div class=\"pages\" align=\"center\">\\n  <div>\\n    \\t\\t    \\n    \\t\\t    \\t\\t    \\t\\t\\t\\t\\t\\t\\t<span class=\"current\">1</span>\\n\\t\\t\\t\\t\\t\\t\\t\\t\\t\\t\\t\\t<a class=\"num\" href=\"index1.htm\">2</a>\\n\\t\\t\\t\\t\\t\\t\\t\\t\\t\\t\\t\\t<a class=\"num\" href=\"index2.htm\">3</a>\\n\\t\\t\\t\\t\\t\\t\\t\\t\\t\\t\\t\\t<a class=\"num\" href=\"index3.htm\">4</a>\\n\\t\\t\\t\\t\\t\\t\\t\\t\\t\\t\\t\\t<a class=\"num\" href=\"index4.htm\">5</a>\\n\\t\\t\\t\\t\\t    \\t\\t\\t<a class=\"next\" href=\"index1.htm\">&gt;&gt;</a>\\n\\t\\t    \\t\\t\\t<a class=\"end\" href=\"index121.htm\">122</a>\\n\\t\\t  </div>\\n</div>\\n    </div></div>\\n\\t\\t\\t\\t</div>\\n\\t\\t\\t</div>\\n\\t\\t</div>\\n\\t</div>\\n\\t\\t<!-- end \\xe5\\x86\\x85\\xe5\\xae\\xb9\\xe5\\x8c\\xba\\xe5\\x9f\\x9f-->\\t\\n\\t\\t\\n\\t\\t<!--\\xe5\\xba\\x95\\xe9\\x83\\xa8-->\\n\\t\\t\\n<div class=\"lin-footer\">\\n\\t<div class=\"lin-fer clearfix\">\\n\\t\\t<div class=\"ferleft\">\\n\\t\\t\\t<ul class=\"fer-ul clearfix\">\\n\\t\\t\\t<li class=\"fer-li\">\\n\\t\\t\\t<a href=\"http://www.moe.gov.cn/\" target=\"_blank\" title=\"\\xe6\\x95\\x99\\xe8\\x82\\xb2\\xe9\\x83\\xa8\">            \\xe6\\x95\\x99\\xe8\\x82\\xb2\\xe9\\x83\\xa8 \\n    </a>\\n\\t\\t</li>\\n\\t\\t\\t<li class=\"fer-li\">\\n\\t\\t\\t<a href=\"http://edu.gd.gov.cn/\" target=\"_blank\" title=\"\\xe5\\xb9\\xbf\\xe4\\xb8\\x9c\\xe7\\x9c\\x81\\xe6\\x95\\x99\\xe8\\x82\\xb2\\xe5\\x8e\\x85\">            \\xe5\\xb9\\xbf\\xe4\\xb8\\x9c\\xe7\\x9c\\x81\\xe6\\x95\\x99\\xe8\\x82\\xb2\\xe5\\x8e\\x85 \\n    </a>\\n\\t\\t</li>\\n\\t\\t\\t<li class=\"fer-li\">\\n\\t\\t\\t<a href=\"http://www.sysu.edu.cn/2012/cn/index.htm\" target=\"_blank\" title=\"\\xe4\\xb8\\xad\\xe5\\xb1\\xb1\\xe5\\xa4\\xa7\\xe5\\xad\\xa6\">            \\xe4\\xb8\\xad\\xe5\\xb1\\xb1\\xe5\\xa4\\xa7\\xe5\\xad\\xa6 \\n    </a>\\n\\t\\t</li>\\n\\t</ul>\\n<ul class=\"fer-ul clearfix\">\\n\\t\\t\\t<li class=\"fer-li\">\\n\\t\\t\\t<a href=\"http://www.gz.gov.cn/\" target=\"_blank\" title=\"\\xe5\\xb9\\xbf\\xe5\\xb7\\x9e\\xe5\\xb8\\x82\\xe6\\x94\\xbf\\xe5\\xba\\x9c\">            \\xe5\\xb9\\xbf\\xe5\\xb7\\x9e\\xe5\\xb8\\x82\\xe6\\x94\\xbf\\xe5\\xba\\x9c \\n    </a>\\n\\t\\t</li>\\n\\t\\t\\t<li class=\"fer-li\">\\n\\t\\t\\t<a href=\"http://www.gdpr.com/\" target=\"_blank\" title=\"\\xe7\\x8f\\xa0\\xe6\\xb1\\x9f\\xe6\\x8a\\x95\\xe8\\xb5\\x84\">            \\xe7\\x8f\\xa0\\xe6\\xb1\\x9f\\xe6\\x8a\\x95\\xe8\\xb5\\x84 \\n    </a>\\n\\t\\t</li>\\n\\t\\t\\t<li class=\"fer-li\">\\n\\t\\t\\t<a href=\"http://www.gdmbjy.cn/\" target=\"_blank\" title=\"\\xe5\\xb9\\xbf\\xe4\\xb8\\x9c\\xe6\\xb0\\x91\\xe5\\x8a\\x9e\\xe6\\x95\\x99\\xe8\\x82\\xb2\\xe7\\xbd\\x91\">            \\xe5\\xb9\\xbf\\xe4\\xb8\\x9c\\xe6\\xb0\\x91\\xe5\\x8a\\x9e\\xe6\\x95\\x99\\xe8\\x82\\xb2\\xe7\\xbd\\x91 \\n    </a>\\n\\t\\t</li>\\n\\t</ul>\\n<ul class=\"fer-ul clearfix\">\\n\\t\\t\\t<li class=\"fer-li\">\\n\\t\\t\\t<a href=\"https://www.cnki.net/\" target=\"_blank\" title=\"\\xe4\\xb8\\xad\\xe5\\x9b\\xbd\\xe7\\x9f\\xa5\\xe7\\xbd\\x91\">            \\xe4\\xb8\\xad\\xe5\\x9b\\xbd\\xe7\\x9f\\xa5\\xe7\\xbd\\x91 \\n    </a>\\n\\t\\t</li>\\n\\t</ul>\\n\\t\\t</div>\\n\\t\\t<div class=\"fercen\">\\n\\t\\t\\t<div class=\"fer-er\">\\n\\t\\t\\t\\t<img src=\"../images/erweima1.jpg\">\\n\\t\\t\\t</div>\\n\\t\\t\\t<div class=\"fer-er\">\\n\\t\\t\\t\\t<img src=\"../images/erweima2.jpg\">\\n\\t\\t\\t</div>\\n\\t\\t</div>\\n\\t\\t<div class=\"ferright\">\\n\\t\\t\\t<div>\\n\\t\\t\\t\\t<p>\\n\\t\\t\\t\\t\\t<span>\\xe5\\x9c\\xb0\\xe5\\x9d\\x80\\xef\\xbc\\x9a\\xe5\\xb9\\xbf\\xe5\\xb7\\x9e\\xe5\\xb8\\x82\\xe4\\xbb\\x8e\\xe5\\x8c\\x96\\xe5\\x8c\\xba\\xe6\\xb8\\xa9\\xe6\\xb3\\x89\\xe5\\xa4\\xa7\\xe9\\x81\\x93882\\xe5\\x8f\\xb7\\xe5\\xb9\\xbf\\xe5\\xb7\\x9e\\xe5\\x8d\\x97\\xe6\\x96\\xb9\\xe5\\xad\\xa6\\xe9\\x99\\xa2</span>\\n\\t\\t\\t\\t\\t<span>\\xe9\\x82\\xae\\xe7\\xbc\\x96\\xef\\xbc\\x9a510970</span>\\n\\t\\t\\t\\t</p>\\n\\t\\t\\t</div>\\n\\t\\t\\t<div class=\"addleft\">\\n\\t\\t\\t\\t<p>\\xe8\\x81\\x94\\xe7\\xb3\\xbb\\xe7\\x94\\xb5\\xe8\\xaf\\x9d\\xef\\xbc\\x9a020-61787368<br><a href=\"../xcyx/index.htm\">\\xe6\\xa0\\xa1\\xe9\\x95\\xbf\\xe9\\x82\\xae\\xe7\\xae\\xb1</a></p>\\n\\t\\t\\t\\t<p>\\xe7\\x89\\x88\\xe6\\x9d\\x83\\xe6\\x89\\x80\\xe6\\x9c\\x89 \\xc2\\xa9  \\xe5\\xb9\\xbf\\xe5\\xb7\\x9e\\xe5\\x8d\\x97\\xe6\\x96\\xb9\\xe5\\xad\\xa6\\xe9\\x99\\xa2</p>\\n\\t\\t\\t\\t<p>\\xe6\\x8a\\x80\\xe6\\x9c\\xaf\\xe6\\x94\\xaf\\xe6\\x8c\\x81\\xef\\xbc\\x9a<a href=\"https://www.gpowersoft.com/\" target=\"_blank\">Gpower \\xe9\\x80\\x9a\\xe5\\x85\\x83\\xe8\\xbd\\xaf\\xe4\\xbb\\xb6</a>\\n\\t\\t\\t\\t</p>\\n\\t\\t\\t</div>\\n\\t\\t\\t<div class=\"addright\">\\n\\t\\t\\t\\t<p>\\xe6\\x8b\\x9b\\xe7\\x94\\x9f\\xe5\\x92\\xa8\\xe8\\xaf\\xa2\\xef\\xbc\\x9a020-22326212<br><a href=\"../dshyx/index.htm\" target=\"_blank\">\\xe8\\x91\\xa3\\xe4\\xba\\x8b\\xe9\\x95\\xbf\\xe9\\x82\\xae\\xe7\\xae\\xb1</a></p> \\n\\t\\t\\t\\t<p>\\n\\t\\t\\t\\t\\t<span class=\"add-spante\">\\n\\t\\t\\t\\t\\t\\t<a target=\"_blank\" href=\"https://beian.miit.gov.cn/\">\\xe7\\xb2\\xa4ICP\\xe5\\xa4\\x8711077779\\xe5\\x8f\\xb7</a>\\n\\t\\t\\t\\t\\t</span> \\n\\t\\t\\t\\t\\t<span class=\"add-spante\">\\n\\t\\t\\t\\t\\t\\t<!--<a href=\"http://tycms.nfu.edu.cn/cms/main\" target=\"_blank\">\\xe7\\xbd\\x91\\xe7\\xab\\x99\\xe7\\xae\\xa1\\xe7\\x90\\x86</a>&nbsp;&nbsp;\\n\\t\\t\\t\\t\\t\\t<a href=\"http://old.nfu.edu.cn/\" target=\"_blank\">\\xe6\\x97\\xa7\\xe7\\xab\\x99\\xe5\\x85\\xa5\\xe5\\x8f\\xa3</a>-->\\n\\n\\t\\t\\t\\t\\t</span>\\n\\t\\t\\t\\t</p>\\n\\t\\t\\t\\t\\n\\t\\t\\t</div>\\n\\t\\t</div>\\n\\t\\t\\n\\t\\t<div align=\"center\">\\n\\t\\t\\t<a target=\"_blank\" href=\"http://www.beian.gov.cn/portal/registerSystemInfo?recordcode=44011702000081\" style=\"display:inline-block;text-decoration:none;height:20px;line-height:20px;\">\\n\\t\\t\\t\\t<img src=\"../images/icp.png\" style=\"float:left;\">\\n\\t\\t\\t\\t<p style=\"float:left;height:20px;line-height:20px;margin: 0px 0px 0px 5px; color:#ffffff;\">\\xe7\\xb2\\xa4\\xe5\\x85\\xac\\xe7\\xbd\\x91\\xe5\\xae\\x89\\xe5\\xa4\\x87 44011702000081\\xe5\\x8f\\xb7</p>\\n\\t\\t\\t</a>\\n\\t\\t</div>\\n\\t</div>\\n</div>\\t\\t<!-- end \\xe5\\xba\\x95\\xe9\\x83\\xa8-->\\n\\n\\t\\t<script type=\"text/javascript\" language=\"javascript\">\\n\\t\\t\\t\\n    //\\xe5\\x8a\\xa0\\xe5\\x85\\xa5\\xe6\\x94\\xb6\\xe8\\x97\\x8f\\n    \\n    function AddFavorite(sURL, sTitle) {\\n    \\t\\n    \\tsURL = encodeURI(sURL); \\n    \\ttry{   \\n    \\t\\t\\n    \\t\\twindow.external.addFavorite(sURL, sTitle);   \\n    \\t\\t\\n    \\t}catch(e) {   \\n    \\t\\t\\n    \\t\\ttry{   \\n    \\t\\t\\t\\n    \\t\\t\\twindow.sidebar.addPanel(sTitle, sURL, \"\");   \\n    \\t\\t\\t\\n    \\t\\t}catch (e) {   \\n    \\t\\t\\t\\n    \\t\\t\\talert(\"\\xe5\\x8a\\xa0\\xe5\\x85\\xa5\\xe6\\x94\\xb6\\xe8\\x97\\x8f\\xe5\\xa4\\xb1\\xe8\\xb4\\xa5\\xef\\xbc\\x8c\\xe8\\xaf\\xb7\\xe4\\xbd\\xbf\\xe7\\x94\\xa8Ctrl+D\\xe8\\xbf\\x9b\\xe8\\xa1\\x8c\\xe6\\xb7\\xbb\\xe5\\x8a\\xa0,\\xe6\\x88\\x96\\xe6\\x89\\x8b\\xe5\\x8a\\xa8\\xe5\\x9c\\xa8\\xe6\\xb5\\x8f\\xe8\\xa7\\x88\\xe5\\x99\\xa8\\xe9\\x87\\x8c\\xe8\\xbf\\x9b\\xe8\\xa1\\x8c\\xe8\\xae\\xbe\\xe7\\xbd\\xae.\");\\n    \\t\\t\\t\\n    \\t\\t}   \\n    \\t\\t\\n    \\t}\\n    \\t\\n    }\\n    \\n    //\\xe8\\xae\\xbe\\xe4\\xb8\\xba\\xe9\\xa6\\x96\\xe9\\xa1\\xb5\\n    \\n    function SetHome(url){\\n    \\t\\n    \\tif (document.all) {\\n    \\t\\t\\n    \\t\\tdocument.body.style.behavior=\\'url(#default#homepage)\\';\\n    \\t\\t\\n    \\t\\tdocument.body.setHomePage(url);\\n    \\t\\t\\n    \\t}else{\\n    \\t\\t\\n    \\t\\talert(\"\\xe6\\x82\\xa8\\xe5\\xa5\\xbd,\\xe6\\x82\\xa8\\xe7\\x9a\\x84\\xe6\\xb5\\x8f\\xe8\\xa7\\x88\\xe5\\x99\\xa8\\xe4\\xb8\\x8d\\xe6\\x94\\xaf\\xe6\\x8c\\x81\\xe8\\x87\\xaa\\xe5\\x8a\\xa8\\xe8\\xae\\xbe\\xe7\\xbd\\xae\\xe9\\xa1\\xb5\\xe9\\x9d\\xa2\\xe4\\xb8\\xba\\xe9\\xa6\\x96\\xe9\\xa1\\xb5\\xe5\\x8a\\x9f\\xe8\\x83\\xbd,\\xe8\\xaf\\xb7\\xe6\\x82\\xa8\\xe6\\x89\\x8b\\xe5\\x8a\\xa8\\xe5\\x9c\\xa8\\xe6\\xb5\\x8f\\xe8\\xa7\\x88\\xe5\\x99\\xa8\\xe9\\x87\\x8c\\xe8\\xae\\xbe\\xe7\\xbd\\xae\\xe8\\xaf\\xa5\\xe9\\xa1\\xb5\\xe9\\x9d\\xa2\\xe4\\xb8\\xba\\xe9\\xa6\\x96\\xe9\\xa1\\xb5!\");\\n    \\t\\t\\n    \\t}\\n    \\t\\n    }\\n    \\n</script>\\n\\n\\n\\n</body></html><script type=\\'text/javascript\\' src=\\'../g_style/g_list.js\\'></script>\\n</body></html>'"
     },
     "execution_count": 17,
     "metadata": {},
     "output_type": "execute_result"
    }
   ],
   "source": [
    "r.content"
   ],
   "metadata": {
    "collapsed": false
   }
  },
  {
   "cell_type": "code",
   "execution_count": 18,
   "outputs": [
    {
     "data": {
      "text/plain": "{'../dshyx/index.htm',\n '../gjdt/index.htm',\n '../hzjl/index.htm',\n '../index.htm',\n '../jgsz/cswyh/index.htm',\n '../jgsz/gljg/index.htm',\n '../jgsz/index.htm',\n '../jgsz/yxsz/index.htm',\n '../jxky/index.htm',\n '../jxky/kyjg/index.htm',\n '../qzzggcdjd100zn/index.htm',\n '../rcpy/bkjy/index.htm',\n '../rcpy/index.htm',\n '../rcpy/jxjy/index.htm',\n '../rcpy/msjs/index.htm',\n '../rczp/glxl/index.htm',\n '../rczp/index.htm',\n '../rczp/jsxl/index.htm',\n '../tsg/index.htm',\n '../tzgg/index.htm',\n '../xcyx/index.htm',\n '../xxgk/index.htm',\n '../xxgk/nfdsj/index.htm',\n '../xxgk/xhxxxg/index.htm',\n '../xxgk/xrld/index.htm',\n '../xxgk/xxjj/index.htm',\n '../xxgk/xxxl/index.htm',\n '../xydt/index.htm',\n '../zggcddsxxjy/index.htm',\n '../zjnf/index.htm',\n '../zjnf/jtzy/index.htm',\n '../zjnf/shfw/index.htm',\n '../zjnf/tsnf/index.htm',\n '../zjnf/xb/index.htm',\n '../zjnf/ylfw/index.htm',\n '../zsjy/index.htm',\n '../zsjy/jyfw/index.htm',\n '../ztb/index.htm',\n '0803663924a442588ee67bce4b9249be.htm',\n '2ca11309128e42a58ed4f1c42be754d3.htm',\n '3bc00a4927fc4398a5bd552a7fb2ae0e.htm',\n '4f75495fe0e94d378fbabb94fabba1bd.htm',\n '53dd98b1eb6c4d7f8def44592e519c45.htm',\n '64d88d805cb24e29818796b5ed03bd84.htm',\n '7148917faf2f437abeaf225e966dd502.htm',\n '92c408c6529d4d26a723d841d6485a1e.htm',\n '96267573495b4f66a490f2ba9ec3ea0c.htm',\n '9d85c517440d4128a0e1a7bc1a4a9f1b.htm',\n 'a0b30b72b462428cb239e90fe175a9ce.htm',\n 'a8d4f0d2c2d7410ebf668eb88e0fec03.htm',\n 'c6c2ea21061e41eda1f5f27a8baf6cc2.htm',\n 'd2163668db974ea596874c63d1bb7776.htm',\n 'd6f0a1cedeac423fb6eda482d72c56ce.htm',\n 'de6768f996eb44f4ad0c9bb169903e98.htm',\n 'df632618d31b40798bf71b8ea2d103ca.htm',\n 'e37b88d9a4fd49b89a59af13f09246db.htm',\n 'f2bf2742d7de4ce09be7082fef186869.htm',\n 'fb7ac3185a354c3db858d063d2d46239.htm',\n 'http://cpc.nfu.edu.cn/',\n 'http://das.nfu.edu.cn/',\n 'http://edu.gd.gov.cn/',\n 'http://en.nfu.edu.cn/',\n 'http://gj.nfu.edu.cn/',\n 'http://gj.nfu.edu.cn/Home/Waishi/waishilist/class/1/p/1.html',\n 'http://jw.nfu.edu.cn/',\n 'http://jx.nfu.edu.cn/',\n 'http://ky.nfu.edu.cn/',\n 'http://lib.nfu.edu.cn/',\n 'http://www.beian.gov.cn/portal/registerSystemInfo?recordcode=44011702000081',\n 'http://www.gdmbjy.cn/',\n 'http://www.gdpr.com/',\n 'http://www.gz.gov.cn/',\n 'http://www.moe.gov.cn/',\n 'http://www.sysu.edu.cn/2012/cn/index.htm',\n 'http://zsb.nfu.edu.cn/',\n 'https://beian.miit.gov.cn/',\n 'https://www.cnki.net/',\n 'https://www.gpowersoft.com/',\n 'index.htm',\n 'index1.htm',\n 'index121.htm',\n 'index2.htm',\n 'index3.htm',\n 'index4.htm'}"
     },
     "execution_count": 18,
     "metadata": {},
     "output_type": "execute_result"
    }
   ],
   "source": [
    "# 获取所有页面链接\n",
    "r.html.links"
   ],
   "metadata": {
    "collapsed": false
   }
  },
  {
   "cell_type": "code",
   "execution_count": 19,
   "outputs": [
    {
     "data": {
      "text/plain": "{'http://cpc.nfu.edu.cn/',\n 'http://das.nfu.edu.cn/',\n 'http://edu.gd.gov.cn/',\n 'http://en.nfu.edu.cn/',\n 'http://gj.nfu.edu.cn/',\n 'http://gj.nfu.edu.cn/Home/Waishi/waishilist/class/1/p/1.html',\n 'http://jw.nfu.edu.cn/',\n 'http://jx.nfu.edu.cn/',\n 'http://ky.nfu.edu.cn/',\n 'http://lib.nfu.edu.cn/',\n 'http://www.beian.gov.cn/portal/registerSystemInfo?recordcode=44011702000081',\n 'http://www.gdmbjy.cn/',\n 'http://www.gdpr.com/',\n 'http://www.gz.gov.cn/',\n 'http://www.moe.gov.cn/',\n 'http://www.sysu.edu.cn/2012/cn/index.htm',\n 'http://zsb.nfu.edu.cn/',\n 'https://beian.miit.gov.cn/',\n 'https://www.cnki.net/',\n 'https://www.gpowersoft.com/',\n 'https://www.nfu.edu.cn/dshyx/index.htm',\n 'https://www.nfu.edu.cn/gjdt/index.htm',\n 'https://www.nfu.edu.cn/hzjl/index.htm',\n 'https://www.nfu.edu.cn/index.htm',\n 'https://www.nfu.edu.cn/jgsz/cswyh/index.htm',\n 'https://www.nfu.edu.cn/jgsz/gljg/index.htm',\n 'https://www.nfu.edu.cn/jgsz/index.htm',\n 'https://www.nfu.edu.cn/jgsz/yxsz/index.htm',\n 'https://www.nfu.edu.cn/jxky/index.htm',\n 'https://www.nfu.edu.cn/jxky/kyjg/index.htm',\n 'https://www.nfu.edu.cn/qzzggcdjd100zn/index.htm',\n 'https://www.nfu.edu.cn/rcpy/bkjy/index.htm',\n 'https://www.nfu.edu.cn/rcpy/index.htm',\n 'https://www.nfu.edu.cn/rcpy/jxjy/index.htm',\n 'https://www.nfu.edu.cn/rcpy/msjs/index.htm',\n 'https://www.nfu.edu.cn/rczp/glxl/index.htm',\n 'https://www.nfu.edu.cn/rczp/index.htm',\n 'https://www.nfu.edu.cn/rczp/jsxl/index.htm',\n 'https://www.nfu.edu.cn/tsg/index.htm',\n 'https://www.nfu.edu.cn/tzgg/index.htm',\n 'https://www.nfu.edu.cn/xcyx/index.htm',\n 'https://www.nfu.edu.cn/xxgk/index.htm',\n 'https://www.nfu.edu.cn/xxgk/nfdsj/index.htm',\n 'https://www.nfu.edu.cn/xxgk/xhxxxg/index.htm',\n 'https://www.nfu.edu.cn/xxgk/xrld/index.htm',\n 'https://www.nfu.edu.cn/xxgk/xxjj/index.htm',\n 'https://www.nfu.edu.cn/xxgk/xxxl/index.htm',\n 'https://www.nfu.edu.cn/xxyw/0803663924a442588ee67bce4b9249be.htm',\n 'https://www.nfu.edu.cn/xxyw/2ca11309128e42a58ed4f1c42be754d3.htm',\n 'https://www.nfu.edu.cn/xxyw/3bc00a4927fc4398a5bd552a7fb2ae0e.htm',\n 'https://www.nfu.edu.cn/xxyw/4f75495fe0e94d378fbabb94fabba1bd.htm',\n 'https://www.nfu.edu.cn/xxyw/53dd98b1eb6c4d7f8def44592e519c45.htm',\n 'https://www.nfu.edu.cn/xxyw/64d88d805cb24e29818796b5ed03bd84.htm',\n 'https://www.nfu.edu.cn/xxyw/7148917faf2f437abeaf225e966dd502.htm',\n 'https://www.nfu.edu.cn/xxyw/92c408c6529d4d26a723d841d6485a1e.htm',\n 'https://www.nfu.edu.cn/xxyw/96267573495b4f66a490f2ba9ec3ea0c.htm',\n 'https://www.nfu.edu.cn/xxyw/9d85c517440d4128a0e1a7bc1a4a9f1b.htm',\n 'https://www.nfu.edu.cn/xxyw/a0b30b72b462428cb239e90fe175a9ce.htm',\n 'https://www.nfu.edu.cn/xxyw/a8d4f0d2c2d7410ebf668eb88e0fec03.htm',\n 'https://www.nfu.edu.cn/xxyw/c6c2ea21061e41eda1f5f27a8baf6cc2.htm',\n 'https://www.nfu.edu.cn/xxyw/d2163668db974ea596874c63d1bb7776.htm',\n 'https://www.nfu.edu.cn/xxyw/d6f0a1cedeac423fb6eda482d72c56ce.htm',\n 'https://www.nfu.edu.cn/xxyw/de6768f996eb44f4ad0c9bb169903e98.htm',\n 'https://www.nfu.edu.cn/xxyw/df632618d31b40798bf71b8ea2d103ca.htm',\n 'https://www.nfu.edu.cn/xxyw/e37b88d9a4fd49b89a59af13f09246db.htm',\n 'https://www.nfu.edu.cn/xxyw/f2bf2742d7de4ce09be7082fef186869.htm',\n 'https://www.nfu.edu.cn/xxyw/fb7ac3185a354c3db858d063d2d46239.htm',\n 'https://www.nfu.edu.cn/xxyw/index.htm',\n 'https://www.nfu.edu.cn/xxyw/index1.htm',\n 'https://www.nfu.edu.cn/xxyw/index121.htm',\n 'https://www.nfu.edu.cn/xxyw/index2.htm',\n 'https://www.nfu.edu.cn/xxyw/index3.htm',\n 'https://www.nfu.edu.cn/xxyw/index4.htm',\n 'https://www.nfu.edu.cn/xydt/index.htm',\n 'https://www.nfu.edu.cn/zggcddsxxjy/index.htm',\n 'https://www.nfu.edu.cn/zjnf/index.htm',\n 'https://www.nfu.edu.cn/zjnf/jtzy/index.htm',\n 'https://www.nfu.edu.cn/zjnf/shfw/index.htm',\n 'https://www.nfu.edu.cn/zjnf/tsnf/index.htm',\n 'https://www.nfu.edu.cn/zjnf/xb/index.htm',\n 'https://www.nfu.edu.cn/zjnf/ylfw/index.htm',\n 'https://www.nfu.edu.cn/zsjy/index.htm',\n 'https://www.nfu.edu.cn/zsjy/jyfw/index.htm',\n 'https://www.nfu.edu.cn/ztb/index.htm'}"
     },
     "execution_count": 19,
     "metadata": {},
     "output_type": "execute_result"
    }
   ],
   "source": [
    "# 完整链接\n",
    "r.html.absolute_links"
   ],
   "metadata": {
    "collapsed": false
   }
  },
  {
   "cell_type": "markdown",
   "source": [
    "# 学校官网爬取"
   ],
   "metadata": {
    "collapsed": false
   }
  },
  {
   "cell_type": "code",
   "execution_count": 20,
   "outputs": [
    {
     "name": "stdout",
     "output_type": "stream",
     "text": [
      "2023-09-13\n",
      "集合！军训开营！\n",
      "{'https://www.nfu.edu.cn/xxyw/a8d4f0d2c2d7410ebf668eb88e0fec03.htm'}\n",
      "\n",
      "2023-09-12\n",
      "厚德和合，传承创新！中医药健康学院2023级新生开学典礼暨首届...\n",
      "{'https://www.nfu.edu.cn/xxyw/9d85c517440d4128a0e1a7bc1a4a9f1b.htm'}\n",
      "\n",
      "2023-09-11\n",
      "新学期，以一场研讨会拉开序幕！\n",
      "{'https://www.nfu.edu.cn/xxyw/92c408c6529d4d26a723d841d6485a1e.htm'}\n",
      "\n",
      "2023-09-06\n",
      "我校开展2023年秋季学期教学检查工作\n",
      "{'https://www.nfu.edu.cn/xxyw/3bc00a4927fc4398a5bd552a7fb2ae0e.htm'}\n",
      "\n",
      "2023-09-10\n",
      "躬耕教坛，强国有我——我校开展庆祝2023年教师节暨师德建设主题教育月系列活...\n",
      "{'https://www.nfu.edu.cn/xxyw/53dd98b1eb6c4d7f8def44592e519c45.htm'}\n",
      "\n",
      "2023-09-10\n",
      "来自校长、书记的节日问候\n",
      "{'https://www.nfu.edu.cn/xxyw/d2163668db974ea596874c63d1bb7776.htm'}\n",
      "\n",
      "2023-09-06\n",
      "从化区副区长、区公安分局局长陈航一行莅临我校开展食品安全“两个责任”包保督导\n",
      "{'https://www.nfu.edu.cn/xxyw/df632618d31b40798bf71b8ea2d103ca.htm'}\n",
      "\n",
      "2023-09-06\n",
      "首批上线！我校4门课程登陆全国高校课程思政教学资源服务平台\n",
      "{'https://www.nfu.edu.cn/xxyw/4f75495fe0e94d378fbabb94fabba1bd.htm'}\n",
      "\n",
      "2023-09-02\n",
      "欢迎！南方学院首批新生已就位！\n",
      "{'https://www.nfu.edu.cn/xxyw/64d88d805cb24e29818796b5ed03bd84.htm'}\n",
      "\n",
      "2023-08-26\n",
      "我校教师获“省长杯”工业设计大赛二等奖\n",
      "{'https://www.nfu.edu.cn/xxyw/f2bf2742d7de4ce09be7082fef186869.htm'}\n",
      "\n",
      "2023-08-19\n",
      "我们是，全国总冠军！\n",
      "{'https://www.nfu.edu.cn/xxyw/a0b30b72b462428cb239e90fe175a9ce.htm'}\n",
      "\n",
      "2023-08-18\n",
      "全国二等奖+3！\n",
      "{'https://www.nfu.edu.cn/xxyw/de6768f996eb44f4ad0c9bb169903e98.htm'}\n",
      "\n",
      "2023-08-15\n",
      "我校获邀参加中国抗癌协会CACA指南进校园工作推动会（广东站）\n",
      "{'https://www.nfu.edu.cn/xxyw/96267573495b4f66a490f2ba9ec3ea0c.htm'}\n",
      "\n",
      "2023-08-11\n",
      "学校召开学生宿舍改造工程进度协调会并检查施工现场\n",
      "{'https://www.nfu.edu.cn/xxyw/e37b88d9a4fd49b89a59af13f09246db.htm'}\n",
      "\n",
      "2023-08-11\n",
      "我校获800万省级民办教育发展专项资金支持\n",
      "{'https://www.nfu.edu.cn/xxyw/7148917faf2f437abeaf225e966dd502.htm'}\n",
      "\n",
      "2023-08-04\n",
      "我校斩获多项省教育教学优秀案例\n",
      "{'https://www.nfu.edu.cn/xxyw/d6f0a1cedeac423fb6eda482d72c56ce.htm'}\n",
      "\n",
      "2023-07-21\n",
      "校领导带队检查指导校园安全工作并走访慰问留校师生\n",
      "{'https://www.nfu.edu.cn/xxyw/0803663924a442588ee67bce4b9249be.htm'}\n",
      "\n",
      "2023-07-19\n",
      "暑期获奖连连！给南院师生点赞！\n",
      "{'https://www.nfu.edu.cn/xxyw/2ca11309128e42a58ed4f1c42be754d3.htm'}\n",
      "\n",
      "2023-07-18\n",
      "我校受邀在全国“高等教育数字变革与院校研究专业化”学术研讨会上发言\n",
      "{'https://www.nfu.edu.cn/xxyw/c6c2ea21061e41eda1f5f27a8baf6cc2.htm'}\n",
      "\n",
      "2023-07-15\n",
      "国标项目——我校召开国家标准委广东社会组织能力建设标准化试点项目启动会\n",
      "{'https://www.nfu.edu.cn/xxyw/fb7ac3185a354c3db858d063d2d46239.htm'}\n",
      "\n"
     ]
    }
   ],
   "source": [
    "news_title = r.html.find('ul.list-ul > li')\n",
    "for i in news_title:\n",
    "    print(i.text)\n",
    "    print(i.absolute_links)\n",
    "    print()"
   ],
   "metadata": {
    "collapsed": false
   }
  },
  {
   "cell_type": "code",
   "execution_count": 21,
   "outputs": [
    {
     "name": "stdout",
     "output_type": "stream",
     "text": [
      "[<Element 'li' >, <Element 'li' >, <Element 'li' >, <Element 'li' >, <Element 'li' >, <Element 'li' >, <Element 'li' >, <Element 'li' >, <Element 'li' >, <Element 'li' >, <Element 'li' >, <Element 'li' >, <Element 'li' >, <Element 'li' >, <Element 'li' >, <Element 'li' >, <Element 'li' >, <Element 'li' >, <Element 'li' >, <Element 'li' >]\n"
     ]
    }
   ],
   "source": [
    "print(news_title)"
   ],
   "metadata": {
    "collapsed": false
   }
  },
  {
   "cell_type": "markdown",
   "source": [
    "# 新闻网站内容爬取"
   ],
   "metadata": {
    "collapsed": false
   }
  },
  {
   "cell_type": "code",
   "execution_count": 22,
   "outputs": [
    {
     "data": {
      "text/plain": "[<Element 'a' href='/n/750471/' target='_blank'>,\n <Element 'a' href='/n/750401/' target='_blank'>,\n <Element 'a' href='/n/750398/' target='_blank'>,\n <Element 'a' href='/n/750383/' target='_blank'>,\n <Element 'a' href='/n/750333/' target='_blank'>,\n <Element 'a' href='/n/750325/' target='_blank'>,\n <Element 'a' href='/n/750289/' target='_blank'>,\n <Element 'a' href='/n/750242/' target='_blank'>,\n <Element 'a' href='/n/750238/' target='_blank'>,\n <Element 'a' href='/n/750171/' target='_blank'>,\n <Element 'a' href='/n/750092/' target='_blank'>,\n <Element 'a' href='/n/750088/' target='_blank'>,\n <Element 'a' href='/n/750080/' target='_blank'>,\n <Element 'a' href='/n/750000/' target='_blank'>,\n <Element 'a' href='/n/749958/' target='_blank'>,\n <Element 'a' href='/n/749924/' target='_blank'>,\n <Element 'a' href='/n/749890/' target='_blank'>,\n <Element 'a' href='/n/749865/' target='_blank'>]"
     },
     "execution_count": 22,
     "metadata": {},
     "output_type": "execute_result"
    }
   ],
   "source": [
    "from requests_html import HTMLSession\n",
    "session = HTMLSession()\n",
    "s = session.get('https://news.cnblogs.com/n/recommend/')\n",
    "new_title = s.html.find('h2.news_entry > a')\n",
    "new_title\n"
   ],
   "metadata": {
    "collapsed": false
   }
  },
  {
   "cell_type": "code",
   "execution_count": 23,
   "outputs": [
    {
     "name": "stdout",
     "output_type": "stream",
     "text": [
      "研究发现乌鸦能使用统计逻辑\n",
      "{'https://news.cnblogs.com/n/750471/'}\n",
      "\n",
      "阿里新CEO“吴妈”，那个马云最信任的人\n",
      "{'https://news.cnblogs.com/n/750401/'}\n",
      "\n",
      "黄仁勋管理万亿英伟达的疯狂方法：没有计划、没有汇报、没有层级\n",
      "{'https://news.cnblogs.com/n/750398/'}\n",
      "\n",
      "按游戏下载量收费，全球开发者炸锅！Unity：90%以上客户不受影响\n",
      "{'https://news.cnblogs.com/n/750383/'}\n",
      "\n",
      "苹果换充电接口了，但你的Type-C线还是用不上\n",
      "{'https://news.cnblogs.com/n/750333/'}\n",
      "\n",
      "中国的 AI 热回归现实\n",
      "{'https://news.cnblogs.com/n/750325/'}\n",
      "\n",
      "Mate 60奇迹背后的余承东，经历了怎样的人生？\n",
      "{'https://news.cnblogs.com/n/750289/'}\n",
      "\n",
      "iPhone 15来了！苹果拿出全球首颗3nm芯片，支持Type-c，顶配13999元\n",
      "{'https://news.cnblogs.com/n/750242/'}\n",
      "\n",
      "中国互联网第一次“人才通胀”始末\n",
      "{'https://news.cnblogs.com/n/750238/'}\n",
      "\n",
      "老黄给H100打鸡血：英伟达推出大模型加速包，Llama2推理速度翻倍\n",
      "{'https://news.cnblogs.com/n/750171/'}\n",
      "\n",
      "比Python快6.8万倍，新语言Mojo首次开放下载，LLVM之父打造\n",
      "{'https://news.cnblogs.com/n/750092/'}\n",
      "\n",
      "蔡崇信、吴泳铭正式履新董事长、CEO，张勇荣获“功勋阿里人”\n",
      "{'https://news.cnblogs.com/n/750088/'}\n",
      "\n",
      "中国团队重要突破：首次在猪体内“种”出人类肾脏\n",
      "{'https://news.cnblogs.com/n/750080/'}\n",
      "\n",
      "谷歌25岁了：AI能化解中年危机吗？\n",
      "{'https://news.cnblogs.com/n/750000/'}\n",
      "\n",
      "腾讯称混元大模型中文能力超过GPT3.5 我们一起看看\n",
      "{'https://news.cnblogs.com/n/749958/'}\n",
      "\n",
      "有史以来最遥远星系磁场探测到\n",
      "{'https://news.cnblogs.com/n/749924/'}\n",
      "\n",
      "央视：华为新手机，拆解出了什么？拆出了中国高科技企业的里程碑\n",
      "{'https://news.cnblogs.com/n/749890/'}\n",
      "\n",
      "“大学教师体验送外卖”破圈背后的“是”与“非”\n",
      "{'https://news.cnblogs.com/n/749865/'}\n",
      "\n"
     ]
    }
   ],
   "source": [
    "\n",
    "for x in new_title:\n",
    "    print(x.text)\n",
    "    print(x.absolute_links)\n",
    "    print()"
   ],
   "metadata": {
    "collapsed": false
   }
  },
  {
   "cell_type": "code",
   "execution_count": 12,
   "outputs": [
    {
     "data": {
      "text/plain": "[<Element 'div' class=('entry_summary',) style='display: block;'>,\n <Element 'div' class=('entry_summary',) style='display: block;'>,\n <Element 'div' class=('entry_summary',) style='display: block;'>,\n <Element 'div' class=('entry_summary',) style='display: block;'>,\n <Element 'div' class=('entry_summary',) style='display: block;'>,\n <Element 'div' class=('entry_summary',) style='display: block;'>,\n <Element 'div' class=('entry_summary',) style='display: block;'>,\n <Element 'div' class=('entry_summary',) style='display: block;'>,\n <Element 'div' class=('entry_summary',) style='display: block;'>,\n <Element 'div' class=('entry_summary',) style='display: block;'>,\n <Element 'div' class=('entry_summary',) style='display: block;'>,\n <Element 'div' class=('entry_summary',) style='display: block;'>,\n <Element 'div' class=('entry_summary',) style='display: block;'>,\n <Element 'div' class=('entry_summary',) style='display: block;'>,\n <Element 'div' class=('entry_summary',) style='display: block;'>,\n <Element 'div' class=('entry_summary',) style='display: block;'>,\n <Element 'div' class=('entry_summary',) style='display: block;'>,\n <Element 'div' class=('entry_summary',) style='display: block;'>]"
     },
     "execution_count": 12,
     "metadata": {},
     "output_type": "execute_result"
    }
   ],
   "source": [
    "g = session.get('https://news.cnblogs.com/n/recommend/')\n",
    "new_content = g.html.find('div.entry_summary')\n",
    "new_content"
   ],
   "metadata": {
    "collapsed": false
   }
  },
  {
   "cell_type": "code",
   "execution_count": 48,
   "outputs": [
    {
     "name": "stdout",
     "output_type": "stream",
     "text": [
      "“环保”占了发布会不小的篇幅，苹果也推出了历史上首款碳中和产品：Apple Watch Series 9。 文｜邱晓芬 编辑｜苏建勋 尚恩 来源｜智能涌现（ID：AIEmergence） 封面来源｜IC photo 北京时间 9 月 13 日凌晨，2023“科技圈春晚”，苹果秋季发布会如约而至。 这\n",
      "{'https://news.cnblogs.com/n/topic_3239.htm'}\n",
      "\n",
      "文锦缎 中国互联网策源地——中关村一隅。 如果一定要为互联网找一位商业模式教父的话，杨致远必当榜上有名。他所创立的雅虎，为日后互联网波澜壮阔的商业化巨潮提供了最核心的思路——免费用户，流量至上，广告变现。这条法则一直沿用到今日。 不过作为至圣先驱，雅虎没有挺到互联网发展的鼎盛期。很重要的原因是，杨致\n",
      "{'https://news.cnblogs.com/n/topic_132.htm'}\n",
      "\n",
      "克雷西发自凹非寺 量子位公众号 QbitAI 大模型的推理速度，仅仅一个月就提高了一倍！ 英伟达近日官宣给 H100 推出了“鸡血包”——专用于 LLM 推理的加速程序。 或许这下可以不用空等明年才能交付的 GH200 了（手动狗头）。 GPU 的运算能力一直影响着大模型的表现，无论是硬件提供者还是\n",
      "{'https://news.cnblogs.com/n/topic_217.htm'}\n",
      "\n",
      "梦晨发自凹非寺 量子位公众号 QbitAI 什么编程语言，敢号称是高性能版的“Python++”？ 新语言 Mojo，来自 LLVM 之父和 Swift 之父 Chris Lattner，性能可达到目前版本 Python 的 68000 倍。 你没看错，几个月前团队还宣称是 35000 倍，换了台机\n",
      "{'https://news.cnblogs.com/n/topic_3044.htm'}\n",
      "\n",
      "新浪科技讯，9 月 10 日晚，阿里巴巴集团董事会主席蔡崇信发布全员信宣布，已在当日按计划完成集团管理职务交接，由他接任集团董事会主席职务，吴泳铭出任集团 CEO。这意味着，阿里巴巴完成了公司管理职务的第二次制度化交接棒，今年 3 月启动的1+6+N自我变革快速顺利推进。 蔡崇信代表阿里集团用“成绩\n",
      "{'https://news.cnblogs.com/n/topic_6.htm'}\n",
      "\n",
      "9 月 7 日，《细胞》子刊登了一项来自中国团队的论文，研究将人-猪嵌合体胚胎移植至母猪体内后，成功培养出肾脏发育中间阶段的组织，而这一组织在 28 天后，顺利形成了肾小管等功能结构，具备了正常的肾脏结构。 而这也是科学家首次实现人源功能性实质器官的异种体内再生——即在哺乳动物体内培养出可供移植的人\n",
      "{'https://news.cnblogs.com/n/topic_2874.htm'}\n",
      "\n",
      "（图注：1998 年的谷歌首页） 这个星期，互联网巨头谷歌年满 25 周岁了。在人类的世界，25 岁还是个朝气蓬勃、求知若渴的青年人；但在互联网的领域，25 岁的谷歌虽然已经成长为网络巨无霸，却面临着明显的中年危机和未来挑战。AI 能化解谷歌的中年危机吗？ 孕育于斯坦福校园 不夸张的说，谷歌是全球互\n",
      "{'https://news.cnblogs.com/n/topic_1.htm'}\n",
      "\n",
      "9 月 7 日消息，今日，备受期待的腾讯混元大模型正式亮相，并通过腾讯云对外开放。腾讯集团副总裁蒋杰称，腾讯混元大模型中文能力已经超过 GPT3.5。 据了解，腾讯混元大模型是由腾讯全链路自研的通用大语言模型，拥有超千亿参数规模，预训练语料超 2 万亿 tokens。它的能力究竟如何，我们一起来看一\n",
      "{'https://news.cnblogs.com/n/topic_7.htm'}\n",
      "\n",
      "科技日报北京 9 月 6 日电 （记者张佳欣）天文学家使用射电望远镜阿塔卡马大型毫米波/亚毫米波阵列（ALMA）探测到了一个遥远星系的磁场，该星系距离地球 110 多亿光年。这一结果为天文学家提供了关于银河系等星系的磁场是如何形成的重要线索。相关论文发表在新一期《自然》杂志上。 研究人员表示，宇宙中\n",
      "{'https://news.cnblogs.com/n/topic_1317.htm'}\n",
      "\n",
      "9 月 5 日晚，央视新闻《新闻1+1》播出了名为“华为新手机，拆解出了什么？”的节目，这段二十多分钟的节目里，让全国观众乃至世界观众知道了一款代表中国高科技企业里程碑的产品，也告诉了所有人，拆解华为 Mate60 Pro 拆解出了什么。 在 8 月 29 日华为 Mate60 Pro 开放购买后，\n",
      "{'https://news.cnblogs.com/n/topic_188.htm'}\n",
      "\n",
      "这几天，联系山东临沂大学文学院教师邢斌的人很多。 原因是，不久前在临沂东夷书院的一场活动上，他分享了“2022 年冬，我在临沂城送外卖”的经历，引发关注，直接火出了圈。 火出圈后，联系邢斌的人里，有人想知道他当外卖骑手的缘起、经历，也有人关心他提到的外卖骑手的工资、保险、工作强度等问题。这一方面让邢\n",
      "{'https://news.cnblogs.com/n/topic_505.htm'}\n",
      "\n",
      "丰色发自凹非寺 量子位公众号 QbitAI 让橡胶气球化身“热气球”，匀速飞行： 让泡沫板变身“小快艇”，水上前进： 家人们，DIY 大佬又来整活了—— 让如上两个物件产生动力的可不是什么小玩具，而是离子等离子推进器（ionic plasma thruster）。 是的没错，这个被用于航天领域的高级\n",
      "{'https://news.cnblogs.com/n/topic_132.htm'}\n",
      "\n",
      "这段时间，脖子哥真的要被搬家整麻了。 不仅东西又多又难搬，新家还有一股浓郁的甲醛味，熏得我脑壳疼。 正愁怎么除呢，前两天刷新闻的时候迷迷糊糊看见，五菱搞出了一个甲醛发动机，烧甲醛，动力还贼强。 我大喜，这玩意，放我家不就成永动机了么。 结果定睛一看，喜早了，人搞的是甲醇发动机。 虽然看岔了，可要说对\n",
      "{'https://news.cnblogs.com/n/topic_2702.htm'}\n",
      "\n",
      "大多数阴谋论驱动的运动背后的秘密是，他们的信仰核心包含有一丝的真实性。举例来说，反疫苗者将大型制药公司过去的行为作为医疗机构不可信任的证据。加密货币批评者 Ben McKenzie 表示，这一丝的真实性就是来骗你的。他说，加密货币社群做对的一件事是指出现有的金融制度存在严重缺陷。加密货币兴起于 20\n",
      "{'https://news.cnblogs.com/n/topic_424.htm'}\n",
      "\n",
      "克雷西发自凹非寺 量子位公众号 QbitAI 辛苦做了 3 年半的游戏，只因用了 ChatGPT 就被 Steam 给下架了？！这则控诉帖在 Reddit 一经发出即爆火，围观热度达到 2.5k。 帖主 Shasaur（我们姑且叫他S叔）介绍，他和 Steam 进行了长时间拉锯，但最终游戏还是被下架\n",
      "{'https://news.cnblogs.com/n/topic_335.htm'}\n",
      "\n",
      "为了帮助测试新的人工智能“鼻子”，德雷克塞尔大学的乔纳森·多伊奇花了几个小时嗅探和描述未知化学物质的气味。图片来源：《科学》杂志 科技日报北京 9 月 3 日电 （记者张佳欣）据《科学》杂志 1 日报道，英美科学家新设计的机器学习模型已达到与人类嗅觉水平相媲美的程度，能用语言描述化学物质的气味。研究\n",
      "{'https://news.cnblogs.com/n/topic_1268.htm'}\n",
      "\n",
      "山东一大学教授送外卖，写出来一篇外卖小哥调研文章，太让人感动了，怪不得全网三千万浏览量，5 万评论。 卢克文看过来，这叫调研。旅游不是调研，开车压马路不是调研。 不知道为什么，这个教授写的文字没有任何煽情都是很客观的记叙，我却差点掉下泪来。 他有自己的本职工作，他是个教授，一个受人尊敬的职业，他去勤\n",
      "{'https://news.cnblogs.com/n/topic_313.htm'}\n",
      "\n",
      "梦晨发自凹非寺 量子位公众号 QbitAI AI 再一次击败人类世界冠军，登上 Nature 封面。 与上一次 AlphaGo 下围棋不同，这次不是脑力运动，而是在真实物理环境中的竞技体育项目——“空中 F1”无人机竞速。 与 AlphaGo 也有相同之处，核心技术都是深度强化学习。 成果来自苏黎世\n",
      "{'https://news.cnblogs.com/n/topic_1268.htm'}\n",
      "\n"
     ]
    }
   ],
   "source": [
    "for gg in new_content:\n",
    "    print(gg.text)\n",
    "    print(gg.absolute_links)\n",
    "    print()"
   ],
   "metadata": {
    "collapsed": false
   }
  },
  {
   "cell_type": "code",
   "execution_count": 24,
   "outputs": [
    {
     "name": "stdout",
     "output_type": "stream",
     "text": [
      "研究发现乌鸦能使用统计逻辑\n",
      "德国图宾根大学的研究人员首次发现乌鸦能执行统计推理。研究人员已经发现乌鸦具有复杂的数字能力，表现出抽象思维，在决策时深思熟虑。 在最新的实验中，研究人员测试了乌鸦的统计推理能力。研究人员首先训练两只乌鸦啄触摸屏上的不同图像以获取食物。他们随后显著增加了先啄后吃的难度，引入了概率的概念，乌鸦不是每次啄\n",
      "{'https://news.cnblogs.com/n/750471/'}\n",
      "\n",
      "阿里新CEO“吴妈”，那个马云最信任的人\n",
      "题图｜阿里巴巴，图中左一为“吴妈”吴泳铭 出品｜虎嗅商业消费组 作者｜苗正卿 当 9 月 12 日下午，阿里巴巴集团（下称“阿里”）CEO 吴泳铭出现在“5 年陈”员工的授戒仪式上时，很多阿里员工第一次面对面见到这位花名“东邪”、昵称“吴妈”的阿里十八罗汉。 这是一场巧妙的见面。在 9 月 10 日\n",
      "{'https://news.cnblogs.com/n/750401/'}\n",
      "\n",
      "黄仁勋管理万亿英伟达的疯狂方法：没有计划、没有汇报、没有层级\n",
      "丰色发自凹非寺 量子位公众号 QbitAI 今年最为风头无两的半导体公司，无疑是市值已超 1 万亿的英伟达。 让人没想到的是，老黄居然有着特别、甚至说是近乎疯狂的管理方式： 没有计划、没有汇报、没有明确层级。 曝光称： 直接管理 40 名下属，信奉扁平化就是力量； 等人汇报就晚了，要对公司这个系统做\n",
      "{'https://news.cnblogs.com/n/750398/'}\n",
      "\n",
      "按游戏下载量收费，全球开发者炸锅！Unity：90%以上客户不受影响\n",
      "GameLook 报道/9 月 12 日晚，Unity 在官网发布公告称，将从 2024 开始向符合条件的游戏产品按安装量单次收费，价格区间为 0.01-0.2 美元之间。 这则消息公布之后立即引发全球开发者高度关注，考虑到 Unity 全球开发者有数百万，且在手游市场占据了引擎端 70% 左右的使\n",
      "{'https://news.cnblogs.com/n/750383/'}\n",
      "\n",
      "苹果换充电接口了，但你的Type-C线还是用不上\n",
      "新发布的 iPhone 手机终于换接口了。 2022 年，欧洲议会以压倒性多数投票赞成到 2024 年将 Type-C 作为各种消费设备的强制性通用充电端口。苹果全球营销副总裁格雷格·乔斯维亚克（Greg Joswiak）表示，苹果将不得不在 iPhone 和其他仍在使用 Lightning 的设备\n",
      "{'https://news.cnblogs.com/n/750333/'}\n",
      "\n",
      "中国的 AI 热回归现实\n",
      "对创业公司 Chingmu 的创始人 Zhang Haiwei 而言，构建自己的大语言模型（LLM）是不现实的。你需要几亿美元资金，需要与遥遥领先的科技巨头们展开竞争。 在 AI 热兴起前，百度和科大讯飞等公司早就对大模型之类的 AI 系统展开了多年研究。Zhang 的公司专注于 AI 应用，利用\n",
      "{'https://news.cnblogs.com/n/750325/'}\n",
      "\n",
      "Mate 60奇迹背后的余承东，经历了怎样的人生？\n",
      "文雷达财经，作者孟帅，编辑深海 美东时间 9 月 12 日，苹果今年最重磅的新品发布会开幕，新一代智能手机 iPhone 15 系列和智能手表如约而至。据发布会介绍，iPhone 15 全系改用灵动岛，告别刘海屏，全部改用 USB-C 端口，高端机 iPhone 15 Pro 系列搭载苹果最先进的\n",
      "{'https://news.cnblogs.com/n/750289/'}\n",
      "\n",
      "iPhone 15来了！苹果拿出全球首颗3nm芯片，支持Type-c，顶配13999元\n",
      "“环保”占了发布会不小的篇幅，苹果也推出了历史上首款碳中和产品：Apple Watch Series 9。 文｜邱晓芬 编辑｜苏建勋 尚恩 来源｜智能涌现（ID：AIEmergence） 封面来源｜IC photo 北京时间 9 月 13 日凌晨，2023“科技圈春晚”，苹果秋季发布会如约而至。 这\n",
      "{'https://news.cnblogs.com/n/750242/'}\n",
      "\n",
      "中国互联网第一次“人才通胀”始末\n",
      "文锦缎 中国互联网策源地——中关村一隅。 如果一定要为互联网找一位商业模式教父的话，杨致远必当榜上有名。他所创立的雅虎，为日后互联网波澜壮阔的商业化巨潮提供了最核心的思路——免费用户，流量至上，广告变现。这条法则一直沿用到今日。 不过作为至圣先驱，雅虎没有挺到互联网发展的鼎盛期。很重要的原因是，杨致\n",
      "{'https://news.cnblogs.com/n/750238/'}\n",
      "\n",
      "老黄给H100打鸡血：英伟达推出大模型加速包，Llama2推理速度翻倍\n",
      "克雷西发自凹非寺 量子位公众号 QbitAI 大模型的推理速度，仅仅一个月就提高了一倍！ 英伟达近日官宣给 H100 推出了“鸡血包”——专用于 LLM 推理的加速程序。 或许这下可以不用空等明年才能交付的 GH200 了（手动狗头）。 GPU 的运算能力一直影响着大模型的表现，无论是硬件提供者还是\n",
      "{'https://news.cnblogs.com/n/750171/'}\n",
      "\n",
      "比Python快6.8万倍，新语言Mojo首次开放下载，LLVM之父打造\n",
      "梦晨发自凹非寺 量子位公众号 QbitAI 什么编程语言，敢号称是高性能版的“Python++”？ 新语言 Mojo，来自 LLVM 之父和 Swift 之父 Chris Lattner，性能可达到目前版本 Python 的 68000 倍。 你没看错，几个月前团队还宣称是 35000 倍，换了台机\n",
      "{'https://news.cnblogs.com/n/750092/'}\n",
      "\n",
      "蔡崇信、吴泳铭正式履新董事长、CEO，张勇荣获“功勋阿里人”\n",
      "新浪科技讯，9 月 10 日晚，阿里巴巴集团董事会主席蔡崇信发布全员信宣布，已在当日按计划完成集团管理职务交接，由他接任集团董事会主席职务，吴泳铭出任集团 CEO。这意味着，阿里巴巴完成了公司管理职务的第二次制度化交接棒，今年 3 月启动的1+6+N自我变革快速顺利推进。 蔡崇信代表阿里集团用“成绩\n",
      "{'https://news.cnblogs.com/n/750088/'}\n",
      "\n",
      "中国团队重要突破：首次在猪体内“种”出人类肾脏\n",
      "9 月 7 日，《细胞》子刊登了一项来自中国团队的论文，研究将人-猪嵌合体胚胎移植至母猪体内后，成功培养出肾脏发育中间阶段的组织，而这一组织在 28 天后，顺利形成了肾小管等功能结构，具备了正常的肾脏结构。 而这也是科学家首次实现人源功能性实质器官的异种体内再生——即在哺乳动物体内培养出可供移植的人\n",
      "{'https://news.cnblogs.com/n/750080/'}\n",
      "\n",
      "谷歌25岁了：AI能化解中年危机吗？\n",
      "（图注：1998 年的谷歌首页） 这个星期，互联网巨头谷歌年满 25 周岁了。在人类的世界，25 岁还是个朝气蓬勃、求知若渴的青年人；但在互联网的领域，25 岁的谷歌虽然已经成长为网络巨无霸，却面临着明显的中年危机和未来挑战。AI 能化解谷歌的中年危机吗？ 孕育于斯坦福校园 不夸张的说，谷歌是全球互\n",
      "{'https://news.cnblogs.com/n/750000/'}\n",
      "\n",
      "腾讯称混元大模型中文能力超过GPT3.5 我们一起看看\n",
      "9 月 7 日消息，今日，备受期待的腾讯混元大模型正式亮相，并通过腾讯云对外开放。腾讯集团副总裁蒋杰称，腾讯混元大模型中文能力已经超过 GPT3.5。 据了解，腾讯混元大模型是由腾讯全链路自研的通用大语言模型，拥有超千亿参数规模，预训练语料超 2 万亿 tokens。它的能力究竟如何，我们一起来看一\n",
      "{'https://news.cnblogs.com/n/749958/'}\n",
      "\n",
      "有史以来最遥远星系磁场探测到\n",
      "科技日报北京 9 月 6 日电 （记者张佳欣）天文学家使用射电望远镜阿塔卡马大型毫米波/亚毫米波阵列（ALMA）探测到了一个遥远星系的磁场，该星系距离地球 110 多亿光年。这一结果为天文学家提供了关于银河系等星系的磁场是如何形成的重要线索。相关论文发表在新一期《自然》杂志上。 研究人员表示，宇宙中\n",
      "{'https://news.cnblogs.com/n/749924/'}\n",
      "\n",
      "央视：华为新手机，拆解出了什么？拆出了中国高科技企业的里程碑\n",
      "9 月 5 日晚，央视新闻《新闻1+1》播出了名为“华为新手机，拆解出了什么？”的节目，这段二十多分钟的节目里，让全国观众乃至世界观众知道了一款代表中国高科技企业里程碑的产品，也告诉了所有人，拆解华为 Mate60 Pro 拆解出了什么。 在 8 月 29 日华为 Mate60 Pro 开放购买后，\n",
      "{'https://news.cnblogs.com/n/749890/'}\n",
      "\n",
      "“大学教师体验送外卖”破圈背后的“是”与“非”\n",
      "这几天，联系山东临沂大学文学院教师邢斌的人很多。 原因是，不久前在临沂东夷书院的一场活动上，他分享了“2022 年冬，我在临沂城送外卖”的经历，引发关注，直接火出了圈。 火出圈后，联系邢斌的人里，有人想知道他当外卖骑手的缘起、经历，也有人关心他提到的外卖骑手的工资、保险、工作强度等问题。这一方面让邢\n",
      "{'https://news.cnblogs.com/n/749865/'}\n",
      "\n"
     ]
    }
   ],
   "source": [
    "for i in range(len(new_title)):\n",
    "    print(new_title[i].text)\n",
    "    print(new_content[i].text)\n",
    "    print(new_title[i].absolute_links)\n",
    "    print()"
   ],
   "metadata": {
    "collapsed": false
   }
  },
  {
   "cell_type": "markdown",
   "source": [
    "# 添加时间戳"
   ],
   "metadata": {
    "collapsed": false
   }
  },
  {
   "cell_type": "code",
   "execution_count": 27,
   "outputs": [
    {
     "data": {
      "text/plain": "'2023-9-17_11-13'"
     },
     "execution_count": 27,
     "metadata": {},
     "output_type": "execute_result"
    }
   ],
   "source": [
    "import time\n",
    "time.localtime()\n",
    "output_time = str(time.localtime().tm_year)+'-'\\\n",
    "              +str(time.localtime().tm_mon)+'-'\\\n",
    "             +str(time.localtime().tm_mday)+'_'\\\n",
    "             +str(time.localtime().tm_hour)+'-' \\\n",
    "             +str(time.localtime().tm_min)\n",
    "output_time"
   ],
   "metadata": {
    "collapsed": false
   }
  },
  {
   "cell_type": "markdown",
   "source": [
    "# 把数据写进表格里"
   ],
   "metadata": {
    "collapsed": false
   }
  },
  {
   "cell_type": "code",
   "execution_count": 30,
   "outputs": [],
   "source": [
    "import pandas as pd\n",
    "\n",
    "news_df = pd.DataFrame()\n",
    "\n",
    "for i in range(len(new_title)):\n",
    "  news_df.loc[i, '标题'] = new_title[i].text\n",
    "  news_df.loc[i, '内容'] = new_content[i].text\n",
    "  news_df.loc[i, '网址'] = new_title[i].absolute_links\n",
    "news_df.to_excel(\"博客园\"+output_time+'.xlsx', index=False)"
   ],
   "metadata": {
    "collapsed": false
   }
  },
  {
   "cell_type": "markdown",
   "source": [
    "# 爬取图片"
   ],
   "metadata": {
    "collapsed": false
   }
  },
  {
   "cell_type": "code",
   "execution_count": 55,
   "outputs": [
    {
     "name": "stdout",
     "output_type": "stream",
     "text": [
      "https://th.wallhaven.cc/small/x6/x6p3y3.jpg\n",
      "https://th.wallhaven.cc/small/x6/x6p3y3.jpg x6p3y3.jpg\n",
      "https://th.wallhaven.cc/small/zy/zy5y1o.jpg\n",
      "https://th.wallhaven.cc/small/zy/zy5y1o.jpg zy5y1o.jpg\n",
      "https://th.wallhaven.cc/small/x6/x6pl9v.jpg\n",
      "https://th.wallhaven.cc/small/x6/x6pl9v.jpg x6pl9v.jpg\n",
      "https://th.wallhaven.cc/small/we/we628p.jpg\n",
      "https://th.wallhaven.cc/small/we/we628p.jpg we628p.jpg\n",
      "https://th.wallhaven.cc/small/ex/ex9gwo.jpg\n",
      "https://th.wallhaven.cc/small/ex/ex9gwo.jpg ex9gwo.jpg\n",
      "https://th.wallhaven.cc/small/1p/1pd1o9.jpg\n",
      "https://th.wallhaven.cc/small/1p/1pd1o9.jpg 1pd1o9.jpg\n",
      "https://th.wallhaven.cc/small/m3/m3zjx1.jpg\n",
      "https://th.wallhaven.cc/small/m3/m3zjx1.jpg m3zjx1.jpg\n",
      "https://th.wallhaven.cc/small/1p/1ppld1.jpg\n",
      "https://th.wallhaven.cc/small/1p/1ppld1.jpg 1ppld1.jpg\n",
      "https://th.wallhaven.cc/small/yx/yxqzpd.jpg\n",
      "https://th.wallhaven.cc/small/yx/yxqzpd.jpg yxqzpd.jpg\n",
      "https://th.wallhaven.cc/small/kx/kx82d6.jpg\n",
      "https://th.wallhaven.cc/small/kx/kx82d6.jpg kx82d6.jpg\n",
      "https://th.wallhaven.cc/small/l8/l83o92.jpg\n",
      "https://th.wallhaven.cc/small/l8/l83o92.jpg l83o92.jpg\n",
      "https://th.wallhaven.cc/small/1p/1p398w.jpg\n",
      "https://th.wallhaven.cc/small/1p/1p398w.jpg 1p398w.jpg\n",
      "https://th.wallhaven.cc/small/7p/7p39gy.jpg\n",
      "https://th.wallhaven.cc/small/7p/7p39gy.jpg 7p39gy.jpg\n",
      "https://th.wallhaven.cc/small/qz/qzdqvr.jpg\n",
      "https://th.wallhaven.cc/small/qz/qzdqvr.jpg qzdqvr.jpg\n",
      "https://th.wallhaven.cc/small/zy/zyxvqy.jpg\n",
      "https://th.wallhaven.cc/small/zy/zyxvqy.jpg zyxvqy.jpg\n",
      "https://th.wallhaven.cc/small/kx/kx98xd.jpg\n",
      "https://th.wallhaven.cc/small/kx/kx98xd.jpg kx98xd.jpg\n",
      "https://th.wallhaven.cc/small/zy/zygeko.jpg\n",
      "https://th.wallhaven.cc/small/zy/zygeko.jpg zygeko.jpg\n",
      "https://th.wallhaven.cc/small/kx/kx36mq.jpg\n",
      "https://th.wallhaven.cc/small/kx/kx36mq.jpg kx36mq.jpg\n",
      "https://th.wallhaven.cc/small/m9/m9xyg8.jpg\n",
      "https://th.wallhaven.cc/small/m9/m9xyg8.jpg m9xyg8.jpg\n",
      "https://th.wallhaven.cc/small/o5/o59gvl.jpg\n",
      "https://th.wallhaven.cc/small/o5/o59gvl.jpg o59gvl.jpg\n",
      "https://th.wallhaven.cc/small/28/28p95m.jpg\n",
      "https://th.wallhaven.cc/small/28/28p95m.jpg 28p95m.jpg\n",
      "https://th.wallhaven.cc/small/e7/e7jj6r.jpg\n",
      "https://th.wallhaven.cc/small/e7/e7jj6r.jpg e7jj6r.jpg\n",
      "https://th.wallhaven.cc/small/9m/9mjoy1.jpg\n",
      "https://th.wallhaven.cc/small/9m/9mjoy1.jpg 9mjoy1.jpg\n",
      "https://th.wallhaven.cc/small/j3/j3m8y5.jpg\n",
      "https://th.wallhaven.cc/small/j3/j3m8y5.jpg j3m8y5.jpg\n"
     ]
    }
   ],
   "source": [
    "import requests\n",
    "# 获取图片\n",
    "p = session.get('https://wallhaven.cc/')\n",
    "\n",
    "get_pic = p.html.find('span.sm-thumb > a > img')\n",
    "get_pic\n",
    "for y in get_pic:\n",
    "    img_url = y.attrs['src']\n",
    "    print(img_url)\n",
    "    image_name = img_url.split('/')[-1]\n",
    "    print(img_url,image_name)  # 打印图片链接和图片名字\n",
    "    img_response = requests.get(img_url)  #请求图片\n",
    "    with open('imgs/'+image_name,'wb') as file:\n",
    "        file.write(img_response.content)"
   ],
   "metadata": {
    "collapsed": false
   }
  },
  {
   "cell_type": "code",
   "execution_count": null,
   "outputs": [],
   "source": [],
   "metadata": {
    "collapsed": false
   }
  }
 ],
 "metadata": {
  "kernelspec": {
   "display_name": "Python 3",
   "language": "python",
   "name": "python3"
  },
  "language_info": {
   "codemirror_mode": {
    "name": "ipython",
    "version": 2
   },
   "file_extension": ".py",
   "mimetype": "text/x-python",
   "name": "python",
   "nbconvert_exporter": "python",
   "pygments_lexer": "ipython2",
   "version": "2.7.6"
  }
 },
 "nbformat": 4,
 "nbformat_minor": 0
}
