{
 "cells": [
  {
   "cell_type": "markdown",
   "metadata": {},
   "source": [
    "# 1. 请求数据准备"
   ]
  },
  {
   "cell_type": "code",
   "execution_count": 2,
   "metadata": {
    "scrolled": true
   },
   "outputs": [
    {
     "data": {
      "text/plain": [
       "{'Accept': 'application/json, text/plain, */*',\n",
       " 'Accept-Encoding': 'gzip, deflate, br',\n",
       " 'Accept-Language': 'zh-CN,zh;q=0.9',\n",
       " 'Connection': 'keep-alive',\n",
       " 'Content-Length': '487',\n",
       " 'Content-Type': 'application/json;charset=UTF-8;',\n",
       " 'Cookie': 'XSRF-TOKEN=zIARnRM0QQaLudJk_4OBXw; __gc_id=e936feed5bd343e5a73b304fa0d4ad5f; _ga=GA1.1.504776059.1697021947; __uuid=1697021948310.51; __tlog=1697021948354.48%7C00000000%7C00000000%7C00000000%7C00000000; Hm_lvt_a2647413544f5a04f00da7eee0d5e200=1697021951; acw_tc=2760828416970219810274366e53a098388abcfc886c89f5cbf2332344893f; Hm_lpvt_a2647413544f5a04f00da7eee0d5e200=1697021975; __session_seq=4; __uv_seq=4; __tlg_event_seq=24; _ga_54YTJKWN86=GS1.1.1697021946.1.1.1697023027.0.0.0',\n",
       " 'Host': 'api-c.liepin.com',\n",
       " 'Origin': 'https://www.liepin.com',\n",
       " 'Referer': 'https://www.liepin.com/zhaopin/?currentPage=0&pageSize=40&city=050090&dq=050090&pubTime=&key=%E4%BA%A7%E5%93%81%E7%BB%8F%E7%90%86&suggestTag=&otherCity=&industry=&ckId=geq5b0qsi9umzbhn0oojbi2j8v8qu2bb&scene=condition&skId=geq5b0qsi9umzbhn0oojbi2j8v8qu2bb&fkId=geq5b0qsi9umzbhn0oojbi2j8v8qu2bb&sfrom=search_job_pc&suggestId=',\n",
       " 'Sec-Fetch-Dest': 'empty',\n",
       " 'Sec-Fetch-Mode': 'cors',\n",
       " 'Sec-Fetch-Site': 'same-site',\n",
       " 'User-Agent': 'Mozilla/5.0 (Windows NT 6.1; WOW64) AppleWebKit/537.36 (KHTML, like Gecko) Chrome/81.0.4044.122 Safari/537.36',\n",
       " 'X-Client-Type': 'web',\n",
       " 'X-Fscp-Bi-Stat': '{\"location\": \"https://www.liepin.com/zhaopin/?currentPage=0&pageSize=40&city=050090&dq=050090&pubTime=&key=%E4%BA%A7%E5%93%81%E7%BB%8F%E7%90%86&suggestTag=&otherCity=&industry=&ckId=geq5b0qsi9umzbhn0oojbi2j8v8qu2bb&scene=condition&skId=geq5b0qsi9umzbhn0oojbi2j8v8qu2bb&fkId=geq5b0qsi9umzbhn0oojbi2j8v8qu2bb&sfrom=search_job_pc&suggestId=\"}',\n",
       " 'X-Fscp-Fe-Version': '',\n",
       " 'X-Fscp-Std-Info': '{\"client_id\": \"40108\"}',\n",
       " 'X-Fscp-Trace-Id': '187c89d1-ed19-48b2-99fe-85ceeb116589',\n",
       " 'X-Fscp-Version': '1.1',\n",
       " 'X-Requested-With': 'XMLHttpRequest',\n",
       " 'X-XSRF-TOKEN': 'zIARnRM0QQaLudJk_4OBXw'}"
      ]
     },
     "execution_count": 2,
     "metadata": {},
     "output_type": "execute_result"
    }
   ],
   "source": [
    "# header\n",
    "import liepindata\n",
    "liepindata.headers()"
   ]
  },
  {
   "cell_type": "code",
   "execution_count": 3,
   "metadata": {
    "scrolled": true
   },
   "outputs": [
    {
     "data": {
      "text/plain": [
       "{'data': {'mainSearchPcConditionForm': {'city': '050090',\n",
       "   'dq': '050090',\n",
       "   'pubTime': '',\n",
       "   'currentPage': '0',\n",
       "   'pageSize': 40,\n",
       "   'key': '数据分析师',\n",
       "   'suggestTag': '',\n",
       "   'workYearCode': '2',\n",
       "   'compId': '',\n",
       "   'compName': '',\n",
       "   'compTag': '',\n",
       "   'industry': '',\n",
       "   'salary': '',\n",
       "   'jobKind': '',\n",
       "   'compScale': '',\n",
       "   'compKind': '',\n",
       "   'compStage': '',\n",
       "   'eduLevel': ''},\n",
       "  'passThroughForm': {'scene': 'condition',\n",
       "   'skId': 'geq5b0qsi9umzbhn0oojbi2j8v8qu2bb',\n",
       "   'fkId': 'geq5b0qsi9umzbhn0oojbi2j8v8qu2bb',\n",
       "   'ckId': 'y2jy1uvl2gar8xipyemg77rijoomop78',\n",
       "   'suggest': None}}}"
      ]
     },
     "execution_count": 3,
     "metadata": {},
     "output_type": "execute_result"
    }
   ],
   "source": [
    "# payload\n",
    "liepindata.request_payload(\"深圳\",\"数据分析师\",\"实习生\")"
   ]
  },
  {
   "cell_type": "markdown",
   "metadata": {},
   "source": [
    "# 2. 指定数据抓取"
   ]
  },
  {
   "cell_type": "code",
   "execution_count": 8,
   "outputs": [],
   "source": [
    "import liepindata\n",
    "import pandas\n",
    "from requests_html import HTMLSession\n",
    "import json\n",
    "import pandas as pd"
   ],
   "metadata": {
    "collapsed": false
   }
  },
  {
   "cell_type": "code",
   "execution_count": 9,
   "metadata": {},
   "outputs": [],
   "source": [
    "session = HTMLSession()\n",
    "url='https://apic.liepin.com/api/com.liepin.searchfront4c.pc-search-job'"
   ]
  },
  {
   "cell_type": "code",
   "execution_count": 10,
   "metadata": {},
   "outputs": [],
   "source": [
    "r = session.post(url, data=json.dumps(liepindata.request_payload(\"深圳\",\"数据分析师\",\"实习生\")), headers=liepindata.headers())"
   ]
  },
  {
   "cell_type": "code",
   "execution_count": 11,
   "outputs": [
    {
     "data": {
      "text/plain": "requests_html.HTMLResponse"
     },
     "execution_count": 11,
     "metadata": {},
     "output_type": "execute_result"
    }
   ],
   "source": [
    "type(r)"
   ],
   "metadata": {
    "collapsed": false
   }
  },
  {
   "cell_type": "code",
   "execution_count": 12,
   "metadata": {},
   "outputs": [],
   "source": [
    "response_data = r.json()"
   ]
  },
  {
   "cell_type": "code",
   "execution_count": 13,
   "metadata": {},
   "outputs": [
    {
     "name": "stdout",
     "output_type": "stream",
     "text": [
      "{'flag': 1, 'data': {'data': {'jobCardList': [{'recruiter': {'imId': 'af7cc15119b20c4767afc08fad36a30d', 'imUserType': '2', 'chatted': False, 'recruiterName': '许女士', 'recruiterTitle': 'HRBP', 'recruiterPhoto': '61e142d872d04a0011da63af07u.png', 'recruiterId': '333000602100d7315764562faa94a890'}, 'comp': {'compName': '一面数据', 'compLogo': '60e65d04e2df5862a0867b0c05u.png', 'compId': 8697730, 'compScale': '100-499人', 'compIndustry': '互联网', 'link': 'https://www.liepin.com/company/8697730/'}, 'dataParams': '{\"userId\":\"333000602100d7315764562faa94a890\",\"imId\":\"af7cc15119b20c4767afc08fad36a30d\",\"imUserType\":\"2\",\"jobKind\":\"6\",\"recruiterName\":\"许女士\",\"jobId\":\"61376049\",\"recruiterPhoto\":\"61e142d872d04a0011da63af07u.png\"}', 'dataInfo': '%7B%22ckId%22%3A%22y2jy1uvl2gar8xipyemg77rijoomop78%22%2C%22scene%22%3A%22condition%22%2C%22skId%22%3A%22geq5b0qsi9umzbhn0oojbi2j8v8qu2bb%22%2C%22fkId%22%3A%22y2jy1uvl2gar8xipyemg77rijoomop78%22%2C%22sfrom%22%3A%22search_job_pc%22%2C%22jobKind%22%3A%226%22%2C%22pageSize%22%3A%2240%22%2C%22curPage%22%3A%220%22%2C%22jobId%22%3A%2261376049%22%2C%22d_curPage%22%3A%220%22%2C%22d_pageSize%22%3A%2240%22%2C%22as_from%22%3A%22search_prime%22%7D', 'job': {'labels': ['3个月', '本科'], 'salary': '150-200元/天', 'pcOuterLink': '', 'h5OuterLink': '', 'dq': '深圳-南山区', 'title': '数据分析师（实习）', 'jobKind': '6', 'topJob': False, 'refreshTime': '20230911101109', 'jobId': '61376049', 'dataPromId': 'd_sfrom=search_prime&d_ckId=null&d_curPage=0&d_pageSize=40&d_headId=null&d_posi=0&skId=geq5b0qsi9umzbhn0oojbi2j8v8qu2bb&fkId=y2jy1uvl2gar8xipyemg77rijoomop78&ckId=y2jy1uvl2gar8xipyemg77rijoomop78&sfrom=search_job_pc&curPage=0&pageSize=40&index=0', 'campusJobKind': '实习', 'link': 'https://www.liepin.com/lptjob/61376049', 'advViewFlag': False}}, {'recruiter': {'imId': 'af7cc15119b20c4767afc08fad36a30d', 'imUserType': '2', 'chatted': False, 'recruiterName': '许女士', 'recruiterTitle': 'HRBP', 'recruiterPhoto': '61e142d872d04a0011da63af07u.png', 'recruiterId': '333000602100d7315764562faa94a890'}, 'comp': {'compName': '一面数据', 'compLogo': '60e65d04e2df5862a0867b0c05u.png', 'compId': 8697730, 'compScale': '100-499人', 'compIndustry': '互联网', 'link': 'https://www.liepin.com/company/8697730/'}, 'dataParams': '{\"userId\":\"333000602100d7315764562faa94a890\",\"imId\":\"af7cc15119b20c4767afc08fad36a30d\",\"imUserType\":\"2\",\"jobKind\":\"6\",\"recruiterName\":\"许女士\",\"jobId\":\"60104163\",\"recruiterPhoto\":\"61e142d872d04a0011da63af07u.png\"}', 'dataInfo': '%7B%22ckId%22%3A%22y2jy1uvl2gar8xipyemg77rijoomop78%22%2C%22scene%22%3A%22condition%22%2C%22skId%22%3A%22geq5b0qsi9umzbhn0oojbi2j8v8qu2bb%22%2C%22fkId%22%3A%22y2jy1uvl2gar8xipyemg77rijoomop78%22%2C%22sfrom%22%3A%22search_job_pc%22%2C%22jobKind%22%3A%226%22%2C%22pageSize%22%3A%2240%22%2C%22curPage%22%3A%220%22%2C%22jobId%22%3A%2260104163%22%2C%22d_curPage%22%3A%220%22%2C%22d_pageSize%22%3A%2240%22%2C%22as_from%22%3A%22search_prime%22%7D', 'job': {'labels': ['3个月', '本科'], 'salary': '150-200元/天', 'pcOuterLink': '', 'h5OuterLink': '', 'dq': '深圳-南山区', 'title': '数据分析师（实习生）', 'jobKind': '6', 'topJob': False, 'refreshTime': '20230911101109', 'jobId': '60104163', 'dataPromId': 'd_sfrom=search_prime&d_ckId=null&d_curPage=0&d_pageSize=40&d_headId=null&d_posi=1&skId=geq5b0qsi9umzbhn0oojbi2j8v8qu2bb&fkId=y2jy1uvl2gar8xipyemg77rijoomop78&ckId=y2jy1uvl2gar8xipyemg77rijoomop78&sfrom=search_job_pc&curPage=0&pageSize=40&index=1', 'campusJobKind': '实习', 'link': 'https://www.liepin.com/lptjob/60104163', 'advViewFlag': False}}, {'recruiter': {'imId': '9792e818d4dc8f43b8186adbf6c31dd6', 'imUserType': '2', 'chatted': False, 'recruiterName': '戴先生', 'recruiterTitle': '部门主管', 'recruiterPhoto': '5f8f986bdfb13a7dee342f2108u.jpg', 'recruiterId': 'b06533f5e3a36c6bf95cd792e49c0cb3'}, 'comp': {'compName': '趣宠儿', 'compLogo': '64dd9438f5796c30a18b3e4308u.jpg', 'compId': 13646711, 'compScale': '1-49人', 'compIndustry': '批发/零售', 'link': 'https://www.liepin.com/company/13646711/'}, 'dataParams': '{\"userId\":\"b06533f5e3a36c6bf95cd792e49c0cb3\",\"imId\":\"9792e818d4dc8f43b8186adbf6c31dd6\",\"imUserType\":\"2\",\"jobKind\":\"6\",\"recruiterName\":\"戴先生\",\"jobId\":\"62071461\",\"recruiterPhoto\":\"5f8f986bdfb13a7dee342f2108u.jpg\"}', 'dataInfo': '%7B%22ckId%22%3A%22y2jy1uvl2gar8xipyemg77rijoomop78%22%2C%22scene%22%3A%22condition%22%2C%22skId%22%3A%22geq5b0qsi9umzbhn0oojbi2j8v8qu2bb%22%2C%22fkId%22%3A%22y2jy1uvl2gar8xipyemg77rijoomop78%22%2C%22sfrom%22%3A%22search_job_pc%22%2C%22jobKind%22%3A%226%22%2C%22pageSize%22%3A%2240%22%2C%22curPage%22%3A%220%22%2C%22jobId%22%3A%2262071461%22%2C%22d_curPage%22%3A%220%22%2C%22d_pageSize%22%3A%2240%22%2C%22as_from%22%3A%22search_prime%22%7D', 'job': {'labels': ['1个月', '本科'], 'salary': '100-200元/天', 'pcOuterLink': '', 'h5OuterLink': '', 'dq': '深圳-龙华区', 'title': '电商数据分析师', 'jobKind': '6', 'topJob': False, 'refreshTime': '20231009152530', 'jobId': '62071461', 'dataPromId': 'd_sfrom=search_prime&d_ckId=null&d_curPage=0&d_pageSize=40&d_headId=null&d_posi=2&skId=geq5b0qsi9umzbhn0oojbi2j8v8qu2bb&fkId=y2jy1uvl2gar8xipyemg77rijoomop78&ckId=y2jy1uvl2gar8xipyemg77rijoomop78&sfrom=search_job_pc&curPage=0&pageSize=40&index=2', 'campusJobKind': '实习', 'link': 'https://www.liepin.com/lptjob/62071461', 'advViewFlag': False}}, {'recruiter': {'imId': 'eba2a734af033ebfe3db76272f25835f', 'imUserType': '2', 'chatted': False, 'recruiterName': '聂女士', 'recruiterTitle': '招聘HR', 'recruiterPhoto': '5f8f986779c7cc70efbf36c008u.jpg', 'recruiterId': 'de449628d28f6e0a829c07ab21d1e65f'}, 'comp': {'compName': '纽瑞芯科技', 'compLogo': '612e18593623ff40ef127a0206u.png', 'compId': 9629844, 'compScale': '50-99人', 'compIndustry': '电子/半导体/集成电路', 'link': 'https://www.liepin.com/company/9629844/'}, 'dataParams': '{\"userId\":\"de449628d28f6e0a829c07ab21d1e65f\",\"imId\":\"eba2a734af033ebfe3db76272f25835f\",\"imUserType\":\"2\",\"jobKind\":\"6\",\"recruiterName\":\"聂女士\",\"jobId\":\"60823033\",\"recruiterPhoto\":\"5f8f986779c7cc70efbf36c008u.jpg\"}', 'dataInfo': '%7B%22ckId%22%3A%22y2jy1uvl2gar8xipyemg77rijoomop78%22%2C%22scene%22%3A%22condition%22%2C%22skId%22%3A%22geq5b0qsi9umzbhn0oojbi2j8v8qu2bb%22%2C%22fkId%22%3A%22y2jy1uvl2gar8xipyemg77rijoomop78%22%2C%22sfrom%22%3A%22search_job_pc%22%2C%22jobKind%22%3A%226%22%2C%22pageSize%22%3A%2240%22%2C%22curPage%22%3A%220%22%2C%22jobId%22%3A%2260823033%22%2C%22d_curPage%22%3A%220%22%2C%22d_pageSize%22%3A%2240%22%2C%22as_from%22%3A%22search_prime%22%7D', 'job': {'labels': ['6个月', '提供转正', '硕士', '数据挖掘', '数据分析'], 'salary': '200-250元/天', 'pcOuterLink': '', 'h5OuterLink': '', 'dq': '深圳-龙岗区', 'title': '数据分析师', 'jobKind': '6', 'topJob': False, 'refreshTime': '20230921150600', 'jobId': '60823033', 'dataPromId': 'd_sfrom=search_prime&d_ckId=null&d_curPage=0&d_pageSize=40&d_headId=null&d_posi=3&skId=geq5b0qsi9umzbhn0oojbi2j8v8qu2bb&fkId=y2jy1uvl2gar8xipyemg77rijoomop78&ckId=y2jy1uvl2gar8xipyemg77rijoomop78&sfrom=search_job_pc&curPage=0&pageSize=40&index=3', 'campusJobKind': '实习', 'link': 'https://www.liepin.com/lptjob/60823033', 'advViewFlag': False}}, {'recruiter': {'imId': 'd277ba7748742ef667766a03c68ce883', 'imUserType': '2', 'chatted': False, 'recruiterName': '赵女士', 'recruiterTitle': '人力经理', 'recruiterPhoto': '5f8f986779c7cc70efbf36c008u.jpg', 'recruiterId': '45cea54f80da2a0e4abfe6a2f509b725'}, 'comp': {'compName': '北京上奇数字科技有限公司', 'compStage': '其他', 'compLogo': '61b07937d0458d53c627567e02u.jpg', 'compId': 12593225, 'compScale': '50-99人', 'compIndustry': '人工智能', 'link': 'https://www.liepin.com/company/12593225/'}, 'dataParams': '{\"userId\":\"45cea54f80da2a0e4abfe6a2f509b725\",\"imId\":\"d277ba7748742ef667766a03c68ce883\",\"imUserType\":\"2\",\"jobKind\":\"6\",\"recruiterName\":\"赵女士\",\"jobId\":\"62312071\",\"recruiterPhoto\":\"5f8f986779c7cc70efbf36c008u.jpg\"}', 'dataInfo': '%7B%22ckId%22%3A%22y2jy1uvl2gar8xipyemg77rijoomop78%22%2C%22scene%22%3A%22condition%22%2C%22skId%22%3A%22geq5b0qsi9umzbhn0oojbi2j8v8qu2bb%22%2C%22fkId%22%3A%22y2jy1uvl2gar8xipyemg77rijoomop78%22%2C%22sfrom%22%3A%22search_job_pc%22%2C%22jobKind%22%3A%226%22%2C%22pageSize%22%3A%2240%22%2C%22curPage%22%3A%220%22%2C%22jobId%22%3A%2262312071%22%2C%22d_curPage%22%3A%220%22%2C%22d_pageSize%22%3A%2240%22%2C%22as_from%22%3A%22search_prime%22%7D', 'job': {'labels': ['2个月', '本科', '数据采集'], 'salary': '180-250元/天', 'pcOuterLink': '', 'h5OuterLink': '', 'dq': '深圳-南山区', 'title': '数据采集（短期2个月）', 'jobKind': '6', 'topJob': False, 'refreshTime': '20231020100619', 'jobId': '62312071', 'dataPromId': 'd_sfrom=search_prime&d_ckId=null&d_curPage=0&d_pageSize=40&d_headId=null&d_posi=4&skId=geq5b0qsi9umzbhn0oojbi2j8v8qu2bb&fkId=y2jy1uvl2gar8xipyemg77rijoomop78&ckId=y2jy1uvl2gar8xipyemg77rijoomop78&sfrom=search_job_pc&curPage=0&pageSize=40&index=4', 'campusJobKind': '实习', 'link': 'https://www.liepin.com/lptjob/62312071', 'advViewFlag': False}}, {'recruiter': {'imId': '40d2b5b20894d05ed1ab17cab7c5f1ad', 'imUserType': '2', 'chatted': False, 'recruiterName': '靳女士', 'recruiterTitle': '人事部主任', 'recruiterPhoto': '5f8f9865ea60860b75384fa508u.jpg', 'recruiterId': 'ed87b0e89eca556f06cd81ae499e1bb7'}, 'comp': {'compName': '广东南方碳捕集与封存产业中心', 'compLogo': '5bfe9e5074719d2aa34b8c9c03a.png', 'compId': 8925376, 'compScale': '1-49人', 'compIndustry': '环保', 'link': 'https://www.liepin.com/company/8925376/'}, 'dataParams': '{\"userId\":\"ed87b0e89eca556f06cd81ae499e1bb7\",\"imId\":\"40d2b5b20894d05ed1ab17cab7c5f1ad\",\"imUserType\":\"2\",\"jobKind\":\"6\",\"recruiterName\":\"靳女士\",\"jobId\":\"61829227\",\"recruiterPhoto\":\"5f8f9865ea60860b75384fa508u.jpg\"}', 'dataInfo': '%7B%22ckId%22%3A%22y2jy1uvl2gar8xipyemg77rijoomop78%22%2C%22scene%22%3A%22condition%22%2C%22skId%22%3A%22geq5b0qsi9umzbhn0oojbi2j8v8qu2bb%22%2C%22fkId%22%3A%22y2jy1uvl2gar8xipyemg77rijoomop78%22%2C%22sfrom%22%3A%22search_job_pc%22%2C%22jobKind%22%3A%226%22%2C%22pageSize%22%3A%2240%22%2C%22curPage%22%3A%220%22%2C%22jobId%22%3A%2261829227%22%2C%22d_curPage%22%3A%220%22%2C%22d_pageSize%22%3A%2240%22%2C%22as_from%22%3A%22search_prime%22%7D', 'job': {'labels': ['3个月', '本科', '数据收集', 'MySQL', 'Python', 'ESG', '双碳', '数据分析', '报告撰写能力'], 'salary': '200-250元/天', 'pcOuterLink': '', 'h5OuterLink': '', 'dq': '深圳-罗湖区', 'title': '双碳数据分析员', 'jobKind': '6', 'topJob': False, 'refreshTime': '20231017155519', 'jobId': '61829227', 'dataPromId': 'd_sfrom=search_prime&d_ckId=null&d_curPage=0&d_pageSize=40&d_headId=null&d_posi=5&skId=geq5b0qsi9umzbhn0oojbi2j8v8qu2bb&fkId=y2jy1uvl2gar8xipyemg77rijoomop78&ckId=y2jy1uvl2gar8xipyemg77rijoomop78&sfrom=search_job_pc&curPage=0&pageSize=40&index=5', 'campusJobKind': '实习', 'link': 'https://www.liepin.com/lptjob/61829227', 'advViewFlag': False}}, {'recruiter': {'imId': '32bc371dd0c5aa084cd3c71b72ec7035', 'imUserType': '2', 'chatted': False, 'recruiterName': '罗女士', 'recruiterTitle': '人事经理', 'recruiterPhoto': '5f8f9865ea60860b75384fa508u.jpg', 'recruiterId': '52c2be5b54e23f5ce9eeeef07af71818'}, 'comp': {'compName': '招商局食品(中国)有限公司', 'compLogo': '61b07937d0458d53c627567e02u.jpg', 'compId': 13425191, 'compScale': '100-499人', 'compIndustry': '食品/饮料/酒水', 'link': 'https://www.liepin.com/company/13425191/'}, 'dataParams': '{\"userId\":\"52c2be5b54e23f5ce9eeeef07af71818\",\"imId\":\"32bc371dd0c5aa084cd3c71b72ec7035\",\"imUserType\":\"2\",\"jobKind\":\"6\",\"recruiterName\":\"罗女士\",\"jobId\":\"61616763\",\"recruiterPhoto\":\"5f8f9865ea60860b75384fa508u.jpg\"}', 'dataInfo': '%7B%22ckId%22%3A%22y2jy1uvl2gar8xipyemg77rijoomop78%22%2C%22scene%22%3A%22condition%22%2C%22skId%22%3A%22geq5b0qsi9umzbhn0oojbi2j8v8qu2bb%22%2C%22fkId%22%3A%22y2jy1uvl2gar8xipyemg77rijoomop78%22%2C%22sfrom%22%3A%22search_job_pc%22%2C%22jobKind%22%3A%226%22%2C%22pageSize%22%3A%2240%22%2C%22curPage%22%3A%220%22%2C%22jobId%22%3A%2261616763%22%2C%22d_curPage%22%3A%220%22%2C%22d_pageSize%22%3A%2240%22%2C%22as_from%22%3A%22search_prime%22%7D', 'job': {'labels': ['3个月', '学历不限', '分布式数据库'], 'salary': '50-100元/天', 'pcOuterLink': '', 'h5OuterLink': '', 'dq': '深圳-南山区', 'title': '实习生', 'jobKind': '6', 'topJob': False, 'refreshTime': '20231007161700', 'jobId': '61616763', 'dataPromId': 'd_sfrom=search_prime&d_ckId=null&d_curPage=0&d_pageSize=40&d_headId=null&d_posi=6&skId=geq5b0qsi9umzbhn0oojbi2j8v8qu2bb&fkId=y2jy1uvl2gar8xipyemg77rijoomop78&ckId=y2jy1uvl2gar8xipyemg77rijoomop78&sfrom=search_job_pc&curPage=0&pageSize=40&index=6', 'campusJobKind': '实习', 'link': 'https://www.liepin.com/lptjob/61616763', 'advViewFlag': False}}, {'recruiter': {'imId': '57e103d72bd5f17c337193710fe42056', 'imUserType': '2', 'chatted': False, 'recruiterName': '林先生', 'recruiterTitle': '招聘负责人', 'recruiterPhoto': '5f1a972c639c83538678826001u.png', 'recruiterId': 'c84239c9ace8777bf15eaa6682c94297'}, 'comp': {'compName': '迅雷', 'compStage': '美股上市', 'compLogo': '5bfe979b74719df0ac99439903a.png', 'compId': 856639, 'compScale': '1000-2000人', 'compIndustry': '互联网', 'link': 'https://www.liepin.com/company/856639/'}, 'dataParams': '{\"userId\":\"c84239c9ace8777bf15eaa6682c94297\",\"imId\":\"57e103d72bd5f17c337193710fe42056\",\"imUserType\":\"2\",\"jobKind\":\"6\",\"recruiterName\":\"林先生\",\"jobId\":\"58048049\",\"recruiterPhoto\":\"5f1a972c639c83538678826001u.png\"}', 'dataInfo': '%7B%22ckId%22%3A%22y2jy1uvl2gar8xipyemg77rijoomop78%22%2C%22scene%22%3A%22condition%22%2C%22skId%22%3A%22geq5b0qsi9umzbhn0oojbi2j8v8qu2bb%22%2C%22fkId%22%3A%22y2jy1uvl2gar8xipyemg77rijoomop78%22%2C%22sfrom%22%3A%22search_job_pc%22%2C%22jobKind%22%3A%226%22%2C%22pageSize%22%3A%2240%22%2C%22curPage%22%3A%220%22%2C%22jobId%22%3A%2258048049%22%2C%22d_curPage%22%3A%220%22%2C%22d_pageSize%22%3A%2240%22%2C%22as_from%22%3A%22search_prime%22%7D', 'job': {'labels': ['3个月', '本科', '数据分析', 'SQL'], 'salary': '200-250元/天', 'pcOuterLink': '', 'h5OuterLink': '', 'dq': '深圳-南山区', 'title': '数据分析实习生', 'jobKind': '6', 'topJob': False, 'refreshTime': '20230423141050', 'jobId': '58048049', 'dataPromId': 'd_sfrom=search_prime&d_ckId=null&d_curPage=0&d_pageSize=40&d_headId=null&d_posi=7&skId=geq5b0qsi9umzbhn0oojbi2j8v8qu2bb&fkId=y2jy1uvl2gar8xipyemg77rijoomop78&ckId=y2jy1uvl2gar8xipyemg77rijoomop78&sfrom=search_job_pc&curPage=0&pageSize=40&index=7', 'campusJobKind': '实习', 'link': 'https://www.liepin.com/lptjob/58048049', 'advViewFlag': False}}, {'recruiter': {'imId': 'ccf34065b9a847840fc036be1d441ef3', 'imUserType': '2', 'chatted': False, 'recruiterName': '郭女士', 'recruiterTitle': ' 子公司策略管理团队执行副总经理', 'recruiterPhoto': '5f8f9863f6d1ab58476f246a08u.jpg', 'recruiterId': '0c0ae25358f067fb369ed0cd11a68df2'}, 'comp': {'compName': '平安证券', 'compLogo': '5bfea50b74719d2aa34cd6ea03a.png', 'compId': 7860644, 'compScale': '2000-5000人', 'compIndustry': '基金/证券/期货', 'link': 'https://www.liepin.com/company/7860644/'}, 'dataParams': '{\"userId\":\"0c0ae25358f067fb369ed0cd11a68df2\",\"imId\":\"ccf34065b9a847840fc036be1d441ef3\",\"imUserType\":\"2\",\"jobKind\":\"6\",\"recruiterName\":\"郭女士\",\"jobId\":\"57061819\",\"recruiterPhoto\":\"5f8f9863f6d1ab58476f246a08u.jpg\"}', 'dataInfo': '%7B%22ckId%22%3A%22y2jy1uvl2gar8xipyemg77rijoomop78%22%2C%22scene%22%3A%22condition%22%2C%22skId%22%3A%22geq5b0qsi9umzbhn0oojbi2j8v8qu2bb%22%2C%22fkId%22%3A%22y2jy1uvl2gar8xipyemg77rijoomop78%22%2C%22sfrom%22%3A%22search_job_pc%22%2C%22jobKind%22%3A%226%22%2C%22pageSize%22%3A%2240%22%2C%22curPage%22%3A%220%22%2C%22jobId%22%3A%2257061819%22%2C%22d_curPage%22%3A%220%22%2C%22d_pageSize%22%3A%2240%22%2C%22as_from%22%3A%22search_prime%22%7D', 'job': {'labels': ['5个月', '本科', '数据采集', '数据挖掘', 'SQL', 'VBA', '数据分析', '数据可视化', '数据建模'], 'salary': '120元/天', 'pcOuterLink': '', 'h5OuterLink': '', 'dq': '深圳-福田区', 'title': '数据分析', 'jobKind': '6', 'topJob': False, 'refreshTime': '20230317133407', 'jobId': '57061819', 'dataPromId': 'd_sfrom=search_prime&d_ckId=null&d_curPage=0&d_pageSize=40&d_headId=null&d_posi=8&skId=geq5b0qsi9umzbhn0oojbi2j8v8qu2bb&fkId=y2jy1uvl2gar8xipyemg77rijoomop78&ckId=y2jy1uvl2gar8xipyemg77rijoomop78&sfrom=search_job_pc&curPage=0&pageSize=40&index=8', 'campusJobKind': '实习', 'link': 'https://www.liepin.com/lptjob/57061819', 'advViewFlag': False}}, {'recruiter': {'imId': '2adfa4d59d1f3efe39e48140c0193d97', 'imUserType': '2', 'chatted': False, 'recruiterName': '陈女士', 'recruiterTitle': 'HR', 'recruiterPhoto': '5f8f98648dbe6273dcf8515508u.jpg', 'recruiterId': '4b03d5cd244cc46345c190c582ffc5aa'}, 'comp': {'compName': '盖亚青柯', 'compLogo': '64129a0e416e883aa1c773b303u.png', 'compId': 13353691, 'compScale': '1-49人', 'compIndustry': '基金/证券/期货', 'link': 'https://www.liepin.com/company/13353691/'}, 'dataParams': '{\"userId\":\"4b03d5cd244cc46345c190c582ffc5aa\",\"imId\":\"2adfa4d59d1f3efe39e48140c0193d97\",\"imUserType\":\"2\",\"jobKind\":\"6\",\"recruiterName\":\"陈女士\",\"jobId\":\"56713457\",\"recruiterPhoto\":\"5f8f98648dbe6273dcf8515508u.jpg\"}', 'dataInfo': '%7B%22ckId%22%3A%22y2jy1uvl2gar8xipyemg77rijoomop78%22%2C%22scene%22%3A%22condition%22%2C%22skId%22%3A%22geq5b0qsi9umzbhn0oojbi2j8v8qu2bb%22%2C%22fkId%22%3A%22y2jy1uvl2gar8xipyemg77rijoomop78%22%2C%22sfrom%22%3A%22search_job_pc%22%2C%22jobKind%22%3A%226%22%2C%22pageSize%22%3A%2240%22%2C%22curPage%22%3A%220%22%2C%22jobId%22%3A%2256713457%22%2C%22d_curPage%22%3A%220%22%2C%22d_pageSize%22%3A%2240%22%2C%22as_from%22%3A%22search_prime%22%7D', 'job': {'labels': ['3个月', '提供转正', '本科', '数据建模', 'Pandas'], 'salary': '200-400元/天', 'pcOuterLink': '', 'h5OuterLink': '', 'dq': '深圳-福田区', 'title': '前台量化分析师 Desk Quant（实习）', 'jobKind': '6', 'topJob': False, 'refreshTime': '20230327091836', 'jobId': '56713457', 'dataPromId': 'd_sfrom=search_prime&d_ckId=null&d_curPage=0&d_pageSize=40&d_headId=null&d_posi=9&skId=geq5b0qsi9umzbhn0oojbi2j8v8qu2bb&fkId=y2jy1uvl2gar8xipyemg77rijoomop78&ckId=y2jy1uvl2gar8xipyemg77rijoomop78&sfrom=search_job_pc&curPage=0&pageSize=40&index=9', 'campusJobKind': '实习', 'link': 'https://www.liepin.com/lptjob/56713457', 'advViewFlag': False}}, {'recruiter': {'imId': 'd61b491e4956910f24eff958a002fd93', 'imUserType': '2', 'chatted': False, 'recruiterName': '刘先生', 'recruiterTitle': '招聘经理', 'recruiterPhoto': '5f8f986c79c7cc70efbf36c808u.jpg', 'recruiterId': '96493263c9802467fda4c66f404e4b08'}, 'comp': {'compName': '第一创业', 'compStage': '沪深A股上市', 'compLogo': '5bfe932974719d9f609a904e03a.png', 'compId': 7864530, 'compScale': '2000-5000人', 'compIndustry': '基金/证券/期货', 'link': 'https://www.liepin.com/company/7864530/'}, 'dataParams': '{\"userId\":\"96493263c9802467fda4c66f404e4b08\",\"imId\":\"d61b491e4956910f24eff958a002fd93\",\"imUserType\":\"2\",\"jobKind\":\"6\",\"recruiterName\":\"刘先生\",\"jobId\":\"44733631\",\"recruiterPhoto\":\"5f8f986c79c7cc70efbf36c808u.jpg\"}', 'dataInfo': '%7B%22ckId%22%3A%22y2jy1uvl2gar8xipyemg77rijoomop78%22%2C%22scene%22%3A%22condition%22%2C%22skId%22%3A%22geq5b0qsi9umzbhn0oojbi2j8v8qu2bb%22%2C%22fkId%22%3A%22y2jy1uvl2gar8xipyemg77rijoomop78%22%2C%22sfrom%22%3A%22search_job_pc%22%2C%22jobKind%22%3A%226%22%2C%22pageSize%22%3A%2240%22%2C%22curPage%22%3A%220%22%2C%22jobId%22%3A%2244733631%22%2C%22d_curPage%22%3A%220%22%2C%22d_pageSize%22%3A%2240%22%2C%22as_from%22%3A%22search_prime%22%7D', 'job': {'labels': ['学历不限', '数据收集', 'Python', 'SQL'], 'salary': '150元/天', 'pcOuterLink': '', 'h5OuterLink': '', 'dq': '深圳', 'title': '数据分析助理', 'jobKind': '6', 'topJob': False, 'refreshTime': '20220922162558', 'jobId': '44733631', 'dataPromId': 'd_sfrom=search_prime&d_ckId=null&d_curPage=0&d_pageSize=40&d_headId=null&d_posi=10&skId=geq5b0qsi9umzbhn0oojbi2j8v8qu2bb&fkId=y2jy1uvl2gar8xipyemg77rijoomop78&ckId=y2jy1uvl2gar8xipyemg77rijoomop78&sfrom=search_job_pc&curPage=0&pageSize=40&index=10', 'campusJobKind': '实习', 'link': 'https://www.liepin.com/lptjob/44733631', 'advViewFlag': False}}, {'recruiter': {'imId': '959301fe4bf4e660befa578784e31c32', 'imUserType': '2', 'chatted': False, 'recruiterName': '罗女士', 'recruiterTitle': '人事经理', 'recruiterPhoto': '5f8f9866dfb13a7dee342f1808u.jpg', 'recruiterId': '43b3719cfd66efd709d9662745eb941d'}, 'comp': {'compName': '深圳格隆汇信息科技有限公司', 'compLogo': '5e0efff829d83a675439801c06u.png', 'compId': 10228033, 'compScale': '100-499人', 'compIndustry': '科技金融', 'link': 'https://www.liepin.com/company/10228033/'}, 'dataParams': '{\"userId\":\"43b3719cfd66efd709d9662745eb941d\",\"imId\":\"959301fe4bf4e660befa578784e31c32\",\"imUserType\":\"2\",\"jobKind\":\"6\",\"recruiterName\":\"罗女士\",\"jobId\":\"50016735\",\"recruiterPhoto\":\"5f8f9866dfb13a7dee342f1808u.jpg\"}', 'dataInfo': '%7B%22ckId%22%3A%22y2jy1uvl2gar8xipyemg77rijoomop78%22%2C%22scene%22%3A%22condition%22%2C%22skId%22%3A%22geq5b0qsi9umzbhn0oojbi2j8v8qu2bb%22%2C%22fkId%22%3A%22y2jy1uvl2gar8xipyemg77rijoomop78%22%2C%22sfrom%22%3A%22search_job_pc%22%2C%22jobKind%22%3A%226%22%2C%22pageSize%22%3A%2240%22%2C%22curPage%22%3A%220%22%2C%22jobId%22%3A%2250016735%22%2C%22d_curPage%22%3A%220%22%2C%22d_pageSize%22%3A%2240%22%2C%22as_from%22%3A%22search_prime%22%7D', 'job': {'labels': ['3个月', '提供转正', '本科'], 'salary': '0-20元/天', 'pcOuterLink': '', 'h5OuterLink': '', 'dq': '深圳', 'title': '行业研究实习生', 'jobKind': '6', 'topJob': False, 'refreshTime': '20230910134725', 'jobId': '50016735', 'dataPromId': 'd_sfrom=search_prime&d_ckId=null&d_curPage=0&d_pageSize=40&d_headId=null&d_posi=11&skId=geq5b0qsi9umzbhn0oojbi2j8v8qu2bb&fkId=y2jy1uvl2gar8xipyemg77rijoomop78&ckId=y2jy1uvl2gar8xipyemg77rijoomop78&sfrom=search_job_pc&curPage=0&pageSize=40&index=11', 'campusJobKind': '实习', 'link': 'https://www.liepin.com/lptjob/50016735', 'advViewFlag': False}}, {'recruiter': {'imId': '85b79f44e5abcf5c160bef405ccde8ba', 'imUserType': '2', 'chatted': False, 'recruiterName': '徐先生', 'recruiterTitle': '招聘负责人', 'recruiterPhoto': '5f8f986aea60860b75384fab08u.jpg', 'recruiterId': '3eaca5601ff8e8beb512b4821ae39753'}, 'comp': {'compName': '中天国富证券', 'compLogo': '5f61e458f6d1ab5847583e3b06u.png', 'compId': 8479429, 'compScale': '500-999人', 'compIndustry': '基金/证券/期货', 'link': 'https://www.liepin.com/company/8479429/'}, 'dataParams': '{\"userId\":\"3eaca5601ff8e8beb512b4821ae39753\",\"imId\":\"85b79f44e5abcf5c160bef405ccde8ba\",\"imUserType\":\"2\",\"jobKind\":\"6\",\"recruiterName\":\"徐先生\",\"jobId\":\"58964965\",\"recruiterPhoto\":\"5f8f986aea60860b75384fab08u.jpg\"}', 'dataInfo': '%7B%22ckId%22%3A%22y2jy1uvl2gar8xipyemg77rijoomop78%22%2C%22scene%22%3A%22condition%22%2C%22skId%22%3A%22geq5b0qsi9umzbhn0oojbi2j8v8qu2bb%22%2C%22fkId%22%3A%22y2jy1uvl2gar8xipyemg77rijoomop78%22%2C%22sfrom%22%3A%22search_job_pc%22%2C%22jobKind%22%3A%226%22%2C%22pageSize%22%3A%2240%22%2C%22curPage%22%3A%220%22%2C%22jobId%22%3A%2258964965%22%2C%22d_curPage%22%3A%220%22%2C%22d_pageSize%22%3A%2240%22%2C%22as_from%22%3A%22search_prime%22%7D', 'job': {'labels': ['2个月', '硕士'], 'salary': '80-100元/天', 'pcOuterLink': '', 'h5OuterLink': '', 'dq': '深圳-南山区', 'title': '行业研究助理', 'jobKind': '6', 'topJob': False, 'refreshTime': '20230530192931', 'jobId': '58964965', 'dataPromId': 'd_sfrom=search_prime&d_ckId=null&d_curPage=0&d_pageSize=40&d_headId=null&d_posi=12&skId=geq5b0qsi9umzbhn0oojbi2j8v8qu2bb&fkId=y2jy1uvl2gar8xipyemg77rijoomop78&ckId=y2jy1uvl2gar8xipyemg77rijoomop78&sfrom=search_job_pc&curPage=0&pageSize=40&index=12', 'campusJobKind': '实习', 'link': 'https://www.liepin.com/lptjob/58964965', 'advViewFlag': False}}, {'recruiter': {'imId': '5ce1484d9a86ef3771de52c3bc0b6279', 'imUserType': '2', 'chatted': False, 'recruiterName': '张女士', 'recruiterTitle': '人力资源部专员', 'recruiterPhoto': '5febe70f3059cc17bf2e6ec407u.png', 'recruiterId': '903b24856228e8430412b4d953179852'}, 'comp': {'compName': '合丰投(深圳)投资有限公司', 'compLogo': '63ecb24a7e3d5966c13512e803u.jpg', 'compId': 12517119, 'compScale': '1-49人', 'compIndustry': '基金/证券/期货', 'link': 'https://www.liepin.com/company/12517119/'}, 'dataParams': '{\"userId\":\"903b24856228e8430412b4d953179852\",\"imId\":\"5ce1484d9a86ef3771de52c3bc0b6279\",\"imUserType\":\"2\",\"jobKind\":\"6\",\"recruiterName\":\"张女士\",\"jobId\":\"56308363\",\"recruiterPhoto\":\"5febe70f3059cc17bf2e6ec407u.png\"}', 'dataInfo': '%7B%22ckId%22%3A%22y2jy1uvl2gar8xipyemg77rijoomop78%22%2C%22scene%22%3A%22condition%22%2C%22skId%22%3A%22geq5b0qsi9umzbhn0oojbi2j8v8qu2bb%22%2C%22fkId%22%3A%22y2jy1uvl2gar8xipyemg77rijoomop78%22%2C%22sfrom%22%3A%22search_job_pc%22%2C%22jobKind%22%3A%226%22%2C%22pageSize%22%3A%2240%22%2C%22curPage%22%3A%220%22%2C%22jobId%22%3A%2256308363%22%2C%22d_curPage%22%3A%220%22%2C%22d_pageSize%22%3A%2240%22%2C%22as_from%22%3A%22search_prime%22%7D', 'job': {'labels': ['5个月', '提供转正', '本科'], 'salary': '100-150元/天', 'pcOuterLink': '', 'h5OuterLink': '', 'dq': '深圳-福田区', 'title': '行业数据分析实习生', 'jobKind': '6', 'topJob': False, 'refreshTime': '20231010144842', 'jobId': '56308363', 'dataPromId': 'd_sfrom=search_prime&d_ckId=null&d_curPage=0&d_pageSize=40&d_headId=null&d_posi=13&skId=geq5b0qsi9umzbhn0oojbi2j8v8qu2bb&fkId=y2jy1uvl2gar8xipyemg77rijoomop78&ckId=y2jy1uvl2gar8xipyemg77rijoomop78&sfrom=search_job_pc&curPage=0&pageSize=40&index=13', 'campusJobKind': '实习', 'link': 'https://www.liepin.com/lptjob/56308363', 'advViewFlag': False}}, {'recruiter': {'imId': '82bba4877dc36f3c50484ed2ccee87d4', 'imUserType': '2', 'chatted': False, 'recruiterName': '吴女士', 'recruiterTitle': '业务支持', 'recruiterPhoto': '5f8f98648dbe6273dcf8515508u.jpg', 'recruiterId': 'fe5686137dcc0d73f9004d2a4727733e'}, 'comp': {'compName': '财通证券', 'compStage': '沪深A股上市', 'compLogo': '5bfffb1e74719da073f116d603u.png', 'compId': 979118, 'compScale': '2000-5000人', 'compIndustry': '基金/证券/期货', 'link': 'https://www.liepin.com/company/979118/'}, 'dataParams': '{\"userId\":\"fe5686137dcc0d73f9004d2a4727733e\",\"imId\":\"82bba4877dc36f3c50484ed2ccee87d4\",\"imUserType\":\"2\",\"jobKind\":\"6\",\"recruiterName\":\"吴女士\",\"jobId\":\"51985567\",\"recruiterPhoto\":\"5f8f98648dbe6273dcf8515508u.jpg\"}', 'dataInfo': '%7B%22ckId%22%3A%22y2jy1uvl2gar8xipyemg77rijoomop78%22%2C%22scene%22%3A%22condition%22%2C%22skId%22%3A%22geq5b0qsi9umzbhn0oojbi2j8v8qu2bb%22%2C%22fkId%22%3A%22y2jy1uvl2gar8xipyemg77rijoomop78%22%2C%22sfrom%22%3A%22search_job_pc%22%2C%22jobKind%22%3A%226%22%2C%22pageSize%22%3A%2240%22%2C%22curPage%22%3A%220%22%2C%22jobId%22%3A%2251985567%22%2C%22d_curPage%22%3A%220%22%2C%22d_pageSize%22%3A%2240%22%2C%22as_from%22%3A%22search_prime%22%7D', 'job': {'labels': ['3个月', '提供转正', '硕士'], 'salary': '80-100元/天', 'pcOuterLink': '', 'h5OuterLink': '', 'dq': '深圳-福田区', 'title': '研究所-行业研究岗', 'jobKind': '6', 'topJob': False, 'refreshTime': '20220822131954', 'jobId': '51985567', 'dataPromId': 'd_sfrom=search_prime&d_ckId=null&d_curPage=0&d_pageSize=40&d_headId=null&d_posi=14&skId=geq5b0qsi9umzbhn0oojbi2j8v8qu2bb&fkId=y2jy1uvl2gar8xipyemg77rijoomop78&ckId=y2jy1uvl2gar8xipyemg77rijoomop78&sfrom=search_job_pc&curPage=0&pageSize=40&index=14', 'campusJobKind': '实习', 'link': 'https://www.liepin.com/lptjob/51985567', 'advViewFlag': False}}], 'compList': []}, 'passThroughData': {'ckId': 'y2jy1uvl2gar8xipyemg77rijoomop78', 'scene': 'condition', 'skId': 'geq5b0qsi9umzbhn0oojbi2j8v8qu2bb', 'fkId': 'y2jy1uvl2gar8xipyemg77rijoomop78', 'sfrom': 'search_job_pc'}, 'pagination': {'currentPage': 0, 'totalCounts': 15, 'totalPage': 1, 'pageSize': 40, 'hasNext': False}}}\n"
     ]
    }
   ],
   "source": [
    "print(response_data)"
   ]
  },
  {
   "cell_type": "code",
   "execution_count": null,
   "outputs": [],
   "source": [],
   "metadata": {
    "collapsed": false
   }
  }
 ],
 "metadata": {
  "kernelspec": {
   "display_name": "Python 3",
   "language": "python",
   "name": "python3"
  }
 },
 "nbformat": 4,
 "nbformat_minor": 4
}
