{
 "cells": [
  {
   "cell_type": "markdown",
   "metadata": {},
   "source": [
    "<font color=gray size=4> 2023-2024-01 </font> \n",
    "\n",
    "<font color=gray size=4> Python Web crawler</font>\n",
    "\n",
    "<font color=gray size=4> 主讲：许智超 </font>\n",
    "\n",
    "<font color=gray size=4> week01:文本图片一键式数据获取 </font>"
   ]
  },
  {
   "cell_type": "markdown",
   "metadata": {},
   "source": [
    "# 课程介绍\n",
    "\n",
    "* 本课程目标：数据挖掘（Web）+数据清洗+数据重塑+数据结论\n",
    "\n",
    "## [JupyterLab]\n",
    "\n",
    "\n",
    "----\n",
    "\n",
    "\n",
    "## [Pandas]\n",
    "\n",
    "-----\n",
    "\n",
    "> 1. [pandas cheat sheet 查询表](https://pandas.pydata.org/Pandas_Cheat_Sheet.pdf)\n",
    "> 2. [pandas Getting started](https://pandas.pydata.org/getting_started.html)\n",
    ">> 1. 环境搭建\n",
    ">> 2. [Tutorials](https://jupyterlab.readthedocs.io/en/stable/user/interface.html)\n",
    ">> 3. [Books](https://amzn.to/3DyLaJc)\n",
    ">> 4. [Videos资源](https://jupyterlab.readthedocs.io/en/stable/user/interface.html)\n",
    "\n",
    "-----\n",
    "\n",
    "## [Requests-HTML]\n",
    "\n",
    "* [文档链接](https://requests.readthedocs.io/projects/requests-html/en/latest/)\n",
    "\n",
    "-----\n",
    "\n",
    "\n",
    "\n",
    "## [Xpath]\n",
    "\n",
    "* [cheat sheet](https://devhints.io/xpath)\n",
    "\n",
    "-----\n",
    "\n",
    "\n",
    "\n",
    "## [Selenium]\n",
    "\n"
   ]
  },
  {
   "cell_type": "markdown",
   "metadata": {},
   "source": [
    "# jupyter notebook键盘快捷键\n",
    "___\n",
    "\n",
    "## 进入命令模式之后（此时你没有活跃单元），你可以尝试以下快捷键：\n",
    "* A 会在活跃单元之上插入一个新的单元，B 会在活跃单元之下插入一个新单元。\n",
    "* 连续按两次 D，可以删除一个单元。\n",
    "* 撤销被删除的单元，按 Z。\n",
    "* Y 会将当前活跃的单元变成一个代码单元。\n",
    "* 按住 Shift +上或下箭头可选择多个单元。在多选模式时，按住 Shift + M 可合并你的选择。\n",
    "* 按 F 会弹出「查找和替换」菜单。\n",
    "___\n",
    "## 处于编辑模式时（在命令模式时按 Enter 会进入编辑模式），你会发现下列快捷键很有用：\n",
    "* Ctrl + Home 到达单元起始位置。\n",
    "* Ctrl + S 保存进度。\n",
    "* 如之前提到的，Ctrl + Enter 会运行你的整个单元块。\n",
    "* Alt + Enter 不止会运行你的单元块，还会在下面添加一个新单元。\n",
    "* Ctrl + Shift + F 打开命令面板。"
   ]
  },
  {
   "cell_type": "markdown",
   "metadata": {},
   "source": [
    "# 体验项目一（页面表格数据）\n",
    "\n",
    "* 核心模块体验(Pandas)\n",
    "\n",
    "> 1. pd.read_html()\n",
    "> 2. pd.groupby()\n",
    "> 3. pd.to_excel()"
   ]
  },
  {
   "cell_type": "code",
   "execution_count": 1,
   "metadata": {},
   "outputs": [],
   "source": [
    "import pandas as pd"
   ]
  },
  {
   "cell_type": "markdown",
   "metadata": {},
   "source": [
    "## pd.read_html()\n",
    "\n",
    "* 参考文档：[read_html](https://pandas.pydata.org/docs/reference/api/pandas.read_html.html)\n",
    "> 1. Read HTML tables into a list of DataFrame objects."
   ]
  },
  {
   "cell_type": "code",
   "execution_count": 2,
   "metadata": {},
   "outputs": [
    {
     "data": {
      "text/plain": "[     0     1             2          3            4    5     6     7\n 0   排名  排名变化            企业  价值（亿元人民币）  价值变化（亿元人民币）   总部    行业  成立年份\n 1    1     0            抖音      13400       -10050   北京  社交媒体  2012\n 2    2     1        SpaceX       8400         1680  洛杉矶    航天  2002\n 3    3    -1          蚂蚁集团       8000        -2010   杭州  金融科技  2014\n 4    4     0        Stripe       4100        -2230  旧金山  金融科技  2010\n 5    5    11         Shein       4000         2680   广州  电子商务  2012\n 6    6    15            币安       3000         2010  马耳他   区块链  2017\n 7    7     1    Databricks       2500            0  旧金山   大数据  2013\n 8    8     3          微众银行       2200          200   深圳  金融科技  2014\n 9    9     2          京东科技       2000            0   北京  数字科技  2013\n 10  10    11  Checkout.com       1900          870   伦敦  金融科技  2012,\n       0      1           2   3    4      5          6\n 0   NaN     国家   独角兽数量（变化） NaN  NaN     城市  独角兽数量（变化）\n 1    1-     美国  625 (+138) NaN   1-    旧金山  176 (+25)\n 2    2-     中国   312 (+11) NaN   2↑     纽约  120 (+35)\n 3    3-     印度    68 (+14) NaN   3↓     北京    90 (-1)\n 4    4-     英国     46 (+7) NaN   4-     上海    69 (-2)\n 5    5-     德国    36 (+10) NaN   5↑     伦敦    39 (+8)\n 6    6↑    以色列     24 (+7) NaN   6↓     深圳    33 (+1)\n 7    7↓     法国     23 (+4) NaN   6↑   班加罗尔    33 (+5)\n 8    8-    加拿大     21 (+6) NaN   8↑     柏林    23 (+6)\n 9    9-     巴西     17 (+5) NaN   9↓     杭州    21 (-1)\n 10  10-     韩国     15 (+5) NaN   9-     巴黎    21 (+3)\n 11  11-    新加坡     12 (+5) NaN  11↑  帕洛阿尔托    19 (+7)\n 12  12↑     瑞典      8 (+4) NaN  11↑     广州    19 (+9)\n 13  12↑     日本      8 (+2) NaN  13↓    波士顿    17 (+5)\n 14  12↑   澳大利亚      8 (+3) NaN  14↓    山景城    15 (+3)\n 15  15↑     荷兰      7 (+4) NaN  14↑   特拉维夫    15 (+4)\n 16  15↓    墨西哥      7 (+2) NaN  14↑    圣保罗    15 (+5)\n 17  17↓     瑞士      6 (+2) NaN  17↓    芝加哥    13 (-2)\n 18  18↓  印度尼西亚      5 (-2) NaN  18↑     孟买    12 (+3)\n 19  18*     越南      5 (+4) NaN  18↑    新加坡    12 (+5)\n 20  18↑     挪威      5 (+3) NaN  18↓    古尔冈     12 (0)\n 21  21↓     芬兰      4 (+2) NaN  21↓  雷德伍德城     11 (0)\n 22  21↓    爱尔兰      4 (+2) NaN  21↑    洛杉矶    11 (+2)\n 23  23↓    阿联酋      3 (+1) NaN  21↓   圣马特奥     11 (0)\n 24  23↓   哥伦比亚      3 (+1) NaN  21↑     首尔    11 (+4)\n 25  23↓    奥地利      3 (+1) NaN  25↑   美国剑桥     9 (+2)\n 26  23↓    西班牙       3 (0) NaN  25*    奥斯汀     9 (+4)\n 27  23↓    土耳其      3 (+1) NaN  25*     丹佛     9 (+5)\n 28  23↓    菲律宾      3 (+1) NaN  25*     成都     9 (+4)\n 29  29↓     泰国       2 (0) NaN  29*    迈阿密     8 (+3)\n 30  29*    比利时      2 (+1) NaN  29*    华盛顿     8 (+3)\n 31  29↓   尼日利亚       2 (0) NaN  NaN    NaN        NaN\n 32  29↓     丹麦       2 (0) NaN  NaN    NaN        NaN\n 33  29*   爱沙尼亚      2 (+1) NaN  NaN    NaN        NaN\n 34  29*     智利      2 (+1) NaN  NaN    NaN        NaN\n 35  29↓    马耳他       2 (0) NaN  NaN    NaN        NaN\n 36  29*    立陶宛      2 (+1) NaN  NaN    NaN        NaN,\n      0    1          2      3   4    5      6          7      8   9     10  \\\n 0   NaN   城市  独角兽数量（变化）  占中国比例 NaN  NaN     城市  独角兽数量（变化）  占美国比例 NaN   NaN   \n 1    1-   北京    90 (-1)    29% NaN   1-    旧金山  176 (+25)    28% NaN   1.0   \n 2    2-   上海    69 (-2)    22% NaN   2-     纽约  120 (+35)    19% NaN   2.0   \n 3    3-   深圳    33 (+1)    11% NaN   3↑  帕洛阿尔托    19 (+7)     3% NaN   3.0   \n 4    4-   杭州    21 (-1)     7% NaN   4-    波士顿    17 (+5)     3% NaN   4.0   \n 5    5-   广州    19 (+9)     6% NaN   5↓    山景城    15 (+3)     2% NaN   5.0   \n 6    6↑   成都     9 (+4)     3% NaN   6↓    芝加哥    13 (-2)     2% NaN   5.0   \n 7    7↑   苏州     7 (+2)     2% NaN   7-  雷德伍德城     11 (0)     2% NaN   7.0   \n 8    7↓   南京     7 (-3)     2% NaN   7-   圣马特奥     11 (0)     2% NaN   7.0   \n 9    7-   香港      7 (0)     2% NaN   7↑    洛杉矶    11 (+2)     2% NaN   7.0   \n 10  10↓   青岛      5 (0)     2% NaN  10*     剑桥     9 (+2)     1% NaN  10.0   \n 11  NaN  NaN        NaN    NaN NaN  10*    奥斯汀     9 (+4)     1% NaN   NaN   \n 12  NaN  NaN        NaN    NaN NaN  10*     丹佛     9 (+5)     1% NaN   NaN   \n \n       11         12       13  \n 0     城市  独角兽数量（变化）  占其他国家比例  \n 1     伦敦    39 (+8)      10%  \n 2   班加罗尔    33 (+5)       9%  \n 3     柏林    23 (+6)       6%  \n 4     巴黎    21 (+3)       6%  \n 5    圣保罗    15 (+5)       4%  \n 6   特拉维夫    15 (+4)       4%  \n 7    新加坡    12 (+5)       3%  \n 8    古尔冈     12 (0)       3%  \n 9     孟买    12 (+3)       3%  \n 10    首尔    11 (+4)       3%  \n 11   NaN        NaN      NaN  \n 12   NaN        NaN      NaN  ,\n     0     1           2             3   4    5     6           7   \\\n 0  NaN    行业  独角兽数量占中国比例          代表企业 NaN  NaN    行业  独角兽数量占美国比例   \n 1  1.0  健康科技         10%       联影医疗、微医 NaN  1.0  软件服务         14%   \n 2  1.0  人工智能         10%     小马智行、文远知行 NaN  2.0  金融科技         11%   \n 3  3.0  电子商务          9%  Shein、车好多、得物 NaN  3.0  健康科技          9%   \n 4  3.0   半导体          9%    集创北方、歌尔微电子 NaN  4.0  人工智能          8%   \n 5  5.0  软件服务          6%      小红书、58同城 NaN  4.0  网络安全          8%   \n 6  5.0  企业服务          6%     京东产发、行云集团 NaN  NaN   NaN         NaN   \n 7  NaN   NaN         NaN           NaN NaN  NaN   NaN         NaN   \n \n                            8   9    10    11            12  \\\n 0                        代表企业 NaN  NaN    行业  独角兽数量占其他国家比例   \n 1       Rippling, Notion Labs NaN  1.0  金融科技           23%   \n 2  Stripe, Citadel Securities NaN  2.0  电子商务           17%   \n 3          Devoted Health, Ro NaN  3.0   区块链            6%   \n 4         Grammarly, Talkdesk NaN  3.0  软件服务            6%   \n 5            Tanium, Lacework NaN  5.0    游戏            4%   \n 6                         NaN NaN  5.0    物流            4%   \n 7                         NaN NaN  5.0  网络安全            4%   \n \n                       13  \n 0                   代表企业  \n 1  Checkout.com, Revolut  \n 2     J&T Express, Kavak  \n 3                币安, FTX  \n 4            Canva, Snyk  \n 5   Dream11, Moon Active  \n 6           Forto, Loggi  \n 7         1Password, Wiz  ,\n      0     1      2          3            4   5     6     7\n 0   排名  排名变化     企业  价值（亿元人民币）  价值变化（亿元人民币）  总部    行业  成立年份\n 1    1     0     抖音      13400       -10050  北京  社交媒体  2012\n 2    2     0   蚂蚁集团       8000        -2010  杭州  金融科技  2014\n 3    3     3  Shein       4000         2680  广州  电子商务  2012\n 4    4     0   微众银行       2200          200  深圳  金融科技  2014\n 5    5    -1   京东科技       2000            0  北京  数字科技  2013\n 6    6    -3   菜鸟网络       1800         -470  杭州    物流  2013\n 7    7    -1    小红书       1300            0  上海  软件服务  2013\n 8    8     0     大疆       1200          130  深圳   机器人  2006\n 9    9    24   联影医疗       1040          700  上海  健康科技  2010\n 10  10    -1   元气森林       1000            0  北京  食品饮料  2016,\n        0      1        2         3\n 0    NaN     国家  全球GDP排名  GDP（亿美元）\n 1    1.0    俄罗斯       11     14830\n 2    2.0  沙特阿拉伯       20      7000\n 3    3.0     波兰       21      5970\n 4    4.0   委内瑞拉       25      4820\n 5    5.0     埃及       31      3650\n 6    6.0     南非       39      3350\n 7    7.0   孟加拉国       40      3230\n 8    8.0   巴基斯坦       44      2630\n 9    9.0   罗马尼亚       46      2490\n 10  10.0    葡萄牙       48      2290,\n      0    1           2      3\n 0  NaN   地区   独角兽数量（变化）  总价值占比\n 1   1-   北美  654 (+145)    46%\n 2   2-   亚洲   462 (+51)    40%\n 3  3 -   欧洲   159 (+45)    12%\n 4  4 -   南美     24 (+8)     1%\n 5  5 -  大洋洲      9 (+4)     1%\n 6  6 -   非洲      4 (+1)   0.2%,\n        0                   1          2    3      4     5\n 0    NaN                  企业  价值（亿元人民币）   国家     行业  成立年份\n 1    1.0  Citadel Securities       1500   美国   金融科技  2001\n 2    2.0                Miro       1170   美国   企业服务  2011\n 3    3.0                  滴滴        965   中国   共享经济  2012\n 4    4.0          The CrownX        550   越南    消费品  2019\n 5    5.0              Dunamu        535   韩国    区块链  2012\n 6    6.0                远景动力        430   中国    新能源  2019\n 7    7.0              KuCoin        420  塞舌尔    区块链  2017\n 8    8.0    iCapital Network        400   美国   金融科技  2013\n 9    9.0                广汽埃安        390   中国  新能源汽车  2017\n 10  10.0     RELEX Solutions        380   芬兰   企业服务  2005\n 11  10.0  The Boring Company        380   美国     建筑  2016,\n           0     1             2\n 0    排名（变化）    行业   独角兽数量占比（变化）\n 1    1 (+1)  金融服务   18% (+5.9%)\n 2    2 (-1)  企业管理   17% (-6.1%)\n 3    3 (+1)  医疗健康  9.6% (+3.2%)\n 4    4 (-1)    零售   8.7% (-10%)\n 5    5 (+1)  网络安全     5% (+19%)\n 6    6 (-1)    物流  4.6% (+4.5%)\n 7     7 (0)    运输  3.3% (-5.7%)\n 8    8 (+1)    能源   2.8% (+56%)\n 9        9*   半导体          2.1%\n 10    9 (0)  食品饮料   2.1% (+17%)\n 11  11 (-2)    教育  1.9% (+5.6%)\n 12  11 (-3)  消费电子   1.9% (-30%)\n 13  13 (+1)    游戏     1.5% (0%)\n 14  14 (-5)    汽车   1.4% (-22%)\n 15  15 (+2)   房地产  1.3% (-7.1%)\n 16      15*    航天  1.3% (+8.3%)\n 17  17 (-3)  生命科学   1.2% (-20%)\n 18  18 (-4)  传媒娱乐     1% (-33%)\n 19  18 (-5)    酒店     1% (-38%)\n 20  18 (-1)    传播     1% (-29%),\n           0     1          2      3\n 0    排名（变化）    行业  独角兽数量（变化）  总价值占比\n 1     1 (0)  金融科技  168 (+29)  17.6%\n 2    2 (+1)  电子商务   127 (+5)   9.1%\n 3     2 (0)  软件服务   127 (-7)     9%\n 4    4 (+1)  健康科技   97 (+17)   5.3%\n 5    5 (-1)  人工智能   94 (+10)   5.7%\n 6     6 (0)  网络安全   61 (+21)   3.3%\n 7    7 (+1)   区块链   52 (+22)   5.4%\n 8       8 *  企业服务   40 (+22)   2.1%\n 9       8 *    物流    40 (+8)   3.1%\n 10  10 (-3)  生物科技    37 (+6)   1.9%,\n           0         1          2           3\n 0    排名（变化）      主营业务  独角兽数量（变化）  总价值（亿元人民币）\n 1     1 (0)      在线市场    70 (+3)       13000\n 2     2 (0)        支付    41 (-2)       22000\n 3     3 (0)      数字银行    25 (+5)        4100\n 4        4*      网络安全         17        2400\n 5        5*       云安全         16        2700\n 6    5 (+1)      在线教育    16 (+3)        2400\n 7    7 (+1)     云数据服务    15 (+4)        1800\n 8        7*        保险         15        2200\n 9        7*    人力资源管理         15        2800\n 10  10 (-6)      生物制药     14 (0)        1400\n 11  10 (-3)  虚拟货币交易平台         14        7400,\n        0               1          2      3   4\n 0   成立年份              企业  价值（亿元人民币）     行业  国家\n 1   2022        MSquared         67    区块链  英国\n 2   2021            极氪汽车        600  新能源汽车  中国\n 3   2021    Sierra Space        300     航天  美国\n 4   2021       Yuga Labs        265    区块链  美国\n 5   2021       Autograph        250    区块链  美国\n 6   2021   Aleph Holding        135     传媒  美国\n 7   2021      ClickHouse        135    大数据  美国\n 8   2021        Saks.com        135   电子商务  美国\n 9   2021            洛轲智能        135  新能源汽车  中国\n 10  2021            星空华文        110     娱乐  中国\n 11  2021            JOKR         80     快递  美国\n 12  2021         Phantom         80    区块链  美国\n 13  2021   Candy Digital         75   金融科技  美国\n 14  2021      GlobalBees         75     投资  印度\n 15  2021       Anthropic         67   人工智能  美国\n 16  2021           Aptos         67    区块链  美国\n 17  2021         Emplifi         67    云计算  美国\n 18  2021  LayerZero Labs         67    区块链  美国\n 19  2021    Mensa Brands         67     投资  印度,\n       0                    1            2     3  \\\n 0   NaN                 投资机构  上榜独角兽数量（变化）  创立国家   \n 1    1-                 红杉资本    234 (+28)    美国   \n 2    2↑                   软银    180 (+34)    日本   \n 3    3↓               老虎环球基金    169 (+22)    美国   \n 4    4↑                   腾讯     90 (+22)    中国   \n 5    5-     Insight Partners     89 (+18)    美国   \n 6    6↓                Accel     85 (+11)    美国   \n 7    7-  Andreessen Horowitz     84 (+14)    美国   \n 8    8*         Y Combinator     80 (+22)    美国   \n 9    9↑               Coatue     78 (+11)    美国   \n 10  10↓                   高盛      75 (+4)    美国   \n \n                                   4  \n 0                           主要全球合伙人  \n 1                 Roelof Botha, 沈南鹏  \n 2                  Junichi Miyakawa  \n 3     Scott Shleifer, Chase Coleman  \n 4                               刘炽平  \n 5                       Jeff Horing  \n 6   Jim R. Swartz, Arthur Patterson  \n 7                      Ben Horowitz  \n 8                Jessica Livingston  \n 9                  Kris Fredrickson  \n 10                    David Solomon  ,\n            0        1                        2              3\n 0     排名（变化）     投资机构                 Investor  上榜中国独角兽数量（变化）\n 1         1-     红杉中国            Sequoia China       103 (+7)\n 2     2 (+3)     中金资本                     CICC       71 (+41)\n 3     3 (+1)       腾讯                  Tencent       55 (+14)\n 4     4 (-1)    IDG资本              IDG Capital         50 (0)\n 5     5 (-3)     高瓴资本        Hillhouse Capital        44 (-8)\n 6         6*     中信资本                    CITIC             35\n 7         7-     经纬中国    Matrix Partners China        29 (+5)\n 8     8 (+4)     阿里巴巴                  Alibaba       28 (+10)\n 9     9 (-3)     启明创投  Qiming Venture Partners        26 (+1)\n 10    9 (+2)       软银                 Softbank        26 (+7)\n 11       11*  CPE源峰资本           CPE Investment             25\n 12   12 (-4)     云锋基金               YF Capital        24 (+2)\n 13   13 (-4)     纪源资本              GGV Capital        23 (+3)\n 14   13 (+1)     五源资本               5Y Capital        23 (+6)\n 15   15 (-6)     顺为资本          Shunwei Capital         20 (0)\n 16   16 (+7)     君联资本           Legend Capital       19 (+12)\n 17   16 (+7)       小米                   Xiaomi       19 (+12)\n 18   16 (+7)      淡马锡                  Temasek       19 (+12)\n 19   16 (-1)     鼎晖投资                      CDH        19 (+4)\n 20   20 (-3)  SIG海纳亚洲                      SIG        16 (+5)\n 21       20*     元禾控股                    Oriza             16\n 22       20*      深创投                     SCGC             16\n 23       20*     建银国际        CCB international             16\n 24   20 (+9)     钟鼎资本     Eastern Bell Capital       16 (+10)\n 25       25*       中银                      BOC             14\n 26       25*     松禾资本       Green Pine Capital             14\n 27  27 (-15)     真格基金                Zhen Fund        13 (-5)\n 28       27*     源码资本      Source Code Capital             13\n 29       27*       春华                Primavera             13\n 30       27*     基石资本                 Co-stone             13,\n       0     1         2   3     4    5          6   7     8     9           10\n 0    NaN    国家  全球瞪羚数量占比 NaN   NaN   国家  全球独角兽数量占比 NaN   NaN    国家  世界500强数量占比\n 1    1.0    美国       38% NaN   1.0   美国        48% NaN   1.0    美国         49%\n 2    2.0    中国       32% NaN   2.0   中国        24% NaN   2.0    中国          9%\n 3    3.0    印度        7% NaN   3.0   印度         5% NaN   3.0    日本          6%\n 4    4.0    英国        5% NaN   4.0   英国         4% NaN   4.0    英国          5%\n 5    5.0    德国      2.4% NaN   5.0   德国         3% NaN   5.0    德国          4%\n 6    6.0   以色列      1.8% NaN   6.0  以色列         2% NaN   6.0    法国        3.8%\n 7    6.0   新加坡      1.8% NaN   7.0   法国       1.8% NaN   7.0   加拿大        3.4%\n 8    6.0    法国      1.8% NaN   8.0  加拿大       1.6% NaN   8.0    瑞士          3%\n 9    9.0   加拿大      1.1% NaN   9.0   巴西       1.3% NaN   9.0    印度        2.4%\n 10  10.0    瑞士        1% NaN  10.0   韩国       1.1% NaN  10.0  澳大利亚        2.2%\n 11  10.0  澳大利亚        1% NaN   NaN  NaN        NaN NaN   NaN   NaN         NaN,\n      0     1         2   3    4     5          6   7    8     9           10\n 0   NaN    城市  全球瞪羚数量占比 NaN  NaN    城市  全球独角兽数量占比 NaN  NaN    城市  世界500强数量占比\n 1   1.0   旧金山       11% NaN  1.0   旧金山        13% NaN  1.0    纽约          6%\n 2   2.0    上海       10% NaN  2.0    纽约         9% NaN  2.0    伦敦        3.4%\n 3   3.0    北京        7% NaN  3.0    北京         7% NaN  2.0    东京        3.4%\n 4   4.0    纽约        6% NaN  4.0    上海         5% NaN  4.0   旧金山          3%\n 5   5.0    伦敦      4.7% NaN  5.0    伦敦         3% NaN  5.0    巴黎        2.8%\n 6   6.0    深圳      4.5% NaN  6.0    深圳       2.5% NaN  6.0    北京        1.8%\n 7   7.0    杭州      2.9% NaN  6.0  班加罗尔       2.5% NaN  6.0   圣何塞        1.8%\n 8   8.0  班加罗尔      2.7% NaN  8.0    柏林       1.8% NaN  8.0  圣克拉拉        1.6%\n 9   9.0    苏州      1.8% NaN  9.0    杭州       1.6% NaN  8.0   芝加哥        1.6%\n 10  9.0   波士顿      1.8% NaN  9.0    巴黎       1.6% NaN  8.0    孟买        1.6%\n 11  9.0   新加坡      1.8% NaN  NaN   NaN        NaN NaN  NaN   NaN         NaN,\n     0     1         2   3    4     5          6   7    8      9           10\n 0  NaN    行业  全球瞪羚数量占比 NaN  NaN    行业  全球独角兽数量占比 NaN  NaN     行业  世界500强数量占比\n 1  1.0  医疗健康       23% NaN  1.0  金融服务        18% NaN  1.0   金融服务         19%\n 2  2.0  金融服务       18% NaN  2.0  企业管理        17% NaN  2.0   医疗健康         12%\n 3  3.0  企业管理       17% NaN  3.0  医疗健康        10% NaN  3.0     能源        7.4%\n 4  4.0    零售        5% NaN  4.0    零售         9% NaN  4.0  软件与服务        7.2%\n 5  5.0    物流        3% NaN  5.0  网络安全         5% NaN  5.0     零售          6%,\n           0        1       2    3    4\n 0       NaN  销售软件和服务  销售实体产品  B2B  B2C\n 1    全球瞪羚企业      74%     26%  58%  42%\n 2   全球独角兽企业      80%     20%  52%  48%\n 3  世界500强企业      46%     54%  44%  56%,\n      0   1            2   3     4    5            6   7     8    9   \\\n 0   NaN  城市  中国猎豹数量占全国比例 NaN   NaN   城市  中国瞪羚数量占全国比例 NaN   NaN   城市   \n 1   1.0  上海          22% NaN   1.0   上海          31% NaN   1.0   北京   \n 2   2.0  北京          20% NaN   2.0   北京          22% NaN   2.0   上海   \n 3   3.0  深圳          12% NaN   3.0   深圳          14% NaN   3.0   深圳   \n 4   3.0  杭州          12% NaN   4.0   杭州           9% NaN   4.0   杭州   \n 5   5.0  苏州         6.2% NaN   5.0   苏州           6% NaN   5.0   广州   \n 6   6.0  广州         5.8% NaN   6.0   广州           3% NaN   6.0   成都   \n 7   7.0  南京           4% NaN   6.0   南京           3% NaN   7.0   苏州   \n 8   8.0  厦门           2% NaN   8.0   武汉           2% NaN   7.0   南京   \n 9   9.0  成都           1% NaN   8.0   天津           2% NaN   7.0   香港   \n 10  9.0  嘉兴           1% NaN  10.0   珠海         1.5% NaN  10.0   青岛   \n 11  9.0  香港           1% NaN   NaN  NaN          NaN NaN   NaN  NaN   \n \n               10  11    12  13             14  \n 0   中国独角兽数量占全国比例 NaN   NaN  城市  中国500强数量占全国比例  \n 1            29% NaN   1.0  上海          13.7%  \n 2            22% NaN   2.0  北京          13.5%  \n 3            11% NaN   3.0  深圳             9%  \n 4             7% NaN   4.0  杭州             6%  \n 5             6% NaN   4.0  香港             6%  \n 6             3% NaN   6.0  台北             5%  \n 7             2% NaN   7.0  广州           3.2%  \n 8             2% NaN   8.0  苏州           2.6%  \n 9             2% NaN   9.0  宁波             2%  \n 10            2% NaN  10.0  长沙           1.8%  \n 11           NaN NaN  10.0  无锡           1.8%  ,\n     0     1            2   3    4     5            6   7    8     9   \\\n 0  NaN    行业  中国猎豹数量占全国比例 NaN  NaN    行业  中国瞪羚数量占全国比例 NaN  NaN    行业   \n 1  1.0  生命科学          23% NaN  1.0  医疗健康          34% NaN  1.0    零售   \n 2  2.0  医疗健康          12% NaN  2.0  企业管理          13% NaN  2.0  医疗健康   \n 3  3.0    零售           8% NaN  3.0   半导体           8% NaN  3.0   半导体   \n 4  4.0  消费电子         5.4% NaN  4.0    零售           6% NaN  4.0    物流   \n 5  5.0  企业管理         4.6% NaN  4.0  传媒娱乐           6% NaN  4.0    运输   \n 6  5.0    汽车         4.6% NaN  NaN   NaN          NaN NaN  NaN   NaN   \n 7  5.0  智能芯片         4.6% NaN  NaN   NaN          NaN NaN  NaN   NaN   \n \n              10  11   12    13             14  \n 0  中国独角兽数量占全国比例 NaN  NaN    行业  中国500强数量占全国比例  \n 1           11% NaN  1.0  医疗健康            14%  \n 2           10% NaN  2.0    能源             9%  \n 3            9% NaN  3.0    化工             8%  \n 4            6% NaN  4.0  电子元件           6.3%  \n 5            6% NaN  5.0    零售           6.2%  \n 6           NaN NaN  NaN   NaN            NaN  \n 7           NaN NaN  NaN   NaN            NaN  ,\n           0        1       2    3    4\n 0       NaN  销售软件和服务  销售实体产品  B2B  B2C\n 1    中国猎豹企业      53%     47%  71%  29%\n 2    中国瞪羚企业      47%     53%  69%  31%\n 3   中国独角兽企业      60%     40%  52%  48%\n 4  中国500强企业      23%     77%  56%  44%,\n         0      1    2       3      4       5                  6\n 0      年份  独角兽数量  新上榜  升级退出榜单  其中，上市  其中，被并购  降级退出榜单，即估值跌破10亿美元\n 1    2019    494    -       -      -       -                  -\n 2    2020    586  142      30     19      11                 20\n 3    2021   1058  673     162    137      25                 39\n 4  2022年中   1312  369      34     25       9                 81,\n                                                    0  \\\n 0  潘小英（Porsha Pan） 胡润百富 传讯副总监 电话：021-50105808 手机：...   \n \n                                                    1  \n 0  常婷（Larina Chang） 胡润百富 公关主任 电话：021-50105808 手机：...  ,\n       0     1                    2          3            4   5      6     7\n 0    排名  排名变化                 企业名称  价值（亿元人民币）  价值变化（亿元人民币）  国家     城市    行业\n 1     1     0                   抖音      13400       -10050  中国     北京  社交媒体\n 2     2     1               SpaceX       8400         1680  美国    洛杉矶    航天\n 3     3    -1                 蚂蚁集团       8000        -2010  中国     杭州  金融科技\n 4     4     0               Stripe       4100        -2210  美国    旧金山  金融科技\n ..   ..   ...                  ...        ...          ...  ..    ...   ...\n 97   95   -16        Impossible 食品        470            0  美国  雷德伍德城  食品饮料\n 98   95   -16                   微医        470            0  中国     杭州  健康科技\n 99   99    58                 蜂巢能源        460          190  中国     常州   新能源\n 100  99    -6           Better.com        460           60  美国     纽约  金融科技\n 101  99   -20  Automation Anywhere        460          -10  美国    圣何塞  人工智能\n \n [102 rows x 8 columns],\n        0     1                         2                         3  \\\n 0     排名  排名变化                      投资机构                  Investor   \n 1      1     0                      红杉资本           Sequoia Capital   \n 2      2     1                        软银                  SoftBank   \n 3      3    -1                    老虎环球基金                     Tiger   \n 4      4     4                        腾讯                   Tencent   \n ..   ...   ...                       ...                       ...   \n 104  100   -11  Durable Capital Partners  Durable Capital Partners   \n 105  100    -6                   Atomico                   Atomico   \n 106  100   New                    AME云创投        AME Cloud Ventures   \n 107  100   New             QED Investors             QED Investors   \n 108  100    -6                      门罗风投            Menlo Ventures   \n \n                4            5     6  \n 0    2022上榜独角兽数量  2021上榜独角兽数量  创立国家  \n 1            234          206    美国  \n 2            180          146    日本  \n 3            169          147    美国  \n 4             90           68    中国  \n ..           ...          ...   ...  \n 104           17           15    美国  \n 105           17           14    英国  \n 106           17           13    美国  \n 107           17           13    美国  \n 108           17           14    美国  \n \n [109 rows x 7 columns],\n        0                           1          2      3            4      5\n 0    NaN                          企业  价值（亿元人民币）     国家           城市     行业\n 1    1.0                          币安       3000    马耳他          马耳他    区块链\n 2    2.0          Citadel Securities       1500     美国          芝加哥   金融科技\n 3    3.0                        极兔速递       1300  印度尼西亚          雅加达   电子商务\n 4    3.0                          极星       1300     瑞典          哥德堡  新能源汽车\n 5    5.0                      Notion        670     美国          旧金山   软件服务\n 6    6.0                    Airtable        600     美国          旧金山   软件服务\n 7    7.0                        Nuro        575     美国          旧金山    机器人\n 8    8.0                    Scale AI        490     美国          旧金山   人工智能\n 9    9.0                        Weee        270     美国          菲蒙市   电子商务\n 10  10.0                    Workrise        190     美国          奥斯汀   电子商务\n 11  11.0                  Binance.US        185     美国          旧金山    区块链\n 12  12.0                        Lime        155     美国         圣马特奥   共享经济\n 13  13.0                   Moveworks        140     美国          山景城   人工智能\n 14  14.0                       Avant        135     美国          芝加哥   金融科技\n 15  14.0                 Sourcegraph        135     美国          旧金山   软件服务\n 16  16.0             Thatgamecompany        130     美国        圣塔莫尼卡     游戏\n 17  17.0                    Optimism        110     美国          旧金山    区块链\n 18  18.0                        Hive        100     美国          旧金山   软件服务\n 19  18.0                    Iterable        100     美国          旧金山   软件服务\n 20  20.0                        OPay         95   尼日利亚          伊凯贾   金融科技\n 21  21.0                 CaptivateIQ         80     美国          旧金山   软件服务\n 22  21.0                  GrubMarket         80     美国          旧金山     快递\n 23  23.0  Advance Intelligence Group         67    新加坡          新加坡   金融科技\n 24  23.0                Agile Robots         67     德国          吉尔兴    机器人\n 25  23.0                     EcoFlow         67     美国          旧金山    新能源\n 26  23.0               Flash Express         67     泰国           曼谷     物流\n 27  23.0                GetYourGuide         67     德国           柏林   电子商务\n 28  23.0              Human Interest         67     美国          旧金山   金融科技\n 29  23.0                  JupiterOne         67     美国  Morrisville   网络安全\n 30  23.0                  News Break         67     美国          山景城     传媒]"
     },
     "execution_count": 2,
     "metadata": {},
     "output_type": "execute_result"
    }
   ],
   "source": [
    "hurun_独角兽 = pd.read_html('https://www.hurun.net/zh-CN/Info/Detail?num=L9SQPH9FKJB1')\n",
    "hurun_独角兽"
   ]
  },
  {
   "cell_type": "code",
   "execution_count": 8,
   "metadata": {},
   "outputs": [
    {
     "data": {
      "text/plain": [
       "26"
      ]
     },
     "execution_count": 8,
     "metadata": {},
     "output_type": "execute_result"
    }
   ],
   "source": [
    "len(hurun_独角兽)"
   ]
  },
  {
   "cell_type": "code",
   "execution_count": 10,
   "metadata": {},
   "outputs": [
    {
     "data": {
      "text/plain": "     排名  排名变化                 企业名称  价值（亿元人民币）  价值变化（亿元人民币）  国家     城市    行业\n0    排名  排名变化                 企业名称  价值（亿元人民币）  价值变化（亿元人民币）  国家     城市    行业\n1     1     0                   抖音      13400       -10050  中国     北京  社交媒体\n2     2     1               SpaceX       8400         1680  美国    洛杉矶    航天\n3     3    -1                 蚂蚁集团       8000        -2010  中国     杭州  金融科技\n4     4     0               Stripe       4100        -2210  美国    旧金山  金融科技\n..   ..   ...                  ...        ...          ...  ..    ...   ...\n97   95   -16        Impossible 食品        470            0  美国  雷德伍德城  食品饮料\n98   95   -16                   微医        470            0  中国     杭州  健康科技\n99   99    58                 蜂巢能源        460          190  中国     常州   新能源\n100  99    -6           Better.com        460           60  美国     纽约  金融科技\n101  99   -20  Automation Anywhere        460          -10  美国    圣何塞  人工智能\n\n[102 rows x 8 columns]",
      "text/html": "<div>\n<style scoped>\n    .dataframe tbody tr th:only-of-type {\n        vertical-align: middle;\n    }\n\n    .dataframe tbody tr th {\n        vertical-align: top;\n    }\n\n    .dataframe thead th {\n        text-align: right;\n    }\n</style>\n<table border=\"1\" class=\"dataframe\">\n  <thead>\n    <tr style=\"text-align: right;\">\n      <th></th>\n      <th>排名</th>\n      <th>排名变化</th>\n      <th>企业名称</th>\n      <th>价值（亿元人民币）</th>\n      <th>价值变化（亿元人民币）</th>\n      <th>国家</th>\n      <th>城市</th>\n      <th>行业</th>\n    </tr>\n  </thead>\n  <tbody>\n    <tr>\n      <th>0</th>\n      <td>排名</td>\n      <td>排名变化</td>\n      <td>企业名称</td>\n      <td>价值（亿元人民币）</td>\n      <td>价值变化（亿元人民币）</td>\n      <td>国家</td>\n      <td>城市</td>\n      <td>行业</td>\n    </tr>\n    <tr>\n      <th>1</th>\n      <td>1</td>\n      <td>0</td>\n      <td>抖音</td>\n      <td>13400</td>\n      <td>-10050</td>\n      <td>中国</td>\n      <td>北京</td>\n      <td>社交媒体</td>\n    </tr>\n    <tr>\n      <th>2</th>\n      <td>2</td>\n      <td>1</td>\n      <td>SpaceX</td>\n      <td>8400</td>\n      <td>1680</td>\n      <td>美国</td>\n      <td>洛杉矶</td>\n      <td>航天</td>\n    </tr>\n    <tr>\n      <th>3</th>\n      <td>3</td>\n      <td>-1</td>\n      <td>蚂蚁集团</td>\n      <td>8000</td>\n      <td>-2010</td>\n      <td>中国</td>\n      <td>杭州</td>\n      <td>金融科技</td>\n    </tr>\n    <tr>\n      <th>4</th>\n      <td>4</td>\n      <td>0</td>\n      <td>Stripe</td>\n      <td>4100</td>\n      <td>-2210</td>\n      <td>美国</td>\n      <td>旧金山</td>\n      <td>金融科技</td>\n    </tr>\n    <tr>\n      <th>...</th>\n      <td>...</td>\n      <td>...</td>\n      <td>...</td>\n      <td>...</td>\n      <td>...</td>\n      <td>...</td>\n      <td>...</td>\n      <td>...</td>\n    </tr>\n    <tr>\n      <th>97</th>\n      <td>95</td>\n      <td>-16</td>\n      <td>Impossible 食品</td>\n      <td>470</td>\n      <td>0</td>\n      <td>美国</td>\n      <td>雷德伍德城</td>\n      <td>食品饮料</td>\n    </tr>\n    <tr>\n      <th>98</th>\n      <td>95</td>\n      <td>-16</td>\n      <td>微医</td>\n      <td>470</td>\n      <td>0</td>\n      <td>中国</td>\n      <td>杭州</td>\n      <td>健康科技</td>\n    </tr>\n    <tr>\n      <th>99</th>\n      <td>99</td>\n      <td>58</td>\n      <td>蜂巢能源</td>\n      <td>460</td>\n      <td>190</td>\n      <td>中国</td>\n      <td>常州</td>\n      <td>新能源</td>\n    </tr>\n    <tr>\n      <th>100</th>\n      <td>99</td>\n      <td>-6</td>\n      <td>Better.com</td>\n      <td>460</td>\n      <td>60</td>\n      <td>美国</td>\n      <td>纽约</td>\n      <td>金融科技</td>\n    </tr>\n    <tr>\n      <th>101</th>\n      <td>99</td>\n      <td>-20</td>\n      <td>Automation Anywhere</td>\n      <td>460</td>\n      <td>-10</td>\n      <td>美国</td>\n      <td>圣何塞</td>\n      <td>人工智能</td>\n    </tr>\n  </tbody>\n</table>\n<p>102 rows × 8 columns</p>\n</div>"
     },
     "execution_count": 10,
     "metadata": {},
     "output_type": "execute_result"
    }
   ],
   "source": [
    "df = hurun_独角兽[-3]\n",
    "df"
   ]
  },
  {
   "cell_type": "code",
   "execution_count": null,
   "outputs": [],
   "source": [
    "# 1.表格的表头处理"
   ],
   "metadata": {
    "collapsed": false
   }
  },
  {
   "cell_type": "code",
   "execution_count": 71,
   "metadata": {},
   "outputs": [
    {
     "data": {
      "text/plain": [
       "[['排名', '排名变化', '企业名称', '价值（亿元人民币）', '价值变化（亿元人民币）', '国家', '城市', '行业']]"
      ]
     },
     "execution_count": 71,
     "metadata": {},
     "output_type": "execute_result"
    }
   ],
   "source": [
    "df[0:1].values.tolist()"
   ]
  },
  {
   "cell_type": "code",
   "execution_count": 5,
   "outputs": [
    {
     "data": {
      "text/plain": "['排名', '排名变化', '企业名称', '价值（亿元人民币）', '价值变化（亿元人民币）', '国家', '城市', '行业']"
     },
     "execution_count": 5,
     "metadata": {},
     "output_type": "execute_result"
    }
   ],
   "source": [
    "df[0:1].values.tolist()[0]"
   ],
   "metadata": {
    "collapsed": false
   }
  },
  {
   "cell_type": "code",
   "execution_count": 7,
   "metadata": {},
   "outputs": [
    {
     "data": {
      "text/plain": "     排名  排名变化                 企业名称  价值（亿元人民币）  价值变化（亿元人民币）  国家     城市    行业\n0    排名  排名变化                 企业名称  价值（亿元人民币）  价值变化（亿元人民币）  国家     城市    行业\n1     1     0                   抖音      13400       -10050  中国     北京  社交媒体\n2     2     1               SpaceX       8400         1680  美国    洛杉矶    航天\n3     3    -1                 蚂蚁集团       8000        -2010  中国     杭州  金融科技\n4     4     0               Stripe       4100        -2210  美国    旧金山  金融科技\n..   ..   ...                  ...        ...          ...  ..    ...   ...\n97   95   -16        Impossible 食品        470            0  美国  雷德伍德城  食品饮料\n98   95   -16                   微医        470            0  中国     杭州  健康科技\n99   99    58                 蜂巢能源        460          190  中国     常州   新能源\n100  99    -6           Better.com        460           60  美国     纽约  金融科技\n101  99   -20  Automation Anywhere        460          -10  美国    圣何塞  人工智能\n\n[102 rows x 8 columns]",
      "text/html": "<div>\n<style scoped>\n    .dataframe tbody tr th:only-of-type {\n        vertical-align: middle;\n    }\n\n    .dataframe tbody tr th {\n        vertical-align: top;\n    }\n\n    .dataframe thead th {\n        text-align: right;\n    }\n</style>\n<table border=\"1\" class=\"dataframe\">\n  <thead>\n    <tr style=\"text-align: right;\">\n      <th></th>\n      <th>排名</th>\n      <th>排名变化</th>\n      <th>企业名称</th>\n      <th>价值（亿元人民币）</th>\n      <th>价值变化（亿元人民币）</th>\n      <th>国家</th>\n      <th>城市</th>\n      <th>行业</th>\n    </tr>\n  </thead>\n  <tbody>\n    <tr>\n      <th>0</th>\n      <td>排名</td>\n      <td>排名变化</td>\n      <td>企业名称</td>\n      <td>价值（亿元人民币）</td>\n      <td>价值变化（亿元人民币）</td>\n      <td>国家</td>\n      <td>城市</td>\n      <td>行业</td>\n    </tr>\n    <tr>\n      <th>1</th>\n      <td>1</td>\n      <td>0</td>\n      <td>抖音</td>\n      <td>13400</td>\n      <td>-10050</td>\n      <td>中国</td>\n      <td>北京</td>\n      <td>社交媒体</td>\n    </tr>\n    <tr>\n      <th>2</th>\n      <td>2</td>\n      <td>1</td>\n      <td>SpaceX</td>\n      <td>8400</td>\n      <td>1680</td>\n      <td>美国</td>\n      <td>洛杉矶</td>\n      <td>航天</td>\n    </tr>\n    <tr>\n      <th>3</th>\n      <td>3</td>\n      <td>-1</td>\n      <td>蚂蚁集团</td>\n      <td>8000</td>\n      <td>-2010</td>\n      <td>中国</td>\n      <td>杭州</td>\n      <td>金融科技</td>\n    </tr>\n    <tr>\n      <th>4</th>\n      <td>4</td>\n      <td>0</td>\n      <td>Stripe</td>\n      <td>4100</td>\n      <td>-2210</td>\n      <td>美国</td>\n      <td>旧金山</td>\n      <td>金融科技</td>\n    </tr>\n    <tr>\n      <th>...</th>\n      <td>...</td>\n      <td>...</td>\n      <td>...</td>\n      <td>...</td>\n      <td>...</td>\n      <td>...</td>\n      <td>...</td>\n      <td>...</td>\n    </tr>\n    <tr>\n      <th>97</th>\n      <td>95</td>\n      <td>-16</td>\n      <td>Impossible 食品</td>\n      <td>470</td>\n      <td>0</td>\n      <td>美国</td>\n      <td>雷德伍德城</td>\n      <td>食品饮料</td>\n    </tr>\n    <tr>\n      <th>98</th>\n      <td>95</td>\n      <td>-16</td>\n      <td>微医</td>\n      <td>470</td>\n      <td>0</td>\n      <td>中国</td>\n      <td>杭州</td>\n      <td>健康科技</td>\n    </tr>\n    <tr>\n      <th>99</th>\n      <td>99</td>\n      <td>58</td>\n      <td>蜂巢能源</td>\n      <td>460</td>\n      <td>190</td>\n      <td>中国</td>\n      <td>常州</td>\n      <td>新能源</td>\n    </tr>\n    <tr>\n      <th>100</th>\n      <td>99</td>\n      <td>-6</td>\n      <td>Better.com</td>\n      <td>460</td>\n      <td>60</td>\n      <td>美国</td>\n      <td>纽约</td>\n      <td>金融科技</td>\n    </tr>\n    <tr>\n      <th>101</th>\n      <td>99</td>\n      <td>-20</td>\n      <td>Automation Anywhere</td>\n      <td>460</td>\n      <td>-10</td>\n      <td>美国</td>\n      <td>圣何塞</td>\n      <td>人工智能</td>\n    </tr>\n  </tbody>\n</table>\n<p>102 rows × 8 columns</p>\n</div>"
     },
     "execution_count": 7,
     "metadata": {},
     "output_type": "execute_result"
    }
   ],
   "source": [
    "df.columns = df[0:1].values.tolist()[0]\n",
    "df"
   ]
  },
  {
   "cell_type": "code",
   "execution_count": 8,
   "metadata": {},
   "outputs": [
    {
     "data": {
      "text/plain": "     排名 排名变化                 企业名称 价值（亿元人民币） 价值变化（亿元人民币）  国家     城市    行业\n1     1    0                   抖音     13400      -10050  中国     北京  社交媒体\n2     2    1               SpaceX      8400        1680  美国    洛杉矶    航天\n3     3   -1                 蚂蚁集团      8000       -2010  中国     杭州  金融科技\n4     4    0               Stripe      4100       -2210  美国    旧金山  金融科技\n5     5   11                Shein      4000        2680  中国     广州  电子商务\n..   ..  ...                  ...       ...         ...  ..    ...   ...\n97   95  -16        Impossible 食品       470           0  美国  雷德伍德城  食品饮料\n98   95  -16                   微医       470           0  中国     杭州  健康科技\n99   99   58                 蜂巢能源       460         190  中国     常州   新能源\n100  99   -6           Better.com       460          60  美国     纽约  金融科技\n101  99  -20  Automation Anywhere       460         -10  美国    圣何塞  人工智能\n\n[101 rows x 8 columns]",
      "text/html": "<div>\n<style scoped>\n    .dataframe tbody tr th:only-of-type {\n        vertical-align: middle;\n    }\n\n    .dataframe tbody tr th {\n        vertical-align: top;\n    }\n\n    .dataframe thead th {\n        text-align: right;\n    }\n</style>\n<table border=\"1\" class=\"dataframe\">\n  <thead>\n    <tr style=\"text-align: right;\">\n      <th></th>\n      <th>排名</th>\n      <th>排名变化</th>\n      <th>企业名称</th>\n      <th>价值（亿元人民币）</th>\n      <th>价值变化（亿元人民币）</th>\n      <th>国家</th>\n      <th>城市</th>\n      <th>行业</th>\n    </tr>\n  </thead>\n  <tbody>\n    <tr>\n      <th>1</th>\n      <td>1</td>\n      <td>0</td>\n      <td>抖音</td>\n      <td>13400</td>\n      <td>-10050</td>\n      <td>中国</td>\n      <td>北京</td>\n      <td>社交媒体</td>\n    </tr>\n    <tr>\n      <th>2</th>\n      <td>2</td>\n      <td>1</td>\n      <td>SpaceX</td>\n      <td>8400</td>\n      <td>1680</td>\n      <td>美国</td>\n      <td>洛杉矶</td>\n      <td>航天</td>\n    </tr>\n    <tr>\n      <th>3</th>\n      <td>3</td>\n      <td>-1</td>\n      <td>蚂蚁集团</td>\n      <td>8000</td>\n      <td>-2010</td>\n      <td>中国</td>\n      <td>杭州</td>\n      <td>金融科技</td>\n    </tr>\n    <tr>\n      <th>4</th>\n      <td>4</td>\n      <td>0</td>\n      <td>Stripe</td>\n      <td>4100</td>\n      <td>-2210</td>\n      <td>美国</td>\n      <td>旧金山</td>\n      <td>金融科技</td>\n    </tr>\n    <tr>\n      <th>5</th>\n      <td>5</td>\n      <td>11</td>\n      <td>Shein</td>\n      <td>4000</td>\n      <td>2680</td>\n      <td>中国</td>\n      <td>广州</td>\n      <td>电子商务</td>\n    </tr>\n    <tr>\n      <th>...</th>\n      <td>...</td>\n      <td>...</td>\n      <td>...</td>\n      <td>...</td>\n      <td>...</td>\n      <td>...</td>\n      <td>...</td>\n      <td>...</td>\n    </tr>\n    <tr>\n      <th>97</th>\n      <td>95</td>\n      <td>-16</td>\n      <td>Impossible 食品</td>\n      <td>470</td>\n      <td>0</td>\n      <td>美国</td>\n      <td>雷德伍德城</td>\n      <td>食品饮料</td>\n    </tr>\n    <tr>\n      <th>98</th>\n      <td>95</td>\n      <td>-16</td>\n      <td>微医</td>\n      <td>470</td>\n      <td>0</td>\n      <td>中国</td>\n      <td>杭州</td>\n      <td>健康科技</td>\n    </tr>\n    <tr>\n      <th>99</th>\n      <td>99</td>\n      <td>58</td>\n      <td>蜂巢能源</td>\n      <td>460</td>\n      <td>190</td>\n      <td>中国</td>\n      <td>常州</td>\n      <td>新能源</td>\n    </tr>\n    <tr>\n      <th>100</th>\n      <td>99</td>\n      <td>-6</td>\n      <td>Better.com</td>\n      <td>460</td>\n      <td>60</td>\n      <td>美国</td>\n      <td>纽约</td>\n      <td>金融科技</td>\n    </tr>\n    <tr>\n      <th>101</th>\n      <td>99</td>\n      <td>-20</td>\n      <td>Automation Anywhere</td>\n      <td>460</td>\n      <td>-10</td>\n      <td>美国</td>\n      <td>圣何塞</td>\n      <td>人工智能</td>\n    </tr>\n  </tbody>\n</table>\n<p>101 rows × 8 columns</p>\n</div>"
     },
     "execution_count": 8,
     "metadata": {},
     "output_type": "execute_result"
    }
   ],
   "source": [
    "df = df.drop([0])\n",
    "df"
   ]
  },
  {
   "cell_type": "code",
   "execution_count": 86,
   "metadata": {},
   "outputs": [],
   "source": [
    "df['价值（亿元人民币）'] = df['价值（亿元人民币）'].astype('int32')"
   ]
  },
  {
   "cell_type": "markdown",
   "metadata": {},
   "source": [
    "## Dataframe.groupby\n",
    "\n",
    "* 参考文档:[groupby](https://pandas.pydata.org/docs/reference/api/pandas.DataFrame.groupby.html)"
   ]
  },
  {
   "cell_type": "code",
   "execution_count": 9,
   "metadata": {},
   "outputs": [
    {
     "data": {
      "text/plain": "      价值（亿元人民币）                                                               \n            max   min                                                sum count\n国家                                                                            \n中国          965  1000  1340080004000220020001800130012001040100096587...    26\n以色列         535   535                                                535     1\n印度          720  1500                                      1500720535480     4\n印度尼西亚       700  1300                                            1300700     2\n土耳其         800   800                                                800     1\n墨西哥         580   580                                                580     1\n巴哈马        1300  1300                                               1300     1\n德国          555   555                                                555     1\n澳大利亚       1750  1750                                               1750     1\n瑞典          800  1300                                            1300800     2\n瑞士          575   575                                                575     1\n美国          900  1000  8400410025001500132012501200117010001000100090...    49\n英国          700  1650                            19001650700700570535520     7\n越南          550   550                                                550     1\n韩国          560   535                                             560535     2\n马耳他        3000  3000                                               3000     1",
      "text/html": "<div>\n<style scoped>\n    .dataframe tbody tr th:only-of-type {\n        vertical-align: middle;\n    }\n\n    .dataframe tbody tr th {\n        vertical-align: top;\n    }\n\n    .dataframe thead tr th {\n        text-align: left;\n    }\n\n    .dataframe thead tr:last-of-type th {\n        text-align: right;\n    }\n</style>\n<table border=\"1\" class=\"dataframe\">\n  <thead>\n    <tr>\n      <th></th>\n      <th colspan=\"4\" halign=\"left\">价值（亿元人民币）</th>\n    </tr>\n    <tr>\n      <th></th>\n      <th>max</th>\n      <th>min</th>\n      <th>sum</th>\n      <th>count</th>\n    </tr>\n    <tr>\n      <th>国家</th>\n      <th></th>\n      <th></th>\n      <th></th>\n      <th></th>\n    </tr>\n  </thead>\n  <tbody>\n    <tr>\n      <th>中国</th>\n      <td>965</td>\n      <td>1000</td>\n      <td>1340080004000220020001800130012001040100096587...</td>\n      <td>26</td>\n    </tr>\n    <tr>\n      <th>以色列</th>\n      <td>535</td>\n      <td>535</td>\n      <td>535</td>\n      <td>1</td>\n    </tr>\n    <tr>\n      <th>印度</th>\n      <td>720</td>\n      <td>1500</td>\n      <td>1500720535480</td>\n      <td>4</td>\n    </tr>\n    <tr>\n      <th>印度尼西亚</th>\n      <td>700</td>\n      <td>1300</td>\n      <td>1300700</td>\n      <td>2</td>\n    </tr>\n    <tr>\n      <th>土耳其</th>\n      <td>800</td>\n      <td>800</td>\n      <td>800</td>\n      <td>1</td>\n    </tr>\n    <tr>\n      <th>墨西哥</th>\n      <td>580</td>\n      <td>580</td>\n      <td>580</td>\n      <td>1</td>\n    </tr>\n    <tr>\n      <th>巴哈马</th>\n      <td>1300</td>\n      <td>1300</td>\n      <td>1300</td>\n      <td>1</td>\n    </tr>\n    <tr>\n      <th>德国</th>\n      <td>555</td>\n      <td>555</td>\n      <td>555</td>\n      <td>1</td>\n    </tr>\n    <tr>\n      <th>澳大利亚</th>\n      <td>1750</td>\n      <td>1750</td>\n      <td>1750</td>\n      <td>1</td>\n    </tr>\n    <tr>\n      <th>瑞典</th>\n      <td>800</td>\n      <td>1300</td>\n      <td>1300800</td>\n      <td>2</td>\n    </tr>\n    <tr>\n      <th>瑞士</th>\n      <td>575</td>\n      <td>575</td>\n      <td>575</td>\n      <td>1</td>\n    </tr>\n    <tr>\n      <th>美国</th>\n      <td>900</td>\n      <td>1000</td>\n      <td>8400410025001500132012501200117010001000100090...</td>\n      <td>49</td>\n    </tr>\n    <tr>\n      <th>英国</th>\n      <td>700</td>\n      <td>1650</td>\n      <td>19001650700700570535520</td>\n      <td>7</td>\n    </tr>\n    <tr>\n      <th>越南</th>\n      <td>550</td>\n      <td>550</td>\n      <td>550</td>\n      <td>1</td>\n    </tr>\n    <tr>\n      <th>韩国</th>\n      <td>560</td>\n      <td>535</td>\n      <td>560535</td>\n      <td>2</td>\n    </tr>\n    <tr>\n      <th>马耳他</th>\n      <td>3000</td>\n      <td>3000</td>\n      <td>3000</td>\n      <td>1</td>\n    </tr>\n  </tbody>\n</table>\n</div>"
     },
     "execution_count": 9,
     "metadata": {},
     "output_type": "execute_result"
    }
   ],
   "source": [
    "df_国家 = df.groupby(by=['国家']).agg({'价值（亿元人民币）':['max','min','sum','count']})\n",
    "df_国家"
   ]
  },
  {
   "cell_type": "code",
   "execution_count": 98,
   "metadata": {},
   "outputs": [
    {
     "data": {
      "text/html": [
       "<div>\n",
       "<style scoped>\n",
       "    .dataframe tbody tr th:only-of-type {\n",
       "        vertical-align: middle;\n",
       "    }\n",
       "\n",
       "    .dataframe tbody tr th {\n",
       "        vertical-align: top;\n",
       "    }\n",
       "\n",
       "    .dataframe thead tr th {\n",
       "        text-align: left;\n",
       "    }\n",
       "\n",
       "    .dataframe thead tr:last-of-type th {\n",
       "        text-align: right;\n",
       "    }\n",
       "</style>\n",
       "<table border=\"1\" class=\"dataframe\">\n",
       "  <thead>\n",
       "    <tr>\n",
       "      <th></th>\n",
       "      <th colspan=\"4\" halign=\"left\">价值（亿元人民币）</th>\n",
       "    </tr>\n",
       "    <tr>\n",
       "      <th></th>\n",
       "      <th>max</th>\n",
       "      <th>min</th>\n",
       "      <th>sum</th>\n",
       "      <th>count</th>\n",
       "    </tr>\n",
       "    <tr>\n",
       "      <th>行业</th>\n",
       "      <th></th>\n",
       "      <th></th>\n",
       "      <th></th>\n",
       "      <th></th>\n",
       "    </tr>\n",
       "  </thead>\n",
       "  <tbody>\n",
       "    <tr>\n",
       "      <th>人工智能</th>\n",
       "      <td>870</td>\n",
       "      <td>460</td>\n",
       "      <td>3560</td>\n",
       "      <td>6</td>\n",
       "    </tr>\n",
       "    <tr>\n",
       "      <th>企业服务</th>\n",
       "      <td>1170</td>\n",
       "      <td>515</td>\n",
       "      <td>1685</td>\n",
       "      <td>2</td>\n",
       "    </tr>\n",
       "    <tr>\n",
       "      <th>保险</th>\n",
       "      <td>740</td>\n",
       "      <td>740</td>\n",
       "      <td>740</td>\n",
       "      <td>1</td>\n",
       "    </tr>\n",
       "    <tr>\n",
       "      <th>健康科技</th>\n",
       "      <td>1040</td>\n",
       "      <td>470</td>\n",
       "      <td>2820</td>\n",
       "      <td>4</td>\n",
       "    </tr>\n",
       "    <tr>\n",
       "      <th>共享经济</th>\n",
       "      <td>1000</td>\n",
       "      <td>480</td>\n",
       "      <td>3145</td>\n",
       "      <td>4</td>\n",
       "    </tr>\n",
       "    <tr>\n",
       "      <th>分析</th>\n",
       "      <td>575</td>\n",
       "      <td>575</td>\n",
       "      <td>575</td>\n",
       "      <td>1</td>\n",
       "    </tr>\n",
       "    <tr>\n",
       "      <th>区块链</th>\n",
       "      <td>3000</td>\n",
       "      <td>500</td>\n",
       "      <td>8615</td>\n",
       "      <td>9</td>\n",
       "    </tr>\n",
       "    <tr>\n",
       "      <th>大数据</th>\n",
       "      <td>2500</td>\n",
       "      <td>535</td>\n",
       "      <td>3035</td>\n",
       "      <td>2</td>\n",
       "    </tr>\n",
       "    <tr>\n",
       "      <th>快递</th>\n",
       "      <td>1320</td>\n",
       "      <td>720</td>\n",
       "      <td>3840</td>\n",
       "      <td>4</td>\n",
       "    </tr>\n",
       "    <tr>\n",
       "      <th>教育科技</th>\n",
       "      <td>1500</td>\n",
       "      <td>1500</td>\n",
       "      <td>1500</td>\n",
       "      <td>1</td>\n",
       "    </tr>\n",
       "    <tr>\n",
       "      <th>数字科技</th>\n",
       "      <td>2000</td>\n",
       "      <td>2000</td>\n",
       "      <td>2000</td>\n",
       "      <td>1</td>\n",
       "    </tr>\n",
       "    <tr>\n",
       "      <th>新能源</th>\n",
       "      <td>800</td>\n",
       "      <td>460</td>\n",
       "      <td>2570</td>\n",
       "      <td>4</td>\n",
       "    </tr>\n",
       "    <tr>\n",
       "      <th>新能源汽车</th>\n",
       "      <td>1300</td>\n",
       "      <td>600</td>\n",
       "      <td>1900</td>\n",
       "      <td>2</td>\n",
       "    </tr>\n",
       "    <tr>\n",
       "      <th>新零售</th>\n",
       "      <td>670</td>\n",
       "      <td>670</td>\n",
       "      <td>670</td>\n",
       "      <td>1</td>\n",
       "    </tr>\n",
       "    <tr>\n",
       "      <th>机器人</th>\n",
       "      <td>1200</td>\n",
       "      <td>575</td>\n",
       "      <td>1775</td>\n",
       "      <td>2</td>\n",
       "    </tr>\n",
       "    <tr>\n",
       "      <th>消费品</th>\n",
       "      <td>550</td>\n",
       "      <td>550</td>\n",
       "      <td>550</td>\n",
       "      <td>1</td>\n",
       "    </tr>\n",
       "    <tr>\n",
       "      <th>游戏</th>\n",
       "      <td>600</td>\n",
       "      <td>535</td>\n",
       "      <td>1135</td>\n",
       "      <td>2</td>\n",
       "    </tr>\n",
       "    <tr>\n",
       "      <th>物流</th>\n",
       "      <td>1800</td>\n",
       "      <td>500</td>\n",
       "      <td>4905</td>\n",
       "      <td>5</td>\n",
       "    </tr>\n",
       "    <tr>\n",
       "      <th>生物科技</th>\n",
       "      <td>800</td>\n",
       "      <td>540</td>\n",
       "      <td>1340</td>\n",
       "      <td>2</td>\n",
       "    </tr>\n",
       "    <tr>\n",
       "      <th>电子商务</th>\n",
       "      <td>4000</td>\n",
       "      <td>490</td>\n",
       "      <td>9110</td>\n",
       "      <td>8</td>\n",
       "    </tr>\n",
       "    <tr>\n",
       "      <th>社交媒体</th>\n",
       "      <td>13400</td>\n",
       "      <td>1000</td>\n",
       "      <td>14400</td>\n",
       "      <td>2</td>\n",
       "    </tr>\n",
       "    <tr>\n",
       "      <th>网络安全</th>\n",
       "      <td>600</td>\n",
       "      <td>535</td>\n",
       "      <td>1690</td>\n",
       "      <td>3</td>\n",
       "    </tr>\n",
       "    <tr>\n",
       "      <th>航天</th>\n",
       "      <td>8400</td>\n",
       "      <td>8400</td>\n",
       "      <td>8400</td>\n",
       "      <td>1</td>\n",
       "    </tr>\n",
       "    <tr>\n",
       "      <th>软件服务</th>\n",
       "      <td>1750</td>\n",
       "      <td>470</td>\n",
       "      <td>9695</td>\n",
       "      <td>14</td>\n",
       "    </tr>\n",
       "    <tr>\n",
       "      <th>金融科技</th>\n",
       "      <td>8000</td>\n",
       "      <td>460</td>\n",
       "      <td>27320</td>\n",
       "      <td>17</td>\n",
       "    </tr>\n",
       "    <tr>\n",
       "      <th>食品饮料</th>\n",
       "      <td>1000</td>\n",
       "      <td>470</td>\n",
       "      <td>1470</td>\n",
       "      <td>2</td>\n",
       "    </tr>\n",
       "  </tbody>\n",
       "</table>\n",
       "</div>"
      ],
      "text/plain": [
       "      价值（亿元人民币）                   \n",
       "            max   min    sum count\n",
       "行业                                \n",
       "人工智能        870   460   3560     6\n",
       "企业服务       1170   515   1685     2\n",
       "保险          740   740    740     1\n",
       "健康科技       1040   470   2820     4\n",
       "共享经济       1000   480   3145     4\n",
       "分析          575   575    575     1\n",
       "区块链        3000   500   8615     9\n",
       "大数据        2500   535   3035     2\n",
       "快递         1320   720   3840     4\n",
       "教育科技       1500  1500   1500     1\n",
       "数字科技       2000  2000   2000     1\n",
       "新能源         800   460   2570     4\n",
       "新能源汽车      1300   600   1900     2\n",
       "新零售         670   670    670     1\n",
       "机器人        1200   575   1775     2\n",
       "消费品         550   550    550     1\n",
       "游戏          600   535   1135     2\n",
       "物流         1800   500   4905     5\n",
       "生物科技        800   540   1340     2\n",
       "电子商务       4000   490   9110     8\n",
       "社交媒体      13400  1000  14400     2\n",
       "网络安全        600   535   1690     3\n",
       "航天         8400  8400   8400     1\n",
       "软件服务       1750   470   9695    14\n",
       "金融科技       8000   460  27320    17\n",
       "食品饮料       1000   470   1470     2"
      ]
     },
     "execution_count": 98,
     "metadata": {},
     "output_type": "execute_result"
    }
   ],
   "source": [
    "df_行业 = df.groupby(by=['行业']).agg({'价值（亿元人民币）':['max','min','sum','count']})\n",
    "df_行业"
   ]
  },
  {
   "cell_type": "markdown",
   "metadata": {},
   "source": [
    "## Dataframe.to_excel()\n",
    "\n",
    "* 参考文档：[Dataframe.to_excel](https://pandas.pydata.org/docs/reference/api/pandas.DataFrame.to_excel.html)"
   ]
  },
  {
   "cell_type": "code",
   "execution_count": 99,
   "metadata": {},
   "outputs": [],
   "source": [
    "with pd.ExcelWriter('胡润独角兽排行榜整理.xlsx') as writer: \n",
    "    df_国家.to_excel(writer, sheet_name='国家汇总')\n",
    "    df_行业.to_excel(writer, sheet_name='行业汇总')"
   ]
  },
  {
   "cell_type": "markdown",
   "metadata": {},
   "source": [
    "# 体验项目二\n",
    "\n",
    "* 核心模块：requests-html"
   ]
  },
  {
   "cell_type": "code",
   "execution_count": 11,
   "metadata": {},
   "outputs": [
    {
     "name": "stdout",
     "output_type": "stream",
     "text": [
      "Requirement already satisfied: requests-html in e:\\anaconda3\\lib\\site-packages (0.10.0)\n",
      "Requirement already satisfied: bs4 in e:\\anaconda3\\lib\\site-packages (from requests-html) (0.0.1)\n",
      "Requirement already satisfied: parse in e:\\anaconda3\\lib\\site-packages (from requests-html) (1.19.0)\n",
      "Requirement already satisfied: pyquery in e:\\anaconda3\\lib\\site-packages (from requests-html) (2.0.0)\n",
      "Requirement already satisfied: pyppeteer>=0.0.14 in e:\\anaconda3\\lib\\site-packages (from requests-html) (1.0.2)\n",
      "Requirement already satisfied: fake-useragent in e:\\anaconda3\\lib\\site-packages (from requests-html) (1.1.1)\n",
      "Requirement already satisfied: w3lib in e:\\anaconda3\\lib\\site-packages (from requests-html) (1.21.0)\n",
      "Requirement already satisfied: requests in e:\\anaconda3\\lib\\site-packages (from requests-html) (2.28.1)\n",
      "Requirement already satisfied: websockets<11.0,>=10.0 in e:\\anaconda3\\lib\\site-packages (from pyppeteer>=0.0.14->requests-html) (10.4)\n",
      "Requirement already satisfied: certifi>=2021 in e:\\anaconda3\\lib\\site-packages (from pyppeteer>=0.0.14->requests-html) (2022.9.14)\n",
      "Requirement already satisfied: urllib3<2.0.0,>=1.25.8 in e:\\anaconda3\\lib\\site-packages (from pyppeteer>=0.0.14->requests-html) (1.26.11)\n",
      "Requirement already satisfied: appdirs<2.0.0,>=1.4.3 in e:\\anaconda3\\lib\\site-packages (from pyppeteer>=0.0.14->requests-html) (1.4.4)\n",
      "Requirement already satisfied: tqdm<5.0.0,>=4.42.1 in e:\\anaconda3\\lib\\site-packages (from pyppeteer>=0.0.14->requests-html) (4.64.1)\n",
      "Requirement already satisfied: importlib-metadata>=1.4 in e:\\anaconda3\\lib\\site-packages (from pyppeteer>=0.0.14->requests-html) (5.2.0)\n",
      "Collecting pyee<9.0.0,>=8.1.0\n",
      "  Using cached pyee-8.2.2-py2.py3-none-any.whl (12 kB)\n",
      "Requirement already satisfied: beautifulsoup4 in e:\\anaconda3\\lib\\site-packages (from bs4->requests-html) (4.11.1)\n",
      "Requirement already satisfied: importlib-resources>=5.0 in e:\\anaconda3\\lib\\site-packages (from fake-useragent->requests-html) (5.12.0)\n",
      "Requirement already satisfied: cssselect>=1.2.0 in e:\\anaconda3\\lib\\site-packages (from pyquery->requests-html) (1.2.0)\n",
      "Requirement already satisfied: lxml>=2.1 in e:\\anaconda3\\lib\\site-packages (from pyquery->requests-html) (4.9.1)\n",
      "Requirement already satisfied: idna<4,>=2.5 in e:\\anaconda3\\lib\\site-packages (from requests->requests-html) (2.10)\n",
      "Requirement already satisfied: charset-normalizer<3,>=2 in e:\\anaconda3\\lib\\site-packages (from requests->requests-html) (2.0.4)\n",
      "Requirement already satisfied: six>=1.4.1 in c:\\users\\17728\\appdata\\roaming\\python\\python39\\site-packages (from w3lib->requests-html) (1.16.0)\n",
      "Requirement already satisfied: zipp>=0.5 in c:\\users\\17728\\appdata\\roaming\\python\\python39\\site-packages (from importlib-metadata>=1.4->pyppeteer>=0.0.14->requests-html) (3.15.0)\n",
      "Requirement already satisfied: colorama in c:\\users\\17728\\appdata\\roaming\\python\\python39\\site-packages (from tqdm<5.0.0,>=4.42.1->pyppeteer>=0.0.14->requests-html) (0.4.6)\n",
      "Requirement already satisfied: soupsieve>1.2 in e:\\anaconda3\\lib\\site-packages (from beautifulsoup4->bs4->requests-html) (2.3.1)\n",
      "Installing collected packages: pyee\n",
      "  Attempting uninstall: pyee\n",
      "    Found existing installation: pyee 9.0.4\n",
      "    Uninstalling pyee-9.0.4:\n",
      "      Successfully uninstalled pyee-9.0.4\n",
      "Successfully installed pyee-8.2.2\n"
     ]
    },
    {
     "name": "stderr",
     "output_type": "stream",
     "text": [
      "ERROR: pip's dependency resolver does not currently take into account all the packages that are installed. This behaviour is the source of the following dependency conflicts.\n",
      "playwright 1.32.1 requires pyee==9.0.4, but you have pyee 8.2.2 which is incompatible.\n"
     ]
    }
   ],
   "source": [
    "!pip install requests-html"
   ]
  },
  {
   "cell_type": "markdown",
   "metadata": {},
   "source": [
    "## 小试牛刀：请求学校网站上的所有链接"
   ]
  },
  {
   "cell_type": "code",
   "execution_count": 14,
   "metadata": {},
   "outputs": [
    {
     "name": "stdout",
     "output_type": "stream",
     "text": [
      "{'../zjnf/jtzy/index.htm', '../xxgk/nfdsj/index.htm', '../xxgk/index.htm', 'http://en.nfu.edu.cn/', 'http://cpc.nfu.edu.cn/', '../jgsz/gljg/index.htm', '32c1741738d748ff8f1c8d57e45feea4.htm', '../xxgk/xrld/index.htm', 'index1.htm', '../zsjy/index.htm', '../zjnf/index.htm', 'http://jw.nfu.edu.cn/', '5cec53c95cd94f73be92fac94579b939.htm', 'http://www.moe.gov.cn/', 'http://www.beian.gov.cn/portal/registerSystemInfo?recordcode=44011702000081', '../index.htm', '../zsjy/jyfw/index.htm', '../gjdt/index.htm', '0803663924a442588ee67bce4b9249be.htm', '../jgsz/index.htm', 'http://ky.nfu.edu.cn/', '../rcpy/msjs/index.htm', '../xxgk/xhxxxg/index.htm', '7148917faf2f437abeaf225e966dd502.htm', '../zjnf/shfw/index.htm', 'http://gj.nfu.edu.cn/', '../tzgg/index.htm', 'http://www.gdmbjy.cn/', '../zjnf/ylfw/index.htm', 'c86819abb17146709e2e51df8cd09e7c.htm', '../hzjl/index.htm', '../jgsz/yxsz/index.htm', '../zjnf/tsnf/index.htm', 'index.htm', 'http://lib.nfu.edu.cn/', '3eb02756c20a45d994a4ecea3891c9b6.htm', 'c6c2ea21061e41eda1f5f27a8baf6cc2.htm', 'http://gj.nfu.edu.cn/Home/Waishi/waishilist/class/1/p/1.html', 'http://www.sysu.edu.cn/2012/cn/index.htm', '../ztb/index.htm', 'e37b88d9a4fd49b89a59af13f09246db.htm', '../rczp/glxl/index.htm', 'a0b30b72b462428cb239e90fe175a9ce.htm', 'https://www.cnki.net/', 'index121.htm', '../rcpy/jxjy/index.htm', '2ca11309128e42a58ed4f1c42be754d3.htm', '../zggcddsxxjy/index.htm', '../zjnf/xb/index.htm', '../qzzggcdjd100zn/index.htm', 'index2.htm', 'index4.htm', 'http://www.gz.gov.cn/', '../xxgk/xxjj/index.htm', '96267573495b4f66a490f2ba9ec3ea0c.htm', 'http://edu.gd.gov.cn/', '../tsg/index.htm', 'de6768f996eb44f4ad0c9bb169903e98.htm', 'index3.htm', '../rcpy/bkjy/index.htm', 'https://beian.miit.gov.cn/', '../jxky/index.htm', '../dshyx/index.htm', 'http://das.nfu.edu.cn/', 'f2bf2742d7de4ce09be7082fef186869.htm', 'http://jx.nfu.edu.cn/', '38a4d8a8422f456aa28fc1bdd969d2b2.htm', 'https://www.gpowersoft.com/', 'http://www.gdpr.com/', '265cf1295f88463f87e27c44d0075b53.htm', '../jgsz/cswyh/index.htm', '../xydt/index.htm', '../rczp/jsxl/index.htm', 'd6f0a1cedeac423fb6eda482d72c56ce.htm', '../jxky/kyjg/index.htm', 'e3ab6496a5ba41dba1328ff827cf37b4.htm', '023ce37514814a628c45433a3924628b.htm', '../rczp/index.htm', '../xcyx/index.htm', '64d88d805cb24e29818796b5ed03bd84.htm', '../xxgk/xxxl/index.htm', 'fb7ac3185a354c3db858d063d2d46239.htm', 'http://zsb.nfu.edu.cn/', '../rcpy/index.htm'}\n",
      "\n",
      "{'https://www.nfu.edu.cn/xxyw/c6c2ea21061e41eda1f5f27a8baf6cc2.htm', 'https://www.nfu.edu.cn/xxyw/a0b30b72b462428cb239e90fe175a9ce.htm', 'https://www.nfu.edu.cn/xxyw/023ce37514814a628c45433a3924628b.htm', 'https://www.nfu.edu.cn/xxyw/index2.htm', 'http://en.nfu.edu.cn/', 'http://cpc.nfu.edu.cn/', 'https://www.nfu.edu.cn/zjnf/xb/index.htm', 'https://www.nfu.edu.cn/jxky/kyjg/index.htm', 'https://www.nfu.edu.cn/rczp/glxl/index.htm', 'https://www.nfu.edu.cn/jgsz/cswyh/index.htm', 'https://www.nfu.edu.cn/xxyw/fb7ac3185a354c3db858d063d2d46239.htm', 'https://www.nfu.edu.cn/xxyw/3eb02756c20a45d994a4ecea3891c9b6.htm', 'http://jw.nfu.edu.cn/', 'http://www.moe.gov.cn/', 'http://www.beian.gov.cn/portal/registerSystemInfo?recordcode=44011702000081', 'https://www.nfu.edu.cn/rcpy/index.htm', 'https://www.nfu.edu.cn/jxky/index.htm', 'https://www.nfu.edu.cn/jgsz/index.htm', 'http://ky.nfu.edu.cn/', 'https://www.nfu.edu.cn/xxyw/index1.htm', 'https://www.nfu.edu.cn/xxyw/f2bf2742d7de4ce09be7082fef186869.htm', 'https://www.nfu.edu.cn/rczp/jsxl/index.htm', 'https://www.nfu.edu.cn/xxyw/96267573495b4f66a490f2ba9ec3ea0c.htm', 'https://www.nfu.edu.cn/xxgk/xxxl/index.htm', 'http://gj.nfu.edu.cn/', 'http://www.gdmbjy.cn/', 'https://www.nfu.edu.cn/xxyw/index4.htm', 'https://www.nfu.edu.cn/xxyw/32c1741738d748ff8f1c8d57e45feea4.htm', 'https://www.nfu.edu.cn/rcpy/bkjy/index.htm', 'https://www.nfu.edu.cn/xxgk/xxjj/index.htm', 'https://www.nfu.edu.cn/xxyw/5cec53c95cd94f73be92fac94579b939.htm', 'http://lib.nfu.edu.cn/', 'https://www.nfu.edu.cn/xxyw/index3.htm', 'http://gj.nfu.edu.cn/Home/Waishi/waishilist/class/1/p/1.html', 'http://www.sysu.edu.cn/2012/cn/index.htm', 'https://www.nfu.edu.cn/xxyw/d6f0a1cedeac423fb6eda482d72c56ce.htm', 'https://www.nfu.edu.cn/zjnf/ylfw/index.htm', 'https://www.nfu.edu.cn/zjnf/jtzy/index.htm', 'https://www.nfu.edu.cn/xcyx/index.htm', 'https://www.nfu.edu.cn/xxyw/38a4d8a8422f456aa28fc1bdd969d2b2.htm', 'https://www.nfu.edu.cn/xxyw/265cf1295f88463f87e27c44d0075b53.htm', 'https://www.nfu.edu.cn/xxgk/xhxxxg/index.htm', 'https://www.nfu.edu.cn/xxyw/e3ab6496a5ba41dba1328ff827cf37b4.htm', 'https://www.nfu.edu.cn/xxyw/index.htm', 'https://www.cnki.net/', 'https://www.nfu.edu.cn/xxgk/nfdsj/index.htm', 'https://www.nfu.edu.cn/jgsz/yxsz/index.htm', 'http://www.gz.gov.cn/', 'https://www.nfu.edu.cn/zjnf/shfw/index.htm', 'https://www.nfu.edu.cn/rcpy/jxjy/index.htm', 'https://www.nfu.edu.cn/zjnf/tsnf/index.htm', 'https://www.nfu.edu.cn/xxyw/2ca11309128e42a58ed4f1c42be754d3.htm', 'http://edu.gd.gov.cn/', 'https://www.nfu.edu.cn/qzzggcdjd100zn/index.htm', 'https://www.nfu.edu.cn/jgsz/gljg/index.htm', 'https://www.nfu.edu.cn/zjnf/index.htm', 'https://beian.miit.gov.cn/', 'http://das.nfu.edu.cn/', 'https://www.nfu.edu.cn/dshyx/index.htm', 'https://www.nfu.edu.cn/xydt/index.htm', 'https://www.nfu.edu.cn/xxyw/e37b88d9a4fd49b89a59af13f09246db.htm', 'https://www.nfu.edu.cn/zsjy/index.htm', 'https://www.nfu.edu.cn/zggcddsxxjy/index.htm', 'http://jx.nfu.edu.cn/', 'https://www.nfu.edu.cn/zsjy/jyfw/index.htm', 'https://www.nfu.edu.cn/xxyw/de6768f996eb44f4ad0c9bb169903e98.htm', 'https://www.gpowersoft.com/', 'https://www.nfu.edu.cn/tsg/index.htm', 'http://www.gdpr.com/', 'https://www.nfu.edu.cn/index.htm', 'https://www.nfu.edu.cn/gjdt/index.htm', 'https://www.nfu.edu.cn/hzjl/index.htm', 'https://www.nfu.edu.cn/rczp/index.htm', 'https://www.nfu.edu.cn/xxgk/index.htm', 'https://www.nfu.edu.cn/xxyw/7148917faf2f437abeaf225e966dd502.htm', 'https://www.nfu.edu.cn/ztb/index.htm', 'https://www.nfu.edu.cn/xxyw/index121.htm', 'https://www.nfu.edu.cn/tzgg/index.htm', 'https://www.nfu.edu.cn/xxyw/64d88d805cb24e29818796b5ed03bd84.htm', 'https://www.nfu.edu.cn/rcpy/msjs/index.htm', 'https://www.nfu.edu.cn/xxgk/xrld/index.htm', 'http://zsb.nfu.edu.cn/', 'https://www.nfu.edu.cn/xxyw/0803663924a442588ee67bce4b9249be.htm', 'https://www.nfu.edu.cn/xxyw/c86819abb17146709e2e51df8cd09e7c.htm'}\n"
     ]
    }
   ],
   "source": [
    "from requests_html import HTMLSession\n",
    "session = HTMLSession()\n",
    "\n",
    "r = session.get('https://www.nfu.edu.cn/xxyw/index.htm')\n",
    "\n",
    "# 获取页面上的所有链接。\n",
    "all_links =  r.html.links\n",
    "print(all_links)\n",
    "print()\n",
    "\n",
    "# 获取页面上的所有链接，以绝对路径的方式。\n",
    "all_absolute_links = r.html.absolute_links\n",
    "print(all_absolute_links)"
   ]
  },
  {
   "cell_type": "code",
   "execution_count": 15,
   "metadata": {},
   "outputs": [
    {
     "name": "stdout",
     "output_type": "stream",
     "text": [
      "央视：华为新手机，拆解出了什么？拆出了中国高科技企业的里程碑\n",
      "{'https://news.cnblogs.com/n/749890/'}\n",
      "“大学教师体验送外卖”破圈背后的“是”与“非”\n",
      "{'https://news.cnblogs.com/n/749865/'}\n",
      "DIY大佬自制离子推进器火了，近300万网友围观：星际迷航就是这吧\n",
      "{'https://news.cnblogs.com/n/749842/'}\n",
      "烧假酒，可能是内燃机以后唯一的出路了\n",
      "{'https://news.cnblogs.com/n/749831/'}\n",
      "为什么说加密货币是史上最大的庞氏骗局\n",
      "{'https://news.cnblogs.com/n/749779/'}\n",
      "独立游戏调GPT遭Steam下架，开发者：我的存款和三年半时光都没了\n",
      "{'https://news.cnblogs.com/n/749740/'}\n",
      "AI“调香师”预测气味媲美人类\n",
      "{'https://news.cnblogs.com/n/749717/'}\n",
      "山东一大学教授送外卖，写出来一篇外卖小哥调研文章\n",
      "{'https://news.cnblogs.com/n/749676/'}\n",
      "AI无人机竞速击败人类冠军，Nature：将AlphaGo成果带到物理世界\n",
      "{'https://news.cnblogs.com/n/749606/'}\n",
      "文心一言全面开放！阿里、腾讯、华为等将陆续上线，百“模”大战打响？\n",
      "{'https://news.cnblogs.com/n/749589/'}\n",
      "微软官宣：Visual Studio for Mac 退役\n",
      "{'https://news.cnblogs.com/n/748557/'}\n",
      "1079天后，麒麟复活！\n",
      "{'https://news.cnblogs.com/n/748460/'}\n",
      "植入物结合AI将大脑信号转为语音\n",
      "{'https://news.cnblogs.com/n/748458/'}\n",
      "重大更新！OpenAI发布企业版ChatGPT，可根据行业定制AI\n",
      "{'https://news.cnblogs.com/n/748395/'}\n",
      "马斯克直播自动驾驶「去小扎家」，45分钟仅一次人工干预\n",
      "{'https://news.cnblogs.com/n/748364/'}\n",
      "“李跳跳”为何成了大厂公敌？\n",
      "{'https://news.cnblogs.com/n/748361/'}\n",
      "小鹏和滴滴官宣战略合作，全新子品牌呼之欲出，剑指 15 万档\n",
      "{'https://news.cnblogs.com/n/748322/'}\n",
      "代码生成模型 Code Llama-34B 已在 HumanEval 测试中击败 GPT-4\n",
      "{'https://news.cnblogs.com/n/748298/'}\n"
     ]
    }
   ],
   "source": [
    "from requests_html import HTMLSession\n",
    "\n",
    "# 相当于打开浏览器，开启会话\n",
    "session = HTMLSession()\n",
    "\n",
    "r = session.get(\"https://news.cnblogs.com/n/recommend\")\n",
    "\n",
    "# 通过CSS找到新闻标签\n",
    "news = r.html.find('h2.news_entry > a')\n",
    "\n",
    "for new in news:\n",
    "    print(new.text)  # 获得新闻标题\n",
    "    print(new.absolute_links)  # 获得新闻链接"
   ]
  },
  {
   "cell_type": "markdown",
   "metadata": {},
   "source": [
    "# 体验项目三"
   ]
  },
  {
   "cell_type": "code",
   "execution_count": 4,
   "metadata": {},
   "outputs": [
    {
     "name": "stdout",
     "output_type": "stream",
     "text": [
      "[]\n"
     ]
    }
   ],
   "source": [
    "from requests_html import HTMLSession\n",
    "import requests\n",
    "\n",
    "\n",
    "# 保存图片到bg/目录\n",
    "def save_image(url, title):\n",
    "    img_response = requests.get(url)\n",
    "    print(img_response.content)\n",
    "    with open('bg/'+title, 'wb') as file:\n",
    "        file.write(img_response.content)\n",
    "\n",
    "# 背景图片地址\n",
    "url = \"https://wallhaven.cc/\"\n",
    "\n",
    "session = HTMLSession()\n",
    "r = session.get(url)\n",
    "\n",
    "# 查找页面中背景图，找到链接，访问查看大图，并获取大图地址\n",
    "items_img = r.html.find('span.sm-thumb > a >img')\n",
    "print(items_img)\n",
    "for img in items_img:\n",
    "    img_url = img.attrs['src']\n",
    "    title = img_url.split('/')[-1]\n",
    "    print(img_url,title)\n",
    "    save_image(img_url, title)"
   ]
  },
  {
   "cell_type": "code",
   "execution_count": null,
   "metadata": {},
   "outputs": [],
   "source": []
  }
 ],
 "metadata": {
  "kernelspec": {
   "display_name": "Python 3",
   "language": "python",
   "name": "python3"
  },
  "language_info": {
   "codemirror_mode": {
    "name": "ipython",
    "version": 3
   },
   "file_extension": ".py",
   "mimetype": "text/x-python",
   "name": "python",
   "nbconvert_exporter": "python",
   "pygments_lexer": "ipython3",
   "version": "3.8.3"
  },
  "toc": {
   "base_numbering": 1,
   "nav_menu": {},
   "number_sections": true,
   "sideBar": true,
   "skip_h1_title": false,
   "title_cell": "Table of Contents",
   "title_sidebar": "Contents",
   "toc_cell": false,
   "toc_position": {
    "height": "calc(100% - 180px)",
    "left": "10px",
    "top": "150px",
    "width": "257.438px"
   },
   "toc_section_display": true,
   "toc_window_display": true
  }
 },
 "nbformat": 4,
 "nbformat_minor": 5
}
