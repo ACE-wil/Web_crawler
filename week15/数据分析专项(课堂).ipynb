{
 "cells": [
  {
   "cell_type": "code",
   "execution_count": 1,
   "metadata": {},
   "outputs": [],
   "source": [
    "import pandas as pd"
   ]
  },
  {
   "cell_type": "code",
   "execution_count": 20,
   "metadata": {
    "scrolled": true
   },
   "outputs": [
    {
     "data": {
      "text/plain": "     Unnamed: 0 recruiter.recruiterTitle comp.compScale comp.compStage  \\\n0             0                       人力          1-49人            NaN   \n1             1                       人力          1-49人            NaN   \n2             2                     HRBP       100-499人             D轮   \n3             3                     高级经理       10000人以上           美股上市   \n4             4                   产品运营经理     1000-2000人            NaN   \n..          ...                      ...            ...            ...   \n395          35                  猎头顾问/助理       100-499人             D轮   \n396          36                     招聘经理       100-499人             D轮   \n397          37                     招聘经理       100-499人             D轮   \n398          38                     招聘经理       100-499人             D轮   \n399          39                       HR       100-499人          融资未公开   \n\n    comp.compIndustry   comp.compName  \\\n0               非营利组织        中关村标准化协会   \n1               非营利组织        中关村标准化协会   \n2             航空/航天设备     北京中航智科技有限公司   \n3                 互联网           Baidu   \n4               计算机软件  北京智慧星光信息技术有限公司   \n..                ...             ...   \n395             互联网医疗           好大夫在线   \n396             互联网医疗           好大夫在线   \n397             互联网医疗           好大夫在线   \n398             互联网医疗           好大夫在线   \n399               互联网  北京医来伸手健康管理有限公司   \n\n                                            job.labels  job.dq  \\\n0                                        ['IT/互联网/软件']  北京-海淀区   \n1                                                   []  北京-海淀区   \n2                                               ['本科']      北京   \n3             ['人工智能', '产品运营', '活动运营', '线下运营', '线上运营']      北京   \n4                                   ['b端产品运营', '用户运营']      北京   \n..                                                 ...     ...   \n395                                  ['医疗健康', '互联网医疗']  北京-朝阳区   \n396  ['分诊', '核医学科', '医疗健康', '健康指导', '术后病人', '互联网医疗'...  北京-朝阳区   \n397                                                 []  北京-朝阳区   \n398                                                 []  北京-朝阳区   \n399                                           ['视频剪辑']  北京-昌平区   \n\n    job.campusJobKind                    job.title  job.salary  \n0                 NaN                         项目助理       5-10k  \n1                 NaN                        项目管培生        薪资面议  \n2                  应届                        销售工程师  13-16k·14薪  \n3                 NaN                 产品运营-营销和生态方向      20-40k  \n4                 NaN                      产品运营实习生        2-5k  \n..                ...                          ...         ...  \n395               NaN  好大夫-互联网医疗运营（限临床/预防/护理等医学专业）  10-18k·16薪  \n396               NaN       健康顾问（15-20K，16薪）J10974  15-20k·16薪  \n397               NaN     医学专员（底薪15-20K，16薪）J10974  15-20k·16薪  \n398               NaN       运营专员（10-20K，16薪）J10974  11-20k·16薪  \n399               NaN                         视频剪辑       6-11k  \n\n[400 rows x 11 columns]",
      "text/html": "<div>\n<style scoped>\n    .dataframe tbody tr th:only-of-type {\n        vertical-align: middle;\n    }\n\n    .dataframe tbody tr th {\n        vertical-align: top;\n    }\n\n    .dataframe thead th {\n        text-align: right;\n    }\n</style>\n<table border=\"1\" class=\"dataframe\">\n  <thead>\n    <tr style=\"text-align: right;\">\n      <th></th>\n      <th>Unnamed: 0</th>\n      <th>recruiter.recruiterTitle</th>\n      <th>comp.compScale</th>\n      <th>comp.compStage</th>\n      <th>comp.compIndustry</th>\n      <th>comp.compName</th>\n      <th>job.labels</th>\n      <th>job.dq</th>\n      <th>job.campusJobKind</th>\n      <th>job.title</th>\n      <th>job.salary</th>\n    </tr>\n  </thead>\n  <tbody>\n    <tr>\n      <th>0</th>\n      <td>0</td>\n      <td>人力</td>\n      <td>1-49人</td>\n      <td>NaN</td>\n      <td>非营利组织</td>\n      <td>中关村标准化协会</td>\n      <td>['IT/互联网/软件']</td>\n      <td>北京-海淀区</td>\n      <td>NaN</td>\n      <td>项目助理</td>\n      <td>5-10k</td>\n    </tr>\n    <tr>\n      <th>1</th>\n      <td>1</td>\n      <td>人力</td>\n      <td>1-49人</td>\n      <td>NaN</td>\n      <td>非营利组织</td>\n      <td>中关村标准化协会</td>\n      <td>[]</td>\n      <td>北京-海淀区</td>\n      <td>NaN</td>\n      <td>项目管培生</td>\n      <td>薪资面议</td>\n    </tr>\n    <tr>\n      <th>2</th>\n      <td>2</td>\n      <td>HRBP</td>\n      <td>100-499人</td>\n      <td>D轮</td>\n      <td>航空/航天设备</td>\n      <td>北京中航智科技有限公司</td>\n      <td>['本科']</td>\n      <td>北京</td>\n      <td>应届</td>\n      <td>销售工程师</td>\n      <td>13-16k·14薪</td>\n    </tr>\n    <tr>\n      <th>3</th>\n      <td>3</td>\n      <td>高级经理</td>\n      <td>10000人以上</td>\n      <td>美股上市</td>\n      <td>互联网</td>\n      <td>Baidu</td>\n      <td>['人工智能', '产品运营', '活动运营', '线下运营', '线上运营']</td>\n      <td>北京</td>\n      <td>NaN</td>\n      <td>产品运营-营销和生态方向</td>\n      <td>20-40k</td>\n    </tr>\n    <tr>\n      <th>4</th>\n      <td>4</td>\n      <td>产品运营经理</td>\n      <td>1000-2000人</td>\n      <td>NaN</td>\n      <td>计算机软件</td>\n      <td>北京智慧星光信息技术有限公司</td>\n      <td>['b端产品运营', '用户运营']</td>\n      <td>北京</td>\n      <td>NaN</td>\n      <td>产品运营实习生</td>\n      <td>2-5k</td>\n    </tr>\n    <tr>\n      <th>...</th>\n      <td>...</td>\n      <td>...</td>\n      <td>...</td>\n      <td>...</td>\n      <td>...</td>\n      <td>...</td>\n      <td>...</td>\n      <td>...</td>\n      <td>...</td>\n      <td>...</td>\n      <td>...</td>\n    </tr>\n    <tr>\n      <th>395</th>\n      <td>35</td>\n      <td>猎头顾问/助理</td>\n      <td>100-499人</td>\n      <td>D轮</td>\n      <td>互联网医疗</td>\n      <td>好大夫在线</td>\n      <td>['医疗健康', '互联网医疗']</td>\n      <td>北京-朝阳区</td>\n      <td>NaN</td>\n      <td>好大夫-互联网医疗运营（限临床/预防/护理等医学专业）</td>\n      <td>10-18k·16薪</td>\n    </tr>\n    <tr>\n      <th>396</th>\n      <td>36</td>\n      <td>招聘经理</td>\n      <td>100-499人</td>\n      <td>D轮</td>\n      <td>互联网医疗</td>\n      <td>好大夫在线</td>\n      <td>['分诊', '核医学科', '医疗健康', '健康指导', '术后病人', '互联网医疗'...</td>\n      <td>北京-朝阳区</td>\n      <td>NaN</td>\n      <td>健康顾问（15-20K，16薪）J10974</td>\n      <td>15-20k·16薪</td>\n    </tr>\n    <tr>\n      <th>397</th>\n      <td>37</td>\n      <td>招聘经理</td>\n      <td>100-499人</td>\n      <td>D轮</td>\n      <td>互联网医疗</td>\n      <td>好大夫在线</td>\n      <td>[]</td>\n      <td>北京-朝阳区</td>\n      <td>NaN</td>\n      <td>医学专员（底薪15-20K，16薪）J10974</td>\n      <td>15-20k·16薪</td>\n    </tr>\n    <tr>\n      <th>398</th>\n      <td>38</td>\n      <td>招聘经理</td>\n      <td>100-499人</td>\n      <td>D轮</td>\n      <td>互联网医疗</td>\n      <td>好大夫在线</td>\n      <td>[]</td>\n      <td>北京-朝阳区</td>\n      <td>NaN</td>\n      <td>运营专员（10-20K，16薪）J10974</td>\n      <td>11-20k·16薪</td>\n    </tr>\n    <tr>\n      <th>399</th>\n      <td>39</td>\n      <td>HR</td>\n      <td>100-499人</td>\n      <td>融资未公开</td>\n      <td>互联网</td>\n      <td>北京医来伸手健康管理有限公司</td>\n      <td>['视频剪辑']</td>\n      <td>北京-昌平区</td>\n      <td>NaN</td>\n      <td>视频剪辑</td>\n      <td>6-11k</td>\n    </tr>\n  </tbody>\n</table>\n<p>400 rows × 11 columns</p>\n</div>"
     },
     "execution_count": 20,
     "metadata": {},
     "output_type": "execute_result"
    }
   ],
   "source": [
    "df = pd.read_excel('北京_产品运营_应届生.xlsx')\n",
    "df"
   ]
  },
  {
   "cell_type": "code",
   "execution_count": 26,
   "outputs": [
    {
     "data": {
      "text/plain": "     job.dq comp.compScale comp.compIndustry   comp.compName  \\\n0    北京-海淀区          1-49人             非营利组织        中关村标准化协会   \n1    北京-海淀区          1-49人             非营利组织        中关村标准化协会   \n2        北京       100-499人           航空/航天设备     北京中航智科技有限公司   \n3        北京       10000人以上               互联网           Baidu   \n4        北京     1000-2000人             计算机软件  北京智慧星光信息技术有限公司   \n..      ...            ...               ...             ...   \n395  北京-朝阳区       100-499人             互联网医疗           好大夫在线   \n396  北京-朝阳区       100-499人             互联网医疗           好大夫在线   \n397  北京-朝阳区       100-499人             互联网医疗           好大夫在线   \n398  北京-朝阳区       100-499人             互联网医疗           好大夫在线   \n399  北京-昌平区       100-499人               互联网  北京医来伸手健康管理有限公司   \n\n                       job.title  job.salary  \n0                           项目助理       5-10k  \n1                          项目管培生        薪资面议  \n2                          销售工程师  13-16k·14薪  \n3                   产品运营-营销和生态方向      20-40k  \n4                        产品运营实习生        2-5k  \n..                           ...         ...  \n395  好大夫-互联网医疗运营（限临床/预防/护理等医学专业）  10-18k·16薪  \n396       健康顾问（15-20K，16薪）J10974  15-20k·16薪  \n397     医学专员（底薪15-20K，16薪）J10974  15-20k·16薪  \n398       运营专员（10-20K，16薪）J10974  11-20k·16薪  \n399                         视频剪辑       6-11k  \n\n[400 rows x 6 columns]",
      "text/html": "<div>\n<style scoped>\n    .dataframe tbody tr th:only-of-type {\n        vertical-align: middle;\n    }\n\n    .dataframe tbody tr th {\n        vertical-align: top;\n    }\n\n    .dataframe thead th {\n        text-align: right;\n    }\n</style>\n<table border=\"1\" class=\"dataframe\">\n  <thead>\n    <tr style=\"text-align: right;\">\n      <th></th>\n      <th>job.dq</th>\n      <th>comp.compScale</th>\n      <th>comp.compIndustry</th>\n      <th>comp.compName</th>\n      <th>job.title</th>\n      <th>job.salary</th>\n    </tr>\n  </thead>\n  <tbody>\n    <tr>\n      <th>0</th>\n      <td>北京-海淀区</td>\n      <td>1-49人</td>\n      <td>非营利组织</td>\n      <td>中关村标准化协会</td>\n      <td>项目助理</td>\n      <td>5-10k</td>\n    </tr>\n    <tr>\n      <th>1</th>\n      <td>北京-海淀区</td>\n      <td>1-49人</td>\n      <td>非营利组织</td>\n      <td>中关村标准化协会</td>\n      <td>项目管培生</td>\n      <td>薪资面议</td>\n    </tr>\n    <tr>\n      <th>2</th>\n      <td>北京</td>\n      <td>100-499人</td>\n      <td>航空/航天设备</td>\n      <td>北京中航智科技有限公司</td>\n      <td>销售工程师</td>\n      <td>13-16k·14薪</td>\n    </tr>\n    <tr>\n      <th>3</th>\n      <td>北京</td>\n      <td>10000人以上</td>\n      <td>互联网</td>\n      <td>Baidu</td>\n      <td>产品运营-营销和生态方向</td>\n      <td>20-40k</td>\n    </tr>\n    <tr>\n      <th>4</th>\n      <td>北京</td>\n      <td>1000-2000人</td>\n      <td>计算机软件</td>\n      <td>北京智慧星光信息技术有限公司</td>\n      <td>产品运营实习生</td>\n      <td>2-5k</td>\n    </tr>\n    <tr>\n      <th>...</th>\n      <td>...</td>\n      <td>...</td>\n      <td>...</td>\n      <td>...</td>\n      <td>...</td>\n      <td>...</td>\n    </tr>\n    <tr>\n      <th>395</th>\n      <td>北京-朝阳区</td>\n      <td>100-499人</td>\n      <td>互联网医疗</td>\n      <td>好大夫在线</td>\n      <td>好大夫-互联网医疗运营（限临床/预防/护理等医学专业）</td>\n      <td>10-18k·16薪</td>\n    </tr>\n    <tr>\n      <th>396</th>\n      <td>北京-朝阳区</td>\n      <td>100-499人</td>\n      <td>互联网医疗</td>\n      <td>好大夫在线</td>\n      <td>健康顾问（15-20K，16薪）J10974</td>\n      <td>15-20k·16薪</td>\n    </tr>\n    <tr>\n      <th>397</th>\n      <td>北京-朝阳区</td>\n      <td>100-499人</td>\n      <td>互联网医疗</td>\n      <td>好大夫在线</td>\n      <td>医学专员（底薪15-20K，16薪）J10974</td>\n      <td>15-20k·16薪</td>\n    </tr>\n    <tr>\n      <th>398</th>\n      <td>北京-朝阳区</td>\n      <td>100-499人</td>\n      <td>互联网医疗</td>\n      <td>好大夫在线</td>\n      <td>运营专员（10-20K，16薪）J10974</td>\n      <td>11-20k·16薪</td>\n    </tr>\n    <tr>\n      <th>399</th>\n      <td>北京-昌平区</td>\n      <td>100-499人</td>\n      <td>互联网</td>\n      <td>北京医来伸手健康管理有限公司</td>\n      <td>视频剪辑</td>\n      <td>6-11k</td>\n    </tr>\n  </tbody>\n</table>\n<p>400 rows × 6 columns</p>\n</div>"
     },
     "execution_count": 26,
     "metadata": {},
     "output_type": "execute_result"
    }
   ],
   "source": [
    "df_beijing = df[['job.dq','comp.compScale','comp.compIndustry','comp.compName','job.title','job.salary']]\n",
    "df_beijing"
   ],
   "metadata": {
    "collapsed": false
   }
  },
  {
   "cell_type": "code",
   "execution_count": 27,
   "outputs": [],
   "source": [
    "df_beijing = df_beijing.rename(columns={\n",
    "    'job.dq':'地区',\n",
    "    'comp.compScale':'公司规模',\n",
    "    'comp.compIndustry':'公司行业',\n",
    "    'comp.compName':'公司名称',\n",
    "    'job.title':'岗位名称',\n",
    "    'job.salary':'工资',\n",
    "\n",
    "})"
   ],
   "metadata": {
    "collapsed": false
   }
  },
  {
   "cell_type": "code",
   "execution_count": 28,
   "outputs": [
    {
     "data": {
      "text/plain": "         地区        公司规模     公司行业            公司名称                         岗位名称  \\\n0    北京-海淀区       1-49人    非营利组织        中关村标准化协会                         项目助理   \n1    北京-海淀区       1-49人    非营利组织        中关村标准化协会                        项目管培生   \n2        北京    100-499人  航空/航天设备     北京中航智科技有限公司                        销售工程师   \n3        北京    10000人以上      互联网           Baidu                 产品运营-营销和生态方向   \n4        北京  1000-2000人    计算机软件  北京智慧星光信息技术有限公司                      产品运营实习生   \n..      ...         ...      ...             ...                          ...   \n395  北京-朝阳区    100-499人    互联网医疗           好大夫在线  好大夫-互联网医疗运营（限临床/预防/护理等医学专业）   \n396  北京-朝阳区    100-499人    互联网医疗           好大夫在线       健康顾问（15-20K，16薪）J10974   \n397  北京-朝阳区    100-499人    互联网医疗           好大夫在线     医学专员（底薪15-20K，16薪）J10974   \n398  北京-朝阳区    100-499人    互联网医疗           好大夫在线       运营专员（10-20K，16薪）J10974   \n399  北京-昌平区    100-499人      互联网  北京医来伸手健康管理有限公司                         视频剪辑   \n\n             工资  \n0         5-10k  \n1          薪资面议  \n2    13-16k·14薪  \n3        20-40k  \n4          2-5k  \n..          ...  \n395  10-18k·16薪  \n396  15-20k·16薪  \n397  15-20k·16薪  \n398  11-20k·16薪  \n399       6-11k  \n\n[400 rows x 6 columns]",
      "text/html": "<div>\n<style scoped>\n    .dataframe tbody tr th:only-of-type {\n        vertical-align: middle;\n    }\n\n    .dataframe tbody tr th {\n        vertical-align: top;\n    }\n\n    .dataframe thead th {\n        text-align: right;\n    }\n</style>\n<table border=\"1\" class=\"dataframe\">\n  <thead>\n    <tr style=\"text-align: right;\">\n      <th></th>\n      <th>地区</th>\n      <th>公司规模</th>\n      <th>公司行业</th>\n      <th>公司名称</th>\n      <th>岗位名称</th>\n      <th>工资</th>\n    </tr>\n  </thead>\n  <tbody>\n    <tr>\n      <th>0</th>\n      <td>北京-海淀区</td>\n      <td>1-49人</td>\n      <td>非营利组织</td>\n      <td>中关村标准化协会</td>\n      <td>项目助理</td>\n      <td>5-10k</td>\n    </tr>\n    <tr>\n      <th>1</th>\n      <td>北京-海淀区</td>\n      <td>1-49人</td>\n      <td>非营利组织</td>\n      <td>中关村标准化协会</td>\n      <td>项目管培生</td>\n      <td>薪资面议</td>\n    </tr>\n    <tr>\n      <th>2</th>\n      <td>北京</td>\n      <td>100-499人</td>\n      <td>航空/航天设备</td>\n      <td>北京中航智科技有限公司</td>\n      <td>销售工程师</td>\n      <td>13-16k·14薪</td>\n    </tr>\n    <tr>\n      <th>3</th>\n      <td>北京</td>\n      <td>10000人以上</td>\n      <td>互联网</td>\n      <td>Baidu</td>\n      <td>产品运营-营销和生态方向</td>\n      <td>20-40k</td>\n    </tr>\n    <tr>\n      <th>4</th>\n      <td>北京</td>\n      <td>1000-2000人</td>\n      <td>计算机软件</td>\n      <td>北京智慧星光信息技术有限公司</td>\n      <td>产品运营实习生</td>\n      <td>2-5k</td>\n    </tr>\n    <tr>\n      <th>...</th>\n      <td>...</td>\n      <td>...</td>\n      <td>...</td>\n      <td>...</td>\n      <td>...</td>\n      <td>...</td>\n    </tr>\n    <tr>\n      <th>395</th>\n      <td>北京-朝阳区</td>\n      <td>100-499人</td>\n      <td>互联网医疗</td>\n      <td>好大夫在线</td>\n      <td>好大夫-互联网医疗运营（限临床/预防/护理等医学专业）</td>\n      <td>10-18k·16薪</td>\n    </tr>\n    <tr>\n      <th>396</th>\n      <td>北京-朝阳区</td>\n      <td>100-499人</td>\n      <td>互联网医疗</td>\n      <td>好大夫在线</td>\n      <td>健康顾问（15-20K，16薪）J10974</td>\n      <td>15-20k·16薪</td>\n    </tr>\n    <tr>\n      <th>397</th>\n      <td>北京-朝阳区</td>\n      <td>100-499人</td>\n      <td>互联网医疗</td>\n      <td>好大夫在线</td>\n      <td>医学专员（底薪15-20K，16薪）J10974</td>\n      <td>15-20k·16薪</td>\n    </tr>\n    <tr>\n      <th>398</th>\n      <td>北京-朝阳区</td>\n      <td>100-499人</td>\n      <td>互联网医疗</td>\n      <td>好大夫在线</td>\n      <td>运营专员（10-20K，16薪）J10974</td>\n      <td>11-20k·16薪</td>\n    </tr>\n    <tr>\n      <th>399</th>\n      <td>北京-昌平区</td>\n      <td>100-499人</td>\n      <td>互联网</td>\n      <td>北京医来伸手健康管理有限公司</td>\n      <td>视频剪辑</td>\n      <td>6-11k</td>\n    </tr>\n  </tbody>\n</table>\n<p>400 rows × 6 columns</p>\n</div>"
     },
     "execution_count": 28,
     "metadata": {},
     "output_type": "execute_result"
    }
   ],
   "source": [
    "df_beijing"
   ],
   "metadata": {
    "collapsed": false
   }
  },
  {
   "cell_type": "code",
   "execution_count": 40,
   "outputs": [],
   "source": [
    "set_dq = set(df_beijing['地区'])"
   ],
   "metadata": {
    "collapsed": false
   }
  },
  {
   "cell_type": "code",
   "execution_count": 72,
   "outputs": [],
   "source": [
    "list_dq = list(set_dq)\n",
    "list_dq"
   ],
   "metadata": {
    "collapsed": false
   }
  },
  {
   "cell_type": "code",
   "execution_count": 75,
   "outputs": [
    {
     "data": {
      "text/plain": "16"
     },
     "execution_count": 75,
     "metadata": {},
     "output_type": "execute_result"
    }
   ],
   "source": [
    "a = len(list_dq)\n",
    "a"
   ],
   "metadata": {
    "collapsed": false
   }
  },
  {
   "cell_type": "code",
   "execution_count": 45,
   "outputs": [
    {
     "data": {
      "text/plain": "         地区        公司规模      公司行业                  公司名称            岗位名称  \\\n67   北京-西城区    100-499人    新闻和出版业             北京科学技术出版社       图书产品-直播运营   \n74   北京-西城区       1-49人  基金/证券/期货  海南鹭鹰私募基金管理合伙企业(有限合伙)            基金运营   \n79   北京-西城区    500-999人        保险                华农财产保险         互联网保险bd   \n103  北京-西城区    500-999人     计算机软件                  沃丰科技            产品助理   \n119  北京-西城区       1-49人    专业技术服务         北京市酥米教育科技有限公司              文案   \n126  北京-西城区       1-49人    专业技术服务                  灵岩创世          人事行政助理   \n155  北京-西城区  2000-5000人     计算机软件    北京掌上先机网络科技有限公司(慧策)  商业分析总监(J13588)   \n190  北京-西城区    500-999人      通信设备        北京四维通联电讯器材有限公司          产品业务专员   \n285  北京-西城区       1-49人  基金/证券/期货                北京创金启富            销售支持   \n294  北京-西城区    10000人以上        保险     平安健康保险股份有限公司北京分公司        B端对公客户经理   \n312  北京-西城区    10000人以上  运营商/增值服务            中国电信股份有限公司      大数据安全管理工程师   \n331  北京-西城区    100-499人    专业技术服务        泰康健康管理(北京)有限公司       健康服务运营管理岗   \n347  北京-西城区      50-99人     计算机软件          北京网安通达科技有限公司           HTML5   \n364  北京-西城区    500-999人     计算机软件                  沃丰科技             管培生   \n382  北京-西城区       1-49人     计算机软件                  利玛软件           大客户销售   \n\n             工资  \n67       10-15k  \n74        7-10k  \n79       10-20k  \n103       8-15k  \n119       8-11k  \n126    6-8k·13薪  \n155      20-40k  \n190        5-7k  \n285      10-20k  \n294        薪资面议  \n312  15-20k·15薪  \n331      16-32k  \n347   8-16k·13薪  \n364  10-20k·13薪  \n382      10-25k  ",
      "text/html": "<div>\n<style scoped>\n    .dataframe tbody tr th:only-of-type {\n        vertical-align: middle;\n    }\n\n    .dataframe tbody tr th {\n        vertical-align: top;\n    }\n\n    .dataframe thead th {\n        text-align: right;\n    }\n</style>\n<table border=\"1\" class=\"dataframe\">\n  <thead>\n    <tr style=\"text-align: right;\">\n      <th></th>\n      <th>地区</th>\n      <th>公司规模</th>\n      <th>公司行业</th>\n      <th>公司名称</th>\n      <th>岗位名称</th>\n      <th>工资</th>\n    </tr>\n  </thead>\n  <tbody>\n    <tr>\n      <th>67</th>\n      <td>北京-西城区</td>\n      <td>100-499人</td>\n      <td>新闻和出版业</td>\n      <td>北京科学技术出版社</td>\n      <td>图书产品-直播运营</td>\n      <td>10-15k</td>\n    </tr>\n    <tr>\n      <th>74</th>\n      <td>北京-西城区</td>\n      <td>1-49人</td>\n      <td>基金/证券/期货</td>\n      <td>海南鹭鹰私募基金管理合伙企业(有限合伙)</td>\n      <td>基金运营</td>\n      <td>7-10k</td>\n    </tr>\n    <tr>\n      <th>79</th>\n      <td>北京-西城区</td>\n      <td>500-999人</td>\n      <td>保险</td>\n      <td>华农财产保险</td>\n      <td>互联网保险bd</td>\n      <td>10-20k</td>\n    </tr>\n    <tr>\n      <th>103</th>\n      <td>北京-西城区</td>\n      <td>500-999人</td>\n      <td>计算机软件</td>\n      <td>沃丰科技</td>\n      <td>产品助理</td>\n      <td>8-15k</td>\n    </tr>\n    <tr>\n      <th>119</th>\n      <td>北京-西城区</td>\n      <td>1-49人</td>\n      <td>专业技术服务</td>\n      <td>北京市酥米教育科技有限公司</td>\n      <td>文案</td>\n      <td>8-11k</td>\n    </tr>\n    <tr>\n      <th>126</th>\n      <td>北京-西城区</td>\n      <td>1-49人</td>\n      <td>专业技术服务</td>\n      <td>灵岩创世</td>\n      <td>人事行政助理</td>\n      <td>6-8k·13薪</td>\n    </tr>\n    <tr>\n      <th>155</th>\n      <td>北京-西城区</td>\n      <td>2000-5000人</td>\n      <td>计算机软件</td>\n      <td>北京掌上先机网络科技有限公司(慧策)</td>\n      <td>商业分析总监(J13588)</td>\n      <td>20-40k</td>\n    </tr>\n    <tr>\n      <th>190</th>\n      <td>北京-西城区</td>\n      <td>500-999人</td>\n      <td>通信设备</td>\n      <td>北京四维通联电讯器材有限公司</td>\n      <td>产品业务专员</td>\n      <td>5-7k</td>\n    </tr>\n    <tr>\n      <th>285</th>\n      <td>北京-西城区</td>\n      <td>1-49人</td>\n      <td>基金/证券/期货</td>\n      <td>北京创金启富</td>\n      <td>销售支持</td>\n      <td>10-20k</td>\n    </tr>\n    <tr>\n      <th>294</th>\n      <td>北京-西城区</td>\n      <td>10000人以上</td>\n      <td>保险</td>\n      <td>平安健康保险股份有限公司北京分公司</td>\n      <td>B端对公客户经理</td>\n      <td>薪资面议</td>\n    </tr>\n    <tr>\n      <th>312</th>\n      <td>北京-西城区</td>\n      <td>10000人以上</td>\n      <td>运营商/增值服务</td>\n      <td>中国电信股份有限公司</td>\n      <td>大数据安全管理工程师</td>\n      <td>15-20k·15薪</td>\n    </tr>\n    <tr>\n      <th>331</th>\n      <td>北京-西城区</td>\n      <td>100-499人</td>\n      <td>专业技术服务</td>\n      <td>泰康健康管理(北京)有限公司</td>\n      <td>健康服务运营管理岗</td>\n      <td>16-32k</td>\n    </tr>\n    <tr>\n      <th>347</th>\n      <td>北京-西城区</td>\n      <td>50-99人</td>\n      <td>计算机软件</td>\n      <td>北京网安通达科技有限公司</td>\n      <td>HTML5</td>\n      <td>8-16k·13薪</td>\n    </tr>\n    <tr>\n      <th>364</th>\n      <td>北京-西城区</td>\n      <td>500-999人</td>\n      <td>计算机软件</td>\n      <td>沃丰科技</td>\n      <td>管培生</td>\n      <td>10-20k·13薪</td>\n    </tr>\n    <tr>\n      <th>382</th>\n      <td>北京-西城区</td>\n      <td>1-49人</td>\n      <td>计算机软件</td>\n      <td>利玛软件</td>\n      <td>大客户销售</td>\n      <td>10-25k</td>\n    </tr>\n  </tbody>\n</table>\n</div>"
     },
     "execution_count": 45,
     "metadata": {},
     "output_type": "execute_result"
    }
   ],
   "source": [
    "df1 = df_beijing[(df_beijing['地区'] == list_dq[0])]\n",
    "df1"
   ],
   "metadata": {
    "collapsed": false
   }
  },
  {
   "cell_type": "code",
   "execution_count": null,
   "outputs": [],
   "source": [
    "len(set(df1['公司规模']))"
   ],
   "metadata": {
    "collapsed": false
   }
  },
  {
   "cell_type": "code",
   "execution_count": 58,
   "outputs": [
    {
     "data": {
      "text/plain": "['1-49人', '100-499人', '10000人以上', '2000-5000人', '50-99人', '500-999人']"
     },
     "execution_count": 58,
     "metadata": {},
     "output_type": "execute_result"
    }
   ],
   "source": [
    "b = len(set(df1['公司规模']))\n",
    "list_sca = list(set(df1['公司规模']))\n",
    "list_sca = sorted(list_sca)\n",
    "list_sca"
   ],
   "metadata": {
    "collapsed": false
   }
  },
  {
   "cell_type": "code",
   "execution_count": 62,
   "outputs": [
    {
     "data": {
      "text/plain": "         地区        公司规模   公司行业                公司名称            岗位名称      工资\n155  北京-西城区  2000-5000人  计算机软件  北京掌上先机网络科技有限公司(慧策)  商业分析总监(J13588)  20-40k",
      "text/html": "<div>\n<style scoped>\n    .dataframe tbody tr th:only-of-type {\n        vertical-align: middle;\n    }\n\n    .dataframe tbody tr th {\n        vertical-align: top;\n    }\n\n    .dataframe thead th {\n        text-align: right;\n    }\n</style>\n<table border=\"1\" class=\"dataframe\">\n  <thead>\n    <tr style=\"text-align: right;\">\n      <th></th>\n      <th>地区</th>\n      <th>公司规模</th>\n      <th>公司行业</th>\n      <th>公司名称</th>\n      <th>岗位名称</th>\n      <th>工资</th>\n    </tr>\n  </thead>\n  <tbody>\n    <tr>\n      <th>155</th>\n      <td>北京-西城区</td>\n      <td>2000-5000人</td>\n      <td>计算机软件</td>\n      <td>北京掌上先机网络科技有限公司(慧策)</td>\n      <td>商业分析总监(J13588)</td>\n      <td>20-40k</td>\n    </tr>\n  </tbody>\n</table>\n</div>"
     },
     "execution_count": 62,
     "metadata": {},
     "output_type": "execute_result"
    }
   ],
   "source": [
    "df2 = df_beijing[(df_beijing['地区'] == list_dq[0]) & (df_beijing['公司规模'] == list_sca[3])]\n",
    "df2"
   ],
   "metadata": {
    "collapsed": false
   }
  },
  {
   "cell_type": "code",
   "execution_count": 63,
   "outputs": [
    {
     "data": {
      "text/plain": "['计算机软件']"
     },
     "execution_count": 63,
     "metadata": {},
     "output_type": "execute_result"
    }
   ],
   "source": [
    "c = len(set(df2['公司行业']))\n",
    "list_indu = list(set(df2['公司行业']))\n",
    "list_indu = sorted(list_indu)\n",
    "list_indu"
   ],
   "metadata": {
    "collapsed": false
   }
  },
  {
   "cell_type": "code",
   "execution_count": 65,
   "outputs": [
    {
     "data": {
      "text/plain": "         地区   公司规模   公司行业  公司名称   岗位名称      工资\n382  北京-西城区  1-49人  计算机软件  利玛软件  大客户销售  10-25k",
      "text/html": "<div>\n<style scoped>\n    .dataframe tbody tr th:only-of-type {\n        vertical-align: middle;\n    }\n\n    .dataframe tbody tr th {\n        vertical-align: top;\n    }\n\n    .dataframe thead th {\n        text-align: right;\n    }\n</style>\n<table border=\"1\" class=\"dataframe\">\n  <thead>\n    <tr style=\"text-align: right;\">\n      <th></th>\n      <th>地区</th>\n      <th>公司规模</th>\n      <th>公司行业</th>\n      <th>公司名称</th>\n      <th>岗位名称</th>\n      <th>工资</th>\n    </tr>\n  </thead>\n  <tbody>\n    <tr>\n      <th>382</th>\n      <td>北京-西城区</td>\n      <td>1-49人</td>\n      <td>计算机软件</td>\n      <td>利玛软件</td>\n      <td>大客户销售</td>\n      <td>10-25k</td>\n    </tr>\n  </tbody>\n</table>\n</div>"
     },
     "execution_count": 65,
     "metadata": {},
     "output_type": "execute_result"
    }
   ],
   "source": [
    "df3 = df_beijing[(df_beijing['地区'] == list_dq[0]) & (df_beijing['公司规模'] == list_sca[0]) & (df_beijing['公司行业'] == list_indu[0])]\n",
    "df3"
   ],
   "metadata": {
    "collapsed": false
   }
  },
  {
   "cell_type": "code",
   "execution_count": 66,
   "outputs": [
    {
     "data": {
      "text/plain": "['利玛软件']"
     },
     "execution_count": 66,
     "metadata": {},
     "output_type": "execute_result"
    }
   ],
   "source": [
    "d = len(set(df3['公司名称']))\n",
    "list_name = list(set(df3['公司名称']))\n",
    "list_name = sorted(list_name)\n",
    "list_name"
   ],
   "metadata": {
    "collapsed": false
   }
  },
  {
   "cell_type": "code",
   "execution_count": 67,
   "outputs": [
    {
     "data": {
      "text/plain": "         地区   公司规模   公司行业  公司名称   岗位名称      工资\n382  北京-西城区  1-49人  计算机软件  利玛软件  大客户销售  10-25k",
      "text/html": "<div>\n<style scoped>\n    .dataframe tbody tr th:only-of-type {\n        vertical-align: middle;\n    }\n\n    .dataframe tbody tr th {\n        vertical-align: top;\n    }\n\n    .dataframe thead th {\n        text-align: right;\n    }\n</style>\n<table border=\"1\" class=\"dataframe\">\n  <thead>\n    <tr style=\"text-align: right;\">\n      <th></th>\n      <th>地区</th>\n      <th>公司规模</th>\n      <th>公司行业</th>\n      <th>公司名称</th>\n      <th>岗位名称</th>\n      <th>工资</th>\n    </tr>\n  </thead>\n  <tbody>\n    <tr>\n      <th>382</th>\n      <td>北京-西城区</td>\n      <td>1-49人</td>\n      <td>计算机软件</td>\n      <td>利玛软件</td>\n      <td>大客户销售</td>\n      <td>10-25k</td>\n    </tr>\n  </tbody>\n</table>\n</div>"
     },
     "execution_count": 67,
     "metadata": {},
     "output_type": "execute_result"
    }
   ],
   "source": [
    "df4 = df_beijing[(df_beijing['地区'] == list_dq[0]) & (df_beijing['公司规模'] == list_sca[0]) & (df_beijing['公司行业'] == list_indu[0]) & (df_beijing['公司名称'] == list_name[0])]\n",
    "df4"
   ],
   "metadata": {
    "collapsed": false
   }
  },
  {
   "cell_type": "code",
   "execution_count": 68,
   "outputs": [
    {
     "data": {
      "text/plain": "['大客户销售']"
     },
     "execution_count": 68,
     "metadata": {},
     "output_type": "execute_result"
    }
   ],
   "source": [
    "e = len(set(df4['岗位名称']))\n",
    "list_job_title = list(set(df4['岗位名称']))\n",
    "list_job_title = sorted(list_job_title)\n",
    "list_job_title"
   ],
   "metadata": {
    "collapsed": false
   }
  },
  {
   "cell_type": "code",
   "execution_count": 69,
   "outputs": [
    {
     "data": {
      "text/plain": "         地区   公司规模   公司行业  公司名称   岗位名称      工资\n382  北京-西城区  1-49人  计算机软件  利玛软件  大客户销售  10-25k",
      "text/html": "<div>\n<style scoped>\n    .dataframe tbody tr th:only-of-type {\n        vertical-align: middle;\n    }\n\n    .dataframe tbody tr th {\n        vertical-align: top;\n    }\n\n    .dataframe thead th {\n        text-align: right;\n    }\n</style>\n<table border=\"1\" class=\"dataframe\">\n  <thead>\n    <tr style=\"text-align: right;\">\n      <th></th>\n      <th>地区</th>\n      <th>公司规模</th>\n      <th>公司行业</th>\n      <th>公司名称</th>\n      <th>岗位名称</th>\n      <th>工资</th>\n    </tr>\n  </thead>\n  <tbody>\n    <tr>\n      <th>382</th>\n      <td>北京-西城区</td>\n      <td>1-49人</td>\n      <td>计算机软件</td>\n      <td>利玛软件</td>\n      <td>大客户销售</td>\n      <td>10-25k</td>\n    </tr>\n  </tbody>\n</table>\n</div>"
     },
     "execution_count": 69,
     "metadata": {},
     "output_type": "execute_result"
    }
   ],
   "source": [
    "df5 = df_beijing[(df_beijing['地区'] == list_dq[0]) & (df_beijing['公司规模'] == list_sca[0]) & (df_beijing['公司行业'] == list_indu[0]) & (df_beijing['公司名称'] == list_name[0]) & (df_beijing['岗位名称'] == list_job_title[0])]\n",
    "df5"
   ],
   "metadata": {
    "collapsed": false
   }
  },
  {
   "cell_type": "code",
   "execution_count": 70,
   "outputs": [
    {
     "data": {
      "text/plain": "['10-25k']"
     },
     "execution_count": 70,
     "metadata": {},
     "output_type": "execute_result"
    }
   ],
   "source": [
    "f = len(set(df5['工资']))\n",
    "list_job_salary = list(set(df5['工资']))\n",
    "list_job_salary = sorted(list_job_salary)\n",
    "list_job_salary"
   ],
   "metadata": {
    "collapsed": false
   }
  },
  {
   "cell_type": "code",
   "execution_count": 71,
   "outputs": [
    {
     "data": {
      "text/plain": "         地区   公司规模   公司行业  公司名称   岗位名称      工资\n382  北京-西城区  1-49人  计算机软件  利玛软件  大客户销售  10-25k",
      "text/html": "<div>\n<style scoped>\n    .dataframe tbody tr th:only-of-type {\n        vertical-align: middle;\n    }\n\n    .dataframe tbody tr th {\n        vertical-align: top;\n    }\n\n    .dataframe thead th {\n        text-align: right;\n    }\n</style>\n<table border=\"1\" class=\"dataframe\">\n  <thead>\n    <tr style=\"text-align: right;\">\n      <th></th>\n      <th>地区</th>\n      <th>公司规模</th>\n      <th>公司行业</th>\n      <th>公司名称</th>\n      <th>岗位名称</th>\n      <th>工资</th>\n    </tr>\n  </thead>\n  <tbody>\n    <tr>\n      <th>382</th>\n      <td>北京-西城区</td>\n      <td>1-49人</td>\n      <td>计算机软件</td>\n      <td>利玛软件</td>\n      <td>大客户销售</td>\n      <td>10-25k</td>\n    </tr>\n  </tbody>\n</table>\n</div>"
     },
     "execution_count": 71,
     "metadata": {},
     "output_type": "execute_result"
    }
   ],
   "source": [
    "df6 = df_beijing[(df_beijing['地区'] == list_dq[0]) & (df_beijing['公司规模'] == list_sca[0]) & (df_beijing['公司行业'] == list_indu[0]) & (df_beijing['公司名称'] == list_name[0]) & (df_beijing['岗位名称'] == list_job_title[0]) & (df_beijing['工资'] == list_job_salary[0])]\n",
    "df6"
   ],
   "metadata": {
    "collapsed": false
   }
  },
  {
   "cell_type": "code",
   "execution_count": 80,
   "outputs": [
    {
     "ename": "TypeError",
     "evalue": "unsupported operand type(s) for +=: 'dict' and 'dict'",
     "output_type": "error",
     "traceback": [
      "\u001B[1;31m---------------------------------------------------------------------------\u001B[0m",
      "\u001B[1;31mTypeError\u001B[0m                                 Traceback (most recent call last)",
      "Cell \u001B[1;32mIn[80], line 7\u001B[0m\n\u001B[0;32m      3\u001B[0m \u001B[38;5;28;01mfor\u001B[39;00m i \u001B[38;5;129;01min\u001B[39;00m \u001B[38;5;28mrange\u001B[39m(a):\n\u001B[0;32m      4\u001B[0m     data \u001B[38;5;241m=\u001B[39m {\n\u001B[0;32m      5\u001B[0m         \u001B[38;5;124m\"\u001B[39m\u001B[38;5;124mname\u001B[39m\u001B[38;5;124m\"\u001B[39m:list_dq[i]\n\u001B[0;32m      6\u001B[0m     }\n\u001B[1;32m----> 7\u001B[0m     data_all\u001B[38;5;241m+\u001B[39m\u001B[38;5;241m=\u001B[39mdata\n\u001B[0;32m      8\u001B[0m \u001B[38;5;28mprint\u001B[39m(data_all)\n",
      "\u001B[1;31mTypeError\u001B[0m: unsupported operand type(s) for +=: 'dict' and 'dict'"
     ]
    }
   ],
   "source": [
    "#  j=6\n",
    "data_all = {}\n",
    "for i in range(a):\n",
    "    data = {\n",
    "        \"name\":list_dq[i]\n",
    "    }\n",
    "    data_all+=data\n",
    "print(data_all)"
   ],
   "metadata": {
    "collapsed": false
   }
  },
  {
   "cell_type": "code",
   "execution_count": 88,
   "outputs": [
    {
     "data": {
      "text/plain": "[{'name': '北京-西城区'},\n {'name': '北京-通州区'},\n {'name': '北京'},\n {'name': '北京-昌平区'},\n {'name': '北京-朝阳区'},\n {'name': '北京-丰台区'},\n {'name': '北京-东城区'},\n {'name': '北京-海淀区'},\n {'name': '北京-平谷区'},\n {'name': '北京-石景山区'},\n {'name': '北京-大兴区'},\n {'name': '北京-房山区'},\n {'name': '北京-延庆区'},\n {'name': '北京-顺义区'},\n {'name': '北京-门头沟区'},\n {'name': '北京-怀柔区'}]"
     },
     "execution_count": 88,
     "metadata": {},
     "output_type": "execute_result"
    }
   ],
   "source": [
    "data_all = [{\"name\":list_dq[i]}  for i in range(a)]\n",
    "data_all"
   ],
   "metadata": {
    "collapsed": false
   }
  },
  {
   "cell_type": "code",
   "execution_count": 84,
   "outputs": [
    {
     "data": {
      "text/plain": "list"
     },
     "execution_count": 84,
     "metadata": {},
     "output_type": "execute_result"
    }
   ],
   "source": [
    "type(data_all)"
   ],
   "metadata": {
    "collapsed": false
   }
  },
  {
   "cell_type": "code",
   "execution_count": 95,
   "outputs": [
    {
     "data": {
      "text/plain": "16"
     },
     "execution_count": 95,
     "metadata": {},
     "output_type": "execute_result"
    }
   ],
   "source": [
    "len(data_all)"
   ],
   "metadata": {
    "collapsed": false
   }
  },
  {
   "cell_type": "code",
   "execution_count": 92,
   "outputs": [
    {
     "data": {
      "text/plain": "{'name': '北京-通州区'}"
     },
     "execution_count": 92,
     "metadata": {},
     "output_type": "execute_result"
    }
   ],
   "source": [
    "data_all[1]"
   ],
   "metadata": {
    "collapsed": false
   }
  },
  {
   "cell_type": "code",
   "execution_count": 94,
   "outputs": [
    {
     "ename": "KeyError",
     "evalue": "{'name': '北京-通州区'}",
     "output_type": "error",
     "traceback": [
      "\u001B[1;31m---------------------------------------------------------------------------\u001B[0m",
      "\u001B[1;31mKeyError\u001B[0m                                  Traceback (most recent call last)",
      "Cell \u001B[1;32mIn[94], line 3\u001B[0m\n\u001B[0;32m      1\u001B[0m set_data_all \u001B[38;5;241m=\u001B[39m {}\n\u001B[0;32m      2\u001B[0m \u001B[38;5;28;01mfor\u001B[39;00m i \u001B[38;5;129;01min\u001B[39;00m \u001B[38;5;28mrange\u001B[39m(\u001B[38;5;28mlen\u001B[39m(data_all)):\n\u001B[1;32m----> 3\u001B[0m     \u001B[43mset_data_all\u001B[49m\u001B[38;5;241;43m.\u001B[39;49m\u001B[43mpop\u001B[49m\u001B[43m(\u001B[49m\u001B[43mdata_all\u001B[49m\u001B[43m[\u001B[49m\u001B[38;5;241;43m1\u001B[39;49m\u001B[43m]\u001B[49m\u001B[43m)\u001B[49m\n\u001B[0;32m      5\u001B[0m set_data_all\n",
      "\u001B[1;31mKeyError\u001B[0m: {'name': '北京-通州区'}"
     ]
    }
   ],
   "source": [
    "set_data_all = {}\n",
    "for i in range(len(data_all)):\n",
    "    set_data_all.pop(data_all[1])\n",
    "\n",
    "set_data_all"
   ],
   "metadata": {
    "collapsed": false
   }
  },
  {
   "cell_type": "code",
   "execution_count": 21,
   "outputs": [
    {
     "data": {
      "text/plain": "     Unnamed: 0 recruiter.recruiterTitle comp.compScale comp.compStage  \\\n21           21                     招聘专家       10000人以上             其他   \n28           28                      NaN       10000人以上             其他   \n112          32                     招聘专家       10000人以上             其他   \n138          18                     招聘专家       10000人以上             其他   \n166           6                      NaN       10000人以上             其他   \n\n    comp.compIndustry comp.compName                              job.labels  \\\n21                互联网          字节跳动                                ['产品运营']   \n28                互联网          字节跳动                ['数据分析', '产品运营', '用户运营']   \n112               互联网          字节跳动                                      []   \n138               互联网          字节跳动                                      []   \n166               互联网          字节跳动  ['快消品类', '美食类', '食品类', '美妆类', '批发/零售']   \n\n     job.dq job.campusJobKind            job.title  job.salary  \n21   北京-海淀区               NaN     商业化产品运营-飞书People  25-50k·15薪  \n28   北京-海淀区               NaN              产品运营实习生        2-4k  \n112  北京-海淀区               NaN  企业效能顾问（生态伙伴管理方向）-飞书  30-60k·15薪  \n138  北京-海淀区               NaN      飞书企业效能顾问-业务效能方向  25-55k·15薪  \n166  北京-海淀区               NaN     零售行业解决方案实习生-火山引擎        3-4k  ",
      "text/html": "<div>\n<style scoped>\n    .dataframe tbody tr th:only-of-type {\n        vertical-align: middle;\n    }\n\n    .dataframe tbody tr th {\n        vertical-align: top;\n    }\n\n    .dataframe thead th {\n        text-align: right;\n    }\n</style>\n<table border=\"1\" class=\"dataframe\">\n  <thead>\n    <tr style=\"text-align: right;\">\n      <th></th>\n      <th>Unnamed: 0</th>\n      <th>recruiter.recruiterTitle</th>\n      <th>comp.compScale</th>\n      <th>comp.compStage</th>\n      <th>comp.compIndustry</th>\n      <th>comp.compName</th>\n      <th>job.labels</th>\n      <th>job.dq</th>\n      <th>job.campusJobKind</th>\n      <th>job.title</th>\n      <th>job.salary</th>\n    </tr>\n  </thead>\n  <tbody>\n    <tr>\n      <th>21</th>\n      <td>21</td>\n      <td>招聘专家</td>\n      <td>10000人以上</td>\n      <td>其他</td>\n      <td>互联网</td>\n      <td>字节跳动</td>\n      <td>['产品运营']</td>\n      <td>北京-海淀区</td>\n      <td>NaN</td>\n      <td>商业化产品运营-飞书People</td>\n      <td>25-50k·15薪</td>\n    </tr>\n    <tr>\n      <th>28</th>\n      <td>28</td>\n      <td>NaN</td>\n      <td>10000人以上</td>\n      <td>其他</td>\n      <td>互联网</td>\n      <td>字节跳动</td>\n      <td>['数据分析', '产品运营', '用户运营']</td>\n      <td>北京-海淀区</td>\n      <td>NaN</td>\n      <td>产品运营实习生</td>\n      <td>2-4k</td>\n    </tr>\n    <tr>\n      <th>112</th>\n      <td>32</td>\n      <td>招聘专家</td>\n      <td>10000人以上</td>\n      <td>其他</td>\n      <td>互联网</td>\n      <td>字节跳动</td>\n      <td>[]</td>\n      <td>北京-海淀区</td>\n      <td>NaN</td>\n      <td>企业效能顾问（生态伙伴管理方向）-飞书</td>\n      <td>30-60k·15薪</td>\n    </tr>\n    <tr>\n      <th>138</th>\n      <td>18</td>\n      <td>招聘专家</td>\n      <td>10000人以上</td>\n      <td>其他</td>\n      <td>互联网</td>\n      <td>字节跳动</td>\n      <td>[]</td>\n      <td>北京-海淀区</td>\n      <td>NaN</td>\n      <td>飞书企业效能顾问-业务效能方向</td>\n      <td>25-55k·15薪</td>\n    </tr>\n    <tr>\n      <th>166</th>\n      <td>6</td>\n      <td>NaN</td>\n      <td>10000人以上</td>\n      <td>其他</td>\n      <td>互联网</td>\n      <td>字节跳动</td>\n      <td>['快消品类', '美食类', '食品类', '美妆类', '批发/零售']</td>\n      <td>北京-海淀区</td>\n      <td>NaN</td>\n      <td>零售行业解决方案实习生-火山引擎</td>\n      <td>3-4k</td>\n    </tr>\n  </tbody>\n</table>\n</div>"
     },
     "execution_count": 21,
     "metadata": {},
     "output_type": "execute_result"
    }
   ],
   "source": [
    "df[df['comp.compName']=='字节跳动']"
   ],
   "metadata": {
    "collapsed": false
   }
  },
  {
   "cell_type": "code",
   "execution_count": 17,
   "outputs": [
    {
     "name": "stdout",
     "output_type": "stream",
     "text": [
      "   company      column  value origin_column\n",
      "0       腾讯   job.title  数据分析师     Job.title\n",
      "1     阿里巴巴   job.title   产品经理     Job.title\n",
      "2     字节跳动   job.title    工程师     Job.title\n",
      "3       百度   job.title     运营     Job.title\n",
      "4       腾讯   job.title   产品经理     Job.title\n",
      "5     字节跳动   job.title   产品经理     Job.title\n",
      "6       腾讯      salary   5000        Salary\n",
      "7     阿里巴巴      salary   8000        Salary\n",
      "8     字节跳动      salary   9000        Salary\n",
      "9       百度      salary   6000        Salary\n",
      "10      腾讯      salary   7000        Salary\n",
      "11    字节跳动      salary  10000        Salary\n",
      "12      腾讯  department    技术部    Department\n",
      "13    阿里巴巴  department    产品部    Department\n",
      "14    字节跳动  department    技术部    Department\n",
      "15      百度  department    市场部    Department\n",
      "16      腾讯  department    技术部    Department\n",
      "17    字节跳动  department    市场部    Department\n"
     ]
    }
   ],
   "source": [
    "import pandas as pd\n",
    "\n",
    "# 创建一个示例DataFrame\n",
    "data = {\n",
    "    'company': ['腾讯', '阿里巴巴', '字节跳动', '百度', '腾讯', '字节跳动'],\n",
    "    'job.title': ['数据分析师', '产品经理', '工程师', '运营', '产品经理', '产品经理'],\n",
    "    'salary': [5000, 8000, 9000, 6000, 7000, 10000],\n",
    "    'department': ['技术部', '产品部', '技术部', '市场部', '技术部', '市场部']\n",
    "}\n",
    "df = pd.DataFrame(data)\n",
    "\n",
    "# 将多个列转换为单列\n",
    "melted_df = df.melt(id_vars='company', var_name='column', value_name='value')\n",
    "\n",
    "# 添加新列，记录原始列名\n",
    "melted_df['origin_column'] = melted_df['column'].map(str.capitalize)\n",
    "\n",
    "# 输出结果\n",
    "print(melted_df)"
   ],
   "metadata": {
    "collapsed": false
   }
  },
  {
   "cell_type": "code",
   "execution_count": 15,
   "outputs": [
    {
     "data": {
      "text/plain": "        variable       value\n0     Unnamed: 0           0\n1     Unnamed: 0           1\n2     Unnamed: 0           2\n3     Unnamed: 0           3\n4     Unnamed: 0           4\n...          ...         ...\n4395  job.salary  10-18k·16薪\n4396  job.salary  15-20k·16薪\n4397  job.salary  15-20k·16薪\n4398  job.salary  11-20k·16薪\n4399  job.salary       6-11k\n\n[4400 rows x 2 columns]",
      "text/html": "<div>\n<style scoped>\n    .dataframe tbody tr th:only-of-type {\n        vertical-align: middle;\n    }\n\n    .dataframe tbody tr th {\n        vertical-align: top;\n    }\n\n    .dataframe thead th {\n        text-align: right;\n    }\n</style>\n<table border=\"1\" class=\"dataframe\">\n  <thead>\n    <tr style=\"text-align: right;\">\n      <th></th>\n      <th>variable</th>\n      <th>value</th>\n    </tr>\n  </thead>\n  <tbody>\n    <tr>\n      <th>0</th>\n      <td>Unnamed: 0</td>\n      <td>0</td>\n    </tr>\n    <tr>\n      <th>1</th>\n      <td>Unnamed: 0</td>\n      <td>1</td>\n    </tr>\n    <tr>\n      <th>2</th>\n      <td>Unnamed: 0</td>\n      <td>2</td>\n    </tr>\n    <tr>\n      <th>3</th>\n      <td>Unnamed: 0</td>\n      <td>3</td>\n    </tr>\n    <tr>\n      <th>4</th>\n      <td>Unnamed: 0</td>\n      <td>4</td>\n    </tr>\n    <tr>\n      <th>...</th>\n      <td>...</td>\n      <td>...</td>\n    </tr>\n    <tr>\n      <th>4395</th>\n      <td>job.salary</td>\n      <td>10-18k·16薪</td>\n    </tr>\n    <tr>\n      <th>4396</th>\n      <td>job.salary</td>\n      <td>15-20k·16薪</td>\n    </tr>\n    <tr>\n      <th>4397</th>\n      <td>job.salary</td>\n      <td>15-20k·16薪</td>\n    </tr>\n    <tr>\n      <th>4398</th>\n      <td>job.salary</td>\n      <td>11-20k·16薪</td>\n    </tr>\n    <tr>\n      <th>4399</th>\n      <td>job.salary</td>\n      <td>6-11k</td>\n    </tr>\n  </tbody>\n</table>\n<p>4400 rows × 2 columns</p>\n</div>"
     },
     "execution_count": 15,
     "metadata": {},
     "output_type": "execute_result"
    }
   ],
   "source": [
    "import pandas as pd\n",
    "\n",
    "# 创建示例数据\n",
    "\n",
    "# 将数据从宽格式变为长格式\n",
    "melted_df = pd.melt(df)\n",
    "\n",
    "melted_df"
   ],
   "metadata": {
    "collapsed": false
   }
  },
  {
   "cell_type": "code",
   "execution_count": 16,
   "outputs": [
    {
     "ename": "KeyError",
     "evalue": "''",
     "output_type": "error",
     "traceback": [
      "\u001B[1;31m---------------------------------------------------------------------------\u001B[0m",
      "\u001B[1;31mKeyError\u001B[0m                                  Traceback (most recent call last)",
      "Cell \u001B[1;32mIn[16], line 2\u001B[0m\n\u001B[0;32m      1\u001B[0m \u001B[38;5;66;03m# 按col1和col_name进行排序\u001B[39;00m\n\u001B[1;32m----> 2\u001B[0m melted_df \u001B[38;5;241m=\u001B[39m \u001B[43mmelted_df\u001B[49m\u001B[38;5;241;43m.\u001B[39;49m\u001B[43msort_values\u001B[49m\u001B[43m(\u001B[49m\u001B[43m[\u001B[49m\u001B[38;5;124;43m'\u001B[39;49m\u001B[38;5;124;43m'\u001B[39;49m\u001B[43m,\u001B[49m\u001B[43m \u001B[49m\u001B[38;5;124;43m'\u001B[39;49m\u001B[38;5;124;43mcol_name\u001B[39;49m\u001B[38;5;124;43m'\u001B[39;49m\u001B[43m]\u001B[49m\u001B[43m)\u001B[49m\u001B[38;5;241m.\u001B[39mreset_index(drop\u001B[38;5;241m=\u001B[39m\u001B[38;5;28;01mTrue\u001B[39;00m)\n\u001B[0;32m      4\u001B[0m \u001B[38;5;66;03m# 输出结果\u001B[39;00m\n\u001B[0;32m      5\u001B[0m \u001B[38;5;28mprint\u001B[39m(melted_df)\n",
      "File \u001B[1;32m~\\AppData\\Local\\Programs\\Python\\Python39\\lib\\site-packages\\pandas\\util\\_decorators.py:331\u001B[0m, in \u001B[0;36mdeprecate_nonkeyword_arguments.<locals>.decorate.<locals>.wrapper\u001B[1;34m(*args, **kwargs)\u001B[0m\n\u001B[0;32m    325\u001B[0m \u001B[38;5;28;01mif\u001B[39;00m \u001B[38;5;28mlen\u001B[39m(args) \u001B[38;5;241m>\u001B[39m num_allow_args:\n\u001B[0;32m    326\u001B[0m     warnings\u001B[38;5;241m.\u001B[39mwarn(\n\u001B[0;32m    327\u001B[0m         msg\u001B[38;5;241m.\u001B[39mformat(arguments\u001B[38;5;241m=\u001B[39m_format_argument_list(allow_args)),\n\u001B[0;32m    328\u001B[0m         \u001B[38;5;167;01mFutureWarning\u001B[39;00m,\n\u001B[0;32m    329\u001B[0m         stacklevel\u001B[38;5;241m=\u001B[39mfind_stack_level(),\n\u001B[0;32m    330\u001B[0m     )\n\u001B[1;32m--> 331\u001B[0m \u001B[38;5;28;01mreturn\u001B[39;00m func(\u001B[38;5;241m*\u001B[39margs, \u001B[38;5;241m*\u001B[39m\u001B[38;5;241m*\u001B[39mkwargs)\n",
      "File \u001B[1;32m~\\AppData\\Local\\Programs\\Python\\Python39\\lib\\site-packages\\pandas\\core\\frame.py:6894\u001B[0m, in \u001B[0;36mDataFrame.sort_values\u001B[1;34m(self, by, axis, ascending, inplace, kind, na_position, ignore_index, key)\u001B[0m\n\u001B[0;32m   6888\u001B[0m     \u001B[38;5;28;01mraise\u001B[39;00m \u001B[38;5;167;01mValueError\u001B[39;00m(\n\u001B[0;32m   6889\u001B[0m         \u001B[38;5;124mf\u001B[39m\u001B[38;5;124m\"\u001B[39m\u001B[38;5;124mLength of ascending (\u001B[39m\u001B[38;5;132;01m{\u001B[39;00m\u001B[38;5;28mlen\u001B[39m(ascending)\u001B[38;5;132;01m}\u001B[39;00m\u001B[38;5;124m)\u001B[39m\u001B[38;5;124m\"\u001B[39m  \u001B[38;5;66;03m# type: ignore[arg-type]\u001B[39;00m\n\u001B[0;32m   6890\u001B[0m         \u001B[38;5;124mf\u001B[39m\u001B[38;5;124m\"\u001B[39m\u001B[38;5;124m != length of by (\u001B[39m\u001B[38;5;132;01m{\u001B[39;00m\u001B[38;5;28mlen\u001B[39m(by)\u001B[38;5;132;01m}\u001B[39;00m\u001B[38;5;124m)\u001B[39m\u001B[38;5;124m\"\u001B[39m\n\u001B[0;32m   6891\u001B[0m     )\n\u001B[0;32m   6892\u001B[0m \u001B[38;5;28;01mif\u001B[39;00m \u001B[38;5;28mlen\u001B[39m(by) \u001B[38;5;241m>\u001B[39m \u001B[38;5;241m1\u001B[39m:\n\u001B[1;32m-> 6894\u001B[0m     keys \u001B[38;5;241m=\u001B[39m [\u001B[38;5;28mself\u001B[39m\u001B[38;5;241m.\u001B[39m_get_label_or_level_values(x, axis\u001B[38;5;241m=\u001B[39maxis) \u001B[38;5;28;01mfor\u001B[39;00m x \u001B[38;5;129;01min\u001B[39;00m by]\n\u001B[0;32m   6896\u001B[0m     \u001B[38;5;66;03m# need to rewrap columns in Series to apply key function\u001B[39;00m\n\u001B[0;32m   6897\u001B[0m     \u001B[38;5;28;01mif\u001B[39;00m key \u001B[38;5;129;01mis\u001B[39;00m \u001B[38;5;129;01mnot\u001B[39;00m \u001B[38;5;28;01mNone\u001B[39;00m:\n\u001B[0;32m   6898\u001B[0m         \u001B[38;5;66;03m# error: List comprehension has incompatible type List[Series];\u001B[39;00m\n\u001B[0;32m   6899\u001B[0m         \u001B[38;5;66;03m# expected List[ndarray]\u001B[39;00m\n",
      "File \u001B[1;32m~\\AppData\\Local\\Programs\\Python\\Python39\\lib\\site-packages\\pandas\\core\\frame.py:6894\u001B[0m, in \u001B[0;36m<listcomp>\u001B[1;34m(.0)\u001B[0m\n\u001B[0;32m   6888\u001B[0m     \u001B[38;5;28;01mraise\u001B[39;00m \u001B[38;5;167;01mValueError\u001B[39;00m(\n\u001B[0;32m   6889\u001B[0m         \u001B[38;5;124mf\u001B[39m\u001B[38;5;124m\"\u001B[39m\u001B[38;5;124mLength of ascending (\u001B[39m\u001B[38;5;132;01m{\u001B[39;00m\u001B[38;5;28mlen\u001B[39m(ascending)\u001B[38;5;132;01m}\u001B[39;00m\u001B[38;5;124m)\u001B[39m\u001B[38;5;124m\"\u001B[39m  \u001B[38;5;66;03m# type: ignore[arg-type]\u001B[39;00m\n\u001B[0;32m   6890\u001B[0m         \u001B[38;5;124mf\u001B[39m\u001B[38;5;124m\"\u001B[39m\u001B[38;5;124m != length of by (\u001B[39m\u001B[38;5;132;01m{\u001B[39;00m\u001B[38;5;28mlen\u001B[39m(by)\u001B[38;5;132;01m}\u001B[39;00m\u001B[38;5;124m)\u001B[39m\u001B[38;5;124m\"\u001B[39m\n\u001B[0;32m   6891\u001B[0m     )\n\u001B[0;32m   6892\u001B[0m \u001B[38;5;28;01mif\u001B[39;00m \u001B[38;5;28mlen\u001B[39m(by) \u001B[38;5;241m>\u001B[39m \u001B[38;5;241m1\u001B[39m:\n\u001B[1;32m-> 6894\u001B[0m     keys \u001B[38;5;241m=\u001B[39m [\u001B[38;5;28;43mself\u001B[39;49m\u001B[38;5;241;43m.\u001B[39;49m\u001B[43m_get_label_or_level_values\u001B[49m\u001B[43m(\u001B[49m\u001B[43mx\u001B[49m\u001B[43m,\u001B[49m\u001B[43m \u001B[49m\u001B[43maxis\u001B[49m\u001B[38;5;241;43m=\u001B[39;49m\u001B[43maxis\u001B[49m\u001B[43m)\u001B[49m \u001B[38;5;28;01mfor\u001B[39;00m x \u001B[38;5;129;01min\u001B[39;00m by]\n\u001B[0;32m   6896\u001B[0m     \u001B[38;5;66;03m# need to rewrap columns in Series to apply key function\u001B[39;00m\n\u001B[0;32m   6897\u001B[0m     \u001B[38;5;28;01mif\u001B[39;00m key \u001B[38;5;129;01mis\u001B[39;00m \u001B[38;5;129;01mnot\u001B[39;00m \u001B[38;5;28;01mNone\u001B[39;00m:\n\u001B[0;32m   6898\u001B[0m         \u001B[38;5;66;03m# error: List comprehension has incompatible type List[Series];\u001B[39;00m\n\u001B[0;32m   6899\u001B[0m         \u001B[38;5;66;03m# expected List[ndarray]\u001B[39;00m\n",
      "File \u001B[1;32m~\\AppData\\Local\\Programs\\Python\\Python39\\lib\\site-packages\\pandas\\core\\generic.py:1850\u001B[0m, in \u001B[0;36mNDFrame._get_label_or_level_values\u001B[1;34m(self, key, axis)\u001B[0m\n\u001B[0;32m   1844\u001B[0m     values \u001B[38;5;241m=\u001B[39m (\n\u001B[0;32m   1845\u001B[0m         \u001B[38;5;28mself\u001B[39m\u001B[38;5;241m.\u001B[39maxes[axis]\n\u001B[0;32m   1846\u001B[0m         \u001B[38;5;241m.\u001B[39mget_level_values(key)  \u001B[38;5;66;03m# type: ignore[assignment]\u001B[39;00m\n\u001B[0;32m   1847\u001B[0m         \u001B[38;5;241m.\u001B[39m_values\n\u001B[0;32m   1848\u001B[0m     )\n\u001B[0;32m   1849\u001B[0m \u001B[38;5;28;01melse\u001B[39;00m:\n\u001B[1;32m-> 1850\u001B[0m     \u001B[38;5;28;01mraise\u001B[39;00m \u001B[38;5;167;01mKeyError\u001B[39;00m(key)\n\u001B[0;32m   1852\u001B[0m \u001B[38;5;66;03m# Check for duplicates\u001B[39;00m\n\u001B[0;32m   1853\u001B[0m \u001B[38;5;28;01mif\u001B[39;00m values\u001B[38;5;241m.\u001B[39mndim \u001B[38;5;241m>\u001B[39m \u001B[38;5;241m1\u001B[39m:\n",
      "\u001B[1;31mKeyError\u001B[0m: ''"
     ]
    }
   ],
   "source": [
    "# 按col1和col_name进行排序\n",
    "melted_df = melted_df.sort_values(['', 'col_name']).reset_index(drop=True)\n",
    "\n",
    "# 输出结果\n",
    "print(melted_df)"
   ],
   "metadata": {
    "collapsed": false
   }
  },
  {
   "cell_type": "code",
   "execution_count": 19,
   "outputs": [
    {
     "name": "stdout",
     "output_type": "stream",
     "text": [
      "  company job.title  salary department\n",
      "0      腾讯     数据分析师    5000        技术部\n",
      "1    字节跳动       工程师    9000        技术部\n",
      "2      腾讯      产品经理    7000        技术部\n",
      "3    字节跳动      产品经理   10000        市场部\n"
     ]
    }
   ],
   "source": [
    "import pandas as pd\n",
    "\n",
    "# 创建一个示例DataFrame\n",
    "data = {\n",
    "    'company': ['腾讯', '阿里巴巴', '字节跳动', '百度', '腾讯', '字节跳动'],\n",
    "    'job.title': ['数据分析师', '产品经理', '工程师', '运营', '产品经理', '产品经理'],\n",
    "    'salary': [5000, 8000, 9000, 6000, 7000, 10000],\n",
    "    'department': ['技术部', '产品部', '技术部', '市场部', '技术部', '市场部']\n",
    "}\n",
    "df = pd.DataFrame(data)\n",
    "\n",
    "# 使用groupby方法进行层级筛选，并选择多个具有相同值的行\n",
    "grouped_df = df.groupby('company').filter(lambda x: len(x) > 1).reset_index(drop=True)\n",
    "\n",
    "# 输出结果\n",
    "print(grouped_df)"
   ],
   "metadata": {
    "collapsed": false
   }
  },
  {
   "cell_type": "code",
   "execution_count": 12,
   "outputs": [
    {
     "ename": "ValueError",
     "evalue": "could not convert string to float: '人力'",
     "output_type": "error",
     "traceback": [
      "\u001B[1;31m---------------------------------------------------------------------------\u001B[0m",
      "\u001B[1;31mValueError\u001B[0m                                Traceback (most recent call last)",
      "Cell \u001B[1;32mIn[12], line 11\u001B[0m\n\u001B[0;32m      8\u001B[0m clf \u001B[38;5;241m=\u001B[39m tree\u001B[38;5;241m.\u001B[39mDecisionTreeClassifier()\n\u001B[0;32m     10\u001B[0m \u001B[38;5;66;03m# 训练模型\u001B[39;00m\n\u001B[1;32m---> 11\u001B[0m clf \u001B[38;5;241m=\u001B[39m \u001B[43mclf\u001B[49m\u001B[38;5;241;43m.\u001B[39;49m\u001B[43mfit\u001B[49m\u001B[43m(\u001B[49m\u001B[43mX\u001B[49m\u001B[43m,\u001B[49m\u001B[43m \u001B[49m\u001B[43my\u001B[49m\u001B[43m)\u001B[49m\n\u001B[0;32m     13\u001B[0m \u001B[38;5;66;03m# 绘制决策树\u001B[39;00m\n\u001B[0;32m     14\u001B[0m tree\u001B[38;5;241m.\u001B[39mplot_tree(clf)\n",
      "File \u001B[1;32m~\\AppData\\Local\\Programs\\Python\\Python39\\lib\\site-packages\\sklearn\\base.py:1152\u001B[0m, in \u001B[0;36m_fit_context.<locals>.decorator.<locals>.wrapper\u001B[1;34m(estimator, *args, **kwargs)\u001B[0m\n\u001B[0;32m   1145\u001B[0m     estimator\u001B[38;5;241m.\u001B[39m_validate_params()\n\u001B[0;32m   1147\u001B[0m \u001B[38;5;28;01mwith\u001B[39;00m config_context(\n\u001B[0;32m   1148\u001B[0m     skip_parameter_validation\u001B[38;5;241m=\u001B[39m(\n\u001B[0;32m   1149\u001B[0m         prefer_skip_nested_validation \u001B[38;5;129;01mor\u001B[39;00m global_skip_validation\n\u001B[0;32m   1150\u001B[0m     )\n\u001B[0;32m   1151\u001B[0m ):\n\u001B[1;32m-> 1152\u001B[0m     \u001B[38;5;28;01mreturn\u001B[39;00m fit_method(estimator, \u001B[38;5;241m*\u001B[39margs, \u001B[38;5;241m*\u001B[39m\u001B[38;5;241m*\u001B[39mkwargs)\n",
      "File \u001B[1;32m~\\AppData\\Local\\Programs\\Python\\Python39\\lib\\site-packages\\sklearn\\tree\\_classes.py:959\u001B[0m, in \u001B[0;36mDecisionTreeClassifier.fit\u001B[1;34m(self, X, y, sample_weight, check_input)\u001B[0m\n\u001B[0;32m    928\u001B[0m \u001B[38;5;129m@_fit_context\u001B[39m(prefer_skip_nested_validation\u001B[38;5;241m=\u001B[39m\u001B[38;5;28;01mTrue\u001B[39;00m)\n\u001B[0;32m    929\u001B[0m \u001B[38;5;28;01mdef\u001B[39;00m \u001B[38;5;21mfit\u001B[39m(\u001B[38;5;28mself\u001B[39m, X, y, sample_weight\u001B[38;5;241m=\u001B[39m\u001B[38;5;28;01mNone\u001B[39;00m, check_input\u001B[38;5;241m=\u001B[39m\u001B[38;5;28;01mTrue\u001B[39;00m):\n\u001B[0;32m    930\u001B[0m \u001B[38;5;250m    \u001B[39m\u001B[38;5;124;03m\"\"\"Build a decision tree classifier from the training set (X, y).\u001B[39;00m\n\u001B[0;32m    931\u001B[0m \n\u001B[0;32m    932\u001B[0m \u001B[38;5;124;03m    Parameters\u001B[39;00m\n\u001B[1;32m   (...)\u001B[0m\n\u001B[0;32m    956\u001B[0m \u001B[38;5;124;03m        Fitted estimator.\u001B[39;00m\n\u001B[0;32m    957\u001B[0m \u001B[38;5;124;03m    \"\"\"\u001B[39;00m\n\u001B[1;32m--> 959\u001B[0m     \u001B[38;5;28;43msuper\u001B[39;49m\u001B[43m(\u001B[49m\u001B[43m)\u001B[49m\u001B[38;5;241;43m.\u001B[39;49m\u001B[43m_fit\u001B[49m\u001B[43m(\u001B[49m\n\u001B[0;32m    960\u001B[0m \u001B[43m        \u001B[49m\u001B[43mX\u001B[49m\u001B[43m,\u001B[49m\n\u001B[0;32m    961\u001B[0m \u001B[43m        \u001B[49m\u001B[43my\u001B[49m\u001B[43m,\u001B[49m\n\u001B[0;32m    962\u001B[0m \u001B[43m        \u001B[49m\u001B[43msample_weight\u001B[49m\u001B[38;5;241;43m=\u001B[39;49m\u001B[43msample_weight\u001B[49m\u001B[43m,\u001B[49m\n\u001B[0;32m    963\u001B[0m \u001B[43m        \u001B[49m\u001B[43mcheck_input\u001B[49m\u001B[38;5;241;43m=\u001B[39;49m\u001B[43mcheck_input\u001B[49m\u001B[43m,\u001B[49m\n\u001B[0;32m    964\u001B[0m \u001B[43m    \u001B[49m\u001B[43m)\u001B[49m\n\u001B[0;32m    965\u001B[0m     \u001B[38;5;28;01mreturn\u001B[39;00m \u001B[38;5;28mself\u001B[39m\n",
      "File \u001B[1;32m~\\AppData\\Local\\Programs\\Python\\Python39\\lib\\site-packages\\sklearn\\tree\\_classes.py:242\u001B[0m, in \u001B[0;36mBaseDecisionTree._fit\u001B[1;34m(self, X, y, sample_weight, check_input, missing_values_in_feature_mask)\u001B[0m\n\u001B[0;32m    238\u001B[0m check_X_params \u001B[38;5;241m=\u001B[39m \u001B[38;5;28mdict\u001B[39m(\n\u001B[0;32m    239\u001B[0m     dtype\u001B[38;5;241m=\u001B[39mDTYPE, accept_sparse\u001B[38;5;241m=\u001B[39m\u001B[38;5;124m\"\u001B[39m\u001B[38;5;124mcsc\u001B[39m\u001B[38;5;124m\"\u001B[39m, force_all_finite\u001B[38;5;241m=\u001B[39m\u001B[38;5;28;01mFalse\u001B[39;00m\n\u001B[0;32m    240\u001B[0m )\n\u001B[0;32m    241\u001B[0m check_y_params \u001B[38;5;241m=\u001B[39m \u001B[38;5;28mdict\u001B[39m(ensure_2d\u001B[38;5;241m=\u001B[39m\u001B[38;5;28;01mFalse\u001B[39;00m, dtype\u001B[38;5;241m=\u001B[39m\u001B[38;5;28;01mNone\u001B[39;00m)\n\u001B[1;32m--> 242\u001B[0m X, y \u001B[38;5;241m=\u001B[39m \u001B[38;5;28;43mself\u001B[39;49m\u001B[38;5;241;43m.\u001B[39;49m\u001B[43m_validate_data\u001B[49m\u001B[43m(\u001B[49m\n\u001B[0;32m    243\u001B[0m \u001B[43m    \u001B[49m\u001B[43mX\u001B[49m\u001B[43m,\u001B[49m\u001B[43m \u001B[49m\u001B[43my\u001B[49m\u001B[43m,\u001B[49m\u001B[43m \u001B[49m\u001B[43mvalidate_separately\u001B[49m\u001B[38;5;241;43m=\u001B[39;49m\u001B[43m(\u001B[49m\u001B[43mcheck_X_params\u001B[49m\u001B[43m,\u001B[49m\u001B[43m \u001B[49m\u001B[43mcheck_y_params\u001B[49m\u001B[43m)\u001B[49m\n\u001B[0;32m    244\u001B[0m \u001B[43m\u001B[49m\u001B[43m)\u001B[49m\n\u001B[0;32m    246\u001B[0m missing_values_in_feature_mask \u001B[38;5;241m=\u001B[39m (\n\u001B[0;32m    247\u001B[0m     \u001B[38;5;28mself\u001B[39m\u001B[38;5;241m.\u001B[39m_compute_missing_values_in_feature_mask(X)\n\u001B[0;32m    248\u001B[0m )\n\u001B[0;32m    249\u001B[0m \u001B[38;5;28;01mif\u001B[39;00m issparse(X):\n",
      "File \u001B[1;32m~\\AppData\\Local\\Programs\\Python\\Python39\\lib\\site-packages\\sklearn\\base.py:617\u001B[0m, in \u001B[0;36mBaseEstimator._validate_data\u001B[1;34m(self, X, y, reset, validate_separately, cast_to_ndarray, **check_params)\u001B[0m\n\u001B[0;32m    615\u001B[0m \u001B[38;5;28;01mif\u001B[39;00m \u001B[38;5;124m\"\u001B[39m\u001B[38;5;124mestimator\u001B[39m\u001B[38;5;124m\"\u001B[39m \u001B[38;5;129;01mnot\u001B[39;00m \u001B[38;5;129;01min\u001B[39;00m check_X_params:\n\u001B[0;32m    616\u001B[0m     check_X_params \u001B[38;5;241m=\u001B[39m {\u001B[38;5;241m*\u001B[39m\u001B[38;5;241m*\u001B[39mdefault_check_params, \u001B[38;5;241m*\u001B[39m\u001B[38;5;241m*\u001B[39mcheck_X_params}\n\u001B[1;32m--> 617\u001B[0m X \u001B[38;5;241m=\u001B[39m check_array(X, input_name\u001B[38;5;241m=\u001B[39m\u001B[38;5;124m\"\u001B[39m\u001B[38;5;124mX\u001B[39m\u001B[38;5;124m\"\u001B[39m, \u001B[38;5;241m*\u001B[39m\u001B[38;5;241m*\u001B[39mcheck_X_params)\n\u001B[0;32m    618\u001B[0m \u001B[38;5;28;01mif\u001B[39;00m \u001B[38;5;124m\"\u001B[39m\u001B[38;5;124mestimator\u001B[39m\u001B[38;5;124m\"\u001B[39m \u001B[38;5;129;01mnot\u001B[39;00m \u001B[38;5;129;01min\u001B[39;00m check_y_params:\n\u001B[0;32m    619\u001B[0m     check_y_params \u001B[38;5;241m=\u001B[39m {\u001B[38;5;241m*\u001B[39m\u001B[38;5;241m*\u001B[39mdefault_check_params, \u001B[38;5;241m*\u001B[39m\u001B[38;5;241m*\u001B[39mcheck_y_params}\n",
      "File \u001B[1;32m~\\AppData\\Local\\Programs\\Python\\Python39\\lib\\site-packages\\sklearn\\utils\\validation.py:915\u001B[0m, in \u001B[0;36mcheck_array\u001B[1;34m(array, accept_sparse, accept_large_sparse, dtype, order, copy, force_all_finite, ensure_2d, allow_nd, ensure_min_samples, ensure_min_features, estimator, input_name)\u001B[0m\n\u001B[0;32m    913\u001B[0m         array \u001B[38;5;241m=\u001B[39m xp\u001B[38;5;241m.\u001B[39mastype(array, dtype, copy\u001B[38;5;241m=\u001B[39m\u001B[38;5;28;01mFalse\u001B[39;00m)\n\u001B[0;32m    914\u001B[0m     \u001B[38;5;28;01melse\u001B[39;00m:\n\u001B[1;32m--> 915\u001B[0m         array \u001B[38;5;241m=\u001B[39m \u001B[43m_asarray_with_order\u001B[49m\u001B[43m(\u001B[49m\u001B[43marray\u001B[49m\u001B[43m,\u001B[49m\u001B[43m \u001B[49m\u001B[43morder\u001B[49m\u001B[38;5;241;43m=\u001B[39;49m\u001B[43morder\u001B[49m\u001B[43m,\u001B[49m\u001B[43m \u001B[49m\u001B[43mdtype\u001B[49m\u001B[38;5;241;43m=\u001B[39;49m\u001B[43mdtype\u001B[49m\u001B[43m,\u001B[49m\u001B[43m \u001B[49m\u001B[43mxp\u001B[49m\u001B[38;5;241;43m=\u001B[39;49m\u001B[43mxp\u001B[49m\u001B[43m)\u001B[49m\n\u001B[0;32m    916\u001B[0m \u001B[38;5;28;01mexcept\u001B[39;00m ComplexWarning \u001B[38;5;28;01mas\u001B[39;00m complex_warning:\n\u001B[0;32m    917\u001B[0m     \u001B[38;5;28;01mraise\u001B[39;00m \u001B[38;5;167;01mValueError\u001B[39;00m(\n\u001B[0;32m    918\u001B[0m         \u001B[38;5;124m\"\u001B[39m\u001B[38;5;124mComplex data not supported\u001B[39m\u001B[38;5;130;01m\\n\u001B[39;00m\u001B[38;5;132;01m{}\u001B[39;00m\u001B[38;5;130;01m\\n\u001B[39;00m\u001B[38;5;124m\"\u001B[39m\u001B[38;5;241m.\u001B[39mformat(array)\n\u001B[0;32m    919\u001B[0m     ) \u001B[38;5;28;01mfrom\u001B[39;00m \u001B[38;5;21;01mcomplex_warning\u001B[39;00m\n",
      "File \u001B[1;32m~\\AppData\\Local\\Programs\\Python\\Python39\\lib\\site-packages\\sklearn\\utils\\_array_api.py:380\u001B[0m, in \u001B[0;36m_asarray_with_order\u001B[1;34m(array, dtype, order, copy, xp)\u001B[0m\n\u001B[0;32m    378\u001B[0m     array \u001B[38;5;241m=\u001B[39m numpy\u001B[38;5;241m.\u001B[39marray(array, order\u001B[38;5;241m=\u001B[39morder, dtype\u001B[38;5;241m=\u001B[39mdtype)\n\u001B[0;32m    379\u001B[0m \u001B[38;5;28;01melse\u001B[39;00m:\n\u001B[1;32m--> 380\u001B[0m     array \u001B[38;5;241m=\u001B[39m \u001B[43mnumpy\u001B[49m\u001B[38;5;241;43m.\u001B[39;49m\u001B[43masarray\u001B[49m\u001B[43m(\u001B[49m\u001B[43marray\u001B[49m\u001B[43m,\u001B[49m\u001B[43m \u001B[49m\u001B[43morder\u001B[49m\u001B[38;5;241;43m=\u001B[39;49m\u001B[43morder\u001B[49m\u001B[43m,\u001B[49m\u001B[43m \u001B[49m\u001B[43mdtype\u001B[49m\u001B[38;5;241;43m=\u001B[39;49m\u001B[43mdtype\u001B[49m\u001B[43m)\u001B[49m\n\u001B[0;32m    382\u001B[0m \u001B[38;5;66;03m# At this point array is a NumPy ndarray. We convert it to an array\u001B[39;00m\n\u001B[0;32m    383\u001B[0m \u001B[38;5;66;03m# container that is consistent with the input's namespace.\u001B[39;00m\n\u001B[0;32m    384\u001B[0m \u001B[38;5;28;01mreturn\u001B[39;00m xp\u001B[38;5;241m.\u001B[39masarray(array)\n",
      "File \u001B[1;32m~\\AppData\\Local\\Programs\\Python\\Python39\\lib\\site-packages\\pandas\\core\\generic.py:2070\u001B[0m, in \u001B[0;36mNDFrame.__array__\u001B[1;34m(self, dtype)\u001B[0m\n\u001B[0;32m   2069\u001B[0m \u001B[38;5;28;01mdef\u001B[39;00m \u001B[38;5;21m__array__\u001B[39m(\u001B[38;5;28mself\u001B[39m, dtype: npt\u001B[38;5;241m.\u001B[39mDTypeLike \u001B[38;5;241m|\u001B[39m \u001B[38;5;28;01mNone\u001B[39;00m \u001B[38;5;241m=\u001B[39m \u001B[38;5;28;01mNone\u001B[39;00m) \u001B[38;5;241m-\u001B[39m\u001B[38;5;241m>\u001B[39m np\u001B[38;5;241m.\u001B[39mndarray:\n\u001B[1;32m-> 2070\u001B[0m     \u001B[38;5;28;01mreturn\u001B[39;00m \u001B[43mnp\u001B[49m\u001B[38;5;241;43m.\u001B[39;49m\u001B[43masarray\u001B[49m\u001B[43m(\u001B[49m\u001B[38;5;28;43mself\u001B[39;49m\u001B[38;5;241;43m.\u001B[39;49m\u001B[43m_values\u001B[49m\u001B[43m,\u001B[49m\u001B[43m \u001B[49m\u001B[43mdtype\u001B[49m\u001B[38;5;241;43m=\u001B[39;49m\u001B[43mdtype\u001B[49m\u001B[43m)\u001B[49m\n",
      "\u001B[1;31mValueError\u001B[0m: could not convert string to float: '人力'"
     ]
    }
   ],
   "source": [
    "# from sklearn import tree\n",
    "#\n",
    "# # 假设你的数据在df DataFrame中，且目标变量列名为'target'\n",
    "# X = df.drop('comp.compName', axis=1)\n",
    "# y = df['comp.compName']\n",
    "#\n",
    "# # 创建决策树模型\n",
    "# clf = tree.DecisionTreeClassifier()\n",
    "#\n",
    "# # 训练模型\n",
    "# clf = clf.fit(X, y)\n",
    "#\n",
    "# # 绘制决策树\n",
    "# tree.plot_tree(clf)"
   ],
   "metadata": {
    "collapsed": false
   }
  },
  {
   "cell_type": "code",
   "execution_count": 13,
   "outputs": [
    {
     "ename": "ValueError",
     "evalue": "tree is not a valid plot kind",
     "output_type": "error",
     "traceback": [
      "\u001B[1;31m---------------------------------------------------------------------------\u001B[0m",
      "\u001B[1;31mValueError\u001B[0m                                Traceback (most recent call last)",
      "Cell \u001B[1;32mIn[13], line 1\u001B[0m\n\u001B[1;32m----> 1\u001B[0m \u001B[43mdf\u001B[49m\u001B[38;5;241;43m.\u001B[39;49m\u001B[43mplot\u001B[49m\u001B[43m(\u001B[49m\u001B[43mkind\u001B[49m\u001B[38;5;241;43m=\u001B[39;49m\u001B[38;5;124;43m'\u001B[39;49m\u001B[38;5;124;43mtree\u001B[39;49m\u001B[38;5;124;43m'\u001B[39;49m\u001B[43m)\u001B[49m\n",
      "File \u001B[1;32m~\\AppData\\Local\\Programs\\Python\\Python39\\lib\\site-packages\\pandas\\plotting\\_core.py:933\u001B[0m, in \u001B[0;36mPlotAccessor.__call__\u001B[1;34m(self, *args, **kwargs)\u001B[0m\n\u001B[0;32m    930\u001B[0m     \u001B[38;5;28;01mreturn\u001B[39;00m plot_backend\u001B[38;5;241m.\u001B[39mplot(\u001B[38;5;28mself\u001B[39m\u001B[38;5;241m.\u001B[39m_parent, x\u001B[38;5;241m=\u001B[39mx, y\u001B[38;5;241m=\u001B[39my, kind\u001B[38;5;241m=\u001B[39mkind, \u001B[38;5;241m*\u001B[39m\u001B[38;5;241m*\u001B[39mkwargs)\n\u001B[0;32m    932\u001B[0m \u001B[38;5;28;01mif\u001B[39;00m kind \u001B[38;5;129;01mnot\u001B[39;00m \u001B[38;5;129;01min\u001B[39;00m \u001B[38;5;28mself\u001B[39m\u001B[38;5;241m.\u001B[39m_all_kinds:\n\u001B[1;32m--> 933\u001B[0m     \u001B[38;5;28;01mraise\u001B[39;00m \u001B[38;5;167;01mValueError\u001B[39;00m(\u001B[38;5;124mf\u001B[39m\u001B[38;5;124m\"\u001B[39m\u001B[38;5;132;01m{\u001B[39;00mkind\u001B[38;5;132;01m}\u001B[39;00m\u001B[38;5;124m is not a valid plot kind\u001B[39m\u001B[38;5;124m\"\u001B[39m)\n\u001B[0;32m    935\u001B[0m \u001B[38;5;66;03m# The original data structured can be transformed before passed to the\u001B[39;00m\n\u001B[0;32m    936\u001B[0m \u001B[38;5;66;03m# backend. For example, for DataFrame is common to set the index as the\u001B[39;00m\n\u001B[0;32m    937\u001B[0m \u001B[38;5;66;03m# `x` parameter, and return a Series with the parameter `y` as values.\u001B[39;00m\n\u001B[0;32m    938\u001B[0m data \u001B[38;5;241m=\u001B[39m \u001B[38;5;28mself\u001B[39m\u001B[38;5;241m.\u001B[39m_parent\u001B[38;5;241m.\u001B[39mcopy()\n",
      "\u001B[1;31mValueError\u001B[0m: tree is not a valid plot kind"
     ]
    }
   ],
   "source": [
    "# df.plot(kind='tree')"
   ],
   "metadata": {
    "collapsed": false
   }
  },
  {
   "cell_type": "code",
   "execution_count": 3,
   "outputs": [
    {
     "data": {
      "text/plain": "{'1-49人',\n '100-499人',\n '1000-2000人',\n '10000人以上',\n '2000-5000人',\n '50-99人',\n '500-999人',\n '5000-10000人',\n nan}"
     },
     "execution_count": 3,
     "metadata": {},
     "output_type": "execute_result"
    }
   ],
   "source": [
    "set(df['comp.compScale'])"
   ],
   "metadata": {
    "collapsed": false
   }
  },
  {
   "cell_type": "code",
   "execution_count": 4,
   "outputs": [
    {
     "data": {
      "text/plain": "{'北京',\n '北京-东城区',\n '北京-丰台区',\n '北京-大兴区',\n '北京-平谷区',\n '北京-延庆区',\n '北京-怀柔区',\n '北京-房山区',\n '北京-昌平区',\n '北京-朝阳区',\n '北京-海淀区',\n '北京-石景山区',\n '北京-西城区',\n '北京-通州区',\n '北京-门头沟区',\n '北京-顺义区'}"
     },
     "execution_count": 4,
     "metadata": {},
     "output_type": "execute_result"
    }
   ],
   "source": [
    "set(df['job.dq'])"
   ],
   "metadata": {
    "collapsed": false
   }
  },
  {
   "cell_type": "markdown",
   "metadata": {},
   "source": [
    "# 1.  comp.compIndustry 行业分析(Demo:单一分类数据词频分析)"
   ]
  },
  {
   "cell_type": "code",
   "execution_count": 5,
   "metadata": {},
   "outputs": [
    {
     "data": {
      "text/plain": "0            中关村标准化协会\n1            中关村标准化协会\n2         北京中航智科技有限公司\n3               Baidu\n4      北京智慧星光信息技术有限公司\n            ...      \n395             好大夫在线\n396             好大夫在线\n397             好大夫在线\n398             好大夫在线\n399    北京医来伸手健康管理有限公司\nName: comp.compName, Length: 400, dtype: object"
     },
     "execution_count": 5,
     "metadata": {},
     "output_type": "execute_result"
    }
   ],
   "source": [
    "df['comp.compName']"
   ]
  },
  {
   "cell_type": "code",
   "execution_count": 6,
   "metadata": {},
   "outputs": [
    {
     "data": {
      "text/plain": "北京厚朴优学教育科技有限公司    28\n光谷动力科技            14\nBaidu              8\n京东                 7\n字节跳动               5\n                  ..\n深圳乐巢时代科技有限公司       1\n北京链鲸科技有限公司         1\n新氧科技               1\n北京乐城堡科技有限公司        1\n北京医来伸手健康管理有限公司     1\nName: comp.compName, Length: 296, dtype: int64"
     },
     "execution_count": 6,
     "metadata": {},
     "output_type": "execute_result"
    }
   ],
   "source": [
    "df['comp.compName'].value_counts()"
   ]
  },
  {
   "cell_type": "code",
   "execution_count": 7,
   "metadata": {},
   "outputs": [
    {
     "data": {
      "text/plain": "[('北京厚朴优学教育科技有限公司', 28),\n ('光谷动力科技', 14),\n ('Baidu', 8),\n ('京东', 7),\n ('字节跳动', 5),\n ('好大夫在线', 4),\n ('京东商城', 4),\n ('北京和平阳光国际健身俱乐部有限公司', 4),\n ('北京世纪好未来教育科技有限公司', 3),\n ('北京抖音信息服务有限公司', 3),\n ('美团网', 3),\n ('百度(中国)有限公司', 3),\n ('曼迪匹艾(北京)科技服务有限公司', 3),\n ('北京智慧星光信息技术有限公司', 3),\n ('北京中航智科技有限公司', 2),\n ('用友网络科技股份有限公司', 2),\n ('华为', 2),\n ('北京宏昆酒店集团', 2),\n ('酷渲(北京)科技有限公司', 2),\n ('北京金巴顺漾科技有限公司', 2),\n ('北京网安通达科技有限公司', 2),\n ('北京胜尊信息技术有限公司', 2),\n ('北京同仁堂健康', 2),\n ('一寸光年', 2),\n ('中关村标准化协会', 2),\n ('烟台莹佳食品有限公司', 2),\n ('北京崇珍科贸有限公司', 2),\n ('软通动力', 2),\n ('泰康健投', 2),\n ('联东集团', 2),\n ('百度网讯', 2),\n ('北京炎龙时空通信科技有限责任公司', 2),\n ('戍源优品科技发展(北京)有限公司', 2),\n ('颐康润养(北京)科技发展有限公司', 2),\n ('北京华清易点科技有限公司', 2),\n ('北京嘀果技术服务有限公司', 2),\n ('沃丰科技', 2),\n ('北京国质联合检测技术研究院', 2),\n ('链家地产', 2),\n ('北京格瑞广告传媒有限公司', 2),\n ('恒昌', 1),\n ('惠买在线', 1),\n ('北京质云数据科技有限公司', 1),\n ('须眉智能科技(江苏)有限公司', 1),\n ('北京世纪高教图书有限公司', 1),\n ('北京医来伸手健康管理有限公司同世堂中医诊所', 1),\n ('北京小牛邦信息技术有限公司', 1),\n ('北京鹰瞳科技发展股份有限公司', 1),\n ('顺丰速运', 1),\n ('北京宠医点评科技有限公司', 1),\n ('北京华创盈讯科技有限公司', 1),\n ('北京京邦达贸易有限公司', 1),\n ('永福盛(北京)食品有限公司', 1),\n ('北京天一沃德商务服务有限公司', 1),\n ('日推石化(北京)有限公司', 1),\n ('北京东方明悦体育发展有限公司', 1),\n ('北京宏途创联科技有限公司', 1),\n ('北京聚英星辉科技有限公司', 1),\n ('北京微联至元商贸有限公司', 1),\n ('北京航天创智科技有限公司', 1),\n ('北京顺昌盛世医疗大数据科技有限公司同世堂第零零零中医诊所', 1),\n ('启鸣梧桐(北京)科技有限公司', 1),\n ('北京网讯达科技有限公司', 1),\n ('北京众心天诚科技发展有限公司', 1),\n ('北京积木控文化有限公司', 1),\n ('呷哺呷哺', 1),\n ('北京润泽慧教育科技有限公司', 1),\n ('百度时代网络', 1),\n ('北京紫光数智科技股份有限公司', 1),\n ('中信科智联科技有限公司', 1),\n ('东风汽车金融有限公司', 1),\n ('美世留学', 1),\n ('北京易点淘网络技术有限公司', 1),\n ('北京书香文雅图书文化有限公司', 1),\n ('上海睿沃信息科技有限公司', 1),\n ('云南白药集团股份有限公司', 1),\n ('中国电信安全公司', 1),\n ('HORWATH酒店管理顾问(北京)有限公司', 1),\n ('华为云计算技术有限公司', 1),\n ('北京信联数安科技有限公司', 1),\n ('修正药业集团股份有限公司', 1),\n ('北京京西重工有限公司', 1),\n ('欣可丽美学(上海)医疗科技有限公司', 1),\n ('骏安供应链科技有限公司', 1),\n ('英雄互娱科技股份有限公司', 1),\n ('宝马(中国)汽车贸易有限公司', 1),\n ('北京清能互联科技有限公司', 1),\n ('北京云动九天科技有限公司', 1),\n ('三节课', 1),\n ('中信期货', 1),\n ('数坤科技', 1),\n ('小川科技', 1),\n ('蒙羊康盛(北京)食品有限公司', 1),\n ('北京瑞通领航科技有限公司', 1),\n ('北京爱车团网络科技有限公司', 1),\n ('Yogo Robot', 1),\n ('宜佰壹(北京)餐饮管理有限公司', 1),\n ('北京开金睿远管理咨询有限公司', 1),\n ('北京伴刻翼科技有限公司', 1),\n ('高途', 1),\n ('航天开元', 1),\n ('咏怀钟鼎', 1),\n ('德科信息', 1),\n ('泰康在线财产保险股份有限公司', 1),\n ('北京钓台傲骄食品科技有限公司', 1),\n ('中国信息通信研究院', 1),\n ('百融云创', 1),\n ('清源泰硕', 1),\n ('北京企悦惠科技发展有限公司', 1),\n ('山东九鑫生物工程有限公司', 1),\n ('长信恒业家族办公室', 1),\n ('安徽省永幕教育咨询有限公司', 1),\n ('北京草莓时代文化传媒有限责任公司', 1),\n ('北京朗迪锋科技有限公司', 1),\n ('去哪儿', 1),\n ('利玛软件', 1),\n ('都美(北京)品牌管理有限公司', 1),\n ('北京一景园林有限公司', 1),\n ('北京祉君商贸有限公司', 1),\n ('北京锐服信科技有限公司', 1),\n ('上海尝享网络科技有限公司', 1),\n ('镭神智能', 1),\n ('北京双子博鑫文化传播有限公司', 1),\n ('北京中润广益科技发展有限公司', 1),\n ('北京博思汇文数字科技有限公司', 1),\n ('北京德达互动咨询有限公司', 1),\n ('北京一来电子商务有限公司', 1),\n ('北京红豆树网络科技有限公司', 1),\n ('北京学力星球科技有限责任公司', 1),\n ('北京睿美傲世文化传播有限公司', 1),\n ('北京简舍装饰设计有限公司', 1),\n ('北京泽元堂', 1),\n ('方正中期期货', 1),\n ('北京法利莱移动板房有限公司', 1),\n ('云南澜博科技有限公司', 1),\n ('北京万相归春网络科技有限公司', 1),\n ('睿艺视通信息技术(北京)有限公司', 1),\n ('金桐网', 1),\n ('汇才远达(北京)科技有限公司', 1),\n ('云豆传媒(北京)有限公司', 1),\n ('北京飞步凌云科技有限公司', 1),\n ('北京知牧科技有限责任公司', 1),\n ('北京创金启富', 1),\n ('北京中科九章软件有限公司', 1),\n ('平安健康保险股份有限公司北京分公司', 1),\n ('小米', 1),\n ('中讯邮电咨询设计院有限公司', 1),\n ('朗姿股份有限公司', 1),\n ('是通科技(北京)有限公司', 1),\n ('Transfer easy', 1),\n ('金诚信', 1),\n ('中国电信股份有限公司', 1),\n ('上海南燕信息技术有限公司', 1),\n ('远海国际旅游集团', 1),\n ('北京新锐伟业网络技术有限公司', 1),\n ('爱康网', 1),\n ('北京玮航科技有限公司', 1),\n ('泰康健康管理(北京)有限公司', 1),\n ('思梵私募基金管理(杭州)有限公司', 1),\n ('视源股份', 1),\n ('北京人人平安科技有限公司', 1),\n ('北京骏嘉财通科技有限公司', 1),\n ('北京龙宏兴塑日用品有限公司', 1),\n ('京东集团', 1),\n ('中国青年出版总社有限公司', 1),\n ('抖音视界有限公司', 1),\n ('集易行', 1),\n ('北京科学技术出版社', 1),\n ('北京牛客科技有限公司', 1),\n ('北京金风科创风电设备有限公司', 1),\n ('佛山市南海区中城数字城市促进中心', 1),\n ('完美世界', 1),\n ('海南鹭鹰私募基金管理合伙企业(有限合伙)', 1),\n ('苏州聊医聊信息科技有限公司', 1),\n ('北京蓝海在线科技有限公司', 1),\n ('京华观致(北京)国际信息咨询有限公司', 1),\n ('华农财产保险', 1),\n ('愿景和家', 1),\n ('北京千里马网信科技有限公司', 1),\n ('微博', 1),\n ('北京百灵威科技有限公司', 1),\n ('北京汇智捷科技有限公司', 1),\n ('阿尔特汽车技术股份有限公司', 1),\n ('我看网络技术(北京)有限公司', 1),\n ('中国民生银行股份有限公司', 1),\n ('搜狐', 1),\n ('国科恒泰(北京)医疗科技股份有限公司', 1),\n ('新东方前途', 1),\n ('巴别时代', 1),\n ('北京优品酷卖科技有限公司', 1),\n ('北京形上科技有限责任公司', 1),\n ('北京格力森酒业有限公司', 1),\n ('分享通信', 1),\n ('凤凰网', 1),\n ('走遍世界(北京)信息技术有限公司', 1),\n ('北京青翼凌云科技有限公司', 1),\n ('北京课厅教育科技有限公司', 1),\n ('北京易思卓科技有限公司', 1),\n ('中国航空器拥有者及驾驶员协会', 1),\n ('北京城市网邻信息技术有限公司', 1),\n ('北京诚悦晟达商贸有限公司', 1),\n ('一心向上', 1),\n ('北京中欣银宝通支付服务有限公司', 1),\n ('中青旅控股股份有限公司', 1),\n ('贝壳找房(北京)科技有限公司', 1),\n ('半糖去冰科技(北京)有限公司', 1),\n ('北京航天智造科技发展有限公司', 1),\n ('中国农业电影电视中心', 1),\n ('一汽(北京)软件科技有限公司', 1),\n ('建信融通有限责任公司', 1),\n ('布比科技', 1),\n ('花香盛世国际体育', 1),\n ('深圳市商汤科技有限公司', 1),\n ('北京人教希望读者服务有限责任公司', 1),\n ('迦游', 1),\n ('金山办公软件', 1),\n ('北京金桐网科技有限公司', 1),\n ('北京顺丰同城科技有限公司', 1),\n ('景行慧动', 1),\n ('单赤道(北京)咖啡餐饮管理有限责任公司', 1),\n ('守望地球(北京)环境科技有限公司', 1),\n ('北京丰泽晟华农业科技发展有限公司', 1),\n ('17173', 1),\n ('超极想网络科技(北京)有限公司', 1),\n ('三星电子', 1),\n ('北京学策科技有限公司', 1),\n ('北京金玺文化传媒有限公司', 1),\n ('时代传浮', 1),\n ('网易有道', 1),\n ('北京独角鲸群文化创意有限公司', 1),\n ('北京叁姐妹网络科技有限公司', 1),\n ('北京合众衡平信息技术有限责任公司', 1),\n ('北京乘风扬航科技有限公司', 1),\n ('畅游天下', 1),\n ('北京海丰特环境科技发展有限公司', 1),\n ('北京掌上先机网络科技有限公司(慧策)', 1),\n ('明世公司', 1),\n ('阿里巴巴集团', 1),\n ('润泽环保', 1),\n ('北京章鱼小泡泡科技有限公司', 1),\n ('中科博爱(北京)咨询有限公司', 1),\n ('北京维应科技有限责任公司', 1),\n ('阳光保险集团', 1),\n ('北京君尚伟业科技有限公司', 1),\n ('独角鲨(北京)科技有限公司', 1),\n ('麦凯隆(北京)家居用品有限公司', 1),\n ('快手', 1),\n ('施耐德电气', 1),\n ('荣耀终端', 1),\n ('北京乐信圣文科技有限责任公司', 1),\n ('北京博雅甲睿文化发展有限公司', 1),\n ('北京金元尚杰科技有限公司', 1),\n ('华夏恒生', 1),\n ('北京鸿盈信息技术有限公司', 1),\n ('北京文迪威教育科技有限公司', 1),\n ('上海书品仓科技有限责任公司', 1),\n ('北京爱语吧科技有限公司', 1),\n ('金溪县阿里兄弟电子商务有限公司', 1),\n ('北京青峰玉吉科技咨询服务有限公司', 1),\n ('北京四维通联电讯器材有限公司', 1),\n ('梦灵国际医疗科技(北京)有限责任公司', 1),\n ('北京疯狂体育产业管理有限公司', 1),\n ('合生创展集团有限公司', 1),\n ('国信证券股份有限公司', 1),\n ('天津魔芝工坊信息技术有限公司', 1),\n ('新世纪医疗', 1),\n ('厦门安踏服饰有限公司', 1),\n ('北京蓝色光标数字传媒科技有限公司', 1),\n ('赋范空间', 1),\n ('水滴公司', 1),\n ('海鸿达(北京)餐饮管理有限公司', 1),\n ('博思致新', 1),\n ('医药魔方', 1),\n ('北京御生堂健康产业集团有限公司', 1),\n ('朗致集团', 1),\n ('北京市酥米教育科技有限公司', 1),\n ('中国人寿保险销售有限责任公司', 1),\n ('张家口花椒科技有限公司', 1),\n ('航天信息软件技术有限公司', 1),\n ('北京华熙海御科技有限公司', 1),\n ('灵岩创世', 1),\n ('北京天算资产管理有限公司', 1),\n ('山东辰扬环境科技有限公司', 1),\n ('网易集团', 1),\n ('北京北信源软件股份有限公司', 1),\n ('北京中程润达科技有限公司', 1),\n ('蚂蚁集团', 1),\n ('北京弘毅远科技有限公司', 1),\n ('京东方空间数智', 1),\n ('北京牧游科技有限公司', 1),\n ('浙江游侠客国际旅行社有限公司北京分公司', 1),\n ('深圳乐巢时代科技有限公司', 1),\n ('北京链鲸科技有限公司', 1),\n ('新氧科技', 1),\n ('北京乐城堡科技有限公司', 1),\n ('北京医来伸手健康管理有限公司', 1)]"
     },
     "execution_count": 7,
     "metadata": {},
     "output_type": "execute_result"
    }
   ],
   "source": [
    "word_compName = [(i,v) for i,v in df['comp.compName'].value_counts().items()]\n",
    "word_compName"
   ]
  },
  {
   "cell_type": "code",
   "execution_count": 8,
   "metadata": {},
   "outputs": [],
   "source": [
    "from pyecharts import options as opts\n",
    "from pyecharts.charts import WordCloud\n",
    "\n",
    "c = (\n",
    "    WordCloud()\n",
    "    .add(series_name=\"热点分析\", data_pair=word_compName, word_size_range=[6, 66])\n",
    "    .set_global_opts(\n",
    "        title_opts=opts.TitleOpts(\n",
    "            title=\"热点分析\", title_textstyle_opts=opts.TextStyleOpts(font_size=23)\n",
    "        ),\n",
    "        tooltip_opts=opts.TooltipOpts(is_show=True),\n",
    "    )\n",
    "    .render(\"test.html\")\n",
    ")"
   ]
  },
  {
   "cell_type": "markdown",
   "metadata": {},
   "source": [
    "# 2. 多层级的字段分析"
   ]
  },
  {
   "cell_type": "code",
   "execution_count": 9,
   "metadata": {},
   "outputs": [
    {
     "data": {
      "text/plain": "Index(['Unnamed: 0', 'recruiter.recruiterTitle', 'comp.compScale',\n       'comp.compStage', 'comp.compIndustry', 'comp.compName', 'job.labels',\n       'job.dq', 'job.campusJobKind', 'job.title', 'job.salary'],\n      dtype='object')"
     },
     "execution_count": 9,
     "metadata": {},
     "output_type": "execute_result"
    }
   ],
   "source": [
    "df.columns"
   ]
  },
  {
   "cell_type": "code",
   "execution_count": 10,
   "metadata": {},
   "outputs": [
    {
     "data": {
      "text/plain": "     job.dq comp.compIndustry                    job.title\n0    北京-海淀区             非营利组织                         项目助理\n1    北京-海淀区             非营利组织                        项目管培生\n2        北京           航空/航天设备                        销售工程师\n3        北京               互联网                 产品运营-营销和生态方向\n4        北京             计算机软件                      产品运营实习生\n..      ...               ...                          ...\n395  北京-朝阳区             互联网医疗  好大夫-互联网医疗运营（限临床/预防/护理等医学专业）\n396  北京-朝阳区             互联网医疗       健康顾问（15-20K，16薪）J10974\n397  北京-朝阳区             互联网医疗     医学专员（底薪15-20K，16薪）J10974\n398  北京-朝阳区             互联网医疗       运营专员（10-20K，16薪）J10974\n399  北京-昌平区               互联网                         视频剪辑\n\n[400 rows x 3 columns]",
      "text/html": "<div>\n<style scoped>\n    .dataframe tbody tr th:only-of-type {\n        vertical-align: middle;\n    }\n\n    .dataframe tbody tr th {\n        vertical-align: top;\n    }\n\n    .dataframe thead th {\n        text-align: right;\n    }\n</style>\n<table border=\"1\" class=\"dataframe\">\n  <thead>\n    <tr style=\"text-align: right;\">\n      <th></th>\n      <th>job.dq</th>\n      <th>comp.compIndustry</th>\n      <th>job.title</th>\n    </tr>\n  </thead>\n  <tbody>\n    <tr>\n      <th>0</th>\n      <td>北京-海淀区</td>\n      <td>非营利组织</td>\n      <td>项目助理</td>\n    </tr>\n    <tr>\n      <th>1</th>\n      <td>北京-海淀区</td>\n      <td>非营利组织</td>\n      <td>项目管培生</td>\n    </tr>\n    <tr>\n      <th>2</th>\n      <td>北京</td>\n      <td>航空/航天设备</td>\n      <td>销售工程师</td>\n    </tr>\n    <tr>\n      <th>3</th>\n      <td>北京</td>\n      <td>互联网</td>\n      <td>产品运营-营销和生态方向</td>\n    </tr>\n    <tr>\n      <th>4</th>\n      <td>北京</td>\n      <td>计算机软件</td>\n      <td>产品运营实习生</td>\n    </tr>\n    <tr>\n      <th>...</th>\n      <td>...</td>\n      <td>...</td>\n      <td>...</td>\n    </tr>\n    <tr>\n      <th>395</th>\n      <td>北京-朝阳区</td>\n      <td>互联网医疗</td>\n      <td>好大夫-互联网医疗运营（限临床/预防/护理等医学专业）</td>\n    </tr>\n    <tr>\n      <th>396</th>\n      <td>北京-朝阳区</td>\n      <td>互联网医疗</td>\n      <td>健康顾问（15-20K，16薪）J10974</td>\n    </tr>\n    <tr>\n      <th>397</th>\n      <td>北京-朝阳区</td>\n      <td>互联网医疗</td>\n      <td>医学专员（底薪15-20K，16薪）J10974</td>\n    </tr>\n    <tr>\n      <th>398</th>\n      <td>北京-朝阳区</td>\n      <td>互联网医疗</td>\n      <td>运营专员（10-20K，16薪）J10974</td>\n    </tr>\n    <tr>\n      <th>399</th>\n      <td>北京-昌平区</td>\n      <td>互联网</td>\n      <td>视频剪辑</td>\n    </tr>\n  </tbody>\n</table>\n<p>400 rows × 3 columns</p>\n</div>"
     },
     "execution_count": 10,
     "metadata": {},
     "output_type": "execute_result"
    }
   ],
   "source": [
    "df[['job.dq','comp.compIndustry','job.title']]"
   ]
  },
  {
   "cell_type": "code",
   "execution_count": 27,
   "metadata": {},
   "outputs": [
    {
     "name": "stdout",
     "output_type": "stream",
     "text": [
      "北京-朝阳区\n",
      "北京-大兴区\n",
      "北京-东城区\n",
      "北京-怀柔区\n",
      "北京-西城区\n",
      "北京-昌平区\n",
      "北京-顺义区\n",
      "北京\n",
      "北京-石景山区\n",
      "北京-房山区\n",
      "北京-海淀区\n",
      "北京-延庆区\n",
      "北京-平谷区\n",
      "北京-丰台区\n",
      "北京-通州区\n",
      "北京-门头沟区\n"
     ]
    }
   ],
   "source": [
    "for i in set(df['job.dq']):\n",
    "    print(i)"
   ]
  },
  {
   "cell_type": "code",
   "execution_count": 11,
   "metadata": {
    "scrolled": true
   },
   "outputs": [
    {
     "data": {
      "text/plain": "{'IT服务',\n '专业技术服务',\n '互联网',\n '人工智能',\n '其他教育培训',\n '制药',\n '医疗器械',\n '咨询服务',\n '在线教育',\n '在线社交/媒体',\n '培训服务',\n '广播/影视/录音',\n '房地产租赁/中介',\n '批发/零售',\n '政府/公共事业',\n '新闻和出版业',\n '环保',\n '生活服务O2O',\n '电子商务',\n '科技推广服务',\n '科技金融',\n '航空/航天设备',\n '计算机硬件',\n '计算机软件',\n '货运/物流/仓储',\n '通信设备',\n '酒店/民宿',\n '非营利组织'}"
     },
     "execution_count": 11,
     "metadata": {},
     "output_type": "execute_result"
    }
   ],
   "source": [
    "北京海淀区产业集合 = set(df[df['job.dq'].isin(['北京-海淀区'])]['comp.compIndustry'])\n",
    "北京海淀区产业集合"
   ]
  },
  {
   "cell_type": "code",
   "execution_count": 15,
   "outputs": [
    {
     "data": {
      "text/plain": "0       非营利组织\n1       非营利组织\n10       科技金融\n11        互联网\n15       培训服务\n        ...  \n373    科技推广服务\n374     计算机软件\n381      电子商务\n384    专业技术服务\n386     批发/零售\nName: comp.compIndustry, Length: 76, dtype: object"
     },
     "execution_count": 15,
     "metadata": {},
     "output_type": "execute_result"
    }
   ],
   "source": [
    "\n",
    "df[df['job.dq'].isin(['北京-海淀区'])]['comp.compIndustry']"
   ],
   "metadata": {
    "collapsed": false
   }
  },
  {
   "cell_type": "code",
   "execution_count": 60,
   "metadata": {
    "scrolled": true
   },
   "outputs": [
    {
     "data": {
      "text/plain": [
       "{'政府/公共事业': ['线上运营经理'],\n",
       " '货运/物流/仓储': ['物流平台运营管理岗'],\n",
       " '生活服务O2O': ['海外产品运营', '产品运营实习生'],\n",
       " '航空/航天设备': ['产 品 经 理', '市场产品专员'],\n",
       " '计算机软件': ['产品运营实习生',\n",
       "  '产品运营实习生',\n",
       "  '国际化产品创作者运营实习生(巴西)',\n",
       "  '客户成功运营顾问',\n",
       "  '管理培训生（运营管理）',\n",
       "  '英语编辑',\n",
       "  '软件开发工程师',\n",
       "  '百度AI开放平台-智能创作-产品实习生',\n",
       "  '客户经理',\n",
       "  '内容运营实习生（幼教）'],\n",
       " '互联网': ['AIGC产品运营(J59073)',\n",
       "  '产品运营实习生',\n",
       "  '商业化产品运营-飞书People',\n",
       "  '产品运营实习生',\n",
       "  '产品运营',\n",
       "  '知道产品部_用户产品运营实习生(J66018)',\n",
       "  '物业市拓经理',\n",
       "  '海外运营总监',\n",
       "  '企业效能顾问（生态伙伴管理方向）-飞书',\n",
       "  '应用产品业务运营部_PMO(J54274)',\n",
       "  '资深SEO优化',\n",
       "  '飞书企业效能顾问-业务效能方向',\n",
       "  '零售行业解决方案实习生-火山引擎',\n",
       "  'HR数据分析实习生',\n",
       "  '内容运营实习生',\n",
       "  '能源互联网产品工程师',\n",
       "  '运营专员',\n",
       "  '菲律宾翻译',\n",
       "  '亚运会体育热点实习（外派百度）'],\n",
       " '咨询服务': ['BI工程师（14薪，全额社保）'],\n",
       " '电子商务': ['搜索推荐策略产品经理 (MJ005771)'],\n",
       " '在线教育': ['教学设计实习生 (MJ000027)'],\n",
       " '医疗器械': ['仪器产品经理'],\n",
       " '批发/零售': ['电商运营'],\n",
       " '科技推广服务': ['新媒体运营', 'HTML5'],\n",
       " '新闻和出版业': ['项目助理（Scilit）', '项目助理（Scilit）', '项目助理（Scilit）'],\n",
       " '科技金融': ['产品运营经理——股权激励SaaS产品', '客户运营专员'],\n",
       " '房地产租赁/中介': ['产品运营'],\n",
       " '制药': ['数据分析专员'],\n",
       " '在线社交/媒体': ['交互设计师', '业务监察部-实习生', 'Golang后台开发工程师', '产品经理', '数据安全专家、资深工程师'],\n",
       " '环保': ['科考产品运营'],\n",
       " '培训服务': ['产品运营实习生', '产品运营', '美本留学产品专员', '课程销售'],\n",
       " '非营利组织': ['项目助理', '项目管培生'],\n",
       " '酒店/民宿': ['会员策略运营', '集团协议拓展'],\n",
       " '专业技术服务': ['海外运营经理', '新媒体运营', '电商运营助理'],\n",
       " '广播/影视/录音': ['产品运营实习生', '产品运营专员', '实习编辑', '用户运营'],\n",
       " '人工智能': ['产品经理-视光 (MJ000558)'],\n",
       " '通信设备': ['软件开发工程师', '大数据开发工程师'],\n",
       " '计算机硬件': ['工业互联网产业研究员'],\n",
       " 'IT服务': ['体验提升产品经理'],\n",
       " '其他教育培训': ['业务拓展专员/助理']}"
      ]
     },
     "execution_count": 60,
     "metadata": {},
     "output_type": "execute_result"
    }
   ],
   "source": [
    "北京海淀行业_岗位 = {\n",
    "    i:北京_海淀区[北京_海淀区['comp.compIndustry'].isin([i])]['job.title'].values.tolist()\n",
    "    for i in 北京海淀区产业集合\n",
    "}\n",
    "北京海淀行业_岗位"
   ]
  },
  {
   "cell_type": "code",
   "execution_count": 61,
   "metadata": {
    "scrolled": true
   },
   "outputs": [
    {
     "data": {
      "text/plain": [
       "[{'name': '北京-海淀区',\n",
       "  'children': [{'name': '政府/公共事业', 'children': [{'name': '线上运营经理'}]},\n",
       "   {'name': '货运/物流/仓储', 'children': [{'name': '物流平台运营管理岗'}]},\n",
       "   {'name': '生活服务O2O', 'children': [{'name': '海外产品运营'}, {'name': '产品运营实习生'}]},\n",
       "   {'name': '航空/航天设备', 'children': [{'name': '产 品 经 理'}, {'name': '市场产品专员'}]},\n",
       "   {'name': '计算机软件',\n",
       "    'children': [{'name': '产品运营实习生'},\n",
       "     {'name': '产品运营实习生'},\n",
       "     {'name': '国际化产品创作者运营实习生(巴西)'},\n",
       "     {'name': '客户成功运营顾问'},\n",
       "     {'name': '管理培训生（运营管理）'},\n",
       "     {'name': '英语编辑'},\n",
       "     {'name': '软件开发工程师'},\n",
       "     {'name': '百度AI开放平台-智能创作-产品实习生'},\n",
       "     {'name': '客户经理'},\n",
       "     {'name': '内容运营实习生（幼教）'}]},\n",
       "   {'name': '互联网',\n",
       "    'children': [{'name': 'AIGC产品运营(J59073)'},\n",
       "     {'name': '产品运营实习生'},\n",
       "     {'name': '商业化产品运营-飞书People'},\n",
       "     {'name': '产品运营实习生'},\n",
       "     {'name': '产品运营'},\n",
       "     {'name': '知道产品部_用户产品运营实习生(J66018)'},\n",
       "     {'name': '物业市拓经理'},\n",
       "     {'name': '海外运营总监'},\n",
       "     {'name': '企业效能顾问（生态伙伴管理方向）-飞书'},\n",
       "     {'name': '应用产品业务运营部_PMO(J54274)'},\n",
       "     {'name': '资深SEO优化'},\n",
       "     {'name': '飞书企业效能顾问-业务效能方向'},\n",
       "     {'name': '零售行业解决方案实习生-火山引擎'},\n",
       "     {'name': 'HR数据分析实习生'},\n",
       "     {'name': '内容运营实习生'},\n",
       "     {'name': '能源互联网产品工程师'},\n",
       "     {'name': '运营专员'},\n",
       "     {'name': '菲律宾翻译'},\n",
       "     {'name': '亚运会体育热点实习（外派百度）'}]},\n",
       "   {'name': '咨询服务', 'children': [{'name': 'BI工程师（14薪，全额社保）'}]},\n",
       "   {'name': '电子商务', 'children': [{'name': '搜索推荐策略产品经理 (MJ005771)'}]},\n",
       "   {'name': '在线教育', 'children': [{'name': '教学设计实习生 (MJ000027)'}]},\n",
       "   {'name': '医疗器械', 'children': [{'name': '仪器产品经理'}]},\n",
       "   {'name': '批发/零售', 'children': [{'name': '电商运营'}]},\n",
       "   {'name': '科技推广服务', 'children': [{'name': '新媒体运营'}, {'name': 'HTML5'}]},\n",
       "   {'name': '新闻和出版业',\n",
       "    'children': [{'name': '项目助理（Scilit）'},\n",
       "     {'name': '项目助理（Scilit）'},\n",
       "     {'name': '项目助理（Scilit）'}]},\n",
       "   {'name': '科技金融',\n",
       "    'children': [{'name': '产品运营经理——股权激励SaaS产品'}, {'name': '客户运营专员'}]},\n",
       "   {'name': '房地产租赁/中介', 'children': [{'name': '产品运营'}]},\n",
       "   {'name': '制药', 'children': [{'name': '数据分析专员'}]},\n",
       "   {'name': '在线社交/媒体',\n",
       "    'children': [{'name': '交互设计师'},\n",
       "     {'name': '业务监察部-实习生'},\n",
       "     {'name': 'Golang后台开发工程师'},\n",
       "     {'name': '产品经理'},\n",
       "     {'name': '数据安全专家、资深工程师'}]},\n",
       "   {'name': '环保', 'children': [{'name': '科考产品运营'}]},\n",
       "   {'name': '培训服务',\n",
       "    'children': [{'name': '产品运营实习生'},\n",
       "     {'name': '产品运营'},\n",
       "     {'name': '美本留学产品专员'},\n",
       "     {'name': '课程销售'}]},\n",
       "   {'name': '非营利组织', 'children': [{'name': '项目助理'}, {'name': '项目管培生'}]},\n",
       "   {'name': '酒店/民宿', 'children': [{'name': '会员策略运营'}, {'name': '集团协议拓展'}]},\n",
       "   {'name': '专业技术服务',\n",
       "    'children': [{'name': '海外运营经理'}, {'name': '新媒体运营'}, {'name': '电商运营助理'}]},\n",
       "   {'name': '广播/影视/录音',\n",
       "    'children': [{'name': '产品运营实习生'},\n",
       "     {'name': '产品运营专员'},\n",
       "     {'name': '实习编辑'},\n",
       "     {'name': '用户运营'}]},\n",
       "   {'name': '人工智能', 'children': [{'name': '产品经理-视光 (MJ000558)'}]},\n",
       "   {'name': '通信设备', 'children': [{'name': '软件开发工程师'}, {'name': '大数据开发工程师'}]},\n",
       "   {'name': '计算机硬件', 'children': [{'name': '工业互联网产业研究员'}]},\n",
       "   {'name': 'IT服务', 'children': [{'name': '体验提升产品经理'}]},\n",
       "   {'name': '其他教育培训', 'children': [{'name': '业务拓展专员/助理'}]}]}]"
      ]
     },
     "execution_count": 61,
     "metadata": {},
     "output_type": "execute_result"
    }
   ],
   "source": [
    "data = [\n",
    "    {\n",
    "        \"name\":\"北京-海淀区\",\n",
    "        \"children\":[\n",
    "            {\n",
    "            'name':i,\n",
    "            'children':[\n",
    "                {'name':j} for j in 北京海淀行业_岗位[i]]\n",
    "            } \n",
    "            for i in set(df[df['job.dq'].isin(['北京-海淀区'])]['comp.compIndustry'])\n",
    "        ]\n",
    "    }\n",
    "]\n",
    "data"
   ]
  },
  {
   "cell_type": "code",
   "execution_count": 66,
   "metadata": {},
   "outputs": [],
   "source": [
    "from pyecharts import options as opts\n",
    "from pyecharts.charts import Tree\n",
    "\n",
    "c = (\n",
    "    Tree()\n",
    "    .add(\"\", data, collapse_interval=2, layout=\"radial\")\n",
    "    .set_global_opts(title_opts=opts.TitleOpts(title=\"Tree-Layout\"))\n",
    "    .render(\"tree_layout.html\")\n",
    ")\n",
    "\n"
   ]
  },
  {
   "cell_type": "code",
   "execution_count": null,
   "metadata": {},
   "outputs": [],
   "source": []
  }
 ],
 "metadata": {
  "kernelspec": {
   "display_name": "Python 3",
   "language": "python",
   "name": "python3"
  },
  "language_info": {
   "codemirror_mode": {
    "name": "ipython",
    "version": 3
   },
   "file_extension": ".py",
   "mimetype": "text/x-python",
   "name": "python",
   "nbconvert_exporter": "python",
   "pygments_lexer": "ipython3",
   "version": "3.8.3"
  }
 },
 "nbformat": 4,
 "nbformat_minor": 4
}
