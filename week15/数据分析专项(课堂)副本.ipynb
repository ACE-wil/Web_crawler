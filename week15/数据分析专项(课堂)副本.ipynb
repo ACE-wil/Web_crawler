{
 "cells": [
  {
   "cell_type": "code",
   "execution_count": 2,
   "metadata": {},
   "outputs": [],
   "source": [
    "import pandas as pd"
   ]
  },
  {
   "cell_type": "code",
   "execution_count": 3,
   "metadata": {
    "scrolled": true
   },
   "outputs": [
    {
     "data": {
      "text/plain": "     Unnamed: 0 recruiter.recruiterTitle comp.compScale comp.compStage  \\\n0             0                       人力          1-49人            NaN   \n1             1                       人力          1-49人            NaN   \n2             2                     HRBP       100-499人             D轮   \n3             3                     高级经理       10000人以上           美股上市   \n4             4                   产品运营经理     1000-2000人            NaN   \n..          ...                      ...            ...            ...   \n395          35                  猎头顾问/助理       100-499人             D轮   \n396          36                     招聘经理       100-499人             D轮   \n397          37                     招聘经理       100-499人             D轮   \n398          38                     招聘经理       100-499人             D轮   \n399          39                       HR       100-499人          融资未公开   \n\n    comp.compIndustry   comp.compName  \\\n0               非营利组织        中关村标准化协会   \n1               非营利组织        中关村标准化协会   \n2             航空/航天设备     北京中航智科技有限公司   \n3                 互联网           Baidu   \n4               计算机软件  北京智慧星光信息技术有限公司   \n..                ...             ...   \n395             互联网医疗           好大夫在线   \n396             互联网医疗           好大夫在线   \n397             互联网医疗           好大夫在线   \n398             互联网医疗           好大夫在线   \n399               互联网  北京医来伸手健康管理有限公司   \n\n                                            job.labels  job.dq  \\\n0                                        ['IT/互联网/软件']  北京-海淀区   \n1                                                   []  北京-海淀区   \n2                                               ['本科']      北京   \n3             ['人工智能', '产品运营', '活动运营', '线下运营', '线上运营']      北京   \n4                                   ['b端产品运营', '用户运营']      北京   \n..                                                 ...     ...   \n395                                  ['医疗健康', '互联网医疗']  北京-朝阳区   \n396  ['分诊', '核医学科', '医疗健康', '健康指导', '术后病人', '互联网医疗'...  北京-朝阳区   \n397                                                 []  北京-朝阳区   \n398                                                 []  北京-朝阳区   \n399                                           ['视频剪辑']  北京-昌平区   \n\n    job.campusJobKind                    job.title  job.salary  \n0                 NaN                         项目助理       5-10k  \n1                 NaN                        项目管培生        薪资面议  \n2                  应届                        销售工程师  13-16k·14薪  \n3                 NaN                 产品运营-营销和生态方向      20-40k  \n4                 NaN                      产品运营实习生        2-5k  \n..                ...                          ...         ...  \n395               NaN  好大夫-互联网医疗运营（限临床/预防/护理等医学专业）  10-18k·16薪  \n396               NaN       健康顾问（15-20K，16薪）J10974  15-20k·16薪  \n397               NaN     医学专员（底薪15-20K，16薪）J10974  15-20k·16薪  \n398               NaN       运营专员（10-20K，16薪）J10974  11-20k·16薪  \n399               NaN                         视频剪辑       6-11k  \n\n[400 rows x 11 columns]",
      "text/html": "<div>\n<style scoped>\n    .dataframe tbody tr th:only-of-type {\n        vertical-align: middle;\n    }\n\n    .dataframe tbody tr th {\n        vertical-align: top;\n    }\n\n    .dataframe thead th {\n        text-align: right;\n    }\n</style>\n<table border=\"1\" class=\"dataframe\">\n  <thead>\n    <tr style=\"text-align: right;\">\n      <th></th>\n      <th>Unnamed: 0</th>\n      <th>recruiter.recruiterTitle</th>\n      <th>comp.compScale</th>\n      <th>comp.compStage</th>\n      <th>comp.compIndustry</th>\n      <th>comp.compName</th>\n      <th>job.labels</th>\n      <th>job.dq</th>\n      <th>job.campusJobKind</th>\n      <th>job.title</th>\n      <th>job.salary</th>\n    </tr>\n  </thead>\n  <tbody>\n    <tr>\n      <th>0</th>\n      <td>0</td>\n      <td>人力</td>\n      <td>1-49人</td>\n      <td>NaN</td>\n      <td>非营利组织</td>\n      <td>中关村标准化协会</td>\n      <td>['IT/互联网/软件']</td>\n      <td>北京-海淀区</td>\n      <td>NaN</td>\n      <td>项目助理</td>\n      <td>5-10k</td>\n    </tr>\n    <tr>\n      <th>1</th>\n      <td>1</td>\n      <td>人力</td>\n      <td>1-49人</td>\n      <td>NaN</td>\n      <td>非营利组织</td>\n      <td>中关村标准化协会</td>\n      <td>[]</td>\n      <td>北京-海淀区</td>\n      <td>NaN</td>\n      <td>项目管培生</td>\n      <td>薪资面议</td>\n    </tr>\n    <tr>\n      <th>2</th>\n      <td>2</td>\n      <td>HRBP</td>\n      <td>100-499人</td>\n      <td>D轮</td>\n      <td>航空/航天设备</td>\n      <td>北京中航智科技有限公司</td>\n      <td>['本科']</td>\n      <td>北京</td>\n      <td>应届</td>\n      <td>销售工程师</td>\n      <td>13-16k·14薪</td>\n    </tr>\n    <tr>\n      <th>3</th>\n      <td>3</td>\n      <td>高级经理</td>\n      <td>10000人以上</td>\n      <td>美股上市</td>\n      <td>互联网</td>\n      <td>Baidu</td>\n      <td>['人工智能', '产品运营', '活动运营', '线下运营', '线上运营']</td>\n      <td>北京</td>\n      <td>NaN</td>\n      <td>产品运营-营销和生态方向</td>\n      <td>20-40k</td>\n    </tr>\n    <tr>\n      <th>4</th>\n      <td>4</td>\n      <td>产品运营经理</td>\n      <td>1000-2000人</td>\n      <td>NaN</td>\n      <td>计算机软件</td>\n      <td>北京智慧星光信息技术有限公司</td>\n      <td>['b端产品运营', '用户运营']</td>\n      <td>北京</td>\n      <td>NaN</td>\n      <td>产品运营实习生</td>\n      <td>2-5k</td>\n    </tr>\n    <tr>\n      <th>...</th>\n      <td>...</td>\n      <td>...</td>\n      <td>...</td>\n      <td>...</td>\n      <td>...</td>\n      <td>...</td>\n      <td>...</td>\n      <td>...</td>\n      <td>...</td>\n      <td>...</td>\n      <td>...</td>\n    </tr>\n    <tr>\n      <th>395</th>\n      <td>35</td>\n      <td>猎头顾问/助理</td>\n      <td>100-499人</td>\n      <td>D轮</td>\n      <td>互联网医疗</td>\n      <td>好大夫在线</td>\n      <td>['医疗健康', '互联网医疗']</td>\n      <td>北京-朝阳区</td>\n      <td>NaN</td>\n      <td>好大夫-互联网医疗运营（限临床/预防/护理等医学专业）</td>\n      <td>10-18k·16薪</td>\n    </tr>\n    <tr>\n      <th>396</th>\n      <td>36</td>\n      <td>招聘经理</td>\n      <td>100-499人</td>\n      <td>D轮</td>\n      <td>互联网医疗</td>\n      <td>好大夫在线</td>\n      <td>['分诊', '核医学科', '医疗健康', '健康指导', '术后病人', '互联网医疗'...</td>\n      <td>北京-朝阳区</td>\n      <td>NaN</td>\n      <td>健康顾问（15-20K，16薪）J10974</td>\n      <td>15-20k·16薪</td>\n    </tr>\n    <tr>\n      <th>397</th>\n      <td>37</td>\n      <td>招聘经理</td>\n      <td>100-499人</td>\n      <td>D轮</td>\n      <td>互联网医疗</td>\n      <td>好大夫在线</td>\n      <td>[]</td>\n      <td>北京-朝阳区</td>\n      <td>NaN</td>\n      <td>医学专员（底薪15-20K，16薪）J10974</td>\n      <td>15-20k·16薪</td>\n    </tr>\n    <tr>\n      <th>398</th>\n      <td>38</td>\n      <td>招聘经理</td>\n      <td>100-499人</td>\n      <td>D轮</td>\n      <td>互联网医疗</td>\n      <td>好大夫在线</td>\n      <td>[]</td>\n      <td>北京-朝阳区</td>\n      <td>NaN</td>\n      <td>运营专员（10-20K，16薪）J10974</td>\n      <td>11-20k·16薪</td>\n    </tr>\n    <tr>\n      <th>399</th>\n      <td>39</td>\n      <td>HR</td>\n      <td>100-499人</td>\n      <td>融资未公开</td>\n      <td>互联网</td>\n      <td>北京医来伸手健康管理有限公司</td>\n      <td>['视频剪辑']</td>\n      <td>北京-昌平区</td>\n      <td>NaN</td>\n      <td>视频剪辑</td>\n      <td>6-11k</td>\n    </tr>\n  </tbody>\n</table>\n<p>400 rows × 11 columns</p>\n</div>"
     },
     "execution_count": 3,
     "metadata": {},
     "output_type": "execute_result"
    }
   ],
   "source": [
    "df = pd.read_excel('北京_产品运营_应届生.xlsx')\n",
    "df"
   ]
  },
  {
   "cell_type": "code",
   "execution_count": 4,
   "outputs": [
    {
     "data": {
      "text/plain": "     job.dq comp.compScale comp.compIndustry   comp.compName  \\\n0    北京-海淀区          1-49人             非营利组织        中关村标准化协会   \n1    北京-海淀区          1-49人             非营利组织        中关村标准化协会   \n2        北京       100-499人           航空/航天设备     北京中航智科技有限公司   \n3        北京       10000人以上               互联网           Baidu   \n4        北京     1000-2000人             计算机软件  北京智慧星光信息技术有限公司   \n..      ...            ...               ...             ...   \n395  北京-朝阳区       100-499人             互联网医疗           好大夫在线   \n396  北京-朝阳区       100-499人             互联网医疗           好大夫在线   \n397  北京-朝阳区       100-499人             互联网医疗           好大夫在线   \n398  北京-朝阳区       100-499人             互联网医疗           好大夫在线   \n399  北京-昌平区       100-499人               互联网  北京医来伸手健康管理有限公司   \n\n                       job.title  job.salary  \n0                           项目助理       5-10k  \n1                          项目管培生        薪资面议  \n2                          销售工程师  13-16k·14薪  \n3                   产品运营-营销和生态方向      20-40k  \n4                        产品运营实习生        2-5k  \n..                           ...         ...  \n395  好大夫-互联网医疗运营（限临床/预防/护理等医学专业）  10-18k·16薪  \n396       健康顾问（15-20K，16薪）J10974  15-20k·16薪  \n397     医学专员（底薪15-20K，16薪）J10974  15-20k·16薪  \n398       运营专员（10-20K，16薪）J10974  11-20k·16薪  \n399                         视频剪辑       6-11k  \n\n[400 rows x 6 columns]",
      "text/html": "<div>\n<style scoped>\n    .dataframe tbody tr th:only-of-type {\n        vertical-align: middle;\n    }\n\n    .dataframe tbody tr th {\n        vertical-align: top;\n    }\n\n    .dataframe thead th {\n        text-align: right;\n    }\n</style>\n<table border=\"1\" class=\"dataframe\">\n  <thead>\n    <tr style=\"text-align: right;\">\n      <th></th>\n      <th>job.dq</th>\n      <th>comp.compScale</th>\n      <th>comp.compIndustry</th>\n      <th>comp.compName</th>\n      <th>job.title</th>\n      <th>job.salary</th>\n    </tr>\n  </thead>\n  <tbody>\n    <tr>\n      <th>0</th>\n      <td>北京-海淀区</td>\n      <td>1-49人</td>\n      <td>非营利组织</td>\n      <td>中关村标准化协会</td>\n      <td>项目助理</td>\n      <td>5-10k</td>\n    </tr>\n    <tr>\n      <th>1</th>\n      <td>北京-海淀区</td>\n      <td>1-49人</td>\n      <td>非营利组织</td>\n      <td>中关村标准化协会</td>\n      <td>项目管培生</td>\n      <td>薪资面议</td>\n    </tr>\n    <tr>\n      <th>2</th>\n      <td>北京</td>\n      <td>100-499人</td>\n      <td>航空/航天设备</td>\n      <td>北京中航智科技有限公司</td>\n      <td>销售工程师</td>\n      <td>13-16k·14薪</td>\n    </tr>\n    <tr>\n      <th>3</th>\n      <td>北京</td>\n      <td>10000人以上</td>\n      <td>互联网</td>\n      <td>Baidu</td>\n      <td>产品运营-营销和生态方向</td>\n      <td>20-40k</td>\n    </tr>\n    <tr>\n      <th>4</th>\n      <td>北京</td>\n      <td>1000-2000人</td>\n      <td>计算机软件</td>\n      <td>北京智慧星光信息技术有限公司</td>\n      <td>产品运营实习生</td>\n      <td>2-5k</td>\n    </tr>\n    <tr>\n      <th>...</th>\n      <td>...</td>\n      <td>...</td>\n      <td>...</td>\n      <td>...</td>\n      <td>...</td>\n      <td>...</td>\n    </tr>\n    <tr>\n      <th>395</th>\n      <td>北京-朝阳区</td>\n      <td>100-499人</td>\n      <td>互联网医疗</td>\n      <td>好大夫在线</td>\n      <td>好大夫-互联网医疗运营（限临床/预防/护理等医学专业）</td>\n      <td>10-18k·16薪</td>\n    </tr>\n    <tr>\n      <th>396</th>\n      <td>北京-朝阳区</td>\n      <td>100-499人</td>\n      <td>互联网医疗</td>\n      <td>好大夫在线</td>\n      <td>健康顾问（15-20K，16薪）J10974</td>\n      <td>15-20k·16薪</td>\n    </tr>\n    <tr>\n      <th>397</th>\n      <td>北京-朝阳区</td>\n      <td>100-499人</td>\n      <td>互联网医疗</td>\n      <td>好大夫在线</td>\n      <td>医学专员（底薪15-20K，16薪）J10974</td>\n      <td>15-20k·16薪</td>\n    </tr>\n    <tr>\n      <th>398</th>\n      <td>北京-朝阳区</td>\n      <td>100-499人</td>\n      <td>互联网医疗</td>\n      <td>好大夫在线</td>\n      <td>运营专员（10-20K，16薪）J10974</td>\n      <td>11-20k·16薪</td>\n    </tr>\n    <tr>\n      <th>399</th>\n      <td>北京-昌平区</td>\n      <td>100-499人</td>\n      <td>互联网</td>\n      <td>北京医来伸手健康管理有限公司</td>\n      <td>视频剪辑</td>\n      <td>6-11k</td>\n    </tr>\n  </tbody>\n</table>\n<p>400 rows × 6 columns</p>\n</div>"
     },
     "execution_count": 4,
     "metadata": {},
     "output_type": "execute_result"
    }
   ],
   "source": [
    "df_beijing = df[['job.dq','comp.compScale','comp.compIndustry','comp.compName','job.title','job.salary']]\n",
    "df_beijing"
   ],
   "metadata": {
    "collapsed": false
   }
  },
  {
   "cell_type": "code",
   "execution_count": 5,
   "outputs": [],
   "source": [
    "df_beijing = df_beijing.rename(columns={\n",
    "    'job.dq':'地区',\n",
    "    'comp.compScale':'公司规模',\n",
    "    'comp.compIndustry':'公司行业',\n",
    "    'comp.compName':'公司名称',\n",
    "    'job.title':'岗位名称',\n",
    "    'job.salary':'工资',\n",
    "\n",
    "})"
   ],
   "metadata": {
    "collapsed": false
   }
  },
  {
   "cell_type": "code",
   "execution_count": 6,
   "outputs": [
    {
     "data": {
      "text/plain": "         地区        公司规模     公司行业            公司名称                         岗位名称  \\\n0    北京-海淀区       1-49人    非营利组织        中关村标准化协会                         项目助理   \n1    北京-海淀区       1-49人    非营利组织        中关村标准化协会                        项目管培生   \n2        北京    100-499人  航空/航天设备     北京中航智科技有限公司                        销售工程师   \n3        北京    10000人以上      互联网           Baidu                 产品运营-营销和生态方向   \n4        北京  1000-2000人    计算机软件  北京智慧星光信息技术有限公司                      产品运营实习生   \n..      ...         ...      ...             ...                          ...   \n395  北京-朝阳区    100-499人    互联网医疗           好大夫在线  好大夫-互联网医疗运营（限临床/预防/护理等医学专业）   \n396  北京-朝阳区    100-499人    互联网医疗           好大夫在线       健康顾问（15-20K，16薪）J10974   \n397  北京-朝阳区    100-499人    互联网医疗           好大夫在线     医学专员（底薪15-20K，16薪）J10974   \n398  北京-朝阳区    100-499人    互联网医疗           好大夫在线       运营专员（10-20K，16薪）J10974   \n399  北京-昌平区    100-499人      互联网  北京医来伸手健康管理有限公司                         视频剪辑   \n\n             工资  \n0         5-10k  \n1          薪资面议  \n2    13-16k·14薪  \n3        20-40k  \n4          2-5k  \n..          ...  \n395  10-18k·16薪  \n396  15-20k·16薪  \n397  15-20k·16薪  \n398  11-20k·16薪  \n399       6-11k  \n\n[400 rows x 6 columns]",
      "text/html": "<div>\n<style scoped>\n    .dataframe tbody tr th:only-of-type {\n        vertical-align: middle;\n    }\n\n    .dataframe tbody tr th {\n        vertical-align: top;\n    }\n\n    .dataframe thead th {\n        text-align: right;\n    }\n</style>\n<table border=\"1\" class=\"dataframe\">\n  <thead>\n    <tr style=\"text-align: right;\">\n      <th></th>\n      <th>地区</th>\n      <th>公司规模</th>\n      <th>公司行业</th>\n      <th>公司名称</th>\n      <th>岗位名称</th>\n      <th>工资</th>\n    </tr>\n  </thead>\n  <tbody>\n    <tr>\n      <th>0</th>\n      <td>北京-海淀区</td>\n      <td>1-49人</td>\n      <td>非营利组织</td>\n      <td>中关村标准化协会</td>\n      <td>项目助理</td>\n      <td>5-10k</td>\n    </tr>\n    <tr>\n      <th>1</th>\n      <td>北京-海淀区</td>\n      <td>1-49人</td>\n      <td>非营利组织</td>\n      <td>中关村标准化协会</td>\n      <td>项目管培生</td>\n      <td>薪资面议</td>\n    </tr>\n    <tr>\n      <th>2</th>\n      <td>北京</td>\n      <td>100-499人</td>\n      <td>航空/航天设备</td>\n      <td>北京中航智科技有限公司</td>\n      <td>销售工程师</td>\n      <td>13-16k·14薪</td>\n    </tr>\n    <tr>\n      <th>3</th>\n      <td>北京</td>\n      <td>10000人以上</td>\n      <td>互联网</td>\n      <td>Baidu</td>\n      <td>产品运营-营销和生态方向</td>\n      <td>20-40k</td>\n    </tr>\n    <tr>\n      <th>4</th>\n      <td>北京</td>\n      <td>1000-2000人</td>\n      <td>计算机软件</td>\n      <td>北京智慧星光信息技术有限公司</td>\n      <td>产品运营实习生</td>\n      <td>2-5k</td>\n    </tr>\n    <tr>\n      <th>...</th>\n      <td>...</td>\n      <td>...</td>\n      <td>...</td>\n      <td>...</td>\n      <td>...</td>\n      <td>...</td>\n    </tr>\n    <tr>\n      <th>395</th>\n      <td>北京-朝阳区</td>\n      <td>100-499人</td>\n      <td>互联网医疗</td>\n      <td>好大夫在线</td>\n      <td>好大夫-互联网医疗运营（限临床/预防/护理等医学专业）</td>\n      <td>10-18k·16薪</td>\n    </tr>\n    <tr>\n      <th>396</th>\n      <td>北京-朝阳区</td>\n      <td>100-499人</td>\n      <td>互联网医疗</td>\n      <td>好大夫在线</td>\n      <td>健康顾问（15-20K，16薪）J10974</td>\n      <td>15-20k·16薪</td>\n    </tr>\n    <tr>\n      <th>397</th>\n      <td>北京-朝阳区</td>\n      <td>100-499人</td>\n      <td>互联网医疗</td>\n      <td>好大夫在线</td>\n      <td>医学专员（底薪15-20K，16薪）J10974</td>\n      <td>15-20k·16薪</td>\n    </tr>\n    <tr>\n      <th>398</th>\n      <td>北京-朝阳区</td>\n      <td>100-499人</td>\n      <td>互联网医疗</td>\n      <td>好大夫在线</td>\n      <td>运营专员（10-20K，16薪）J10974</td>\n      <td>11-20k·16薪</td>\n    </tr>\n    <tr>\n      <th>399</th>\n      <td>北京-昌平区</td>\n      <td>100-499人</td>\n      <td>互联网</td>\n      <td>北京医来伸手健康管理有限公司</td>\n      <td>视频剪辑</td>\n      <td>6-11k</td>\n    </tr>\n  </tbody>\n</table>\n<p>400 rows × 6 columns</p>\n</div>"
     },
     "execution_count": 6,
     "metadata": {},
     "output_type": "execute_result"
    }
   ],
   "source": [
    "df_beijing"
   ],
   "metadata": {
    "collapsed": false
   }
  },
  {
   "cell_type": "code",
   "execution_count": 7,
   "outputs": [],
   "source": [
    "set_dq = set(df_beijing['地区'])"
   ],
   "metadata": {
    "collapsed": false
   }
  },
  {
   "cell_type": "code",
   "execution_count": 8,
   "outputs": [
    {
     "data": {
      "text/plain": "['北京-海淀区',\n '北京-顺义区',\n '北京-朝阳区',\n '北京-延庆区',\n '北京-石景山区',\n '北京-平谷区',\n '北京-昌平区',\n '北京-通州区',\n '北京-丰台区',\n '北京-怀柔区',\n '北京-东城区',\n '北京',\n '北京-门头沟区',\n '北京-大兴区',\n '北京-西城区',\n '北京-房山区']"
     },
     "execution_count": 8,
     "metadata": {},
     "output_type": "execute_result"
    }
   ],
   "source": [
    "set_dq = set(df_beijing['地区'])\n",
    "list_dq = list(set_dq)\n",
    "list_dq"
   ],
   "metadata": {
    "collapsed": false
   }
  },
  {
   "cell_type": "code",
   "execution_count": 9,
   "outputs": [
    {
     "data": {
      "text/plain": "16"
     },
     "execution_count": 9,
     "metadata": {},
     "output_type": "execute_result"
    }
   ],
   "source": [
    "a = len(list_dq)\n",
    "a"
   ],
   "metadata": {
    "collapsed": false
   }
  },
  {
   "cell_type": "code",
   "execution_count": 10,
   "outputs": [
    {
     "data": {
      "text/plain": "         地区         公司规模    公司行业             公司名称                   岗位名称  \\\n0    北京-海淀区        1-49人   非营利组织         中关村标准化协会                   项目助理   \n1    北京-海淀区        1-49人   非营利组织         中关村标准化协会                  项目管培生   \n10   北京-海淀区     100-499人    科技金融             一心向上     产品运营经理——股权激励SaaS产品   \n11   北京-海淀区     10000人以上     互联网            Baidu       AIGC产品运营(J59073)   \n15   北京-海淀区     10000人以上    培训服务  北京世纪好未来教育科技有限公司                产品运营实习生   \n..      ...          ...     ...              ...                    ...   \n373  北京-海淀区     100-499人  科技推广服务           光谷动力科技                  HTML5   \n374  北京-海淀区        1-49人   计算机软件    北京企悦惠科技发展有限公司            内容运营实习生（幼教）   \n381  北京-海淀区  5000-10000人    电子商务              去哪儿  搜索推荐策略产品经理 (MJ005771)   \n384  北京-海淀区     100-499人  专业技术服务   都美(北京)品牌管理有限公司                 电商运营助理   \n386  北京-海淀区        1-49人   批发/零售       北京祉君商贸有限公司                   电商运营   \n\n             工资  \n0         5-10k  \n1          薪资面议  \n10    8-10k·13薪  \n11   25-50k·16薪  \n15         3-5k  \n..          ...  \n373  12-16k·13薪  \n374        2-5k  \n381  25-40k·16薪  \n384       7-10k  \n386       8-11k  \n\n[76 rows x 6 columns]",
      "text/html": "<div>\n<style scoped>\n    .dataframe tbody tr th:only-of-type {\n        vertical-align: middle;\n    }\n\n    .dataframe tbody tr th {\n        vertical-align: top;\n    }\n\n    .dataframe thead th {\n        text-align: right;\n    }\n</style>\n<table border=\"1\" class=\"dataframe\">\n  <thead>\n    <tr style=\"text-align: right;\">\n      <th></th>\n      <th>地区</th>\n      <th>公司规模</th>\n      <th>公司行业</th>\n      <th>公司名称</th>\n      <th>岗位名称</th>\n      <th>工资</th>\n    </tr>\n  </thead>\n  <tbody>\n    <tr>\n      <th>0</th>\n      <td>北京-海淀区</td>\n      <td>1-49人</td>\n      <td>非营利组织</td>\n      <td>中关村标准化协会</td>\n      <td>项目助理</td>\n      <td>5-10k</td>\n    </tr>\n    <tr>\n      <th>1</th>\n      <td>北京-海淀区</td>\n      <td>1-49人</td>\n      <td>非营利组织</td>\n      <td>中关村标准化协会</td>\n      <td>项目管培生</td>\n      <td>薪资面议</td>\n    </tr>\n    <tr>\n      <th>10</th>\n      <td>北京-海淀区</td>\n      <td>100-499人</td>\n      <td>科技金融</td>\n      <td>一心向上</td>\n      <td>产品运营经理——股权激励SaaS产品</td>\n      <td>8-10k·13薪</td>\n    </tr>\n    <tr>\n      <th>11</th>\n      <td>北京-海淀区</td>\n      <td>10000人以上</td>\n      <td>互联网</td>\n      <td>Baidu</td>\n      <td>AIGC产品运营(J59073)</td>\n      <td>25-50k·16薪</td>\n    </tr>\n    <tr>\n      <th>15</th>\n      <td>北京-海淀区</td>\n      <td>10000人以上</td>\n      <td>培训服务</td>\n      <td>北京世纪好未来教育科技有限公司</td>\n      <td>产品运营实习生</td>\n      <td>3-5k</td>\n    </tr>\n    <tr>\n      <th>...</th>\n      <td>...</td>\n      <td>...</td>\n      <td>...</td>\n      <td>...</td>\n      <td>...</td>\n      <td>...</td>\n    </tr>\n    <tr>\n      <th>373</th>\n      <td>北京-海淀区</td>\n      <td>100-499人</td>\n      <td>科技推广服务</td>\n      <td>光谷动力科技</td>\n      <td>HTML5</td>\n      <td>12-16k·13薪</td>\n    </tr>\n    <tr>\n      <th>374</th>\n      <td>北京-海淀区</td>\n      <td>1-49人</td>\n      <td>计算机软件</td>\n      <td>北京企悦惠科技发展有限公司</td>\n      <td>内容运营实习生（幼教）</td>\n      <td>2-5k</td>\n    </tr>\n    <tr>\n      <th>381</th>\n      <td>北京-海淀区</td>\n      <td>5000-10000人</td>\n      <td>电子商务</td>\n      <td>去哪儿</td>\n      <td>搜索推荐策略产品经理 (MJ005771)</td>\n      <td>25-40k·16薪</td>\n    </tr>\n    <tr>\n      <th>384</th>\n      <td>北京-海淀区</td>\n      <td>100-499人</td>\n      <td>专业技术服务</td>\n      <td>都美(北京)品牌管理有限公司</td>\n      <td>电商运营助理</td>\n      <td>7-10k</td>\n    </tr>\n    <tr>\n      <th>386</th>\n      <td>北京-海淀区</td>\n      <td>1-49人</td>\n      <td>批发/零售</td>\n      <td>北京祉君商贸有限公司</td>\n      <td>电商运营</td>\n      <td>8-11k</td>\n    </tr>\n  </tbody>\n</table>\n<p>76 rows × 6 columns</p>\n</div>"
     },
     "execution_count": 10,
     "metadata": {},
     "output_type": "execute_result"
    }
   ],
   "source": [
    "df1 = df_beijing[(df_beijing['地区'] == list_dq[0])]\n",
    "df1"
   ],
   "metadata": {
    "collapsed": false
   }
  },
  {
   "cell_type": "code",
   "execution_count": 11,
   "outputs": [
    {
     "data": {
      "text/plain": "8"
     },
     "execution_count": 11,
     "metadata": {},
     "output_type": "execute_result"
    }
   ],
   "source": [
    "len(set(df1['公司规模']))"
   ],
   "metadata": {
    "collapsed": false
   }
  },
  {
   "cell_type": "code",
   "execution_count": 12,
   "outputs": [
    {
     "data": {
      "text/plain": "['1-49人',\n '100-499人',\n '1000-2000人',\n '10000人以上',\n '2000-5000人',\n '50-99人',\n '500-999人',\n '5000-10000人']"
     },
     "execution_count": 12,
     "metadata": {},
     "output_type": "execute_result"
    }
   ],
   "source": [
    "b = len(set(df1['公司规模']))\n",
    "list_sca = list(set(df1['公司规模']))\n",
    "list_sca = sorted(list_sca)\n",
    "list_sca"
   ],
   "metadata": {
    "collapsed": false
   }
  },
  {
   "cell_type": "code",
   "execution_count": 13,
   "outputs": [
    {
     "data": {
      "text/plain": "         地区      公司规模      公司行业             公司名称                     岗位名称  \\\n11   北京-海淀区  10000人以上       互联网            Baidu         AIGC产品运营(J59073)   \n15   北京-海淀区  10000人以上      培训服务  北京世纪好未来教育科技有限公司                  产品运营实习生   \n18   北京-海淀区  10000人以上       互联网            Baidu                  产品运营实习生   \n19   北京-海淀区  10000人以上   生活服务O2O   贝壳找房(北京)科技有限公司                   海外产品运营   \n21   北京-海淀区  10000人以上       互联网             字节跳动         商业化产品运营-飞书People   \n26   北京-海淀区  10000人以上  房地产租赁/中介             链家地产                     产品运营   \n28   北京-海淀区  10000人以上       互联网             字节跳动                  产品运营实习生   \n29   北京-海淀区  10000人以上       互联网             软通动力                     产品运营   \n32   北京-海淀区  10000人以上     计算机软件       百度(中国)有限公司                  产品运营实习生   \n39   北京-海淀区  10000人以上     计算机软件       百度(中国)有限公司                  产品运营实习生   \n44   北京-海淀区  10000人以上   生活服务O2O     北京顺丰同城科技有限公司                  产品运营实习生   \n56   北京-海淀区  10000人以上       互联网            Baidu  知道产品部_用户产品运营实习生(J66018)   \n65   北京-海淀区  10000人以上     计算机软件         抖音视界有限公司        国际化产品创作者运营实习生(巴西)   \n90   北京-海淀区  10000人以上     计算机软件     用友网络科技股份有限公司                 客户成功运营顾问   \n91   北京-海淀区  10000人以上   在线社交/媒体     北京抖音信息服务有限公司                    交互设计师   \n112  北京-海淀区  10000人以上       互联网             字节跳动      企业效能顾问（生态伙伴管理方向）-飞书   \n122  北京-海淀区  10000人以上       互联网            Baidu    应用产品业务运营部_PMO(J54274)   \n129  北京-海淀区  10000人以上       互联网             网易集团                  资深SEO优化   \n138  北京-海淀区  10000人以上       互联网             字节跳动          飞书企业效能顾问-业务效能方向   \n166  北京-海淀区  10000人以上       互联网             字节跳动         零售行业解决方案实习生-火山引擎   \n171  北京-海淀区  10000人以上       互联网               快手                HR数据分析实习生   \n203  北京-海淀区  10000人以上   在线社交/媒体           百度时代网络                业务监察部-实习生   \n215  北京-海淀区  10000人以上      通信设备               华为                  软件开发工程师   \n216  北京-海淀区  10000人以上      通信设备               华为                 大数据开发工程师   \n217  北京-海淀区  10000人以上     计算机软件      华为云计算技术有限公司                  软件开发工程师   \n245  北京-海淀区  10000人以上   在线社交/媒体     北京抖音信息服务有限公司                     产品经理   \n268  北京-海淀区  10000人以上     计算机软件       百度(中国)有限公司      百度AI开放平台-智能创作-产品实习生   \n334  北京-海淀区  10000人以上       互联网               小米                     运营专员   \n369  北京-海淀区  10000人以上       互联网             软通动力          亚运会体育热点实习（外派百度）   \n371  北京-海淀区  10000人以上   在线社交/媒体     北京抖音信息服务有限公司             数据安全专家、资深工程师   \n\n             工资  \n11   25-50k·16薪  \n15         3-5k  \n18         3-4k  \n19   12-18k·14薪  \n21   25-50k·15薪  \n26       12-18k  \n28         2-4k  \n29         7-8k  \n32         2-3k  \n39         2-3k  \n44         3-6k  \n56         3-6k  \n65         3-4k  \n90         3-4k  \n91       20-40k  \n112  30-60k·15薪  \n122  25-40k·16薪  \n129  20-40k·16薪  \n138  25-55k·15薪  \n166        3-4k  \n171        3-5k  \n203        3-5k  \n215      20-30k  \n216      20-40k  \n217      20-40k  \n245  18-25k·18薪  \n268        4-5k  \n334       8-12k  \n369        3-4k  \n371  25-50k·15薪  ",
      "text/html": "<div>\n<style scoped>\n    .dataframe tbody tr th:only-of-type {\n        vertical-align: middle;\n    }\n\n    .dataframe tbody tr th {\n        vertical-align: top;\n    }\n\n    .dataframe thead th {\n        text-align: right;\n    }\n</style>\n<table border=\"1\" class=\"dataframe\">\n  <thead>\n    <tr style=\"text-align: right;\">\n      <th></th>\n      <th>地区</th>\n      <th>公司规模</th>\n      <th>公司行业</th>\n      <th>公司名称</th>\n      <th>岗位名称</th>\n      <th>工资</th>\n    </tr>\n  </thead>\n  <tbody>\n    <tr>\n      <th>11</th>\n      <td>北京-海淀区</td>\n      <td>10000人以上</td>\n      <td>互联网</td>\n      <td>Baidu</td>\n      <td>AIGC产品运营(J59073)</td>\n      <td>25-50k·16薪</td>\n    </tr>\n    <tr>\n      <th>15</th>\n      <td>北京-海淀区</td>\n      <td>10000人以上</td>\n      <td>培训服务</td>\n      <td>北京世纪好未来教育科技有限公司</td>\n      <td>产品运营实习生</td>\n      <td>3-5k</td>\n    </tr>\n    <tr>\n      <th>18</th>\n      <td>北京-海淀区</td>\n      <td>10000人以上</td>\n      <td>互联网</td>\n      <td>Baidu</td>\n      <td>产品运营实习生</td>\n      <td>3-4k</td>\n    </tr>\n    <tr>\n      <th>19</th>\n      <td>北京-海淀区</td>\n      <td>10000人以上</td>\n      <td>生活服务O2O</td>\n      <td>贝壳找房(北京)科技有限公司</td>\n      <td>海外产品运营</td>\n      <td>12-18k·14薪</td>\n    </tr>\n    <tr>\n      <th>21</th>\n      <td>北京-海淀区</td>\n      <td>10000人以上</td>\n      <td>互联网</td>\n      <td>字节跳动</td>\n      <td>商业化产品运营-飞书People</td>\n      <td>25-50k·15薪</td>\n    </tr>\n    <tr>\n      <th>26</th>\n      <td>北京-海淀区</td>\n      <td>10000人以上</td>\n      <td>房地产租赁/中介</td>\n      <td>链家地产</td>\n      <td>产品运营</td>\n      <td>12-18k</td>\n    </tr>\n    <tr>\n      <th>28</th>\n      <td>北京-海淀区</td>\n      <td>10000人以上</td>\n      <td>互联网</td>\n      <td>字节跳动</td>\n      <td>产品运营实习生</td>\n      <td>2-4k</td>\n    </tr>\n    <tr>\n      <th>29</th>\n      <td>北京-海淀区</td>\n      <td>10000人以上</td>\n      <td>互联网</td>\n      <td>软通动力</td>\n      <td>产品运营</td>\n      <td>7-8k</td>\n    </tr>\n    <tr>\n      <th>32</th>\n      <td>北京-海淀区</td>\n      <td>10000人以上</td>\n      <td>计算机软件</td>\n      <td>百度(中国)有限公司</td>\n      <td>产品运营实习生</td>\n      <td>2-3k</td>\n    </tr>\n    <tr>\n      <th>39</th>\n      <td>北京-海淀区</td>\n      <td>10000人以上</td>\n      <td>计算机软件</td>\n      <td>百度(中国)有限公司</td>\n      <td>产品运营实习生</td>\n      <td>2-3k</td>\n    </tr>\n    <tr>\n      <th>44</th>\n      <td>北京-海淀区</td>\n      <td>10000人以上</td>\n      <td>生活服务O2O</td>\n      <td>北京顺丰同城科技有限公司</td>\n      <td>产品运营实习生</td>\n      <td>3-6k</td>\n    </tr>\n    <tr>\n      <th>56</th>\n      <td>北京-海淀区</td>\n      <td>10000人以上</td>\n      <td>互联网</td>\n      <td>Baidu</td>\n      <td>知道产品部_用户产品运营实习生(J66018)</td>\n      <td>3-6k</td>\n    </tr>\n    <tr>\n      <th>65</th>\n      <td>北京-海淀区</td>\n      <td>10000人以上</td>\n      <td>计算机软件</td>\n      <td>抖音视界有限公司</td>\n      <td>国际化产品创作者运营实习生(巴西)</td>\n      <td>3-4k</td>\n    </tr>\n    <tr>\n      <th>90</th>\n      <td>北京-海淀区</td>\n      <td>10000人以上</td>\n      <td>计算机软件</td>\n      <td>用友网络科技股份有限公司</td>\n      <td>客户成功运营顾问</td>\n      <td>3-4k</td>\n    </tr>\n    <tr>\n      <th>91</th>\n      <td>北京-海淀区</td>\n      <td>10000人以上</td>\n      <td>在线社交/媒体</td>\n      <td>北京抖音信息服务有限公司</td>\n      <td>交互设计师</td>\n      <td>20-40k</td>\n    </tr>\n    <tr>\n      <th>112</th>\n      <td>北京-海淀区</td>\n      <td>10000人以上</td>\n      <td>互联网</td>\n      <td>字节跳动</td>\n      <td>企业效能顾问（生态伙伴管理方向）-飞书</td>\n      <td>30-60k·15薪</td>\n    </tr>\n    <tr>\n      <th>122</th>\n      <td>北京-海淀区</td>\n      <td>10000人以上</td>\n      <td>互联网</td>\n      <td>Baidu</td>\n      <td>应用产品业务运营部_PMO(J54274)</td>\n      <td>25-40k·16薪</td>\n    </tr>\n    <tr>\n      <th>129</th>\n      <td>北京-海淀区</td>\n      <td>10000人以上</td>\n      <td>互联网</td>\n      <td>网易集团</td>\n      <td>资深SEO优化</td>\n      <td>20-40k·16薪</td>\n    </tr>\n    <tr>\n      <th>138</th>\n      <td>北京-海淀区</td>\n      <td>10000人以上</td>\n      <td>互联网</td>\n      <td>字节跳动</td>\n      <td>飞书企业效能顾问-业务效能方向</td>\n      <td>25-55k·15薪</td>\n    </tr>\n    <tr>\n      <th>166</th>\n      <td>北京-海淀区</td>\n      <td>10000人以上</td>\n      <td>互联网</td>\n      <td>字节跳动</td>\n      <td>零售行业解决方案实习生-火山引擎</td>\n      <td>3-4k</td>\n    </tr>\n    <tr>\n      <th>171</th>\n      <td>北京-海淀区</td>\n      <td>10000人以上</td>\n      <td>互联网</td>\n      <td>快手</td>\n      <td>HR数据分析实习生</td>\n      <td>3-5k</td>\n    </tr>\n    <tr>\n      <th>203</th>\n      <td>北京-海淀区</td>\n      <td>10000人以上</td>\n      <td>在线社交/媒体</td>\n      <td>百度时代网络</td>\n      <td>业务监察部-实习生</td>\n      <td>3-5k</td>\n    </tr>\n    <tr>\n      <th>215</th>\n      <td>北京-海淀区</td>\n      <td>10000人以上</td>\n      <td>通信设备</td>\n      <td>华为</td>\n      <td>软件开发工程师</td>\n      <td>20-30k</td>\n    </tr>\n    <tr>\n      <th>216</th>\n      <td>北京-海淀区</td>\n      <td>10000人以上</td>\n      <td>通信设备</td>\n      <td>华为</td>\n      <td>大数据开发工程师</td>\n      <td>20-40k</td>\n    </tr>\n    <tr>\n      <th>217</th>\n      <td>北京-海淀区</td>\n      <td>10000人以上</td>\n      <td>计算机软件</td>\n      <td>华为云计算技术有限公司</td>\n      <td>软件开发工程师</td>\n      <td>20-40k</td>\n    </tr>\n    <tr>\n      <th>245</th>\n      <td>北京-海淀区</td>\n      <td>10000人以上</td>\n      <td>在线社交/媒体</td>\n      <td>北京抖音信息服务有限公司</td>\n      <td>产品经理</td>\n      <td>18-25k·18薪</td>\n    </tr>\n    <tr>\n      <th>268</th>\n      <td>北京-海淀区</td>\n      <td>10000人以上</td>\n      <td>计算机软件</td>\n      <td>百度(中国)有限公司</td>\n      <td>百度AI开放平台-智能创作-产品实习生</td>\n      <td>4-5k</td>\n    </tr>\n    <tr>\n      <th>334</th>\n      <td>北京-海淀区</td>\n      <td>10000人以上</td>\n      <td>互联网</td>\n      <td>小米</td>\n      <td>运营专员</td>\n      <td>8-12k</td>\n    </tr>\n    <tr>\n      <th>369</th>\n      <td>北京-海淀区</td>\n      <td>10000人以上</td>\n      <td>互联网</td>\n      <td>软通动力</td>\n      <td>亚运会体育热点实习（外派百度）</td>\n      <td>3-4k</td>\n    </tr>\n    <tr>\n      <th>371</th>\n      <td>北京-海淀区</td>\n      <td>10000人以上</td>\n      <td>在线社交/媒体</td>\n      <td>北京抖音信息服务有限公司</td>\n      <td>数据安全专家、资深工程师</td>\n      <td>25-50k·15薪</td>\n    </tr>\n  </tbody>\n</table>\n</div>"
     },
     "execution_count": 13,
     "metadata": {},
     "output_type": "execute_result"
    }
   ],
   "source": [
    "df2 = df_beijing[(df_beijing['地区'] == list_dq[0]) & (df_beijing['公司规模'] == list_sca[3])]\n",
    "df2"
   ],
   "metadata": {
    "collapsed": false
   }
  },
  {
   "cell_type": "code",
   "execution_count": 14,
   "outputs": [
    {
     "data": {
      "text/plain": "['互联网', '在线社交/媒体', '培训服务', '房地产租赁/中介', '生活服务O2O', '计算机软件', '通信设备']"
     },
     "execution_count": 14,
     "metadata": {},
     "output_type": "execute_result"
    }
   ],
   "source": [
    "c = len(set(df2['公司行业']))\n",
    "list_indu = list(set(df2['公司行业']))\n",
    "list_indu = sorted(list_indu)\n",
    "list_indu"
   ],
   "metadata": {
    "collapsed": false
   }
  },
  {
   "cell_type": "code",
   "execution_count": 15,
   "outputs": [
    {
     "data": {
      "text/plain": "Empty DataFrame\nColumns: [地区, 公司规模, 公司行业, 公司名称, 岗位名称, 工资]\nIndex: []",
      "text/html": "<div>\n<style scoped>\n    .dataframe tbody tr th:only-of-type {\n        vertical-align: middle;\n    }\n\n    .dataframe tbody tr th {\n        vertical-align: top;\n    }\n\n    .dataframe thead th {\n        text-align: right;\n    }\n</style>\n<table border=\"1\" class=\"dataframe\">\n  <thead>\n    <tr style=\"text-align: right;\">\n      <th></th>\n      <th>地区</th>\n      <th>公司规模</th>\n      <th>公司行业</th>\n      <th>公司名称</th>\n      <th>岗位名称</th>\n      <th>工资</th>\n    </tr>\n  </thead>\n  <tbody>\n  </tbody>\n</table>\n</div>"
     },
     "execution_count": 15,
     "metadata": {},
     "output_type": "execute_result"
    }
   ],
   "source": [
    "df3 = df_beijing[(df_beijing['地区'] == list_dq[0]) & (df_beijing['公司规模'] == list_sca[0]) & (df_beijing['公司行业'] == list_indu[0])]\n",
    "df3"
   ],
   "metadata": {
    "collapsed": false
   }
  },
  {
   "cell_type": "code",
   "execution_count": 16,
   "outputs": [
    {
     "data": {
      "text/plain": "[]"
     },
     "execution_count": 16,
     "metadata": {},
     "output_type": "execute_result"
    }
   ],
   "source": [
    "d = len(set(df3['公司名称']))\n",
    "list_name = list(set(df3['公司名称']))\n",
    "list_name = sorted(list_name)\n",
    "list_name"
   ],
   "metadata": {
    "collapsed": false
   }
  },
  {
   "cell_type": "code",
   "execution_count": 17,
   "outputs": [
    {
     "ename": "IndexError",
     "evalue": "list index out of range",
     "output_type": "error",
     "traceback": [
      "\u001B[1;31m---------------------------------------------------------------------------\u001B[0m",
      "\u001B[1;31mIndexError\u001B[0m                                Traceback (most recent call last)",
      "Cell \u001B[1;32mIn[17], line 1\u001B[0m\n\u001B[1;32m----> 1\u001B[0m df4 \u001B[38;5;241m=\u001B[39m df_beijing[(df_beijing[\u001B[38;5;124m'\u001B[39m\u001B[38;5;124m地区\u001B[39m\u001B[38;5;124m'\u001B[39m] \u001B[38;5;241m==\u001B[39m list_dq[\u001B[38;5;241m0\u001B[39m]) \u001B[38;5;241m&\u001B[39m (df_beijing[\u001B[38;5;124m'\u001B[39m\u001B[38;5;124m公司规模\u001B[39m\u001B[38;5;124m'\u001B[39m] \u001B[38;5;241m==\u001B[39m list_sca[\u001B[38;5;241m0\u001B[39m]) \u001B[38;5;241m&\u001B[39m (df_beijing[\u001B[38;5;124m'\u001B[39m\u001B[38;5;124m公司行业\u001B[39m\u001B[38;5;124m'\u001B[39m] \u001B[38;5;241m==\u001B[39m list_indu[\u001B[38;5;241m0\u001B[39m]) \u001B[38;5;241m&\u001B[39m (df_beijing[\u001B[38;5;124m'\u001B[39m\u001B[38;5;124m公司名称\u001B[39m\u001B[38;5;124m'\u001B[39m] \u001B[38;5;241m==\u001B[39m \u001B[43mlist_name\u001B[49m\u001B[43m[\u001B[49m\u001B[38;5;241;43m0\u001B[39;49m\u001B[43m]\u001B[49m)]\n\u001B[0;32m      2\u001B[0m df4\n",
      "\u001B[1;31mIndexError\u001B[0m: list index out of range"
     ]
    }
   ],
   "source": [
    "df4 = df_beijing[(df_beijing['地区'] == list_dq[0]) & (df_beijing['公司规模'] == list_sca[0]) & (df_beijing['公司行业'] == list_indu[0]) & (df_beijing['公司名称'] == list_name[0])]\n",
    "df4"
   ],
   "metadata": {
    "collapsed": false
   }
  },
  {
   "cell_type": "code",
   "execution_count": 18,
   "outputs": [
    {
     "ename": "NameError",
     "evalue": "name 'df4' is not defined",
     "output_type": "error",
     "traceback": [
      "\u001B[1;31m---------------------------------------------------------------------------\u001B[0m",
      "\u001B[1;31mNameError\u001B[0m                                 Traceback (most recent call last)",
      "Cell \u001B[1;32mIn[18], line 1\u001B[0m\n\u001B[1;32m----> 1\u001B[0m e \u001B[38;5;241m=\u001B[39m \u001B[38;5;28mlen\u001B[39m(\u001B[38;5;28mset\u001B[39m(\u001B[43mdf4\u001B[49m[\u001B[38;5;124m'\u001B[39m\u001B[38;5;124m岗位名称\u001B[39m\u001B[38;5;124m'\u001B[39m]))\n\u001B[0;32m      2\u001B[0m list_job_title \u001B[38;5;241m=\u001B[39m \u001B[38;5;28mlist\u001B[39m(\u001B[38;5;28mset\u001B[39m(df4[\u001B[38;5;124m'\u001B[39m\u001B[38;5;124m岗位名称\u001B[39m\u001B[38;5;124m'\u001B[39m]))\n\u001B[0;32m      3\u001B[0m list_job_title \u001B[38;5;241m=\u001B[39m \u001B[38;5;28msorted\u001B[39m(list_job_title)\n",
      "\u001B[1;31mNameError\u001B[0m: name 'df4' is not defined"
     ]
    }
   ],
   "source": [
    "e = len(set(df4['岗位名称']))\n",
    "list_job_title = list(set(df4['岗位名称']))\n",
    "list_job_title = sorted(list_job_title)\n",
    "list_job_title"
   ],
   "metadata": {
    "collapsed": false
   }
  },
  {
   "cell_type": "code",
   "execution_count": 19,
   "outputs": [
    {
     "ename": "IndexError",
     "evalue": "list index out of range",
     "output_type": "error",
     "traceback": [
      "\u001B[1;31m---------------------------------------------------------------------------\u001B[0m",
      "\u001B[1;31mIndexError\u001B[0m                                Traceback (most recent call last)",
      "Cell \u001B[1;32mIn[19], line 1\u001B[0m\n\u001B[1;32m----> 1\u001B[0m df5 \u001B[38;5;241m=\u001B[39m df_beijing[(df_beijing[\u001B[38;5;124m'\u001B[39m\u001B[38;5;124m地区\u001B[39m\u001B[38;5;124m'\u001B[39m] \u001B[38;5;241m==\u001B[39m list_dq[\u001B[38;5;241m0\u001B[39m]) \u001B[38;5;241m&\u001B[39m (df_beijing[\u001B[38;5;124m'\u001B[39m\u001B[38;5;124m公司规模\u001B[39m\u001B[38;5;124m'\u001B[39m] \u001B[38;5;241m==\u001B[39m list_sca[\u001B[38;5;241m0\u001B[39m]) \u001B[38;5;241m&\u001B[39m (df_beijing[\u001B[38;5;124m'\u001B[39m\u001B[38;5;124m公司行业\u001B[39m\u001B[38;5;124m'\u001B[39m] \u001B[38;5;241m==\u001B[39m list_indu[\u001B[38;5;241m0\u001B[39m]) \u001B[38;5;241m&\u001B[39m (df_beijing[\u001B[38;5;124m'\u001B[39m\u001B[38;5;124m公司名称\u001B[39m\u001B[38;5;124m'\u001B[39m] \u001B[38;5;241m==\u001B[39m \u001B[43mlist_name\u001B[49m\u001B[43m[\u001B[49m\u001B[38;5;241;43m0\u001B[39;49m\u001B[43m]\u001B[49m) \u001B[38;5;241m&\u001B[39m (df_beijing[\u001B[38;5;124m'\u001B[39m\u001B[38;5;124m岗位名称\u001B[39m\u001B[38;5;124m'\u001B[39m] \u001B[38;5;241m==\u001B[39m list_job_title[\u001B[38;5;241m0\u001B[39m])]\n\u001B[0;32m      2\u001B[0m df5\n",
      "\u001B[1;31mIndexError\u001B[0m: list index out of range"
     ]
    }
   ],
   "source": [
    "df5 = df_beijing[(df_beijing['地区'] == list_dq[0]) & (df_beijing['公司规模'] == list_sca[0]) & (df_beijing['公司行业'] == list_indu[0]) & (df_beijing['公司名称'] == list_name[0]) & (df_beijing['岗位名称'] == list_job_title[0])]\n",
    "df5"
   ],
   "metadata": {
    "collapsed": false
   }
  },
  {
   "cell_type": "code",
   "execution_count": 20,
   "outputs": [
    {
     "ename": "NameError",
     "evalue": "name 'df5' is not defined",
     "output_type": "error",
     "traceback": [
      "\u001B[1;31m---------------------------------------------------------------------------\u001B[0m",
      "\u001B[1;31mNameError\u001B[0m                                 Traceback (most recent call last)",
      "Cell \u001B[1;32mIn[20], line 1\u001B[0m\n\u001B[1;32m----> 1\u001B[0m f \u001B[38;5;241m=\u001B[39m \u001B[38;5;28mlen\u001B[39m(\u001B[38;5;28mset\u001B[39m(\u001B[43mdf5\u001B[49m[\u001B[38;5;124m'\u001B[39m\u001B[38;5;124m工资\u001B[39m\u001B[38;5;124m'\u001B[39m]))\n\u001B[0;32m      2\u001B[0m list_job_salary \u001B[38;5;241m=\u001B[39m \u001B[38;5;28mlist\u001B[39m(\u001B[38;5;28mset\u001B[39m(df5[\u001B[38;5;124m'\u001B[39m\u001B[38;5;124m工资\u001B[39m\u001B[38;5;124m'\u001B[39m]))\n\u001B[0;32m      3\u001B[0m list_job_salary \u001B[38;5;241m=\u001B[39m \u001B[38;5;28msorted\u001B[39m(list_job_salary)\n",
      "\u001B[1;31mNameError\u001B[0m: name 'df5' is not defined"
     ]
    }
   ],
   "source": [
    "f = len(set(df5['工资']))\n",
    "list_job_salary = list(set(df5['工资']))\n",
    "list_job_salary = sorted(list_job_salary)\n",
    "list_job_salary"
   ],
   "metadata": {
    "collapsed": false
   }
  },
  {
   "cell_type": "code",
   "execution_count": 71,
   "outputs": [
    {
     "data": {
      "text/plain": "         地区   公司规模   公司行业  公司名称   岗位名称      工资\n382  北京-西城区  1-49人  计算机软件  利玛软件  大客户销售  10-25k",
      "text/html": "<div>\n<style scoped>\n    .dataframe tbody tr th:only-of-type {\n        vertical-align: middle;\n    }\n\n    .dataframe tbody tr th {\n        vertical-align: top;\n    }\n\n    .dataframe thead th {\n        text-align: right;\n    }\n</style>\n<table border=\"1\" class=\"dataframe\">\n  <thead>\n    <tr style=\"text-align: right;\">\n      <th></th>\n      <th>地区</th>\n      <th>公司规模</th>\n      <th>公司行业</th>\n      <th>公司名称</th>\n      <th>岗位名称</th>\n      <th>工资</th>\n    </tr>\n  </thead>\n  <tbody>\n    <tr>\n      <th>382</th>\n      <td>北京-西城区</td>\n      <td>1-49人</td>\n      <td>计算机软件</td>\n      <td>利玛软件</td>\n      <td>大客户销售</td>\n      <td>10-25k</td>\n    </tr>\n  </tbody>\n</table>\n</div>"
     },
     "execution_count": 71,
     "metadata": {},
     "output_type": "execute_result"
    }
   ],
   "source": [
    "df6 = df_beijing[(df_beijing['地区'] == list_dq[0]) & (df_beijing['公司规模'] == list_sca[0]) & (df_beijing['公司行业'] == list_indu[0]) & (df_beijing['公司名称'] == list_name[0]) & (df_beijing['岗位名称'] == list_job_title[0]) & (df_beijing['工资'] == list_job_salary[0])]\n",
    "df6"
   ],
   "metadata": {
    "collapsed": false
   }
  },
  {
   "cell_type": "code",
   "execution_count": 47,
   "outputs": [
    {
     "data": {
      "text/plain": "['1-49人',\n '50-99人',\n '10000人以上',\n '500-999人',\n '100-499人',\n '2000-5000人',\n '1000-2000人',\n '5000-10000人']"
     },
     "execution_count": 47,
     "metadata": {},
     "output_type": "execute_result"
    }
   ],
   "source": [
    "sorted(list(set(df_beijing[(df_beijing['地区'] == '北京-海淀区')]['公司规模'])),key=lambda x:len(x))"
   ],
   "metadata": {
    "collapsed": false
   }
  },
  {
   "cell_type": "code",
   "execution_count": 48,
   "outputs": [
    {
     "data": {
      "text/plain": "list"
     },
     "execution_count": 48,
     "metadata": {},
     "output_type": "execute_result"
    }
   ],
   "source": [
    "type(list(set(df_beijing[(df_beijing['地区'] == '北京-海淀区')]['公司规模'])))"
   ],
   "metadata": {
    "collapsed": false
   }
  },
  {
   "cell_type": "code",
   "execution_count": 42,
   "outputs": [
    {
     "ename": "AttributeError",
     "evalue": "'Series' object has no attribute 'sort'",
     "output_type": "error",
     "traceback": [
      "\u001B[1;31m---------------------------------------------------------------------------\u001B[0m",
      "\u001B[1;31mAttributeError\u001B[0m                            Traceback (most recent call last)",
      "Cell \u001B[1;32mIn[42], line 1\u001B[0m\n\u001B[1;32m----> 1\u001B[0m \u001B[43mdf_beijing\u001B[49m\u001B[43m[\u001B[49m\u001B[43m(\u001B[49m\u001B[43mdf_beijing\u001B[49m\u001B[43m[\u001B[49m\u001B[38;5;124;43m'\u001B[39;49m\u001B[38;5;124;43m地区\u001B[39;49m\u001B[38;5;124;43m'\u001B[39;49m\u001B[43m]\u001B[49m\u001B[43m \u001B[49m\u001B[38;5;241;43m==\u001B[39;49m\u001B[43m \u001B[49m\u001B[38;5;124;43m'\u001B[39;49m\u001B[38;5;124;43m北京-海淀区\u001B[39;49m\u001B[38;5;124;43m'\u001B[39;49m\u001B[43m)\u001B[49m\u001B[43m]\u001B[49m\u001B[43m[\u001B[49m\u001B[38;5;124;43m'\u001B[39;49m\u001B[38;5;124;43m公司规模\u001B[39;49m\u001B[38;5;124;43m'\u001B[39;49m\u001B[43m]\u001B[49m\u001B[38;5;241;43m.\u001B[39;49m\u001B[43msort\u001B[49m(key\u001B[38;5;241m=\u001B[39m\u001B[38;5;28;01mlambda\u001B[39;00m x: \u001B[38;5;28mlen\u001B[39m(x))\n",
      "File \u001B[1;32m~\\AppData\\Local\\Programs\\Python\\Python39\\lib\\site-packages\\pandas\\core\\generic.py:5902\u001B[0m, in \u001B[0;36mNDFrame.__getattr__\u001B[1;34m(self, name)\u001B[0m\n\u001B[0;32m   5895\u001B[0m \u001B[38;5;28;01mif\u001B[39;00m (\n\u001B[0;32m   5896\u001B[0m     name \u001B[38;5;129;01mnot\u001B[39;00m \u001B[38;5;129;01min\u001B[39;00m \u001B[38;5;28mself\u001B[39m\u001B[38;5;241m.\u001B[39m_internal_names_set\n\u001B[0;32m   5897\u001B[0m     \u001B[38;5;129;01mand\u001B[39;00m name \u001B[38;5;129;01mnot\u001B[39;00m \u001B[38;5;129;01min\u001B[39;00m \u001B[38;5;28mself\u001B[39m\u001B[38;5;241m.\u001B[39m_metadata\n\u001B[0;32m   5898\u001B[0m     \u001B[38;5;129;01mand\u001B[39;00m name \u001B[38;5;129;01mnot\u001B[39;00m \u001B[38;5;129;01min\u001B[39;00m \u001B[38;5;28mself\u001B[39m\u001B[38;5;241m.\u001B[39m_accessors\n\u001B[0;32m   5899\u001B[0m     \u001B[38;5;129;01mand\u001B[39;00m \u001B[38;5;28mself\u001B[39m\u001B[38;5;241m.\u001B[39m_info_axis\u001B[38;5;241m.\u001B[39m_can_hold_identifiers_and_holds_name(name)\n\u001B[0;32m   5900\u001B[0m ):\n\u001B[0;32m   5901\u001B[0m     \u001B[38;5;28;01mreturn\u001B[39;00m \u001B[38;5;28mself\u001B[39m[name]\n\u001B[1;32m-> 5902\u001B[0m \u001B[38;5;28;01mreturn\u001B[39;00m \u001B[38;5;28;43mobject\u001B[39;49m\u001B[38;5;241;43m.\u001B[39;49m\u001B[38;5;21;43m__getattribute__\u001B[39;49m\u001B[43m(\u001B[49m\u001B[38;5;28;43mself\u001B[39;49m\u001B[43m,\u001B[49m\u001B[43m \u001B[49m\u001B[43mname\u001B[49m\u001B[43m)\u001B[49m\n",
      "\u001B[1;31mAttributeError\u001B[0m: 'Series' object has no attribute 'sort'"
     ]
    }
   ],
   "source": [
    "df_beijing[(df_beijing['地区'] == '北京-海淀区')]['公司规模'].sort(key=lambda x: len(x))"
   ],
   "metadata": {
    "collapsed": false
   }
  },
  {
   "cell_type": "code",
   "execution_count": 45,
   "outputs": [],
   "source": [
    "def sort_scale(x):\n",
    "    pass_list = sorted(x,key=lambda z:len(z))\n",
    "    return pass_list"
   ],
   "metadata": {
    "collapsed": false
   }
  },
  {
   "cell_type": "code",
   "execution_count": 50,
   "outputs": [
    {
     "data": {
      "text/plain": "['1-49人',\n '100-499人',\n '1000-2000人',\n '10000人以上',\n '2000-5000人',\n '50-99人',\n '500-999人',\n '5000-10000人']"
     },
     "execution_count": 50,
     "metadata": {},
     "output_type": "execute_result"
    }
   ],
   "source": [
    "sorted(list(set(df_beijing[(df_beijing['地区'] == '北京-海淀区')]['公司规模'])))"
   ],
   "metadata": {
    "collapsed": false
   }
  },
  {
   "cell_type": "code",
   "execution_count": 75,
   "outputs": [],
   "source": [
    "had_list = ['1-49人',\n",
    "        '50-99人',\n",
    "        '100-499人',\n",
    "        '2000-5000人',\n",
    "        '10000人以上',\n",
    "        '5000-10000人'\n",
    "        '500-999人',\n",
    "        '1000-2000人',\n",
    "        ]"
   ],
   "metadata": {
    "collapsed": false
   }
  },
  {
   "cell_type": "code",
   "execution_count": 87,
   "outputs": [],
   "source": [
    "def solve_scal(x):\n",
    "    sort_list = ['1-49人',\n",
    "        '50-99人',\n",
    "        '100-499人',\n",
    "        '500-999人',\n",
    "        '1000-2000人',\n",
    "        '2000-5000人',\n",
    "        '10000人以上',\n",
    "        '5000-10000人'\n",
    "        ]\n",
    "\n",
    "    empty_list = []\n",
    "    new_list = []\n",
    "    for y in x:\n",
    "        if y == sort_list[0]:\n",
    "            empty_list.append(int(0))\n",
    "        elif y == sort_list[1]:\n",
    "            empty_list.append(int(1))\n",
    "        elif y == sort_list[2]:\n",
    "            empty_list.append(int(2))\n",
    "        elif y == sort_list[3]:\n",
    "            empty_list.append(int(3))\n",
    "        elif y == sort_list[4]:\n",
    "            empty_list.append(int(4))\n",
    "        elif y == sort_list[5]:\n",
    "            empty_list.append(int(5))\n",
    "        elif y == sort_list[6]:\n",
    "            empty_list.append(int(6))\n",
    "        elif y == sort_list[7]:\n",
    "            empty_list.append(int(7))\n",
    "    get_list = sorted(empty_list)\n",
    "    for i in range(len(get_list)):\n",
    "        new_list.append(sort_list[get_list[i]])\n",
    "    return  new_list"
   ],
   "metadata": {
    "collapsed": false
   }
  },
  {
   "cell_type": "code",
   "execution_count": 77,
   "outputs": [],
   "source": [
    "hha = solve_scal(had_list)"
   ],
   "metadata": {
    "collapsed": false
   }
  },
  {
   "cell_type": "code",
   "execution_count": 84,
   "outputs": [],
   "source": [],
   "metadata": {
    "collapsed": false
   }
  },
  {
   "cell_type": "code",
   "execution_count": 78,
   "outputs": [
    {
     "data": {
      "text/plain": "['1-49人', '50-99人', '100-499人', '1000-2000人', '2000-5000人', '10000人以上']"
     },
     "execution_count": 78,
     "metadata": {},
     "output_type": "execute_result"
    }
   ],
   "source": [
    "hha"
   ],
   "metadata": {
    "collapsed": false
   }
  },
  {
   "cell_type": "code",
   "execution_count": 72,
   "outputs": [],
   "source": [
    "new_list = []"
   ],
   "metadata": {
    "collapsed": false
   }
  },
  {
   "cell_type": "code",
   "execution_count": 73,
   "outputs": [],
   "source": [
    "sort_list = ['1-49人',\n",
    "        '50-99人',\n",
    "        '100-499人',\n",
    "        '500-999人',\n",
    "        '1000-2000人',\n",
    "        '2000-5000人',\n",
    "        '10000人以上',\n",
    "        '5000-10000人'\n",
    "        ]"
   ],
   "metadata": {
    "collapsed": false
   }
  },
  {
   "cell_type": "code",
   "execution_count": 74,
   "outputs": [
    {
     "data": {
      "text/plain": "['1-49人', '50-99人', '100-499人', '1000-2000人', '2000-5000人', '10000人以上']"
     },
     "execution_count": 74,
     "metadata": {},
     "output_type": "execute_result"
    }
   ],
   "source": [
    "for i in range(len(hha)):\n",
    "    new_list.append(sort_list[hha[i]])\n",
    "new_list"
   ],
   "metadata": {
    "collapsed": false
   }
  },
  {
   "cell_type": "code",
   "execution_count": 103,
   "outputs": [
    {
     "data": {
      "text/plain": "[{'name': '北京',\n  'children': [{'name': '北京-海淀区',\n    'children': [{'name': '公司规模:1-49人',\n      'children': [{'name': '公司行业:广播/影视/录音',\n        'children': [{'name': '公司名称:北京博雅甲睿文化发展有限公司',\n          'children': [{'name': '岗位名称:实习编辑',\n            'children': [{'name': '工资：2-4k'}]}]},\n         {'name': '公司名称:北京世纪高教图书有限公司',\n          'children': [{'name': '岗位名称:用户运营',\n            'children': [{'name': '工资：10-15k'}]}]}]},\n       {'name': '公司行业:科技金融',\n        'children': [{'name': '公司名称:Transfer easy',\n          'children': [{'name': '岗位名称:客户运营专员',\n            'children': [{'name': '工资：8-12k'}]}]}]},\n       {'name': '公司行业:航空/航天设备',\n        'children': [{'name': '公司名称:北京玮航科技有限公司',\n          'children': [{'name': '岗位名称:市场产品专员',\n            'children': [{'name': '工资：8-15k'}]}]}]},\n       {'name': '公司行业:批发/零售',\n        'children': [{'name': '公司名称:北京祉君商贸有限公司',\n          'children': [{'name': '岗位名称:电商运营',\n            'children': [{'name': '工资：8-11k'}]}]}]},\n       {'name': '公司行业:计算机软件',\n        'children': [{'name': '公司名称:北京爱语吧科技有限公司',\n          'children': [{'name': '岗位名称:英语编辑',\n            'children': [{'name': '工资：8-12k'}]}]},\n         {'name': '公司名称:北京企悦惠科技发展有限公司',\n          'children': [{'name': '岗位名称:内容运营实习生（幼教）',\n            'children': [{'name': '工资：2-5k'}]}]}]},\n       {'name': '公司行业:专业技术服务',\n        'children': [{'name': '公司名称:北京链鲸科技有限公司',\n          'children': [{'name': '岗位名称:海外运营经理',\n            'children': [{'name': '工资：20-50k'}]}]},\n         {'name': '公司名称:上海书品仓科技有限责任公司',\n          'children': [{'name': '岗位名称:新媒体运营',\n            'children': [{'name': '工资：4-7k'}]}]}]},\n       {'name': '公司行业:科技推广服务',\n        'children': [{'name': '公司名称:北京宠医点评科技有限公司',\n          'children': [{'name': '岗位名称:新媒体运营',\n            'children': [{'name': '工资：5-8k'}]}]}]},\n       {'name': '公司行业:医疗器械',\n        'children': [{'name': '公司名称:清源泰硕',\n          'children': [{'name': '岗位名称:仪器产品经理',\n            'children': [{'name': '工资：15-30k'}]}]}]},\n       {'name': '公司行业:其他教育培训',\n        'children': [{'name': '公司名称:北京润泽慧教育科技有限公司',\n          'children': [{'name': '岗位名称:业务拓展专员/助理',\n            'children': [{'name': '工资：5-8k'}]}]}]},\n       {'name': '公司行业:非营利组织',\n        'children': [{'name': '公司名称:中关村标准化协会',\n          'children': [{'name': '岗位名称:项目助理',\n            'children': [{'name': '工资：5-10k'}]},\n           {'name': '岗位名称:项目管培生', 'children': [{'name': '工资：薪资面议'}]}]}]},\n       {'name': '公司行业:培训服务',\n        'children': [{'name': '公司名称:北京国质联合检测技术研究院',\n          'children': [{'name': '岗位名称:课程销售',\n            'children': [{'name': '工资：5-10k'}]}]}]}]},\n     {'name': '公司规模:50-99人',\n      'children': [{'name': '公司行业:广播/影视/录音',\n        'children': [{'name': '公司名称:北京人教希望读者服务有限责任公司',\n          'children': [{'name': '岗位名称:产品运营专员',\n            'children': [{'name': '工资：10-15k'}]}]}]},\n       {'name': '公司行业:航空/航天设备',\n        'children': [{'name': '公司名称:北京航天创智科技有限公司',\n          'children': [{'name': '岗位名称:产 品 经 理',\n            'children': [{'name': '工资：8-24k'}]}]}]},\n       {'name': '公司行业:政府/公共事业',\n        'children': [{'name': '公司名称:佛山市南海区中城数字城市促进中心',\n          'children': [{'name': '岗位名称:线上运营经理',\n            'children': [{'name': '工资：8-11k'}]}]}]},\n       {'name': '公司行业:货运/物流/仓储',\n        'children': [{'name': '公司名称:骏安供应链科技有限公司',\n          'children': [{'name': '岗位名称:物流平台运营管理岗',\n            'children': [{'name': '工资：7-10k'}]}]}]},\n       {'name': '公司行业:培训服务',\n        'children': [{'name': '公司名称:北京学策科技有限公司',\n          'children': [{'name': '岗位名称:产品运营',\n            'children': [{'name': '工资：15-30k'}]}]}]}]},\n     {'name': '公司规模:100-499人',\n      'children': [{'name': '公司行业:科技金融',\n        'children': [{'name': '公司名称:一心向上',\n          'children': [{'name': '岗位名称:产品运营经理——股权激励SaaS产品',\n            'children': [{'name': '工资：8-10k·13薪'}]}]}]},\n       {'name': '公司行业:在线教育',\n        'children': [{'name': '公司名称:三节课',\n          'children': [{'name': '岗位名称:教学设计实习生 (MJ000027)',\n            'children': [{'name': '工资：3-5k'}]}]}]},\n       {'name': '公司行业:人工智能',\n        'children': [{'name': '公司名称:北京鹰瞳科技发展股份有限公司',\n          'children': [{'name': '岗位名称:产品经理-视光 (MJ000558)',\n            'children': [{'name': '工资：30-50k'}]}]}]},\n       {'name': '公司行业:专业技术服务',\n        'children': [{'name': '公司名称:都美(北京)品牌管理有限公司',\n          'children': [{'name': '岗位名称:电商运营助理',\n            'children': [{'name': '工资：7-10k'}]}]}]},\n       {'name': '公司行业:互联网',\n        'children': [{'name': '公司名称:巴别时代',\n          'children': [{'name': '岗位名称:海外运营总监',\n            'children': [{'name': '工资：25-40k'}]}]},\n         {'name': '公司名称:北京乐信圣文科技有限责任公司',\n          'children': [{'name': '岗位名称:内容运营实习生',\n            'children': [{'name': '工资：3-4k'}]}]},\n         {'name': '公司名称:北京清能互联科技有限公司',\n          'children': [{'name': '岗位名称:能源互联网产品工程师',\n            'children': [{'name': '工资：14-20k·13薪'}]}]}]},\n       {'name': '公司行业:环保',\n        'children': [{'name': '公司名称:守望地球(北京)环境科技有限公司',\n          'children': [{'name': '岗位名称:科考产品运营',\n            'children': [{'name': '工资：6-10k'}]}]}]},\n       {'name': '公司行业:科技推广服务',\n        'children': [{'name': '公司名称:光谷动力科技',\n          'children': [{'name': '岗位名称:HTML5',\n            'children': [{'name': '工资：12-16k·13薪'}]}]}]},\n       {'name': '公司行业:咨询服务',\n        'children': [{'name': '公司名称:深圳乐巢时代科技有限公司',\n          'children': [{'name': '岗位名称:BI工程师（14薪，全额社保）',\n            'children': [{'name': '工资：15-25k·14薪'}]}]}]}]},\n     {'name': '公司规模:500-999人',\n      'children': [{'name': '公司行业:互联网',\n        'children': [{'name': '公司名称:北京千里马网信科技有限公司',\n          'children': [{'name': '岗位名称:物业市拓经理',\n            'children': [{'name': '工资：10-15k'}]}]}]},\n       {'name': '公司行业:在线社交/媒体',\n        'children': [{'name': '公司名称:小川科技',\n          'children': [{'name': '岗位名称:Golang后台开发工程师',\n            'children': [{'name': '工资：30-60k·15薪'}]}]}]}]},\n     {'name': '公司规模:1000-2000人',\n      'children': [{'name': '公司行业:广播/影视/录音',\n        'children': [{'name': '公司名称:中国农业电影电视中心',\n          'children': [{'name': '岗位名称:产品运营实习生',\n            'children': [{'name': '工资：1-5k'}]}]}]}]},\n     {'name': '公司规模:2000-5000人',\n      'children': [{'name': '公司行业:IT服务',\n        'children': [{'name': '公司名称:北京易点淘网络技术有限公司',\n          'children': [{'name': '岗位名称:体验提升产品经理',\n            'children': [{'name': '工资：10-30k·13薪'}]}]}]},\n       {'name': '公司行业:计算机硬件',\n        'children': [{'name': '公司名称:中国信息通信研究院',\n          'children': [{'name': '岗位名称:工业互联网产业研究员',\n            'children': [{'name': '工资：14-24k'}]}]}]},\n       {'name': '公司行业:计算机软件',\n        'children': [{'name': '公司名称:北京北信源软件股份有限公司',\n          'children': [{'name': '岗位名称:管理培训生（运营管理）',\n            'children': [{'name': '工资：8-16k'}]}]}]},\n       {'name': '公司行业:新闻和出版业',\n        'children': [{'name': '公司名称:曼迪匹艾(北京)科技服务有限公司',\n          'children': [{'name': '岗位名称:项目助理（Scilit）',\n            'children': [{'name': '工资：14-17k'}]}]}]},\n       {'name': '公司行业:培训服务',\n        'children': [{'name': '公司名称:新东方前途',\n          'children': [{'name': '岗位名称:美本留学产品专员',\n            'children': [{'name': '工资：10-13k'}]}]}]},\n       {'name': '公司行业:酒店/民宿',\n        'children': [{'name': '公司名称:北京宏昆酒店集团',\n          'children': [{'name': '岗位名称:会员策略运营',\n            'children': [{'name': '工资：10-15k'}]},\n           {'name': '岗位名称:集团协议拓展', 'children': [{'name': '工资：10-15k'}]}]}]}]},\n     {'name': '公司规模:10000人以上',\n      'children': [{'name': '公司行业:在线社交/媒体',\n        'children': [{'name': '公司名称:北京抖音信息服务有限公司',\n          'children': [{'name': '岗位名称:数据安全专家、资深工程师',\n            'children': [{'name': '工资：25-50k·15薪'}]},\n           {'name': '岗位名称:产品经理', 'children': [{'name': '工资：18-25k·18薪'}]},\n           {'name': '岗位名称:交互设计师', 'children': [{'name': '工资：20-40k'}]}]},\n         {'name': '公司名称:百度时代网络',\n          'children': [{'name': '岗位名称:业务监察部-实习生',\n            'children': [{'name': '工资：3-5k'}]}]}]},\n       {'name': '公司行业:房地产租赁/中介',\n        'children': [{'name': '公司名称:链家地产',\n          'children': [{'name': '岗位名称:产品运营',\n            'children': [{'name': '工资：12-18k'}]}]}]},\n       {'name': '公司行业:计算机软件',\n        'children': [{'name': '公司名称:华为云计算技术有限公司',\n          'children': [{'name': '岗位名称:软件开发工程师',\n            'children': [{'name': '工资：20-40k'}]}]},\n         {'name': '公司名称:抖音视界有限公司',\n          'children': [{'name': '岗位名称:国际化产品创作者运营实习生(巴西)',\n            'children': [{'name': '工资：3-4k'}]}]},\n         {'name': '公司名称:百度(中国)有限公司',\n          'children': [{'name': '岗位名称:百度AI开放平台-智能创作-产品实习生',\n            'children': [{'name': '工资：4-5k'}]},\n           {'name': '岗位名称:产品运营实习生', 'children': [{'name': '工资：2-3k'}]}]},\n         {'name': '公司名称:用友网络科技股份有限公司',\n          'children': [{'name': '岗位名称:客户成功运营顾问',\n            'children': [{'name': '工资：3-4k'}]}]}]},\n       {'name': '公司行业:互联网',\n        'children': [{'name': '公司名称:快手',\n          'children': [{'name': '岗位名称:HR数据分析实习生',\n            'children': [{'name': '工资：3-5k'}]}]},\n         {'name': '公司名称:软通动力',\n          'children': [{'name': '岗位名称:亚运会体育热点实习（外派百度）',\n            'children': [{'name': '工资：3-4k'}]},\n           {'name': '岗位名称:产品运营', 'children': [{'name': '工资：7-8k'}]}]},\n         {'name': '公司名称:网易集团',\n          'children': [{'name': '岗位名称:资深SEO优化',\n            'children': [{'name': '工资：20-40k·16薪'}]}]},\n         {'name': '公司名称:小米',\n          'children': [{'name': '岗位名称:运营专员',\n            'children': [{'name': '工资：8-12k'}]}]},\n         {'name': '公司名称:Baidu',\n          'children': [{'name': '岗位名称:产品运营实习生',\n            'children': [{'name': '工资：3-4k'}]},\n           {'name': '岗位名称:知道产品部_用户产品运营实习生(J66018)',\n            'children': [{'name': '工资：3-6k'}]},\n           {'name': '岗位名称:AIGC产品运营(J59073)',\n            'children': [{'name': '工资：25-50k·16薪'}]},\n           {'name': '岗位名称:应用产品业务运营部_PMO(J54274)',\n            'children': [{'name': '工资：25-40k·16薪'}]}]},\n         {'name': '公司名称:字节跳动',\n          'children': [{'name': '岗位名称:飞书企业效能顾问-业务效能方向',\n            'children': [{'name': '工资：25-55k·15薪'}]},\n           {'name': '岗位名称:商业化产品运营-飞书People',\n            'children': [{'name': '工资：25-50k·15薪'}]},\n           {'name': '岗位名称:零售行业解决方案实习生-火山引擎',\n            'children': [{'name': '工资：3-4k'}]},\n           {'name': '岗位名称:产品运营实习生', 'children': [{'name': '工资：2-4k'}]},\n           {'name': '岗位名称:企业效能顾问（生态伙伴管理方向）-飞书',\n            'children': [{'name': '工资：30-60k·15薪'}]}]}]},\n       {'name': '公司行业:通信设备',\n        'children': [{'name': '公司名称:华为',\n          'children': [{'name': '岗位名称:软件开发工程师',\n            'children': [{'name': '工资：20-30k'}]},\n           {'name': '岗位名称:大数据开发工程师', 'children': [{'name': '工资：20-40k'}]}]}]},\n       {'name': '公司行业:生活服务O2O',\n        'children': [{'name': '公司名称:贝壳找房(北京)科技有限公司',\n          'children': [{'name': '岗位名称:海外产品运营',\n            'children': [{'name': '工资：12-18k·14薪'}]}]},\n         {'name': '公司名称:北京顺丰同城科技有限公司',\n          'children': [{'name': '岗位名称:产品运营实习生',\n            'children': [{'name': '工资：3-6k'}]}]}]},\n       {'name': '公司行业:培训服务',\n        'children': [{'name': '公司名称:北京世纪好未来教育科技有限公司',\n          'children': [{'name': '岗位名称:产品运营实习生',\n            'children': [{'name': '工资：3-5k'}]}]}]}]},\n     {'name': '公司规模:5000-10000人',\n      'children': [{'name': '公司行业:互联网',\n        'children': [{'name': '公司名称:德科信息',\n          'children': [{'name': '岗位名称:菲律宾翻译',\n            'children': [{'name': '工资：10-15k'}]}]}]},\n       {'name': '公司行业:电子商务',\n        'children': [{'name': '公司名称:去哪儿',\n          'children': [{'name': '岗位名称:搜索推荐策略产品经理 (MJ005771)',\n            'children': [{'name': '工资：25-40k·16薪'}]}]}]},\n       {'name': '公司行业:制药',\n        'children': [{'name': '公司名称:云南白药集团股份有限公司',\n          'children': [{'name': '岗位名称:数据分析专员',\n            'children': [{'name': '工资：8-12k·13薪'}]}]}]},\n       {'name': '公司行业:计算机软件',\n        'children': [{'name': '公司名称:视源股份',\n          'children': [{'name': '岗位名称:客户经理',\n            'children': [{'name': '工资：8-16k'}]}]}]}]}]},\n   {'name': '北京-顺义区',\n    'children': [{'name': '公司规模:1-49人',\n      'children': [{'name': '公司行业:互联网',\n        'children': [{'name': '公司名称:北京叁姐妹网络科技有限公司',\n          'children': [{'name': '岗位名称:抖音运营',\n            'children': [{'name': '工资：7-12k'}]}]}]},\n       {'name': '公司行业:农/林/牧/渔',\n        'children': [{'name': '公司名称:北京一景园林有限公司',\n          'children': [{'name': '岗位名称:新媒体运营专员',\n            'children': [{'name': '工资：5-8k'}]}]}]},\n       {'name': '公司行业:专业技术服务',\n        'children': [{'name': '公司名称:北京海丰特环境科技发展有限公司',\n          'children': [{'name': '岗位名称:网站编辑',\n            'children': [{'name': '工资：6-9k'}]}]}]}]},\n     {'name': '公司规模:100-499人',\n      'children': [{'name': '公司行业:科技推广服务',\n        'children': [{'name': '公司名称:光谷动力科技',\n          'children': [{'name': '岗位名称:HTML5',\n            'children': [{'name': '工资：9-16k·13薪'}]}]}]},\n       {'name': '公司行业:日化',\n        'children': [{'name': '公司名称:山东九鑫生物工程有限公司',\n          'children': [{'name': '岗位名称:信息流编导',\n            'children': [{'name': '工资：10-15k'}]}]}]}]}]},\n   {'name': '北京-朝阳区',\n    'children': [{'name': '公司规模:1-49人',\n      'children': [{'name': '公司行业:在线社交/媒体',\n        'children': [{'name': '公司名称:时代传浮',\n          'children': [{'name': '岗位名称:产品运营',\n            'children': [{'name': '工资：8-15k'}]}]}]},\n       {'name': '公司行业:人工智能',\n        'children': [{'name': '公司名称:赋范空间',\n          'children': [{'name': '岗位名称:新媒体运营',\n            'children': [{'name': '工资：8-15k'}]}]}]},\n       {'name': '公司行业:专业技术服务',\n        'children': [{'name': '公司名称:北京华创盈讯科技有限公司',\n          'children': [{'name': '岗位名称:财务BP',\n            'children': [{'name': '工资：8-14k·13薪'}]}]},\n         {'name': '公司名称:思梵私募基金管理(杭州)有限公司',\n          'children': [{'name': '岗位名称:基金行政运营助理',\n            'children': [{'name': '工资：5-8k'}]}]},\n         {'name': '公司名称:北京红豆树网络科技有限公司',\n          'children': [{'name': '岗位名称:产品经理',\n            'children': [{'name': '工资：10-15k'}]}]}]},\n       {'name': '公司行业:计算机软件',\n        'children': [{'name': '公司名称:北京一来电子商务有限公司',\n          'children': [{'name': '岗位名称:新媒体运营',\n            'children': [{'name': '工资：6-10k'}]}]},\n         {'name': '公司名称:苏州聊医聊信息科技有限公司',\n          'children': [{'name': '岗位名称:产品经理',\n            'children': [{'name': '工资：10-20k'}]}]}]},\n       {'name': '公司行业:互联网',\n        'children': [{'name': '公司名称:北京学力星球科技有限责任公司',\n          'children': [{'name': '岗位名称:纯文职客服',\n            'children': [{'name': '工资：6-8k'}]}]},\n         {'name': '公司名称:北京质云数据科技有限公司',\n          'children': [{'name': '岗位名称:新媒体编辑',\n            'children': [{'name': '工资：10-12k'}]}]}]},\n       {'name': '公司行业:电子商务',\n        'children': [{'name': '公司名称:启鸣梧桐(北京)科技有限公司',\n          'children': [{'name': '岗位名称:运营专员',\n            'children': [{'name': '工资：7-11k'}]}]}]},\n       {'name': '公司行业:广告/公关/会展',\n        'children': [{'name': '公司名称:是通科技(北京)有限公司',\n          'children': [{'name': '岗位名称:运营专员',\n            'children': [{'name': '工资：6-8k'}]}]}]}]},\n     {'name': '公司规模:50-99人',\n      'children': [{'name': '公司行业:航空/航天设备',\n        'children': [{'name': '公司名称:中国航空器拥有者及驾驶员协会',\n          'children': [{'name': '岗位名称:产品运营',\n            'children': [{'name': '工资：6-13k'}]}]}]},\n       {'name': '公司行业:批发/零售',\n        'children': [{'name': '公司名称:北京锐服信科技有限公司',\n          'children': [{'name': '岗位名称:售前工程师',\n            'children': [{'name': '工资：8-12k'}]}]}]},\n       {'name': '公司行业:云计算/大数据',\n        'children': [{'name': '公司名称:北京宏途创联科技有限公司',\n          'children': [{'name': '岗位名称:运营助理',\n            'children': [{'name': '工资：4-8k'}]}]}]},\n       {'name': '公司行业:互联网',\n        'children': [{'name': '公司名称:北京嘀果技术服务有限公司',\n          'children': [{'name': '岗位名称:英文产品运营',\n            'children': [{'name': '工资：11-16k'}]},\n           {'name': '岗位名称:英文编辑（产品运营方向）',\n            'children': [{'name': '工资：12-15k'}]}]},\n         {'name': '公司名称:半糖去冰科技(北京)有限公司',\n          'children': [{'name': '岗位名称:产品运营211/985应届生',\n            'children': [{'name': '工资：7-10k·15薪'}]}]}]},\n       {'name': '公司行业:新闻和出版业',\n        'children': [{'name': '公司名称:北京书香文雅图书文化有限公司',\n          'children': [{'name': '岗位名称:电子教育产品研发',\n            'children': [{'name': '工资：7-16k'}]}]}]},\n       {'name': '公司行业:电子商务',\n        'children': [{'name': '公司名称:集易行',\n          'children': [{'name': '岗位名称:产品运维兼运营工程师',\n            'children': [{'name': '工资：8-12k'}]}]}]},\n       {'name': '公司行业:广告/公关/会展',\n        'children': [{'name': '公司名称:北京格瑞广告传媒有限公司',\n          'children': [{'name': '岗位名称:直播场控',\n            'children': [{'name': '工资：7-10k'}]},\n           {'name': '岗位名称:直播中场控', 'children': [{'name': '工资：7-10k'}]}]}]},\n       {'name': '公司行业:环保',\n        'children': [{'name': '公司名称:山东辰扬环境科技有限公司',\n          'children': [{'name': '岗位名称:采购经理',\n            'children': [{'name': '工资：28-30k'}]}]}]},\n       {'name': '公司行业:美容/美发/保健',\n        'children': [{'name': '公司名称:颐康润养(北京)科技发展有限公司',\n          'children': [{'name': '岗位名称:电话销售招商经理',\n            'children': [{'name': '工资：10-15k'}]},\n           {'name': '岗位名称:电话销售', 'children': [{'name': '工资：8-13k'}]}]}]},\n       {'name': '公司行业:基金/证券/期货',\n        'children': [{'name': '公司名称:长信恒业家族办公室',\n          'children': [{'name': '岗位名称:市场运营（产品经理）',\n            'children': [{'name': '工资：8-12k'}]}]},\n         {'name': '公司名称:明世公司',\n          'children': [{'name': '岗位名称:金融科技研发工程师',\n            'children': [{'name': '工资：20-40k·14薪'}]}]}]}]},\n     {'name': '公司规模:100-499人',\n      'children': [{'name': '公司行业:房地产租赁/中介',\n        'children': [{'name': '公司名称:京东方空间数智',\n          'children': [{'name': '岗位名称:财务专员',\n            'children': [{'name': '工资：8-10k·14薪'}]}]}]},\n       {'name': '公司行业:批发/零售',\n        'children': [{'name': '公司名称:金溪县阿里兄弟电子商务有限公司',\n          'children': [{'name': '岗位名称:运营助理',\n            'children': [{'name': '工资：6-9k'}]}]}]},\n       {'name': '公司行业:人工智能',\n        'children': [{'name': '公司名称:一汽(北京)软件科技有限公司',\n          'children': [{'name': '岗位名称:智能座舱领域产品运营',\n            'children': [{'name': '工资：15-20k'}]}]}]},\n       {'name': '公司行业:计算机硬件',\n        'children': [{'name': '公司名称:中信科智联科技有限公司',\n          'children': [{'name': '岗位名称:产品战略市场经理（智能驾驶）',\n            'children': [{'name': '工资：2-3k·14薪'}]}]}]},\n       {'name': '公司行业:计算机软件',\n        'children': [{'name': '公司名称:上海睿沃信息科技有限公司',\n          'children': [{'name': '岗位名称:产品经理',\n            'children': [{'name': '工资：20-30k'}]}]}]},\n       {'name': '公司行业:互联网',\n        'children': [{'name': '公司名称:华夏恒生',\n          'children': [{'name': '岗位名称:运营实习生',\n            'children': [{'name': '工资：3-4k'}]}]},\n         {'name': '公司名称:上海尝享网络科技有限公司',\n          'children': [{'name': '岗位名称:高级JAVA工程师——委托',\n            'children': [{'name': '工资：薪资面议'}]}]},\n         {'name': '公司名称:北京乐城堡科技有限公司',\n          'children': [{'name': '岗位名称:主数值策划',\n            'children': [{'name': '工资：20-45k·13薪'}]}]},\n         {'name': '公司名称:北京牛客科技有限公司',\n          'children': [{'name': '岗位名称:产品实习生',\n            'children': [{'name': '工资：3-4k'}]}]}]},\n       {'name': '公司行业:专业技术服务',\n        'children': [{'name': '公司名称:北京瑞通领航科技有限公司',\n          'children': [{'name': '岗位名称:客服',\n            'children': [{'name': '工资：3-6k'}]}]}]},\n       {'name': '公司行业:旅游',\n        'children': [{'name': '公司名称:远海国际旅游集团',\n          'children': [{'name': '岗位名称:国际游学销售',\n            'children': [{'name': '工资：6-16k'}]}]}]},\n       {'name': '公司行业:互联网医疗',\n        'children': [{'name': '公司名称:好大夫在线',\n          'children': [{'name': '岗位名称:医学专员（底薪15-20K，16薪）J10974',\n            'children': [{'name': '工资：15-20k·16薪'}]},\n           {'name': '岗位名称:健康顾问（15-20K，16薪）J10974',\n            'children': [{'name': '工资：15-20k·16薪'}]},\n           {'name': '岗位名称:运营专员（10-20K，16薪）J10974',\n            'children': [{'name': '工资：11-20k·16薪'}]},\n           {'name': '岗位名称:好大夫-互联网医疗运营（限临床/预防/护理等医学专业）',\n            'children': [{'name': '工资：10-18k·16薪'}]}]}]},\n       {'name': '公司行业:银行',\n        'children': [{'name': '公司名称:东风汽车金融有限公司',\n          'children': [{'name': '岗位名称:数智化应用专员（应届毕业生）',\n            'children': [{'name': '工资：9-13k·13薪'}]}]}]},\n       {'name': '公司行业:科技推广服务',\n        'children': [{'name': '公司名称:光谷动力科技',\n          'children': [{'name': '岗位名称:HTML5',\n            'children': [{'name': '工资：7-15k·13薪'}]}]}]},\n       {'name': '公司行业:制药',\n        'children': [{'name': '公司名称:医药魔方',\n          'children': [{'name': '岗位名称:数据分析师（临床数据方向）',\n            'children': [{'name': '工资：10-20k·14薪'}]}]}]}]},\n     {'name': '公司规模:500-999人',\n      'children': [{'name': '公司行业:互联网',\n        'children': [{'name': '公司名称:北京蓝色光标数字传媒科技有限公司',\n          'children': [{'name': '岗位名称:广告运营经理',\n            'children': [{'name': '工资：20-35k'}]}]}]},\n       {'name': '公司行业:食品/饮料/酒水',\n        'children': [{'name': '公司名称:北京优品酷卖科技有限公司',\n          'children': [{'name': '岗位名称:高级采购经理',\n            'children': [{'name': '工资：10-15k'}]}]}]},\n       {'name': '公司行业:科技金融',\n        'children': [{'name': '公司名称:百融云创',\n          'children': [{'name': '岗位名称:数据分析实习生 (MJ001035)',\n            'children': [{'name': '工资：4-5k'}]}]}]},\n       {'name': '公司行业:保险',\n        'children': [{'name': '公司名称:中国人寿保险销售有限责任公司',\n          'children': [{'name': '岗位名称:后台核心系统团队-团队副职',\n            'children': [{'name': '工资：45-65k'}]}]}]}]},\n     {'name': '公司规模:1000-2000人',\n      'children': [{'name': '公司行业:基金/证券/期货',\n        'children': [{'name': '公司名称:中信期货',\n          'children': [{'name': '岗位名称:资产管理中心-业务二部-实习生G01053',\n            'children': [{'name': '工资：薪资面议'}]}]}]},\n       {'name': '公司行业:培训服务',\n        'children': [{'name': '公司名称:花香盛世国际体育',\n          'children': [{'name': '岗位名称:体育产品运营专员',\n            'children': [{'name': '工资：8-15k'}]}]}]}]},\n     {'name': '公司规模:2000-5000人',\n      'children': [{'name': '公司行业:医疗机构',\n        'children': [{'name': '公司名称:北京华熙海御科技有限公司',\n          'children': [{'name': '岗位名称:运营赋能助理(002268)',\n            'children': [{'name': '工资：7-9k'}]}]},\n         {'name': '公司名称:新世纪医疗',\n          'children': [{'name': '岗位名称:运营经理',\n            'children': [{'name': '工资：10-15k'}]}]}]},\n       {'name': '公司行业:服装/纺织/皮革',\n        'children': [{'name': '公司名称:朗姿股份有限公司',\n          'children': [{'name': '岗位名称:直播运营',\n            'children': [{'name': '工资：10-15k'}]}]}]}]},\n     {'name': '公司规模:10000人以上',\n      'children': [{'name': '公司行业:电子/半导体/集成电路',\n        'children': [{'name': '公司名称:三星电子',\n          'children': [{'name': '岗位名称:产品运营专员',\n            'children': [{'name': '工资：10-15k·13薪'}]}]}]},\n       {'name': '公司行业:计算机软件',\n        'children': [{'name': '公司名称:百度网讯',\n          'children': [{'name': '岗位名称:【商业化产品运营】（百度外包）',\n            'children': [{'name': '工资：8-9k'}]},\n           {'name': '岗位名称:【商业化产品运营经理】（百度外包）',\n            'children': [{'name': '工资：8-12k'}]}]}]},\n       {'name': '公司行业:互联网',\n        'children': [{'name': '公司名称:Baidu',\n          'children': [{'name': '岗位名称:售前技术支持',\n            'children': [{'name': '工资：9-11k'}]},\n           {'name': '岗位名称:产品运营', 'children': [{'name': '工资：10-15k'}]}]},\n         {'name': '公司名称:阿里巴巴集团',\n          'children': [{'name': '岗位名称:区块链服务Java技术专家',\n            'children': [{'name': '工资：20-40k·16薪'}]}]}]},\n       {'name': '公司行业:餐饮业',\n        'children': [{'name': '公司名称:海鸿达(北京)餐饮管理有限公司',\n          'children': [{'name': '岗位名称:海外SAP运维专员(A32607)',\n            'children': [{'name': '工资：10-15k'}]}]}]},\n       {'name': '公司行业:电力/热力/燃气/水务',\n        'children': [{'name': '公司名称:施耐德电气',\n          'children': [{'name': '岗位名称:Business Development Engineer- Ship-out',\n            'children': [{'name': '工资：薪资面议'}]}]}]},\n       {'name': '公司行业:基金/证券/期货',\n        'children': [{'name': '公司名称:恒昌',\n          'children': [{'name': '岗位名称:管培生',\n            'children': [{'name': '工资：薪资面议'}]}]}]}]},\n     {'name': '公司规模:5000-10000人',\n      'children': [{'name': '公司行业:互联网',\n        'children': [{'name': '公司名称:水滴公司',\n          'children': [{'name': '岗位名称:保险商品运营实习生(2023825c2df0da3)',\n            'children': [{'name': '工资：6-7k'}]}]},\n         {'name': '公司名称:新氧科技',\n          'children': [{'name': '岗位名称:营销顾问',\n            'children': [{'name': '工资：12-22k·13薪'}]}]}]},\n       {'name': '公司行业:科技金融',\n        'children': [{'name': '公司名称:蚂蚁集团',\n          'children': [{'name': '岗位名称:蚂蚁集团-数字科技线-区块链服务Java技术专家',\n            'children': [{'name': '工资：30-60k·16薪'}]}]}]},\n       {'name': '公司行业:计算机软件',\n        'children': [{'name': '公司名称:北京鸿盈信息技术有限公司',\n          'children': [{'name': '岗位名称:社区运营实习生',\n            'children': [{'name': '工资：2-4k'}]}]}]}]}]},\n   {'name': '北京-延庆区',\n    'children': [{'name': '公司规模:100-499人',\n      'children': [{'name': '公司行业:科技推广服务',\n        'children': [{'name': '公司名称:光谷动力科技',\n          'children': [{'name': '岗位名称:HTML5',\n            'children': [{'name': '工资：7-15k'}]}]}]}]}]},\n   {'name': '北京-石景山区',\n    'children': [{'name': '公司规模:1-49人',\n      'children': [{'name': '公司行业:广播/影视/录音',\n        'children': [{'name': '公司名称:北京博思汇文数字科技有限公司',\n          'children': [{'name': '岗位名称:市场推广',\n            'children': [{'name': '工资：8-20k'}]}]}]}]},\n     {'name': '公司规模:100-499人',\n      'children': [{'name': '公司行业:互联网',\n        'children': [{'name': '公司名称:北京航天智造科技发展有限公司',\n          'children': [{'name': '岗位名称:产品运营实习生',\n            'children': [{'name': '工资：2-3k'}]}]}]},\n       {'name': '公司行业:游戏',\n        'children': [{'name': '公司名称:17173',\n          'children': [{'name': '岗位名称:产品运营',\n            'children': [{'name': '工资：20-30k·14薪'}]}]}]}]},\n     {'name': '公司规模:500-999人',\n      'children': [{'name': '公司行业:电子/半导体/集成电路',\n        'children': [{'name': '公司名称:镭神智能',\n          'children': [{'name': '岗位名称:销售工程师',\n            'children': [{'name': '工资：10-15k'}]}]}]}]},\n     {'name': '公司规模:10000人以上',\n      'children': [{'name': '公司行业:旅游',\n        'children': [{'name': '公司名称:中青旅控股股份有限公司',\n          'children': [{'name': '岗位名称:产品运营实习生',\n            'children': [{'name': '工资：2-5k'}]}]}]}]}]},\n   {'name': '北京-平谷区',\n    'children': [{'name': '公司规模:100-499人',\n      'children': [{'name': '公司行业:科技推广服务',\n        'children': [{'name': '公司名称:光谷动力科技',\n          'children': [{'name': '岗位名称:HTML5',\n            'children': [{'name': '工资：7-15k'}]}]}]}]}]},\n   {'name': '北京-昌平区',\n    'children': [{'name': '公司规模:1-49人',\n      'children': [{'name': '公司行业:互联网',\n        'children': [{'name': '公司名称:张家口花椒科技有限公司',\n          'children': [{'name': '岗位名称:游戏运营',\n            'children': [{'name': '工资：20-40k·14薪'}]}]}]}]},\n     {'name': '公司规模:50-99人',\n      'children': [{'name': '公司行业:IT服务',\n        'children': [{'name': '公司名称:北京弘毅远科技有限公司',\n          'children': [{'name': '岗位名称:校园运营经理',\n            'children': [{'name': '工资：10-15k·13薪'}]}]}]},\n       {'name': '公司行业:计算机软件',\n        'children': [{'name': '公司名称:北京网安通达科技有限公司',\n          'children': [{'name': '岗位名称:HTML5',\n            'children': [{'name': '工资：8-16k·13薪'}]}]}]}]},\n     {'name': '公司规模:100-499人',\n      'children': [{'name': '公司行业:互联网',\n        'children': [{'name': '公司名称:北京医来伸手健康管理有限公司',\n          'children': [{'name': '岗位名称:视频剪辑',\n            'children': [{'name': '工资：6-11k'}]}]}]}]},\n     {'name': '公司规模:500-999人',\n      'children': [{'name': '公司行业:互联网',\n        'children': [{'name': '公司名称:泰康在线财产保险股份有限公司',\n          'children': [{'name': '岗位名称:互联网保险运营',\n            'children': [{'name': '工资：12-20k·14薪'}]}]}]},\n       {'name': '公司行业:其他行业',\n        'children': [{'name': '公司名称:北京顺昌盛世医疗大数据科技有限公司同世堂第零零零中医诊所',\n          'children': [{'name': '岗位名称:客服',\n            'children': [{'name': '工资：5-8k'}]}]}]}]},\n     {'name': '公司规模:1000-2000人',\n      'children': [{'name': '公司行业:医疗机构',\n        'children': [{'name': '公司名称:北京医来伸手健康管理有限公司同世堂中医诊所',\n          'children': [{'name': '岗位名称:客服专员',\n            'children': [{'name': '工资：5-8k'}]}]}]}]},\n     {'name': '公司规模:10000人以上',\n      'children': [{'name': '公司行业:制药',\n        'children': [{'name': '公司名称:修正药业集团股份有限公司',\n          'children': [{'name': '岗位名称:运营经理',\n            'children': [{'name': '工资：15-25k'}]}]}]},\n       {'name': '公司行业:培训服务',\n        'children': [{'name': '公司名称:北京世纪好未来教育科技有限公司',\n          'children': [{'name': '岗位名称:产品运营实习生',\n            'children': [{'name': '工资：2-5k'}]}]}]}]}]},\n   {'name': '北京-通州区',\n    'children': [{'name': '公司规模:1-49人',\n      'children': [{'name': '公司行业:广播/影视/录音',\n        'children': [{'name': '公司名称:一寸光年',\n          'children': [{'name': '岗位名称:音乐推广',\n            'children': [{'name': '工资：8-10k'}]},\n           {'name': '岗位名称:音乐策划', 'children': [{'name': '工资：8-10k'}]}]}]},\n       {'name': '公司行业:其他金融',\n        'children': [{'name': '公司名称:独角鲨(北京)科技有限公司',\n          'children': [{'name': '岗位名称:运营经理/专员',\n            'children': [{'name': '工资：8-10k'}]}]}]}]},\n     {'name': '公司规模:50-99人',\n      'children': [{'name': '公司行业:互联网',\n        'children': [{'name': '公司名称:北京乘风扬航科技有限公司',\n          'children': [{'name': '岗位名称:客服+五险一金',\n            'children': [{'name': '工资：6-10k'}]}]}]}]},\n     {'name': '公司规模:100-499人',\n      'children': [{'name': '公司行业:科技推广服务',\n        'children': [{'name': '公司名称:光谷动力科技',\n          'children': [{'name': '岗位名称:HTML5',\n            'children': [{'name': '工资：11-16k·13薪'}, {'name': '工资：7-15k'}]}]}]},\n       {'name': '公司行业:航空/航天设备',\n        'children': [{'name': '公司名称:北京中航智科技有限公司',\n          'children': [{'name': '岗位名称:大客户销售经理',\n            'children': [{'name': '工资：15-30k'}]}]}]}]},\n     {'name': '公司规模:10000人以上',\n      'children': [{'name': '公司行业:互联网',\n        'children': [{'name': '公司名称:京东',\n          'children': [{'name': '岗位名称:高级产品运营',\n            'children': [{'name': '工资：20-40k·15薪'}]}]},\n         {'name': '公司名称:京东商城',\n          'children': [{'name': '岗位名称:销售政策',\n            'children': [{'name': '工资：25-55k·16薪'}]}]}]},\n       {'name': '公司行业:机械/设备',\n        'children': [{'name': '公司名称:北京金风科创风电设备有限公司',\n          'children': [{'name': '岗位名称:产品助理',\n            'children': [{'name': '工资：13-16k'}]}]}]},\n       {'name': '公司行业:保险',\n        'children': [{'name': '公司名称:阳光保险集团',\n          'children': [{'name': '岗位名称:客服机器人训练师/训机师',\n            'children': [{'name': '工资：5-7k'}]}]}]}]},\n     {'name': '公司规模:5000-10000人',\n      'children': [{'name': '公司行业:运营商/增值服务',\n        'children': [{'name': '公司名称:联东集团',\n          'children': [{'name': '岗位名称:信息化部门-产品实习生',\n            'children': [{'name': '工资：1-2k'}]},\n           {'name': '岗位名称:商品数据实习生', 'children': [{'name': '工资：1-2k'}]}]}]}]}]},\n   {'name': '北京-丰台区',\n    'children': [{'name': '公司规模:1-49人',\n      'children': [{'name': '公司行业:广告/公关/会展',\n        'children': [{'name': '公司名称:北京德达互动咨询有限公司',\n          'children': [{'name': '岗位名称:二类电商投放经理',\n            'children': [{'name': '工资：10-15k'}]}]}]},\n       {'name': '公司行业:批发/零售',\n        'children': [{'name': '公司名称:北京丰泽晟华农业科技发展有限公司',\n          'children': [{'name': '岗位名称:农产品运营经理/项目负责人（北京）',\n            'children': [{'name': '工资：6-12k'}]}]}]},\n       {'name': '公司行业:计算机软件',\n        'children': [{'name': '公司名称:北京章鱼小泡泡科技有限公司',\n          'children': [{'name': '岗位名称:网络运营专员',\n            'children': [{'name': '工资：10-15k'}]}]}]}]},\n     {'name': '公司规模:50-99人',\n      'children': [{'name': '公司行业:nan', 'children': []},\n       {'name': '公司行业:IT服务',\n        'children': [{'name': '公司名称:北京朗迪锋科技有限公司',\n          'children': [{'name': '岗位名称:产品经理（虚拟维修方向）',\n            'children': [{'name': '工资：15-30k'}]}]}]}]},\n     {'name': '公司规模:100-499人',\n      'children': [{'name': '公司行业:科技推广服务',\n        'children': [{'name': '公司名称:光谷动力科技',\n          'children': [{'name': '岗位名称:游戏运营',\n            'children': [{'name': '工资：14-19k·13薪'}]},\n           {'name': '岗位名称:HTML5', 'children': [{'name': '工资：7-15k·13薪'}]}]}]},\n       {'name': '公司行业:旅游',\n        'children': [{'name': '公司名称:浙江游侠客国际旅行社有限公司北京分公司',\n          'children': [{'name': '岗位名称:户外旅游产品策划',\n            'children': [{'name': '工资：7-12k'}]}]}]},\n       {'name': '公司行业:培训服务',\n        'children': [{'name': '公司名称:北京厚朴优学教育科技有限公司',\n          'children': [{'name': '岗位名称:IB经济教师',\n            'children': [{'name': '工资：18-30k'}]},\n           {'name': '岗位名称:AP历史教师', 'children': [{'name': '工资：18-30k'}]},\n           {'name': '岗位名称:AP生物教师', 'children': [{'name': '工资：18-30k'}]},\n           {'name': '岗位名称:AP物理教师', 'children': [{'name': '工资：18-30k'}]},\n           {'name': '岗位名称:SAT/ACT阅读/语法教师',\n            'children': [{'name': '工资：18-30k'}]},\n           {'name': '岗位名称:AP生物/化学教师', 'children': [{'name': '工资：18-30k'}]},\n           {'name': '岗位名称:AP英语语言与写作教师', 'children': [{'name': '工资：18-30k'}]},\n           {'name': '岗位名称:AMC教师', 'children': [{'name': '工资：18-30k'}]},\n           {'name': '岗位名称:SAT阅读/语法教师', 'children': [{'name': '工资：18-30k'}]},\n           {'name': '岗位名称:AP统计/微积分教师', 'children': [{'name': '工资：18-30k'}]},\n           {'name': '岗位名称:GRE教研员', 'children': [{'name': '工资：10-15k'}]},\n           {'name': '岗位名称:AP/Alevel/IB线上教师',\n            'children': [{'name': '工资：18-30k'}]},\n           {'name': '岗位名称:AP统计教师', 'children': [{'name': '工资：18-30k'}]},\n           {'name': '岗位名称:GRE教研员/教师', 'children': [{'name': '工资：10-15k'}]},\n           {'name': '岗位名称:AP化学教师', 'children': [{'name': '工资：18-30k'}]},\n           {'name': '岗位名称:SAT/ACT阅读教师', 'children': [{'name': '工资：18-30k'}]},\n           {'name': '岗位名称:AP微积分教师', 'children': [{'name': '工资：18-30k'}]},\n           {'name': '岗位名称:AP/Alevel/IB教师',\n            'children': [{'name': '工资：18-30k'}]},\n           {'name': '岗位名称:留学文书教师', 'children': [{'name': '工资：20-30k'}]}]}]},\n       {'name': '公司行业:计算机软件',\n        'children': [{'name': '公司名称:北京小牛邦信息技术有限公司',\n          'children': [{'name': '岗位名称:底薪6000+双休+五险一金高薪销售',\n            'children': [{'name': '工资：8-13k'}]}]}]}]},\n     {'name': '公司规模:10000人以上',\n      'children': [{'name': '公司行业:矿产开采',\n        'children': [{'name': '公司名称:金诚信',\n          'children': [{'name': '岗位名称:国际贸易专员',\n            'children': [{'name': '工资：20-23k'}]}]}]}]}]},\n   {'name': '北京-怀柔区',\n    'children': [{'name': '公司规模:10000人以上',\n      'children': [{'name': '公司行业:医疗机构',\n        'children': [{'name': '公司名称:泰康健投',\n          'children': [{'name': '岗位名称:文创产品运营管理',\n            'children': [{'name': '工资：12-18k·13薪'}]},\n           {'name': '岗位名称:产品运营',\n            'children': [{'name': '工资：8-15k·13薪'}]}]}]}]}]},\n   {'name': '北京-东城区',\n    'children': [{'name': '公司规模:1-49人',\n      'children': [{'name': '公司行业:通信设备',\n        'children': [{'name': '公司名称:北京人人平安科技有限公司',\n          'children': [{'name': '岗位名称:文字编辑',\n            'children': [{'name': '工资：4-6k'}]}]}]},\n       {'name': '公司行业:法律服务',\n        'children': [{'name': '公司名称:北京合众衡平信息技术有限责任公司',\n          'children': [{'name': '岗位名称:市场销售经理',\n            'children': [{'name': '工资：10-12k'}]}]}]},\n       {'name': '公司行业:食品/饮料/酒水',\n        'children': [{'name': '公司名称:北京钓台傲骄食品科技有限公司',\n          'children': [{'name': '岗位名称:新媒体运营',\n            'children': [{'name': '工资：10-15k'}]}]}]},\n       {'name': '公司行业:基金/证券/期货',\n        'children': [{'name': '公司名称:北京天算资产管理有限公司',\n          'children': [{'name': '岗位名称:天算量化 |基金运营  招聘（全职）',\n            'children': [{'name': '工资：8-13k'}]}]}]}]},\n     {'name': '公司规模:50-99人',\n      'children': [{'name': '公司行业:在线社交/媒体',\n        'children': [{'name': '公司名称:我看网络技术(北京)有限公司',\n          'children': [{'name': '岗位名称:内容运营（北京）',\n            'children': [{'name': '工资：6-8k'}]}]}]},\n       {'name': '公司行业:电子商务',\n        'children': [{'name': '公司名称:北京云动九天科技有限公司',\n          'children': [{'name': '岗位名称:数据分析师',\n            'children': [{'name': '工资：10-20k'}]}]}]}]},\n     {'name': '公司规模:100-499人',\n      'children': [{'name': '公司行业:科技推广服务',\n        'children': [{'name': '公司名称:光谷动力科技',\n          'children': [{'name': '岗位名称:HTML5',\n            'children': [{'name': '工资：8-14k·13薪'},\n             {'name': '工资：7-15k·13薪'}]}]}]},\n       {'name': '公司行业:医疗机构',\n        'children': [{'name': '公司名称:欣可丽美学(上海)医疗科技有限公司',\n          'children': [{'name': '岗位名称:应用发展经理',\n            'children': [{'name': '工资：薪资面议'}]}]}]},\n       {'name': '公司行业:人工智能',\n        'children': [{'name': '公司名称:Yogo Robot',\n          'children': [{'name': '岗位名称:机器人运营',\n            'children': [{'name': '工资：6-11k'}]}]}]}]},\n     {'name': '公司规模:10000人以上',\n      'children': [{'name': '公司行业:银行',\n        'children': [{'name': '公司名称:中国民生银行股份有限公司',\n          'children': [{'name': '岗位名称:数据产品经理',\n            'children': [{'name': '工资：25-30k'}]}]}]}]}]},\n   {'name': '北京',\n    'children': [{'name': '公司规模:1-49人',\n      'children': [{'name': '公司行业:nan', 'children': []},\n       {'name': '公司行业:贸易/进出口',\n        'children': [{'name': '公司名称:北京崇珍科贸有限公司',\n          'children': [{'name': '岗位名称:化妆品市场推广',\n            'children': [{'name': '工资：10-15k·13薪'}]},\n           {'name': '岗位名称:化妆品 市场推广',\n            'children': [{'name': '工资：10-15k·13薪'}]}]}]},\n       {'name': '公司行业:在线社交/媒体',\n        'children': [{'name': '公司名称:北京草莓时代文化传媒有限责任公司',\n          'children': [{'name': '岗位名称:MCN新媒体运营',\n            'children': [{'name': '工资：10-15k'}]}]}]},\n       {'name': '公司行业:装饰装修',\n        'children': [{'name': '公司名称:北京简舍装饰设计有限公司',\n          'children': [{'name': '岗位名称:客服运营',\n            'children': [{'name': '工资：5-8k'}]}]}]},\n       {'name': '公司行业:农/林/牧/渔',\n        'children': [{'name': '公司名称:北京知牧科技有限责任公司',\n          'children': [{'name': '岗位名称:产品助理',\n            'children': [{'name': '工资：5-8k'}]}]}]},\n       {'name': '公司行业:新零售',\n        'children': [{'name': '公司名称:北京中润广益科技发展有限公司',\n          'children': [{'name': '岗位名称:新媒体助理',\n            'children': [{'name': '工资：4-6k'}]}]}]},\n       {'name': '公司行业:电子/半导体/集成电路',\n        'children': [{'name': '公司名称:北京青翼凌云科技有限公司',\n          'children': [{'name': '岗位名称:产品运营',\n            'children': [{'name': '工资：12-15k'}]}]}]},\n       {'name': '公司行业:体育',\n        'children': [{'name': '公司名称:北京和平阳光国际健身俱乐部有限公司',\n          'children': [{'name': '岗位名称:客服', 'children': [{'name': '工资：5-8k'}]},\n           {'name': '岗位名称:销售代表', 'children': [{'name': '工资：5-8k'}]},\n           {'name': '岗位名称:会籍顾问', 'children': [{'name': '工资：5-8k'}]},\n           {'name': '岗位名称:销售顾问', 'children': [{'name': '工资：5-8k'}]}]}]},\n       {'name': '公司行业:批发/零售',\n        'children': [{'name': '公司名称:北京龙宏兴塑日用品有限公司',\n          'children': [{'name': '岗位名称:电商运营',\n            'children': [{'name': '工资：8-13k'}]}]}]},\n       {'name': '公司行业:广播/影视/录音',\n        'children': [{'name': '公司名称:云豆传媒(北京)有限公司',\n          'children': [{'name': '岗位名称:其他实习生/培训生/储备干部',\n            'children': [{'name': '工资：3-4k'}]}]},\n         {'name': '公司名称:北京睿美傲世文化传播有限公司',\n          'children': [{'name': '岗位名称:应届毕业生',\n            'children': [{'name': '工资：6-8k'}]}]}]},\n       {'name': '公司行业:在线教育',\n        'children': [{'name': '公司名称:北京课厅教育科技有限公司',\n          'children': [{'name': '岗位名称:用户运营',\n            'children': [{'name': '工资：8-12k'}]}]}]},\n       {'name': '公司行业:互联网',\n        'children': [{'name': '公司名称:北京金玺文化传媒有限公司',\n          'children': [{'name': '岗位名称:产品运营',\n            'children': [{'name': '工资：8-13k'}]}]},\n         {'name': '公司名称:北京汇智捷科技有限公司',\n          'children': [{'name': '岗位名称:新媒体运营',\n            'children': [{'name': '工资：5-10k'}]}]},\n         {'name': '公司名称:汇才远达(北京)科技有限公司',\n          'children': [{'name': '岗位名称:客服',\n            'children': [{'name': '工资：5-8k'}]}]},\n         {'name': '公司名称:北京易思卓科技有限公司',\n          'children': [{'name': '岗位名称:阿拉伯语区域产品运营',\n            'children': [{'name': '工资：8-10k'}]}]},\n         {'name': '公司名称:北京君尚伟业科技有限公司',\n          'children': [{'name': '岗位名称:运营助理',\n            'children': [{'name': '工资：5-10k'}]}]}]},\n       {'name': '公司行业:广告/公关/会展',\n        'children': [{'name': '公司名称:北京独角鲸群文化创意有限公司',\n          'children': [{'name': '岗位名称:抖音直播运营',\n            'children': [{'name': '工资：8-10k'}]}]}]},\n       {'name': '公司行业:培训服务',\n        'children': [{'name': '公司名称:北京国质联合检测技术研究院',\n          'children': [{'name': '岗位名称:课程销售',\n            'children': [{'name': '工资：11-22k'}]}]},\n         {'name': '公司名称:北京文迪威教育科技有限公司',\n          'children': [{'name': '岗位名称:教育研发',\n            'children': [{'name': '工资：3-7k·22薪'}]}]}]},\n       {'name': '公司行业:IT服务',\n        'children': [{'name': '公司名称:北京网讯达科技有限公司',\n          'children': [{'name': '岗位名称:需求工程师',\n            'children': [{'name': '工资：6-9k'}]}]}]},\n       {'name': '公司行业:专业技术服务',\n        'children': [{'name': '公司名称:云南澜博科技有限公司',\n          'children': [{'name': '岗位名称:客服',\n            'children': [{'name': '工资：5-8k'}]}]},\n         {'name': '公司名称:北京万相归春网络科技有限公司',\n          'children': [{'name': '岗位名称:客服',\n            'children': [{'name': '工资：8-13k'}]}]},\n         {'name': '公司名称:中科博爱(北京)咨询有限公司',\n          'children': [{'name': '岗位名称:心理学产品设备专员',\n            'children': [{'name': '工资：5-10k'}]}]},\n         {'name': '公司名称:咏怀钟鼎',\n          'children': [{'name': '岗位名称:体育行业研究员-政策规划咨询师（政府智库、城乡建设）',\n            'children': [{'name': '工资：10-20k'}]}]}]},\n       {'name': '公司行业:食品/饮料/酒水',\n        'children': [{'name': '公司名称:单赤道(北京)咖啡餐饮管理有限责任公司',\n          'children': [{'name': '岗位名称:产品运营实习生',\n            'children': [{'name': '工资：3-5k'}]}]}]},\n       {'name': '公司行业:电子商务',\n        'children': [{'name': '公司名称:北京飞步凌云科技有限公司',\n          'children': [{'name': '岗位名称:京东运营助理',\n            'children': [{'name': '工资：5-7k'}]}]},\n         {'name': '公司名称:戍源优品科技发展(北京)有限公司',\n          'children': [{'name': '岗位名称:电商运营',\n            'children': [{'name': '工资：10-15k'}]},\n           {'name': '岗位名称:淘宝运营', 'children': [{'name': '工资：10-15k'}]}]}]},\n       {'name': '公司行业:科技推广服务',\n        'children': [{'name': '公司名称:北京形上科技有限责任公司',\n          'children': [{'name': '岗位名称:业务拓展专员/助理',\n            'children': [{'name': '工资：10-15k'}]}]}]},\n       {'name': '公司行业:酒店/民宿',\n        'children': [{'name': '公司名称:HORWATH酒店管理顾问(北京)有限公司',\n          'children': [{'name': '岗位名称:媒体运营',\n            'children': [{'name': '工资：7-9k'}]}]}]}]},\n     {'name': '公司规模:50-99人',\n      'children': [{'name': '公司行业:广播/影视/录音',\n        'children': [{'name': '公司名称:北京东方明悦体育发展有限公司',\n          'children': [{'name': '岗位名称:客服',\n            'children': [{'name': '工资：5-8k'}]}]}]},\n       {'name': '公司行业:贸易/进出口',\n        'children': [{'name': '公司名称:润泽环保',\n          'children': [{'name': '岗位名称:产品经理（偏市场）',\n            'children': [{'name': '工资：7-12k'}]}]}]},\n       {'name': '公司行业:nan', 'children': []},\n       {'name': '公司行业:批发/零售',\n        'children': [{'name': '公司名称:烟台莹佳食品有限公司',\n          'children': [{'name': '岗位名称:店长/卖场管理',\n            'children': [{'name': '工资：5-8k'}]},\n           {'name': '岗位名称:有机食品项目经理', 'children': [{'name': '工资：50-80k'}]}]}]},\n       {'name': '公司行业:智能硬件',\n        'children': [{'name': '公司名称:须眉智能科技(江苏)有限公司',\n          'children': [{'name': '岗位名称:内容运营',\n            'children': [{'name': '工资：10-15k'}]}]}]},\n       {'name': '公司行业:云计算/大数据',\n        'children': [{'name': '公司名称:北京中科九章软件有限公司',\n          'children': [{'name': '岗位名称:python软件工程师（初级）',\n            'children': [{'name': '工资：12-16k'}]}]}]},\n       {'name': '公司行业:游戏',\n        'children': [{'name': '公司名称:天津魔芝工坊信息技术有限公司',\n          'children': [{'name': '岗位名称:游戏运营',\n            'children': [{'name': '工资：4-6k·15薪'}]}]}]},\n       {'name': '公司行业:互联网',\n        'children': [{'name': '公司名称:北京新锐伟业网络技术有限公司',\n          'children': [{'name': '岗位名称:Google/Facebook优化师',\n            'children': [{'name': '工资：10-15k'}]}]},\n         {'name': '公司名称:北京炎龙时空通信科技有限责任公司',\n          'children': [{'name': '岗位名称:产品运营实习生',\n            'children': [{'name': '工资：3-5k'}]},\n           {'name': '岗位名称:内容运营实习生', 'children': [{'name': '工资：3-5k'}]}]}]},\n       {'name': '公司行业:食品/饮料/酒水',\n        'children': [{'name': '公司名称:北京格力森酒业有限公司',\n          'children': [{'name': '岗位名称:业务拓展专员/助理',\n            'children': [{'name': '工资：5-8k'}]}]}]},\n       {'name': '公司行业:电子商务',\n        'children': [{'name': '公司名称:北京华清易点科技有限公司',\n          'children': [{'name': '岗位名称:产品BP经理',\n            'children': [{'name': '工资：25-30k·14薪'}]},\n           {'name': '岗位名称:电脑配件及服务产品经理',\n            'children': [{'name': '工资：15-30k·13薪'}]}]}]},\n       {'name': '公司行业:环保',\n        'children': [{'name': '公司名称:超极想网络科技(北京)有限公司',\n          'children': [{'name': '岗位名称:产品运营',\n            'children': [{'name': '工资：6-8k·14薪'}]}]}]}]},\n     {'name': '公司规模:100-499人',\n      'children': [{'name': '公司行业:广播/影视/录音',\n        'children': [{'name': '公司名称:中国青年出版总社有限公司',\n          'children': [{'name': '岗位名称:【中青心文化传媒】产品内容运营',\n            'children': [{'name': '工资：8-10k'}]}]}]},\n       {'name': '公司行业:nan', 'children': []},\n       {'name': '公司行业:医疗机构',\n        'children': [{'name': '公司名称:北京泽元堂',\n          'children': [{'name': '岗位名称:客服',\n            'children': [{'name': '工资：5-8k'}]}]}]},\n       {'name': '公司行业:科技金融',\n        'children': [{'name': '公司名称:上海南燕信息技术有限公司',\n          'children': [{'name': '岗位名称:高端医疗个险运营',\n            'children': [{'name': '工资：8-15k'}]}]}]},\n       {'name': '公司行业:航空/航天设备',\n        'children': [{'name': '公司名称:北京中航智科技有限公司',\n          'children': [{'name': '岗位名称:销售工程师',\n            'children': [{'name': '工资：13-16k·14薪'}]}]}]},\n       {'name': '公司行业:游戏',\n        'children': [{'name': '公司名称:睿艺视通信息技术(北京)有限公司',\n          'children': [{'name': '岗位名称:联合运营',\n            'children': [{'name': '工资：5-8k'}]}]},\n         {'name': '公司名称:北京牧游科技有限公司',\n          'children': [{'name': '岗位名称:游戏投放',\n            'children': [{'name': '工资：10-20k'}]}]}]},\n       {'name': '公司行业:IT服务',\n        'children': [{'name': '公司名称:走遍世界(北京)信息技术有限公司',\n          'children': [{'name': '岗位名称:产品运营',\n            'children': [{'name': '工资：1-2k'}]}]}]},\n       {'name': '公司行业:计算机软件',\n        'children': [{'name': '公司名称:航天信息软件技术有限公司',\n          'children': [{'name': '岗位名称:项目管理/质量管理工程师',\n            'children': [{'name': '工资：8-15k·14薪'}]}]},\n         {'name': '公司名称:航天开元',\n          'children': [{'name': '岗位名称:销售经理',\n            'children': [{'name': '工资：10-12k'}]}]}]},\n       {'name': '公司行业:互联网',\n        'children': [{'name': '公司名称:金桐网',\n          'children': [{'name': '岗位名称:新媒体运营',\n            'children': [{'name': '工资：5-8k'}]}]},\n         {'name': '公司名称:分享通信',\n          'children': [{'name': '岗位名称:产品经理',\n            'children': [{'name': '工资：15-20k'}]}]},\n         {'name': '公司名称:北京金桐网科技有限公司',\n          'children': [{'name': '岗位名称:产品运营实习生',\n            'children': [{'name': '工资：2-3k'}]}]},\n         {'name': '公司名称:酷渲(北京)科技有限公司',\n          'children': [{'name': '岗位名称:销售顾问',\n            'children': [{'name': '工资：12-18k'}]},\n           {'name': '岗位名称:电销顾问', 'children': [{'name': '工资：8-13k'}]}]},\n         {'name': '公司名称:北京金元尚杰科技有限公司',\n          'children': [{'name': '岗位名称:运营主管',\n            'children': [{'name': '工资：10-15k'}]}]},\n         {'name': '公司名称:布比科技',\n          'children': [{'name': '岗位名称:产品运营经理',\n            'children': [{'name': '工资：10-20k'}]}]}]},\n       {'name': '公司行业:专业技术服务',\n        'children': [{'name': '公司名称:北京聚英星辉科技有限公司',\n          'children': [{'name': '岗位名称:客服专员',\n            'children': [{'name': '工资：5-8k'}]}]},\n         {'name': '公司名称:北京紫光数智科技股份有限公司',\n          'children': [{'name': '岗位名称:软件实施顾问',\n            'children': [{'name': '工资：7-11k'}]}]},\n         {'name': '公司名称:北京法利莱移动板房有限公司',\n          'children': [{'name': '岗位名称:客服',\n            'children': [{'name': '工资：5-10k'}]}]}]},\n       {'name': '公司行业:网络/信息安全',\n        'children': [{'name': '公司名称:北京信联数安科技有限公司',\n          'children': [{'name': '岗位名称:安全漏洞管理工程师',\n            'children': [{'name': '工资：8-15k'}]}]}]},\n       {'name': '公司行业:餐饮业',\n        'children': [{'name': '公司名称:宜佰壹(北京)餐饮管理有限公司',\n          'children': [{'name': '岗位名称:网上商城运营主管',\n            'children': [{'name': '工资：5-10k'}]}]}]},\n       {'name': '公司行业:机械/设备',\n        'children': [{'name': '公司名称:景行慧动',\n          'children': [{'name': '岗位名称:产品运营实习生',\n            'children': [{'name': '工资：4-5k'}]}]}]},\n       {'name': '公司行业:电子商务',\n        'children': [{'name': '公司名称:北京维应科技有限责任公司',\n          'children': [{'name': '岗位名称:用户运营',\n            'children': [{'name': '工资：15-20k·14薪'}]}]}]},\n       {'name': '公司行业:通信设备',\n        'children': [{'name': '公司名称:中国电信安全公司',\n          'children': [{'name': '岗位名称:产品经理',\n            'children': [{'name': '工资：20-30k'}]}]}]},\n       {'name': '公司行业:化工',\n        'children': [{'name': '公司名称:北京百灵威科技有限公司',\n          'children': [{'name': '岗位名称:产品经理',\n            'children': [{'name': '工资：8-15k'}]}]}]},\n       {'name': '公司行业:生活服务O2O',\n        'children': [{'name': '公司名称:北京中欣银宝通支付服务有限公司',\n          'children': [{'name': '岗位名称:文创产品运营',\n            'children': [{'name': '工资：6-10k'}]}]}]},\n       {'name': '公司行业:培训服务',\n        'children': [{'name': '公司名称:北京厚朴优学教育科技有限公司',\n          'children': [{'name': '岗位名称:IB/AP经济教师',\n            'children': [{'name': '工资：18-30k'}]},\n           {'name': '岗位名称:SAT数学教师', 'children': [{'name': '工资：18-30k'}]}]}]}]},\n     {'name': '公司规模:500-999人',\n      'children': [{'name': '公司行业:科技金融',\n        'children': [{'name': '公司名称:建信融通有限责任公司',\n          'children': [{'name': '岗位名称:产品运营实习生',\n            'children': [{'name': '工资：1-2k'}]}]}]},\n       {'name': '公司行业:体育',\n        'children': [{'name': '公司名称:北京天一沃德商务服务有限公司',\n          'children': [{'name': '岗位名称:客服',\n            'children': [{'name': '工资：4-7k'}]}]}]},\n       {'name': '公司行业:游戏',\n        'children': [{'name': '公司名称:迦游',\n          'children': [{'name': '岗位名称:游戏产品运营',\n            'children': [{'name': '工资：8-15k·14薪'}]}]}]},\n       {'name': '公司行业:人工智能',\n        'children': [{'name': '公司名称:数坤科技',\n          'children': [{'name': '岗位名称:产品经理（北京）(J10119)',\n            'children': [{'name': '工资：15-22k·16薪'}]}]}]},\n       {'name': '公司行业:计算机软件',\n        'children': [{'name': '公司名称:北京骏嘉财通科技有限公司',\n          'children': [{'name': '岗位名称:证券投资软件销售顾问（提供客户+员工住宿）',\n            'children': [{'name': '工资：8-10k'}]}]}]},\n       {'name': '公司行业:互联网',\n        'children': [{'name': '公司名称:博思致新',\n          'children': [{'name': '岗位名称:高级产品经理',\n            'children': [{'name': '工资：20-30k'}]}]}]},\n       {'name': '公司行业:基金/证券/期货',\n        'children': [{'name': '公司名称:方正中期期货',\n          'children': [{'name': '岗位名称:金融股指经纪人',\n            'children': [{'name': '工资：5-10k'}]}]}]},\n       {'name': '公司行业:培训服务',\n        'children': [{'name': '公司名称:美世留学',\n          'children': [{'name': '岗位名称:香港留学产品经理',\n            'children': [{'name': '工资：15-20k'}]}]}]}]},\n     {'name': '公司规模:1000-2000人',\n      'children': [{'name': '公司行业:互联网',\n        'children': [{'name': '公司名称:惠买在线',\n          'children': [{'name': '岗位名称:运营助理',\n            'children': [{'name': '工资：7-10k'}]}]},\n         {'name': '公司名称:微博',\n          'children': [{'name': '岗位名称:微博视频产品运营实习生',\n            'children': [{'name': '工资：2-3k'}]}]}]},\n       {'name': '公司行业:通信设备',\n        'children': [{'name': '公司名称:中讯邮电咨询设计院有限公司',\n          'children': [{'name': '岗位名称:解决方案经理（创新业务部）',\n            'children': [{'name': '工资：10-30k'}]}]}]},\n       {'name': '公司行业:游戏',\n        'children': [{'name': '公司名称:英雄互娱科技股份有限公司',\n          'children': [{'name': '岗位名称:日语游戏运营-OPL',\n            'children': [{'name': '工资：10-30k·13薪'}]}]}]},\n       {'name': '公司行业:计算机软件',\n        'children': [{'name': '公司名称:北京智慧星光信息技术有限公司',\n          'children': [{'name': '岗位名称:产品运营实习生',\n            'children': [{'name': '工资：2-5k'}]},\n           {'name': '岗位名称:策略运营', 'children': [{'name': '工资：13-25k'}]},\n           {'name': '岗位名称:用户策略研究', 'children': [{'name': '工资：15-30k'}]}]}]}]},\n     {'name': '公司规模:2000-5000人',\n      'children': [{'name': '公司行业:互联网',\n        'children': [{'name': '公司名称:畅游天下',\n          'children': [{'name': '岗位名称:游戏运营-应届生',\n            'children': [{'name': '工资：8-12k'}]}]},\n         {'name': '公司名称:金山办公软件',\n          'children': [{'name': '岗位名称:产品运营',\n            'children': [{'name': '工资：10-15k·14薪'}]}]}]},\n       {'name': '公司行业:在线社交/媒体',\n        'children': [{'name': '公司名称:凤凰网',\n          'children': [{'name': '岗位名称:业务统筹',\n            'children': [{'name': '工资：薪资面议'}]}]}]}]},\n     {'name': '公司规模:10000人以上',\n      'children': [{'name': '公司行业:房地产租赁/中介',\n        'children': [{'name': '公司名称:链家地产',\n          'children': [{'name': '岗位名称:置业顾问',\n            'children': [{'name': '工资：6-10k'}]}]}]},\n       {'name': '公司行业:医疗机构',\n        'children': [{'name': '公司名称:爱康网',\n          'children': [{'name': '岗位名称:中级前端开发工程师',\n            'children': [{'name': '工资：10-15k'}]}]}]},\n       {'name': '公司行业:批发/零售',\n        'children': [{'name': '公司名称:北京京邦达贸易有限公司',\n          'children': [{'name': '岗位名称:区域销售经理',\n            'children': [{'name': '工资：10-15k·15薪'}]}]},\n         {'name': '公司名称:北京同仁堂健康',\n          'children': [{'name': '岗位名称:商家运营',\n            'children': [{'name': '工资：18-28k·14薪'}]}]}]},\n       {'name': '公司行业:货运/物流/仓储',\n        'children': [{'name': '公司名称:京东',\n          'children': [{'name': '岗位名称:产品经理',\n            'children': [{'name': '工资：14-16k'}]}]},\n         {'name': '公司名称:顺丰速运',\n          'children': [{'name': '岗位名称:业务拓展专员',\n            'children': [{'name': '工资：8-11k'}]}]}]},\n       {'name': '公司行业:计算机软件',\n        'children': [{'name': '公司名称:网易有道',\n          'children': [{'name': '岗位名称:广告运营',\n            'children': [{'name': '工资：10-15k·14薪'}]}]},\n         {'name': '公司名称:用友网络科技股份有限公司',\n          'children': [{'name': '岗位名称:生态BD经理',\n            'children': [{'name': '工资：20-30k·15薪'}]}]}]},\n       {'name': '公司行业:互联网',\n        'children': [{'name': '公司名称:京东',\n          'children': [{'name': '岗位名称:广告渠道销售部实习生',\n            'children': [{'name': '工资：2-4k'}]},\n           {'name': '岗位名称:采销助理实习生', 'children': [{'name': '工资：2-3k'}]},\n           {'name': '岗位名称:供应链运营规划', 'children': [{'name': '工资：30-50k'}]}]},\n         {'name': '公司名称:搜狐',\n          'children': [{'name': '岗位名称:校园拓展运营 (MJ008766)',\n            'children': [{'name': '工资：10-20k·14薪'}]}]},\n         {'name': '公司名称:Baidu',\n          'children': [{'name': '岗位名称:度目及人脸人体产品组_AI产品商业化运营(J57205)',\n            'children': [{'name': '工资：15-25k·16薪'}]},\n           {'name': '岗位名称:产品运营-营销和生态方向',\n            'children': [{'name': '工资：20-40k'}]}]},\n         {'name': '公司名称:高途',\n          'children': [{'name': '岗位名称:直播运营',\n            'children': [{'name': '工资：15-35k'}]}]},\n         {'name': '公司名称:北京城市网邻信息技术有限公司',\n          'children': [{'name': '岗位名称:产品运营',\n            'children': [{'name': '工资：8-12k'}]}]},\n         {'name': '公司名称:京东商城',\n          'children': [{'name': '岗位名称:结算产品运营实习生',\n            'children': [{'name': '工资：2-4k'}]},\n           {'name': '岗位名称:实施交付专家',\n            'children': [{'name': '工资：25-50k·14薪'}]}]}]},\n       {'name': '公司行业:房地产开发经营',\n        'children': [{'name': '公司名称:合生创展集团有限公司',\n          'children': [{'name': '岗位名称:合生创展总部-信息化管培生',\n            'children': [{'name': '工资：12-18k'}]}]}]},\n       {'name': '公司行业:通信设备',\n        'children': [{'name': '公司名称:荣耀终端',\n          'children': [{'name': '岗位名称:电商内容运营',\n            'children': [{'name': '工资：10-15k'}]}]}]},\n       {'name': '公司行业:生活服务O2O',\n        'children': [{'name': '公司名称:美团网',\n          'children': [{'name': '岗位名称:数据开发工程师',\n            'children': [{'name': '工资：30-60k·15薪'}]},\n           {'name': '岗位名称:产品运营实习生', 'children': [{'name': '工资：2-3k'}]},\n           {'name': '岗位名称:搜索产品运营实习生', 'children': [{'name': '工资：3-6k'}]}]}]},\n       {'name': '公司行业:制药',\n        'children': [{'name': '公司名称:朗致集团',\n          'children': [{'name': '岗位名称:产品助理（职位编号:LZHR158）',\n            'children': [{'name': '工资：8-15k'}]}]}]},\n       {'name': '公司行业:培训服务',\n        'children': [{'name': '公司名称:北京世纪好未来教育科技有限公司',\n          'children': [{'name': '岗位名称:产品运营实习生',\n            'children': [{'name': '工资：5-10k'}]}]}]}]},\n     {'name': '公司规模:5000-10000人',\n      'children': [{'name': '公司行业:物业/商业管理',\n        'children': [{'name': '公司名称:愿景和家',\n          'children': [{'name': '岗位名称:智慧社区运营经理',\n            'children': [{'name': '工资：10-15k'}]}]}]},\n       {'name': '公司行业:游戏',\n        'children': [{'name': '公司名称:完美世界',\n          'children': [{'name': '岗位名称:数据分析师',\n            'children': [{'name': '工资：15-30k·15薪'}]}]}]},\n       {'name': '公司行业:基金/证券/期货',\n        'children': [{'name': '公司名称:国信证券股份有限公司',\n          'children': [{'name': '岗位名称:市场营销助理',\n            'children': [{'name': '工资：3-4k'}]}]}]},\n       {'name': '公司行业:计算机软件',\n        'children': [{'name': '公司名称:深圳市商汤科技有限公司',\n          'children': [{'name': '岗位名称:产品运营实习生',\n            'children': [{'name': '工资：8-13k'}]}]}]}]}]},\n   {'name': '北京-门头沟区',\n    'children': [{'name': '公司规模:100-499人',\n      'children': [{'name': '公司行业:科技推广服务',\n        'children': [{'name': '公司名称:光谷动力科技',\n          'children': [{'name': '岗位名称:HTML5',\n            'children': [{'name': '工资：9-16k·13薪'},\n             {'name': '工资：7-15k'}]}]}]}]}]},\n   {'name': '北京-大兴区',\n    'children': [{'name': '公司规模:1-49人',\n      'children': [{'name': '公司行业:石化',\n        'children': [{'name': '公司名称:日推石化(北京)有限公司',\n          'children': [{'name': '岗位名称:客服',\n            'children': [{'name': '工资：4-5k'}]}]}]},\n       {'name': '公司行业:食品/饮料/酒水',\n        'children': [{'name': '公司名称:永福盛(北京)食品有限公司',\n          'children': [{'name': '岗位名称:客服',\n            'children': [{'name': '工资：5-8k'}]}]}]},\n       {'name': '公司行业:批发/零售',\n        'children': [{'name': '公司名称:蒙羊康盛(北京)食品有限公司',\n          'children': [{'name': '岗位名称:电商运营经理',\n            'children': [{'name': '工资：6-7k'}]}]},\n         {'name': '公司名称:麦凯隆(北京)家居用品有限公司',\n          'children': [{'name': '岗位名称:网店运营',\n            'children': [{'name': '工资：4-9k'}]}]}]}]},\n     {'name': '公司规模:50-99人',\n      'children': [{'name': '公司行业:IT服务',\n        'children': [{'name': '公司名称:北京中程润达科技有限公司',\n          'children': [{'name': '岗位名称:奢侈品鉴定师',\n            'children': [{'name': '工资：5-8k'}]}]}]}]},\n     {'name': '公司规模:100-499人',\n      'children': [{'name': '公司行业:互联网',\n        'children': [{'name': '公司名称:北京蓝海在线科技有限公司',\n          'children': [{'name': '岗位名称:助理产品经理',\n            'children': [{'name': '工资：6-11k·13薪'}]}]}]},\n       {'name': '公司行业:电子商务',\n        'children': [{'name': '公司名称:北京胜尊信息技术有限公司',\n          'children': [{'name': '岗位名称:电商运营',\n            'children': [{'name': '工资：12-20k'}]},\n           {'name': '岗位名称:电商运营店长', 'children': [{'name': '工资：12-20k'}]}]}]},\n       {'name': '公司行业:科技金融',\n        'children': [{'name': '公司名称:北京疯狂体育产业管理有限公司',\n          'children': [{'name': '岗位名称:运营推广专员',\n            'children': [{'name': '工资：5-8k'}]}]}]}]},\n     {'name': '公司规模:1000-2000人',\n      'children': [{'name': '公司行业:医疗器械',\n        'children': [{'name': '公司名称:国科恒泰(北京)医疗科技股份有限公司',\n          'children': [{'name': '岗位名称:产品主管',\n            'children': [{'name': '工资：20-30k'}]}]}]},\n       {'name': '公司行业:整车制造',\n        'children': [{'name': '公司名称:阿尔特汽车技术股份有限公司',\n          'children': [{'name': '岗位名称:运营助理',\n            'children': [{'name': '工资：6-9k'}]}]}]}]},\n     {'name': '公司规模:10000人以上',\n      'children': [{'name': '公司行业:互联网',\n        'children': [{'name': '公司名称:京东',\n          'children': [{'name': '岗位名称:产品经理',\n            'children': [{'name': '工资：20-35k'}]},\n           {'name': '岗位名称:运动服饰运营岗', 'children': [{'name': '工资：10-15k·14薪'}]}]},\n         {'name': '公司名称:京东商城',\n          'children': [{'name': '岗位名称:履约规划运营',\n            'children': [{'name': '工资：20-35k·14薪'}]}]}]},\n       {'name': '公司行业:餐饮业',\n        'children': [{'name': '公司名称:呷哺呷哺',\n          'children': [{'name': '岗位名称:实习生（研发部）',\n            'children': [{'name': '工资：3-4k'}]}]}]},\n       {'name': '公司行业:服装/纺织/皮革',\n        'children': [{'name': '公司名称:厦门安踏服饰有限公司',\n          'children': [{'name': '岗位名称:安踏直播间场控-北京',\n            'children': [{'name': '工资：7-10k'}]}]}]},\n       {'name': '公司行业:批发/零售',\n        'children': [{'name': '公司名称:北京同仁堂健康',\n          'children': [{'name': '岗位名称:营养师',\n            'children': [{'name': '工资：8-12k'}]}]}]}]},\n     {'name': '公司规模:5000-10000人',\n      'children': [{'name': '公司行业:互联网',\n        'children': [{'name': '公司名称:京东集团',\n          'children': [{'name': '岗位名称:电商产品经理',\n            'children': [{'name': '工资：15-25k·14薪'}]}]}]}]}]},\n   {'name': '北京-西城区',\n    'children': [{'name': '公司规模:1-49人',\n      'children': [{'name': '公司行业:计算机软件',\n        'children': [{'name': '公司名称:利玛软件',\n          'children': [{'name': '岗位名称:大客户销售',\n            'children': [{'name': '工资：10-25k'}]}]}]},\n       {'name': '公司行业:专业技术服务',\n        'children': [{'name': '公司名称:灵岩创世',\n          'children': [{'name': '岗位名称:人事行政助理',\n            'children': [{'name': '工资：6-8k·13薪'}]}]},\n         {'name': '公司名称:北京市酥米教育科技有限公司',\n          'children': [{'name': '岗位名称:文案',\n            'children': [{'name': '工资：8-11k'}]}]}]},\n       {'name': '公司行业:基金/证券/期货',\n        'children': [{'name': '公司名称:北京创金启富',\n          'children': [{'name': '岗位名称:销售支持',\n            'children': [{'name': '工资：10-20k'}]}]},\n         {'name': '公司名称:海南鹭鹰私募基金管理合伙企业(有限合伙)',\n          'children': [{'name': '岗位名称:基金运营',\n            'children': [{'name': '工资：7-10k'}]}]}]}]},\n     {'name': '公司规模:50-99人',\n      'children': [{'name': '公司行业:计算机软件',\n        'children': [{'name': '公司名称:北京网安通达科技有限公司',\n          'children': [{'name': '岗位名称:HTML5',\n            'children': [{'name': '工资：8-16k·13薪'}]}]}]}]},\n     {'name': '公司规模:100-499人',\n      'children': [{'name': '公司行业:新闻和出版业',\n        'children': [{'name': '公司名称:北京科学技术出版社',\n          'children': [{'name': '岗位名称:图书产品-直播运营',\n            'children': [{'name': '工资：10-15k'}]}]}]},\n       {'name': '公司行业:专业技术服务',\n        'children': [{'name': '公司名称:泰康健康管理(北京)有限公司',\n          'children': [{'name': '岗位名称:健康服务运营管理岗',\n            'children': [{'name': '工资：16-32k'}]}]}]}]},\n     {'name': '公司规模:500-999人',\n      'children': [{'name': '公司行业:通信设备',\n        'children': [{'name': '公司名称:北京四维通联电讯器材有限公司',\n          'children': [{'name': '岗位名称:产品业务专员',\n            'children': [{'name': '工资：5-7k'}]}]}]},\n       {'name': '公司行业:保险',\n        'children': [{'name': '公司名称:华农财产保险',\n          'children': [{'name': '岗位名称:互联网保险bd',\n            'children': [{'name': '工资：10-20k'}]}]}]},\n       {'name': '公司行业:计算机软件',\n        'children': [{'name': '公司名称:沃丰科技',\n          'children': [{'name': '岗位名称:管培生',\n            'children': [{'name': '工资：10-20k·13薪'}]},\n           {'name': '岗位名称:产品助理', 'children': [{'name': '工资：8-15k'}]}]}]}]},\n     {'name': '公司规模:2000-5000人',\n      'children': [{'name': '公司行业:计算机软件',\n        'children': [{'name': '公司名称:北京掌上先机网络科技有限公司(慧策)',\n          'children': [{'name': '岗位名称:商业分析总监(J13588)',\n            'children': [{'name': '工资：20-40k'}]}]}]}]},\n     {'name': '公司规模:10000人以上',\n      'children': [{'name': '公司行业:运营商/增值服务',\n        'children': [{'name': '公司名称:中国电信股份有限公司',\n          'children': [{'name': '岗位名称:大数据安全管理工程师',\n            'children': [{'name': '工资：15-20k·15薪'}]}]}]},\n       {'name': '公司行业:保险',\n        'children': [{'name': '公司名称:平安健康保险股份有限公司北京分公司',\n          'children': [{'name': '岗位名称:B端对公客户经理',\n            'children': [{'name': '工资：薪资面议'}]}]}]}]}]},\n   {'name': '北京-房山区',\n    'children': [{'name': '公司规模:100-499人',\n      'children': [{'name': '公司行业:科技推广服务',\n        'children': [{'name': '公司名称:光谷动力科技',\n          'children': [{'name': '岗位名称:HTML5',\n            'children': [{'name': '工资：8-16k·13薪'}]}]}]},\n       {'name': '公司行业:制药',\n        'children': [{'name': '公司名称:北京御生堂健康产业集团有限公司',\n          'children': [{'name': '岗位名称:私域运营专员',\n            'children': [{'name': '工资：4-6k'}]}]}]}]},\n     {'name': '公司规模:5000-10000人',\n      'children': [{'name': '公司行业:汽车零部件及配件',\n        'children': [{'name': '公司名称:北京京西重工有限公司',\n          'children': [{'name': '岗位名称:制造工程师、应用工程师等（应届生解决北京户口）',\n            'children': [{'name': '工资：6-12k'}]}]}]}]}]}]}]"
     },
     "execution_count": 103,
     "metadata": {},
     "output_type": "execute_result"
    }
   ],
   "source": [
    "set_dq = set(df_beijing['地区'])\n",
    "list_dq = list(set_dq)\n",
    "list_dq\n",
    "a = len(list_dq)\n",
    "\n",
    "data_all = [{\n",
    "    'name':'北京',\n",
    "    'children':[\n",
    "                {'name':a,\n",
    "                 'children':[\n",
    "                     {\n",
    "                        'name':\"公司规模:\"+b,\n",
    "                         'children':[\n",
    "                             {\n",
    "                                 'name': \"公司行业:\"+str(c),\n",
    "                                 'children':[\n",
    "                                     {\n",
    "                                       'name': \"公司名称:\"+d,\n",
    "                                       'children':[\n",
    "                                           {\n",
    "                                            'name': \"岗位名称:\"+e,\n",
    "                                            'children':[\n",
    "                                                {\n",
    "                                                   'name': \"工资：\"+f,\n",
    "                                                } for f in list(set(df_beijing[(df_beijing['地区'] == a) & (df_beijing['公司规模'] == b) & (df_beijing['公司行业'] == c)  & (df_beijing['公司名称'] == d) & (df_beijing['岗位名称'] == e)]['工资']))\n",
    "                                            ]\n",
    "                                           } for e in list(set(df_beijing[(df_beijing['地区'] == a) & (df_beijing['公司规模'] == b) & (df_beijing['公司行业'] == c)  & (df_beijing['公司名称'] == d)]['岗位名称']))\n",
    "                                       ]\n",
    "                                     } for d in list(set(df_beijing[(df_beijing['地区'] == a) & (df_beijing['公司规模'] == b) & (df_beijing['公司行业'] == c) ]['公司名称']))\n",
    "                                 ]\n",
    "                              } for c in list(set(df_beijing[(df_beijing['地区'] == a) & (df_beijing['公司规模'] == b)]['公司行业']))\n",
    "                         ]\n",
    "                     } for b in solve_scal(list(set(df_beijing[(df_beijing['地区'] == a)]['公司规模'])))\n",
    "                 ]\n",
    "                 }  for a in list(set(df_beijing['地区']))\n",
    "     ]\n",
    "    }\n",
    "]\n",
    "data_all"
   ],
   "metadata": {
    "collapsed": false
   }
  },
  {
   "cell_type": "code",
   "execution_count": 84,
   "outputs": [
    {
     "data": {
      "text/plain": "list"
     },
     "execution_count": 84,
     "metadata": {},
     "output_type": "execute_result"
    }
   ],
   "source": [
    "type(data_all)"
   ],
   "metadata": {
    "collapsed": false
   }
  },
  {
   "cell_type": "code",
   "execution_count": 95,
   "outputs": [
    {
     "data": {
      "text/plain": "16"
     },
     "execution_count": 95,
     "metadata": {},
     "output_type": "execute_result"
    }
   ],
   "source": [
    "len(data_all)"
   ],
   "metadata": {
    "collapsed": false
   }
  },
  {
   "cell_type": "code",
   "execution_count": 92,
   "outputs": [
    {
     "data": {
      "text/plain": "{'name': '北京-通州区'}"
     },
     "execution_count": 92,
     "metadata": {},
     "output_type": "execute_result"
    }
   ],
   "source": [
    "data_all[1]"
   ],
   "metadata": {
    "collapsed": false
   }
  },
  {
   "cell_type": "code",
   "execution_count": 94,
   "outputs": [
    {
     "ename": "KeyError",
     "evalue": "{'name': '北京-通州区'}",
     "output_type": "error",
     "traceback": [
      "\u001B[1;31m---------------------------------------------------------------------------\u001B[0m",
      "\u001B[1;31mKeyError\u001B[0m                                  Traceback (most recent call last)",
      "Cell \u001B[1;32mIn[94], line 3\u001B[0m\n\u001B[0;32m      1\u001B[0m set_data_all \u001B[38;5;241m=\u001B[39m {}\n\u001B[0;32m      2\u001B[0m \u001B[38;5;28;01mfor\u001B[39;00m i \u001B[38;5;129;01min\u001B[39;00m \u001B[38;5;28mrange\u001B[39m(\u001B[38;5;28mlen\u001B[39m(data_all)):\n\u001B[1;32m----> 3\u001B[0m     \u001B[43mset_data_all\u001B[49m\u001B[38;5;241;43m.\u001B[39;49m\u001B[43mpop\u001B[49m\u001B[43m(\u001B[49m\u001B[43mdata_all\u001B[49m\u001B[43m[\u001B[49m\u001B[38;5;241;43m1\u001B[39;49m\u001B[43m]\u001B[49m\u001B[43m)\u001B[49m\n\u001B[0;32m      5\u001B[0m set_data_all\n",
      "\u001B[1;31mKeyError\u001B[0m: {'name': '北京-通州区'}"
     ]
    }
   ],
   "source": [
    "set_data_all = {}\n",
    "for i in range(len(data_all)):\n",
    "    set_data_all.pop(data_all[1])\n",
    "\n",
    "set_data_all"
   ],
   "metadata": {
    "collapsed": false
   }
  },
  {
   "cell_type": "code",
   "execution_count": 21,
   "outputs": [
    {
     "data": {
      "text/plain": "     Unnamed: 0 recruiter.recruiterTitle comp.compScale comp.compStage  \\\n21           21                     招聘专家       10000人以上             其他   \n28           28                      NaN       10000人以上             其他   \n112          32                     招聘专家       10000人以上             其他   \n138          18                     招聘专家       10000人以上             其他   \n166           6                      NaN       10000人以上             其他   \n\n    comp.compIndustry comp.compName                              job.labels  \\\n21                互联网          字节跳动                                ['产品运营']   \n28                互联网          字节跳动                ['数据分析', '产品运营', '用户运营']   \n112               互联网          字节跳动                                      []   \n138               互联网          字节跳动                                      []   \n166               互联网          字节跳动  ['快消品类', '美食类', '食品类', '美妆类', '批发/零售']   \n\n     job.dq job.campusJobKind            job.title  job.salary  \n21   北京-海淀区               NaN     商业化产品运营-飞书People  25-50k·15薪  \n28   北京-海淀区               NaN              产品运营实习生        2-4k  \n112  北京-海淀区               NaN  企业效能顾问（生态伙伴管理方向）-飞书  30-60k·15薪  \n138  北京-海淀区               NaN      飞书企业效能顾问-业务效能方向  25-55k·15薪  \n166  北京-海淀区               NaN     零售行业解决方案实习生-火山引擎        3-4k  ",
      "text/html": "<div>\n<style scoped>\n    .dataframe tbody tr th:only-of-type {\n        vertical-align: middle;\n    }\n\n    .dataframe tbody tr th {\n        vertical-align: top;\n    }\n\n    .dataframe thead th {\n        text-align: right;\n    }\n</style>\n<table border=\"1\" class=\"dataframe\">\n  <thead>\n    <tr style=\"text-align: right;\">\n      <th></th>\n      <th>Unnamed: 0</th>\n      <th>recruiter.recruiterTitle</th>\n      <th>comp.compScale</th>\n      <th>comp.compStage</th>\n      <th>comp.compIndustry</th>\n      <th>comp.compName</th>\n      <th>job.labels</th>\n      <th>job.dq</th>\n      <th>job.campusJobKind</th>\n      <th>job.title</th>\n      <th>job.salary</th>\n    </tr>\n  </thead>\n  <tbody>\n    <tr>\n      <th>21</th>\n      <td>21</td>\n      <td>招聘专家</td>\n      <td>10000人以上</td>\n      <td>其他</td>\n      <td>互联网</td>\n      <td>字节跳动</td>\n      <td>['产品运营']</td>\n      <td>北京-海淀区</td>\n      <td>NaN</td>\n      <td>商业化产品运营-飞书People</td>\n      <td>25-50k·15薪</td>\n    </tr>\n    <tr>\n      <th>28</th>\n      <td>28</td>\n      <td>NaN</td>\n      <td>10000人以上</td>\n      <td>其他</td>\n      <td>互联网</td>\n      <td>字节跳动</td>\n      <td>['数据分析', '产品运营', '用户运营']</td>\n      <td>北京-海淀区</td>\n      <td>NaN</td>\n      <td>产品运营实习生</td>\n      <td>2-4k</td>\n    </tr>\n    <tr>\n      <th>112</th>\n      <td>32</td>\n      <td>招聘专家</td>\n      <td>10000人以上</td>\n      <td>其他</td>\n      <td>互联网</td>\n      <td>字节跳动</td>\n      <td>[]</td>\n      <td>北京-海淀区</td>\n      <td>NaN</td>\n      <td>企业效能顾问（生态伙伴管理方向）-飞书</td>\n      <td>30-60k·15薪</td>\n    </tr>\n    <tr>\n      <th>138</th>\n      <td>18</td>\n      <td>招聘专家</td>\n      <td>10000人以上</td>\n      <td>其他</td>\n      <td>互联网</td>\n      <td>字节跳动</td>\n      <td>[]</td>\n      <td>北京-海淀区</td>\n      <td>NaN</td>\n      <td>飞书企业效能顾问-业务效能方向</td>\n      <td>25-55k·15薪</td>\n    </tr>\n    <tr>\n      <th>166</th>\n      <td>6</td>\n      <td>NaN</td>\n      <td>10000人以上</td>\n      <td>其他</td>\n      <td>互联网</td>\n      <td>字节跳动</td>\n      <td>['快消品类', '美食类', '食品类', '美妆类', '批发/零售']</td>\n      <td>北京-海淀区</td>\n      <td>NaN</td>\n      <td>零售行业解决方案实习生-火山引擎</td>\n      <td>3-4k</td>\n    </tr>\n  </tbody>\n</table>\n</div>"
     },
     "execution_count": 21,
     "metadata": {},
     "output_type": "execute_result"
    }
   ],
   "source": [
    "df[df['comp.compName']=='字节跳动']"
   ],
   "metadata": {
    "collapsed": false
   }
  },
  {
   "cell_type": "code",
   "execution_count": 3,
   "outputs": [
    {
     "data": {
      "text/plain": "{'1-49人',\n '100-499人',\n '1000-2000人',\n '10000人以上',\n '2000-5000人',\n '50-99人',\n '500-999人',\n '5000-10000人',\n nan}"
     },
     "execution_count": 3,
     "metadata": {},
     "output_type": "execute_result"
    }
   ],
   "source": [
    "set(df['comp.compScale'])"
   ],
   "metadata": {
    "collapsed": false
   }
  },
  {
   "cell_type": "code",
   "execution_count": 4,
   "outputs": [
    {
     "data": {
      "text/plain": "{'北京',\n '北京-东城区',\n '北京-丰台区',\n '北京-大兴区',\n '北京-平谷区',\n '北京-延庆区',\n '北京-怀柔区',\n '北京-房山区',\n '北京-昌平区',\n '北京-朝阳区',\n '北京-海淀区',\n '北京-石景山区',\n '北京-西城区',\n '北京-通州区',\n '北京-门头沟区',\n '北京-顺义区'}"
     },
     "execution_count": 4,
     "metadata": {},
     "output_type": "execute_result"
    }
   ],
   "source": [
    "set(df['job.dq'])"
   ],
   "metadata": {
    "collapsed": false
   }
  },
  {
   "cell_type": "markdown",
   "metadata": {},
   "source": [
    "# 1.  comp.compIndustry 行业分析(Demo:单一分类数据词频分析)"
   ]
  },
  {
   "cell_type": "code",
   "execution_count": 5,
   "metadata": {},
   "outputs": [
    {
     "data": {
      "text/plain": "0            中关村标准化协会\n1            中关村标准化协会\n2         北京中航智科技有限公司\n3               Baidu\n4      北京智慧星光信息技术有限公司\n            ...      \n395             好大夫在线\n396             好大夫在线\n397             好大夫在线\n398             好大夫在线\n399    北京医来伸手健康管理有限公司\nName: comp.compName, Length: 400, dtype: object"
     },
     "execution_count": 5,
     "metadata": {},
     "output_type": "execute_result"
    }
   ],
   "source": [
    "df['comp.compName']"
   ]
  },
  {
   "cell_type": "code",
   "execution_count": 6,
   "metadata": {},
   "outputs": [
    {
     "data": {
      "text/plain": "北京厚朴优学教育科技有限公司    28\n光谷动力科技            14\nBaidu              8\n京东                 7\n字节跳动               5\n                  ..\n深圳乐巢时代科技有限公司       1\n北京链鲸科技有限公司         1\n新氧科技               1\n北京乐城堡科技有限公司        1\n北京医来伸手健康管理有限公司     1\nName: comp.compName, Length: 296, dtype: int64"
     },
     "execution_count": 6,
     "metadata": {},
     "output_type": "execute_result"
    }
   ],
   "source": [
    "df['comp.compName'].value_counts()"
   ]
  },
  {
   "cell_type": "code",
   "execution_count": 7,
   "metadata": {},
   "outputs": [
    {
     "data": {
      "text/plain": "[('北京厚朴优学教育科技有限公司', 28),\n ('光谷动力科技', 14),\n ('Baidu', 8),\n ('京东', 7),\n ('字节跳动', 5),\n ('好大夫在线', 4),\n ('京东商城', 4),\n ('北京和平阳光国际健身俱乐部有限公司', 4),\n ('北京世纪好未来教育科技有限公司', 3),\n ('北京抖音信息服务有限公司', 3),\n ('美团网', 3),\n ('百度(中国)有限公司', 3),\n ('曼迪匹艾(北京)科技服务有限公司', 3),\n ('北京智慧星光信息技术有限公司', 3),\n ('北京中航智科技有限公司', 2),\n ('用友网络科技股份有限公司', 2),\n ('华为', 2),\n ('北京宏昆酒店集团', 2),\n ('酷渲(北京)科技有限公司', 2),\n ('北京金巴顺漾科技有限公司', 2),\n ('北京网安通达科技有限公司', 2),\n ('北京胜尊信息技术有限公司', 2),\n ('北京同仁堂健康', 2),\n ('一寸光年', 2),\n ('中关村标准化协会', 2),\n ('烟台莹佳食品有限公司', 2),\n ('北京崇珍科贸有限公司', 2),\n ('软通动力', 2),\n ('泰康健投', 2),\n ('联东集团', 2),\n ('百度网讯', 2),\n ('北京炎龙时空通信科技有限责任公司', 2),\n ('戍源优品科技发展(北京)有限公司', 2),\n ('颐康润养(北京)科技发展有限公司', 2),\n ('北京华清易点科技有限公司', 2),\n ('北京嘀果技术服务有限公司', 2),\n ('沃丰科技', 2),\n ('北京国质联合检测技术研究院', 2),\n ('链家地产', 2),\n ('北京格瑞广告传媒有限公司', 2),\n ('恒昌', 1),\n ('惠买在线', 1),\n ('北京质云数据科技有限公司', 1),\n ('须眉智能科技(江苏)有限公司', 1),\n ('北京世纪高教图书有限公司', 1),\n ('北京医来伸手健康管理有限公司同世堂中医诊所', 1),\n ('北京小牛邦信息技术有限公司', 1),\n ('北京鹰瞳科技发展股份有限公司', 1),\n ('顺丰速运', 1),\n ('北京宠医点评科技有限公司', 1),\n ('北京华创盈讯科技有限公司', 1),\n ('北京京邦达贸易有限公司', 1),\n ('永福盛(北京)食品有限公司', 1),\n ('北京天一沃德商务服务有限公司', 1),\n ('日推石化(北京)有限公司', 1),\n ('北京东方明悦体育发展有限公司', 1),\n ('北京宏途创联科技有限公司', 1),\n ('北京聚英星辉科技有限公司', 1),\n ('北京微联至元商贸有限公司', 1),\n ('北京航天创智科技有限公司', 1),\n ('北京顺昌盛世医疗大数据科技有限公司同世堂第零零零中医诊所', 1),\n ('启鸣梧桐(北京)科技有限公司', 1),\n ('北京网讯达科技有限公司', 1),\n ('北京众心天诚科技发展有限公司', 1),\n ('北京积木控文化有限公司', 1),\n ('呷哺呷哺', 1),\n ('北京润泽慧教育科技有限公司', 1),\n ('百度时代网络', 1),\n ('北京紫光数智科技股份有限公司', 1),\n ('中信科智联科技有限公司', 1),\n ('东风汽车金融有限公司', 1),\n ('美世留学', 1),\n ('北京易点淘网络技术有限公司', 1),\n ('北京书香文雅图书文化有限公司', 1),\n ('上海睿沃信息科技有限公司', 1),\n ('云南白药集团股份有限公司', 1),\n ('中国电信安全公司', 1),\n ('HORWATH酒店管理顾问(北京)有限公司', 1),\n ('华为云计算技术有限公司', 1),\n ('北京信联数安科技有限公司', 1),\n ('修正药业集团股份有限公司', 1),\n ('北京京西重工有限公司', 1),\n ('欣可丽美学(上海)医疗科技有限公司', 1),\n ('骏安供应链科技有限公司', 1),\n ('英雄互娱科技股份有限公司', 1),\n ('宝马(中国)汽车贸易有限公司', 1),\n ('北京清能互联科技有限公司', 1),\n ('北京云动九天科技有限公司', 1),\n ('三节课', 1),\n ('中信期货', 1),\n ('数坤科技', 1),\n ('小川科技', 1),\n ('蒙羊康盛(北京)食品有限公司', 1),\n ('北京瑞通领航科技有限公司', 1),\n ('北京爱车团网络科技有限公司', 1),\n ('Yogo Robot', 1),\n ('宜佰壹(北京)餐饮管理有限公司', 1),\n ('北京开金睿远管理咨询有限公司', 1),\n ('北京伴刻翼科技有限公司', 1),\n ('高途', 1),\n ('航天开元', 1),\n ('咏怀钟鼎', 1),\n ('德科信息', 1),\n ('泰康在线财产保险股份有限公司', 1),\n ('北京钓台傲骄食品科技有限公司', 1),\n ('中国信息通信研究院', 1),\n ('百融云创', 1),\n ('清源泰硕', 1),\n ('北京企悦惠科技发展有限公司', 1),\n ('山东九鑫生物工程有限公司', 1),\n ('长信恒业家族办公室', 1),\n ('安徽省永幕教育咨询有限公司', 1),\n ('北京草莓时代文化传媒有限责任公司', 1),\n ('北京朗迪锋科技有限公司', 1),\n ('去哪儿', 1),\n ('利玛软件', 1),\n ('都美(北京)品牌管理有限公司', 1),\n ('北京一景园林有限公司', 1),\n ('北京祉君商贸有限公司', 1),\n ('北京锐服信科技有限公司', 1),\n ('上海尝享网络科技有限公司', 1),\n ('镭神智能', 1),\n ('北京双子博鑫文化传播有限公司', 1),\n ('北京中润广益科技发展有限公司', 1),\n ('北京博思汇文数字科技有限公司', 1),\n ('北京德达互动咨询有限公司', 1),\n ('北京一来电子商务有限公司', 1),\n ('北京红豆树网络科技有限公司', 1),\n ('北京学力星球科技有限责任公司', 1),\n ('北京睿美傲世文化传播有限公司', 1),\n ('北京简舍装饰设计有限公司', 1),\n ('北京泽元堂', 1),\n ('方正中期期货', 1),\n ('北京法利莱移动板房有限公司', 1),\n ('云南澜博科技有限公司', 1),\n ('北京万相归春网络科技有限公司', 1),\n ('睿艺视通信息技术(北京)有限公司', 1),\n ('金桐网', 1),\n ('汇才远达(北京)科技有限公司', 1),\n ('云豆传媒(北京)有限公司', 1),\n ('北京飞步凌云科技有限公司', 1),\n ('北京知牧科技有限责任公司', 1),\n ('北京创金启富', 1),\n ('北京中科九章软件有限公司', 1),\n ('平安健康保险股份有限公司北京分公司', 1),\n ('小米', 1),\n ('中讯邮电咨询设计院有限公司', 1),\n ('朗姿股份有限公司', 1),\n ('是通科技(北京)有限公司', 1),\n ('Transfer easy', 1),\n ('金诚信', 1),\n ('中国电信股份有限公司', 1),\n ('上海南燕信息技术有限公司', 1),\n ('远海国际旅游集团', 1),\n ('北京新锐伟业网络技术有限公司', 1),\n ('爱康网', 1),\n ('北京玮航科技有限公司', 1),\n ('泰康健康管理(北京)有限公司', 1),\n ('思梵私募基金管理(杭州)有限公司', 1),\n ('视源股份', 1),\n ('北京人人平安科技有限公司', 1),\n ('北京骏嘉财通科技有限公司', 1),\n ('北京龙宏兴塑日用品有限公司', 1),\n ('京东集团', 1),\n ('中国青年出版总社有限公司', 1),\n ('抖音视界有限公司', 1),\n ('集易行', 1),\n ('北京科学技术出版社', 1),\n ('北京牛客科技有限公司', 1),\n ('北京金风科创风电设备有限公司', 1),\n ('佛山市南海区中城数字城市促进中心', 1),\n ('完美世界', 1),\n ('海南鹭鹰私募基金管理合伙企业(有限合伙)', 1),\n ('苏州聊医聊信息科技有限公司', 1),\n ('北京蓝海在线科技有限公司', 1),\n ('京华观致(北京)国际信息咨询有限公司', 1),\n ('华农财产保险', 1),\n ('愿景和家', 1),\n ('北京千里马网信科技有限公司', 1),\n ('微博', 1),\n ('北京百灵威科技有限公司', 1),\n ('北京汇智捷科技有限公司', 1),\n ('阿尔特汽车技术股份有限公司', 1),\n ('我看网络技术(北京)有限公司', 1),\n ('中国民生银行股份有限公司', 1),\n ('搜狐', 1),\n ('国科恒泰(北京)医疗科技股份有限公司', 1),\n ('新东方前途', 1),\n ('巴别时代', 1),\n ('北京优品酷卖科技有限公司', 1),\n ('北京形上科技有限责任公司', 1),\n ('北京格力森酒业有限公司', 1),\n ('分享通信', 1),\n ('凤凰网', 1),\n ('走遍世界(北京)信息技术有限公司', 1),\n ('北京青翼凌云科技有限公司', 1),\n ('北京课厅教育科技有限公司', 1),\n ('北京易思卓科技有限公司', 1),\n ('中国航空器拥有者及驾驶员协会', 1),\n ('北京城市网邻信息技术有限公司', 1),\n ('北京诚悦晟达商贸有限公司', 1),\n ('一心向上', 1),\n ('北京中欣银宝通支付服务有限公司', 1),\n ('中青旅控股股份有限公司', 1),\n ('贝壳找房(北京)科技有限公司', 1),\n ('半糖去冰科技(北京)有限公司', 1),\n ('北京航天智造科技发展有限公司', 1),\n ('中国农业电影电视中心', 1),\n ('一汽(北京)软件科技有限公司', 1),\n ('建信融通有限责任公司', 1),\n ('布比科技', 1),\n ('花香盛世国际体育', 1),\n ('深圳市商汤科技有限公司', 1),\n ('北京人教希望读者服务有限责任公司', 1),\n ('迦游', 1),\n ('金山办公软件', 1),\n ('北京金桐网科技有限公司', 1),\n ('北京顺丰同城科技有限公司', 1),\n ('景行慧动', 1),\n ('单赤道(北京)咖啡餐饮管理有限责任公司', 1),\n ('守望地球(北京)环境科技有限公司', 1),\n ('北京丰泽晟华农业科技发展有限公司', 1),\n ('17173', 1),\n ('超极想网络科技(北京)有限公司', 1),\n ('三星电子', 1),\n ('北京学策科技有限公司', 1),\n ('北京金玺文化传媒有限公司', 1),\n ('时代传浮', 1),\n ('网易有道', 1),\n ('北京独角鲸群文化创意有限公司', 1),\n ('北京叁姐妹网络科技有限公司', 1),\n ('北京合众衡平信息技术有限责任公司', 1),\n ('北京乘风扬航科技有限公司', 1),\n ('畅游天下', 1),\n ('北京海丰特环境科技发展有限公司', 1),\n ('北京掌上先机网络科技有限公司(慧策)', 1),\n ('明世公司', 1),\n ('阿里巴巴集团', 1),\n ('润泽环保', 1),\n ('北京章鱼小泡泡科技有限公司', 1),\n ('中科博爱(北京)咨询有限公司', 1),\n ('北京维应科技有限责任公司', 1),\n ('阳光保险集团', 1),\n ('北京君尚伟业科技有限公司', 1),\n ('独角鲨(北京)科技有限公司', 1),\n ('麦凯隆(北京)家居用品有限公司', 1),\n ('快手', 1),\n ('施耐德电气', 1),\n ('荣耀终端', 1),\n ('北京乐信圣文科技有限责任公司', 1),\n ('北京博雅甲睿文化发展有限公司', 1),\n ('北京金元尚杰科技有限公司', 1),\n ('华夏恒生', 1),\n ('北京鸿盈信息技术有限公司', 1),\n ('北京文迪威教育科技有限公司', 1),\n ('上海书品仓科技有限责任公司', 1),\n ('北京爱语吧科技有限公司', 1),\n ('金溪县阿里兄弟电子商务有限公司', 1),\n ('北京青峰玉吉科技咨询服务有限公司', 1),\n ('北京四维通联电讯器材有限公司', 1),\n ('梦灵国际医疗科技(北京)有限责任公司', 1),\n ('北京疯狂体育产业管理有限公司', 1),\n ('合生创展集团有限公司', 1),\n ('国信证券股份有限公司', 1),\n ('天津魔芝工坊信息技术有限公司', 1),\n ('新世纪医疗', 1),\n ('厦门安踏服饰有限公司', 1),\n ('北京蓝色光标数字传媒科技有限公司', 1),\n ('赋范空间', 1),\n ('水滴公司', 1),\n ('海鸿达(北京)餐饮管理有限公司', 1),\n ('博思致新', 1),\n ('医药魔方', 1),\n ('北京御生堂健康产业集团有限公司', 1),\n ('朗致集团', 1),\n ('北京市酥米教育科技有限公司', 1),\n ('中国人寿保险销售有限责任公司', 1),\n ('张家口花椒科技有限公司', 1),\n ('航天信息软件技术有限公司', 1),\n ('北京华熙海御科技有限公司', 1),\n ('灵岩创世', 1),\n ('北京天算资产管理有限公司', 1),\n ('山东辰扬环境科技有限公司', 1),\n ('网易集团', 1),\n ('北京北信源软件股份有限公司', 1),\n ('北京中程润达科技有限公司', 1),\n ('蚂蚁集团', 1),\n ('北京弘毅远科技有限公司', 1),\n ('京东方空间数智', 1),\n ('北京牧游科技有限公司', 1),\n ('浙江游侠客国际旅行社有限公司北京分公司', 1),\n ('深圳乐巢时代科技有限公司', 1),\n ('北京链鲸科技有限公司', 1),\n ('新氧科技', 1),\n ('北京乐城堡科技有限公司', 1),\n ('北京医来伸手健康管理有限公司', 1)]"
     },
     "execution_count": 7,
     "metadata": {},
     "output_type": "execute_result"
    }
   ],
   "source": [
    "word_compName = [(i,v) for i,v in df['comp.compName'].value_counts().items()]\n",
    "word_compName"
   ]
  },
  {
   "cell_type": "code",
   "execution_count": 8,
   "metadata": {},
   "outputs": [],
   "source": [
    "from pyecharts import options as opts\n",
    "from pyecharts.charts import WordCloud\n",
    "\n",
    "c = (\n",
    "    WordCloud()\n",
    "    .add(series_name=\"热点分析\", data_pair=word_compName, word_size_range=[6, 66])\n",
    "    .set_global_opts(\n",
    "        title_opts=opts.TitleOpts(\n",
    "            title=\"热点分析\", title_textstyle_opts=opts.TextStyleOpts(font_size=23)\n",
    "        ),\n",
    "        tooltip_opts=opts.TooltipOpts(is_show=True),\n",
    "    )\n",
    "    .render(\"test.html\")\n",
    ")"
   ]
  },
  {
   "cell_type": "markdown",
   "metadata": {},
   "source": [
    "# 2. 多层级的字段分析"
   ]
  },
  {
   "cell_type": "code",
   "execution_count": 9,
   "metadata": {},
   "outputs": [
    {
     "data": {
      "text/plain": "Index(['Unnamed: 0', 'recruiter.recruiterTitle', 'comp.compScale',\n       'comp.compStage', 'comp.compIndustry', 'comp.compName', 'job.labels',\n       'job.dq', 'job.campusJobKind', 'job.title', 'job.salary'],\n      dtype='object')"
     },
     "execution_count": 9,
     "metadata": {},
     "output_type": "execute_result"
    }
   ],
   "source": [
    "df.columns"
   ]
  },
  {
   "cell_type": "code",
   "execution_count": 10,
   "metadata": {},
   "outputs": [
    {
     "data": {
      "text/plain": "     job.dq comp.compIndustry                    job.title\n0    北京-海淀区             非营利组织                         项目助理\n1    北京-海淀区             非营利组织                        项目管培生\n2        北京           航空/航天设备                        销售工程师\n3        北京               互联网                 产品运营-营销和生态方向\n4        北京             计算机软件                      产品运营实习生\n..      ...               ...                          ...\n395  北京-朝阳区             互联网医疗  好大夫-互联网医疗运营（限临床/预防/护理等医学专业）\n396  北京-朝阳区             互联网医疗       健康顾问（15-20K，16薪）J10974\n397  北京-朝阳区             互联网医疗     医学专员（底薪15-20K，16薪）J10974\n398  北京-朝阳区             互联网医疗       运营专员（10-20K，16薪）J10974\n399  北京-昌平区               互联网                         视频剪辑\n\n[400 rows x 3 columns]",
      "text/html": "<div>\n<style scoped>\n    .dataframe tbody tr th:only-of-type {\n        vertical-align: middle;\n    }\n\n    .dataframe tbody tr th {\n        vertical-align: top;\n    }\n\n    .dataframe thead th {\n        text-align: right;\n    }\n</style>\n<table border=\"1\" class=\"dataframe\">\n  <thead>\n    <tr style=\"text-align: right;\">\n      <th></th>\n      <th>job.dq</th>\n      <th>comp.compIndustry</th>\n      <th>job.title</th>\n    </tr>\n  </thead>\n  <tbody>\n    <tr>\n      <th>0</th>\n      <td>北京-海淀区</td>\n      <td>非营利组织</td>\n      <td>项目助理</td>\n    </tr>\n    <tr>\n      <th>1</th>\n      <td>北京-海淀区</td>\n      <td>非营利组织</td>\n      <td>项目管培生</td>\n    </tr>\n    <tr>\n      <th>2</th>\n      <td>北京</td>\n      <td>航空/航天设备</td>\n      <td>销售工程师</td>\n    </tr>\n    <tr>\n      <th>3</th>\n      <td>北京</td>\n      <td>互联网</td>\n      <td>产品运营-营销和生态方向</td>\n    </tr>\n    <tr>\n      <th>4</th>\n      <td>北京</td>\n      <td>计算机软件</td>\n      <td>产品运营实习生</td>\n    </tr>\n    <tr>\n      <th>...</th>\n      <td>...</td>\n      <td>...</td>\n      <td>...</td>\n    </tr>\n    <tr>\n      <th>395</th>\n      <td>北京-朝阳区</td>\n      <td>互联网医疗</td>\n      <td>好大夫-互联网医疗运营（限临床/预防/护理等医学专业）</td>\n    </tr>\n    <tr>\n      <th>396</th>\n      <td>北京-朝阳区</td>\n      <td>互联网医疗</td>\n      <td>健康顾问（15-20K，16薪）J10974</td>\n    </tr>\n    <tr>\n      <th>397</th>\n      <td>北京-朝阳区</td>\n      <td>互联网医疗</td>\n      <td>医学专员（底薪15-20K，16薪）J10974</td>\n    </tr>\n    <tr>\n      <th>398</th>\n      <td>北京-朝阳区</td>\n      <td>互联网医疗</td>\n      <td>运营专员（10-20K，16薪）J10974</td>\n    </tr>\n    <tr>\n      <th>399</th>\n      <td>北京-昌平区</td>\n      <td>互联网</td>\n      <td>视频剪辑</td>\n    </tr>\n  </tbody>\n</table>\n<p>400 rows × 3 columns</p>\n</div>"
     },
     "execution_count": 10,
     "metadata": {},
     "output_type": "execute_result"
    }
   ],
   "source": [
    "df[['job.dq','comp.compIndustry','job.title']]"
   ]
  },
  {
   "cell_type": "code",
   "execution_count": 27,
   "metadata": {},
   "outputs": [
    {
     "name": "stdout",
     "output_type": "stream",
     "text": [
      "北京-朝阳区\n",
      "北京-大兴区\n",
      "北京-东城区\n",
      "北京-怀柔区\n",
      "北京-西城区\n",
      "北京-昌平区\n",
      "北京-顺义区\n",
      "北京\n",
      "北京-石景山区\n",
      "北京-房山区\n",
      "北京-海淀区\n",
      "北京-延庆区\n",
      "北京-平谷区\n",
      "北京-丰台区\n",
      "北京-通州区\n",
      "北京-门头沟区\n"
     ]
    }
   ],
   "source": [
    "for i in set(df['job.dq']):\n",
    "    print(i)"
   ]
  },
  {
   "cell_type": "code",
   "execution_count": 11,
   "metadata": {
    "scrolled": true
   },
   "outputs": [
    {
     "data": {
      "text/plain": "{'IT服务',\n '专业技术服务',\n '互联网',\n '人工智能',\n '其他教育培训',\n '制药',\n '医疗器械',\n '咨询服务',\n '在线教育',\n '在线社交/媒体',\n '培训服务',\n '广播/影视/录音',\n '房地产租赁/中介',\n '批发/零售',\n '政府/公共事业',\n '新闻和出版业',\n '环保',\n '生活服务O2O',\n '电子商务',\n '科技推广服务',\n '科技金融',\n '航空/航天设备',\n '计算机硬件',\n '计算机软件',\n '货运/物流/仓储',\n '通信设备',\n '酒店/民宿',\n '非营利组织'}"
     },
     "execution_count": 11,
     "metadata": {},
     "output_type": "execute_result"
    }
   ],
   "source": [
    "北京海淀区产业集合 = set(df[df['job.dq'].isin(['北京-海淀区'])]['comp.compIndustry'])\n",
    "北京海淀区产业集合"
   ]
  },
  {
   "cell_type": "code",
   "execution_count": 15,
   "outputs": [
    {
     "data": {
      "text/plain": "0       非营利组织\n1       非营利组织\n10       科技金融\n11        互联网\n15       培训服务\n        ...  \n373    科技推广服务\n374     计算机软件\n381      电子商务\n384    专业技术服务\n386     批发/零售\nName: comp.compIndustry, Length: 76, dtype: object"
     },
     "execution_count": 15,
     "metadata": {},
     "output_type": "execute_result"
    }
   ],
   "source": [
    "\n",
    "df[df['job.dq'].isin(['北京-海淀区'])]['comp.compIndustry']"
   ],
   "metadata": {
    "collapsed": false
   }
  },
  {
   "cell_type": "code",
   "execution_count": 60,
   "metadata": {
    "scrolled": true
   },
   "outputs": [
    {
     "data": {
      "text/plain": [
       "{'政府/公共事业': ['线上运营经理'],\n",
       " '货运/物流/仓储': ['物流平台运营管理岗'],\n",
       " '生活服务O2O': ['海外产品运营', '产品运营实习生'],\n",
       " '航空/航天设备': ['产 品 经 理', '市场产品专员'],\n",
       " '计算机软件': ['产品运营实习生',\n",
       "  '产品运营实习生',\n",
       "  '国际化产品创作者运营实习生(巴西)',\n",
       "  '客户成功运营顾问',\n",
       "  '管理培训生（运营管理）',\n",
       "  '英语编辑',\n",
       "  '软件开发工程师',\n",
       "  '百度AI开放平台-智能创作-产品实习生',\n",
       "  '客户经理',\n",
       "  '内容运营实习生（幼教）'],\n",
       " '互联网': ['AIGC产品运营(J59073)',\n",
       "  '产品运营实习生',\n",
       "  '商业化产品运营-飞书People',\n",
       "  '产品运营实习生',\n",
       "  '产品运营',\n",
       "  '知道产品部_用户产品运营实习生(J66018)',\n",
       "  '物业市拓经理',\n",
       "  '海外运营总监',\n",
       "  '企业效能顾问（生态伙伴管理方向）-飞书',\n",
       "  '应用产品业务运营部_PMO(J54274)',\n",
       "  '资深SEO优化',\n",
       "  '飞书企业效能顾问-业务效能方向',\n",
       "  '零售行业解决方案实习生-火山引擎',\n",
       "  'HR数据分析实习生',\n",
       "  '内容运营实习生',\n",
       "  '能源互联网产品工程师',\n",
       "  '运营专员',\n",
       "  '菲律宾翻译',\n",
       "  '亚运会体育热点实习（外派百度）'],\n",
       " '咨询服务': ['BI工程师（14薪，全额社保）'],\n",
       " '电子商务': ['搜索推荐策略产品经理 (MJ005771)'],\n",
       " '在线教育': ['教学设计实习生 (MJ000027)'],\n",
       " '医疗器械': ['仪器产品经理'],\n",
       " '批发/零售': ['电商运营'],\n",
       " '科技推广服务': ['新媒体运营', 'HTML5'],\n",
       " '新闻和出版业': ['项目助理（Scilit）', '项目助理（Scilit）', '项目助理（Scilit）'],\n",
       " '科技金融': ['产品运营经理——股权激励SaaS产品', '客户运营专员'],\n",
       " '房地产租赁/中介': ['产品运营'],\n",
       " '制药': ['数据分析专员'],\n",
       " '在线社交/媒体': ['交互设计师', '业务监察部-实习生', 'Golang后台开发工程师', '产品经理', '数据安全专家、资深工程师'],\n",
       " '环保': ['科考产品运营'],\n",
       " '培训服务': ['产品运营实习生', '产品运营', '美本留学产品专员', '课程销售'],\n",
       " '非营利组织': ['项目助理', '项目管培生'],\n",
       " '酒店/民宿': ['会员策略运营', '集团协议拓展'],\n",
       " '专业技术服务': ['海外运营经理', '新媒体运营', '电商运营助理'],\n",
       " '广播/影视/录音': ['产品运营实习生', '产品运营专员', '实习编辑', '用户运营'],\n",
       " '人工智能': ['产品经理-视光 (MJ000558)'],\n",
       " '通信设备': ['软件开发工程师', '大数据开发工程师'],\n",
       " '计算机硬件': ['工业互联网产业研究员'],\n",
       " 'IT服务': ['体验提升产品经理'],\n",
       " '其他教育培训': ['业务拓展专员/助理']}"
      ]
     },
     "execution_count": 60,
     "metadata": {},
     "output_type": "execute_result"
    }
   ],
   "source": [
    "北京海淀行业_岗位 = {\n",
    "    i:北京_海淀区[北京_海淀区['comp.compIndustry'].isin([i])]['job.title'].values.tolist()\n",
    "    for i in 北京海淀区产业集合\n",
    "}\n",
    "北京海淀行业_岗位"
   ]
  },
  {
   "cell_type": "code",
   "execution_count": 61,
   "metadata": {
    "scrolled": true
   },
   "outputs": [
    {
     "data": {
      "text/plain": [
       "[{'name': '北京-海淀区',\n",
       "  'children': [{'name': '政府/公共事业', 'children': [{'name': '线上运营经理'}]},\n",
       "   {'name': '货运/物流/仓储', 'children': [{'name': '物流平台运营管理岗'}]},\n",
       "   {'name': '生活服务O2O', 'children': [{'name': '海外产品运营'}, {'name': '产品运营实习生'}]},\n",
       "   {'name': '航空/航天设备', 'children': [{'name': '产 品 经 理'}, {'name': '市场产品专员'}]},\n",
       "   {'name': '计算机软件',\n",
       "    'children': [{'name': '产品运营实习生'},\n",
       "     {'name': '产品运营实习生'},\n",
       "     {'name': '国际化产品创作者运营实习生(巴西)'},\n",
       "     {'name': '客户成功运营顾问'},\n",
       "     {'name': '管理培训生（运营管理）'},\n",
       "     {'name': '英语编辑'},\n",
       "     {'name': '软件开发工程师'},\n",
       "     {'name': '百度AI开放平台-智能创作-产品实习生'},\n",
       "     {'name': '客户经理'},\n",
       "     {'name': '内容运营实习生（幼教）'}]},\n",
       "   {'name': '互联网',\n",
       "    'children': [{'name': 'AIGC产品运营(J59073)'},\n",
       "     {'name': '产品运营实习生'},\n",
       "     {'name': '商业化产品运营-飞书People'},\n",
       "     {'name': '产品运营实习生'},\n",
       "     {'name': '产品运营'},\n",
       "     {'name': '知道产品部_用户产品运营实习生(J66018)'},\n",
       "     {'name': '物业市拓经理'},\n",
       "     {'name': '海外运营总监'},\n",
       "     {'name': '企业效能顾问（生态伙伴管理方向）-飞书'},\n",
       "     {'name': '应用产品业务运营部_PMO(J54274)'},\n",
       "     {'name': '资深SEO优化'},\n",
       "     {'name': '飞书企业效能顾问-业务效能方向'},\n",
       "     {'name': '零售行业解决方案实习生-火山引擎'},\n",
       "     {'name': 'HR数据分析实习生'},\n",
       "     {'name': '内容运营实习生'},\n",
       "     {'name': '能源互联网产品工程师'},\n",
       "     {'name': '运营专员'},\n",
       "     {'name': '菲律宾翻译'},\n",
       "     {'name': '亚运会体育热点实习（外派百度）'}]},\n",
       "   {'name': '咨询服务', 'children': [{'name': 'BI工程师（14薪，全额社保）'}]},\n",
       "   {'name': '电子商务', 'children': [{'name': '搜索推荐策略产品经理 (MJ005771)'}]},\n",
       "   {'name': '在线教育', 'children': [{'name': '教学设计实习生 (MJ000027)'}]},\n",
       "   {'name': '医疗器械', 'children': [{'name': '仪器产品经理'}]},\n",
       "   {'name': '批发/零售', 'children': [{'name': '电商运营'}]},\n",
       "   {'name': '科技推广服务', 'children': [{'name': '新媒体运营'}, {'name': 'HTML5'}]},\n",
       "   {'name': '新闻和出版业',\n",
       "    'children': [{'name': '项目助理（Scilit）'},\n",
       "     {'name': '项目助理（Scilit）'},\n",
       "     {'name': '项目助理（Scilit）'}]},\n",
       "   {'name': '科技金融',\n",
       "    'children': [{'name': '产品运营经理——股权激励SaaS产品'}, {'name': '客户运营专员'}]},\n",
       "   {'name': '房地产租赁/中介', 'children': [{'name': '产品运营'}]},\n",
       "   {'name': '制药', 'children': [{'name': '数据分析专员'}]},\n",
       "   {'name': '在线社交/媒体',\n",
       "    'children': [{'name': '交互设计师'},\n",
       "     {'name': '业务监察部-实习生'},\n",
       "     {'name': 'Golang后台开发工程师'},\n",
       "     {'name': '产品经理'},\n",
       "     {'name': '数据安全专家、资深工程师'}]},\n",
       "   {'name': '环保', 'children': [{'name': '科考产品运营'}]},\n",
       "   {'name': '培训服务',\n",
       "    'children': [{'name': '产品运营实习生'},\n",
       "     {'name': '产品运营'},\n",
       "     {'name': '美本留学产品专员'},\n",
       "     {'name': '课程销售'}]},\n",
       "   {'name': '非营利组织', 'children': [{'name': '项目助理'}, {'name': '项目管培生'}]},\n",
       "   {'name': '酒店/民宿', 'children': [{'name': '会员策略运营'}, {'name': '集团协议拓展'}]},\n",
       "   {'name': '专业技术服务',\n",
       "    'children': [{'name': '海外运营经理'}, {'name': '新媒体运营'}, {'name': '电商运营助理'}]},\n",
       "   {'name': '广播/影视/录音',\n",
       "    'children': [{'name': '产品运营实习生'},\n",
       "     {'name': '产品运营专员'},\n",
       "     {'name': '实习编辑'},\n",
       "     {'name': '用户运营'}]},\n",
       "   {'name': '人工智能', 'children': [{'name': '产品经理-视光 (MJ000558)'}]},\n",
       "   {'name': '通信设备', 'children': [{'name': '软件开发工程师'}, {'name': '大数据开发工程师'}]},\n",
       "   {'name': '计算机硬件', 'children': [{'name': '工业互联网产业研究员'}]},\n",
       "   {'name': 'IT服务', 'children': [{'name': '体验提升产品经理'}]},\n",
       "   {'name': '其他教育培训', 'children': [{'name': '业务拓展专员/助理'}]}]}]"
      ]
     },
     "execution_count": 61,
     "metadata": {},
     "output_type": "execute_result"
    }
   ],
   "source": [
    "data = [\n",
    "    {\n",
    "        \"name\":\"北京-海淀区\",\n",
    "        \"children\":[\n",
    "            {\n",
    "            'name':i,\n",
    "            'children':[\n",
    "                {'name':j} for j in 北京海淀行业_岗位[i]]\n",
    "            } \n",
    "            for i in set(df[df['job.dq'].isin(['北京-海淀区'])]['comp.compIndustry'])\n",
    "        ]\n",
    "    }\n",
    "]\n",
    "data"
   ]
  },
  {
   "cell_type": "code",
   "execution_count": 104,
   "metadata": {},
   "outputs": [],
   "source": [
    "from pyecharts import options as opts\n",
    "from pyecharts.charts import Tree\n",
    "\n",
    "c = (\n",
    "    Tree()\n",
    "    .add(\"\", data_all, collapse_interval=1, layout=\"radial\")\n",
    "    .set_global_opts(title_opts=opts.TitleOpts(title=\"Tree-Layout\"))\n",
    "    .render(\"tree_layout.html\")\n",
    ")\n",
    "\n"
   ]
  },
  {
   "cell_type": "code",
   "execution_count": null,
   "metadata": {},
   "outputs": [],
   "source": []
  }
 ],
 "metadata": {
  "kernelspec": {
   "display_name": "Python 3",
   "language": "python",
   "name": "python3"
  },
  "language_info": {
   "codemirror_mode": {
    "name": "ipython",
    "version": 3
   },
   "file_extension": ".py",
   "mimetype": "text/x-python",
   "name": "python",
   "nbconvert_exporter": "python",
   "pygments_lexer": "ipython3",
   "version": "3.8.3"
  }
 },
 "nbformat": 4,
 "nbformat_minor": 4
}
