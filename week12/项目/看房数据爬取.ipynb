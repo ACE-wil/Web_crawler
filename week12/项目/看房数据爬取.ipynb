{
 "cells": [
  {
   "cell_type": "code",
   "execution_count": null,
   "outputs": [],
   "source": [
    "广州房子地址分析：\n",
    "天河：https://gz.lianjia.com/zufang/tianhe/\n",
    "越秀：https://gz.lianjia.com/zufang/yuexiu/\n",
    "海珠：https://gz.lianjia.com/zufang/haizhu/\n",
    "番禺：https://gz.lianjia.com/zufang/panyu/\n",
    "白云：https://gz.lianjia.com/zufang/baiyun/\n",
    "黄埔：https://gz.lianjia.com/zufang/huangpugz/\n",
    "从化：https://gz.lianjia.com/zufang/conghua/\n",
    "增城：https://gz.lianjia.com/zufang/zengcheng/\n",
    "花都：https://gz.lianjia.com/zufang/huadou/\n",
    "南沙：https://gz.lianjia.com/zufang/nansha/\n",
    "小于1000：rp1 1000-1500：rp2  1500-2000：rp3   2000-2500：rp4  2500-3000：rp5"
   ],
   "metadata": {
    "collapsed": false
   }
  },
  {
   "cell_type": "code",
   "execution_count": 1,
   "outputs": [],
   "source": [
    "from requests_html import HTMLSession"
   ],
   "metadata": {
    "collapsed": false
   }
  },
  {
   "cell_type": "code",
   "execution_count": 2,
   "outputs": [],
   "source": [
    "session = HTMLSession()"
   ],
   "metadata": {
    "collapsed": false
   }
  },
  {
   "cell_type": "code",
   "execution_count": 3,
   "outputs": [],
   "source": [
    "def get_house_data(gz_where,ren_pri):\n",
    "    if str(gz_where) == '天河':\n",
    "        base_url = 'https://gz.lianjia.com/zufang/tianhe/'\n",
    "    if str(gz_where) == '越秀':\n",
    "        base_url = 'https://gz.lianjia.com/zufang/yuexiu/'\n",
    "    if str(gz_where) == '海珠':\n",
    "        base_url = 'https://gz.lianjia.com/zufang/haizhu/'\n",
    "    if str(gz_where) == '番禺':\n",
    "        base_url = 'https://gz.lianjia.com/zufang/panyu/'\n",
    "    if str(gz_where) == '白云':\n",
    "        base_url = 'https://gz.lianjia.com/zufang/baiyun//'\n",
    "    if str(gz_where) == '黄埔':\n",
    "        base_url = 'https://gz.lianjia.com/zufang/huangpugz/'\n",
    "    if str(gz_where) == '从化':\n",
    "        base_url = 'https://gz.lianjia.com/zufang/conghua/'\n",
    "    if str(gz_where) == '增城':\n",
    "        base_url = 'https://gz.lianjia.com/zufang/zengcheng/'\n",
    "    if str(gz_where) == '花都':\n",
    "        base_url = 'https://gz.lianjia.com/zufang/huadou/'\n",
    "    if str(gz_where) == '南沙':\n",
    "        base_url = 'https://gz.lianjia.com/zufang/nansha/'\n",
    "    if str(ren_pri) == '小于1000':\n",
    "        rp = 'rp1'\n",
    "    if str(ren_pri) == '1000-2000':\n",
    "        rp = 'rp2'\n",
    "    if str(ren_pri) == '1500-2000':\n",
    "        rp = 'rp3'\n",
    "    if str(ren_pri) == '2000-2500':\n",
    "        rp = 'rp4'\n",
    "    if str(ren_pri) == '2500-3000':\n",
    "        rp = 'rp5'\n",
    "    url = base_url + rp\n",
    "    r = session.get(url)\n",
    "    house_title = r.html.find('a.twoline')\n",
    "    the_house_title = [x.text for x in house_title]\n",
    "    return the_house_title"
   ],
   "metadata": {
    "collapsed": false
   }
  },
  {
   "cell_type": "code",
   "execution_count": 4,
   "outputs": [
    {
     "data": {
      "text/plain": "['整租·源林花園 1室1厅 东南',\n '整租·后园北街5号 1室0厅 东南',\n '整租·三元里大道 1室0厅 东',\n '整租·同和路 1室1厅 东南',\n '整租·金满花园 2室1厅 西南',\n '整租·同和路 1室1厅 东南',\n '整租·华通东街 1室0厅 东',\n '整租·后园北街5号 1室0厅 东南',\n '整租·华通东街 0室1厅 东',\n '整租·新福港鼎荟 1室1厅 南',\n '整租·祥景花园AC区 1室1厅 北',\n '整租·金沙洲沙凤上远里9号小区 2室1厅 东南',\n '整租·西城苑 1室1厅 东南',\n '整租·松柏新村 1室1厅 东南',\n '整租·建南大厦 2室1厅 南',\n '整租·安基阁 2室1厅 西',\n '整租·榕溪南街39号 1室1厅 南']"
     },
     "execution_count": 4,
     "metadata": {},
     "output_type": "execute_result"
    }
   ],
   "source": [
    "the_house_title = get_house_data('白云','小于1000')\n",
    "the_house_title"
   ],
   "metadata": {
    "collapsed": false
   }
  },
  {
   "cell_type": "code",
   "execution_count": 5,
   "outputs": [],
   "source": [
    "from requests_html import HTMLSession\n",
    "session = HTMLSession()\n",
    "r = session.get('https://gz.lianjia.com/zufang/tianhe/rp2')"
   ],
   "metadata": {
    "collapsed": false
   }
  },
  {
   "cell_type": "markdown",
   "source": [
    "# 房子标题"
   ],
   "metadata": {
    "collapsed": false
   }
  },
  {
   "cell_type": "code",
   "execution_count": 6,
   "outputs": [],
   "source": [
    "house_title = r.html.find('a.twoline')\n",
    "the_house_title = [x.text for x in house_title]\n",
    "\n",
    "# house_title_p[0].text+'-'+house_title_p[1].text+'-'+house_title_p[2].text"
   ],
   "metadata": {
    "collapsed": false
   }
  },
  {
   "cell_type": "markdown",
   "source": [
    "# 房子详情"
   ],
   "metadata": {
    "collapsed": false
   }
  },
  {
   "cell_type": "code",
   "execution_count": 7,
   "outputs": [
    {
     "data": {
      "text/plain": "[<Element 'p' class=('content__list--item--des',)>,\n <Element 'p' class=('content__list--item--des',)>,\n <Element 'p' class=('content__list--item--des',)>,\n <Element 'p' class=('content__list--item--des',)>,\n <Element 'p' class=('content__list--item--des',)>,\n <Element 'p' class=('content__list--item--des',)>,\n <Element 'p' class=('content__list--item--des',)>,\n <Element 'p' class=('content__list--item--des',)>,\n <Element 'p' class=('content__list--item--des',)>,\n <Element 'p' class=('content__list--item--des',)>,\n <Element 'p' class=('content__list--item--des',)>,\n <Element 'p' class=('content__list--item--des',)>,\n <Element 'p' class=('content__list--item--des',)>,\n <Element 'p' class=('content__list--item--des',)>,\n <Element 'p' class=('content__list--item--des',)>,\n <Element 'p' class=('content__list--item--des',)>,\n <Element 'p' class=('content__list--item--des',)>,\n <Element 'p' class=('content__list--item--des',)>,\n <Element 'p' class=('content__list--item--des',)>,\n <Element 'p' class=('content__list--item--des',)>,\n <Element 'p' class=('content__list--item--des',)>,\n <Element 'p' class=('content__list--item--des',)>,\n <Element 'p' class=('content__list--item--des',)>,\n <Element 'p' class=('content__list--item--des',)>,\n <Element 'p' class=('content__list--item--des',)>,\n <Element 'p' class=('content__list--item--des',)>,\n <Element 'p' class=('content__list--item--des',)>,\n <Element 'p' class=('content__list--item--des',)>,\n <Element 'p' class=('content__list--item--des',)>,\n <Element 'p' class=('content__list--item--des',)>]"
     },
     "execution_count": 7,
     "metadata": {},
     "output_type": "execute_result"
    }
   ],
   "source": [
    "house_detail = r.html.find('p.content__list--item--des ')\n",
    "house_detail"
   ],
   "metadata": {
    "collapsed": false
   }
  },
  {
   "cell_type": "code",
   "execution_count": 9,
   "outputs": [
    {
     "data": {
      "text/plain": "['1200',\n '1354',\n '1080',\n 1580.0,\n '1300',\n '1080',\n '1200',\n '1180',\n '1150',\n '1280',\n '1500',\n '1280',\n '1000',\n '1250',\n '1400',\n '1300',\n '1000',\n '1380',\n '1450',\n '1500',\n '1000',\n '1280',\n '1500',\n '1280',\n '1300',\n '1200',\n '1400',\n 1115.0,\n '1200',\n '1080',\n '链家微信小程序']"
     },
     "execution_count": 9,
     "metadata": {},
     "output_type": "execute_result"
    }
   ],
   "source": [
    "house_pri_sear = r.html.find('em')\n",
    "house_prize = [i.text for i in house_pri_sear]\n",
    "house_prize\n",
    "house_prize_clear = [(int(x.split('-')[0])+int(x.split('-')[1]))/2 if x.__contains__('-') else x for x in house_prize]\n",
    "house_prize_clear"
   ],
   "metadata": {
    "collapsed": false
   }
  },
  {
   "cell_type": "code",
   "execution_count": 10,
   "outputs": [],
   "source": [
    "house_clear_detail = []\n",
    "house_clear_title = []\n",
    "house_clear_prize = []\n",
    "for i in range(len(the_house_title)):\n",
    "    if house_detail[i].text.__contains__('/'):\n",
    "        house_clear_detail.append(house_detail[i])\n",
    "        house_clear_title.append(the_house_title[i])\n",
    "        house_clear_prize.append(house_prize_clear[i])"
   ],
   "metadata": {
    "collapsed": false
   }
  },
  {
   "cell_type": "markdown",
   "source": [
    "# 房子地址"
   ],
   "metadata": {
    "collapsed": false
   }
  },
  {
   "cell_type": "code",
   "execution_count": 11,
   "outputs": [
    {
     "data": {
      "text/plain": "['天河-粤垦-燕岭路 ',\n '精选 ',\n '天河-棠下-聚宝苑 ',\n '仅剩2间 ',\n '天河-沙河-豪景花园 ',\n '仅剩1间 ',\n '天河-车陂-美景花苑 ',\n '仅剩1间 ',\n '天河-东圃-珠光御景骏庭 ',\n '仅剩1间 ',\n '天河-梅花园-铝材厂宿舍 ',\n '仅剩1间 ',\n '天河-员村-新村怡园东 ',\n '仅剩1间 ',\n '天河-长兴-萌芽宿舍 ',\n '天河-员村-新村怡园东 ',\n '天河-员村-成龙花园 ',\n '仅剩1间 ']"
     },
     "execution_count": 11,
     "metadata": {},
     "output_type": "execute_result"
    }
   ],
   "source": [
    "house_where = [house_clear_detail[i].text.split('/')[0] for i in range(len(the_house_title))]\n",
    "house_where"
   ],
   "metadata": {
    "collapsed": false
   }
  },
  {
   "cell_type": "markdown",
   "source": [
    "# 房子平方数"
   ],
   "metadata": {
    "collapsed": false
   }
  },
  {
   "cell_type": "code",
   "execution_count": 12,
   "outputs": [
    {
     "data": {
      "text/plain": "[' 30.00㎡ ',\n ' 天河-东圃-东圃广场 ',\n ' 30.00㎡ ',\n ' 40.00㎡ ',\n ' 30.00㎡ ',\n ' 35.00㎡ ',\n ' 50.00㎡ ',\n ' 15.00㎡ ',\n ' 21.00㎡ ',\n ' 28.00㎡ ',\n ' 30.00㎡ ',\n ' 20.00㎡ ',\n ' 25.00㎡ ',\n ' 25.00㎡ ',\n ' 41.00㎡ ',\n ' 25.00㎡ ',\n ' 35.00㎡ ',\n ' 30.00㎡ ']"
     },
     "execution_count": 12,
     "metadata": {},
     "output_type": "execute_result"
    }
   ],
   "source": [
    "house_square = [house_clear_detail[i].text.split('/')[1] for i in range(len(the_house_title))]\n",
    "house_square"
   ],
   "metadata": {
    "collapsed": false
   }
  },
  {
   "cell_type": "markdown",
   "source": [
    "# 房子朝向"
   ],
   "metadata": {
    "collapsed": false
   }
  },
  {
   "cell_type": "code",
   "execution_count": 13,
   "outputs": [
    {
     "data": {
      "text/plain": "['南 北 ',\n ' 8.60㎡ ',\n '南 北 ',\n '2间在租 ',\n '东 ',\n '1间在租 ',\n '南 ',\n '1间在租 ',\n '南 ',\n '1间在租 ',\n '南 ',\n '1间在租 ',\n '东 ',\n '1间在租 ',\n '南 ',\n '西南 ',\n '南 ',\n '1间在租 ']"
     },
     "execution_count": 13,
     "metadata": {},
     "output_type": "execute_result"
    }
   ],
   "source": [
    "house_direction = [house_clear_detail[i].text.split('/')[2] for i in range(len(the_house_title))]\n",
    "house_direction"
   ],
   "metadata": {
    "collapsed": false
   }
  },
  {
   "cell_type": "markdown",
   "source": [
    "# 房子规模"
   ],
   "metadata": {
    "collapsed": false
   }
  },
  {
   "cell_type": "code",
   "execution_count": 14,
   "outputs": [
    {
     "data": {
      "text/plain": "['1室0厅1卫',\n '1室0厅1卫',\n '1室0厅1卫',\n '1室0厅1卫',\n '1室0厅1卫',\n '1室0厅1卫',\n '1室0厅1卫',\n '1室0厅1卫',\n '1室0厅1卫',\n '1室0厅1卫',\n '1室0厅1卫',\n '1室0厅1卫',\n '1室0厅1卫',\n '1室0厅1卫',\n '1室0厅1卫',\n '1室0厅1卫',\n '1室0厅1卫',\n '1室0厅1卫']"
     },
     "execution_count": 14,
     "metadata": {},
     "output_type": "execute_result"
    }
   ],
   "source": [
    "house_scale = [house_clear_detail[i].text.split('/')[3] if len(house_clear_detail) == 3 else '1室0厅1卫'for x,i in enumerate(house_clear_detail)]\n",
    "house_scale"
   ],
   "metadata": {
    "collapsed": false
   }
  },
  {
   "cell_type": "code",
   "execution_count": 58,
   "outputs": [
    {
     "data": {
      "text/plain": "['从化-太平镇-紫泉翠荔嘉园',\n '从化-太平镇-新光百德广场',\n '从化-太平镇-新光百德广场',\n '从化-神岗镇-珠江国际城',\n '从化-神岗镇-珠江国际城',\n '从化-神岗镇-珠江国际城',\n '从化-太平镇-华标荔苑',\n '从化-赤草-珠光流溪御景',\n '从化-太平镇-新光百德广场',\n '从化-太平镇-紫泉翠荔嘉园',\n '从化-太平镇-新光百德广场',\n '从化-太平镇-新光百德广场',\n '从化-江浦街-君源御湖城',\n '从化-江浦街-君源御湖城',\n '从化-旧城区-新城中路',\n '从化-太平镇-新光百德广场',\n '从化-江浦街-景业荔都',\n '从化-太平镇-智汇国际',\n '从化-神岗镇-珠江国际城',\n '从化-太平镇-紫泉翠荔嘉园',\n '从化-太平镇-新光百德广场',\n '从化-太平镇-大城云山',\n '从化-太平镇-大城云山',\n '从化-赤草-碧桂园荔山雅筑',\n '从化-江浦街-景业荔都',\n '从化-太平镇-智汇国际',\n '从化-太平镇-新光百德广场',\n '从化-神岗镇-人盛巴厘天地',\n '从化-江浦街-景业荔都',\n '从化-神岗镇-人盛巴厘天地']"
     },
     "execution_count": 58,
     "metadata": {},
     "output_type": "execute_result"
    }
   ],
   "source": [
    "# house_where = []\n",
    "# for i in range(len(the_house_title)):\n",
    "#     house_title_p = r.html.find('p.content__list--item--des > a')\n",
    "#     house_where.append(house_title_p[i*3].text+'-'+house_title_p[i*3+1].text+'-'+house_title_p[i*3+2].text)\n",
    "# house_where"
   ],
   "metadata": {
    "collapsed": false
   }
  },
  {
   "cell_type": "code",
   "execution_count": 15,
   "outputs": [],
   "source": [
    "import pandas as pd\n",
    "\n",
    "house_content = pd.DataFrame()\n",
    "\n",
    "for i in range(len(house_title)):\n",
    "    house_content.loc[i,'房子标题'] = the_house_title[i]\n",
    "    house_content.loc[i,'房子地址'] = house_where[i]\n",
    "    house_content.loc[i,'房子平方数'] = house_square[i]\n",
    "    house_content.loc[i,'房子朝向'] = house_direction[i]\n",
    "    house_content.loc[i,'房子规模'] = house_scale[i]\n",
    "    house_content.loc[i,'房子价格'] = house_prize_clear[i]\n",
    "house_content.to_excel('house_content.xlsx')"
   ],
   "metadata": {
    "collapsed": false
   }
  },
  {
   "cell_type": "code",
   "execution_count": 16,
   "outputs": [
    {
     "data": {
      "text/plain": "    Unnamed: 0               房子标题           房子地址         房子平方数     房子朝向  \\\n0            0    整租·燕岭路 1室1厅 南/北     天河-粤垦-燕岭路        30.00㎡      南 北    \n1            1    合租·东圃广场 4居室 西北卧            精选    天河-东圃-东圃广场    8.60㎡    \n2            2    整租·聚宝苑 1室0厅 南/北     天河-棠下-聚宝苑        30.00㎡      南 北    \n3            3     整租·豪景花园 1室0厅 东          仅剩2间        40.00㎡     2间在租    \n4            4     整租·美景花苑 1室1厅 南    天河-沙河-豪景花园        30.00㎡        东    \n5            5   整租·珠光御景骏庭 1室1厅 南          仅剩1间        35.00㎡     1间在租    \n6            6    整租·铝材厂宿舍 1室1厅 南    天河-车陂-美景花苑        50.00㎡        南    \n7            7    整租·新村怡园东 1室0厅 东          仅剩1间        15.00㎡     1间在租    \n8            8     整租·萌芽宿舍 1室1厅 南  天河-东圃-珠光御景骏庭        21.00㎡        南    \n9            9   整租·新村怡园东 1室0厅 西南          仅剩1间        28.00㎡     1间在租    \n10          10     整租·成龙花园 1室1厅 南  天河-梅花园-铝材厂宿舍        30.00㎡        南    \n11          11     整租·德埔小区 1室0厅 南          仅剩1间        20.00㎡     1间在租    \n12          12   整租·万科云城米酷 1室0厅 东   天河-员村-新村怡园东        25.00㎡        东    \n13          13   整租·万科云城米酷 1室0厅 西          仅剩1间        25.00㎡     1间在租    \n14          14  整租·风行牛奶宿舍 1室1厅 西南    天河-长兴-萌芽宿舍        41.00㎡        南    \n15          15    整租·阳光大厦 1室1厅 东南   天河-员村-新村怡园东        25.00㎡       西南    \n16          16   整租·万科云城米酷 1室0厅 北    天河-员村-成龙花园        35.00㎡        南    \n17          17     整租·迎海花园 1室0厅 东          仅剩1间        30.00㎡     1间在租    \n\n      房子规模  房子价格  \n0   1室0厅1卫  1200  \n1   1室0厅1卫  1354  \n2   1室0厅1卫  1080  \n3   1室0厅1卫  1580  \n4   1室0厅1卫  1300  \n5   1室0厅1卫  1080  \n6   1室0厅1卫  1200  \n7   1室0厅1卫  1180  \n8   1室0厅1卫  1150  \n9   1室0厅1卫  1280  \n10  1室0厅1卫  1500  \n11  1室0厅1卫  1280  \n12  1室0厅1卫  1000  \n13  1室0厅1卫  1250  \n14  1室0厅1卫  1400  \n15  1室0厅1卫  1300  \n16  1室0厅1卫  1000  \n17  1室0厅1卫  1380  ",
      "text/html": "<div>\n<style scoped>\n    .dataframe tbody tr th:only-of-type {\n        vertical-align: middle;\n    }\n\n    .dataframe tbody tr th {\n        vertical-align: top;\n    }\n\n    .dataframe thead th {\n        text-align: right;\n    }\n</style>\n<table border=\"1\" class=\"dataframe\">\n  <thead>\n    <tr style=\"text-align: right;\">\n      <th></th>\n      <th>Unnamed: 0</th>\n      <th>房子标题</th>\n      <th>房子地址</th>\n      <th>房子平方数</th>\n      <th>房子朝向</th>\n      <th>房子规模</th>\n      <th>房子价格</th>\n    </tr>\n  </thead>\n  <tbody>\n    <tr>\n      <th>0</th>\n      <td>0</td>\n      <td>整租·燕岭路 1室1厅 南/北</td>\n      <td>天河-粤垦-燕岭路</td>\n      <td>30.00㎡</td>\n      <td>南 北</td>\n      <td>1室0厅1卫</td>\n      <td>1200</td>\n    </tr>\n    <tr>\n      <th>1</th>\n      <td>1</td>\n      <td>合租·东圃广场 4居室 西北卧</td>\n      <td>精选</td>\n      <td>天河-东圃-东圃广场</td>\n      <td>8.60㎡</td>\n      <td>1室0厅1卫</td>\n      <td>1354</td>\n    </tr>\n    <tr>\n      <th>2</th>\n      <td>2</td>\n      <td>整租·聚宝苑 1室0厅 南/北</td>\n      <td>天河-棠下-聚宝苑</td>\n      <td>30.00㎡</td>\n      <td>南 北</td>\n      <td>1室0厅1卫</td>\n      <td>1080</td>\n    </tr>\n    <tr>\n      <th>3</th>\n      <td>3</td>\n      <td>整租·豪景花园 1室0厅 东</td>\n      <td>仅剩2间</td>\n      <td>40.00㎡</td>\n      <td>2间在租</td>\n      <td>1室0厅1卫</td>\n      <td>1580</td>\n    </tr>\n    <tr>\n      <th>4</th>\n      <td>4</td>\n      <td>整租·美景花苑 1室1厅 南</td>\n      <td>天河-沙河-豪景花园</td>\n      <td>30.00㎡</td>\n      <td>东</td>\n      <td>1室0厅1卫</td>\n      <td>1300</td>\n    </tr>\n    <tr>\n      <th>5</th>\n      <td>5</td>\n      <td>整租·珠光御景骏庭 1室1厅 南</td>\n      <td>仅剩1间</td>\n      <td>35.00㎡</td>\n      <td>1间在租</td>\n      <td>1室0厅1卫</td>\n      <td>1080</td>\n    </tr>\n    <tr>\n      <th>6</th>\n      <td>6</td>\n      <td>整租·铝材厂宿舍 1室1厅 南</td>\n      <td>天河-车陂-美景花苑</td>\n      <td>50.00㎡</td>\n      <td>南</td>\n      <td>1室0厅1卫</td>\n      <td>1200</td>\n    </tr>\n    <tr>\n      <th>7</th>\n      <td>7</td>\n      <td>整租·新村怡园东 1室0厅 东</td>\n      <td>仅剩1间</td>\n      <td>15.00㎡</td>\n      <td>1间在租</td>\n      <td>1室0厅1卫</td>\n      <td>1180</td>\n    </tr>\n    <tr>\n      <th>8</th>\n      <td>8</td>\n      <td>整租·萌芽宿舍 1室1厅 南</td>\n      <td>天河-东圃-珠光御景骏庭</td>\n      <td>21.00㎡</td>\n      <td>南</td>\n      <td>1室0厅1卫</td>\n      <td>1150</td>\n    </tr>\n    <tr>\n      <th>9</th>\n      <td>9</td>\n      <td>整租·新村怡园东 1室0厅 西南</td>\n      <td>仅剩1间</td>\n      <td>28.00㎡</td>\n      <td>1间在租</td>\n      <td>1室0厅1卫</td>\n      <td>1280</td>\n    </tr>\n    <tr>\n      <th>10</th>\n      <td>10</td>\n      <td>整租·成龙花园 1室1厅 南</td>\n      <td>天河-梅花园-铝材厂宿舍</td>\n      <td>30.00㎡</td>\n      <td>南</td>\n      <td>1室0厅1卫</td>\n      <td>1500</td>\n    </tr>\n    <tr>\n      <th>11</th>\n      <td>11</td>\n      <td>整租·德埔小区 1室0厅 南</td>\n      <td>仅剩1间</td>\n      <td>20.00㎡</td>\n      <td>1间在租</td>\n      <td>1室0厅1卫</td>\n      <td>1280</td>\n    </tr>\n    <tr>\n      <th>12</th>\n      <td>12</td>\n      <td>整租·万科云城米酷 1室0厅 东</td>\n      <td>天河-员村-新村怡园东</td>\n      <td>25.00㎡</td>\n      <td>东</td>\n      <td>1室0厅1卫</td>\n      <td>1000</td>\n    </tr>\n    <tr>\n      <th>13</th>\n      <td>13</td>\n      <td>整租·万科云城米酷 1室0厅 西</td>\n      <td>仅剩1间</td>\n      <td>25.00㎡</td>\n      <td>1间在租</td>\n      <td>1室0厅1卫</td>\n      <td>1250</td>\n    </tr>\n    <tr>\n      <th>14</th>\n      <td>14</td>\n      <td>整租·风行牛奶宿舍 1室1厅 西南</td>\n      <td>天河-长兴-萌芽宿舍</td>\n      <td>41.00㎡</td>\n      <td>南</td>\n      <td>1室0厅1卫</td>\n      <td>1400</td>\n    </tr>\n    <tr>\n      <th>15</th>\n      <td>15</td>\n      <td>整租·阳光大厦 1室1厅 东南</td>\n      <td>天河-员村-新村怡园东</td>\n      <td>25.00㎡</td>\n      <td>西南</td>\n      <td>1室0厅1卫</td>\n      <td>1300</td>\n    </tr>\n    <tr>\n      <th>16</th>\n      <td>16</td>\n      <td>整租·万科云城米酷 1室0厅 北</td>\n      <td>天河-员村-成龙花园</td>\n      <td>35.00㎡</td>\n      <td>南</td>\n      <td>1室0厅1卫</td>\n      <td>1000</td>\n    </tr>\n    <tr>\n      <th>17</th>\n      <td>17</td>\n      <td>整租·迎海花园 1室0厅 东</td>\n      <td>仅剩1间</td>\n      <td>30.00㎡</td>\n      <td>1间在租</td>\n      <td>1室0厅1卫</td>\n      <td>1380</td>\n    </tr>\n  </tbody>\n</table>\n</div>"
     },
     "execution_count": 16,
     "metadata": {},
     "output_type": "execute_result"
    }
   ],
   "source": [
    "house_all_in = pd.read_excel('house_content.xlsx')\n",
    "house_all_in"
   ],
   "metadata": {
    "collapsed": false
   }
  },
  {
   "cell_type": "code",
   "execution_count": 17,
   "outputs": [
    {
     "data": {
      "text/plain": "[{'房子标题': '整租·燕岭路 1室1厅 南/北',\n  '房子地址': '天河-粤垦-燕岭路 ',\n  '房子平方数': ' 30.00㎡ ',\n  '房子朝向': '南 北 ',\n  '房子规模': '1室0厅1卫',\n  '房子价格': '1200'},\n {'房子标题': '合租·东圃广场 4居室 西北卧',\n  '房子地址': '精选 ',\n  '房子平方数': ' 天河-东圃-东圃广场 ',\n  '房子朝向': ' 8.60㎡ ',\n  '房子规模': '1室0厅1卫',\n  '房子价格': '1354'},\n {'房子标题': '整租·聚宝苑 1室0厅 南/北',\n  '房子地址': '天河-棠下-聚宝苑 ',\n  '房子平方数': ' 30.00㎡ ',\n  '房子朝向': '南 北 ',\n  '房子规模': '1室0厅1卫',\n  '房子价格': '1080'},\n {'房子标题': '整租·豪景花园 1室0厅 东',\n  '房子地址': '仅剩2间 ',\n  '房子平方数': ' 40.00㎡ ',\n  '房子朝向': '2间在租 ',\n  '房子规模': '1室0厅1卫',\n  '房子价格': '1480-1680'},\n {'房子标题': '整租·美景花苑 1室1厅 南',\n  '房子地址': '天河-沙河-豪景花园 ',\n  '房子平方数': ' 30.00㎡ ',\n  '房子朝向': '东 ',\n  '房子规模': '1室0厅1卫',\n  '房子价格': '1300'},\n {'房子标题': '整租·珠光御景骏庭 1室1厅 南',\n  '房子地址': '仅剩1间 ',\n  '房子平方数': ' 35.00㎡ ',\n  '房子朝向': '1间在租 ',\n  '房子规模': '1室0厅1卫',\n  '房子价格': '1080'},\n {'房子标题': '整租·铝材厂宿舍 1室1厅 南',\n  '房子地址': '天河-车陂-美景花苑 ',\n  '房子平方数': ' 50.00㎡ ',\n  '房子朝向': '南 ',\n  '房子规模': '1室0厅1卫',\n  '房子价格': '1200'},\n {'房子标题': '整租·新村怡园东 1室0厅 东',\n  '房子地址': '仅剩1间 ',\n  '房子平方数': ' 15.00㎡ ',\n  '房子朝向': '1间在租 ',\n  '房子规模': '1室0厅1卫',\n  '房子价格': '1180'},\n {'房子标题': '整租·萌芽宿舍 1室1厅 南',\n  '房子地址': '天河-东圃-珠光御景骏庭 ',\n  '房子平方数': ' 21.00㎡ ',\n  '房子朝向': '南 ',\n  '房子规模': '1室0厅1卫',\n  '房子价格': '1150'},\n {'房子标题': '整租·新村怡园东 1室0厅 西南',\n  '房子地址': '仅剩1间 ',\n  '房子平方数': ' 28.00㎡ ',\n  '房子朝向': '1间在租 ',\n  '房子规模': '1室0厅1卫',\n  '房子价格': '1280'},\n {'房子标题': '整租·成龙花园 1室1厅 南',\n  '房子地址': '天河-梅花园-铝材厂宿舍 ',\n  '房子平方数': ' 30.00㎡ ',\n  '房子朝向': '南 ',\n  '房子规模': '1室0厅1卫',\n  '房子价格': '1500'},\n {'房子标题': '整租·德埔小区 1室0厅 南',\n  '房子地址': '仅剩1间 ',\n  '房子平方数': ' 20.00㎡ ',\n  '房子朝向': '1间在租 ',\n  '房子规模': '1室0厅1卫',\n  '房子价格': '1280'},\n {'房子标题': '整租·万科云城米酷 1室0厅 东',\n  '房子地址': '天河-员村-新村怡园东 ',\n  '房子平方数': ' 25.00㎡ ',\n  '房子朝向': '东 ',\n  '房子规模': '1室0厅1卫',\n  '房子价格': '1000'},\n {'房子标题': '整租·万科云城米酷 1室0厅 西',\n  '房子地址': '仅剩1间 ',\n  '房子平方数': ' 25.00㎡ ',\n  '房子朝向': '1间在租 ',\n  '房子规模': '1室0厅1卫',\n  '房子价格': '1250'},\n {'房子标题': '整租·风行牛奶宿舍 1室1厅 西南',\n  '房子地址': '天河-长兴-萌芽宿舍 ',\n  '房子平方数': ' 41.00㎡ ',\n  '房子朝向': '南 ',\n  '房子规模': '1室0厅1卫',\n  '房子价格': '1400'},\n {'房子标题': '整租·阳光大厦 1室1厅 东南',\n  '房子地址': '天河-员村-新村怡园东 ',\n  '房子平方数': ' 25.00㎡ ',\n  '房子朝向': '西南 ',\n  '房子规模': '1室0厅1卫',\n  '房子价格': '1300'},\n {'房子标题': '整租·万科云城米酷 1室0厅 北',\n  '房子地址': '天河-员村-成龙花园 ',\n  '房子平方数': ' 35.00㎡ ',\n  '房子朝向': '南 ',\n  '房子规模': '1室0厅1卫',\n  '房子价格': '1000'},\n {'房子标题': '整租·迎海花园 1室0厅 东',\n  '房子地址': '仅剩1间 ',\n  '房子平方数': ' 30.00㎡ ',\n  '房子朝向': '1间在租 ',\n  '房子规模': '1室0厅1卫',\n  '房子价格': '1380'}]"
     },
     "execution_count": 17,
     "metadata": {},
     "output_type": "execute_result"
    }
   ],
   "source": [
    "house_Data_All = [{'房子标题':the_house_title[i],'房子地址':house_where[i],'房子平方数':house_square[i],'房子朝向':house_direction[i],'房子规模':house_scale[i],'房子价格':house_prize[i]} for i in range(len(the_house_title))]\n",
    "house_Data_All"
   ],
   "metadata": {
    "collapsed": false
   }
  },
  {
   "cell_type": "code",
   "execution_count": null,
   "outputs": [],
   "source": [],
   "metadata": {
    "collapsed": false
   }
  }
 ],
 "metadata": {
  "kernelspec": {
   "display_name": "Python 3",
   "language": "python",
   "name": "python3"
  },
  "language_info": {
   "codemirror_mode": {
    "name": "ipython",
    "version": 2
   },
   "file_extension": ".py",
   "mimetype": "text/x-python",
   "name": "python",
   "nbconvert_exporter": "python",
   "pygments_lexer": "ipython2",
   "version": "2.7.6"
  }
 },
 "nbformat": 4,
 "nbformat_minor": 0
}
